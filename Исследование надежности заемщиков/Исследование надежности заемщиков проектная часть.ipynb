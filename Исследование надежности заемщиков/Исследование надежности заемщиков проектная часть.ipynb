{
  "cells": [
    {
      "cell_type": "markdown",
      "id": "6449040a",
      "metadata": {
        "deletable": false,
        "editable": false,
        "id": "6449040a"
      },
      "source": [
        "# Исследование надежности заемщиков\n"
      ]
    },
    {
      "cell_type": "markdown",
      "id": "84924f11",
      "metadata": {
        "deletable": false,
        "editable": false,
        "id": "84924f11"
      },
      "source": [
        "Во второй части проекта вы выполните шаги 3 и 4. Их вручную проверит ревьюер.\n",
        "Чтобы вам не пришлось писать код заново для шагов 1 и 2, мы добавили авторские решения в ячейки с кодом.\n",
        "\n"
      ]
    },
    {
      "cell_type": "markdown",
      "id": "ef263d05",
      "metadata": {
        "deletable": false,
        "editable": false,
        "id": "ef263d05"
      },
      "source": [
        "## Откройте таблицу и изучите общую информацию о данных"
      ]
    },
    {
      "cell_type": "markdown",
      "id": "24f42aff",
      "metadata": {
        "deletable": false,
        "editable": false,
        "id": "24f42aff"
      },
      "source": [
        "**Задание 1. Импортируйте библиотеку pandas. Считайте данные из csv-файла в датафрейм и сохраните в переменную `data`. Путь к файлу:**\n",
        "\n",
        "`/datasets/data.csv`"
      ]
    },
    {
      "cell_type": "code",
      "execution_count": null,
      "id": "5809c8aa",
      "metadata": {
        "deletable": false,
        "id": "5809c8aa"
      },
      "outputs": [],
      "source": [
        "import pandas as pd\n",
        "import numpy as np\n",
        "\n",
        "try:\n",
        "    data = pd.read_csv('/datasets/data.csv')\n",
        "except:\n",
        "    data = pd.read_csv('https://code.s3.yandex.net/datasets/data.csv')"
      ]
    },
    {
      "cell_type": "markdown",
      "id": "3b68ee62",
      "metadata": {
        "deletable": false,
        "editable": false,
        "id": "3b68ee62"
      },
      "source": [
        "**Задание 2. Выведите первые 20 строчек датафрейма `data` на экран.**"
      ]
    },
    {
      "cell_type": "code",
      "execution_count": null,
      "id": "c7ba8d1e",
      "metadata": {
        "deletable": false,
        "id": "c7ba8d1e",
        "outputId": "1a8f3ef2-d323-4ec2-ddf7-89670b5944c4"
      },
      "outputs": [
        {
          "data": {
            "text/html": [
              "<div>\n",
              "<style scoped>\n",
              "    .dataframe tbody tr th:only-of-type {\n",
              "        vertical-align: middle;\n",
              "    }\n",
              "\n",
              "    .dataframe tbody tr th {\n",
              "        vertical-align: top;\n",
              "    }\n",
              "\n",
              "    .dataframe thead th {\n",
              "        text-align: right;\n",
              "    }\n",
              "</style>\n",
              "<table border=\"1\" class=\"dataframe\">\n",
              "  <thead>\n",
              "    <tr style=\"text-align: right;\">\n",
              "      <th></th>\n",
              "      <th>children</th>\n",
              "      <th>days_employed</th>\n",
              "      <th>dob_years</th>\n",
              "      <th>education</th>\n",
              "      <th>education_id</th>\n",
              "      <th>family_status</th>\n",
              "      <th>family_status_id</th>\n",
              "      <th>gender</th>\n",
              "      <th>income_type</th>\n",
              "      <th>debt</th>\n",
              "      <th>total_income</th>\n",
              "      <th>purpose</th>\n",
              "    </tr>\n",
              "  </thead>\n",
              "  <tbody>\n",
              "    <tr>\n",
              "      <th>0</th>\n",
              "      <td>1</td>\n",
              "      <td>-8437.673028</td>\n",
              "      <td>42</td>\n",
              "      <td>высшее</td>\n",
              "      <td>0</td>\n",
              "      <td>женат / замужем</td>\n",
              "      <td>0</td>\n",
              "      <td>F</td>\n",
              "      <td>сотрудник</td>\n",
              "      <td>0</td>\n",
              "      <td>253875.639453</td>\n",
              "      <td>покупка жилья</td>\n",
              "    </tr>\n",
              "    <tr>\n",
              "      <th>1</th>\n",
              "      <td>1</td>\n",
              "      <td>-4024.803754</td>\n",
              "      <td>36</td>\n",
              "      <td>среднее</td>\n",
              "      <td>1</td>\n",
              "      <td>женат / замужем</td>\n",
              "      <td>0</td>\n",
              "      <td>F</td>\n",
              "      <td>сотрудник</td>\n",
              "      <td>0</td>\n",
              "      <td>112080.014102</td>\n",
              "      <td>приобретение автомобиля</td>\n",
              "    </tr>\n",
              "    <tr>\n",
              "      <th>2</th>\n",
              "      <td>0</td>\n",
              "      <td>-5623.422610</td>\n",
              "      <td>33</td>\n",
              "      <td>Среднее</td>\n",
              "      <td>1</td>\n",
              "      <td>женат / замужем</td>\n",
              "      <td>0</td>\n",
              "      <td>M</td>\n",
              "      <td>сотрудник</td>\n",
              "      <td>0</td>\n",
              "      <td>145885.952297</td>\n",
              "      <td>покупка жилья</td>\n",
              "    </tr>\n",
              "    <tr>\n",
              "      <th>3</th>\n",
              "      <td>3</td>\n",
              "      <td>-4124.747207</td>\n",
              "      <td>32</td>\n",
              "      <td>среднее</td>\n",
              "      <td>1</td>\n",
              "      <td>женат / замужем</td>\n",
              "      <td>0</td>\n",
              "      <td>M</td>\n",
              "      <td>сотрудник</td>\n",
              "      <td>0</td>\n",
              "      <td>267628.550329</td>\n",
              "      <td>дополнительное образование</td>\n",
              "    </tr>\n",
              "    <tr>\n",
              "      <th>4</th>\n",
              "      <td>0</td>\n",
              "      <td>340266.072047</td>\n",
              "      <td>53</td>\n",
              "      <td>среднее</td>\n",
              "      <td>1</td>\n",
              "      <td>гражданский брак</td>\n",
              "      <td>1</td>\n",
              "      <td>F</td>\n",
              "      <td>пенсионер</td>\n",
              "      <td>0</td>\n",
              "      <td>158616.077870</td>\n",
              "      <td>сыграть свадьбу</td>\n",
              "    </tr>\n",
              "    <tr>\n",
              "      <th>5</th>\n",
              "      <td>0</td>\n",
              "      <td>-926.185831</td>\n",
              "      <td>27</td>\n",
              "      <td>высшее</td>\n",
              "      <td>0</td>\n",
              "      <td>гражданский брак</td>\n",
              "      <td>1</td>\n",
              "      <td>M</td>\n",
              "      <td>компаньон</td>\n",
              "      <td>0</td>\n",
              "      <td>255763.565419</td>\n",
              "      <td>покупка жилья</td>\n",
              "    </tr>\n",
              "    <tr>\n",
              "      <th>6</th>\n",
              "      <td>0</td>\n",
              "      <td>-2879.202052</td>\n",
              "      <td>43</td>\n",
              "      <td>высшее</td>\n",
              "      <td>0</td>\n",
              "      <td>женат / замужем</td>\n",
              "      <td>0</td>\n",
              "      <td>F</td>\n",
              "      <td>компаньон</td>\n",
              "      <td>0</td>\n",
              "      <td>240525.971920</td>\n",
              "      <td>операции с жильем</td>\n",
              "    </tr>\n",
              "    <tr>\n",
              "      <th>7</th>\n",
              "      <td>0</td>\n",
              "      <td>-152.779569</td>\n",
              "      <td>50</td>\n",
              "      <td>СРЕДНЕЕ</td>\n",
              "      <td>1</td>\n",
              "      <td>женат / замужем</td>\n",
              "      <td>0</td>\n",
              "      <td>M</td>\n",
              "      <td>сотрудник</td>\n",
              "      <td>0</td>\n",
              "      <td>135823.934197</td>\n",
              "      <td>образование</td>\n",
              "    </tr>\n",
              "    <tr>\n",
              "      <th>8</th>\n",
              "      <td>2</td>\n",
              "      <td>-6929.865299</td>\n",
              "      <td>35</td>\n",
              "      <td>ВЫСШЕЕ</td>\n",
              "      <td>0</td>\n",
              "      <td>гражданский брак</td>\n",
              "      <td>1</td>\n",
              "      <td>F</td>\n",
              "      <td>сотрудник</td>\n",
              "      <td>0</td>\n",
              "      <td>95856.832424</td>\n",
              "      <td>на проведение свадьбы</td>\n",
              "    </tr>\n",
              "    <tr>\n",
              "      <th>9</th>\n",
              "      <td>0</td>\n",
              "      <td>-2188.756445</td>\n",
              "      <td>41</td>\n",
              "      <td>среднее</td>\n",
              "      <td>1</td>\n",
              "      <td>женат / замужем</td>\n",
              "      <td>0</td>\n",
              "      <td>M</td>\n",
              "      <td>сотрудник</td>\n",
              "      <td>0</td>\n",
              "      <td>144425.938277</td>\n",
              "      <td>покупка жилья для семьи</td>\n",
              "    </tr>\n",
              "    <tr>\n",
              "      <th>10</th>\n",
              "      <td>2</td>\n",
              "      <td>-4171.483647</td>\n",
              "      <td>36</td>\n",
              "      <td>высшее</td>\n",
              "      <td>0</td>\n",
              "      <td>женат / замужем</td>\n",
              "      <td>0</td>\n",
              "      <td>M</td>\n",
              "      <td>компаньон</td>\n",
              "      <td>0</td>\n",
              "      <td>113943.491460</td>\n",
              "      <td>покупка недвижимости</td>\n",
              "    </tr>\n",
              "    <tr>\n",
              "      <th>11</th>\n",
              "      <td>0</td>\n",
              "      <td>-792.701887</td>\n",
              "      <td>40</td>\n",
              "      <td>среднее</td>\n",
              "      <td>1</td>\n",
              "      <td>женат / замужем</td>\n",
              "      <td>0</td>\n",
              "      <td>F</td>\n",
              "      <td>сотрудник</td>\n",
              "      <td>0</td>\n",
              "      <td>77069.234271</td>\n",
              "      <td>покупка коммерческой недвижимости</td>\n",
              "    </tr>\n",
              "    <tr>\n",
              "      <th>12</th>\n",
              "      <td>0</td>\n",
              "      <td>NaN</td>\n",
              "      <td>65</td>\n",
              "      <td>среднее</td>\n",
              "      <td>1</td>\n",
              "      <td>гражданский брак</td>\n",
              "      <td>1</td>\n",
              "      <td>M</td>\n",
              "      <td>пенсионер</td>\n",
              "      <td>0</td>\n",
              "      <td>NaN</td>\n",
              "      <td>сыграть свадьбу</td>\n",
              "    </tr>\n",
              "    <tr>\n",
              "      <th>13</th>\n",
              "      <td>0</td>\n",
              "      <td>-1846.641941</td>\n",
              "      <td>54</td>\n",
              "      <td>неоконченное высшее</td>\n",
              "      <td>2</td>\n",
              "      <td>женат / замужем</td>\n",
              "      <td>0</td>\n",
              "      <td>F</td>\n",
              "      <td>сотрудник</td>\n",
              "      <td>0</td>\n",
              "      <td>130458.228857</td>\n",
              "      <td>приобретение автомобиля</td>\n",
              "    </tr>\n",
              "    <tr>\n",
              "      <th>14</th>\n",
              "      <td>0</td>\n",
              "      <td>-1844.956182</td>\n",
              "      <td>56</td>\n",
              "      <td>высшее</td>\n",
              "      <td>0</td>\n",
              "      <td>гражданский брак</td>\n",
              "      <td>1</td>\n",
              "      <td>F</td>\n",
              "      <td>компаньон</td>\n",
              "      <td>1</td>\n",
              "      <td>165127.911772</td>\n",
              "      <td>покупка жилой недвижимости</td>\n",
              "    </tr>\n",
              "    <tr>\n",
              "      <th>15</th>\n",
              "      <td>1</td>\n",
              "      <td>-972.364419</td>\n",
              "      <td>26</td>\n",
              "      <td>среднее</td>\n",
              "      <td>1</td>\n",
              "      <td>женат / замужем</td>\n",
              "      <td>0</td>\n",
              "      <td>F</td>\n",
              "      <td>сотрудник</td>\n",
              "      <td>0</td>\n",
              "      <td>116820.904450</td>\n",
              "      <td>строительство собственной недвижимости</td>\n",
              "    </tr>\n",
              "    <tr>\n",
              "      <th>16</th>\n",
              "      <td>0</td>\n",
              "      <td>-1719.934226</td>\n",
              "      <td>35</td>\n",
              "      <td>среднее</td>\n",
              "      <td>1</td>\n",
              "      <td>женат / замужем</td>\n",
              "      <td>0</td>\n",
              "      <td>F</td>\n",
              "      <td>сотрудник</td>\n",
              "      <td>0</td>\n",
              "      <td>289202.704229</td>\n",
              "      <td>недвижимость</td>\n",
              "    </tr>\n",
              "    <tr>\n",
              "      <th>17</th>\n",
              "      <td>0</td>\n",
              "      <td>-2369.999720</td>\n",
              "      <td>33</td>\n",
              "      <td>высшее</td>\n",
              "      <td>0</td>\n",
              "      <td>гражданский брак</td>\n",
              "      <td>1</td>\n",
              "      <td>M</td>\n",
              "      <td>сотрудник</td>\n",
              "      <td>0</td>\n",
              "      <td>90410.586745</td>\n",
              "      <td>строительство недвижимости</td>\n",
              "    </tr>\n",
              "    <tr>\n",
              "      <th>18</th>\n",
              "      <td>0</td>\n",
              "      <td>400281.136913</td>\n",
              "      <td>53</td>\n",
              "      <td>среднее</td>\n",
              "      <td>1</td>\n",
              "      <td>вдовец / вдова</td>\n",
              "      <td>2</td>\n",
              "      <td>F</td>\n",
              "      <td>пенсионер</td>\n",
              "      <td>0</td>\n",
              "      <td>56823.777243</td>\n",
              "      <td>на покупку подержанного автомобиля</td>\n",
              "    </tr>\n",
              "    <tr>\n",
              "      <th>19</th>\n",
              "      <td>0</td>\n",
              "      <td>-10038.818549</td>\n",
              "      <td>48</td>\n",
              "      <td>СРЕДНЕЕ</td>\n",
              "      <td>1</td>\n",
              "      <td>в разводе</td>\n",
              "      <td>3</td>\n",
              "      <td>F</td>\n",
              "      <td>сотрудник</td>\n",
              "      <td>0</td>\n",
              "      <td>242831.107982</td>\n",
              "      <td>на покупку своего автомобиля</td>\n",
              "    </tr>\n",
              "  </tbody>\n",
              "</table>\n",
              "</div>"
            ],
            "text/plain": [
              "    children  days_employed  dob_years            education  education_id  \\\n",
              "0          1   -8437.673028         42               высшее             0   \n",
              "1          1   -4024.803754         36              среднее             1   \n",
              "2          0   -5623.422610         33              Среднее             1   \n",
              "3          3   -4124.747207         32              среднее             1   \n",
              "4          0  340266.072047         53              среднее             1   \n",
              "5          0    -926.185831         27               высшее             0   \n",
              "6          0   -2879.202052         43               высшее             0   \n",
              "7          0    -152.779569         50              СРЕДНЕЕ             1   \n",
              "8          2   -6929.865299         35               ВЫСШЕЕ             0   \n",
              "9          0   -2188.756445         41              среднее             1   \n",
              "10         2   -4171.483647         36               высшее             0   \n",
              "11         0    -792.701887         40              среднее             1   \n",
              "12         0            NaN         65              среднее             1   \n",
              "13         0   -1846.641941         54  неоконченное высшее             2   \n",
              "14         0   -1844.956182         56               высшее             0   \n",
              "15         1    -972.364419         26              среднее             1   \n",
              "16         0   -1719.934226         35              среднее             1   \n",
              "17         0   -2369.999720         33               высшее             0   \n",
              "18         0  400281.136913         53              среднее             1   \n",
              "19         0  -10038.818549         48              СРЕДНЕЕ             1   \n",
              "\n",
              "       family_status  family_status_id gender income_type  debt  \\\n",
              "0    женат / замужем                 0      F   сотрудник     0   \n",
              "1    женат / замужем                 0      F   сотрудник     0   \n",
              "2    женат / замужем                 0      M   сотрудник     0   \n",
              "3    женат / замужем                 0      M   сотрудник     0   \n",
              "4   гражданский брак                 1      F   пенсионер     0   \n",
              "5   гражданский брак                 1      M   компаньон     0   \n",
              "6    женат / замужем                 0      F   компаньон     0   \n",
              "7    женат / замужем                 0      M   сотрудник     0   \n",
              "8   гражданский брак                 1      F   сотрудник     0   \n",
              "9    женат / замужем                 0      M   сотрудник     0   \n",
              "10   женат / замужем                 0      M   компаньон     0   \n",
              "11   женат / замужем                 0      F   сотрудник     0   \n",
              "12  гражданский брак                 1      M   пенсионер     0   \n",
              "13   женат / замужем                 0      F   сотрудник     0   \n",
              "14  гражданский брак                 1      F   компаньон     1   \n",
              "15   женат / замужем                 0      F   сотрудник     0   \n",
              "16   женат / замужем                 0      F   сотрудник     0   \n",
              "17  гражданский брак                 1      M   сотрудник     0   \n",
              "18    вдовец / вдова                 2      F   пенсионер     0   \n",
              "19         в разводе                 3      F   сотрудник     0   \n",
              "\n",
              "     total_income                                 purpose  \n",
              "0   253875.639453                           покупка жилья  \n",
              "1   112080.014102                 приобретение автомобиля  \n",
              "2   145885.952297                           покупка жилья  \n",
              "3   267628.550329              дополнительное образование  \n",
              "4   158616.077870                         сыграть свадьбу  \n",
              "5   255763.565419                           покупка жилья  \n",
              "6   240525.971920                       операции с жильем  \n",
              "7   135823.934197                             образование  \n",
              "8    95856.832424                   на проведение свадьбы  \n",
              "9   144425.938277                 покупка жилья для семьи  \n",
              "10  113943.491460                    покупка недвижимости  \n",
              "11   77069.234271       покупка коммерческой недвижимости  \n",
              "12            NaN                         сыграть свадьбу  \n",
              "13  130458.228857                 приобретение автомобиля  \n",
              "14  165127.911772              покупка жилой недвижимости  \n",
              "15  116820.904450  строительство собственной недвижимости  \n",
              "16  289202.704229                            недвижимость  \n",
              "17   90410.586745              строительство недвижимости  \n",
              "18   56823.777243      на покупку подержанного автомобиля  \n",
              "19  242831.107982            на покупку своего автомобиля  "
            ]
          },
          "execution_count": 2,
          "metadata": {},
          "output_type": "execute_result"
        }
      ],
      "source": [
        "data.head(20)"
      ]
    },
    {
      "cell_type": "markdown",
      "id": "1041bdb6",
      "metadata": {
        "deletable": false,
        "editable": false,
        "id": "1041bdb6"
      },
      "source": [
        "**Задание 3. Выведите основную информацию о датафрейме с помощью метода `info()`.**"
      ]
    },
    {
      "cell_type": "code",
      "execution_count": null,
      "id": "ec0e66cd",
      "metadata": {
        "deletable": false,
        "id": "ec0e66cd",
        "outputId": "15376089-8dad-46c9-b520-c05248d43158"
      },
      "outputs": [
        {
          "name": "stdout",
          "output_type": "stream",
          "text": [
            "<class 'pandas.core.frame.DataFrame'>\n",
            "RangeIndex: 21525 entries, 0 to 21524\n",
            "Data columns (total 12 columns):\n",
            " #   Column            Non-Null Count  Dtype  \n",
            "---  ------            --------------  -----  \n",
            " 0   children          21525 non-null  int64  \n",
            " 1   days_employed     19351 non-null  float64\n",
            " 2   dob_years         21525 non-null  int64  \n",
            " 3   education         21525 non-null  object \n",
            " 4   education_id      21525 non-null  int64  \n",
            " 5   family_status     21525 non-null  object \n",
            " 6   family_status_id  21525 non-null  int64  \n",
            " 7   gender            21525 non-null  object \n",
            " 8   income_type       21525 non-null  object \n",
            " 9   debt              21525 non-null  int64  \n",
            " 10  total_income      19351 non-null  float64\n",
            " 11  purpose           21525 non-null  object \n",
            "dtypes: float64(2), int64(5), object(5)\n",
            "memory usage: 2.0+ MB\n"
          ]
        }
      ],
      "source": [
        "data.info()"
      ]
    },
    {
      "cell_type": "markdown",
      "id": "ab6477b0",
      "metadata": {
        "deletable": false,
        "editable": false,
        "id": "ab6477b0"
      },
      "source": [
        "## Предобработка данных"
      ]
    },
    {
      "cell_type": "markdown",
      "id": "e7629406",
      "metadata": {
        "deletable": false,
        "editable": false,
        "id": "e7629406"
      },
      "source": [
        "### Удаление пропусков"
      ]
    },
    {
      "cell_type": "markdown",
      "id": "df5cf355",
      "metadata": {
        "deletable": false,
        "editable": false,
        "id": "df5cf355"
      },
      "source": [
        "**Задание 4. Выведите количество пропущенных значений для каждого столбца. Используйте комбинацию двух методов.**"
      ]
    },
    {
      "cell_type": "code",
      "execution_count": null,
      "id": "76d74445",
      "metadata": {
        "deletable": false,
        "id": "76d74445",
        "outputId": "81f4d817-781c-465c-ed15-91ce4446810d"
      },
      "outputs": [
        {
          "data": {
            "text/plain": [
              "children               0\n",
              "days_employed       2174\n",
              "dob_years              0\n",
              "education              0\n",
              "education_id           0\n",
              "family_status          0\n",
              "family_status_id       0\n",
              "gender                 0\n",
              "income_type            0\n",
              "debt                   0\n",
              "total_income        2174\n",
              "purpose                0\n",
              "dtype: int64"
            ]
          },
          "execution_count": 4,
          "metadata": {},
          "output_type": "execute_result"
        }
      ],
      "source": [
        "data.isna().sum()"
      ]
    },
    {
      "cell_type": "markdown",
      "id": "0d666eac",
      "metadata": {
        "deletable": false,
        "editable": false,
        "id": "0d666eac"
      },
      "source": [
        "**Задание 5. В двух столбцах есть пропущенные значения. Один из них — `days_employed`. Пропуски в этом столбце вы обработаете на следующем этапе. Другой столбец с пропущенными значениями — `total_income` — хранит данные о доходах. На сумму дохода сильнее всего влияет тип занятости, поэтому заполнить пропуски в этом столбце нужно медианным значением по каждому типу из столбца `income_type`. Например, у человека с типом занятости `сотрудник` пропуск в столбце `total_income` должен быть заполнен медианным доходом среди всех записей с тем же типом.**"
      ]
    },
    {
      "cell_type": "code",
      "execution_count": null,
      "id": "dfef7cf0",
      "metadata": {
        "deletable": false,
        "id": "dfef7cf0"
      },
      "outputs": [],
      "source": [
        "for t in data['income_type'].unique():\n",
        "    data.loc[(data['income_type'] == t) & (data['total_income'].isna()), 'total_income'] = \\\n",
        "    data.loc[(data['income_type'] == t), 'total_income'].median()"
      ]
    },
    {
      "cell_type": "markdown",
      "id": "013b2abd",
      "metadata": {
        "deletable": false,
        "editable": false,
        "id": "013b2abd"
      },
      "source": [
        "### Обработка аномальных значений"
      ]
    },
    {
      "cell_type": "markdown",
      "id": "b8cffd4d",
      "metadata": {
        "deletable": false,
        "editable": false,
        "id": "b8cffd4d"
      },
      "source": [
        "**Задание 6. В данных могут встречаться артефакты (аномалии) — значения, которые не отражают действительность и появились по какой-то ошибке. таким артефактом будет отрицательное количество дней трудового стажа в столбце `days_employed`. Для реальных данных это нормально. Обработайте значения в этом столбце: замените все отрицательные значения положительными с помощью метода `abs()`.**"
      ]
    },
    {
      "cell_type": "code",
      "execution_count": null,
      "id": "18e7a0bf",
      "metadata": {
        "deletable": false,
        "id": "18e7a0bf"
      },
      "outputs": [],
      "source": [
        "data['days_employed'] = data['days_employed'].abs()"
      ]
    },
    {
      "cell_type": "markdown",
      "id": "7fb97bef",
      "metadata": {
        "deletable": false,
        "editable": false,
        "id": "7fb97bef"
      },
      "source": [
        "**Задание 7. Для каждого типа занятости выведите медианное значение трудового стажа `days_employed` в днях.**"
      ]
    },
    {
      "cell_type": "code",
      "execution_count": null,
      "id": "aad7fbec",
      "metadata": {
        "deletable": false,
        "id": "aad7fbec",
        "outputId": "801ef80e-522b-4668-f34e-565af7432bcf"
      },
      "outputs": [
        {
          "data": {
            "text/plain": [
              "income_type\n",
              "безработный        366413.652744\n",
              "в декрете            3296.759962\n",
              "госслужащий          2689.368353\n",
              "компаньон            1547.382223\n",
              "пенсионер          365213.306266\n",
              "предприниматель       520.848083\n",
              "сотрудник            1574.202821\n",
              "студент               578.751554\n",
              "Name: days_employed, dtype: float64"
            ]
          },
          "execution_count": 7,
          "metadata": {},
          "output_type": "execute_result"
        }
      ],
      "source": [
        "data.groupby('income_type')['days_employed'].agg('median')"
      ]
    },
    {
      "cell_type": "markdown",
      "id": "0a39c406",
      "metadata": {
        "deletable": false,
        "editable": false,
        "id": "0a39c406"
      },
      "source": [
        "У двух типов (безработные и пенсионеры) получатся аномально большие значения. Исправить такие значения сложно, поэтому оставьте их как есть. Тем более этот столбец не понадобится вам для исследования."
      ]
    },
    {
      "cell_type": "markdown",
      "id": "3885502e",
      "metadata": {
        "deletable": false,
        "editable": false,
        "id": "3885502e"
      },
      "source": [
        "**Задание 8. Выведите перечень уникальных значений столбца `children`.**"
      ]
    },
    {
      "cell_type": "code",
      "execution_count": null,
      "id": "8f8a6642",
      "metadata": {
        "deletable": false,
        "id": "8f8a6642",
        "outputId": "6975b15c-7f95-4697-d16d-a0c79b657b03"
      },
      "outputs": [
        {
          "data": {
            "text/plain": [
              "array([ 1,  0,  3,  2, -1,  4, 20,  5])"
            ]
          },
          "execution_count": 8,
          "metadata": {},
          "output_type": "execute_result"
        }
      ],
      "source": [
        "data['children'].unique()"
      ]
    },
    {
      "cell_type": "markdown",
      "id": "386713bc",
      "metadata": {
        "deletable": false,
        "editable": false,
        "id": "386713bc"
      },
      "source": [
        "**Задание 9. В столбце `children` есть два аномальных значения. Удалите строки, в которых встречаются такие аномальные значения из датафрейма `data`.**"
      ]
    },
    {
      "cell_type": "code",
      "execution_count": null,
      "id": "b119fd1e",
      "metadata": {
        "deletable": false,
        "id": "b119fd1e"
      },
      "outputs": [],
      "source": [
        "data = data[(data['children'] != -1) & (data['children'] != 20)]"
      ]
    },
    {
      "cell_type": "markdown",
      "id": "d18f91f4",
      "metadata": {
        "deletable": false,
        "editable": false,
        "id": "d18f91f4"
      },
      "source": [
        "**Задание 10. Ещё раз выведите перечень уникальных значений столбца `children`, чтобы убедиться, что артефакты удалены.**"
      ]
    },
    {
      "cell_type": "code",
      "execution_count": null,
      "id": "baec0942",
      "metadata": {
        "deletable": false,
        "id": "baec0942",
        "outputId": "b2097101-d49d-44d9-901b-32a65c9463d1"
      },
      "outputs": [
        {
          "data": {
            "text/plain": [
              "array([1, 0, 3, 2, 4, 5])"
            ]
          },
          "execution_count": 10,
          "metadata": {},
          "output_type": "execute_result"
        }
      ],
      "source": [
        "data['children'].unique()"
      ]
    },
    {
      "cell_type": "markdown",
      "id": "a6fc1444",
      "metadata": {
        "deletable": false,
        "editable": false,
        "id": "a6fc1444"
      },
      "source": [
        "### Удаление пропусков (продолжение)"
      ]
    },
    {
      "cell_type": "markdown",
      "id": "69748ad1",
      "metadata": {
        "deletable": false,
        "editable": false,
        "id": "69748ad1"
      },
      "source": [
        "**Задание 11. Заполните пропуски в столбце `days_employed` медианными значениями по каждого типа занятости `income_type`.**"
      ]
    },
    {
      "cell_type": "code",
      "execution_count": null,
      "id": "26e454be",
      "metadata": {
        "deletable": false,
        "id": "26e454be"
      },
      "outputs": [],
      "source": [
        "for t in data['income_type'].unique():\n",
        "    data.loc[(data['income_type'] == t) & (data['days_employed'].isna()), 'days_employed'] = \\\n",
        "    data.loc[(data['income_type'] == t), 'days_employed'].median()"
      ]
    },
    {
      "cell_type": "markdown",
      "id": "24539840",
      "metadata": {
        "deletable": false,
        "editable": false,
        "id": "24539840"
      },
      "source": [
        "**Задание 12. Убедитесь, что все пропуски заполнены. Проверьте себя и ещё раз выведите количество пропущенных значений для каждого столбца с помощью двух методов.**"
      ]
    },
    {
      "cell_type": "code",
      "execution_count": null,
      "id": "74cc570e",
      "metadata": {
        "deletable": false,
        "id": "74cc570e",
        "outputId": "8da1e4e1-358e-4e87-98c9-f261bce0a7b2"
      },
      "outputs": [
        {
          "data": {
            "text/plain": [
              "children            0\n",
              "days_employed       0\n",
              "dob_years           0\n",
              "education           0\n",
              "education_id        0\n",
              "family_status       0\n",
              "family_status_id    0\n",
              "gender              0\n",
              "income_type         0\n",
              "debt                0\n",
              "total_income        0\n",
              "purpose             0\n",
              "dtype: int64"
            ]
          },
          "execution_count": 12,
          "metadata": {},
          "output_type": "execute_result"
        }
      ],
      "source": [
        "data.isna().sum()"
      ]
    },
    {
      "cell_type": "markdown",
      "id": "9df2c58a",
      "metadata": {
        "deletable": false,
        "editable": false,
        "id": "9df2c58a"
      },
      "source": [
        "### Изменение типов данных"
      ]
    },
    {
      "cell_type": "markdown",
      "id": "70f726fa",
      "metadata": {
        "deletable": false,
        "editable": false,
        "id": "70f726fa"
      },
      "source": [
        "**Задание 13. Замените вещественный тип данных в столбце `total_income` на целочисленный с помощью метода `astype()`.**"
      ]
    },
    {
      "cell_type": "code",
      "execution_count": null,
      "id": "4c4c6a57",
      "metadata": {
        "deletable": false,
        "id": "4c4c6a57"
      },
      "outputs": [],
      "source": [
        "data['total_income'] = data['total_income'].astype(int)"
      ]
    },
    {
      "cell_type": "markdown",
      "id": "b110dbcd",
      "metadata": {
        "deletable": false,
        "editable": false,
        "id": "b110dbcd"
      },
      "source": [
        "### Обработка дубликатов"
      ]
    },
    {
      "cell_type": "markdown",
      "id": "d25eea9b",
      "metadata": {
        "deletable": false,
        "editable": false,
        "id": "d25eea9b"
      },
      "source": [
        "**Задание 14. Обработайте неявные дубликаты в столбце `education`. В этом столбце есть одни и те же значения, но записанные по-разному: с использованием заглавных и строчных букв. Приведите их к нижнему регистру. Проверьте остальные столбцы.**"
      ]
    },
    {
      "cell_type": "code",
      "execution_count": null,
      "id": "2a753f74",
      "metadata": {
        "deletable": false,
        "id": "2a753f74"
      },
      "outputs": [],
      "source": [
        "data['education'] = data['education'].str.lower()"
      ]
    },
    {
      "cell_type": "markdown",
      "id": "1380aa55",
      "metadata": {
        "deletable": false,
        "editable": false,
        "id": "1380aa55"
      },
      "source": [
        "**Задание 15. Выведите на экран количество строк-дубликатов в данных. Если такие строки присутствуют, удалите их.**"
      ]
    },
    {
      "cell_type": "code",
      "execution_count": null,
      "id": "28b770ec",
      "metadata": {
        "deletable": false,
        "id": "28b770ec",
        "outputId": "9684deba-1934-42d1-99e1-cda61740f822"
      },
      "outputs": [
        {
          "data": {
            "text/plain": [
              "71"
            ]
          },
          "execution_count": 15,
          "metadata": {},
          "output_type": "execute_result"
        }
      ],
      "source": [
        "data.duplicated().sum()"
      ]
    },
    {
      "cell_type": "code",
      "execution_count": null,
      "id": "a5844a13",
      "metadata": {
        "deletable": false,
        "id": "a5844a13"
      },
      "outputs": [],
      "source": [
        "data = data.drop_duplicates()"
      ]
    },
    {
      "cell_type": "markdown",
      "id": "fa8ea84b",
      "metadata": {
        "deletable": false,
        "editable": false,
        "id": "fa8ea84b"
      },
      "source": [
        "### Категоризация данных"
      ]
    },
    {
      "cell_type": "markdown",
      "id": "5b54fb01",
      "metadata": {
        "deletable": false,
        "editable": false,
        "id": "5b54fb01"
      },
      "source": [
        "**Задание 16. На основании диапазонов, указанных ниже, создайте в датафрейме `data` столбец `total_income_category` с категориями:**\n",
        "\n",
        "- 0–30000 — `'E'`;\n",
        "- 30001–50000 — `'D'`;\n",
        "- 50001–200000 — `'C'`;\n",
        "- 200001–1000000 — `'B'`;\n",
        "- 1000001 и выше — `'A'`.\n",
        "\n",
        "\n",
        "**Например, кредитополучателю с доходом 25000 нужно назначить категорию `'E'`, а клиенту, получающему 235000, — `'B'`. Используйте собственную функцию с именем `categorize_income()` и метод `apply()`.**"
      ]
    },
    {
      "cell_type": "code",
      "execution_count": null,
      "id": "686cc0c5",
      "metadata": {
        "deletable": false,
        "id": "686cc0c5"
      },
      "outputs": [],
      "source": [
        "def categorize_income(income):\n",
        "    try:\n",
        "        if 0 <= income <= 30000:\n",
        "            return 'E'\n",
        "        elif 30001 <= income <= 50000:\n",
        "            return 'D'\n",
        "        elif 50001 <= income <= 200000:\n",
        "            return 'C'\n",
        "        elif 200001 <= income <= 1000000:\n",
        "            return 'B'\n",
        "        elif income >= 1000001:\n",
        "            return 'A'\n",
        "    except:\n",
        "        pass"
      ]
    },
    {
      "cell_type": "code",
      "execution_count": null,
      "id": "feecbf50",
      "metadata": {
        "deletable": false,
        "id": "feecbf50"
      },
      "outputs": [],
      "source": [
        "data['total_income_category'] = data['total_income'].apply(categorize_income)"
      ]
    },
    {
      "cell_type": "markdown",
      "id": "e9265fc6",
      "metadata": {
        "deletable": false,
        "editable": false,
        "id": "e9265fc6"
      },
      "source": [
        "**Задание 17. Выведите на экран перечень уникальных целей взятия кредита из столбца `purpose`.**"
      ]
    },
    {
      "cell_type": "code",
      "execution_count": null,
      "id": "8477e37e",
      "metadata": {
        "deletable": false,
        "id": "8477e37e",
        "outputId": "673c12d9-7d7e-4ae0-9812-c622c89dd244"
      },
      "outputs": [
        {
          "data": {
            "text/plain": [
              "array(['покупка жилья', 'приобретение автомобиля',\n",
              "       'дополнительное образование', 'сыграть свадьбу',\n",
              "       'операции с жильем', 'образование', 'на проведение свадьбы',\n",
              "       'покупка жилья для семьи', 'покупка недвижимости',\n",
              "       'покупка коммерческой недвижимости', 'покупка жилой недвижимости',\n",
              "       'строительство собственной недвижимости', 'недвижимость',\n",
              "       'строительство недвижимости', 'на покупку подержанного автомобиля',\n",
              "       'на покупку своего автомобиля',\n",
              "       'операции с коммерческой недвижимостью',\n",
              "       'строительство жилой недвижимости', 'жилье',\n",
              "       'операции со своей недвижимостью', 'автомобили',\n",
              "       'заняться образованием', 'сделка с подержанным автомобилем',\n",
              "       'получение образования', 'автомобиль', 'свадьба',\n",
              "       'получение дополнительного образования', 'покупка своего жилья',\n",
              "       'операции с недвижимостью', 'получение высшего образования',\n",
              "       'свой автомобиль', 'сделка с автомобилем',\n",
              "       'профильное образование', 'высшее образование',\n",
              "       'покупка жилья для сдачи', 'на покупку автомобиля', 'ремонт жилью',\n",
              "       'заняться высшим образованием'], dtype=object)"
            ]
          },
          "execution_count": 19,
          "metadata": {},
          "output_type": "execute_result"
        }
      ],
      "source": [
        "data['purpose'].unique()"
      ]
    },
    {
      "cell_type": "markdown",
      "id": "c4f3f496",
      "metadata": {
        "deletable": false,
        "editable": false,
        "id": "c4f3f496"
      },
      "source": [
        "**Задание 18. Создайте функцию, которая на основании данных из столбца `purpose` сформирует новый столбец `purpose_category`, в который войдут следующие категории:**\n",
        "\n",
        "- `'операции с автомобилем'`,\n",
        "- `'операции с недвижимостью'`,\n",
        "- `'проведение свадьбы'`,\n",
        "- `'получение образования'`.\n",
        "\n",
        "**Например, если в столбце `purpose` находится подстрока `'на покупку автомобиля'`, то в столбце `purpose_category` должна появиться строка `'операции с автомобилем'`.**\n",
        "\n",
        "**Используйте собственную функцию с именем `categorize_purpose()` и метод `apply()`. Изучите данные в столбце `purpose` и определите, какие подстроки помогут вам правильно определить категорию.**"
      ]
    },
    {
      "cell_type": "code",
      "execution_count": null,
      "id": "bca0cfe2",
      "metadata": {
        "deletable": false,
        "id": "bca0cfe2"
      },
      "outputs": [],
      "source": [
        "def categorize_purpose(row):\n",
        "    try:\n",
        "        if 'автом' in row:\n",
        "            return 'операции с автомобилем'\n",
        "        elif 'жил' in row or 'недвиж' in row:\n",
        "            return 'операции с недвижимостью'\n",
        "        elif 'свад' in row:\n",
        "            return 'проведение свадьбы'\n",
        "        elif 'образов' in row:\n",
        "            return 'получение образования'\n",
        "    except:\n",
        "        return 'нет категории'"
      ]
    },
    {
      "cell_type": "code",
      "execution_count": null,
      "id": "b27a3e7a",
      "metadata": {
        "deletable": false,
        "id": "b27a3e7a"
      },
      "outputs": [],
      "source": [
        "data['purpose_category'] = data['purpose'].apply(categorize_purpose)"
      ]
    },
    {
      "cell_type": "markdown",
      "id": "4107cb18",
      "metadata": {
        "deletable": false,
        "editable": false,
        "id": "4107cb18"
      },
      "source": [
        "### Шаг 3. Исследуйте данные и ответьте на вопросы"
      ]
    },
    {
      "cell_type": "markdown",
      "id": "d2b7ad15",
      "metadata": {
        "deletable": false,
        "editable": false,
        "id": "d2b7ad15"
      },
      "source": [
        "#### 3.1 Есть ли зависимость между количеством детей и возвратом кредита в срок?"
      ]
    },
    {
      "cell_type": "code",
      "execution_count": null,
      "id": "2c3715b5",
      "metadata": {
        "deletable": false,
        "id": "2c3715b5",
        "outputId": "aa1d8812-5dff-495b-fda6-efc724671f85"
      },
      "outputs": [
        {
          "name": "stdout",
          "output_type": "stream",
          "text": [
            "              debt  children\n",
            "children                    \n",
            "0         0.075438     14091\n",
            "1         0.092346      4808\n",
            "2         0.094542      2052\n",
            "3         0.081818       330\n",
            "4         0.097561        41\n",
            "5         0.000000         9\n"
          ]
        }
      ],
      "source": [
        "#print(data.groupby('children')['debt'].mean()) # Частота задолжавших когда-либо клиентов по количеству детей.\n",
        "#for i in range(6):\n",
        "    #print('Количество клиентов с', i, 'детьми =', data.loc[data['children'] == i,'children'].count()) # Количество клиентов с i детьми.\n",
        "#print(pd.pivot_table(data, # Сводная таблица через pivot_table()\n",
        "               #index=['children'],\n",
        "               #values=['debt'],\n",
        "               #aggfunc=[np.mean, len]))\n",
        "print(data.groupby('children').agg({'debt' : 'mean', 'children' : 'count'})) # Сводная таблица через groupby()"
      ]
    },
    {
      "cell_type": "markdown",
      "id": "0d1377a7",
      "metadata": {
        "deletable": false,
        "id": "0d1377a7"
      },
      "source": [
        "**Вывод:** В данном случае, обратимся к методу `mean()` и узнаем средние значения по категориям.  Мы видим, что среди клиентов, клиенты с 5 детьми имели задолжность во время кредита гораздо реже остальных, а конкретно - **никогда**. Однако, по моим наблюдением, чем больше детей в семье, тем таких семей меньше, поэтому **может оказаться, что проблема в том, что бездетных клиентов просто больше.** Создадим цикл для вывода количества клиентов с разным количеством детей. Количество клиентов с пятью детьми равна 9, когда бездетных более 14 тысяч и различия достаточно большие. При вызове метода pivot_table() для сводной таблицы, пришлось воспользоваться библиотекой numpy, которую мы не изучали, и, вероятно так делать нельзя в данной работе, но работает она аналогично методу groupby(), как мы можем убедиться при запуске."
      ]
    },
    {
      "cell_type": "markdown",
      "id": "55ad8812",
      "metadata": {
        "deletable": false,
        "editable": false,
        "id": "55ad8812"
      },
      "source": [
        "#### 3.2 Есть ли зависимость между семейным положением и возвратом кредита в срок?"
      ]
    },
    {
      "cell_type": "code",
      "execution_count": null,
      "id": "a179729a",
      "metadata": {
        "deletable": false,
        "id": "a179729a",
        "outputId": "206cf864-c859-4d30-99dc-73b9a87f4792"
      },
      "outputs": [
        {
          "name": "stdout",
          "output_type": "stream",
          "text": [
            "                           debt  family_status\n",
            "family_status                                 \n",
            "Не женат / не замужем  0.097639           2796\n",
            "в разводе              0.070648           1189\n",
            "вдовец / вдова         0.066246            951\n",
            "гражданский брак       0.093130           4134\n",
            "женат / замужем        0.075606          12261\n"
          ]
        }
      ],
      "source": [
        "#print(data.groupby('family_status')['debt'].count()) # Количество задолжавших когда-либо клиентов по семейному положению.\n",
        "#print(data.groupby('family_status')['debt'].mean()) # Частота задолжавших когда-либо клиентов по семейному положению.\n",
        "#print(pd.pivot_table(data, # Сводная таблица через pivot_table()\n",
        "               #index=['family_status'],\n",
        "               #values=['debt'],\n",
        "               #aggfunc=[np.mean, len]))\n",
        "print(data.groupby('family_status').agg({'debt' : 'mean', 'family_status' : 'count'})) # Сводная таблица через groupby()"
      ]
    },
    {
      "cell_type": "markdown",
      "id": "0eec0a5d",
      "metadata": {
        "deletable": false,
        "id": "0eec0a5d"
      },
      "source": [
        "**Вывод:** Относительно прошлой зависимости, разброс общего количества людей в разных категориях в разы меньше, значит данной закономерности, можно доверять более уверенее, чем предыдущей. Однако, все равно выборка не так показательна, поскольку количество вдовцов в ней почти в 13 раз меньше, чем тех, что женаты/замужем. Из полученных данных, мы видим, что вдовцы платят в срок гораздо исправнее всех остальных. Не женатые/не замужем - наоборот, просрачивают платеж чаще."
      ]
    },
    {
      "cell_type": "markdown",
      "id": "94b9d1fb",
      "metadata": {
        "deletable": false,
        "editable": false,
        "id": "94b9d1fb"
      },
      "source": [
        "#### 3.3 Есть ли зависимость между уровнем дохода и возвратом кредита в срок?"
      ]
    },
    {
      "cell_type": "code",
      "execution_count": null,
      "id": "2619c6f1",
      "metadata": {
        "deletable": false,
        "id": "2619c6f1",
        "outputId": "21f6880a-fc4b-42f7-944e-33670ad85a8a"
      },
      "outputs": [
        {
          "name": "stdout",
          "output_type": "stream",
          "text": [
            "                           debt  total_income_category\n",
            "total_income_category                                 \n",
            "A                      0.080000                     25\n",
            "B                      0.070602                   5014\n",
            "C                      0.084982                  15921\n",
            "D                      0.060172                    349\n",
            "E                      0.090909                     22\n"
          ]
        }
      ],
      "source": [
        "#print(data.groupby('total_income_category')['debt'].count()) # Количество задолжавших когда-либо клиентов по доходу.\n",
        "#print(data.groupby('total_income_category')['debt'].mean()) # Частота задолжавших когда-либо клиентов по доходу.\n",
        "print(data.groupby('total_income_category').agg({'debt' : 'mean', 'total_income_category' : 'count'})) # Сводная таблица через groupby()"
      ]
    },
    {
      "cell_type": "markdown",
      "id": "9a04d42a",
      "metadata": {
        "deletable": false,
        "id": "9a04d42a"
      },
      "source": [
        "**Вывод:** В этом случае людей со средним доходом гораздо больше, чем остальных. Но согласно этой зависимости, чаще всех задолживают люди с самым низким доходом, и это звучит реалистично. Но опять же слишком больше различие в количестве людей в категориях, вероятно, это скажется и на достоверности исследования."
      ]
    },
    {
      "cell_type": "markdown",
      "id": "c4a02997",
      "metadata": {
        "deletable": false,
        "editable": false,
        "id": "c4a02997"
      },
      "source": [
        "#### 3.4 Как разные цели кредита влияют на его возврат в срок?"
      ]
    },
    {
      "cell_type": "code",
      "execution_count": null,
      "id": "f3b47b3d",
      "metadata": {
        "deletable": false,
        "id": "f3b47b3d",
        "outputId": "d1629df4-427c-4947-af52-b4cd23dc1274"
      },
      "outputs": [
        {
          "name": "stdout",
          "output_type": "stream",
          "text": [
            "                              debt  purpose_category\n",
            "purpose_category                                    \n",
            "операции с автомобилем    0.093480              4279\n",
            "операции с недвижимостью  0.072551             10751\n",
            "получение образования     0.092528              3988\n",
            "проведение свадьбы        0.079118              2313\n"
          ]
        }
      ],
      "source": [
        "#print(data.groupby('purpose')['debt'].count().sort_values()) # Количество задолжавших когда-либо клиентов по цели кредита.\n",
        "#print(data.groupby('purpose')['debt'].mean().sort_values()) # Частота задолжавших когда-либо клиентов по цели кредита.\n",
        "\n",
        "#print(data.groupby('purpose_category')['debt'].count().sort_values()) # Количество задолжавших когда-либо клиентов по категории цели кредита.\n",
        "#print(data.groupby('purpose_category')['debt'].mean().sort_values()) # Частота задолжавших когда-либо клиентов по категории цели кредита.\n",
        "\n",
        "print(data.groupby('purpose_category').agg({'debt' : 'mean', 'purpose_category' : 'count'})) # Сводная таблица через groupby()"
      ]
    },
    {
      "cell_type": "markdown",
      "id": "e62f4186",
      "metadata": {
        "deletable": false,
        "id": "e62f4186"
      },
      "source": [
        "**Вывод:** В сравнении с предыдущими закономерностями данная выглядит как самая объективная, поскольку нет большой разницы в количестве различных целей кредита, поэтому данной зависимости можно доверять. И также уверен заявить, что люди, что **каждый десятый, кто берет кредит для профильного образования, сделки с подержанным автомобилем, получением высшего образования, сделку с автомобилем и получением дополнительного образования - вероятнее всего его просрочит.**\n",
        "Однако проверим это еще и с помощью столбца который мы добавили в ходе исследования, чтобы более конкретизировать причины. В данном случае разброс данных все еще остается самым минимальным, из всех, что мы проверяли, и наиболее объективным."
      ]
    },
    {
      "cell_type": "markdown",
      "id": "9fba4980",
      "metadata": {
        "deletable": false,
        "editable": false,
        "id": "9fba4980"
      },
      "source": [
        "#### 3.5 Приведите возможные причины появления пропусков в исходных данных."
      ]
    },
    {
      "cell_type": "markdown",
      "id": "8b9f50dd",
      "metadata": {
        "deletable": false,
        "id": "8b9f50dd"
      },
      "source": [
        "*Ответ:* Пропуски данных были получены в столбцах 'days_employed' и 'total_income'. В ситуации с зарплатой - были именно пропуски, может этот столбец сделали необязательным для заполнения, или же клиенты не захотели разглашать свой доход, или данные повредились где-то по дороге к аналитику. В ситуации со стажем, мы получили отрицательные значения, значит, скорее всего, многие перепутали год, и поставили какой-то из будующего."
      ]
    },
    {
      "cell_type": "markdown",
      "id": "326b7450",
      "metadata": {
        "deletable": false,
        "editable": false,
        "id": "326b7450"
      },
      "source": [
        "#### 3.6 Объясните, почему заполнить пропуски медианным значением — лучшее решение для количественных переменных."
      ]
    },
    {
      "cell_type": "markdown",
      "id": "96d6869a",
      "metadata": {
        "deletable": false,
        "id": "96d6869a"
      },
      "source": [
        "*Ответ:* потому что в сравнении со средним арифмитическим, значение очень зависит от критических точек, экстримально больших и экстримально маленьких по значением, их может немного, но это приводит к сильному искажению среднего арифмитического, из-за этого предподчтительнее использовать медиану."
      ]
    },
    {
      "cell_type": "markdown",
      "id": "107e3d0b",
      "metadata": {
        "deletable": false,
        "editable": false,
        "id": "107e3d0b"
      },
      "source": [
        "### Шаг 4: общий вывод."
      ]
    },
    {
      "cell_type": "markdown",
      "id": "06a3ba75",
      "metadata": {
        "deletable": false,
        "id": "06a3ba75"
      },
      "source": [
        "В данной работе мы рассмотрели датасет некоторого кредитного отдела банка и проделали следующие операции:\n",
        "- обработали данные, избавили их от аномалий и пропусков;\n",
        "- обработали все встречающиеся дубликаты;\n",
        "- категоризировали данные для упращения работы;\n",
        "- провели исследовательскую работу на поиск взаимосвязей некоторых параметров с возвратом кредита в срок.\n",
        "\n",
        "\n",
        "**Список выявленных нами закономерностей выглядит следующим образом:**\n",
        "- бездетные клиенты гораздо более дисциплинированее относятся к сроку выплаты долга;\n",
        "- вдовцы платят в срок исправнее всех остальных;\n",
        "- люди со средним доходом просрачивают выплаты чаще, чем те, у которых доход выше среднего;\n",
        "- чаще всего просрочки допускают по кредитам на автомобиль и образование.\n",
        "\n"
      ]
    }
  ],
  "metadata": {
    "ExecuteTimeLog": [
      {
        "duration": 59,
        "start_time": "2022-09-10T16:00:03.730Z"
      },
      {
        "duration": 443,
        "start_time": "2022-09-10T16:00:15.455Z"
      },
      {
        "duration": 20,
        "start_time": "2022-09-10T16:00:15.900Z"
      },
      {
        "duration": 13,
        "start_time": "2022-09-10T16:00:15.922Z"
      },
      {
        "duration": 9,
        "start_time": "2022-09-10T16:00:15.937Z"
      },
      {
        "duration": 34,
        "start_time": "2022-09-10T16:00:15.947Z"
      },
      {
        "duration": 3,
        "start_time": "2022-09-10T16:00:15.983Z"
      },
      {
        "duration": 13,
        "start_time": "2022-09-10T16:00:15.987Z"
      },
      {
        "duration": 6,
        "start_time": "2022-09-10T16:00:16.001Z"
      },
      {
        "duration": 14,
        "start_time": "2022-09-10T16:00:16.008Z"
      },
      {
        "duration": 15,
        "start_time": "2022-09-10T16:00:16.024Z"
      },
      {
        "duration": 38,
        "start_time": "2022-09-10T16:00:16.040Z"
      },
      {
        "duration": 9,
        "start_time": "2022-09-10T16:00:16.079Z"
      },
      {
        "duration": 16,
        "start_time": "2022-09-10T16:00:16.089Z"
      },
      {
        "duration": 27,
        "start_time": "2022-09-10T16:00:16.106Z"
      },
      {
        "duration": 28,
        "start_time": "2022-09-10T16:00:16.134Z"
      },
      {
        "duration": 16,
        "start_time": "2022-09-10T16:00:16.164Z"
      },
      {
        "duration": 4,
        "start_time": "2022-09-10T16:00:16.181Z"
      },
      {
        "duration": 24,
        "start_time": "2022-09-10T16:00:16.186Z"
      },
      {
        "duration": 12,
        "start_time": "2022-09-10T16:00:16.211Z"
      },
      {
        "duration": 6,
        "start_time": "2022-09-10T16:00:16.224Z"
      },
      {
        "duration": 34,
        "start_time": "2022-09-10T16:00:16.232Z"
      },
      {
        "duration": 13,
        "start_time": "2022-09-10T16:00:16.268Z"
      },
      {
        "duration": 19,
        "start_time": "2022-09-10T16:00:16.283Z"
      },
      {
        "duration": 10,
        "start_time": "2022-09-10T16:00:16.303Z"
      },
      {
        "duration": 21,
        "start_time": "2022-09-10T16:00:16.314Z"
      },
      {
        "duration": 4,
        "start_time": "2022-09-10T16:00:39.805Z"
      },
      {
        "duration": 6,
        "start_time": "2022-09-10T16:00:48.398Z"
      },
      {
        "duration": 6,
        "start_time": "2022-09-10T16:05:07.784Z"
      },
      {
        "duration": 6,
        "start_time": "2022-09-10T16:05:42.384Z"
      },
      {
        "duration": 5,
        "start_time": "2022-09-10T16:06:11.441Z"
      },
      {
        "duration": 6,
        "start_time": "2022-09-10T16:06:27.346Z"
      },
      {
        "duration": 6,
        "start_time": "2022-09-10T16:06:37.938Z"
      },
      {
        "duration": 5,
        "start_time": "2022-09-10T16:16:43.771Z"
      },
      {
        "duration": 6,
        "start_time": "2022-09-10T16:16:50.549Z"
      },
      {
        "duration": 5,
        "start_time": "2022-09-10T16:17:21.363Z"
      },
      {
        "duration": 7,
        "start_time": "2022-09-10T16:17:38.651Z"
      },
      {
        "duration": 807,
        "start_time": "2022-09-10T16:21:28.699Z"
      },
      {
        "duration": 823,
        "start_time": "2022-09-10T16:21:37.468Z"
      },
      {
        "duration": 907,
        "start_time": "2022-09-10T16:21:54.300Z"
      },
      {
        "duration": 875,
        "start_time": "2022-09-10T16:22:06.812Z"
      },
      {
        "duration": 6,
        "start_time": "2022-09-10T16:22:32.950Z"
      },
      {
        "duration": 4,
        "start_time": "2022-09-10T16:22:41.563Z"
      },
      {
        "duration": 6,
        "start_time": "2022-09-10T16:22:47.771Z"
      },
      {
        "duration": 5,
        "start_time": "2022-09-10T16:22:50.571Z"
      },
      {
        "duration": 6,
        "start_time": "2022-09-10T16:22:53.781Z"
      },
      {
        "duration": 7,
        "start_time": "2022-09-10T16:22:58.586Z"
      },
      {
        "duration": 9,
        "start_time": "2022-09-10T16:23:18.502Z"
      },
      {
        "duration": 7,
        "start_time": "2022-09-10T16:23:23.787Z"
      },
      {
        "duration": 8,
        "start_time": "2022-09-10T16:23:35.388Z"
      },
      {
        "duration": 9,
        "start_time": "2022-09-10T16:24:46.188Z"
      },
      {
        "duration": 10,
        "start_time": "2022-09-10T16:24:54.724Z"
      },
      {
        "duration": 14,
        "start_time": "2022-09-10T16:28:19.337Z"
      },
      {
        "duration": 21,
        "start_time": "2022-09-10T16:31:33.051Z"
      },
      {
        "duration": 13,
        "start_time": "2022-09-10T16:32:04.836Z"
      },
      {
        "duration": 9,
        "start_time": "2022-09-10T16:49:59.182Z"
      },
      {
        "duration": 8,
        "start_time": "2022-09-10T16:56:50.982Z"
      },
      {
        "duration": 10,
        "start_time": "2022-09-10T17:11:43.033Z"
      },
      {
        "duration": 21,
        "start_time": "2022-09-10T17:11:54.321Z"
      },
      {
        "duration": 21,
        "start_time": "2022-09-10T17:12:16.769Z"
      },
      {
        "duration": 11,
        "start_time": "2022-09-10T17:12:25.632Z"
      },
      {
        "duration": 10,
        "start_time": "2022-09-10T17:12:29.369Z"
      },
      {
        "duration": 15,
        "start_time": "2022-09-10T17:12:50.961Z"
      },
      {
        "duration": 12,
        "start_time": "2022-09-10T17:15:16.999Z"
      },
      {
        "duration": 11,
        "start_time": "2022-09-10T17:20:19.154Z"
      },
      {
        "duration": 17,
        "start_time": "2022-09-10T17:20:27.522Z"
      },
      {
        "duration": 17,
        "start_time": "2022-09-10T17:21:51.763Z"
      },
      {
        "duration": 22,
        "start_time": "2022-09-10T17:22:18.835Z"
      },
      {
        "duration": 59,
        "start_time": "2022-09-10T17:22:35.899Z"
      },
      {
        "duration": 15,
        "start_time": "2022-09-10T17:22:40.331Z"
      },
      {
        "duration": 11,
        "start_time": "2022-09-10T17:22:54.531Z"
      },
      {
        "duration": 14,
        "start_time": "2022-09-10T17:46:37.316Z"
      },
      {
        "duration": 11,
        "start_time": "2022-09-10T17:48:34.603Z"
      },
      {
        "duration": 20,
        "start_time": "2022-09-10T17:57:10.350Z"
      },
      {
        "duration": 45,
        "start_time": "2022-09-16T14:28:41.140Z"
      },
      {
        "duration": 709,
        "start_time": "2022-09-16T14:28:56.294Z"
      },
      {
        "duration": 21,
        "start_time": "2022-09-16T14:28:57.005Z"
      },
      {
        "duration": 14,
        "start_time": "2022-09-16T14:28:57.028Z"
      },
      {
        "duration": 8,
        "start_time": "2022-09-16T14:28:57.043Z"
      },
      {
        "duration": 32,
        "start_time": "2022-09-16T14:28:57.052Z"
      },
      {
        "duration": 17,
        "start_time": "2022-09-16T14:28:57.085Z"
      },
      {
        "duration": 9,
        "start_time": "2022-09-16T14:28:57.104Z"
      },
      {
        "duration": 3,
        "start_time": "2022-09-16T14:28:57.114Z"
      },
      {
        "duration": 9,
        "start_time": "2022-09-16T14:28:57.119Z"
      },
      {
        "duration": 3,
        "start_time": "2022-09-16T14:28:57.130Z"
      },
      {
        "duration": 31,
        "start_time": "2022-09-16T14:28:57.134Z"
      },
      {
        "duration": 9,
        "start_time": "2022-09-16T14:28:57.166Z"
      },
      {
        "duration": 3,
        "start_time": "2022-09-16T14:28:57.200Z"
      },
      {
        "duration": 11,
        "start_time": "2022-09-16T14:28:57.205Z"
      },
      {
        "duration": 17,
        "start_time": "2022-09-16T14:28:57.217Z"
      },
      {
        "duration": 15,
        "start_time": "2022-09-16T14:28:57.236Z"
      },
      {
        "duration": 3,
        "start_time": "2022-09-16T14:28:57.252Z"
      },
      {
        "duration": 18,
        "start_time": "2022-09-16T14:28:57.257Z"
      },
      {
        "duration": 25,
        "start_time": "2022-09-16T14:28:57.276Z"
      },
      {
        "duration": 3,
        "start_time": "2022-09-16T14:28:57.302Z"
      },
      {
        "duration": 14,
        "start_time": "2022-09-16T14:28:57.306Z"
      },
      {
        "duration": 35,
        "start_time": "2022-09-16T14:28:57.321Z"
      },
      {
        "duration": 0,
        "start_time": "2022-09-16T14:28:57.358Z"
      },
      {
        "duration": 0,
        "start_time": "2022-09-16T14:28:57.359Z"
      },
      {
        "duration": 0,
        "start_time": "2022-09-16T14:28:57.360Z"
      },
      {
        "duration": 17,
        "start_time": "2022-09-16T14:29:13.094Z"
      },
      {
        "duration": 28,
        "start_time": "2022-09-16T14:29:24.794Z"
      },
      {
        "duration": 17,
        "start_time": "2022-09-16T14:29:38.653Z"
      },
      {
        "duration": 20,
        "start_time": "2022-09-16T15:36:07.224Z"
      },
      {
        "duration": 12,
        "start_time": "2022-09-16T15:37:38.305Z"
      },
      {
        "duration": 18,
        "start_time": "2022-09-16T15:41:25.970Z"
      },
      {
        "duration": 29,
        "start_time": "2022-09-16T15:42:03.738Z"
      },
      {
        "duration": 19,
        "start_time": "2022-09-16T15:43:30.226Z"
      },
      {
        "duration": 14,
        "start_time": "2022-09-16T15:43:38.027Z"
      },
      {
        "duration": 21,
        "start_time": "2022-09-16T15:43:45.210Z"
      },
      {
        "duration": 11,
        "start_time": "2022-09-16T15:47:18.249Z"
      },
      {
        "duration": 15,
        "start_time": "2022-09-16T15:48:55.306Z"
      },
      {
        "duration": 7,
        "start_time": "2022-09-16T15:49:36.147Z"
      },
      {
        "duration": 7,
        "start_time": "2022-09-16T15:49:42.009Z"
      },
      {
        "duration": 7,
        "start_time": "2022-09-16T15:49:46.129Z"
      },
      {
        "duration": 14,
        "start_time": "2022-09-16T15:49:51.401Z"
      },
      {
        "duration": 8,
        "start_time": "2022-09-16T15:49:56.058Z"
      },
      {
        "duration": 12,
        "start_time": "2022-09-16T15:49:59.937Z"
      },
      {
        "duration": 8,
        "start_time": "2022-09-16T15:52:10.537Z"
      },
      {
        "duration": 7,
        "start_time": "2022-09-16T15:52:35.689Z"
      },
      {
        "duration": 67,
        "start_time": "2022-09-16T15:52:41.753Z"
      },
      {
        "duration": 12,
        "start_time": "2022-09-16T15:52:48.857Z"
      },
      {
        "duration": 65,
        "start_time": "2022-09-16T15:53:01.988Z"
      },
      {
        "duration": 14,
        "start_time": "2022-09-16T15:53:02.054Z"
      },
      {
        "duration": 25,
        "start_time": "2022-09-16T15:53:02.070Z"
      },
      {
        "duration": 11,
        "start_time": "2022-09-16T15:53:02.098Z"
      },
      {
        "duration": 38,
        "start_time": "2022-09-16T15:53:02.110Z"
      },
      {
        "duration": 3,
        "start_time": "2022-09-16T15:53:02.150Z"
      },
      {
        "duration": 15,
        "start_time": "2022-09-16T15:53:02.154Z"
      },
      {
        "duration": 10,
        "start_time": "2022-09-16T15:53:02.170Z"
      },
      {
        "duration": 16,
        "start_time": "2022-09-16T15:53:02.181Z"
      },
      {
        "duration": 12,
        "start_time": "2022-09-16T15:53:02.200Z"
      },
      {
        "duration": 35,
        "start_time": "2022-09-16T15:53:02.213Z"
      },
      {
        "duration": 8,
        "start_time": "2022-09-16T15:53:02.250Z"
      },
      {
        "duration": 9,
        "start_time": "2022-09-16T15:53:02.259Z"
      },
      {
        "duration": 16,
        "start_time": "2022-09-16T15:53:02.269Z"
      },
      {
        "duration": 25,
        "start_time": "2022-09-16T15:53:02.287Z"
      },
      {
        "duration": 18,
        "start_time": "2022-09-16T15:53:02.313Z"
      },
      {
        "duration": 3,
        "start_time": "2022-09-16T15:53:02.333Z"
      },
      {
        "duration": 16,
        "start_time": "2022-09-16T15:53:02.337Z"
      },
      {
        "duration": 7,
        "start_time": "2022-09-16T15:53:02.354Z"
      },
      {
        "duration": 18,
        "start_time": "2022-09-16T15:53:02.363Z"
      },
      {
        "duration": 23,
        "start_time": "2022-09-16T15:53:02.383Z"
      },
      {
        "duration": 15,
        "start_time": "2022-09-16T15:53:02.408Z"
      },
      {
        "duration": 15,
        "start_time": "2022-09-16T15:53:02.425Z"
      },
      {
        "duration": 17,
        "start_time": "2022-09-16T15:53:02.441Z"
      },
      {
        "duration": 27,
        "start_time": "2022-09-16T15:53:02.459Z"
      },
      {
        "duration": 15,
        "start_time": "2022-09-16T15:53:11.641Z"
      },
      {
        "duration": 9,
        "start_time": "2022-09-16T15:53:28.721Z"
      },
      {
        "duration": 13,
        "start_time": "2022-09-16T15:53:33.449Z"
      },
      {
        "duration": 20,
        "start_time": "2022-09-16T15:53:45.319Z"
      },
      {
        "duration": 32,
        "start_time": "2022-09-16T15:54:28.170Z"
      },
      {
        "duration": 22,
        "start_time": "2022-09-16T15:54:46.121Z"
      },
      {
        "duration": 22,
        "start_time": "2022-09-16T15:56:29.595Z"
      },
      {
        "duration": 21,
        "start_time": "2022-09-16T15:56:34.865Z"
      },
      {
        "duration": 25,
        "start_time": "2022-09-16T15:56:44.473Z"
      },
      {
        "duration": 20,
        "start_time": "2022-09-16T15:56:50.680Z"
      },
      {
        "duration": 20,
        "start_time": "2022-09-16T15:58:22.346Z"
      },
      {
        "duration": 19,
        "start_time": "2022-09-16T15:58:24.793Z"
      },
      {
        "duration": 22,
        "start_time": "2022-09-16T15:59:02.809Z"
      },
      {
        "duration": 22,
        "start_time": "2022-09-16T15:59:43.769Z"
      },
      {
        "duration": 21,
        "start_time": "2022-09-16T16:00:12.266Z"
      },
      {
        "duration": 29,
        "start_time": "2022-09-16T16:01:48.649Z"
      },
      {
        "duration": 32,
        "start_time": "2022-09-16T16:01:57.832Z"
      },
      {
        "duration": 9,
        "start_time": "2022-09-16T16:05:39.170Z"
      },
      {
        "duration": 8,
        "start_time": "2022-09-16T16:05:56.641Z"
      },
      {
        "duration": 18,
        "start_time": "2022-09-16T16:06:26.101Z"
      },
      {
        "duration": 9,
        "start_time": "2022-09-16T16:06:57.632Z"
      },
      {
        "duration": 727,
        "start_time": "2022-09-17T11:23:56.960Z"
      },
      {
        "duration": 34,
        "start_time": "2022-09-17T11:23:57.689Z"
      },
      {
        "duration": 19,
        "start_time": "2022-09-17T11:23:57.730Z"
      },
      {
        "duration": 9,
        "start_time": "2022-09-17T11:23:57.751Z"
      },
      {
        "duration": 32,
        "start_time": "2022-09-17T11:23:57.761Z"
      },
      {
        "duration": 3,
        "start_time": "2022-09-17T11:23:57.794Z"
      },
      {
        "duration": 12,
        "start_time": "2022-09-17T11:23:57.798Z"
      },
      {
        "duration": 9,
        "start_time": "2022-09-17T11:23:57.812Z"
      },
      {
        "duration": 17,
        "start_time": "2022-09-17T11:23:57.823Z"
      },
      {
        "duration": 8,
        "start_time": "2022-09-17T11:23:57.844Z"
      },
      {
        "duration": 31,
        "start_time": "2022-09-17T11:23:57.854Z"
      },
      {
        "duration": 34,
        "start_time": "2022-09-17T11:23:57.887Z"
      },
      {
        "duration": 4,
        "start_time": "2022-09-17T11:23:57.922Z"
      },
      {
        "duration": 13,
        "start_time": "2022-09-17T11:23:57.928Z"
      },
      {
        "duration": 20,
        "start_time": "2022-09-17T11:23:57.943Z"
      },
      {
        "duration": 17,
        "start_time": "2022-09-17T11:23:57.964Z"
      },
      {
        "duration": 26,
        "start_time": "2022-09-17T11:23:57.983Z"
      },
      {
        "duration": 14,
        "start_time": "2022-09-17T11:23:58.011Z"
      },
      {
        "duration": 8,
        "start_time": "2022-09-17T11:23:58.027Z"
      },
      {
        "duration": 5,
        "start_time": "2022-09-17T11:23:58.037Z"
      },
      {
        "duration": 13,
        "start_time": "2022-09-17T11:23:58.044Z"
      },
      {
        "duration": 9,
        "start_time": "2022-09-17T11:23:58.058Z"
      },
      {
        "duration": 17,
        "start_time": "2022-09-17T11:23:58.069Z"
      },
      {
        "duration": 12,
        "start_time": "2022-09-17T11:23:58.109Z"
      },
      {
        "duration": 32,
        "start_time": "2022-09-17T11:23:58.123Z"
      },
      {
        "duration": 55,
        "start_time": "2022-09-17T11:27:02.727Z"
      }
    ],
    "colab": {
      "name": "dpp_template_part2.ipynb",
      "provenance": []
    },
    "kernelspec": {
      "display_name": "Python 3 (ipykernel)",
      "language": "python",
      "name": "python3"
    },
    "language_info": {
      "codemirror_mode": {
        "name": "ipython",
        "version": 3
      },
      "file_extension": ".py",
      "mimetype": "text/x-python",
      "name": "python",
      "nbconvert_exporter": "python",
      "pygments_lexer": "ipython3",
      "version": "3.9.5"
    },
    "toc": {
      "base_numbering": 1,
      "nav_menu": {},
      "number_sections": true,
      "sideBar": true,
      "skip_h1_title": true,
      "title_cell": "Table of Contents",
      "title_sidebar": "Contents",
      "toc_cell": false,
      "toc_position": {},
      "toc_section_display": true,
      "toc_window_display": false
    }
  },
  "nbformat": 4,
  "nbformat_minor": 5
}