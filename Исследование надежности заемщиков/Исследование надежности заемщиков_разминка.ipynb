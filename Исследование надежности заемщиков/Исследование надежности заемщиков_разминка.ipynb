{
 "cells": [
  {
   "cell_type": "markdown",
   "id": "db47db9a",
   "metadata": {
    "deletable": false,
    "editable": false,
    "id": "c81daeeb"
   },
   "source": [
    "# Исследование надежности заемщиков"
   ]
  },
  {
   "cell_type": "markdown",
   "id": "531fa8b5",
   "metadata": {
    "deletable": false,
    "editable": false,
    "id": "-G3EJWzf62s6"
   },
   "source": [
    "Это первая часть проекта, она будет проверена автоматически. Вторую часть проверит ревьюер. "
   ]
  },
  {
   "cell_type": "markdown",
   "id": "9213876b",
   "metadata": {
    "deletable": false,
    "editable": false,
    "id": "744d7639"
   },
   "source": [
    "## Откройте таблицу и изучите общую информацию о данных"
   ]
  },
  {
   "cell_type": "markdown",
   "id": "96f00444",
   "metadata": {
    "deletable": false,
    "editable": false,
    "id": "e7a14c31",
    "tags": [
     "start_task"
    ]
   },
   "source": [
    "**Задание 1. Импортируйте библиотеку pandas. Считайте данные из csv-файла в датафрейм и сохраните в переменную `data`. Путь к файлу:**\n",
    "\n",
    "`/datasets/data.csv`"
   ]
  },
  {
   "cell_type": "code",
   "execution_count": 1,
   "id": "516a46e8",
   "metadata": {
    "id": "7bcf75c9"
   },
   "outputs": [],
   "source": [
    "import pandas as pd # импортируйте библиотеку pandas"
   ]
  },
  {
   "cell_type": "code",
   "execution_count": 2,
   "id": "ce1f7203",
   "metadata": {
    "id": "4d240ee2"
   },
   "outputs": [],
   "source": [
    "data = pd.read_csv('/datasets/data.csv') # прочитайте csv-файл"
   ]
  },
  {
   "cell_type": "markdown",
   "id": "99a5b883",
   "metadata": {
    "deletable": false,
    "editable": false,
    "id": "b8038fe3",
    "tags": [
     "start_task"
    ]
   },
   "source": [
    "**Задание 2. Выведите первые 20 строчек датафрейма `data` на экран.**"
   ]
  },
  {
   "cell_type": "code",
   "execution_count": 3,
   "id": "23e62781",
   "metadata": {
    "id": "2a7cab99"
   },
   "outputs": [
    {
     "name": "stdout",
     "output_type": "stream",
     "text": [
      "    children  days_employed  dob_years            education  education_id  \\\n",
      "0          1   -8437.673028         42               высшее             0   \n",
      "1          1   -4024.803754         36              среднее             1   \n",
      "2          0   -5623.422610         33              Среднее             1   \n",
      "3          3   -4124.747207         32              среднее             1   \n",
      "4          0  340266.072047         53              среднее             1   \n",
      "5          0    -926.185831         27               высшее             0   \n",
      "6          0   -2879.202052         43               высшее             0   \n",
      "7          0    -152.779569         50              СРЕДНЕЕ             1   \n",
      "8          2   -6929.865299         35               ВЫСШЕЕ             0   \n",
      "9          0   -2188.756445         41              среднее             1   \n",
      "10         2   -4171.483647         36               высшее             0   \n",
      "11         0    -792.701887         40              среднее             1   \n",
      "12         0            NaN         65              среднее             1   \n",
      "13         0   -1846.641941         54  неоконченное высшее             2   \n",
      "14         0   -1844.956182         56               высшее             0   \n",
      "15         1    -972.364419         26              среднее             1   \n",
      "16         0   -1719.934226         35              среднее             1   \n",
      "17         0   -2369.999720         33               высшее             0   \n",
      "18         0  400281.136913         53              среднее             1   \n",
      "19         0  -10038.818549         48              СРЕДНЕЕ             1   \n",
      "\n",
      "       family_status  family_status_id gender income_type  debt  \\\n",
      "0    женат / замужем                 0      F   сотрудник     0   \n",
      "1    женат / замужем                 0      F   сотрудник     0   \n",
      "2    женат / замужем                 0      M   сотрудник     0   \n",
      "3    женат / замужем                 0      M   сотрудник     0   \n",
      "4   гражданский брак                 1      F   пенсионер     0   \n",
      "5   гражданский брак                 1      M   компаньон     0   \n",
      "6    женат / замужем                 0      F   компаньон     0   \n",
      "7    женат / замужем                 0      M   сотрудник     0   \n",
      "8   гражданский брак                 1      F   сотрудник     0   \n",
      "9    женат / замужем                 0      M   сотрудник     0   \n",
      "10   женат / замужем                 0      M   компаньон     0   \n",
      "11   женат / замужем                 0      F   сотрудник     0   \n",
      "12  гражданский брак                 1      M   пенсионер     0   \n",
      "13   женат / замужем                 0      F   сотрудник     0   \n",
      "14  гражданский брак                 1      F   компаньон     1   \n",
      "15   женат / замужем                 0      F   сотрудник     0   \n",
      "16   женат / замужем                 0      F   сотрудник     0   \n",
      "17  гражданский брак                 1      M   сотрудник     0   \n",
      "18    вдовец / вдова                 2      F   пенсионер     0   \n",
      "19         в разводе                 3      F   сотрудник     0   \n",
      "\n",
      "     total_income                                 purpose  \n",
      "0   253875.639453                           покупка жилья  \n",
      "1   112080.014102                 приобретение автомобиля  \n",
      "2   145885.952297                           покупка жилья  \n",
      "3   267628.550329              дополнительное образование  \n",
      "4   158616.077870                         сыграть свадьбу  \n",
      "5   255763.565419                           покупка жилья  \n",
      "6   240525.971920                       операции с жильем  \n",
      "7   135823.934197                             образование  \n",
      "8    95856.832424                   на проведение свадьбы  \n",
      "9   144425.938277                 покупка жилья для семьи  \n",
      "10  113943.491460                    покупка недвижимости  \n",
      "11   77069.234271       покупка коммерческой недвижимости  \n",
      "12            NaN                         сыграть свадьбу  \n",
      "13  130458.228857                 приобретение автомобиля  \n",
      "14  165127.911772              покупка жилой недвижимости  \n",
      "15  116820.904450  строительство собственной недвижимости  \n",
      "16  289202.704229                            недвижимость  \n",
      "17   90410.586745              строительство недвижимости  \n",
      "18   56823.777243      на покупку подержанного автомобиля  \n",
      "19  242831.107982            на покупку своего автомобиля  \n"
     ]
    }
   ],
   "source": [
    "print(data.head(20)) # ваш код здесь"
   ]
  },
  {
   "cell_type": "markdown",
   "id": "b730c441",
   "metadata": {
    "deletable": false,
    "editable": false,
    "id": "1c12e233",
    "tags": [
     "start_task"
    ]
   },
   "source": [
    "**Задание 3. Выведите основную информацию о датафрейме с помощью метода `info()`.**"
   ]
  },
  {
   "cell_type": "code",
   "execution_count": 4,
   "id": "0390fed4",
   "metadata": {
    "id": "2b757bca"
   },
   "outputs": [
    {
     "name": "stdout",
     "output_type": "stream",
     "text": [
      "<class 'pandas.core.frame.DataFrame'>\n",
      "RangeIndex: 21525 entries, 0 to 21524\n",
      "Data columns (total 12 columns):\n",
      " #   Column            Non-Null Count  Dtype  \n",
      "---  ------            --------------  -----  \n",
      " 0   children          21525 non-null  int64  \n",
      " 1   days_employed     19351 non-null  float64\n",
      " 2   dob_years         21525 non-null  int64  \n",
      " 3   education         21525 non-null  object \n",
      " 4   education_id      21525 non-null  int64  \n",
      " 5   family_status     21525 non-null  object \n",
      " 6   family_status_id  21525 non-null  int64  \n",
      " 7   gender            21525 non-null  object \n",
      " 8   income_type       21525 non-null  object \n",
      " 9   debt              21525 non-null  int64  \n",
      " 10  total_income      19351 non-null  float64\n",
      " 11  purpose           21525 non-null  object \n",
      "dtypes: float64(2), int64(5), object(5)\n",
      "memory usage: 2.0+ MB\n"
     ]
    }
   ],
   "source": [
    "data.info() # ваш код здесь"
   ]
  },
  {
   "cell_type": "markdown",
   "id": "01302763",
   "metadata": {
    "deletable": false,
    "editable": false,
    "id": "333ec665"
   },
   "source": [
    "## Предобработка данных"
   ]
  },
  {
   "cell_type": "markdown",
   "id": "1f06189c",
   "metadata": {
    "deletable": false,
    "editable": false,
    "id": "02d92d53"
   },
   "source": [
    "### Удаление пропусков"
   ]
  },
  {
   "cell_type": "markdown",
   "id": "fd42f13a",
   "metadata": {
    "deletable": false,
    "editable": false,
    "id": "cd84967c",
    "tags": [
     "start_task"
    ]
   },
   "source": [
    "**Задание 4. Выведите количество пропущенных значений для каждого столбца. Используйте комбинацию двух методов.**"
   ]
  },
  {
   "cell_type": "code",
   "execution_count": 5,
   "id": "c97d9c2d",
   "metadata": {
    "id": "7f9b2309"
   },
   "outputs": [
    {
     "name": "stdout",
     "output_type": "stream",
     "text": [
      "children               0\n",
      "days_employed       2174\n",
      "dob_years              0\n",
      "education              0\n",
      "education_id           0\n",
      "family_status          0\n",
      "family_status_id       0\n",
      "gender                 0\n",
      "income_type            0\n",
      "debt                   0\n",
      "total_income        2174\n",
      "purpose                0\n",
      "dtype: int64\n"
     ]
    }
   ],
   "source": [
    "print(data.isnull().sum()) # ваш код здесь"
   ]
  },
  {
   "cell_type": "markdown",
   "id": "a7363255",
   "metadata": {
    "deletable": false,
    "editable": false,
    "id": "db86e27b",
    "tags": [
     "start_task"
    ]
   },
   "source": [
    "**Задание 5. В двух столбцах есть пропущенные значения. Один из них — `days_employed`. Пропуски в этом столбце вы обработаете на следующем этапе. Другой столбец с пропущенными значениями — `total_income` — хранит данные о доходах. На сумму дохода сильнее всего влияет тип занятости, поэтому заполнить пропуски в этом столбце нужно медианным значением по каждому типу из столбца `income_type`. Например, у человека с типом занятости `сотрудник` пропуск в столбце `total_income` должен быть заполнен медианным доходом среди всех записей с тем же типом.**"
   ]
  },
  {
   "cell_type": "code",
   "execution_count": 6,
   "id": "274fd3c6",
   "metadata": {
    "id": "42006a93"
   },
   "outputs": [],
   "source": [
    "medians = data.groupby('income_type')['total_income'].median()\n",
    "jobs = ['безработный', 'в декрете', 'госслужащий', 'компаньон', 'пенсионер', 'предприниматель', 'сотрудник', 'студент']\n",
    "for job in jobs:\n",
    "    data.loc[data['income_type'] == job, 'total_income'] = data.loc[data['income_type'] == job, 'total_income'].fillna(medians[job])"
   ]
  },
  {
   "cell_type": "markdown",
   "id": "dfa6f14f",
   "metadata": {
    "deletable": false,
    "editable": false,
    "id": "89da5ece"
   },
   "source": [
    "### Обработка аномальных значений"
   ]
  },
  {
   "cell_type": "markdown",
   "id": "91071cb2",
   "metadata": {
    "deletable": false,
    "editable": false,
    "id": "57964554",
    "tags": [
     "start_task"
    ]
   },
   "source": [
    "**Задание 6. В данных могут встречаться артефакты (аномалии) — значения, которые не отражают действительность и появились по какой-то ошибке. Таким артефактом будет отрицательное количество дней трудового стажа в столбце `days_employed`. Для реальных данных это нормально. Обработайте значения в этом столбце: замените все отрицательные значения положительными с помощью метода `abs()`.**"
   ]
  },
  {
   "cell_type": "code",
   "execution_count": 7,
   "id": "efd07eee",
   "metadata": {
    "id": "f6f055bf"
   },
   "outputs": [],
   "source": [
    "data['days_employed'] = data['days_employed'].abs()# ваш код здесь"
   ]
  },
  {
   "cell_type": "markdown",
   "id": "42bc28de",
   "metadata": {
    "deletable": false,
    "editable": false,
    "id": "6107dd2f",
    "tags": [
     "start_task"
    ]
   },
   "source": [
    "**Задание 7. Для каждого типа занятости выведите медианное значение трудового стажа `days_employed` в днях.**"
   ]
  },
  {
   "cell_type": "code",
   "execution_count": 8,
   "id": "1ab159dc",
   "metadata": {
    "id": "85a5faf6"
   },
   "outputs": [
    {
     "name": "stdout",
     "output_type": "stream",
     "text": [
      "income_type\n",
      "безработный        366413.652744\n",
      "в декрете            3296.759962\n",
      "госслужащий          2689.368353\n",
      "компаньон            1547.382223\n",
      "пенсионер          365213.306266\n",
      "предприниматель       520.848083\n",
      "сотрудник            1574.202821\n",
      "студент               578.751554\n",
      "Name: days_employed, dtype: float64\n"
     ]
    }
   ],
   "source": [
    "medians = data.groupby('income_type')['days_employed'].median()# ваш код здесь\n",
    "print(medians)"
   ]
  },
  {
   "cell_type": "markdown",
   "id": "37f0aa77",
   "metadata": {
    "deletable": false,
    "editable": false,
    "id": "38d1a030"
   },
   "source": [
    "У двух типов (безработные и пенсионеры) получатся аномально большие значения. Исправить такие значения сложно, поэтому оставьте их как есть. Тем более этот столбец не понадобится вам для исследования."
   ]
  },
  {
   "cell_type": "markdown",
   "id": "ea8ac022",
   "metadata": {
    "deletable": false,
    "editable": false,
    "id": "d8a9f147",
    "tags": [
     "start_task"
    ]
   },
   "source": [
    "**Задание 8. Выведите перечень уникальных значений столбца `children`.**"
   ]
  },
  {
   "cell_type": "code",
   "execution_count": 9,
   "id": "40765689",
   "metadata": {
    "id": "ef5056eb"
   },
   "outputs": [
    {
     "name": "stdout",
     "output_type": "stream",
     "text": [
      "[ 1  0  3  2 -1  4 20  5]\n"
     ]
    }
   ],
   "source": [
    "print(data['children'].unique())# ваш код здесь"
   ]
  },
  {
   "cell_type": "markdown",
   "id": "d729872f",
   "metadata": {
    "deletable": false,
    "editable": false,
    "id": "40b9ebf2",
    "tags": [
     "start_task"
    ]
   },
   "source": [
    "**Задание 9. В столбце `children` есть два аномальных значения. Удалите строки, в которых встречаются такие аномальные значения из датафрейма `data`.**"
   ]
  },
  {
   "cell_type": "code",
   "execution_count": 10,
   "id": "d17d12e7",
   "metadata": {
    "id": "3ff9801d"
   },
   "outputs": [
    {
     "name": "stdout",
     "output_type": "stream",
     "text": [
      "[1 0 3 2 4 5]\n"
     ]
    }
   ],
   "source": [
    "data = data.loc[(data['children'] != -1) & (data['children'] != 20)]"
   ]
  },
  {
   "cell_type": "markdown",
   "id": "df808858",
   "metadata": {
    "deletable": false,
    "editable": false,
    "id": "bbc4d0ce",
    "tags": [
     "start_task"
    ]
   },
   "source": [
    "**Задание 10. Ещё раз выведите перечень уникальных значений столбца `children`, чтобы убедиться, что артефакты удалены.**"
   ]
  },
  {
   "cell_type": "code",
   "execution_count": 11,
   "id": "d35a1340",
   "metadata": {
    "id": "ad4fa8b7"
   },
   "outputs": [],
   "source": [
    "print(data['children'].unique())# ваш код здесь"
   ]
  },
  {
   "cell_type": "markdown",
   "id": "cad85cd4",
   "metadata": {
    "deletable": false,
    "editable": false,
    "id": "75440b63"
   },
   "source": [
    "### Удаление пропусков (продолжение)"
   ]
  },
  {
   "cell_type": "markdown",
   "id": "0bcd96fe",
   "metadata": {
    "deletable": false,
    "editable": false,
    "id": "f4ea573f",
    "tags": [
     "start_task"
    ]
   },
   "source": [
    "**Задание 11. Заполните пропуски в столбце `days_employed` медианными значениями по каждому типу занятости `income_type`.**"
   ]
  },
  {
   "cell_type": "code",
   "execution_count": 24,
   "id": "444b42d7",
   "metadata": {
    "id": "af6b1a7e"
   },
   "outputs": [],
   "source": [
    "medians = data.groupby('income_type')['days_employed'].median()\n",
    "jobs = ['безработный', 'в декрете', 'госслужащий', 'компаньон', 'пенсионер', 'предприниматель', 'сотрудник', 'студент']\n",
    "for job in jobs:\n",
    "    data.loc[data['income_type'] == job, 'days_employed'] = data.loc[data['income_type'] == job, 'days_employed'].fillna(medians[job])# ваш код здесь"
   ]
  },
  {
   "cell_type": "markdown",
   "id": "74729ab8",
   "metadata": {
    "deletable": false,
    "editable": false,
    "id": "2753f40d",
    "tags": [
     "start_task"
    ]
   },
   "source": [
    "**Задание 12. Убедитесь, что все пропуски заполнены. Проверьте себя и ещё раз выведите количество пропущенных значений для каждого столбца с помощью двух методов.**"
   ]
  },
  {
   "cell_type": "code",
   "execution_count": 25,
   "id": "0308b7a7",
   "metadata": {
    "id": "55f78bc2"
   },
   "outputs": [
    {
     "name": "stdout",
     "output_type": "stream",
     "text": [
      "children            0\n",
      "days_employed       0\n",
      "dob_years           0\n",
      "education           0\n",
      "education_id        0\n",
      "family_status       0\n",
      "family_status_id    0\n",
      "gender              0\n",
      "income_type         0\n",
      "debt                0\n",
      "total_income        0\n",
      "purpose             0\n",
      "dtype: int64\n"
     ]
    }
   ],
   "source": [
    "print(data.isnull().sum())# ваш код здесь"
   ]
  },
  {
   "cell_type": "markdown",
   "id": "9250fe3c",
   "metadata": {
    "deletable": false,
    "editable": false,
    "id": "ddc81e43"
   },
   "source": [
    "### Изменение типов данных"
   ]
  },
  {
   "cell_type": "markdown",
   "id": "5b3759ab",
   "metadata": {
    "deletable": false,
    "editable": false,
    "id": "42d19d24",
    "tags": [
     "start_task"
    ]
   },
   "source": [
    "**Задание 13. Замените вещественный тип данных в столбце `total_income` на целочисленный с помощью метода `astype()`.**"
   ]
  },
  {
   "cell_type": "code",
   "execution_count": 28,
   "id": "60f40cb1",
   "metadata": {
    "id": "920b65ad"
   },
   "outputs": [],
   "source": [
    "data['total_income'] = data['total_income'].astype('int') # ваш код здесь"
   ]
  },
  {
   "cell_type": "markdown",
   "id": "beb0b9b8",
   "metadata": {
    "deletable": false,
    "editable": false,
    "id": "80c420ba"
   },
   "source": [
    "### Обработка дубликатов"
   ]
  },
  {
   "cell_type": "markdown",
   "id": "430a1697",
   "metadata": {
    "deletable": false,
    "editable": false,
    "tags": [
     "start_task"
    ]
   },
   "source": [
    "**Задание 14. Обработайте неявные дубликаты в столбце `education`. В этом столбце есть одни и те же значения, но записанные по-разному: с использованием заглавных и строчных букв. Приведите их к нижнему регистру. Проверьте остальные столбцы.**"
   ]
  },
  {
   "cell_type": "code",
   "execution_count": 34,
   "id": "81bb18fb",
   "metadata": {},
   "outputs": [],
   "source": [
    "data['education'] = data['education'].str.lower()"
   ]
  },
  {
   "cell_type": "markdown",
   "id": "dd3b3776",
   "metadata": {
    "deletable": false,
    "editable": false,
    "id": "dc587695",
    "tags": [
     "start_task"
    ]
   },
   "source": [
    "**Задание 15. Выведите на экран количество строк-дубликатов в данных. Если такие строки присутствуют, удалите их.**"
   ]
  },
  {
   "cell_type": "code",
   "execution_count": 39,
   "id": "9dd5fdef",
   "metadata": {
    "id": "3ee445e4"
   },
   "outputs": [
    {
     "name": "stdout",
     "output_type": "stream",
     "text": [
      "21397\n"
     ]
    }
   ],
   "source": [
    "print(data['education'].duplicated().sum()) # посчитайте дубликаты"
   ]
  },
  {
   "cell_type": "code",
   "execution_count": 38,
   "id": "d8ca9737",
   "metadata": {
    "id": "8575fe05"
   },
   "outputs": [
    {
     "data": {
      "text/plain": [
       "0                    высшее\n",
       "1                   среднее\n",
       "13      неоконченное высшее\n",
       "31                начальное\n",
       "2963         ученая степень\n",
       "Name: education, dtype: object"
      ]
     },
     "execution_count": 38,
     "metadata": {},
     "output_type": "execute_result"
    }
   ],
   "source": [
    "data['education'].drop_duplicates()# удалите дубликаты"
   ]
  },
  {
   "cell_type": "markdown",
   "id": "42eb73bd",
   "metadata": {
    "deletable": false,
    "editable": false,
    "id": "9904cf55"
   },
   "source": [
    "### Категоризация данных"
   ]
  },
  {
   "cell_type": "markdown",
   "id": "0738fa69",
   "metadata": {
    "deletable": false,
    "editable": false,
    "id": "72fcc8a2",
    "tags": [
     "start_task"
    ]
   },
   "source": [
    "**Задание 16. На основании диапазонов, указанных ниже, создайте в датафрейме `data` столбец `total_income_category` с категориями:**\n",
    "\n",
    "- 0–30000 — `'E'`;\n",
    "- 30001–50000 — `'D'`;\n",
    "- 50001–200000 — `'C'`;\n",
    "- 200001–1000000 — `'B'`;\n",
    "- 1000001 и выше — `'A'`.\n",
    "\n",
    "\n",
    "**Например, кредитополучателю с доходом 25000 нужно назначить категорию `'E'`, а клиенту, получающему 235000, — `'B'`. Используйте собственную функцию с именем `categorize_income()` и метод `apply()`.**"
   ]
  },
  {
   "cell_type": "code",
   "execution_count": 42,
   "id": "85559bf2",
   "metadata": {
    "id": "e1771346"
   },
   "outputs": [],
   "source": [
    "def categorize_income(income):\n",
    "    if (income >= 0) and (income <= 30000):\n",
    "        return 'E'\n",
    "    if (income >= 30001) and (income <= 50000):\n",
    "        return 'D'\n",
    "    if (income >= 50001) and (income <= 200000):\n",
    "        return 'C'\n",
    "    if (income >= 200001) and (income <= 1000000):\n",
    "        return 'B'\n",
    "    return 'A'"
   ]
  },
  {
   "cell_type": "code",
   "execution_count": 19,
   "id": "9c1059a0",
   "metadata": {
    "id": "d5f3586d"
   },
   "outputs": [],
   "source": [
    "data['total_income_category'] = data['total_income'].apply(categorize_income)"
   ]
  },
  {
   "cell_type": "markdown",
   "id": "099b7aed",
   "metadata": {
    "deletable": false,
    "editable": false,
    "id": "dde49b5c",
    "tags": [
     "start_task"
    ]
   },
   "source": [
    "**Задание 17. Выведите на экран перечень уникальных целей взятия кредита из столбца `purpose`.**"
   ]
  },
  {
   "cell_type": "code",
   "execution_count": 44,
   "id": "f6ac7adc",
   "metadata": {
    "id": "f67ce9b3"
   },
   "outputs": [
    {
     "name": "stdout",
     "output_type": "stream",
     "text": [
      "['покупка жилья' 'приобретение автомобиля' 'дополнительное образование'\n",
      " 'сыграть свадьбу' 'операции с жильем' 'образование'\n",
      " 'на проведение свадьбы' 'покупка жилья для семьи' 'покупка недвижимости'\n",
      " 'покупка коммерческой недвижимости' 'покупка жилой недвижимости'\n",
      " 'строительство собственной недвижимости' 'недвижимость'\n",
      " 'строительство недвижимости' 'на покупку подержанного автомобиля'\n",
      " 'на покупку своего автомобиля' 'операции с коммерческой недвижимостью'\n",
      " 'строительство жилой недвижимости' 'жилье'\n",
      " 'операции со своей недвижимостью' 'автомобили' 'заняться образованием'\n",
      " 'сделка с подержанным автомобилем' 'получение образования' 'автомобиль'\n",
      " 'свадьба' 'получение дополнительного образования' 'покупка своего жилья'\n",
      " 'операции с недвижимостью' 'получение высшего образования'\n",
      " 'свой автомобиль' 'сделка с автомобилем' 'профильное образование'\n",
      " 'высшее образование' 'покупка жилья для сдачи' 'на покупку автомобиля'\n",
      " 'ремонт жилью' 'заняться высшим образованием']\n"
     ]
    }
   ],
   "source": [
    "print(data['purpose'].unique())# ваш код здесь"
   ]
  },
  {
   "cell_type": "markdown",
   "id": "14b4870e",
   "metadata": {
    "deletable": false,
    "editable": false,
    "id": "85d0aef0",
    "tags": [
     "start_task"
    ]
   },
   "source": [
    "**Задание 18. Создайте функцию, которая на основании данных из столбца `purpose` сформирует новый столбец `purpose_category`, в который войдут следующие категории:**\n",
    "\n",
    "- `'операции с автомобилем'`,\n",
    "- `'операции с недвижимостью'`,\n",
    "- `'проведение свадьбы'`,\n",
    "- `'получение образования'`.\n",
    "\n",
    "**Например, если в столбце `purpose` находится подстрока `'на покупку автомобиля'`, то в столбце `purpose_category` должна появиться строка `'операции с автомобилем'`.**\n",
    "\n",
    "**Используйте собственную функцию с именем `categorize_purpose()` и метод `apply()`. Изучите данные в столбце `purpose` и определите, какие подстроки помогут вам правильно определить категорию.**"
   ]
  },
  {
   "cell_type": "code",
   "execution_count": 45,
   "id": "ff14c6f5",
   "metadata": {
    "id": "e149fab4"
   },
   "outputs": [],
   "source": [
    "def categorize_purpose(purpose):\n",
    "    if 'авто' in purpose:\n",
    "        return 'операции с автомобилем'\n",
    "    if 'образ' in purpose:\n",
    "        return 'получение образования'\n",
    "    if 'свадь' in purpose:\n",
    "        return 'проведение свадьбы'\n",
    "    if 'недвиж' or 'жиль' in purpose:\n",
    "        return 'операции с недвижимостью'"
   ]
  },
  {
   "cell_type": "code",
   "execution_count": 46,
   "id": "66b92add",
   "metadata": {
    "id": "bf36e69b"
   },
   "outputs": [],
   "source": [
    "data['purpose_category'] = data['purpose'].apply(categorize_purpose) # примените функцию методом apply()"
   ]
  },
  {
   "cell_type": "code",
   "execution_count": null,
   "id": "fa36dda0",
   "metadata": {},
   "outputs": [],
   "source": []
  }
 ],
 "metadata": {
  "ExecuteTimeLog": [
   {
    "duration": 44,
    "start_time": "2022-09-10T00:46:50.215Z"
   },
   {
    "duration": 6,
    "start_time": "2022-09-10T00:46:51.980Z"
   },
   {
    "duration": 6,
    "start_time": "2022-09-10T00:46:53.533Z"
   },
   {
    "duration": 6,
    "start_time": "2022-09-10T00:46:59.106Z"
   },
   {
    "duration": 344,
    "start_time": "2022-09-10T00:47:13.171Z"
   },
   {
    "duration": 314,
    "start_time": "2022-09-10T00:47:13.923Z"
   },
   {
    "duration": 9,
    "start_time": "2022-09-10T00:58:29.002Z"
   },
   {
    "duration": 9,
    "start_time": "2022-09-10T00:58:44.969Z"
   },
   {
    "duration": 4,
    "start_time": "2022-09-10T01:04:41.074Z"
   },
   {
    "duration": 3,
    "start_time": "2022-09-10T01:05:36.143Z"
   },
   {
    "duration": 23,
    "start_time": "2022-09-10T01:05:49.801Z"
   },
   {
    "duration": 29,
    "start_time": "2022-09-10T01:06:10.698Z"
   },
   {
    "duration": 10,
    "start_time": "2022-09-10T01:08:25.035Z"
   },
   {
    "duration": 5,
    "start_time": "2022-09-10T01:08:40.272Z"
   },
   {
    "duration": 54,
    "start_time": "2022-09-10T01:09:01.921Z"
   },
   {
    "duration": 5,
    "start_time": "2022-09-10T01:09:05.769Z"
   },
   {
    "duration": 7,
    "start_time": "2022-09-10T01:09:29.409Z"
   },
   {
    "duration": 57,
    "start_time": "2022-09-10T01:10:03.897Z"
   },
   {
    "duration": 5,
    "start_time": "2022-09-10T01:10:34.112Z"
   },
   {
    "duration": 20,
    "start_time": "2022-09-10T01:10:55.912Z"
   },
   {
    "duration": 11,
    "start_time": "2022-09-10T01:11:16.145Z"
   },
   {
    "duration": 11,
    "start_time": "2022-09-10T01:13:37.393Z"
   },
   {
    "duration": 5,
    "start_time": "2022-09-10T01:14:28.233Z"
   },
   {
    "duration": 4,
    "start_time": "2022-09-10T01:14:53.991Z"
   },
   {
    "duration": 8,
    "start_time": "2022-09-10T01:15:47.064Z"
   },
   {
    "duration": 6,
    "start_time": "2022-09-10T01:16:22.045Z"
   },
   {
    "duration": 7,
    "start_time": "2022-09-10T01:25:35.420Z"
   },
   {
    "duration": 7,
    "start_time": "2022-09-10T01:25:43.982Z"
   },
   {
    "duration": 842,
    "start_time": "2022-09-10T01:32:18.062Z"
   },
   {
    "duration": 764,
    "start_time": "2022-09-10T01:35:22.492Z"
   },
   {
    "duration": 4,
    "start_time": "2022-09-10T01:37:09.516Z"
   },
   {
    "duration": 4,
    "start_time": "2022-09-10T01:37:22.670Z"
   },
   {
    "duration": 9,
    "start_time": "2022-09-10T01:37:33.132Z"
   },
   {
    "duration": 52,
    "start_time": "2022-09-10T01:38:01.144Z"
   },
   {
    "duration": 666,
    "start_time": "2022-09-10T01:38:06.437Z"
   },
   {
    "duration": 879,
    "start_time": "2022-09-10T01:38:24.254Z"
   },
   {
    "duration": 683,
    "start_time": "2022-09-10T01:40:41.701Z"
   },
   {
    "duration": 9,
    "start_time": "2022-09-10T01:42:25.436Z"
   },
   {
    "duration": 718,
    "start_time": "2022-09-10T01:42:37.612Z"
   },
   {
    "duration": 5,
    "start_time": "2022-09-10T01:42:45.541Z"
   },
   {
    "duration": 26,
    "start_time": "2022-09-10T01:43:16.692Z"
   },
   {
    "duration": 21,
    "start_time": "2022-09-10T01:44:36.274Z"
   },
   {
    "duration": 21,
    "start_time": "2022-09-10T01:44:53.892Z"
   },
   {
    "duration": 49,
    "start_time": "2022-09-10T01:46:21.233Z"
   },
   {
    "duration": 26,
    "start_time": "2022-09-10T01:46:26.396Z"
   },
   {
    "duration": 28,
    "start_time": "2022-09-10T01:46:46.259Z"
   },
   {
    "duration": 33,
    "start_time": "2022-09-10T01:47:10.683Z"
   },
   {
    "duration": 591,
    "start_time": "2022-09-10T01:48:51.553Z"
   },
   {
    "duration": 29,
    "start_time": "2022-09-10T01:52:05.211Z"
   },
   {
    "duration": 860,
    "start_time": "2022-09-10T01:52:20.450Z"
   },
   {
    "duration": 664,
    "start_time": "2022-09-10T01:52:43.699Z"
   },
   {
    "duration": 690,
    "start_time": "2022-09-10T01:53:04.483Z"
   },
   {
    "duration": 822,
    "start_time": "2022-09-10T01:53:24.243Z"
   },
   {
    "duration": 771,
    "start_time": "2022-09-10T01:53:50.490Z"
   },
   {
    "duration": 803,
    "start_time": "2022-09-10T01:54:01.835Z"
   },
   {
    "duration": 738,
    "start_time": "2022-09-10T01:54:09.075Z"
   },
   {
    "duration": 28,
    "start_time": "2022-09-10T01:54:21.578Z"
   },
   {
    "duration": 22,
    "start_time": "2022-09-10T01:54:55.545Z"
   },
   {
    "duration": 26,
    "start_time": "2022-09-10T01:55:03.193Z"
   },
   {
    "duration": 23,
    "start_time": "2022-09-10T01:55:11.138Z"
   },
   {
    "duration": 26,
    "start_time": "2022-09-10T01:55:58.144Z"
   },
   {
    "duration": 29,
    "start_time": "2022-09-10T01:56:24.426Z"
   },
   {
    "duration": 27,
    "start_time": "2022-09-10T01:56:28.425Z"
   },
   {
    "duration": 31,
    "start_time": "2022-09-10T01:58:49.089Z"
   },
   {
    "duration": 67,
    "start_time": "2022-09-10T01:59:40.232Z"
   },
   {
    "duration": 44,
    "start_time": "2022-09-10T01:59:46.650Z"
   },
   {
    "duration": 51,
    "start_time": "2022-09-10T01:59:52.681Z"
   },
   {
    "duration": 59,
    "start_time": "2022-09-10T02:00:00.657Z"
   },
   {
    "duration": 29,
    "start_time": "2022-09-10T02:00:21.601Z"
   },
   {
    "duration": 52,
    "start_time": "2022-09-10T02:00:53.887Z"
   },
   {
    "duration": 38,
    "start_time": "2022-09-10T02:00:57.475Z"
   },
   {
    "duration": 27,
    "start_time": "2022-09-10T02:04:58.295Z"
   },
   {
    "duration": 32,
    "start_time": "2022-09-10T02:05:09.608Z"
   },
   {
    "duration": 36,
    "start_time": "2022-09-10T02:05:44.937Z"
   },
   {
    "duration": 54,
    "start_time": "2022-09-10T02:05:59.198Z"
   },
   {
    "duration": 43,
    "start_time": "2022-09-10T02:06:15.752Z"
   },
   {
    "duration": 41,
    "start_time": "2022-09-10T02:06:32.865Z"
   },
   {
    "duration": 43,
    "start_time": "2022-09-10T02:06:44.889Z"
   },
   {
    "duration": 40,
    "start_time": "2022-09-10T02:06:55.593Z"
   },
   {
    "duration": 36,
    "start_time": "2022-09-10T02:07:18.632Z"
   },
   {
    "duration": 34,
    "start_time": "2022-09-10T02:07:34.528Z"
   },
   {
    "duration": 35,
    "start_time": "2022-09-10T02:07:51.640Z"
   },
   {
    "duration": 44,
    "start_time": "2022-09-10T02:08:14.799Z"
   },
   {
    "duration": 53,
    "start_time": "2022-09-10T02:08:25.425Z"
   },
   {
    "duration": 55,
    "start_time": "2022-09-10T02:10:03.865Z"
   },
   {
    "duration": 52,
    "start_time": "2022-09-10T02:10:13.153Z"
   },
   {
    "duration": 42,
    "start_time": "2022-09-10T02:10:20.353Z"
   },
   {
    "duration": 44,
    "start_time": "2022-09-10T02:10:32.472Z"
   },
   {
    "duration": 52,
    "start_time": "2022-09-10T02:10:41.016Z"
   },
   {
    "duration": 50,
    "start_time": "2022-09-10T02:10:48.351Z"
   },
   {
    "duration": 47,
    "start_time": "2022-09-10T02:10:54.537Z"
   },
   {
    "duration": 51,
    "start_time": "2022-09-10T02:10:58.360Z"
   },
   {
    "duration": 64,
    "start_time": "2022-09-10T02:11:03.161Z"
   },
   {
    "duration": 41,
    "start_time": "2022-09-10T02:12:07.013Z"
   },
   {
    "duration": 34,
    "start_time": "2022-09-10T02:13:06.184Z"
   },
   {
    "duration": 45,
    "start_time": "2022-09-10T02:15:29.997Z"
   },
   {
    "duration": 39,
    "start_time": "2022-09-10T02:16:19.527Z"
   },
   {
    "duration": 25,
    "start_time": "2022-09-10T02:16:31.118Z"
   },
   {
    "duration": 23,
    "start_time": "2022-09-10T02:16:45.926Z"
   },
   {
    "duration": 113,
    "start_time": "2022-09-10T02:16:59.902Z"
   },
   {
    "duration": 22,
    "start_time": "2022-09-10T02:19:30.917Z"
   },
   {
    "duration": 11,
    "start_time": "2022-09-10T02:19:58.623Z"
   },
   {
    "duration": 34,
    "start_time": "2022-09-10T02:20:05.950Z"
   },
   {
    "duration": 24,
    "start_time": "2022-09-10T02:20:43.199Z"
   },
   {
    "duration": 4,
    "start_time": "2022-09-10T02:21:09.695Z"
   },
   {
    "duration": 21,
    "start_time": "2022-09-10T02:21:18.102Z"
   },
   {
    "duration": 8,
    "start_time": "2022-09-10T02:21:29.382Z"
   },
   {
    "duration": 20,
    "start_time": "2022-09-10T02:21:32.750Z"
   },
   {
    "duration": 361,
    "start_time": "2022-09-10T02:22:02.456Z"
   },
   {
    "duration": 73,
    "start_time": "2022-09-10T02:22:02.821Z"
   },
   {
    "duration": 9,
    "start_time": "2022-09-10T02:22:02.896Z"
   },
   {
    "duration": 24,
    "start_time": "2022-09-10T02:22:02.906Z"
   },
   {
    "duration": 8,
    "start_time": "2022-09-10T02:22:02.932Z"
   },
   {
    "duration": 19,
    "start_time": "2022-09-10T02:22:02.941Z"
   },
   {
    "duration": 2,
    "start_time": "2022-09-10T02:22:02.961Z"
   },
   {
    "duration": 6,
    "start_time": "2022-09-10T02:22:02.964Z"
   },
   {
    "duration": 4,
    "start_time": "2022-09-10T02:22:02.972Z"
   },
   {
    "duration": 14,
    "start_time": "2022-09-10T02:22:02.978Z"
   },
   {
    "duration": 5,
    "start_time": "2022-09-10T02:22:02.994Z"
   },
   {
    "duration": 18,
    "start_time": "2022-09-10T02:22:03.000Z"
   },
   {
    "duration": 7,
    "start_time": "2022-09-10T02:22:03.020Z"
   },
   {
    "duration": 7,
    "start_time": "2022-09-10T02:22:03.030Z"
   },
   {
    "duration": 5,
    "start_time": "2022-09-10T02:22:03.038Z"
   },
   {
    "duration": 9,
    "start_time": "2022-09-10T02:22:03.044Z"
   },
   {
    "duration": 7,
    "start_time": "2022-09-10T02:22:03.055Z"
   },
   {
    "duration": 5,
    "start_time": "2022-09-10T02:22:03.063Z"
   },
   {
    "duration": 12,
    "start_time": "2022-09-10T02:22:03.070Z"
   },
   {
    "duration": 10,
    "start_time": "2022-09-10T02:22:03.084Z"
   },
   {
    "duration": 7,
    "start_time": "2022-09-10T02:22:03.096Z"
   },
   {
    "duration": 6,
    "start_time": "2022-09-10T02:22:03.105Z"
   },
   {
    "duration": 17,
    "start_time": "2022-09-10T02:22:06.231Z"
   },
   {
    "duration": 8,
    "start_time": "2022-09-10T02:22:43.185Z"
   },
   {
    "duration": 17,
    "start_time": "2022-09-10T02:22:46.384Z"
   },
   {
    "duration": 18,
    "start_time": "2022-09-10T02:22:49.032Z"
   },
   {
    "duration": 8,
    "start_time": "2022-09-10T02:22:50.584Z"
   },
   {
    "duration": 18,
    "start_time": "2022-09-10T02:23:06.777Z"
   },
   {
    "duration": 9,
    "start_time": "2022-09-10T02:23:08.712Z"
   },
   {
    "duration": 9,
    "start_time": "2022-09-10T02:23:11.008Z"
   },
   {
    "duration": 29,
    "start_time": "2022-09-10T02:23:47.889Z"
   },
   {
    "duration": 481,
    "start_time": "2022-09-10T02:24:39.800Z"
   },
   {
    "duration": 24,
    "start_time": "2022-09-10T02:24:50.713Z"
   },
   {
    "duration": 26,
    "start_time": "2022-09-10T02:25:14.257Z"
   },
   {
    "duration": 31,
    "start_time": "2022-09-10T02:25:55.912Z"
   },
   {
    "duration": 2,
    "start_time": "2022-09-10T02:26:49.968Z"
   },
   {
    "duration": 69,
    "start_time": "2022-09-10T02:26:50.703Z"
   },
   {
    "duration": 9,
    "start_time": "2022-09-10T02:26:51.911Z"
   },
   {
    "duration": 15,
    "start_time": "2022-09-10T02:26:56.240Z"
   },
   {
    "duration": 8,
    "start_time": "2022-09-10T02:26:59.168Z"
   },
   {
    "duration": 29,
    "start_time": "2022-09-10T02:27:00.671Z"
   },
   {
    "duration": 46,
    "start_time": "2022-09-10T02:28:03.928Z"
   },
   {
    "duration": 62,
    "start_time": "2022-09-10T02:29:02.615Z"
   },
   {
    "duration": 62,
    "start_time": "2022-09-10T02:29:21.264Z"
   },
   {
    "duration": 400,
    "start_time": "2022-09-10T02:30:28.213Z"
   },
   {
    "duration": 72,
    "start_time": "2022-09-10T02:30:28.614Z"
   },
   {
    "duration": 9,
    "start_time": "2022-09-10T02:30:28.688Z"
   },
   {
    "duration": 16,
    "start_time": "2022-09-10T02:30:28.699Z"
   },
   {
    "duration": 8,
    "start_time": "2022-09-10T02:30:28.716Z"
   },
   {
    "duration": 29,
    "start_time": "2022-09-10T02:30:28.726Z"
   },
   {
    "duration": 2,
    "start_time": "2022-09-10T02:30:28.757Z"
   },
   {
    "duration": 9,
    "start_time": "2022-09-10T02:30:28.760Z"
   },
   {
    "duration": 6,
    "start_time": "2022-09-10T02:30:28.770Z"
   },
   {
    "duration": 4,
    "start_time": "2022-09-10T02:30:28.778Z"
   },
   {
    "duration": 5,
    "start_time": "2022-09-10T02:30:28.783Z"
   },
   {
    "duration": 4,
    "start_time": "2022-09-10T02:30:28.789Z"
   },
   {
    "duration": 6,
    "start_time": "2022-09-10T02:30:28.794Z"
   },
   {
    "duration": 20,
    "start_time": "2022-09-10T02:30:28.802Z"
   },
   {
    "duration": 5,
    "start_time": "2022-09-10T02:30:28.823Z"
   },
   {
    "duration": 5,
    "start_time": "2022-09-10T02:30:28.829Z"
   },
   {
    "duration": 5,
    "start_time": "2022-09-10T02:30:28.835Z"
   },
   {
    "duration": 4,
    "start_time": "2022-09-10T02:30:28.842Z"
   },
   {
    "duration": 6,
    "start_time": "2022-09-10T02:30:28.847Z"
   },
   {
    "duration": 6,
    "start_time": "2022-09-10T02:30:28.855Z"
   },
   {
    "duration": 7,
    "start_time": "2022-09-10T02:30:28.864Z"
   },
   {
    "duration": 8,
    "start_time": "2022-09-10T02:30:28.872Z"
   },
   {
    "duration": 42,
    "start_time": "2022-09-10T02:32:05.180Z"
   },
   {
    "duration": 38,
    "start_time": "2022-09-10T02:34:24.772Z"
   },
   {
    "duration": 36,
    "start_time": "2022-09-10T02:35:51.747Z"
   },
   {
    "duration": 37,
    "start_time": "2022-09-10T02:37:27.235Z"
   },
   {
    "duration": 28,
    "start_time": "2022-09-10T02:37:59.492Z"
   },
   {
    "duration": 27,
    "start_time": "2022-09-10T02:38:04.875Z"
   },
   {
    "duration": 728,
    "start_time": "2022-09-10T02:38:27.340Z"
   },
   {
    "duration": 12,
    "start_time": "2022-09-10T02:38:50.195Z"
   },
   {
    "duration": 11,
    "start_time": "2022-09-10T02:38:52.539Z"
   },
   {
    "duration": 11,
    "start_time": "2022-09-10T02:38:59.315Z"
   },
   {
    "duration": 390,
    "start_time": "2022-09-10T02:39:06.106Z"
   },
   {
    "duration": 71,
    "start_time": "2022-09-10T02:39:06.497Z"
   },
   {
    "duration": 9,
    "start_time": "2022-09-10T02:39:06.570Z"
   },
   {
    "duration": 14,
    "start_time": "2022-09-10T02:39:06.581Z"
   },
   {
    "duration": 8,
    "start_time": "2022-09-10T02:39:06.598Z"
   },
   {
    "duration": 32,
    "start_time": "2022-09-10T02:39:06.622Z"
   },
   {
    "duration": 2,
    "start_time": "2022-09-10T02:39:06.656Z"
   },
   {
    "duration": 3,
    "start_time": "2022-09-10T02:39:06.660Z"
   },
   {
    "duration": 4,
    "start_time": "2022-09-10T02:39:06.665Z"
   },
   {
    "duration": 4,
    "start_time": "2022-09-10T02:39:06.671Z"
   },
   {
    "duration": 4,
    "start_time": "2022-09-10T02:39:06.677Z"
   },
   {
    "duration": 5,
    "start_time": "2022-09-10T02:39:06.682Z"
   },
   {
    "duration": 7,
    "start_time": "2022-09-10T02:39:06.688Z"
   },
   {
    "duration": 4,
    "start_time": "2022-09-10T02:39:06.697Z"
   },
   {
    "duration": 2,
    "start_time": "2022-09-10T02:39:06.722Z"
   },
   {
    "duration": 7,
    "start_time": "2022-09-10T02:39:06.725Z"
   },
   {
    "duration": 7,
    "start_time": "2022-09-10T02:39:06.733Z"
   },
   {
    "duration": 5,
    "start_time": "2022-09-10T02:39:06.741Z"
   },
   {
    "duration": 5,
    "start_time": "2022-09-10T02:39:06.748Z"
   },
   {
    "duration": 5,
    "start_time": "2022-09-10T02:39:06.754Z"
   },
   {
    "duration": 6,
    "start_time": "2022-09-10T02:39:06.760Z"
   },
   {
    "duration": 6,
    "start_time": "2022-09-10T02:39:06.767Z"
   },
   {
    "duration": 26,
    "start_time": "2022-09-10T02:39:09.859Z"
   },
   {
    "duration": 27,
    "start_time": "2022-09-10T02:39:32.451Z"
   },
   {
    "duration": 29,
    "start_time": "2022-09-10T02:39:39.458Z"
   },
   {
    "duration": 27,
    "start_time": "2022-09-10T02:39:47.595Z"
   },
   {
    "duration": 27,
    "start_time": "2022-09-10T02:40:10.035Z"
   },
   {
    "duration": 67,
    "start_time": "2022-09-10T02:40:23.611Z"
   },
   {
    "duration": 22,
    "start_time": "2022-09-10T02:40:51.499Z"
   },
   {
    "duration": 21,
    "start_time": "2022-09-10T02:40:54.644Z"
   },
   {
    "duration": 33,
    "start_time": "2022-09-10T02:41:11.019Z"
   },
   {
    "duration": 35,
    "start_time": "2022-09-10T02:41:33.851Z"
   },
   {
    "duration": 56,
    "start_time": "2022-09-10T02:41:49.899Z"
   },
   {
    "duration": 34,
    "start_time": "2022-09-10T02:42:02.444Z"
   },
   {
    "duration": 34,
    "start_time": "2022-09-10T02:42:15.309Z"
   },
   {
    "duration": 30,
    "start_time": "2022-09-10T02:42:41.330Z"
   },
   {
    "duration": 33,
    "start_time": "2022-09-10T02:42:51.522Z"
   },
   {
    "duration": 33,
    "start_time": "2022-09-10T02:43:32.146Z"
   },
   {
    "duration": 44,
    "start_time": "2022-09-10T02:44:05.888Z"
   },
   {
    "duration": 36,
    "start_time": "2022-09-10T02:44:35.139Z"
   },
   {
    "duration": 400,
    "start_time": "2022-09-10T02:44:46.792Z"
   },
   {
    "duration": 72,
    "start_time": "2022-09-10T02:44:47.194Z"
   },
   {
    "duration": 10,
    "start_time": "2022-09-10T02:44:47.268Z"
   },
   {
    "duration": 36,
    "start_time": "2022-09-10T02:44:47.279Z"
   },
   {
    "duration": 21,
    "start_time": "2022-09-10T02:44:47.317Z"
   },
   {
    "duration": 45,
    "start_time": "2022-09-10T02:44:47.340Z"
   },
   {
    "duration": 3,
    "start_time": "2022-09-10T02:44:47.386Z"
   },
   {
    "duration": 20,
    "start_time": "2022-09-10T02:44:47.390Z"
   },
   {
    "duration": 10,
    "start_time": "2022-09-10T02:44:47.412Z"
   },
   {
    "duration": 12,
    "start_time": "2022-09-10T02:44:47.424Z"
   },
   {
    "duration": 28,
    "start_time": "2022-09-10T02:44:47.438Z"
   },
   {
    "duration": 36,
    "start_time": "2022-09-10T02:44:47.468Z"
   },
   {
    "duration": 21,
    "start_time": "2022-09-10T02:44:47.506Z"
   },
   {
    "duration": 9,
    "start_time": "2022-09-10T02:44:47.530Z"
   },
   {
    "duration": 7,
    "start_time": "2022-09-10T02:44:47.541Z"
   },
   {
    "duration": 5,
    "start_time": "2022-09-10T02:44:47.550Z"
   },
   {
    "duration": 13,
    "start_time": "2022-09-10T02:44:47.556Z"
   },
   {
    "duration": 7,
    "start_time": "2022-09-10T02:44:47.570Z"
   },
   {
    "duration": 7,
    "start_time": "2022-09-10T02:44:47.578Z"
   },
   {
    "duration": 10,
    "start_time": "2022-09-10T02:44:47.587Z"
   },
   {
    "duration": 10,
    "start_time": "2022-09-10T02:44:47.598Z"
   },
   {
    "duration": 8,
    "start_time": "2022-09-10T02:44:47.609Z"
   },
   {
    "duration": 39,
    "start_time": "2022-09-10T02:44:53.245Z"
   },
   {
    "duration": 952,
    "start_time": "2022-09-10T02:45:15.990Z"
   },
   {
    "duration": 12,
    "start_time": "2022-09-10T02:45:32.134Z"
   },
   {
    "duration": 427,
    "start_time": "2022-09-10T02:45:39.818Z"
   },
   {
    "duration": 76,
    "start_time": "2022-09-10T02:45:40.246Z"
   },
   {
    "duration": 10,
    "start_time": "2022-09-10T02:45:40.324Z"
   },
   {
    "duration": 18,
    "start_time": "2022-09-10T02:45:40.337Z"
   },
   {
    "duration": 9,
    "start_time": "2022-09-10T02:45:40.356Z"
   },
   {
    "duration": 67,
    "start_time": "2022-09-10T02:45:40.367Z"
   },
   {
    "duration": 2,
    "start_time": "2022-09-10T02:45:40.436Z"
   },
   {
    "duration": 7,
    "start_time": "2022-09-10T02:45:40.440Z"
   },
   {
    "duration": 6,
    "start_time": "2022-09-10T02:45:40.448Z"
   },
   {
    "duration": 5,
    "start_time": "2022-09-10T02:45:40.456Z"
   },
   {
    "duration": 6,
    "start_time": "2022-09-10T02:45:40.462Z"
   },
   {
    "duration": 5,
    "start_time": "2022-09-10T02:45:40.469Z"
   },
   {
    "duration": 5,
    "start_time": "2022-09-10T02:45:40.476Z"
   },
   {
    "duration": 5,
    "start_time": "2022-09-10T02:45:40.483Z"
   },
   {
    "duration": 6,
    "start_time": "2022-09-10T02:45:40.489Z"
   },
   {
    "duration": 5,
    "start_time": "2022-09-10T02:45:40.496Z"
   },
   {
    "duration": 22,
    "start_time": "2022-09-10T02:45:40.503Z"
   },
   {
    "duration": 4,
    "start_time": "2022-09-10T02:45:40.526Z"
   },
   {
    "duration": 6,
    "start_time": "2022-09-10T02:45:40.531Z"
   },
   {
    "duration": 4,
    "start_time": "2022-09-10T02:45:40.539Z"
   },
   {
    "duration": 5,
    "start_time": "2022-09-10T02:45:40.545Z"
   },
   {
    "duration": 5,
    "start_time": "2022-09-10T02:45:40.551Z"
   },
   {
    "duration": 962,
    "start_time": "2022-09-10T02:47:08.498Z"
   },
   {
    "duration": 1064,
    "start_time": "2022-09-10T02:47:21.346Z"
   },
   {
    "duration": 409,
    "start_time": "2022-09-10T02:47:27.400Z"
   },
   {
    "duration": 71,
    "start_time": "2022-09-10T02:47:27.811Z"
   },
   {
    "duration": 9,
    "start_time": "2022-09-10T02:47:27.883Z"
   },
   {
    "duration": 19,
    "start_time": "2022-09-10T02:47:27.894Z"
   },
   {
    "duration": 8,
    "start_time": "2022-09-10T02:47:27.915Z"
   },
   {
    "duration": 41,
    "start_time": "2022-09-10T02:47:27.924Z"
   },
   {
    "duration": 2,
    "start_time": "2022-09-10T02:47:27.966Z"
   },
   {
    "duration": 5,
    "start_time": "2022-09-10T02:47:27.969Z"
   },
   {
    "duration": 4,
    "start_time": "2022-09-10T02:47:27.976Z"
   },
   {
    "duration": 5,
    "start_time": "2022-09-10T02:47:27.982Z"
   },
   {
    "duration": 7,
    "start_time": "2022-09-10T02:47:27.988Z"
   },
   {
    "duration": 5,
    "start_time": "2022-09-10T02:47:27.996Z"
   },
   {
    "duration": 5,
    "start_time": "2022-09-10T02:47:28.022Z"
   },
   {
    "duration": 7,
    "start_time": "2022-09-10T02:47:28.029Z"
   },
   {
    "duration": 5,
    "start_time": "2022-09-10T02:47:28.038Z"
   },
   {
    "duration": 5,
    "start_time": "2022-09-10T02:47:28.044Z"
   },
   {
    "duration": 5,
    "start_time": "2022-09-10T02:47:28.050Z"
   },
   {
    "duration": 5,
    "start_time": "2022-09-10T02:47:28.057Z"
   },
   {
    "duration": 3,
    "start_time": "2022-09-10T02:47:28.064Z"
   },
   {
    "duration": 4,
    "start_time": "2022-09-10T02:47:28.069Z"
   },
   {
    "duration": 6,
    "start_time": "2022-09-10T02:47:28.074Z"
   },
   {
    "duration": 5,
    "start_time": "2022-09-10T02:47:28.081Z"
   },
   {
    "duration": 37,
    "start_time": "2022-09-10T02:47:31.118Z"
   },
   {
    "duration": 409,
    "start_time": "2022-09-10T02:47:50.307Z"
   },
   {
    "duration": 73,
    "start_time": "2022-09-10T02:47:50.718Z"
   },
   {
    "duration": 9,
    "start_time": "2022-09-10T02:47:50.796Z"
   },
   {
    "duration": 16,
    "start_time": "2022-09-10T02:47:50.806Z"
   },
   {
    "duration": 7,
    "start_time": "2022-09-10T02:47:50.824Z"
   },
   {
    "duration": 35,
    "start_time": "2022-09-10T02:47:50.833Z"
   },
   {
    "duration": 3,
    "start_time": "2022-09-10T02:47:50.869Z"
   },
   {
    "duration": 5,
    "start_time": "2022-09-10T02:47:50.873Z"
   },
   {
    "duration": 4,
    "start_time": "2022-09-10T02:47:50.880Z"
   },
   {
    "duration": 7,
    "start_time": "2022-09-10T02:47:50.886Z"
   },
   {
    "duration": 27,
    "start_time": "2022-09-10T02:47:50.895Z"
   },
   {
    "duration": 2,
    "start_time": "2022-09-10T02:47:50.924Z"
   },
   {
    "duration": 5,
    "start_time": "2022-09-10T02:47:50.927Z"
   },
   {
    "duration": 5,
    "start_time": "2022-09-10T02:47:50.933Z"
   },
   {
    "duration": 5,
    "start_time": "2022-09-10T02:47:50.940Z"
   },
   {
    "duration": 6,
    "start_time": "2022-09-10T02:47:50.946Z"
   },
   {
    "duration": 6,
    "start_time": "2022-09-10T02:47:50.954Z"
   },
   {
    "duration": 5,
    "start_time": "2022-09-10T02:47:50.961Z"
   },
   {
    "duration": 5,
    "start_time": "2022-09-10T02:47:50.968Z"
   },
   {
    "duration": 4,
    "start_time": "2022-09-10T02:47:50.975Z"
   },
   {
    "duration": 5,
    "start_time": "2022-09-10T02:47:50.980Z"
   },
   {
    "duration": 6,
    "start_time": "2022-09-10T02:47:50.986Z"
   },
   {
    "duration": 39,
    "start_time": "2022-09-10T02:47:54.289Z"
   },
   {
    "duration": 33,
    "start_time": "2022-09-10T02:52:18.113Z"
   },
   {
    "duration": 36,
    "start_time": "2022-09-10T02:56:48.144Z"
   },
   {
    "duration": 3,
    "start_time": "2022-09-10T02:56:57.344Z"
   },
   {
    "duration": 67,
    "start_time": "2022-09-10T02:56:57.623Z"
   },
   {
    "duration": 8,
    "start_time": "2022-09-10T02:56:57.920Z"
   },
   {
    "duration": 14,
    "start_time": "2022-09-10T02:56:59.016Z"
   },
   {
    "duration": 8,
    "start_time": "2022-09-10T02:57:00.736Z"
   },
   {
    "duration": 36,
    "start_time": "2022-09-10T02:57:02.193Z"
   },
   {
    "duration": 413,
    "start_time": "2022-09-10T12:58:29.307Z"
   },
   {
    "duration": 473,
    "start_time": "2022-09-10T12:58:29.722Z"
   },
   {
    "duration": 9,
    "start_time": "2022-09-10T12:58:30.578Z"
   },
   {
    "duration": 14,
    "start_time": "2022-09-10T12:58:32.522Z"
   },
   {
    "duration": 8,
    "start_time": "2022-09-10T12:58:34.626Z"
   },
   {
    "duration": 48,
    "start_time": "2022-09-10T12:58:49.139Z"
   },
   {
    "duration": 56,
    "start_time": "2022-09-10T12:59:00.994Z"
   },
   {
    "duration": 32,
    "start_time": "2022-09-10T12:59:16.034Z"
   },
   {
    "duration": 1255,
    "start_time": "2022-09-10T12:59:54.523Z"
   },
   {
    "duration": 866,
    "start_time": "2022-09-10T13:14:52.800Z"
   },
   {
    "duration": 2,
    "start_time": "2022-09-10T13:14:57.390Z"
   },
   {
    "duration": 70,
    "start_time": "2022-09-10T13:14:57.565Z"
   },
   {
    "duration": 8,
    "start_time": "2022-09-10T13:14:58.902Z"
   },
   {
    "duration": 14,
    "start_time": "2022-09-10T13:15:01.022Z"
   },
   {
    "duration": 10,
    "start_time": "2022-09-10T13:15:03.934Z"
   },
   {
    "duration": 37,
    "start_time": "2022-09-10T13:15:06.278Z"
   },
   {
    "duration": 33,
    "start_time": "2022-09-10T13:33:12.321Z"
   },
   {
    "duration": 37,
    "start_time": "2022-09-10T13:33:15.147Z"
   },
   {
    "duration": 29,
    "start_time": "2022-09-10T13:54:38.811Z"
   },
   {
    "duration": 31,
    "start_time": "2022-09-10T13:56:42.171Z"
   },
   {
    "duration": 29,
    "start_time": "2022-09-10T13:56:48.770Z"
   },
   {
    "duration": 29,
    "start_time": "2022-09-10T13:59:18.794Z"
   },
   {
    "duration": 370,
    "start_time": "2022-09-10T13:59:28.259Z"
   },
   {
    "duration": 72,
    "start_time": "2022-09-10T13:59:28.631Z"
   },
   {
    "duration": 9,
    "start_time": "2022-09-10T13:59:28.705Z"
   },
   {
    "duration": 14,
    "start_time": "2022-09-10T13:59:28.716Z"
   },
   {
    "duration": 9,
    "start_time": "2022-09-10T13:59:28.731Z"
   },
   {
    "duration": 38,
    "start_time": "2022-09-10T13:59:28.741Z"
   },
   {
    "duration": 2,
    "start_time": "2022-09-10T13:59:28.781Z"
   },
   {
    "duration": 6,
    "start_time": "2022-09-10T13:59:28.784Z"
   },
   {
    "duration": 8,
    "start_time": "2022-09-10T13:59:28.791Z"
   },
   {
    "duration": 6,
    "start_time": "2022-09-10T13:59:28.801Z"
   },
   {
    "duration": 12,
    "start_time": "2022-09-10T13:59:28.809Z"
   },
   {
    "duration": 5,
    "start_time": "2022-09-10T13:59:28.822Z"
   },
   {
    "duration": 8,
    "start_time": "2022-09-10T13:59:28.829Z"
   },
   {
    "duration": 5,
    "start_time": "2022-09-10T13:59:28.839Z"
   },
   {
    "duration": 11,
    "start_time": "2022-09-10T13:59:28.846Z"
   },
   {
    "duration": 5,
    "start_time": "2022-09-10T13:59:28.859Z"
   },
   {
    "duration": 6,
    "start_time": "2022-09-10T13:59:28.866Z"
   },
   {
    "duration": 7,
    "start_time": "2022-09-10T13:59:28.874Z"
   },
   {
    "duration": 5,
    "start_time": "2022-09-10T13:59:28.883Z"
   },
   {
    "duration": 7,
    "start_time": "2022-09-10T13:59:28.889Z"
   },
   {
    "duration": 9,
    "start_time": "2022-09-10T13:59:28.898Z"
   },
   {
    "duration": 7,
    "start_time": "2022-09-10T13:59:28.908Z"
   },
   {
    "duration": 29,
    "start_time": "2022-09-10T13:59:46.402Z"
   },
   {
    "duration": 37,
    "start_time": "2022-09-10T14:07:31.384Z"
   },
   {
    "duration": 395,
    "start_time": "2022-09-10T14:07:37.826Z"
   },
   {
    "duration": 71,
    "start_time": "2022-09-10T14:07:38.223Z"
   },
   {
    "duration": 9,
    "start_time": "2022-09-10T14:07:38.296Z"
   },
   {
    "duration": 32,
    "start_time": "2022-09-10T14:07:38.307Z"
   },
   {
    "duration": 15,
    "start_time": "2022-09-10T14:07:38.341Z"
   },
   {
    "duration": 54,
    "start_time": "2022-09-10T14:07:38.358Z"
   },
   {
    "duration": 3,
    "start_time": "2022-09-10T14:07:38.414Z"
   },
   {
    "duration": 13,
    "start_time": "2022-09-10T14:07:38.418Z"
   },
   {
    "duration": 18,
    "start_time": "2022-09-10T14:07:38.432Z"
   },
   {
    "duration": 16,
    "start_time": "2022-09-10T14:07:38.452Z"
   },
   {
    "duration": 12,
    "start_time": "2022-09-10T14:07:38.469Z"
   },
   {
    "duration": 12,
    "start_time": "2022-09-10T14:07:38.483Z"
   },
   {
    "duration": 14,
    "start_time": "2022-09-10T14:07:38.497Z"
   },
   {
    "duration": 6,
    "start_time": "2022-09-10T14:07:38.513Z"
   },
   {
    "duration": 13,
    "start_time": "2022-09-10T14:07:38.521Z"
   },
   {
    "duration": 7,
    "start_time": "2022-09-10T14:07:38.536Z"
   },
   {
    "duration": 22,
    "start_time": "2022-09-10T14:07:38.545Z"
   },
   {
    "duration": 10,
    "start_time": "2022-09-10T14:07:38.568Z"
   },
   {
    "duration": 15,
    "start_time": "2022-09-10T14:07:38.580Z"
   },
   {
    "duration": 33,
    "start_time": "2022-09-10T14:07:38.597Z"
   },
   {
    "duration": 18,
    "start_time": "2022-09-10T14:07:38.631Z"
   },
   {
    "duration": 13,
    "start_time": "2022-09-10T14:07:38.650Z"
   },
   {
    "duration": 37,
    "start_time": "2022-09-10T14:07:49.807Z"
   },
   {
    "duration": 3,
    "start_time": "2022-09-10T14:17:53.283Z"
   },
   {
    "duration": 7,
    "start_time": "2022-09-10T14:18:46.884Z"
   },
   {
    "duration": 6,
    "start_time": "2022-09-10T14:18:59.172Z"
   },
   {
    "duration": 3,
    "start_time": "2022-09-10T14:27:56.930Z"
   },
   {
    "duration": 7,
    "start_time": "2022-09-10T14:38:44.454Z"
   },
   {
    "duration": 5,
    "start_time": "2022-09-10T14:38:54.686Z"
   },
   {
    "duration": 4,
    "start_time": "2022-09-10T14:39:00.398Z"
   },
   {
    "duration": 470,
    "start_time": "2022-09-10T14:39:09.934Z"
   },
   {
    "duration": 74,
    "start_time": "2022-09-10T14:39:10.407Z"
   },
   {
    "duration": 11,
    "start_time": "2022-09-10T14:39:10.483Z"
   },
   {
    "duration": 19,
    "start_time": "2022-09-10T14:39:10.495Z"
   },
   {
    "duration": 23,
    "start_time": "2022-09-10T14:39:10.517Z"
   },
   {
    "duration": 34,
    "start_time": "2022-09-10T14:39:10.542Z"
   },
   {
    "duration": 4,
    "start_time": "2022-09-10T14:39:10.577Z"
   },
   {
    "duration": 12,
    "start_time": "2022-09-10T14:39:10.582Z"
   },
   {
    "duration": 4,
    "start_time": "2022-09-10T14:39:10.596Z"
   },
   {
    "duration": 11,
    "start_time": "2022-09-10T14:39:10.602Z"
   },
   {
    "duration": 3,
    "start_time": "2022-09-10T14:39:10.637Z"
   },
   {
    "duration": 5,
    "start_time": "2022-09-10T14:39:10.642Z"
   },
   {
    "duration": 6,
    "start_time": "2022-09-10T14:39:10.648Z"
   },
   {
    "duration": 5,
    "start_time": "2022-09-10T14:39:10.657Z"
   },
   {
    "duration": 6,
    "start_time": "2022-09-10T14:39:10.664Z"
   },
   {
    "duration": 7,
    "start_time": "2022-09-10T14:39:10.671Z"
   },
   {
    "duration": 11,
    "start_time": "2022-09-10T14:39:10.680Z"
   },
   {
    "duration": 8,
    "start_time": "2022-09-10T14:39:10.692Z"
   },
   {
    "duration": 8,
    "start_time": "2022-09-10T14:39:10.702Z"
   },
   {
    "duration": 9,
    "start_time": "2022-09-10T14:39:10.711Z"
   },
   {
    "duration": 7,
    "start_time": "2022-09-10T14:39:10.721Z"
   },
   {
    "duration": 7,
    "start_time": "2022-09-10T14:39:10.729Z"
   },
   {
    "duration": 33,
    "start_time": "2022-09-10T14:43:00.406Z"
   },
   {
    "duration": 31,
    "start_time": "2022-09-10T14:43:29.475Z"
   },
   {
    "duration": 9,
    "start_time": "2022-09-10T14:43:52.623Z"
   },
   {
    "duration": 59,
    "start_time": "2022-09-10T14:45:04.717Z"
   },
   {
    "duration": 19,
    "start_time": "2022-09-10T14:45:43.255Z"
   },
   {
    "duration": 3,
    "start_time": "2022-09-10T14:47:56.428Z"
   },
   {
    "duration": 7,
    "start_time": "2022-09-10T14:49:15.464Z"
   },
   {
    "duration": 6,
    "start_time": "2022-09-10T14:49:33.859Z"
   },
   {
    "duration": 14,
    "start_time": "2022-09-10T14:50:32.406Z"
   },
   {
    "duration": 16,
    "start_time": "2022-09-10T14:50:35.884Z"
   },
   {
    "duration": 19,
    "start_time": "2022-09-10T14:50:41.379Z"
   },
   {
    "duration": 11,
    "start_time": "2022-09-10T14:50:52.323Z"
   },
   {
    "duration": 10,
    "start_time": "2022-09-10T14:51:40.760Z"
   },
   {
    "duration": 6,
    "start_time": "2022-09-10T14:51:55.663Z"
   },
   {
    "duration": 7,
    "start_time": "2022-09-10T14:52:13.055Z"
   },
   {
    "duration": 10,
    "start_time": "2022-09-10T14:52:31.310Z"
   },
   {
    "duration": 5,
    "start_time": "2022-09-10T14:52:42.013Z"
   },
   {
    "duration": 89,
    "start_time": "2022-09-10T15:11:13.228Z"
   },
   {
    "duration": 45,
    "start_time": "2022-09-10T15:11:36.577Z"
   },
   {
    "duration": 10,
    "start_time": "2022-09-10T15:11:58.932Z"
   },
   {
    "duration": 7,
    "start_time": "2022-09-10T15:23:39.280Z"
   },
   {
    "duration": 5,
    "start_time": "2022-09-10T15:23:46.876Z"
   },
   {
    "duration": 4,
    "start_time": "2022-09-10T15:40:38.624Z"
   },
   {
    "duration": 7,
    "start_time": "2022-09-10T15:40:39.285Z"
   }
  ],
  "colab": {
   "name": "dpp_template_part1.ipynb",
   "provenance": []
  },
  "kernelspec": {
   "display_name": "Python 3 (ipykernel)",
   "language": "python",
   "name": "python3"
  },
  "language_info": {
   "codemirror_mode": {
    "name": "ipython",
    "version": 3
   },
   "file_extension": ".py",
   "mimetype": "text/x-python",
   "name": "python",
   "nbconvert_exporter": "python",
   "pygments_lexer": "ipython3",
   "version": "3.9.5"
  },
  "toc": {
   "base_numbering": 1,
   "nav_menu": {},
   "number_sections": true,
   "sideBar": true,
   "skip_h1_title": true,
   "title_cell": "Table of Contents",
   "title_sidebar": "Contents",
   "toc_cell": false,
   "toc_position": {},
   "toc_section_display": true,
   "toc_window_display": false
  }
 },
 "nbformat": 4,
 "nbformat_minor": 5
}
