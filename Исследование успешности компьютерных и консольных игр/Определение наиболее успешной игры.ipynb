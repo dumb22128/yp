{
  "cells": [
    {
      "cell_type": "markdown",
      "metadata": {
        "id": "JfH0r_vV1_QE"
      },
      "source": [
        "## Откройте файл с данными и изучите общую информацию"
      ]
    },
    {
      "cell_type": "markdown",
      "metadata": {
        "id": "w67gZUt71_QF"
      },
      "source": [
        "### Описание проекта"
      ]
    },
    {
      "cell_type": "markdown",
      "metadata": {
        "id": "QBhif3dh1_QF"
      },
      "source": [
        "Вы работаете в интернет-магазине «Стримчик», который продаёт по всему миру компьютерные игры. Из открытых источников доступны исторические данные о продажах игр, оценки пользователей и экспертов, жанры и платформы (например, Xbox или PlayStation). Вам нужно выявить определяющие успешность игры закономерности. Это позволит сделать ставку на потенциально популярный продукт и спланировать рекламные кампании.\n",
        "\n",
        "Перед вами данные до 2016 года. Представим, что сейчас декабрь 2016 г., и вы планируете кампанию на 2017-й. Нужно отработать принцип работы с данными. Неважно, прогнозируете ли вы продажи на 2017 год по данным 2016-го или же 2027-й — по данным 2026 года.\n",
        "\n",
        "Принципиальные шаги для работы с данными проектом:\n",
        "- Шаг 1. Откройте файл с данными и изучите общую информацию\n",
        "- Шаг 2. Подготовьте данные\n",
        "- Шаг 3. Проведите исследовательский анализ данных\n",
        "- Шаг 4. Составьте портрет пользователя каждого региона\n",
        "- Шаг 5. Проверьте гипотезы\n",
        "- Шаг 6. Напишите общий вывод"
      ]
    },
    {
      "cell_type": "markdown",
      "metadata": {
        "id": "WFwM46K91_QG"
      },
      "source": [
        "### Знакомство с данными"
      ]
    },
    {
      "cell_type": "markdown",
      "metadata": {
        "id": "Yw4aspMR1_QG"
      },
      "source": [
        "В первую очередь необходимо добавить библиотеки, с которыми мы работали в этом учебном модуле:"
      ]
    },
    {
      "cell_type": "code",
      "execution_count": null,
      "metadata": {
        "id": "JlWe2fR51_QG"
      },
      "outputs": [],
      "source": [
        "import pandas as pd\n",
        "import seaborn\n",
        "import numpy as np\n",
        "import matplotlib.pyplot as plt\n",
        "import math\n",
        "from scipy import stats as st"
      ]
    },
    {
      "cell_type": "markdown",
      "metadata": {
        "id": "HJ-jkIIK1_QH"
      },
      "source": [
        "Запишем датасет в переменную и изучим ее:"
      ]
    },
    {
      "cell_type": "code",
      "execution_count": null,
      "metadata": {
        "id": "x1MiH1fi1_QH",
        "outputId": "114c24cb-cf00-42bf-a407-e5359e81f8c7"
      },
      "outputs": [
        {
          "name": "stdout",
          "output_type": "stream",
          "text": [
            "<class 'pandas.core.frame.DataFrame'>\n",
            "RangeIndex: 16715 entries, 0 to 16714\n",
            "Data columns (total 11 columns):\n",
            " #   Column           Non-Null Count  Dtype  \n",
            "---  ------           --------------  -----  \n",
            " 0   Name             16713 non-null  object \n",
            " 1   Platform         16715 non-null  object \n",
            " 2   Year_of_Release  16446 non-null  float64\n",
            " 3   Genre            16713 non-null  object \n",
            " 4   NA_sales         16715 non-null  float64\n",
            " 5   EU_sales         16715 non-null  float64\n",
            " 6   JP_sales         16715 non-null  float64\n",
            " 7   Other_sales      16715 non-null  float64\n",
            " 8   Critic_Score     8137 non-null   float64\n",
            " 9   User_Score       10014 non-null  object \n",
            " 10  Rating           9949 non-null   object \n",
            "dtypes: float64(6), object(5)\n",
            "memory usage: 1.4+ MB\n"
          ]
        }
      ],
      "source": [
        "data = pd.read_csv('/datasets/games.csv')\n",
        "data.info()"
      ]
    },
    {
      "cell_type": "markdown",
      "metadata": {
        "id": "qqipvgdA1_QI"
      },
      "source": [
        "11 столбцов отборных данных для меня и моего сына. Как мы видим названия столбцов - не по ГОСТу, обработаем в следующем разделе. Также ситуация неприятная с пропусками в последних трех столбцах их почти половина, посмотрим, что сможем сделать с ними. User_Score и Rating - речь скорее всего идет о числовых значениях - но записаны, как символьные, тоже обратим внимание."
      ]
    },
    {
      "cell_type": "markdown",
      "metadata": {
        "id": "XJKAn7Vp1_QI"
      },
      "source": [
        "## Подготовьте данные"
      ]
    },
    {
      "cell_type": "markdown",
      "metadata": {
        "id": "1xjG09PV1_QI"
      },
      "source": [
        "### Заменим названия столбцов (приведем к нижнему регистру)"
      ]
    },
    {
      "cell_type": "markdown",
      "metadata": {
        "id": "ls9nQHTC1_QI"
      },
      "source": [
        "Приведем к нижнему регистру с помощью строчного метода **lower()**!"
      ]
    },
    {
      "cell_type": "code",
      "execution_count": null,
      "metadata": {
        "id": "o2RVfNBP1_QI"
      },
      "outputs": [],
      "source": [
        "data.columns = data.columns.str.lower()\n",
        "#data.info()"
      ]
    },
    {
      "cell_type": "markdown",
      "metadata": {
        "id": "qgczDd3F1_QI"
      },
      "source": [
        "### Преобразуем данные в нужные типы. Опишем, в каких столбцах заменили тип данных и почему"
      ]
    },
    {
      "cell_type": "code",
      "execution_count": null,
      "metadata": {
        "id": "LcXcudCR1_QJ",
        "outputId": "ab957f0a-89e0-429c-90c7-17b31563b887"
      },
      "outputs": [
        {
          "name": "stdout",
          "output_type": "stream",
          "text": [
            "<class 'pandas.core.frame.DataFrame'>\n",
            "RangeIndex: 16715 entries, 0 to 16714\n",
            "Data columns (total 11 columns):\n",
            " #   Column           Non-Null Count  Dtype  \n",
            "---  ------           --------------  -----  \n",
            " 0   name             16713 non-null  object \n",
            " 1   platform         16715 non-null  object \n",
            " 2   year_of_release  16446 non-null  float64\n",
            " 3   genre            16713 non-null  object \n",
            " 4   na_sales         16715 non-null  float64\n",
            " 5   eu_sales         16715 non-null  float64\n",
            " 6   jp_sales         16715 non-null  float64\n",
            " 7   other_sales      16715 non-null  float64\n",
            " 8   critic_score     8137 non-null   float64\n",
            " 9   user_score       10014 non-null  object \n",
            " 10  rating           9949 non-null   object \n",
            "dtypes: float64(6), object(5)\n",
            "memory usage: 1.4+ MB\n"
          ]
        }
      ],
      "source": [
        "data.info()"
      ]
    },
    {
      "cell_type": "markdown",
      "metadata": {
        "id": "UvMtp32Q1_QJ"
      },
      "source": [
        "Как я писал выше, user_score и rating - речь скорее всего идет о числовых значениях - но записаны, как символьные. Также обратим внимание на столбец year_of_release - вряд ли год - число не целое."
      ]
    },
    {
      "cell_type": "code",
      "execution_count": null,
      "metadata": {
        "id": "JJeIa5At1_QJ"
      },
      "outputs": [],
      "source": [
        "data['year_of_release'] = data['year_of_release'].astype('Int64')\n",
        "# data['user_score'] = data['user_score'].astype('float64')\n",
        "# data['rating'] = data['rating'].astype('float64')\n",
        "# data['rating'].unique()"
      ]
    },
    {
      "cell_type": "markdown",
      "metadata": {
        "id": "MEJOvuAn1_QJ"
      },
      "source": [
        "При выполнении кода выше, выяснилось, что столбец user_score заполнен помимо чисел и нанов еще и строчным значением 'tbd'. Надо обработать, чтобы привести к нормальному типу данных. Аббревиатура tbd значит to be determined - значит, предстоит определить, логично пока что заполнить Nan-type. Также в rating обнаружена строка Е. Да и в целом рейтинг записан в какой-то странной системе исчисления, потому что я плохо прочитал постановку задачи. Это рейтинг какой-то ассоциации, который присваивает еще и возрастной рейтинг, поэтому приводить к float не будем."
      ]
    },
    {
      "cell_type": "code",
      "execution_count": null,
      "metadata": {
        "id": "hdt4LPu71_QJ"
      },
      "outputs": [],
      "source": [
        "data['user_score'] = data['user_score'].replace('tbd', np.nan)\n",
        "data['user_score'] = data['user_score'].astype('float')"
      ]
    },
    {
      "cell_type": "markdown",
      "metadata": {
        "id": "kO8zRwmO1_QK"
      },
      "source": [
        "### Обработаем пропуски при необходимости"
      ]
    },
    {
      "cell_type": "markdown",
      "metadata": {
        "id": "xOcpHOu61_QK"
      },
      "source": [
        "Изучим количество и нахождение пропусков в датасете."
      ]
    },
    {
      "cell_type": "code",
      "execution_count": null,
      "metadata": {
        "id": "M5yX0CTM1_QK",
        "outputId": "cdae0903-eb47-44ce-a1ea-6e3177c96092"
      },
      "outputs": [
        {
          "data": {
            "text/plain": [
              "name                  2\n",
              "platform              0\n",
              "year_of_release     269\n",
              "genre                 2\n",
              "na_sales              0\n",
              "eu_sales              0\n",
              "jp_sales              0\n",
              "other_sales           0\n",
              "critic_score       8578\n",
              "user_score         9125\n",
              "rating             6766\n",
              "dtype: int64"
            ]
          },
          "execution_count": 7,
          "metadata": {},
          "output_type": "execute_result"
        }
      ],
      "source": [
        "data.isna().sum()"
      ]
    },
    {
      "cell_type": "markdown",
      "metadata": {
        "id": "Hnod1exH1_QK"
      },
      "source": [
        "Два пропуска в названии игры и жанре - вряд ли мы сможем по каким-то данным определить, что там за пропуск, лучше удалить эти 2 строки, не такая великая потеря. С годом тоже непонятно что делать - заполнить медианной и средним идея выглядит не лучшей, поэтому потерять 269 строк тоже вариант. С остальными пропусками история не лучше, к сожалению, да и пропусков много, и просто удалить их не выйдет("
      ]
    },
    {
      "cell_type": "code",
      "execution_count": null,
      "metadata": {
        "id": "gw9yO9uw1_QK"
      },
      "outputs": [],
      "source": [
        "data = data.dropna(subset=['name','year_of_release','genre']).reset_index(drop=True)"
      ]
    },
    {
      "cell_type": "markdown",
      "metadata": {
        "id": "-ata4gJk1_QL"
      },
      "source": [
        "### Посчитаем суммарные продажи во всех регионах и запишем их в отдельный столбец."
      ]
    },
    {
      "cell_type": "code",
      "execution_count": null,
      "metadata": {
        "id": "EGQpRR6y1_QL"
      },
      "outputs": [],
      "source": [
        "data['world_sales'] = (data['na_sales'] + data['eu_sales'] + data['jp_sales'] + data['other_sales'])"
      ]
    },
    {
      "cell_type": "markdown",
      "metadata": {
        "id": "jzNlVbKs1_QL"
      },
      "source": [
        "### Осуществим проверку на дубликаты."
      ]
    },
    {
      "cell_type": "code",
      "execution_count": null,
      "metadata": {
        "id": "1BDbzcH_1_QL",
        "outputId": "60961411-5934-4d95-c69e-ecdfaadd0b0d"
      },
      "outputs": [
        {
          "data": {
            "text/plain": [
              "0"
            ]
          },
          "execution_count": 10,
          "metadata": {},
          "output_type": "execute_result"
        }
      ],
      "source": [
        "data.duplicated().sum()"
      ]
    },
    {
      "cell_type": "markdown",
      "metadata": {
        "id": "dedYdF_01_QL"
      },
      "source": [
        "Ни одной повторяющейся строчки, и это здорово."
      ]
    },
    {
      "cell_type": "markdown",
      "metadata": {
        "id": "6oJOArQr1_QM"
      },
      "source": [
        "**Вывод по главе:** Данные были зачищены и приведены в нужный тип данных для дальнейшего анализа."
      ]
    },
    {
      "cell_type": "markdown",
      "metadata": {
        "id": "UuQk9FRU1_QM"
      },
      "source": [
        "## Проведем исследовательский анализ данных"
      ]
    },
    {
      "cell_type": "markdown",
      "metadata": {
        "id": "-Q0TqrxP1_QM"
      },
      "source": [
        "### Посмотрим, сколько игр выпускалось в разные годы. Важны ли данные за все периоды?"
      ]
    },
    {
      "cell_type": "markdown",
      "metadata": {
        "id": "GxWW6DSs1_QM"
      },
      "source": [
        "Изучим столбец с годом, в датасете представлена статистика с 1980 по 2016 год. Построим гистограмму для них."
      ]
    },
    {
      "cell_type": "code",
      "execution_count": null,
      "metadata": {
        "id": "taRSwkGK1_QV",
        "outputId": "8326dfb8-4386-4c34-c596-b0b28bf8529b"
      },
      "outputs": [
        {
          "name": "stdout",
          "output_type": "stream",
          "text": [
            "count    16444.000000\n",
            "mean      2006.486256\n",
            "std          5.875525\n",
            "min       1980.000000\n",
            "25%       2003.000000\n",
            "50%       2007.000000\n",
            "75%       2010.000000\n",
            "max       2016.000000\n",
            "Name: year_of_release, dtype: float64\n"
          ]
        },
        {
          "data": {
            "text/plain": [
              "<AxesSubplot:>"
            ]
          },
          "execution_count": 11,
          "metadata": {},
          "output_type": "execute_result"
        },
        {
          "data": {
            "image/png": "[encoded data removed]",
            "text/plain": [
              "<Figure size 432x288 with 1 Axes>"
            ]
          },
          "metadata": {
            "needs_background": "light"
          },
          "output_type": "display_data"
        }
      ],
      "source": [
        "print(data['year_of_release'].describe())\n",
        "data['year_of_release'].hist(bins = 37)"
      ]
    },
    {
      "cell_type": "code",
      "execution_count": null,
      "metadata": {
        "id": "bDqNzuI91_QV",
        "outputId": "3365ec3a-44db-4279-e122-b1fb4ac4d427"
      },
      "outputs": [
        {
          "data": {
            "image/png": "[encoded data removed]",
            "text/plain": [
              "<Figure size 2160x720 with 1 Axes>"
            ]
          },
          "metadata": {
            "needs_background": "light"
          },
          "output_type": "display_data"
        }
      ],
      "source": [
        "# альтернативный график\n",
        "games_per_year = data.pivot_table(index='year_of_release', values='name', aggfunc='count')\n",
        "plt.figure(figsize=(30,10))\n",
        "seaborn.lineplot(data=games_per_year)\n",
        "plt.title(\"Игры в год\")\n",
        "plt.xlabel(\"Год\")\n",
        "plt.ylabel(\"Игры\")\n",
        "plt.show()"
      ]
    },
    {
      "cell_type": "markdown",
      "metadata": {
        "id": "CK9VxPEr1_QW"
      },
      "source": [
        "Наблюдаем, что первые 20 лет заданного периода - были достаточно скупы на производство игр. Более трех четвертых датасета распалагается в периоде с нулевых до 2016 года. Стабильный рост до 2007-2008 года, а потом спад? Это может быть связано с расцветом мобильных телефонов и локальных игр на них, может они начали обретать популярность и разработчики решили тратить свои силы именно на мобильную разработку. Думаю самый важный период - с 1995 года, хвост справа можно отбросить, хотя мы можем потерять много статистики для эпохальных приставок того времени.\n",
        "В целом на впорос - важны ли периоды, логично сказать, что да, поскольку на начале пути были популярны сеги и подобные приставки, в рассвет же индустрии PS И X-box, забрали пальму первенства, ну и закатные годы - появление игры на персональные компьютеры и мобильные устройства."
      ]
    },
    {
      "cell_type": "markdown",
      "metadata": {
        "id": "f_P9n8qN1_QW"
      },
      "source": [
        "### Посмотрим, как менялись продажи по платформам. Выберем платформы с наибольшими суммарными продажами и постройте распределение по годам. За какой характерный срок появляются новые и исчезают старые платформы?"
      ]
    },
    {
      "cell_type": "markdown",
      "metadata": {
        "id": "AXvZhE621_QW"
      },
      "source": [
        "Посмотрим гистограмму по всем продажам. Применим библиотеку seaborn, которой мы пользовались лишь на вводном курсе, но она полна функционала, да и в целом делает жизнь красочнее."
      ]
    },
    {
      "cell_type": "code",
      "execution_count": null,
      "metadata": {
        "scrolled": false,
        "id": "GitjZATk1_QW",
        "outputId": "f69c9838-98d9-45cf-ac8d-274be1a06808"
      },
      "outputs": [
        {
          "data": {
            "text/plain": [
              "Text(0, 0.5, 'Количество продаж')"
            ]
          },
          "execution_count": 13,
          "metadata": {},
          "output_type": "execute_result"
        },
        {
          "data": {
            "image/png": "[encoded data removed]",
            "text/plain": [
              "<Figure size 1080x720 with 1 Axes>"
            ]
          },
          "metadata": {
            "needs_background": "light"
          },
          "output_type": "display_data"
        }
      ],
      "source": [
        "platforms_ascending = data.pivot_table(index ='platform',values='world_sales',aggfunc='sum').sort_values(\n",
        "    by='world_sales', ascending=False)\n",
        "\n",
        "plt.figure(figsize=(15,10))\n",
        "seaborn.barplot(x=platforms_ascending.index,y=platforms_ascending['world_sales'])\n",
        "plt.title(\"Продажи за весь период\")\n",
        "plt.xlabel(\"Платформы\")\n",
        "plt.ylabel(\"Количество продаж\")"
      ]
    },
    {
      "cell_type": "markdown",
      "metadata": {
        "id": "9tMchRjh1_QX"
      },
      "source": [
        "Как мы видим, у нас есть явно выбивающиеся фавориты - целых 6 штук. Сохраним их отдельно, чтобы не потерять для дальнейшего анализа."
      ]
    },
    {
      "cell_type": "code",
      "execution_count": null,
      "metadata": {
        "id": "VE37z2cf1_QX",
        "outputId": "030a17be-a85a-421e-c17c-dd024cf2099f"
      },
      "outputs": [
        {
          "data": {
            "text/html": [
              "<div>\n",
              "<style scoped>\n",
              "    .dataframe tbody tr th:only-of-type {\n",
              "        vertical-align: middle;\n",
              "    }\n",
              "\n",
              "    .dataframe tbody tr th {\n",
              "        vertical-align: top;\n",
              "    }\n",
              "\n",
              "    .dataframe thead th {\n",
              "        text-align: right;\n",
              "    }\n",
              "</style>\n",
              "<table border=\"1\" class=\"dataframe\">\n",
              "  <thead>\n",
              "    <tr style=\"text-align: right;\">\n",
              "      <th></th>\n",
              "      <th>platform</th>\n",
              "      <th>world_sales</th>\n",
              "    </tr>\n",
              "  </thead>\n",
              "  <tbody>\n",
              "    <tr>\n",
              "      <th>0</th>\n",
              "      <td>PS2</td>\n",
              "      <td>1233.56</td>\n",
              "    </tr>\n",
              "    <tr>\n",
              "      <th>1</th>\n",
              "      <td>X360</td>\n",
              "      <td>961.24</td>\n",
              "    </tr>\n",
              "    <tr>\n",
              "      <th>2</th>\n",
              "      <td>PS3</td>\n",
              "      <td>931.34</td>\n",
              "    </tr>\n",
              "    <tr>\n",
              "      <th>3</th>\n",
              "      <td>Wii</td>\n",
              "      <td>891.18</td>\n",
              "    </tr>\n",
              "    <tr>\n",
              "      <th>4</th>\n",
              "      <td>DS</td>\n",
              "      <td>802.78</td>\n",
              "    </tr>\n",
              "    <tr>\n",
              "      <th>5</th>\n",
              "      <td>PS</td>\n",
              "      <td>727.58</td>\n",
              "    </tr>\n",
              "  </tbody>\n",
              "</table>\n",
              "</div>"
            ],
            "text/plain": [
              "  platform  world_sales\n",
              "0      PS2      1233.56\n",
              "1     X360       961.24\n",
              "2      PS3       931.34\n",
              "3      Wii       891.18\n",
              "4       DS       802.78\n",
              "5       PS       727.58"
            ]
          },
          "execution_count": 14,
          "metadata": {},
          "output_type": "execute_result"
        }
      ],
      "source": [
        "top6_platforms = platforms_ascending.head(6)\n",
        "top6_platforms = top6_platforms.reset_index().rename_axis(None, axis=1)\n",
        "top6_platforms"
      ]
    },
    {
      "cell_type": "markdown",
      "metadata": {
        "id": "p7YV7kmx1_QX"
      },
      "source": [
        "Построим распределение по годам для наших фаворитов:"
      ]
    },
    {
      "cell_type": "code",
      "execution_count": null,
      "metadata": {
        "scrolled": false,
        "id": "7ZtDdDUY1_QY",
        "outputId": "33ae115d-cabe-4807-9012-13ce308f237d"
      },
      "outputs": [
        {
          "data": {
            "image/png": "[encoded data removed]",
            "text/plain": [
              "<Figure size 1080x360 with 1 Axes>"
            ]
          },
          "metadata": {
            "needs_background": "light"
          },
          "output_type": "display_data"
        },
        {
          "data": {
            "image/png": "[encoded data removed]",
            "text/plain": [
              "<Figure size 1080x360 with 1 Axes>"
            ]
          },
          "metadata": {
            "needs_background": "light"
          },
          "output_type": "display_data"
        },
        {
          "data": {
            "image/png": "[encoded data removed]",
            "text/plain": [
              "<Figure size 1080x360 with 1 Axes>"
            ]
          },
          "metadata": {
            "needs_background": "light"
          },
          "output_type": "display_data"
        },
        {
          "data": {
            "image/png": "[encoded data removed]",
            "text/plain": [
              "<Figure size 1080x360 with 1 Axes>"
            ]
          },
          "metadata": {
            "needs_background": "light"
          },
          "output_type": "display_data"
        },
        {
          "data": {
            "image/png": "[encoded data removed]",
            "text/plain": [
              "<Figure size 1080x360 with 1 Axes>"
            ]
          },
          "metadata": {
            "needs_background": "light"
          },
          "output_type": "display_data"
        },
        {
          "data": {
            "image/png": "[encoded data removed]",
            "text/plain": [
              "<Figure size 1080x360 with 1 Axes>"
            ]
          },
          "metadata": {
            "needs_background": "light"
          },
          "output_type": "display_data"
        }
      ],
      "source": [
        "for platform in top6_platforms['platform']:\n",
        "    data[data['platform'] == platform].pivot_table(index='year_of_release',values='world_sales', aggfunc='sum').plot(\n",
        "        kind='bar',figsize=(15,5))\n",
        "    plt.title(platform)"
      ]
    },
    {
      "cell_type": "markdown",
      "metadata": {
        "id": "Ffgftx-c1_QY"
      },
      "source": [
        "Построили гистограмы для всех платформ разом и оценим их:\n",
        "- PS2 Появилась в 2000 году, расцвет приходится на 2001-2005 год, дальше на падение, последняя игра в 2011 году, значит актуальный срок выхода на нее игр - около 10 лет;\n",
        "- Х360 Появилась в 2005 году, расцвет приходится на 2006-2013 год, дальше на падение, последняя игра в 2016 году, значит актуальный срок выхода на нее игр также 10 лет;\n",
        "- PS3 Появилась на замену PS2 в 2006 году, расцвет пришелся на 2007-20014 год, дальше на падение, последняя игра в 2016 году, значит актуальный срок около 10 лет. Стоит отметить, что с ее выходом - завершился расцвет PS2, пользователи видимо начали переходить на новые модели;\n",
        "- Wii Появилась в 2006 году, расцвет приходится на 2006-2011, дальше на спад, последняя игра вышла в 2016 году;\n",
        "- DS Вышла в 1985:??? Выглядит, как ошибка в датасете, стоит удалить данную строчку! Без нее очевидно вышла в 2004, рассвет на 2005-2011. Последняя игра в 2013.\n",
        "- PS Появилась в 1994, расцвет 1995-2001, последняя игра в 2003. Снова закат приходится на выход новой версии PS2!"
      ]
    },
    {
      "cell_type": "markdown",
      "metadata": {
        "id": "wo4v-b4O1_QY"
      },
      "source": [
        "Првоерим странную строчку с платформой DS. Одни нули, да наны, очевидно вброс. Казнить, нельзя помиловать."
      ]
    },
    {
      "cell_type": "code",
      "execution_count": null,
      "metadata": {
        "id": "Fsuc31rQ1_QY"
      },
      "outputs": [],
      "source": [
        "data[(data['platform'] == 'DS') & (data['year_of_release'] == 1985)]\n",
        "data = data.query(\"index != 15704\")"
      ]
    },
    {
      "cell_type": "markdown",
      "metadata": {
        "id": "PJQwgxyn1_QY"
      },
      "source": [
        "За какой характерный срок появляются новые и исчезают старые платформы? Вообще жизненный цикл каждой платформы колеблется от 9 до 11 лет, грубо говоря 10. Но производители суетятся раньше, на примере PS, мы видим, что первая вышла в 94 году, вторая в 2000, а третья 2006 году. Новые версии подготовливают чуть раньше жизненного цикла, скорее всего, чтобы у пользователя было время подумать о покупке новой модели, прежде чем старая окончательно не сможет вывести новые игры, чем разочарует пользователя."
      ]
    },
    {
      "cell_type": "markdown",
      "metadata": {
        "id": "YPQ10OvZ1_QZ"
      },
      "source": [
        "### Возьмем данные за соответствующий актуальный период. Актуальный период определите самостоятельно в результате исследования предыдущих вопросов. Основной фактор — эти данные помогут построить прогноз на 2017 год.\n"
      ]
    },
    {
      "cell_type": "markdown",
      "metadata": {
        "id": "YqgXRKch1_QZ"
      },
      "source": [
        "Даже пояснение, что значит актуальный период в меня не вселило уверенности. Вероятно речь идет о периоде крайнем, потому что строить на 2017 рационально на данных с 2012, как видно на гистограмме, примерно тут зафиксировались стабильные продажи, остановив влияние мобильных и пк"
      ]
    },
    {
      "cell_type": "markdown",
      "metadata": {
        "id": "v6JBYBXw1_QZ"
      },
      "source": [
        "В рамках бизнесса не принято брать большие интервалы, поэтому мы будем ориентироваться на данные трехлетней давности, а именно с 2016 года."
      ]
    },
    {
      "cell_type": "code",
      "execution_count": null,
      "metadata": {
        "id": "Hmh2H3oi1_QZ",
        "outputId": "8e8887be-32e3-4478-e7b6-56be1b1af37f"
      },
      "outputs": [
        {
          "data": {
            "text/plain": [
              "<AxesSubplot:>"
            ]
          },
          "execution_count": 17,
          "metadata": {},
          "output_type": "execute_result"
        },
        {
          "data": {
            "image/png": "[encoded data removed]",
            "text/plain": [
              "<Figure size 432x288 with 1 Axes>"
            ]
          },
          "metadata": {
            "needs_background": "light"
          },
          "output_type": "display_data"
        }
      ],
      "source": [
        "data['year_of_release'].hist(bins=3, range=(2014,2016))"
      ]
    },
    {
      "cell_type": "markdown",
      "metadata": {
        "id": "Qkd7pWvF1_Qa"
      },
      "source": [
        "Как видим, здесь действительно все стабильно."
      ]
    },
    {
      "cell_type": "code",
      "execution_count": null,
      "metadata": {
        "id": "VyCdwXMn1_Qa"
      },
      "outputs": [],
      "source": [
        "actual_data = data.query(\"year_of_release > 2013\")"
      ]
    },
    {
      "cell_type": "markdown",
      "metadata": {
        "id": "MKeOLGGv1_Qa"
      },
      "source": [
        "### Не учитывайте в работе данные за предыдущие годы."
      ]
    },
    {
      "cell_type": "markdown",
      "metadata": {
        "id": "Vt9p-wS_1_Qa"
      },
      "source": [
        "Этот пункт задания вызывает у меня некоторые вопросы, как можно не учитывать, если они помогут построить нам данные на 2017 год?"
      ]
    },
    {
      "cell_type": "markdown",
      "metadata": {
        "id": "9BAM56kb1_Qb"
      },
      "source": [
        "### Какие платформы лидируют по продажам, растут или падают? Выберите несколько потенциально прибыльных платформ."
      ]
    },
    {
      "cell_type": "markdown",
      "metadata": {
        "id": "yU0Gmvkm1_Qb"
      },
      "source": [
        "Проведем тот же анализ, что был выше, только для данных с 2012 года."
      ]
    },
    {
      "cell_type": "code",
      "execution_count": null,
      "metadata": {
        "id": "fd9xqfRW1_Qb",
        "outputId": "b1fddcf4-8e77-4377-80b5-3400112735d0"
      },
      "outputs": [
        {
          "data": {
            "text/plain": [
              "Text(0, 0.5, 'Количество продаж')"
            ]
          },
          "execution_count": 19,
          "metadata": {},
          "output_type": "execute_result"
        },
        {
          "data": {
            "image/png": "[encoded data removed]",
            "text/plain": [
              "<Figure size 1080x720 with 1 Axes>"
            ]
          },
          "metadata": {
            "needs_background": "light"
          },
          "output_type": "display_data"
        }
      ],
      "source": [
        "actual_platforms_ascending = actual_data.pivot_table(index='platform', values='world_sales', aggfunc='sum').sort_values(\n",
        "    by='world_sales', ascending=False)\n",
        "\n",
        "plt.figure(figsize=(15,10))\n",
        "seaborn.barplot(x=actual_platforms_ascending.index,y=actual_platforms_ascending['world_sales'])\n",
        "plt.title(\"Продажи за весь период\")\n",
        "plt.xlabel(\"Платформы\")\n",
        "plt.ylabel(\"Количество продаж\")"
      ]
    },
    {
      "cell_type": "markdown",
      "metadata": {
        "id": "8051Esxo1_Qb"
      },
      "source": [
        "Выборка стала меньше - и слава Богу!"
      ]
    },
    {
      "cell_type": "code",
      "execution_count": null,
      "metadata": {
        "scrolled": false,
        "id": "8PuuNftw1_Qc",
        "outputId": "7f4af7fd-a75e-4c70-fc45-ff9a9792864a"
      },
      "outputs": [
        {
          "data": {
            "image/png": "[encoded data removed]",
            "text/plain": [
              "<Figure size 1080x360 with 1 Axes>"
            ]
          },
          "metadata": {
            "needs_background": "light"
          },
          "output_type": "display_data"
        },
        {
          "data": {
            "image/png": "[encoded data removed]",
            "text/plain": [
              "<Figure size 1080x360 with 1 Axes>"
            ]
          },
          "metadata": {
            "needs_background": "light"
          },
          "output_type": "display_data"
        },
        {
          "data": {
            "image/png": "[encoded data removed]",
            "text/plain": [
              "<Figure size 1080x360 with 1 Axes>"
            ]
          },
          "metadata": {
            "needs_background": "light"
          },
          "output_type": "display_data"
        },
        {
          "data": {
            "image/png": "[encoded data removed]",
            "text/plain": [
              "<Figure size 1080x360 with 1 Axes>"
            ]
          },
          "metadata": {
            "needs_background": "light"
          },
          "output_type": "display_data"
        },
        {
          "data": {
            "image/png": "[encoded data removed]",
            "text/plain": [
              "<Figure size 1080x360 with 1 Axes>"
            ]
          },
          "metadata": {
            "needs_background": "light"
          },
          "output_type": "display_data"
        },
        {
          "data": {
            "image/png": "[encoded data removed]",
            "text/plain": [
              "<Figure size 1080x360 with 1 Axes>"
            ]
          },
          "metadata": {
            "needs_background": "light"
          },
          "output_type": "display_data"
        },
        {
          "data": {
            "image/png": "[encoded data removed]",
            "text/plain": [
              "<Figure size 1080x360 with 1 Axes>"
            ]
          },
          "metadata": {
            "needs_background": "light"
          },
          "output_type": "display_data"
        },
        {
          "data": {
            "image/png": "[encoded data removed]",
            "text/plain": [
              "<Figure size 1080x360 with 1 Axes>"
            ]
          },
          "metadata": {
            "needs_background": "light"
          },
          "output_type": "display_data"
        },
        {
          "data": {
            "image/png": "[encoded data removed]",
            "text/plain": [
              "<Figure size 1080x360 with 1 Axes>"
            ]
          },
          "metadata": {
            "needs_background": "light"
          },
          "output_type": "display_data"
        },
        {
          "data": {
            "image/png": "[encoded data removed]",
            "text/plain": [
              "<Figure size 1080x360 with 1 Axes>"
            ]
          },
          "metadata": {
            "needs_background": "light"
          },
          "output_type": "display_data"
        }
      ],
      "source": [
        "actual_platforms = actual_platforms_ascending.reset_index().rename_axis(None, axis=1)\n",
        "for platform in actual_platforms['platform']:\n",
        "    actual_data[actual_data['platform']==platform].pivot_table(index ='year_of_release', values='world_sales', aggfunc='sum').plot(\n",
        "        kind='bar', figsize=(15,5))\n",
        "    plt.title(platform)"
      ]
    },
    {
      "cell_type": "markdown",
      "metadata": {
        "id": "vfTp18yr1_Qc"
      },
      "source": [
        "В целом все продажи идут из года в год с падением. Но можно выделить некоторые, которые еще остаются на плаву. Например: PS4, 3DS, XOne. Хуже дела идут у: PS3, X360, WiiU, PC, PSV, Wii. У DS и PSP - вообще нет данных за 2016 год, предположим, что они ушли с рынка и считать их актуальными - ошибка."
      ]
    },
    {
      "cell_type": "code",
      "execution_count": null,
      "metadata": {
        "id": "DmX5ecA21_Qc",
        "outputId": "ad6073f5-178a-4083-bd71-f234d8592211"
      },
      "outputs": [
        {
          "data": {
            "text/html": [
              "<div>\n",
              "<style scoped>\n",
              "    .dataframe tbody tr th:only-of-type {\n",
              "        vertical-align: middle;\n",
              "    }\n",
              "\n",
              "    .dataframe tbody tr th {\n",
              "        vertical-align: top;\n",
              "    }\n",
              "\n",
              "    .dataframe thead th {\n",
              "        text-align: right;\n",
              "    }\n",
              "</style>\n",
              "<table border=\"1\" class=\"dataframe\">\n",
              "  <thead>\n",
              "    <tr style=\"text-align: right;\">\n",
              "      <th></th>\n",
              "      <th>name</th>\n",
              "      <th>platform</th>\n",
              "      <th>year_of_release</th>\n",
              "      <th>genre</th>\n",
              "      <th>na_sales</th>\n",
              "      <th>eu_sales</th>\n",
              "      <th>jp_sales</th>\n",
              "      <th>other_sales</th>\n",
              "      <th>critic_score</th>\n",
              "      <th>user_score</th>\n",
              "      <th>rating</th>\n",
              "      <th>world_sales</th>\n",
              "    </tr>\n",
              "  </thead>\n",
              "  <tbody>\n",
              "    <tr>\n",
              "      <th>31</th>\n",
              "      <td>Call of Duty: Black Ops 3</td>\n",
              "      <td>PS4</td>\n",
              "      <td>2015</td>\n",
              "      <td>Shooter</td>\n",
              "      <td>6.03</td>\n",
              "      <td>5.86</td>\n",
              "      <td>0.36</td>\n",
              "      <td>2.38</td>\n",
              "      <td>NaN</td>\n",
              "      <td>NaN</td>\n",
              "      <td>NaN</td>\n",
              "      <td>14.63</td>\n",
              "    </tr>\n",
              "    <tr>\n",
              "      <th>42</th>\n",
              "      <td>Grand Theft Auto V</td>\n",
              "      <td>PS4</td>\n",
              "      <td>2014</td>\n",
              "      <td>Action</td>\n",
              "      <td>3.96</td>\n",
              "      <td>6.31</td>\n",
              "      <td>0.38</td>\n",
              "      <td>1.97</td>\n",
              "      <td>97.0</td>\n",
              "      <td>8.3</td>\n",
              "      <td>M</td>\n",
              "      <td>12.62</td>\n",
              "    </tr>\n",
              "    <tr>\n",
              "      <th>47</th>\n",
              "      <td>Pokemon Omega Ruby/Pokemon Alpha Sapphire</td>\n",
              "      <td>3DS</td>\n",
              "      <td>2014</td>\n",
              "      <td>Role-Playing</td>\n",
              "      <td>4.35</td>\n",
              "      <td>3.49</td>\n",
              "      <td>3.10</td>\n",
              "      <td>0.74</td>\n",
              "      <td>NaN</td>\n",
              "      <td>NaN</td>\n",
              "      <td>NaN</td>\n",
              "      <td>11.68</td>\n",
              "    </tr>\n",
              "    <tr>\n",
              "      <th>77</th>\n",
              "      <td>FIFA 16</td>\n",
              "      <td>PS4</td>\n",
              "      <td>2015</td>\n",
              "      <td>Sports</td>\n",
              "      <td>1.12</td>\n",
              "      <td>6.12</td>\n",
              "      <td>0.06</td>\n",
              "      <td>1.28</td>\n",
              "      <td>82.0</td>\n",
              "      <td>4.3</td>\n",
              "      <td>E</td>\n",
              "      <td>8.58</td>\n",
              "    </tr>\n",
              "    <tr>\n",
              "      <th>87</th>\n",
              "      <td>Star Wars Battlefront (2015)</td>\n",
              "      <td>PS4</td>\n",
              "      <td>2015</td>\n",
              "      <td>Shooter</td>\n",
              "      <td>2.99</td>\n",
              "      <td>3.49</td>\n",
              "      <td>0.22</td>\n",
              "      <td>1.28</td>\n",
              "      <td>NaN</td>\n",
              "      <td>NaN</td>\n",
              "      <td>NaN</td>\n",
              "      <td>7.98</td>\n",
              "    </tr>\n",
              "    <tr>\n",
              "      <th>...</th>\n",
              "      <td>...</td>\n",
              "      <td>...</td>\n",
              "      <td>...</td>\n",
              "      <td>...</td>\n",
              "      <td>...</td>\n",
              "      <td>...</td>\n",
              "      <td>...</td>\n",
              "      <td>...</td>\n",
              "      <td>...</td>\n",
              "      <td>...</td>\n",
              "      <td>...</td>\n",
              "      <td>...</td>\n",
              "    </tr>\n",
              "    <tr>\n",
              "      <th>16432</th>\n",
              "      <td>Strawberry Nauts</td>\n",
              "      <td>PSV</td>\n",
              "      <td>2016</td>\n",
              "      <td>Adventure</td>\n",
              "      <td>0.00</td>\n",
              "      <td>0.00</td>\n",
              "      <td>0.01</td>\n",
              "      <td>0.00</td>\n",
              "      <td>NaN</td>\n",
              "      <td>NaN</td>\n",
              "      <td>NaN</td>\n",
              "      <td>0.01</td>\n",
              "    </tr>\n",
              "    <tr>\n",
              "      <th>16436</th>\n",
              "      <td>Aiyoku no Eustia</td>\n",
              "      <td>PSV</td>\n",
              "      <td>2014</td>\n",
              "      <td>Misc</td>\n",
              "      <td>0.00</td>\n",
              "      <td>0.00</td>\n",
              "      <td>0.01</td>\n",
              "      <td>0.00</td>\n",
              "      <td>NaN</td>\n",
              "      <td>NaN</td>\n",
              "      <td>NaN</td>\n",
              "      <td>0.01</td>\n",
              "    </tr>\n",
              "    <tr>\n",
              "      <th>16439</th>\n",
              "      <td>Samurai Warriors: Sanada Maru</td>\n",
              "      <td>PS3</td>\n",
              "      <td>2016</td>\n",
              "      <td>Action</td>\n",
              "      <td>0.00</td>\n",
              "      <td>0.00</td>\n",
              "      <td>0.01</td>\n",
              "      <td>0.00</td>\n",
              "      <td>NaN</td>\n",
              "      <td>NaN</td>\n",
              "      <td>NaN</td>\n",
              "      <td>0.01</td>\n",
              "    </tr>\n",
              "    <tr>\n",
              "      <th>16441</th>\n",
              "      <td>Haitaka no Psychedelica</td>\n",
              "      <td>PSV</td>\n",
              "      <td>2016</td>\n",
              "      <td>Adventure</td>\n",
              "      <td>0.00</td>\n",
              "      <td>0.00</td>\n",
              "      <td>0.01</td>\n",
              "      <td>0.00</td>\n",
              "      <td>NaN</td>\n",
              "      <td>NaN</td>\n",
              "      <td>NaN</td>\n",
              "      <td>0.01</td>\n",
              "    </tr>\n",
              "    <tr>\n",
              "      <th>16443</th>\n",
              "      <td>Winning Post 8 2016</td>\n",
              "      <td>PSV</td>\n",
              "      <td>2016</td>\n",
              "      <td>Simulation</td>\n",
              "      <td>0.00</td>\n",
              "      <td>0.00</td>\n",
              "      <td>0.01</td>\n",
              "      <td>0.00</td>\n",
              "      <td>NaN</td>\n",
              "      <td>NaN</td>\n",
              "      <td>NaN</td>\n",
              "      <td>0.01</td>\n",
              "    </tr>\n",
              "  </tbody>\n",
              "</table>\n",
              "<p>1676 rows × 12 columns</p>\n",
              "</div>"
            ],
            "text/plain": [
              "                                            name platform  year_of_release  \\\n",
              "31                     Call of Duty: Black Ops 3      PS4             2015   \n",
              "42                            Grand Theft Auto V      PS4             2014   \n",
              "47     Pokemon Omega Ruby/Pokemon Alpha Sapphire      3DS             2014   \n",
              "77                                       FIFA 16      PS4             2015   \n",
              "87                  Star Wars Battlefront (2015)      PS4             2015   \n",
              "...                                          ...      ...              ...   \n",
              "16432                           Strawberry Nauts      PSV             2016   \n",
              "16436                           Aiyoku no Eustia      PSV             2014   \n",
              "16439              Samurai Warriors: Sanada Maru      PS3             2016   \n",
              "16441                    Haitaka no Psychedelica      PSV             2016   \n",
              "16443                        Winning Post 8 2016      PSV             2016   \n",
              "\n",
              "              genre  na_sales  eu_sales  jp_sales  other_sales  critic_score  \\\n",
              "31          Shooter      6.03      5.86      0.36         2.38           NaN   \n",
              "42           Action      3.96      6.31      0.38         1.97          97.0   \n",
              "47     Role-Playing      4.35      3.49      3.10         0.74           NaN   \n",
              "77           Sports      1.12      6.12      0.06         1.28          82.0   \n",
              "87          Shooter      2.99      3.49      0.22         1.28           NaN   \n",
              "...             ...       ...       ...       ...          ...           ...   \n",
              "16432     Adventure      0.00      0.00      0.01         0.00           NaN   \n",
              "16436          Misc      0.00      0.00      0.01         0.00           NaN   \n",
              "16439        Action      0.00      0.00      0.01         0.00           NaN   \n",
              "16441     Adventure      0.00      0.00      0.01         0.00           NaN   \n",
              "16443    Simulation      0.00      0.00      0.01         0.00           NaN   \n",
              "\n",
              "       user_score rating  world_sales  \n",
              "31            NaN    NaN        14.63  \n",
              "42            8.3      M        12.62  \n",
              "47            NaN    NaN        11.68  \n",
              "77            4.3      E         8.58  \n",
              "87            NaN    NaN         7.98  \n",
              "...           ...    ...          ...  \n",
              "16432         NaN    NaN         0.01  \n",
              "16436         NaN    NaN         0.01  \n",
              "16439         NaN    NaN         0.01  \n",
              "16441         NaN    NaN         0.01  \n",
              "16443         NaN    NaN         0.01  \n",
              "\n",
              "[1676 rows x 12 columns]"
            ]
          },
          "execution_count": 42,
          "metadata": {},
          "output_type": "execute_result"
        }
      ],
      "source": [
        "actual_platforms = actual_platforms.head(9)\n",
        "actual_data = actual_data.query('platform != \"PSP\"')\n",
        "actual_data['platform'].unique()\n",
        "actual_data"
      ]
    },
    {
      "cell_type": "markdown",
      "metadata": {
        "id": "tj3LQ9W61_Qc"
      },
      "source": [
        "### Построим график «ящик с усами» по глобальным продажам игр в разбивке по платформам. Опишем результат"
      ]
    },
    {
      "cell_type": "code",
      "execution_count": null,
      "metadata": {
        "id": "-igc81r21_Qd",
        "outputId": "14d934ae-a53c-4731-f4e9-2f5ec70a4265"
      },
      "outputs": [
        {
          "data": {
            "text/plain": [
              "<AxesSubplot:>"
            ]
          },
          "execution_count": 40,
          "metadata": {},
          "output_type": "execute_result"
        },
        {
          "data": {
            "image/png": "[encoded data removed]",
            "text/plain": [
              "<Figure size 432x288 with 1 Axes>"
            ]
          },
          "metadata": {
            "needs_background": "light"
          },
          "output_type": "display_data"
        }
      ],
      "source": [
        "actual_data.pivot_table(index='name',columns='platform', values='world_sales', aggfunc='sum').plot(kind='box', ylim=(0,2))"
      ]
    },
    {
      "cell_type": "markdown",
      "metadata": {
        "id": "xeLh2dUf1_Qd"
      },
      "source": [
        "Как же много выбросов :C. В целом хорошее медианное значение наблюдается у WiiU, PS4 и X360, Wii, XOne. У них так же хорошее смещение в бОльшую сторону и это замечательно."
      ]
    },
    {
      "cell_type": "markdown",
      "metadata": {
        "id": "oNm5RyGY1_Qd"
      },
      "source": [
        "### Посмотрим, как влияют на продажи внутри одной популярной платформы отзывы пользователей и критиков. Построим диаграмму рассеяния и посчитайте корреляцию между отзывами и продажами. Сформулируем выводы.\n"
      ]
    },
    {
      "cell_type": "markdown",
      "metadata": {
        "id": "mv1zazyE1_Qd"
      },
      "source": [
        "Рассмотрим Х360, по той причине, что он входит в топ продаж всего, и в актуальный период, будет хорошим примером."
      ]
    },
    {
      "cell_type": "code",
      "execution_count": null,
      "metadata": {
        "id": "lAaXiKas1_Qd",
        "outputId": "3ebd4cc8-6d18-42ea-bced-447f4210f861"
      },
      "outputs": [
        {
          "name": "stdout",
          "output_type": "stream",
          "text": [
            "Корреляция отзывов пользователей и продаж = 0.11418661214018049\n",
            "Корреляция отзывов критиков и продаж = 0.39286589254006954\n",
            "Корреляция отзывов критиков и пользователей = 0.6250204504122275\n"
          ]
        }
      ],
      "source": [
        "X360 = data[data['platform']=='X360']\n",
        "print('Корреляция отзывов пользователей и продаж =', X360['user_score'].corr(X360['world_sales']))\n",
        "print('Корреляция отзывов критиков и продаж =', X360['critic_score'].corr(X360['world_sales']))\n",
        "print('Корреляция отзывов критиков и пользователей =', X360['critic_score'].corr(X360['user_score']))"
      ]
    },
    {
      "cell_type": "code",
      "execution_count": null,
      "metadata": {
        "id": "cZPRYjV31_Qe",
        "outputId": "e7d18d07-be58-489f-97c0-b5388460dd00"
      },
      "outputs": [
        {
          "data": {
            "text/plain": [
              "<AxesSubplot:xlabel='critic_score', ylabel='world_sales'>"
            ]
          },
          "execution_count": 53,
          "metadata": {},
          "output_type": "execute_result"
        },
        {
          "data": {
            "image/png": "[encoded data removed]",
            "text/plain": [
              "<Figure size 432x288 with 1 Axes>"
            ]
          },
          "metadata": {
            "needs_background": "light"
          },
          "output_type": "display_data"
        },
        {
          "data": {
            "image/png": "[encoded data removed]",
            "text/plain": [
              "<Figure size 432x288 with 1 Axes>"
            ]
          },
          "metadata": {
            "needs_background": "light"
          },
          "output_type": "display_data"
        },
        {
          "data": {
            "image/png": "[encoded data removed]",
            "text/plain": [
              "<Figure size 432x288 with 1 Axes>"
            ]
          },
          "metadata": {
            "needs_background": "light"
          },
          "output_type": "display_data"
        }
      ],
      "source": [
        "X360 = actual_data.query('platform == \"X360\"')\n",
        "X360.plot(x='user_score', y='critic_score', kind='scatter')\n",
        "X360 = actual_data.query('platform == \"X360\"')\n",
        "X360.plot(x='user_score', y='world_sales', kind='scatter')\n",
        "X360 = actual_data.query('platform == \"X360\"')\n",
        "X360.plot(x='critic_score', y='world_sales', kind='scatter')"
      ]
    },
    {
      "cell_type": "markdown",
      "metadata": {
        "id": "7iiaTYRu1_Qe"
      },
      "source": [
        "Коэффициент корелляции говорит нам о том, что связь между пользовательскими отзывами слабая положительная, а у критиков средняя положительная, значит, критики действительно не просто так получают свою зарплату, правда и связь не назовешь сильной. Зато, корреляция между отзывами высокая, значит даже простой человек вполне может дать близкую к критику оценку. Построим диаграмму рассеяния."
      ]
    },
    {
      "cell_type": "markdown",
      "metadata": {
        "id": "f6MCnPTc1_Qe"
      },
      "source": [
        "### Соотнесем выводы с продажами игр на других платформах."
      ]
    },
    {
      "cell_type": "markdown",
      "metadata": {
        "id": "i-hOPT651_Qe"
      },
      "source": [
        "Вряд ли необходимо строить для каждой диаграмму, все-таки по числовым значениям попроще ориентироваться, рассмотрим только актуальные, и с помощью сводной таблицы все быстро оформим."
      ]
    },
    {
      "cell_type": "code",
      "execution_count": null,
      "metadata": {
        "id": "9pseSBWU1_Qf",
        "outputId": "e8c25ee6-ea1c-4b56-cf24-61c7af761910"
      },
      "outputs": [
        {
          "name": "stdout",
          "output_type": "stream",
          "text": [
            "Корреляция для платформы PS4\n"
          ]
        },
        {
          "data": {
            "text/html": [
              "<div>\n",
              "<style scoped>\n",
              "    .dataframe tbody tr th:only-of-type {\n",
              "        vertical-align: middle;\n",
              "    }\n",
              "\n",
              "    .dataframe tbody tr th {\n",
              "        vertical-align: top;\n",
              "    }\n",
              "\n",
              "    .dataframe thead th {\n",
              "        text-align: right;\n",
              "    }\n",
              "</style>\n",
              "<table border=\"1\" class=\"dataframe\">\n",
              "  <thead>\n",
              "    <tr style=\"text-align: right;\">\n",
              "      <th></th>\n",
              "      <th>critic_score</th>\n",
              "      <th>user_score</th>\n",
              "      <th>world_sales</th>\n",
              "    </tr>\n",
              "  </thead>\n",
              "  <tbody>\n",
              "    <tr>\n",
              "      <th>critic_score</th>\n",
              "      <td>1.000000</td>\n",
              "      <td>0.546434</td>\n",
              "      <td>0.402661</td>\n",
              "    </tr>\n",
              "    <tr>\n",
              "      <th>user_score</th>\n",
              "      <td>0.546434</td>\n",
              "      <td>1.000000</td>\n",
              "      <td>-0.040132</td>\n",
              "    </tr>\n",
              "    <tr>\n",
              "      <th>world_sales</th>\n",
              "      <td>0.402661</td>\n",
              "      <td>-0.040132</td>\n",
              "      <td>1.000000</td>\n",
              "    </tr>\n",
              "  </tbody>\n",
              "</table>\n",
              "</div>"
            ],
            "text/plain": [
              "              critic_score  user_score  world_sales\n",
              "critic_score      1.000000    0.546434     0.402661\n",
              "user_score        0.546434    1.000000    -0.040132\n",
              "world_sales       0.402661   -0.040132     1.000000"
            ]
          },
          "metadata": {},
          "output_type": "display_data"
        },
        {
          "name": "stdout",
          "output_type": "stream",
          "text": [
            "\n",
            "Корреляция для платформы XOne\n"
          ]
        },
        {
          "data": {
            "text/html": [
              "<div>\n",
              "<style scoped>\n",
              "    .dataframe tbody tr th:only-of-type {\n",
              "        vertical-align: middle;\n",
              "    }\n",
              "\n",
              "    .dataframe tbody tr th {\n",
              "        vertical-align: top;\n",
              "    }\n",
              "\n",
              "    .dataframe thead th {\n",
              "        text-align: right;\n",
              "    }\n",
              "</style>\n",
              "<table border=\"1\" class=\"dataframe\">\n",
              "  <thead>\n",
              "    <tr style=\"text-align: right;\">\n",
              "      <th></th>\n",
              "      <th>critic_score</th>\n",
              "      <th>user_score</th>\n",
              "      <th>world_sales</th>\n",
              "    </tr>\n",
              "  </thead>\n",
              "  <tbody>\n",
              "    <tr>\n",
              "      <th>critic_score</th>\n",
              "      <td>1.000000</td>\n",
              "      <td>0.440977</td>\n",
              "      <td>0.428677</td>\n",
              "    </tr>\n",
              "    <tr>\n",
              "      <th>user_score</th>\n",
              "      <td>0.440977</td>\n",
              "      <td>1.000000</td>\n",
              "      <td>-0.070384</td>\n",
              "    </tr>\n",
              "    <tr>\n",
              "      <th>world_sales</th>\n",
              "      <td>0.428677</td>\n",
              "      <td>-0.070384</td>\n",
              "      <td>1.000000</td>\n",
              "    </tr>\n",
              "  </tbody>\n",
              "</table>\n",
              "</div>"
            ],
            "text/plain": [
              "              critic_score  user_score  world_sales\n",
              "critic_score      1.000000    0.440977     0.428677\n",
              "user_score        0.440977    1.000000    -0.070384\n",
              "world_sales       0.428677   -0.070384     1.000000"
            ]
          },
          "metadata": {},
          "output_type": "display_data"
        },
        {
          "name": "stdout",
          "output_type": "stream",
          "text": [
            "\n",
            "Корреляция для платформы 3DS\n"
          ]
        },
        {
          "data": {
            "text/html": [
              "<div>\n",
              "<style scoped>\n",
              "    .dataframe tbody tr th:only-of-type {\n",
              "        vertical-align: middle;\n",
              "    }\n",
              "\n",
              "    .dataframe tbody tr th {\n",
              "        vertical-align: top;\n",
              "    }\n",
              "\n",
              "    .dataframe thead th {\n",
              "        text-align: right;\n",
              "    }\n",
              "</style>\n",
              "<table border=\"1\" class=\"dataframe\">\n",
              "  <thead>\n",
              "    <tr style=\"text-align: right;\">\n",
              "      <th></th>\n",
              "      <th>critic_score</th>\n",
              "      <th>user_score</th>\n",
              "      <th>world_sales</th>\n",
              "    </tr>\n",
              "  </thead>\n",
              "  <tbody>\n",
              "    <tr>\n",
              "      <th>critic_score</th>\n",
              "      <td>1.000000</td>\n",
              "      <td>0.862485</td>\n",
              "      <td>0.314117</td>\n",
              "    </tr>\n",
              "    <tr>\n",
              "      <th>user_score</th>\n",
              "      <td>0.862485</td>\n",
              "      <td>1.000000</td>\n",
              "      <td>0.215193</td>\n",
              "    </tr>\n",
              "    <tr>\n",
              "      <th>world_sales</th>\n",
              "      <td>0.314117</td>\n",
              "      <td>0.215193</td>\n",
              "      <td>1.000000</td>\n",
              "    </tr>\n",
              "  </tbody>\n",
              "</table>\n",
              "</div>"
            ],
            "text/plain": [
              "              critic_score  user_score  world_sales\n",
              "critic_score      1.000000    0.862485     0.314117\n",
              "user_score        0.862485    1.000000     0.215193\n",
              "world_sales       0.314117    0.215193     1.000000"
            ]
          },
          "metadata": {},
          "output_type": "display_data"
        },
        {
          "name": "stdout",
          "output_type": "stream",
          "text": [
            "\n",
            "Корреляция для платформы PS3\n"
          ]
        },
        {
          "data": {
            "text/html": [
              "<div>\n",
              "<style scoped>\n",
              "    .dataframe tbody tr th:only-of-type {\n",
              "        vertical-align: middle;\n",
              "    }\n",
              "\n",
              "    .dataframe tbody tr th {\n",
              "        vertical-align: top;\n",
              "    }\n",
              "\n",
              "    .dataframe thead th {\n",
              "        text-align: right;\n",
              "    }\n",
              "</style>\n",
              "<table border=\"1\" class=\"dataframe\">\n",
              "  <thead>\n",
              "    <tr style=\"text-align: right;\">\n",
              "      <th></th>\n",
              "      <th>critic_score</th>\n",
              "      <th>user_score</th>\n",
              "      <th>world_sales</th>\n",
              "    </tr>\n",
              "  </thead>\n",
              "  <tbody>\n",
              "    <tr>\n",
              "      <th>critic_score</th>\n",
              "      <td>1.000000</td>\n",
              "      <td>0.693445</td>\n",
              "      <td>0.446575</td>\n",
              "    </tr>\n",
              "    <tr>\n",
              "      <th>user_score</th>\n",
              "      <td>0.693445</td>\n",
              "      <td>1.000000</td>\n",
              "      <td>-0.166761</td>\n",
              "    </tr>\n",
              "    <tr>\n",
              "      <th>world_sales</th>\n",
              "      <td>0.446575</td>\n",
              "      <td>-0.166761</td>\n",
              "      <td>1.000000</td>\n",
              "    </tr>\n",
              "  </tbody>\n",
              "</table>\n",
              "</div>"
            ],
            "text/plain": [
              "              critic_score  user_score  world_sales\n",
              "critic_score      1.000000    0.693445     0.446575\n",
              "user_score        0.693445    1.000000    -0.166761\n",
              "world_sales       0.446575   -0.166761     1.000000"
            ]
          },
          "metadata": {},
          "output_type": "display_data"
        },
        {
          "name": "stdout",
          "output_type": "stream",
          "text": [
            "\n",
            "Корреляция для платформы X360\n"
          ]
        },
        {
          "data": {
            "text/html": [
              "<div>\n",
              "<style scoped>\n",
              "    .dataframe tbody tr th:only-of-type {\n",
              "        vertical-align: middle;\n",
              "    }\n",
              "\n",
              "    .dataframe tbody tr th {\n",
              "        vertical-align: top;\n",
              "    }\n",
              "\n",
              "    .dataframe thead th {\n",
              "        text-align: right;\n",
              "    }\n",
              "</style>\n",
              "<table border=\"1\" class=\"dataframe\">\n",
              "  <thead>\n",
              "    <tr style=\"text-align: right;\">\n",
              "      <th></th>\n",
              "      <th>critic_score</th>\n",
              "      <th>user_score</th>\n",
              "      <th>world_sales</th>\n",
              "    </tr>\n",
              "  </thead>\n",
              "  <tbody>\n",
              "    <tr>\n",
              "      <th>critic_score</th>\n",
              "      <td>1.000000</td>\n",
              "      <td>0.625309</td>\n",
              "      <td>0.525723</td>\n",
              "    </tr>\n",
              "    <tr>\n",
              "      <th>user_score</th>\n",
              "      <td>0.625309</td>\n",
              "      <td>1.000000</td>\n",
              "      <td>-0.138445</td>\n",
              "    </tr>\n",
              "    <tr>\n",
              "      <th>world_sales</th>\n",
              "      <td>0.525723</td>\n",
              "      <td>-0.138445</td>\n",
              "      <td>1.000000</td>\n",
              "    </tr>\n",
              "  </tbody>\n",
              "</table>\n",
              "</div>"
            ],
            "text/plain": [
              "              critic_score  user_score  world_sales\n",
              "critic_score      1.000000    0.625309     0.525723\n",
              "user_score        0.625309    1.000000    -0.138445\n",
              "world_sales       0.525723   -0.138445     1.000000"
            ]
          },
          "metadata": {},
          "output_type": "display_data"
        },
        {
          "name": "stdout",
          "output_type": "stream",
          "text": [
            "\n",
            "Корреляция для платформы WiiU\n"
          ]
        },
        {
          "data": {
            "text/html": [
              "<div>\n",
              "<style scoped>\n",
              "    .dataframe tbody tr th:only-of-type {\n",
              "        vertical-align: middle;\n",
              "    }\n",
              "\n",
              "    .dataframe tbody tr th {\n",
              "        vertical-align: top;\n",
              "    }\n",
              "\n",
              "    .dataframe thead th {\n",
              "        text-align: right;\n",
              "    }\n",
              "</style>\n",
              "<table border=\"1\" class=\"dataframe\">\n",
              "  <thead>\n",
              "    <tr style=\"text-align: right;\">\n",
              "      <th></th>\n",
              "      <th>critic_score</th>\n",
              "      <th>user_score</th>\n",
              "      <th>world_sales</th>\n",
              "    </tr>\n",
              "  </thead>\n",
              "  <tbody>\n",
              "    <tr>\n",
              "      <th>critic_score</th>\n",
              "      <td>1.000000</td>\n",
              "      <td>0.763536</td>\n",
              "      <td>0.370201</td>\n",
              "    </tr>\n",
              "    <tr>\n",
              "      <th>user_score</th>\n",
              "      <td>0.763536</td>\n",
              "      <td>1.000000</td>\n",
              "      <td>0.407926</td>\n",
              "    </tr>\n",
              "    <tr>\n",
              "      <th>world_sales</th>\n",
              "      <td>0.370201</td>\n",
              "      <td>0.407926</td>\n",
              "      <td>1.000000</td>\n",
              "    </tr>\n",
              "  </tbody>\n",
              "</table>\n",
              "</div>"
            ],
            "text/plain": [
              "              critic_score  user_score  world_sales\n",
              "critic_score      1.000000    0.763536     0.370201\n",
              "user_score        0.763536    1.000000     0.407926\n",
              "world_sales       0.370201    0.407926     1.000000"
            ]
          },
          "metadata": {},
          "output_type": "display_data"
        },
        {
          "name": "stdout",
          "output_type": "stream",
          "text": [
            "\n",
            "Корреляция для платформы PC\n"
          ]
        },
        {
          "data": {
            "text/html": [
              "<div>\n",
              "<style scoped>\n",
              "    .dataframe tbody tr th:only-of-type {\n",
              "        vertical-align: middle;\n",
              "    }\n",
              "\n",
              "    .dataframe tbody tr th {\n",
              "        vertical-align: top;\n",
              "    }\n",
              "\n",
              "    .dataframe thead th {\n",
              "        text-align: right;\n",
              "    }\n",
              "</style>\n",
              "<table border=\"1\" class=\"dataframe\">\n",
              "  <thead>\n",
              "    <tr style=\"text-align: right;\">\n",
              "      <th></th>\n",
              "      <th>critic_score</th>\n",
              "      <th>user_score</th>\n",
              "      <th>world_sales</th>\n",
              "    </tr>\n",
              "  </thead>\n",
              "  <tbody>\n",
              "    <tr>\n",
              "      <th>critic_score</th>\n",
              "      <td>1.000000</td>\n",
              "      <td>0.466099</td>\n",
              "      <td>0.174634</td>\n",
              "    </tr>\n",
              "    <tr>\n",
              "      <th>user_score</th>\n",
              "      <td>0.466099</td>\n",
              "      <td>1.000000</td>\n",
              "      <td>-0.071597</td>\n",
              "    </tr>\n",
              "    <tr>\n",
              "      <th>world_sales</th>\n",
              "      <td>0.174634</td>\n",
              "      <td>-0.071597</td>\n",
              "      <td>1.000000</td>\n",
              "    </tr>\n",
              "  </tbody>\n",
              "</table>\n",
              "</div>"
            ],
            "text/plain": [
              "              critic_score  user_score  world_sales\n",
              "critic_score      1.000000    0.466099     0.174634\n",
              "user_score        0.466099    1.000000    -0.071597\n",
              "world_sales       0.174634   -0.071597     1.000000"
            ]
          },
          "metadata": {},
          "output_type": "display_data"
        },
        {
          "name": "stdout",
          "output_type": "stream",
          "text": [
            "\n",
            "Корреляция для платформы PSV\n"
          ]
        },
        {
          "data": {
            "text/html": [
              "<div>\n",
              "<style scoped>\n",
              "    .dataframe tbody tr th:only-of-type {\n",
              "        vertical-align: middle;\n",
              "    }\n",
              "\n",
              "    .dataframe tbody tr th {\n",
              "        vertical-align: top;\n",
              "    }\n",
              "\n",
              "    .dataframe thead th {\n",
              "        text-align: right;\n",
              "    }\n",
              "</style>\n",
              "<table border=\"1\" class=\"dataframe\">\n",
              "  <thead>\n",
              "    <tr style=\"text-align: right;\">\n",
              "      <th></th>\n",
              "      <th>critic_score</th>\n",
              "      <th>user_score</th>\n",
              "      <th>world_sales</th>\n",
              "    </tr>\n",
              "  </thead>\n",
              "  <tbody>\n",
              "    <tr>\n",
              "      <th>critic_score</th>\n",
              "      <td>1.000000</td>\n",
              "      <td>0.524066</td>\n",
              "      <td>0.042665</td>\n",
              "    </tr>\n",
              "    <tr>\n",
              "      <th>user_score</th>\n",
              "      <td>0.524066</td>\n",
              "      <td>1.000000</td>\n",
              "      <td>-0.168455</td>\n",
              "    </tr>\n",
              "    <tr>\n",
              "      <th>world_sales</th>\n",
              "      <td>0.042665</td>\n",
              "      <td>-0.168455</td>\n",
              "      <td>1.000000</td>\n",
              "    </tr>\n",
              "  </tbody>\n",
              "</table>\n",
              "</div>"
            ],
            "text/plain": [
              "              critic_score  user_score  world_sales\n",
              "critic_score      1.000000    0.524066     0.042665\n",
              "user_score        0.524066    1.000000    -0.168455\n",
              "world_sales       0.042665   -0.168455     1.000000"
            ]
          },
          "metadata": {},
          "output_type": "display_data"
        },
        {
          "name": "stdout",
          "output_type": "stream",
          "text": [
            "\n",
            "Корреляция для платформы Wii\n"
          ]
        },
        {
          "data": {
            "text/html": [
              "<div>\n",
              "<style scoped>\n",
              "    .dataframe tbody tr th:only-of-type {\n",
              "        vertical-align: middle;\n",
              "    }\n",
              "\n",
              "    .dataframe tbody tr th {\n",
              "        vertical-align: top;\n",
              "    }\n",
              "\n",
              "    .dataframe thead th {\n",
              "        text-align: right;\n",
              "    }\n",
              "</style>\n",
              "<table border=\"1\" class=\"dataframe\">\n",
              "  <thead>\n",
              "    <tr style=\"text-align: right;\">\n",
              "      <th></th>\n",
              "      <th>critic_score</th>\n",
              "      <th>user_score</th>\n",
              "      <th>world_sales</th>\n",
              "    </tr>\n",
              "  </thead>\n",
              "  <tbody>\n",
              "    <tr>\n",
              "      <th>critic_score</th>\n",
              "      <td>NaN</td>\n",
              "      <td>NaN</td>\n",
              "      <td>NaN</td>\n",
              "    </tr>\n",
              "    <tr>\n",
              "      <th>user_score</th>\n",
              "      <td>NaN</td>\n",
              "      <td>1.0</td>\n",
              "      <td>1.0</td>\n",
              "    </tr>\n",
              "    <tr>\n",
              "      <th>world_sales</th>\n",
              "      <td>NaN</td>\n",
              "      <td>1.0</td>\n",
              "      <td>1.0</td>\n",
              "    </tr>\n",
              "  </tbody>\n",
              "</table>\n",
              "</div>"
            ],
            "text/plain": [
              "              critic_score  user_score  world_sales\n",
              "critic_score           NaN         NaN          NaN\n",
              "user_score             NaN         1.0          1.0\n",
              "world_sales            NaN         1.0          1.0"
            ]
          },
          "metadata": {},
          "output_type": "display_data"
        },
        {
          "name": "stdout",
          "output_type": "stream",
          "text": [
            "\n"
          ]
        }
      ],
      "source": [
        "y = list(actual_platforms['platform'])\n",
        "y\n",
        "for i in y:\n",
        "    x = actual_data.query('platform == @i')\n",
        "    cor = x[['critic_score','user_score', 'world_sales']]\n",
        "    print('Корреляция для платформы', i)\n",
        "    display(cor.corr())\n",
        "    print()\n",
        "#actual_data.query('platform == \"Wii\"')"
      ]
    },
    {
      "cell_type": "markdown",
      "metadata": {
        "id": "Zsj4htTZ1_Qf"
      },
      "source": [
        "Как мы наблюдаем для всех случаев, кроме PC и XONE, выше среднего коррелируют отзывы критиков и простых работяг. С продажами у критиков похуже. Однако отзывы пользователей еще хуже коррелируют с продажами, поэтому нагонять жути на критиков не стоит. Как мы видим, статистика для Wii не отобразилась, если обратиться к срезу, то можно увидеть почти полное отсуствие оценок, как пользовательских, так и критиков, к сожалению, никаких выводов по этой плафторме сделать не выйдет."
      ]
    },
    {
      "cell_type": "markdown",
      "metadata": {
        "id": "IN396YGc1_Qf"
      },
      "source": [
        "### Посмотрим на общее распределение игр по жанрам. Что можно сказать о самых прибыльных жанрах? Выделяются ли жанры с высокими и низкими продажами?"
      ]
    },
    {
      "cell_type": "markdown",
      "metadata": {
        "id": "ERWj8U2R1_Qf"
      },
      "source": [
        "Построим сводную таблицу с жанрами и продажами. И построим по ней гистограму, какую делали ранее с платформами."
      ]
    },
    {
      "cell_type": "code",
      "execution_count": null,
      "metadata": {
        "id": "pzJfnlD91_Qf",
        "outputId": "913a0d54-7878-4493-fd39-305cc4c279fa"
      },
      "outputs": [
        {
          "data": {
            "text/html": [
              "<div>\n",
              "<style scoped>\n",
              "    .dataframe tbody tr th:only-of-type {\n",
              "        vertical-align: middle;\n",
              "    }\n",
              "\n",
              "    .dataframe tbody tr th {\n",
              "        vertical-align: top;\n",
              "    }\n",
              "\n",
              "    .dataframe thead th {\n",
              "        text-align: right;\n",
              "    }\n",
              "</style>\n",
              "<table border=\"1\" class=\"dataframe\">\n",
              "  <thead>\n",
              "    <tr style=\"text-align: right;\">\n",
              "      <th></th>\n",
              "      <th>genre</th>\n",
              "      <th>world_sales</th>\n",
              "    </tr>\n",
              "  </thead>\n",
              "  <tbody>\n",
              "    <tr>\n",
              "      <th>0</th>\n",
              "      <td>Shooter</td>\n",
              "      <td>1.335469</td>\n",
              "    </tr>\n",
              "    <tr>\n",
              "      <th>1</th>\n",
              "      <td>Sports</td>\n",
              "      <td>0.683688</td>\n",
              "    </tr>\n",
              "    <tr>\n",
              "      <th>2</th>\n",
              "      <td>Platform</td>\n",
              "      <td>0.476053</td>\n",
              "    </tr>\n",
              "    <tr>\n",
              "      <th>3</th>\n",
              "      <td>Fighting</td>\n",
              "      <td>0.470333</td>\n",
              "    </tr>\n",
              "    <tr>\n",
              "      <th>4</th>\n",
              "      <td>Role-Playing</td>\n",
              "      <td>0.459005</td>\n",
              "    </tr>\n",
              "    <tr>\n",
              "      <th>5</th>\n",
              "      <td>Racing</td>\n",
              "      <td>0.398841</td>\n",
              "    </tr>\n",
              "    <tr>\n",
              "      <th>6</th>\n",
              "      <td>Misc</td>\n",
              "      <td>0.338108</td>\n",
              "    </tr>\n",
              "    <tr>\n",
              "      <th>7</th>\n",
              "      <td>Action</td>\n",
              "      <td>0.324894</td>\n",
              "    </tr>\n",
              "    <tr>\n",
              "      <th>8</th>\n",
              "      <td>Simulation</td>\n",
              "      <td>0.298409</td>\n",
              "    </tr>\n",
              "    <tr>\n",
              "      <th>9</th>\n",
              "      <td>Puzzle</td>\n",
              "      <td>0.157857</td>\n",
              "    </tr>\n",
              "    <tr>\n",
              "      <th>10</th>\n",
              "      <td>Strategy</td>\n",
              "      <td>0.107027</td>\n",
              "    </tr>\n",
              "    <tr>\n",
              "      <th>11</th>\n",
              "      <td>Adventure</td>\n",
              "      <td>0.096685</td>\n",
              "    </tr>\n",
              "  </tbody>\n",
              "</table>\n",
              "</div>"
            ],
            "text/plain": [
              "           genre  world_sales\n",
              "0        Shooter     1.335469\n",
              "1         Sports     0.683688\n",
              "2       Platform     0.476053\n",
              "3       Fighting     0.470333\n",
              "4   Role-Playing     0.459005\n",
              "5         Racing     0.398841\n",
              "6           Misc     0.338108\n",
              "7         Action     0.324894\n",
              "8     Simulation     0.298409\n",
              "9         Puzzle     0.157857\n",
              "10      Strategy     0.107027\n",
              "11     Adventure     0.096685"
            ]
          },
          "execution_count": 65,
          "metadata": {},
          "output_type": "execute_result"
        }
      ],
      "source": [
        "sale_genre = actual_data.pivot_table(index='genre', values='world_sales', aggfunc='mean').sort_values(by='world_sales', ascending=False)\n",
        "sale_genre = sale_genre.reset_index().rename_axis(None, axis=1)\n",
        "sale_genre"
      ]
    },
    {
      "cell_type": "code",
      "execution_count": null,
      "metadata": {
        "id": "Mi_2Yq7H1_Qg",
        "outputId": "1b9f96f9-9e0d-4aab-bb62-45cfc95670c5"
      },
      "outputs": [
        {
          "data": {
            "text/plain": [
              "Text(0, 0.5, 'Среднее продаж')"
            ]
          },
          "execution_count": 67,
          "metadata": {},
          "output_type": "execute_result"
        },
        {
          "data": {
            "image/png": "[encoded data removed]",
            "text/plain": [
              "<Figure size 1080x720 with 1 Axes>"
            ]
          },
          "metadata": {
            "needs_background": "light"
          },
          "output_type": "display_data"
        }
      ],
      "source": [
        "plt.figure(figsize=(15,10))\n",
        "seaborn.barplot(x=sale_genre['genre'],y=sale_genre['world_sales'])\n",
        "\n",
        "plt.title(\"Продажи за весь период\")\n",
        "plt.xlabel('Жанры')\n",
        "plt.ylabel(\"Среднее продаж\")"
      ]
    },
    {
      "cell_type": "markdown",
      "metadata": {
        "id": "D9X9l1Uc1_Qg"
      },
      "source": [
        "Самые прибыльные: игры жанра шутер, спорт и платформеры. Приключения, стратегии и пазлы на последних местах."
      ]
    },
    {
      "cell_type": "markdown",
      "metadata": {
        "id": "Mnrf2kOx1_Qg"
      },
      "source": [
        "**Вывод по главе:** Были проведены различные манипуляции в интересах данных, выяснили:\n",
        "- Все данные при желании можно поделить на 3 периода.\n",
        "- Средний срок жизни платформы около 10 лет. Но производители стараются уложиться в рамках 7 и выпускают новую версию.\n",
        "- Был определен топ лучших платформ по актуальному периоду.\n",
        "- По платформам из актуального периода построен и проанализирован график ящик с усами.\n",
        "- Выяснили, что пользователи и критики похожи в своих взглядах, но у последних более подвешен глаз на прибыльные проекты.\n",
        "- Был определен топ жанров игр."
      ]
    },
    {
      "cell_type": "markdown",
      "metadata": {
        "id": "F1QSV-_R1_Qg"
      },
      "source": [
        "## Определите для пользователя каждого региона (NA, EU, JP):"
      ]
    },
    {
      "cell_type": "markdown",
      "metadata": {
        "id": "9GZIMprs1_Qg"
      },
      "source": [
        "Опишем функции для анализа следующих параметров:\n",
        "- Самые популярные платформы.\n",
        "- Самые популярные жанры.\n",
        "- Влияет ли рейтинг ESRB на продажи."
      ]
    },
    {
      "cell_type": "code",
      "execution_count": null,
      "metadata": {
        "id": "RYQqCLiD1_Qh"
      },
      "outputs": [],
      "source": [
        "actual_data['rating'] = actual_data['rating'].fillna('no rating')\n",
        "\n",
        "def popular_platform(cntr):\n",
        "    actual_data.pivot_table(\n",
        "        index = 'platform', values = cntr, aggfunc = 'sum').sort_values(\n",
        "        ascending=False, by = cntr).plot(kind = 'bar', figsize=(15,5))\n",
        "\n",
        "def popular_genre(cntr):\n",
        "    actual_data.pivot_table(\n",
        "        index = 'genre', values = cntr, aggfunc = 'sum').sort_values(\n",
        "        ascending=False, by = cntr).plot(kind = 'bar', figsize=(15,5))\n",
        "\n",
        "#def ESRB_influence(cntr):\n",
        "    #ESRB = pd.pivot_table(actual_data, index='rating', values=cntr,aggfunc='sum').sort_values(cntr, ascending=False)\n",
        "    #ESRB почему то без функции - работает, с ней - нет:C"
      ]
    },
    {
      "cell_type": "markdown",
      "metadata": {
        "id": "tFgzc9Kr1_Qh"
      },
      "source": [
        "### Определим для пользователя региона NA необходимые параметры"
      ]
    },
    {
      "cell_type": "code",
      "execution_count": null,
      "metadata": {
        "scrolled": false,
        "id": "L6R0FlDh1_Qh",
        "outputId": "d38e8761-0634-4cfd-ff34-5118c8da41e7"
      },
      "outputs": [
        {
          "data": {
            "text/html": [
              "<div>\n",
              "<style scoped>\n",
              "    .dataframe tbody tr th:only-of-type {\n",
              "        vertical-align: middle;\n",
              "    }\n",
              "\n",
              "    .dataframe tbody tr th {\n",
              "        vertical-align: top;\n",
              "    }\n",
              "\n",
              "    .dataframe thead th {\n",
              "        text-align: right;\n",
              "    }\n",
              "</style>\n",
              "<table border=\"1\" class=\"dataframe\">\n",
              "  <thead>\n",
              "    <tr style=\"text-align: right;\">\n",
              "      <th></th>\n",
              "      <th>na_sales</th>\n",
              "    </tr>\n",
              "    <tr>\n",
              "      <th>rating</th>\n",
              "      <th></th>\n",
              "    </tr>\n",
              "  </thead>\n",
              "  <tbody>\n",
              "    <tr>\n",
              "      <th>M</th>\n",
              "      <td>96.42</td>\n",
              "    </tr>\n",
              "    <tr>\n",
              "      <th>no rating</th>\n",
              "      <td>64.72</td>\n",
              "    </tr>\n",
              "    <tr>\n",
              "      <th>E</th>\n",
              "      <td>50.74</td>\n",
              "    </tr>\n",
              "    <tr>\n",
              "      <th>T</th>\n",
              "      <td>38.95</td>\n",
              "    </tr>\n",
              "    <tr>\n",
              "      <th>E10+</th>\n",
              "      <td>33.23</td>\n",
              "    </tr>\n",
              "  </tbody>\n",
              "</table>\n",
              "</div>"
            ],
            "text/plain": [
              "           na_sales\n",
              "rating             \n",
              "M             96.42\n",
              "no rating     64.72\n",
              "E             50.74\n",
              "T             38.95\n",
              "E10+          33.23"
            ]
          },
          "execution_count": 69,
          "metadata": {},
          "output_type": "execute_result"
        },
        {
          "data": {
            "image/png": "[encoded data removed]",
            "text/plain": [
              "<Figure size 1080x360 with 1 Axes>"
            ]
          },
          "metadata": {
            "needs_background": "light"
          },
          "output_type": "display_data"
        },
        {
          "data": {
            "image/png": "[encoded data removed]",
            "text/plain": [
              "<Figure size 1080x360 with 1 Axes>"
            ]
          },
          "metadata": {
            "needs_background": "light"
          },
          "output_type": "display_data"
        }
      ],
      "source": [
        "popular_platform('na_sales')\n",
        "popular_genre('na_sales')\n",
        "pd.pivot_table(actual_data, index='rating', values='na_sales', aggfunc='sum').sort_values('na_sales', ascending=False)"
      ]
    },
    {
      "cell_type": "markdown",
      "metadata": {
        "id": "2JIhAQnM1_Qi"
      },
      "source": [
        "В Северной Америке преобладают игры с рейтингом М. Самые популярные приставки - X360, PS4, PS3, XOne и 3DS. Жанры - экшен, шутер, спортивные игры, ролевые и музыкальные."
      ]
    },
    {
      "cell_type": "markdown",
      "metadata": {
        "id": "llRoVfvA1_Qi"
      },
      "source": [
        "### Определим для пользователя региона EU необходимые параметры"
      ]
    },
    {
      "cell_type": "code",
      "execution_count": null,
      "metadata": {
        "id": "uN4ew2aM1_Qi",
        "outputId": "e55c5f1f-dffc-40ee-82e5-6378e4683475"
      },
      "outputs": [
        {
          "data": {
            "text/html": [
              "<div>\n",
              "<style scoped>\n",
              "    .dataframe tbody tr th:only-of-type {\n",
              "        vertical-align: middle;\n",
              "    }\n",
              "\n",
              "    .dataframe tbody tr th {\n",
              "        vertical-align: top;\n",
              "    }\n",
              "\n",
              "    .dataframe thead th {\n",
              "        text-align: right;\n",
              "    }\n",
              "</style>\n",
              "<table border=\"1\" class=\"dataframe\">\n",
              "  <thead>\n",
              "    <tr style=\"text-align: right;\">\n",
              "      <th></th>\n",
              "      <th>eu_sales</th>\n",
              "    </tr>\n",
              "    <tr>\n",
              "      <th>rating</th>\n",
              "      <th></th>\n",
              "    </tr>\n",
              "  </thead>\n",
              "  <tbody>\n",
              "    <tr>\n",
              "      <th>M</th>\n",
              "      <td>93.44</td>\n",
              "    </tr>\n",
              "    <tr>\n",
              "      <th>no rating</th>\n",
              "      <td>58.95</td>\n",
              "    </tr>\n",
              "    <tr>\n",
              "      <th>E</th>\n",
              "      <td>58.06</td>\n",
              "    </tr>\n",
              "    <tr>\n",
              "      <th>T</th>\n",
              "      <td>34.07</td>\n",
              "    </tr>\n",
              "    <tr>\n",
              "      <th>E10+</th>\n",
              "      <td>26.16</td>\n",
              "    </tr>\n",
              "  </tbody>\n",
              "</table>\n",
              "</div>"
            ],
            "text/plain": [
              "           eu_sales\n",
              "rating             \n",
              "M             93.44\n",
              "no rating     58.95\n",
              "E             58.06\n",
              "T             34.07\n",
              "E10+          26.16"
            ]
          },
          "execution_count": 70,
          "metadata": {},
          "output_type": "execute_result"
        },
        {
          "data": {
            "image/png": "[encoded data removed]",
            "text/plain": [
              "<Figure size 1080x360 with 1 Axes>"
            ]
          },
          "metadata": {
            "needs_background": "light"
          },
          "output_type": "display_data"
        },
        {
          "data": {
            "image/png": "[encoded data removed]",
            "text/plain": [
              "<Figure size 1080x360 with 1 Axes>"
            ]
          },
          "metadata": {
            "needs_background": "light"
          },
          "output_type": "display_data"
        }
      ],
      "source": [
        "popular_platform('eu_sales')\n",
        "popular_genre('eu_sales')\n",
        "pd.pivot_table(actual_data, index='rating', values='eu_sales', aggfunc='sum').sort_values('eu_sales', ascending=False)"
      ]
    },
    {
      "cell_type": "markdown",
      "metadata": {
        "id": "Yg3YH1Rg1_Qi"
      },
      "source": [
        "В Европе преобладают игры с рейтингом М. В целом показатели похожи с Северрной америкой в плане рейтинга. Самые популярные приставки - PS4, PS3, PC, XOne и 3DS. Жанры - экшен, шутер, спортивные игры, ролевые и гонки. Портрет американца и европейца очень похож, не удивительно, ведь американцы это иммигрировавшие когда-то из европы люди."
      ]
    },
    {
      "cell_type": "markdown",
      "metadata": {
        "id": "sjJXKjzn1_Qj"
      },
      "source": [
        "### Определим для пользователя региона JP необходимые параметры"
      ]
    },
    {
      "cell_type": "code",
      "execution_count": null,
      "metadata": {
        "id": "TNTcFBw21_Qj",
        "outputId": "b9f2e71e-2d89-41af-8e5e-564f48d43469"
      },
      "outputs": [
        {
          "data": {
            "text/html": [
              "<div>\n",
              "<style scoped>\n",
              "    .dataframe tbody tr th:only-of-type {\n",
              "        vertical-align: middle;\n",
              "    }\n",
              "\n",
              "    .dataframe tbody tr th {\n",
              "        vertical-align: top;\n",
              "    }\n",
              "\n",
              "    .dataframe thead th {\n",
              "        text-align: right;\n",
              "    }\n",
              "</style>\n",
              "<table border=\"1\" class=\"dataframe\">\n",
              "  <thead>\n",
              "    <tr style=\"text-align: right;\">\n",
              "      <th></th>\n",
              "      <th>jp_sales</th>\n",
              "    </tr>\n",
              "    <tr>\n",
              "      <th>rating</th>\n",
              "      <th></th>\n",
              "    </tr>\n",
              "  </thead>\n",
              "  <tbody>\n",
              "    <tr>\n",
              "      <th>no rating</th>\n",
              "      <td>56.54</td>\n",
              "    </tr>\n",
              "    <tr>\n",
              "      <th>T</th>\n",
              "      <td>14.78</td>\n",
              "    </tr>\n",
              "    <tr>\n",
              "      <th>E</th>\n",
              "      <td>8.94</td>\n",
              "    </tr>\n",
              "    <tr>\n",
              "      <th>M</th>\n",
              "      <td>8.01</td>\n",
              "    </tr>\n",
              "    <tr>\n",
              "      <th>E10+</th>\n",
              "      <td>4.46</td>\n",
              "    </tr>\n",
              "  </tbody>\n",
              "</table>\n",
              "</div>"
            ],
            "text/plain": [
              "           jp_sales\n",
              "rating             \n",
              "no rating     56.54\n",
              "T             14.78\n",
              "E              8.94\n",
              "M              8.01\n",
              "E10+           4.46"
            ]
          },
          "execution_count": 72,
          "metadata": {},
          "output_type": "execute_result"
        },
        {
          "data": {
            "image/png": "[encoded data removed]",
            "text/plain": [
              "<Figure size 1080x360 with 1 Axes>"
            ]
          },
          "metadata": {
            "needs_background": "light"
          },
          "output_type": "display_data"
        },
        {
          "data": {
            "image/png": "[encoded data removed]",
            "text/plain": [
              "<Figure size 1080x360 with 1 Axes>"
            ]
          },
          "metadata": {
            "needs_background": "light"
          },
          "output_type": "display_data"
        }
      ],
      "source": [
        "popular_platform('jp_sales')\n",
        "popular_genre('jp_sales')\n",
        "pd.pivot_table(actual_data, index='rating', values='jp_sales',aggfunc='sum').sort_values('jp_sales', ascending=False)"
      ]
    },
    {
      "cell_type": "markdown",
      "metadata": {
        "id": "qlgyjX5p1_Qj"
      },
      "source": [
        "В Японии в целом популярность по рейтингу примерно одинакова, не считая игр без рейтинга, они доминируют, не знаю почему. Самые популярные приставки - 3DS, PS3, PSV, PS4, WiiU. Жанры - ролевые, экшен, музыкальные игры, симуляторы и шутеры.\n",
        "Здесь картина уже существенно меняется, как по рейтингам, по платформам и жанрам. Чувствуется совсем другой менталитет."
      ]
    },
    {
      "cell_type": "markdown",
      "metadata": {
        "id": "-c4FUj--1_Qj"
      },
      "source": [
        "**Вывод по главе:** Сравнили портреты пользователей разных регионов. Пришли к выводу, что американцы ближе европейцам по игровым вкусам, нежели японцы."
      ]
    },
    {
      "cell_type": "markdown",
      "metadata": {
        "id": "Ert-diGA1_Qk"
      },
      "source": [
        "## Проверим гипотезы"
      ]
    },
    {
      "cell_type": "markdown",
      "metadata": {
        "id": "MutIZY7T1_Qk"
      },
      "source": [
        "### Средние пользовательские рейтинги платформ Xbox One и PC одинаковые"
      ]
    },
    {
      "cell_type": "markdown",
      "metadata": {
        "id": "lR7wedcR1_Qk"
      },
      "source": [
        "Для проверки гипотезы воспользуемся критерием Стьюдента. Критерий Стьюдента относится к одному из наиболее давно разработанных и широко используемых методов статистики. Чаще всего он применяется для проверки нулевой гипотезы о равенстве средних значений двух совокупностей. В результате проверки можем получить два случая, \"Отвергаем нулевую гипотезу\" и \"Не получилось отвергнуть нулевую гипотезу\". При получении ответа \"Отвергаем нулевую гипотезу\" это говорит о том, что гипотеза противоречит данным и скорей всего наше предположение неверно и наоборот."
      ]
    },
    {
      "cell_type": "markdown",
      "metadata": {
        "id": "JwLeg2dU1_Qk"
      },
      "source": [
        "Наши гипотезы:\n",
        "- Н0 (нулевая) - средние пользовательские рейтинги платформ Xbox One и PC одинаковые;\n",
        "- H1 (альтернативная) - средние пользовательские рейтинги платформ Xbox One и PC неодинаковые."
      ]
    },
    {
      "cell_type": "markdown",
      "metadata": {
        "id": "VP30BWjM1_Qk"
      },
      "source": [
        "Сделаем необходимые нам в аналитике срезы:\n",
        "Брать Nan и 0 рейтинги не будем, 0 - человек ставит скорее всего ставит который не смог скачать и оценить игру."
      ]
    },
    {
      "cell_type": "code",
      "execution_count": null,
      "metadata": {
        "id": "YpsFughF1_Ql"
      },
      "outputs": [],
      "source": [
        "XOne = actual_data.query(\"platform == 'XOne' & user_score > 0\")\n",
        "PC = actual_data.query(\"platform == 'PC' & user_score > 0\")\n",
        "# PC['user_score'].count()\n",
        "# XOne['user_score'].count()"
      ]
    },
    {
      "cell_type": "code",
      "execution_count": null,
      "metadata": {
        "id": "GF0hY22t1_Ql",
        "outputId": "48a8cefa-21bc-4d16-b004-ea9fb88cf5f7"
      },
      "outputs": [
        {
          "data": {
            "text/plain": [
              "<AxesSubplot:>"
            ]
          },
          "execution_count": 74,
          "metadata": {},
          "output_type": "execute_result"
        },
        {
          "data": {
            "image/png": "[encoded data removed]",
            "text/plain": [
              "<Figure size 432x288 with 1 Axes>"
            ]
          },
          "metadata": {
            "needs_background": "light"
          },
          "output_type": "display_data"
        }
      ],
      "source": [
        "PC['user_score'].hist(bins = 30)"
      ]
    },
    {
      "cell_type": "code",
      "execution_count": null,
      "metadata": {
        "id": "AeOQFpuH1_Ql",
        "outputId": "c0e88dcd-1045-44e0-89bb-2ea6b8f09369"
      },
      "outputs": [
        {
          "data": {
            "text/plain": [
              "<AxesSubplot:>"
            ]
          },
          "execution_count": 75,
          "metadata": {},
          "output_type": "execute_result"
        },
        {
          "data": {
            "image/png": "[encoded data removed]",
            "text/plain": [
              "<Figure size 432x288 with 1 Axes>"
            ]
          },
          "metadata": {
            "needs_background": "light"
          },
          "output_type": "display_data"
        }
      ],
      "source": [
        "XOne['user_score'].hist(bins = 30)"
      ]
    },
    {
      "cell_type": "markdown",
      "metadata": {
        "id": "T0ntP4Ks1_Ql"
      },
      "source": [
        "Тяжело что-то сказать точно по гистограмам, однако, кажется, что первая игра была чуть более успешна. Для оценки гипотезы применим тест Стюдента.\n",
        "Если отвергаем нулевую гипотезу, значит, наше предположение неверно и средняя оценка отлична и наоборот. Альфа возьмем по золотому стандарту .05. Объем двух выборок - около 200, вполне себе кажется достаточным для анализа."
      ]
    },
    {
      "cell_type": "code",
      "execution_count": null,
      "metadata": {
        "id": "9kE-guex1_Ql",
        "outputId": "31f3d6f0-3ca5-4fcd-a017-456f86a1a0a5"
      },
      "outputs": [
        {
          "name": "stdout",
          "output_type": "stream",
          "text": [
            "p-значение: 0.11601398086668832\n",
            "Не получилось отвергнуть нулевую гипотезу\n"
          ]
        }
      ],
      "source": [
        "alpha = .05\n",
        "\n",
        "results = st.ttest_ind(\n",
        "    XOne['user_score'],\n",
        "    PC['user_score'],\n",
        "    equal_var=False,\n",
        ")\n",
        "\n",
        "print('p-значение:', results.pvalue)\n",
        "\n",
        "if (results.pvalue < alpha):\n",
        "    print(\"Отвергаем нулевую гипотезу\")\n",
        "else:\n",
        "    print(\"Не получилось отвергнуть нулевую гипотезу\")"
      ]
    },
    {
      "cell_type": "markdown",
      "metadata": {
        "id": "_Wc3YmWl1_Qm"
      },
      "source": [
        "p-value получили равным ~11%. Значит наша нулевая гипотеза вполне состоятельна и условий для отвержения ее недостаточно."
      ]
    },
    {
      "cell_type": "markdown",
      "metadata": {
        "id": "1npeGx7T1_Qm"
      },
      "source": [
        "### Средние пользовательские рейтинги жанров Action и Sports разные"
      ]
    },
    {
      "cell_type": "markdown",
      "metadata": {
        "id": "3vF75Kn21_Qm"
      },
      "source": [
        "Наши гипотезы:\n",
        "- Н0 (нулевая) - средние пользовательские рейтинги жанров Action и Sports одинаковые;\n",
        "- H1 (альтернативная) - средние пользовательские рейтинги жанров Action и Sports неодинаковые."
      ]
    },
    {
      "cell_type": "code",
      "execution_count": null,
      "metadata": {
        "id": "2Qjcsn8c1_Qm"
      },
      "outputs": [],
      "source": [
        "action = actual_data.loc[actual_data['genre']=='Action'].user_score.dropna().values\n",
        "sports = actual_data.loc[actual_data['genre']=='Sports'].user_score.dropna().values"
      ]
    },
    {
      "cell_type": "code",
      "execution_count": null,
      "metadata": {
        "id": "7Ie8LIjD1_Qm",
        "outputId": "d898d4f3-1b9a-43f2-eba4-13be9656eefd"
      },
      "outputs": [
        {
          "name": "stdout",
          "output_type": "stream",
          "text": [
            "p-значение: 2.8711147985105864e-19\n",
            "Отклоняем нулевую гипотезу о равенстве средних\n"
          ]
        }
      ],
      "source": [
        "alpha = .05\n",
        "\n",
        "if st.ttest_ind(action,sports,equal_var=False).pvalue>alpha:\n",
        "    print('p-значение:', st.ttest_ind(action,sports,equal_var=True).pvalue)\n",
        "    print('Не можем отклонить нулевую гипотезу')\n",
        "else:\n",
        "    print('p-значение:', st.ttest_ind(action,sports,equal_var=True).pvalue)\n",
        "    print('Отклоняем нулевую гипотезу о равенстве средних')\n",
        ""
      ]
    },
    {
      "cell_type": "markdown",
      "metadata": {
        "id": "xrX8educ1_Qn"
      },
      "source": [
        "Получить одинаковые средние по двум данным жанрам на грани невозможного в этой вселенной."
      ]
    },
    {
      "cell_type": "markdown",
      "metadata": {
        "id": "MX4MlUEr1_Qn"
      },
      "source": [
        "**Вывод по главе:** для проверки гипотез воспользовались тестом Стьюдента. Пришли к выводу о том, что средние пользовательские рейтинги платформ Xbox One и PC одинаковые и средние пользовательские рейтинги жанров Action и Sports неодинаковые."
      ]
    },
    {
      "cell_type": "markdown",
      "metadata": {
        "id": "M8cz-om61_Qn"
      },
      "source": [
        "## Общий вывод"
      ]
    },
    {
      "cell_type": "markdown",
      "metadata": {
        "id": "Qrmp88K81_Qn"
      },
      "source": [
        "В ходе подготовки данных к аналитике были выполнены:\n",
        "- Очистка датасета от пропусков, где это возможно.\n",
        "- Удаление ненужных, неинформативных строк.\n",
        "- Приведение данных к нужному типу данных.\n",
        "\n",
        "В ходе аналитической работы были выявлены следующие закономерности:\n",
        "- Все данные о платформах при желании можно поделить на 3 периода.\n",
        "- Средний срок жизни платформы около 10 лет. Но производители стараются уложиться в рамках 7 и выпускают новую версию.\n",
        "- По актуальному периоду лидируют PS4 и XOne.\n",
        "- Пользователи и критики похожи в своих взглядах, но у последних более подвешен глаз на прибыльные проекты.\n",
        "- Наипопулярный и актуальный жанр игр - Экшен.\n",
        "\n",
        "В ходе проверки гипотез выяснилось, что:\n",
        "- Cредние пользовательские рейтинги платформ Xbox One и PC одинаковые.\n",
        "- Cредние пользовательские рейтинги жанров Action и Sports разные."
      ]
    },
    {
      "cell_type": "code",
      "execution_count": null,
      "metadata": {
        "id": "JIK_Q6iz1_Qo"
      },
      "outputs": [],
      "source": []
    }
  ],
  "metadata": {
    "ExecuteTimeLog": [
      {
        "duration": 47,
        "start_time": "2022-10-24T17:45:32.569Z"
      },
      {
        "duration": 5,
        "start_time": "2022-10-24T17:45:42.109Z"
      },
      {
        "duration": 1016,
        "start_time": "2022-10-24T17:45:43.399Z"
      },
      {
        "duration": 233,
        "start_time": "2022-10-24T17:45:45.555Z"
      },
      {
        "duration": 79,
        "start_time": "2022-10-24T17:45:55.672Z"
      },
      {
        "duration": 74,
        "start_time": "2022-10-24T17:46:48.639Z"
      },
      {
        "duration": 75,
        "start_time": "2022-10-24T17:46:54.542Z"
      },
      {
        "duration": 76,
        "start_time": "2022-10-24T17:46:57.157Z"
      },
      {
        "duration": 3,
        "start_time": "2022-10-24T17:51:10.278Z"
      },
      {
        "duration": 3,
        "start_time": "2022-10-24T17:51:12.566Z"
      },
      {
        "duration": 65,
        "start_time": "2022-10-24T17:51:13.074Z"
      },
      {
        "duration": 4,
        "start_time": "2022-10-24T17:57:14.616Z"
      },
      {
        "duration": 14,
        "start_time": "2022-10-24T17:57:35.276Z"
      },
      {
        "duration": 14,
        "start_time": "2022-10-24T17:59:26.145Z"
      },
      {
        "duration": 58,
        "start_time": "2022-10-24T18:03:49.419Z"
      },
      {
        "duration": 17,
        "start_time": "2022-10-24T18:04:01.146Z"
      },
      {
        "duration": 14,
        "start_time": "2022-10-24T18:04:13.919Z"
      },
      {
        "duration": 12,
        "start_time": "2022-10-24T18:04:37.460Z"
      },
      {
        "duration": 88,
        "start_time": "2022-10-24T18:05:28.250Z"
      },
      {
        "duration": 11,
        "start_time": "2022-10-24T18:05:35.814Z"
      },
      {
        "duration": 85,
        "start_time": "2022-10-25T16:49:48.957Z"
      },
      {
        "duration": 1217,
        "start_time": "2022-10-25T16:49:56.862Z"
      },
      {
        "duration": 115,
        "start_time": "2022-10-25T16:49:58.082Z"
      },
      {
        "duration": 6,
        "start_time": "2022-10-25T16:49:59.041Z"
      },
      {
        "duration": 19,
        "start_time": "2022-10-25T16:49:59.607Z"
      },
      {
        "duration": 71,
        "start_time": "2022-10-25T16:50:00.291Z"
      },
      {
        "duration": 13,
        "start_time": "2022-10-25T17:18:15.957Z"
      },
      {
        "duration": 4,
        "start_time": "2022-10-25T17:19:49.386Z"
      },
      {
        "duration": 9,
        "start_time": "2022-10-25T17:20:47.869Z"
      },
      {
        "duration": 8,
        "start_time": "2022-10-25T17:20:51.452Z"
      },
      {
        "duration": 7,
        "start_time": "2022-10-25T17:21:03.690Z"
      },
      {
        "duration": 7,
        "start_time": "2022-10-25T17:41:14.656Z"
      },
      {
        "duration": 8,
        "start_time": "2022-10-25T17:45:08.305Z"
      },
      {
        "duration": 11,
        "start_time": "2022-10-25T17:45:46.816Z"
      },
      {
        "duration": 20,
        "start_time": "2022-10-25T17:59:42.693Z"
      },
      {
        "duration": 10,
        "start_time": "2022-10-25T17:59:46.593Z"
      },
      {
        "duration": 5,
        "start_time": "2022-10-25T18:02:55.195Z"
      },
      {
        "duration": 10,
        "start_time": "2022-10-25T18:02:59.831Z"
      },
      {
        "duration": 45,
        "start_time": "2022-10-26T13:21:57.144Z"
      },
      {
        "duration": 1215,
        "start_time": "2022-10-26T13:21:59.962Z"
      },
      {
        "duration": 117,
        "start_time": "2022-10-26T13:22:01.179Z"
      },
      {
        "duration": 3,
        "start_time": "2022-10-26T13:22:01.297Z"
      },
      {
        "duration": 13,
        "start_time": "2022-10-26T13:22:02.137Z"
      },
      {
        "duration": 4,
        "start_time": "2022-10-26T13:22:02.863Z"
      },
      {
        "duration": 7,
        "start_time": "2022-10-26T13:22:03.552Z"
      },
      {
        "duration": 10,
        "start_time": "2022-10-26T13:22:04.582Z"
      },
      {
        "duration": 15,
        "start_time": "2022-10-26T13:22:05.779Z"
      },
      {
        "duration": 7,
        "start_time": "2022-10-26T13:22:06.981Z"
      },
      {
        "duration": 17,
        "start_time": "2022-10-26T13:22:09.915Z"
      },
      {
        "duration": 17,
        "start_time": "2022-10-26T13:27:37.012Z"
      },
      {
        "duration": 154,
        "start_time": "2022-10-26T13:29:52.853Z"
      },
      {
        "duration": 169,
        "start_time": "2022-10-26T13:30:01.552Z"
      },
      {
        "duration": 175,
        "start_time": "2022-10-26T13:30:12.066Z"
      },
      {
        "duration": 175,
        "start_time": "2022-10-26T13:30:21.100Z"
      },
      {
        "duration": 175,
        "start_time": "2022-10-26T13:30:28.621Z"
      },
      {
        "duration": 193,
        "start_time": "2022-10-26T13:30:39.173Z"
      },
      {
        "duration": 211,
        "start_time": "2022-10-26T13:33:14.390Z"
      },
      {
        "duration": 66,
        "start_time": "2022-10-26T13:59:51.045Z"
      },
      {
        "duration": 19,
        "start_time": "2022-10-26T14:00:11.186Z"
      },
      {
        "duration": 17,
        "start_time": "2022-10-26T14:00:17.482Z"
      },
      {
        "duration": 783,
        "start_time": "2022-10-26T14:03:29.163Z"
      },
      {
        "duration": 748,
        "start_time": "2022-10-26T14:03:42.540Z"
      },
      {
        "duration": 1127,
        "start_time": "2022-10-26T14:04:07.453Z"
      },
      {
        "duration": 124,
        "start_time": "2022-10-26T14:04:22.087Z"
      },
      {
        "duration": 17,
        "start_time": "2022-10-26T14:07:40.640Z"
      },
      {
        "duration": 114,
        "start_time": "2022-10-26T14:08:25.165Z"
      },
      {
        "duration": 350,
        "start_time": "2022-10-26T14:08:36.986Z"
      },
      {
        "duration": 366,
        "start_time": "2022-10-26T14:08:47.202Z"
      },
      {
        "duration": 402,
        "start_time": "2022-10-26T14:08:58.881Z"
      },
      {
        "duration": 441,
        "start_time": "2022-10-26T14:09:08.255Z"
      },
      {
        "duration": 364,
        "start_time": "2022-10-26T14:09:15.475Z"
      },
      {
        "duration": 385,
        "start_time": "2022-10-26T14:09:54.354Z"
      },
      {
        "duration": 341,
        "start_time": "2022-10-26T14:09:59.851Z"
      },
      {
        "duration": 334,
        "start_time": "2022-10-26T14:13:37.933Z"
      },
      {
        "duration": 5,
        "start_time": "2022-10-26T14:15:12.301Z"
      },
      {
        "duration": 336,
        "start_time": "2022-10-26T14:20:15.048Z"
      },
      {
        "duration": 25,
        "start_time": "2022-10-26T14:21:11.627Z"
      },
      {
        "duration": 5,
        "start_time": "2022-10-26T14:22:27.935Z"
      },
      {
        "duration": 10,
        "start_time": "2022-10-26T14:22:39.143Z"
      },
      {
        "duration": 8,
        "start_time": "2022-10-26T14:22:44.011Z"
      },
      {
        "duration": 4,
        "start_time": "2022-10-26T14:22:47.783Z"
      },
      {
        "duration": 4,
        "start_time": "2022-10-26T14:23:29.348Z"
      },
      {
        "duration": 58,
        "start_time": "2022-10-26T14:23:37.120Z"
      },
      {
        "duration": 728,
        "start_time": "2022-10-26T14:24:22.136Z"
      },
      {
        "duration": 746,
        "start_time": "2022-10-26T14:24:54.187Z"
      },
      {
        "duration": 3,
        "start_time": "2022-10-26T14:25:34.485Z"
      },
      {
        "duration": 811,
        "start_time": "2022-10-26T14:25:36.737Z"
      },
      {
        "duration": 136,
        "start_time": "2022-10-26T14:25:56.619Z"
      },
      {
        "duration": 933,
        "start_time": "2022-10-26T14:26:05.197Z"
      },
      {
        "duration": 1075,
        "start_time": "2022-10-26T14:26:30.461Z"
      },
      {
        "duration": 62,
        "start_time": "2022-10-26T14:26:31.538Z"
      },
      {
        "duration": 3,
        "start_time": "2022-10-26T14:26:31.601Z"
      },
      {
        "duration": 36,
        "start_time": "2022-10-26T14:26:31.607Z"
      },
      {
        "duration": 7,
        "start_time": "2022-10-26T14:26:31.645Z"
      },
      {
        "duration": 37,
        "start_time": "2022-10-26T14:26:31.653Z"
      },
      {
        "duration": 22,
        "start_time": "2022-10-26T14:26:31.692Z"
      },
      {
        "duration": 32,
        "start_time": "2022-10-26T14:26:31.715Z"
      },
      {
        "duration": 13,
        "start_time": "2022-10-26T14:26:31.748Z"
      },
      {
        "duration": 218,
        "start_time": "2022-10-26T14:26:31.763Z"
      },
      {
        "duration": 344,
        "start_time": "2022-10-26T14:26:31.983Z"
      },
      {
        "duration": 5,
        "start_time": "2022-10-26T14:26:32.329Z"
      },
      {
        "duration": 953,
        "start_time": "2022-10-26T14:26:32.336Z"
      },
      {
        "duration": 25,
        "start_time": "2022-10-26T14:27:59.302Z"
      },
      {
        "duration": 127,
        "start_time": "2022-10-26T14:28:10.970Z"
      },
      {
        "duration": 3,
        "start_time": "2022-10-26T14:31:20.689Z"
      },
      {
        "duration": 8,
        "start_time": "2022-10-26T14:31:30.238Z"
      },
      {
        "duration": 816,
        "start_time": "2022-10-26T14:31:52.576Z"
      },
      {
        "duration": 7,
        "start_time": "2022-10-26T14:32:00.903Z"
      },
      {
        "duration": 8,
        "start_time": "2022-10-26T14:33:22.199Z"
      },
      {
        "duration": 9,
        "start_time": "2022-10-26T14:33:30.139Z"
      },
      {
        "duration": 13,
        "start_time": "2022-10-26T14:34:04.340Z"
      },
      {
        "duration": 11,
        "start_time": "2022-10-26T14:34:10.867Z"
      },
      {
        "duration": 14,
        "start_time": "2022-10-26T14:34:14.063Z"
      },
      {
        "duration": 19,
        "start_time": "2022-10-26T14:34:24.670Z"
      },
      {
        "duration": 1079,
        "start_time": "2022-10-26T14:34:56.770Z"
      },
      {
        "duration": 23,
        "start_time": "2022-10-26T14:51:19.188Z"
      },
      {
        "duration": 14,
        "start_time": "2022-10-26T14:51:35.891Z"
      },
      {
        "duration": 14,
        "start_time": "2022-10-26T14:57:13.976Z"
      },
      {
        "duration": 14,
        "start_time": "2022-10-26T14:58:06.137Z"
      },
      {
        "duration": 15,
        "start_time": "2022-10-26T14:58:11.165Z"
      },
      {
        "duration": 11,
        "start_time": "2022-10-26T14:58:29.794Z"
      },
      {
        "duration": 17,
        "start_time": "2022-10-26T14:58:35.518Z"
      },
      {
        "duration": 91,
        "start_time": "2022-10-26T14:58:40.345Z"
      },
      {
        "duration": 9,
        "start_time": "2022-10-26T14:58:44.736Z"
      },
      {
        "duration": 10,
        "start_time": "2022-10-26T15:04:38.067Z"
      },
      {
        "duration": 10,
        "start_time": "2022-10-26T15:04:40.895Z"
      },
      {
        "duration": 7,
        "start_time": "2022-10-26T15:04:49.007Z"
      },
      {
        "duration": 8,
        "start_time": "2022-10-26T15:04:58.334Z"
      },
      {
        "duration": 170,
        "start_time": "2022-10-26T15:11:14.688Z"
      },
      {
        "duration": 118,
        "start_time": "2022-10-26T15:11:31.638Z"
      },
      {
        "duration": 108,
        "start_time": "2022-10-26T15:11:43.990Z"
      },
      {
        "duration": 133,
        "start_time": "2022-10-26T15:11:57.529Z"
      },
      {
        "duration": 139,
        "start_time": "2022-10-26T15:12:01.379Z"
      },
      {
        "duration": 130,
        "start_time": "2022-10-26T15:26:56.580Z"
      },
      {
        "duration": 135,
        "start_time": "2022-10-26T15:27:00.709Z"
      },
      {
        "duration": 5,
        "start_time": "2022-10-26T15:27:26.371Z"
      },
      {
        "duration": 5,
        "start_time": "2022-10-26T15:28:57.853Z"
      },
      {
        "duration": 10,
        "start_time": "2022-10-26T15:31:58.179Z"
      },
      {
        "duration": 201,
        "start_time": "2022-10-26T15:32:10.505Z"
      },
      {
        "duration": 8,
        "start_time": "2022-10-26T15:36:26.282Z"
      },
      {
        "duration": 4,
        "start_time": "2022-10-26T15:36:33.335Z"
      },
      {
        "duration": 12,
        "start_time": "2022-10-26T15:37:16.936Z"
      },
      {
        "duration": 1587,
        "start_time": "2022-10-26T15:37:29.349Z"
      },
      {
        "duration": 10,
        "start_time": "2022-10-26T15:53:01.966Z"
      },
      {
        "duration": 9,
        "start_time": "2022-10-26T15:53:31.781Z"
      },
      {
        "duration": 1180,
        "start_time": "2022-10-26T15:54:07.856Z"
      },
      {
        "duration": 74,
        "start_time": "2022-10-26T15:54:09.038Z"
      },
      {
        "duration": 4,
        "start_time": "2022-10-26T15:54:09.114Z"
      },
      {
        "duration": 40,
        "start_time": "2022-10-26T15:54:09.121Z"
      },
      {
        "duration": 6,
        "start_time": "2022-10-26T15:54:09.162Z"
      },
      {
        "duration": 11,
        "start_time": "2022-10-26T15:54:09.170Z"
      },
      {
        "duration": 15,
        "start_time": "2022-10-26T15:54:09.183Z"
      },
      {
        "duration": 12,
        "start_time": "2022-10-26T15:54:09.200Z"
      },
      {
        "duration": 9,
        "start_time": "2022-10-26T15:54:09.214Z"
      },
      {
        "duration": 211,
        "start_time": "2022-10-26T15:54:09.228Z"
      },
      {
        "duration": 322,
        "start_time": "2022-10-26T15:54:09.441Z"
      },
      {
        "duration": 10,
        "start_time": "2022-10-26T15:54:09.765Z"
      },
      {
        "duration": 1103,
        "start_time": "2022-10-26T15:54:09.777Z"
      },
      {
        "duration": 9,
        "start_time": "2022-10-26T15:54:10.882Z"
      },
      {
        "duration": 157,
        "start_time": "2022-10-26T15:54:10.893Z"
      },
      {
        "duration": 7,
        "start_time": "2022-10-26T15:54:11.051Z"
      },
      {
        "duration": 217,
        "start_time": "2022-10-26T15:54:11.061Z"
      },
      {
        "duration": 1632,
        "start_time": "2022-10-26T15:54:11.280Z"
      },
      {
        "duration": 15,
        "start_time": "2022-10-26T15:54:12.913Z"
      },
      {
        "duration": 116,
        "start_time": "2022-10-26T15:54:12.931Z"
      },
      {
        "duration": 1065,
        "start_time": "2022-10-26T15:54:33.784Z"
      },
      {
        "duration": 61,
        "start_time": "2022-10-26T15:54:34.851Z"
      },
      {
        "duration": 3,
        "start_time": "2022-10-26T15:54:34.913Z"
      },
      {
        "duration": 27,
        "start_time": "2022-10-26T15:54:34.918Z"
      },
      {
        "duration": 8,
        "start_time": "2022-10-26T15:54:34.948Z"
      },
      {
        "duration": 15,
        "start_time": "2022-10-26T15:54:34.957Z"
      },
      {
        "duration": 21,
        "start_time": "2022-10-26T15:54:34.973Z"
      },
      {
        "duration": 18,
        "start_time": "2022-10-26T15:54:34.996Z"
      },
      {
        "duration": 27,
        "start_time": "2022-10-26T15:54:35.016Z"
      },
      {
        "duration": 197,
        "start_time": "2022-10-26T15:54:35.044Z"
      },
      {
        "duration": 327,
        "start_time": "2022-10-26T15:54:35.243Z"
      },
      {
        "duration": 9,
        "start_time": "2022-10-26T15:54:35.572Z"
      },
      {
        "duration": 1108,
        "start_time": "2022-10-26T15:54:35.583Z"
      },
      {
        "duration": 9,
        "start_time": "2022-10-26T15:54:36.694Z"
      },
      {
        "duration": 142,
        "start_time": "2022-10-26T15:54:36.704Z"
      },
      {
        "duration": 6,
        "start_time": "2022-10-26T15:54:36.848Z"
      },
      {
        "duration": 212,
        "start_time": "2022-10-26T15:54:36.855Z"
      },
      {
        "duration": 1606,
        "start_time": "2022-10-26T15:54:37.068Z"
      },
      {
        "duration": 42,
        "start_time": "2022-10-26T15:54:38.676Z"
      },
      {
        "duration": 0,
        "start_time": "2022-10-26T15:54:38.719Z"
      },
      {
        "duration": 1126,
        "start_time": "2022-10-26T15:54:46.592Z"
      },
      {
        "duration": 64,
        "start_time": "2022-10-26T15:54:47.720Z"
      },
      {
        "duration": 3,
        "start_time": "2022-10-26T15:54:47.786Z"
      },
      {
        "duration": 16,
        "start_time": "2022-10-26T15:54:47.791Z"
      },
      {
        "duration": 4,
        "start_time": "2022-10-26T15:54:47.808Z"
      },
      {
        "duration": 18,
        "start_time": "2022-10-26T15:54:47.813Z"
      },
      {
        "duration": 12,
        "start_time": "2022-10-26T15:54:47.834Z"
      },
      {
        "duration": 11,
        "start_time": "2022-10-26T15:54:47.848Z"
      },
      {
        "duration": 4,
        "start_time": "2022-10-26T15:54:47.861Z"
      },
      {
        "duration": 195,
        "start_time": "2022-10-26T15:54:47.867Z"
      },
      {
        "duration": 340,
        "start_time": "2022-10-26T15:54:48.063Z"
      },
      {
        "duration": 23,
        "start_time": "2022-10-26T15:54:48.404Z"
      },
      {
        "duration": 1169,
        "start_time": "2022-10-26T15:54:48.428Z"
      },
      {
        "duration": 10,
        "start_time": "2022-10-26T15:54:49.598Z"
      },
      {
        "duration": 144,
        "start_time": "2022-10-26T15:54:49.609Z"
      },
      {
        "duration": 5,
        "start_time": "2022-10-26T15:54:49.755Z"
      },
      {
        "duration": 218,
        "start_time": "2022-10-26T15:54:49.762Z"
      },
      {
        "duration": 1637,
        "start_time": "2022-10-26T15:54:49.982Z"
      },
      {
        "duration": 9,
        "start_time": "2022-10-26T15:54:51.623Z"
      },
      {
        "duration": 109,
        "start_time": "2022-10-26T15:54:51.638Z"
      },
      {
        "duration": 12,
        "start_time": "2022-10-26T15:58:00.298Z"
      },
      {
        "duration": 238,
        "start_time": "2022-10-26T15:58:14.998Z"
      },
      {
        "duration": 323,
        "start_time": "2022-10-26T15:59:38.523Z"
      },
      {
        "duration": 16,
        "start_time": "2022-10-26T16:03:42.144Z"
      },
      {
        "duration": 194,
        "start_time": "2022-10-26T16:04:09.674Z"
      },
      {
        "duration": 211,
        "start_time": "2022-10-26T16:04:18.248Z"
      },
      {
        "duration": 192,
        "start_time": "2022-10-26T16:04:26.793Z"
      },
      {
        "duration": 194,
        "start_time": "2022-10-26T16:04:35.973Z"
      },
      {
        "duration": 201,
        "start_time": "2022-10-26T16:04:43.004Z"
      },
      {
        "duration": 279,
        "start_time": "2022-10-26T16:04:52.698Z"
      },
      {
        "duration": 233,
        "start_time": "2022-10-26T16:04:57.419Z"
      },
      {
        "duration": 29,
        "start_time": "2022-10-26T16:10:26.434Z"
      },
      {
        "duration": 44,
        "start_time": "2022-10-26T16:10:44.538Z"
      },
      {
        "duration": 21,
        "start_time": "2022-10-26T16:11:13.824Z"
      },
      {
        "duration": 24,
        "start_time": "2022-10-26T16:11:33.013Z"
      },
      {
        "duration": 20,
        "start_time": "2022-10-26T16:11:54.537Z"
      },
      {
        "duration": 25,
        "start_time": "2022-10-26T16:12:58.749Z"
      },
      {
        "duration": 24,
        "start_time": "2022-10-26T16:13:10.113Z"
      },
      {
        "duration": 8,
        "start_time": "2022-10-26T16:13:19.230Z"
      },
      {
        "duration": 13,
        "start_time": "2022-10-26T16:13:22.828Z"
      },
      {
        "duration": 8,
        "start_time": "2022-10-26T16:13:45.344Z"
      },
      {
        "duration": 8,
        "start_time": "2022-10-26T16:14:05.357Z"
      },
      {
        "duration": 20,
        "start_time": "2022-10-26T16:14:29.612Z"
      },
      {
        "duration": 8,
        "start_time": "2022-10-26T16:14:59.730Z"
      },
      {
        "duration": 192,
        "start_time": "2022-10-26T16:15:14.785Z"
      },
      {
        "duration": 11,
        "start_time": "2022-10-26T16:22:39.145Z"
      },
      {
        "duration": 7,
        "start_time": "2022-10-26T16:22:47.280Z"
      },
      {
        "duration": 8,
        "start_time": "2022-10-26T16:26:18.514Z"
      },
      {
        "duration": 9,
        "start_time": "2022-10-26T16:26:24.734Z"
      },
      {
        "duration": 6,
        "start_time": "2022-10-26T16:27:16.068Z"
      },
      {
        "duration": 7,
        "start_time": "2022-10-26T16:27:19.285Z"
      },
      {
        "duration": 10,
        "start_time": "2022-10-26T16:27:55.090Z"
      },
      {
        "duration": 134,
        "start_time": "2022-10-26T16:30:16.872Z"
      },
      {
        "duration": 9,
        "start_time": "2022-10-26T16:30:35.736Z"
      },
      {
        "duration": 8,
        "start_time": "2022-10-26T16:30:46.277Z"
      },
      {
        "duration": 9,
        "start_time": "2022-10-26T16:30:53.831Z"
      },
      {
        "duration": 419,
        "start_time": "2022-10-26T16:32:08.571Z"
      },
      {
        "duration": 5,
        "start_time": "2022-10-26T16:39:47.202Z"
      },
      {
        "duration": 652,
        "start_time": "2022-10-26T16:40:17.435Z"
      },
      {
        "duration": 6,
        "start_time": "2022-10-26T16:40:33.089Z"
      },
      {
        "duration": 4,
        "start_time": "2022-10-26T16:40:50.605Z"
      },
      {
        "duration": 13,
        "start_time": "2022-10-26T16:46:28.132Z"
      },
      {
        "duration": 12,
        "start_time": "2022-10-26T16:46:35.498Z"
      },
      {
        "duration": 14,
        "start_time": "2022-10-26T16:46:55.622Z"
      },
      {
        "duration": 20,
        "start_time": "2022-10-26T16:47:29.498Z"
      },
      {
        "duration": 25,
        "start_time": "2022-10-26T16:47:55.161Z"
      },
      {
        "duration": 40,
        "start_time": "2022-10-26T16:48:09.938Z"
      },
      {
        "duration": 69,
        "start_time": "2022-10-26T16:48:17.478Z"
      },
      {
        "duration": 70,
        "start_time": "2022-10-26T16:49:01.088Z"
      },
      {
        "duration": 66,
        "start_time": "2022-10-26T16:50:23.633Z"
      },
      {
        "duration": 75,
        "start_time": "2022-10-26T16:50:36.878Z"
      },
      {
        "duration": 45,
        "start_time": "2022-10-26T16:57:51.297Z"
      },
      {
        "duration": 16,
        "start_time": "2022-10-26T16:58:24.132Z"
      },
      {
        "duration": 16,
        "start_time": "2022-10-26T16:58:46.542Z"
      },
      {
        "duration": 16,
        "start_time": "2022-10-26T16:58:53.388Z"
      },
      {
        "duration": 199,
        "start_time": "2022-10-26T17:00:07.583Z"
      },
      {
        "duration": 205,
        "start_time": "2022-10-26T17:00:26.494Z"
      },
      {
        "duration": 57,
        "start_time": "2022-10-26T17:02:32.639Z"
      },
      {
        "duration": 15,
        "start_time": "2022-10-26T17:09:37.355Z"
      },
      {
        "duration": 194,
        "start_time": "2022-10-26T17:09:39.278Z"
      },
      {
        "duration": 44,
        "start_time": "2022-10-26T17:21:49.712Z"
      },
      {
        "duration": 54,
        "start_time": "2022-10-26T17:22:24.503Z"
      },
      {
        "duration": 14,
        "start_time": "2022-10-26T17:22:45.879Z"
      },
      {
        "duration": 13,
        "start_time": "2022-10-26T17:24:26.978Z"
      },
      {
        "duration": 260,
        "start_time": "2022-10-26T17:24:51.598Z"
      },
      {
        "duration": 164,
        "start_time": "2022-10-26T17:24:59.210Z"
      },
      {
        "duration": 153,
        "start_time": "2022-10-26T17:26:03.264Z"
      },
      {
        "duration": 4,
        "start_time": "2022-10-26T17:39:28.186Z"
      },
      {
        "duration": 8,
        "start_time": "2022-10-26T17:41:59.748Z"
      },
      {
        "duration": 1114,
        "start_time": "2022-10-26T17:42:10.590Z"
      },
      {
        "duration": 1112,
        "start_time": "2022-10-26T17:44:55.022Z"
      },
      {
        "duration": 5,
        "start_time": "2022-10-26T17:45:48.657Z"
      },
      {
        "duration": 1115,
        "start_time": "2022-10-26T17:45:50.096Z"
      },
      {
        "duration": 8,
        "start_time": "2022-10-26T17:49:30.421Z"
      },
      {
        "duration": 941,
        "start_time": "2022-10-26T17:49:31.305Z"
      },
      {
        "duration": 4,
        "start_time": "2022-10-26T17:49:45.862Z"
      },
      {
        "duration": 989,
        "start_time": "2022-10-26T17:49:47.045Z"
      },
      {
        "duration": 5,
        "start_time": "2022-10-26T17:50:00.338Z"
      },
      {
        "duration": 1168,
        "start_time": "2022-10-26T17:50:01.325Z"
      },
      {
        "duration": 3,
        "start_time": "2022-10-26T17:50:21.868Z"
      },
      {
        "duration": 9,
        "start_time": "2022-10-26T17:50:38.298Z"
      },
      {
        "duration": 14,
        "start_time": "2022-10-26T17:50:44.357Z"
      },
      {
        "duration": 6,
        "start_time": "2022-10-26T17:50:52.742Z"
      },
      {
        "duration": 13,
        "start_time": "2022-10-26T17:50:54.048Z"
      },
      {
        "duration": 985,
        "start_time": "2022-10-26T17:51:02.778Z"
      },
      {
        "duration": 4,
        "start_time": "2022-10-26T17:51:19.936Z"
      },
      {
        "duration": 976,
        "start_time": "2022-10-26T17:51:20.522Z"
      },
      {
        "duration": 492,
        "start_time": "2022-10-26T17:54:53.300Z"
      },
      {
        "duration": 339,
        "start_time": "2022-10-26T17:56:11.556Z"
      },
      {
        "duration": 367,
        "start_time": "2022-10-26T17:56:23.580Z"
      },
      {
        "duration": 323,
        "start_time": "2022-10-26T17:56:44.493Z"
      },
      {
        "duration": 321,
        "start_time": "2022-10-26T17:56:51.617Z"
      },
      {
        "duration": 58,
        "start_time": "2022-10-27T13:34:29.568Z"
      },
      {
        "duration": 1387,
        "start_time": "2022-10-27T13:34:41.461Z"
      },
      {
        "duration": 193,
        "start_time": "2022-10-27T13:34:42.850Z"
      },
      {
        "duration": 3,
        "start_time": "2022-10-27T13:34:43.045Z"
      },
      {
        "duration": 14,
        "start_time": "2022-10-27T13:34:43.051Z"
      },
      {
        "duration": 5,
        "start_time": "2022-10-27T13:34:43.066Z"
      },
      {
        "duration": 10,
        "start_time": "2022-10-27T13:34:43.072Z"
      },
      {
        "duration": 12,
        "start_time": "2022-10-27T13:34:43.084Z"
      },
      {
        "duration": 12,
        "start_time": "2022-10-27T13:34:43.097Z"
      },
      {
        "duration": 6,
        "start_time": "2022-10-27T13:34:43.110Z"
      },
      {
        "duration": 242,
        "start_time": "2022-10-27T13:34:43.118Z"
      },
      {
        "duration": 359,
        "start_time": "2022-10-27T13:34:43.361Z"
      },
      {
        "duration": 12,
        "start_time": "2022-10-27T13:34:43.722Z"
      },
      {
        "duration": 1287,
        "start_time": "2022-10-27T13:34:43.735Z"
      },
      {
        "duration": 11,
        "start_time": "2022-10-27T13:34:45.024Z"
      },
      {
        "duration": 165,
        "start_time": "2022-10-27T13:34:45.036Z"
      },
      {
        "duration": 6,
        "start_time": "2022-10-27T13:34:45.202Z"
      },
      {
        "duration": 241,
        "start_time": "2022-10-27T13:34:45.210Z"
      },
      {
        "duration": 1849,
        "start_time": "2022-10-27T13:34:45.453Z"
      },
      {
        "duration": 11,
        "start_time": "2022-10-27T13:34:47.303Z"
      },
      {
        "duration": 240,
        "start_time": "2022-10-27T13:34:47.316Z"
      },
      {
        "duration": 10,
        "start_time": "2022-10-27T13:34:47.558Z"
      },
      {
        "duration": 464,
        "start_time": "2022-10-27T13:34:47.570Z"
      },
      {
        "duration": 121,
        "start_time": "2022-10-27T13:34:48.036Z"
      },
      {
        "duration": 45,
        "start_time": "2022-10-27T13:34:48.159Z"
      },
      {
        "duration": 252,
        "start_time": "2022-10-27T13:34:48.206Z"
      },
      {
        "duration": 5,
        "start_time": "2022-10-27T13:34:48.460Z"
      },
      {
        "duration": 505,
        "start_time": "2022-10-27T13:34:48.467Z"
      },
      {
        "duration": 402,
        "start_time": "2022-10-27T13:34:48.975Z"
      },
      {
        "duration": 402,
        "start_time": "2022-10-27T13:34:49.378Z"
      },
      {
        "duration": 10,
        "start_time": "2022-10-27T13:34:49.782Z"
      },
      {
        "duration": 14,
        "start_time": "2022-10-27T13:36:42.302Z"
      },
      {
        "duration": 98,
        "start_time": "2022-10-27T13:40:15.155Z"
      },
      {
        "duration": 147,
        "start_time": "2022-10-27T13:40:42.988Z"
      },
      {
        "duration": 249,
        "start_time": "2022-10-27T13:40:53.687Z"
      },
      {
        "duration": 276,
        "start_time": "2022-10-27T13:41:14.915Z"
      },
      {
        "duration": 297,
        "start_time": "2022-10-27T13:41:46.735Z"
      },
      {
        "duration": 187,
        "start_time": "2022-10-27T13:41:50.444Z"
      },
      {
        "duration": 227,
        "start_time": "2022-10-27T13:41:56.517Z"
      },
      {
        "duration": 170,
        "start_time": "2022-10-27T13:41:59.637Z"
      },
      {
        "duration": 10,
        "start_time": "2022-10-27T13:42:46.199Z"
      },
      {
        "duration": 6,
        "start_time": "2022-10-27T13:42:54.133Z"
      },
      {
        "duration": 846,
        "start_time": "2022-10-27T13:52:38.485Z"
      },
      {
        "duration": 8,
        "start_time": "2022-10-27T13:53:47.702Z"
      },
      {
        "duration": 11,
        "start_time": "2022-10-27T13:53:52.117Z"
      },
      {
        "duration": 29,
        "start_time": "2022-10-27T13:54:42.015Z"
      },
      {
        "duration": 10,
        "start_time": "2022-10-27T13:54:55.459Z"
      },
      {
        "duration": 934,
        "start_time": "2022-10-27T13:54:58.019Z"
      },
      {
        "duration": 314,
        "start_time": "2022-10-27T13:55:12.817Z"
      },
      {
        "duration": 12,
        "start_time": "2022-10-27T13:55:49.792Z"
      },
      {
        "duration": 6,
        "start_time": "2022-10-27T13:55:54.893Z"
      },
      {
        "duration": 5,
        "start_time": "2022-10-27T13:56:10.482Z"
      },
      {
        "duration": 6,
        "start_time": "2022-10-27T13:56:31.310Z"
      },
      {
        "duration": 11,
        "start_time": "2022-10-27T13:56:41.665Z"
      },
      {
        "duration": 6,
        "start_time": "2022-10-27T13:56:56.014Z"
      },
      {
        "duration": 6,
        "start_time": "2022-10-27T13:57:08.541Z"
      },
      {
        "duration": 11,
        "start_time": "2022-10-27T14:05:04.472Z"
      },
      {
        "duration": 13,
        "start_time": "2022-10-27T14:05:14.211Z"
      },
      {
        "duration": 5,
        "start_time": "2022-10-27T14:09:39.341Z"
      },
      {
        "duration": 6,
        "start_time": "2022-10-27T14:09:45.442Z"
      },
      {
        "duration": 10,
        "start_time": "2022-10-27T14:26:30.790Z"
      },
      {
        "duration": 28,
        "start_time": "2022-10-27T14:26:40.651Z"
      },
      {
        "duration": 203,
        "start_time": "2022-10-27T14:26:54.368Z"
      },
      {
        "duration": 174,
        "start_time": "2022-10-27T14:26:56.669Z"
      },
      {
        "duration": 7,
        "start_time": "2022-10-27T14:27:15.329Z"
      },
      {
        "duration": 5,
        "start_time": "2022-10-27T14:27:36.340Z"
      },
      {
        "duration": 7,
        "start_time": "2022-10-27T14:28:01.432Z"
      },
      {
        "duration": 6,
        "start_time": "2022-10-27T14:28:16.198Z"
      },
      {
        "duration": 53,
        "start_time": "2022-10-27T14:29:13.482Z"
      },
      {
        "duration": 10,
        "start_time": "2022-10-27T14:30:33.149Z"
      },
      {
        "duration": 35,
        "start_time": "2022-10-27T14:30:39.284Z"
      },
      {
        "duration": 211,
        "start_time": "2022-10-27T14:30:46.025Z"
      },
      {
        "duration": 22,
        "start_time": "2022-10-27T14:30:55.941Z"
      },
      {
        "duration": 24,
        "start_time": "2022-10-27T14:31:03.624Z"
      },
      {
        "duration": 15,
        "start_time": "2022-10-27T14:31:11.520Z"
      },
      {
        "duration": 12,
        "start_time": "2022-10-27T14:31:17.471Z"
      },
      {
        "duration": 11,
        "start_time": "2022-10-27T14:31:35.733Z"
      },
      {
        "duration": 30,
        "start_time": "2022-10-27T14:31:43.921Z"
      },
      {
        "duration": 30,
        "start_time": "2022-10-27T14:32:24.705Z"
      },
      {
        "duration": 24,
        "start_time": "2022-10-27T14:32:34.825Z"
      },
      {
        "duration": 10,
        "start_time": "2022-10-27T14:34:36.352Z"
      },
      {
        "duration": 5,
        "start_time": "2022-10-27T14:34:41.424Z"
      },
      {
        "duration": 14,
        "start_time": "2022-10-27T14:35:00.306Z"
      },
      {
        "duration": 10,
        "start_time": "2022-10-27T14:35:15.350Z"
      },
      {
        "duration": 5,
        "start_time": "2022-10-27T14:35:20.718Z"
      },
      {
        "duration": 9,
        "start_time": "2022-10-27T14:35:29.403Z"
      },
      {
        "duration": 9,
        "start_time": "2022-10-27T14:36:26.879Z"
      },
      {
        "duration": 14,
        "start_time": "2022-10-27T14:36:37.349Z"
      },
      {
        "duration": 9,
        "start_time": "2022-10-27T14:36:43.241Z"
      },
      {
        "duration": 8,
        "start_time": "2022-10-27T14:37:23.951Z"
      },
      {
        "duration": 9,
        "start_time": "2022-10-27T14:37:25.881Z"
      },
      {
        "duration": 8,
        "start_time": "2022-10-27T14:37:34.081Z"
      },
      {
        "duration": 8,
        "start_time": "2022-10-27T14:37:39.121Z"
      },
      {
        "duration": 14,
        "start_time": "2022-10-27T14:38:13.587Z"
      },
      {
        "duration": 10,
        "start_time": "2022-10-27T14:38:33.380Z"
      },
      {
        "duration": 5,
        "start_time": "2022-10-27T14:38:37.977Z"
      },
      {
        "duration": 6,
        "start_time": "2022-10-27T14:38:58.359Z"
      },
      {
        "duration": 6,
        "start_time": "2022-10-27T14:39:17.915Z"
      },
      {
        "duration": 7,
        "start_time": "2022-10-27T14:39:20.023Z"
      },
      {
        "duration": 8,
        "start_time": "2022-10-27T14:39:35.603Z"
      },
      {
        "duration": 6,
        "start_time": "2022-10-27T14:39:39.364Z"
      },
      {
        "duration": 1250,
        "start_time": "2022-10-27T14:42:25.313Z"
      },
      {
        "duration": 1951,
        "start_time": "2022-10-27T14:43:14.016Z"
      },
      {
        "duration": 1590,
        "start_time": "2022-10-27T14:43:23.477Z"
      },
      {
        "duration": 1446,
        "start_time": "2022-10-27T14:43:27.699Z"
      },
      {
        "duration": 204,
        "start_time": "2022-10-27T14:43:38.941Z"
      },
      {
        "duration": 217,
        "start_time": "2022-10-27T14:43:46.774Z"
      },
      {
        "duration": 1784,
        "start_time": "2022-10-27T14:44:01.669Z"
      },
      {
        "duration": 1481,
        "start_time": "2022-10-27T14:44:05.748Z"
      },
      {
        "duration": 9,
        "start_time": "2022-10-27T14:44:17.212Z"
      },
      {
        "duration": 214,
        "start_time": "2022-10-27T14:44:22.221Z"
      },
      {
        "duration": 251,
        "start_time": "2022-10-27T14:44:46.300Z"
      },
      {
        "duration": 20,
        "start_time": "2022-10-27T14:45:46.366Z"
      },
      {
        "duration": 16,
        "start_time": "2022-10-27T14:45:52.868Z"
      },
      {
        "duration": 222,
        "start_time": "2022-10-27T14:46:05.669Z"
      },
      {
        "duration": 75,
        "start_time": "2022-10-27T14:55:59.223Z"
      },
      {
        "duration": 51,
        "start_time": "2022-10-28T09:55:42.356Z"
      },
      {
        "duration": 1403,
        "start_time": "2022-10-28T09:55:49.155Z"
      },
      {
        "duration": 132,
        "start_time": "2022-10-28T09:55:50.560Z"
      },
      {
        "duration": 4,
        "start_time": "2022-10-28T09:55:50.926Z"
      },
      {
        "duration": 22,
        "start_time": "2022-10-28T09:55:51.379Z"
      },
      {
        "duration": 5,
        "start_time": "2022-10-28T09:55:51.756Z"
      },
      {
        "duration": 8,
        "start_time": "2022-10-28T09:55:52.338Z"
      },
      {
        "duration": 11,
        "start_time": "2022-10-28T09:55:53.743Z"
      },
      {
        "duration": 13,
        "start_time": "2022-10-28T09:55:55.402Z"
      },
      {
        "duration": 7,
        "start_time": "2022-10-28T09:55:58.625Z"
      },
      {
        "duration": 99,
        "start_time": "2022-10-28T09:56:00.619Z"
      },
      {
        "duration": 12,
        "start_time": "2022-10-28T09:56:06.665Z"
      },
      {
        "duration": 17,
        "start_time": "2022-10-28T09:57:14.989Z"
      },
      {
        "duration": 15,
        "start_time": "2022-10-28T09:57:21.342Z"
      },
      {
        "duration": 20,
        "start_time": "2022-10-28T09:57:31.717Z"
      },
      {
        "duration": 25,
        "start_time": "2022-10-28T10:02:02.601Z"
      },
      {
        "duration": 3,
        "start_time": "2022-10-28T10:02:13.846Z"
      },
      {
        "duration": 236,
        "start_time": "2022-10-28T10:02:45.507Z"
      },
      {
        "duration": 331,
        "start_time": "2022-10-28T10:02:58.794Z"
      },
      {
        "duration": 252,
        "start_time": "2022-10-28T10:03:05.602Z"
      },
      {
        "duration": 324,
        "start_time": "2022-10-28T10:03:09.577Z"
      },
      {
        "duration": 327,
        "start_time": "2022-10-28T10:03:18.685Z"
      },
      {
        "duration": 321,
        "start_time": "2022-10-28T10:03:24.549Z"
      },
      {
        "duration": 327,
        "start_time": "2022-10-28T10:03:35.739Z"
      },
      {
        "duration": 329,
        "start_time": "2022-10-28T10:04:34.887Z"
      },
      {
        "duration": 188,
        "start_time": "2022-10-28T10:06:18.244Z"
      },
      {
        "duration": 289,
        "start_time": "2022-10-28T10:06:23.075Z"
      },
      {
        "duration": 8,
        "start_time": "2022-10-28T10:06:40.374Z"
      },
      {
        "duration": 258,
        "start_time": "2022-10-28T10:07:07.159Z"
      },
      {
        "duration": 1618,
        "start_time": "2022-10-28T10:07:24.178Z"
      },
      {
        "duration": 1128,
        "start_time": "2022-10-28T10:08:37.384Z"
      },
      {
        "duration": 65,
        "start_time": "2022-10-28T10:08:38.514Z"
      },
      {
        "duration": 3,
        "start_time": "2022-10-28T10:08:38.581Z"
      },
      {
        "duration": 29,
        "start_time": "2022-10-28T10:08:38.585Z"
      },
      {
        "duration": 4,
        "start_time": "2022-10-28T10:08:38.617Z"
      },
      {
        "duration": 20,
        "start_time": "2022-10-28T10:08:38.623Z"
      },
      {
        "duration": 33,
        "start_time": "2022-10-28T10:08:38.653Z"
      },
      {
        "duration": 22,
        "start_time": "2022-10-28T10:08:38.688Z"
      },
      {
        "duration": 22,
        "start_time": "2022-10-28T10:08:38.712Z"
      },
      {
        "duration": 23,
        "start_time": "2022-10-28T10:08:38.736Z"
      },
      {
        "duration": 235,
        "start_time": "2022-10-28T10:08:38.762Z"
      },
      {
        "duration": 320,
        "start_time": "2022-10-28T10:08:38.999Z"
      },
      {
        "duration": 376,
        "start_time": "2022-10-28T10:08:39.321Z"
      },
      {
        "duration": 13,
        "start_time": "2022-10-28T10:08:39.701Z"
      },
      {
        "duration": 1255,
        "start_time": "2022-10-28T10:08:39.716Z"
      },
      {
        "duration": 12,
        "start_time": "2022-10-28T10:08:40.973Z"
      },
      {
        "duration": 162,
        "start_time": "2022-10-28T10:08:40.987Z"
      },
      {
        "duration": 7,
        "start_time": "2022-10-28T10:08:41.154Z"
      },
      {
        "duration": 348,
        "start_time": "2022-10-28T10:08:41.163Z"
      },
      {
        "duration": 1582,
        "start_time": "2022-10-28T10:08:41.515Z"
      },
      {
        "duration": 11,
        "start_time": "2022-10-28T10:08:43.099Z"
      },
      {
        "duration": 280,
        "start_time": "2022-10-28T10:08:43.112Z"
      },
      {
        "duration": 12,
        "start_time": "2022-10-28T10:08:43.395Z"
      },
      {
        "duration": 539,
        "start_time": "2022-10-28T10:08:43.410Z"
      },
      {
        "duration": 139,
        "start_time": "2022-10-28T10:08:43.954Z"
      },
      {
        "duration": 19,
        "start_time": "2022-10-28T10:08:44.095Z"
      },
      {
        "duration": 309,
        "start_time": "2022-10-28T10:08:44.116Z"
      },
      {
        "duration": 6,
        "start_time": "2022-10-28T10:08:44.427Z"
      },
      {
        "duration": 577,
        "start_time": "2022-10-28T10:08:44.435Z"
      },
      {
        "duration": 413,
        "start_time": "2022-10-28T10:08:45.015Z"
      },
      {
        "duration": 435,
        "start_time": "2022-10-28T10:08:45.430Z"
      },
      {
        "duration": 10,
        "start_time": "2022-10-28T10:08:45.867Z"
      },
      {
        "duration": 204,
        "start_time": "2022-10-28T10:08:45.879Z"
      },
      {
        "duration": 193,
        "start_time": "2022-10-28T10:08:46.086Z"
      },
      {
        "duration": 5,
        "start_time": "2022-10-28T10:08:46.281Z"
      },
      {
        "duration": 21,
        "start_time": "2022-10-28T10:08:46.288Z"
      },
      {
        "duration": 14,
        "start_time": "2022-10-28T10:08:46.311Z"
      },
      {
        "duration": 60,
        "start_time": "2022-10-28T10:11:46.934Z"
      },
      {
        "duration": 8,
        "start_time": "2022-10-28T10:11:56.260Z"
      },
      {
        "duration": 216,
        "start_time": "2022-10-28T10:12:01.866Z"
      },
      {
        "duration": 13,
        "start_time": "2022-10-28T10:13:04.136Z"
      },
      {
        "duration": 36,
        "start_time": "2022-10-28T10:13:17.546Z"
      },
      {
        "duration": 103,
        "start_time": "2022-10-28T10:13:31.946Z"
      },
      {
        "duration": 361,
        "start_time": "2022-10-28T10:13:38.570Z"
      },
      {
        "duration": 57,
        "start_time": "2022-10-28T10:14:01.259Z"
      },
      {
        "duration": 244,
        "start_time": "2022-10-28T10:14:04.401Z"
      },
      {
        "duration": 208,
        "start_time": "2022-10-28T10:19:15.776Z"
      },
      {
        "duration": 70,
        "start_time": "2022-10-28T10:19:26.510Z"
      },
      {
        "duration": 212,
        "start_time": "2022-10-28T10:19:29.639Z"
      },
      {
        "duration": 50,
        "start_time": "2022-10-28T10:19:42.384Z"
      },
      {
        "duration": 269,
        "start_time": "2022-10-28T10:19:54.747Z"
      },
      {
        "duration": 10,
        "start_time": "2022-10-28T10:27:20.266Z"
      },
      {
        "duration": 401,
        "start_time": "2022-10-28T10:27:21.869Z"
      },
      {
        "duration": 88,
        "start_time": "2022-10-28T10:27:35.578Z"
      },
      {
        "duration": 89,
        "start_time": "2022-10-28T10:28:45.010Z"
      },
      {
        "duration": 5,
        "start_time": "2022-10-28T10:29:10.889Z"
      },
      {
        "duration": 237,
        "start_time": "2022-10-28T10:29:37.519Z"
      },
      {
        "duration": 24,
        "start_time": "2022-10-28T10:30:38.713Z"
      },
      {
        "duration": 21,
        "start_time": "2022-10-28T10:31:11.256Z"
      },
      {
        "duration": 78,
        "start_time": "2022-10-28T10:32:52.330Z"
      },
      {
        "duration": 18,
        "start_time": "2022-10-28T10:33:04.010Z"
      },
      {
        "duration": 286,
        "start_time": "2022-10-28T10:33:11.338Z"
      },
      {
        "duration": 185,
        "start_time": "2022-10-28T10:34:16.620Z"
      },
      {
        "duration": 243,
        "start_time": "2022-10-28T10:34:32.508Z"
      },
      {
        "duration": 16,
        "start_time": "2022-10-28T10:34:43.048Z"
      },
      {
        "duration": 230,
        "start_time": "2022-10-28T10:34:44.308Z"
      },
      {
        "duration": 248,
        "start_time": "2022-10-28T10:34:59.418Z"
      },
      {
        "duration": 6,
        "start_time": "2022-10-28T10:44:27.455Z"
      },
      {
        "duration": 416,
        "start_time": "2022-10-28T10:44:30.283Z"
      },
      {
        "duration": 417,
        "start_time": "2022-10-28T10:44:45.569Z"
      },
      {
        "duration": 391,
        "start_time": "2022-10-28T10:45:00.838Z"
      },
      {
        "duration": 505,
        "start_time": "2022-10-28T10:46:45.062Z"
      },
      {
        "duration": 10,
        "start_time": "2022-10-28T10:55:25.901Z"
      },
      {
        "duration": 173,
        "start_time": "2022-10-28T10:55:26.253Z"
      },
      {
        "duration": 181,
        "start_time": "2022-10-28T10:55:27.115Z"
      },
      {
        "duration": 6,
        "start_time": "2022-10-28T10:55:30.320Z"
      }
    ],
    "kernelspec": {
      "display_name": "Python 3 (ipykernel)",
      "language": "python",
      "name": "python3"
    },
    "language_info": {
      "codemirror_mode": {
        "name": "ipython",
        "version": 3
      },
      "file_extension": ".py",
      "mimetype": "text/x-python",
      "name": "python",
      "nbconvert_exporter": "python",
      "pygments_lexer": "ipython3",
      "version": "3.9.5"
    },
    "toc": {
      "base_numbering": 1,
      "nav_menu": {},
      "number_sections": true,
      "sideBar": true,
      "skip_h1_title": true,
      "title_cell": "Table of Contents",
      "title_sidebar": "Contents",
      "toc_cell": false,
      "toc_position": {},
      "toc_section_display": true,
      "toc_window_display": false
    },
    "colab": {
      "provenance": []
    }
  },
  "nbformat": 4,
  "nbformat_minor": 0
}