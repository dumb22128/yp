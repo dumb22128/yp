{
 "cells": [
  {
   "cell_type": "markdown",
   "metadata": {},
   "source": [
    " <div class=\"alert alert-success\" style=\"border-color: green; border-radius: 5px\">\n",
    "    <font color='green'> <b><u>КОММЕНТАРИЙ РЕВЬЮЕРА</u></b><br>\n",
    "Герман, доброго дня! рад приветствовать тебя) <br />\n",
    "<br />\n",
    "<div class=\"alert alert-success\" style=\"border-color: green; border-radius: 5px\">\n",
    "    <p><u><b>✅ КОММЕНТАРИЙ РЕВЬЮЕРА</b></u></p>\n",
    "    <p>Всё хорошо.</p>\n",
    "</div>\n",
    "\n",
    "<div class=\"alert alert-warning\" style=\"border-color: darkorange; border-radius: 5px\">\n",
    "    <p><u><b>⚠️ КОММЕНТАРИЙ РЕВЬЮЕРА</b></u></p>\n",
    "    <p>Обрати внимание, есть потенциал</p>\n",
    "</div>\n",
    "\n",
    "<div class=\"alert alert-danger\" style=\"border-color: darkred; border-radius: 5px\">\n",
    "    <p><u><b>❌ КОММЕНТАРИЙ РЕВЬЮЕРА</b></u></p>\n",
    "    <p>Нужно ещё раз глянуть</p>\n",
    "</div>\n",
    "</font><br /><br />\n",
    "<font color='green'>Моей целью является не \"уличить\" в не знании, а просто высказать сверху твоих знаний - свой опыт, что бы тебе использовать его для своего дальнейшего успеха) И очень здорово будет, если удастся задавать вопросы, да и вообще - всячески доставать меня, если я по каким-то причинам не приму проект:) При этом, из своего опыта скажу, хорошо и важно, когда переписка ревьюера и студента - сохраняется на следующие проекты и даже на будущую практическую деятельность.<br>\n",
    "<br> Я сразу же начал общаться на ты:) но если это не очень удобно, то дай знать)) <BR> В ПУТЬ!<br></div>"
   ]
  },
  {
   "cell_type": "markdown",
   "metadata": {
    "toc": true
   },
   "source": [
    "<h1>Содержание<span class=\"tocSkip\"></span></h1>\n",
    "<div class=\"toc\"><ul class=\"toc-item\"><li><span><a href=\"#Загрузка-данных\" data-toc-modified-id=\"Загрузка-данных-1\"><span class=\"toc-item-num\">1&nbsp;&nbsp;</span>Загрузка данных</a></span></li><li><span><a href=\"#Умножение-матриц\" data-toc-modified-id=\"Умножение-матриц-2\"><span class=\"toc-item-num\">2&nbsp;&nbsp;</span>Умножение матриц</a></span></li><li><span><a href=\"#Алгоритм-преобразования\" data-toc-modified-id=\"Алгоритм-преобразования-3\"><span class=\"toc-item-num\">3&nbsp;&nbsp;</span>Алгоритм преобразования</a></span></li><li><span><a href=\"#Проверка-алгоритма\" data-toc-modified-id=\"Проверка-алгоритма-4\"><span class=\"toc-item-num\">4&nbsp;&nbsp;</span>Проверка алгоритма</a></span><ul class=\"toc-item\"><li><span><a href=\"#Иследование-качества-модели-без-преобразования\" data-toc-modified-id=\"Иследование-качества-модели-без-преобразования-4.1\"><span class=\"toc-item-num\">4.1&nbsp;&nbsp;</span>Иследование качества модели без преобразования</a></span></li><li><span><a href=\"#Иследование-качества-модели-c-преобразованием\" data-toc-modified-id=\"Иследование-качества-модели-c-преобразованием-4.2\"><span class=\"toc-item-num\">4.2&nbsp;&nbsp;</span>Иследование качества модели c преобразованием</a></span></li></ul></li><li><span><a href=\"#Вывод\" data-toc-modified-id=\"Вывод-5\"><span class=\"toc-item-num\">5&nbsp;&nbsp;</span>Вывод</a></span></li><li><span><a href=\"#Чек-лист-проверки\" data-toc-modified-id=\"Чек-лист-проверки-6\"><span class=\"toc-item-num\">6&nbsp;&nbsp;</span>Чек-лист проверки</a></span></li></ul></div>"
   ]
  },
  {
   "cell_type": "markdown",
   "metadata": {},
   "source": [
    "# Защита персональных данных клиентов"
   ]
  },
  {
   "cell_type": "markdown",
   "metadata": {},
   "source": [
    "Вам нужно защитить данные клиентов страховой компании «Хоть потоп». Разработайте такой метод преобразования данных, чтобы по ним было сложно восстановить персональную информацию. Обоснуйте корректность его работы.\n",
    "\n",
    "Нужно защитить данные, чтобы при преобразовании качество моделей машинного обучения не ухудшилось. Подбирать наилучшую модель не требуется."
   ]
  },
  {
   "cell_type": "code",
   "execution_count": 15,
   "metadata": {},
   "outputs": [],
   "source": [
    "import pandas as pd\n",
    "import seaborn as sns\n",
    "import numpy as np\n",
    "from sklearn.metrics import mean_squared_error\n",
    "from sklearn.model_selection import train_test_split\n",
    "from sklearn.linear_model import LinearRegression\n",
    "from sklearn.metrics import r2_score\n",
    "from sklearn.preprocessing import StandardScaler\n",
    "from sklearn.pipeline import Pipeline\n",
    "import matplotlib.pyplot as plt"
   ]
  },
  {
   "cell_type": "markdown",
   "metadata": {},
   "source": [
    "## Загрузка данных"
   ]
  },
  {
   "cell_type": "code",
   "execution_count": 2,
   "metadata": {},
   "outputs": [
    {
     "data": {
      "text/html": [
       "<div>\n",
       "<style scoped>\n",
       "    .dataframe tbody tr th:only-of-type {\n",
       "        vertical-align: middle;\n",
       "    }\n",
       "\n",
       "    .dataframe tbody tr th {\n",
       "        vertical-align: top;\n",
       "    }\n",
       "\n",
       "    .dataframe thead th {\n",
       "        text-align: right;\n",
       "    }\n",
       "</style>\n",
       "<table border=\"1\" class=\"dataframe\">\n",
       "  <thead>\n",
       "    <tr style=\"text-align: right;\">\n",
       "      <th></th>\n",
       "      <th>Пол</th>\n",
       "      <th>Возраст</th>\n",
       "      <th>Зарплата</th>\n",
       "      <th>Члены семьи</th>\n",
       "      <th>Страховые выплаты</th>\n",
       "    </tr>\n",
       "  </thead>\n",
       "  <tbody>\n",
       "    <tr>\n",
       "      <th>0</th>\n",
       "      <td>1</td>\n",
       "      <td>41.0</td>\n",
       "      <td>49600.0</td>\n",
       "      <td>1</td>\n",
       "      <td>0</td>\n",
       "    </tr>\n",
       "    <tr>\n",
       "      <th>1</th>\n",
       "      <td>0</td>\n",
       "      <td>46.0</td>\n",
       "      <td>38000.0</td>\n",
       "      <td>1</td>\n",
       "      <td>1</td>\n",
       "    </tr>\n",
       "    <tr>\n",
       "      <th>2</th>\n",
       "      <td>0</td>\n",
       "      <td>29.0</td>\n",
       "      <td>21000.0</td>\n",
       "      <td>0</td>\n",
       "      <td>0</td>\n",
       "    </tr>\n",
       "    <tr>\n",
       "      <th>3</th>\n",
       "      <td>0</td>\n",
       "      <td>21.0</td>\n",
       "      <td>41700.0</td>\n",
       "      <td>2</td>\n",
       "      <td>0</td>\n",
       "    </tr>\n",
       "    <tr>\n",
       "      <th>4</th>\n",
       "      <td>1</td>\n",
       "      <td>28.0</td>\n",
       "      <td>26100.0</td>\n",
       "      <td>0</td>\n",
       "      <td>0</td>\n",
       "    </tr>\n",
       "  </tbody>\n",
       "</table>\n",
       "</div>"
      ],
      "text/plain": [
       "   Пол  Возраст  Зарплата  Члены семьи  Страховые выплаты\n",
       "0    1     41.0   49600.0            1                  0\n",
       "1    0     46.0   38000.0            1                  1\n",
       "2    0     29.0   21000.0            0                  0\n",
       "3    0     21.0   41700.0            2                  0\n",
       "4    1     28.0   26100.0            0                  0"
      ]
     },
     "execution_count": 2,
     "metadata": {},
     "output_type": "execute_result"
    }
   ],
   "source": [
    "data = pd.read_csv('/datasets/insurance.csv')\n",
    "data.head()"
   ]
  },
  {
   "cell_type": "markdown",
   "metadata": {},
   "source": [
    "<div class=\"alert alert-success\" style=\"border-color: green; border-radius: 5px\">\n",
    "    <p><u><b>✅ КОММЕНТАРИЙ РЕВЬЮЕРА</b></u></p>\n",
    "    <p>ОК, данные на базе)</p>\n",
    "</div>"
   ]
  },
  {
   "cell_type": "markdown",
   "metadata": {},
   "source": [
    "5 столбцов, пол, возраст, зарплата, количество членов семьи и страховые выплаты. Колонки названы на русский лад, что не комильфо, также странно задан пол и страховые выплаты, логичнее было их сделать логическими переменными, наверное, но посмотрим дальше."
   ]
  },
  {
   "cell_type": "code",
   "execution_count": 3,
   "metadata": {
    "scrolled": true
   },
   "outputs": [
    {
     "name": "stdout",
     "output_type": "stream",
     "text": [
      "<class 'pandas.core.frame.DataFrame'>\n",
      "RangeIndex: 5000 entries, 0 to 4999\n",
      "Data columns (total 5 columns):\n",
      " #   Column             Non-Null Count  Dtype  \n",
      "---  ------             --------------  -----  \n",
      " 0   Пол                5000 non-null   int64  \n",
      " 1   Возраст            5000 non-null   float64\n",
      " 2   Зарплата           5000 non-null   float64\n",
      " 3   Члены семьи        5000 non-null   int64  \n",
      " 4   Страховые выплаты  5000 non-null   int64  \n",
      "dtypes: float64(2), int64(3)\n",
      "memory usage: 195.4 KB\n"
     ]
    }
   ],
   "source": [
    "data.info()"
   ]
  },
  {
   "cell_type": "markdown",
   "metadata": {},
   "source": [
    "Нет пропусков, хорошее начало! Но думаю, что можно все привести к инту, для какого то посредственного удобства, по всей видимости зарплаты и возраст указаны в целых числах."
   ]
  },
  {
   "cell_type": "code",
   "execution_count": 4,
   "metadata": {},
   "outputs": [],
   "source": [
    "data[['Зарплата', 'Возраст']] = data[['Зарплата', 'Возраст']].astype('int')"
   ]
  },
  {
   "cell_type": "code",
   "execution_count": 5,
   "metadata": {
    "scrolled": true
   },
   "outputs": [
    {
     "data": {
      "text/html": [
       "<div>\n",
       "<style scoped>\n",
       "    .dataframe tbody tr th:only-of-type {\n",
       "        vertical-align: middle;\n",
       "    }\n",
       "\n",
       "    .dataframe tbody tr th {\n",
       "        vertical-align: top;\n",
       "    }\n",
       "\n",
       "    .dataframe thead th {\n",
       "        text-align: right;\n",
       "    }\n",
       "</style>\n",
       "<table border=\"1\" class=\"dataframe\">\n",
       "  <thead>\n",
       "    <tr style=\"text-align: right;\">\n",
       "      <th></th>\n",
       "      <th>Пол</th>\n",
       "      <th>Возраст</th>\n",
       "      <th>Зарплата</th>\n",
       "      <th>Члены семьи</th>\n",
       "      <th>Страховые выплаты</th>\n",
       "    </tr>\n",
       "  </thead>\n",
       "  <tbody>\n",
       "    <tr>\n",
       "      <th>count</th>\n",
       "      <td>5000.000000</td>\n",
       "      <td>5000.000000</td>\n",
       "      <td>5000.000000</td>\n",
       "      <td>5000.000000</td>\n",
       "      <td>5000.000000</td>\n",
       "    </tr>\n",
       "    <tr>\n",
       "      <th>mean</th>\n",
       "      <td>0.499000</td>\n",
       "      <td>30.952800</td>\n",
       "      <td>39916.359400</td>\n",
       "      <td>1.194200</td>\n",
       "      <td>0.148000</td>\n",
       "    </tr>\n",
       "    <tr>\n",
       "      <th>std</th>\n",
       "      <td>0.500049</td>\n",
       "      <td>8.440807</td>\n",
       "      <td>9900.082063</td>\n",
       "      <td>1.091387</td>\n",
       "      <td>0.463183</td>\n",
       "    </tr>\n",
       "    <tr>\n",
       "      <th>min</th>\n",
       "      <td>0.000000</td>\n",
       "      <td>18.000000</td>\n",
       "      <td>5300.000000</td>\n",
       "      <td>0.000000</td>\n",
       "      <td>0.000000</td>\n",
       "    </tr>\n",
       "    <tr>\n",
       "      <th>25%</th>\n",
       "      <td>0.000000</td>\n",
       "      <td>24.000000</td>\n",
       "      <td>33300.000000</td>\n",
       "      <td>0.000000</td>\n",
       "      <td>0.000000</td>\n",
       "    </tr>\n",
       "    <tr>\n",
       "      <th>50%</th>\n",
       "      <td>0.000000</td>\n",
       "      <td>30.000000</td>\n",
       "      <td>40200.000000</td>\n",
       "      <td>1.000000</td>\n",
       "      <td>0.000000</td>\n",
       "    </tr>\n",
       "    <tr>\n",
       "      <th>75%</th>\n",
       "      <td>1.000000</td>\n",
       "      <td>37.000000</td>\n",
       "      <td>46600.000000</td>\n",
       "      <td>2.000000</td>\n",
       "      <td>0.000000</td>\n",
       "    </tr>\n",
       "    <tr>\n",
       "      <th>max</th>\n",
       "      <td>1.000000</td>\n",
       "      <td>65.000000</td>\n",
       "      <td>79000.000000</td>\n",
       "      <td>6.000000</td>\n",
       "      <td>5.000000</td>\n",
       "    </tr>\n",
       "  </tbody>\n",
       "</table>\n",
       "</div>"
      ],
      "text/plain": [
       "               Пол      Возраст      Зарплата  Члены семьи  Страховые выплаты\n",
       "count  5000.000000  5000.000000   5000.000000  5000.000000        5000.000000\n",
       "mean      0.499000    30.952800  39916.359400     1.194200           0.148000\n",
       "std       0.500049     8.440807   9900.082063     1.091387           0.463183\n",
       "min       0.000000    18.000000   5300.000000     0.000000           0.000000\n",
       "25%       0.000000    24.000000  33300.000000     0.000000           0.000000\n",
       "50%       0.000000    30.000000  40200.000000     1.000000           0.000000\n",
       "75%       1.000000    37.000000  46600.000000     2.000000           0.000000\n",
       "max       1.000000    65.000000  79000.000000     6.000000           5.000000"
      ]
     },
     "execution_count": 5,
     "metadata": {},
     "output_type": "execute_result"
    }
   ],
   "source": [
    "data.describe()"
   ]
  },
  {
   "cell_type": "markdown",
   "metadata": {},
   "source": [
    "Судя по дескрайбу количество мужчин и женщин стремиться к паритету"
   ]
  },
  {
   "cell_type": "markdown",
   "metadata": {},
   "source": [
    "Получить страховые выплаты 5 раз это надо постараться, или быть слишком невезучим, или же ошибка в данных."
   ]
  },
  {
   "cell_type": "markdown",
   "metadata": {},
   "source": [
    "Проверим на дубликаты:"
   ]
  },
  {
   "cell_type": "code",
   "execution_count": 6,
   "metadata": {},
   "outputs": [
    {
     "data": {
      "text/plain": [
       "153"
      ]
     },
     "execution_count": 6,
     "metadata": {},
     "output_type": "execute_result"
    }
   ],
   "source": [
    "data.duplicated().sum()"
   ]
  },
  {
   "cell_type": "markdown",
   "metadata": {},
   "source": [
    "Дубликаты смысла для обучения точно не несут, убить, нельзя помиловать."
   ]
  },
  {
   "cell_type": "code",
   "execution_count": 7,
   "metadata": {},
   "outputs": [],
   "source": [
    "data = data.drop_duplicates()"
   ]
  },
  {
   "cell_type": "markdown",
   "metadata": {},
   "source": [
    "<div class=\"alert alert-warning\" style=\"border-color: darkorange; border-radius: 5px\">\n",
    "    <p><u><b>⚠️ КОММЕНТАРИЙ РЕВЬЮЕРА</b></u></p>\n",
    "    <p>На обсуждение: у нас тут нет Id клинета. И тогда получается, что чисто теоретичнески - одинаковые строки вполне могут быть разным клиентами. Т.е. математические дубликаты в данной задаче не есть дубликаты по смыслу жизни. Как ты думаешь?</p>\n",
    "</div>"
   ]
  },
  {
   "cell_type": "markdown",
   "metadata": {},
   "source": [
    "Об этом я не подумал, звучит логично, но в целом точные совпадения в 153 строчках из 5к по 5 признакам (зарпалата и возраст имеют еще и большой разброс значений) звучит как-то маловероятно по моим личным ощущениям случайности:D\n",
    "Но с учетом отсуствия айдишников - это вполне могут быть разные люди с одними и теми же данными."
   ]
  },
  {
   "cell_type": "markdown",
   "metadata": {},
   "source": [
    "<div class=\"alert alert-success\" style=\"border-color: green; border-radius: 5px\">\n",
    "    <p><u><b>✅ КОММЕНТАРИЙ РЕВЬЮЕРА</b></u></p>\n",
    "    <p>Отлично, в любом проекте необходимо делать такое аналитическое начало</p>\n",
    "</div>\n",
    "<div class=\"alert alert-warning\" style=\"border-color: darkorange; border-radius: 5px\">\n",
    "    <p><u><b>⚠️ КОММЕНТАРИЙ РЕВЬЮЕРА</b></u></p>\n",
    "    <p>А по графикам есть такой момент: нужен графический анализ в любой модельной работе). Причём: Если наши данные колличественные, то гистограммы/ящик с усами подходят. А вот если данные категориальные (или бинарные, как пол), то применяется другой тип графика - столбчатый или круговая диаграммы.<br>\n",
    "Тут можно подисскутировать про \"страховые выплаты\" и \"члены семьи\" - они колличественные. Но больше могут походить на категории. Поэтому интереснее и к ним применить столбчатый или круговые диаграммы.<br>\n",
    "<br>\n",
    "</div>"
   ]
  },
  {
   "cell_type": "markdown",
   "metadata": {},
   "source": [
    "А разве, гистограмма == столбчатая диаграмма? \n",
    "\n",
    "*В процессе гуглинга сам нашел их принципиальные отличия - \"Еще один распространенный тип графиков — столбчатые диаграммы. Они похожи на гистограммы, но на оси x тут располагаются не числовые значения, а категории.\"* Но у нас такие числовые значения, что они как будто категориальны, ведь интовые, и разбивают клиентов на категории бездетных, с одним, с двумя и тд?"
   ]
  },
  {
   "cell_type": "markdown",
   "metadata": {},
   "source": [
    "<div class=\"alert alert-success\" style=\"border-color: green; border-radius: 5px\">\n",
    "    <p><u><b>✅ КОММЕНТАРИЙ РЕВЬЮЕРА 2</b></u></p>\n",
    "    <p>верно! бывают такие случаи, когда нам, как аналитикам, надо будет делать выбор в какой шкале будем анализировать данные. В данном примере ч бы выбрал за категорильаный вид. Ниже оставлю алгоримт выбора анализа и графики, исходя из типа шкалы.</p>\n",
    "</div>"
   ]
  },
  {
   "attachments": {
    "image.png": {
     "image/png": "[encoded data removed]"
    }
   },
   "cell_type": "markdown",
   "metadata": {},
   "source": [
    "![image.png](attachment:image.png)"
   ]
  },
  {
   "cell_type": "code",
   "execution_count": 20,
   "metadata": {
    "scrolled": false
   },
   "outputs": [
    {
     "data": {
      "image/png": "[encoded data removed]",
      "text/plain": [
       "<Figure size 1440x720 with 1 Axes>"
      ]
     },
     "metadata": {
      "needs_background": "light"
     },
     "output_type": "display_data"
    }
   ],
   "source": [
    "plt.figure(figsize=[20,10])   \n",
    "plt.hist(data['Члены семьи'], bins=13)\n",
    "plt.xlabel('Количество людей')\n",
    "plt.ylabel('Полученные значения')  \n",
    "plt.title('Гистограмма по количеству людей в семье', fontsize=15)\n",
    "plt.show()"
   ]
  },
  {
   "cell_type": "markdown",
   "metadata": {},
   "source": [
    "Вообще странная графа членов семьи, ведь если ты даже один, то твоя семья - это ты 1, тут вероятно идет речь о детях. Вообще круговая диаграмма была бы гораздо нагляднее, но я потерял час в поисках адекватной реализации, по итогу получил какое-то око саурона, не отрыл я реализации по одной серии, обычно идет круговая по 2 сериям, где первой задается категория, а вторая какая-то количественная (и я пытался станцевать с бубном, но как-то не дотанцевал), поэтому если у тебя где-то под рукой смачный шаблончик для адекватной круговой диаграммы, дай пожалуйста кусь (хотя думаю что на второй час потуг я бы его нашел, точно он где-то лежит на просторах интернета, но время поджимает)! Вообще грустно, что за 7 проектов, я как-то гистограммами всегда малой кровью отделывался. В данном же случае гистограммы-столбчатой диаграммы все равно приходится головой думать, что примерно каждый третий бездентый, а самая популярная группа - с одним ребенком!"
   ]
  },
  {
   "cell_type": "code",
   "execution_count": 21,
   "metadata": {
    "scrolled": false
   },
   "outputs": [
    {
     "data": {
      "image/png": "[encoded data removed]",
      "text/plain": [
       "<Figure size 1440x720 with 1 Axes>"
      ]
     },
     "metadata": {
      "needs_background": "light"
     },
     "output_type": "display_data"
    }
   ],
   "source": [
    "plt.figure(figsize=[20,10])   \n",
    "plt.hist(data['Страховые выплаты'], bins=11)\n",
    "plt.xlabel('Количество страховых выплат')\n",
    "plt.ylabel('Полученные значения')  \n",
    "plt.title('Гистограмма по количеству страховых выплат', fontsize=15)\n",
    "plt.show()"
   ]
  },
  {
   "cell_type": "markdown",
   "metadata": {},
   "source": [
    "Выглядит так, как будто страховой бизнесс один из самых прибыльных в мире, поскольку платить придется примерно лишь каждому 9-10, однако обычно сумма компенсации колоссальна!"
   ]
  },
  {
   "cell_type": "markdown",
   "metadata": {},
   "source": [
    "## Умножение матриц"
   ]
  },
  {
   "cell_type": "markdown",
   "metadata": {},
   "source": [
    "В этом задании вы можете записывать формулы в *Jupyter Notebook.*\n",
    "\n",
    "Чтобы записать формулу внутри текста, окружите её символами доллара \\\\$; если снаружи —  двойными символами \\\\$\\\\$. Эти формулы записываются на языке вёрстки *LaTeX.* \n",
    "\n",
    "Для примера мы записали формулы линейной регрессии. Можете их скопировать и отредактировать, чтобы решить задачу.\n",
    "\n",
    "Работать в *LaTeX* необязательно."
   ]
  },
  {
   "cell_type": "markdown",
   "metadata": {},
   "source": [
    "Обозначения:\n",
    "\n",
    "- $X$ — матрица признаков (нулевой столбец состоит из единиц)\n",
    "\n",
    "- $y$ — вектор целевого признака\n",
    "\n",
    "- $P$ — матрица, на которую умножаются признаки\n",
    "\n",
    "- $w$ — вектор весов линейной регрессии (нулевой элемент равен сдвигу)"
   ]
  },
  {
   "cell_type": "markdown",
   "metadata": {},
   "source": [
    "Предсказания:\n",
    "\n",
    "$$\n",
    "a = Xw\n",
    "$$\n",
    "\n",
    "Задача обучения:\n",
    "\n",
    "$$\n",
    "w = \\arg\\min_w MSE(Xw, y)\n",
    "$$\n",
    "\n",
    "Формула обучения:\n",
    "\n",
    "$$\n",
    "w = (X^T X)^{-1} X^T y\n",
    "$$"
   ]
  },
  {
   "cell_type": "markdown",
   "metadata": {},
   "source": [
    "Необходимо доказать, что $ a = a '$"
   ]
  },
  {
   "cell_type": "markdown",
   "metadata": {},
   "source": [
    "Зададим новую матрицу признаков как произведение старой X на обратимую,\n",
    "\n",
    "$$X' = X∗P$$"
   ]
  },
  {
   "cell_type": "markdown",
   "metadata": {},
   "source": [
    "Подставим новое значение $X'$ в формулу $w'$,\n",
    "\n",
    "$$w'=((XP)^TXP)^{−1}(XP)^Ty$$"
   ]
  },
  {
   "cell_type": "markdown",
   "metadata": {},
   "source": [
    "Раскроем первое произведение $(XP)^T$,\n",
    "\n",
    "$$w'=(P^TX^TXP)^{-1}P^TX^Ty$$"
   ]
  },
  {
   "cell_type": "markdown",
   "metadata": {},
   "source": [
    "Перегруппируем множители в скобках, чтобы это выглядело как произведение трех множителей,\n",
    "\n",
    "$$w'=(P^T(X^TX)P)^{-1}P^TX^Ty$$"
   ]
  },
  {
   "cell_type": "markdown",
   "metadata": {},
   "source": [
    "Раскроем скобки $(P^T(X^TX)P)^{-1}$,\n",
    "   \n",
    "$$w'=P^{-1}(X^TX)^{-1}(P^T)^{-1}P^TX^Ty$$"
   ]
  },
  {
   "cell_type": "markdown",
   "metadata": {},
   "source": [
    "Так как $P$ по условию обратимая, то произведение  $(P^T)^{−1}P^T$ равно $E$(единичная матрица),\n",
    "    \n",
    "$$w'=P^{-1}(X^TX)^{-1}EX^Ty=P^{-1}(X^TX)^{-1}X^Ty$$"
   ]
  },
  {
   "cell_type": "markdown",
   "metadata": {},
   "source": [
    "Можно заметить, что справа получилась формула для $w$,\n",
    "\n",
    "$$w'=P^{-1}(X^TX)^{-1}X^Ty=P^{-1}w$$"
   ]
  },
  {
   "cell_type": "markdown",
   "metadata": {},
   "source": [
    "Подставим новое значение весов $ 𝑤' $ в формулу для предсказаний линейной регрессии. Предсказания модели расчитываются по формуле,\n",
    "    \n",
    "$$a=Xw$$\n"
   ]
  },
  {
   "cell_type": "markdown",
   "metadata": {},
   "source": [
    "Подставим в эту формулу значения $X'$ и $w'$ для того, чтобы на их основе вычислить предсказания модели $a'$,\n",
    "    \n",
    "$$a'=X'w'=XPP^{-1}w$$"
   ]
  },
  {
   "cell_type": "markdown",
   "metadata": {},
   "source": [
    "Так как $P$ по условию обратимая, то произведение $PP^{−1}$ снова равно $E$,\n",
    "\n",
    "$$a'=XPP^{-1}w=XEw=Xw=a$$"
   ]
  },
  {
   "cell_type": "markdown",
   "metadata": {},
   "source": [
    "Мы доказали, что предсказания $a'$ для матрицы признаков, умноженных на обратимую матрицу $P$ равны предсказаниям $a$. Следовательно, отвечая на вопрос изменится ли качество линейной регрессии при умножении признаков на обратимую матрицу - нет, не изменится."
   ]
  },
  {
   "cell_type": "markdown",
   "metadata": {},
   "source": [
    "**Ответ:** Не изменится.  В данном случае, параметры линейной регрессии в исходной задаче $w$ и в преобразованной $w'$ связаны следующим образом,\n",
    "\n",
    "$$w'=P^{-1}w$$\n",
    "\n",
    "**Обоснование:** Описано выше."
   ]
  },
  {
   "cell_type": "markdown",
   "metadata": {},
   "source": [
    "**Вывод:** не быть мне математиком, потому что я бы никогда не додумался до такого вывода без доступных на гитхабе проектов и комментариев с пачки:CCCCCCCCCCCC"
   ]
  },
  {
   "cell_type": "markdown",
   "metadata": {},
   "source": [
    "<div class=\"alert alert-success\" style=\"border-color: green; border-radius: 5px\">\n",
    "    <p><u><b>✅ КОММЕНТАРИЙ РЕВЬЮЕРА</b></u></p>\n",
    "    <p>есть контакт, всё ОК!. Не додумался? а кто его знает.... Если бы было боьше времени на проект и решалась бы судьба - точно осилил. Там сложно в понятии матрица только. А формулы вычислений - наработал бы) Мне так, кажется.</p>\n",
    "</div>\n"
   ]
  },
  {
   "cell_type": "markdown",
   "metadata": {},
   "source": [
    "## Алгоритм преобразования"
   ]
  },
  {
   "cell_type": "markdown",
   "metadata": {},
   "source": [
    "**Алгоритм**\n",
    "\n",
    "Для защиты будем умножать матрицу признаков на обратимую матрицу, сгенерированную случайно. Нам нужно:\n",
    "- сгенерировать обратимую матрицу, размерностью соответствующую количеству столбцов признаков.\n",
    "- умножить матрицу исходных признаков на полученную сгенерированную матрицу.\n",
    "- посчитать качество модели (метрик R2 и MSE) на полученной матрице и сравнить с качеством модели на матрице исходных данных."
   ]
  },
  {
   "cell_type": "markdown",
   "metadata": {},
   "source": [
    "**Обоснование**\n",
    "\n",
    "В предыдущем пункте мы выяснили, что предсказания на измененной и изначальной матрице не должны отличаться, поэтому результаты метрик R2 и MSE должны оказаться равны. Тем самым мы докажем, что правильно защитили наши данные без вреда для предсказаний."
   ]
  },
  {
   "cell_type": "markdown",
   "metadata": {},
   "source": [
    "<div class=\"alert alert-success\" style=\"border-color: green; border-radius: 5px\">\n",
    "    <p><u><b>✅ КОММЕНТАРИЙ РЕВЬЮЕРА</b></u></p>\n",
    "да, тут как раз и нужен план действий для пункта 4) Делай раз, делай два, делай три.."
   ]
  },
  {
   "cell_type": "markdown",
   "metadata": {},
   "source": [
    "## Проверка алгоритма"
   ]
  },
  {
   "cell_type": "markdown",
   "metadata": {},
   "source": [
    "### Иследование качества модели без преобразования"
   ]
  },
  {
   "cell_type": "code",
   "execution_count": null,
   "metadata": {},
   "outputs": [],
   "source": [
    "mse = [] # список под результаты метрики mse\n",
    "r2 = [] # список под результаты метрики r2\n",
    "features = data.drop('Страховые выплаты',axis=1) # выделим признаки для обучения \n",
    "target = data['Страховые выплаты']\n",
    "features_train, features_test, target_train, target_test = train_test_split( features, target, test_size=0.25, random_state=42) # создаем выборки\n",
    "model = LinearRegression() # создаем модель\n",
    "model.fit(features_train, target_train) # обучаем модель\n",
    "mse.append(mean_squared_error(model.predict(features_test), target_test))\n",
    "r2.append(r2_score(target_test, model.predict(features_test)))\n",
    "print(\"R2 =\", r2[-1])\n",
    "print(\"MSE =\", mse[-1])"
   ]
  },
  {
   "cell_type": "markdown",
   "metadata": {},
   "source": [
    "Непонятно, есть ли большая необходимость масштабировать, так как в требованиях к проекту этого нет, но полученные данные содержат признаки разных размеров и масштабов. Различные масштабы данных отрицательно влияют на результат прогнозов с точки зрения ошибок классификации и показателей точности. Таким образом, перед моделированием желательно и необходимо масштабировать данные."
   ]
  },
  {
   "cell_type": "markdown",
   "metadata": {},
   "source": [
    "<div class=\"alert alert-success\" style=\"border-color: green; border-radius: 5px\">\n",
    "    <p><u><b>✅ КОММЕНТАРИЙ РЕВЬЮЕРА</b></u></p>\n",
    "Если следовать алгоритму (а именно его мы тоже здесь отрабатывам), то и графический анализ и масштабирование тут нужно, ок)"
   ]
  },
  {
   "cell_type": "code",
   "execution_count": null,
   "metadata": {},
   "outputs": [],
   "source": [
    "regressor = LinearRegression() # создаем модель\n",
    "scaller = StandardScaler() # создаем объект функции стандартизации\n",
    "pipeline = Pipeline([(\"standard_scaller\", scaller),(\"linear_regression\", regressor)]) # как перевел scikit-learn.org - задаем \"конвеер преобразований\", с которым далее будем работать с масштабированными уже признаками \n",
    "pipeline.fit(features_train, target_train) # обучаем модель\n",
    "mse.append(mean_squared_error(model.predict(features_test), target_test))\n",
    "r2.append(r2_score(target_test, pipeline.predict(features_test)))\n",
    "print(\"R2 =\", r2[-1])\n",
    "print(\"MSE =\", mse[-1])"
   ]
  },
  {
   "cell_type": "markdown",
   "metadata": {},
   "source": [
    "Видим что качество модели меняется абсолютно несущественно. "
   ]
  },
  {
   "cell_type": "markdown",
   "metadata": {},
   "source": [
    "<div class=\"alert alert-success\" style=\"border-color: green; border-radius: 5px\">\n",
    "    <p><u><b>✅ КОММЕНТАРИЙ РЕВЬЮЕРА</b></u></p>\n",
    "ок"
   ]
  },
  {
   "cell_type": "markdown",
   "metadata": {},
   "source": [
    "### Иследование качества модели c преобразованием"
   ]
  },
  {
   "cell_type": "code",
   "execution_count": null,
   "metadata": {},
   "outputs": [],
   "source": [
    "# Задаем случайную матрицу\n",
    "n = features.shape[1]\n",
    "matrix = np.random.randint(1,42, (n,n))\n",
    "matrix_features = features\n",
    "matrix_transformation = matrix_features @ matrix\n",
    "np.linalg.inv(matrix)"
   ]
  },
  {
   "cell_type": "markdown",
   "metadata": {},
   "source": [
    "<div class=\"alert alert-success\" style=\"border-color: green; border-radius: 5px\">\n",
    "    <p><u><b>✅ КОММЕНТАРИЙ РЕВЬЮЕРА</b></u></p>\n",
    "да, проверка на обратимость нужна. Только сначала стоит её провкести, а потом уже умножать..."
   ]
  },
  {
   "cell_type": "code",
   "execution_count": null,
   "metadata": {},
   "outputs": [],
   "source": []
  },
  {
   "cell_type": "code",
   "execution_count": null,
   "metadata": {},
   "outputs": [],
   "source": [
    "features_train, features_test, target_train, target_test = train_test_split(matrix_transformation, target, test_size=0.25, random_state=42) # разбиваем на выборки\n",
    "model = LinearRegression() # создаем модель\n",
    "model.fit(features_train, target_train) # обучаем модель\n",
    "mse.append(mean_squared_error(model.predict(features_test), target_test))\n",
    "r2.append(r2_score(target_test, model.predict(features_test)))\n",
    "print(\"R2 =\", r2[-1])\n",
    "print(\"MSE =\", mse[-1])"
   ]
  },
  {
   "cell_type": "code",
   "execution_count": null,
   "metadata": {},
   "outputs": [],
   "source": [
    "regressor = LinearRegression() # создаем модель\n",
    "scaller = StandardScaler() # создаем объект функции стандартизации\n",
    "pipeline = Pipeline([(\"standard_scaller\", scaller),(\"linear_regression\", regressor)]) # как перевел scikit-learn.org - задаем \"конвеер преобразований\", с которым далее будем ра\n",
    "pipeline.fit(features_train, target_train)\n",
    "mse.append(mean_squared_error(model.predict(features_test), target_test))\n",
    "r2.append(r2_score(target_test, pipeline.predict(features_test)))\n",
    "print(\"R2 =\", r2[-1])\n",
    "print(\"MSE =\", mse[-1])"
   ]
  },
  {
   "cell_type": "markdown",
   "metadata": {},
   "source": [
    "<div class=\"alert alert-success\" style=\"border-color: green; border-radius: 5px\">\n",
    "    <p><u><b>✅ КОММЕНТАРИЙ РЕВЬЮЕРА</b></u></p>\n",
    ")"
   ]
  },
  {
   "cell_type": "markdown",
   "metadata": {},
   "source": [
    "## Вывод"
   ]
  },
  {
   "cell_type": "code",
   "execution_count": null,
   "metadata": {},
   "outputs": [],
   "source": [
    "final = pd.DataFrame(data= r2, columns=['r2_score'], \n",
    "                      index=['Качество исходных',\n",
    "                            'Качество исходных c масштабирование',\n",
    "                            'Качество преобразованных',\n",
    "                            'Качество на преобразованных признаках с масштабированием',])\n",
    "final['mse'] = mse\n",
    "final"
   ]
  },
  {
   "cell_type": "markdown",
   "metadata": {},
   "source": [
    "От нас требовалось защитить данные клиентов страховой компании и разработать подходящий метод преобразования данных, который бы не сказывался на метриках качества обученной модели.\n",
    "\n",
    "Были выполнены следующие шаги:\n",
    "- Была осуществлена предобработка данных\n",
    "- Произошел 4-часовой отказ от реальности в попытках понять простой матричный вывод.\n",
    "- Привлечен друг аналитик данных, который теперь окончательно уверен, что я тупой.\n",
    "- Был разработан и реализован подходящий алгоритм преобразования данных.\n",
    "- Качество линейной регресии не изменилось от использования исxодной матрицы и исходной матрицы, умноженную на обратимую. Подтверждением этому служили метрики качества R2 и MSE.\n",
    "\n",
    "Самый необъемный и самый трудный проект в моей жизни :C"
   ]
  },
  {
   "cell_type": "markdown",
   "metadata": {},
   "source": [
    "<div class=\"alert alert-success\" style=\"border-color: green; border-radius: 5px\">\n",
    "    <p><u><b>✅ КОММЕНТАРИЙ РЕВЬЮЕРА</b></u></p>\n",
    "ОК, Герман, и с линейной алгеброй ты справился)<br>\n",
    "Всё, в общем-то, по делу, со смыслом. Доказательство в п.2 - понятно)<br>\n",
    "Да и весь проект - на уровне.<br>\n",
    "Не забыл про проверку на обратимость! ОК<br>\n",
    "    \n",
    "В общем-то, вопросов у меня и нет особых) Оставил комментарий по графике - посомтри, пожалуйста.<br>\n",
    "\n",
    "    \n",
    "\"Самый необъемный и самый трудный проект в моей жизни :C\" А сколько ещё их будет)))"
   ]
  },
  {
   "cell_type": "markdown",
   "metadata": {},
   "source": [
    "Спасибо за твою работу, Николай! "
   ]
  },
  {
   "cell_type": "markdown",
   "metadata": {},
   "source": [
    "<div class=\"alert alert-success\" style=\"border-color: green; border-radius: 5px\">\n",
    "    <p><u><b>✅ КОММЕНТАРИЙ РЕВЬЮЕРА 2</b></u></p>\n",
    "Спасибо, Герман, за такой отклик!!!! Оставил ещё комментарий по графике - посмотри, пожалуйста.<br>\n",
    "    \n",
    "И ещё несколько идей в целом по теме: если рассматривать передачу данных третьим лицам, то к преимуществам данного подхода можно отнести, в первую очередь, ощутимую экономию ресурсов по сравнению с некоторыми известными алгоритмами шифрования, в особенности это касается ассиметричных алгоритмов с достаточно длинными ключами (AES, RSA), которые требуют много процессорного времени.<br><br>\n",
    "    \n",
    "К главному недостатку подхода можно отнести увеличение сложности проверки на вырожденность преобразования с ростом количества признаков в выборке. В рассмотренном случае необходимо подобрать подходящую матрицу размера  4×4 . Однако, если признаки будут исчисляться тысячами, что в теории всегда надо положить, то расчет соответствующих определителей может быть крайне ресурсозатратным. Но и эту проблему можно будет решить)<br><br>\n",
    "    \n",
    "Если есть время и желание, то можно воту этот маткриал просмотреть:<br>\n",
    "Обзоры по применению криптографии в машинном обучении: https://arxiv.org/pdf/1902.04109.pdf, https://www.researchgate.net/publication/342746786_Some_Applications_of_Machine_Learning_in_Cryptography\n",
    "Подробнее про аналогичный алгоритм: https://www.cs.cmu.edu/~rjhall/JOS_revised_May_31a.pdf<br>\n",
    "Шифрование исходного ключа по методу \"Цезаря\" (https://ru.wikipedia.org/wiki/%D0%A8%D0%B8%D1%84%D1%80_%D0%A6%D0%B5%D0%B7%D0%B0%D1%80%D1%8F)<br>\n",
    "<font color='green'><font color='green'>\n",
    "Спасибо за проект) <br>\n",
    "Успешного дальнейшего обучения"
   ]
  },
  {
   "cell_type": "code",
   "execution_count": null,
   "metadata": {},
   "outputs": [],
   "source": []
  },
  {
   "cell_type": "markdown",
   "metadata": {},
   "source": [
    "## Чек-лист проверки"
   ]
  },
  {
   "cell_type": "markdown",
   "metadata": {},
   "source": [
    "Поставьте 'x' в выполненных пунктах. Далее нажмите Shift+Enter."
   ]
  },
  {
   "cell_type": "markdown",
   "metadata": {},
   "source": [
    "- [x]  Jupyter Notebook открыт\n",
    "- [ ]  Весь код выполняется без ошибок\n",
    "- [ ]  Ячейки с кодом расположены в порядке исполнения\n",
    "- [ ]  Выполнен шаг 1: данные загружены\n",
    "- [ ]  Выполнен шаг 2: получен ответ на вопрос об умножении матриц\n",
    "    - [ ]  Указан правильный вариант ответа\n",
    "    - [ ]  Вариант обоснован\n",
    "- [ ]  Выполнен шаг 3: предложен алгоритм преобразования\n",
    "    - [ ]  Алгоритм описан\n",
    "    - [ ]  Алгоритм обоснован\n",
    "- [ ]  Выполнен шаг 4: алгоритм проверен\n",
    "    - [ ]  Алгоритм реализован\n",
    "    - [ ]  Проведено сравнение качества моделей до и после преобразования"
   ]
  },
  {
   "cell_type": "code",
   "execution_count": null,
   "metadata": {},
   "outputs": [],
   "source": [
    "памагите"
   ]
  }
 ],
 "metadata": {
  "ExecuteTimeLog": [
   {
    "duration": 1621,
    "start_time": "2023-02-07T17:21:17.672Z"
   },
   {
    "duration": 144,
    "start_time": "2023-02-07T17:24:22.550Z"
   },
   {
    "duration": 103,
    "start_time": "2023-02-07T17:25:04.890Z"
   },
   {
    "duration": 12,
    "start_time": "2023-02-07T17:25:24.472Z"
   },
   {
    "duration": 33,
    "start_time": "2023-02-07T17:26:08.581Z"
   },
   {
    "duration": 11,
    "start_time": "2023-02-07T17:26:09.422Z"
   },
   {
    "duration": 21,
    "start_time": "2023-02-07T17:28:26.060Z"
   },
   {
    "duration": 5,
    "start_time": "2023-02-07T17:38:40.357Z"
   },
   {
    "duration": 22,
    "start_time": "2023-02-07T17:38:40.979Z"
   },
   {
    "duration": 9,
    "start_time": "2023-02-07T17:38:46.602Z"
   },
   {
    "duration": 4,
    "start_time": "2023-02-07T17:38:48.782Z"
   },
   {
    "duration": 20,
    "start_time": "2023-02-07T17:38:49.435Z"
   },
   {
    "duration": 74,
    "start_time": "2023-02-07T17:40:34.069Z"
   },
   {
    "duration": 7,
    "start_time": "2023-02-07T17:40:36.284Z"
   },
   {
    "duration": 76,
    "start_time": "2023-02-07T17:40:59.317Z"
   },
   {
    "duration": 5,
    "start_time": "2023-02-07T17:41:26.039Z"
   },
   {
    "duration": 6,
    "start_time": "2023-02-07T17:41:27.848Z"
   },
   {
    "duration": 20,
    "start_time": "2023-02-07T17:41:32.005Z"
   },
   {
    "duration": 114,
    "start_time": "2023-02-07T17:45:14.269Z"
   },
   {
    "duration": 168,
    "start_time": "2023-02-07T17:45:23.062Z"
   },
   {
    "duration": 246,
    "start_time": "2023-02-07T17:57:26.826Z"
   },
   {
    "duration": 205,
    "start_time": "2023-02-07T17:57:35.460Z"
   },
   {
    "duration": 1531,
    "start_time": "2023-02-13T16:24:55.397Z"
   },
   {
    "duration": 106,
    "start_time": "2023-02-13T16:24:56.930Z"
   },
   {
    "duration": 12,
    "start_time": "2023-02-13T16:24:57.038Z"
   },
   {
    "duration": 8,
    "start_time": "2023-02-13T16:24:57.052Z"
   },
   {
    "duration": 21,
    "start_time": "2023-02-13T16:24:57.062Z"
   },
   {
    "duration": 6,
    "start_time": "2023-02-13T16:24:57.085Z"
   },
   {
    "duration": 5,
    "start_time": "2023-02-13T16:24:57.093Z"
   },
   {
    "duration": 15,
    "start_time": "2023-02-13T16:46:30.109Z"
   },
   {
    "duration": 113,
    "start_time": "2023-02-13T17:03:50.801Z"
   },
   {
    "duration": 4,
    "start_time": "2023-02-13T17:04:05.433Z"
   },
   {
    "duration": 11,
    "start_time": "2023-02-13T17:04:12.334Z"
   },
   {
    "duration": 5,
    "start_time": "2023-02-13T17:04:22.450Z"
   },
   {
    "duration": 15,
    "start_time": "2023-02-13T17:04:27.613Z"
   },
   {
    "duration": 13,
    "start_time": "2023-02-13T17:13:47.774Z"
   },
   {
    "duration": 16,
    "start_time": "2023-02-13T17:13:57.520Z"
   },
   {
    "duration": 11,
    "start_time": "2023-02-13T17:14:48.058Z"
   },
   {
    "duration": 11,
    "start_time": "2023-02-13T17:14:52.265Z"
   },
   {
    "duration": 9,
    "start_time": "2023-02-13T17:15:28.312Z"
   },
   {
    "duration": 13,
    "start_time": "2023-02-13T17:18:17.455Z"
   },
   {
    "duration": 11,
    "start_time": "2023-02-13T17:18:52.166Z"
   },
   {
    "duration": 12,
    "start_time": "2023-02-13T17:18:56.470Z"
   },
   {
    "duration": 10,
    "start_time": "2023-02-13T17:18:57.096Z"
   },
   {
    "duration": 10,
    "start_time": "2023-02-13T17:19:35.570Z"
   },
   {
    "duration": 11,
    "start_time": "2023-02-13T17:19:48.339Z"
   },
   {
    "duration": 8,
    "start_time": "2023-02-13T17:20:17.577Z"
   },
   {
    "duration": 9,
    "start_time": "2023-02-13T17:20:58.462Z"
   },
   {
    "duration": 14,
    "start_time": "2023-02-13T17:34:01.584Z"
   },
   {
    "duration": 12,
    "start_time": "2023-02-13T17:34:06.203Z"
   },
   {
    "duration": 15,
    "start_time": "2023-02-13T17:34:11.643Z"
   },
   {
    "duration": 11,
    "start_time": "2023-02-13T17:34:14.533Z"
   },
   {
    "duration": 13,
    "start_time": "2023-02-13T17:34:16.968Z"
   },
   {
    "duration": 19,
    "start_time": "2023-02-13T17:34:20.413Z"
   },
   {
    "duration": 44,
    "start_time": "2023-02-13T17:34:31.144Z"
   },
   {
    "duration": 27,
    "start_time": "2023-02-13T17:34:40.063Z"
   },
   {
    "duration": 53,
    "start_time": "2023-02-13T17:34:46.993Z"
   },
   {
    "duration": 42,
    "start_time": "2023-02-13T17:34:51.854Z"
   },
   {
    "duration": 26,
    "start_time": "2023-02-13T17:35:03.713Z"
   },
   {
    "duration": 15,
    "start_time": "2023-02-13T17:35:21.793Z"
   },
   {
    "duration": 1370,
    "start_time": "2023-02-13T17:35:30.547Z"
   },
   {
    "duration": 34,
    "start_time": "2023-02-13T17:35:31.920Z"
   },
   {
    "duration": 11,
    "start_time": "2023-02-13T17:35:31.956Z"
   },
   {
    "duration": 20,
    "start_time": "2023-02-13T17:35:31.968Z"
   },
   {
    "duration": 26,
    "start_time": "2023-02-13T17:35:31.991Z"
   },
   {
    "duration": 6,
    "start_time": "2023-02-13T17:35:32.018Z"
   },
   {
    "duration": 8,
    "start_time": "2023-02-13T17:35:32.026Z"
   },
   {
    "duration": 31,
    "start_time": "2023-02-13T17:35:32.036Z"
   },
   {
    "duration": 15,
    "start_time": "2023-02-13T17:35:32.068Z"
   },
   {
    "duration": 7,
    "start_time": "2023-02-13T17:35:32.085Z"
   },
   {
    "duration": 160,
    "start_time": "2023-02-13T17:35:32.095Z"
   },
   {
    "duration": 13,
    "start_time": "2023-02-13T17:35:32.256Z"
   },
   {
    "duration": 13,
    "start_time": "2023-02-13T17:35:32.270Z"
   },
   {
    "duration": 8,
    "start_time": "2023-02-13T17:35:32.286Z"
   },
   {
    "duration": 7,
    "start_time": "2023-02-13T17:35:40.705Z"
   },
   {
    "duration": 9,
    "start_time": "2023-02-13T17:35:45.389Z"
   },
   {
    "duration": 106,
    "start_time": "2023-02-13T17:37:58.854Z"
   },
   {
    "duration": 9,
    "start_time": "2023-02-13T17:38:02.888Z"
   },
   {
    "duration": 10,
    "start_time": "2023-02-13T17:38:26.534Z"
   },
   {
    "duration": 16,
    "start_time": "2023-02-13T17:38:49.846Z"
   },
   {
    "duration": 13,
    "start_time": "2023-02-13T17:38:52.947Z"
   },
   {
    "duration": 13,
    "start_time": "2023-02-13T17:38:59.886Z"
   },
   {
    "duration": 14,
    "start_time": "2023-02-13T17:39:02.551Z"
   },
   {
    "duration": 13,
    "start_time": "2023-02-13T17:39:04.933Z"
   },
   {
    "duration": 6,
    "start_time": "2023-02-13T18:00:36.775Z"
   },
   {
    "duration": 17,
    "start_time": "2023-02-13T18:00:37.647Z"
   },
   {
    "duration": 66,
    "start_time": "2023-02-13T18:07:05.671Z"
   },
   {
    "duration": 70,
    "start_time": "2023-02-13T18:09:01.183Z"
   },
   {
    "duration": 1530,
    "start_time": "2023-02-13T18:09:29.652Z"
   },
   {
    "duration": 38,
    "start_time": "2023-02-13T18:09:31.185Z"
   },
   {
    "duration": 27,
    "start_time": "2023-02-13T18:09:31.224Z"
   },
   {
    "duration": 13,
    "start_time": "2023-02-13T18:09:31.253Z"
   },
   {
    "duration": 34,
    "start_time": "2023-02-13T18:09:31.268Z"
   },
   {
    "duration": 6,
    "start_time": "2023-02-13T18:09:31.303Z"
   },
   {
    "duration": 5,
    "start_time": "2023-02-13T18:09:31.311Z"
   },
   {
    "duration": 25,
    "start_time": "2023-02-13T18:09:31.317Z"
   },
   {
    "duration": 29,
    "start_time": "2023-02-13T18:09:31.344Z"
   },
   {
    "duration": 172,
    "start_time": "2023-02-13T18:09:31.375Z"
   },
   {
    "duration": 0,
    "start_time": "2023-02-13T18:09:31.548Z"
   },
   {
    "duration": 0,
    "start_time": "2023-02-13T18:09:31.549Z"
   },
   {
    "duration": 0,
    "start_time": "2023-02-13T18:09:31.550Z"
   },
   {
    "duration": 0,
    "start_time": "2023-02-13T18:09:31.552Z"
   },
   {
    "duration": 6,
    "start_time": "2023-02-13T18:10:16.983Z"
   },
   {
    "duration": 12,
    "start_time": "2023-02-13T18:10:28.351Z"
   },
   {
    "duration": 11,
    "start_time": "2023-02-13T18:10:34.151Z"
   },
   {
    "duration": 18,
    "start_time": "2023-02-13T18:11:04.311Z"
   },
   {
    "duration": 14,
    "start_time": "2023-02-13T18:11:18.561Z"
   },
   {
    "duration": 10,
    "start_time": "2023-02-13T18:11:32.572Z"
   },
   {
    "duration": 1091,
    "start_time": "2023-02-13T18:12:55.737Z"
   },
   {
    "duration": 36,
    "start_time": "2023-02-13T18:12:56.830Z"
   },
   {
    "duration": 11,
    "start_time": "2023-02-13T18:12:56.868Z"
   },
   {
    "duration": 7,
    "start_time": "2023-02-13T18:12:56.880Z"
   },
   {
    "duration": 22,
    "start_time": "2023-02-13T18:12:56.889Z"
   },
   {
    "duration": 6,
    "start_time": "2023-02-13T18:12:56.912Z"
   },
   {
    "duration": 4,
    "start_time": "2023-02-13T18:12:56.919Z"
   },
   {
    "duration": 39,
    "start_time": "2023-02-13T18:12:56.925Z"
   },
   {
    "duration": 12,
    "start_time": "2023-02-13T18:12:56.966Z"
   },
   {
    "duration": 10,
    "start_time": "2023-02-13T18:12:56.980Z"
   },
   {
    "duration": 162,
    "start_time": "2023-02-13T18:12:56.991Z"
   },
   {
    "duration": 15,
    "start_time": "2023-02-13T18:12:57.155Z"
   },
   {
    "duration": 16,
    "start_time": "2023-02-13T18:12:57.172Z"
   },
   {
    "duration": 10,
    "start_time": "2023-02-13T18:12:57.191Z"
   },
   {
    "duration": 56,
    "start_time": "2023-02-13T20:17:07.249Z"
   },
   {
    "duration": 1149,
    "start_time": "2023-02-13T20:30:38.303Z"
   },
   {
    "duration": 43,
    "start_time": "2023-02-13T20:30:39.459Z"
   },
   {
    "duration": 12,
    "start_time": "2023-02-13T20:30:39.504Z"
   },
   {
    "duration": 8,
    "start_time": "2023-02-13T20:30:39.518Z"
   },
   {
    "duration": 38,
    "start_time": "2023-02-13T20:30:39.527Z"
   },
   {
    "duration": 14,
    "start_time": "2023-02-13T20:30:39.568Z"
   },
   {
    "duration": 12,
    "start_time": "2023-02-13T20:30:39.584Z"
   },
   {
    "duration": 22,
    "start_time": "2023-02-13T20:30:39.598Z"
   },
   {
    "duration": 49,
    "start_time": "2023-02-13T20:30:39.623Z"
   },
   {
    "duration": 8,
    "start_time": "2023-02-13T20:30:39.674Z"
   },
   {
    "duration": 75,
    "start_time": "2023-02-13T20:30:39.685Z"
   },
   {
    "duration": 101,
    "start_time": "2023-02-13T20:30:39.765Z"
   },
   {
    "duration": 47,
    "start_time": "2023-02-13T20:30:39.868Z"
   },
   {
    "duration": 11,
    "start_time": "2023-02-13T20:30:39.917Z"
   },
   {
    "duration": 1153,
    "start_time": "2023-02-13T20:36:20.875Z"
   },
   {
    "duration": 51,
    "start_time": "2023-02-13T20:36:22.030Z"
   },
   {
    "duration": 18,
    "start_time": "2023-02-13T20:36:22.083Z"
   },
   {
    "duration": 5,
    "start_time": "2023-02-13T20:36:22.103Z"
   },
   {
    "duration": 27,
    "start_time": "2023-02-13T20:36:22.110Z"
   },
   {
    "duration": 36,
    "start_time": "2023-02-13T20:36:22.138Z"
   },
   {
    "duration": 19,
    "start_time": "2023-02-13T20:36:22.177Z"
   },
   {
    "duration": 15,
    "start_time": "2023-02-13T20:36:22.197Z"
   },
   {
    "duration": 13,
    "start_time": "2023-02-13T20:36:22.213Z"
   },
   {
    "duration": 7,
    "start_time": "2023-02-13T20:36:22.228Z"
   },
   {
    "duration": 108,
    "start_time": "2023-02-13T20:36:22.257Z"
   },
   {
    "duration": 31,
    "start_time": "2023-02-13T20:36:22.370Z"
   },
   {
    "duration": 13,
    "start_time": "2023-02-13T20:36:22.403Z"
   },
   {
    "duration": 9,
    "start_time": "2023-02-13T20:36:22.418Z"
   },
   {
    "duration": 1092,
    "start_time": "2023-02-13T20:40:39.218Z"
   },
   {
    "duration": 36,
    "start_time": "2023-02-13T20:40:40.312Z"
   },
   {
    "duration": 13,
    "start_time": "2023-02-13T20:40:40.350Z"
   },
   {
    "duration": 7,
    "start_time": "2023-02-13T20:40:40.364Z"
   },
   {
    "duration": 24,
    "start_time": "2023-02-13T20:40:40.373Z"
   },
   {
    "duration": 6,
    "start_time": "2023-02-13T20:40:40.399Z"
   },
   {
    "duration": 46,
    "start_time": "2023-02-13T20:40:40.407Z"
   },
   {
    "duration": 14,
    "start_time": "2023-02-13T20:40:40.455Z"
   },
   {
    "duration": 14,
    "start_time": "2023-02-13T20:40:40.470Z"
   },
   {
    "duration": 6,
    "start_time": "2023-02-13T20:40:40.485Z"
   },
   {
    "duration": 71,
    "start_time": "2023-02-13T20:40:40.493Z"
   },
   {
    "duration": 97,
    "start_time": "2023-02-13T20:40:40.566Z"
   },
   {
    "duration": 9,
    "start_time": "2023-02-13T20:40:40.665Z"
   },
   {
    "duration": 2016,
    "start_time": "2023-02-14T04:59:12.071Z"
   },
   {
    "duration": 100,
    "start_time": "2023-02-14T04:59:14.089Z"
   },
   {
    "duration": 14,
    "start_time": "2023-02-14T04:59:25.075Z"
   },
   {
    "duration": 7,
    "start_time": "2023-02-14T04:59:25.966Z"
   },
   {
    "duration": 31,
    "start_time": "2023-02-14T04:59:26.182Z"
   },
   {
    "duration": 9,
    "start_time": "2023-02-14T04:59:27.242Z"
   },
   {
    "duration": 6,
    "start_time": "2023-02-14T04:59:28.054Z"
   },
   {
    "duration": 14,
    "start_time": "2023-02-14T05:02:26.280Z"
   },
   {
    "duration": 14,
    "start_time": "2023-02-14T05:03:26.512Z"
   },
   {
    "duration": 9,
    "start_time": "2023-02-14T05:03:40.926Z"
   },
   {
    "duration": 49,
    "start_time": "2023-02-14T16:13:43.727Z"
   },
   {
    "duration": 1089,
    "start_time": "2023-02-14T16:14:09.015Z"
   },
   {
    "duration": 484,
    "start_time": "2023-02-14T16:14:14.263Z"
   },
   {
    "duration": 76,
    "start_time": "2023-02-14T16:14:18.135Z"
   },
   {
    "duration": 114,
    "start_time": "2023-02-14T16:14:33.107Z"
   },
   {
    "duration": 14,
    "start_time": "2023-02-14T16:14:34.403Z"
   },
   {
    "duration": 6,
    "start_time": "2023-02-14T16:14:35.153Z"
   },
   {
    "duration": 25,
    "start_time": "2023-02-14T16:14:35.525Z"
   },
   {
    "duration": 6,
    "start_time": "2023-02-14T16:14:37.227Z"
   },
   {
    "duration": 6,
    "start_time": "2023-02-14T16:14:38.105Z"
   },
   {
    "duration": 231,
    "start_time": "2023-02-14T16:14:40.505Z"
   },
   {
    "duration": 260,
    "start_time": "2023-02-14T16:15:29.134Z"
   },
   {
    "duration": 261,
    "start_time": "2023-02-14T16:15:46.079Z"
   },
   {
    "duration": 199,
    "start_time": "2023-02-14T16:15:52.615Z"
   },
   {
    "duration": 239,
    "start_time": "2023-02-14T16:16:01.953Z"
   },
   {
    "duration": 208,
    "start_time": "2023-02-14T16:16:15.211Z"
   },
   {
    "duration": 290,
    "start_time": "2023-02-14T16:17:04.162Z"
   },
   {
    "duration": 209,
    "start_time": "2023-02-14T16:17:30.903Z"
   },
   {
    "duration": 15344,
    "start_time": "2023-02-14T16:27:13.313Z"
   },
   {
    "duration": 147,
    "start_time": "2023-02-14T16:29:39.603Z"
   },
   {
    "duration": 5,
    "start_time": "2023-02-14T16:29:52.803Z"
   },
   {
    "duration": 132,
    "start_time": "2023-02-14T16:29:56.686Z"
   },
   {
    "duration": 11,
    "start_time": "2023-02-14T16:31:27.230Z"
   },
   {
    "duration": 33291,
    "start_time": "2023-02-14T16:31:31.196Z"
   },
   {
    "duration": 36290,
    "start_time": "2023-02-14T16:34:36.084Z"
   },
   {
    "duration": 16,
    "start_time": "2023-02-14T16:36:55.038Z"
   },
   {
    "duration": 19,
    "start_time": "2023-02-14T16:37:10.366Z"
   },
   {
    "duration": 17,
    "start_time": "2023-02-14T16:37:58.560Z"
   },
   {
    "duration": 18,
    "start_time": "2023-02-14T16:42:09.371Z"
   },
   {
    "duration": 14,
    "start_time": "2023-02-14T16:45:42.903Z"
   },
   {
    "duration": 195,
    "start_time": "2023-02-14T16:45:48.148Z"
   },
   {
    "duration": 23,
    "start_time": "2023-02-14T16:46:00.906Z"
   },
   {
    "duration": 10,
    "start_time": "2023-02-14T16:46:15.584Z"
   },
   {
    "duration": 1320,
    "start_time": "2023-02-14T16:46:38.611Z"
   },
   {
    "duration": 39,
    "start_time": "2023-02-14T16:46:39.933Z"
   },
   {
    "duration": 12,
    "start_time": "2023-02-14T16:46:39.973Z"
   },
   {
    "duration": 13,
    "start_time": "2023-02-14T16:46:39.987Z"
   },
   {
    "duration": 31,
    "start_time": "2023-02-14T16:46:40.002Z"
   },
   {
    "duration": 6,
    "start_time": "2023-02-14T16:46:40.035Z"
   },
   {
    "duration": 7,
    "start_time": "2023-02-14T16:46:40.043Z"
   },
   {
    "duration": 9,
    "start_time": "2023-02-14T16:46:40.052Z"
   },
   {
    "duration": 230,
    "start_time": "2023-02-14T16:46:40.063Z"
   },
   {
    "duration": 216,
    "start_time": "2023-02-14T16:46:40.295Z"
   },
   {
    "duration": 122,
    "start_time": "2023-02-14T16:46:40.513Z"
   },
   {
    "duration": 0,
    "start_time": "2023-02-14T16:46:40.637Z"
   },
   {
    "duration": 0,
    "start_time": "2023-02-14T16:46:40.639Z"
   },
   {
    "duration": 0,
    "start_time": "2023-02-14T16:46:40.640Z"
   },
   {
    "duration": 0,
    "start_time": "2023-02-14T16:46:40.642Z"
   },
   {
    "duration": 0,
    "start_time": "2023-02-14T16:46:40.643Z"
   },
   {
    "duration": 0,
    "start_time": "2023-02-14T16:46:40.644Z"
   },
   {
    "duration": 0,
    "start_time": "2023-02-14T16:46:40.646Z"
   },
   {
    "duration": 210,
    "start_time": "2023-02-14T16:51:17.197Z"
   },
   {
    "duration": 210,
    "start_time": "2023-02-14T16:51:25.436Z"
   },
   {
    "duration": 206,
    "start_time": "2023-02-14T16:51:34.732Z"
   },
   {
    "duration": 130,
    "start_time": "2023-02-14T16:53:47.591Z"
   },
   {
    "duration": 233,
    "start_time": "2023-02-14T16:54:11.076Z"
   },
   {
    "duration": 257,
    "start_time": "2023-02-14T16:57:25.875Z"
   },
   {
    "duration": 258,
    "start_time": "2023-02-14T16:57:36.176Z"
   },
   {
    "duration": 216,
    "start_time": "2023-02-14T16:57:47.276Z"
   },
   {
    "duration": 189,
    "start_time": "2023-02-14T16:57:52.612Z"
   },
   {
    "duration": 218,
    "start_time": "2023-02-14T16:57:59.974Z"
   }
  ],
  "kernelspec": {
   "display_name": "Python 3 (ipykernel)",
   "language": "python",
   "name": "python3"
  },
  "language_info": {
   "codemirror_mode": {
    "name": "ipython",
    "version": 3
   },
   "file_extension": ".py",
   "mimetype": "text/x-python",
   "name": "python",
   "nbconvert_exporter": "python",
   "pygments_lexer": "ipython3",
   "version": "3.9.5"
  },
  "toc": {
   "base_numbering": 1,
   "nav_menu": {},
   "number_sections": true,
   "sideBar": true,
   "skip_h1_title": true,
   "title_cell": "Содержание",
   "title_sidebar": "Contents",
   "toc_cell": true,
   "toc_position": {},
   "toc_section_display": true,
   "toc_window_display": true
  }
 },
 "nbformat": 4,
 "nbformat_minor": 2
}
