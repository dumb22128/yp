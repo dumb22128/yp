{
  "cells": [
    {
      "cell_type": "markdown",
      "metadata": {
        "toc": true,
        "id": "yZOpzWG8yKHo"
      },
      "source": [
        "<h1>Содержание<span class=\"tocSkip\"></span></h1>\n",
        "<div class=\"toc\"><ul class=\"toc-item\"><li><span><a href=\"#Подготовка-данных\" data-toc-modified-id=\"Подготовка-данных-1\"><span class=\"toc-item-num\">1&nbsp;&nbsp;</span>Подготовка данных</a></span></li><li><span><a href=\"#Анализ-данных\" data-toc-modified-id=\"Анализ-данных-2\"><span class=\"toc-item-num\">2&nbsp;&nbsp;</span>Анализ данных</a></span></li><li><span><a href=\"#Модель\" data-toc-modified-id=\"Модель-3\"><span class=\"toc-item-num\">3&nbsp;&nbsp;</span>Модель</a></span></li></ul></div>"
      ]
    },
    {
      "cell_type": "markdown",
      "metadata": {
        "id": "RqUSG3yOyKHo"
      },
      "source": [
        "# Восстановление золота из руды"
      ]
    },
    {
      "cell_type": "markdown",
      "metadata": {
        "id": "CHGaavOAyKHp"
      },
      "source": [
        "Подготовьте прототип модели машинного обучения для «Цифры». Компания разрабатывает решения для эффективной работы промышленных предприятий.\n",
        "\n",
        "Модель должна предсказать коэффициент восстановления золота из золотосодержащей руды. Используйте данные с параметрами добычи и очистки.\n",
        "\n",
        "Модель поможет оптимизировать производство, чтобы не запускать предприятие с убыточными характеристиками.\n",
        "\n",
        "Вам нужно:\n",
        "\n",
        "1. Подготовить данные;\n",
        "2. Провести исследовательский анализ данных;\n",
        "3. Построить и обучить модель.\n",
        "\n",
        "Чтобы выполнить проект, обращайтесь к библиотекам *pandas*, *matplotlib* и *sklearn.* Вам поможет их документация."
      ]
    },
    {
      "cell_type": "markdown",
      "metadata": {
        "id": "_vwCVK-IyKHp"
      },
      "source": [
        "Инструкция по выполнению проекта\n",
        "1. Подготовьте данные\n",
        "-  Откройте файлы и изучите их.\n",
        "(Путь к файлам:\n",
        "/datasets/gold_recovery_train_new.csv. Скачать датасет\n",
        "/datasets/gold_recovery_test_new.csv. Скачать датасет\n",
        "/datasets/gold_recovery_full_new.csv. Скачать датасет)\n",
        "- Проверьте, что эффективность обогащения рассчитана правильно. Вычислите её на обучающей выборке для признака rougher.output.recovery. Найдите MAE между вашими расчётами и значением признака. Опишите выводы.\n",
        "-  Проанализируйте признаки, недоступные в тестовой выборке. Что это за параметры? К какому типу относятся?\n",
        "-  Проведите предобработку данных.\n",
        "1.1. Выполнен шаг 1: данные подготовлены\n",
        "- Проверена формула вычисления эффективности обогащения\n",
        "- Проанализированы признаки, недоступные в тестовой выборке\n",
        "- Проведена предобработка данных\n",
        "2. Проанализируйте данные\n",
        "- Посмотрите, как меняется концентрация металлов (Au, Ag, Pb) на различных этапах очистки. Опишите выводы.\n",
        "- Сравните распределения размеров гранул сырья на обучающей и тестовой выборках. Если распределения сильно отличаются друг от друга, оценка модели будет неправильной.\n",
        "- Исследуйте суммарную концентрацию всех веществ на разных стадиях: в сырье, в черновом и финальном концентратах.\n",
        "2.1 Выполнен шаг 2: данные проанализированы\n",
        "- Исследовано изменение концентрации элементов на каждом этапе\n",
        "- Проанализированы распределения размеров гранул на обучающей и тестовой выборках\n",
        "- Исследованы суммарные концентрации\n",
        "3. Постройте модель\n",
        "- Напишите функцию для вычисления итоговой sMAPE.\n",
        "- Обучите разные модели и оцените их качество кросс-валидацией. Выберите лучшую модель и проверьте её на тестовой выборке. Опишите выводы.\n",
        "3.1 Выполнен шаг 3: построена модель прогнозирования\n",
        "- Написана функция для вычисления итогового sMAPE\n",
        "- Обучено и проверено несколько моделей\n",
        "- Выбрана лучшая модель, её качество проверено на тестовой выборке"
      ]
    },
    {
      "cell_type": "markdown",
      "metadata": {
        "id": "qc0QnAmVyKHq"
      },
      "source": [
        "## Подготовка данных"
      ]
    },
    {
      "cell_type": "code",
      "execution_count": null,
      "metadata": {
        "id": "p3bXSkxYyKHq"
      },
      "outputs": [],
      "source": [
        "import pandas as pd\n",
        "#from sklearn.model_selection import train_test_split\n",
        "from sklearn.linear_model import LinearRegression\n",
        "import numpy as np\n",
        "from sklearn.dummy import DummyRegressor\n",
        "from sklearn.model_selection import cross_val_score\n",
        "from sklearn.metrics import make_scorer\n",
        "from sklearn.tree import DecisionTreeRegressor\n",
        "from sklearn.ensemble import RandomForestRegressor\n",
        "import warnings\n",
        "warnings.filterwarnings('ignore')\n",
        "import matplotlib.pyplot as plt\n",
        "import seaborn as sns\n",
        "from sklearn.model_selection import GridSearchCV\n",
        "from sklearn.model_selection import RandomizedSearchCV\n",
        "from sklearn.metrics import mean_absolute_error"
      ]
    },
    {
      "cell_type": "code",
      "execution_count": null,
      "metadata": {
        "id": "i90SZqhiyKHr"
      },
      "outputs": [],
      "source": [
        "data = pd.read_csv('/datasets/gold_recovery_full_new.csv')\n",
        "data_train = pd.read_csv('/datasets/gold_recovery_train_new.csv')\n",
        "data_test = pd.read_csv('/datasets/gold_recovery_test_new.csv')"
      ]
    },
    {
      "cell_type": "code",
      "execution_count": null,
      "metadata": {
        "scrolled": true,
        "id": "-p8Ro6MRyKHs",
        "outputId": "82d3c208-ba0d-4600-d514-b95e3f8d8010"
      },
      "outputs": [
        {
          "name": "stdout",
          "output_type": "stream",
          "text": [
            "(19439, 87)\n",
            "(14149, 87)\n",
            "(5290, 53)\n"
          ]
        }
      ],
      "source": [
        "print(data.shape)\n",
        "print(data_train.shape)\n",
        "print(data_test.shape)\n",
        "#print(data.isnull().sum().sum())\n",
        "#print(data_train.isnull().sum().sum())\n",
        "#print(data_test.isnull().sum().sum())"
      ]
    },
    {
      "cell_type": "markdown",
      "metadata": {
        "id": "28HNyQL4yKHs"
      },
      "source": [
        "Проверка на дубликаты"
      ]
    },
    {
      "cell_type": "code",
      "execution_count": null,
      "metadata": {
        "id": "tufkV_xsyKHs",
        "outputId": "356138ff-e712-46cf-9d17-2f0a9d44f4bc"
      },
      "outputs": [
        {
          "name": "stdout",
          "output_type": "stream",
          "text": [
            "0\n",
            "0\n",
            "0\n"
          ]
        }
      ],
      "source": [
        "print(data.duplicated().sum())\n",
        "print(data_train.duplicated().sum())\n",
        "print(data_test.duplicated().sum())"
      ]
    },
    {
      "cell_type": "markdown",
      "metadata": {
        "id": "tzEB1cYHyKHt"
      },
      "source": [
        "Данные между обучающей и тестовой выборкой разделены 75:25. Количество столбцов в тестовой выборке отличаются, некоторые параметры недоступны, потому что замеряются и/или рассчитываются значительно позже."
      ]
    },
    {
      "cell_type": "markdown",
      "metadata": {
        "id": "E-rGVDFcyKHt"
      },
      "source": [
        "Изучим датасеты на пропуски. Информации в них очень много, изучать каждый через инфо или дескрайб очень энергозатратно и неприятно, поэтому посчитаем отношение количества пропусков к общему числу записей."
      ]
    },
    {
      "cell_type": "code",
      "execution_count": null,
      "metadata": {
        "id": "ihZlnTYFyKHt",
        "outputId": "6f62223d-e684-423c-d2cb-8f4574eeaffd"
      },
      "outputs": [
        {
          "name": "stdout",
          "output_type": "stream",
          "text": [
            "Количество пустых ячеек к заполненым: 0.0011858427544826423 %\n",
            "Количество пустых строк к заполненым: 17.207675291938887 %\n",
            "---------------------------------\n",
            "Количество пустых ячеек к заполненым: 0.002048011370718975 %\n",
            "Количество пустых строк к заполненым: 22.13583998869178 %\n",
            "---------------------------------\n",
            "Количество пустых ячеек к заполненым: 0.00032161120064608115 %\n",
            "Количество пустых строк к заполненым: 1.1531190926275992 %\n",
            "---------------------------------\n"
          ]
        }
      ],
      "source": [
        "for i in [data, data_train,data_test]:\n",
        "    print('Количество пустых ячеек к заполненым:',((i.isnull().sum().sum()) / (i.shape[0] * i.shape[0])) * 100,'%')\n",
        "    print('Количество пустых строк к заполненым:',((i.shape[0] - i.dropna().shape[0]) / i.shape[0]) * 100,'%')\n",
        "    print('---------------------------------')"
      ]
    },
    {
      "cell_type": "markdown",
      "metadata": {
        "id": "qXjgwklDyKHt"
      },
      "source": [
        "Пропусков относительно общего количества ячеек совсем немного, однако распределяются они по строчкам, которые я хотел бы удалить без большой потери информации, уж больно неприятно, 20 процентов из обучающей выборки сносить совсем не хочется :(\n",
        "Заполнять 0 или медианной, медианной или средней тоже не вариант - скорее всего сильно скажется на обучении:C"
      ]
    },
    {
      "cell_type": "markdown",
      "metadata": {
        "id": "GQgX-JxTyKHu"
      },
      "source": [
        "**UPD** Поискал, чем можно заменить пропуски, нашел, что есть параметр метод bfill и согласно кривому переводу с документации, которое гласит: \"использовать следующее действительное наблюдение для заполнения пробела\", звучит куда более подходяще чем заполнять чем попало, я исполню эту штуку, были изначальные сомнения, что он по всему датасету шерстит, вне зависимости от столбца, но вроде все работает как нужно, я оставлю, для обучения думаю сгодится, всяко лучше чем налы, уничтожение, средние значения и медианы."
      ]
    },
    {
      "cell_type": "code",
      "execution_count": null,
      "metadata": {
        "id": "O6LbVw2oyKHu"
      },
      "outputs": [],
      "source": [
        "# Заполним пропуски ближайшими значениями\n",
        "data_train = data_train.fillna(method='bfill')\n",
        "data_test = data_test.fillna(method='bfill')\n",
        "data = data.fillna(method='bfill')"
      ]
    },
    {
      "cell_type": "markdown",
      "metadata": {
        "id": "wrB-k3tqyKHu"
      },
      "source": [
        "**Проверим, что эффективность обогащения рассчитана правильно. Вычислим её на обучающей выборке для признака rougher.output.recovery. Найдите MAE между вашими расчётами и значением признака**"
      ]
    },
    {
      "cell_type": "code",
      "execution_count": null,
      "metadata": {
        "id": "ExrevqbzyKHu",
        "outputId": "5756745e-9d9b-4cf7-9515-8806b31fbd8d"
      },
      "outputs": [
        {
          "name": "stdout",
          "output_type": "stream",
          "text": [
            "count    14149.000000\n",
            "mean        82.704502\n",
            "std         14.479156\n",
            "min          0.000000\n",
            "25%         79.993067\n",
            "50%         85.299462\n",
            "75%         90.165021\n",
            "max        100.000000\n",
            "Name: rougher.output.recovery, dtype: float64\n"
          ]
        },
        {
          "data": {
            "image/png": "[encoded data removed]",
            "text/plain": [
              "<Figure size 432x288 with 1 Axes>"
            ]
          },
          "metadata": {
            "needs_background": "light"
          },
          "output_type": "display_data"
        }
      ],
      "source": [
        "ror = data_train['rougher.output.recovery']\n",
        "print(ror.describe())\n",
        "ror.hist(bins = 100);\n",
        "plt.title('Гистограмма столбца rougher.output.recovery')\n",
        "plt.xlabel('Значения')\n",
        "plt.ylabel('Концентрация');"
      ]
    },
    {
      "cell_type": "markdown",
      "metadata": {
        "id": "6ne9oRiJyKHv"
      },
      "source": [
        "Более 14к записей, значения принадлежат [0,100]. Распределение на гистограмме смещенно вправо. Видим явный вброс у нуля, попробуем исправить."
      ]
    },
    {
      "cell_type": "code",
      "execution_count": null,
      "metadata": {
        "scrolled": false,
        "id": "_labx7h-yKHv",
        "outputId": "b43725ba-1641-48cc-d06f-cf2611017726"
      },
      "outputs": [
        {
          "ename": "NameError",
          "evalue": "name 'data_train' is not defined",
          "output_type": "error",
          "traceback": [
            "\u001b[0;31m---------------------------------------------------------------------------\u001b[0m",
            "\u001b[0;31mNameError\u001b[0m                                 Traceback (most recent call last)",
            "\u001b[0;32m/tmp/ipykernel_48/2924324998.py\u001b[0m in \u001b[0;36m<module>\u001b[0;34m\u001b[0m\n\u001b[0;32m----> 1\u001b[0;31m \u001b[0mdata_train\u001b[0m\u001b[0;34m[\u001b[0m\u001b[0;34m'final.output.recovery'\u001b[0m\u001b[0;34m]\u001b[0m\u001b[0;34m.\u001b[0m\u001b[0mhist\u001b[0m\u001b[0;34m(\u001b[0m\u001b[0mbins\u001b[0m \u001b[0;34m=\u001b[0m \u001b[0;36m100\u001b[0m\u001b[0;34m)\u001b[0m\u001b[0;34m;\u001b[0m\u001b[0;34m\u001b[0m\u001b[0;34m\u001b[0m\u001b[0m\n\u001b[0m\u001b[1;32m      2\u001b[0m \u001b[0mplt\u001b[0m\u001b[0;34m.\u001b[0m\u001b[0mtitle\u001b[0m\u001b[0;34m(\u001b[0m\u001b[0;34m'Гистограмма столбца final.output.recovery'\u001b[0m\u001b[0;34m)\u001b[0m\u001b[0;34m\u001b[0m\u001b[0;34m\u001b[0m\u001b[0m\n\u001b[1;32m      3\u001b[0m \u001b[0mplt\u001b[0m\u001b[0;34m.\u001b[0m\u001b[0mxlabel\u001b[0m\u001b[0;34m(\u001b[0m\u001b[0;34m'Количество'\u001b[0m\u001b[0;34m)\u001b[0m\u001b[0;34m\u001b[0m\u001b[0;34m\u001b[0m\u001b[0m\n\u001b[1;32m      4\u001b[0m \u001b[0mplt\u001b[0m\u001b[0;34m.\u001b[0m\u001b[0mylabel\u001b[0m\u001b[0;34m(\u001b[0m\u001b[0;34m'Концентрация'\u001b[0m\u001b[0;34m)\u001b[0m\u001b[0;34m;\u001b[0m\u001b[0;34m\u001b[0m\u001b[0;34m\u001b[0m\u001b[0m\n",
            "\u001b[0;31mNameError\u001b[0m: name 'data_train' is not defined"
          ]
        }
      ],
      "source": [
        "data_train['final.output.recovery'].hist(bins = 100);\n",
        "plt.title('Гистограмма столбца final.output.recovery')\n",
        "plt.xlabel('Значения')\n",
        "plt.ylabel('Концентрация');"
      ]
    },
    {
      "cell_type": "markdown",
      "metadata": {
        "id": "IqJc3XatyKHv"
      },
      "source": [
        "Действительно, оба столбца с целевыми признаками содержут выбросы, которые я не удалил, так как не люблю я удалять почему-то, всегда кажется что все данные важны, хотя здесь явный случай, где это не играет нам на пользу :). В случае с ror мы должны убить значения около 0, в случае с for выделяются как в нуле, так и в 100, будет честно убрать их вместе."
      ]
    },
    {
      "cell_type": "code",
      "execution_count": null,
      "metadata": {
        "id": "AGaQS4FRyKHv"
      },
      "outputs": [],
      "source": [
        "data_train = data_train.loc[~data_train['final.output.recovery'].isin([100,0])]\n",
        "data_train = data_train.loc[data_train['rougher.output.recovery'] != 0]\n",
        "ror = data_train['rougher.output.recovery'] # закинем обновленные данные в переменную"
      ]
    },
    {
      "cell_type": "markdown",
      "metadata": {
        "id": "NnbSwMC2yKHw"
      },
      "source": [
        "**Проверим, что эффективность обогащения рассчитана правильно. Вычислим её на обучающей выборке для признака rougher.output.recovery. Найдите MAE между вашими расчётами и значением признака**"
      ]
    },
    {
      "cell_type": "code",
      "execution_count": null,
      "metadata": {
        "id": "YeWUkKA9yKHw",
        "outputId": "b16ab36d-d58b-42d9-d295-4b2e065861ac"
      },
      "outputs": [
        {
          "name": "stdout",
          "output_type": "stream",
          "text": [
            "Среднее значение коэфициента обогощения 84.49055641478938\n",
            "МАЕ = 9.953346441714893e-15\n"
          ]
        }
      ],
      "source": [
        "c = data_train['rougher.output.concentrate_au']\n",
        "f = data_train['rougher.input.feed_au']\n",
        "t = data_train['rougher.output.tail_au']\n",
        "recovery = (c * (f - t)) / (f * (c - t)) * 100\n",
        "print('Среднее значение коэфициента обогощения', recovery.mean())\n",
        "print('МАЕ =', mean_absolute_error(ror, recovery))"
      ]
    },
    {
      "cell_type": "markdown",
      "metadata": {
        "id": "We7aNSrPyKHw"
      },
      "source": [
        "**Несмотря на выбросы возле нуля, получили МАЕ-метрику стремящуюся к нулю, значит все в порядке.**"
      ]
    },
    {
      "cell_type": "markdown",
      "metadata": {
        "id": "Oz4DLRqRyKIB"
      },
      "source": [
        "**Посмотрим на признаки недоступные в тестовой выборке**"
      ]
    },
    {
      "cell_type": "code",
      "execution_count": null,
      "metadata": {
        "id": "EfwNcbiByKIB",
        "outputId": "c19a6f15-6f25-4b2e-e340-f5581437a005"
      },
      "outputs": [
        {
          "name": "stdout",
          "output_type": "stream",
          "text": [
            "Index(['final.output.concentrate_ag', 'final.output.concentrate_pb',\n",
            "       'final.output.concentrate_sol', 'final.output.concentrate_au',\n",
            "       'final.output.recovery', 'final.output.tail_ag', 'final.output.tail_pb',\n",
            "       'final.output.tail_sol', 'final.output.tail_au',\n",
            "       'primary_cleaner.output.concentrate_ag',\n",
            "       'primary_cleaner.output.concentrate_pb',\n",
            "       'primary_cleaner.output.concentrate_sol',\n",
            "       'primary_cleaner.output.concentrate_au',\n",
            "       'primary_cleaner.output.tail_ag', 'primary_cleaner.output.tail_pb',\n",
            "       'primary_cleaner.output.tail_sol', 'primary_cleaner.output.tail_au',\n",
            "       'rougher.calculation.sulfate_to_au_concentrate',\n",
            "       'rougher.calculation.floatbank10_sulfate_to_au_feed',\n",
            "       'rougher.calculation.floatbank11_sulfate_to_au_feed',\n",
            "       'rougher.calculation.au_pb_ratio', 'rougher.output.concentrate_ag',\n",
            "       'rougher.output.concentrate_pb', 'rougher.output.concentrate_sol',\n",
            "       'rougher.output.concentrate_au', 'rougher.output.recovery',\n",
            "       'rougher.output.tail_ag', 'rougher.output.tail_pb',\n",
            "       'rougher.output.tail_sol', 'rougher.output.tail_au',\n",
            "       'secondary_cleaner.output.tail_ag', 'secondary_cleaner.output.tail_pb',\n",
            "       'secondary_cleaner.output.tail_sol',\n",
            "       'secondary_cleaner.output.tail_au'],\n",
            "      dtype='object')\n",
            "(13721, 87)\n",
            "(13721, 34)\n"
          ]
        }
      ],
      "source": [
        "data_not_test = data_train.copy()\n",
        "data_not_test = data_not_test.drop(columns=list(data_test.columns))\n",
        "#data_not_test.info()\n",
        "print(data_not_test.columns)\n",
        "print(data_train.shape)\n",
        "print(data_not_test.shape)"
      ]
    },
    {
      "cell_type": "markdown",
      "metadata": {
        "id": "UTvPS5JUyKIC"
      },
      "source": [
        "Не вошли следующие эллементы:\n",
        "- финальные характеристики.параметры продукта.содержание различных химических эллементов\n",
        "- первичная очистка.параметры продукта.содержание различных хим эллементов и хвост от них\n",
        "- флотация.расчётные характеристики хим элементы в золоте\n",
        "- флотация.параметры продукта.концентрация различных элементов\n",
        "- флотация.параметры продукта.эффективность обогащения\n",
        "- флотация.параметры продукта.хвосты\n",
        "- вторичная очистка.параметры продукта.содержание различных хим эллементов хвост\n",
        "\n",
        "\n",
        "\n",
        "Судя по изображению в ходе технологического процесса эти показатели как-то вычисляются, вероятно, нам необходимо будет их предсказать или подсчитать. Точно можно сказать, что final.output.recovery - целевой признак (rougher.output.recovery тоже судя по постановке задачи).\n",
        "Добавим их из исходного датасета в тестовый:"
      ]
    },
    {
      "cell_type": "markdown",
      "metadata": {
        "id": "yuIkx3HxyKIC"
      },
      "source": [
        "Предположу, что признаки недоступные в тест вызваны невозможностью их как-то предсказать, поскольку почти все признаки относятся к output - то есть их концентрацию и хвосты после основных процессов (флотации и этапов очистки), это фактические данные все же."
      ]
    },
    {
      "cell_type": "code",
      "execution_count": null,
      "metadata": {
        "id": "2SlF3Nk2yKIC"
      },
      "outputs": [],
      "source": [
        "data_test = data_test.merge(data[['final.output.recovery', 'rougher.output.recovery', 'date']], how='left', on='date')"
      ]
    },
    {
      "cell_type": "markdown",
      "metadata": {
        "id": "Omhk_3jXyKID"
      },
      "source": [
        "**Вывод** предобработали данные, проверили на дубликаты, избавились от выбросов, изучили в целом технологический процесс на более глубоком уровне, ознакомившись с наименованиями столбцов, проверили recovery, плавно движемся к светлому будущему!"
      ]
    },
    {
      "cell_type": "markdown",
      "metadata": {
        "id": "hXTrm1YpyKID"
      },
      "source": [
        "## Анализ данных"
      ]
    },
    {
      "cell_type": "markdown",
      "metadata": {
        "id": "7qs88a6wyKID"
      },
      "source": [
        "**Посмотрим, как меняется концентрация металлов (Au, Ag, Pb) на различных этапах очистки. Опишем выводы**"
      ]
    },
    {
      "cell_type": "markdown",
      "metadata": {
        "id": "BpWGxMjfyKIE"
      },
      "source": [
        "У нас есть 3 этапа с содержанием концентрации, и три типа химического вещества, соответственно, мы строим 3 графика, на каждой из которых изображаем 3 гистограммы для каждого элемента по этапно, либо 4 графика, где в зависимости от этапа выводим каждый химический элемент. Нагляднее будет первый, так как вряд ли мы собрались искать закономерности одного химического вещества от другого.\n",
        "\n",
        "**То что подаем до флотации надо ли визуализировать? Там же руда, она вроде много, что содержит, хотя, не будет лишним, если что, снесу после ревью**"
      ]
    },
    {
      "cell_type": "code",
      "execution_count": null,
      "metadata": {
        "id": "QIXHljOTyKIE",
        "outputId": "c16b63a0-3889-42b3-cc2c-01ad76e6b799"
      },
      "outputs": [
        {
          "data": {
            "image/png": "[encoded data removed]",
            "text/plain": [
              "<Figure size 1440x720 with 1 Axes>"
            ]
          },
          "metadata": {
            "needs_background": "light"
          },
          "output_type": "display_data"
        }
      ],
      "source": [
        "#data_train\n",
        "#final.output.concentrate_au\n",
        "#primary_cleaner.output.concentrate_au\n",
        "#rougher.output.concentrate_au\n",
        "plt.figure(figsize=[20,10])\n",
        "plt.hist(data_train['rougher.output.concentrate_au'], bins=250, label = 'После флотации')\n",
        "plt.hist(data_train['primary_cleaner.output.concentrate_au'], bins=250, label = 'Первый этап очистки',alpha=0.5)\n",
        "plt.hist(data_train['final.output.concentrate_au'], bins=250, label = 'Финал')\n",
        "plt.hist(data_train['rougher.input.feed_au'], bins=250, label = 'До флотации')\n",
        "\n",
        "plt.xlabel('Концентрация золота в зависимости от этапа')\n",
        "plt.ylabel('Полученные значения')\n",
        "plt.legend(loc='upper left', fontsize='x-large')\n",
        "plt.title('Гистограмма концентрации золота', fontsize=20)\n",
        "plt.show()"
      ]
    },
    {
      "cell_type": "markdown",
      "metadata": {
        "id": "8EdAUFIjyKIE"
      },
      "source": [
        "Наблюдаем, что хвост, состоящий из остатков продукта с низкой концентрацией ценных металлов, имеет наименьшую концентрацию, после идут показатели того, что мы подаем на вход флотации, затем после флотации, после очистки и наибольшее значение имеет финал, видимо, не зря стараемся такой технологический процесс создали, работает!!!"
      ]
    },
    {
      "cell_type": "code",
      "execution_count": null,
      "metadata": {
        "scrolled": false,
        "id": "Fr9fyuO2yKIF",
        "outputId": "5454673f-0b26-4394-ce50-c4a8aea1db46"
      },
      "outputs": [
        {
          "data": {
            "image/png": "[encoded data removed]",
            "text/plain": [
              "<Figure size 1440x720 with 1 Axes>"
            ]
          },
          "metadata": {
            "needs_background": "light"
          },
          "output_type": "display_data"
        }
      ],
      "source": [
        "plt.figure(figsize=[20,10])\n",
        "plt.hist(data_train['rougher.output.concentrate_ag'], bins=250, label = 'После флотации',alpha=0.5)\n",
        "plt.hist(data_train['primary_cleaner.output.concentrate_ag'], bins=250, label = 'Первый этап очистки',alpha=0.5)\n",
        "plt.hist(data_train['final.output.concentrate_ag'], bins=250, label = 'Финал',alpha=0.5)\n",
        "\n",
        "plt.hist(data_train['rougher.input.feed_ag'], bins=250, label = 'До флотации',alpha=0.5)\n",
        "\n",
        "plt.xlabel('Концентрация Ag в зависимости от этапа')\n",
        "plt.ylabel('Полученные значения')\n",
        "plt.legend(loc='upper left', fontsize='x-large')\n",
        "plt.title('Гистограмма концентрации Ag', fontsize=20)\n",
        "plt.show()"
      ]
    },
    {
      "cell_type": "markdown",
      "metadata": {
        "id": "snwvv-0MyKIF"
      },
      "source": [
        "График получился шакальный, не думал, что выборки друг на друга зайдут настолько, но в целом, есть закономерность, что пройдя путь от флотации до финала, его значения уменьшились, и хвост содержит в среднем гораздо больше именно Ag, чем золота, ну видимо поэтому от его обработки дальнейшей и отказываются."
      ]
    },
    {
      "cell_type": "code",
      "execution_count": null,
      "metadata": {
        "id": "qR6nwLwRyKIF",
        "outputId": "39d9aa82-0c3b-438f-adc6-79b087780250"
      },
      "outputs": [
        {
          "data": {
            "image/png": "[encoded data removed]",
            "text/plain": [
              "<Figure size 1440x720 with 1 Axes>"
            ]
          },
          "metadata": {
            "needs_background": "light"
          },
          "output_type": "display_data"
        }
      ],
      "source": [
        "plt.figure(figsize=[20,10])\n",
        "plt.hist(data_train['rougher.output.concentrate_pb'], bins=250, label = 'После флотации',alpha=0.5)\n",
        "plt.hist(data_train['primary_cleaner.output.concentrate_pb'], bins=250, label = 'Первый этап очистки',alpha=0.5)\n",
        "plt.hist(data_train['final.output.concentrate_pb'], bins=250, label = 'Финал',alpha=0.5)\n",
        "\n",
        "plt.hist(data_train['rougher.input.feed_pb'], bins=250, label = 'До флотации',alpha=0.5)\n",
        "\n",
        "plt.xlabel('Концентрация Pb в зависимости от этапа')\n",
        "plt.ylabel('Полученные значения')\n",
        "plt.legend(loc='upper left', fontsize='x-large')\n",
        "plt.title('Гистограмма концентрации Pb', fontsize=20)\n",
        "plt.show()"
      ]
    },
    {
      "cell_type": "markdown",
      "metadata": {
        "id": "2ywZCsawyKIF"
      },
      "source": [
        "**Построим второй вариант графиков, а то по этим, тяжело сказать что-то гениальное!**\n",
        "\n",
        "Откажемся от хвоста, думаю он не несет смысловой нагрузки. Рассмотрим каждый этап и зависимость между элементами. Сохраним xlim и ylim для наглядности неизменными."
      ]
    },
    {
      "cell_type": "code",
      "execution_count": null,
      "metadata": {
        "scrolled": false,
        "id": "a78I_N_JyKIG",
        "outputId": "a68fda35-0edf-40f0-f487-eda10322a4ce"
      },
      "outputs": [
        {
          "data": {
            "image/png": "[encoded data removed]",
            "text/plain": [
              "<Figure size 1440x720 with 1 Axes>"
            ]
          },
          "metadata": {
            "needs_background": "light"
          },
          "output_type": "display_data"
        }
      ],
      "source": [
        "plt.figure(figsize=[20,10])\n",
        "plt.hist(data_train['rougher.input.feed_ag'], bins=100, label = 'Ag',alpha=0.5)\n",
        "plt.hist(data_train['rougher.input.feed_au'], bins=100, label = 'Au',alpha=0.5)\n",
        "plt.hist(data_train['rougher.input.feed_pb'], bins=100, label = 'Pb',alpha=0.5)\n",
        "\n",
        "plt.xlabel('Концентрация')\n",
        "plt.ylabel('Количество полученных значений')\n",
        "plt.legend(loc='upper left', fontsize='x-large')\n",
        "plt.title('До флотации', fontsize=20)\n",
        "plt.show()"
      ]
    },
    {
      "cell_type": "markdown",
      "metadata": {
        "id": "ADZGJP8gyKIG"
      },
      "source": [
        "Изначально золота совсем нет, американская мечта далеко("
      ]
    },
    {
      "cell_type": "code",
      "execution_count": null,
      "metadata": {
        "id": "Aw51vG6syKIG",
        "outputId": "9352c32c-53e0-47dd-f832-9378178dbd55"
      },
      "outputs": [
        {
          "data": {
            "image/png": "[encoded data removed]",
            "text/plain": [
              "<Figure size 1440x720 with 1 Axes>"
            ]
          },
          "metadata": {
            "needs_background": "light"
          },
          "output_type": "display_data"
        }
      ],
      "source": [
        "plt.figure(figsize=[20,10])\n",
        "plt.hist(data_train['rougher.output.concentrate_ag'], bins=250, label = 'Ag',alpha=0.5)\n",
        "plt.hist(data_train['rougher.output.concentrate_au'], bins=250, label = 'Au',alpha=0.5)\n",
        "plt.hist(data_train['rougher.output.concentrate_pb'], bins=250, label = 'Pb',alpha=0.5)\n",
        "\n",
        "plt.xlabel('Концентрация')\n",
        "plt.ylabel('Количество полученных значений')\n",
        "plt.legend(loc='upper left', fontsize='x-large')\n",
        "plt.title('После флотации', fontsize=20)\n",
        "plt.show()"
      ]
    },
    {
      "cell_type": "markdown",
      "metadata": {
        "id": "iatAv3yJyKIG"
      },
      "source": [
        "Флотация пошла напользу, золото хорошенько насытили и его количество возросло"
      ]
    },
    {
      "cell_type": "code",
      "execution_count": null,
      "metadata": {
        "scrolled": false,
        "id": "yCkCc98wyKIH",
        "outputId": "b849780e-1985-4fa3-bea2-d468f0162ffb"
      },
      "outputs": [
        {
          "data": {
            "image/png": "[encoded data removed]",
            "text/plain": [
              "<Figure size 1440x720 with 1 Axes>"
            ]
          },
          "metadata": {
            "needs_background": "light"
          },
          "output_type": "display_data"
        }
      ],
      "source": [
        "plt.figure(figsize=[20,10])\n",
        "plt.hist(data_train['primary_cleaner.output.concentrate_ag'], bins=250, label = 'Ag',alpha=0.5)\n",
        "plt.hist(data_train['primary_cleaner.output.concentrate_pb'], bins=250, label = 'Pb',alpha=0.5)\n",
        "plt.hist(data_train['primary_cleaner.output.concentrate_au'], bins=250, label = 'Au',alpha=0.5)\n",
        "\n",
        "plt.xlabel('Концентрация')\n",
        "plt.ylabel('Количество полученных значений')\n",
        "plt.legend(loc='upper left', fontsize='x-large')\n",
        "plt.title('После первичной очистки', fontsize=20)\n",
        "plt.show()"
      ]
    },
    {
      "cell_type": "markdown",
      "metadata": {
        "id": "L5V_hGGMyKIH"
      },
      "source": [
        "Много золота хорошо, но больше еще лучше!"
      ]
    },
    {
      "cell_type": "code",
      "execution_count": null,
      "metadata": {
        "id": "AOZE_Dl1yKIH",
        "outputId": "1115cdee-ed5b-461a-dbde-cf073e44c415"
      },
      "outputs": [
        {
          "data": {
            "image/png": "[encoded data removed]",
            "text/plain": [
              "<Figure size 1440x720 with 1 Axes>"
            ]
          },
          "metadata": {
            "needs_background": "light"
          },
          "output_type": "display_data"
        }
      ],
      "source": [
        "plt.figure(figsize=[20,10])\n",
        "plt.hist(data_train['final.output.concentrate_ag'], bins=250, label = 'Ag',alpha=0.5)\n",
        "plt.hist(data_train['final.output.concentrate_pb'], bins=250, label = 'Pb',alpha=0.5)\n",
        "plt.hist(data_train['final.output.concentrate_au'], bins=250, label = 'Au',alpha=0.5)\n",
        "\n",
        "plt.xlabel('Концентрация')\n",
        "plt.ylabel('Количество полученных значений')\n",
        "plt.legend(loc='upper left', fontsize='x-large')\n",
        "plt.title('Финал', fontsize=20)\n",
        "plt.show()"
      ]
    },
    {
      "cell_type": "markdown",
      "metadata": {
        "id": "60HXYK_KyKII"
      },
      "source": [
        "Закрепили результат, постепенно наблюдаем, как золото растет от этапа к этапу, что и требовалось доказать, процесс себя оправдывает!"
      ]
    },
    {
      "cell_type": "markdown",
      "metadata": {
        "id": "tLm4S6zzyKIJ"
      },
      "source": [
        "Снес ограничения и выбросы в нуле ослепили мое мировозрение, будем убирать по классике, в ручную, хотя ходят слухи на стаковерфлоу, что можно написать функцию, которая по квантилям бы выкидывала все приколы не нужные, я оставлю ее тут, когда буду переделывать проект перед заливом, оформлю, полезная штука, но Марина уничтожит и переиграет, если не уложусь в дедлайн. Однако у нас очевиден 0, который явно выбивается и без квантилей\n",
        "По результатам явные выбросы у: primary_cleaner.output.concentrate_au, primary_cleaner.output.concentrate_ag, primary_cleaner.output.concentrate_pb, забьем их насмерть\n",
        "\n",
        "**Обновлено** о мой бог, я снес в нуле, но графикам это мало помогло, видимо правда нужно по квантилю убрать, там похоже флота близких к нулю очень много, снесем по нижнему квантилю"
      ]
    },
    {
      "cell_type": "code",
      "execution_count": null,
      "metadata": {
        "id": "kKUr74eYyKIJ"
      },
      "outputs": [],
      "source": [
        "#def kill_emissions(data,str(column)): # переписал, не проверял на работоспособность, !узнать работает ли привод к тд в параметрах функции!)\n",
        "    #q_low = data[column].quantile(0.01) # попробовать через ввода столбца отдельным параметром, а то какой колхоз\n",
        "    #q_hi  = data[column].quantile(0.99)\n",
        "\n",
        "    #data = data[(df[column] < q_hi) & (data[column] > q_low)]"
      ]
    },
    {
      "cell_type": "code",
      "execution_count": null,
      "metadata": {
        "id": "GKA2p9F3yKIJ"
      },
      "outputs": [],
      "source": [
        "data_train = data_train[data_train['primary_cleaner.output.concentrate_au'] > data_train['primary_cleaner.output.concentrate_au'].quantile(0.01)]\n",
        "data_train = data_train[data_train['primary_cleaner.output.concentrate_ag'] > data_train['primary_cleaner.output.concentrate_ag'].quantile(0.01)]\n",
        "data_train = data_train[data_train['primary_cleaner.output.concentrate_pb'] > data_train['primary_cleaner.output.concentrate_pb'].quantile(0.01)]\n"
      ]
    },
    {
      "cell_type": "markdown",
      "metadata": {
        "id": "9qQW7IylyKIJ"
      },
      "source": [
        "Выглядеть стало гораздо прекраснее!"
      ]
    },
    {
      "cell_type": "markdown",
      "metadata": {
        "id": "570zQO25yKIJ"
      },
      "source": [
        "**Сравним распределения размеров гранул сырья на обучающей и тестовой выборках. Если распределения сильно отличаются друг от друга, оценка модели будет неправильной.**"
      ]
    },
    {
      "cell_type": "code",
      "execution_count": null,
      "metadata": {
        "scrolled": false,
        "id": "iKO2Gd9WyKIJ",
        "outputId": "4375a542-261f-4e97-9ad8-56742fa241fa"
      },
      "outputs": [
        {
          "data": {
            "image/png": "[encoded data removed]",
            "text/plain": [
              "<Figure size 1440x720 with 1 Axes>"
            ]
          },
          "metadata": {
            "needs_background": "light"
          },
          "output_type": "display_data"
        }
      ],
      "source": [
        "plt.figure(figsize=[20,10])\n",
        "plt.hist(data_train['rougher.input.feed_size'], bins=500, label = 'Обучающие данные', alpha=0.5)\n",
        "plt.hist(data_test['rougher.input.feed_size'], bins=500, label = 'Тестовые данные', alpha=0.5)\n",
        "plt.xlim([0, 150])\n",
        "plt.ylim([0, 1200])\n",
        "plt.xlabel(\"Размер гранул\")\n",
        "plt.ylabel(\"Количество полученных значений\")\n",
        "plt.legend(loc='upper left', fontsize='x-large')\n",
        "plt.title('Гистограмма распределения гранул', fontsize=20)\n",
        "plt.show()\n"
      ]
    },
    {
      "cell_type": "markdown",
      "metadata": {
        "id": "8z_ExDCAyKIK"
      },
      "source": [
        "Заверните гистограмму, мне и моему сыну тоже... Очевидно, что из обучающей выборки чаще встретим все значения, ведь она в три раза больше!\n",
        "\n",
        "Гистограммы в этом плане не помощник, необходимо знать плотность распределения, для этого обратимся к displot - диаграмме плотности распределения, которая поможет понять, насколько сильно отличаются размеры гранул."
      ]
    },
    {
      "cell_type": "code",
      "execution_count": null,
      "metadata": {
        "id": "qI1mpGQryKIK",
        "outputId": "922906aa-cf8d-4250-d409-76396b0b9ff6"
      },
      "outputs": [
        {
          "data": {
            "image/png": "[encoded data removed]",
            "text/plain": [
              "<Figure size 1440x720 with 1 Axes>"
            ]
          },
          "metadata": {
            "needs_background": "light"
          },
          "output_type": "display_data"
        }
      ],
      "source": [
        "plt.figure(figsize=[20,10])\n",
        "sns.distplot(data_train['rougher.input.feed_size'],label = 'Обучающие данные', bins=100)\n",
        "sns.distplot(data_test['rougher.input.feed_size'], label = 'Тестовые данные', bins=100)\n",
        "plt.xlim([0, 150])\n",
        "plt.ylim([0, 0.08])\n",
        "plt.xlabel(\"Значения\")\n",
        "plt.ylabel(\"Плотность\")\n",
        "plt.legend(loc='upper left', fontsize='x-large')\n",
        "plt.title('Диаграмма плотности распределения', fontsize=20)\n",
        "plt.show()"
      ]
    },
    {
      "cell_type": "markdown",
      "metadata": {
        "id": "jQ8ppBbNyKIK"
      },
      "source": [
        "Распределение плотности почти идентичное, значит можно смело за работу!"
      ]
    },
    {
      "cell_type": "markdown",
      "metadata": {
        "id": "uppccCfwyKIL"
      },
      "source": [
        "Глянем этап после первичной очистки!"
      ]
    },
    {
      "cell_type": "code",
      "execution_count": null,
      "metadata": {
        "id": "aCMBMK2kyKIL",
        "outputId": "0cf2abfa-fc3c-486d-d691-8334190c6b7a"
      },
      "outputs": [
        {
          "data": {
            "image/png": "[encoded data removed]",
            "text/plain": [
              "<Figure size 1440x720 with 1 Axes>"
            ]
          },
          "metadata": {
            "needs_background": "light"
          },
          "output_type": "display_data"
        }
      ],
      "source": [
        "plt.figure(figsize=[20,10])\n",
        "sns.distplot(data_train['primary_cleaner.input.feed_size'],label = 'Обучающие данные', bins=100)\n",
        "sns.distplot(data_test['primary_cleaner.input.feed_size'], label = 'Тестовые данные', bins=100)\n",
        "plt.xlim([0, 15])\n",
        "plt.ylim([0, 1])\n",
        "plt.xlabel(\"Значения\")\n",
        "plt.ylabel(\"Плотность\")\n",
        "plt.legend(loc='upper left', fontsize='x-large')\n",
        "plt.title('Диаграмма плотности распределения', fontsize=20)\n",
        "plt.show()"
      ]
    },
    {
      "cell_type": "markdown",
      "metadata": {
        "id": "LMa5nDDuyKIL"
      },
      "source": [
        "Ситуация примерно одинаковая, значит можно смело двигаться дальше!"
      ]
    },
    {
      "cell_type": "markdown",
      "metadata": {
        "id": "9nx5XggDyKIL"
      },
      "source": [
        "**Исследуем суммарную концентрацию всех веществ на разных стадиях**"
      ]
    },
    {
      "cell_type": "markdown",
      "metadata": {
        "id": "MQv9PPBayKIL"
      },
      "source": [
        "Так как я смотрел выше на концентрацию определенных веществ от стадии к стадии, то сейчас буду анализировать суммарный объем, но задача ставится немного непонятно, суммарную это всех или каждого по отдельности:?\n",
        "\n",
        "Воспользуемся функцией для подсчета общего количества концентрата"
      ]
    },
    {
      "cell_type": "code",
      "execution_count": null,
      "metadata": {
        "id": "JjomCSXfyKIM"
      },
      "outputs": [],
      "source": [
        "#rougher.input.feed_ag\n",
        "#rougher.output.concentrate_au\n",
        "#final.output.concentrate_ag\n",
        "def concentration(data_train,ag,au,pb,sol):\n",
        "    ag1=data_train[ag]\n",
        "    au1=data_train[au]\n",
        "    pb1=data_train[pb]\n",
        "    sol1=data_train[sol]\n",
        "    final = ag1 + au1 + pb1 + sol1\n",
        "    plt.figure(figsize=(20,10))\n",
        "    final.plot.hist(bins=200)\n",
        "    plt.title('Суммарная концентрация')\n",
        "    plt.xlabel('Значение')\n",
        "    plt.ylabel('Количество значений')\n",
        "    print(final.describe())"
      ]
    },
    {
      "cell_type": "markdown",
      "metadata": {
        "id": "kZsNqHOoyKIM"
      },
      "source": [
        "**Сырье**"
      ]
    },
    {
      "cell_type": "code",
      "execution_count": null,
      "metadata": {
        "scrolled": false,
        "id": "JPsYrHknyKIM",
        "outputId": "4bb12587-a219-4f6e-9f2a-d73be178e2bf"
      },
      "outputs": [
        {
          "name": "stdout",
          "output_type": "stream",
          "text": [
            "count    13277.000000\n",
            "mean        56.398887\n",
            "std          6.672904\n",
            "min          9.514401\n",
            "25%         52.678596\n",
            "50%         56.663022\n",
            "75%         60.797077\n",
            "max         74.458253\n",
            "dtype: float64\n"
          ]
        },
        {
          "data": {
            "image/png": "[encoded data removed]",
            "text/plain": [
              "<Figure size 1440x720 with 1 Axes>"
            ]
          },
          "metadata": {
            "needs_background": "light"
          },
          "output_type": "display_data"
        }
      ],
      "source": [
        "concentration(data_train,'rougher.input.feed_ag','rougher.input.feed_au','rougher.input.feed_pb','rougher.input.feed_sol')"
      ]
    },
    {
      "cell_type": "code",
      "execution_count": null,
      "metadata": {
        "id": "kvuDSKt5yKIM",
        "outputId": "f176594d-6418-4985-c374-c235f23a6b1d"
      },
      "outputs": [
        {
          "name": "stdout",
          "output_type": "stream",
          "text": [
            "count    13277.000000\n",
            "mean        68.795877\n",
            "std          7.734025\n",
            "min          9.445924\n",
            "25%         65.410163\n",
            "50%         69.382458\n",
            "75%         73.535668\n",
            "max         88.140119\n",
            "dtype: float64\n"
          ]
        },
        {
          "data": {
            "image/png": "[encoded data removed]",
            "text/plain": [
              "<Figure size 1440x720 with 1 Axes>"
            ]
          },
          "metadata": {
            "needs_background": "light"
          },
          "output_type": "display_data"
        }
      ],
      "source": [
        "concentration(data_train,'rougher.output.concentrate_au','rougher.output.concentrate_ag','rougher.output.concentrate_pb','rougher.output.concentrate_sol')"
      ]
    },
    {
      "cell_type": "code",
      "execution_count": null,
      "metadata": {
        "id": "MNcNLbEoyKIM",
        "outputId": "ad548fc1-db6e-469d-f0a5-914255d15dda"
      },
      "outputs": [
        {
          "name": "stdout",
          "output_type": "stream",
          "text": [
            "count    13277.000000\n",
            "mean        68.840235\n",
            "std          4.928864\n",
            "min          0.040000\n",
            "25%         67.623382\n",
            "50%         69.178139\n",
            "75%         71.002895\n",
            "max         80.210644\n",
            "dtype: float64\n"
          ]
        },
        {
          "data": {
            "image/png": "[encoded data removed]",
            "text/plain": [
              "<Figure size 1440x720 with 1 Axes>"
            ]
          },
          "metadata": {
            "needs_background": "light"
          },
          "output_type": "display_data"
        }
      ],
      "source": [
        "concentration(data_train,'final.output.concentrate_ag','final.output.concentrate_au','final.output.concentrate_pb','final.output.concentrate_sol')"
      ]
    },
    {
      "cell_type": "markdown",
      "metadata": {
        "id": "M_KlWMSByKIN"
      },
      "source": [
        "Сомневаюсь, что это может быть вариации нормы, моих знаний в нефтепереработке недостаточно, чтобы знать это наверняка, но для обывателя случай с кривым оборудованием кажется реалистичнее, поэтому я их убил"
      ]
    },
    {
      "cell_type": "markdown",
      "metadata": {
        "id": "yf5NbehmyKIN"
      },
      "source": [
        "**Вывод**\n",
        "\n",
        "- Построили графики. Очень много графиков, какие-то точно не нужны, но постановка задачи немного размытая, если что - снесем их.\n",
        "- Узнали что размеры гранул из обучающей выборки схожи с размером гранул из тестовой.\n",
        "- Проследили за изменением количества руды от начала и до конца процесса."
      ]
    },
    {
      "cell_type": "markdown",
      "metadata": {
        "id": "h9BBzyV8yKIO"
      },
      "source": [
        "## Модель"
      ]
    },
    {
      "cell_type": "markdown",
      "metadata": {
        "id": "j2iQd9hDyKIO"
      },
      "source": [
        "Создадим функции для упрощения работы:"
      ]
    },
    {
      "cell_type": "code",
      "execution_count": null,
      "metadata": {
        "id": "mHiDfs7gyKIO"
      },
      "outputs": [],
      "source": [
        "def sMAPE(target,predict): # функция рассчета sMAPE по формуле\n",
        "    return np.mean(abs(target - predict)/((abs(target)+abs(predict))/2))*100"
      ]
    },
    {
      "cell_type": "code",
      "execution_count": null,
      "metadata": {
        "id": "MISTEDo9yKIO"
      },
      "outputs": [],
      "source": [
        "def final_sMAPE(sMAPE_rougher,sMAPE_final):  # функция рассчета финального sMAPE по формуле\n",
        "    return (0.25*sMAPE_rougher + 0.75*sMAPE_final)"
      ]
    },
    {
      "cell_type": "markdown",
      "metadata": {
        "id": "rMum9eOryKIP"
      },
      "source": [
        "Количество столюцов в выборках разняться, необходимо сохранить лишь те, что встречаются и в обучающей, и в тестовой"
      ]
    },
    {
      "cell_type": "code",
      "execution_count": null,
      "metadata": {
        "id": "cY11IHyfyKIP"
      },
      "outputs": [],
      "source": [
        "target_columns = list(reversed(list(data_test.columns)[-2:])) # последние два столбца, что мерджили в начале берем за целевые признаки\n",
        "features_columns = list(data_test.columns)[1:-2] # все остальное кроме целевых и айдишников - дат"
      ]
    },
    {
      "cell_type": "code",
      "execution_count": null,
      "metadata": {
        "id": "CXzSJVZEyKIP",
        "outputId": "b911362e-ab9c-4ca9-89bb-070d3dd53b1b"
      },
      "outputs": [
        {
          "name": "stdout",
          "output_type": "stream",
          "text": [
            "(13277, 52)\n",
            "(13277, 2)\n",
            "(5290, 52)\n",
            "(5290, 2)\n"
          ]
        }
      ],
      "source": [
        "features_train = data_train[features_columns] # обучающие фичи\n",
        "target_train = data_train[target_columns] # обучающие таргеты\n",
        "features_test = data_test[features_columns] # тестовые фичи\n",
        "target_test = data_test[target_columns] # тестовый таргет\n",
        "print(features_train.shape)\n",
        "print(target_train.shape)\n",
        "print(features_test.shape)\n",
        "print(target_test.shape)"
      ]
    },
    {
      "cell_type": "markdown",
      "metadata": {
        "id": "NrnKcrt5yKIP"
      },
      "source": [
        "**Линейная регрессия**"
      ]
    },
    {
      "cell_type": "markdown",
      "metadata": {
        "id": "MKLJKcnwyKIP"
      },
      "source": [
        "Формула рассчета sMAPE-метрики библиотеки sklearn."
      ]
    },
    {
      "cell_type": "code",
      "execution_count": null,
      "metadata": {
        "id": "WOBK7LNTyKIQ"
      },
      "outputs": [],
      "source": [
        "smape_scorer = make_scorer(sMAPE, greater_is_better=False)"
      ]
    },
    {
      "cell_type": "markdown",
      "metadata": {
        "id": "2Wmyx8m8yKIQ"
      },
      "source": [
        "В первый раз я устанавлиал значение сv = 5, но по итогу в случайном лесе начинался лютый хардкор компиляции на полчаса, а хочется все модели в одни рамки загнать, для чистоты эксперемента. Надеюсь в точности мы не сильно потеряем, теперь для кросс-валидации выборки бьются на 4 части, 3/4 под обучение, 1/4 в качестве тестовой.\n",
        "Вычислим среднее значение метрики sMape для rougher.output.recovery и final.output.recovery, а также найдем финальную с помощью созданной функции. Кроссвалидация проводится с помощью cross_val_score из библиотеки sklearn, на вход которой подается модель, обучающие фичи и таргеты, метрика подсчета, а так же параметр cv, который отвечает за разбиение обучающей выборки на более мелкие, для обучения обучения берется n-1 этих выборок и после все это проверяется на тестовой, под которую выделяется 1 оставшаяся выборка."
      ]
    },
    {
      "cell_type": "code",
      "execution_count": null,
      "metadata": {
        "id": "nsG6CQT-yKIQ",
        "outputId": "55bab598-77c8-4048-98a5-7672d6620630"
      },
      "outputs": [
        {
          "name": "stdout",
          "output_type": "stream",
          "text": [
            "Средняя метрики sMape_rougher 7.723980449585195\n"
          ]
        }
      ],
      "source": [
        "model_lrr = LinearRegression()\n",
        "scores_lrr = cross_val_score(model_lrr, features_train, target_train['rougher.output.recovery'], scoring = smape_scorer, cv = 4)\n",
        "smape_rougher = np.mean(abs(scores_lrr))\n",
        "print('Средняя метрики sMape_rougher', smape_rougher)"
      ]
    },
    {
      "cell_type": "code",
      "execution_count": null,
      "metadata": {
        "id": "QhdF3ggnyKIQ",
        "outputId": "2e40fedd-a6f6-496d-fb7d-47ddaf5b46dc"
      },
      "outputs": [
        {
          "name": "stdout",
          "output_type": "stream",
          "text": [
            "Средняя метрики sMape_final 10.275835942314263\n"
          ]
        }
      ],
      "source": [
        "scores_lrf = cross_val_score(model_lrr, features_train, target_train['final.output.recovery'], scoring = smape_scorer,cv = 4)\n",
        "smape_final = np.mean(abs(scores_lrf))\n",
        "print('Средняя метрики sMape_final', smape_final)"
      ]
    },
    {
      "cell_type": "code",
      "execution_count": null,
      "metadata": {
        "id": "UtFr_xJvyKIR",
        "outputId": "bf6a9921-e063-423a-d0ff-a38413e86242"
      },
      "outputs": [
        {
          "name": "stdout",
          "output_type": "stream",
          "text": [
            "Средняя итоговая оценка качества модели sMape  9.637872069131996\n"
          ]
        }
      ],
      "source": [
        "itog_sMAPE = final_sMAPE(smape_rougher, smape_final)\n",
        "print('Средняя итоговая оценка качества модели sMape ', itog_sMAPE)"
      ]
    },
    {
      "cell_type": "markdown",
      "metadata": {
        "id": "n81WoUAfyKIR"
      },
      "source": [
        "**Дерево решений**"
      ]
    },
    {
      "cell_type": "code",
      "execution_count": null,
      "metadata": {
        "id": "LhPDblIbyKIS",
        "outputId": "55e003a1-dfc9-42a0-f6a7-cdd594f89258"
      },
      "outputs": [
        {
          "name": "stdout",
          "output_type": "stream",
          "text": [
            "Средняя метрики smape_rougher 9.08115963421176\n",
            "Средняя метрики smape_rougher 8.465859582775412\n",
            "Средняя метрики smape_rougher 8.215852895793372\n",
            "Средняя метрики smape_rougher 7.941662591487353\n",
            "Средняя метрики smape_rougher 8.322682797117107\n",
            "Средняя метрики smape_rougher 8.344001863931256\n",
            "Средняя метрики smape_rougher 8.730461531025822\n",
            "Средняя метрики smape_rougher 8.706734628529826\n",
            "Средняя метрики smape_rougher 9.00292478474974\n",
            "Средняя метрики smape_rougher 8.886509548515624\n",
            "Средняя метрики smape_rougher 9.296819795895935\n",
            "Средняя метрики smape_rougher 9.457792009498801\n",
            "Средняя метрики smape_rougher 9.196494959177102\n",
            "Средняя метрики smape_rougher 9.759198332956192\n",
            "Средняя метрики smape_rougher 9.867239081716743\n",
            "Средняя метрики smape_rougher 9.93667679675388\n",
            "Средняя метрики smape_rougher 9.873049625154565\n",
            "Средняя метрики smape_rougher 9.940470493366917\n",
            "Средняя метрики smape_rougher 9.695939939033916\n",
            "\n",
            "Лучшее значение метрики sMAPE: 7.941662591487353 при глубине дерева 4\n"
          ]
        }
      ],
      "source": [
        "mn = 101\n",
        "best_depth = 21\n",
        "for i in range (1,20):\n",
        "    model_dtr = DecisionTreeRegressor(random_state=12345, max_depth = i)\n",
        "    model_dtr.fit(features_train, target_train['rougher.output.recovery'])\n",
        "    scores_dtr = cross_val_score(model_dtr, features_train, target_train['rougher.output.recovery'], scoring = smape_scorer,\n",
        "                                 cv = 4)\n",
        "    smape_rougher = np.mean(abs(scores_dtr))\n",
        "    print('Средняя метрики smape_rougher', smape_rougher)\n",
        "    if mn > smape_rougher:\n",
        "        mn = smape_rougher\n",
        "        best_depth = i\n",
        "smape_rougher = mn\n",
        "print()\n",
        "print('Лучшее значение метрики sMAPE:', smape_rougher, 'при глубине дерева', best_depth)"
      ]
    },
    {
      "cell_type": "markdown",
      "metadata": {
        "id": "pPMcor62yKIS"
      },
      "source": [
        "Лучшая глубина дерева для среднего метрики smape получено при 4!"
      ]
    },
    {
      "cell_type": "code",
      "execution_count": null,
      "metadata": {
        "id": "NFROf4BkyKIS",
        "outputId": "37eb7651-15fb-49f6-942e-0a9b367b45f3"
      },
      "outputs": [
        {
          "name": "stdout",
          "output_type": "stream",
          "text": [
            "Среднее метрики smape_final 10.202459894860121\n",
            "Среднее метрики smape_final 9.658996502360313\n",
            "Среднее метрики smape_final 10.107532960045845\n",
            "Среднее метрики smape_final 10.482286346855112\n",
            "Среднее метрики smape_final 10.376527565487695\n",
            "Среднее метрики smape_final 10.906755143580114\n",
            "Среднее метрики smape_final 11.11694212527967\n",
            "Среднее метрики smape_final 11.492021788251822\n",
            "Среднее метрики smape_final 11.497499601784964\n",
            "Среднее метрики smape_final 12.513559239050078\n",
            "Среднее метрики smape_final 13.284464943312987\n",
            "Среднее метрики smape_final 13.074767997918745\n",
            "Среднее метрики smape_final 14.134317647115466\n",
            "Среднее метрики smape_final 14.429007847390505\n",
            "Среднее метрики smape_final 14.475678889940975\n",
            "Среднее метрики smape_final 15.116217203964577\n",
            "Среднее метрики smape_final 15.697822316582311\n",
            "Среднее метрики smape_final 15.41314685366363\n",
            "Среднее метрики smape_final 15.324331271451682\n",
            "\n",
            "Лучшее значение метрики sMAPE: 9.658996502360313 при глубине дерева 2\n"
          ]
        }
      ],
      "source": [
        "mn = 101\n",
        "best_depth = 21\n",
        "for i in range (1,20):\n",
        "    model_dtf = DecisionTreeRegressor(random_state=12345, max_depth = i)\n",
        "    model_dtf.fit(features_train, target_train['final.output.recovery'])\n",
        "    scores_dtf = cross_val_score(model_dtf, features_train, target_train['final.output.recovery'], scoring = smape_scorer,\n",
        "                                              cv = 4)\n",
        "    smape_final = np.mean(abs(scores_dtf))\n",
        "    print('Среднее метрики smape_final', smape_final)\n",
        "    if mn > smape_final:\n",
        "        mn = smape_final\n",
        "        best_depth = i\n",
        "smape_final = mn\n",
        "print()\n",
        "print('Лучшее значение метрики sMAPE:', smape_final, 'при глубине дерева', best_depth)"
      ]
    },
    {
      "cell_type": "markdown",
      "metadata": {
        "id": "IeKNvVQlyKIS"
      },
      "source": [
        "Лучшая глубина дерева для среднего метрики smape получено при 2!"
      ]
    },
    {
      "cell_type": "code",
      "execution_count": null,
      "metadata": {
        "id": "smt3RVH0yKIS",
        "outputId": "71d45236-520d-4cb5-9b1f-aa18bcc9cbef"
      },
      "outputs": [
        {
          "name": "stdout",
          "output_type": "stream",
          "text": [
            "Средняя итоговая оценка качества модели sMape 9.229663024642074\n"
          ]
        }
      ],
      "source": [
        "itog_sMAPE = final_sMAPE(smape_rougher, smape_final)\n",
        "print('Средняя итоговая оценка качества модели sMape', itog_sMAPE)"
      ]
    },
    {
      "cell_type": "markdown",
      "metadata": {
        "id": "6ak7kuK6yKIS"
      },
      "source": [
        "И это явно лучше, чем в линейной регрессии!"
      ]
    },
    {
      "cell_type": "markdown",
      "metadata": {
        "id": "hloG4ZMIyKIT"
      },
      "source": [
        "Перед выполнением следующего блока, судя по сообщениям на Пачке, необходимо обратиться к GridSearchCV. Когда я выполнял проект на первых парах я столкнулся с тем, что задал огромный интервал и не ожидал, что настолько доооооолго будет работать гридсерч особенно для случайного леса, скорее всего дело в том, что внутри гридсерча происходит обучение и проверка на тестовой выборке (которая в случайном лесе обучается на двух циклах вложенных с изменением гиперпараметров, то есть ооооочень много обучения).\n",
        "Но с небольшими интервалами, да и на дереве решений, все работает лучше и приколдеснее, гораздо прекраснее, чем танцы с бубнами и циклами"
      ]
    },
    {
      "cell_type": "code",
      "execution_count": null,
      "metadata": {
        "scrolled": true,
        "id": "SFmF_EpJyKIT",
        "outputId": "1fad2bf7-e3fb-4ee9-d4fd-40bb2bc9a944"
      },
      "outputs": [
        {
          "name": "stdout",
          "output_type": "stream",
          "text": [
            "Лучшая глубина дерева: {'max_depth': 4}\n",
            "smape_rougher 7.941662591487353\n",
            "CPU times: user 9.73 s, sys: 4.01 ms, total: 9.74 s\n",
            "Wall time: 9.75 s\n"
          ]
        }
      ],
      "source": [
        "%%time\n",
        "model_dtr = DecisionTreeRegressor(random_state=12345)\n",
        "hyper = {'max_depth': [x for x in range(1, 10, 1)]}\n",
        "grid_dtr = GridSearchCV(model_dtr, hyper, cv=4, scoring=smape_scorer)\n",
        "grid_dtr.fit(features_train, target_train['rougher.output.recovery'])\n",
        "print('Лучшая глубина дерева:', grid_dtr.best_params_)\n",
        "print('smape_rougher', abs(grid_dtr.best_score_))"
      ]
    },
    {
      "cell_type": "markdown",
      "metadata": {
        "id": "8oMQ5rZSyKIT"
      },
      "source": [
        "Без цикла, в четыре строчки, да, гридсерч заслуживает почитания и обожания! Повторим то же самое для файнала. Значение получил то же самое, но со знаком минус, возьмем под модуль"
      ]
    },
    {
      "cell_type": "code",
      "execution_count": null,
      "metadata": {
        "id": "BMj-OJhWyKIU",
        "outputId": "8df89a13-a4db-4edb-fedb-3f7d2d6f67ec"
      },
      "outputs": [
        {
          "name": "stdout",
          "output_type": "stream",
          "text": [
            "Лучшая глубина дерева: {'max_depth': 2}\n",
            "smape_rougher 9.658996502360313\n",
            "CPU times: user 11.1 s, sys: 15.7 ms, total: 11.2 s\n",
            "Wall time: 11.2 s\n"
          ]
        }
      ],
      "source": [
        "%%time\n",
        "model_dtf = DecisionTreeRegressor(random_state=12345)\n",
        "hyper = {'max_depth': [x for x in range(1, 10, 1)]}\n",
        "grid_dtf = GridSearchCV(model_dtf, hyper, cv=4, scoring=smape_scorer)\n",
        "grid_dtf.fit(features_train, target_train['final.output.recovery'])\n",
        "print('Лучшая глубина дерева:',grid_dtf.best_params_)\n",
        "print('smape_rougher', abs(grid_dtf.best_score_))"
      ]
    },
    {
      "cell_type": "code",
      "execution_count": null,
      "metadata": {
        "id": "L9xWqB5NyKIU",
        "outputId": "57888850-dc4d-4d49-9535-1a3d50d5249b"
      },
      "outputs": [
        {
          "name": "stdout",
          "output_type": "stream",
          "text": [
            "Средняя итоговая оценка качества модели dtree_smape_total 9.229663024642074\n"
          ]
        }
      ],
      "source": [
        "# вычислим итоговую оценку dtree_smape_total\n",
        "itog_sMAPE = final_sMAPE(abs(grid_dtr.best_score_), abs(grid_dtf.best_score_))\n",
        "print('Средняя итоговая оценка качества модели dtree_smape_total', itog_sMAPE)"
      ]
    },
    {
      "cell_type": "markdown",
      "metadata": {
        "id": "gPq3lB8qyKIU"
      },
      "source": [
        "Видим, что итоговая оценка не изменилась, но изменилась жизнь аналитика данных, он счастлив, что был занят не писаниной, а освободил времени для главного - аналитики! Убедились, что подбор лучших гиперпараметров через гридсерч работает, как нужно, в следующем блоке будем работать только через него"
      ]
    },
    {
      "cell_type": "markdown",
      "metadata": {
        "id": "8KeHRH24yKIU"
      },
      "source": [
        "**Случайный лес**"
      ]
    },
    {
      "cell_type": "code",
      "execution_count": null,
      "metadata": {
        "scrolled": true,
        "id": "HYdzgAbbyKIU",
        "outputId": "0ee2214f-3551-47f1-8c8a-77586f56e292"
      },
      "outputs": [
        {
          "name": "stdout",
          "output_type": "stream",
          "text": [
            "Лучшие параметры:  {'max_depth': 3, 'n_estimators': 38}\n",
            "smape_rougher 7.570662805246763\n",
            "CPU times: user 2min 53s, sys: 324 ms, total: 2min 53s\n",
            "Wall time: 2min 54s\n"
          ]
        }
      ],
      "source": [
        "%%time\n",
        "model_rfrr = RandomForestRegressor(random_state=12345)\n",
        "hyper = { 'max_depth': [x for x in range(1, 4, 1)],\n",
        "               'n_estimators': [x for x in range(10, 40, 4)]\n",
        "             }\n",
        "grid_rfrr = GridSearchCV(model_rfrr, hyper, cv=4, scoring=smape_scorer)\n",
        "grid_rfrr.fit(features_train, target_train['rougher.output.recovery'])\n",
        "print('Лучшие параметры: ', grid_rfrr.best_params_)\n",
        "print('smape_rougher', abs(grid_rfrr.best_score_))"
      ]
    },
    {
      "cell_type": "code",
      "execution_count": null,
      "metadata": {
        "scrolled": true,
        "id": "2K2m4dxPyKIV",
        "outputId": "35dd7cbb-1f31-4839-e5c3-ee21aeddddf4"
      },
      "outputs": [
        {
          "name": "stdout",
          "output_type": "stream",
          "text": [
            "Лучшие параметры:  {'max_depth': 2, 'n_estimators': 10}\n",
            "smape_rougher 9.32192987965208\n",
            "CPU times: user 2min 49s, sys: 152 ms, total: 2min 49s\n",
            "Wall time: 2min 49s\n"
          ]
        }
      ],
      "source": [
        "%%time\n",
        "model_rfrf = RandomForestRegressor(random_state=12345)\n",
        "hyper = { 'max_depth': [x for x in range(1, 4, 1)],\n",
        "               'n_estimators': [x for x in range(10,40,4)]\n",
        "             }\n",
        "grid_rfrf = GridSearchCV(model_rfrf, hyper, cv=4, scoring=smape_scorer)\n",
        "grid_rfrf.fit(features_train, target_train['final.output.recovery'])\n",
        "print('Лучшие параметры: ', grid_rfrf.best_params_)\n",
        "print('smape_rougher', abs(grid_rfrf.best_score_))"
      ]
    },
    {
      "cell_type": "code",
      "execution_count": null,
      "metadata": {
        "id": "tpmvrHOCyKIV",
        "outputId": "28a8c196-5b3e-4838-88e7-a132b76b2baa"
      },
      "outputs": [
        {
          "name": "stdout",
          "output_type": "stream",
          "text": [
            "Средняя итоговая оценка качества модели smape_rf_total 8.88411311105075\n"
          ]
        }
      ],
      "source": [
        "itog_sMAPE = final_sMAPE(abs(grid_rfrr.best_score_), abs(grid_rfrf.best_score_))\n",
        "print('Средняя итоговая оценка качества модели smape_rf_total', itog_sMAPE)"
      ]
    },
    {
      "cell_type": "markdown",
      "metadata": {
        "id": "-VHSK0tByKIW"
      },
      "source": [
        "Лучшая модель по результатам исследования оказался случайный лес со следующими параметрами:\n",
        "- для rougher.output.recovery {'n_estimators': 3, 'max_depth': 38}\n",
        "- для final.output.recovery {'n_estimators': 2, 'max_depth': 10}"
      ]
    },
    {
      "cell_type": "markdown",
      "metadata": {
        "id": "YQDUawzPyKIX"
      },
      "source": [
        "**Проверка лучшей модели на тестовых данных**"
      ]
    },
    {
      "cell_type": "code",
      "execution_count": null,
      "metadata": {
        "scrolled": true,
        "id": "LDayq75QyKIX",
        "outputId": "bd3e2058-60cc-4827-f50d-1fef73eb4f02"
      },
      "outputs": [
        {
          "name": "stdout",
          "output_type": "stream",
          "text": [
            "9.003836967029454\n"
          ]
        }
      ],
      "source": [
        "final_model_r = RandomForestRegressor(random_state=12345,max_depth = 3, n_estimators = 38)\n",
        "final_model_r.fit(features_train, target_train['rougher.output.recovery'])\n",
        "predict_roe_test = final_model_r.predict(features_test)\n",
        "\n",
        "final_model_f = RandomForestRegressor(random_state=12345,max_depth = 2, n_estimators = 10)\n",
        "final_model_f.fit(features_train, target_train['final.output.recovery'])\n",
        "predict_fin_test = final_model_f.predict(features_test)\n",
        "\n",
        "smape_rou = sMAPE(target_test['rougher.output.recovery'], predict_roe_test)\n",
        "smape_fin = sMAPE(target_test['final.output.recovery'], predict_fin_test)\n",
        "itog_test = final_sMAPE(smape_rou,smape_fin)\n",
        "\n",
        "print(itog_test)"
      ]
    },
    {
      "cell_type": "markdown",
      "metadata": {
        "id": "awMETjQqyKIX"
      },
      "source": [
        "Рандомайздсерч хоть и хорош в плане производительности, но случайности не случайны, и за них надо платить, пришлось потратить очень много времени, чтобы найти подходящий рандомсерч (сижу уже второй час), чтобы победить константную модель:( Лучше было бы использовать гридсерч, хоть и не на больших интервалах\n",
        "\n",
        "Я провел 2 часа в поисках но не нашел, я возвращаюсь к гридсерчу, пускай он будет долгим и мучительным на пару минут, но что поделать, проект то надо сдать!"
      ]
    },
    {
      "cell_type": "markdown",
      "metadata": {
        "id": "DKFGEIuoyKIY"
      },
      "source": [
        "**DummyRegressor**"
      ]
    },
    {
      "cell_type": "code",
      "execution_count": null,
      "metadata": {
        "id": "TFNAVomoyKIY",
        "outputId": "89cf6453-2fc7-45bb-8a04-010ebd0aed3b"
      },
      "outputs": [
        {
          "name": "stdout",
          "output_type": "stream",
          "text": [
            "9.829096649757766\n"
          ]
        }
      ],
      "source": [
        "model_drr = DummyRegressor(strategy='mean')\n",
        "model_drr.fit(features_train, target_train['rougher.output.recovery'])\n",
        "predict_drr = model_drr.predict(features_test)\n",
        "\n",
        "model_drf = DummyRegressor(strategy='mean')\n",
        "model_drf.fit(features_train, target_train['final.output.recovery'])\n",
        "predict_drf = model_drf.predict(features_test)\n",
        "\n",
        "\n",
        "smape_rou = sMAPE(target_test['rougher.output.recovery'], predict_drr)\n",
        "smape_fin = sMAPE(target_test['final.output.recovery'], predict_drf)\n",
        "check_const = final_sMAPE(smape_rou,smape_fin)\n",
        "print(check_const)"
      ]
    },
    {
      "cell_type": "markdown",
      "metadata": {
        "id": "-zKjFWBXyKIY"
      },
      "source": [
        "Наша модель показала результат лучше, ура!"
      ]
    },
    {
      "cell_type": "markdown",
      "metadata": {
        "id": "O_-4F9DiyKIY"
      },
      "source": [
        "**Вывод по теме:**\n",
        "- Выполнили предобработку\n",
        "- Проверили, что эффективность обогащения рассчитана правильно\n",
        "- Изучили отличные столбцы в тестовых и обучающих выборках\n",
        "- Ислледовали концентрацию всего, чего только могли, относительно всего, чего только могли...\n",
        "- Изучили размер гранул, пришли к выводу, что данные тестовой выборки вполне себе приближены к обучающей и можно работать дальше\n",
        "- Исследованы суммарные концентрации\n",
        "- Написаны функции вычисления итогового сМАПА\n",
        "- Выполнена подборка лучших гиперпараметров для обучения, как через циклы вручную, так и с помощью ГридСерча\n",
        "- Проверили модель с лучшим показателем среднего итогового сМАПА на тестовой выборке\n",
        "- Проверили показатели sMAPE метрики на константной модели, выяснили, что она больше, а значит разработка модели была целесообразной!"
      ]
    },
    {
      "cell_type": "markdown",
      "metadata": {
        "id": "UJbBGSL6yKIZ"
      },
      "source": [
        "**Вывод:**\n",
        "Эта работа - последний гвоздь в крышку моей непунктуальности. Я думал, что расправлюсь с ней быстро и успею до жесткого дедлайна, делов то, но по итогу я встретился с огромным количеством трудностей, которые преодолел, хотелось бы верить. Этот проект, как никакой ранее заставил меня изучить документацию того же гридсерча, копаться в коде других людей в гугле, спамить друзей-мидлов с дебильными вопросами, но также это принесло свои плоды в плане понимания происходящего."
      ]
    }
  ],
  "metadata": {
    "ExecuteTimeLog": [
      {
        "duration": 1503,
        "start_time": "2022-12-21T13:22:28.927Z"
      },
      {
        "duration": 182,
        "start_time": "2022-12-21T13:28:05.014Z"
      },
      {
        "duration": 2917,
        "start_time": "2022-12-21T13:29:27.706Z"
      },
      {
        "duration": 10,
        "start_time": "2022-12-21T13:30:07.593Z"
      },
      {
        "duration": 5,
        "start_time": "2022-12-21T13:30:23.505Z"
      },
      {
        "duration": 4,
        "start_time": "2022-12-21T13:30:41.417Z"
      },
      {
        "duration": 17,
        "start_time": "2022-12-21T13:46:21.209Z"
      },
      {
        "duration": 692,
        "start_time": "2022-12-21T13:46:22.666Z"
      },
      {
        "duration": 3,
        "start_time": "2022-12-21T13:46:23.492Z"
      },
      {
        "duration": 11,
        "start_time": "2022-12-21T13:47:14.898Z"
      },
      {
        "duration": 9,
        "start_time": "2022-12-21T13:47:30.186Z"
      },
      {
        "duration": 9,
        "start_time": "2022-12-21T13:47:59.286Z"
      },
      {
        "duration": 12,
        "start_time": "2022-12-21T13:48:08.966Z"
      },
      {
        "duration": 10,
        "start_time": "2022-12-21T13:48:18.565Z"
      },
      {
        "duration": 11,
        "start_time": "2022-12-21T13:48:30.769Z"
      },
      {
        "duration": 14,
        "start_time": "2022-12-21T13:48:45.076Z"
      },
      {
        "duration": 4,
        "start_time": "2022-12-21T13:51:09.083Z"
      },
      {
        "duration": 10,
        "start_time": "2022-12-21T13:52:24.706Z"
      },
      {
        "duration": 9,
        "start_time": "2022-12-21T13:52:33.346Z"
      },
      {
        "duration": 9,
        "start_time": "2022-12-21T13:52:42.161Z"
      },
      {
        "duration": 12,
        "start_time": "2022-12-21T13:53:40.146Z"
      },
      {
        "duration": 11,
        "start_time": "2022-12-21T13:53:44.915Z"
      },
      {
        "duration": 15,
        "start_time": "2022-12-21T13:53:52.656Z"
      },
      {
        "duration": 14,
        "start_time": "2022-12-21T13:54:49.736Z"
      },
      {
        "duration": 28,
        "start_time": "2022-12-21T13:59:40.237Z"
      },
      {
        "duration": 35,
        "start_time": "2022-12-21T13:59:46.075Z"
      },
      {
        "duration": 43,
        "start_time": "2022-12-21T14:01:11.165Z"
      },
      {
        "duration": 34,
        "start_time": "2022-12-21T14:02:35.997Z"
      },
      {
        "duration": 42,
        "start_time": "2022-12-21T14:05:09.847Z"
      },
      {
        "duration": 10,
        "start_time": "2022-12-21T14:12:44.339Z"
      },
      {
        "duration": 177,
        "start_time": "2022-12-21T14:15:09.336Z"
      },
      {
        "duration": 286,
        "start_time": "2022-12-21T14:15:20.398Z"
      },
      {
        "duration": 253,
        "start_time": "2022-12-21T14:16:01.100Z"
      },
      {
        "duration": 15,
        "start_time": "2022-12-21T14:17:51.070Z"
      },
      {
        "duration": 30,
        "start_time": "2022-12-21T14:19:06.202Z"
      },
      {
        "duration": 14,
        "start_time": "2022-12-21T14:19:09.053Z"
      },
      {
        "duration": 4,
        "start_time": "2022-12-21T14:19:32.571Z"
      },
      {
        "duration": 272,
        "start_time": "2022-12-21T14:19:35.502Z"
      },
      {
        "duration": 247,
        "start_time": "2022-12-21T14:20:15.750Z"
      },
      {
        "duration": 15,
        "start_time": "2022-12-21T14:30:46.564Z"
      },
      {
        "duration": 6,
        "start_time": "2022-12-21T14:31:10.094Z"
      },
      {
        "duration": 10,
        "start_time": "2022-12-21T14:35:20.000Z"
      },
      {
        "duration": 6,
        "start_time": "2022-12-21T14:35:23.593Z"
      },
      {
        "duration": 25,
        "start_time": "2022-12-21T14:36:32.607Z"
      },
      {
        "duration": 13,
        "start_time": "2022-12-21T14:43:40.664Z"
      },
      {
        "duration": 8,
        "start_time": "2022-12-21T14:44:34.821Z"
      },
      {
        "duration": 9,
        "start_time": "2022-12-21T14:44:38.041Z"
      },
      {
        "duration": 4,
        "start_time": "2022-12-21T14:48:50.306Z"
      },
      {
        "duration": 16,
        "start_time": "2022-12-21T14:49:39.575Z"
      },
      {
        "duration": 9,
        "start_time": "2022-12-21T14:50:11.360Z"
      },
      {
        "duration": 76,
        "start_time": "2022-12-21T14:51:18.252Z"
      },
      {
        "duration": 8,
        "start_time": "2022-12-21T14:51:21.823Z"
      },
      {
        "duration": 8,
        "start_time": "2022-12-21T14:51:32.338Z"
      },
      {
        "duration": 8,
        "start_time": "2022-12-21T14:51:47.309Z"
      },
      {
        "duration": 8,
        "start_time": "2022-12-21T14:51:50.931Z"
      },
      {
        "duration": 11,
        "start_time": "2022-12-21T14:52:07.977Z"
      },
      {
        "duration": 6,
        "start_time": "2022-12-21T14:56:41.156Z"
      },
      {
        "duration": 8,
        "start_time": "2022-12-21T14:56:56.961Z"
      },
      {
        "duration": 20,
        "start_time": "2022-12-21T14:58:04.909Z"
      },
      {
        "duration": 55,
        "start_time": "2022-12-21T14:59:50.048Z"
      },
      {
        "duration": 15,
        "start_time": "2022-12-21T15:18:25.849Z"
      },
      {
        "duration": 13,
        "start_time": "2022-12-21T15:32:24.774Z"
      },
      {
        "duration": 17,
        "start_time": "2022-12-21T15:32:35.472Z"
      },
      {
        "duration": 832,
        "start_time": "2022-12-21T15:40:46.585Z"
      },
      {
        "duration": 759,
        "start_time": "2022-12-21T15:41:17.574Z"
      },
      {
        "duration": 946,
        "start_time": "2022-12-21T15:41:25.035Z"
      },
      {
        "duration": 812,
        "start_time": "2022-12-21T15:41:35.549Z"
      },
      {
        "duration": 881,
        "start_time": "2022-12-21T15:41:47.748Z"
      },
      {
        "duration": 828,
        "start_time": "2022-12-21T15:42:03.427Z"
      },
      {
        "duration": 3563,
        "start_time": "2022-12-21T15:44:19.216Z"
      },
      {
        "duration": 2612,
        "start_time": "2022-12-21T15:44:44.440Z"
      },
      {
        "duration": 2357,
        "start_time": "2022-12-21T15:44:59.339Z"
      },
      {
        "duration": 2260,
        "start_time": "2022-12-21T15:47:50.878Z"
      },
      {
        "duration": 2314,
        "start_time": "2022-12-21T15:49:30.908Z"
      },
      {
        "duration": 2245,
        "start_time": "2022-12-21T15:49:37.608Z"
      },
      {
        "duration": 3282,
        "start_time": "2022-12-21T15:49:56.657Z"
      },
      {
        "duration": 1389,
        "start_time": "2022-12-21T15:50:16.466Z"
      },
      {
        "duration": 1816,
        "start_time": "2022-12-21T15:50:29.614Z"
      },
      {
        "duration": 2062,
        "start_time": "2022-12-21T15:51:03.886Z"
      },
      {
        "duration": 2020,
        "start_time": "2022-12-21T15:51:12.475Z"
      },
      {
        "duration": 1997,
        "start_time": "2022-12-21T15:51:21.843Z"
      },
      {
        "duration": 2227,
        "start_time": "2022-12-21T15:51:36.968Z"
      },
      {
        "duration": 2119,
        "start_time": "2022-12-21T15:53:00.276Z"
      },
      {
        "duration": 2094,
        "start_time": "2022-12-21T15:53:02.397Z"
      },
      {
        "duration": 1853,
        "start_time": "2022-12-21T15:53:24.524Z"
      },
      {
        "duration": 2207,
        "start_time": "2022-12-21T15:53:33.878Z"
      },
      {
        "duration": 1961,
        "start_time": "2022-12-21T15:54:01.500Z"
      },
      {
        "duration": 1813,
        "start_time": "2022-12-21T15:55:29.103Z"
      },
      {
        "duration": 1972,
        "start_time": "2022-12-21T15:58:51.239Z"
      },
      {
        "duration": 2027,
        "start_time": "2022-12-21T15:59:32.117Z"
      },
      {
        "duration": 2112,
        "start_time": "2022-12-21T16:00:05.369Z"
      },
      {
        "duration": 1872,
        "start_time": "2022-12-21T16:02:45.656Z"
      },
      {
        "duration": 1246,
        "start_time": "2022-12-21T16:05:10.746Z"
      },
      {
        "duration": 723,
        "start_time": "2022-12-21T16:06:19.742Z"
      },
      {
        "duration": 534,
        "start_time": "2022-12-21T16:15:26.837Z"
      },
      {
        "duration": 1131,
        "start_time": "2022-12-21T16:17:19.365Z"
      },
      {
        "duration": 44,
        "start_time": "2022-12-21T16:17:50.060Z"
      },
      {
        "duration": 1307,
        "start_time": "2022-12-21T16:21:38.308Z"
      },
      {
        "duration": 1229,
        "start_time": "2022-12-21T16:21:47.643Z"
      },
      {
        "duration": 1168,
        "start_time": "2022-12-21T16:22:21.259Z"
      },
      {
        "duration": 1334,
        "start_time": "2022-12-21T16:22:24.664Z"
      },
      {
        "duration": 54,
        "start_time": "2022-12-21T16:22:43.793Z"
      },
      {
        "duration": 1146,
        "start_time": "2022-12-21T16:23:57.587Z"
      },
      {
        "duration": 1342,
        "start_time": "2022-12-21T16:25:05.366Z"
      },
      {
        "duration": 731,
        "start_time": "2022-12-21T16:27:02.860Z"
      },
      {
        "duration": 1171,
        "start_time": "2022-12-21T16:27:27.149Z"
      },
      {
        "duration": 1247,
        "start_time": "2022-12-21T16:28:21.077Z"
      },
      {
        "duration": 45,
        "start_time": "2022-12-21T16:28:51.016Z"
      },
      {
        "duration": 884,
        "start_time": "2022-12-21T16:40:35.525Z"
      },
      {
        "duration": 2882,
        "start_time": "2022-12-21T16:40:57.969Z"
      },
      {
        "duration": 1056,
        "start_time": "2022-12-21T16:43:29.677Z"
      },
      {
        "duration": 1368,
        "start_time": "2022-12-21T16:43:36.129Z"
      },
      {
        "duration": 11,
        "start_time": "2022-12-21T16:44:13.746Z"
      },
      {
        "duration": 665,
        "start_time": "2022-12-21T16:44:16.696Z"
      },
      {
        "duration": 603,
        "start_time": "2022-12-21T16:44:42.076Z"
      },
      {
        "duration": 790,
        "start_time": "2022-12-21T16:45:02.837Z"
      },
      {
        "duration": 801,
        "start_time": "2022-12-21T16:45:12.654Z"
      },
      {
        "duration": 610,
        "start_time": "2022-12-21T16:45:55.647Z"
      },
      {
        "duration": 763,
        "start_time": "2022-12-21T16:46:01.607Z"
      },
      {
        "duration": 679,
        "start_time": "2022-12-21T16:46:24.311Z"
      },
      {
        "duration": 610,
        "start_time": "2022-12-21T16:46:31.817Z"
      },
      {
        "duration": 120,
        "start_time": "2022-12-21T16:46:53.745Z"
      },
      {
        "duration": 663,
        "start_time": "2022-12-21T16:47:03.177Z"
      },
      {
        "duration": 1202,
        "start_time": "2022-12-21T16:50:39.024Z"
      },
      {
        "duration": 10,
        "start_time": "2022-12-21T16:51:06.954Z"
      },
      {
        "duration": 863,
        "start_time": "2022-12-21T16:51:41.964Z"
      },
      {
        "duration": 48,
        "start_time": "2022-12-21T16:51:47.326Z"
      },
      {
        "duration": 16,
        "start_time": "2022-12-21T16:51:51.076Z"
      },
      {
        "duration": 786,
        "start_time": "2022-12-21T16:51:55.359Z"
      },
      {
        "duration": 860,
        "start_time": "2022-12-21T16:52:03.859Z"
      },
      {
        "duration": 816,
        "start_time": "2022-12-21T16:52:50.542Z"
      },
      {
        "duration": 11,
        "start_time": "2022-12-21T16:53:00.048Z"
      },
      {
        "duration": 10,
        "start_time": "2022-12-21T16:57:00.168Z"
      },
      {
        "duration": 348,
        "start_time": "2022-12-21T16:57:26.992Z"
      },
      {
        "duration": 53,
        "start_time": "2022-12-21T17:13:12.570Z"
      },
      {
        "duration": 19,
        "start_time": "2022-12-21T17:13:20.356Z"
      },
      {
        "duration": 18,
        "start_time": "2022-12-21T17:14:20.790Z"
      },
      {
        "duration": 529,
        "start_time": "2022-12-21T17:15:52.394Z"
      },
      {
        "duration": 536,
        "start_time": "2022-12-21T17:18:10.795Z"
      },
      {
        "duration": 552,
        "start_time": "2022-12-21T17:18:25.267Z"
      },
      {
        "duration": 595,
        "start_time": "2022-12-21T17:18:37.443Z"
      },
      {
        "duration": 520,
        "start_time": "2022-12-21T17:18:46.699Z"
      },
      {
        "duration": 543,
        "start_time": "2022-12-21T17:18:51.987Z"
      },
      {
        "duration": 753,
        "start_time": "2022-12-21T17:18:55.177Z"
      },
      {
        "duration": 769,
        "start_time": "2022-12-21T17:19:06.000Z"
      },
      {
        "duration": 844,
        "start_time": "2022-12-21T17:19:21.313Z"
      },
      {
        "duration": 806,
        "start_time": "2022-12-21T17:19:27.476Z"
      },
      {
        "duration": 838,
        "start_time": "2022-12-21T17:19:31.766Z"
      },
      {
        "duration": 1260,
        "start_time": "2022-12-21T17:25:44.761Z"
      },
      {
        "duration": 921,
        "start_time": "2022-12-21T17:26:23.484Z"
      },
      {
        "duration": 1172,
        "start_time": "2022-12-21T17:26:53.627Z"
      },
      {
        "duration": 857,
        "start_time": "2022-12-21T17:27:05.726Z"
      },
      {
        "duration": 1122,
        "start_time": "2022-12-21T17:28:40.283Z"
      },
      {
        "duration": 1351,
        "start_time": "2022-12-21T17:28:49.735Z"
      },
      {
        "duration": 1409,
        "start_time": "2022-12-21T17:28:59.644Z"
      },
      {
        "duration": 1369,
        "start_time": "2022-12-21T17:30:22.095Z"
      },
      {
        "duration": 568,
        "start_time": "2022-12-21T17:30:30.592Z"
      },
      {
        "duration": 1367,
        "start_time": "2022-12-21T17:30:47.656Z"
      },
      {
        "duration": 1073,
        "start_time": "2022-12-21T17:31:35.255Z"
      },
      {
        "duration": 730,
        "start_time": "2022-12-21T17:32:02.735Z"
      },
      {
        "duration": 765,
        "start_time": "2022-12-21T17:33:19.246Z"
      },
      {
        "duration": 740,
        "start_time": "2022-12-21T17:33:26.117Z"
      },
      {
        "duration": 821,
        "start_time": "2022-12-21T17:35:19.223Z"
      },
      {
        "duration": 1109,
        "start_time": "2022-12-21T17:35:45.138Z"
      },
      {
        "duration": 889,
        "start_time": "2022-12-21T17:35:54.322Z"
      },
      {
        "duration": 1613,
        "start_time": "2022-12-21T17:38:03.736Z"
      },
      {
        "duration": 730,
        "start_time": "2022-12-21T17:38:05.352Z"
      },
      {
        "duration": 4,
        "start_time": "2022-12-21T17:38:06.084Z"
      },
      {
        "duration": 50,
        "start_time": "2022-12-21T17:38:06.090Z"
      },
      {
        "duration": 286,
        "start_time": "2022-12-21T17:38:06.142Z"
      },
      {
        "duration": 8,
        "start_time": "2022-12-21T17:38:06.430Z"
      },
      {
        "duration": 137,
        "start_time": "2022-12-21T17:38:06.440Z"
      },
      {
        "duration": 0,
        "start_time": "2022-12-21T17:38:06.579Z"
      },
      {
        "duration": 0,
        "start_time": "2022-12-21T17:38:06.580Z"
      },
      {
        "duration": 0,
        "start_time": "2022-12-21T17:38:06.581Z"
      },
      {
        "duration": 0,
        "start_time": "2022-12-21T17:38:06.582Z"
      },
      {
        "duration": 0,
        "start_time": "2022-12-21T17:38:06.583Z"
      },
      {
        "duration": 0,
        "start_time": "2022-12-21T17:38:06.584Z"
      },
      {
        "duration": 0,
        "start_time": "2022-12-21T17:38:06.585Z"
      },
      {
        "duration": 0,
        "start_time": "2022-12-21T17:38:06.586Z"
      },
      {
        "duration": 0,
        "start_time": "2022-12-21T17:38:06.588Z"
      },
      {
        "duration": 0,
        "start_time": "2022-12-21T17:38:06.589Z"
      },
      {
        "duration": 1392,
        "start_time": "2022-12-21T17:38:40.174Z"
      },
      {
        "duration": 668,
        "start_time": "2022-12-21T17:38:41.568Z"
      },
      {
        "duration": 4,
        "start_time": "2022-12-21T17:38:42.238Z"
      },
      {
        "duration": 101,
        "start_time": "2022-12-21T17:38:42.245Z"
      },
      {
        "duration": 280,
        "start_time": "2022-12-21T17:38:42.347Z"
      },
      {
        "duration": 7,
        "start_time": "2022-12-21T17:38:42.629Z"
      },
      {
        "duration": 21,
        "start_time": "2022-12-21T17:38:42.638Z"
      },
      {
        "duration": 16,
        "start_time": "2022-12-21T17:38:42.676Z"
      },
      {
        "duration": 2019,
        "start_time": "2022-12-21T17:38:42.694Z"
      },
      {
        "duration": 2114,
        "start_time": "2022-12-21T17:38:44.718Z"
      },
      {
        "duration": 2008,
        "start_time": "2022-12-21T17:38:46.835Z"
      },
      {
        "duration": 866,
        "start_time": "2022-12-21T17:38:48.845Z"
      },
      {
        "duration": 1233,
        "start_time": "2022-12-21T17:38:49.713Z"
      },
      {
        "duration": 1095,
        "start_time": "2022-12-21T17:38:50.948Z"
      },
      {
        "duration": 1222,
        "start_time": "2022-12-21T17:38:52.045Z"
      },
      {
        "duration": 1632,
        "start_time": "2022-12-21T17:38:53.269Z"
      },
      {
        "duration": 985,
        "start_time": "2022-12-21T17:38:54.904Z"
      },
      {
        "duration": 1573,
        "start_time": "2022-12-21T17:39:13.189Z"
      },
      {
        "duration": 5,
        "start_time": "2022-12-21T17:41:19.966Z"
      },
      {
        "duration": 4,
        "start_time": "2022-12-21T17:45:17.439Z"
      },
      {
        "duration": 47,
        "start_time": "2022-12-21T17:46:23.234Z"
      },
      {
        "duration": 53,
        "start_time": "2022-12-21T17:46:55.813Z"
      },
      {
        "duration": 847,
        "start_time": "2022-12-21T17:47:47.104Z"
      },
      {
        "duration": 17,
        "start_time": "2022-12-21T17:48:42.539Z"
      },
      {
        "duration": 4,
        "start_time": "2022-12-21T17:49:15.705Z"
      },
      {
        "duration": 20,
        "start_time": "2022-12-21T17:49:16.774Z"
      },
      {
        "duration": 45,
        "start_time": "2022-12-21T17:49:29.395Z"
      },
      {
        "duration": 4,
        "start_time": "2022-12-21T17:49:33.038Z"
      },
      {
        "duration": 15,
        "start_time": "2022-12-21T17:49:34.399Z"
      },
      {
        "duration": 4,
        "start_time": "2022-12-21T17:50:03.616Z"
      },
      {
        "duration": 299,
        "start_time": "2022-12-21T17:50:04.234Z"
      },
      {
        "duration": 299,
        "start_time": "2022-12-21T17:51:36.122Z"
      },
      {
        "duration": 381,
        "start_time": "2022-12-21T17:55:55.100Z"
      },
      {
        "duration": 5,
        "start_time": "2022-12-21T18:00:14.845Z"
      },
      {
        "duration": 667,
        "start_time": "2022-12-21T18:00:15.594Z"
      },
      {
        "duration": 435,
        "start_time": "2022-12-21T18:00:18.073Z"
      },
      {
        "duration": 464,
        "start_time": "2022-12-21T18:00:18.510Z"
      },
      {
        "duration": 532,
        "start_time": "2022-12-21T18:00:23.417Z"
      },
      {
        "duration": 29,
        "start_time": "2022-12-21T18:29:26.306Z"
      },
      {
        "duration": 1380,
        "start_time": "2022-12-21T18:29:45.197Z"
      },
      {
        "duration": 746,
        "start_time": "2022-12-21T18:29:46.578Z"
      },
      {
        "duration": 5,
        "start_time": "2022-12-21T18:29:47.326Z"
      },
      {
        "duration": 59,
        "start_time": "2022-12-21T18:29:47.333Z"
      },
      {
        "duration": 24,
        "start_time": "2022-12-21T18:29:47.394Z"
      },
      {
        "duration": 285,
        "start_time": "2022-12-21T18:29:47.419Z"
      },
      {
        "duration": 8,
        "start_time": "2022-12-21T18:29:47.705Z"
      },
      {
        "duration": 25,
        "start_time": "2022-12-21T18:29:47.715Z"
      },
      {
        "duration": 15,
        "start_time": "2022-12-21T18:29:47.742Z"
      },
      {
        "duration": 1842,
        "start_time": "2022-12-21T18:29:47.777Z"
      },
      {
        "duration": 1878,
        "start_time": "2022-12-21T18:29:49.620Z"
      },
      {
        "duration": 1719,
        "start_time": "2022-12-21T18:29:51.500Z"
      },
      {
        "duration": 691,
        "start_time": "2022-12-21T18:29:53.220Z"
      },
      {
        "duration": 1251,
        "start_time": "2022-12-21T18:29:53.913Z"
      },
      {
        "duration": 1113,
        "start_time": "2022-12-21T18:29:55.166Z"
      },
      {
        "duration": 1174,
        "start_time": "2022-12-21T18:29:56.281Z"
      },
      {
        "duration": 1438,
        "start_time": "2022-12-21T18:29:57.457Z"
      },
      {
        "duration": 830,
        "start_time": "2022-12-21T18:29:58.897Z"
      },
      {
        "duration": 3,
        "start_time": "2022-12-21T18:29:59.729Z"
      },
      {
        "duration": 413,
        "start_time": "2022-12-21T18:29:59.734Z"
      },
      {
        "duration": 411,
        "start_time": "2022-12-21T18:30:00.149Z"
      },
      {
        "duration": 435,
        "start_time": "2022-12-21T18:30:00.562Z"
      },
      {
        "duration": 1378,
        "start_time": "2022-12-21T18:31:59.597Z"
      },
      {
        "duration": 724,
        "start_time": "2022-12-21T18:32:00.977Z"
      },
      {
        "duration": 5,
        "start_time": "2022-12-21T18:32:01.702Z"
      },
      {
        "duration": 73,
        "start_time": "2022-12-21T18:32:01.708Z"
      },
      {
        "duration": 263,
        "start_time": "2022-12-21T18:32:01.783Z"
      },
      {
        "duration": 8,
        "start_time": "2022-12-21T18:32:02.047Z"
      },
      {
        "duration": 34,
        "start_time": "2022-12-21T18:32:02.056Z"
      },
      {
        "duration": 14,
        "start_time": "2022-12-21T18:32:02.092Z"
      },
      {
        "duration": 1814,
        "start_time": "2022-12-21T18:32:02.107Z"
      },
      {
        "duration": 2116,
        "start_time": "2022-12-21T18:32:03.923Z"
      },
      {
        "duration": 1835,
        "start_time": "2022-12-21T18:32:06.041Z"
      },
      {
        "duration": 712,
        "start_time": "2022-12-21T18:32:07.877Z"
      },
      {
        "duration": 1124,
        "start_time": "2022-12-21T18:32:08.590Z"
      },
      {
        "duration": 1016,
        "start_time": "2022-12-21T18:32:09.717Z"
      },
      {
        "duration": 1272,
        "start_time": "2022-12-21T18:32:10.735Z"
      },
      {
        "duration": 1489,
        "start_time": "2022-12-21T18:32:12.009Z"
      },
      {
        "duration": 865,
        "start_time": "2022-12-21T18:32:13.500Z"
      },
      {
        "duration": 9,
        "start_time": "2022-12-21T18:32:14.367Z"
      },
      {
        "duration": 513,
        "start_time": "2022-12-21T18:32:14.378Z"
      },
      {
        "duration": 494,
        "start_time": "2022-12-21T18:32:14.893Z"
      },
      {
        "duration": 460,
        "start_time": "2022-12-21T18:32:15.389Z"
      },
      {
        "duration": 25,
        "start_time": "2022-12-21T18:39:20.406Z"
      },
      {
        "duration": 1372,
        "start_time": "2022-12-21T18:39:25.968Z"
      },
      {
        "duration": 720,
        "start_time": "2022-12-21T18:39:27.343Z"
      },
      {
        "duration": 4,
        "start_time": "2022-12-21T18:39:28.064Z"
      },
      {
        "duration": 44,
        "start_time": "2022-12-21T18:39:28.069Z"
      },
      {
        "duration": 25,
        "start_time": "2022-12-21T18:39:28.116Z"
      },
      {
        "duration": 266,
        "start_time": "2022-12-21T18:39:28.143Z"
      },
      {
        "duration": 7,
        "start_time": "2022-12-21T18:39:28.410Z"
      },
      {
        "duration": 25,
        "start_time": "2022-12-21T18:39:28.419Z"
      },
      {
        "duration": 37,
        "start_time": "2022-12-21T18:39:28.445Z"
      },
      {
        "duration": 1809,
        "start_time": "2022-12-21T18:39:28.483Z"
      },
      {
        "duration": 1911,
        "start_time": "2022-12-21T18:39:30.294Z"
      },
      {
        "duration": 1934,
        "start_time": "2022-12-21T18:39:32.207Z"
      },
      {
        "duration": 678,
        "start_time": "2022-12-21T18:39:34.143Z"
      },
      {
        "duration": 1407,
        "start_time": "2022-12-21T18:39:34.823Z"
      },
      {
        "duration": 1078,
        "start_time": "2022-12-21T18:39:36.232Z"
      },
      {
        "duration": 1333,
        "start_time": "2022-12-21T18:39:37.312Z"
      },
      {
        "duration": 1397,
        "start_time": "2022-12-21T18:39:38.647Z"
      },
      {
        "duration": 761,
        "start_time": "2022-12-21T18:39:40.046Z"
      },
      {
        "duration": 4,
        "start_time": "2022-12-21T18:39:40.808Z"
      },
      {
        "duration": 415,
        "start_time": "2022-12-21T18:39:40.813Z"
      },
      {
        "duration": 385,
        "start_time": "2022-12-21T18:39:41.229Z"
      },
      {
        "duration": 391,
        "start_time": "2022-12-21T18:39:41.615Z"
      },
      {
        "duration": 45,
        "start_time": "2022-12-21T18:51:51.917Z"
      },
      {
        "duration": 831,
        "start_time": "2022-12-21T19:01:49.816Z"
      },
      {
        "duration": 756,
        "start_time": "2022-12-21T19:02:05.623Z"
      },
      {
        "duration": 18,
        "start_time": "2022-12-21T19:02:25.964Z"
      },
      {
        "duration": 14,
        "start_time": "2022-12-21T19:02:46.152Z"
      },
      {
        "duration": 13,
        "start_time": "2022-12-21T19:03:06.922Z"
      },
      {
        "duration": 1325,
        "start_time": "2022-12-21T19:03:29.265Z"
      },
      {
        "duration": 781,
        "start_time": "2022-12-21T19:03:39.941Z"
      },
      {
        "duration": 20,
        "start_time": "2022-12-21T19:04:18.403Z"
      },
      {
        "duration": 23,
        "start_time": "2022-12-21T19:04:27.693Z"
      },
      {
        "duration": 18,
        "start_time": "2022-12-21T19:04:55.421Z"
      },
      {
        "duration": 20,
        "start_time": "2022-12-21T19:05:51.873Z"
      },
      {
        "duration": 20,
        "start_time": "2022-12-21T19:10:02.463Z"
      },
      {
        "duration": 16,
        "start_time": "2022-12-21T19:10:31.887Z"
      },
      {
        "duration": 11,
        "start_time": "2022-12-21T19:13:50.933Z"
      },
      {
        "duration": 13,
        "start_time": "2022-12-21T19:14:05.102Z"
      },
      {
        "duration": 170,
        "start_time": "2022-12-21T19:15:09.882Z"
      },
      {
        "duration": 6,
        "start_time": "2022-12-21T19:18:09.790Z"
      },
      {
        "duration": 745,
        "start_time": "2022-12-21T19:22:28.745Z"
      },
      {
        "duration": 1365,
        "start_time": "2022-12-21T19:22:50.201Z"
      },
      {
        "duration": 688,
        "start_time": "2022-12-21T19:22:51.568Z"
      },
      {
        "duration": 4,
        "start_time": "2022-12-21T19:22:52.258Z"
      },
      {
        "duration": 41,
        "start_time": "2022-12-21T19:22:52.264Z"
      },
      {
        "duration": 23,
        "start_time": "2022-12-21T19:22:52.307Z"
      },
      {
        "duration": 249,
        "start_time": "2022-12-21T19:22:52.331Z"
      },
      {
        "duration": 7,
        "start_time": "2022-12-21T19:22:52.582Z"
      },
      {
        "duration": 28,
        "start_time": "2022-12-21T19:22:52.591Z"
      },
      {
        "duration": 15,
        "start_time": "2022-12-21T19:22:52.621Z"
      },
      {
        "duration": 1810,
        "start_time": "2022-12-21T19:22:52.638Z"
      },
      {
        "duration": 1831,
        "start_time": "2022-12-21T19:22:54.450Z"
      },
      {
        "duration": 1744,
        "start_time": "2022-12-21T19:22:56.283Z"
      },
      {
        "duration": 697,
        "start_time": "2022-12-21T19:22:58.028Z"
      },
      {
        "duration": 1089,
        "start_time": "2022-12-21T19:22:58.728Z"
      },
      {
        "duration": 1013,
        "start_time": "2022-12-21T19:22:59.819Z"
      },
      {
        "duration": 1226,
        "start_time": "2022-12-21T19:23:00.834Z"
      },
      {
        "duration": 1418,
        "start_time": "2022-12-21T19:23:02.062Z"
      },
      {
        "duration": 894,
        "start_time": "2022-12-21T19:23:03.482Z"
      },
      {
        "duration": 4,
        "start_time": "2022-12-21T19:23:04.379Z"
      },
      {
        "duration": 511,
        "start_time": "2022-12-21T19:23:04.385Z"
      },
      {
        "duration": 523,
        "start_time": "2022-12-21T19:23:04.898Z"
      },
      {
        "duration": 469,
        "start_time": "2022-12-21T19:23:05.424Z"
      },
      {
        "duration": 16,
        "start_time": "2022-12-21T19:23:05.895Z"
      },
      {
        "duration": 177,
        "start_time": "2022-12-21T19:23:05.913Z"
      },
      {
        "duration": 4,
        "start_time": "2022-12-21T19:23:06.092Z"
      },
      {
        "duration": 161,
        "start_time": "2022-12-21T19:23:06.098Z"
      },
      {
        "duration": 682,
        "start_time": "2022-12-21T19:25:50.052Z"
      },
      {
        "duration": 1320,
        "start_time": "2022-12-21T19:26:55.317Z"
      },
      {
        "duration": 685,
        "start_time": "2022-12-21T19:26:56.638Z"
      },
      {
        "duration": 4,
        "start_time": "2022-12-21T19:26:57.324Z"
      },
      {
        "duration": 50,
        "start_time": "2022-12-21T19:26:57.330Z"
      },
      {
        "duration": 24,
        "start_time": "2022-12-21T19:26:57.382Z"
      },
      {
        "duration": 260,
        "start_time": "2022-12-21T19:26:57.407Z"
      },
      {
        "duration": 12,
        "start_time": "2022-12-21T19:26:57.669Z"
      },
      {
        "duration": 24,
        "start_time": "2022-12-21T19:26:57.683Z"
      },
      {
        "duration": 15,
        "start_time": "2022-12-21T19:26:57.708Z"
      },
      {
        "duration": 1774,
        "start_time": "2022-12-21T19:26:57.725Z"
      },
      {
        "duration": 1766,
        "start_time": "2022-12-21T19:26:59.501Z"
      },
      {
        "duration": 1860,
        "start_time": "2022-12-21T19:27:01.275Z"
      },
      {
        "duration": 798,
        "start_time": "2022-12-21T19:27:03.137Z"
      },
      {
        "duration": 1276,
        "start_time": "2022-12-21T19:27:03.938Z"
      },
      {
        "duration": 1343,
        "start_time": "2022-12-21T19:27:05.216Z"
      },
      {
        "duration": 1281,
        "start_time": "2022-12-21T19:27:06.562Z"
      },
      {
        "duration": 1431,
        "start_time": "2022-12-21T19:27:07.845Z"
      },
      {
        "duration": 711,
        "start_time": "2022-12-21T19:27:09.278Z"
      },
      {
        "duration": 4,
        "start_time": "2022-12-21T19:27:09.990Z"
      },
      {
        "duration": 558,
        "start_time": "2022-12-21T19:27:09.996Z"
      },
      {
        "duration": 381,
        "start_time": "2022-12-21T19:27:10.555Z"
      },
      {
        "duration": 391,
        "start_time": "2022-12-21T19:27:10.938Z"
      },
      {
        "duration": 14,
        "start_time": "2022-12-21T19:27:11.331Z"
      },
      {
        "duration": 181,
        "start_time": "2022-12-21T19:27:11.347Z"
      },
      {
        "duration": 4,
        "start_time": "2022-12-21T19:27:11.530Z"
      },
      {
        "duration": 1742,
        "start_time": "2022-12-21T19:27:11.535Z"
      },
      {
        "duration": 6166,
        "start_time": "2022-12-21T19:28:01.041Z"
      },
      {
        "duration": 120,
        "start_time": "2022-12-21T19:28:23.818Z"
      },
      {
        "duration": 11,
        "start_time": "2022-12-21T19:28:54.603Z"
      },
      {
        "duration": 3933,
        "start_time": "2022-12-21T19:29:07.382Z"
      },
      {
        "duration": 57549,
        "start_time": "2022-12-21T19:29:25.512Z"
      },
      {
        "duration": 10,
        "start_time": "2022-12-21T19:30:55.641Z"
      },
      {
        "duration": 12,
        "start_time": "2022-12-21T19:31:05.191Z"
      },
      {
        "duration": 1340,
        "start_time": "2022-12-21T20:01:31.394Z"
      },
      {
        "duration": 685,
        "start_time": "2022-12-21T20:01:32.735Z"
      },
      {
        "duration": 3,
        "start_time": "2022-12-21T20:01:33.422Z"
      },
      {
        "duration": 69,
        "start_time": "2022-12-21T20:01:33.427Z"
      },
      {
        "duration": 26,
        "start_time": "2022-12-21T20:01:33.498Z"
      },
      {
        "duration": 327,
        "start_time": "2022-12-21T20:01:33.526Z"
      },
      {
        "duration": 8,
        "start_time": "2022-12-21T20:01:33.854Z"
      },
      {
        "duration": 19,
        "start_time": "2022-12-21T20:01:33.876Z"
      },
      {
        "duration": 14,
        "start_time": "2022-12-21T20:01:33.897Z"
      },
      {
        "duration": 1993,
        "start_time": "2022-12-21T20:01:33.914Z"
      },
      {
        "duration": 1848,
        "start_time": "2022-12-21T20:01:35.909Z"
      },
      {
        "duration": 2022,
        "start_time": "2022-12-21T20:01:37.758Z"
      },
      {
        "duration": 677,
        "start_time": "2022-12-21T20:01:39.781Z"
      },
      {
        "duration": 1016,
        "start_time": "2022-12-21T20:01:40.460Z"
      },
      {
        "duration": 1145,
        "start_time": "2022-12-21T20:01:41.478Z"
      },
      {
        "duration": 1170,
        "start_time": "2022-12-21T20:01:42.624Z"
      },
      {
        "duration": 1545,
        "start_time": "2022-12-21T20:01:43.797Z"
      },
      {
        "duration": 667,
        "start_time": "2022-12-21T20:01:45.344Z"
      },
      {
        "duration": 5,
        "start_time": "2022-12-21T20:01:46.013Z"
      },
      {
        "duration": 532,
        "start_time": "2022-12-21T20:01:46.020Z"
      },
      {
        "duration": 380,
        "start_time": "2022-12-21T20:01:46.554Z"
      },
      {
        "duration": 395,
        "start_time": "2022-12-21T20:01:46.936Z"
      },
      {
        "duration": 14,
        "start_time": "2022-12-21T20:01:47.333Z"
      },
      {
        "duration": 3,
        "start_time": "2022-12-21T20:01:47.348Z"
      },
      {
        "duration": 2626,
        "start_time": "2022-12-21T20:01:47.352Z"
      },
      {
        "duration": 9868,
        "start_time": "2022-12-21T20:01:49.981Z"
      },
      {
        "duration": 89825,
        "start_time": "2022-12-21T20:01:59.851Z"
      },
      {
        "duration": 115,
        "start_time": "2022-12-21T20:03:29.679Z"
      },
      {
        "duration": 164,
        "start_time": "2022-12-21T20:05:45.827Z"
      },
      {
        "duration": 1380,
        "start_time": "2022-12-21T20:06:03.287Z"
      },
      {
        "duration": 756,
        "start_time": "2022-12-21T20:06:04.669Z"
      },
      {
        "duration": 4,
        "start_time": "2022-12-21T20:06:05.426Z"
      },
      {
        "duration": 59,
        "start_time": "2022-12-21T20:06:05.432Z"
      },
      {
        "duration": 27,
        "start_time": "2022-12-21T20:06:05.493Z"
      },
      {
        "duration": 282,
        "start_time": "2022-12-21T20:06:05.522Z"
      },
      {
        "duration": 7,
        "start_time": "2022-12-21T20:06:05.806Z"
      },
      {
        "duration": 28,
        "start_time": "2022-12-21T20:06:05.815Z"
      },
      {
        "duration": 14,
        "start_time": "2022-12-21T20:06:05.845Z"
      },
      {
        "duration": 171,
        "start_time": "2022-12-21T20:06:05.877Z"
      },
      {
        "duration": 800,
        "start_time": "2022-12-21T20:06:06.049Z"
      },
      {
        "duration": 0,
        "start_time": "2022-12-21T20:06:06.851Z"
      },
      {
        "duration": 0,
        "start_time": "2022-12-21T20:06:06.853Z"
      },
      {
        "duration": 0,
        "start_time": "2022-12-21T20:06:06.855Z"
      },
      {
        "duration": 0,
        "start_time": "2022-12-21T20:06:06.856Z"
      },
      {
        "duration": 0,
        "start_time": "2022-12-21T20:06:06.857Z"
      },
      {
        "duration": 0,
        "start_time": "2022-12-21T20:06:06.859Z"
      },
      {
        "duration": 0,
        "start_time": "2022-12-21T20:06:06.860Z"
      },
      {
        "duration": 1,
        "start_time": "2022-12-21T20:06:06.861Z"
      },
      {
        "duration": 0,
        "start_time": "2022-12-21T20:06:06.863Z"
      },
      {
        "duration": 0,
        "start_time": "2022-12-21T20:06:06.864Z"
      },
      {
        "duration": 0,
        "start_time": "2022-12-21T20:06:06.865Z"
      },
      {
        "duration": 0,
        "start_time": "2022-12-21T20:06:06.867Z"
      },
      {
        "duration": 0,
        "start_time": "2022-12-21T20:06:06.868Z"
      },
      {
        "duration": 0,
        "start_time": "2022-12-21T20:06:06.869Z"
      },
      {
        "duration": 0,
        "start_time": "2022-12-21T20:06:06.871Z"
      },
      {
        "duration": 0,
        "start_time": "2022-12-21T20:06:06.872Z"
      },
      {
        "duration": 0,
        "start_time": "2022-12-21T20:06:06.873Z"
      },
      {
        "duration": 0,
        "start_time": "2022-12-21T20:06:06.875Z"
      },
      {
        "duration": 1338,
        "start_time": "2022-12-21T20:06:32.396Z"
      },
      {
        "duration": 665,
        "start_time": "2022-12-21T20:06:33.735Z"
      },
      {
        "duration": 4,
        "start_time": "2022-12-21T20:06:34.401Z"
      },
      {
        "duration": 87,
        "start_time": "2022-12-21T20:06:34.406Z"
      },
      {
        "duration": 25,
        "start_time": "2022-12-21T20:06:34.495Z"
      },
      {
        "duration": 261,
        "start_time": "2022-12-21T20:06:34.522Z"
      },
      {
        "duration": 8,
        "start_time": "2022-12-21T20:06:34.785Z"
      },
      {
        "duration": 31,
        "start_time": "2022-12-21T20:06:34.795Z"
      },
      {
        "duration": 15,
        "start_time": "2022-12-21T20:06:34.828Z"
      },
      {
        "duration": 172,
        "start_time": "2022-12-21T20:06:34.845Z"
      },
      {
        "duration": 869,
        "start_time": "2022-12-21T20:06:35.019Z"
      },
      {
        "duration": 0,
        "start_time": "2022-12-21T20:06:35.891Z"
      },
      {
        "duration": 0,
        "start_time": "2022-12-21T20:06:35.893Z"
      },
      {
        "duration": 0,
        "start_time": "2022-12-21T20:06:35.894Z"
      },
      {
        "duration": 1,
        "start_time": "2022-12-21T20:06:35.895Z"
      },
      {
        "duration": 0,
        "start_time": "2022-12-21T20:06:35.897Z"
      },
      {
        "duration": 0,
        "start_time": "2022-12-21T20:06:35.899Z"
      },
      {
        "duration": 0,
        "start_time": "2022-12-21T20:06:35.900Z"
      },
      {
        "duration": 0,
        "start_time": "2022-12-21T20:06:35.902Z"
      },
      {
        "duration": 0,
        "start_time": "2022-12-21T20:06:35.904Z"
      },
      {
        "duration": 0,
        "start_time": "2022-12-21T20:06:35.905Z"
      },
      {
        "duration": 0,
        "start_time": "2022-12-21T20:06:35.907Z"
      },
      {
        "duration": 0,
        "start_time": "2022-12-21T20:06:35.908Z"
      },
      {
        "duration": 0,
        "start_time": "2022-12-21T20:06:35.909Z"
      },
      {
        "duration": 0,
        "start_time": "2022-12-21T20:06:35.910Z"
      },
      {
        "duration": 0,
        "start_time": "2022-12-21T20:06:35.911Z"
      },
      {
        "duration": 0,
        "start_time": "2022-12-21T20:06:35.913Z"
      },
      {
        "duration": 0,
        "start_time": "2022-12-21T20:06:35.914Z"
      },
      {
        "duration": 0,
        "start_time": "2022-12-21T20:06:35.915Z"
      },
      {
        "duration": 699,
        "start_time": "2022-12-21T20:07:42.789Z"
      },
      {
        "duration": 1291,
        "start_time": "2022-12-21T20:09:39.094Z"
      },
      {
        "duration": 678,
        "start_time": "2022-12-21T20:09:40.387Z"
      },
      {
        "duration": 3,
        "start_time": "2022-12-21T20:09:41.067Z"
      },
      {
        "duration": 55,
        "start_time": "2022-12-21T20:09:41.072Z"
      },
      {
        "duration": 24,
        "start_time": "2022-12-21T20:09:41.129Z"
      },
      {
        "duration": 246,
        "start_time": "2022-12-21T20:09:41.154Z"
      },
      {
        "duration": 7,
        "start_time": "2022-12-21T20:09:41.402Z"
      },
      {
        "duration": 26,
        "start_time": "2022-12-21T20:09:41.410Z"
      },
      {
        "duration": 14,
        "start_time": "2022-12-21T20:09:41.438Z"
      },
      {
        "duration": 1756,
        "start_time": "2022-12-21T20:09:41.455Z"
      },
      {
        "duration": 1871,
        "start_time": "2022-12-21T20:09:43.213Z"
      },
      {
        "duration": 1730,
        "start_time": "2022-12-21T20:09:45.086Z"
      },
      {
        "duration": 663,
        "start_time": "2022-12-21T20:09:46.818Z"
      },
      {
        "duration": 1087,
        "start_time": "2022-12-21T20:09:47.482Z"
      },
      {
        "duration": 1171,
        "start_time": "2022-12-21T20:09:48.570Z"
      },
      {
        "duration": 1139,
        "start_time": "2022-12-21T20:09:49.743Z"
      },
      {
        "duration": 1351,
        "start_time": "2022-12-21T20:09:50.884Z"
      },
      {
        "duration": 769,
        "start_time": "2022-12-21T20:09:52.236Z"
      },
      {
        "duration": 3,
        "start_time": "2022-12-21T20:09:53.007Z"
      },
      {
        "duration": 418,
        "start_time": "2022-12-21T20:09:53.012Z"
      },
      {
        "duration": 391,
        "start_time": "2022-12-21T20:09:53.431Z"
      },
      {
        "duration": 438,
        "start_time": "2022-12-21T20:09:53.824Z"
      },
      {
        "duration": 22,
        "start_time": "2022-12-21T20:09:54.263Z"
      },
      {
        "duration": 4,
        "start_time": "2022-12-21T20:09:54.286Z"
      },
      {
        "duration": 1894,
        "start_time": "2022-12-21T20:09:54.291Z"
      },
      {
        "duration": 10022,
        "start_time": "2022-12-21T20:09:56.276Z"
      },
      {
        "duration": 90691,
        "start_time": "2022-12-21T20:10:06.299Z"
      },
      {
        "duration": 131,
        "start_time": "2022-12-21T20:11:36.994Z"
      },
      {
        "duration": 13,
        "start_time": "2022-12-21T20:12:17.520Z"
      },
      {
        "duration": 32491,
        "start_time": "2022-12-21T20:59:23.082Z"
      },
      {
        "duration": 246,
        "start_time": "2022-12-21T21:00:53.226Z"
      },
      {
        "duration": 271,
        "start_time": "2022-12-21T21:01:08.500Z"
      },
      {
        "duration": 295,
        "start_time": "2022-12-21T21:03:58.169Z"
      },
      {
        "duration": 15,
        "start_time": "2022-12-21T21:04:33.039Z"
      },
      {
        "duration": 13,
        "start_time": "2022-12-21T21:04:36.774Z"
      },
      {
        "duration": 15,
        "start_time": "2022-12-21T21:04:43.205Z"
      },
      {
        "duration": 22,
        "start_time": "2022-12-21T21:04:45.301Z"
      },
      {
        "duration": 11,
        "start_time": "2022-12-21T21:05:00.461Z"
      },
      {
        "duration": 309,
        "start_time": "2022-12-21T21:05:28.870Z"
      },
      {
        "duration": 293,
        "start_time": "2022-12-21T21:05:33.753Z"
      },
      {
        "duration": 14,
        "start_time": "2022-12-21T21:06:39.308Z"
      },
      {
        "duration": 9,
        "start_time": "2022-12-21T21:06:44.512Z"
      },
      {
        "duration": 7,
        "start_time": "2022-12-21T21:07:21.285Z"
      },
      {
        "duration": 8,
        "start_time": "2022-12-21T21:07:30.263Z"
      },
      {
        "duration": 21,
        "start_time": "2022-12-21T21:07:35.302Z"
      },
      {
        "duration": 8,
        "start_time": "2022-12-21T21:07:43.293Z"
      },
      {
        "duration": 291,
        "start_time": "2022-12-21T21:08:40.992Z"
      },
      {
        "duration": 301,
        "start_time": "2022-12-21T21:10:01.340Z"
      },
      {
        "duration": 279,
        "start_time": "2022-12-21T21:10:31.204Z"
      },
      {
        "duration": 317,
        "start_time": "2022-12-21T21:12:16.340Z"
      },
      {
        "duration": 286,
        "start_time": "2022-12-21T21:13:24.253Z"
      },
      {
        "duration": 2082,
        "start_time": "2022-12-21T21:15:03.739Z"
      },
      {
        "duration": 1484,
        "start_time": "2022-12-21T21:17:23.452Z"
      },
      {
        "duration": 752,
        "start_time": "2022-12-21T21:17:24.939Z"
      },
      {
        "duration": 3,
        "start_time": "2022-12-21T21:17:25.693Z"
      },
      {
        "duration": 48,
        "start_time": "2022-12-21T21:17:25.698Z"
      },
      {
        "duration": 36,
        "start_time": "2022-12-21T21:17:25.748Z"
      },
      {
        "duration": 245,
        "start_time": "2022-12-21T21:17:25.785Z"
      },
      {
        "duration": 8,
        "start_time": "2022-12-21T21:17:26.032Z"
      },
      {
        "duration": 24,
        "start_time": "2022-12-21T21:17:26.041Z"
      },
      {
        "duration": 1752,
        "start_time": "2022-12-21T21:17:26.067Z"
      },
      {
        "duration": 1778,
        "start_time": "2022-12-21T21:17:27.822Z"
      },
      {
        "duration": 1806,
        "start_time": "2022-12-21T21:17:29.602Z"
      },
      {
        "duration": 694,
        "start_time": "2022-12-21T21:17:31.409Z"
      },
      {
        "duration": 1153,
        "start_time": "2022-12-21T21:17:32.105Z"
      },
      {
        "duration": 1080,
        "start_time": "2022-12-21T21:17:33.260Z"
      },
      {
        "duration": 1286,
        "start_time": "2022-12-21T21:17:34.342Z"
      },
      {
        "duration": 1480,
        "start_time": "2022-12-21T21:17:35.629Z"
      },
      {
        "duration": 825,
        "start_time": "2022-12-21T21:17:37.111Z"
      },
      {
        "duration": 4,
        "start_time": "2022-12-21T21:17:37.937Z"
      },
      {
        "duration": 422,
        "start_time": "2022-12-21T21:17:37.943Z"
      },
      {
        "duration": 436,
        "start_time": "2022-12-21T21:17:38.366Z"
      },
      {
        "duration": 418,
        "start_time": "2022-12-21T21:17:38.804Z"
      },
      {
        "duration": 15,
        "start_time": "2022-12-21T21:17:39.224Z"
      },
      {
        "duration": 181,
        "start_time": "2022-12-21T21:17:39.240Z"
      },
      {
        "duration": 3,
        "start_time": "2022-12-21T21:17:39.423Z"
      },
      {
        "duration": 1555,
        "start_time": "2022-12-21T21:17:39.427Z"
      },
      {
        "duration": 6336,
        "start_time": "2022-12-21T21:17:40.984Z"
      },
      {
        "duration": 55883,
        "start_time": "2022-12-21T21:17:47.322Z"
      },
      {
        "duration": 11,
        "start_time": "2022-12-21T21:18:43.209Z"
      },
      {
        "duration": 1427,
        "start_time": "2022-12-21T21:19:23.950Z"
      },
      {
        "duration": 686,
        "start_time": "2022-12-21T21:19:25.378Z"
      },
      {
        "duration": 3,
        "start_time": "2022-12-21T21:19:26.066Z"
      },
      {
        "duration": 46,
        "start_time": "2022-12-21T21:19:26.070Z"
      },
      {
        "duration": 24,
        "start_time": "2022-12-21T21:19:26.118Z"
      },
      {
        "duration": 250,
        "start_time": "2022-12-21T21:19:26.144Z"
      },
      {
        "duration": 7,
        "start_time": "2022-12-21T21:19:26.395Z"
      },
      {
        "duration": 14,
        "start_time": "2022-12-21T21:19:26.404Z"
      },
      {
        "duration": 1740,
        "start_time": "2022-12-21T21:19:26.419Z"
      },
      {
        "duration": 1722,
        "start_time": "2022-12-21T21:19:28.161Z"
      },
      {
        "duration": 1809,
        "start_time": "2022-12-21T21:19:29.885Z"
      },
      {
        "duration": 717,
        "start_time": "2022-12-21T21:19:31.696Z"
      },
      {
        "duration": 1203,
        "start_time": "2022-12-21T21:19:32.415Z"
      },
      {
        "duration": 1085,
        "start_time": "2022-12-21T21:19:33.621Z"
      },
      {
        "duration": 1240,
        "start_time": "2022-12-21T21:19:34.708Z"
      },
      {
        "duration": 1443,
        "start_time": "2022-12-21T21:19:35.950Z"
      },
      {
        "duration": 845,
        "start_time": "2022-12-21T21:19:37.395Z"
      },
      {
        "duration": 4,
        "start_time": "2022-12-21T21:19:38.241Z"
      },
      {
        "duration": 403,
        "start_time": "2022-12-21T21:19:38.246Z"
      },
      {
        "duration": 390,
        "start_time": "2022-12-21T21:19:38.650Z"
      },
      {
        "duration": 400,
        "start_time": "2022-12-21T21:19:39.041Z"
      },
      {
        "duration": 14,
        "start_time": "2022-12-21T21:19:39.442Z"
      },
      {
        "duration": 177,
        "start_time": "2022-12-21T21:19:39.458Z"
      },
      {
        "duration": 3,
        "start_time": "2022-12-21T21:19:39.636Z"
      },
      {
        "duration": 1438,
        "start_time": "2022-12-21T21:19:39.641Z"
      },
      {
        "duration": 6006,
        "start_time": "2022-12-21T21:19:41.084Z"
      },
      {
        "duration": 54354,
        "start_time": "2022-12-21T21:19:47.092Z"
      },
      {
        "duration": 10,
        "start_time": "2022-12-21T21:20:41.448Z"
      },
      {
        "duration": 116,
        "start_time": "2022-12-21T21:22:08.787Z"
      },
      {
        "duration": 735,
        "start_time": "2022-12-21T21:31:29.240Z"
      },
      {
        "duration": 697,
        "start_time": "2022-12-21T21:32:39.209Z"
      },
      {
        "duration": 9,
        "start_time": "2022-12-21T21:39:23.678Z"
      },
      {
        "duration": 5,
        "start_time": "2022-12-21T21:39:38.505Z"
      },
      {
        "duration": 2,
        "start_time": "2022-12-21T21:39:44.239Z"
      },
      {
        "duration": 10,
        "start_time": "2022-12-21T21:40:31.579Z"
      },
      {
        "duration": 743,
        "start_time": "2022-12-21T21:40:55.668Z"
      },
      {
        "duration": 3,
        "start_time": "2022-12-21T21:59:32.434Z"
      },
      {
        "duration": 10,
        "start_time": "2022-12-21T22:00:45.837Z"
      },
      {
        "duration": 15,
        "start_time": "2022-12-21T22:00:56.568Z"
      },
      {
        "duration": 1352,
        "start_time": "2022-12-21T22:01:15.961Z"
      },
      {
        "duration": 670,
        "start_time": "2022-12-21T22:01:17.314Z"
      },
      {
        "duration": 4,
        "start_time": "2022-12-21T22:01:17.986Z"
      },
      {
        "duration": 49,
        "start_time": "2022-12-21T22:01:17.992Z"
      },
      {
        "duration": 46,
        "start_time": "2022-12-21T22:01:18.044Z"
      },
      {
        "duration": 249,
        "start_time": "2022-12-21T22:01:18.092Z"
      },
      {
        "duration": 8,
        "start_time": "2022-12-21T22:01:18.343Z"
      },
      {
        "duration": 28,
        "start_time": "2022-12-21T22:01:18.353Z"
      },
      {
        "duration": 13,
        "start_time": "2022-12-21T22:01:18.383Z"
      },
      {
        "duration": 1746,
        "start_time": "2022-12-21T22:01:18.398Z"
      },
      {
        "duration": 1727,
        "start_time": "2022-12-21T22:01:20.145Z"
      },
      {
        "duration": 1771,
        "start_time": "2022-12-21T22:01:21.873Z"
      },
      {
        "duration": 665,
        "start_time": "2022-12-21T22:01:23.646Z"
      },
      {
        "duration": 1188,
        "start_time": "2022-12-21T22:01:24.313Z"
      },
      {
        "duration": 1043,
        "start_time": "2022-12-21T22:01:25.502Z"
      },
      {
        "duration": 1140,
        "start_time": "2022-12-21T22:01:26.546Z"
      },
      {
        "duration": 1351,
        "start_time": "2022-12-21T22:01:27.687Z"
      },
      {
        "duration": 791,
        "start_time": "2022-12-21T22:01:29.040Z"
      },
      {
        "duration": 5,
        "start_time": "2022-12-21T22:01:29.833Z"
      },
      {
        "duration": 462,
        "start_time": "2022-12-21T22:01:29.839Z"
      },
      {
        "duration": 421,
        "start_time": "2022-12-21T22:01:30.303Z"
      },
      {
        "duration": 415,
        "start_time": "2022-12-21T22:01:30.726Z"
      },
      {
        "duration": 3,
        "start_time": "2022-12-21T22:01:31.143Z"
      },
      {
        "duration": 37,
        "start_time": "2022-12-21T22:01:31.147Z"
      },
      {
        "duration": 32,
        "start_time": "2022-12-21T22:01:31.186Z"
      },
      {
        "duration": 3,
        "start_time": "2022-12-21T22:03:22.198Z"
      },
      {
        "duration": 3,
        "start_time": "2022-12-21T22:03:22.410Z"
      },
      {
        "duration": 103,
        "start_time": "2022-12-21T22:03:37.417Z"
      },
      {
        "duration": 10,
        "start_time": "2022-12-21T22:04:31.009Z"
      },
      {
        "duration": 3,
        "start_time": "2022-12-21T22:05:58.471Z"
      },
      {
        "duration": 3,
        "start_time": "2022-12-21T22:07:50.478Z"
      },
      {
        "duration": 3,
        "start_time": "2022-12-21T22:07:58.753Z"
      },
      {
        "duration": 1185,
        "start_time": "2022-12-21T22:08:45.992Z"
      },
      {
        "duration": 1340,
        "start_time": "2022-12-21T22:09:27.837Z"
      },
      {
        "duration": 8,
        "start_time": "2022-12-21T22:09:45.039Z"
      },
      {
        "duration": 4,
        "start_time": "2022-12-21T22:10:05.499Z"
      },
      {
        "duration": 3098,
        "start_time": "2022-12-21T22:11:40.682Z"
      },
      {
        "duration": 3268,
        "start_time": "2022-12-21T22:12:14.072Z"
      },
      {
        "duration": 10,
        "start_time": "2022-12-21T22:12:24.549Z"
      },
      {
        "duration": 4,
        "start_time": "2022-12-21T22:12:34.249Z"
      },
      {
        "duration": 46707,
        "start_time": "2022-12-21T22:12:57.099Z"
      },
      {
        "duration": 4,
        "start_time": "2022-12-21T22:13:59.966Z"
      },
      {
        "duration": 46265,
        "start_time": "2022-12-21T22:14:29.737Z"
      },
      {
        "duration": 9,
        "start_time": "2022-12-21T22:15:52.425Z"
      },
      {
        "duration": 4,
        "start_time": "2022-12-21T22:16:19.269Z"
      },
      {
        "duration": 31512,
        "start_time": "2022-12-21T22:17:16.960Z"
      },
      {
        "duration": 30523,
        "start_time": "2022-12-21T22:17:51.130Z"
      },
      {
        "duration": 9,
        "start_time": "2022-12-21T22:18:56.010Z"
      },
      {
        "duration": 4,
        "start_time": "2022-12-21T22:19:08.930Z"
      },
      {
        "duration": 1379,
        "start_time": "2022-12-21T22:23:51.050Z"
      },
      {
        "duration": 714,
        "start_time": "2022-12-21T22:23:52.431Z"
      },
      {
        "duration": 3,
        "start_time": "2022-12-21T22:23:53.146Z"
      },
      {
        "duration": 52,
        "start_time": "2022-12-21T22:23:53.151Z"
      },
      {
        "duration": 24,
        "start_time": "2022-12-21T22:23:53.205Z"
      },
      {
        "duration": 283,
        "start_time": "2022-12-21T22:23:53.231Z"
      },
      {
        "duration": 8,
        "start_time": "2022-12-21T22:23:53.516Z"
      },
      {
        "duration": 18,
        "start_time": "2022-12-21T22:23:53.526Z"
      },
      {
        "duration": 30,
        "start_time": "2022-12-21T22:23:53.546Z"
      },
      {
        "duration": 1924,
        "start_time": "2022-12-21T22:23:53.578Z"
      },
      {
        "duration": 1924,
        "start_time": "2022-12-21T22:23:55.504Z"
      },
      {
        "duration": 1979,
        "start_time": "2022-12-21T22:23:57.429Z"
      },
      {
        "duration": 743,
        "start_time": "2022-12-21T22:23:59.410Z"
      },
      {
        "duration": 1220,
        "start_time": "2022-12-21T22:24:00.157Z"
      },
      {
        "duration": 1116,
        "start_time": "2022-12-21T22:24:01.379Z"
      },
      {
        "duration": 1317,
        "start_time": "2022-12-21T22:24:02.497Z"
      },
      {
        "duration": 1564,
        "start_time": "2022-12-21T22:24:03.816Z"
      },
      {
        "duration": 895,
        "start_time": "2022-12-21T22:24:05.381Z"
      },
      {
        "duration": 4,
        "start_time": "2022-12-21T22:24:06.278Z"
      },
      {
        "duration": 479,
        "start_time": "2022-12-21T22:24:06.283Z"
      },
      {
        "duration": 433,
        "start_time": "2022-12-21T22:24:06.764Z"
      },
      {
        "duration": 454,
        "start_time": "2022-12-21T22:24:07.199Z"
      },
      {
        "duration": 3,
        "start_time": "2022-12-21T22:24:07.655Z"
      },
      {
        "duration": 6,
        "start_time": "2022-12-21T22:24:07.659Z"
      },
      {
        "duration": 3,
        "start_time": "2022-12-21T22:24:07.676Z"
      },
      {
        "duration": 16,
        "start_time": "2022-12-21T22:24:07.681Z"
      },
      {
        "duration": 6,
        "start_time": "2022-12-21T22:24:07.698Z"
      },
      {
        "duration": 5,
        "start_time": "2022-12-21T22:24:07.705Z"
      },
      {
        "duration": 1371,
        "start_time": "2022-12-21T22:24:07.711Z"
      },
      {
        "duration": 1391,
        "start_time": "2022-12-21T22:24:09.084Z"
      },
      {
        "duration": 4,
        "start_time": "2022-12-21T22:24:10.478Z"
      },
      {
        "duration": 3235,
        "start_time": "2022-12-21T22:24:10.485Z"
      },
      {
        "duration": 3146,
        "start_time": "2022-12-21T22:24:13.722Z"
      },
      {
        "duration": 6,
        "start_time": "2022-12-21T22:24:16.870Z"
      },
      {
        "duration": 46850,
        "start_time": "2022-12-21T22:24:16.877Z"
      },
      {
        "duration": 4,
        "start_time": "2022-12-21T22:25:03.729Z"
      },
      {
        "duration": 48183,
        "start_time": "2022-12-21T22:25:03.735Z"
      },
      {
        "duration": 3,
        "start_time": "2022-12-21T22:25:51.920Z"
      },
      {
        "duration": 31973,
        "start_time": "2022-12-21T22:25:51.925Z"
      },
      {
        "duration": 30327,
        "start_time": "2022-12-21T22:26:23.900Z"
      },
      {
        "duration": 4,
        "start_time": "2022-12-21T22:26:54.230Z"
      },
      {
        "duration": 1930775,
        "start_time": "2022-12-21T22:26:54.236Z"
      },
      {
        "duration": 4,
        "start_time": "2022-12-21T22:59:05.012Z"
      },
      {
        "duration": 1811955,
        "start_time": "2022-12-21T22:59:05.017Z"
      },
      {
        "duration": 3,
        "start_time": "2022-12-21T23:29:16.976Z"
      },
      {
        "duration": 7,
        "start_time": "2022-12-21T23:29:16.980Z"
      },
      {
        "duration": 44,
        "start_time": "2022-12-22T13:09:01.420Z"
      },
      {
        "duration": 7,
        "start_time": "2022-12-22T13:09:53.412Z"
      },
      {
        "duration": 1476,
        "start_time": "2022-12-22T13:10:05.711Z"
      },
      {
        "duration": 3005,
        "start_time": "2022-12-22T13:10:07.190Z"
      },
      {
        "duration": 4,
        "start_time": "2022-12-22T13:10:10.197Z"
      },
      {
        "duration": 57,
        "start_time": "2022-12-22T13:10:10.202Z"
      },
      {
        "duration": 23,
        "start_time": "2022-12-22T13:10:10.261Z"
      },
      {
        "duration": 241,
        "start_time": "2022-12-22T13:10:10.286Z"
      },
      {
        "duration": 7,
        "start_time": "2022-12-22T13:10:10.529Z"
      },
      {
        "duration": 14,
        "start_time": "2022-12-22T13:10:10.537Z"
      },
      {
        "duration": 30,
        "start_time": "2022-12-22T13:10:10.552Z"
      },
      {
        "duration": 1774,
        "start_time": "2022-12-22T13:10:10.583Z"
      },
      {
        "duration": 1807,
        "start_time": "2022-12-22T13:10:12.359Z"
      },
      {
        "duration": 1850,
        "start_time": "2022-12-22T13:10:14.167Z"
      },
      {
        "duration": 655,
        "start_time": "2022-12-22T13:10:16.018Z"
      },
      {
        "duration": 1142,
        "start_time": "2022-12-22T13:10:16.677Z"
      },
      {
        "duration": 1044,
        "start_time": "2022-12-22T13:10:17.821Z"
      },
      {
        "duration": 1280,
        "start_time": "2022-12-22T13:10:18.868Z"
      },
      {
        "duration": 1462,
        "start_time": "2022-12-22T13:10:20.150Z"
      },
      {
        "duration": 787,
        "start_time": "2022-12-22T13:10:21.614Z"
      },
      {
        "duration": 4,
        "start_time": "2022-12-22T13:10:22.403Z"
      },
      {
        "duration": 425,
        "start_time": "2022-12-22T13:10:22.409Z"
      },
      {
        "duration": 414,
        "start_time": "2022-12-22T13:10:22.836Z"
      },
      {
        "duration": 441,
        "start_time": "2022-12-22T13:10:23.251Z"
      },
      {
        "duration": 4,
        "start_time": "2022-12-22T13:10:23.694Z"
      },
      {
        "duration": 7,
        "start_time": "2022-12-22T13:10:23.700Z"
      },
      {
        "duration": 9,
        "start_time": "2022-12-22T13:10:23.708Z"
      },
      {
        "duration": 15,
        "start_time": "2022-12-22T13:10:23.718Z"
      },
      {
        "duration": 3,
        "start_time": "2022-12-22T13:10:23.734Z"
      },
      {
        "duration": 5,
        "start_time": "2022-12-22T13:10:23.738Z"
      },
      {
        "duration": 1738,
        "start_time": "2022-12-22T13:10:23.745Z"
      },
      {
        "duration": 1495,
        "start_time": "2022-12-22T13:10:25.485Z"
      },
      {
        "duration": 94,
        "start_time": "2022-12-22T13:10:26.982Z"
      },
      {
        "duration": 3106,
        "start_time": "2022-12-22T13:10:27.079Z"
      },
      {
        "duration": 2986,
        "start_time": "2022-12-22T13:10:30.186Z"
      },
      {
        "duration": 3,
        "start_time": "2022-12-22T13:10:33.175Z"
      },
      {
        "duration": 45129,
        "start_time": "2022-12-22T13:10:33.180Z"
      },
      {
        "duration": 3,
        "start_time": "2022-12-22T13:11:18.311Z"
      },
      {
        "duration": 47897,
        "start_time": "2022-12-22T13:11:18.316Z"
      },
      {
        "duration": 4,
        "start_time": "2022-12-22T13:12:06.215Z"
      },
      {
        "duration": 31026,
        "start_time": "2022-12-22T13:12:06.220Z"
      },
      {
        "duration": 30530,
        "start_time": "2022-12-22T13:12:37.247Z"
      },
      {
        "duration": 3,
        "start_time": "2022-12-22T13:13:07.781Z"
      },
      {
        "duration": 1337,
        "start_time": "2022-12-22T13:14:01.366Z"
      },
      {
        "duration": 620,
        "start_time": "2022-12-22T13:14:02.705Z"
      },
      {
        "duration": 4,
        "start_time": "2022-12-22T13:14:03.326Z"
      },
      {
        "duration": 51,
        "start_time": "2022-12-22T13:14:03.331Z"
      },
      {
        "duration": 23,
        "start_time": "2022-12-22T13:14:03.384Z"
      },
      {
        "duration": 282,
        "start_time": "2022-12-22T13:14:03.409Z"
      },
      {
        "duration": 8,
        "start_time": "2022-12-22T13:14:03.693Z"
      },
      {
        "duration": 41,
        "start_time": "2022-12-22T13:14:03.702Z"
      },
      {
        "duration": 13,
        "start_time": "2022-12-22T13:14:03.745Z"
      },
      {
        "duration": 1968,
        "start_time": "2022-12-22T13:14:03.760Z"
      },
      {
        "duration": 1883,
        "start_time": "2022-12-22T13:14:05.730Z"
      },
      {
        "duration": 1845,
        "start_time": "2022-12-22T13:14:07.615Z"
      },
      {
        "duration": 652,
        "start_time": "2022-12-22T13:14:09.462Z"
      },
      {
        "duration": 1141,
        "start_time": "2022-12-22T13:14:10.117Z"
      },
      {
        "duration": 1000,
        "start_time": "2022-12-22T13:14:11.260Z"
      },
      {
        "duration": 1184,
        "start_time": "2022-12-22T13:14:12.262Z"
      },
      {
        "duration": 1388,
        "start_time": "2022-12-22T13:14:13.448Z"
      },
      {
        "duration": 805,
        "start_time": "2022-12-22T13:14:14.838Z"
      },
      {
        "duration": 5,
        "start_time": "2022-12-22T13:14:15.645Z"
      },
      {
        "duration": 425,
        "start_time": "2022-12-22T13:14:15.651Z"
      },
      {
        "duration": 404,
        "start_time": "2022-12-22T13:14:16.078Z"
      },
      {
        "duration": 419,
        "start_time": "2022-12-22T13:14:16.484Z"
      },
      {
        "duration": 3,
        "start_time": "2022-12-22T13:14:16.905Z"
      },
      {
        "duration": 6,
        "start_time": "2022-12-22T13:14:16.909Z"
      },
      {
        "duration": 6,
        "start_time": "2022-12-22T13:14:16.917Z"
      },
      {
        "duration": 14,
        "start_time": "2022-12-22T13:14:16.924Z"
      },
      {
        "duration": 5,
        "start_time": "2022-12-22T13:14:16.940Z"
      },
      {
        "duration": 6,
        "start_time": "2022-12-22T13:14:16.946Z"
      },
      {
        "duration": 1122,
        "start_time": "2022-12-22T13:14:16.953Z"
      },
      {
        "duration": 1400,
        "start_time": "2022-12-22T13:14:18.078Z"
      },
      {
        "duration": 5,
        "start_time": "2022-12-22T13:14:19.480Z"
      },
      {
        "duration": 3143,
        "start_time": "2022-12-22T13:14:19.487Z"
      },
      {
        "duration": 3127,
        "start_time": "2022-12-22T13:14:22.631Z"
      },
      {
        "duration": 4,
        "start_time": "2022-12-22T13:14:25.759Z"
      },
      {
        "duration": 46995,
        "start_time": "2022-12-22T13:14:25.776Z"
      },
      {
        "duration": 4,
        "start_time": "2022-12-22T13:15:12.775Z"
      },
      {
        "duration": 45605,
        "start_time": "2022-12-22T13:15:12.781Z"
      },
      {
        "duration": 4,
        "start_time": "2022-12-22T13:15:58.387Z"
      },
      {
        "duration": 30841,
        "start_time": "2022-12-22T13:15:58.392Z"
      },
      {
        "duration": 30948,
        "start_time": "2022-12-22T13:16:29.234Z"
      },
      {
        "duration": 3,
        "start_time": "2022-12-22T13:17:00.185Z"
      },
      {
        "duration": 13376,
        "start_time": "2022-12-22T13:17:00.190Z"
      },
      {
        "duration": 11,
        "start_time": "2022-12-22T13:17:13.568Z"
      },
      {
        "duration": 110998,
        "start_time": "2022-12-22T13:17:13.581Z"
      },
      {
        "duration": 4,
        "start_time": "2022-12-22T13:19:04.581Z"
      },
      {
        "duration": 5,
        "start_time": "2022-12-22T13:19:04.586Z"
      },
      {
        "duration": 6,
        "start_time": "2022-12-22T13:19:04.593Z"
      },
      {
        "duration": 4,
        "start_time": "2022-12-22T15:17:39.932Z"
      },
      {
        "duration": 5,
        "start_time": "2022-12-22T15:17:54.970Z"
      },
      {
        "duration": 107,
        "start_time": "2022-12-22T15:40:39.650Z"
      },
      {
        "duration": 3,
        "start_time": "2022-12-22T15:40:45.012Z"
      },
      {
        "duration": 941,
        "start_time": "2022-12-22T15:40:45.634Z"
      },
      {
        "duration": 9,
        "start_time": "2022-12-22T15:59:31.322Z"
      },
      {
        "duration": 2,
        "start_time": "2022-12-22T16:00:02.078Z"
      },
      {
        "duration": 68,
        "start_time": "2022-12-22T16:00:54.816Z"
      },
      {
        "duration": 1095,
        "start_time": "2022-12-22T16:11:36.785Z"
      },
      {
        "duration": 1194,
        "start_time": "2022-12-22T16:12:56.683Z"
      },
      {
        "duration": 1263,
        "start_time": "2022-12-22T16:13:03.817Z"
      },
      {
        "duration": 747,
        "start_time": "2022-12-22T16:13:26.437Z"
      },
      {
        "duration": 3,
        "start_time": "2022-12-22T16:14:19.097Z"
      },
      {
        "duration": 14,
        "start_time": "2022-12-22T16:16:28.691Z"
      },
      {
        "duration": 12127,
        "start_time": "2022-12-22T16:16:35.109Z"
      },
      {
        "duration": 14985,
        "start_time": "2022-12-22T16:17:10.279Z"
      },
      {
        "duration": 12649,
        "start_time": "2022-12-22T16:18:31.335Z"
      },
      {
        "duration": 12486,
        "start_time": "2022-12-22T16:18:51.346Z"
      },
      {
        "duration": 12220,
        "start_time": "2022-12-22T16:20:57.583Z"
      },
      {
        "duration": 22988,
        "start_time": "2022-12-22T16:23:36.139Z"
      },
      {
        "duration": 12495,
        "start_time": "2022-12-22T16:24:07.162Z"
      },
      {
        "duration": 12033,
        "start_time": "2022-12-22T16:28:11.693Z"
      },
      {
        "duration": 13207,
        "start_time": "2022-12-22T16:28:43.952Z"
      },
      {
        "duration": 12464,
        "start_time": "2022-12-22T16:29:49.583Z"
      },
      {
        "duration": 12350,
        "start_time": "2022-12-22T16:30:12.136Z"
      },
      {
        "duration": 12604,
        "start_time": "2022-12-22T16:31:00.939Z"
      },
      {
        "duration": 12472,
        "start_time": "2022-12-22T16:31:30.246Z"
      },
      {
        "duration": 4,
        "start_time": "2022-12-22T16:32:11.019Z"
      },
      {
        "duration": 75,
        "start_time": "2022-12-22T16:32:45.839Z"
      },
      {
        "duration": 45296,
        "start_time": "2022-12-22T16:38:13.748Z"
      },
      {
        "duration": 4,
        "start_time": "2022-12-22T16:39:20.129Z"
      },
      {
        "duration": 46864,
        "start_time": "2022-12-22T16:44:23.697Z"
      },
      {
        "duration": 47584,
        "start_time": "2022-12-22T16:45:10.564Z"
      },
      {
        "duration": 47133,
        "start_time": "2022-12-22T16:49:51.526Z"
      },
      {
        "duration": 4,
        "start_time": "2022-12-22T16:50:41.176Z"
      },
      {
        "duration": 33468,
        "start_time": "2022-12-22T16:51:27.154Z"
      },
      {
        "duration": 4,
        "start_time": "2022-12-22T16:52:00.624Z"
      },
      {
        "duration": 34771,
        "start_time": "2022-12-22T16:54:23.385Z"
      },
      {
        "duration": 4,
        "start_time": "2022-12-22T16:54:58.157Z"
      },
      {
        "duration": 33861,
        "start_time": "2022-12-22T16:59:11.189Z"
      },
      {
        "duration": 35267,
        "start_time": "2022-12-22T17:00:24.983Z"
      },
      {
        "duration": 4,
        "start_time": "2022-12-22T17:01:00.252Z"
      },
      {
        "duration": 3,
        "start_time": "2022-12-22T17:02:57.006Z"
      },
      {
        "duration": 34653,
        "start_time": "2022-12-22T17:04:14.401Z"
      },
      {
        "duration": 35138,
        "start_time": "2022-12-22T17:05:05.389Z"
      },
      {
        "duration": 34689,
        "start_time": "2022-12-22T17:08:03.135Z"
      },
      {
        "duration": 3,
        "start_time": "2022-12-22T17:09:08.485Z"
      },
      {
        "duration": 9,
        "start_time": "2022-12-22T17:09:13.042Z"
      },
      {
        "duration": 10,
        "start_time": "2022-12-22T17:09:19.299Z"
      },
      {
        "duration": 33326,
        "start_time": "2022-12-22T17:10:06.421Z"
      },
      {
        "duration": 4,
        "start_time": "2022-12-22T17:11:05.233Z"
      },
      {
        "duration": 1394,
        "start_time": "2022-12-22T17:11:12.836Z"
      },
      {
        "duration": 1180,
        "start_time": "2022-12-22T17:11:14.231Z"
      },
      {
        "duration": 4,
        "start_time": "2022-12-22T17:11:15.413Z"
      },
      {
        "duration": 43,
        "start_time": "2022-12-22T17:11:15.418Z"
      },
      {
        "duration": 32,
        "start_time": "2022-12-22T17:11:15.463Z"
      },
      {
        "duration": 264,
        "start_time": "2022-12-22T17:11:15.497Z"
      },
      {
        "duration": 14,
        "start_time": "2022-12-22T17:11:15.763Z"
      },
      {
        "duration": 12,
        "start_time": "2022-12-22T17:11:15.779Z"
      },
      {
        "duration": 13,
        "start_time": "2022-12-22T17:11:15.793Z"
      },
      {
        "duration": 1864,
        "start_time": "2022-12-22T17:11:15.808Z"
      },
      {
        "duration": 1887,
        "start_time": "2022-12-22T17:11:17.676Z"
      },
      {
        "duration": 1816,
        "start_time": "2022-12-22T17:11:19.565Z"
      },
      {
        "duration": 702,
        "start_time": "2022-12-22T17:11:21.383Z"
      },
      {
        "duration": 1204,
        "start_time": "2022-12-22T17:11:22.089Z"
      },
      {
        "duration": 1231,
        "start_time": "2022-12-22T17:11:23.294Z"
      },
      {
        "duration": 1324,
        "start_time": "2022-12-22T17:11:24.527Z"
      },
      {
        "duration": 1465,
        "start_time": "2022-12-22T17:11:25.853Z"
      },
      {
        "duration": 821,
        "start_time": "2022-12-22T17:11:27.320Z"
      },
      {
        "duration": 4,
        "start_time": "2022-12-22T17:11:28.142Z"
      },
      {
        "duration": 460,
        "start_time": "2022-12-22T17:11:28.148Z"
      },
      {
        "duration": 424,
        "start_time": "2022-12-22T17:11:28.609Z"
      },
      {
        "duration": 410,
        "start_time": "2022-12-22T17:11:29.034Z"
      },
      {
        "duration": 3,
        "start_time": "2022-12-22T17:11:29.445Z"
      },
      {
        "duration": 7,
        "start_time": "2022-12-22T17:11:29.449Z"
      },
      {
        "duration": 7,
        "start_time": "2022-12-22T17:11:29.458Z"
      },
      {
        "duration": 19,
        "start_time": "2022-12-22T17:11:29.467Z"
      },
      {
        "duration": 13,
        "start_time": "2022-12-22T17:11:29.487Z"
      },
      {
        "duration": 777,
        "start_time": "2022-12-22T17:11:29.501Z"
      },
      {
        "duration": 1100,
        "start_time": "2022-12-22T17:11:30.280Z"
      },
      {
        "duration": 242,
        "start_time": "2022-12-22T17:11:31.383Z"
      },
      {
        "duration": 0,
        "start_time": "2022-12-22T17:11:31.626Z"
      },
      {
        "duration": 0,
        "start_time": "2022-12-22T17:11:31.628Z"
      },
      {
        "duration": 0,
        "start_time": "2022-12-22T17:11:31.629Z"
      },
      {
        "duration": 0,
        "start_time": "2022-12-22T17:11:31.630Z"
      },
      {
        "duration": 0,
        "start_time": "2022-12-22T17:11:31.630Z"
      },
      {
        "duration": 0,
        "start_time": "2022-12-22T17:11:31.632Z"
      },
      {
        "duration": 0,
        "start_time": "2022-12-22T17:11:31.633Z"
      },
      {
        "duration": 0,
        "start_time": "2022-12-22T17:11:31.634Z"
      },
      {
        "duration": 0,
        "start_time": "2022-12-22T17:11:31.635Z"
      },
      {
        "duration": 0,
        "start_time": "2022-12-22T17:11:31.637Z"
      },
      {
        "duration": 0,
        "start_time": "2022-12-22T17:11:31.638Z"
      },
      {
        "duration": 0,
        "start_time": "2022-12-22T17:11:31.639Z"
      },
      {
        "duration": 0,
        "start_time": "2022-12-22T17:11:31.640Z"
      },
      {
        "duration": 0,
        "start_time": "2022-12-22T17:11:31.641Z"
      },
      {
        "duration": 0,
        "start_time": "2022-12-22T17:11:31.642Z"
      },
      {
        "duration": 3,
        "start_time": "2022-12-22T17:12:46.656Z"
      },
      {
        "duration": 4,
        "start_time": "2022-12-22T17:12:59.800Z"
      },
      {
        "duration": 45414,
        "start_time": "2022-12-22T17:13:00.671Z"
      },
      {
        "duration": 44730,
        "start_time": "2022-12-22T17:13:46.086Z"
      },
      {
        "duration": 9,
        "start_time": "2022-12-22T17:14:30.817Z"
      },
      {
        "duration": 0,
        "start_time": "2022-12-22T17:14:30.828Z"
      },
      {
        "duration": 0,
        "start_time": "2022-12-22T17:14:30.829Z"
      },
      {
        "duration": 0,
        "start_time": "2022-12-22T17:14:30.830Z"
      },
      {
        "duration": 3,
        "start_time": "2022-12-22T17:15:12.742Z"
      },
      {
        "duration": 34912,
        "start_time": "2022-12-22T17:15:14.665Z"
      },
      {
        "duration": 34299,
        "start_time": "2022-12-22T17:15:49.578Z"
      },
      {
        "duration": 3,
        "start_time": "2022-12-22T17:16:23.879Z"
      },
      {
        "duration": 32791,
        "start_time": "2022-12-22T17:16:40.387Z"
      },
      {
        "duration": 3,
        "start_time": "2022-12-22T17:17:13.180Z"
      },
      {
        "duration": 3,
        "start_time": "2022-12-22T17:17:28.135Z"
      },
      {
        "duration": 3,
        "start_time": "2022-12-22T17:17:30.230Z"
      },
      {
        "duration": 5,
        "start_time": "2022-12-22T17:17:57.191Z"
      },
      {
        "duration": 4,
        "start_time": "2022-12-22T17:18:53.273Z"
      },
      {
        "duration": 32323,
        "start_time": "2022-12-22T17:26:36.617Z"
      },
      {
        "duration": 9,
        "start_time": "2022-12-22T17:27:21.545Z"
      },
      {
        "duration": 5,
        "start_time": "2022-12-22T17:27:28.797Z"
      },
      {
        "duration": 33774,
        "start_time": "2022-12-22T17:29:09.981Z"
      },
      {
        "duration": 32451,
        "start_time": "2022-12-22T17:31:08.453Z"
      },
      {
        "duration": 32468,
        "start_time": "2022-12-22T17:32:03.847Z"
      },
      {
        "duration": 8,
        "start_time": "2022-12-22T17:33:09.563Z"
      },
      {
        "duration": 3,
        "start_time": "2022-12-22T17:33:36.071Z"
      },
      {
        "duration": 41,
        "start_time": "2022-12-22T17:36:18.319Z"
      },
      {
        "duration": 3,
        "start_time": "2022-12-22T17:38:49.797Z"
      },
      {
        "duration": 33507,
        "start_time": "2022-12-22T17:41:14.151Z"
      },
      {
        "duration": 33844,
        "start_time": "2022-12-22T17:41:47.659Z"
      },
      {
        "duration": 4,
        "start_time": "2022-12-22T17:42:39.669Z"
      },
      {
        "duration": 3,
        "start_time": "2022-12-22T17:47:42.363Z"
      },
      {
        "duration": 291,
        "start_time": "2022-12-22T17:54:44.007Z"
      },
      {
        "duration": 274,
        "start_time": "2022-12-22T17:54:54.117Z"
      },
      {
        "duration": 567,
        "start_time": "2022-12-22T17:56:52.449Z"
      },
      {
        "duration": 547,
        "start_time": "2022-12-22T17:56:59.807Z"
      },
      {
        "duration": 597,
        "start_time": "2022-12-22T17:57:54.859Z"
      },
      {
        "duration": 558,
        "start_time": "2022-12-22T18:03:01.850Z"
      },
      {
        "duration": 3,
        "start_time": "2022-12-22T18:03:50.641Z"
      },
      {
        "duration": 563,
        "start_time": "2022-12-22T18:03:58.064Z"
      },
      {
        "duration": 222,
        "start_time": "2022-12-22T18:15:08.693Z"
      },
      {
        "duration": 1298,
        "start_time": "2022-12-22T18:16:30.916Z"
      },
      {
        "duration": 641,
        "start_time": "2022-12-22T18:16:32.216Z"
      },
      {
        "duration": 4,
        "start_time": "2022-12-22T18:16:32.859Z"
      },
      {
        "duration": 254,
        "start_time": "2022-12-22T18:16:32.864Z"
      },
      {
        "duration": 39,
        "start_time": "2022-12-22T18:16:33.120Z"
      },
      {
        "duration": 35,
        "start_time": "2022-12-22T18:16:33.161Z"
      },
      {
        "duration": 247,
        "start_time": "2022-12-22T18:16:33.198Z"
      },
      {
        "duration": 7,
        "start_time": "2022-12-22T18:16:33.446Z"
      },
      {
        "duration": 33,
        "start_time": "2022-12-22T18:16:33.454Z"
      },
      {
        "duration": 13,
        "start_time": "2022-12-22T18:16:33.488Z"
      },
      {
        "duration": 1953,
        "start_time": "2022-12-22T18:16:33.502Z"
      },
      {
        "duration": 1820,
        "start_time": "2022-12-22T18:16:35.457Z"
      },
      {
        "duration": 1881,
        "start_time": "2022-12-22T18:16:37.279Z"
      },
      {
        "duration": 730,
        "start_time": "2022-12-22T18:16:39.164Z"
      },
      {
        "duration": 1227,
        "start_time": "2022-12-22T18:16:39.896Z"
      },
      {
        "duration": 1103,
        "start_time": "2022-12-22T18:16:41.125Z"
      },
      {
        "duration": 1164,
        "start_time": "2022-12-22T18:16:42.229Z"
      },
      {
        "duration": 1402,
        "start_time": "2022-12-22T18:16:43.394Z"
      },
      {
        "duration": 837,
        "start_time": "2022-12-22T18:16:44.798Z"
      },
      {
        "duration": 4,
        "start_time": "2022-12-22T18:16:45.637Z"
      },
      {
        "duration": 411,
        "start_time": "2022-12-22T18:16:45.642Z"
      },
      {
        "duration": 370,
        "start_time": "2022-12-22T18:16:46.054Z"
      },
      {
        "duration": 404,
        "start_time": "2022-12-22T18:16:46.426Z"
      },
      {
        "duration": 3,
        "start_time": "2022-12-22T18:16:46.832Z"
      },
      {
        "duration": 17,
        "start_time": "2022-12-22T18:16:46.836Z"
      },
      {
        "duration": 9,
        "start_time": "2022-12-22T18:16:46.854Z"
      },
      {
        "duration": 18,
        "start_time": "2022-12-22T18:16:46.865Z"
      },
      {
        "duration": 6,
        "start_time": "2022-12-22T18:16:46.884Z"
      },
      {
        "duration": 885,
        "start_time": "2022-12-22T18:16:46.891Z"
      },
      {
        "duration": 1203,
        "start_time": "2022-12-22T18:16:47.778Z"
      },
      {
        "duration": 8,
        "start_time": "2022-12-22T18:16:48.984Z"
      },
      {
        "duration": 44553,
        "start_time": "2022-12-22T18:16:49.077Z"
      },
      {
        "duration": 43970,
        "start_time": "2022-12-22T18:17:33.632Z"
      },
      {
        "duration": 3,
        "start_time": "2022-12-22T18:18:17.604Z"
      },
      {
        "duration": 35149,
        "start_time": "2022-12-22T18:18:17.608Z"
      },
      {
        "duration": 33447,
        "start_time": "2022-12-22T18:18:52.758Z"
      },
      {
        "duration": 3,
        "start_time": "2022-12-22T18:19:26.207Z"
      },
      {
        "duration": 34914,
        "start_time": "2022-12-22T18:19:26.212Z"
      },
      {
        "duration": 34396,
        "start_time": "2022-12-22T18:20:01.128Z"
      },
      {
        "duration": 4,
        "start_time": "2022-12-22T18:20:35.526Z"
      },
      {
        "duration": 592,
        "start_time": "2022-12-22T18:20:35.535Z"
      },
      {
        "duration": 13,
        "start_time": "2022-12-23T18:48:38.315Z"
      },
      {
        "duration": 228,
        "start_time": "2022-12-23T18:48:40.545Z"
      },
      {
        "duration": 50,
        "start_time": "2022-12-23T19:46:11.853Z"
      },
      {
        "duration": 1562,
        "start_time": "2022-12-23T19:46:19.130Z"
      },
      {
        "duration": 3180,
        "start_time": "2022-12-23T19:46:20.694Z"
      },
      {
        "duration": 4,
        "start_time": "2022-12-23T19:46:23.876Z"
      },
      {
        "duration": 285,
        "start_time": "2022-12-23T19:46:23.882Z"
      },
      {
        "duration": 69,
        "start_time": "2022-12-23T19:46:24.169Z"
      },
      {
        "duration": 26,
        "start_time": "2022-12-23T19:46:24.240Z"
      },
      {
        "duration": 349,
        "start_time": "2022-12-23T19:46:24.267Z"
      },
      {
        "duration": 18,
        "start_time": "2022-12-23T19:46:24.618Z"
      },
      {
        "duration": 21,
        "start_time": "2022-12-23T19:46:24.638Z"
      },
      {
        "duration": 16,
        "start_time": "2022-12-23T19:46:24.662Z"
      },
      {
        "duration": 2324,
        "start_time": "2022-12-23T19:46:24.680Z"
      },
      {
        "duration": 2218,
        "start_time": "2022-12-23T19:46:27.011Z"
      },
      {
        "duration": 2262,
        "start_time": "2022-12-23T19:46:29.231Z"
      },
      {
        "duration": 945,
        "start_time": "2022-12-23T19:46:31.497Z"
      },
      {
        "duration": 1361,
        "start_time": "2022-12-23T19:46:32.444Z"
      },
      {
        "duration": 1245,
        "start_time": "2022-12-23T19:46:33.807Z"
      },
      {
        "duration": 1445,
        "start_time": "2022-12-23T19:46:35.054Z"
      },
      {
        "duration": 1670,
        "start_time": "2022-12-23T19:46:36.501Z"
      },
      {
        "duration": 850,
        "start_time": "2022-12-23T19:46:38.172Z"
      },
      {
        "duration": 5,
        "start_time": "2022-12-23T19:46:39.025Z"
      },
      {
        "duration": 519,
        "start_time": "2022-12-23T19:46:39.031Z"
      },
      {
        "duration": 456,
        "start_time": "2022-12-23T19:46:39.551Z"
      },
      {
        "duration": 472,
        "start_time": "2022-12-23T19:46:40.011Z"
      },
      {
        "duration": 3,
        "start_time": "2022-12-23T19:46:40.484Z"
      },
      {
        "duration": 5,
        "start_time": "2022-12-23T19:46:40.489Z"
      },
      {
        "duration": 6,
        "start_time": "2022-12-23T19:46:40.495Z"
      },
      {
        "duration": 17,
        "start_time": "2022-12-23T19:46:40.520Z"
      },
      {
        "duration": 4,
        "start_time": "2022-12-23T19:46:40.539Z"
      },
      {
        "duration": 1580,
        "start_time": "2022-12-23T19:46:40.544Z"
      },
      {
        "duration": 1596,
        "start_time": "2022-12-23T19:46:42.127Z"
      },
      {
        "duration": 6,
        "start_time": "2022-12-23T19:46:43.724Z"
      },
      {
        "duration": 46260,
        "start_time": "2022-12-23T19:46:43.732Z"
      },
      {
        "duration": 46359,
        "start_time": "2022-12-23T19:47:29.994Z"
      },
      {
        "duration": 4,
        "start_time": "2022-12-23T19:48:16.356Z"
      },
      {
        "duration": 36983,
        "start_time": "2022-12-23T19:48:16.362Z"
      },
      {
        "duration": 35866,
        "start_time": "2022-12-23T19:48:53.347Z"
      },
      {
        "duration": 15,
        "start_time": "2022-12-23T19:49:29.216Z"
      },
      {
        "duration": 36331,
        "start_time": "2022-12-23T19:49:29.233Z"
      },
      {
        "duration": 33781,
        "start_time": "2022-12-23T19:50:05.565Z"
      },
      {
        "duration": 4,
        "start_time": "2022-12-23T19:50:39.348Z"
      },
      {
        "duration": 555,
        "start_time": "2022-12-23T19:50:39.357Z"
      },
      {
        "duration": 233,
        "start_time": "2022-12-23T19:58:34.220Z"
      },
      {
        "duration": 248,
        "start_time": "2022-12-23T19:58:37.253Z"
      },
      {
        "duration": 148,
        "start_time": "2022-12-23T20:01:23.748Z"
      },
      {
        "duration": 358,
        "start_time": "2022-12-23T20:01:55.506Z"
      },
      {
        "duration": 250,
        "start_time": "2022-12-23T20:05:08.169Z"
      },
      {
        "duration": 378,
        "start_time": "2022-12-23T20:05:16.352Z"
      },
      {
        "duration": 241,
        "start_time": "2022-12-23T20:06:01.848Z"
      },
      {
        "duration": 3,
        "start_time": "2022-12-23T20:09:38.477Z"
      },
      {
        "duration": 12,
        "start_time": "2022-12-23T20:10:21.284Z"
      },
      {
        "duration": 72,
        "start_time": "2022-12-23T20:10:41.781Z"
      },
      {
        "duration": 75,
        "start_time": "2022-12-23T20:11:08.659Z"
      },
      {
        "duration": 77,
        "start_time": "2022-12-23T20:11:17.653Z"
      },
      {
        "duration": 71,
        "start_time": "2022-12-23T20:11:44.070Z"
      },
      {
        "duration": 16,
        "start_time": "2022-12-23T20:17:44.378Z"
      },
      {
        "duration": 10,
        "start_time": "2022-12-23T20:17:48.341Z"
      },
      {
        "duration": 1381,
        "start_time": "2022-12-23T20:18:59.750Z"
      },
      {
        "duration": 691,
        "start_time": "2022-12-23T20:19:01.133Z"
      },
      {
        "duration": 4,
        "start_time": "2022-12-23T20:19:01.825Z"
      },
      {
        "duration": 258,
        "start_time": "2022-12-23T20:19:01.830Z"
      },
      {
        "duration": 57,
        "start_time": "2022-12-23T20:19:02.090Z"
      },
      {
        "duration": 26,
        "start_time": "2022-12-23T20:19:02.149Z"
      },
      {
        "duration": 293,
        "start_time": "2022-12-23T20:19:02.176Z"
      },
      {
        "duration": 267,
        "start_time": "2022-12-23T20:19:02.471Z"
      },
      {
        "duration": 16,
        "start_time": "2022-12-23T20:19:02.739Z"
      },
      {
        "duration": 326,
        "start_time": "2022-12-23T20:19:02.757Z"
      },
      {
        "duration": 263,
        "start_time": "2022-12-23T20:19:03.085Z"
      },
      {
        "duration": 125,
        "start_time": "2022-12-23T20:19:03.350Z"
      },
      {
        "duration": 0,
        "start_time": "2022-12-23T20:19:03.479Z"
      },
      {
        "duration": 0,
        "start_time": "2022-12-23T20:19:03.481Z"
      },
      {
        "duration": 0,
        "start_time": "2022-12-23T20:19:03.483Z"
      },
      {
        "duration": 0,
        "start_time": "2022-12-23T20:19:03.484Z"
      },
      {
        "duration": 0,
        "start_time": "2022-12-23T20:19:03.485Z"
      },
      {
        "duration": 0,
        "start_time": "2022-12-23T20:19:03.487Z"
      },
      {
        "duration": 0,
        "start_time": "2022-12-23T20:19:03.489Z"
      },
      {
        "duration": 0,
        "start_time": "2022-12-23T20:19:03.490Z"
      },
      {
        "duration": 0,
        "start_time": "2022-12-23T20:19:03.513Z"
      },
      {
        "duration": 0,
        "start_time": "2022-12-23T20:19:03.515Z"
      },
      {
        "duration": 0,
        "start_time": "2022-12-23T20:19:03.516Z"
      },
      {
        "duration": 0,
        "start_time": "2022-12-23T20:19:03.518Z"
      },
      {
        "duration": 0,
        "start_time": "2022-12-23T20:19:03.519Z"
      },
      {
        "duration": 0,
        "start_time": "2022-12-23T20:19:03.521Z"
      },
      {
        "duration": 0,
        "start_time": "2022-12-23T20:19:03.523Z"
      },
      {
        "duration": 0,
        "start_time": "2022-12-23T20:19:03.524Z"
      },
      {
        "duration": 0,
        "start_time": "2022-12-23T20:19:03.525Z"
      },
      {
        "duration": 0,
        "start_time": "2022-12-23T20:19:03.527Z"
      },
      {
        "duration": 0,
        "start_time": "2022-12-23T20:19:03.528Z"
      },
      {
        "duration": 0,
        "start_time": "2022-12-23T20:19:03.529Z"
      },
      {
        "duration": 0,
        "start_time": "2022-12-23T20:19:03.530Z"
      },
      {
        "duration": 0,
        "start_time": "2022-12-23T20:19:03.531Z"
      },
      {
        "duration": 0,
        "start_time": "2022-12-23T20:19:03.532Z"
      },
      {
        "duration": 0,
        "start_time": "2022-12-23T20:19:03.533Z"
      },
      {
        "duration": 0,
        "start_time": "2022-12-23T20:19:03.534Z"
      },
      {
        "duration": 0,
        "start_time": "2022-12-23T20:19:03.535Z"
      },
      {
        "duration": 0,
        "start_time": "2022-12-23T20:19:03.536Z"
      },
      {
        "duration": 0,
        "start_time": "2022-12-23T20:19:03.537Z"
      },
      {
        "duration": 0,
        "start_time": "2022-12-23T20:19:03.538Z"
      },
      {
        "duration": 0,
        "start_time": "2022-12-23T20:19:03.539Z"
      },
      {
        "duration": 0,
        "start_time": "2022-12-23T20:19:03.540Z"
      },
      {
        "duration": 0,
        "start_time": "2022-12-23T20:19:03.541Z"
      },
      {
        "duration": 0,
        "start_time": "2022-12-23T20:19:03.543Z"
      },
      {
        "duration": 12,
        "start_time": "2022-12-23T20:19:57.123Z"
      },
      {
        "duration": 251,
        "start_time": "2022-12-23T20:19:57.815Z"
      },
      {
        "duration": 244,
        "start_time": "2022-12-23T20:19:58.902Z"
      },
      {
        "duration": 1448,
        "start_time": "2022-12-23T20:20:07.153Z"
      },
      {
        "duration": 691,
        "start_time": "2022-12-23T20:20:08.604Z"
      },
      {
        "duration": 5,
        "start_time": "2022-12-23T20:20:09.297Z"
      },
      {
        "duration": 249,
        "start_time": "2022-12-23T20:20:09.304Z"
      },
      {
        "duration": 42,
        "start_time": "2022-12-23T20:20:09.555Z"
      },
      {
        "duration": 33,
        "start_time": "2022-12-23T20:20:09.599Z"
      },
      {
        "duration": 290,
        "start_time": "2022-12-23T20:20:09.633Z"
      },
      {
        "duration": 269,
        "start_time": "2022-12-23T20:20:09.925Z"
      },
      {
        "duration": 22,
        "start_time": "2022-12-23T20:20:10.196Z"
      },
      {
        "duration": 329,
        "start_time": "2022-12-23T20:20:10.220Z"
      },
      {
        "duration": 253,
        "start_time": "2022-12-23T20:20:10.551Z"
      },
      {
        "duration": 121,
        "start_time": "2022-12-23T20:20:10.811Z"
      },
      {
        "duration": 0,
        "start_time": "2022-12-23T20:20:10.934Z"
      },
      {
        "duration": 0,
        "start_time": "2022-12-23T20:20:10.936Z"
      },
      {
        "duration": 0,
        "start_time": "2022-12-23T20:20:10.937Z"
      },
      {
        "duration": 0,
        "start_time": "2022-12-23T20:20:10.938Z"
      },
      {
        "duration": 0,
        "start_time": "2022-12-23T20:20:10.939Z"
      },
      {
        "duration": 0,
        "start_time": "2022-12-23T20:20:10.940Z"
      },
      {
        "duration": 1,
        "start_time": "2022-12-23T20:20:10.941Z"
      },
      {
        "duration": 0,
        "start_time": "2022-12-23T20:20:10.943Z"
      },
      {
        "duration": 0,
        "start_time": "2022-12-23T20:20:10.944Z"
      },
      {
        "duration": 0,
        "start_time": "2022-12-23T20:20:10.945Z"
      },
      {
        "duration": 0,
        "start_time": "2022-12-23T20:20:10.946Z"
      },
      {
        "duration": 0,
        "start_time": "2022-12-23T20:20:10.947Z"
      },
      {
        "duration": 0,
        "start_time": "2022-12-23T20:20:10.948Z"
      },
      {
        "duration": 0,
        "start_time": "2022-12-23T20:20:10.948Z"
      },
      {
        "duration": 0,
        "start_time": "2022-12-23T20:20:10.949Z"
      },
      {
        "duration": 0,
        "start_time": "2022-12-23T20:20:10.950Z"
      },
      {
        "duration": 0,
        "start_time": "2022-12-23T20:20:10.951Z"
      },
      {
        "duration": 0,
        "start_time": "2022-12-23T20:20:10.952Z"
      },
      {
        "duration": 0,
        "start_time": "2022-12-23T20:20:10.953Z"
      },
      {
        "duration": 0,
        "start_time": "2022-12-23T20:20:10.954Z"
      },
      {
        "duration": 0,
        "start_time": "2022-12-23T20:20:10.955Z"
      },
      {
        "duration": 0,
        "start_time": "2022-12-23T20:20:10.956Z"
      },
      {
        "duration": 0,
        "start_time": "2022-12-23T20:20:10.957Z"
      },
      {
        "duration": 0,
        "start_time": "2022-12-23T20:20:10.958Z"
      },
      {
        "duration": 0,
        "start_time": "2022-12-23T20:20:10.959Z"
      },
      {
        "duration": 0,
        "start_time": "2022-12-23T20:20:10.960Z"
      },
      {
        "duration": 0,
        "start_time": "2022-12-23T20:20:10.961Z"
      },
      {
        "duration": 0,
        "start_time": "2022-12-23T20:20:11.012Z"
      },
      {
        "duration": 0,
        "start_time": "2022-12-23T20:20:11.013Z"
      },
      {
        "duration": 0,
        "start_time": "2022-12-23T20:20:11.015Z"
      },
      {
        "duration": 0,
        "start_time": "2022-12-23T20:20:11.016Z"
      },
      {
        "duration": 0,
        "start_time": "2022-12-23T20:20:11.017Z"
      },
      {
        "duration": 0,
        "start_time": "2022-12-23T20:20:11.018Z"
      },
      {
        "duration": 266,
        "start_time": "2022-12-23T20:20:57.861Z"
      },
      {
        "duration": 248,
        "start_time": "2022-12-23T20:22:34.992Z"
      },
      {
        "duration": 47,
        "start_time": "2022-12-23T20:22:40.764Z"
      },
      {
        "duration": 258,
        "start_time": "2022-12-23T20:22:42.988Z"
      },
      {
        "duration": 361,
        "start_time": "2022-12-23T20:22:46.911Z"
      },
      {
        "duration": 244,
        "start_time": "2022-12-23T20:23:08.195Z"
      },
      {
        "duration": 15,
        "start_time": "2022-12-23T20:23:36.423Z"
      },
      {
        "duration": 7,
        "start_time": "2022-12-23T20:23:39.007Z"
      },
      {
        "duration": 1548,
        "start_time": "2022-12-23T20:24:40.453Z"
      },
      {
        "duration": 1332,
        "start_time": "2022-12-23T20:46:32.454Z"
      },
      {
        "duration": 689,
        "start_time": "2022-12-23T20:46:33.788Z"
      },
      {
        "duration": 4,
        "start_time": "2022-12-23T20:46:34.479Z"
      },
      {
        "duration": 236,
        "start_time": "2022-12-23T20:46:34.485Z"
      },
      {
        "duration": 43,
        "start_time": "2022-12-23T20:46:34.723Z"
      },
      {
        "duration": 46,
        "start_time": "2022-12-23T20:46:34.768Z"
      },
      {
        "duration": 294,
        "start_time": "2022-12-23T20:46:34.816Z"
      },
      {
        "duration": 248,
        "start_time": "2022-12-23T20:46:35.113Z"
      },
      {
        "duration": 15,
        "start_time": "2022-12-23T20:46:35.363Z"
      },
      {
        "duration": 18,
        "start_time": "2022-12-23T20:46:35.380Z"
      },
      {
        "duration": 17,
        "start_time": "2022-12-23T20:46:35.399Z"
      },
      {
        "duration": 20,
        "start_time": "2022-12-23T20:46:35.418Z"
      },
      {
        "duration": 1990,
        "start_time": "2022-12-23T20:46:35.439Z"
      },
      {
        "duration": 1926,
        "start_time": "2022-12-23T20:46:37.432Z"
      },
      {
        "duration": 1947,
        "start_time": "2022-12-23T20:46:39.360Z"
      },
      {
        "duration": 730,
        "start_time": "2022-12-23T20:46:41.309Z"
      },
      {
        "duration": 1202,
        "start_time": "2022-12-23T20:46:42.040Z"
      },
      {
        "duration": 1116,
        "start_time": "2022-12-23T20:46:43.244Z"
      },
      {
        "duration": 1310,
        "start_time": "2022-12-23T20:46:44.361Z"
      },
      {
        "duration": 1521,
        "start_time": "2022-12-23T20:46:45.673Z"
      },
      {
        "duration": 850,
        "start_time": "2022-12-23T20:46:47.195Z"
      },
      {
        "duration": 4,
        "start_time": "2022-12-23T20:46:48.046Z"
      },
      {
        "duration": 431,
        "start_time": "2022-12-23T20:46:48.052Z"
      },
      {
        "duration": 408,
        "start_time": "2022-12-23T20:46:48.485Z"
      },
      {
        "duration": 477,
        "start_time": "2022-12-23T20:46:48.895Z"
      },
      {
        "duration": 3,
        "start_time": "2022-12-23T20:46:49.375Z"
      },
      {
        "duration": 5,
        "start_time": "2022-12-23T20:46:49.379Z"
      },
      {
        "duration": 6,
        "start_time": "2022-12-23T20:46:49.385Z"
      },
      {
        "duration": 28,
        "start_time": "2022-12-23T20:46:49.392Z"
      },
      {
        "duration": 6,
        "start_time": "2022-12-23T20:46:49.422Z"
      },
      {
        "duration": 1087,
        "start_time": "2022-12-23T20:46:49.429Z"
      },
      {
        "duration": 1300,
        "start_time": "2022-12-23T20:46:50.518Z"
      },
      {
        "duration": 3,
        "start_time": "2022-12-23T20:46:51.820Z"
      },
      {
        "duration": 40416,
        "start_time": "2022-12-23T20:46:51.825Z"
      },
      {
        "duration": 40861,
        "start_time": "2022-12-23T20:47:32.242Z"
      },
      {
        "duration": 7,
        "start_time": "2022-12-23T20:48:13.105Z"
      },
      {
        "duration": 30277,
        "start_time": "2022-12-23T20:48:13.114Z"
      },
      {
        "duration": 30798,
        "start_time": "2022-12-23T20:48:43.392Z"
      },
      {
        "duration": 4,
        "start_time": "2022-12-23T20:49:14.192Z"
      },
      {
        "duration": 32561,
        "start_time": "2022-12-23T20:49:14.198Z"
      },
      {
        "duration": 31994,
        "start_time": "2022-12-23T20:49:46.762Z"
      },
      {
        "duration": 3,
        "start_time": "2022-12-23T20:50:18.758Z"
      },
      {
        "duration": 538,
        "start_time": "2022-12-23T20:50:18.763Z"
      },
      {
        "duration": 1499,
        "start_time": "2022-12-23T20:51:49.386Z"
      },
      {
        "duration": 1661,
        "start_time": "2022-12-23T20:52:11.617Z"
      },
      {
        "duration": 1663,
        "start_time": "2022-12-23T20:52:20.454Z"
      },
      {
        "duration": 1614,
        "start_time": "2022-12-23T20:53:24.070Z"
      },
      {
        "duration": 1633,
        "start_time": "2022-12-23T20:53:31.283Z"
      },
      {
        "duration": 1659,
        "start_time": "2022-12-23T20:53:43.184Z"
      },
      {
        "duration": 623,
        "start_time": "2022-12-23T20:53:49.680Z"
      },
      {
        "duration": 1326,
        "start_time": "2022-12-23T20:53:59.386Z"
      },
      {
        "duration": 1354,
        "start_time": "2022-12-23T20:54:06.123Z"
      },
      {
        "duration": 1250,
        "start_time": "2022-12-23T20:54:11.516Z"
      },
      {
        "duration": 1589,
        "start_time": "2022-12-23T21:07:17.066Z"
      },
      {
        "duration": 17,
        "start_time": "2022-12-23T21:08:52.118Z"
      },
      {
        "duration": 1642,
        "start_time": "2022-12-23T21:08:57.111Z"
      },
      {
        "duration": 1600,
        "start_time": "2022-12-23T21:09:07.714Z"
      },
      {
        "duration": 1614,
        "start_time": "2022-12-23T21:09:13.057Z"
      },
      {
        "duration": 1573,
        "start_time": "2022-12-23T21:09:21.086Z"
      },
      {
        "duration": 1318,
        "start_time": "2022-12-23T21:09:29.681Z"
      },
      {
        "duration": 46,
        "start_time": "2022-12-23T21:11:56.757Z"
      },
      {
        "duration": 114,
        "start_time": "2022-12-23T21:12:07.407Z"
      },
      {
        "duration": 533,
        "start_time": "2022-12-23T21:12:28.209Z"
      },
      {
        "duration": 569,
        "start_time": "2022-12-23T21:12:59.513Z"
      },
      {
        "duration": 602,
        "start_time": "2022-12-23T21:13:11.513Z"
      },
      {
        "duration": 529,
        "start_time": "2022-12-23T21:13:38.999Z"
      },
      {
        "duration": 538,
        "start_time": "2022-12-23T21:14:25.765Z"
      },
      {
        "duration": 1386,
        "start_time": "2022-12-23T21:14:57.187Z"
      },
      {
        "duration": 678,
        "start_time": "2022-12-23T21:14:58.575Z"
      },
      {
        "duration": 4,
        "start_time": "2022-12-23T21:14:59.255Z"
      },
      {
        "duration": 263,
        "start_time": "2022-12-23T21:14:59.260Z"
      },
      {
        "duration": 42,
        "start_time": "2022-12-23T21:14:59.526Z"
      },
      {
        "duration": 42,
        "start_time": "2022-12-23T21:14:59.570Z"
      },
      {
        "duration": 267,
        "start_time": "2022-12-23T21:14:59.614Z"
      },
      {
        "duration": 254,
        "start_time": "2022-12-23T21:14:59.882Z"
      },
      {
        "duration": 16,
        "start_time": "2022-12-23T21:15:00.137Z"
      },
      {
        "duration": 16,
        "start_time": "2022-12-23T21:15:00.155Z"
      },
      {
        "duration": 19,
        "start_time": "2022-12-23T21:15:00.173Z"
      },
      {
        "duration": 23,
        "start_time": "2022-12-23T21:15:00.193Z"
      },
      {
        "duration": 1624,
        "start_time": "2022-12-23T21:15:00.218Z"
      },
      {
        "duration": 1664,
        "start_time": "2022-12-23T21:15:01.845Z"
      },
      {
        "duration": 1758,
        "start_time": "2022-12-23T21:15:03.512Z"
      },
      {
        "duration": 592,
        "start_time": "2022-12-23T21:15:05.272Z"
      },
      {
        "duration": 1408,
        "start_time": "2022-12-23T21:15:05.867Z"
      },
      {
        "duration": 1261,
        "start_time": "2022-12-23T21:15:07.277Z"
      },
      {
        "duration": 1268,
        "start_time": "2022-12-23T21:15:08.539Z"
      },
      {
        "duration": 4,
        "start_time": "2022-12-23T21:15:09.809Z"
      },
      {
        "duration": 710,
        "start_time": "2022-12-23T21:15:09.814Z"
      },
      {
        "duration": 0,
        "start_time": "2022-12-23T21:15:10.526Z"
      },
      {
        "duration": 0,
        "start_time": "2022-12-23T21:15:10.528Z"
      },
      {
        "duration": 0,
        "start_time": "2022-12-23T21:15:10.529Z"
      },
      {
        "duration": 0,
        "start_time": "2022-12-23T21:15:10.530Z"
      },
      {
        "duration": 0,
        "start_time": "2022-12-23T21:15:10.531Z"
      },
      {
        "duration": 0,
        "start_time": "2022-12-23T21:15:10.532Z"
      },
      {
        "duration": 0,
        "start_time": "2022-12-23T21:15:10.533Z"
      },
      {
        "duration": 0,
        "start_time": "2022-12-23T21:15:10.534Z"
      },
      {
        "duration": 0,
        "start_time": "2022-12-23T21:15:10.535Z"
      },
      {
        "duration": 0,
        "start_time": "2022-12-23T21:15:10.536Z"
      },
      {
        "duration": 0,
        "start_time": "2022-12-23T21:15:10.537Z"
      },
      {
        "duration": 0,
        "start_time": "2022-12-23T21:15:10.538Z"
      },
      {
        "duration": 0,
        "start_time": "2022-12-23T21:15:10.538Z"
      },
      {
        "duration": 0,
        "start_time": "2022-12-23T21:15:10.539Z"
      },
      {
        "duration": 0,
        "start_time": "2022-12-23T21:15:10.540Z"
      },
      {
        "duration": 0,
        "start_time": "2022-12-23T21:15:10.541Z"
      },
      {
        "duration": 0,
        "start_time": "2022-12-23T21:15:10.542Z"
      },
      {
        "duration": 0,
        "start_time": "2022-12-23T21:15:10.543Z"
      },
      {
        "duration": 0,
        "start_time": "2022-12-23T21:15:10.544Z"
      },
      {
        "duration": 0,
        "start_time": "2022-12-23T21:15:10.545Z"
      },
      {
        "duration": 0,
        "start_time": "2022-12-23T21:15:10.546Z"
      },
      {
        "duration": 0,
        "start_time": "2022-12-23T21:15:10.547Z"
      },
      {
        "duration": 0,
        "start_time": "2022-12-23T21:15:10.549Z"
      },
      {
        "duration": 0,
        "start_time": "2022-12-23T21:15:10.549Z"
      },
      {
        "duration": 570,
        "start_time": "2022-12-23T21:17:01.454Z"
      },
      {
        "duration": 542,
        "start_time": "2022-12-23T21:17:13.565Z"
      },
      {
        "duration": 9,
        "start_time": "2022-12-23T21:18:50.008Z"
      },
      {
        "duration": 538,
        "start_time": "2022-12-23T21:18:56.353Z"
      },
      {
        "duration": 10,
        "start_time": "2022-12-23T21:19:28.404Z"
      },
      {
        "duration": 591,
        "start_time": "2022-12-23T21:19:32.860Z"
      },
      {
        "duration": 518,
        "start_time": "2022-12-23T21:19:42.684Z"
      },
      {
        "duration": 568,
        "start_time": "2022-12-23T21:19:50.957Z"
      },
      {
        "duration": 1382,
        "start_time": "2022-12-23T21:20:21.613Z"
      },
      {
        "duration": 685,
        "start_time": "2022-12-23T21:20:22.997Z"
      },
      {
        "duration": 4,
        "start_time": "2022-12-23T21:20:23.684Z"
      },
      {
        "duration": 250,
        "start_time": "2022-12-23T21:20:23.690Z"
      },
      {
        "duration": 43,
        "start_time": "2022-12-23T21:20:23.941Z"
      },
      {
        "duration": 37,
        "start_time": "2022-12-23T21:20:23.986Z"
      },
      {
        "duration": 270,
        "start_time": "2022-12-23T21:20:24.097Z"
      },
      {
        "duration": 265,
        "start_time": "2022-12-23T21:20:25.263Z"
      },
      {
        "duration": 16,
        "start_time": "2022-12-23T21:20:25.606Z"
      },
      {
        "duration": 8,
        "start_time": "2022-12-23T21:20:26.804Z"
      },
      {
        "duration": 9,
        "start_time": "2022-12-23T21:20:29.351Z"
      },
      {
        "duration": 14,
        "start_time": "2022-12-23T21:20:31.659Z"
      },
      {
        "duration": 1634,
        "start_time": "2022-12-23T21:20:34.363Z"
      },
      {
        "duration": 1731,
        "start_time": "2022-12-23T21:20:35.999Z"
      },
      {
        "duration": 1624,
        "start_time": "2022-12-23T21:20:37.732Z"
      },
      {
        "duration": 581,
        "start_time": "2022-12-23T21:20:39.357Z"
      },
      {
        "duration": 1292,
        "start_time": "2022-12-23T21:20:39.940Z"
      },
      {
        "duration": 1260,
        "start_time": "2022-12-23T21:20:41.234Z"
      },
      {
        "duration": 1299,
        "start_time": "2022-12-23T21:20:42.496Z"
      },
      {
        "duration": 2,
        "start_time": "2022-12-23T21:20:43.797Z"
      },
      {
        "duration": 5,
        "start_time": "2022-12-23T21:20:48.115Z"
      },
      {
        "duration": 5,
        "start_time": "2022-12-23T21:21:04.065Z"
      },
      {
        "duration": 6,
        "start_time": "2022-12-23T21:21:22.158Z"
      },
      {
        "duration": 6,
        "start_time": "2022-12-23T21:21:31.651Z"
      },
      {
        "duration": 115,
        "start_time": "2022-12-23T21:24:03.950Z"
      },
      {
        "duration": 5,
        "start_time": "2022-12-23T21:25:31.503Z"
      },
      {
        "duration": 4,
        "start_time": "2022-12-23T21:25:39.713Z"
      },
      {
        "duration": 4,
        "start_time": "2022-12-23T21:25:46.157Z"
      },
      {
        "duration": 3,
        "start_time": "2022-12-23T21:25:52.647Z"
      },
      {
        "duration": 10,
        "start_time": "2022-12-23T21:26:00.297Z"
      },
      {
        "duration": 5,
        "start_time": "2022-12-23T21:27:49.072Z"
      },
      {
        "duration": 6,
        "start_time": "2022-12-23T21:27:58.366Z"
      },
      {
        "duration": 7,
        "start_time": "2022-12-23T21:28:03.751Z"
      },
      {
        "duration": 26,
        "start_time": "2022-12-23T21:28:42.691Z"
      },
      {
        "duration": 8,
        "start_time": "2022-12-23T21:28:47.602Z"
      },
      {
        "duration": 6,
        "start_time": "2022-12-23T21:28:49.088Z"
      },
      {
        "duration": 1587,
        "start_time": "2022-12-23T21:29:03.298Z"
      },
      {
        "duration": 18,
        "start_time": "2022-12-23T21:31:03.501Z"
      },
      {
        "duration": 1623,
        "start_time": "2022-12-23T21:31:09.093Z"
      },
      {
        "duration": 1657,
        "start_time": "2022-12-23T21:31:11.718Z"
      },
      {
        "duration": 1735,
        "start_time": "2022-12-23T21:31:15.472Z"
      },
      {
        "duration": 601,
        "start_time": "2022-12-23T21:31:20.145Z"
      },
      {
        "duration": 1302,
        "start_time": "2022-12-23T21:31:23.144Z"
      },
      {
        "duration": 1291,
        "start_time": "2022-12-23T21:31:26.075Z"
      },
      {
        "duration": 1333,
        "start_time": "2022-12-23T21:31:36.165Z"
      },
      {
        "duration": 1475,
        "start_time": "2022-12-23T21:32:17.153Z"
      },
      {
        "duration": 710,
        "start_time": "2022-12-23T21:32:21.953Z"
      },
      {
        "duration": 47,
        "start_time": "2022-12-23T21:32:49.761Z"
      },
      {
        "duration": 754,
        "start_time": "2022-12-23T21:33:39.999Z"
      },
      {
        "duration": 857,
        "start_time": "2022-12-23T21:33:53.457Z"
      },
      {
        "duration": 828,
        "start_time": "2022-12-23T21:34:04.198Z"
      },
      {
        "duration": 715,
        "start_time": "2022-12-23T21:34:08.763Z"
      },
      {
        "duration": 4,
        "start_time": "2022-12-23T21:40:37.803Z"
      },
      {
        "duration": 421,
        "start_time": "2022-12-23T21:40:42.548Z"
      },
      {
        "duration": 569,
        "start_time": "2022-12-23T21:40:45.114Z"
      },
      {
        "duration": 416,
        "start_time": "2022-12-23T21:40:47.355Z"
      },
      {
        "duration": 3,
        "start_time": "2022-12-23T21:40:55.260Z"
      },
      {
        "duration": 3,
        "start_time": "2022-12-23T21:40:55.601Z"
      },
      {
        "duration": 3,
        "start_time": "2022-12-23T21:40:57.513Z"
      },
      {
        "duration": 10,
        "start_time": "2022-12-23T21:40:59.294Z"
      },
      {
        "duration": 3,
        "start_time": "2022-12-23T21:41:03.547Z"
      },
      {
        "duration": 858,
        "start_time": "2022-12-23T21:41:50.062Z"
      },
      {
        "duration": 1061,
        "start_time": "2022-12-23T21:41:51.755Z"
      },
      {
        "duration": 4,
        "start_time": "2022-12-23T21:41:54.353Z"
      },
      {
        "duration": 39525,
        "start_time": "2022-12-23T21:42:48.314Z"
      },
      {
        "duration": 41698,
        "start_time": "2022-12-23T21:43:42.274Z"
      },
      {
        "duration": 39221,
        "start_time": "2022-12-23T21:45:42.247Z"
      },
      {
        "duration": 39880,
        "start_time": "2022-12-23T21:47:21.065Z"
      },
      {
        "duration": 3,
        "start_time": "2022-12-23T21:48:21.800Z"
      },
      {
        "duration": 29681,
        "start_time": "2022-12-23T21:49:11.052Z"
      },
      {
        "duration": 28855,
        "start_time": "2022-12-23T21:50:16.653Z"
      },
      {
        "duration": 4,
        "start_time": "2022-12-23T21:50:45.512Z"
      },
      {
        "duration": 29785,
        "start_time": "2022-12-23T21:59:31.733Z"
      },
      {
        "duration": 30593,
        "start_time": "2022-12-23T22:00:01.521Z"
      },
      {
        "duration": 4,
        "start_time": "2022-12-23T22:00:32.116Z"
      },
      {
        "duration": 149080,
        "start_time": "2022-12-23T22:02:42.708Z"
      },
      {
        "duration": 144840,
        "start_time": "2022-12-23T22:05:11.790Z"
      },
      {
        "duration": 3,
        "start_time": "2022-12-23T22:07:36.632Z"
      },
      {
        "duration": 55,
        "start_time": "2022-12-23T22:08:59.393Z"
      },
      {
        "duration": 11,
        "start_time": "2022-12-23T22:09:18.555Z"
      },
      {
        "duration": 12,
        "start_time": "2022-12-23T22:09:30.290Z"
      },
      {
        "duration": 11,
        "start_time": "2022-12-23T22:09:42.516Z"
      },
      {
        "duration": 5,
        "start_time": "2022-12-23T22:10:11.214Z"
      },
      {
        "duration": 50718,
        "start_time": "2022-12-23T22:10:24.099Z"
      },
      {
        "duration": 50068,
        "start_time": "2022-12-23T22:11:14.820Z"
      },
      {
        "duration": 3,
        "start_time": "2022-12-23T22:12:04.889Z"
      },
      {
        "duration": 71437,
        "start_time": "2022-12-23T22:13:58.890Z"
      },
      {
        "duration": 62144,
        "start_time": "2022-12-23T22:15:10.329Z"
      },
      {
        "duration": 3,
        "start_time": "2022-12-23T22:16:12.475Z"
      },
      {
        "duration": 57263,
        "start_time": "2022-12-23T22:18:42.004Z"
      },
      {
        "duration": 76504,
        "start_time": "2022-12-23T22:19:39.270Z"
      },
      {
        "duration": 3,
        "start_time": "2022-12-23T22:20:55.776Z"
      },
      {
        "duration": 44234,
        "start_time": "2022-12-23T22:21:55.841Z"
      },
      {
        "duration": 68707,
        "start_time": "2022-12-23T22:22:40.077Z"
      },
      {
        "duration": 4,
        "start_time": "2022-12-23T22:23:48.786Z"
      },
      {
        "duration": 30882,
        "start_time": "2022-12-23T22:24:39.372Z"
      },
      {
        "duration": 31496,
        "start_time": "2022-12-23T22:25:10.256Z"
      },
      {
        "duration": 3,
        "start_time": "2022-12-23T22:25:41.754Z"
      },
      {
        "duration": 550106,
        "start_time": "2022-12-23T22:27:34.400Z"
      },
      {
        "duration": 517688,
        "start_time": "2022-12-23T22:36:44.511Z"
      },
      {
        "duration": 4,
        "start_time": "2022-12-23T22:45:22.201Z"
      },
      {
        "duration": 5,
        "start_time": "2022-12-23T22:45:22.212Z"
      },
      {
        "duration": 88921,
        "start_time": "2022-12-23T22:46:40.855Z"
      },
      {
        "duration": 95192,
        "start_time": "2022-12-23T22:48:09.778Z"
      },
      {
        "duration": 4,
        "start_time": "2022-12-23T22:49:44.972Z"
      },
      {
        "duration": 4,
        "start_time": "2022-12-23T22:56:00.830Z"
      },
      {
        "duration": 12,
        "start_time": "2022-12-23T22:59:13.732Z"
      },
      {
        "duration": 23,
        "start_time": "2022-12-23T23:03:19.473Z"
      },
      {
        "duration": 501,
        "start_time": "2022-12-23T23:04:16.511Z"
      },
      {
        "duration": 522,
        "start_time": "2022-12-23T23:04:56.898Z"
      },
      {
        "duration": 21,
        "start_time": "2022-12-23T23:04:59.010Z"
      },
      {
        "duration": 3167,
        "start_time": "2022-12-23T23:07:00.052Z"
      },
      {
        "duration": 21,
        "start_time": "2022-12-23T23:07:17.691Z"
      },
      {
        "duration": 22,
        "start_time": "2022-12-23T23:08:09.814Z"
      },
      {
        "duration": 20,
        "start_time": "2022-12-23T23:08:43.052Z"
      },
      {
        "duration": 6,
        "start_time": "2022-12-23T23:12:24.273Z"
      },
      {
        "duration": 6,
        "start_time": "2022-12-23T23:12:31.691Z"
      },
      {
        "duration": 8,
        "start_time": "2022-12-23T23:12:41.131Z"
      },
      {
        "duration": 6,
        "start_time": "2022-12-23T23:12:56.958Z"
      },
      {
        "duration": 7,
        "start_time": "2022-12-23T23:13:21.277Z"
      },
      {
        "duration": 7,
        "start_time": "2022-12-23T23:13:35.358Z"
      },
      {
        "duration": 3192,
        "start_time": "2022-12-23T23:13:59.731Z"
      },
      {
        "duration": 4,
        "start_time": "2022-12-23T23:16:46.260Z"
      },
      {
        "duration": 20,
        "start_time": "2022-12-23T23:18:03.752Z"
      },
      {
        "duration": 21,
        "start_time": "2022-12-23T23:18:33.311Z"
      },
      {
        "duration": 14,
        "start_time": "2022-12-23T23:18:49.712Z"
      },
      {
        "duration": 8,
        "start_time": "2022-12-23T23:19:00.531Z"
      },
      {
        "duration": 3276,
        "start_time": "2022-12-23T23:19:45.481Z"
      },
      {
        "duration": 3323,
        "start_time": "2022-12-23T23:19:57.431Z"
      },
      {
        "duration": 3312,
        "start_time": "2022-12-23T23:20:04.162Z"
      },
      {
        "duration": 8,
        "start_time": "2022-12-23T23:20:18.031Z"
      },
      {
        "duration": 7,
        "start_time": "2022-12-23T23:22:10.803Z"
      },
      {
        "duration": 7,
        "start_time": "2022-12-23T23:22:28.299Z"
      },
      {
        "duration": 8,
        "start_time": "2022-12-23T23:22:47.692Z"
      },
      {
        "duration": 7,
        "start_time": "2022-12-23T23:24:38.543Z"
      },
      {
        "duration": 10,
        "start_time": "2022-12-23T23:27:07.212Z"
      },
      {
        "duration": 3279,
        "start_time": "2022-12-23T23:27:29.940Z"
      },
      {
        "duration": 3463,
        "start_time": "2022-12-23T23:30:04.388Z"
      },
      {
        "duration": 9,
        "start_time": "2022-12-23T23:31:16.765Z"
      },
      {
        "duration": 681,
        "start_time": "2022-12-23T23:32:12.557Z"
      },
      {
        "duration": 85781,
        "start_time": "2022-12-23T23:35:44.701Z"
      },
      {
        "duration": 69619,
        "start_time": "2022-12-23T23:37:10.485Z"
      },
      {
        "duration": 3,
        "start_time": "2022-12-23T23:39:04.579Z"
      },
      {
        "duration": 2426,
        "start_time": "2022-12-23T23:39:32.399Z"
      },
      {
        "duration": 2515,
        "start_time": "2022-12-23T23:41:34.968Z"
      },
      {
        "duration": 9,
        "start_time": "2022-12-23T23:41:52.472Z"
      },
      {
        "duration": 1496,
        "start_time": "2022-12-23T23:43:01.910Z"
      },
      {
        "duration": 721,
        "start_time": "2022-12-23T23:43:03.408Z"
      },
      {
        "duration": 5,
        "start_time": "2022-12-23T23:43:04.131Z"
      },
      {
        "duration": 316,
        "start_time": "2022-12-23T23:43:04.139Z"
      },
      {
        "duration": 59,
        "start_time": "2022-12-23T23:43:04.456Z"
      },
      {
        "duration": 30,
        "start_time": "2022-12-23T23:43:04.517Z"
      },
      {
        "duration": 344,
        "start_time": "2022-12-23T23:43:04.549Z"
      },
      {
        "duration": 283,
        "start_time": "2022-12-23T23:43:04.896Z"
      },
      {
        "duration": 20,
        "start_time": "2022-12-23T23:43:05.181Z"
      },
      {
        "duration": 9,
        "start_time": "2022-12-23T23:43:05.215Z"
      },
      {
        "duration": 16,
        "start_time": "2022-12-23T23:43:05.226Z"
      },
      {
        "duration": 134,
        "start_time": "2022-12-23T23:43:05.244Z"
      },
      {
        "duration": 1807,
        "start_time": "2022-12-23T23:43:05.380Z"
      },
      {
        "duration": 1759,
        "start_time": "2022-12-23T23:43:07.189Z"
      },
      {
        "duration": 1795,
        "start_time": "2022-12-23T23:43:08.950Z"
      },
      {
        "duration": 634,
        "start_time": "2022-12-23T23:43:10.747Z"
      },
      {
        "duration": 1390,
        "start_time": "2022-12-23T23:43:11.383Z"
      },
      {
        "duration": 1369,
        "start_time": "2022-12-23T23:43:12.775Z"
      },
      {
        "duration": 1364,
        "start_time": "2022-12-23T23:43:14.146Z"
      },
      {
        "duration": 3,
        "start_time": "2022-12-23T23:43:15.512Z"
      },
      {
        "duration": 48,
        "start_time": "2022-12-23T23:43:15.517Z"
      },
      {
        "duration": 1802,
        "start_time": "2022-12-23T23:43:15.567Z"
      },
      {
        "duration": 799,
        "start_time": "2022-12-23T23:43:17.372Z"
      },
      {
        "duration": 706,
        "start_time": "2022-12-23T23:43:18.172Z"
      },
      {
        "duration": 6,
        "start_time": "2022-12-23T23:43:18.881Z"
      },
      {
        "duration": 547,
        "start_time": "2022-12-23T23:43:18.889Z"
      },
      {
        "duration": 687,
        "start_time": "2022-12-23T23:43:19.437Z"
      },
      {
        "duration": 565,
        "start_time": "2022-12-23T23:43:20.130Z"
      },
      {
        "duration": 3,
        "start_time": "2022-12-23T23:43:20.697Z"
      },
      {
        "duration": 11,
        "start_time": "2022-12-23T23:43:20.702Z"
      },
      {
        "duration": 12,
        "start_time": "2022-12-23T23:43:20.716Z"
      },
      {
        "duration": 22,
        "start_time": "2022-12-23T23:43:20.730Z"
      },
      {
        "duration": 14,
        "start_time": "2022-12-23T23:43:20.753Z"
      },
      {
        "duration": 1546,
        "start_time": "2022-12-23T23:43:20.769Z"
      },
      {
        "duration": 1295,
        "start_time": "2022-12-23T23:43:22.321Z"
      },
      {
        "duration": 4,
        "start_time": "2022-12-23T23:43:23.618Z"
      },
      {
        "duration": 39092,
        "start_time": "2022-12-23T23:43:23.625Z"
      },
      {
        "duration": 39857,
        "start_time": "2022-12-23T23:44:02.719Z"
      },
      {
        "duration": 3,
        "start_time": "2022-12-23T23:44:42.578Z"
      },
      {
        "duration": 8387,
        "start_time": "2022-12-23T23:44:42.582Z"
      },
      {
        "duration": 8321,
        "start_time": "2022-12-23T23:44:50.972Z"
      },
      {
        "duration": 4,
        "start_time": "2022-12-23T23:44:59.295Z"
      },
      {
        "duration": 72317,
        "start_time": "2022-12-23T23:44:59.300Z"
      },
      {
        "duration": 95634,
        "start_time": "2022-12-23T23:46:11.618Z"
      },
      {
        "duration": 4,
        "start_time": "2022-12-23T23:47:47.253Z"
      },
      {
        "duration": 2399,
        "start_time": "2022-12-23T23:47:47.258Z"
      },
      {
        "duration": 8,
        "start_time": "2022-12-23T23:47:49.659Z"
      },
      {
        "duration": 26,
        "start_time": "2022-12-23T23:47:49.670Z"
      },
      {
        "duration": 1556,
        "start_time": "2022-12-23T23:47:49.697Z"
      },
      {
        "duration": 2791,
        "start_time": "2022-12-23T23:48:30.276Z"
      },
      {
        "duration": 2431,
        "start_time": "2022-12-23T23:48:50.597Z"
      },
      {
        "duration": 93891,
        "start_time": "2022-12-23T23:53:07.264Z"
      },
      {
        "duration": 95652,
        "start_time": "2022-12-23T23:54:41.157Z"
      },
      {
        "duration": 5,
        "start_time": "2022-12-23T23:56:35.369Z"
      },
      {
        "duration": 3563,
        "start_time": "2022-12-23T23:56:44.210Z"
      },
      {
        "duration": 68185,
        "start_time": "2022-12-23T23:57:02.990Z"
      },
      {
        "duration": 70026,
        "start_time": "2022-12-23T23:58:11.178Z"
      },
      {
        "duration": 8,
        "start_time": "2022-12-23T23:59:21.205Z"
      },
      {
        "duration": 2766,
        "start_time": "2022-12-24T00:01:07.807Z"
      },
      {
        "duration": 77094,
        "start_time": "2022-12-24T00:01:29.480Z"
      },
      {
        "duration": 81089,
        "start_time": "2022-12-24T00:02:46.576Z"
      },
      {
        "duration": 2073,
        "start_time": "2022-12-24T00:04:17.866Z"
      },
      {
        "duration": 66013,
        "start_time": "2022-12-24T00:04:32.031Z"
      },
      {
        "duration": 70356,
        "start_time": "2022-12-24T00:05:38.046Z"
      },
      {
        "duration": 3133,
        "start_time": "2022-12-24T00:06:57.200Z"
      },
      {
        "duration": 57280,
        "start_time": "2022-12-24T00:07:19.110Z"
      },
      {
        "duration": 62068,
        "start_time": "2022-12-24T00:08:16.393Z"
      },
      {
        "duration": 2059,
        "start_time": "2022-12-24T00:09:32.069Z"
      },
      {
        "duration": 61857,
        "start_time": "2022-12-24T00:09:55.401Z"
      },
      {
        "duration": 70117,
        "start_time": "2022-12-24T00:10:57.262Z"
      },
      {
        "duration": 3858,
        "start_time": "2022-12-24T00:12:16.409Z"
      },
      {
        "duration": 135045,
        "start_time": "2022-12-24T00:12:38.550Z"
      },
      {
        "duration": 132434,
        "start_time": "2022-12-24T00:14:53.597Z"
      },
      {
        "duration": 3421,
        "start_time": "2022-12-24T00:17:32.840Z"
      },
      {
        "duration": 75605,
        "start_time": "2022-12-24T00:18:17.760Z"
      },
      {
        "duration": 83337,
        "start_time": "2022-12-24T00:19:33.368Z"
      },
      {
        "duration": 3281,
        "start_time": "2022-12-24T00:21:20.007Z"
      },
      {
        "duration": 59522,
        "start_time": "2022-12-24T00:21:39.300Z"
      },
      {
        "duration": 61943,
        "start_time": "2022-12-24T00:22:38.824Z"
      },
      {
        "duration": 2068,
        "start_time": "2022-12-24T00:24:41.253Z"
      },
      {
        "duration": 44463,
        "start_time": "2022-12-24T00:25:04.724Z"
      },
      {
        "duration": 45084,
        "start_time": "2022-12-24T00:25:49.190Z"
      },
      {
        "duration": 2219,
        "start_time": "2022-12-24T00:26:52.074Z"
      },
      {
        "duration": 31603,
        "start_time": "2022-12-24T00:27:35.472Z"
      },
      {
        "duration": 33215,
        "start_time": "2022-12-24T00:28:07.078Z"
      },
      {
        "duration": 1351,
        "start_time": "2022-12-24T00:28:48.434Z"
      },
      {
        "duration": 49790,
        "start_time": "2022-12-24T00:29:03.313Z"
      },
      {
        "duration": 53925,
        "start_time": "2022-12-24T00:29:53.105Z"
      },
      {
        "duration": 3626,
        "start_time": "2022-12-24T00:31:03.100Z"
      },
      {
        "duration": 164938,
        "start_time": "2022-12-24T00:32:44.363Z"
      },
      {
        "duration": 150403,
        "start_time": "2022-12-24T00:35:29.305Z"
      },
      {
        "duration": 5508,
        "start_time": "2022-12-24T00:38:56.834Z"
      },
      {
        "duration": 4,
        "start_time": "2022-12-24T00:39:53.405Z"
      },
      {
        "duration": 4,
        "start_time": "2022-12-24T00:40:02.635Z"
      },
      {
        "duration": 1524,
        "start_time": "2022-12-24T00:41:21.497Z"
      },
      {
        "duration": 707,
        "start_time": "2022-12-24T00:41:23.024Z"
      },
      {
        "duration": 4,
        "start_time": "2022-12-24T00:41:23.733Z"
      },
      {
        "duration": 317,
        "start_time": "2022-12-24T00:41:23.739Z"
      },
      {
        "duration": 59,
        "start_time": "2022-12-24T00:41:24.059Z"
      },
      {
        "duration": 25,
        "start_time": "2022-12-24T00:41:24.120Z"
      },
      {
        "duration": 325,
        "start_time": "2022-12-24T00:41:24.147Z"
      },
      {
        "duration": 297,
        "start_time": "2022-12-24T00:41:24.474Z"
      },
      {
        "duration": 19,
        "start_time": "2022-12-24T00:41:24.773Z"
      },
      {
        "duration": 77,
        "start_time": "2022-12-24T00:41:24.793Z"
      },
      {
        "duration": 73,
        "start_time": "2022-12-24T00:41:24.872Z"
      },
      {
        "duration": 72,
        "start_time": "2022-12-24T00:41:24.947Z"
      },
      {
        "duration": 1898,
        "start_time": "2022-12-24T00:41:25.021Z"
      },
      {
        "duration": 1744,
        "start_time": "2022-12-24T00:41:26.923Z"
      },
      {
        "duration": 1869,
        "start_time": "2022-12-24T00:41:28.669Z"
      },
      {
        "duration": 638,
        "start_time": "2022-12-24T00:41:30.541Z"
      },
      {
        "duration": 1453,
        "start_time": "2022-12-24T00:41:31.181Z"
      },
      {
        "duration": 1549,
        "start_time": "2022-12-24T00:41:32.636Z"
      },
      {
        "duration": 1514,
        "start_time": "2022-12-24T00:41:34.187Z"
      },
      {
        "duration": 2,
        "start_time": "2022-12-24T00:41:35.706Z"
      },
      {
        "duration": 64,
        "start_time": "2022-12-24T00:41:35.712Z"
      },
      {
        "duration": 2202,
        "start_time": "2022-12-24T00:41:35.778Z"
      },
      {
        "duration": 689,
        "start_time": "2022-12-24T00:41:37.982Z"
      },
      {
        "duration": 809,
        "start_time": "2022-12-24T00:41:38.673Z"
      },
      {
        "duration": 4,
        "start_time": "2022-12-24T00:41:39.483Z"
      },
      {
        "duration": 548,
        "start_time": "2022-12-24T00:41:39.490Z"
      },
      {
        "duration": 695,
        "start_time": "2022-12-24T00:41:40.041Z"
      },
      {
        "duration": 448,
        "start_time": "2022-12-24T00:41:40.738Z"
      },
      {
        "duration": 4,
        "start_time": "2022-12-24T00:41:41.188Z"
      },
      {
        "duration": 12,
        "start_time": "2022-12-24T00:41:41.193Z"
      },
      {
        "duration": 3,
        "start_time": "2022-12-24T00:41:41.212Z"
      },
      {
        "duration": 14,
        "start_time": "2022-12-24T00:41:41.218Z"
      },
      {
        "duration": 7,
        "start_time": "2022-12-24T00:41:41.234Z"
      },
      {
        "duration": 1182,
        "start_time": "2022-12-24T00:41:41.243Z"
      },
      {
        "duration": 994,
        "start_time": "2022-12-24T00:41:42.427Z"
      },
      {
        "duration": 91,
        "start_time": "2022-12-24T00:41:43.423Z"
      },
      {
        "duration": 40419,
        "start_time": "2022-12-24T00:41:43.517Z"
      },
      {
        "duration": 43245,
        "start_time": "2022-12-24T00:42:23.939Z"
      },
      {
        "duration": 5,
        "start_time": "2022-12-24T00:43:07.185Z"
      },
      {
        "duration": 9766,
        "start_time": "2022-12-24T00:43:07.192Z"
      },
      {
        "duration": 11181,
        "start_time": "2022-12-24T00:43:16.964Z"
      },
      {
        "duration": 5,
        "start_time": "2022-12-24T00:43:28.147Z"
      },
      {
        "duration": 174675,
        "start_time": "2022-12-24T00:43:28.153Z"
      },
      {
        "duration": 169986,
        "start_time": "2022-12-24T00:46:22.830Z"
      },
      {
        "duration": 4,
        "start_time": "2022-12-24T00:49:12.818Z"
      },
      {
        "duration": 5713,
        "start_time": "2022-12-24T00:49:12.824Z"
      },
      {
        "duration": 8,
        "start_time": "2022-12-24T00:49:18.540Z"
      },
      {
        "duration": 1926,
        "start_time": "2022-12-24T09:29:16.627Z"
      },
      {
        "duration": 3073,
        "start_time": "2022-12-24T09:29:18.555Z"
      },
      {
        "duration": 4,
        "start_time": "2022-12-24T09:29:21.630Z"
      },
      {
        "duration": 261,
        "start_time": "2022-12-24T09:29:21.636Z"
      },
      {
        "duration": 53,
        "start_time": "2022-12-24T09:29:21.900Z"
      },
      {
        "duration": 50,
        "start_time": "2022-12-24T09:29:21.955Z"
      },
      {
        "duration": 340,
        "start_time": "2022-12-24T09:29:22.007Z"
      },
      {
        "duration": 372,
        "start_time": "2022-12-24T09:29:22.349Z"
      },
      {
        "duration": 49,
        "start_time": "2023-04-29T14:29:40.869Z"
      }
    ],
    "kernelspec": {
      "display_name": "Python 3 (ipykernel)",
      "language": "python",
      "name": "python3"
    },
    "language_info": {
      "codemirror_mode": {
        "name": "ipython",
        "version": 3
      },
      "file_extension": ".py",
      "mimetype": "text/x-python",
      "name": "python",
      "nbconvert_exporter": "python",
      "pygments_lexer": "ipython3",
      "version": "3.9.5"
    },
    "toc": {
      "base_numbering": 1,
      "nav_menu": {},
      "number_sections": true,
      "sideBar": true,
      "skip_h1_title": true,
      "title_cell": "Содержание",
      "title_sidebar": "Contents",
      "toc_cell": true,
      "toc_position": {
        "height": "calc(100% - 180px)",
        "left": "10px",
        "top": "150px",
        "width": "326.398px"
      },
      "toc_section_display": true,
      "toc_window_display": true
    },
    "colab": {
      "provenance": []
    }
  },
  "nbformat": 4,
  "nbformat_minor": 0
}