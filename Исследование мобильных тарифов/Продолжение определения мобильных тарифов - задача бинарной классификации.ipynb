{
  "cells": [
    {
      "cell_type": "markdown",
      "metadata": {
        "id": "-Ouc0ERl0en1"
      },
      "source": [
        "# Рекомендация тарифов"
      ]
    },
    {
      "cell_type": "markdown",
      "metadata": {
        "id": "gli6nabh0en2"
      },
      "source": [
        "В вашем распоряжении данные о поведении клиентов, которые уже перешли на эти тарифы (из проекта курса «Статистический анализ данных»). Нужно построить модель для задачи классификации, которая выберет подходящий тариф. Предобработка данных не понадобится — вы её уже сделали.\n",
        "\n",
        "Постройте модель с максимально большим значением *accuracy*. Чтобы сдать проект успешно, нужно довести долю правильных ответов по крайней мере до 0.75. Проверьте *accuracy* на тестовой выборке самостоятельно."
      ]
    },
    {
      "cell_type": "markdown",
      "metadata": {
        "id": "Q8nAqZuC0en2"
      },
      "source": [
        "## Откройте и изучите файл"
      ]
    },
    {
      "cell_type": "markdown",
      "metadata": {
        "id": "h6-58uIl0en2"
      },
      "source": [
        "Добавим необходимые методы, библиотеки для дальнейшей работы с датасетом и решении поставленной задачи."
      ]
    },
    {
      "cell_type": "code",
      "execution_count": null,
      "metadata": {
        "id": "0ntlfU-90en2"
      },
      "outputs": [],
      "source": [
        "import pandas as pd\n",
        "import numpy as np\n",
        "import matplotlib.pyplot as plt\n",
        "\n",
        "from sklearn.model_selection import train_test_split\n",
        "from sklearn.metrics import accuracy_score\n",
        "\n",
        "from sklearn.tree import DecisionTreeClassifier\n",
        "from sklearn.ensemble import RandomForestClassifier\n",
        "from sklearn.linear_model import LogisticRegression\n",
        "\n",
        "from sklearn.metrics import precision_score\n",
        "from sklearn.metrics import recall_score\n",
        "from sklearn.metrics import f1_score\n",
        "\n",
        "import warnings\n",
        "warnings.filterwarnings('ignore')"
      ]
    },
    {
      "cell_type": "markdown",
      "metadata": {
        "id": "HBIbMv6o0en3"
      },
      "source": [
        "Откроем файл, запишем их в переменную data, проанализируем:"
      ]
    },
    {
      "cell_type": "code",
      "execution_count": null,
      "metadata": {
        "id": "SGZ9beXM0en4",
        "outputId": "d65c53a5-6e4b-44cb-e812-62da3820ce70"
      },
      "outputs": [
        {
          "name": "stdout",
          "output_type": "stream",
          "text": [
            "<class 'pandas.core.frame.DataFrame'>\n",
            "RangeIndex: 3214 entries, 0 to 3213\n",
            "Data columns (total 5 columns):\n",
            " #   Column    Non-Null Count  Dtype  \n",
            "---  ------    --------------  -----  \n",
            " 0   calls     3214 non-null   float64\n",
            " 1   minutes   3214 non-null   float64\n",
            " 2   messages  3214 non-null   float64\n",
            " 3   mb_used   3214 non-null   float64\n",
            " 4   is_ultra  3214 non-null   int64  \n",
            "dtypes: float64(4), int64(1)\n",
            "memory usage: 125.7 KB\n"
          ]
        }
      ],
      "source": [
        "data = pd.read_csv('/datasets/users_behavior.csv')\n",
        "data.info()"
      ]
    },
    {
      "cell_type": "markdown",
      "metadata": {
        "id": "Rj7U4sXz0en5"
      },
      "source": [
        "Датасет на 3214 записей, можно индефицировать как 3214 клиентов, пропусков нет, чистили его насколько я помню в прошлом модуле, поэтому в предоборотке датасет не нуждается."
      ]
    },
    {
      "cell_type": "markdown",
      "metadata": {
        "id": "CtDwuqcf0en5"
      },
      "source": [
        "### Вывод\n",
        "\n",
        "Нам достался датасет, с которым мы когда то работали, поэтому предообработка ему не нужна."
      ]
    },
    {
      "cell_type": "markdown",
      "metadata": {
        "id": "Rs9UmZRz0en6"
      },
      "source": [
        "Обратимся к вики, чтобы разобраться, что же это такое\n",
        "\n",
        "Мультиколлинеарность (multicollinearity) — в эконометрике (регрессионный анализ) — наличие линейной зависимости между объясняющими переменными (факторами) регрессионной модели. При этом различают полную коллинеарность, которая означает наличие функциональной (тождественной) линейной зависимости и частичную или просто мультиколлинеарность — наличие сильной корреляции между факторами.\n",
        "\n",
        "Собственно говоря, как я понял, это сильная взаимосвязь параметров (в нашем случае столбцов), вероятно, можно избавиться от одного для дальнейшего анализа, поскольку все взаимосвязи в другими параметрами будут индентичны, я могу без угрызений совести выкинуть одну из двух фич (минуты или количество звонков). Но делать так не хочется, мало ли что-то сломается в последствии, хотя уверен, что в дальнейшем с этими параметрами не работаю от слова совсем, только загоняю их в признаки на вход модели и от того, что снесу один ничего не поменяется :))"
      ]
    },
    {
      "cell_type": "code",
      "execution_count": null,
      "metadata": {
        "id": "sYWDlWBH0en6",
        "outputId": "b3625606-4418-406c-d5eb-a9093afad500"
      },
      "outputs": [
        {
          "data": {
            "text/html": [
              "<div>\n",
              "<style scoped>\n",
              "    .dataframe tbody tr th:only-of-type {\n",
              "        vertical-align: middle;\n",
              "    }\n",
              "\n",
              "    .dataframe tbody tr th {\n",
              "        vertical-align: top;\n",
              "    }\n",
              "\n",
              "    .dataframe thead th {\n",
              "        text-align: right;\n",
              "    }\n",
              "</style>\n",
              "<table border=\"1\" class=\"dataframe\">\n",
              "  <thead>\n",
              "    <tr style=\"text-align: right;\">\n",
              "      <th></th>\n",
              "      <th>calls</th>\n",
              "      <th>minutes</th>\n",
              "      <th>messages</th>\n",
              "      <th>mb_used</th>\n",
              "      <th>is_ultra</th>\n",
              "    </tr>\n",
              "  </thead>\n",
              "  <tbody>\n",
              "    <tr>\n",
              "      <th>calls</th>\n",
              "      <td>1.000000</td>\n",
              "      <td>0.978684</td>\n",
              "      <td>0.155032</td>\n",
              "      <td>0.253886</td>\n",
              "      <td>0.160549</td>\n",
              "    </tr>\n",
              "    <tr>\n",
              "      <th>minutes</th>\n",
              "      <td>0.978684</td>\n",
              "      <td>1.000000</td>\n",
              "      <td>0.153784</td>\n",
              "      <td>0.248818</td>\n",
              "      <td>0.159991</td>\n",
              "    </tr>\n",
              "    <tr>\n",
              "      <th>messages</th>\n",
              "      <td>0.155032</td>\n",
              "      <td>0.153784</td>\n",
              "      <td>1.000000</td>\n",
              "      <td>0.141999</td>\n",
              "      <td>0.106537</td>\n",
              "    </tr>\n",
              "    <tr>\n",
              "      <th>mb_used</th>\n",
              "      <td>0.253886</td>\n",
              "      <td>0.248818</td>\n",
              "      <td>0.141999</td>\n",
              "      <td>1.000000</td>\n",
              "      <td>0.154989</td>\n",
              "    </tr>\n",
              "    <tr>\n",
              "      <th>is_ultra</th>\n",
              "      <td>0.160549</td>\n",
              "      <td>0.159991</td>\n",
              "      <td>0.106537</td>\n",
              "      <td>0.154989</td>\n",
              "      <td>1.000000</td>\n",
              "    </tr>\n",
              "  </tbody>\n",
              "</table>\n",
              "</div>"
            ],
            "text/plain": [
              "             calls   minutes  messages   mb_used  is_ultra\n",
              "calls     1.000000  0.978684  0.155032  0.253886  0.160549\n",
              "minutes   0.978684  1.000000  0.153784  0.248818  0.159991\n",
              "messages  0.155032  0.153784  1.000000  0.141999  0.106537\n",
              "mb_used   0.253886  0.248818  0.141999  1.000000  0.154989\n",
              "is_ultra  0.160549  0.159991  0.106537  0.154989  1.000000"
            ]
          },
          "execution_count": 3,
          "metadata": {},
          "output_type": "execute_result"
        }
      ],
      "source": [
        "data.corr(method='spearman')"
      ]
    },
    {
      "cell_type": "markdown",
      "metadata": {
        "id": "a7uZbRaq0en6"
      },
      "source": [
        "Да, что и требовалось доказать, для нахождения закономерности с другим столбцами они взаимозаменяемы и это лишняя трата ресурсов вычислительных."
      ]
    },
    {
      "cell_type": "markdown",
      "metadata": {
        "id": "DAmlBkHC0en6"
      },
      "source": [
        "## Разбейте данные на выборки"
      ]
    },
    {
      "cell_type": "markdown",
      "metadata": {
        "id": "k7h0_HUH0en6"
      },
      "source": [
        "Разобьем исходные данные на три выборки: обучающую, валидационную и тестовую\n",
        "\n",
        "В sklearn для этого предусмотрена функция train_test_split. Она разбивает любой датасет на две выборки в зависимости от компонента test_size. Чтобы разбить на три выборки произведем разбиение дважды, сначала разобьем исходные дата сет на обучающую выборку, куда уйдет 60% данных, и другую часть, куда уйдут 40%. Затем разобьем эту часть пополам и половину запишем под валидационную, а другую под тестовую, таким образом у нас получиться 60% обучающей + 20% валидационной + 20% тестовой."
      ]
    },
    {
      "cell_type": "code",
      "execution_count": null,
      "metadata": {
        "id": "fBsFS4Z50en6"
      },
      "outputs": [],
      "source": [
        "data_train, data_40 = train_test_split(data, test_size=0.4, random_state=12345)\n",
        "data_valid, data_test = train_test_split(data_40, test_size=0.5, random_state=12345)"
      ]
    },
    {
      "cell_type": "markdown",
      "metadata": {
        "id": "cuvrUZBf0en7"
      },
      "source": [
        "### Вывод\n",
        "Получили три выборки с разделение 60-20-20 дважды поделив их на две части."
      ]
    },
    {
      "cell_type": "code",
      "execution_count": null,
      "metadata": {
        "id": "uFfq0ULi0en7",
        "outputId": "c8d55456-2e04-430e-9a66-5eee3f465441"
      },
      "outputs": [
        {
          "name": "stdout",
          "output_type": "stream",
          "text": [
            "(1928, 5)\n",
            "(643, 5)\n",
            "(643, 5)\n"
          ]
        }
      ],
      "source": [
        "print(data_train.shape)\n",
        "print(data_valid.shape)\n",
        "print(data_test.shape)"
      ]
    },
    {
      "cell_type": "markdown",
      "metadata": {
        "id": "saOBMZ720en7"
      },
      "source": [
        "Выведем размерность наших разбиений, как видим, все вышло как надо!"
      ]
    },
    {
      "cell_type": "markdown",
      "metadata": {
        "id": "iJ_gqz4r0en8"
      },
      "source": [
        "## Исследуйте модели"
      ]
    },
    {
      "cell_type": "markdown",
      "metadata": {
        "id": "DvdQGSTY0en8"
      },
      "source": [
        "Прежде чем исследовать модели, необходимо определиться с целевым признаком, для этого нам понадобится бизнес-требование, которое гласит: \"Они хотят построить систему, способную проанализировать поведение клиентов и предложить пользователям новый тариф: «Смарт» или «Ультра».\"\n",
        "\n",
        "Главная задача - это на основе некоторых входных признаков научиться прогназировать, кому более подходит тариф Ультра, а кому нет (данные по нему храняться в столбце \"is_ultra\", состоящего из 1 и 0 (кстати, столбец разумнее сделать булевым)). Отсюда можно сделать вывод, что перед нами стоит задача бинарной классификации. А целевой признак и есть данный столбец \"is_ultra\".\n",
        "\n",
        "Таким образом, нам необходимо создать модель и обучить ее предсказывать данные данного столбца, причем с наименьшей погрешностью. Чтобы минимизировать погрешности, будем перебирать разные модели машинного обучения, которые проходили в данном спринте, а именно:\n",
        "- Дерево решений\n",
        "- Случайный лес\n",
        "- Логистическая регрессия\n",
        "\n",
        "Мы не просто попробуем разные модели, а попробуем повзаимодействовать с их гиперпараметрами, для достижения более точного результата с минимальными погрешностями.\n",
        "\n",
        "Так как наборы признаков будут одинаковы для каждой модели, выделим наши features&target для обучения прямо сейчас:"
      ]
    },
    {
      "cell_type": "code",
      "execution_count": null,
      "metadata": {
        "id": "yElhc_6X0en8"
      },
      "outputs": [],
      "source": [
        "#data['is_ultra'].unique()\n",
        "features_train = data_train.drop(['is_ultra'], axis=1)\n",
        "target_train = data_train['is_ultra']\n",
        "\n",
        "features_valid = data_valid.drop(['is_ultra'], axis=1)\n",
        "target_valid = data_valid['is_ultra']\n",
        "\n",
        "features_test = data_test.drop(['is_ultra'], axis=1)\n",
        "target_test = data_test['is_ultra']"
      ]
    },
    {
      "cell_type": "markdown",
      "metadata": {
        "id": "Y1eQ1Pvt0en8"
      },
      "source": [
        "### Модель Дерево решений"
      ]
    },
    {
      "cell_type": "code",
      "execution_count": null,
      "metadata": {
        "id": "ztaOngeN0en8",
        "outputId": "da9097bb-f573-4416-838e-c9a684d8ec54"
      },
      "outputs": [
        {
          "name": "stdout",
          "output_type": "stream",
          "text": [
            "[0.78227, 0.78538, 0.77916, 0.77916, 0.78383, 0.78227, 0.77916, 0.78227, 0.77449, 0.76205, 0.76205, 0.75583, 0.75894, 0.7465, 0.73406, 0.73561, 0.73095, 0.72784]\n",
            "\n",
            "Максимальная доля правильных ответов 0.78538 при max_depth = 3\n"
          ]
        }
      ],
      "source": [
        "accuracy_list = [] # список для значений точности\n",
        "\n",
        "for depth in range(2, 20): # реализуем цикл для подстановки значений в гиперпараметр глубины дерева\n",
        "    model_tree = DecisionTreeClassifier(random_state=12345, max_depth=depth) # определяем вид модели и ее гиперпараметры\n",
        "\n",
        "    model_tree.fit(features_train, target_train) # обучаем модель на обучающем наборе данных\n",
        "\n",
        "    predictions_tree = model_tree.predict(features_valid) # проверяем модель на валидационном наборе данных\n",
        "\n",
        "    accuracy = round(accuracy_score(target_valid, predictions_tree), 5) # округлим до 5 знаков для читаемости\n",
        "    accuracy_list.append(accuracy) # добавляем в список точности\n",
        "\n",
        "print(accuracy_list)\n",
        "print()\n",
        "print('Максимальная доля правильных ответов', max(accuracy_list), 'при max_depth =', np.argmax(accuracy_list)+2)\n",
        "\n",
        "best_tree_model = DecisionTreeClassifier(random_state=12345, max_depth=np.argmax(accuracy_list)+2)# сохраним лучший результат"
      ]
    },
    {
      "cell_type": "markdown",
      "metadata": {
        "id": "StbqxTIa0en9"
      },
      "source": [
        "Лучший результат достигается при глубине дерева равной трем. Получили точность около 78,5%."
      ]
    },
    {
      "cell_type": "markdown",
      "metadata": {
        "id": "v0Fl_hLE0en9"
      },
      "source": [
        "### Модель Случайный лес"
      ]
    },
    {
      "cell_type": "markdown",
      "metadata": {
        "id": "pJObSM6D0en9"
      },
      "source": [
        "В модели Случайный лес будут использоваться два цикла (как и в задании с тренажером), один под глубину дерева, другой под количество деревьев. Двойной цикл не лучшее с точки зрения оптимизации, но что поделать!  "
      ]
    },
    {
      "cell_type": "code",
      "execution_count": null,
      "metadata": {
        "id": "wz6xEIhn0en9",
        "outputId": "48b20764-7a55-4e1a-d4c2-af0051e6ae54"
      },
      "outputs": [
        {
          "data": {
            "text/html": [
              "<div>\n",
              "<style scoped>\n",
              "    .dataframe tbody tr th:only-of-type {\n",
              "        vertical-align: middle;\n",
              "    }\n",
              "\n",
              "    .dataframe tbody tr th {\n",
              "        vertical-align: top;\n",
              "    }\n",
              "\n",
              "    .dataframe thead th {\n",
              "        text-align: right;\n",
              "    }\n",
              "</style>\n",
              "<table border=\"1\" class=\"dataframe\">\n",
              "  <thead>\n",
              "    <tr style=\"text-align: right;\">\n",
              "      <th></th>\n",
              "      <th>max_depth</th>\n",
              "      <th>n_estimators</th>\n",
              "      <th>accuracy</th>\n",
              "    </tr>\n",
              "  </thead>\n",
              "  <tbody>\n",
              "    <tr>\n",
              "      <th>33</th>\n",
              "      <td>8</td>\n",
              "      <td>40</td>\n",
              "      <td>0.80871</td>\n",
              "    </tr>\n",
              "  </tbody>\n",
              "</table>\n",
              "</div>"
            ],
            "text/plain": [
              "    max_depth  n_estimators  accuracy\n",
              "33          8            40   0.80871"
            ]
          },
          "metadata": {},
          "output_type": "display_data"
        }
      ],
      "source": [
        "# соберем значения accuracy и гиперпараметров в списки, из которых потом создадим датафрейм\n",
        "accuracy_list = []\n",
        "max_depth_list = []\n",
        "n_estim_list = []\n",
        "\n",
        "for depth in range(2, 20):\n",
        "    for est in range(10, 51, 10): # установим шаг 10, потому что ждать 2 минуты результата - можно взгрустнуть:C\n",
        "        model_rf = RandomForestClassifier(random_state=12345, max_depth=depth, n_estimators=est) # определяем вид модели и ее гиперпараметры\n",
        "\n",
        "        model_rf.fit(features_train, target_train) # обучаем модель на обучающем наборе данных\n",
        "\n",
        "        predictions_rf = model_rf.predict(features_valid) # проверяем модель на валидационном наборе данных\n",
        "\n",
        "        accuracy = round(accuracy_score(target_valid, predictions_rf), 5) # округлим до 5 знаков для читаемости\n",
        "\n",
        "        accuracy_list.append(accuracy)\n",
        "        max_depth_list.append(depth)\n",
        "        n_estim_list.append(est)\n",
        "\n",
        "# собираем все списки в один\n",
        "result_list = [max_depth_list, n_estim_list, accuracy_list]\n",
        "\n",
        "# создаем датафрейм\n",
        "data_random_forest = pd.DataFrame({'max_depth':max_depth_list, 'n_estimators':n_estim_list, 'accuracy':accuracy_list})\n",
        "\n",
        "# выводим на экран строку с наибольшей точностью\n",
        "display(data_random_forest[data_random_forest['accuracy']==data_random_forest['accuracy'].max()])\n",
        "\n",
        "best_forest_model = RandomForestClassifier(random_state=12345, max_depth=8, n_estimators=40) # сохраним по результатам прогона"
      ]
    },
    {
      "cell_type": "markdown",
      "metadata": {
        "id": "d5reYXAF0en-"
      },
      "source": [
        "Самый лучший результат получили при глубине дерева 15 и количестве деревьев 50. Доля правильных ответов составляет более 80%."
      ]
    },
    {
      "cell_type": "markdown",
      "metadata": {
        "id": "KtgH4UW40en-"
      },
      "source": [
        "### Модель Логистическая регрессия"
      ]
    },
    {
      "cell_type": "code",
      "execution_count": null,
      "metadata": {
        "id": "MozB_T0B0en-",
        "outputId": "7a19e2f9-5ef7-41b6-e6d3-5fd48ad0aafc"
      },
      "outputs": [
        {
          "name": "stdout",
          "output_type": "stream",
          "text": [
            "0.75583\n",
            "0.71073\n",
            "0.70918\n",
            "0.70607\n",
            "0.70607\n"
          ]
        }
      ],
      "source": [
        "for solve in ['newton-cg', 'lbfgs', 'liblinear', 'sag', 'saga']:\n",
        "    model = LogisticRegression(random_state=12345, solver=solve)\n",
        "\n",
        "    model.fit(features_train, target_train)\n",
        "\n",
        "    predictions = model.predict(features_valid)\n",
        "\n",
        "    accuracy_lr = round(accuracy_score(target_valid, predictions), 5)\n",
        "    print(accuracy_lr)\n",
        "\n",
        "best_reg_model = LogisticRegression(random_state=12345, solver='newton-cg')"
      ]
    },
    {
      "cell_type": "markdown",
      "metadata": {
        "id": "BRSO8_oB0en-"
      },
      "source": [
        "Нашел в документации различные возможные параметры гиперпараметра solver, это вероятно выбранный алгоритм для логистической регрессии, пока что не разобрался наверняка как он работает, но для разнообразия перебрал его, и как мы видим, выбил этим самым результат >75%. Правда красные варнинги очень настораживают ..."
      ]
    },
    {
      "cell_type": "markdown",
      "metadata": {
        "id": "R1-RmXkS0eoI"
      },
      "source": [
        "### Вывод по главе:\n",
        "Таким образом мы можем выделить наиболее удачные модели, а именно дерево решений с глубиной 3, случайный лес с глубиной 15 и количеством деревьев равным 50, а так же логистическую регрессию с параметром solver='newton-cg'."
      ]
    },
    {
      "cell_type": "markdown",
      "metadata": {
        "id": "LI2PWmgz0eoJ"
      },
      "source": [
        "## Проверьте модель на тестовой выборке"
      ]
    },
    {
      "cell_type": "code",
      "execution_count": null,
      "metadata": {
        "id": "GS_Pbwkr0eoJ",
        "outputId": "22b8cf9c-9e04-4570-be4e-63fe8ce08cbf"
      },
      "outputs": [
        {
          "name": "stdout",
          "output_type": "stream",
          "text": [
            "Точность модели дерева решений на тестовой выборке 0.7791601866251944\n",
            "Точность модели случайного леса на тестовой выборке 0.7962674961119751\n",
            "Точность модели логистической регресиии на тестовой выборке 0.7387247278382582\n"
          ]
        }
      ],
      "source": [
        "best_tree_model.fit(features_train, target_train)\n",
        "test_predictions = best_tree_model.predict(features_test)\n",
        "accuracy = accuracy_score(target_test, test_predictions)\n",
        "print('Точность модели дерева решений на тестовой выборке',accuracy)\n",
        "\n",
        "best_forest_model.fit(features_train, target_train)\n",
        "test_predictions = best_forest_model.predict(features_test)\n",
        "accuracy = accuracy_score(target_test, test_predictions)\n",
        "print('Точность модели случайного леса на тестовой выборке',accuracy)\n",
        "\n",
        "best_reg_model.fit(features_train, target_train)\n",
        "test_predictions = best_reg_model.predict(features_test)\n",
        "accuracy = accuracy_score(target_test, test_predictions)\n",
        "print('Точность модели логистической регресиии на тестовой выборке',accuracy)"
      ]
    },
    {
      "cell_type": "markdown",
      "metadata": {
        "id": "3dgcEqDG0eoJ"
      },
      "source": [
        "Снова варнинги:C Немного костыльно выглядит, снова пришлось прописывать обучение, так как я записывал отдельно лучшие модели, но вроде работает, лучшая точность у Случайного леса, худшая у логистической регрессии."
      ]
    },
    {
      "cell_type": "markdown",
      "metadata": {
        "id": "gBE94zwC0eoK"
      },
      "source": [
        "## (бонус) Проверьте модели на адекватность"
      ]
    },
    {
      "cell_type": "markdown",
      "metadata": {
        "id": "DAiEof4w0eoK"
      },
      "source": [
        "Ответ на данный раздел я нашел в глубинах интернета, хотя как глубинах, минут 10, в целом понял (хотя узнал, что такоее среднее гармоническое), так что теперь смогу провернуть это для любой задачи классификации.\n",
        "\n",
        "Оценить адекватность модели можно используя несколько метрик:\n",
        "\n",
        "- accuracy - точность совпадения прогнозов с правильными ответами.\n",
        "- precision - отношение правильно предсказанных классов равных 1(TP) к сумме правильно предсказанных классов равных 1(TP) с неправльными предсказаниями, указанные как 1(FP).\n",
        "- recall - отношение правильно предсказанных классов равных 1(TP) к сумме правильно предсказанных классов равных 1(TP) с неправльными предсказаниями, указанные как 0(FN).\n",
        "\n",
        "Для оценки адеватности используется F-мера - среднее гармоническое между precision и recall. Если хотя бы один из параметров близок к нулю, то и F-мера стремится к 0. Если оба стремятся к 1, то F-мера тоже стремится к 1."
      ]
    },
    {
      "cell_type": "code",
      "execution_count": null,
      "metadata": {
        "id": "W8qGSIhY0eoK",
        "outputId": "e421aeee-6bdf-410b-c3b5-10da2b6ec522"
      },
      "outputs": [
        {
          "name": "stdout",
          "output_type": "stream",
          "text": [
            "Accuracy = 0.7962674961119751 Precision = 0.75 Recall = 0.5320197044334976\n",
            "F-мера = 0.622478386167147\n"
          ]
        }
      ],
      "source": [
        "test_predictions = best_forest_model.predict(features_test)\n",
        "accuracy = accuracy_score(target_test, test_predictions)\n",
        "precision = precision_score(target_test, test_predictions)\n",
        "recall = recall_score(target_test, test_predictions)\n",
        "print('Accuracy =', accuracy, 'Precision =', precision, 'Recall =', recall)\n",
        "\n",
        "f_score = f1_score(target_test, test_predictions)\n",
        "print('F-мера =', f_score)"
      ]
    },
    {
      "cell_type": "markdown",
      "metadata": {
        "id": "yPBS1b4p0eoK"
      },
      "source": [
        "### Вывод\n",
        "\n",
        "Адекватность модели оценивается по нескольким параметрам. Для модели классификации это accuracy, precision и recall. Качество модели лучше всего отражают precision и recall и эти метрики складываются в F-мера как единую оценку модели.\n",
        "\n",
        "Модель получилась среднего качества. И для таких задач она адекватна."
      ]
    }
  ],
  "metadata": {
    "ExecuteTimeLog": [
      {
        "duration": 52,
        "start_time": "2022-12-03T18:53:20.740Z"
      },
      {
        "duration": 1556,
        "start_time": "2022-12-03T18:53:24.958Z"
      },
      {
        "duration": 109,
        "start_time": "2022-12-03T18:53:26.516Z"
      },
      {
        "duration": 84,
        "start_time": "2022-12-03T19:47:49.131Z"
      },
      {
        "duration": 7,
        "start_time": "2022-12-03T19:47:57.654Z"
      },
      {
        "duration": 5,
        "start_time": "2022-12-03T19:48:23.837Z"
      },
      {
        "duration": 20,
        "start_time": "2022-12-03T19:48:33.601Z"
      },
      {
        "duration": 10,
        "start_time": "2022-12-03T19:48:41.906Z"
      },
      {
        "duration": 7,
        "start_time": "2022-12-03T19:48:52.818Z"
      },
      {
        "duration": 13,
        "start_time": "2022-12-03T19:52:05.710Z"
      },
      {
        "duration": 6,
        "start_time": "2022-12-03T19:52:24.370Z"
      },
      {
        "duration": 12,
        "start_time": "2022-12-03T20:02:01.139Z"
      },
      {
        "duration": 5,
        "start_time": "2022-12-03T20:02:10.964Z"
      },
      {
        "duration": 16,
        "start_time": "2022-12-03T20:12:02.872Z"
      },
      {
        "duration": 116,
        "start_time": "2022-12-03T20:17:43.751Z"
      },
      {
        "duration": 95,
        "start_time": "2022-12-03T20:18:08.251Z"
      },
      {
        "duration": 112,
        "start_time": "2022-12-03T20:18:12.534Z"
      },
      {
        "duration": 157,
        "start_time": "2022-12-03T20:19:35.834Z"
      },
      {
        "duration": 147,
        "start_time": "2022-12-03T20:20:19.347Z"
      },
      {
        "duration": 160,
        "start_time": "2022-12-03T20:21:24.949Z"
      },
      {
        "duration": 55572,
        "start_time": "2022-12-03T20:29:33.831Z"
      },
      {
        "duration": 57016,
        "start_time": "2022-12-03T20:30:39.296Z"
      },
      {
        "duration": 78681,
        "start_time": "2022-12-03T20:35:22.449Z"
      },
      {
        "duration": 75347,
        "start_time": "2022-12-03T20:37:18.055Z"
      },
      {
        "duration": 8982,
        "start_time": "2022-12-03T20:41:00.703Z"
      },
      {
        "duration": 39,
        "start_time": "2022-12-03T20:42:49.694Z"
      },
      {
        "duration": 38,
        "start_time": "2022-12-03T20:42:59.800Z"
      },
      {
        "duration": 268,
        "start_time": "2022-12-03T20:44:18.606Z"
      },
      {
        "duration": 22,
        "start_time": "2022-12-03T20:51:09.109Z"
      },
      {
        "duration": 172,
        "start_time": "2022-12-03T20:55:32.175Z"
      },
      {
        "duration": 9737,
        "start_time": "2022-12-03T20:58:30.641Z"
      },
      {
        "duration": 310,
        "start_time": "2022-12-03T20:59:02.049Z"
      },
      {
        "duration": 12,
        "start_time": "2022-12-03T20:59:13.719Z"
      },
      {
        "duration": 15,
        "start_time": "2022-12-03T21:00:08.347Z"
      },
      {
        "duration": 28,
        "start_time": "2022-12-03T21:00:36.603Z"
      },
      {
        "duration": 330,
        "start_time": "2022-12-03T21:01:25.496Z"
      },
      {
        "duration": 29,
        "start_time": "2022-12-03T21:04:40.667Z"
      },
      {
        "duration": 28,
        "start_time": "2022-12-03T21:04:53.422Z"
      },
      {
        "duration": 3,
        "start_time": "2022-12-03T21:05:30.560Z"
      },
      {
        "duration": 46,
        "start_time": "2022-12-03T21:05:34.101Z"
      },
      {
        "duration": 3,
        "start_time": "2022-12-03T21:05:55.752Z"
      },
      {
        "duration": 24,
        "start_time": "2022-12-03T21:05:59.269Z"
      },
      {
        "duration": 6,
        "start_time": "2022-12-03T21:06:16.122Z"
      },
      {
        "duration": 21,
        "start_time": "2022-12-03T21:06:19.828Z"
      },
      {
        "duration": 25,
        "start_time": "2022-12-03T21:15:11.705Z"
      },
      {
        "duration": 21,
        "start_time": "2022-12-03T21:18:44.503Z"
      },
      {
        "duration": 1163,
        "start_time": "2022-12-03T21:30:57.408Z"
      },
      {
        "duration": 140,
        "start_time": "2022-12-03T21:30:58.573Z"
      },
      {
        "duration": 6,
        "start_time": "2022-12-03T21:30:58.715Z"
      },
      {
        "duration": 15,
        "start_time": "2022-12-03T21:30:58.724Z"
      },
      {
        "duration": 263,
        "start_time": "2022-12-03T21:30:58.742Z"
      },
      {
        "duration": 0,
        "start_time": "2022-12-03T21:30:59.007Z"
      },
      {
        "duration": 0,
        "start_time": "2022-12-03T21:30:59.016Z"
      },
      {
        "duration": 0,
        "start_time": "2022-12-03T21:30:59.017Z"
      },
      {
        "duration": 0,
        "start_time": "2022-12-03T21:30:59.018Z"
      },
      {
        "duration": 32,
        "start_time": "2022-12-03T21:33:51.284Z"
      },
      {
        "duration": 0,
        "start_time": "2022-12-03T21:33:51.318Z"
      },
      {
        "duration": 0,
        "start_time": "2022-12-03T21:33:51.320Z"
      },
      {
        "duration": 0,
        "start_time": "2022-12-03T21:33:51.321Z"
      },
      {
        "duration": 172,
        "start_time": "2022-12-03T21:33:56.455Z"
      },
      {
        "duration": 9,
        "start_time": "2022-12-03T21:34:00.084Z"
      },
      {
        "duration": 9,
        "start_time": "2022-12-03T21:34:03.932Z"
      },
      {
        "duration": 173,
        "start_time": "2022-12-03T21:34:38.007Z"
      },
      {
        "duration": 0,
        "start_time": "2022-12-03T21:34:38.181Z"
      },
      {
        "duration": 0,
        "start_time": "2022-12-03T21:34:38.182Z"
      },
      {
        "duration": 0,
        "start_time": "2022-12-03T21:34:38.183Z"
      },
      {
        "duration": 0,
        "start_time": "2022-12-03T21:34:38.184Z"
      },
      {
        "duration": 1199,
        "start_time": "2022-12-03T21:34:53.391Z"
      },
      {
        "duration": 50,
        "start_time": "2022-12-03T21:34:54.592Z"
      },
      {
        "duration": 7,
        "start_time": "2022-12-03T21:34:54.644Z"
      },
      {
        "duration": 19,
        "start_time": "2022-12-03T21:34:54.654Z"
      },
      {
        "duration": 315,
        "start_time": "2022-12-03T21:34:54.675Z"
      },
      {
        "duration": 0,
        "start_time": "2022-12-03T21:34:54.991Z"
      },
      {
        "duration": 0,
        "start_time": "2022-12-03T21:34:54.993Z"
      },
      {
        "duration": 0,
        "start_time": "2022-12-03T21:34:54.994Z"
      },
      {
        "duration": 0,
        "start_time": "2022-12-03T21:34:54.996Z"
      },
      {
        "duration": 169,
        "start_time": "2022-12-03T21:36:23.971Z"
      },
      {
        "duration": 1413,
        "start_time": "2022-12-03T21:41:49.226Z"
      },
      {
        "duration": 49,
        "start_time": "2022-12-03T21:41:50.641Z"
      },
      {
        "duration": 13,
        "start_time": "2022-12-03T21:41:50.697Z"
      },
      {
        "duration": 20,
        "start_time": "2022-12-03T21:41:50.715Z"
      },
      {
        "duration": 315,
        "start_time": "2022-12-03T21:41:50.739Z"
      },
      {
        "duration": 0,
        "start_time": "2022-12-03T21:41:51.056Z"
      },
      {
        "duration": 0,
        "start_time": "2022-12-03T21:41:51.057Z"
      },
      {
        "duration": 0,
        "start_time": "2022-12-03T21:41:51.058Z"
      },
      {
        "duration": 0,
        "start_time": "2022-12-03T21:41:51.059Z"
      },
      {
        "duration": 169,
        "start_time": "2022-12-03T21:43:08.607Z"
      },
      {
        "duration": 170,
        "start_time": "2022-12-03T21:43:13.800Z"
      },
      {
        "duration": 169,
        "start_time": "2022-12-03T21:43:22.576Z"
      },
      {
        "duration": 168,
        "start_time": "2022-12-03T21:43:25.258Z"
      },
      {
        "duration": 21,
        "start_time": "2022-12-03T21:49:42.007Z"
      },
      {
        "duration": 4,
        "start_time": "2022-12-03T21:51:29.841Z"
      },
      {
        "duration": 7,
        "start_time": "2022-12-03T21:51:35.307Z"
      },
      {
        "duration": 100,
        "start_time": "2022-12-03T21:51:53.125Z"
      },
      {
        "duration": 4,
        "start_time": "2022-12-03T21:51:57.689Z"
      },
      {
        "duration": 3,
        "start_time": "2022-12-03T21:52:16.644Z"
      },
      {
        "duration": 5,
        "start_time": "2022-12-03T21:52:41.433Z"
      },
      {
        "duration": 164,
        "start_time": "2022-12-03T21:52:42.246Z"
      },
      {
        "duration": 47,
        "start_time": "2022-12-03T21:52:52.446Z"
      },
      {
        "duration": 9022,
        "start_time": "2022-12-03T21:53:39.696Z"
      },
      {
        "duration": 9040,
        "start_time": "2022-12-03T21:54:11.964Z"
      },
      {
        "duration": 8878,
        "start_time": "2022-12-03T21:54:33.350Z"
      },
      {
        "duration": 243,
        "start_time": "2022-12-03T21:54:42.229Z"
      },
      {
        "duration": 1415,
        "start_time": "2022-12-03T21:55:14.344Z"
      },
      {
        "duration": 56,
        "start_time": "2022-12-03T21:55:15.762Z"
      },
      {
        "duration": 21,
        "start_time": "2022-12-03T21:55:15.820Z"
      },
      {
        "duration": 7,
        "start_time": "2022-12-03T21:55:15.843Z"
      },
      {
        "duration": 14,
        "start_time": "2022-12-03T21:55:15.853Z"
      },
      {
        "duration": 14,
        "start_time": "2022-12-03T21:55:15.869Z"
      },
      {
        "duration": 227,
        "start_time": "2022-12-03T21:55:15.885Z"
      },
      {
        "duration": 9045,
        "start_time": "2022-12-03T21:55:16.122Z"
      },
      {
        "duration": 273,
        "start_time": "2022-12-03T21:55:25.168Z"
      },
      {
        "duration": 176,
        "start_time": "2022-12-03T21:55:25.442Z"
      },
      {
        "duration": 18,
        "start_time": "2022-12-03T21:55:25.620Z"
      },
      {
        "duration": 271,
        "start_time": "2022-12-03T21:56:20.398Z"
      },
      {
        "duration": 298,
        "start_time": "2022-12-03T21:56:32.332Z"
      },
      {
        "duration": 2123,
        "start_time": "2022-12-04T08:08:58.317Z"
      },
      {
        "duration": 82,
        "start_time": "2022-12-04T08:09:00.442Z"
      },
      {
        "duration": 15,
        "start_time": "2022-12-04T08:09:00.526Z"
      },
      {
        "duration": 16,
        "start_time": "2022-12-04T08:09:00.543Z"
      },
      {
        "duration": 17,
        "start_time": "2022-12-04T08:09:00.560Z"
      },
      {
        "duration": 15,
        "start_time": "2022-12-04T08:09:00.579Z"
      },
      {
        "duration": 187,
        "start_time": "2022-12-04T08:09:00.596Z"
      },
      {
        "duration": 18081,
        "start_time": "2022-12-04T08:09:00.784Z"
      },
      {
        "duration": 583,
        "start_time": "2022-12-04T08:09:18.867Z"
      },
      {
        "duration": 627,
        "start_time": "2022-12-04T08:09:19.453Z"
      },
      {
        "duration": 72,
        "start_time": "2022-12-04T08:09:20.081Z"
      },
      {
        "duration": 104,
        "start_time": "2022-12-04T10:48:02.967Z"
      },
      {
        "duration": 43,
        "start_time": "2022-12-04T10:48:14.235Z"
      },
      {
        "duration": 1460,
        "start_time": "2022-12-04T10:48:25.552Z"
      },
      {
        "duration": 133,
        "start_time": "2022-12-04T10:48:27.014Z"
      },
      {
        "duration": 14,
        "start_time": "2022-12-04T10:48:27.149Z"
      },
      {
        "duration": 6,
        "start_time": "2022-12-04T10:48:27.212Z"
      },
      {
        "duration": 4,
        "start_time": "2022-12-04T10:48:27.482Z"
      },
      {
        "duration": 6,
        "start_time": "2022-12-04T10:48:28.591Z"
      },
      {
        "duration": 156,
        "start_time": "2022-12-04T10:48:29.491Z"
      },
      {
        "duration": 8164,
        "start_time": "2022-12-04T10:48:31.807Z"
      },
      {
        "duration": 1553,
        "start_time": "2022-12-04T10:48:39.974Z"
      },
      {
        "duration": 218,
        "start_time": "2022-12-04T10:49:19.873Z"
      },
      {
        "duration": 255,
        "start_time": "2022-12-04T10:49:22.972Z"
      },
      {
        "duration": 296,
        "start_time": "2022-12-04T10:49:26.653Z"
      },
      {
        "duration": 125,
        "start_time": "2022-12-04T10:49:30.357Z"
      },
      {
        "duration": 58,
        "start_time": "2022-12-04T10:49:32.960Z"
      },
      {
        "duration": 255,
        "start_time": "2022-12-04T10:49:39.394Z"
      },
      {
        "duration": 325,
        "start_time": "2022-12-04T10:49:43.171Z"
      },
      {
        "duration": 383,
        "start_time": "2022-12-04T10:49:46.351Z"
      },
      {
        "duration": 355,
        "start_time": "2022-12-04T10:49:50.138Z"
      },
      {
        "duration": 379,
        "start_time": "2022-12-04T10:49:53.337Z"
      },
      {
        "duration": 654,
        "start_time": "2022-12-04T10:49:56.248Z"
      },
      {
        "duration": 1180,
        "start_time": "2022-12-04T10:50:02.026Z"
      },
      {
        "duration": 1148,
        "start_time": "2022-12-04T10:50:06.792Z"
      },
      {
        "duration": 44,
        "start_time": "2022-12-04T10:51:39.074Z"
      },
      {
        "duration": 4,
        "start_time": "2022-12-04T10:53:55.612Z"
      },
      {
        "duration": 278,
        "start_time": "2022-12-04T10:54:05.537Z"
      },
      {
        "duration": 1987,
        "start_time": "2022-12-04T11:43:01.971Z"
      },
      {
        "duration": 38,
        "start_time": "2022-12-04T11:43:03.960Z"
      },
      {
        "duration": 16,
        "start_time": "2022-12-04T11:43:04.000Z"
      },
      {
        "duration": 6,
        "start_time": "2022-12-04T11:43:04.018Z"
      },
      {
        "duration": 8,
        "start_time": "2022-12-04T11:43:04.026Z"
      },
      {
        "duration": 7,
        "start_time": "2022-12-04T11:43:04.035Z"
      },
      {
        "duration": 168,
        "start_time": "2022-12-04T11:43:04.043Z"
      },
      {
        "duration": 8909,
        "start_time": "2022-12-04T11:43:04.213Z"
      },
      {
        "duration": 239,
        "start_time": "2022-12-04T11:43:13.123Z"
      },
      {
        "duration": 309,
        "start_time": "2022-12-04T11:43:13.364Z"
      },
      {
        "duration": 17,
        "start_time": "2022-12-04T11:43:13.675Z"
      }
    ],
    "kernelspec": {
      "display_name": "Python 3 (ipykernel)",
      "language": "python",
      "name": "python3"
    },
    "language_info": {
      "codemirror_mode": {
        "name": "ipython",
        "version": 3
      },
      "file_extension": ".py",
      "mimetype": "text/x-python",
      "name": "python",
      "nbconvert_exporter": "python",
      "pygments_lexer": "ipython3",
      "version": "3.9.5"
    },
    "toc": {
      "base_numbering": 1,
      "nav_menu": {},
      "number_sections": true,
      "sideBar": true,
      "skip_h1_title": true,
      "title_cell": "Table of Contents",
      "title_sidebar": "Contents",
      "toc_cell": false,
      "toc_position": {
        "height": "calc(100% - 180px)",
        "left": "10px",
        "top": "150px",
        "width": "181px"
      },
      "toc_section_display": true,
      "toc_window_display": true
    },
    "colab": {
      "provenance": []
    }
  },
  "nbformat": 4,
  "nbformat_minor": 0
}