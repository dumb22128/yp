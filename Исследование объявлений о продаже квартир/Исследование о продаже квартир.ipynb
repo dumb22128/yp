{
 "cells": [
  {
   "cell_type": "markdown",
   "metadata": {},
   "source": [
    "Я буду красить комментарии цветом, пожалуйста, не удаляй их:\n",
    "\n",
    "<div class=\"alert alert-block alert-danger\">✍\n",
    "    \n",
    "\n",
    "__Комментарий от ревьюера №1__\n",
    "\n",
    "Такой комментарий нужно исправить обязательно, он критически влияет на удачное выполнение проекта.\n",
    "</div>\n",
    "    \n",
    "---\n",
    "\n",
    "<div class=\"alert alert-block alert-warning\">📝\n",
    "    \n",
    "\n",
    "__Комментарий от ревьюера №1__\n",
    "\n",
    "\n",
    "Такой комментарий является рекомендацией или советом. Можешь использовать их на своё усмотрение.\n",
    "</div>\n",
    "\n",
    "---\n",
    "\n",
    "<div class=\"alert alert-block alert-success\">✔️\n",
    "    \n",
    "\n",
    "__Комментарий от ревьюера №1__\n",
    "\n",
    "Такой комментарий  говорит о том, что было сделано что-то качественное и правильное =)\n",
    "</div>\n",
    "    \n",
    "---\n",
    "    \n",
    "Предлагаю работать над проектом в диалоге: если ты что-то меняешь в проекте или отвечаешь на мои комментарии — пиши об этом. Мне будет легче отследить изменения, если ты выделишь свои комментарии:   \n",
    "    \n",
    "<div class=\"alert alert-info\"> <b>Комментарии студента:</b> Например, вот так.</div>\n",
    "    \n",
    "Всё это поможет выполнить повторную проверку твоего проекта оперативнее. Если будут какие-нибудь вопросы по моим комментариям, пиши, будем разбираться вместе :)    \n",
    "    \n",
    "---"
   ]
  },
  {
   "cell_type": "markdown",
   "metadata": {},
   "source": [
    "# Исследование объявлений о продаже квартир\n",
    "\n",
    "В вашем распоряжении данные сервиса Яндекс.Недвижимость — архив объявлений о продаже квартир в Санкт-Петербурге и соседних населённых пунктов за несколько лет. Нужно научиться определять рыночную стоимость объектов недвижимости. Ваша задача — установить параметры. Это позволит построить автоматизированную систему: она отследит аномалии и мошенническую деятельность. \n",
    "\n",
    "По каждой квартире на продажу доступны два вида данных. Первые вписаны пользователем, вторые — получены автоматически на основе картографических данных. Например, расстояние до центра, аэропорта, ближайшего парка и водоёма. "
   ]
  },
  {
   "cell_type": "markdown",
   "metadata": {},
   "source": [
    "<div class=\"alert alert-block alert-warning\">📝\n",
    "    \n",
    "\n",
    "__Комментарий от ревьюера №1__\n",
    "\n",
    "\n",
    "Отличная практика - расписывать цель и основные этапы своими словами (этот навык очень поможет на фильнальном проекте). Хорошо было бы добавить ход и цель исследования. Пример можно посмотреть в самом первом проекте (Музыка городов)\n",
    "</div>"
   ]
  },
  {
   "cell_type": "markdown",
   "metadata": {},
   "source": [
    "### Откройте файл с данными и изучите общую информацию. "
   ]
  },
  {
   "cell_type": "markdown",
   "metadata": {},
   "source": [
    "**Импортируем библиотеку pandas. Считаем данные из csv-файла в датафрейм и сохраните в переменную `data`. Путь к файлу:**\n",
    "\n",
    "`/datasets/real_estate_data.csv`"
   ]
  },
  {
   "cell_type": "code",
   "execution_count": 1,
   "metadata": {},
   "outputs": [],
   "source": [
    "import pandas as pd\n",
    "import matplotlib.pyplot as plt\n",
    "data = pd.read_csv('/datasets/real_estate_data.csv')"
   ]
  },
  {
   "cell_type": "markdown",
   "metadata": {},
   "source": [
    "**Также запросим информацию о датасете с помощью метода info():**"
   ]
  },
  {
   "cell_type": "code",
   "execution_count": 2,
   "metadata": {},
   "outputs": [
    {
     "name": "stdout",
     "output_type": "stream",
     "text": [
      "<class 'pandas.core.frame.DataFrame'>\n",
      "RangeIndex: 23699 entries, 0 to 23698\n",
      "Data columns (total 1 columns):\n",
      " #   Column                                                                                                                                                                                                                                                                                           Non-Null Count  Dtype \n",
      "---  ------                                                                                                                                                                                                                                                                                           --------------  ----- \n",
      " 0   total_images\tlast_price\ttotal_area\tfirst_day_exposition\trooms\tceiling_height\tfloors_total\tliving_area\tfloor\tis_apartment\tstudio\topen_plan\tkitchen_area\tbalcony\tlocality_name\tairports_nearest\tcityCenters_nearest\tparks_around3000\tparks_nearest\tponds_around3000\tponds_nearest\tdays_exposition  23699 non-null  object\n",
      "dtypes: object(1)\n",
      "memory usage: 185.3+ KB\n",
      "  total_images\\tlast_price\\ttotal_area\\tfirst_day_exposition\\trooms\\tceiling_height\\tfloors_total\\tliving_area\\tfloor\\tis_apartment\\tstudio\\topen_plan\\tkitchen_area\\tbalcony\\tlocality_name\\tairports_nearest\\tcityCenters_nearest\\tparks_around3000\\tparks_nearest\\tponds_around3000\\tponds_nearest\\tdays_exposition\n",
      "0  20\\t13000000.0\\t108.0\\t2019-03-07T00:00:00\\t3\\...                                                                                                                                                                                                                                                                  \n",
      "1  7\\t3350000.0\\t40.4\\t2018-12-04T00:00:00\\t1\\t\\t...                                                                                                                                                                                                                                                                  \n",
      "2  10\\t5196000.0\\t56.0\\t2015-08-20T00:00:00\\t2\\t\\...                                                                                                                                                                                                                                                                  \n",
      "3  0\\t64900000.0\\t159.0\\t2015-07-24T00:00:00\\t3\\t...                                                                                                                                                                                                                                                                  \n",
      "4  2\\t10000000.0\\t100.0\\t2018-06-19T00:00:00\\t2\\t...                                                                                                                                                                                                                                                                  \n"
     ]
    }
   ],
   "source": [
    "data.info()\n",
    "print(data.head(5))"
   ]
  },
  {
   "cell_type": "markdown",
   "metadata": {},
   "source": [
    "23699 строк и всего одна колонка, выглядит, как будто данные повреждены или неправильно интерпретированы. Однако, если мы выведем датасет, то увидим, что в качестве разделитя используется табуляция, и **проблема решается, если задать аргумент sep внутри read_csv.**"
   ]
  },
  {
   "cell_type": "markdown",
   "metadata": {},
   "source": [
    "<div class=\"alert alert-block alert-success\">✔️\n",
    "    \n",
    "\n",
    "__Комментарий от ревьюера №1__\n",
    "\n",
    "Всё верно\n",
    "</div>"
   ]
  },
  {
   "cell_type": "code",
   "execution_count": 3,
   "metadata": {},
   "outputs": [
    {
     "name": "stdout",
     "output_type": "stream",
     "text": [
      "<class 'pandas.core.frame.DataFrame'>\n",
      "RangeIndex: 23699 entries, 0 to 23698\n",
      "Data columns (total 22 columns):\n",
      " #   Column                Non-Null Count  Dtype  \n",
      "---  ------                --------------  -----  \n",
      " 0   total_images          23699 non-null  int64  \n",
      " 1   last_price            23699 non-null  float64\n",
      " 2   total_area            23699 non-null  float64\n",
      " 3   first_day_exposition  23699 non-null  object \n",
      " 4   rooms                 23699 non-null  int64  \n",
      " 5   ceiling_height        14504 non-null  float64\n",
      " 6   floors_total          23613 non-null  float64\n",
      " 7   living_area           21796 non-null  float64\n",
      " 8   floor                 23699 non-null  int64  \n",
      " 9   is_apartment          2775 non-null   object \n",
      " 10  studio                23699 non-null  bool   \n",
      " 11  open_plan             23699 non-null  bool   \n",
      " 12  kitchen_area          21421 non-null  float64\n",
      " 13  balcony               12180 non-null  float64\n",
      " 14  locality_name         23650 non-null  object \n",
      " 15  airports_nearest      18157 non-null  float64\n",
      " 16  cityCenters_nearest   18180 non-null  float64\n",
      " 17  parks_around3000      18181 non-null  float64\n",
      " 18  parks_nearest         8079 non-null   float64\n",
      " 19  ponds_around3000      18181 non-null  float64\n",
      " 20  ponds_nearest         9110 non-null   float64\n",
      " 21  days_exposition       20518 non-null  float64\n",
      "dtypes: bool(2), float64(14), int64(3), object(3)\n",
      "memory usage: 3.7+ MB\n"
     ]
    }
   ],
   "source": [
    "data = pd.read_csv('/datasets/real_estate_data.csv', sep = '\\t')\n",
    "data.info()"
   ]
  },
  {
   "cell_type": "markdown",
   "metadata": {},
   "source": [
    "Теперь имеем целый 21 атрибут, но проблемы на этом не заканчиваются, мы видим явные пропуски значений в более чем половине колонок. О природе этих пропусков, поговорим в предобработке данных, а сейчас **построим гистограмму для всех столбцов таблицы:**"
   ]
  },
  {
   "cell_type": "code",
   "execution_count": 4,
   "metadata": {},
   "outputs": [
    {
     "data": {
      "text/plain": [
       "array([[<AxesSubplot:title={'center':'total_images'}>,\n",
       "        <AxesSubplot:title={'center':'last_price'}>,\n",
       "        <AxesSubplot:title={'center':'total_area'}>,\n",
       "        <AxesSubplot:title={'center':'rooms'}>],\n",
       "       [<AxesSubplot:title={'center':'ceiling_height'}>,\n",
       "        <AxesSubplot:title={'center':'floors_total'}>,\n",
       "        <AxesSubplot:title={'center':'living_area'}>,\n",
       "        <AxesSubplot:title={'center':'floor'}>],\n",
       "       [<AxesSubplot:title={'center':'kitchen_area'}>,\n",
       "        <AxesSubplot:title={'center':'balcony'}>,\n",
       "        <AxesSubplot:title={'center':'airports_nearest'}>,\n",
       "        <AxesSubplot:title={'center':'cityCenters_nearest'}>],\n",
       "       [<AxesSubplot:title={'center':'parks_around3000'}>,\n",
       "        <AxesSubplot:title={'center':'parks_nearest'}>,\n",
       "        <AxesSubplot:title={'center':'ponds_around3000'}>,\n",
       "        <AxesSubplot:title={'center':'ponds_nearest'}>],\n",
       "       [<AxesSubplot:title={'center':'days_exposition'}>, <AxesSubplot:>,\n",
       "        <AxesSubplot:>, <AxesSubplot:>]], dtype=object)"
      ]
     },
     "execution_count": 4,
     "metadata": {},
     "output_type": "execute_result"
    },
    {
     "data": {
      "image/png": "[encoded data removed]",
      "text/plain": [
       "<Figure size 1080x1440 with 20 Axes>"
      ]
     },
     "metadata": {
      "needs_background": "light"
     },
     "output_type": "display_data"
    }
   ],
   "source": [
    "data.hist(figsize=(15, 20))"
   ]
  },
  {
   "cell_type": "markdown",
   "metadata": {},
   "source": [
    "<div class=\"alert alert-block alert-warning\">📝\n",
    "    \n",
    "\n",
    "__Комментарий от ревьюера №1__\n",
    "\n",
    "Отсутствует разделитель колонок \"sep\". Добавил ниже, посмотри, пожалуйста, этот момент\n",
    "</div>"
   ]
  },
  {
   "attachments": {
    "image.png": {
     "image/png": "[encoded data removed]"
    }
   },
   "cell_type": "markdown",
   "metadata": {},
   "source": [
    "<div class=\"alert alert-block alert-success\">✔️\n",
    "    \n",
    "\n",
    "__Комментарий от ревьюера №1__\n",
    "Такие предупреждения можно убрать 2 способами:\n",
    "    \n",
    "1. В конец кода добавить `plt.show()`, но для этого нужно вызвать библиотеку matplotlib\n",
    "2. В конец кода добавить `;`\n",
    "    \n",
    "![image.png](attachment:image.png)\n",
    "</div>"
   ]
  },
  {
   "cell_type": "markdown",
   "metadata": {},
   "source": [
    "На первый взгляд видны явные проблемы с last_price - ценой на момент снятия с публикации, и вряд ли все почти 24000 объявления дружно занялись благотворительностью, при обработке данных на этот столбец необходимо обратить внимание. Также непонятно, что с ceiling_height - высотой потолков, может проблема в масштабировании графика, ведь разброс в высоте потолков небольшой 2-4 метра и гистограмма в таком формате может искозить представление. В гистограмме balcony - с числом балконов тоже есть сомнительное значение, а именно float, поскольку количество балконов - число целое, непонятно, откуда оно там появилось. На эти столбцы обратим внимание при предобработке данных."
   ]
  },
  {
   "cell_type": "code",
   "execution_count": 5,
   "metadata": {
    "scrolled": true
   },
   "outputs": [
    {
     "data": {
      "text/html": [
       "<div>\n",
       "<style scoped>\n",
       "    .dataframe tbody tr th:only-of-type {\n",
       "        vertical-align: middle;\n",
       "    }\n",
       "\n",
       "    .dataframe tbody tr th {\n",
       "        vertical-align: top;\n",
       "    }\n",
       "\n",
       "    .dataframe thead th {\n",
       "        text-align: right;\n",
       "    }\n",
       "</style>\n",
       "<table border=\"1\" class=\"dataframe\">\n",
       "  <thead>\n",
       "    <tr style=\"text-align: right;\">\n",
       "      <th></th>\n",
       "      <th>total_images</th>\n",
       "      <th>last_price</th>\n",
       "      <th>total_area</th>\n",
       "      <th>rooms</th>\n",
       "      <th>ceiling_height</th>\n",
       "      <th>floors_total</th>\n",
       "      <th>living_area</th>\n",
       "      <th>floor</th>\n",
       "      <th>kitchen_area</th>\n",
       "      <th>balcony</th>\n",
       "      <th>airports_nearest</th>\n",
       "      <th>cityCenters_nearest</th>\n",
       "      <th>parks_around3000</th>\n",
       "      <th>parks_nearest</th>\n",
       "      <th>ponds_around3000</th>\n",
       "      <th>ponds_nearest</th>\n",
       "      <th>days_exposition</th>\n",
       "    </tr>\n",
       "  </thead>\n",
       "  <tbody>\n",
       "    <tr>\n",
       "      <th>count</th>\n",
       "      <td>23699.000000</td>\n",
       "      <td>2.369900e+04</td>\n",
       "      <td>23699.000000</td>\n",
       "      <td>23699.000000</td>\n",
       "      <td>14504.000000</td>\n",
       "      <td>23613.000000</td>\n",
       "      <td>21796.000000</td>\n",
       "      <td>23699.000000</td>\n",
       "      <td>21421.000000</td>\n",
       "      <td>12180.000000</td>\n",
       "      <td>18157.000000</td>\n",
       "      <td>18180.000000</td>\n",
       "      <td>18181.000000</td>\n",
       "      <td>8079.000000</td>\n",
       "      <td>18181.000000</td>\n",
       "      <td>9110.000000</td>\n",
       "      <td>20518.000000</td>\n",
       "    </tr>\n",
       "    <tr>\n",
       "      <th>mean</th>\n",
       "      <td>9.858475</td>\n",
       "      <td>6.541549e+06</td>\n",
       "      <td>60.348651</td>\n",
       "      <td>2.070636</td>\n",
       "      <td>2.771499</td>\n",
       "      <td>10.673824</td>\n",
       "      <td>34.457852</td>\n",
       "      <td>5.892358</td>\n",
       "      <td>10.569807</td>\n",
       "      <td>1.150082</td>\n",
       "      <td>28793.672193</td>\n",
       "      <td>14191.277833</td>\n",
       "      <td>0.611408</td>\n",
       "      <td>490.804555</td>\n",
       "      <td>0.770255</td>\n",
       "      <td>517.980900</td>\n",
       "      <td>180.888634</td>\n",
       "    </tr>\n",
       "    <tr>\n",
       "      <th>std</th>\n",
       "      <td>5.682529</td>\n",
       "      <td>1.088701e+07</td>\n",
       "      <td>35.654083</td>\n",
       "      <td>1.078405</td>\n",
       "      <td>1.261056</td>\n",
       "      <td>6.597173</td>\n",
       "      <td>22.030445</td>\n",
       "      <td>4.885249</td>\n",
       "      <td>5.905438</td>\n",
       "      <td>1.071300</td>\n",
       "      <td>12630.880622</td>\n",
       "      <td>8608.386210</td>\n",
       "      <td>0.802074</td>\n",
       "      <td>342.317995</td>\n",
       "      <td>0.938346</td>\n",
       "      <td>277.720643</td>\n",
       "      <td>219.727988</td>\n",
       "    </tr>\n",
       "    <tr>\n",
       "      <th>min</th>\n",
       "      <td>0.000000</td>\n",
       "      <td>1.219000e+04</td>\n",
       "      <td>12.000000</td>\n",
       "      <td>0.000000</td>\n",
       "      <td>1.000000</td>\n",
       "      <td>1.000000</td>\n",
       "      <td>2.000000</td>\n",
       "      <td>1.000000</td>\n",
       "      <td>1.300000</td>\n",
       "      <td>0.000000</td>\n",
       "      <td>0.000000</td>\n",
       "      <td>181.000000</td>\n",
       "      <td>0.000000</td>\n",
       "      <td>1.000000</td>\n",
       "      <td>0.000000</td>\n",
       "      <td>13.000000</td>\n",
       "      <td>1.000000</td>\n",
       "    </tr>\n",
       "    <tr>\n",
       "      <th>25%</th>\n",
       "      <td>6.000000</td>\n",
       "      <td>3.400000e+06</td>\n",
       "      <td>40.000000</td>\n",
       "      <td>1.000000</td>\n",
       "      <td>2.520000</td>\n",
       "      <td>5.000000</td>\n",
       "      <td>18.600000</td>\n",
       "      <td>2.000000</td>\n",
       "      <td>7.000000</td>\n",
       "      <td>0.000000</td>\n",
       "      <td>18585.000000</td>\n",
       "      <td>9238.000000</td>\n",
       "      <td>0.000000</td>\n",
       "      <td>288.000000</td>\n",
       "      <td>0.000000</td>\n",
       "      <td>294.000000</td>\n",
       "      <td>45.000000</td>\n",
       "    </tr>\n",
       "    <tr>\n",
       "      <th>50%</th>\n",
       "      <td>9.000000</td>\n",
       "      <td>4.650000e+06</td>\n",
       "      <td>52.000000</td>\n",
       "      <td>2.000000</td>\n",
       "      <td>2.650000</td>\n",
       "      <td>9.000000</td>\n",
       "      <td>30.000000</td>\n",
       "      <td>4.000000</td>\n",
       "      <td>9.100000</td>\n",
       "      <td>1.000000</td>\n",
       "      <td>26726.000000</td>\n",
       "      <td>13098.500000</td>\n",
       "      <td>0.000000</td>\n",
       "      <td>455.000000</td>\n",
       "      <td>1.000000</td>\n",
       "      <td>502.000000</td>\n",
       "      <td>95.000000</td>\n",
       "    </tr>\n",
       "    <tr>\n",
       "      <th>75%</th>\n",
       "      <td>14.000000</td>\n",
       "      <td>6.800000e+06</td>\n",
       "      <td>69.900000</td>\n",
       "      <td>3.000000</td>\n",
       "      <td>2.800000</td>\n",
       "      <td>16.000000</td>\n",
       "      <td>42.300000</td>\n",
       "      <td>8.000000</td>\n",
       "      <td>12.000000</td>\n",
       "      <td>2.000000</td>\n",
       "      <td>37273.000000</td>\n",
       "      <td>16293.000000</td>\n",
       "      <td>1.000000</td>\n",
       "      <td>612.000000</td>\n",
       "      <td>1.000000</td>\n",
       "      <td>729.000000</td>\n",
       "      <td>232.000000</td>\n",
       "    </tr>\n",
       "    <tr>\n",
       "      <th>max</th>\n",
       "      <td>50.000000</td>\n",
       "      <td>7.630000e+08</td>\n",
       "      <td>900.000000</td>\n",
       "      <td>19.000000</td>\n",
       "      <td>100.000000</td>\n",
       "      <td>60.000000</td>\n",
       "      <td>409.700000</td>\n",
       "      <td>33.000000</td>\n",
       "      <td>112.000000</td>\n",
       "      <td>5.000000</td>\n",
       "      <td>84869.000000</td>\n",
       "      <td>65968.000000</td>\n",
       "      <td>3.000000</td>\n",
       "      <td>3190.000000</td>\n",
       "      <td>3.000000</td>\n",
       "      <td>1344.000000</td>\n",
       "      <td>1580.000000</td>\n",
       "    </tr>\n",
       "  </tbody>\n",
       "</table>\n",
       "</div>"
      ],
      "text/plain": [
       "       total_images    last_price    total_area         rooms  ceiling_height  \\\n",
       "count  23699.000000  2.369900e+04  23699.000000  23699.000000    14504.000000   \n",
       "mean       9.858475  6.541549e+06     60.348651      2.070636        2.771499   \n",
       "std        5.682529  1.088701e+07     35.654083      1.078405        1.261056   \n",
       "min        0.000000  1.219000e+04     12.000000      0.000000        1.000000   \n",
       "25%        6.000000  3.400000e+06     40.000000      1.000000        2.520000   \n",
       "50%        9.000000  4.650000e+06     52.000000      2.000000        2.650000   \n",
       "75%       14.000000  6.800000e+06     69.900000      3.000000        2.800000   \n",
       "max       50.000000  7.630000e+08    900.000000     19.000000      100.000000   \n",
       "\n",
       "       floors_total   living_area         floor  kitchen_area       balcony  \\\n",
       "count  23613.000000  21796.000000  23699.000000  21421.000000  12180.000000   \n",
       "mean      10.673824     34.457852      5.892358     10.569807      1.150082   \n",
       "std        6.597173     22.030445      4.885249      5.905438      1.071300   \n",
       "min        1.000000      2.000000      1.000000      1.300000      0.000000   \n",
       "25%        5.000000     18.600000      2.000000      7.000000      0.000000   \n",
       "50%        9.000000     30.000000      4.000000      9.100000      1.000000   \n",
       "75%       16.000000     42.300000      8.000000     12.000000      2.000000   \n",
       "max       60.000000    409.700000     33.000000    112.000000      5.000000   \n",
       "\n",
       "       airports_nearest  cityCenters_nearest  parks_around3000  parks_nearest  \\\n",
       "count      18157.000000         18180.000000      18181.000000    8079.000000   \n",
       "mean       28793.672193         14191.277833          0.611408     490.804555   \n",
       "std        12630.880622          8608.386210          0.802074     342.317995   \n",
       "min            0.000000           181.000000          0.000000       1.000000   \n",
       "25%        18585.000000          9238.000000          0.000000     288.000000   \n",
       "50%        26726.000000         13098.500000          0.000000     455.000000   \n",
       "75%        37273.000000         16293.000000          1.000000     612.000000   \n",
       "max        84869.000000         65968.000000          3.000000    3190.000000   \n",
       "\n",
       "       ponds_around3000  ponds_nearest  days_exposition  \n",
       "count      18181.000000    9110.000000     20518.000000  \n",
       "mean           0.770255     517.980900       180.888634  \n",
       "std            0.938346     277.720643       219.727988  \n",
       "min            0.000000      13.000000         1.000000  \n",
       "25%            0.000000     294.000000        45.000000  \n",
       "50%            1.000000     502.000000        95.000000  \n",
       "75%            1.000000     729.000000       232.000000  \n",
       "max            3.000000    1344.000000      1580.000000  "
      ]
     },
     "execution_count": 5,
     "metadata": {},
     "output_type": "execute_result"
    }
   ],
   "source": [
    "data.describe()"
   ]
  },
  {
   "cell_type": "markdown",
   "metadata": {},
   "source": [
    "Странно наблюдать минимальные значения в столбцах rooms (как комнат может быть 0?), ceiling_height (потолки в 1 метр могут подойти лишь детям в возрасте до 10 лет, но они себе квартиру позволить не могут), living_area (2 метра жилой площади в самый необъятной стране мира - странно), kitchen_area (чуть более метра жилой площади в самый необъятной стране мира - не менее странно, чем с жилой площадью), airports_nearest (вряд ли кто-то поселился в зале ожидания, у нас тут не фильм Терминал все-таки) и parks_nearest (1 метр до парка тоже сомнительно, надо бы проверить)"
   ]
  },
  {
   "cell_type": "markdown",
   "metadata": {},
   "source": [
    "<div class=\"alert alert-block alert-success\">✔️\n",
    "    \n",
    "__Комментарий от ревьюера №1__\n",
    "    \n",
    "Отлично! Первый взгляд на данные есть, план намечен."
   ]
  },
  {
   "cell_type": "markdown",
   "metadata": {},
   "source": [
    "### Предобработка данных"
   ]
  },
  {
   "cell_type": "markdown",
   "metadata": {},
   "source": [
    "Выведем количество пропущенных значений для каждого столбца:"
   ]
  },
  {
   "cell_type": "code",
   "execution_count": 6,
   "metadata": {
    "scrolled": false
   },
   "outputs": [
    {
     "name": "stdout",
     "output_type": "stream",
     "text": [
      "total_images                0\n",
      "last_price                  0\n",
      "total_area                  0\n",
      "first_day_exposition        0\n",
      "rooms                       0\n",
      "ceiling_height           9195\n",
      "floors_total               86\n",
      "living_area              1903\n",
      "floor                       0\n",
      "is_apartment            20924\n",
      "studio                      0\n",
      "open_plan                   0\n",
      "kitchen_area             2278\n",
      "balcony                 11519\n",
      "locality_name              49\n",
      "airports_nearest         5542\n",
      "cityCenters_nearest      5519\n",
      "parks_around3000         5518\n",
      "parks_nearest           15620\n",
      "ponds_around3000         5518\n",
      "ponds_nearest           14589\n",
      "days_exposition          3181\n",
      "dtype: int64\n"
     ]
    }
   ],
   "source": [
    "print(data.isnull().sum())"
   ]
  },
  {
   "cell_type": "markdown",
   "metadata": {},
   "source": [
    "<div class=\"alert alert-block alert-warning\">📝\n",
    "    \n",
    "\n",
    "__Комментарий от ревьюера №1__\n",
    "\n",
    "Метод print() не обязательно писать в последней строке Юпитера\n",
    "</div>"
   ]
  },
  {
   "cell_type": "markdown",
   "metadata": {},
   "source": [
    "<div class=\"alert alert-block alert-success\">✔️\n",
    "    \n",
    "\n",
    "__Комментарий от ревьюера №1__\n",
    "\n",
    "Проверить колличество пропусков в % можно вот так: \n",
    "    \n",
    "    \n",
    "    pd.DataFrame(round(df.isna().mean()*100,)).style.background_gradient('coolwarm')"
   ]
  },
  {
   "cell_type": "markdown",
   "metadata": {},
   "source": [
    "Количество пропусков зашкваливает. Будем разбираться со всем поочередно."
   ]
  },
  {
   "cell_type": "markdown",
   "metadata": {},
   "source": [
    "#### Столбец ceiling_height"
   ]
  },
  {
   "cell_type": "code",
   "execution_count": 7,
   "metadata": {},
   "outputs": [
    {
     "name": "stdout",
     "output_type": "stream",
     "text": [
      "9195\n",
      "[  2.7     nan   3.03   2.5    2.67   2.56   3.05   2.75   2.6    2.9\n",
      "   2.8    2.55   3.     2.65   3.2    2.61   3.25   3.45   2.77   2.85\n",
      "   2.64   2.57   4.15   3.5    3.3    2.71   4.     2.47   2.73   2.84\n",
      "   3.1    2.34   3.4    3.06   2.72   2.54   2.51   2.78   2.76  25.\n",
      "   2.58   3.7    2.52   5.2    2.87   2.66   2.59   2.     2.45   3.6\n",
      "   2.92   3.11   3.13   3.8    3.15   3.55   3.16   3.62   3.12   2.53\n",
      "   2.74   2.96   2.46   5.3    5.     2.79   2.95   4.06   2.94   3.82\n",
      "   3.54   3.53   2.83   4.7    2.4    3.38   3.01   5.6    3.65   3.9\n",
      "   3.18   3.35   2.3    3.57   2.48   2.62   2.82   3.98   2.63   3.83\n",
      "   3.52   3.95   3.75   2.88   3.67   3.87   3.66   3.85   3.86   4.19\n",
      "   3.24   4.8    4.5    4.2    3.36  32.     3.08   3.68   3.07   3.37\n",
      "   3.09   8.     3.26   3.34   2.81   3.44   2.97   3.14   4.37   2.68\n",
      "   3.22   3.27  27.     4.1    2.93   3.46  24.     3.47   3.33   3.63\n",
      "   3.32  26.     1.2    8.3    2.98   2.86   3.17   4.4    3.28   3.04\n",
      "   4.45   5.5    3.84   3.23   3.02   3.21   3.43   3.78   4.3    3.39\n",
      "   2.69   3.31   4.65   3.56   2.2    3.51   3.93   3.42   2.99   3.49\n",
      "  14.     4.14   2.91   3.88   1.75   4.25   3.29  20.     2.25   3.76\n",
      "   3.69   6.    22.6    2.89   3.58   5.8   27.5    2.49   4.9    3.48\n",
      "  10.3    1.   100.     3.59]\n"
     ]
    }
   ],
   "source": [
    "print(data['ceiling_height'].isnull().sum())\n",
    "print(data['ceiling_height'].unique())"
   ]
  },
  {
   "cell_type": "markdown",
   "metadata": {},
   "source": [
    "Рассмотрим столбец с высотой потолков, и обратим внимание, что очень много аномальных значений, например, высота потолков больше 5 метров (уже достаточно экзотично), или менее 2.1 (насколько можно доверять поисковику - это минимальное значение потолков жилого помещения). Значит все значения менее 2.1 можно приравнять к 2.1, то же самое сделать с потолками, что более 5."
   ]
  },
  {
   "cell_type": "code",
   "execution_count": 8,
   "metadata": {},
   "outputs": [
    {
     "name": "stdout",
     "output_type": "stream",
     "text": [
      "50\n"
     ]
    }
   ],
   "source": [
    "print(data[data['ceiling_height'] < 2.1]['ceiling_height'].count() + data[data['ceiling_height'] > 5]['ceiling_height'].count())"
   ]
  },
  {
   "cell_type": "markdown",
   "metadata": {},
   "source": [
    "50 строк в масштабе почти 26000 не сыграют большой роли, значит можем заменить, а после заполнить пустоты средними значениями. Хоть и в техническом задании указано попробовать привести значения к нормальному виду с помощью умножения на 0,1, мне кажется, такой вариант решения более прост, мы сжимаем выборку, избавляемся от аномалий, и не теряем данные. И в данном случае, кстати, можно воспользовать средним арифмитическим, поскольку мы защитились от аномальных выбросов."
   ]
  },
  {
   "cell_type": "code",
   "execution_count": 9,
   "metadata": {},
   "outputs": [
    {
     "name": "stdout",
     "output_type": "stream",
     "text": [
      "0\n",
      "[2.7  2.65 3.03 2.5  2.67 2.56 3.05 2.75 2.6  2.9  2.8  2.55 3.   3.2\n",
      " 2.61 3.25 3.45 2.77 2.85 2.64 2.57 4.15 3.5  3.3  2.71 4.   2.47 2.73\n",
      " 2.84 3.1  2.34 3.4  3.06 2.72 2.54 2.51 2.78 2.76 5.   2.58 3.7  2.52\n",
      " 2.87 2.66 2.59 2.1  2.45 3.6  2.92 3.11 3.13 3.8  3.15 3.55 3.16 3.62\n",
      " 3.12 2.53 2.74 2.96 2.46 2.79 2.95 4.06 2.94 3.82 3.54 3.53 2.83 4.7\n",
      " 2.4  3.38 3.01 3.65 3.9  3.18 3.35 2.3  3.57 2.48 2.62 2.82 3.98 2.63\n",
      " 3.83 3.52 3.95 3.75 2.88 3.67 3.87 3.66 3.85 3.86 4.19 3.24 4.8  4.5\n",
      " 4.2  3.36 3.08 3.68 3.07 3.37 3.09 3.26 3.34 2.81 3.44 2.97 3.14 4.37\n",
      " 2.68 3.22 3.27 4.1  2.93 3.46 3.47 3.33 3.63 3.32 2.98 2.86 3.17 4.4\n",
      " 3.28 3.04 4.45 3.84 3.23 3.02 3.21 3.43 3.78 4.3  3.39 2.69 3.31 4.65\n",
      " 3.56 2.2  3.51 3.93 3.42 2.99 3.49 4.14 2.91 3.88 4.25 3.29 2.25 3.76\n",
      " 3.69 2.89 3.58 2.49 4.9  3.48 3.59]\n"
     ]
    }
   ],
   "source": [
    "data['ceiling_height'] = data['ceiling_height'].where(~(data['ceiling_height'] < 2.1),2.1)\n",
    "data['ceiling_height'] = data['ceiling_height'].where(~(data['ceiling_height'] > 5),5)\n",
    "data['ceiling_height'] = data['ceiling_height'].where(~(data['ceiling_height'].isnull()),data['ceiling_height'].median())\n",
    "\n",
    "print(data['ceiling_height'].isnull().sum())\n",
    "print(data['ceiling_height'].unique())"
   ]
  },
  {
   "attachments": {
    "image.png": {
     "image/png": "[encoded data removed]"
    }
   },
   "cell_type": "markdown",
   "metadata": {},
   "source": [
    "<div class=\"alert alert-block alert-success\">✔️\n",
    "    \n",
    "\n",
    "__Комментарий от ревьюера №1__\n",
    "\n",
    "Некоторые столбцы можно поменять на значения, относительно своего района (например высота пололков). Вот так\n",
    "    \n",
    "    \n",
    "![image.png](attachment:image.png)\n",
    "    \n",
    "Если хочешь - дарю свой код =)\n",
    "</div>"
   ]
  },
  {
   "cell_type": "markdown",
   "metadata": {},
   "source": [
    "#### Столбец floors_total"
   ]
  },
  {
   "cell_type": "markdown",
   "metadata": {},
   "source": [
    "Следующий столбец - всего этажей в доме, непонятно, по каким причинам пропуск, может забывчивость риелтора. Но заполнять пропуски медианными значениями - не вариант, все-таки количество этажей это вряд ли подходящая группа для заполнения подобным родом.\n",
    "Вероятно, 86 пропусков - не такая большая потеря для нашего датасета, и мы можем их убрать, однако можем и сохранить, если запоним каким-либо значением, вряд ли этажность дома очень влияющая на исследование значение, а остальные данные могут и пригодиться. Так как заполнять медианными - невариант, можно заполнить самым большим этажом встречающимся в выборке, вряд ли безэтажный - может его переплюнуть."
   ]
  },
  {
   "cell_type": "code",
   "execution_count": 10,
   "metadata": {},
   "outputs": [
    {
     "name": "stdout",
     "output_type": "stream",
     "text": [
      "86\n",
      "0\n"
     ]
    }
   ],
   "source": [
    "print(data['floors_total'].isnull().sum())\n",
    "max_floor = data['floors_total'].max()\n",
    "data['floors_total'] = data['floors_total'].where(~(data['floors_total'].isnull()),max_floor)\n",
    "print(data['floors_total'].isnull().sum())"
   ]
  },
  {
   "cell_type": "markdown",
   "metadata": {},
   "source": [
    "#### Столбцы living_area и rooms"
   ]
  },
  {
   "cell_type": "markdown",
   "metadata": {},
   "source": [
    "Данный столбец отображает количество жилой площади в квартире, первое, что надо помнить, что минимальное значение в данном столбце 2 - что очень мало, надо оценить количество аномалий, их причину и заполнить пропуски. Заполнять пропуски медианным значением всего столбца - плохая идея, ведь, можно категоризировать данные, ведь средняя жилая площадь однокомнатной и трехкомнатной - отличаются. Для этого необходимо написать функцию."
   ]
  },
  {
   "cell_type": "code",
   "execution_count": 11,
   "metadata": {},
   "outputs": [
    {
     "name": "stdout",
     "output_type": "stream",
     "text": [
      "[ 3  1  2  4  5  6  0  7 11  8 14 10 15  9 19 16 12]\n",
      "[ 3  1  2  4  5  6  7 11  8 14 10 15  9 19 16 12]\n"
     ]
    }
   ],
   "source": [
    "print(data['rooms'].unique())\n",
    "data['rooms'] = data['rooms'].where((data['rooms'] != 0),1)\n",
    "print(data['rooms'].unique())"
   ]
  },
  {
   "cell_type": "markdown",
   "metadata": {},
   "source": [
    "Но как откинуть странные значения и являются ли данные значения аномальными - мне не понятно. Но прежде чем описывать функцию, необходимо починить столбец rooms, поскольку там существует значение 0, которого быть не должно, вероятно там просто 1 комната. Хотя и 19 выглядит странно, но я не знаю, что с этим поделать! Не хочется портить датасет, но тут https://poznayka.org/s7736t2.htm описаны минимальная квадратура жилового помещения по количеству комнат, если необходимо, можно написать функцию, которая докинет минимальный с законодательной стороны порог, там где его явно не хватает. Я опишу данную функцию, но применять не буду, поскольку не до конца понимаю, стоит ли делать подобным образом, поскольку в тз это не указано, и вероятно сильно повлияет на данные."
   ]
  },
  {
   "cell_type": "code",
   "execution_count": 12,
   "metadata": {},
   "outputs": [],
   "source": [
    "def min_living_area(row):\n",
    "    if row[\"rooms\"] == 1 and row['living_area'] < 18:\n",
    "        row['total_area'] += 18 - row['living_area']\n",
    "        row['living_area']  = 18\n",
    "    elif row[\"rooms\"] == 2 and row['living_area'] < 27:\n",
    "        row['total_area'] += 27 - row['living_area']\n",
    "        row['living_area']  = 27\n",
    "    elif row[\"rooms\"] == 3 and row['living_area'] < 38:\n",
    "        row['total_area'] += 38 - row['living_area']\n",
    "        row['living_area']  = 38\n",
    "    elif row[\"rooms\"] == 4 and row['living_area'] < 56:\n",
    "        row['total_area'] += 56 - row['living_area']\n",
    "        row['living_area']  = 56\n",
    "    elif row[\"rooms\"] >= 5 and row['living_area'] < 58:\n",
    "        row['total_area'] += 58 - row['living_area']\n",
    "        row['living_area']  = 58\n",
    "    return row\n",
    "        "
   ]
  },
  {
   "cell_type": "markdown",
   "metadata": {},
   "source": [
    "<div class=\"alert alert-block alert-success\">✔️\n",
    "    \n",
    "\n",
    "__Комментарий от ревьюера №1__\n",
    "\n",
    "Здорово, что действия подкрепляешь сторонними источниками\n",
    "</div>"
   ]
  },
  {
   "cell_type": "markdown",
   "metadata": {},
   "source": [
    "Воспользуемся функцией, которая заменит пропуски на медианные значения в зависимости от количества комнат в квартире:"
   ]
  },
  {
   "cell_type": "code",
   "execution_count": 13,
   "metadata": {},
   "outputs": [
    {
     "name": "stdout",
     "output_type": "stream",
     "text": [
      "0\n"
     ]
    }
   ],
   "source": [
    "def metr_per_rooms(col):\n",
    "    rooms = data['rooms'].unique()\n",
    "    for i in rooms:\n",
    "        data.loc[(data['rooms']==i)&(data[col].isnull()), col] = data[data['rooms']==i][col].median()\n",
    "    return data\n",
    "\n",
    "data = metr_per_rooms('living_area')\n",
    "print(data['living_area'].isnull().sum())"
   ]
  },
  {
   "cell_type": "markdown",
   "metadata": {},
   "source": [
    "#### Столбец is_apartment"
   ]
  },
  {
   "cell_type": "markdown",
   "metadata": {},
   "source": [
    "В данном столбце очень много пропусков по непонятным причинам, и определить что есть аппартаменты, а что нет - тяжело. Поэтому просто заполним пропуски значением False, поскольку даже из тех, что заполнены - они встречаются гораздо реже."
   ]
  },
  {
   "cell_type": "code",
   "execution_count": 14,
   "metadata": {},
   "outputs": [],
   "source": [
    "data['is_apartment'].value_counts()\n",
    "data['is_apartment'] = data['is_apartment'].where(~data['is_apartment'].isnull(), False)"
   ]
  },
  {
   "cell_type": "markdown",
   "metadata": {},
   "source": [
    "#### Столбец kitchen_area"
   ]
  },
  {
   "cell_type": "markdown",
   "metadata": {},
   "source": [
    "Логично предположить, что размеры кухни, прямопропорциональны размеру квартиры, а следовательно и количеству комнат. Мы можем применить функцию, описанную ранее и заполнить пропуски по медиане кухонь соответствующей комнатности."
   ]
  },
  {
   "cell_type": "code",
   "execution_count": 15,
   "metadata": {},
   "outputs": [
    {
     "name": "stdout",
     "output_type": "stream",
     "text": [
      "0\n"
     ]
    }
   ],
   "source": [
    "data = metr_per_rooms('kitchen_area')\n",
    "print(data['kitchen_area'].isnull().sum())"
   ]
  },
  {
   "cell_type": "markdown",
   "metadata": {},
   "source": [
    "#### Столбец balcony"
   ]
  },
  {
   "cell_type": "markdown",
   "metadata": {},
   "source": [
    "В данном столбце на предварительном анализе помимо пропусков были еще значения float, хотя количество балконов - число целое, об этом следует помнить! "
   ]
  },
  {
   "cell_type": "code",
   "execution_count": 16,
   "metadata": {},
   "outputs": [
    {
     "name": "stdout",
     "output_type": "stream",
     "text": [
      "[nan  2.  0.  1.  5.  4.  3.]\n"
     ]
    }
   ],
   "source": [
    "print(data['balcony'].unique())"
   ]
  },
  {
   "cell_type": "markdown",
   "metadata": {},
   "source": [
    "По всей видимости, я криво прочитал гистограмму. Никаких десятичных и прочих дробных чисел тут нет, но все же привести к int необходимо, для спокойствия души, а так же заполнить пропуски нулями, потому что - раз не описали, то скорее всего их и не было."
   ]
  },
  {
   "cell_type": "code",
   "execution_count": 17,
   "metadata": {},
   "outputs": [
    {
     "name": "stdout",
     "output_type": "stream",
     "text": [
      "[0 2 1 5 4 3]\n"
     ]
    }
   ],
   "source": [
    "data['balcony'] = data['balcony'].where(~(data['balcony'].isnull()),0)\n",
    "data['balcony'] = data['balcony'].astype(int)\n",
    "print(data['balcony'].unique())"
   ]
  },
  {
   "cell_type": "markdown",
   "metadata": {},
   "source": [
    "<div class=\"alert alert-block alert-success\">✔️\n",
    "    \n",
    "\n",
    "__Комментарий от ревьюера №1__\n",
    "\n",
    "Согласен, если пропуск - вероятнее всего балкон отсутствует"
   ]
  },
  {
   "cell_type": "markdown",
   "metadata": {},
   "source": [
    "#### Столбец locality_name"
   ]
  },
  {
   "cell_type": "markdown",
   "metadata": {},
   "source": [
    "К сожалению, в данном столбце тяжело запонить пропуски, ведь средним арифмитическим или медианой тут не поможешь. Вывод один - заменить на \"неизвестно\", как мы это делали ранее, и заодно проверить на дубликаты."
   ]
  },
  {
   "cell_type": "code",
   "execution_count": 18,
   "metadata": {},
   "outputs": [
    {
     "name": "stdout",
     "output_type": "stream",
     "text": [
      "['Санкт-петербург' 'Шушары' 'Янино-1' 'Парголово' 'Мурино' 'Ломоносов'\n",
      " 'Сертолово' 'Петергоф' 'Пушкин' 'Кудрово' 'Коммунар' 'Колпино'\n",
      " 'Красный бор' 'Гатчина' 'Федоровское' 'Выборг' 'Кронштадт' 'Кировск'\n",
      " 'Новое девяткино' 'Металлострой' 'Лебяжье' 'Сиверский' 'Молодцово'\n",
      " 'Кузьмоловский' 'Новая ропша' 'Павловск' 'Пикколово' 'Всеволожск'\n",
      " 'Волхов' 'Кингисепп' 'Приозерск' 'Сестрорецк' 'Куттузи' 'Аннино'\n",
      " 'Ефимовский' 'Плодовое' 'Заклинье' 'Торковичи' 'Первомайское'\n",
      " 'Красное село' 'Понтонный' 'Сясьстрой' 'Старая' 'Лесколово' 'Новый свет'\n",
      " 'Сланцы' 'Село путилово' 'Ивангород' 'Шлиссельбург' 'Никольское'\n",
      " 'Зеленогорск' 'Сосновый бор' 'Оржицы' 'Кальтино' 'Романовка' 'Бугры'\n",
      " 'Рощино' 'Кириши' 'Луга' 'Волосово' 'Отрадное' 'Село павлово' 'Оредеж'\n",
      " 'Село копорье' 'Молодежное' 'Тихвин' 'Победа' 'Нурма' 'Синявино' 'Тосно'\n",
      " 'Стрельна' 'Бокситогорск' 'Александровская' 'Лопухинка' 'Пикалево'\n",
      " 'Терволово' 'Советский' 'Подпорожье' 'Петровское' 'Токсово' 'Сельцо'\n",
      " 'Вырица' 'Кипень' 'Келози' 'Вартемяги' 'Тельмана' 'Севастьяново'\n",
      " 'Большая ижора' 'Неизвестно' 'Павлово' 'Агалатово' 'Новогорелово'\n",
      " 'Лесогорский' 'Лаголово' 'Цвелодубово' 'Рахья' 'Белогорка' 'Заводской'\n",
      " 'Новоселье' 'Большие колпаны' 'Горбунки' 'Батово' 'Заневка' 'Иссад'\n",
      " 'Приморск' 'Мистолово' 'Новая ладога' 'Зимитицы' 'Барышево' 'Разметелево'\n",
      " 'Имени свердлова' 'Пеники' 'Рябово' 'Пудомяги' 'Станции корнево' 'Низино'\n",
      " 'Бегуницы' 'Поляны' 'Мга' 'Елизаветино' 'Кузнечное' 'Колтуши'\n",
      " 'Запорожское' 'Гостилицы' 'Малое карлино' 'Мичуринское' 'Имени морозова'\n",
      " 'Песочный' 'Сосново' 'Аро' 'Ильичево' 'Тайцы' 'Малое верево' 'Извара'\n",
      " 'Станции вещево' 'Село паша' 'Калитино' 'Ульяновка' 'Чудской бор'\n",
      " 'Дубровка' 'Мины' 'Войсковицы' 'Коркино' 'Ропша' 'Приладожский' 'Щеглово'\n",
      " 'Гаврилово' 'Лодейное поле' 'Рабитицы' 'Никольский' 'Кузьмолово'\n",
      " 'Малые колпаны' 'Петро-славянка' 'Назия' 'Репино' 'Углово'\n",
      " 'Старая малукса' 'Меньково' 'Старые бегуницы' 'Саперный' 'Семрино'\n",
      " 'Глажево' 'Кобринское' 'Гарболово' 'Юкки' 'Станции приветнинское'\n",
      " 'Мануйлово' 'Пчева' 'Цвылево' 'Мельниково' 'Пудость' 'Усть-луга'\n",
      " 'Светогорск' 'Любань' 'Селезнево' 'Каменногорск' 'Кривко' 'Глебычево'\n",
      " 'Парицы' 'Жилпоселок' 'Войскорово' 'Село никольское' 'Стеклянный'\n",
      " 'Важины' 'Мыза-ивановка' 'Село русско-высоцкое' 'Форносово'\n",
      " 'Село старая ладога' 'Житково' 'Виллози' 'Лампово' 'Шпаньково' 'Лаврики'\n",
      " 'Сумино' 'Возрождение' 'Старосиверская' 'Кикерино' 'Старое хинколово'\n",
      " 'Пригородный' 'Торфяное' 'Будогощь' 'Суходолье' 'Красная долина'\n",
      " 'Хапо-ое' 'Дружная горка' 'Лисий нос' 'Яльгелево' 'Село рождествено'\n",
      " 'Старополье' 'Левашово' 'Сяськелево' 'Камышовка' 'Лесная поляна'\n",
      " 'Хязельки' 'Жилгородок' 'Ялгино' 'Новый учхоз' 'Гончарово' 'Почап'\n",
      " 'Саперное' 'Платформа 69-й километр' 'Каложицы' 'Фалилеево' 'Пельгора'\n",
      " 'Торошковичи' 'Белоостров' 'Алексеевка' 'Серебрянский' 'Лукаши'\n",
      " 'Тарасово' 'Кингисеппский' 'При железнодорожной станции вещево' 'Ушаки'\n",
      " 'Котлы' 'Сижно' 'Торосово' 'Форт красная горка' 'Новолисино'\n",
      " 'Станции громово' 'Глинка' 'Старая пустошь' 'Коммунары' 'Починок'\n",
      " 'Вознесенье' 'Разбегаево' 'Гладкое'\n",
      " 'При железнодорожной станции приветнинское' 'Тесово-4' 'Бор' 'Коробицыно'\n",
      " 'Большая вруда' 'Курковицы' 'Кобралово' 'Суоранда' 'Кондратьево'\n",
      " 'Коттеджный счастье' 'Реброво' 'Тойворово' 'Семиозерье' 'Лесное'\n",
      " 'Совхозный' 'Ленинское' 'Суйда' 'Нижние осельки' 'Станции свирь' 'Перово'\n",
      " 'Высоцк' 'Село шум' 'Котельский' 'Станции лужайка' 'Большая пустомержа'\n",
      " 'Красносельское' 'Вахнова кара' 'Пижма' 'Коттеджный кивеннапа север'\n",
      " 'Ромашки' 'Каськово' 'Куровицы' 'Плоское' 'Кирпичное' 'Ям-тесово'\n",
      " 'Раздолье' 'Терпилицы' 'Шугозеро' 'Ваганово' 'Пушное' 'Садко'\n",
      " 'Усть-ижора' 'Выскатка' 'Свирьстрой' 'Громово' 'Кисельня' 'Трубников бор'\n",
      " 'Высокоключевой' 'Пансионат зеленый бор' 'Ненимяки' 'Снегиревка'\n",
      " 'Рапполово' 'Пустынка' 'Большой сабск' 'Русско' 'Лупполово'\n",
      " 'Большое рейзино' 'Малая романовка' 'Дружноселье' 'Пчевжа' 'Володарское'\n",
      " 'Нижняя' 'Коттеджный лесное' 'Тихковицы' 'Борисова грива' 'Дзержинского']\n"
     ]
    }
   ],
   "source": [
    "#print(len(data['locality_name'].unique()))\n",
    "data['locality_name'] = data['locality_name'].str.lower() # приводим к нижнему регистру\n",
    "data['locality_name'] = data['locality_name'].str.replace('ё', 'е', regex=True)# меняем ё на е\n",
    "data['locality_name'] = data['locality_name'].where(~data['locality_name'].isnull(),'неизвестно') # меняем наны на неизвестно\n",
    "\n",
    "wrong_genres = ['поселок', 'деревня', 'городской', 'садовое', 'типа', 'городского', 'товарищество', 'садоводческое некоммерческое'] # список с тем, что надо исключить\n",
    "for index in wrong_genres: # перебираем список с неправильными значениями\n",
    "    data['locality_name'] = data['locality_name'].str.replace(index+' ', '', regex=True) # удаляем тип поселка и пробел после него\n",
    "\n",
    "data['locality_name'] = data.locality_name.str.capitalize() # переводим в верхний регистр\n",
    "\n",
    "print(data['locality_name'].unique())\n",
    "#for i in data['locality_name']:\n",
    "    #for j in data['locality_name']:\n",
    "        #if i in j:\n",
    "            #data['locality_name'] = data['locality_name'].str.replace(j, i, regex=True)\n",
    "#print(len(data['locality_name'].unique()))\n",
    "#data['locality_name'] = data['locality_name'].str.replace('ё', 'е', regex=True)\n",
    "#data['locality_name'] = data['locality_name'].str.replace('', '', regex=True)\n",
    "#print(len(data['locality_name'].unique()))\n",
    "#print(data['locality_name'].unique().tolist())\n",
    "#for i in data['locality_name']:\n",
    "    #i = i.strip()\n",
    "#рябово, мурино, кудрово, федоровское\n",
    "#def replace_wrong_genres(wrong_genres, correct_genre): #создание функции с двумя параментрами\n",
    "    #for index in wrong_genres: # перебираем список с неправильными значениями\n",
    "        #df['genre_name'] = df['genre_name'].replace(index, correct_genre, inplace = True) # replace для каждого неправильного наименования\n",
    "#first_name = ['hip', 'hop', 'hip-hop'] # переменная с неправильным списком\n",
    "#two_name = 'hiphop' # переменная с правильным значением"
   ]
  },
  {
   "cell_type": "markdown",
   "metadata": {},
   "source": [
    "Ох, ну и намучился я в тут, но по итогу зачистил все, что необходимо, теперь дублирований нет."
   ]
  },
  {
   "cell_type": "markdown",
   "metadata": {},
   "source": [
    "<div class=\"alert alert-block alert-success\">✔️\n",
    "    \n",
    "\n",
    "__Комментарий от ревьюера №1__\n",
    "\n",
    "Вот это да, отличный код!\n",
    "</div>"
   ]
  },
  {
   "cell_type": "markdown",
   "metadata": {},
   "source": [
    "#### Столбцы airports_nearest, cityCenters_nearest, parks_around3000, parks_nearest, ponds_around3000 и ponds_nearest"
   ]
  },
  {
   "cell_type": "markdown",
   "metadata": {},
   "source": [
    "В данные столбцы непонятно чем заменять пропуски, ничего кроме как заполнить их \"неизвестностью\" не приходит в голову, но даже они не подойдут, ведь тип данных - float. Что делать в данной ситуации? Можем предположить, что данных по районам - достаточно, и расстояния от различных районов равны, тогда мы можем поставить медианные значения в тех местах, в соответствии с местоположением - для этого достаточно изменить написанную ранее функцию. Но стоит учесть, что количество прудов и парков - число целое. Идея проста, сначала я заполняю данные расстояния до парков, прудов и т.д. с помощью функции категоризации среднего значения по локации, после сравниваю, если эти столбцы не пусты - значит рядом есть хотя бы 1 пруд или парк (но это условие у меня выполняется криво, да и терзают ли некоторые сомнения, необходимо ли это, поэтому пока что не стану делать подобным образом)."
   ]
  },
  {
   "cell_type": "code",
   "execution_count": 19,
   "metadata": {},
   "outputs": [
    {
     "name": "stdout",
     "output_type": "stream",
     "text": [
      "total_images               0\n",
      "last_price                 0\n",
      "total_area                 0\n",
      "first_day_exposition       0\n",
      "rooms                      0\n",
      "ceiling_height             0\n",
      "floors_total               0\n",
      "living_area                0\n",
      "floor                      0\n",
      "is_apartment               0\n",
      "studio                     0\n",
      "open_plan                  0\n",
      "kitchen_area               0\n",
      "balcony                    0\n",
      "locality_name              0\n",
      "airports_nearest        4829\n",
      "cityCenters_nearest     4829\n",
      "parks_around3000        5518\n",
      "parks_nearest           5998\n",
      "ponds_around3000        5518\n",
      "ponds_nearest           4938\n",
      "days_exposition         3181\n",
      "dtype: int64\n"
     ]
    }
   ],
   "source": [
    "median_data = data.pivot_table(\n",
    "    index='locality_name',\n",
    "    values=['airports_nearest', 'cityCenters_nearest','parks_nearest','ponds_nearest'], # сводная таблица с медианными значениями по локациям\n",
    "    aggfunc='median'\n",
    ")\n",
    "#print(median_data)\n",
    "median_data_localities = list(median_data.index)\n",
    "def fill_missing_data(row, col): # функция заполнения медианными значениями столбца col по локации\n",
    "    locality = row['locality_name'] \n",
    "    \n",
    "    if locality in median_data_localities: \n",
    "        return median_data.loc[locality][col]\n",
    "    \n",
    "    return row[col]\n",
    "\n",
    "columns = ['airports_nearest', 'cityCenters_nearest','parks_nearest','ponds_nearest']\n",
    "\n",
    "for column in columns:\n",
    "    data.loc[data[column].isnull(), column] = data.apply(fill_missing_data, axis=1, args=(column,)) # заполнение медиаными значенями \n",
    "\n",
    "# потуги заполнить все что ближе 3000, если нан - хотя бы единичкой, но выходит что-то странное, оставил как есть\n",
    "#data['parks_around3000'] = data['parks_around3000'].where((data['parks_nearest'] < 3000) & (data['parks_around3000'].isna()), 1)\n",
    "#data['ponds_around3000'] = data['ponds_around3000'].where((data['ponds_nearest'] < 3000) & (data['ponds_around3000'].isna()), 1)\n",
    "\n",
    "#print(data.query('ponds_around3000.isna() and ponds_nearest < 3000').count()) # ура криво условие нашел\n",
    "#print(data.query('parks_around3000.isna() and parks_nearest < 3000').count())\n",
    "\n",
    "#def value_per_locality(col):\n",
    "    #locality = data['locality_name'].unique()\n",
    "    #for i in locality:\n",
    "        #data.loc[(data['locality_name']==i)&(data[col].isnull()), 'locality_name'] = data[data['locality_name']==i][col].mean()\n",
    "    #return data\n",
    "\n",
    "#data = value_per_locality('parks_nearest')\n",
    "#data = value_per_locality('ponds_nearest')\n",
    "#data = value_per_locality('airports_nearest')\n",
    "#data = value_per_locality('cityCenters_nearest')\n",
    "#ponds_around3000\n",
    "\n",
    "#locality = data['locality_name'].unique()\n",
    "#for i in locality:\n",
    "    #data.loc[(data['locality_name']==i)&(data['ponds_nearest'].notna())&(data['ponds_around3000'].isnull()), 'locality_name'] = 1\n",
    "    #data.loc[(data['locality_name']==i)&(data['parks_nearest'].notna())&(data['parks_around3000'].isnull()), 'locality_name'] = 1\n",
    "#data = value_per_locality('parks_nearest')\n",
    "#data = value_per_locality('ponds_nearest')\n",
    "#print(data['parks_nearest'].isnull().sum())\n",
    "#print(data['ponds_nearest'].isnull().sum())\n",
    "#print(data['ponds_around3000'].isnull().sum())\n",
    "#print(data['parks_around3000'].isnull().sum())\n",
    "\n",
    "\n",
    "#data['ceiling_height'] = data['ceiling_height'].where(~(data['ceiling_height'] > 5),5)\n",
    "#data['ceiling_height'] = data['ceiling_height'].where(~(data['ceiling_height'].isnull()),data['ceiling_height'].median())\n",
    "\n",
    "#(df1.A != df2.A) | (df1.B != df2.B)\n",
    "#data.query('parks_nearest.notna() and parks_nearest<=3000 and parks_around3000.isna()') = data.query('parks_nearest.notna() and parks_nearest<=3000 and parks_around3000.isna()').fillna(1) \n",
    "\n",
    "#data['Normalized'] = np.where(df['Currency'] == '$', df['Budget'] * 0.78125, df['Budget'])\n",
    "\n",
    "#print(data['cityCenters_nearest'].isnull().sum())\n",
    "#print(data['airports_nearest'].isnull().sum())\n",
    "#print(data['parks_nearest'].isnull().sum())\n",
    "#print(data['ponds_nearest'].isnull().sum())\n",
    "#print(data['ponds_around3000'].isnull().sum())\n",
    "print(data.isnull().sum())\n"
   ]
  },
  {
   "cell_type": "markdown",
   "metadata": {},
   "source": [
    "Настрадался я и тут, но даже в этом случае, я все равно не зачистил датасет от nanoв до конца, к сожалению данных даже по областям недостаточно. "
   ]
  },
  {
   "cell_type": "markdown",
   "metadata": {},
   "source": [
    "<div class=\"alert alert-block alert-success\">✔️\n",
    "    \n",
    "\n",
    "__Комментарий от ревьюера №1__\n",
    "\n",
    "Тут в принципе можно оставить, как есть. Я бы не рекомендовал трогать пропуски в этих столбцах\n",
    "</div>"
   ]
  },
  {
   "cell_type": "markdown",
   "metadata": {},
   "source": [
    "#### Столбец days_exposition"
   ]
  },
  {
   "cell_type": "markdown",
   "metadata": {},
   "source": [
    "Восстановить данные по дням - невозможно, поэтому придется просто удалить их."
   ]
  },
  {
   "cell_type": "code",
   "execution_count": 20,
   "metadata": {},
   "outputs": [],
   "source": [
    "data.dropna(subset=['days_exposition'], axis = 0, inplace = True)\n",
    "data['first_day_exposition'] = pd.to_datetime(data['first_day_exposition'], format='%Y-%m-%dT%H:%M:%S')"
   ]
  },
  {
   "cell_type": "markdown",
   "metadata": {},
   "source": [
    "<div class=\"alert alert-block alert-success\">✔️\n",
    "    \n",
    "\n",
    "__Комментарий от ревьюера №1__\n",
    "\n",
    "Верно, если пропусков меньше 5-10% их лучше сразу удалить, дабы сэкономить время\n",
    "</div>"
   ]
  },
  {
   "cell_type": "markdown",
   "metadata": {},
   "source": [
    "<div class=\"alert alert-block alert-danger\">✍\n",
    "    \n",
    "\n",
    "__Комментарий от ревьюера №1__\n",
    "\n",
    "Не все столбцы имеют корректный тип данных. Например `floors_total` имеет дробный тип. Но ведь не может быть 9.5 этажей в доме. Как думаешь?\n",
    "</div>"
   ]
  },
  {
   "cell_type": "markdown",
   "metadata": {},
   "source": [
    "Осуществим проверку на соответствие типа данных столбцам датасета, нет ли каких-либо аномалий, помимо тех, что мы устранили? Как можно заметить, стобец floors_total(количество этажей всегда число целое), is_apartment (конечно, можно записать и строкой, но логичнее, и удобнее для дальнейших действий привести его все-таки к булевому значению)"
   ]
  },
  {
   "cell_type": "code",
   "execution_count": 21,
   "metadata": {},
   "outputs": [
    {
     "name": "stdout",
     "output_type": "stream",
     "text": [
      "<class 'pandas.core.frame.DataFrame'>\n",
      "Int64Index: 20518 entries, 1 to 23697\n",
      "Data columns (total 22 columns):\n",
      " #   Column                Non-Null Count  Dtype         \n",
      "---  ------                --------------  -----         \n",
      " 0   total_images          20518 non-null  int64         \n",
      " 1   last_price            20518 non-null  float64       \n",
      " 2   total_area            20518 non-null  float64       \n",
      " 3   first_day_exposition  20518 non-null  datetime64[ns]\n",
      " 4   rooms                 20518 non-null  int64         \n",
      " 5   ceiling_height        20518 non-null  float64       \n",
      " 6   floors_total          20518 non-null  float64       \n",
      " 7   living_area           20518 non-null  float64       \n",
      " 8   floor                 20518 non-null  int64         \n",
      " 9   is_apartment          20518 non-null  object        \n",
      " 10  studio                20518 non-null  bool          \n",
      " 11  open_plan             20518 non-null  bool          \n",
      " 12  kitchen_area          20518 non-null  float64       \n",
      " 13  balcony               20518 non-null  int64         \n",
      " 14  locality_name         20518 non-null  object        \n",
      " 15  airports_nearest      16475 non-null  float64       \n",
      " 16  cityCenters_nearest   16475 non-null  float64       \n",
      " 17  parks_around3000      15865 non-null  float64       \n",
      " 18  parks_nearest         15391 non-null  float64       \n",
      " 19  ponds_around3000      15865 non-null  float64       \n",
      " 20  ponds_nearest         16376 non-null  float64       \n",
      " 21  days_exposition       20518 non-null  float64       \n",
      "dtypes: bool(2), datetime64[ns](1), float64(13), int64(4), object(2)\n",
      "memory usage: 3.3+ MB\n"
     ]
    }
   ],
   "source": [
    "data.info()\n",
    "data['floors_total'] = data['floors_total'].astype(int)\n",
    "data['is_apartment'] = data['is_apartment'].astype(bool)"
   ]
  },
  {
   "cell_type": "markdown",
   "metadata": {},
   "source": [
    "<div class=\"alert alert-block alert-success\">✔️\n",
    "    \n",
    "\n",
    "__Комментарий от ревьюера №2__\n",
    "\n",
    "Отлично, столбцы имеют корректный тип данных\n",
    "</div>"
   ]
  },
  {
   "cell_type": "markdown",
   "metadata": {},
   "source": []
  },
  {
   "cell_type": "markdown",
   "metadata": {},
   "source": [
    "<div class=\"alert alert-block alert-danger\">✍\n",
    "    \n",
    "\n",
    "__Комментарий от ревьюера №1__\n",
    "\n",
    "Не все столбцы имеют корректный тип данных. Например `floors_total` имеет дробный тип. Но ведь не может быть 9.5 этажей в доме. Как думаешь?\n",
    "</div>"
   ]
  },
  {
   "cell_type": "markdown",
   "metadata": {},
   "source": [
    "<div class=\"alert alert-block alert-danger\">✍\n",
    "    \n",
    "\n",
    "__Комментарий от ревьюера №1__\n",
    "\n",
    "Отсутствует проверка на явные дубликаты, поправишь, пожалуйста?"
   ]
  },
  {
   "cell_type": "markdown",
   "metadata": {},
   "source": [
    "Также осуществим проверку на явные дубликаты, чтобы окончательно выдохнуть и восхититься своей предобработкой данных:"
   ]
  },
  {
   "cell_type": "code",
   "execution_count": 22,
   "metadata": {},
   "outputs": [
    {
     "data": {
      "text/plain": [
       "0"
      ]
     },
     "execution_count": 22,
     "metadata": {},
     "output_type": "execute_result"
    }
   ],
   "source": [
    "data.duplicated().sum()"
   ]
  },
  {
   "cell_type": "markdown",
   "metadata": {},
   "source": [
    "<div class=\"alert alert-block alert-success\">✔️\n",
    "    \n",
    "\n",
    "__Комментарий от ревьюера №2__\n",
    "\n",
    "Проверка на дубликаты - основа предобработки данных\n",
    "</div>"
   ]
  },
  {
   "cell_type": "markdown",
   "metadata": {},
   "source": [
    "**Вывод по главе**: были устранены большинство пропусков и аномальных значений, а также выдвинуты теории появления ошибок в данных. К сожалению, число nanoв остается все равно в столбцах с расстоянием до аэропортов, центра города, парков, озер, а также их количествах. Но подождите меня судить, было их почти в 4 раза больше! Однако, я допускаю возможность своего фиаско, поскольку с расстоянием до необходимых точек, и количеством парков и прудов все неоднозначно."
   ]
  },
  {
   "cell_type": "markdown",
   "metadata": {},
   "source": [
    "<div class=\"alert alert-block alert-success\">✔️\n",
    "    \n",
    "\n",
    "__Комментарий от ревьюера №2__\n",
    "    \n",
    "Второй раздел сделан хорошо. Проверены основные возможные проблемы в данных."
   ]
  },
  {
   "cell_type": "markdown",
   "metadata": {},
   "source": [
    "### Посчитайте и добавьте в таблицу новые столбцы"
   ]
  },
  {
   "cell_type": "markdown",
   "metadata": {},
   "source": [
    "В данной главе необходимо добавить новые столбцы:\n",
    "- цена одного квадратного метра;\n",
    "- день недели публикации объявления (0 — понедельник, 1 — вторник и так далее);\n",
    "- месяц публикации объявления;\n",
    "- год публикации объявления;\n",
    "- тип этажа квартиры (значения — «первый», «последний», «другой»);\n",
    "- расстояние до центра города в километрах (переведите из м в км и округлите до целых значений)."
   ]
  },
  {
   "cell_type": "code",
   "execution_count": 23,
   "metadata": {},
   "outputs": [],
   "source": [
    "data['cost_per_metr'] = data['last_price'] / data['total_area'] \n",
    "\n",
    "data['weekday'] = data['first_day_exposition'].dt.weekday\n",
    "data['month'] = data['first_day_exposition'].dt.month\n",
    "data['year'] = data['first_day_exposition'].dt.year\n",
    "\n",
    "def which_floor(row):\n",
    "    our = row['floor']\n",
    "    how_much = row['floors_total']\n",
    "    if how_much / our == how_much:\n",
    "        return 'первый'\n",
    "    elif how_much / our == 1:\n",
    "        return 'последний'\n",
    "    else:\n",
    "        return 'другой'\n",
    "    \n",
    "data['which_floor'] = data.apply(which_floor, axis=1)\n",
    "\n",
    "data['cityCenters_nearest_km'] = round(data['cityCenters_nearest']*0.001)"
   ]
  },
  {
   "cell_type": "markdown",
   "metadata": {},
   "source": [
    "<div class=\"alert alert-block alert-warning\">📝\n",
    "    \n",
    "\n",
    "__Комментарий от ревьюера №1__\n",
    "\n",
    "Совет: обычно в датафреймах содержатся данные за несколько лет. Важно выбрать корректный метод для вычленения месяца, иначе месяца разных годов могут стать одним месяцем. Обрати внимание на метод astype('datetime64[M]'). Для его использования не нужно обращаться к pd.DatetimeIndex. \n",
    "    \n",
    "Вот хорошая статья на этот счёт: \n",
    "    \n",
    "    https://pythobyte.com/how-to-work-with-dates-and-times-in-python-0a176355/\n",
    "</div>"
   ]
  },
  {
   "cell_type": "markdown",
   "metadata": {},
   "source": [
    "<div class=\"alert alert-block alert-success\">✔️\n",
    "    \n",
    "\n",
    "__Комментарий от ревьюера №2__\n",
    "\n",
    "Данный способ нужен для изучения динамики по дням, месяцам или годам. Код выглядит так:\n",
    "    \n",
    "        df['first_day_exposition'].dt.date #приводим к временному формату\n",
    "        df['first_day_exposition'].astype('datetime64[M]') \n",
    "    \n",
    "Если года разные, то в новой колонке месяца у тебя отобразится первый день месяца ('2019-05-01')\n",
    "</div>"
   ]
  },
  {
   "cell_type": "markdown",
   "metadata": {},
   "source": [
    "Вывод по главе: в данной главе отработали добавление новых, необходимых для дальнейшего анализа столбцов."
   ]
  },
  {
   "cell_type": "markdown",
   "metadata": {},
   "source": [
    "<div class=\"alert alert-block alert-success\">✔️\n",
    "    \n",
    "\n",
    "__Комментарий от ревьюера №1__\n",
    "\n",
    "Этот раздел выполнен качественно\n",
    "</div>"
   ]
  },
  {
   "cell_type": "markdown",
   "metadata": {},
   "source": [
    "### Проведите исследовательский анализ данных"
   ]
  },
  {
   "cell_type": "markdown",
   "metadata": {},
   "source": [
    "#### Изучаем параметры объектов"
   ]
  },
  {
   "cell_type": "markdown",
   "metadata": {},
   "source": [
    "##### Параметр \"общая площадь\""
   ]
  },
  {
   "cell_type": "code",
   "execution_count": 24,
   "metadata": {},
   "outputs": [
    {
     "data": {
      "text/plain": [
       "<AxesSubplot:>"
      ]
     },
     "execution_count": 24,
     "metadata": {},
     "output_type": "execute_result"
    },
    {
     "data": {
      "image/png": "[encoded data removed]",
      "text/plain": [
       "<Figure size 360x360 with 1 Axes>"
      ]
     },
     "metadata": {
      "needs_background": "light"
     },
     "output_type": "display_data"
    }
   ],
   "source": [
    "data['total_area'].hist(figsize=(5, 5), bins = 30, range = (0,150))"
   ]
  },
  {
   "cell_type": "markdown",
   "metadata": {},
   "source": [
    "<div class=\"alert alert-block alert-warning\">📝\n",
    "    \n",
    "\n",
    "__Комментарий от ревьюера №1__\n",
    "\n",
    "Я бы советовал сократить range и тогда мы сможем увидеть пиковые значения. \n",
    "</div>"
   ]
  },
  {
   "cell_type": "markdown",
   "metadata": {},
   "source": [
    "Почти все значения общей площади находятся в промежутке до 200 квадратных метров, что вполне может соответствовать реальности, каких то аномалий и огромных явных вбросов тут нет."
   ]
  },
  {
   "cell_type": "markdown",
   "metadata": {},
   "source": [
    "##### Параметр \"жилая площадь\""
   ]
  },
  {
   "cell_type": "code",
   "execution_count": 25,
   "metadata": {},
   "outputs": [
    {
     "data": {
      "text/plain": [
       "<AxesSubplot:>"
      ]
     },
     "execution_count": 25,
     "metadata": {},
     "output_type": "execute_result"
    },
    {
     "data": {
      "image/png": "[encoded data removed]",
      "text/plain": [
       "<Figure size 360x360 with 1 Axes>"
      ]
     },
     "metadata": {
      "needs_background": "light"
     },
     "output_type": "display_data"
    }
   ],
   "source": [
    "data['living_area'].hist(figsize=(5, 5), bins = 30, range = (0,200))"
   ]
  },
  {
   "cell_type": "markdown",
   "metadata": {},
   "source": [
    "В данном случае есть сомнения, поскольку параметры начинаются с нуля, выше я описывал функцию, но не вызывал ее, для тех значений, где жилая площадь аномально мала. Видимо тут эта аномалия и отобразилась, в целом можно вызвать и уладить моменты с экстримально низкими значениями, но надо ли - непонятно. А так все в целом хорошо, жилая площадь вполне себе может достигать 200 метров."
   ]
  },
  {
   "cell_type": "markdown",
   "metadata": {},
   "source": [
    "##### Параметр \"площадь кухни\""
   ]
  },
  {
   "cell_type": "code",
   "execution_count": 26,
   "metadata": {},
   "outputs": [
    {
     "data": {
      "text/plain": [
       "<AxesSubplot:>"
      ]
     },
     "execution_count": 26,
     "metadata": {},
     "output_type": "execute_result"
    },
    {
     "data": {
      "image/png": "[encoded data removed]",
      "text/plain": [
       "<Figure size 360x360 with 1 Axes>"
      ]
     },
     "metadata": {
      "needs_background": "light"
     },
     "output_type": "display_data"
    }
   ],
   "source": [
    "data['kitchen_area'].hist(figsize=(5, 5), bins = 50, range = (0,60))"
   ]
  },
  {
   "cell_type": "markdown",
   "metadata": {},
   "source": [
    "В этих данных аналогично, на мой взгляд, все нормально."
   ]
  },
  {
   "cell_type": "markdown",
   "metadata": {},
   "source": [
    "##### Параметр \"цена объекта\""
   ]
  },
  {
   "cell_type": "code",
   "execution_count": 27,
   "metadata": {},
   "outputs": [
    {
     "data": {
      "text/plain": [
       "<AxesSubplot:>"
      ]
     },
     "execution_count": 27,
     "metadata": {},
     "output_type": "execute_result"
    },
    {
     "data": {
      "image/png": "[encoded data removed]",
      "text/plain": [
       "<Figure size 360x360 with 1 Axes>"
      ]
     },
     "metadata": {
      "needs_background": "light"
     },
     "output_type": "display_data"
    }
   ],
   "source": [
    "data['last_price'].hist(figsize=(5, 5), bins = 20, range=(0, 50000000))"
   ]
  },
  {
   "cell_type": "markdown",
   "metadata": {},
   "source": [
    "Что же, бОльшая часть недвижимости обойдется вам меньше чем за 10 миллионов рублей."
   ]
  },
  {
   "cell_type": "markdown",
   "metadata": {},
   "source": [
    "##### Параметр \"количество комнат\""
   ]
  },
  {
   "cell_type": "code",
   "execution_count": 28,
   "metadata": {},
   "outputs": [
    {
     "data": {
      "text/plain": [
       "array([ 1,  2,  3,  4,  5,  6,  7,  8, 14, 15,  9, 11, 19, 10, 16, 12])"
      ]
     },
     "execution_count": 28,
     "metadata": {},
     "output_type": "execute_result"
    },
    {
     "data": {
      "image/png": "[encoded data removed]",
      "text/plain": [
       "<Figure size 360x360 with 1 Axes>"
      ]
     },
     "metadata": {
      "needs_background": "light"
     },
     "output_type": "display_data"
    }
   ],
   "source": [
    "data['rooms'].hist(figsize=(5, 5), bins = 30, range = (0,16))\n",
    "data['rooms'].unique()"
   ]
  },
  {
   "cell_type": "markdown",
   "metadata": {},
   "source": [
    "Мы видим, что в данных встречаются и 10+ комнатные квартиры, однако на гистограмме их не видно - видимо такие квартиры огромная редкость, по-хорошему от них можно избавится, но это не значит, что такие квартиры не могут существовать! Если бы наш анализ касался поиска закономерностей в эконом-секторе, то, конечно, но пока что лучше оставить как есть."
   ]
  },
  {
   "cell_type": "markdown",
   "metadata": {},
   "source": [
    "##### Параметр \"высота потолков\""
   ]
  },
  {
   "cell_type": "code",
   "execution_count": 29,
   "metadata": {},
   "outputs": [
    {
     "data": {
      "text/plain": [
       "<AxesSubplot:>"
      ]
     },
     "execution_count": 29,
     "metadata": {},
     "output_type": "execute_result"
    },
    {
     "data": {
      "image/png": "[encoded data removed]",
      "text/plain": [
       "<Figure size 360x360 with 1 Axes>"
      ]
     },
     "metadata": {
      "needs_background": "light"
     },
     "output_type": "display_data"
    }
   ],
   "source": [
    "data['ceiling_height'].hist(figsize=(5, 5),bins = 50, range = (2,5))"
   ]
  },
  {
   "cell_type": "markdown",
   "metadata": {},
   "source": [
    "Здесь провели хорошую зачистку от аномальных значений, видно, что большинство квартир построены по советским стандартам с высотой 2.7 и это замечательно!"
   ]
  },
  {
   "cell_type": "markdown",
   "metadata": {},
   "source": [
    "##### Параметр \"этаж квартиры\""
   ]
  },
  {
   "cell_type": "code",
   "execution_count": 30,
   "metadata": {},
   "outputs": [
    {
     "data": {
      "text/plain": [
       "<AxesSubplot:>"
      ]
     },
     "execution_count": 30,
     "metadata": {},
     "output_type": "execute_result"
    },
    {
     "data": {
      "image/png": "[encoded data removed]",
      "text/plain": [
       "<Figure size 360x360 with 1 Axes>"
      ]
     },
     "metadata": {
      "needs_background": "light"
     },
     "output_type": "display_data"
    }
   ],
   "source": [
    "data['floor'].hist(figsize=(5, 5),bins = 100)"
   ]
  },
  {
   "cell_type": "markdown",
   "metadata": {},
   "source": [
    "Наблюдаем замечательную картину, что чем выше этаж - тем реже он встречается, ну оно и понятно, пятиэтажек в разы больше, чем многоквартирников на 20+ этажей, соответственно и объявлений больше."
   ]
  },
  {
   "cell_type": "markdown",
   "metadata": {},
   "source": [
    "##### Параметр \"тип этажа квартиры\""
   ]
  },
  {
   "cell_type": "code",
   "execution_count": 31,
   "metadata": {},
   "outputs": [
    {
     "data": {
      "text/plain": [
       "<AxesSubplot:>"
      ]
     },
     "execution_count": 31,
     "metadata": {},
     "output_type": "execute_result"
    },
    {
     "data": {
      "image/png": "[encoded data removed]",
      "text/plain": [
       "<Figure size 360x360 with 1 Axes>"
      ]
     },
     "metadata": {
      "needs_background": "light"
     },
     "output_type": "display_data"
    }
   ],
   "source": [
    "data['which_floor'].hist(figsize=(5, 5))"
   ]
  },
  {
   "cell_type": "markdown",
   "metadata": {},
   "source": [
    "Сравнивая с параметром выше мы определенно точно можем сказать, что функция сработала как надо с первым этажом, что там, что тут примерно 2500 объявлений."
   ]
  },
  {
   "cell_type": "markdown",
   "metadata": {},
   "source": [
    "<div class=\"alert alert-block alert-success\">✔️\n",
    "    \n",
    "\n",
    "__Комментарий от ревьюера №1__\n",
    "\n",
    "Полученные данные соответствуют реалиям\n",
    "</div>"
   ]
  },
  {
   "cell_type": "markdown",
   "metadata": {},
   "source": [
    "##### Параметр \"общее количество этажей в доме\""
   ]
  },
  {
   "cell_type": "code",
   "execution_count": 32,
   "metadata": {},
   "outputs": [
    {
     "data": {
      "text/plain": [
       "<AxesSubplot:>"
      ]
     },
     "execution_count": 32,
     "metadata": {},
     "output_type": "execute_result"
    },
    {
     "data": {
      "image/png": "[encoded data removed]",
      "text/plain": [
       "<Figure size 360x360 with 1 Axes>"
      ]
     },
     "metadata": {
      "needs_background": "light"
     },
     "output_type": "display_data"
    }
   ],
   "source": [
    "data['floors_total'].hist(figsize=(5,5),bins=50)"
   ]
  },
  {
   "cell_type": "markdown",
   "metadata": {},
   "source": [
    "Аналогичная ситуация с параметром \"этаж квартиры\"."
   ]
  },
  {
   "cell_type": "markdown",
   "metadata": {},
   "source": [
    "##### Параметр \"расстояние до центра города в метрах\""
   ]
  },
  {
   "cell_type": "code",
   "execution_count": 33,
   "metadata": {},
   "outputs": [
    {
     "data": {
      "text/plain": [
       "<AxesSubplot:>"
      ]
     },
     "execution_count": 33,
     "metadata": {},
     "output_type": "execute_result"
    },
    {
     "data": {
      "image/png": "[encoded data removed]",
      "text/plain": [
       "<Figure size 360x360 with 1 Axes>"
      ]
     },
     "metadata": {
      "needs_background": "light"
     },
     "output_type": "display_data"
    }
   ],
   "source": [
    "data['cityCenters_nearest'].hist(figsize=(5,5))"
   ]
  },
  {
   "cell_type": "markdown",
   "metadata": {},
   "source": [
    "Выглядит правдаподобно, может и хорошо, что мы не стали заполнять пропуски сомнительными медианами."
   ]
  },
  {
   "cell_type": "markdown",
   "metadata": {},
   "source": [
    "##### Параметр \"расстояние до ближайшего аэропорта\""
   ]
  },
  {
   "cell_type": "code",
   "execution_count": 34,
   "metadata": {},
   "outputs": [
    {
     "data": {
      "text/plain": [
       "count    16475.000000\n",
       "mean     29630.951108\n",
       "std      13168.391751\n",
       "min          0.000000\n",
       "25%      18748.000000\n",
       "50%      27314.000000\n",
       "75%      39106.000000\n",
       "max      84869.000000\n",
       "Name: airports_nearest, dtype: float64"
      ]
     },
     "execution_count": 34,
     "metadata": {},
     "output_type": "execute_result"
    },
    {
     "data": {
      "image/png": "[encoded data removed]",
      "text/plain": [
       "<Figure size 360x360 with 1 Axes>"
      ]
     },
     "metadata": {
      "needs_background": "light"
     },
     "output_type": "display_data"
    }
   ],
   "source": [
    "data['airports_nearest'].hist(figsize=(5,5))\n",
    "data['airports_nearest'].describe()"
   ]
  },
  {
   "cell_type": "markdown",
   "metadata": {},
   "source": [
    "Выглядит правдаподобно, может и хорошо, что мы не стали заполнять пропуски сомнительными медианами. Правда в данном случае имеет место быть 0 метров до аэропорта, и если считать капсульный отель отдельной студией, может так оно и есть, но не знаю!"
   ]
  },
  {
   "cell_type": "markdown",
   "metadata": {},
   "source": [
    "##### Параметр \"расстояние до ближайшего парка\""
   ]
  },
  {
   "cell_type": "code",
   "execution_count": 35,
   "metadata": {},
   "outputs": [
    {
     "data": {
      "text/plain": [
       "count    15391.000000\n",
       "mean       476.284419\n",
       "std        236.128673\n",
       "min          1.000000\n",
       "25%        428.500000\n",
       "50%        460.000000\n",
       "75%        460.000000\n",
       "max       3190.000000\n",
       "Name: parks_nearest, dtype: float64"
      ]
     },
     "execution_count": 35,
     "metadata": {},
     "output_type": "execute_result"
    },
    {
     "data": {
      "image/png": "[encoded data removed]",
      "text/plain": [
       "<Figure size 360x360 with 1 Axes>"
      ]
     },
     "metadata": {
      "needs_background": "light"
     },
     "output_type": "display_data"
    }
   ],
   "source": [
    "data['parks_nearest'].hist(figsize=(5,5))\n",
    "data['parks_nearest'].describe()"
   ]
  },
  {
   "cell_type": "markdown",
   "metadata": {},
   "source": [
    "1 метров до парка тоже может смутить, вряд ли кто-то построил многоэтажку посреди парка - максимум через дорогу и метр для этого маловато."
   ]
  },
  {
   "cell_type": "markdown",
   "metadata": {},
   "source": [
    "##### Параметр \"день и месяц публикации объявления\""
   ]
  },
  {
   "cell_type": "code",
   "execution_count": 36,
   "metadata": {
    "scrolled": true
   },
   "outputs": [
    {
     "data": {
      "text/plain": [
       "<AxesSubplot:>"
      ]
     },
     "execution_count": 36,
     "metadata": {},
     "output_type": "execute_result"
    },
    {
     "data": {
      "image/png": "[encoded data removed]",
      "text/plain": [
       "<Figure size 1800x360 with 1 Axes>"
      ]
     },
     "metadata": {
      "needs_background": "light"
     },
     "output_type": "display_data"
    }
   ],
   "source": [
    "data['first_day_exposition'].hist(figsize=(25,5),bins = 80)"
   ]
  },
  {
   "cell_type": "code",
   "execution_count": 37,
   "metadata": {},
   "outputs": [
    {
     "data": {
      "text/plain": [
       "<AxesSubplot:>"
      ]
     },
     "execution_count": 37,
     "metadata": {},
     "output_type": "execute_result"
    },
    {
     "data": {
      "image/png": "[encoded data removed]",
      "text/plain": [
       "<Figure size 1800x360 with 1 Axes>"
      ]
     },
     "metadata": {
      "needs_background": "light"
     },
     "output_type": "display_data"
    }
   ],
   "source": [
    "data['weekday'].hist(figsize=(25,5),bins = 80)"
   ]
  },
  {
   "cell_type": "markdown",
   "metadata": {},
   "source": [
    "На данной диаграмме мы видим замечательную тенденцию каждого жителя ленинградской области пускаться в объятия дивана и слабоалкогольных напитков, и пустить все на самотек, дабы отметить выходные. Действительно, можно однозначно сказать, что люди гораздо реже выкладывают объявления по выходным"
   ]
  },
  {
   "cell_type": "code",
   "execution_count": 38,
   "metadata": {},
   "outputs": [
    {
     "data": {
      "text/plain": [
       "<AxesSubplot:>"
      ]
     },
     "execution_count": 38,
     "metadata": {},
     "output_type": "execute_result"
    },
    {
     "data": {
      "image/png": "[encoded data removed]",
      "text/plain": [
       "<Figure size 1800x360 with 1 Axes>"
      ]
     },
     "metadata": {
      "needs_background": "light"
     },
     "output_type": "display_data"
    }
   ],
   "source": [
    "data['month'].hist(figsize=(25,5),bins = 80)"
   ]
  },
  {
   "cell_type": "markdown",
   "metadata": {},
   "source": [
    "На данной же диаграмме можно сказать, что пиковые для объявления месяцы это ноябрь и февраль, о природе такого явление я лично не догадыаюсь, но факт остается фактом, в то же время самый неэффиктивный месяц по количеству объявлений - май"
   ]
  },
  {
   "cell_type": "code",
   "execution_count": 39,
   "metadata": {},
   "outputs": [
    {
     "data": {
      "text/plain": [
       "<AxesSubplot:>"
      ]
     },
     "execution_count": 39,
     "metadata": {},
     "output_type": "execute_result"
    },
    {
     "data": {
      "image/png": "[encoded data removed]",
      "text/plain": [
       "<Figure size 1800x360 with 1 Axes>"
      ]
     },
     "metadata": {
      "needs_background": "light"
     },
     "output_type": "display_data"
    }
   ],
   "source": [
    "data['year'].hist(figsize=(25,5),bins = 80)"
   ]
  },
  {
   "cell_type": "markdown",
   "metadata": {},
   "source": [
    "На данной диграмме мы видим низкие показатели 14 года, но не спешите его осуждать - в датасете представлен не весь год, следовательно судить по данным 2014 - неправильно, с 2015 по 2017 наблюдался стабильный рост, который прервался на небольшое падение в 2018 году, с 2019 годом история аналогичная 2014 году, не весь год представлен в данных"
   ]
  },
  {
   "cell_type": "markdown",
   "metadata": {},
   "source": [
    "<div class=\"alert alert-block alert-danger\">✍\n",
    "    \n",
    "\n",
    "__Комментарий от ревьюера №1__\n",
    "\n",
    "Давай так же рассмотреть отдельно день недели, месяца года?\n",
    "</div>"
   ]
  },
  {
   "cell_type": "markdown",
   "metadata": {},
   "source": [
    "<div class=\"alert alert-block alert-success\">✔️\n",
    "    \n",
    "\n",
    "__Комментарий от ревьюера №2__\n",
    "\n",
    "В мае не до продаж, все на огородах =)\n",
    "</div>"
   ]
  },
  {
   "cell_type": "markdown",
   "metadata": {},
   "source": [
    "На данном графике мы наблюдаем рассвет арендной сдачи во второй половине 2017 - начале 2018 года, оно и понятно, поскольку именно в этот промежуток стало известно, что Чемпионат Мира по футболу будет проводиться в нашей стране, и именно в Петербурге пройдут некоторые матчи, так что можно связать именно с этим."
   ]
  },
  {
   "cell_type": "markdown",
   "metadata": {},
   "source": [
    "#### Изучим, как быстро продавались квартиры с помощью параметра days_exposition"
   ]
  },
  {
   "cell_type": "code",
   "execution_count": 46,
   "metadata": {},
   "outputs": [
    {
     "data": {
      "text/plain": [
       "count    20518.000000\n",
       "mean       180.888634\n",
       "std        219.727988\n",
       "min          1.000000\n",
       "25%         45.000000\n",
       "50%         95.000000\n",
       "75%        232.000000\n",
       "max       1580.000000\n",
       "Name: days_exposition, dtype: float64"
      ]
     },
     "execution_count": 46,
     "metadata": {},
     "output_type": "execute_result"
    },
    {
     "data": {
      "image/png": "[encoded data removed]",
      "text/plain": [
       "<Figure size 360x360 with 1 Axes>"
      ]
     },
     "metadata": {
      "needs_background": "light"
     },
     "output_type": "display_data"
    }
   ],
   "source": [
    "data['days_exposition'].hist(figsize=(5,5), range =  (0,100), bins = 100)\n",
    "data['days_exposition'].describe()"
   ]
  },
  {
   "cell_type": "markdown",
   "metadata": {},
   "source": [
    "<div class=\"alert alert-block alert-danger\">✍\n",
    "    \n",
    "\n",
    "__Комментарий от ревьюера №1__\n",
    "\n",
    "Давай тут уменьшим range до 100 или 200 (ведь именно в эти дни происходят основные продажи), возможно тут есть интересные аномалии. Так же в таких моментах лучше делать колличество корзин = колличеству дней (в соответствии с range)\n",
    "</div>"
   ]
  },
  {
   "cell_type": "markdown",
   "metadata": {},
   "source": [
    "<div class=\"alert alert-block alert-warning\">📝\n",
    "    \n",
    "\n",
    "__Комментарий от ревьюера №2__\n",
    "\n",
    "Тут важно порассуждать как аналитик, почему именно 45 и 60 дней? С чем это связано?\n",
    "    \n",
    "Эти аномалии очень похожи на техническую особенность самой платформы: вероятнее, в эти дни платформа автоматически убирает объявления, если пользователь его не продлил\n",
    "</div>"
   ]
  },
  {
   "cell_type": "markdown",
   "metadata": {},
   "source": [
    "Данный график напоминает нам распределение пуассона, что вполне логично. Третий квартиль находится на значении 232, а значит, что три четвертых всех объявлений уходит примерно за 8 месяцев, а все что дольше - можно назвать долгими объявлениями. Первый же квартиль на значении 45, значит, те что сдались за 1,5 месяца - можно назвать быстрыми. Среднее же значение 180 дней, то бишь полгода без аредной платы!"
   ]
  },
  {
   "cell_type": "markdown",
   "metadata": {},
   "source": [
    "Что же, если рассмотреть детально первые 75% продаж, то можно выявить интересную аномалию, что некоторые являются просто счастливыми для арендодателей, так например, примерно в районе первого квартиля (45 дней), закрывается бешенное количество объявлений, та же тенденция ждет нас и на 60 и на 90 день. Проще говоря, существуют счастливые дни для закрытия объявления, правда какова природа - случайность или закономерность, сказать невозможно"
   ]
  },
  {
   "cell_type": "markdown",
   "metadata": {},
   "source": [
    "<div class=\"alert alert-block alert-success\">✔️\n",
    "    \n",
    "\n",
    "__Комментарий от ревьюера №1__\n",
    "\n",
    "Да, до 45 дней можно считать быстрой продажей\n",
    "</div>"
   ]
  },
  {
   "cell_type": "markdown",
   "metadata": {},
   "source": [
    "#### Изучим, факторы влияния на общую (полную) стоимость объекта"
   ]
  },
  {
   "cell_type": "markdown",
   "metadata": {},
   "source": [
    "##### Изучим зависит ли цена от общей площади"
   ]
  },
  {
   "cell_type": "code",
   "execution_count": 41,
   "metadata": {},
   "outputs": [
    {
     "data": {
      "text/plain": [
       "0.643126730535294"
      ]
     },
     "execution_count": 41,
     "metadata": {},
     "output_type": "execute_result"
    },
    {
     "data": {
      "image/png": "[encoded data removed]",
      "text/plain": [
       "<Figure size 432x288 with 1 Axes>"
      ]
     },
     "metadata": {
      "needs_background": "light"
     },
     "output_type": "display_data"
    }
   ],
   "source": [
    "data.plot(x='total_area', y='last_price', kind='scatter')\n",
    "data['total_area'].corr(data['last_price'])"
   ]
  },
  {
   "cell_type": "markdown",
   "metadata": {},
   "source": [
    "Даже с явными аномалиями шикарных квартир от 300+ м^2 коэффициент корреляции равен около 0,64, что вполне себе позволяет сказать, что эти показатели прямопропорциональны, но не так сильно, как хотелось бы для однозначного ответа."
   ]
  },
  {
   "cell_type": "markdown",
   "metadata": {},
   "source": [
    "<div class=\"alert alert-block alert-success\">✔️\n",
    "    \n",
    "\n",
    "__Комментарий от ревьюера №1__\n",
    "\n",
    "Верная интерпретация значений корреляции Пирсона. Ты молодец =)\n",
    "</div>"
   ]
  },
  {
   "cell_type": "markdown",
   "metadata": {},
   "source": [
    "##### Изучим зависит ли цена от жилой площади"
   ]
  },
  {
   "cell_type": "code",
   "execution_count": 42,
   "metadata": {
    "scrolled": true
   },
   "outputs": [
    {
     "data": {
      "text/plain": [
       "0.5457444935416916"
      ]
     },
     "execution_count": 42,
     "metadata": {},
     "output_type": "execute_result"
    },
    {
     "data": {
      "image/png": "[encoded data removed]",
      "text/plain": [
       "<Figure size 432x288 with 1 Axes>"
      ]
     },
     "metadata": {
      "needs_background": "light"
     },
     "output_type": "display_data"
    }
   ],
   "source": [
    "data.plot(x='living_area', y='last_price', kind='scatter')\n",
    "data['living_area'].corr(data['last_price'])"
   ]
  },
  {
   "cell_type": "markdown",
   "metadata": {},
   "source": [
    "На этом графике так же видны некоторые объявления выбивающиеся из общих тенденций, но даже с ними коэффициент корреляции составил почти 0,55, что неплохо!"
   ]
  },
  {
   "cell_type": "markdown",
   "metadata": {},
   "source": [
    "##### Изучим зависит ли цена от площади кухни"
   ]
  },
  {
   "cell_type": "code",
   "execution_count": 43,
   "metadata": {
    "scrolled": true
   },
   "outputs": [
    {
     "data": {
      "text/plain": [
       "0.4370587312281409"
      ]
     },
     "execution_count": 43,
     "metadata": {},
     "output_type": "execute_result"
    },
    {
     "data": {
      "image/png": "[encoded data removed]",
      "text/plain": [
       "<Figure size 432x288 with 1 Axes>"
      ]
     },
     "metadata": {
      "needs_background": "light"
     },
     "output_type": "display_data"
    }
   ],
   "source": [
    "data.plot(x='kitchen_area', y='last_price', kind='scatter')\n",
    "data['kitchen_area'].corr(data['last_price'])"
   ]
  },
  {
   "cell_type": "markdown",
   "metadata": {},
   "source": [
    "На этом графике так же видны некоторые объявления выбивающиеся из общих тенденций, но даже с ними коэффициент корреляции составил почти 0,43, что неплохо, однако, на фоне остальных этот показатель более слабо влияет на стоимость!"
   ]
  },
  {
   "cell_type": "markdown",
   "metadata": {},
   "source": [
    "##### Изучим зависит ли цена от количества комнат"
   ]
  },
  {
   "cell_type": "code",
   "execution_count": 44,
   "metadata": {
    "scrolled": true
   },
   "outputs": [
    {
     "data": {
      "text/plain": [
       "0.35609768336865494"
      ]
     },
     "execution_count": 44,
     "metadata": {},
     "output_type": "execute_result"
    },
    {
     "data": {
      "image/png": "[encoded data removed]",
      "text/plain": [
       "<Figure size 432x288 with 1 Axes>"
      ]
     },
     "metadata": {
      "needs_background": "light"
     },
     "output_type": "display_data"
    }
   ],
   "source": [
    "data.plot(x='rooms', y='last_price', kind='scatter')\n",
    "data['rooms'].corr(data['last_price'])"
   ]
  },
  {
   "cell_type": "markdown",
   "metadata": {},
   "source": [
    "Зависимость с каждым новым графиком все слабее! Цена от количества комнат очень слабо зависит."
   ]
  },
  {
   "cell_type": "markdown",
   "metadata": {},
   "source": [
    "##### Изучим зависит ли цена от этажа"
   ]
  },
  {
   "cell_type": "code",
   "execution_count": 47,
   "metadata": {
    "scrolled": true
   },
   "outputs": [
    {
     "data": {
      "image/png": "[encoded data removed]",
      "text/plain": [
       "<Figure size 432x288 with 1 Axes>"
      ]
     },
     "metadata": {
      "needs_background": "light"
     },
     "output_type": "display_data"
    }
   ],
   "source": [
    "#data[['which_floor', 'last_price']].pivot_table(index='which_floor', values='last_price')\n",
    "(\n",
    "    pd.DataFrame(data.pivot_table(index='which_floor', values='last_price').to_records())\n",
    "    .plot(x='which_floor', y='last_price', kind='bar', grid=False, title = 'Зависимость средней цены от расположения на этаже')\n",
    ")\n",
    "plt.show()\n"
   ]
  },
  {
   "cell_type": "markdown",
   "metadata": {},
   "source": [
    "Здесь зависимость понятна - первый этаж часто дешевле ввиду многих причин, выглядит реалистично."
   ]
  },
  {
   "cell_type": "markdown",
   "metadata": {},
   "source": [
    "<div class=\"alert alert-block alert-danger\">✍\n",
    "    \n",
    "\n",
    "__Комментарий от ревьюера №1__\n",
    "\n",
    "Отсутствует визуализация тут и по остальным шагам (т.к. это линейные данные, тут лучше рассмотреть с помощью линейной диаграммы или столбчатой)\n",
    "</div>"
   ]
  },
  {
   "cell_type": "markdown",
   "metadata": {},
   "source": [
    "<div class=\"alert alert-block alert-success\">✔️\n",
    "    \n",
    "\n",
    "__Комментарий от ревьюера №2__\n",
    "\n",
    "Как в песне, \"первый и последний этаж не предлагать\". Традиционно, квартиры на первом и последнем этажах считаются самыми неудобными для жизни и это отражается на их стоимости.\n",
    "</div>"
   ]
  },
  {
   "cell_type": "markdown",
   "metadata": {},
   "source": [
    "##### Изучим зависит ли цена от дня, месяца и года объявления"
   ]
  },
  {
   "cell_type": "code",
   "execution_count": 51,
   "metadata": {},
   "outputs": [
    {
     "data": {
      "image/png": "[encoded data removed]",
      "text/plain": [
       "<Figure size 432x288 with 1 Axes>"
      ]
     },
     "metadata": {
      "needs_background": "light"
     },
     "output_type": "display_data"
    }
   ],
   "source": [
    "#data[['which_floor', 'last_price']].pivot_table(index='which_floor', values='last_price')\n",
    "(\n",
    "    pd.DataFrame(data.pivot_table(index='year', values='last_price').to_records())\n",
    "    .plot(x='year', y='last_price', kind='bar', grid=False, title = 'Зависимость средней цены от года')\n",
    ")\n",
    "plt.show()\n"
   ]
  },
  {
   "cell_type": "code",
   "execution_count": 48,
   "metadata": {
    "scrolled": true
   },
   "outputs": [
    {
     "data": {
      "text/html": [
       "<div>\n",
       "<style scoped>\n",
       "    .dataframe tbody tr th:only-of-type {\n",
       "        vertical-align: middle;\n",
       "    }\n",
       "\n",
       "    .dataframe tbody tr th {\n",
       "        vertical-align: top;\n",
       "    }\n",
       "\n",
       "    .dataframe thead th {\n",
       "        text-align: right;\n",
       "    }\n",
       "</style>\n",
       "<table border=\"1\" class=\"dataframe\">\n",
       "  <thead>\n",
       "    <tr style=\"text-align: right;\">\n",
       "      <th></th>\n",
       "      <th>weekday</th>\n",
       "      <th>month</th>\n",
       "      <th>year</th>\n",
       "      <th>last_price</th>\n",
       "    </tr>\n",
       "  </thead>\n",
       "  <tbody>\n",
       "    <tr>\n",
       "      <th>weekday</th>\n",
       "      <td>1.000000</td>\n",
       "      <td>0.009927</td>\n",
       "      <td>0.006024</td>\n",
       "      <td>0.004637</td>\n",
       "    </tr>\n",
       "    <tr>\n",
       "      <th>month</th>\n",
       "      <td>0.009927</td>\n",
       "      <td>1.000000</td>\n",
       "      <td>-0.196851</td>\n",
       "      <td>0.005631</td>\n",
       "    </tr>\n",
       "    <tr>\n",
       "      <th>year</th>\n",
       "      <td>0.006024</td>\n",
       "      <td>-0.196851</td>\n",
       "      <td>1.000000</td>\n",
       "      <td>-0.061122</td>\n",
       "    </tr>\n",
       "    <tr>\n",
       "      <th>last_price</th>\n",
       "      <td>0.004637</td>\n",
       "      <td>0.005631</td>\n",
       "      <td>-0.061122</td>\n",
       "      <td>1.000000</td>\n",
       "    </tr>\n",
       "  </tbody>\n",
       "</table>\n",
       "</div>"
      ],
      "text/plain": [
       "             weekday     month      year  last_price\n",
       "weekday     1.000000  0.009927  0.006024    0.004637\n",
       "month       0.009927  1.000000 -0.196851    0.005631\n",
       "year        0.006024 -0.196851  1.000000   -0.061122\n",
       "last_price  0.004637  0.005631 -0.061122    1.000000"
      ]
     },
     "execution_count": 48,
     "metadata": {},
     "output_type": "execute_result"
    }
   ],
   "source": [
    "data[['weekday', 'month', 'year', 'last_price']].corr()"
   ]
  },
  {
   "cell_type": "markdown",
   "metadata": {},
   "source": [
    "Корреляция нулевая, зависимости между этими параметрами нет."
   ]
  },
  {
   "cell_type": "markdown",
   "metadata": {},
   "source": [
    "<div class=\"alert alert-block alert-success\">✔️\n",
    "    \n",
    "\n",
    "__Комментарий от ревьюера №2__\n",
    "\n",
    "Тут согласен\n",
    "</div>"
   ]
  },
  {
   "cell_type": "markdown",
   "metadata": {},
   "source": [
    "#### Рассчет средней цены одного квадратного метра в 10 населённых пунктах с наибольшим числом объявлений"
   ]
  },
  {
   "cell_type": "code",
   "execution_count": 49,
   "metadata": {},
   "outputs": [
    {
     "data": {
      "text/html": [
       "<div>\n",
       "<style scoped>\n",
       "    .dataframe tbody tr th:only-of-type {\n",
       "        vertical-align: middle;\n",
       "    }\n",
       "\n",
       "    .dataframe tbody tr th {\n",
       "        vertical-align: top;\n",
       "    }\n",
       "\n",
       "    .dataframe thead th {\n",
       "        text-align: right;\n",
       "    }\n",
       "</style>\n",
       "<table border=\"1\" class=\"dataframe\">\n",
       "  <thead>\n",
       "    <tr style=\"text-align: right;\">\n",
       "      <th></th>\n",
       "      <th>cost_per_metr</th>\n",
       "      <th>last_price</th>\n",
       "    </tr>\n",
       "    <tr>\n",
       "      <th>locality_name</th>\n",
       "      <th></th>\n",
       "      <th></th>\n",
       "    </tr>\n",
       "  </thead>\n",
       "  <tbody>\n",
       "    <tr>\n",
       "      <th>Санкт-петербург</th>\n",
       "      <td>112412.025179</td>\n",
       "      <td>13638</td>\n",
       "    </tr>\n",
       "    <tr>\n",
       "      <th>Мурино</th>\n",
       "      <td>85743.233293</td>\n",
       "      <td>551</td>\n",
       "    </tr>\n",
       "    <tr>\n",
       "      <th>Кудрово</th>\n",
       "      <td>94408.041602</td>\n",
       "      <td>441</td>\n",
       "    </tr>\n",
       "    <tr>\n",
       "      <th>Шушары</th>\n",
       "      <td>78010.167480</td>\n",
       "      <td>408</td>\n",
       "    </tr>\n",
       "    <tr>\n",
       "      <th>Всеволожск</th>\n",
       "      <td>68570.615292</td>\n",
       "      <td>339</td>\n",
       "    </tr>\n",
       "    <tr>\n",
       "      <th>Колпино</th>\n",
       "      <td>74865.364347</td>\n",
       "      <td>308</td>\n",
       "    </tr>\n",
       "    <tr>\n",
       "      <th>Пушкин</th>\n",
       "      <td>102074.629153</td>\n",
       "      <td>307</td>\n",
       "    </tr>\n",
       "    <tr>\n",
       "      <th>Парголово</th>\n",
       "      <td>89505.043917</td>\n",
       "      <td>302</td>\n",
       "    </tr>\n",
       "    <tr>\n",
       "      <th>Гатчина</th>\n",
       "      <td>67928.326990</td>\n",
       "      <td>268</td>\n",
       "    </tr>\n",
       "    <tr>\n",
       "      <th>Выборг</th>\n",
       "      <td>57084.582948</td>\n",
       "      <td>208</td>\n",
       "    </tr>\n",
       "  </tbody>\n",
       "</table>\n",
       "</div>"
      ],
      "text/plain": [
       "                 cost_per_metr  last_price\n",
       "locality_name                             \n",
       "Санкт-петербург  112412.025179       13638\n",
       "Мурино            85743.233293         551\n",
       "Кудрово           94408.041602         441\n",
       "Шушары            78010.167480         408\n",
       "Всеволожск        68570.615292         339\n",
       "Колпино           74865.364347         308\n",
       "Пушкин           102074.629153         307\n",
       "Парголово         89505.043917         302\n",
       "Гатчина           67928.326990         268\n",
       "Выборг            57084.582948         208"
      ]
     },
     "execution_count": 49,
     "metadata": {},
     "output_type": "execute_result"
    }
   ],
   "source": [
    "(data\n",
    " .pivot_table(index='locality_name', aggfunc={'last_price':'count', 'cost_per_metr':'mean'}) # сводная таблица с количеством объявлений по городам и средней ценой за квадратный метр \n",
    " .sort_values(by='last_price', ascending=False) \n",
    " .head(10)\n",
    ")\n"
   ]
  },
  {
   "cell_type": "markdown",
   "metadata": {},
   "source": [
    "В Питере наблюдаем самые высокие показатели стоимости жилья, оно и понятно, культурная столица, город миллионник и просто прекрасное место. Однако в Москве цены подчас в два раза больше. Самая низкая средняя стоимость за метр в Выборге."
   ]
  },
  {
   "cell_type": "markdown",
   "metadata": {},
   "source": [
    "<div class=\"alert alert-block alert-warning\">📝\n",
    "    \n",
    "\n",
    "__Комментарий от ревьюера №1__\n",
    "\n",
    "Таблица верна. Совет: на общие продажи лучше смотреть через призму медианы. Она более устойчива к выбросам\n",
    "</div>"
   ]
  },
  {
   "cell_type": "markdown",
   "metadata": {},
   "source": [
    "#### Рассчет средней цены одного квадратного метра в 10 населённых пунктах с наибольшим числом объявлений"
   ]
  },
  {
   "cell_type": "code",
   "execution_count": 50,
   "metadata": {},
   "outputs": [
    {
     "data": {
      "image/png": "[encoded data removed]",
      "text/plain": [
       "<Figure size 432x288 with 1 Axes>"
      ]
     },
     "metadata": {
      "needs_background": "light"
     },
     "output_type": "display_data"
    }
   ],
   "source": [
    "data_sp = data[data['locality_name'] == 'Санкт-петербург'].dropna(subset=['cityCenters_nearest']) \n",
    "(\n",
    "    pd.DataFrame(data_sp.pivot_table(index='cityCenters_nearest_km', values='last_price').to_records())\n",
    "    .plot(x='cityCenters_nearest_km', y='last_price', kind='bar', grid=True, title = 'Заголовок')\n",
    ")\n",
    "plt.show()"
   ]
  },
  {
   "cell_type": "markdown",
   "metadata": {},
   "source": [
    "Очевидно, чем ближе к центру, тем дороже, это мы и наблюдаем на данном графике. Но после 8 км от центра - все становится стабильно. Также необходимо высчитать стоимость каждого километра согласно тз, и я немного не понимаю, как это сделать("
   ]
  },
  {
   "cell_type": "markdown",
   "metadata": {},
   "source": [
    "<div class=\"alert alert-block alert-success\">✔️\n",
    "    \n",
    "\n",
    "__Комментарий от ревьюера №1__\n",
    "\n",
    "Отличная визуализация. В твой код добавил заголовок, посмотри, пожалуйста, этот момент. Очень важно оформлять графики\n",
    "</div>"
   ]
  },
  {
   "cell_type": "markdown",
   "metadata": {},
   "source": [
    "### Общий вывод"
   ]
  },
  {
   "cell_type": "markdown",
   "metadata": {},
   "source": [
    "Предоставленные данные были достаточно грязными, но после очистки мы смогли их проанализировать и пришли к следующим выводам:\n",
    "1. Цена зависит от общей площади и близости к центру (по городу Санкт-Петербург)\n",
    "1. Недвижимость в северной столице стоит больше, чем в пригороде (за квадратный метр).\n",
    "1. Основной объем объявлений выл вывешен в период конца 2017 - первая половина 2018, скорее всего из-за ЧМ по футболу\n",
    "1. По большей части объекты продаются в течение полугода\n",
    "1. Наблюдается зависимость цены от этажа, а конкретно - первого, жилье на этом этаже обойдется дешевле собратьев.\n",
    "\n",
    "В ходе работы была осуществлена предобратка данных, в ходе которой датасет был избавлен от артефактов и пропусков, настолько, насколько это возможно, также добавлены новые столбцы, которые потребовались в последующем исследовательском анализе данных. После исследовательской работы были сформулированы критерии рекомендации для бизнеса."
   ]
  },
  {
   "cell_type": "markdown",
   "metadata": {},
   "source": [
    "<div class=\"alert alert-block alert-warning\">📝\n",
    "    \n",
    "\n",
    "__Комментарий от ревьюера №1__\n",
    "\n",
    "Шикарный вывод и рекомендации для бизнеса. Кстати, хорошей практикой является написание в общем выводе всех твоих действий (кратко) по проекту. Ведь вывод раскрывает для заказчика всю твою проделанную работу и за что он платит деньги, даже если ему не интересен весь процесс исследования, то в отчёт он заглянет обязательно. "
   ]
  },
  {
   "cell_type": "markdown",
   "metadata": {},
   "source": [
    "<div class=\"alert alert-block alert-warning\">📝\n",
    "Комментарий от ревьюера №1 </b> \n",
    "\n",
    "\n",
    "\n",
    "У тебя получилась очень сильная и хорошая работа. Здорово, что расчеты ты сопровождаешь иллюстрациями, а так же не забываешь про комментарии, твой проект интересно проверять. \n",
    "\n",
    "---\n",
    "\n",
    "Нужно поправить:\n",
    "\n",
    "1) Типы данных\n",
    "\n",
    "2) Проверка на дубликаты\n",
    "\n",
    "3) Рассмотреть отдельно день недели, месяца года\n",
    "\n",
    "4) Уменьшить range, чтобы рассмотреть пики\n",
    "\n",
    "5) Построить графики зависмостей по остальным пунктам\n",
    "\n",
    "6) Подправить выводы, после изменений\n",
    "\n",
    "----\n",
    "\n",
    "\n",
    "Если у тебя будут какие-то вопросы по моим комментариям - обязательно пиши! Буду ждать работу на повторное ревью :)</div>"
   ]
  },
  {
   "cell_type": "markdown",
   "metadata": {},
   "source": [
    "<div class=\"alert alert-info\"> <b>Комментарии студента:</b> Александр, спасибо тебе за твою работу, надеюсь, при успешном окончании курса, будет возможность пробежаться по своим проектам и отревьювить их не хуже тебя  😎😎😎\n",
    "</div>"
   ]
  },
  {
   "cell_type": "markdown",
   "metadata": {},
   "source": [
    "<div class=\"alert alert-block alert-success\">✔️\n",
    "    \n",
    "\n",
    "__Коментарий от ревьюера №2__\n",
    "\n",
    "Герман, спасибо за обратную связь и крутой проект!) Надеюсь ещё увидимся ;)\n",
    "    \n",
    "---    \n",
    "    \n",
    "В остальном всё чудно😊. Твой проект так и просится на github =)   \n",
    "    \n",
    "Поздравляю с успешным завершением проекта 😊👍\n",
    "И желаю успехов в новых работах 😊\n",
    "    \n",
    "---\n",
    "    \n",
    "От себя хочу порекомендовать тебе отличную книгу про язык Python. Она очень классная (можно купить как новую, так и на Авито попадается. Вот ссылка на pdf этой книги)\n",
    "    \n",
    "https://monster-book.com/avtomatizaciya-zadach-s-python\n",
    "</div>"
   ]
  },
  {
   "cell_type": "markdown",
   "metadata": {},
   "source": [
    "**Чек-лист готовности проекта**\n",
    "\n",
    "Поставьте 'x' в выполненных пунктах. Далее нажмите Shift+Enter."
   ]
  },
  {
   "cell_type": "markdown",
   "metadata": {},
   "source": [
    "- [ ]  открыт файл\n",
    "- [ ]  файлы изучены (выведены первые строки, метод `info()`, гистограммы и т.д.)\n",
    "- [ ]  определены пропущенные значения\n",
    "- [ ]  заполнены пропущенные значения там, где это возможно\n",
    "- [ ]  есть пояснение, какие пропущенные значения обнаружены\n",
    "- [ ]  изменены типы данных\n",
    "- [ ]  есть пояснение, в каких столбцах изменены типы и почему\n",
    "- [ ]  устранены неявные дубликаты в названиях населённых пунктов\n",
    "- [ ]  устранены редкие и выбивающиеся значения (аномалии) во всех столбцах\n",
    "- [ ]  посчитано и добавлено в таблицу: цена одного квадратного метра\n",
    "- [ ]  посчитано и добавлено в таблицу: день публикации объявления (0 - понедельник, 1 - вторник и т.д.)\n",
    "- [ ]  посчитано и добавлено в таблицу: месяц публикации объявления\n",
    "- [ ]  посчитано и добавлено в таблицу: год публикации объявления\n",
    "- [ ]  посчитано и добавлено в таблицу: тип этажа квартиры (значения — «первый», «последний», «другой»)\n",
    "- [ ]  посчитано и добавлено в таблицу: расстояние в км до центра города\n",
    "- [ ]  изучены и описаны следующие параметры:\n",
    "        - общая площадь;\n",
    "        - жилая площадь;\n",
    "        - площадь кухни;\n",
    "        - цена объекта;\n",
    "        - количество комнат;\n",
    "        - высота потолков;\n",
    "        - этаж квартиры;\n",
    "        - тип этажа квартиры («первый», «последний», «другой»);\n",
    "        - общее количество этажей в доме;\n",
    "        - расстояние до центра города в метрах;\n",
    "        - расстояние до ближайшего аэропорта;\n",
    "        - расстояние до ближайшего парка;\n",
    "        - день и месяц публикации объявления\n",
    "- [ ]  построены гистограммы для каждого параметра\n",
    "- [ ]  выполнено задание: \"Изучите, как быстро продавались квартиры (столбец days_exposition). Этот параметр показывает, сколько дней «висело» каждое объявление.\n",
    "    - Постройте гистограмму.\n",
    "    - Посчитайте среднее и медиану.\n",
    "    - В ячейке типа markdown опишите, сколько обычно занимает продажа. Какие продажи можно считать быстрыми, а какие — необычно долгими?\"\n",
    "- [ ]  выполнено задание: \"Какие факторы больше всего влияют на общую (полную) стоимость объекта? Постройте графики, которые покажут зависимость цены от указанных ниже параметров. Для подготовки данных перед визуализацией вы можете использовать сводные таблицы.\"\n",
    "        - общей площади;\n",
    "        - жилой площади;\n",
    "        - площади кухни;\n",
    "        - количество комнат;\n",
    "        - типа этажа, на котором расположена квартира (первый, последний, другой);\n",
    "        - даты размещения (день недели, месяц, год);\n",
    "- [ ]  выполнено задание: \"Посчитайте среднюю цену одного квадратного метра в 10 населённых пунктах с наибольшим числом объявлений. Выделите населённые пункты с самой высокой и низкой стоимостью квадратного метра. Эти данные можно найти по имени в столбце `locality_name`.\"\n",
    "- [ ]  выполнено задание: \"Ранее вы посчитали расстояние до центра в километрах. Теперь выделите квартиры в Санкт-Петербурге с помощью столбца `locality_name` и вычислите среднюю цену каждого километра. Опишите, как стоимость объектов зависит от расстояния до центра города.\"\n",
    "- [ ]  в каждом этапе есть промежуточные выводы\n",
    "- [ ]  есть общий вывод"
   ]
  },
  {
   "cell_type": "code",
   "execution_count": null,
   "metadata": {},
   "outputs": [],
   "source": []
  }
 ],
 "metadata": {
  "ExecuteTimeLog": [
   {
    "duration": 62,
    "start_time": "2022-09-24T13:40:21.743Z"
   },
   {
    "duration": 42,
    "start_time": "2022-09-24T13:40:38.425Z"
   },
   {
    "duration": 755,
    "start_time": "2022-09-24T13:40:40.858Z"
   },
   {
    "duration": 16,
    "start_time": "2022-09-24T13:40:42.338Z"
   },
   {
    "duration": 20,
    "start_time": "2022-09-24T13:40:59.194Z"
   },
   {
    "duration": 90,
    "start_time": "2022-09-24T13:43:17.597Z"
   },
   {
    "duration": 106,
    "start_time": "2022-09-24T13:46:00.083Z"
   },
   {
    "duration": 166,
    "start_time": "2022-09-24T13:49:12.469Z"
   },
   {
    "duration": 2316,
    "start_time": "2022-09-24T13:51:28.185Z"
   },
   {
    "duration": 84,
    "start_time": "2022-09-24T13:52:44.840Z"
   },
   {
    "duration": 16,
    "start_time": "2022-09-24T13:52:51.975Z"
   },
   {
    "duration": 9,
    "start_time": "2022-09-24T14:36:08.206Z"
   },
   {
    "duration": 481,
    "start_time": "2022-09-24T14:36:20.408Z"
   },
   {
    "duration": 15,
    "start_time": "2022-09-24T14:36:20.891Z"
   },
   {
    "duration": 115,
    "start_time": "2022-09-24T14:36:20.907Z"
   },
   {
    "duration": 2673,
    "start_time": "2022-09-24T14:36:21.024Z"
   },
   {
    "duration": 9,
    "start_time": "2022-09-24T14:36:23.699Z"
   },
   {
    "duration": 8,
    "start_time": "2022-09-24T14:50:42.140Z"
   },
   {
    "duration": 18,
    "start_time": "2022-09-24T14:50:46.589Z"
   },
   {
    "duration": 238,
    "start_time": "2022-09-24T14:51:57.690Z"
   },
   {
    "duration": 240,
    "start_time": "2022-09-24T14:53:46.587Z"
   },
   {
    "duration": 6,
    "start_time": "2022-09-24T14:54:59.087Z"
   },
   {
    "duration": 7,
    "start_time": "2022-09-24T14:59:40.317Z"
   },
   {
    "duration": 5,
    "start_time": "2022-09-24T14:59:44.873Z"
   },
   {
    "duration": 5,
    "start_time": "2022-09-24T15:00:04.777Z"
   },
   {
    "duration": 5,
    "start_time": "2022-09-24T15:05:02.436Z"
   },
   {
    "duration": 77,
    "start_time": "2022-09-24T15:05:16.620Z"
   },
   {
    "duration": 10,
    "start_time": "2022-09-24T15:05:24.414Z"
   },
   {
    "duration": 5,
    "start_time": "2022-09-24T15:05:36.262Z"
   },
   {
    "duration": 4,
    "start_time": "2022-09-24T15:05:56.552Z"
   },
   {
    "duration": 4,
    "start_time": "2022-09-24T15:06:00.457Z"
   },
   {
    "duration": 8,
    "start_time": "2022-09-24T15:06:03.857Z"
   },
   {
    "duration": 10,
    "start_time": "2022-09-24T15:06:07.491Z"
   },
   {
    "duration": 6,
    "start_time": "2022-09-24T15:06:15.218Z"
   },
   {
    "duration": 9,
    "start_time": "2022-09-24T15:06:41.454Z"
   },
   {
    "duration": 5,
    "start_time": "2022-09-24T15:08:05.257Z"
   },
   {
    "duration": 9,
    "start_time": "2022-09-24T15:14:09.008Z"
   },
   {
    "duration": 10,
    "start_time": "2022-09-24T15:14:40.992Z"
   },
   {
    "duration": 8,
    "start_time": "2022-09-24T15:14:50.722Z"
   },
   {
    "duration": 11,
    "start_time": "2022-09-24T15:15:37.334Z"
   },
   {
    "duration": 8,
    "start_time": "2022-09-24T15:15:47.668Z"
   },
   {
    "duration": 11,
    "start_time": "2022-09-24T15:20:36.745Z"
   },
   {
    "duration": 10,
    "start_time": "2022-09-24T15:21:59.094Z"
   },
   {
    "duration": 6,
    "start_time": "2022-09-24T15:22:13.308Z"
   },
   {
    "duration": 5,
    "start_time": "2022-09-24T15:22:21.819Z"
   },
   {
    "duration": 26,
    "start_time": "2022-09-24T15:22:31.820Z"
   },
   {
    "duration": 8,
    "start_time": "2022-09-24T15:24:13.462Z"
   },
   {
    "duration": 7,
    "start_time": "2022-09-24T15:24:37.518Z"
   },
   {
    "duration": 7,
    "start_time": "2022-09-24T15:24:50.769Z"
   },
   {
    "duration": 9,
    "start_time": "2022-09-24T15:25:25.073Z"
   },
   {
    "duration": 8,
    "start_time": "2022-09-24T15:25:58.684Z"
   },
   {
    "duration": 127,
    "start_time": "2022-09-24T15:26:10.888Z"
   },
   {
    "duration": 158,
    "start_time": "2022-09-24T15:26:30.041Z"
   },
   {
    "duration": 138,
    "start_time": "2022-09-24T15:26:45.818Z"
   },
   {
    "duration": 347,
    "start_time": "2022-09-24T15:26:49.614Z"
   },
   {
    "duration": 192,
    "start_time": "2022-09-24T15:27:21.998Z"
   },
   {
    "duration": 180,
    "start_time": "2022-09-24T15:27:45.234Z"
   },
   {
    "duration": 10,
    "start_time": "2022-09-24T15:27:59.248Z"
   },
   {
    "duration": 139,
    "start_time": "2022-09-24T15:29:56.839Z"
   },
   {
    "duration": 11,
    "start_time": "2022-09-24T15:30:20.121Z"
   },
   {
    "duration": 16,
    "start_time": "2022-09-24T15:33:17.022Z"
   },
   {
    "duration": 242,
    "start_time": "2022-09-24T15:33:28.361Z"
   },
   {
    "duration": 263,
    "start_time": "2022-09-24T15:33:40.874Z"
   },
   {
    "duration": 155,
    "start_time": "2022-09-24T15:33:56.712Z"
   },
   {
    "duration": 380,
    "start_time": "2022-09-24T15:34:02.852Z"
   },
   {
    "duration": 12,
    "start_time": "2022-09-24T15:34:34.952Z"
   },
   {
    "duration": 191,
    "start_time": "2022-09-24T15:34:38.733Z"
   },
   {
    "duration": 2832,
    "start_time": "2022-09-24T15:34:53.956Z"
   },
   {
    "duration": 42,
    "start_time": "2022-09-24T15:35:07.092Z"
   },
   {
    "duration": 149,
    "start_time": "2022-09-24T15:35:10.386Z"
   },
   {
    "duration": 7,
    "start_time": "2022-09-24T15:35:36.530Z"
   },
   {
    "duration": 7,
    "start_time": "2022-09-24T15:37:51.023Z"
   },
   {
    "duration": 51,
    "start_time": "2022-09-26T15:48:51.558Z"
   },
   {
    "duration": 663,
    "start_time": "2022-09-26T15:48:58.053Z"
   },
   {
    "duration": 14,
    "start_time": "2022-09-26T15:48:58.718Z"
   },
   {
    "duration": 126,
    "start_time": "2022-09-26T15:48:58.733Z"
   },
   {
    "duration": 2215,
    "start_time": "2022-09-26T15:48:58.862Z"
   },
   {
    "duration": 8,
    "start_time": "2022-09-26T15:49:01.079Z"
   },
   {
    "duration": 137,
    "start_time": "2022-09-26T15:49:01.088Z"
   },
   {
    "duration": 2466,
    "start_time": "2022-09-26T15:53:31.060Z"
   },
   {
    "duration": 1198,
    "start_time": "2022-09-26T15:53:51.634Z"
   },
   {
    "duration": 594,
    "start_time": "2022-09-26T15:53:59.788Z"
   },
   {
    "duration": 6,
    "start_time": "2022-09-26T15:54:34.691Z"
   },
   {
    "duration": 82,
    "start_time": "2022-09-26T15:56:09.434Z"
   },
   {
    "duration": 79,
    "start_time": "2022-09-26T15:57:43.074Z"
   },
   {
    "duration": 13,
    "start_time": "2022-09-26T15:57:45.706Z"
   },
   {
    "duration": 101,
    "start_time": "2022-09-26T15:57:51.132Z"
   },
   {
    "duration": 9,
    "start_time": "2022-09-26T15:58:03.842Z"
   },
   {
    "duration": 7,
    "start_time": "2022-09-26T15:58:43.011Z"
   },
   {
    "duration": 5,
    "start_time": "2022-09-26T16:00:45.586Z"
   },
   {
    "duration": 79,
    "start_time": "2022-09-26T16:00:48.698Z"
   },
   {
    "duration": 7,
    "start_time": "2022-09-26T16:00:54.330Z"
   },
   {
    "duration": 7,
    "start_time": "2022-09-26T16:01:01.442Z"
   },
   {
    "duration": 6,
    "start_time": "2022-09-26T16:01:26.443Z"
   },
   {
    "duration": 6,
    "start_time": "2022-09-26T16:01:36.170Z"
   },
   {
    "duration": 266,
    "start_time": "2022-09-26T16:02:54.258Z"
   },
   {
    "duration": 246,
    "start_time": "2022-09-26T16:03:59.459Z"
   },
   {
    "duration": 9,
    "start_time": "2022-09-26T16:05:04.210Z"
   },
   {
    "duration": 3,
    "start_time": "2022-09-26T16:06:20.267Z"
   },
   {
    "duration": 9,
    "start_time": "2022-09-26T16:06:23.178Z"
   },
   {
    "duration": 103,
    "start_time": "2022-09-26T16:06:37.298Z"
   },
   {
    "duration": 69,
    "start_time": "2022-09-26T16:06:41.242Z"
   },
   {
    "duration": 81,
    "start_time": "2022-09-26T16:06:44.433Z"
   },
   {
    "duration": 64,
    "start_time": "2022-09-26T16:06:51.073Z"
   },
   {
    "duration": 6,
    "start_time": "2022-09-26T16:07:48.073Z"
   },
   {
    "duration": 6,
    "start_time": "2022-09-26T16:08:21.369Z"
   },
   {
    "duration": 8,
    "start_time": "2022-09-26T16:09:31.408Z"
   },
   {
    "duration": 9,
    "start_time": "2022-09-26T16:10:47.617Z"
   },
   {
    "duration": 6,
    "start_time": "2022-09-26T16:10:51.825Z"
   },
   {
    "duration": 11,
    "start_time": "2022-09-26T16:22:45.433Z"
   },
   {
    "duration": 4,
    "start_time": "2022-09-26T16:22:55.159Z"
   },
   {
    "duration": 4,
    "start_time": "2022-09-26T16:23:45.496Z"
   },
   {
    "duration": 5,
    "start_time": "2022-09-26T16:23:48.064Z"
   },
   {
    "duration": 7,
    "start_time": "2022-09-26T16:23:51.601Z"
   },
   {
    "duration": 5,
    "start_time": "2022-09-26T16:23:54.631Z"
   },
   {
    "duration": 670,
    "start_time": "2022-09-26T16:24:06.346Z"
   },
   {
    "duration": 15,
    "start_time": "2022-09-26T16:24:07.018Z"
   },
   {
    "duration": 130,
    "start_time": "2022-09-26T16:24:07.035Z"
   },
   {
    "duration": 1878,
    "start_time": "2022-09-26T16:24:07.167Z"
   },
   {
    "duration": 8,
    "start_time": "2022-09-26T16:24:09.047Z"
   },
   {
    "duration": 7,
    "start_time": "2022-09-26T16:24:09.056Z"
   },
   {
    "duration": 14,
    "start_time": "2022-09-26T16:24:09.064Z"
   },
   {
    "duration": 6,
    "start_time": "2022-09-26T16:24:09.079Z"
   },
   {
    "duration": 10,
    "start_time": "2022-09-26T16:24:09.086Z"
   },
   {
    "duration": 5,
    "start_time": "2022-09-26T16:24:09.099Z"
   },
   {
    "duration": 4,
    "start_time": "2022-09-26T16:24:17.824Z"
   },
   {
    "duration": 6,
    "start_time": "2022-09-26T16:24:25.248Z"
   },
   {
    "duration": 6,
    "start_time": "2022-09-26T16:26:06.663Z"
   },
   {
    "duration": 7,
    "start_time": "2022-09-26T16:26:23.672Z"
   },
   {
    "duration": 12,
    "start_time": "2022-09-26T16:26:26.375Z"
   },
   {
    "duration": 4,
    "start_time": "2022-09-26T16:27:00.015Z"
   },
   {
    "duration": 3,
    "start_time": "2022-09-26T16:27:05.935Z"
   },
   {
    "duration": 11,
    "start_time": "2022-09-26T16:27:11.007Z"
   },
   {
    "duration": 676,
    "start_time": "2022-09-26T16:27:27.969Z"
   },
   {
    "duration": 12,
    "start_time": "2022-09-26T16:27:28.647Z"
   },
   {
    "duration": 86,
    "start_time": "2022-09-26T16:27:28.660Z"
   },
   {
    "duration": 1825,
    "start_time": "2022-09-26T16:27:28.748Z"
   },
   {
    "duration": 8,
    "start_time": "2022-09-26T16:27:30.575Z"
   },
   {
    "duration": 35,
    "start_time": "2022-09-26T16:27:30.584Z"
   },
   {
    "duration": 38,
    "start_time": "2022-09-26T16:27:30.621Z"
   },
   {
    "duration": 35,
    "start_time": "2022-09-26T16:27:30.661Z"
   },
   {
    "duration": 21,
    "start_time": "2022-09-26T16:27:30.698Z"
   },
   {
    "duration": 8,
    "start_time": "2022-09-26T16:27:30.721Z"
   },
   {
    "duration": 698,
    "start_time": "2022-09-26T16:29:13.272Z"
   },
   {
    "duration": 14,
    "start_time": "2022-09-26T16:29:13.972Z"
   },
   {
    "duration": 96,
    "start_time": "2022-09-26T16:29:13.987Z"
   },
   {
    "duration": 1832,
    "start_time": "2022-09-26T16:29:14.085Z"
   },
   {
    "duration": 8,
    "start_time": "2022-09-26T16:29:15.918Z"
   },
   {
    "duration": 18,
    "start_time": "2022-09-26T16:29:15.927Z"
   },
   {
    "duration": 36,
    "start_time": "2022-09-26T16:29:15.947Z"
   },
   {
    "duration": 67,
    "start_time": "2022-09-26T16:29:15.985Z"
   },
   {
    "duration": 28,
    "start_time": "2022-09-26T16:29:16.054Z"
   },
   {
    "duration": 3,
    "start_time": "2022-09-26T16:29:16.085Z"
   },
   {
    "duration": 49,
    "start_time": "2022-09-26T16:30:00.023Z"
   },
   {
    "duration": 2285,
    "start_time": "2022-09-26T16:30:02.686Z"
   },
   {
    "duration": 46,
    "start_time": "2022-09-26T16:30:09.991Z"
   },
   {
    "duration": 44,
    "start_time": "2022-09-26T16:30:35.167Z"
   },
   {
    "duration": 95,
    "start_time": "2022-09-26T16:30:42.686Z"
   },
   {
    "duration": 11,
    "start_time": "2022-09-26T16:30:42.782Z"
   },
   {
    "duration": 94,
    "start_time": "2022-09-26T16:30:42.795Z"
   },
   {
    "duration": 1795,
    "start_time": "2022-09-26T16:30:42.890Z"
   },
   {
    "duration": 8,
    "start_time": "2022-09-26T16:30:44.687Z"
   },
   {
    "duration": 16,
    "start_time": "2022-09-26T16:30:44.696Z"
   },
   {
    "duration": 4,
    "start_time": "2022-09-26T16:30:44.714Z"
   },
   {
    "duration": 42,
    "start_time": "2022-09-26T16:30:44.720Z"
   },
   {
    "duration": 49,
    "start_time": "2022-09-26T16:30:44.764Z"
   },
   {
    "duration": 4,
    "start_time": "2022-09-26T16:30:44.814Z"
   },
   {
    "duration": 685,
    "start_time": "2022-09-26T16:30:56.137Z"
   },
   {
    "duration": 14,
    "start_time": "2022-09-26T16:30:56.824Z"
   },
   {
    "duration": 87,
    "start_time": "2022-09-26T16:30:56.843Z"
   },
   {
    "duration": 1965,
    "start_time": "2022-09-26T16:30:56.932Z"
   },
   {
    "duration": 9,
    "start_time": "2022-09-26T16:30:58.899Z"
   },
   {
    "duration": 17,
    "start_time": "2022-09-26T16:30:58.910Z"
   },
   {
    "duration": 12,
    "start_time": "2022-09-26T16:30:58.929Z"
   },
   {
    "duration": 65,
    "start_time": "2022-09-26T16:30:58.942Z"
   },
   {
    "duration": 33,
    "start_time": "2022-09-26T16:30:59.010Z"
   },
   {
    "duration": 4,
    "start_time": "2022-09-26T16:30:59.044Z"
   },
   {
    "duration": 71,
    "start_time": "2022-09-26T16:45:15.449Z"
   },
   {
    "duration": 686,
    "start_time": "2022-09-26T16:53:17.433Z"
   },
   {
    "duration": 13,
    "start_time": "2022-09-26T16:53:18.121Z"
   },
   {
    "duration": 95,
    "start_time": "2022-09-26T16:53:18.135Z"
   },
   {
    "duration": 1853,
    "start_time": "2022-09-26T16:53:18.232Z"
   },
   {
    "duration": 71,
    "start_time": "2022-09-26T16:53:20.087Z"
   },
   {
    "duration": 7,
    "start_time": "2022-09-26T16:53:20.160Z"
   },
   {
    "duration": 6,
    "start_time": "2022-09-26T16:53:20.169Z"
   },
   {
    "duration": 6,
    "start_time": "2022-09-26T16:53:20.177Z"
   },
   {
    "duration": 69,
    "start_time": "2022-09-26T16:53:20.184Z"
   },
   {
    "duration": 30,
    "start_time": "2022-09-26T16:53:20.255Z"
   },
   {
    "duration": 4,
    "start_time": "2022-09-26T16:53:20.286Z"
   },
   {
    "duration": 7,
    "start_time": "2022-09-26T17:19:55.750Z"
   },
   {
    "duration": 703,
    "start_time": "2022-09-26T17:20:15.666Z"
   },
   {
    "duration": 12,
    "start_time": "2022-09-26T17:20:16.371Z"
   },
   {
    "duration": 84,
    "start_time": "2022-09-26T17:20:16.384Z"
   },
   {
    "duration": 1807,
    "start_time": "2022-09-26T17:20:16.470Z"
   },
   {
    "duration": 68,
    "start_time": "2022-09-26T17:20:18.279Z"
   },
   {
    "duration": 7,
    "start_time": "2022-09-26T17:20:18.349Z"
   },
   {
    "duration": 5,
    "start_time": "2022-09-26T17:20:18.357Z"
   },
   {
    "duration": 5,
    "start_time": "2022-09-26T17:20:18.364Z"
   },
   {
    "duration": 5,
    "start_time": "2022-09-26T17:20:18.370Z"
   },
   {
    "duration": 6,
    "start_time": "2022-09-26T17:20:18.376Z"
   },
   {
    "duration": 4,
    "start_time": "2022-09-26T17:20:18.383Z"
   },
   {
    "duration": 7,
    "start_time": "2022-09-26T17:25:52.785Z"
   },
   {
    "duration": 9,
    "start_time": "2022-09-26T17:25:59.577Z"
   },
   {
    "duration": 8,
    "start_time": "2022-09-26T17:26:09.097Z"
   },
   {
    "duration": 8,
    "start_time": "2022-09-26T17:26:16.681Z"
   },
   {
    "duration": 9,
    "start_time": "2022-09-26T17:26:24.200Z"
   },
   {
    "duration": 11,
    "start_time": "2022-09-26T17:26:55.465Z"
   },
   {
    "duration": 9,
    "start_time": "2022-09-26T17:27:20.125Z"
   },
   {
    "duration": 4,
    "start_time": "2022-09-26T17:33:36.384Z"
   },
   {
    "duration": 6,
    "start_time": "2022-09-26T17:34:53.239Z"
   },
   {
    "duration": 7,
    "start_time": "2022-09-26T17:35:36.560Z"
   },
   {
    "duration": 9,
    "start_time": "2022-09-26T17:35:53.896Z"
   },
   {
    "duration": 653,
    "start_time": "2022-09-26T17:36:25.961Z"
   },
   {
    "duration": 14,
    "start_time": "2022-09-26T17:36:26.617Z"
   },
   {
    "duration": 89,
    "start_time": "2022-09-26T17:36:26.633Z"
   },
   {
    "duration": 1885,
    "start_time": "2022-09-26T17:36:26.724Z"
   },
   {
    "duration": 71,
    "start_time": "2022-09-26T17:36:28.611Z"
   },
   {
    "duration": 26,
    "start_time": "2022-09-26T17:36:28.683Z"
   },
   {
    "duration": 5,
    "start_time": "2022-09-26T17:36:28.710Z"
   },
   {
    "duration": 8,
    "start_time": "2022-09-26T17:36:28.717Z"
   },
   {
    "duration": 9,
    "start_time": "2022-09-26T17:36:28.727Z"
   },
   {
    "duration": 5,
    "start_time": "2022-09-26T17:36:28.738Z"
   },
   {
    "duration": 2,
    "start_time": "2022-09-26T17:39:23.996Z"
   },
   {
    "duration": 2,
    "start_time": "2022-09-26T17:39:26.611Z"
   },
   {
    "duration": 8,
    "start_time": "2022-09-26T17:39:33.755Z"
   },
   {
    "duration": 4,
    "start_time": "2022-09-26T17:43:26.347Z"
   },
   {
    "duration": 4,
    "start_time": "2022-09-26T17:43:36.891Z"
   },
   {
    "duration": 6,
    "start_time": "2022-09-26T17:43:40.859Z"
   },
   {
    "duration": 13,
    "start_time": "2022-09-26T17:51:08.249Z"
   },
   {
    "duration": 5,
    "start_time": "2022-09-26T17:51:31.627Z"
   },
   {
    "duration": 75,
    "start_time": "2022-09-26T17:53:16.563Z"
   },
   {
    "duration": 7,
    "start_time": "2022-09-26T17:53:26.906Z"
   },
   {
    "duration": 6,
    "start_time": "2022-09-26T18:01:51.058Z"
   },
   {
    "duration": 6,
    "start_time": "2022-09-26T18:03:09.027Z"
   },
   {
    "duration": 4,
    "start_time": "2022-09-26T18:08:29.657Z"
   },
   {
    "duration": 6,
    "start_time": "2022-09-26T18:10:33.976Z"
   },
   {
    "duration": 108,
    "start_time": "2022-09-26T18:39:37.590Z"
   },
   {
    "duration": 35,
    "start_time": "2022-09-26T18:39:41.021Z"
   },
   {
    "duration": 31,
    "start_time": "2022-09-26T18:40:05.782Z"
   },
   {
    "duration": 8,
    "start_time": "2022-09-26T18:40:38.894Z"
   },
   {
    "duration": 7,
    "start_time": "2022-09-26T18:43:03.768Z"
   },
   {
    "duration": 7,
    "start_time": "2022-09-26T18:43:06.967Z"
   },
   {
    "duration": 10,
    "start_time": "2022-09-26T18:45:02.436Z"
   },
   {
    "duration": 9,
    "start_time": "2022-09-26T18:45:12.598Z"
   },
   {
    "duration": 11,
    "start_time": "2022-09-26T18:45:16.559Z"
   },
   {
    "duration": 9,
    "start_time": "2022-09-26T18:45:24.316Z"
   },
   {
    "duration": 31,
    "start_time": "2022-09-26T18:47:42.804Z"
   },
   {
    "duration": 9,
    "start_time": "2022-09-26T18:51:00.804Z"
   },
   {
    "duration": 7,
    "start_time": "2022-09-26T18:52:15.252Z"
   },
   {
    "duration": 6,
    "start_time": "2022-09-26T18:52:21.938Z"
   },
   {
    "duration": 4,
    "start_time": "2022-09-26T18:53:06.212Z"
   },
   {
    "duration": 5,
    "start_time": "2022-09-26T18:53:36.924Z"
   },
   {
    "duration": 3,
    "start_time": "2022-09-26T18:53:55.052Z"
   },
   {
    "duration": 7,
    "start_time": "2022-09-26T18:57:02.307Z"
   },
   {
    "duration": 7,
    "start_time": "2022-09-26T18:57:12.746Z"
   },
   {
    "duration": 7,
    "start_time": "2022-09-26T18:57:31.418Z"
   },
   {
    "duration": 8,
    "start_time": "2022-09-26T18:57:51.365Z"
   },
   {
    "duration": 5,
    "start_time": "2022-09-26T18:59:04.715Z"
   },
   {
    "duration": 86,
    "start_time": "2022-09-26T19:02:03.186Z"
   },
   {
    "duration": 5,
    "start_time": "2022-09-26T19:05:42.420Z"
   },
   {
    "duration": 7,
    "start_time": "2022-09-26T19:05:56.618Z"
   },
   {
    "duration": 5,
    "start_time": "2022-09-26T19:07:50.659Z"
   },
   {
    "duration": 29,
    "start_time": "2022-09-26T19:07:55.889Z"
   },
   {
    "duration": 9,
    "start_time": "2022-09-26T19:09:55.722Z"
   },
   {
    "duration": 13,
    "start_time": "2022-09-26T19:10:22.498Z"
   },
   {
    "duration": 11,
    "start_time": "2022-09-26T19:10:31.995Z"
   },
   {
    "duration": 9,
    "start_time": "2022-09-26T19:10:40.249Z"
   },
   {
    "duration": 50,
    "start_time": "2022-09-26T19:11:26.337Z"
   },
   {
    "duration": 13,
    "start_time": "2022-09-26T19:11:31.545Z"
   },
   {
    "duration": 1154,
    "start_time": "2022-09-26T19:15:04.354Z"
   },
   {
    "duration": 9,
    "start_time": "2022-09-26T19:15:16.619Z"
   },
   {
    "duration": 766,
    "start_time": "2022-09-26T19:15:22.264Z"
   },
   {
    "duration": 18,
    "start_time": "2022-09-26T19:15:50.297Z"
   },
   {
    "duration": 22,
    "start_time": "2022-09-26T19:15:56.496Z"
   },
   {
    "duration": 25,
    "start_time": "2022-09-26T19:16:01.177Z"
   },
   {
    "duration": 29,
    "start_time": "2022-09-26T19:16:32.953Z"
   },
   {
    "duration": 33,
    "start_time": "2022-09-26T19:16:44.586Z"
   },
   {
    "duration": 37,
    "start_time": "2022-09-26T19:16:48.112Z"
   },
   {
    "duration": 42,
    "start_time": "2022-09-26T19:18:30.425Z"
   },
   {
    "duration": 33,
    "start_time": "2022-09-26T19:18:36.593Z"
   },
   {
    "duration": 41,
    "start_time": "2022-09-26T19:18:50.841Z"
   },
   {
    "duration": 40,
    "start_time": "2022-09-26T19:18:55.769Z"
   },
   {
    "duration": 673,
    "start_time": "2022-09-26T19:19:05.562Z"
   },
   {
    "duration": 12,
    "start_time": "2022-09-26T19:19:06.237Z"
   },
   {
    "duration": 85,
    "start_time": "2022-09-26T19:19:06.250Z"
   },
   {
    "duration": 1876,
    "start_time": "2022-09-26T19:19:06.337Z"
   },
   {
    "duration": 70,
    "start_time": "2022-09-26T19:19:08.215Z"
   },
   {
    "duration": 8,
    "start_time": "2022-09-26T19:19:08.287Z"
   },
   {
    "duration": 5,
    "start_time": "2022-09-26T19:19:08.308Z"
   },
   {
    "duration": 6,
    "start_time": "2022-09-26T19:19:08.315Z"
   },
   {
    "duration": 10,
    "start_time": "2022-09-26T19:19:08.322Z"
   },
   {
    "duration": 5,
    "start_time": "2022-09-26T19:19:08.333Z"
   },
   {
    "duration": 6,
    "start_time": "2022-09-26T19:19:08.340Z"
   },
   {
    "duration": 6,
    "start_time": "2022-09-26T19:19:08.348Z"
   },
   {
    "duration": 63,
    "start_time": "2022-09-26T19:19:08.355Z"
   },
   {
    "duration": 7,
    "start_time": "2022-09-26T19:19:08.421Z"
   },
   {
    "duration": 34,
    "start_time": "2022-09-26T19:19:08.429Z"
   },
   {
    "duration": 4,
    "start_time": "2022-09-26T19:19:08.464Z"
   },
   {
    "duration": 9,
    "start_time": "2022-09-26T19:19:08.469Z"
   },
   {
    "duration": 63,
    "start_time": "2022-09-26T19:19:08.479Z"
   },
   {
    "duration": 8,
    "start_time": "2022-09-26T19:19:15.104Z"
   },
   {
    "duration": 54,
    "start_time": "2022-09-26T19:19:22.576Z"
   },
   {
    "duration": 99,
    "start_time": "2022-09-26T19:19:41.017Z"
   },
   {
    "duration": 51,
    "start_time": "2022-09-26T19:20:08.761Z"
   },
   {
    "duration": 34,
    "start_time": "2022-09-26T19:21:43.303Z"
   },
   {
    "duration": 45,
    "start_time": "2022-09-26T19:24:13.068Z"
   },
   {
    "duration": 46,
    "start_time": "2022-09-26T19:24:25.104Z"
   },
   {
    "duration": 45,
    "start_time": "2022-09-26T19:24:42.992Z"
   },
   {
    "duration": 46,
    "start_time": "2022-09-26T19:24:46.296Z"
   },
   {
    "duration": 46,
    "start_time": "2022-09-26T19:24:53.168Z"
   },
   {
    "duration": 43,
    "start_time": "2022-09-26T19:25:10.473Z"
   },
   {
    "duration": 706,
    "start_time": "2022-09-26T19:29:36.535Z"
   },
   {
    "duration": 14,
    "start_time": "2022-09-26T19:29:37.243Z"
   },
   {
    "duration": 92,
    "start_time": "2022-09-26T19:29:37.259Z"
   },
   {
    "duration": 1788,
    "start_time": "2022-09-26T19:29:37.353Z"
   },
   {
    "duration": 71,
    "start_time": "2022-09-26T19:29:39.143Z"
   },
   {
    "duration": 7,
    "start_time": "2022-09-26T19:29:39.215Z"
   },
   {
    "duration": 7,
    "start_time": "2022-09-26T19:29:39.223Z"
   },
   {
    "duration": 6,
    "start_time": "2022-09-26T19:29:39.232Z"
   },
   {
    "duration": 9,
    "start_time": "2022-09-26T19:29:39.240Z"
   },
   {
    "duration": 5,
    "start_time": "2022-09-26T19:29:39.251Z"
   },
   {
    "duration": 5,
    "start_time": "2022-09-26T19:29:39.258Z"
   },
   {
    "duration": 9,
    "start_time": "2022-09-26T19:29:39.264Z"
   },
   {
    "duration": 70,
    "start_time": "2022-09-26T19:29:39.275Z"
   },
   {
    "duration": 9,
    "start_time": "2022-09-26T19:29:39.348Z"
   },
   {
    "duration": 35,
    "start_time": "2022-09-26T19:29:39.358Z"
   },
   {
    "duration": 5,
    "start_time": "2022-09-26T19:29:39.408Z"
   },
   {
    "duration": 19,
    "start_time": "2022-09-26T19:29:39.415Z"
   },
   {
    "duration": 19,
    "start_time": "2022-09-26T19:29:39.435Z"
   },
   {
    "duration": 721,
    "start_time": "2022-09-26T19:38:38.948Z"
   },
   {
    "duration": 14,
    "start_time": "2022-09-26T19:38:39.671Z"
   },
   {
    "duration": 93,
    "start_time": "2022-09-26T19:38:39.686Z"
   },
   {
    "duration": 1892,
    "start_time": "2022-09-26T19:38:39.781Z"
   },
   {
    "duration": 72,
    "start_time": "2022-09-26T19:38:41.674Z"
   },
   {
    "duration": 8,
    "start_time": "2022-09-26T19:38:41.748Z"
   },
   {
    "duration": 10,
    "start_time": "2022-09-26T19:38:41.758Z"
   },
   {
    "duration": 8,
    "start_time": "2022-09-26T19:38:41.769Z"
   },
   {
    "duration": 31,
    "start_time": "2022-09-26T19:38:41.779Z"
   },
   {
    "duration": 7,
    "start_time": "2022-09-26T19:38:41.812Z"
   },
   {
    "duration": 6,
    "start_time": "2022-09-26T19:38:41.821Z"
   },
   {
    "duration": 6,
    "start_time": "2022-09-26T19:38:41.829Z"
   },
   {
    "duration": 41,
    "start_time": "2022-09-26T19:38:41.836Z"
   },
   {
    "duration": 7,
    "start_time": "2022-09-26T19:38:41.879Z"
   },
   {
    "duration": 33,
    "start_time": "2022-09-26T19:38:41.909Z"
   },
   {
    "duration": 3,
    "start_time": "2022-09-26T19:38:41.944Z"
   },
   {
    "duration": 25,
    "start_time": "2022-09-26T19:38:41.948Z"
   },
   {
    "duration": 28,
    "start_time": "2022-09-26T19:38:41.975Z"
   },
   {
    "duration": 9,
    "start_time": "2022-09-26T19:39:49.009Z"
   },
   {
    "duration": 7,
    "start_time": "2022-09-26T19:40:30.497Z"
   },
   {
    "duration": 5,
    "start_time": "2022-09-26T19:41:04.914Z"
   },
   {
    "duration": 22,
    "start_time": "2022-09-26T20:02:52.463Z"
   },
   {
    "duration": 24,
    "start_time": "2022-09-26T20:03:03.463Z"
   },
   {
    "duration": 39,
    "start_time": "2022-09-26T20:05:39.559Z"
   },
   {
    "duration": 42,
    "start_time": "2022-09-26T20:05:46.406Z"
   },
   {
    "duration": 44,
    "start_time": "2022-09-26T20:05:55.390Z"
   },
   {
    "duration": 41,
    "start_time": "2022-09-26T20:05:57.942Z"
   },
   {
    "duration": 41,
    "start_time": "2022-09-26T20:06:06.127Z"
   },
   {
    "duration": 47,
    "start_time": "2022-09-26T20:06:16.055Z"
   },
   {
    "duration": 40,
    "start_time": "2022-09-26T20:06:19.935Z"
   },
   {
    "duration": 46,
    "start_time": "2022-09-26T20:06:22.607Z"
   },
   {
    "duration": 36,
    "start_time": "2022-09-26T20:06:24.631Z"
   },
   {
    "duration": 44,
    "start_time": "2022-09-26T20:06:45.054Z"
   },
   {
    "duration": 656,
    "start_time": "2022-09-26T20:06:59.366Z"
   },
   {
    "duration": 14,
    "start_time": "2022-09-26T20:07:00.023Z"
   },
   {
    "duration": 99,
    "start_time": "2022-09-26T20:07:00.039Z"
   },
   {
    "duration": 1809,
    "start_time": "2022-09-26T20:07:00.140Z"
   },
   {
    "duration": 70,
    "start_time": "2022-09-26T20:07:01.951Z"
   },
   {
    "duration": 8,
    "start_time": "2022-09-26T20:07:02.022Z"
   },
   {
    "duration": 8,
    "start_time": "2022-09-26T20:07:02.031Z"
   },
   {
    "duration": 23,
    "start_time": "2022-09-26T20:07:02.041Z"
   },
   {
    "duration": 20,
    "start_time": "2022-09-26T20:07:02.066Z"
   },
   {
    "duration": 24,
    "start_time": "2022-09-26T20:07:02.088Z"
   },
   {
    "duration": 10,
    "start_time": "2022-09-26T20:07:02.113Z"
   },
   {
    "duration": 12,
    "start_time": "2022-09-26T20:07:02.124Z"
   },
   {
    "duration": 46,
    "start_time": "2022-09-26T20:07:02.137Z"
   },
   {
    "duration": 7,
    "start_time": "2022-09-26T20:07:02.184Z"
   },
   {
    "duration": 37,
    "start_time": "2022-09-26T20:07:02.192Z"
   },
   {
    "duration": 3,
    "start_time": "2022-09-26T20:07:02.231Z"
   },
   {
    "duration": 22,
    "start_time": "2022-09-26T20:07:02.235Z"
   },
   {
    "duration": 58,
    "start_time": "2022-09-26T20:07:02.258Z"
   },
   {
    "duration": 6,
    "start_time": "2022-09-26T20:07:02.318Z"
   },
   {
    "duration": 46,
    "start_time": "2022-09-26T20:07:11.598Z"
   },
   {
    "duration": 62,
    "start_time": "2022-09-26T20:07:15.885Z"
   },
   {
    "duration": 40,
    "start_time": "2022-09-26T20:07:19.430Z"
   },
   {
    "duration": 43,
    "start_time": "2022-09-26T20:07:38.689Z"
   },
   {
    "duration": 41,
    "start_time": "2022-09-26T20:07:51.894Z"
   },
   {
    "duration": 41,
    "start_time": "2022-09-26T20:08:09.574Z"
   },
   {
    "duration": 44,
    "start_time": "2022-09-26T20:08:36.782Z"
   },
   {
    "duration": 43,
    "start_time": "2022-09-26T20:09:07.918Z"
   },
   {
    "duration": 44,
    "start_time": "2022-09-26T20:09:19.350Z"
   },
   {
    "duration": 44,
    "start_time": "2022-09-26T20:10:04.462Z"
   },
   {
    "duration": 46,
    "start_time": "2022-09-26T20:10:39.198Z"
   },
   {
    "duration": 690,
    "start_time": "2022-09-26T20:14:56.012Z"
   },
   {
    "duration": 13,
    "start_time": "2022-09-26T20:14:56.704Z"
   },
   {
    "duration": 104,
    "start_time": "2022-09-26T20:14:56.718Z"
   },
   {
    "duration": 1785,
    "start_time": "2022-09-26T20:14:56.824Z"
   },
   {
    "duration": 71,
    "start_time": "2022-09-26T20:14:58.611Z"
   },
   {
    "duration": 8,
    "start_time": "2022-09-26T20:14:58.683Z"
   },
   {
    "duration": 8,
    "start_time": "2022-09-26T20:14:58.716Z"
   },
   {
    "duration": 7,
    "start_time": "2022-09-26T20:14:58.726Z"
   },
   {
    "duration": 11,
    "start_time": "2022-09-26T20:14:58.735Z"
   },
   {
    "duration": 6,
    "start_time": "2022-09-26T20:14:58.748Z"
   },
   {
    "duration": 5,
    "start_time": "2022-09-26T20:14:58.755Z"
   },
   {
    "duration": 22,
    "start_time": "2022-09-26T20:14:58.761Z"
   },
   {
    "duration": 49,
    "start_time": "2022-09-26T20:14:58.784Z"
   },
   {
    "duration": 8,
    "start_time": "2022-09-26T20:14:58.835Z"
   },
   {
    "duration": 35,
    "start_time": "2022-09-26T20:14:58.844Z"
   },
   {
    "duration": 3,
    "start_time": "2022-09-26T20:14:58.881Z"
   },
   {
    "duration": 24,
    "start_time": "2022-09-26T20:14:58.885Z"
   },
   {
    "duration": 46,
    "start_time": "2022-09-26T20:14:58.911Z"
   },
   {
    "duration": 6,
    "start_time": "2022-09-26T20:14:58.959Z"
   },
   {
    "duration": 645,
    "start_time": "2022-09-26T20:15:14.162Z"
   },
   {
    "duration": 14,
    "start_time": "2022-09-26T20:15:14.809Z"
   },
   {
    "duration": 102,
    "start_time": "2022-09-26T20:15:14.825Z"
   },
   {
    "duration": 1864,
    "start_time": "2022-09-26T20:15:14.929Z"
   },
   {
    "duration": 79,
    "start_time": "2022-09-26T20:15:16.794Z"
   },
   {
    "duration": 9,
    "start_time": "2022-09-26T20:15:16.875Z"
   },
   {
    "duration": 5,
    "start_time": "2022-09-26T20:15:16.886Z"
   },
   {
    "duration": 19,
    "start_time": "2022-09-26T20:15:16.893Z"
   },
   {
    "duration": 10,
    "start_time": "2022-09-26T20:15:16.913Z"
   },
   {
    "duration": 6,
    "start_time": "2022-09-26T20:15:16.925Z"
   },
   {
    "duration": 6,
    "start_time": "2022-09-26T20:15:16.932Z"
   },
   {
    "duration": 10,
    "start_time": "2022-09-26T20:15:16.940Z"
   },
   {
    "duration": 58,
    "start_time": "2022-09-26T20:15:16.951Z"
   },
   {
    "duration": 7,
    "start_time": "2022-09-26T20:15:17.011Z"
   },
   {
    "duration": 42,
    "start_time": "2022-09-26T20:15:17.020Z"
   },
   {
    "duration": 4,
    "start_time": "2022-09-26T20:15:17.064Z"
   },
   {
    "duration": 15,
    "start_time": "2022-09-26T20:15:17.070Z"
   },
   {
    "duration": 59,
    "start_time": "2022-09-26T20:15:17.087Z"
   },
   {
    "duration": 7,
    "start_time": "2022-09-26T20:15:17.148Z"
   },
   {
    "duration": 55,
    "start_time": "2022-09-26T20:29:05.635Z"
   },
   {
    "duration": 133,
    "start_time": "2022-09-26T20:29:10.341Z"
   },
   {
    "duration": 122,
    "start_time": "2022-09-26T20:29:35.337Z"
   },
   {
    "duration": 10,
    "start_time": "2022-09-26T20:31:05.883Z"
   },
   {
    "duration": 83,
    "start_time": "2022-09-26T20:44:22.290Z"
   },
   {
    "duration": 6,
    "start_time": "2022-09-26T20:44:36.251Z"
   },
   {
    "duration": 764,
    "start_time": "2022-09-26T20:45:39.818Z"
   },
   {
    "duration": 2449,
    "start_time": "2022-09-26T20:45:59.363Z"
   },
   {
    "duration": 2553,
    "start_time": "2022-09-26T20:46:22.115Z"
   },
   {
    "duration": 2474,
    "start_time": "2022-09-26T20:47:11.721Z"
   },
   {
    "duration": 124,
    "start_time": "2022-09-26T20:54:00.681Z"
   },
   {
    "duration": 126,
    "start_time": "2022-09-26T20:54:11.265Z"
   },
   {
    "duration": 2215,
    "start_time": "2022-09-26T20:55:42.986Z"
   },
   {
    "duration": 2201,
    "start_time": "2022-09-26T20:56:19.048Z"
   },
   {
    "duration": 2469,
    "start_time": "2022-09-26T20:56:31.993Z"
   },
   {
    "duration": 2411,
    "start_time": "2022-09-26T20:57:07.841Z"
   },
   {
    "duration": 2165,
    "start_time": "2022-09-26T20:57:14.673Z"
   },
   {
    "duration": 2167,
    "start_time": "2022-09-26T20:57:49.480Z"
   },
   {
    "duration": 2267,
    "start_time": "2022-09-26T20:58:12.329Z"
   },
   {
    "duration": 2167,
    "start_time": "2022-09-26T20:58:16.984Z"
   },
   {
    "duration": 2181,
    "start_time": "2022-09-26T20:58:28.121Z"
   },
   {
    "duration": 26,
    "start_time": "2022-09-26T20:59:10.785Z"
   },
   {
    "duration": 8,
    "start_time": "2022-09-26T20:59:45.296Z"
   },
   {
    "duration": 717,
    "start_time": "2022-09-26T20:59:57.224Z"
   },
   {
    "duration": 18,
    "start_time": "2022-09-26T20:59:57.944Z"
   },
   {
    "duration": 104,
    "start_time": "2022-09-26T20:59:57.965Z"
   },
   {
    "duration": 1886,
    "start_time": "2022-09-26T20:59:58.071Z"
   },
   {
    "duration": 70,
    "start_time": "2022-09-26T20:59:59.959Z"
   },
   {
    "duration": 8,
    "start_time": "2022-09-26T21:00:00.031Z"
   },
   {
    "duration": 12,
    "start_time": "2022-09-26T21:00:00.041Z"
   },
   {
    "duration": 12,
    "start_time": "2022-09-26T21:00:00.055Z"
   },
   {
    "duration": 18,
    "start_time": "2022-09-26T21:00:00.070Z"
   },
   {
    "duration": 23,
    "start_time": "2022-09-26T21:00:00.091Z"
   },
   {
    "duration": 11,
    "start_time": "2022-09-26T21:00:00.116Z"
   },
   {
    "duration": 14,
    "start_time": "2022-09-26T21:00:00.129Z"
   },
   {
    "duration": 58,
    "start_time": "2022-09-26T21:00:00.145Z"
   },
   {
    "duration": 8,
    "start_time": "2022-09-26T21:00:00.209Z"
   },
   {
    "duration": 48,
    "start_time": "2022-09-26T21:00:00.219Z"
   },
   {
    "duration": 4,
    "start_time": "2022-09-26T21:00:00.269Z"
   },
   {
    "duration": 40,
    "start_time": "2022-09-26T21:00:00.274Z"
   },
   {
    "duration": 141,
    "start_time": "2022-09-26T21:00:00.316Z"
   },
   {
    "duration": 113,
    "start_time": "2022-09-26T21:00:00.459Z"
   },
   {
    "duration": 7,
    "start_time": "2022-09-26T21:00:20.773Z"
   },
   {
    "duration": 7,
    "start_time": "2022-09-26T21:01:50.372Z"
   },
   {
    "duration": 8,
    "start_time": "2022-09-26T21:01:52.684Z"
   },
   {
    "duration": 25,
    "start_time": "2022-09-26T21:02:09.765Z"
   },
   {
    "duration": 2366,
    "start_time": "2022-09-26T21:02:26.196Z"
   },
   {
    "duration": 2382,
    "start_time": "2022-09-26T21:02:37.276Z"
   },
   {
    "duration": 2664,
    "start_time": "2022-09-26T21:02:54.220Z"
   },
   {
    "duration": 2453,
    "start_time": "2022-09-26T21:03:00.804Z"
   },
   {
    "duration": 2381,
    "start_time": "2022-09-26T21:03:35.180Z"
   },
   {
    "duration": 2386,
    "start_time": "2022-09-26T21:04:29.053Z"
   },
   {
    "duration": 2410,
    "start_time": "2022-09-26T21:04:45.004Z"
   },
   {
    "duration": 710,
    "start_time": "2022-09-26T21:05:49.888Z"
   },
   {
    "duration": 14,
    "start_time": "2022-09-26T21:05:50.600Z"
   },
   {
    "duration": 81,
    "start_time": "2022-09-26T21:05:50.618Z"
   },
   {
    "duration": 1788,
    "start_time": "2022-09-26T21:05:50.701Z"
   },
   {
    "duration": 79,
    "start_time": "2022-09-26T21:05:52.490Z"
   },
   {
    "duration": 9,
    "start_time": "2022-09-26T21:05:52.571Z"
   },
   {
    "duration": 17,
    "start_time": "2022-09-26T21:05:52.581Z"
   },
   {
    "duration": 19,
    "start_time": "2022-09-26T21:05:52.600Z"
   },
   {
    "duration": 14,
    "start_time": "2022-09-26T21:05:52.623Z"
   },
   {
    "duration": 18,
    "start_time": "2022-09-26T21:05:52.639Z"
   },
   {
    "duration": 12,
    "start_time": "2022-09-26T21:05:52.658Z"
   },
   {
    "duration": 8,
    "start_time": "2022-09-26T21:05:52.671Z"
   },
   {
    "duration": 36,
    "start_time": "2022-09-26T21:05:52.680Z"
   },
   {
    "duration": 6,
    "start_time": "2022-09-26T21:05:52.718Z"
   },
   {
    "duration": 35,
    "start_time": "2022-09-26T21:05:52.726Z"
   },
   {
    "duration": 3,
    "start_time": "2022-09-26T21:05:52.762Z"
   },
   {
    "duration": 10,
    "start_time": "2022-09-26T21:05:52.767Z"
   },
   {
    "duration": 153,
    "start_time": "2022-09-26T21:05:52.778Z"
   },
   {
    "duration": 106,
    "start_time": "2022-09-26T21:05:52.932Z"
   },
   {
    "duration": 25,
    "start_time": "2022-09-26T21:06:44.172Z"
   },
   {
    "duration": 24,
    "start_time": "2022-09-26T21:06:48.020Z"
   },
   {
    "duration": 2373,
    "start_time": "2022-09-26T21:07:07.748Z"
   },
   {
    "duration": 2388,
    "start_time": "2022-09-26T21:09:47.707Z"
   },
   {
    "duration": 7135,
    "start_time": "2022-09-26T21:16:48.522Z"
   },
   {
    "duration": 1651,
    "start_time": "2022-09-26T21:39:53.784Z"
   },
   {
    "duration": 405,
    "start_time": "2022-09-26T21:40:24.711Z"
   },
   {
    "duration": 697,
    "start_time": "2022-09-26T21:40:46.001Z"
   },
   {
    "duration": 12,
    "start_time": "2022-09-26T21:40:46.700Z"
   },
   {
    "duration": 81,
    "start_time": "2022-09-26T21:40:46.715Z"
   },
   {
    "duration": 1776,
    "start_time": "2022-09-26T21:40:46.797Z"
   },
   {
    "duration": 68,
    "start_time": "2022-09-26T21:40:48.574Z"
   },
   {
    "duration": 7,
    "start_time": "2022-09-26T21:40:48.644Z"
   },
   {
    "duration": 6,
    "start_time": "2022-09-26T21:40:48.652Z"
   },
   {
    "duration": 6,
    "start_time": "2022-09-26T21:40:48.659Z"
   },
   {
    "duration": 9,
    "start_time": "2022-09-26T21:40:48.667Z"
   },
   {
    "duration": 32,
    "start_time": "2022-09-26T21:40:48.677Z"
   },
   {
    "duration": 6,
    "start_time": "2022-09-26T21:40:48.710Z"
   },
   {
    "duration": 4,
    "start_time": "2022-09-26T21:40:48.717Z"
   },
   {
    "duration": 32,
    "start_time": "2022-09-26T21:40:48.722Z"
   },
   {
    "duration": 6,
    "start_time": "2022-09-26T21:40:48.755Z"
   },
   {
    "duration": 53,
    "start_time": "2022-09-26T21:40:48.763Z"
   },
   {
    "duration": 4,
    "start_time": "2022-09-26T21:40:48.817Z"
   },
   {
    "duration": 9,
    "start_time": "2022-09-26T21:40:48.823Z"
   },
   {
    "duration": 149,
    "start_time": "2022-09-26T21:40:48.834Z"
   },
   {
    "duration": 13672,
    "start_time": "2022-09-26T21:40:48.984Z"
   },
   {
    "duration": 366,
    "start_time": "2022-09-26T21:42:21.864Z"
   },
   {
    "duration": 660,
    "start_time": "2022-09-26T21:43:25.653Z"
   },
   {
    "duration": 13,
    "start_time": "2022-09-26T21:43:26.315Z"
   },
   {
    "duration": 85,
    "start_time": "2022-09-26T21:43:26.329Z"
   },
   {
    "duration": 1793,
    "start_time": "2022-09-26T21:43:26.416Z"
   },
   {
    "duration": 69,
    "start_time": "2022-09-26T21:43:28.210Z"
   },
   {
    "duration": 8,
    "start_time": "2022-09-26T21:43:28.280Z"
   },
   {
    "duration": 32,
    "start_time": "2022-09-26T21:43:28.289Z"
   },
   {
    "duration": 27,
    "start_time": "2022-09-26T21:43:28.322Z"
   },
   {
    "duration": 18,
    "start_time": "2022-09-26T21:43:28.351Z"
   },
   {
    "duration": 10,
    "start_time": "2022-09-26T21:43:28.372Z"
   },
   {
    "duration": 26,
    "start_time": "2022-09-26T21:43:28.383Z"
   },
   {
    "duration": 23,
    "start_time": "2022-09-26T21:43:28.411Z"
   },
   {
    "duration": 44,
    "start_time": "2022-09-26T21:43:28.435Z"
   },
   {
    "duration": 7,
    "start_time": "2022-09-26T21:43:28.481Z"
   },
   {
    "duration": 46,
    "start_time": "2022-09-26T21:43:28.489Z"
   },
   {
    "duration": 4,
    "start_time": "2022-09-26T21:43:28.537Z"
   },
   {
    "duration": 40,
    "start_time": "2022-09-26T21:43:28.542Z"
   },
   {
    "duration": 136,
    "start_time": "2022-09-26T21:43:28.584Z"
   },
   {
    "duration": 15113,
    "start_time": "2022-09-26T21:43:28.722Z"
   },
   {
    "duration": 8,
    "start_time": "2022-09-26T21:47:19.667Z"
   },
   {
    "duration": 8,
    "start_time": "2022-09-26T21:47:24.594Z"
   },
   {
    "duration": 114,
    "start_time": "2022-09-26T21:47:38.626Z"
   },
   {
    "duration": 718,
    "start_time": "2022-09-26T21:48:03.107Z"
   },
   {
    "duration": 15,
    "start_time": "2022-09-26T21:48:03.827Z"
   },
   {
    "duration": 92,
    "start_time": "2022-09-26T21:48:03.844Z"
   },
   {
    "duration": 1755,
    "start_time": "2022-09-26T21:48:03.938Z"
   },
   {
    "duration": 69,
    "start_time": "2022-09-26T21:48:05.694Z"
   },
   {
    "duration": 7,
    "start_time": "2022-09-26T21:48:05.764Z"
   },
   {
    "duration": 14,
    "start_time": "2022-09-26T21:48:05.772Z"
   },
   {
    "duration": 6,
    "start_time": "2022-09-26T21:48:05.788Z"
   },
   {
    "duration": 13,
    "start_time": "2022-09-26T21:48:05.796Z"
   },
   {
    "duration": 5,
    "start_time": "2022-09-26T21:48:05.811Z"
   },
   {
    "duration": 7,
    "start_time": "2022-09-26T21:48:05.817Z"
   },
   {
    "duration": 6,
    "start_time": "2022-09-26T21:48:05.825Z"
   },
   {
    "duration": 33,
    "start_time": "2022-09-26T21:48:05.833Z"
   },
   {
    "duration": 6,
    "start_time": "2022-09-26T21:48:05.867Z"
   },
   {
    "duration": 59,
    "start_time": "2022-09-26T21:48:05.875Z"
   },
   {
    "duration": 3,
    "start_time": "2022-09-26T21:48:05.936Z"
   },
   {
    "duration": 9,
    "start_time": "2022-09-26T21:48:05.941Z"
   },
   {
    "duration": 143,
    "start_time": "2022-09-26T21:48:05.951Z"
   },
   {
    "duration": 3,
    "start_time": "2022-09-26T21:48:06.095Z"
   },
   {
    "duration": 122,
    "start_time": "2022-09-26T21:48:16.083Z"
   },
   {
    "duration": 121,
    "start_time": "2022-09-26T21:48:18.195Z"
   },
   {
    "duration": 122,
    "start_time": "2022-09-26T21:48:25.883Z"
   },
   {
    "duration": 121,
    "start_time": "2022-09-26T21:48:38.882Z"
   },
   {
    "duration": 129,
    "start_time": "2022-09-26T21:49:11.050Z"
   },
   {
    "duration": 141,
    "start_time": "2022-09-26T21:49:13.762Z"
   },
   {
    "duration": 11,
    "start_time": "2022-09-26T21:50:04.137Z"
   },
   {
    "duration": 8,
    "start_time": "2022-09-26T21:57:43.969Z"
   },
   {
    "duration": 8,
    "start_time": "2022-09-26T21:57:50.041Z"
   },
   {
    "duration": 8,
    "start_time": "2022-09-26T21:57:55.017Z"
   },
   {
    "duration": 60,
    "start_time": "2022-09-26T22:03:04.265Z"
   },
   {
    "duration": 78,
    "start_time": "2022-09-26T22:09:09.360Z"
   },
   {
    "duration": 16,
    "start_time": "2022-09-26T22:09:13.815Z"
   },
   {
    "duration": 14,
    "start_time": "2022-09-26T22:10:00.647Z"
   },
   {
    "duration": 7,
    "start_time": "2022-09-26T22:10:05.624Z"
   },
   {
    "duration": 11,
    "start_time": "2022-09-26T22:10:41.696Z"
   },
   {
    "duration": 12,
    "start_time": "2022-09-26T22:12:19.791Z"
   },
   {
    "duration": 9,
    "start_time": "2022-09-26T22:12:21.527Z"
   },
   {
    "duration": 8,
    "start_time": "2022-09-26T22:12:29.175Z"
   },
   {
    "duration": 683,
    "start_time": "2022-09-26T22:13:40.821Z"
   },
   {
    "duration": 13,
    "start_time": "2022-09-26T22:13:41.506Z"
   },
   {
    "duration": 90,
    "start_time": "2022-09-26T22:13:41.521Z"
   },
   {
    "duration": 1876,
    "start_time": "2022-09-26T22:13:41.613Z"
   },
   {
    "duration": 69,
    "start_time": "2022-09-26T22:13:43.490Z"
   },
   {
    "duration": 7,
    "start_time": "2022-09-26T22:13:43.561Z"
   },
   {
    "duration": 9,
    "start_time": "2022-09-26T22:13:43.570Z"
   },
   {
    "duration": 8,
    "start_time": "2022-09-26T22:13:43.580Z"
   },
   {
    "duration": 20,
    "start_time": "2022-09-26T22:13:43.589Z"
   },
   {
    "duration": 6,
    "start_time": "2022-09-26T22:13:43.611Z"
   },
   {
    "duration": 19,
    "start_time": "2022-09-26T22:13:43.618Z"
   },
   {
    "duration": 5,
    "start_time": "2022-09-26T22:13:43.639Z"
   },
   {
    "duration": 37,
    "start_time": "2022-09-26T22:13:43.645Z"
   },
   {
    "duration": 7,
    "start_time": "2022-09-26T22:13:43.683Z"
   },
   {
    "duration": 45,
    "start_time": "2022-09-26T22:13:43.691Z"
   },
   {
    "duration": 3,
    "start_time": "2022-09-26T22:13:43.738Z"
   },
   {
    "duration": 8,
    "start_time": "2022-09-26T22:13:43.743Z"
   },
   {
    "duration": 181,
    "start_time": "2022-09-26T22:13:43.753Z"
   },
   {
    "duration": 2,
    "start_time": "2022-09-26T22:13:43.936Z"
   },
   {
    "duration": 85,
    "start_time": "2022-09-26T22:13:43.940Z"
   },
   {
    "duration": 0,
    "start_time": "2022-09-26T22:13:44.027Z"
   },
   {
    "duration": 9,
    "start_time": "2022-09-26T22:18:32.479Z"
   },
   {
    "duration": 8,
    "start_time": "2022-09-26T22:18:36.415Z"
   },
   {
    "duration": 8,
    "start_time": "2022-09-26T22:18:39.063Z"
   },
   {
    "duration": 667,
    "start_time": "2022-09-26T22:19:07.747Z"
   },
   {
    "duration": 12,
    "start_time": "2022-09-26T22:19:08.416Z"
   },
   {
    "duration": 90,
    "start_time": "2022-09-26T22:19:08.431Z"
   },
   {
    "duration": 1755,
    "start_time": "2022-09-26T22:19:08.522Z"
   },
   {
    "duration": 68,
    "start_time": "2022-09-26T22:19:10.278Z"
   },
   {
    "duration": 7,
    "start_time": "2022-09-26T22:19:10.348Z"
   },
   {
    "duration": 5,
    "start_time": "2022-09-26T22:19:10.356Z"
   },
   {
    "duration": 5,
    "start_time": "2022-09-26T22:19:10.363Z"
   },
   {
    "duration": 11,
    "start_time": "2022-09-26T22:19:10.370Z"
   },
   {
    "duration": 26,
    "start_time": "2022-09-26T22:19:10.383Z"
   },
   {
    "duration": 6,
    "start_time": "2022-09-26T22:19:10.410Z"
   },
   {
    "duration": 6,
    "start_time": "2022-09-26T22:19:10.417Z"
   },
   {
    "duration": 36,
    "start_time": "2022-09-26T22:19:10.424Z"
   },
   {
    "duration": 7,
    "start_time": "2022-09-26T22:19:10.461Z"
   },
   {
    "duration": 53,
    "start_time": "2022-09-26T22:19:10.469Z"
   },
   {
    "duration": 4,
    "start_time": "2022-09-26T22:19:10.523Z"
   },
   {
    "duration": 11,
    "start_time": "2022-09-26T22:19:10.528Z"
   },
   {
    "duration": 147,
    "start_time": "2022-09-26T22:19:10.541Z"
   },
   {
    "duration": 2,
    "start_time": "2022-09-26T22:19:10.689Z"
   },
   {
    "duration": 89,
    "start_time": "2022-09-26T22:19:10.693Z"
   },
   {
    "duration": 0,
    "start_time": "2022-09-26T22:19:10.783Z"
   },
   {
    "duration": 8,
    "start_time": "2022-09-26T22:19:21.122Z"
   },
   {
    "duration": 7,
    "start_time": "2022-09-26T22:21:29.780Z"
   },
   {
    "duration": 707,
    "start_time": "2022-09-26T22:21:35.181Z"
   },
   {
    "duration": 765,
    "start_time": "2022-09-26T22:21:44.004Z"
   },
   {
    "duration": 12,
    "start_time": "2022-09-26T22:21:47.075Z"
   },
   {
    "duration": 7,
    "start_time": "2022-09-26T22:21:56.123Z"
   },
   {
    "duration": 16,
    "start_time": "2022-09-26T23:02:19.014Z"
   },
   {
    "duration": 22,
    "start_time": "2022-09-26T23:03:43.686Z"
   },
   {
    "duration": 3031,
    "start_time": "2022-09-26T23:04:16.478Z"
   },
   {
    "duration": 3113,
    "start_time": "2022-09-26T23:04:44.781Z"
   },
   {
    "duration": 8,
    "start_time": "2022-09-26T23:05:31.397Z"
   },
   {
    "duration": 4550,
    "start_time": "2022-09-26T23:07:08.093Z"
   },
   {
    "duration": 6042,
    "start_time": "2022-09-26T23:08:13.806Z"
   },
   {
    "duration": 7,
    "start_time": "2022-09-26T23:09:26.668Z"
   },
   {
    "duration": 6120,
    "start_time": "2022-09-26T23:12:24.900Z"
   },
   {
    "duration": 53,
    "start_time": "2022-09-26T23:13:22.877Z"
   },
   {
    "duration": 6137,
    "start_time": "2022-09-26T23:13:27.084Z"
   },
   {
    "duration": 6108,
    "start_time": "2022-09-26T23:14:34.877Z"
   },
   {
    "duration": 6106,
    "start_time": "2022-09-26T23:15:13.669Z"
   },
   {
    "duration": 6260,
    "start_time": "2022-09-26T23:29:39.290Z"
   },
   {
    "duration": 6121,
    "start_time": "2022-09-26T23:32:28.346Z"
   },
   {
    "duration": 6165,
    "start_time": "2022-09-26T23:32:39.530Z"
   },
   {
    "duration": 6170,
    "start_time": "2022-09-26T23:33:39.922Z"
   },
   {
    "duration": 60,
    "start_time": "2022-09-26T23:34:38.233Z"
   },
   {
    "duration": 6085,
    "start_time": "2022-09-26T23:37:53.161Z"
   },
   {
    "duration": 53,
    "start_time": "2022-09-26T23:38:30.554Z"
   },
   {
    "duration": 8,
    "start_time": "2022-09-26T23:45:58.055Z"
   },
   {
    "duration": 8,
    "start_time": "2022-09-26T23:46:01.823Z"
   },
   {
    "duration": 6042,
    "start_time": "2022-09-26T23:46:26.080Z"
   },
   {
    "duration": 6079,
    "start_time": "2022-09-26T23:47:14.408Z"
   },
   {
    "duration": 6144,
    "start_time": "2022-09-26T23:49:10.623Z"
   },
   {
    "duration": 7,
    "start_time": "2022-09-26T23:50:25.496Z"
   },
   {
    "duration": 6096,
    "start_time": "2022-09-26T23:52:15.775Z"
   },
   {
    "duration": 8,
    "start_time": "2022-09-26T23:59:27.381Z"
   },
   {
    "duration": 7,
    "start_time": "2022-09-26T23:59:42.438Z"
   },
   {
    "duration": 692,
    "start_time": "2022-09-27T00:00:58.721Z"
   },
   {
    "duration": 12,
    "start_time": "2022-09-27T00:00:59.414Z"
   },
   {
    "duration": 88,
    "start_time": "2022-09-27T00:00:59.428Z"
   },
   {
    "duration": 1775,
    "start_time": "2022-09-27T00:00:59.518Z"
   },
   {
    "duration": 72,
    "start_time": "2022-09-27T00:01:01.294Z"
   },
   {
    "duration": 7,
    "start_time": "2022-09-27T00:01:01.368Z"
   },
   {
    "duration": 22,
    "start_time": "2022-09-27T00:01:01.376Z"
   },
   {
    "duration": 19,
    "start_time": "2022-09-27T00:01:01.400Z"
   },
   {
    "duration": 15,
    "start_time": "2022-09-27T00:01:01.421Z"
   },
   {
    "duration": 12,
    "start_time": "2022-09-27T00:01:01.439Z"
   },
   {
    "duration": 17,
    "start_time": "2022-09-27T00:01:01.452Z"
   },
   {
    "duration": 28,
    "start_time": "2022-09-27T00:01:01.471Z"
   },
   {
    "duration": 40,
    "start_time": "2022-09-27T00:01:01.501Z"
   },
   {
    "duration": 8,
    "start_time": "2022-09-27T00:01:01.542Z"
   },
   {
    "duration": 39,
    "start_time": "2022-09-27T00:01:01.551Z"
   },
   {
    "duration": 3,
    "start_time": "2022-09-27T00:01:01.592Z"
   },
   {
    "duration": 17,
    "start_time": "2022-09-27T00:01:01.596Z"
   },
   {
    "duration": 146,
    "start_time": "2022-09-27T00:01:01.615Z"
   },
   {
    "duration": 6821,
    "start_time": "2022-09-27T00:01:01.763Z"
   },
   {
    "duration": 11,
    "start_time": "2022-09-27T00:01:08.586Z"
   },
   {
    "duration": 769,
    "start_time": "2022-09-27T00:01:08.598Z"
   },
   {
    "duration": 7,
    "start_time": "2022-09-27T00:02:58.313Z"
   },
   {
    "duration": 8,
    "start_time": "2022-09-27T00:03:02.073Z"
   },
   {
    "duration": 6213,
    "start_time": "2022-09-27T00:04:34.682Z"
   },
   {
    "duration": 6256,
    "start_time": "2022-09-27T00:08:30.481Z"
   },
   {
    "duration": 6241,
    "start_time": "2022-09-27T00:08:56.800Z"
   },
   {
    "duration": 6251,
    "start_time": "2022-09-27T00:09:52.585Z"
   },
   {
    "duration": 6159,
    "start_time": "2022-09-27T00:10:26.713Z"
   },
   {
    "duration": 6199,
    "start_time": "2022-09-27T00:12:34.808Z"
   },
   {
    "duration": 6262,
    "start_time": "2022-09-27T00:12:57.376Z"
   },
   {
    "duration": 6245,
    "start_time": "2022-09-27T00:14:05.913Z"
   },
   {
    "duration": 6229,
    "start_time": "2022-09-27T00:14:19.424Z"
   },
   {
    "duration": 2084,
    "start_time": "2022-09-27T00:19:28.191Z"
   },
   {
    "duration": 702,
    "start_time": "2022-09-27T00:20:07.302Z"
   },
   {
    "duration": 13,
    "start_time": "2022-09-27T00:20:08.005Z"
   },
   {
    "duration": 112,
    "start_time": "2022-09-27T00:20:08.019Z"
   },
   {
    "duration": 1740,
    "start_time": "2022-09-27T00:20:08.133Z"
   },
   {
    "duration": 67,
    "start_time": "2022-09-27T00:20:09.874Z"
   },
   {
    "duration": 7,
    "start_time": "2022-09-27T00:20:09.942Z"
   },
   {
    "duration": 25,
    "start_time": "2022-09-27T00:20:09.951Z"
   },
   {
    "duration": 12,
    "start_time": "2022-09-27T00:20:09.978Z"
   },
   {
    "duration": 63,
    "start_time": "2022-09-27T00:20:09.991Z"
   },
   {
    "duration": 0,
    "start_time": "2022-09-27T00:20:10.056Z"
   },
   {
    "duration": 0,
    "start_time": "2022-09-27T00:20:10.058Z"
   },
   {
    "duration": 0,
    "start_time": "2022-09-27T00:20:10.059Z"
   },
   {
    "duration": 0,
    "start_time": "2022-09-27T00:20:10.060Z"
   },
   {
    "duration": 0,
    "start_time": "2022-09-27T00:20:10.061Z"
   },
   {
    "duration": 0,
    "start_time": "2022-09-27T00:20:10.061Z"
   },
   {
    "duration": 0,
    "start_time": "2022-09-27T00:20:10.062Z"
   },
   {
    "duration": 0,
    "start_time": "2022-09-27T00:20:10.063Z"
   },
   {
    "duration": 0,
    "start_time": "2022-09-27T00:20:10.064Z"
   },
   {
    "duration": 0,
    "start_time": "2022-09-27T00:20:10.064Z"
   },
   {
    "duration": 0,
    "start_time": "2022-09-27T00:20:10.065Z"
   },
   {
    "duration": 0,
    "start_time": "2022-09-27T00:20:10.066Z"
   },
   {
    "duration": 8,
    "start_time": "2022-09-27T00:20:30.727Z"
   },
   {
    "duration": 9,
    "start_time": "2022-09-27T00:21:15.119Z"
   },
   {
    "duration": 666,
    "start_time": "2022-09-27T00:21:45.245Z"
   },
   {
    "duration": 14,
    "start_time": "2022-09-27T00:21:45.913Z"
   },
   {
    "duration": 110,
    "start_time": "2022-09-27T00:21:45.928Z"
   },
   {
    "duration": 1760,
    "start_time": "2022-09-27T00:21:46.041Z"
   },
   {
    "duration": 72,
    "start_time": "2022-09-27T00:21:47.803Z"
   },
   {
    "duration": 8,
    "start_time": "2022-09-27T00:21:47.876Z"
   },
   {
    "duration": 7,
    "start_time": "2022-09-27T00:21:47.886Z"
   },
   {
    "duration": 20,
    "start_time": "2022-09-27T00:21:47.894Z"
   },
   {
    "duration": 13,
    "start_time": "2022-09-27T00:21:47.916Z"
   },
   {
    "duration": 6,
    "start_time": "2022-09-27T00:21:47.932Z"
   },
   {
    "duration": 7,
    "start_time": "2022-09-27T00:21:47.939Z"
   },
   {
    "duration": 5,
    "start_time": "2022-09-27T00:21:47.948Z"
   },
   {
    "duration": 67,
    "start_time": "2022-09-27T00:21:47.955Z"
   },
   {
    "duration": 7,
    "start_time": "2022-09-27T00:21:48.024Z"
   },
   {
    "duration": 34,
    "start_time": "2022-09-27T00:21:48.033Z"
   },
   {
    "duration": 4,
    "start_time": "2022-09-27T00:21:48.068Z"
   },
   {
    "duration": 17,
    "start_time": "2022-09-27T00:21:48.073Z"
   },
   {
    "duration": 161,
    "start_time": "2022-09-27T00:21:48.091Z"
   },
   {
    "duration": 6704,
    "start_time": "2022-09-27T00:21:48.254Z"
   },
   {
    "duration": 11,
    "start_time": "2022-09-27T00:21:54.960Z"
   },
   {
    "duration": 753,
    "start_time": "2022-09-27T00:21:54.972Z"
   },
   {
    "duration": 701,
    "start_time": "2022-09-27T00:22:53.627Z"
   },
   {
    "duration": 13,
    "start_time": "2022-09-27T00:22:54.330Z"
   },
   {
    "duration": 85,
    "start_time": "2022-09-27T00:22:54.345Z"
   },
   {
    "duration": 1781,
    "start_time": "2022-09-27T00:22:54.432Z"
   },
   {
    "duration": 67,
    "start_time": "2022-09-27T00:22:56.214Z"
   },
   {
    "duration": 7,
    "start_time": "2022-09-27T00:22:56.283Z"
   },
   {
    "duration": 18,
    "start_time": "2022-09-27T00:22:56.291Z"
   },
   {
    "duration": 6,
    "start_time": "2022-09-27T00:22:56.310Z"
   },
   {
    "duration": 10,
    "start_time": "2022-09-27T00:22:56.317Z"
   },
   {
    "duration": 5,
    "start_time": "2022-09-27T00:22:56.331Z"
   },
   {
    "duration": 13,
    "start_time": "2022-09-27T00:22:56.338Z"
   },
   {
    "duration": 18,
    "start_time": "2022-09-27T00:22:56.353Z"
   },
   {
    "duration": 48,
    "start_time": "2022-09-27T00:22:56.373Z"
   },
   {
    "duration": 7,
    "start_time": "2022-09-27T00:22:56.423Z"
   },
   {
    "duration": 32,
    "start_time": "2022-09-27T00:22:56.432Z"
   },
   {
    "duration": 4,
    "start_time": "2022-09-27T00:22:56.466Z"
   },
   {
    "duration": 8,
    "start_time": "2022-09-27T00:22:56.471Z"
   },
   {
    "duration": 167,
    "start_time": "2022-09-27T00:22:56.480Z"
   },
   {
    "duration": 6697,
    "start_time": "2022-09-27T00:22:56.649Z"
   },
   {
    "duration": 11,
    "start_time": "2022-09-27T00:23:03.348Z"
   },
   {
    "duration": 811,
    "start_time": "2022-09-27T00:23:03.363Z"
   },
   {
    "duration": 703,
    "start_time": "2022-09-27T00:27:17.098Z"
   },
   {
    "duration": 12,
    "start_time": "2022-09-27T00:27:17.803Z"
   },
   {
    "duration": 88,
    "start_time": "2022-09-27T00:27:17.816Z"
   },
   {
    "duration": 1773,
    "start_time": "2022-09-27T00:27:17.908Z"
   },
   {
    "duration": 70,
    "start_time": "2022-09-27T00:27:19.683Z"
   },
   {
    "duration": 6,
    "start_time": "2022-09-27T00:27:19.755Z"
   },
   {
    "duration": 8,
    "start_time": "2022-09-27T00:27:19.763Z"
   },
   {
    "duration": 7,
    "start_time": "2022-09-27T00:27:19.772Z"
   },
   {
    "duration": 14,
    "start_time": "2022-09-27T00:27:19.780Z"
   },
   {
    "duration": 16,
    "start_time": "2022-09-27T00:27:19.796Z"
   },
   {
    "duration": 6,
    "start_time": "2022-09-27T00:27:19.813Z"
   },
   {
    "duration": 9,
    "start_time": "2022-09-27T00:27:19.821Z"
   },
   {
    "duration": 36,
    "start_time": "2022-09-27T00:27:19.831Z"
   },
   {
    "duration": 7,
    "start_time": "2022-09-27T00:27:19.869Z"
   },
   {
    "duration": 51,
    "start_time": "2022-09-27T00:27:19.878Z"
   },
   {
    "duration": 3,
    "start_time": "2022-09-27T00:27:19.931Z"
   },
   {
    "duration": 10,
    "start_time": "2022-09-27T00:27:19.935Z"
   },
   {
    "duration": 152,
    "start_time": "2022-09-27T00:27:19.947Z"
   },
   {
    "duration": 6710,
    "start_time": "2022-09-27T00:27:20.101Z"
   },
   {
    "duration": 12,
    "start_time": "2022-09-27T00:27:26.812Z"
   },
   {
    "duration": 855,
    "start_time": "2022-09-27T00:27:26.825Z"
   },
   {
    "duration": 701,
    "start_time": "2022-09-27T00:28:39.375Z"
   },
   {
    "duration": 13,
    "start_time": "2022-09-27T00:28:40.078Z"
   },
   {
    "duration": 84,
    "start_time": "2022-09-27T00:28:40.093Z"
   },
   {
    "duration": 1778,
    "start_time": "2022-09-27T00:28:40.179Z"
   },
   {
    "duration": 68,
    "start_time": "2022-09-27T00:28:41.959Z"
   },
   {
    "duration": 7,
    "start_time": "2022-09-27T00:28:42.029Z"
   },
   {
    "duration": 7,
    "start_time": "2022-09-27T00:28:42.037Z"
   },
   {
    "duration": 6,
    "start_time": "2022-09-27T00:28:42.045Z"
   },
   {
    "duration": 11,
    "start_time": "2022-09-27T00:28:42.053Z"
   },
   {
    "duration": 5,
    "start_time": "2022-09-27T00:28:42.066Z"
   },
   {
    "duration": 7,
    "start_time": "2022-09-27T00:28:42.072Z"
   },
   {
    "duration": 5,
    "start_time": "2022-09-27T00:28:42.109Z"
   },
   {
    "duration": 43,
    "start_time": "2022-09-27T00:28:42.116Z"
   },
   {
    "duration": 6,
    "start_time": "2022-09-27T00:28:42.161Z"
   },
   {
    "duration": 42,
    "start_time": "2022-09-27T00:28:42.169Z"
   },
   {
    "duration": 4,
    "start_time": "2022-09-27T00:28:42.212Z"
   },
   {
    "duration": 9,
    "start_time": "2022-09-27T00:28:42.217Z"
   },
   {
    "duration": 148,
    "start_time": "2022-09-27T00:28:42.227Z"
   },
   {
    "duration": 6760,
    "start_time": "2022-09-27T00:28:42.377Z"
   },
   {
    "duration": 11,
    "start_time": "2022-09-27T00:28:49.138Z"
   },
   {
    "duration": 779,
    "start_time": "2022-09-27T00:28:49.151Z"
   },
   {
    "duration": 6173,
    "start_time": "2022-09-27T00:29:34.750Z"
   },
   {
    "duration": 677,
    "start_time": "2022-09-27T00:30:20.817Z"
   },
   {
    "duration": 14,
    "start_time": "2022-09-27T00:30:21.495Z"
   },
   {
    "duration": 94,
    "start_time": "2022-09-27T00:30:21.510Z"
   },
   {
    "duration": 1787,
    "start_time": "2022-09-27T00:30:21.606Z"
   },
   {
    "duration": 68,
    "start_time": "2022-09-27T00:30:23.395Z"
   },
   {
    "duration": 7,
    "start_time": "2022-09-27T00:30:23.465Z"
   },
   {
    "duration": 22,
    "start_time": "2022-09-27T00:30:23.474Z"
   },
   {
    "duration": 26,
    "start_time": "2022-09-27T00:30:23.497Z"
   },
   {
    "duration": 22,
    "start_time": "2022-09-27T00:30:23.525Z"
   },
   {
    "duration": 14,
    "start_time": "2022-09-27T00:30:23.549Z"
   },
   {
    "duration": 12,
    "start_time": "2022-09-27T00:30:23.565Z"
   },
   {
    "duration": 7,
    "start_time": "2022-09-27T00:30:23.578Z"
   },
   {
    "duration": 48,
    "start_time": "2022-09-27T00:30:23.587Z"
   },
   {
    "duration": 6,
    "start_time": "2022-09-27T00:30:23.638Z"
   },
   {
    "duration": 39,
    "start_time": "2022-09-27T00:30:23.645Z"
   },
   {
    "duration": 4,
    "start_time": "2022-09-27T00:30:23.685Z"
   },
   {
    "duration": 19,
    "start_time": "2022-09-27T00:30:23.690Z"
   },
   {
    "duration": 145,
    "start_time": "2022-09-27T00:30:23.711Z"
   },
   {
    "duration": 6702,
    "start_time": "2022-09-27T00:30:23.858Z"
   },
   {
    "duration": 11,
    "start_time": "2022-09-27T00:30:30.561Z"
   },
   {
    "duration": 915,
    "start_time": "2022-09-27T00:30:30.574Z"
   },
   {
    "duration": 667,
    "start_time": "2022-09-27T00:32:16.550Z"
   },
   {
    "duration": 14,
    "start_time": "2022-09-27T00:32:17.219Z"
   },
   {
    "duration": 96,
    "start_time": "2022-09-27T00:32:17.235Z"
   },
   {
    "duration": 1760,
    "start_time": "2022-09-27T00:32:17.333Z"
   },
   {
    "duration": 69,
    "start_time": "2022-09-27T00:32:19.095Z"
   },
   {
    "duration": 7,
    "start_time": "2022-09-27T00:32:19.166Z"
   },
   {
    "duration": 23,
    "start_time": "2022-09-27T00:32:19.175Z"
   },
   {
    "duration": 25,
    "start_time": "2022-09-27T00:32:19.199Z"
   },
   {
    "duration": 16,
    "start_time": "2022-09-27T00:32:19.225Z"
   },
   {
    "duration": 6,
    "start_time": "2022-09-27T00:32:19.243Z"
   },
   {
    "duration": 5,
    "start_time": "2022-09-27T00:32:19.251Z"
   },
   {
    "duration": 6,
    "start_time": "2022-09-27T00:32:19.258Z"
   },
   {
    "duration": 33,
    "start_time": "2022-09-27T00:32:19.266Z"
   },
   {
    "duration": 7,
    "start_time": "2022-09-27T00:32:19.309Z"
   },
   {
    "duration": 35,
    "start_time": "2022-09-27T00:32:19.317Z"
   },
   {
    "duration": 6,
    "start_time": "2022-09-27T00:32:19.355Z"
   },
   {
    "duration": 10,
    "start_time": "2022-09-27T00:32:19.363Z"
   },
   {
    "duration": 163,
    "start_time": "2022-09-27T00:32:19.375Z"
   },
   {
    "duration": 6732,
    "start_time": "2022-09-27T00:32:19.539Z"
   },
   {
    "duration": 12,
    "start_time": "2022-09-27T00:32:26.272Z"
   },
   {
    "duration": 821,
    "start_time": "2022-09-27T00:32:26.286Z"
   },
   {
    "duration": 696,
    "start_time": "2022-09-27T00:33:48.706Z"
   },
   {
    "duration": 13,
    "start_time": "2022-09-27T00:33:49.403Z"
   },
   {
    "duration": 92,
    "start_time": "2022-09-27T00:33:49.417Z"
   },
   {
    "duration": 1774,
    "start_time": "2022-09-27T00:33:49.511Z"
   },
   {
    "duration": 70,
    "start_time": "2022-09-27T00:33:51.286Z"
   },
   {
    "duration": 8,
    "start_time": "2022-09-27T00:33:51.357Z"
   },
   {
    "duration": 5,
    "start_time": "2022-09-27T00:33:51.366Z"
   },
   {
    "duration": 7,
    "start_time": "2022-09-27T00:33:51.373Z"
   },
   {
    "duration": 29,
    "start_time": "2022-09-27T00:33:51.382Z"
   },
   {
    "duration": 6,
    "start_time": "2022-09-27T00:33:51.414Z"
   },
   {
    "duration": 6,
    "start_time": "2022-09-27T00:33:51.422Z"
   },
   {
    "duration": 6,
    "start_time": "2022-09-27T00:33:51.429Z"
   },
   {
    "duration": 41,
    "start_time": "2022-09-27T00:33:51.437Z"
   },
   {
    "duration": 32,
    "start_time": "2022-09-27T00:33:51.480Z"
   },
   {
    "duration": 33,
    "start_time": "2022-09-27T00:33:51.514Z"
   },
   {
    "duration": 4,
    "start_time": "2022-09-27T00:33:51.549Z"
   },
   {
    "duration": 8,
    "start_time": "2022-09-27T00:33:51.554Z"
   },
   {
    "duration": 175,
    "start_time": "2022-09-27T00:33:51.564Z"
   },
   {
    "duration": 6675,
    "start_time": "2022-09-27T00:33:51.742Z"
   },
   {
    "duration": 11,
    "start_time": "2022-09-27T00:33:58.419Z"
   },
   {
    "duration": 849,
    "start_time": "2022-09-27T00:33:58.432Z"
   },
   {
    "duration": 6149,
    "start_time": "2022-09-27T00:34:24.299Z"
   },
   {
    "duration": 739,
    "start_time": "2022-09-27T00:35:32.190Z"
   },
   {
    "duration": 13,
    "start_time": "2022-09-27T00:35:32.931Z"
   },
   {
    "duration": 84,
    "start_time": "2022-09-27T00:35:32.945Z"
   },
   {
    "duration": 1794,
    "start_time": "2022-09-27T00:35:33.031Z"
   },
   {
    "duration": 74,
    "start_time": "2022-09-27T00:35:34.827Z"
   },
   {
    "duration": 8,
    "start_time": "2022-09-27T00:35:34.903Z"
   },
   {
    "duration": 9,
    "start_time": "2022-09-27T00:35:34.913Z"
   },
   {
    "duration": 7,
    "start_time": "2022-09-27T00:35:34.924Z"
   },
   {
    "duration": 14,
    "start_time": "2022-09-27T00:35:34.932Z"
   },
   {
    "duration": 6,
    "start_time": "2022-09-27T00:35:34.949Z"
   },
   {
    "duration": 6,
    "start_time": "2022-09-27T00:35:34.957Z"
   },
   {
    "duration": 5,
    "start_time": "2022-09-27T00:35:34.965Z"
   },
   {
    "duration": 62,
    "start_time": "2022-09-27T00:35:34.972Z"
   },
   {
    "duration": 7,
    "start_time": "2022-09-27T00:35:35.036Z"
   },
   {
    "duration": 33,
    "start_time": "2022-09-27T00:35:35.045Z"
   },
   {
    "duration": 4,
    "start_time": "2022-09-27T00:35:35.080Z"
   },
   {
    "duration": 31,
    "start_time": "2022-09-27T00:35:35.085Z"
   },
   {
    "duration": 154,
    "start_time": "2022-09-27T00:35:35.118Z"
   },
   {
    "duration": 6721,
    "start_time": "2022-09-27T00:35:35.274Z"
   },
   {
    "duration": 25,
    "start_time": "2022-09-27T00:35:41.996Z"
   },
   {
    "duration": 801,
    "start_time": "2022-09-27T00:35:42.023Z"
   },
   {
    "duration": 7,
    "start_time": "2022-09-27T00:36:05.725Z"
   },
   {
    "duration": 2022,
    "start_time": "2022-09-27T00:36:38.965Z"
   },
   {
    "duration": 666,
    "start_time": "2022-09-27T00:37:38.371Z"
   },
   {
    "duration": 13,
    "start_time": "2022-09-27T00:37:39.039Z"
   },
   {
    "duration": 89,
    "start_time": "2022-09-27T00:37:39.053Z"
   },
   {
    "duration": 1773,
    "start_time": "2022-09-27T00:37:39.144Z"
   },
   {
    "duration": 68,
    "start_time": "2022-09-27T00:37:40.919Z"
   },
   {
    "duration": 7,
    "start_time": "2022-09-27T00:37:40.989Z"
   },
   {
    "duration": 14,
    "start_time": "2022-09-27T00:37:40.997Z"
   },
   {
    "duration": 8,
    "start_time": "2022-09-27T00:37:41.012Z"
   },
   {
    "duration": 10,
    "start_time": "2022-09-27T00:37:41.022Z"
   },
   {
    "duration": 5,
    "start_time": "2022-09-27T00:37:41.034Z"
   },
   {
    "duration": 6,
    "start_time": "2022-09-27T00:37:41.041Z"
   },
   {
    "duration": 5,
    "start_time": "2022-09-27T00:37:41.048Z"
   },
   {
    "duration": 59,
    "start_time": "2022-09-27T00:37:41.054Z"
   },
   {
    "duration": 6,
    "start_time": "2022-09-27T00:37:41.115Z"
   },
   {
    "duration": 38,
    "start_time": "2022-09-27T00:37:41.122Z"
   },
   {
    "duration": 4,
    "start_time": "2022-09-27T00:37:41.162Z"
   },
   {
    "duration": 10,
    "start_time": "2022-09-27T00:37:41.168Z"
   },
   {
    "duration": 159,
    "start_time": "2022-09-27T00:37:41.180Z"
   },
   {
    "duration": 6664,
    "start_time": "2022-09-27T00:37:41.340Z"
   },
   {
    "duration": 11,
    "start_time": "2022-09-27T00:37:48.009Z"
   },
   {
    "duration": 842,
    "start_time": "2022-09-27T00:37:48.022Z"
   },
   {
    "duration": 2023,
    "start_time": "2022-09-27T00:37:54.597Z"
   },
   {
    "duration": 692,
    "start_time": "2022-09-27T00:38:35.710Z"
   },
   {
    "duration": 13,
    "start_time": "2022-09-27T00:38:36.404Z"
   },
   {
    "duration": 90,
    "start_time": "2022-09-27T00:38:36.419Z"
   },
   {
    "duration": 1751,
    "start_time": "2022-09-27T00:38:36.510Z"
   },
   {
    "duration": 68,
    "start_time": "2022-09-27T00:38:38.263Z"
   },
   {
    "duration": 7,
    "start_time": "2022-09-27T00:38:38.333Z"
   },
   {
    "duration": 7,
    "start_time": "2022-09-27T00:38:38.341Z"
   },
   {
    "duration": 11,
    "start_time": "2022-09-27T00:38:38.349Z"
   },
   {
    "duration": 10,
    "start_time": "2022-09-27T00:38:38.361Z"
   },
   {
    "duration": 6,
    "start_time": "2022-09-27T00:38:38.372Z"
   },
   {
    "duration": 6,
    "start_time": "2022-09-27T00:38:38.379Z"
   },
   {
    "duration": 5,
    "start_time": "2022-09-27T00:38:38.409Z"
   },
   {
    "duration": 38,
    "start_time": "2022-09-27T00:38:38.416Z"
   },
   {
    "duration": 7,
    "start_time": "2022-09-27T00:38:38.456Z"
   },
   {
    "duration": 50,
    "start_time": "2022-09-27T00:38:38.464Z"
   },
   {
    "duration": 3,
    "start_time": "2022-09-27T00:38:38.516Z"
   },
   {
    "duration": 8,
    "start_time": "2022-09-27T00:38:38.521Z"
   },
   {
    "duration": 152,
    "start_time": "2022-09-27T00:38:38.531Z"
   },
   {
    "duration": 6714,
    "start_time": "2022-09-27T00:38:38.685Z"
   },
   {
    "duration": 16,
    "start_time": "2022-09-27T00:38:45.400Z"
   },
   {
    "duration": 856,
    "start_time": "2022-09-27T00:38:45.417Z"
   },
   {
    "duration": 2073,
    "start_time": "2022-09-27T00:38:49.260Z"
   },
   {
    "duration": 705,
    "start_time": "2022-09-27T00:39:21.789Z"
   },
   {
    "duration": 13,
    "start_time": "2022-09-27T00:39:22.496Z"
   },
   {
    "duration": 101,
    "start_time": "2022-09-27T00:39:22.511Z"
   },
   {
    "duration": 1779,
    "start_time": "2022-09-27T00:39:22.614Z"
   },
   {
    "duration": 69,
    "start_time": "2022-09-27T00:39:24.395Z"
   },
   {
    "duration": 8,
    "start_time": "2022-09-27T00:39:24.466Z"
   },
   {
    "duration": 6,
    "start_time": "2022-09-27T00:39:24.475Z"
   },
   {
    "duration": 8,
    "start_time": "2022-09-27T00:39:24.482Z"
   },
   {
    "duration": 11,
    "start_time": "2022-09-27T00:39:24.508Z"
   },
   {
    "duration": 5,
    "start_time": "2022-09-27T00:39:24.522Z"
   },
   {
    "duration": 6,
    "start_time": "2022-09-27T00:39:24.528Z"
   },
   {
    "duration": 4,
    "start_time": "2022-09-27T00:39:24.535Z"
   },
   {
    "duration": 33,
    "start_time": "2022-09-27T00:39:24.541Z"
   },
   {
    "duration": 33,
    "start_time": "2022-09-27T00:39:24.576Z"
   },
   {
    "duration": 39,
    "start_time": "2022-09-27T00:39:24.611Z"
   },
   {
    "duration": 4,
    "start_time": "2022-09-27T00:39:24.651Z"
   },
   {
    "duration": 7,
    "start_time": "2022-09-27T00:39:24.656Z"
   },
   {
    "duration": 154,
    "start_time": "2022-09-27T00:39:24.665Z"
   },
   {
    "duration": 6707,
    "start_time": "2022-09-27T00:39:24.821Z"
   },
   {
    "duration": 11,
    "start_time": "2022-09-27T00:39:31.529Z"
   },
   {
    "duration": 859,
    "start_time": "2022-09-27T00:39:31.542Z"
   },
   {
    "duration": 2077,
    "start_time": "2022-09-27T00:39:40.164Z"
   },
   {
    "duration": 2026,
    "start_time": "2022-09-27T00:40:03.821Z"
   },
   {
    "duration": 8,
    "start_time": "2022-09-27T00:40:25.420Z"
   },
   {
    "duration": 693,
    "start_time": "2022-09-27T00:42:02.412Z"
   },
   {
    "duration": 13,
    "start_time": "2022-09-27T00:42:03.107Z"
   },
   {
    "duration": 102,
    "start_time": "2022-09-27T00:42:03.122Z"
   },
   {
    "duration": 1823,
    "start_time": "2022-09-27T00:42:03.226Z"
   },
   {
    "duration": 70,
    "start_time": "2022-09-27T00:42:05.050Z"
   },
   {
    "duration": 8,
    "start_time": "2022-09-27T00:42:05.121Z"
   },
   {
    "duration": 6,
    "start_time": "2022-09-27T00:42:05.130Z"
   },
   {
    "duration": 7,
    "start_time": "2022-09-27T00:42:05.137Z"
   },
   {
    "duration": 10,
    "start_time": "2022-09-27T00:42:05.146Z"
   },
   {
    "duration": 5,
    "start_time": "2022-09-27T00:42:05.159Z"
   },
   {
    "duration": 12,
    "start_time": "2022-09-27T00:42:05.165Z"
   },
   {
    "duration": 30,
    "start_time": "2022-09-27T00:42:05.179Z"
   },
   {
    "duration": 33,
    "start_time": "2022-09-27T00:42:05.210Z"
   },
   {
    "duration": 6,
    "start_time": "2022-09-27T00:42:05.245Z"
   },
   {
    "duration": 33,
    "start_time": "2022-09-27T00:42:05.253Z"
   },
   {
    "duration": 4,
    "start_time": "2022-09-27T00:42:05.288Z"
   },
   {
    "duration": 7,
    "start_time": "2022-09-27T00:42:05.309Z"
   },
   {
    "duration": 147,
    "start_time": "2022-09-27T00:42:05.317Z"
   },
   {
    "duration": 6614,
    "start_time": "2022-09-27T00:42:05.466Z"
   },
   {
    "duration": 11,
    "start_time": "2022-09-27T00:42:12.082Z"
   },
   {
    "duration": 898,
    "start_time": "2022-09-27T00:42:12.094Z"
   },
   {
    "duration": 2061,
    "start_time": "2022-09-27T00:42:21.120Z"
   },
   {
    "duration": 1127,
    "start_time": "2022-09-27T08:04:52.846Z"
   },
   {
    "duration": 15,
    "start_time": "2022-09-27T08:04:53.976Z"
   },
   {
    "duration": 82,
    "start_time": "2022-09-27T08:04:53.992Z"
   },
   {
    "duration": 1809,
    "start_time": "2022-09-27T08:04:54.076Z"
   },
   {
    "duration": 85,
    "start_time": "2022-09-27T08:04:55.887Z"
   },
   {
    "duration": 9,
    "start_time": "2022-09-27T08:04:55.974Z"
   },
   {
    "duration": 24,
    "start_time": "2022-09-27T08:04:55.985Z"
   },
   {
    "duration": 10,
    "start_time": "2022-09-27T08:04:56.010Z"
   },
   {
    "duration": 20,
    "start_time": "2022-09-27T08:04:56.022Z"
   },
   {
    "duration": 6,
    "start_time": "2022-09-27T08:04:56.045Z"
   },
   {
    "duration": 9,
    "start_time": "2022-09-27T08:04:56.052Z"
   },
   {
    "duration": 12,
    "start_time": "2022-09-27T08:04:56.062Z"
   },
   {
    "duration": 57,
    "start_time": "2022-09-27T08:04:56.076Z"
   },
   {
    "duration": 8,
    "start_time": "2022-09-27T08:04:56.134Z"
   },
   {
    "duration": 46,
    "start_time": "2022-09-27T08:04:56.144Z"
   },
   {
    "duration": 4,
    "start_time": "2022-09-27T08:04:56.192Z"
   },
   {
    "duration": 7,
    "start_time": "2022-09-27T08:04:56.209Z"
   },
   {
    "duration": 157,
    "start_time": "2022-09-27T08:04:56.218Z"
   },
   {
    "duration": 6457,
    "start_time": "2022-09-27T08:04:56.376Z"
   },
   {
    "duration": 13,
    "start_time": "2022-09-27T08:05:02.834Z"
   },
   {
    "duration": 1646,
    "start_time": "2022-09-27T08:05:02.848Z"
   },
   {
    "duration": 680,
    "start_time": "2022-09-27T08:06:55.835Z"
   },
   {
    "duration": 12,
    "start_time": "2022-09-27T08:06:56.517Z"
   },
   {
    "duration": 92,
    "start_time": "2022-09-27T08:06:56.531Z"
   },
   {
    "duration": 1716,
    "start_time": "2022-09-27T08:06:56.626Z"
   },
   {
    "duration": 76,
    "start_time": "2022-09-27T08:06:58.343Z"
   },
   {
    "duration": 7,
    "start_time": "2022-09-27T08:06:58.421Z"
   },
   {
    "duration": 7,
    "start_time": "2022-09-27T08:06:58.429Z"
   },
   {
    "duration": 6,
    "start_time": "2022-09-27T08:06:58.438Z"
   },
   {
    "duration": 13,
    "start_time": "2022-09-27T08:06:58.445Z"
   },
   {
    "duration": 5,
    "start_time": "2022-09-27T08:06:58.460Z"
   },
   {
    "duration": 42,
    "start_time": "2022-09-27T08:06:58.467Z"
   },
   {
    "duration": 5,
    "start_time": "2022-09-27T08:06:58.511Z"
   },
   {
    "duration": 34,
    "start_time": "2022-09-27T08:06:58.517Z"
   },
   {
    "duration": 7,
    "start_time": "2022-09-27T08:06:58.552Z"
   },
   {
    "duration": 57,
    "start_time": "2022-09-27T08:06:58.560Z"
   },
   {
    "duration": 4,
    "start_time": "2022-09-27T08:06:58.618Z"
   },
   {
    "duration": 8,
    "start_time": "2022-09-27T08:06:58.623Z"
   },
   {
    "duration": 155,
    "start_time": "2022-09-27T08:06:58.632Z"
   },
   {
    "duration": 7,
    "start_time": "2022-09-27T08:06:58.788Z"
   },
   {
    "duration": 0,
    "start_time": "2022-09-27T08:06:58.809Z"
   },
   {
    "duration": 0,
    "start_time": "2022-09-27T08:06:58.810Z"
   },
   {
    "duration": 677,
    "start_time": "2022-09-27T08:07:12.668Z"
   },
   {
    "duration": 12,
    "start_time": "2022-09-27T08:07:13.348Z"
   },
   {
    "duration": 93,
    "start_time": "2022-09-27T08:07:13.362Z"
   },
   {
    "duration": 1737,
    "start_time": "2022-09-27T08:07:13.457Z"
   },
   {
    "duration": 76,
    "start_time": "2022-09-27T08:07:15.196Z"
   },
   {
    "duration": 9,
    "start_time": "2022-09-27T08:07:15.274Z"
   },
   {
    "duration": 27,
    "start_time": "2022-09-27T08:07:15.284Z"
   },
   {
    "duration": 7,
    "start_time": "2022-09-27T08:07:15.313Z"
   },
   {
    "duration": 13,
    "start_time": "2022-09-27T08:07:15.322Z"
   },
   {
    "duration": 6,
    "start_time": "2022-09-27T08:07:15.337Z"
   },
   {
    "duration": 5,
    "start_time": "2022-09-27T08:07:15.345Z"
   },
   {
    "duration": 7,
    "start_time": "2022-09-27T08:07:15.352Z"
   },
   {
    "duration": 74,
    "start_time": "2022-09-27T08:07:15.360Z"
   },
   {
    "duration": 7,
    "start_time": "2022-09-27T08:07:15.435Z"
   },
   {
    "duration": 35,
    "start_time": "2022-09-27T08:07:15.443Z"
   },
   {
    "duration": 3,
    "start_time": "2022-09-27T08:07:15.479Z"
   },
   {
    "duration": 26,
    "start_time": "2022-09-27T08:07:15.484Z"
   },
   {
    "duration": 141,
    "start_time": "2022-09-27T08:07:15.512Z"
   },
   {
    "duration": 6480,
    "start_time": "2022-09-27T08:07:15.654Z"
   },
   {
    "duration": 11,
    "start_time": "2022-09-27T08:07:22.135Z"
   },
   {
    "duration": 1029,
    "start_time": "2022-09-27T08:07:22.147Z"
   },
   {
    "duration": 721,
    "start_time": "2022-09-27T08:11:07.169Z"
   },
   {
    "duration": 13,
    "start_time": "2022-09-27T08:11:07.891Z"
   },
   {
    "duration": 80,
    "start_time": "2022-09-27T08:11:07.905Z"
   },
   {
    "duration": 1741,
    "start_time": "2022-09-27T08:11:07.987Z"
   },
   {
    "duration": 79,
    "start_time": "2022-09-27T08:11:09.730Z"
   },
   {
    "duration": 7,
    "start_time": "2022-09-27T08:11:09.810Z"
   },
   {
    "duration": 5,
    "start_time": "2022-09-27T08:11:09.819Z"
   },
   {
    "duration": 9,
    "start_time": "2022-09-27T08:11:09.826Z"
   },
   {
    "duration": 11,
    "start_time": "2022-09-27T08:11:09.836Z"
   },
   {
    "duration": 5,
    "start_time": "2022-09-27T08:11:09.849Z"
   },
   {
    "duration": 5,
    "start_time": "2022-09-27T08:11:09.856Z"
   },
   {
    "duration": 47,
    "start_time": "2022-09-27T08:11:09.862Z"
   },
   {
    "duration": 36,
    "start_time": "2022-09-27T08:11:09.910Z"
   },
   {
    "duration": 6,
    "start_time": "2022-09-27T08:11:09.947Z"
   },
   {
    "duration": 35,
    "start_time": "2022-09-27T08:11:09.954Z"
   },
   {
    "duration": 19,
    "start_time": "2022-09-27T08:11:09.991Z"
   },
   {
    "duration": 10,
    "start_time": "2022-09-27T08:11:10.012Z"
   },
   {
    "duration": 173,
    "start_time": "2022-09-27T08:11:10.024Z"
   },
   {
    "duration": 6554,
    "start_time": "2022-09-27T08:11:10.208Z"
   },
   {
    "duration": 11,
    "start_time": "2022-09-27T08:11:16.764Z"
   },
   {
    "duration": 1523,
    "start_time": "2022-09-27T08:11:16.776Z"
   },
   {
    "duration": 5892,
    "start_time": "2022-09-27T08:52:16.758Z"
   },
   {
    "duration": 6074,
    "start_time": "2022-09-27T08:52:47.659Z"
   },
   {
    "duration": 6010,
    "start_time": "2022-09-27T08:54:04.035Z"
   },
   {
    "duration": 53,
    "start_time": "2022-10-03T15:40:31.885Z"
   },
   {
    "duration": 15,
    "start_time": "2022-10-03T15:42:22.789Z"
   },
   {
    "duration": 967,
    "start_time": "2022-10-03T15:42:48.760Z"
   },
   {
    "duration": 17,
    "start_time": "2022-10-03T15:42:49.729Z"
   },
   {
    "duration": 84,
    "start_time": "2022-10-03T15:42:49.748Z"
   },
   {
    "duration": 1973,
    "start_time": "2022-10-03T15:42:49.833Z"
   },
   {
    "duration": 92,
    "start_time": "2022-10-03T15:42:51.807Z"
   },
   {
    "duration": 8,
    "start_time": "2022-10-03T15:42:51.901Z"
   },
   {
    "duration": 6,
    "start_time": "2022-10-03T15:42:51.911Z"
   },
   {
    "duration": 6,
    "start_time": "2022-10-03T15:42:51.919Z"
   },
   {
    "duration": 12,
    "start_time": "2022-10-03T15:42:51.927Z"
   },
   {
    "duration": 6,
    "start_time": "2022-10-03T15:42:51.941Z"
   },
   {
    "duration": 50,
    "start_time": "2022-10-03T15:42:51.948Z"
   },
   {
    "duration": 5,
    "start_time": "2022-10-03T15:42:52.000Z"
   },
   {
    "duration": 40,
    "start_time": "2022-10-03T15:42:52.006Z"
   },
   {
    "duration": 7,
    "start_time": "2022-10-03T15:42:52.048Z"
   },
   {
    "duration": 68,
    "start_time": "2022-10-03T15:42:52.056Z"
   },
   {
    "duration": 4,
    "start_time": "2022-10-03T15:42:52.125Z"
   },
   {
    "duration": 12,
    "start_time": "2022-10-03T15:42:52.130Z"
   },
   {
    "duration": 165,
    "start_time": "2022-10-03T15:42:52.144Z"
   },
   {
    "duration": 6360,
    "start_time": "2022-10-03T15:42:52.310Z"
   },
   {
    "duration": 24,
    "start_time": "2022-10-03T15:42:58.672Z"
   },
   {
    "duration": 79,
    "start_time": "2022-10-03T15:42:58.698Z"
   },
   {
    "duration": 37,
    "start_time": "2022-10-03T15:44:54.109Z"
   },
   {
    "duration": 271,
    "start_time": "2022-10-03T15:45:08.110Z"
   },
   {
    "duration": 8,
    "start_time": "2022-10-03T15:45:23.638Z"
   },
   {
    "duration": 331,
    "start_time": "2022-10-03T15:48:03.235Z"
   },
   {
    "duration": 247,
    "start_time": "2022-10-03T15:52:10.857Z"
   },
   {
    "duration": 891,
    "start_time": "2022-10-03T15:53:38.299Z"
   },
   {
    "duration": 18,
    "start_time": "2022-10-03T15:53:39.192Z"
   },
   {
    "duration": 110,
    "start_time": "2022-10-03T15:53:39.213Z"
   },
   {
    "duration": 2217,
    "start_time": "2022-10-03T15:53:39.326Z"
   },
   {
    "duration": 102,
    "start_time": "2022-10-03T15:53:41.548Z"
   },
   {
    "duration": 9,
    "start_time": "2022-10-03T15:53:41.652Z"
   },
   {
    "duration": 8,
    "start_time": "2022-10-03T15:53:41.662Z"
   },
   {
    "duration": 9,
    "start_time": "2022-10-03T15:53:41.699Z"
   },
   {
    "duration": 18,
    "start_time": "2022-10-03T15:53:41.710Z"
   },
   {
    "duration": 10,
    "start_time": "2022-10-03T15:53:41.732Z"
   },
   {
    "duration": 9,
    "start_time": "2022-10-03T15:53:41.743Z"
   },
   {
    "duration": 42,
    "start_time": "2022-10-03T15:53:41.753Z"
   },
   {
    "duration": 42,
    "start_time": "2022-10-03T15:53:41.798Z"
   },
   {
    "duration": 7,
    "start_time": "2022-10-03T15:53:41.842Z"
   },
   {
    "duration": 58,
    "start_time": "2022-10-03T15:53:41.850Z"
   },
   {
    "duration": 4,
    "start_time": "2022-10-03T15:53:41.911Z"
   },
   {
    "duration": 12,
    "start_time": "2022-10-03T15:53:41.917Z"
   },
   {
    "duration": 206,
    "start_time": "2022-10-03T15:53:41.931Z"
   },
   {
    "duration": 6624,
    "start_time": "2022-10-03T15:53:42.139Z"
   },
   {
    "duration": 30,
    "start_time": "2022-10-03T15:53:48.765Z"
   },
   {
    "duration": 311,
    "start_time": "2022-10-03T15:53:48.797Z"
   },
   {
    "duration": 275,
    "start_time": "2022-10-03T15:54:58.709Z"
   },
   {
    "duration": 131,
    "start_time": "2022-10-03T15:55:41.954Z"
   },
   {
    "duration": 5662,
    "start_time": "2022-10-03T15:56:36.560Z"
   },
   {
    "duration": 184,
    "start_time": "2022-10-03T15:58:27.009Z"
   },
   {
    "duration": 114,
    "start_time": "2022-10-03T15:58:33.447Z"
   },
   {
    "duration": 125,
    "start_time": "2022-10-03T15:59:09.599Z"
   },
   {
    "duration": 126,
    "start_time": "2022-10-03T15:59:35.398Z"
   },
   {
    "duration": 227,
    "start_time": "2022-10-03T16:07:55.437Z"
   },
   {
    "duration": 181,
    "start_time": "2022-10-03T16:08:09.837Z"
   },
   {
    "duration": 179,
    "start_time": "2022-10-03T16:08:31.938Z"
   },
   {
    "duration": 234,
    "start_time": "2022-10-03T16:08:57.537Z"
   },
   {
    "duration": 10,
    "start_time": "2022-10-03T16:10:06.438Z"
   },
   {
    "duration": 235,
    "start_time": "2022-10-03T16:10:18.445Z"
   },
   {
    "duration": 252,
    "start_time": "2022-10-03T16:10:43.799Z"
   },
   {
    "duration": 177,
    "start_time": "2022-10-03T16:11:06.800Z"
   },
   {
    "duration": 455,
    "start_time": "2022-10-03T16:11:15.262Z"
   },
   {
    "duration": 177,
    "start_time": "2022-10-03T16:11:22.440Z"
   },
   {
    "duration": 464,
    "start_time": "2022-10-03T16:11:25.048Z"
   },
   {
    "duration": 177,
    "start_time": "2022-10-03T16:11:57.361Z"
   },
   {
    "duration": 241,
    "start_time": "2022-10-03T16:12:26.084Z"
   },
   {
    "duration": 305,
    "start_time": "2022-10-03T16:12:50.827Z"
   },
   {
    "duration": 197,
    "start_time": "2022-10-03T16:13:25.721Z"
   },
   {
    "duration": 141,
    "start_time": "2022-10-03T16:13:53.532Z"
   },
   {
    "duration": 148,
    "start_time": "2022-10-03T16:13:59.173Z"
   },
   {
    "duration": 139,
    "start_time": "2022-10-03T16:14:10.117Z"
   },
   {
    "duration": 160,
    "start_time": "2022-10-03T16:14:15.462Z"
   },
   {
    "duration": 145,
    "start_time": "2022-10-03T16:14:19.736Z"
   },
   {
    "duration": 145,
    "start_time": "2022-10-03T16:14:25.928Z"
   },
   {
    "duration": 131,
    "start_time": "2022-10-03T16:14:30.414Z"
   },
   {
    "duration": 135,
    "start_time": "2022-10-03T16:14:59.022Z"
   },
   {
    "duration": 132,
    "start_time": "2022-10-03T16:15:19.832Z"
   },
   {
    "duration": 137,
    "start_time": "2022-10-03T16:15:23.877Z"
   },
   {
    "duration": 336,
    "start_time": "2022-10-03T16:15:28.304Z"
   },
   {
    "duration": 283,
    "start_time": "2022-10-03T16:15:56.554Z"
   },
   {
    "duration": 166,
    "start_time": "2022-10-03T16:16:02.231Z"
   },
   {
    "duration": 182,
    "start_time": "2022-10-03T16:16:19.366Z"
   },
   {
    "duration": 264,
    "start_time": "2022-10-03T16:16:34.484Z"
   },
   {
    "duration": 146,
    "start_time": "2022-10-03T16:16:42.971Z"
   },
   {
    "duration": 216,
    "start_time": "2022-10-03T16:16:47.619Z"
   },
   {
    "duration": 149,
    "start_time": "2022-10-03T16:17:01.972Z"
   },
   {
    "duration": 181,
    "start_time": "2022-10-03T16:17:07.284Z"
   },
   {
    "duration": 191,
    "start_time": "2022-10-03T16:17:45.092Z"
   },
   {
    "duration": 328,
    "start_time": "2022-10-03T16:18:02.194Z"
   },
   {
    "duration": 189,
    "start_time": "2022-10-03T16:18:21.730Z"
   },
   {
    "duration": 146,
    "start_time": "2022-10-03T16:18:31.810Z"
   },
   {
    "duration": 185,
    "start_time": "2022-10-03T16:18:35.844Z"
   },
   {
    "duration": 172,
    "start_time": "2022-10-03T16:18:51.783Z"
   },
   {
    "duration": 175,
    "start_time": "2022-10-03T16:18:59.540Z"
   },
   {
    "duration": 200,
    "start_time": "2022-10-03T16:19:05.704Z"
   },
   {
    "duration": 267,
    "start_time": "2022-10-03T16:19:18.893Z"
   },
   {
    "duration": 232,
    "start_time": "2022-10-03T16:19:36.741Z"
   },
   {
    "duration": 269,
    "start_time": "2022-10-03T16:19:43.595Z"
   },
   {
    "duration": 180,
    "start_time": "2022-10-03T16:19:50.262Z"
   },
   {
    "duration": 143,
    "start_time": "2022-10-03T16:21:44.979Z"
   },
   {
    "duration": 219,
    "start_time": "2022-10-03T16:22:20.785Z"
   },
   {
    "duration": 286,
    "start_time": "2022-10-03T16:22:32.272Z"
   },
   {
    "duration": 213,
    "start_time": "2022-10-03T16:22:53.957Z"
   },
   {
    "duration": 156,
    "start_time": "2022-10-03T16:23:06.781Z"
   },
   {
    "duration": 328,
    "start_time": "2022-10-03T16:23:33.929Z"
   },
   {
    "duration": 189,
    "start_time": "2022-10-03T16:23:42.663Z"
   },
   {
    "duration": 229,
    "start_time": "2022-10-03T16:23:50.332Z"
   },
   {
    "duration": 324,
    "start_time": "2022-10-03T16:23:58.383Z"
   },
   {
    "duration": 277,
    "start_time": "2022-10-03T16:24:05.025Z"
   },
   {
    "duration": 168,
    "start_time": "2022-10-03T16:58:41.993Z"
   },
   {
    "duration": 165,
    "start_time": "2022-10-03T16:58:47.535Z"
   },
   {
    "duration": 141,
    "start_time": "2022-10-03T16:58:51.513Z"
   },
   {
    "duration": 148,
    "start_time": "2022-10-03T16:58:56.270Z"
   },
   {
    "duration": 156,
    "start_time": "2022-10-03T16:58:59.267Z"
   },
   {
    "duration": 176,
    "start_time": "2022-10-03T16:59:06.193Z"
   },
   {
    "duration": 211,
    "start_time": "2022-10-03T16:59:11.806Z"
   },
   {
    "duration": 166,
    "start_time": "2022-10-03T16:59:15.996Z"
   },
   {
    "duration": 144,
    "start_time": "2022-10-03T16:59:19.145Z"
   },
   {
    "duration": 181,
    "start_time": "2022-10-03T17:03:59.957Z"
   },
   {
    "duration": 180,
    "start_time": "2022-10-03T17:08:17.681Z"
   },
   {
    "duration": 307,
    "start_time": "2022-10-03T17:20:10.828Z"
   },
   {
    "duration": 99,
    "start_time": "2022-10-03T17:23:23.521Z"
   },
   {
    "duration": 148,
    "start_time": "2022-10-03T17:23:30.630Z"
   },
   {
    "duration": 352,
    "start_time": "2022-10-03T17:24:14.111Z"
   },
   {
    "duration": 153,
    "start_time": "2022-10-03T17:27:33.237Z"
   },
   {
    "duration": 400,
    "start_time": "2022-10-03T17:40:51.914Z"
   },
   {
    "duration": 188,
    "start_time": "2022-10-03T17:43:33.156Z"
   },
   {
    "duration": 205,
    "start_time": "2022-10-03T17:44:00.737Z"
   },
   {
    "duration": 188,
    "start_time": "2022-10-03T17:44:12.644Z"
   },
   {
    "duration": 185,
    "start_time": "2022-10-03T17:44:18.461Z"
   },
   {
    "duration": 200,
    "start_time": "2022-10-03T17:47:27.009Z"
   },
   {
    "duration": 189,
    "start_time": "2022-10-03T17:49:28.693Z"
   },
   {
    "duration": 203,
    "start_time": "2022-10-03T17:52:10.696Z"
   },
   {
    "duration": 506,
    "start_time": "2022-10-03T17:54:37.884Z"
   },
   {
    "duration": 502,
    "start_time": "2022-10-03T17:54:55.798Z"
   },
   {
    "duration": 10,
    "start_time": "2022-10-03T17:59:18.345Z"
   },
   {
    "duration": 74,
    "start_time": "2022-10-03T17:59:30.558Z"
   },
   {
    "duration": 15,
    "start_time": "2022-10-03T17:59:34.765Z"
   },
   {
    "duration": 8,
    "start_time": "2022-10-03T18:04:42.153Z"
   },
   {
    "duration": 19,
    "start_time": "2022-10-03T18:04:46.133Z"
   },
   {
    "duration": 9,
    "start_time": "2022-10-03T18:05:17.442Z"
   },
   {
    "duration": 14,
    "start_time": "2022-10-03T18:06:01.554Z"
   },
   {
    "duration": 118,
    "start_time": "2022-10-03T18:14:14.373Z"
   },
   {
    "duration": 47,
    "start_time": "2022-10-03T18:14:57.637Z"
   },
   {
    "duration": 125,
    "start_time": "2022-10-03T18:15:39.133Z"
   },
   {
    "duration": 124,
    "start_time": "2022-10-03T18:15:50.665Z"
   },
   {
    "duration": 124,
    "start_time": "2022-10-03T18:16:01.775Z"
   },
   {
    "duration": 3539,
    "start_time": "2022-10-03T18:16:16.909Z"
   },
   {
    "duration": 3475,
    "start_time": "2022-10-03T18:16:32.368Z"
   },
   {
    "duration": 117,
    "start_time": "2022-10-03T18:17:48.748Z"
   },
   {
    "duration": 110,
    "start_time": "2022-10-03T18:18:51.679Z"
   },
   {
    "duration": 770,
    "start_time": "2022-10-03T18:19:06.792Z"
   },
   {
    "duration": 16,
    "start_time": "2022-10-03T18:19:07.564Z"
   },
   {
    "duration": 102,
    "start_time": "2022-10-03T18:19:07.581Z"
   },
   {
    "duration": 2099,
    "start_time": "2022-10-03T18:19:07.685Z"
   },
   {
    "duration": 83,
    "start_time": "2022-10-03T18:19:09.787Z"
   },
   {
    "duration": 9,
    "start_time": "2022-10-03T18:19:09.872Z"
   },
   {
    "duration": 20,
    "start_time": "2022-10-03T18:19:09.882Z"
   },
   {
    "duration": 8,
    "start_time": "2022-10-03T18:19:09.904Z"
   },
   {
    "duration": 13,
    "start_time": "2022-10-03T18:19:09.914Z"
   },
   {
    "duration": 8,
    "start_time": "2022-10-03T18:19:09.929Z"
   },
   {
    "duration": 6,
    "start_time": "2022-10-03T18:19:09.939Z"
   },
   {
    "duration": 5,
    "start_time": "2022-10-03T18:19:09.947Z"
   },
   {
    "duration": 85,
    "start_time": "2022-10-03T18:19:09.954Z"
   },
   {
    "duration": 9,
    "start_time": "2022-10-03T18:19:10.043Z"
   },
   {
    "duration": 63,
    "start_time": "2022-10-03T18:19:10.054Z"
   },
   {
    "duration": 4,
    "start_time": "2022-10-03T18:19:10.119Z"
   },
   {
    "duration": 10,
    "start_time": "2022-10-03T18:19:10.125Z"
   },
   {
    "duration": 170,
    "start_time": "2022-10-03T18:19:10.137Z"
   },
   {
    "duration": 6589,
    "start_time": "2022-10-03T18:19:10.309Z"
   },
   {
    "duration": 16,
    "start_time": "2022-10-03T18:19:16.900Z"
   },
   {
    "duration": 283,
    "start_time": "2022-10-03T18:19:16.919Z"
   },
   {
    "duration": 170,
    "start_time": "2022-10-03T18:19:17.204Z"
   },
   {
    "duration": 189,
    "start_time": "2022-10-03T18:19:17.376Z"
   },
   {
    "duration": 189,
    "start_time": "2022-10-03T18:19:17.566Z"
   },
   {
    "duration": 259,
    "start_time": "2022-10-03T18:19:17.756Z"
   },
   {
    "duration": 185,
    "start_time": "2022-10-03T18:19:18.017Z"
   },
   {
    "duration": 193,
    "start_time": "2022-10-03T18:19:18.204Z"
   },
   {
    "duration": 265,
    "start_time": "2022-10-03T18:19:18.399Z"
   },
   {
    "duration": 147,
    "start_time": "2022-10-03T18:19:18.667Z"
   },
   {
    "duration": 209,
    "start_time": "2022-10-03T18:19:18.816Z"
   },
   {
    "duration": 142,
    "start_time": "2022-10-03T18:19:19.027Z"
   },
   {
    "duration": 160,
    "start_time": "2022-10-03T18:19:19.171Z"
   },
   {
    "duration": 162,
    "start_time": "2022-10-03T18:19:19.333Z"
   },
   {
    "duration": 504,
    "start_time": "2022-10-03T18:19:19.498Z"
   },
   {
    "duration": 177,
    "start_time": "2022-10-03T18:19:20.004Z"
   },
   {
    "duration": 216,
    "start_time": "2022-10-03T18:19:20.183Z"
   },
   {
    "duration": 211,
    "start_time": "2022-10-03T18:19:20.401Z"
   },
   {
    "duration": 198,
    "start_time": "2022-10-03T18:19:20.613Z"
   },
   {
    "duration": 206,
    "start_time": "2022-10-03T18:19:20.812Z"
   },
   {
    "duration": 17,
    "start_time": "2022-10-03T18:19:21.020Z"
   },
   {
    "duration": 12,
    "start_time": "2022-10-03T18:19:21.041Z"
   },
   {
    "duration": 72,
    "start_time": "2022-10-03T18:19:52.492Z"
   },
   {
    "duration": 10,
    "start_time": "2022-10-03T18:19:57.347Z"
   },
   {
    "duration": 14,
    "start_time": "2022-10-03T18:20:16.055Z"
   },
   {
    "duration": 14,
    "start_time": "2022-10-03T18:21:40.122Z"
   },
   {
    "duration": 27,
    "start_time": "2022-10-03T18:21:53.594Z"
   },
   {
    "duration": 23,
    "start_time": "2022-10-03T18:23:20.601Z"
   },
   {
    "duration": 57,
    "start_time": "2022-10-03T20:04:27.346Z"
   },
   {
    "duration": 1039,
    "start_time": "2022-10-03T20:04:40.178Z"
   },
   {
    "duration": 18,
    "start_time": "2022-10-03T20:04:41.220Z"
   },
   {
    "duration": 84,
    "start_time": "2022-10-03T20:04:41.239Z"
   },
   {
    "duration": 1777,
    "start_time": "2022-10-03T20:04:41.325Z"
   },
   {
    "duration": 85,
    "start_time": "2022-10-03T20:04:43.104Z"
   },
   {
    "duration": 7,
    "start_time": "2022-10-03T20:04:43.191Z"
   },
   {
    "duration": 7,
    "start_time": "2022-10-03T20:04:43.199Z"
   },
   {
    "duration": 6,
    "start_time": "2022-10-03T20:04:43.207Z"
   },
   {
    "duration": 11,
    "start_time": "2022-10-03T20:04:43.239Z"
   },
   {
    "duration": 5,
    "start_time": "2022-10-03T20:04:43.251Z"
   },
   {
    "duration": 5,
    "start_time": "2022-10-03T20:04:43.258Z"
   },
   {
    "duration": 5,
    "start_time": "2022-10-03T20:04:43.264Z"
   },
   {
    "duration": 35,
    "start_time": "2022-10-03T20:04:43.270Z"
   },
   {
    "duration": 6,
    "start_time": "2022-10-03T20:04:43.338Z"
   },
   {
    "duration": 36,
    "start_time": "2022-10-03T20:04:43.346Z"
   },
   {
    "duration": 4,
    "start_time": "2022-10-03T20:04:43.383Z"
   },
   {
    "duration": 12,
    "start_time": "2022-10-03T20:04:43.388Z"
   },
   {
    "duration": 151,
    "start_time": "2022-10-03T20:04:43.401Z"
   },
   {
    "duration": 5619,
    "start_time": "2022-10-03T20:04:43.553Z"
   },
   {
    "duration": 11,
    "start_time": "2022-10-03T20:04:49.174Z"
   },
   {
    "duration": 256,
    "start_time": "2022-10-03T20:04:49.186Z"
   },
   {
    "duration": 149,
    "start_time": "2022-10-03T20:04:49.443Z"
   },
   {
    "duration": 164,
    "start_time": "2022-10-03T20:04:49.593Z"
   },
   {
    "duration": 179,
    "start_time": "2022-10-03T20:04:49.759Z"
   },
   {
    "duration": 218,
    "start_time": "2022-10-03T20:04:49.940Z"
   },
   {
    "duration": 155,
    "start_time": "2022-10-03T20:04:50.160Z"
   },
   {
    "duration": 161,
    "start_time": "2022-10-03T20:04:50.317Z"
   },
   {
    "duration": 227,
    "start_time": "2022-10-03T20:04:50.480Z"
   },
   {
    "duration": 119,
    "start_time": "2022-10-03T20:04:50.709Z"
   },
   {
    "duration": 160,
    "start_time": "2022-10-03T20:04:50.830Z"
   },
   {
    "duration": 124,
    "start_time": "2022-10-03T20:04:50.992Z"
   },
   {
    "duration": 134,
    "start_time": "2022-10-03T20:04:51.118Z"
   },
   {
    "duration": 133,
    "start_time": "2022-10-03T20:04:51.254Z"
   },
   {
    "duration": 438,
    "start_time": "2022-10-03T20:04:51.389Z"
   },
   {
    "duration": 164,
    "start_time": "2022-10-03T20:04:51.829Z"
   },
   {
    "duration": 191,
    "start_time": "2022-10-03T20:04:51.995Z"
   },
   {
    "duration": 201,
    "start_time": "2022-10-03T20:04:52.188Z"
   },
   {
    "duration": 197,
    "start_time": "2022-10-03T20:04:52.391Z"
   },
   {
    "duration": 203,
    "start_time": "2022-10-03T20:04:52.590Z"
   },
   {
    "duration": 15,
    "start_time": "2022-10-03T20:04:52.795Z"
   },
   {
    "duration": 38,
    "start_time": "2022-10-03T20:04:52.813Z"
   },
   {
    "duration": 44,
    "start_time": "2022-10-03T20:04:52.853Z"
   },
   {
    "duration": 40,
    "start_time": "2022-10-03T20:04:58.198Z"
   },
   {
    "duration": 48,
    "start_time": "2022-10-03T20:05:04.820Z"
   },
   {
    "duration": 77,
    "start_time": "2022-10-03T20:09:32.304Z"
   },
   {
    "duration": 207,
    "start_time": "2022-10-03T20:09:48.234Z"
   },
   {
    "duration": 174,
    "start_time": "2022-10-03T20:11:22.756Z"
   },
   {
    "duration": 190,
    "start_time": "2022-10-03T20:11:39.938Z"
   },
   {
    "duration": 192,
    "start_time": "2022-10-03T20:13:56.762Z"
   },
   {
    "duration": 344,
    "start_time": "2022-10-03T20:14:29.647Z"
   },
   {
    "duration": 184,
    "start_time": "2022-10-03T20:14:36.445Z"
   },
   {
    "duration": 23,
    "start_time": "2022-10-03T20:15:44.528Z"
   },
   {
    "duration": 19,
    "start_time": "2022-10-03T20:15:48.988Z"
   },
   {
    "duration": 209,
    "start_time": "2022-10-03T20:15:52.434Z"
   },
   {
    "duration": 17,
    "start_time": "2022-10-03T20:16:07.544Z"
   },
   {
    "duration": 18,
    "start_time": "2022-10-03T20:16:32.841Z"
   },
   {
    "duration": 48,
    "start_time": "2022-10-03T20:16:56.091Z"
   },
   {
    "duration": 16,
    "start_time": "2022-10-03T20:17:01.879Z"
   },
   {
    "duration": 16,
    "start_time": "2022-10-03T20:17:21.836Z"
   },
   {
    "duration": 18,
    "start_time": "2022-10-03T20:17:57.896Z"
   },
   {
    "duration": 10,
    "start_time": "2022-10-03T20:22:59.737Z"
   },
   {
    "duration": 26,
    "start_time": "2022-10-03T20:23:18.115Z"
   },
   {
    "duration": 34,
    "start_time": "2022-10-03T20:26:56.414Z"
   },
   {
    "duration": 165,
    "start_time": "2022-10-03T20:27:09.355Z"
   },
   {
    "duration": 149,
    "start_time": "2022-10-03T20:31:23.293Z"
   },
   {
    "duration": 1006,
    "start_time": "2022-10-03T20:31:40.061Z"
   },
   {
    "duration": 153,
    "start_time": "2022-10-03T20:31:49.802Z"
   },
   {
    "duration": 134,
    "start_time": "2022-10-03T20:43:18.112Z"
   },
   {
    "duration": 143,
    "start_time": "2022-10-03T20:44:04.273Z"
   },
   {
    "duration": 122,
    "start_time": "2022-10-03T20:44:09.568Z"
   },
   {
    "duration": 126,
    "start_time": "2022-10-03T20:44:13.986Z"
   },
   {
    "duration": 121,
    "start_time": "2022-10-03T20:44:20.062Z"
   },
   {
    "duration": 156,
    "start_time": "2022-10-03T20:45:27.571Z"
   },
   {
    "duration": 149,
    "start_time": "2022-10-03T20:45:36.692Z"
   },
   {
    "duration": 168,
    "start_time": "2022-10-03T20:45:52.498Z"
   },
   {
    "duration": 146,
    "start_time": "2022-10-03T20:46:09.495Z"
   },
   {
    "duration": 160,
    "start_time": "2022-10-03T20:46:17.610Z"
   },
   {
    "duration": 278,
    "start_time": "2022-10-03T20:46:30.976Z"
   },
   {
    "duration": 143,
    "start_time": "2022-10-03T20:46:39.710Z"
   },
   {
    "duration": 157,
    "start_time": "2022-10-03T20:46:56.699Z"
   },
   {
    "duration": 289,
    "start_time": "2022-10-03T21:20:38.320Z"
   },
   {
    "duration": 732,
    "start_time": "2022-10-03T22:42:34.093Z"
   },
   {
    "duration": 13,
    "start_time": "2022-10-03T22:42:34.827Z"
   },
   {
    "duration": 90,
    "start_time": "2022-10-03T22:42:34.842Z"
   },
   {
    "duration": 1710,
    "start_time": "2022-10-03T22:42:34.935Z"
   },
   {
    "duration": 83,
    "start_time": "2022-10-03T22:42:36.647Z"
   },
   {
    "duration": 8,
    "start_time": "2022-10-03T22:42:36.732Z"
   },
   {
    "duration": 16,
    "start_time": "2022-10-03T22:42:36.742Z"
   },
   {
    "duration": 11,
    "start_time": "2022-10-03T22:42:36.760Z"
   },
   {
    "duration": 10,
    "start_time": "2022-10-03T22:42:36.773Z"
   },
   {
    "duration": 18,
    "start_time": "2022-10-03T22:42:36.785Z"
   },
   {
    "duration": 5,
    "start_time": "2022-10-03T22:42:36.804Z"
   },
   {
    "duration": 4,
    "start_time": "2022-10-03T22:42:36.811Z"
   },
   {
    "duration": 38,
    "start_time": "2022-10-03T22:42:36.816Z"
   },
   {
    "duration": 6,
    "start_time": "2022-10-03T22:42:36.856Z"
   },
   {
    "duration": 47,
    "start_time": "2022-10-03T22:42:36.864Z"
   },
   {
    "duration": 4,
    "start_time": "2022-10-03T22:42:36.913Z"
   },
   {
    "duration": 7,
    "start_time": "2022-10-03T22:42:36.919Z"
   },
   {
    "duration": 147,
    "start_time": "2022-10-03T22:42:36.928Z"
   },
   {
    "duration": 5636,
    "start_time": "2022-10-03T22:42:37.077Z"
   },
   {
    "duration": 12,
    "start_time": "2022-10-03T22:42:42.715Z"
   },
   {
    "duration": 271,
    "start_time": "2022-10-03T22:42:42.729Z"
   },
   {
    "duration": 158,
    "start_time": "2022-10-03T22:42:43.002Z"
   },
   {
    "duration": 159,
    "start_time": "2022-10-03T22:42:43.162Z"
   },
   {
    "duration": 168,
    "start_time": "2022-10-03T22:42:43.322Z"
   },
   {
    "duration": 196,
    "start_time": "2022-10-03T22:42:43.492Z"
   },
   {
    "duration": 159,
    "start_time": "2022-10-03T22:42:43.690Z"
   },
   {
    "duration": 158,
    "start_time": "2022-10-03T22:42:43.851Z"
   },
   {
    "duration": 244,
    "start_time": "2022-10-03T22:42:44.014Z"
   },
   {
    "duration": 119,
    "start_time": "2022-10-03T22:42:44.260Z"
   },
   {
    "duration": 199,
    "start_time": "2022-10-03T22:42:44.381Z"
   },
   {
    "duration": 130,
    "start_time": "2022-10-03T22:42:44.582Z"
   },
   {
    "duration": 132,
    "start_time": "2022-10-03T22:42:44.714Z"
   },
   {
    "duration": 134,
    "start_time": "2022-10-03T22:42:44.848Z"
   },
   {
    "duration": 452,
    "start_time": "2022-10-03T22:42:44.984Z"
   },
   {
    "duration": 153,
    "start_time": "2022-10-03T22:42:45.438Z"
   },
   {
    "duration": 170,
    "start_time": "2022-10-03T22:42:45.592Z"
   },
   {
    "duration": 175,
    "start_time": "2022-10-03T22:42:45.764Z"
   },
   {
    "duration": 162,
    "start_time": "2022-10-03T22:42:45.940Z"
   },
   {
    "duration": 162,
    "start_time": "2022-10-03T22:42:46.103Z"
   },
   {
    "duration": 15,
    "start_time": "2022-10-03T22:42:46.266Z"
   },
   {
    "duration": 25,
    "start_time": "2022-10-03T22:42:46.282Z"
   },
   {
    "duration": 15,
    "start_time": "2022-10-03T22:42:46.308Z"
   },
   {
    "duration": 263,
    "start_time": "2022-10-03T22:42:46.325Z"
   },
   {
    "duration": 77,
    "start_time": "2022-10-03T22:44:45.843Z"
   },
   {
    "duration": 85,
    "start_time": "2022-10-03T22:44:55.713Z"
   },
   {
    "duration": 23,
    "start_time": "2022-10-03T22:45:00.961Z"
   },
   {
    "duration": 13,
    "start_time": "2022-10-03T22:54:33.270Z"
   },
   {
    "duration": 14,
    "start_time": "2022-10-03T22:55:21.412Z"
   },
   {
    "duration": 634,
    "start_time": "2022-10-03T22:55:26.655Z"
   },
   {
    "duration": 13,
    "start_time": "2022-10-03T22:55:27.291Z"
   },
   {
    "duration": 83,
    "start_time": "2022-10-03T22:55:27.306Z"
   },
   {
    "duration": 1717,
    "start_time": "2022-10-03T22:55:27.391Z"
   },
   {
    "duration": 70,
    "start_time": "2022-10-03T22:55:29.109Z"
   },
   {
    "duration": 21,
    "start_time": "2022-10-03T22:55:29.180Z"
   },
   {
    "duration": 5,
    "start_time": "2022-10-03T22:55:29.202Z"
   },
   {
    "duration": 6,
    "start_time": "2022-10-03T22:55:29.208Z"
   },
   {
    "duration": 13,
    "start_time": "2022-10-03T22:55:29.215Z"
   },
   {
    "duration": 6,
    "start_time": "2022-10-03T22:55:29.230Z"
   },
   {
    "duration": 8,
    "start_time": "2022-10-03T22:55:29.237Z"
   },
   {
    "duration": 7,
    "start_time": "2022-10-03T22:55:29.246Z"
   },
   {
    "duration": 56,
    "start_time": "2022-10-03T22:55:29.254Z"
   },
   {
    "duration": 7,
    "start_time": "2022-10-03T22:55:29.312Z"
   },
   {
    "duration": 38,
    "start_time": "2022-10-03T22:55:29.321Z"
   },
   {
    "duration": 4,
    "start_time": "2022-10-03T22:55:29.360Z"
   },
   {
    "duration": 8,
    "start_time": "2022-10-03T22:55:29.365Z"
   },
   {
    "duration": 36,
    "start_time": "2022-10-03T22:55:29.374Z"
   },
   {
    "duration": 143,
    "start_time": "2022-10-03T22:55:29.411Z"
   },
   {
    "duration": 6050,
    "start_time": "2022-10-03T22:55:29.556Z"
   },
   {
    "duration": 9,
    "start_time": "2022-10-03T22:55:35.608Z"
   },
   {
    "duration": 12,
    "start_time": "2022-10-03T22:55:35.619Z"
   },
   {
    "duration": 481,
    "start_time": "2022-10-03T22:55:35.632Z"
   },
   {
    "duration": 299,
    "start_time": "2022-10-03T22:55:36.115Z"
   },
   {
    "duration": 169,
    "start_time": "2022-10-03T22:55:36.415Z"
   },
   {
    "duration": 167,
    "start_time": "2022-10-03T22:55:36.585Z"
   },
   {
    "duration": 205,
    "start_time": "2022-10-03T22:55:36.754Z"
   },
   {
    "duration": 162,
    "start_time": "2022-10-03T22:55:36.962Z"
   },
   {
    "duration": 169,
    "start_time": "2022-10-03T22:55:37.126Z"
   },
   {
    "duration": 233,
    "start_time": "2022-10-03T22:55:37.296Z"
   },
   {
    "duration": 113,
    "start_time": "2022-10-03T22:55:37.530Z"
   },
   {
    "duration": 164,
    "start_time": "2022-10-03T22:55:37.645Z"
   },
   {
    "duration": 130,
    "start_time": "2022-10-03T22:55:37.811Z"
   },
   {
    "duration": 139,
    "start_time": "2022-10-03T22:55:37.943Z"
   },
   {
    "duration": 136,
    "start_time": "2022-10-03T22:55:38.083Z"
   },
   {
    "duration": 436,
    "start_time": "2022-10-03T22:55:38.221Z"
   },
   {
    "duration": 143,
    "start_time": "2022-10-03T22:55:38.659Z"
   },
   {
    "duration": 172,
    "start_time": "2022-10-03T22:55:38.803Z"
   },
   {
    "duration": 189,
    "start_time": "2022-10-03T22:55:38.976Z"
   },
   {
    "duration": 171,
    "start_time": "2022-10-03T22:55:39.167Z"
   },
   {
    "duration": 194,
    "start_time": "2022-10-03T22:55:39.340Z"
   },
   {
    "duration": 17,
    "start_time": "2022-10-03T22:55:39.536Z"
   },
   {
    "duration": 11,
    "start_time": "2022-10-03T22:55:39.555Z"
   },
   {
    "duration": 44,
    "start_time": "2022-10-03T22:55:39.568Z"
   },
   {
    "duration": 277,
    "start_time": "2022-10-03T22:55:39.614Z"
   },
   {
    "duration": 54,
    "start_time": "2022-10-03T22:59:24.347Z"
   },
   {
    "duration": 266,
    "start_time": "2022-10-03T22:59:31.315Z"
   },
   {
    "duration": 43,
    "start_time": "2022-10-10T10:45:22.758Z"
   },
   {
    "duration": 1063,
    "start_time": "2022-10-10T10:45:30.916Z"
   },
   {
    "duration": 15,
    "start_time": "2022-10-10T10:45:31.982Z"
   },
   {
    "duration": 95,
    "start_time": "2022-10-10T10:45:31.998Z"
   },
   {
    "duration": 1726,
    "start_time": "2022-10-10T10:45:32.095Z"
   },
   {
    "duration": 69,
    "start_time": "2022-10-10T10:45:33.822Z"
   },
   {
    "duration": 8,
    "start_time": "2022-10-10T10:45:33.892Z"
   },
   {
    "duration": 24,
    "start_time": "2022-10-10T10:45:33.901Z"
   },
   {
    "duration": 5,
    "start_time": "2022-10-10T10:45:33.927Z"
   },
   {
    "duration": 30,
    "start_time": "2022-10-10T10:45:33.934Z"
   },
   {
    "duration": 16,
    "start_time": "2022-10-10T10:45:33.966Z"
   },
   {
    "duration": 6,
    "start_time": "2022-10-10T10:45:33.983Z"
   },
   {
    "duration": 5,
    "start_time": "2022-10-10T10:45:33.990Z"
   },
   {
    "duration": 36,
    "start_time": "2022-10-10T10:45:33.997Z"
   },
   {
    "duration": 6,
    "start_time": "2022-10-10T10:45:34.035Z"
   },
   {
    "duration": 33,
    "start_time": "2022-10-10T10:45:34.043Z"
   },
   {
    "duration": 3,
    "start_time": "2022-10-10T10:45:34.078Z"
   },
   {
    "duration": 10,
    "start_time": "2022-10-10T10:45:34.082Z"
   },
   {
    "duration": 153,
    "start_time": "2022-10-10T10:45:34.093Z"
   },
   {
    "duration": 5608,
    "start_time": "2022-10-10T10:45:34.247Z"
   },
   {
    "duration": 10,
    "start_time": "2022-10-10T10:45:39.857Z"
   },
   {
    "duration": 24,
    "start_time": "2022-10-10T10:45:39.869Z"
   },
   {
    "duration": 239,
    "start_time": "2022-10-10T10:45:39.895Z"
   },
   {
    "duration": 152,
    "start_time": "2022-10-10T10:45:40.136Z"
   },
   {
    "duration": 155,
    "start_time": "2022-10-10T10:45:40.289Z"
   },
   {
    "duration": 163,
    "start_time": "2022-10-10T10:45:40.445Z"
   },
   {
    "duration": 184,
    "start_time": "2022-10-10T10:45:40.609Z"
   },
   {
    "duration": 151,
    "start_time": "2022-10-10T10:45:40.794Z"
   },
   {
    "duration": 165,
    "start_time": "2022-10-10T10:45:40.948Z"
   },
   {
    "duration": 216,
    "start_time": "2022-10-10T10:45:41.114Z"
   },
   {
    "duration": 113,
    "start_time": "2022-10-10T10:45:41.331Z"
   },
   {
    "duration": 176,
    "start_time": "2022-10-10T10:45:41.446Z"
   },
   {
    "duration": 123,
    "start_time": "2022-10-10T10:45:41.623Z"
   },
   {
    "duration": 133,
    "start_time": "2022-10-10T10:45:41.747Z"
   },
   {
    "duration": 123,
    "start_time": "2022-10-10T10:45:41.882Z"
   },
   {
    "duration": 424,
    "start_time": "2022-10-10T10:45:42.006Z"
   },
   {
    "duration": 132,
    "start_time": "2022-10-10T10:45:42.432Z"
   },
   {
    "duration": 166,
    "start_time": "2022-10-10T10:45:42.565Z"
   },
   {
    "duration": 170,
    "start_time": "2022-10-10T10:45:42.732Z"
   },
   {
    "duration": 171,
    "start_time": "2022-10-10T10:45:42.904Z"
   },
   {
    "duration": 175,
    "start_time": "2022-10-10T10:45:43.077Z"
   },
   {
    "duration": 15,
    "start_time": "2022-10-10T10:45:43.254Z"
   },
   {
    "duration": 10,
    "start_time": "2022-10-10T10:45:43.271Z"
   },
   {
    "duration": 41,
    "start_time": "2022-10-10T10:45:43.282Z"
   },
   {
    "duration": 261,
    "start_time": "2022-10-10T10:45:43.325Z"
   },
   {
    "duration": 145,
    "start_time": "2022-10-10T10:50:14.421Z"
   },
   {
    "duration": 17,
    "start_time": "2022-10-10T10:52:13.250Z"
   },
   {
    "duration": 671,
    "start_time": "2022-10-10T10:52:44.339Z"
   },
   {
    "duration": 15,
    "start_time": "2022-10-10T10:52:45.013Z"
   },
   {
    "duration": 94,
    "start_time": "2022-10-10T10:52:45.029Z"
   },
   {
    "duration": 1784,
    "start_time": "2022-10-10T10:52:45.125Z"
   },
   {
    "duration": 77,
    "start_time": "2022-10-10T10:52:46.911Z"
   },
   {
    "duration": 7,
    "start_time": "2022-10-10T10:52:46.990Z"
   },
   {
    "duration": 6,
    "start_time": "2022-10-10T10:52:46.998Z"
   },
   {
    "duration": 21,
    "start_time": "2022-10-10T10:52:47.005Z"
   },
   {
    "duration": 17,
    "start_time": "2022-10-10T10:52:47.027Z"
   },
   {
    "duration": 6,
    "start_time": "2022-10-10T10:52:47.047Z"
   },
   {
    "duration": 8,
    "start_time": "2022-10-10T10:52:47.054Z"
   },
   {
    "duration": 6,
    "start_time": "2022-10-10T10:52:47.064Z"
   },
   {
    "duration": 60,
    "start_time": "2022-10-10T10:52:47.072Z"
   },
   {
    "duration": 7,
    "start_time": "2022-10-10T10:52:47.133Z"
   },
   {
    "duration": 36,
    "start_time": "2022-10-10T10:52:47.141Z"
   },
   {
    "duration": 4,
    "start_time": "2022-10-10T10:52:47.178Z"
   },
   {
    "duration": 10,
    "start_time": "2022-10-10T10:52:47.184Z"
   },
   {
    "duration": 142,
    "start_time": "2022-10-10T10:52:47.196Z"
   },
   {
    "duration": 5663,
    "start_time": "2022-10-10T10:52:47.339Z"
   },
   {
    "duration": 18,
    "start_time": "2022-10-10T10:52:53.004Z"
   },
   {
    "duration": 14,
    "start_time": "2022-10-10T10:52:53.024Z"
   },
   {
    "duration": 258,
    "start_time": "2022-10-10T10:52:53.040Z"
   },
   {
    "duration": 147,
    "start_time": "2022-10-10T10:52:53.300Z"
   },
   {
    "duration": 162,
    "start_time": "2022-10-10T10:52:53.449Z"
   },
   {
    "duration": 156,
    "start_time": "2022-10-10T10:52:53.613Z"
   },
   {
    "duration": 196,
    "start_time": "2022-10-10T10:52:53.771Z"
   },
   {
    "duration": 162,
    "start_time": "2022-10-10T10:52:53.969Z"
   },
   {
    "duration": 175,
    "start_time": "2022-10-10T10:52:54.134Z"
   },
   {
    "duration": 227,
    "start_time": "2022-10-10T10:52:54.311Z"
   },
   {
    "duration": 128,
    "start_time": "2022-10-10T10:52:54.539Z"
   },
   {
    "duration": 164,
    "start_time": "2022-10-10T10:52:54.669Z"
   },
   {
    "duration": 124,
    "start_time": "2022-10-10T10:52:54.834Z"
   },
   {
    "duration": 147,
    "start_time": "2022-10-10T10:52:54.960Z"
   },
   {
    "duration": 136,
    "start_time": "2022-10-10T10:52:55.109Z"
   },
   {
    "duration": 445,
    "start_time": "2022-10-10T10:52:55.247Z"
   },
   {
    "duration": 146,
    "start_time": "2022-10-10T10:52:55.694Z"
   },
   {
    "duration": 170,
    "start_time": "2022-10-10T10:52:55.842Z"
   },
   {
    "duration": 181,
    "start_time": "2022-10-10T10:52:56.014Z"
   },
   {
    "duration": 163,
    "start_time": "2022-10-10T10:52:56.197Z"
   },
   {
    "duration": 170,
    "start_time": "2022-10-10T10:52:56.361Z"
   },
   {
    "duration": 15,
    "start_time": "2022-10-10T10:52:56.533Z"
   },
   {
    "duration": 36,
    "start_time": "2022-10-10T10:52:56.549Z"
   },
   {
    "duration": 42,
    "start_time": "2022-10-10T10:52:56.586Z"
   },
   {
    "duration": 261,
    "start_time": "2022-10-10T10:52:56.629Z"
   },
   {
    "duration": 19,
    "start_time": "2022-10-10T10:53:14.788Z"
   },
   {
    "duration": 69,
    "start_time": "2022-10-10T10:54:39.209Z"
   },
   {
    "duration": 24,
    "start_time": "2022-10-10T10:54:43.480Z"
   },
   {
    "duration": 21,
    "start_time": "2022-10-10T10:54:49.304Z"
   },
   {
    "duration": 234,
    "start_time": "2022-10-10T10:57:05.223Z"
   },
   {
    "duration": 212,
    "start_time": "2022-10-10T10:57:07.546Z"
   },
   {
    "duration": 344,
    "start_time": "2022-10-10T10:57:09.055Z"
   },
   {
    "duration": 312,
    "start_time": "2022-10-10T11:07:51.450Z"
   },
   {
    "duration": 227,
    "start_time": "2022-10-10T11:08:01.982Z"
   },
   {
    "duration": 199,
    "start_time": "2022-10-10T11:08:23.178Z"
   },
   {
    "duration": 332,
    "start_time": "2022-10-10T11:08:43.735Z"
   },
   {
    "duration": 279,
    "start_time": "2022-10-10T11:11:31.713Z"
   },
   {
    "duration": 331,
    "start_time": "2022-10-10T11:12:20.264Z"
   },
   {
    "duration": 120,
    "start_time": "2022-10-10T11:14:57.144Z"
   },
   {
    "duration": 215,
    "start_time": "2022-10-10T11:15:11.861Z"
   },
   {
    "duration": 136,
    "start_time": "2022-10-10T11:15:33.869Z"
   },
   {
    "duration": 110,
    "start_time": "2022-10-10T11:15:46.527Z"
   },
   {
    "duration": 125,
    "start_time": "2022-10-10T11:17:46.174Z"
   },
   {
    "duration": 13,
    "start_time": "2022-10-10T11:18:03.717Z"
   },
   {
    "duration": 121,
    "start_time": "2022-10-10T11:18:18.428Z"
   },
   {
    "duration": 117,
    "start_time": "2022-10-10T11:18:30.960Z"
   },
   {
    "duration": 128,
    "start_time": "2022-10-10T11:20:06.554Z"
   },
   {
    "duration": 117,
    "start_time": "2022-10-10T11:21:54.610Z"
   },
   {
    "duration": 61,
    "start_time": "2022-10-10T11:23:45.616Z"
   },
   {
    "duration": 688,
    "start_time": "2022-10-10T14:02:45.492Z"
   },
   {
    "duration": 12,
    "start_time": "2022-10-10T14:02:46.182Z"
   },
   {
    "duration": 78,
    "start_time": "2022-10-10T14:02:46.195Z"
   },
   {
    "duration": 1691,
    "start_time": "2022-10-10T14:02:46.275Z"
   },
   {
    "duration": 76,
    "start_time": "2022-10-10T14:02:47.967Z"
   },
   {
    "duration": 7,
    "start_time": "2022-10-10T14:02:48.044Z"
   },
   {
    "duration": 6,
    "start_time": "2022-10-10T14:02:48.052Z"
   },
   {
    "duration": 6,
    "start_time": "2022-10-10T14:02:48.059Z"
   },
   {
    "duration": 11,
    "start_time": "2022-10-10T14:02:48.066Z"
   },
   {
    "duration": 25,
    "start_time": "2022-10-10T14:02:48.079Z"
   },
   {
    "duration": 9,
    "start_time": "2022-10-10T14:02:48.105Z"
   },
   {
    "duration": 6,
    "start_time": "2022-10-10T14:02:48.116Z"
   },
   {
    "duration": 37,
    "start_time": "2022-10-10T14:02:48.123Z"
   },
   {
    "duration": 6,
    "start_time": "2022-10-10T14:02:48.162Z"
   },
   {
    "duration": 52,
    "start_time": "2022-10-10T14:02:48.169Z"
   },
   {
    "duration": 3,
    "start_time": "2022-10-10T14:02:48.223Z"
   },
   {
    "duration": 9,
    "start_time": "2022-10-10T14:02:48.227Z"
   },
   {
    "duration": 131,
    "start_time": "2022-10-10T14:02:48.237Z"
   },
   {
    "duration": 5651,
    "start_time": "2022-10-10T14:02:48.369Z"
   },
   {
    "duration": 11,
    "start_time": "2022-10-10T14:02:54.021Z"
   },
   {
    "duration": 13,
    "start_time": "2022-10-10T14:02:54.034Z"
   },
   {
    "duration": 16,
    "start_time": "2022-10-10T14:02:54.049Z"
   },
   {
    "duration": 272,
    "start_time": "2022-10-10T14:02:54.067Z"
   },
   {
    "duration": 183,
    "start_time": "2022-10-10T14:02:54.341Z"
   },
   {
    "duration": 179,
    "start_time": "2022-10-10T14:02:54.525Z"
   },
   {
    "duration": 174,
    "start_time": "2022-10-10T14:02:54.706Z"
   },
   {
    "duration": 219,
    "start_time": "2022-10-10T14:02:54.882Z"
   },
   {
    "duration": 162,
    "start_time": "2022-10-10T14:02:55.105Z"
   },
   {
    "duration": 163,
    "start_time": "2022-10-10T14:02:55.268Z"
   },
   {
    "duration": 216,
    "start_time": "2022-10-10T14:02:55.433Z"
   },
   {
    "duration": 119,
    "start_time": "2022-10-10T14:02:55.651Z"
   },
   {
    "duration": 167,
    "start_time": "2022-10-10T14:02:55.772Z"
   },
   {
    "duration": 123,
    "start_time": "2022-10-10T14:02:55.940Z"
   },
   {
    "duration": 127,
    "start_time": "2022-10-10T14:02:56.064Z"
   },
   {
    "duration": 124,
    "start_time": "2022-10-10T14:02:56.199Z"
   },
   {
    "duration": 420,
    "start_time": "2022-10-10T14:02:56.324Z"
   },
   {
    "duration": 226,
    "start_time": "2022-10-10T14:02:56.746Z"
   },
   {
    "duration": 219,
    "start_time": "2022-10-10T14:02:56.973Z"
   },
   {
    "duration": 244,
    "start_time": "2022-10-10T14:02:57.193Z"
   },
   {
    "duration": 348,
    "start_time": "2022-10-10T14:02:57.440Z"
   },
   {
    "duration": 162,
    "start_time": "2022-10-10T14:02:57.789Z"
   },
   {
    "duration": 273,
    "start_time": "2022-10-10T14:02:57.953Z"
   },
   {
    "duration": 175,
    "start_time": "2022-10-10T14:02:58.227Z"
   },
   {
    "duration": 167,
    "start_time": "2022-10-10T14:02:58.403Z"
   },
   {
    "duration": 70,
    "start_time": "2022-10-10T14:02:58.571Z"
   },
   {
    "duration": 0,
    "start_time": "2022-10-10T14:02:58.642Z"
   },
   {
    "duration": 0,
    "start_time": "2022-10-10T14:02:58.643Z"
   },
   {
    "duration": 0,
    "start_time": "2022-10-10T14:02:58.644Z"
   },
   {
    "duration": 197,
    "start_time": "2022-10-10T14:07:43.617Z"
   },
   {
    "duration": 119,
    "start_time": "2022-10-10T14:08:27.870Z"
   },
   {
    "duration": 11,
    "start_time": "2022-10-10T14:08:46.627Z"
   },
   {
    "duration": 17,
    "start_time": "2022-10-10T14:08:47.047Z"
   },
   {
    "duration": 257,
    "start_time": "2022-10-10T14:08:47.651Z"
   },
   {
    "duration": 130,
    "start_time": "2022-10-10T14:09:25.580Z"
   }
  ],
  "kernelspec": {
   "display_name": "Python 3 (ipykernel)",
   "language": "python",
   "name": "python3"
  },
  "language_info": {
   "codemirror_mode": {
    "name": "ipython",
    "version": 3
   },
   "file_extension": ".py",
   "mimetype": "text/x-python",
   "name": "python",
   "nbconvert_exporter": "python",
   "pygments_lexer": "ipython3",
   "version": "3.9.5"
  },
  "toc": {
   "base_numbering": 1,
   "nav_menu": {},
   "number_sections": true,
   "sideBar": true,
   "skip_h1_title": true,
   "title_cell": "Table of Contents",
   "title_sidebar": "Contents",
   "toc_cell": false,
   "toc_position": {},
   "toc_section_display": true,
   "toc_window_display": true
  }
 },
 "nbformat": 4,
 "nbformat_minor": 2
}
