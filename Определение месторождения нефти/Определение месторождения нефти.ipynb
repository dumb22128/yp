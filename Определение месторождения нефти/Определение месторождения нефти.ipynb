{
  "cells": [
    {
      "cell_type": "markdown",
      "metadata": {
        "id": "n1-NPORu2yXj"
      },
      "source": [
        "# Выбор локации для скважины"
      ]
    },
    {
      "cell_type": "markdown",
      "metadata": {
        "id": "z7HM_d4k2yXj"
      },
      "source": [
        "Допустим, вы работаете в добывающей компании «ГлавРосГосНефть». Нужно решить, где бурить новую скважину.\n",
        "\n",
        "Вам предоставлены пробы нефти в трёх регионах: в каждом 10 000 месторождений, где измерили качество нефти и объём её запасов. Постройте модель машинного обучения, которая поможет определить регион, где добыча принесёт наибольшую прибыль. Проанализируйте возможную прибыль и риски техникой *Bootstrap.*\n",
        "\n",
        "Шаги для выбора локации:\n",
        "\n",
        "- В избранном регионе ищут месторождения, для каждого определяют значения признаков;\n",
        "- Строят модель и оценивают объём запасов;\n",
        "- Выбирают месторождения с самым высокими оценками значений. Количество месторождений зависит от бюджета компании и стоимости разработки одной скважины;\n",
        "- Прибыль равна суммарной прибыли отобранных месторождений."
      ]
    },
    {
      "cell_type": "markdown",
      "metadata": {
        "id": "N4sePxOC2yXj"
      },
      "source": [
        "Данные геологоразведки трёх регионов находятся в файлах:\n",
        "- /datasets/geo_data_0.csv.\n",
        "- /datasets/geo_data_1.csv.\n",
        "- /datasets/geo_data_2.csv.\n",
        "\n",
        "Столбцы:\n",
        "- id — уникальный идентификатор скважины;\n",
        "- f0, f1, f2 — три признака точек (неважно, что они означают, но сами признаки значимы);\n",
        "- product — объём запасов в скважине (**тыс. баррелей**).\n"
      ]
    },
    {
      "cell_type": "markdown",
      "metadata": {
        "id": "ex7vlqEJ2yXk"
      },
      "source": [
        "## Загрузка и подготовка данных"
      ]
    },
    {
      "cell_type": "markdown",
      "metadata": {
        "id": "2lajXZI-2yXk"
      },
      "source": [
        "Выгружаем необходимые библиотеки и методы из них, а также заблочим варнинги, так как они меня пугают(O-o):"
      ]
    },
    {
      "cell_type": "code",
      "execution_count": null,
      "metadata": {
        "id": "SwxwwJsU2yXk"
      },
      "outputs": [],
      "source": [
        "import pandas as pd\n",
        "import numpy as np\n",
        "import seaborn as sns\n",
        "import scipy.stats as st\n",
        "from sklearn.linear_model import LinearRegression\n",
        "from sklearn.metrics import mean_squared_error\n",
        "from sklearn.model_selection import train_test_split\n",
        "from sklearn.preprocessing import MinMaxScaler\n",
        "import matplotlib.pyplot as plt\n",
        "import seaborn as sns\n",
        "import warnings\n",
        "\n",
        "warnings.filterwarnings(\"ignore\")"
      ]
    },
    {
      "cell_type": "markdown",
      "metadata": {
        "id": "I_50fgYO2yXl"
      },
      "source": [
        "Выгрузим датасеты в переменные и изучим их содержимое:"
      ]
    },
    {
      "cell_type": "code",
      "execution_count": null,
      "metadata": {
        "id": "Q3mYmazY2yXl"
      },
      "outputs": [],
      "source": [
        "df1 = pd.read_csv('/datasets/geo_data_0.csv')\n",
        "df2 = pd.read_csv('/datasets/geo_data_1.csv')\n",
        "df3 = pd.read_csv('/datasets/geo_data_2.csv')"
      ]
    },
    {
      "cell_type": "code",
      "execution_count": null,
      "metadata": {
        "id": "U4qITk5r2yXl",
        "outputId": "f68a12a9-573a-4fd9-dcd8-d7f69dd0140c"
      },
      "outputs": [
        {
          "name": "stdout",
          "output_type": "stream",
          "text": [
            "<class 'pandas.core.frame.DataFrame'>\n",
            "RangeIndex: 100000 entries, 0 to 99999\n",
            "Data columns (total 5 columns):\n",
            " #   Column   Non-Null Count   Dtype  \n",
            "---  ------   --------------   -----  \n",
            " 0   id       100000 non-null  object \n",
            " 1   f0       100000 non-null  float64\n",
            " 2   f1       100000 non-null  float64\n",
            " 3   f2       100000 non-null  float64\n",
            " 4   product  100000 non-null  float64\n",
            "dtypes: float64(4), object(1)\n",
            "memory usage: 3.8+ MB\n"
          ]
        },
        {
          "data": {
            "text/plain": [
              "0"
            ]
          },
          "execution_count": 3,
          "metadata": {},
          "output_type": "execute_result"
        }
      ],
      "source": [
        "df1.info()\n",
        "df1.describe()\n",
        "df1.duplicated().sum()"
      ]
    },
    {
      "cell_type": "code",
      "execution_count": null,
      "metadata": {
        "id": "U_dBc5pL2yXm",
        "outputId": "9c1d6f7f-187d-4cd1-ba7b-40d5f29c9abc"
      },
      "outputs": [
        {
          "name": "stdout",
          "output_type": "stream",
          "text": [
            "<class 'pandas.core.frame.DataFrame'>\n",
            "RangeIndex: 100000 entries, 0 to 99999\n",
            "Data columns (total 5 columns):\n",
            " #   Column   Non-Null Count   Dtype  \n",
            "---  ------   --------------   -----  \n",
            " 0   id       100000 non-null  object \n",
            " 1   f0       100000 non-null  float64\n",
            " 2   f1       100000 non-null  float64\n",
            " 3   f2       100000 non-null  float64\n",
            " 4   product  100000 non-null  float64\n",
            "dtypes: float64(4), object(1)\n",
            "memory usage: 3.8+ MB\n"
          ]
        },
        {
          "data": {
            "text/plain": [
              "0"
            ]
          },
          "execution_count": 4,
          "metadata": {},
          "output_type": "execute_result"
        }
      ],
      "source": [
        "df2.info()\n",
        "df2.describe()\n",
        "df2.duplicated().sum()"
      ]
    },
    {
      "cell_type": "code",
      "execution_count": null,
      "metadata": {
        "id": "KXq3auny2yXm",
        "outputId": "59f4af79-4838-4aff-b1cd-1aae0076f603"
      },
      "outputs": [
        {
          "name": "stdout",
          "output_type": "stream",
          "text": [
            "<class 'pandas.core.frame.DataFrame'>\n",
            "RangeIndex: 100000 entries, 0 to 99999\n",
            "Data columns (total 5 columns):\n",
            " #   Column   Non-Null Count   Dtype  \n",
            "---  ------   --------------   -----  \n",
            " 0   id       100000 non-null  object \n",
            " 1   f0       100000 non-null  float64\n",
            " 2   f1       100000 non-null  float64\n",
            " 3   f2       100000 non-null  float64\n",
            " 4   product  100000 non-null  float64\n",
            "dtypes: float64(4), object(1)\n",
            "memory usage: 3.8+ MB\n"
          ]
        },
        {
          "data": {
            "text/plain": [
              "0"
            ]
          },
          "execution_count": 5,
          "metadata": {},
          "output_type": "execute_result"
        }
      ],
      "source": [
        "df3.info()\n",
        "df3.describe()\n",
        "df3.duplicated().sum()"
      ]
    },
    {
      "cell_type": "markdown",
      "metadata": {
        "id": "IDxLV1Ag2yXn"
      },
      "source": [
        "Первая практическая без пропусков и вопросов, чем же их заполнить, слезы счастья так и наворачиваются... Объем в скважинах везде положителен, что тоже радует, ну и три признака, которые настолько важны, что мы без понятия, что же они означают, но вроде не слишком отличны друг от друга, по крайней мере так кажется на первый взгляд. Проверим корелляцию значений."
      ]
    },
    {
      "cell_type": "code",
      "execution_count": null,
      "metadata": {
        "id": "yxZZ4Bvf2yXn",
        "outputId": "d546068d-9239-4364-9474-b4b86b84e31b"
      },
      "outputs": [
        {
          "data": {
            "text/html": [
              "<div>\n",
              "<style scoped>\n",
              "    .dataframe tbody tr th:only-of-type {\n",
              "        vertical-align: middle;\n",
              "    }\n",
              "\n",
              "    .dataframe tbody tr th {\n",
              "        vertical-align: top;\n",
              "    }\n",
              "\n",
              "    .dataframe thead th {\n",
              "        text-align: right;\n",
              "    }\n",
              "</style>\n",
              "<table border=\"1\" class=\"dataframe\">\n",
              "  <thead>\n",
              "    <tr style=\"text-align: right;\">\n",
              "      <th></th>\n",
              "      <th>f0</th>\n",
              "      <th>f1</th>\n",
              "      <th>f2</th>\n",
              "      <th>product</th>\n",
              "    </tr>\n",
              "  </thead>\n",
              "  <tbody>\n",
              "    <tr>\n",
              "      <th>f0</th>\n",
              "      <td>1.000000</td>\n",
              "      <td>-0.440723</td>\n",
              "      <td>-0.003153</td>\n",
              "      <td>0.143536</td>\n",
              "    </tr>\n",
              "    <tr>\n",
              "      <th>f1</th>\n",
              "      <td>-0.440723</td>\n",
              "      <td>1.000000</td>\n",
              "      <td>0.001724</td>\n",
              "      <td>-0.192356</td>\n",
              "    </tr>\n",
              "    <tr>\n",
              "      <th>f2</th>\n",
              "      <td>-0.003153</td>\n",
              "      <td>0.001724</td>\n",
              "      <td>1.000000</td>\n",
              "      <td>0.483663</td>\n",
              "    </tr>\n",
              "    <tr>\n",
              "      <th>product</th>\n",
              "      <td>0.143536</td>\n",
              "      <td>-0.192356</td>\n",
              "      <td>0.483663</td>\n",
              "      <td>1.000000</td>\n",
              "    </tr>\n",
              "  </tbody>\n",
              "</table>\n",
              "</div>"
            ],
            "text/plain": [
              "               f0        f1        f2   product\n",
              "f0       1.000000 -0.440723 -0.003153  0.143536\n",
              "f1      -0.440723  1.000000  0.001724 -0.192356\n",
              "f2      -0.003153  0.001724  1.000000  0.483663\n",
              "product  0.143536 -0.192356  0.483663  1.000000"
            ]
          },
          "execution_count": 6,
          "metadata": {},
          "output_type": "execute_result"
        }
      ],
      "source": [
        "df1.corr()"
      ]
    },
    {
      "cell_type": "code",
      "execution_count": null,
      "metadata": {
        "id": "lhJxXkd-2yXn",
        "outputId": "e1834c09-edb3-4be4-c0ee-df4ea9131233"
      },
      "outputs": [
        {
          "data": {
            "text/html": [
              "<div>\n",
              "<style scoped>\n",
              "    .dataframe tbody tr th:only-of-type {\n",
              "        vertical-align: middle;\n",
              "    }\n",
              "\n",
              "    .dataframe tbody tr th {\n",
              "        vertical-align: top;\n",
              "    }\n",
              "\n",
              "    .dataframe thead th {\n",
              "        text-align: right;\n",
              "    }\n",
              "</style>\n",
              "<table border=\"1\" class=\"dataframe\">\n",
              "  <thead>\n",
              "    <tr style=\"text-align: right;\">\n",
              "      <th></th>\n",
              "      <th>f0</th>\n",
              "      <th>f1</th>\n",
              "      <th>f2</th>\n",
              "      <th>product</th>\n",
              "    </tr>\n",
              "  </thead>\n",
              "  <tbody>\n",
              "    <tr>\n",
              "      <th>f0</th>\n",
              "      <td>1.000000</td>\n",
              "      <td>0.182287</td>\n",
              "      <td>-0.001777</td>\n",
              "      <td>-0.030491</td>\n",
              "    </tr>\n",
              "    <tr>\n",
              "      <th>f1</th>\n",
              "      <td>0.182287</td>\n",
              "      <td>1.000000</td>\n",
              "      <td>-0.002595</td>\n",
              "      <td>-0.010155</td>\n",
              "    </tr>\n",
              "    <tr>\n",
              "      <th>f2</th>\n",
              "      <td>-0.001777</td>\n",
              "      <td>-0.002595</td>\n",
              "      <td>1.000000</td>\n",
              "      <td>0.999397</td>\n",
              "    </tr>\n",
              "    <tr>\n",
              "      <th>product</th>\n",
              "      <td>-0.030491</td>\n",
              "      <td>-0.010155</td>\n",
              "      <td>0.999397</td>\n",
              "      <td>1.000000</td>\n",
              "    </tr>\n",
              "  </tbody>\n",
              "</table>\n",
              "</div>"
            ],
            "text/plain": [
              "               f0        f1        f2   product\n",
              "f0       1.000000  0.182287 -0.001777 -0.030491\n",
              "f1       0.182287  1.000000 -0.002595 -0.010155\n",
              "f2      -0.001777 -0.002595  1.000000  0.999397\n",
              "product -0.030491 -0.010155  0.999397  1.000000"
            ]
          },
          "execution_count": 7,
          "metadata": {},
          "output_type": "execute_result"
        }
      ],
      "source": [
        "df2.corr()"
      ]
    },
    {
      "cell_type": "code",
      "execution_count": null,
      "metadata": {
        "id": "C0Ppl22d2yXn",
        "outputId": "57adcc32-7bd9-4cc3-baf6-62b211bc590a"
      },
      "outputs": [
        {
          "data": {
            "text/plain": [
              "<seaborn.axisgrid.PairGrid at 0x7f101edab970>"
            ]
          },
          "execution_count": 8,
          "metadata": {},
          "output_type": "execute_result"
        },
        {
          "data": {
            "image/png": "[encoded data removed]",
            "text/plain": [
              "<Figure size 720x720 with 20 Axes>"
            ]
          },
          "metadata": {
            "needs_background": "light"
          },
          "output_type": "display_data"
        }
      ],
      "source": [
        "sns.pairplot(df2)"
      ]
    },
    {
      "cell_type": "code",
      "execution_count": null,
      "metadata": {
        "id": "p2pjuTN12yXn",
        "outputId": "1256f6f5-d702-47da-db78-3ecebc3391f2"
      },
      "outputs": [
        {
          "data": {
            "text/html": [
              "<div>\n",
              "<style scoped>\n",
              "    .dataframe tbody tr th:only-of-type {\n",
              "        vertical-align: middle;\n",
              "    }\n",
              "\n",
              "    .dataframe tbody tr th {\n",
              "        vertical-align: top;\n",
              "    }\n",
              "\n",
              "    .dataframe thead th {\n",
              "        text-align: right;\n",
              "    }\n",
              "</style>\n",
              "<table border=\"1\" class=\"dataframe\">\n",
              "  <thead>\n",
              "    <tr style=\"text-align: right;\">\n",
              "      <th></th>\n",
              "      <th>f0</th>\n",
              "      <th>f1</th>\n",
              "      <th>f2</th>\n",
              "      <th>product</th>\n",
              "    </tr>\n",
              "  </thead>\n",
              "  <tbody>\n",
              "    <tr>\n",
              "      <th>f0</th>\n",
              "      <td>1.000000</td>\n",
              "      <td>0.000528</td>\n",
              "      <td>-0.000448</td>\n",
              "      <td>-0.001987</td>\n",
              "    </tr>\n",
              "    <tr>\n",
              "      <th>f1</th>\n",
              "      <td>0.000528</td>\n",
              "      <td>1.000000</td>\n",
              "      <td>0.000779</td>\n",
              "      <td>-0.001012</td>\n",
              "    </tr>\n",
              "    <tr>\n",
              "      <th>f2</th>\n",
              "      <td>-0.000448</td>\n",
              "      <td>0.000779</td>\n",
              "      <td>1.000000</td>\n",
              "      <td>0.445871</td>\n",
              "    </tr>\n",
              "    <tr>\n",
              "      <th>product</th>\n",
              "      <td>-0.001987</td>\n",
              "      <td>-0.001012</td>\n",
              "      <td>0.445871</td>\n",
              "      <td>1.000000</td>\n",
              "    </tr>\n",
              "  </tbody>\n",
              "</table>\n",
              "</div>"
            ],
            "text/plain": [
              "               f0        f1        f2   product\n",
              "f0       1.000000  0.000528 -0.000448 -0.001987\n",
              "f1       0.000528  1.000000  0.000779 -0.001012\n",
              "f2      -0.000448  0.000779  1.000000  0.445871\n",
              "product -0.001987 -0.001012  0.445871  1.000000"
            ]
          },
          "execution_count": 9,
          "metadata": {},
          "output_type": "execute_result"
        }
      ],
      "source": [
        "df3.corr()"
      ]
    },
    {
      "cell_type": "markdown",
      "metadata": {
        "id": "xiIyndmO2yXo"
      },
      "source": [
        "**Выводы**\n",
        "- product - целевой признак\n",
        "- Не особая информативная предобработка, f0, f1, f2 - это признаки, но что они значат пока неизвестно. Однако они точно влияют на целевой признак, иначе их бы тут не было!\n",
        "- Айдишники для обучения не имеют никакого смысла, скорее всего выкинем их в следующей главе\n",
        "- Какая-то сказочная корреляция во втором регионе с количеством нефтепродукта! По графику видна прямая линейность, они явно связаны, да еще как!"
      ]
    },
    {
      "cell_type": "markdown",
      "metadata": {
        "id": "CmXAPU_A2yXo"
      },
      "source": [
        "## Обучение и проверка модели"
      ]
    },
    {
      "cell_type": "markdown",
      "metadata": {
        "id": "Ok-VmntG2yXo"
      },
      "source": [
        "Разобьем каждый датасет на обучающую и валидационную выборку"
      ]
    },
    {
      "cell_type": "code",
      "execution_count": null,
      "metadata": {
        "scrolled": true,
        "id": "OskmKx4F2yXo",
        "outputId": "b4eb24d0-63bb-4ac7-a9bd-03628584cd34"
      },
      "outputs": [
        {
          "name": "stdout",
          "output_type": "stream",
          "text": [
            "Регион 1 в среднем имеет 92.59256778438035 тыс. баррелей нефти а также среднюю квадратичную ошибку равную 37.5794217150813\n",
            "Регион 2 в среднем имеет 68.728546895446 тыс. баррелей нефти а также среднюю квадратичную ошибку равную 0.893099286775617\n",
            "Регион 3 в среднем имеет 94.96504596800489 тыс. баррелей нефти а также среднюю квадратичную ошибку равную 40.02970873393434\n"
          ]
        }
      ],
      "source": [
        "k=1\n",
        "\n",
        "for data in [df1,df2,df3]:\n",
        "    target = data['product']\n",
        "    features = data.drop(['product', 'id'], axis=1) # выкинем айдишники, они не несут смысловой нагрузки для обучения\n",
        "\n",
        "    # Разбивка данных для обучения и валидации\n",
        "    features_train, features_valid, target_train,target_valid = train_test_split(features, target, test_size=0.25, random_state=12345)\n",
        "\n",
        "    model = LinearRegression()\n",
        "    model.fit(features_train, target_train) # Обучение\n",
        "    predicted_valid = model.predict(features_valid) # Предсказания\n",
        "    rmse = mean_squared_error(target_valid, predicted_valid)**0.5\n",
        "    predicted_valid_mean = predicted_valid.sum()/len(predicted_valid)\n",
        "    print ('Регион '+ str(k) + ' в среднем имеет '+ str(predicted_valid_mean) +' тыс. баррелей нефти а также среднюю квадратичную ошибку равную ' + str(rmse))\n",
        "    k+=1"
      ]
    },
    {
      "cell_type": "markdown",
      "metadata": {
        "id": "BxgZ_DY62yXp"
      },
      "source": [
        "Код, конечно, тот еще колхозджан, но что смогли, то и исполнили, надо придумать как рациональнее сохранить предикты, закидывать в массив - идея плохая, и почему то в нем оказываются 25к записей, вместо 30к((("
      ]
    },
    {
      "cell_type": "markdown",
      "metadata": {
        "id": "_c9QwSy_2yXp"
      },
      "source": [
        "Первый и третий регионы похожи, сырья там много, но разбросы большие. А второй же менее сырьевой, однако вме распределенно равномерно. Посмотрим на его дисплот-график. distplot одновременно показывает гистограмму и график плотности распределения."
      ]
    },
    {
      "cell_type": "code",
      "execution_count": null,
      "metadata": {
        "scrolled": true,
        "id": "qvL2fU8t2yXp",
        "outputId": "6eab7836-d0ba-4301-9d02-da7ede1dec4a"
      },
      "outputs": [
        {
          "data": {
            "image/png": "[encoded data removed]",
            "text/plain": [
              "<Figure size 432x288 with 1 Axes>"
            ]
          },
          "metadata": {
            "needs_background": "light"
          },
          "output_type": "display_data"
        }
      ],
      "source": [
        "for i, df in enumerate([df1,df2,df3]): # шикарно-модно-хайповый график, который я бесцеремонно украл у кого-то\n",
        "    sns.distplot(df['product'], label = i+1, bins=10)\n",
        "    plt.legend()"
      ]
    },
    {
      "cell_type": "markdown",
      "metadata": {
        "id": "gjBKLAhP2yXp"
      },
      "source": [
        "Действительно, первый и третий регион братья близнецы, а второй не от мира сего :)"
      ]
    },
    {
      "cell_type": "markdown",
      "metadata": {
        "id": "bav86fgs2yXp"
      },
      "source": [
        "**Вывод**\n",
        "- Разделили выборки, обучили модель, жизнь прекрасна\n",
        "- Выяснили, что второй регион отличается от двух других по распределнию нефти."
      ]
    },
    {
      "cell_type": "markdown",
      "metadata": {
        "id": "rxqzVYi12yXq"
      },
      "source": [
        "## Подготовка к расчёту прибыли"
      ]
    },
    {
      "cell_type": "markdown",
      "metadata": {
        "id": "A-cxjNLn2yXq"
      },
      "source": [
        "Запишем необходимые константы"
      ]
    },
    {
      "cell_type": "code",
      "execution_count": null,
      "metadata": {
        "id": "LvQvGMw-2yXq"
      },
      "outputs": [],
      "source": [
        "BUDGET = 10000000\n",
        "CP = 500\n",
        "BEST = 200\n",
        "PPB = 450"
      ]
    },
    {
      "cell_type": "markdown",
      "metadata": {
        "id": "0AXyBKWT2yXq"
      },
      "source": [
        "Посмотрим средний запас нефти в регионах:"
      ]
    },
    {
      "cell_type": "code",
      "execution_count": null,
      "metadata": {
        "id": "kTyi23Wq2yXq",
        "outputId": "c0e0cc5f-0d46-4fdb-8ec1-5e93d8a38d87"
      },
      "outputs": [
        {
          "name": "stdout",
          "output_type": "stream",
          "text": [
            "92.50000000000001\n",
            "68.82500000000002\n",
            "95.00000000000004\n"
          ]
        }
      ],
      "source": [
        "for data in [df1,df2,df3]:\n",
        "    print(data['product'].mean())"
      ]
    },
    {
      "cell_type": "markdown",
      "metadata": {
        "id": "Sf-vUwij2yXr"
      },
      "source": [
        "Объем нефти указан в тысячах барраллей, поэтому чтобы упростить взаимодействие с рублем, домножать в дальнейшем на тысячу. Найдем минимальное среднее количество продукта в месторождениях региона, достаточное для разработки"
      ]
    },
    {
      "cell_type": "code",
      "execution_count": null,
      "metadata": {
        "id": "AWSFrHOp2yXr",
        "outputId": "406f4f48-abfa-40c5-fc92-5bef61dbe623"
      },
      "outputs": [
        {
          "name": "stdout",
          "output_type": "stream",
          "text": [
            "Бюджет на разработку одну скважину: 50.0 миллионов рублей\n"
          ]
        }
      ],
      "source": [
        "na_1=(BUDGET/BEST)\n",
        "print('Бюджет на разработку одну скважину:', na_1/1000,'миллионов рублей')"
      ]
    },
    {
      "cell_type": "markdown",
      "metadata": {
        "id": "OpDSg3r12yXr"
      },
      "source": [
        "Рассчитаем достаточный объём сырья для безубыточной разработки новой скважины"
      ]
    },
    {
      "cell_type": "code",
      "execution_count": null,
      "metadata": {
        "id": "zL1sbQuK2yXr",
        "outputId": "8aa6aaaf-dc40-4e71-f9ca-3b98d23f2304"
      },
      "outputs": [
        {
          "name": "stdout",
          "output_type": "stream",
          "text": [
            "Объём каждой скважины для безубыточной разработки должен составлять не менее: 111.11111111111111 баррелей\n"
          ]
        }
      ],
      "source": [
        "value=na_1/PPB\n",
        "print('Объём каждой скважины для безубыточной разработки должен составлять не менее:', value,'баррелей')"
      ]
    },
    {
      "cell_type": "markdown",
      "metadata": {
        "id": "POp26CaO2yX0"
      },
      "source": [
        "**Сравним необходимый для безубыточной разратки с нашим**.\n",
        "Для начала добавим столбцы с прибылью"
      ]
    },
    {
      "cell_type": "code",
      "execution_count": null,
      "metadata": {
        "id": "OqrROhQh2yX1",
        "outputId": "3902ca85-07a8-4c83-b662-31e892f73247"
      },
      "outputs": [
        {
          "name": "stdout",
          "output_type": "stream",
          "text": [
            "41625.00000000001\n",
            "30971.25\n",
            "42750.000000000015\n"
          ]
        }
      ],
      "source": [
        "for data in [df1,df2,df3]:\n",
        "    data['money'] = data['product']*PPB\n",
        "    print(data['money'].mean())"
      ]
    },
    {
      "cell_type": "markdown",
      "metadata": {
        "id": "1rBTSocU2yX1"
      },
      "source": [
        "Теперь воспользуемся формулой ROI - коэффициенту возврату инвестиций (ROI = (доход – затраты) / затраты × 100 %). Если показатели будут отрицательные, это будет очень грустно с точки зрения окупаемости."
      ]
    },
    {
      "cell_type": "code",
      "execution_count": null,
      "metadata": {
        "id": "_GkU-xa82yX1",
        "outputId": "b793273e-cf71-494c-cf1c-ff572bb082d6"
      },
      "outputs": [
        {
          "name": "stdout",
          "output_type": "stream",
          "text": [
            "Значение среднее значение параметра ROI в 1 регионе равен -16.749999999999986\n",
            "Значение среднее значение параметра ROI в 2 регионе равен -38.05749999999999\n",
            "Значение среднее значение параметра ROI в 3 регионе равен -14.499999999999984\n"
          ]
        }
      ],
      "source": [
        "i = 1\n",
        "for data in [df1,df2,df3]:\n",
        "    data['roi']=(data['money']-na_1)/na_1*100\n",
        "    print('Значение среднее значение параметра ROI в',i,'регионе равен',data['roi'].mean())\n",
        "    i+=1"
      ]
    },
    {
      "cell_type": "markdown",
      "metadata": {
        "id": "gpYNbNDl2yX1"
      },
      "source": [
        "**Вывод**\n",
        "\n",
        "Анализируя среднее по параметру ROI, можно сказать, что мы скорее всего потратим свои инвестиции, в пустоту, если будем выбирать на бум. Необходимо отобрать лучшие, и тогда, надеюсь, что-то изменится"
      ]
    },
    {
      "cell_type": "markdown",
      "metadata": {
        "id": "iqo4QTg12yX2"
      },
      "source": [
        "**Напишем функцию расчёта прибыли**"
      ]
    },
    {
      "cell_type": "code",
      "execution_count": null,
      "metadata": {
        "id": "XyPv1sb02yX2"
      },
      "outputs": [],
      "source": [
        "def total_money(data,BEST):\n",
        "    target = data['product']\n",
        "    features = data.drop(['product', 'id','roi','money'], axis=1) # выкинем айдишники, они не несут смысловой нагрузки для обучения\n",
        "    features_train, features_valid, target_train,target_valid = train_test_split(features, target, test_size=0.25, random_state=12345)\n",
        "    model = LinearRegression()\n",
        "    model.fit(features_train, target_train) # Обучение\n",
        "    predicted_valid = model.predict(features_valid) # Предсказания\n",
        "\n",
        "    predicted_sorted = pd.Series(predicted_valid, index=target_valid.index).sort_values(ascending=False)\n",
        "    sum_200 = predicted_sorted[:BEST].sum()\n",
        "    total_income=sum_200*PPB-BUDGET\n",
        "\n",
        "    print('200 лучших скважин дают',sum_200,'тыс.баррелей')\n",
        "    print('Прибыль для полученного объёма равна', total_income/1000, 'миллионов рублей')\n",
        "    print('Средний объем тысяч баррелей на скважину равен', sum_200/200)"
      ]
    },
    {
      "cell_type": "code",
      "execution_count": null,
      "metadata": {
        "id": "0wiC8Fn62yX2",
        "outputId": "1f658620-2675-4f4e-9c2b-e428dde0d3de"
      },
      "outputs": [
        {
          "name": "stdout",
          "output_type": "stream",
          "text": [
            "Для 1 региона\n",
            "200 лучших скважин дают 31102.3308388114 тыс.баррелей\n",
            "Прибыль для полученного объёма равна 3996.048877465129 миллионов рублей\n",
            "Средний объем тысяч баррелей на скважину равен 155.511654194057\n",
            "------------------------------------------------------------------\n",
            "Для 2 региона\n",
            "200 лучших скважин дают 27746.026782163426 тыс.баррелей\n",
            "Прибыль для полученного объёма равна 2485.712051973542 миллионов рублей\n",
            "Средний объем тысяч баррелей на скважину равен 138.73013391081713\n",
            "------------------------------------------------------------------\n",
            "Для 3 региона\n",
            "200 лучших скважин дают 29603.898658318347 тыс.баррелей\n",
            "Прибыль для полученного объёма равна 3321.7543962432555 миллионов рублей\n",
            "Средний объем тысяч баррелей на скважину равен 148.01949329159174\n",
            "------------------------------------------------------------------\n"
          ]
        }
      ],
      "source": [
        "k=1\n",
        "for i in [df1,df2,df3]:\n",
        "    print('Для', k, 'региона')\n",
        "    total_money(i,BEST)\n",
        "    k+=1\n",
        "    print('------------------------------------------------------------------')"
      ]
    },
    {
      "cell_type": "markdown",
      "metadata": {
        "id": "SyiW6zUj2yX2"
      },
      "source": [
        "Перед началом последнего блока, сохраню все таргет вэлиды и предикты отдельно, ибо весь проект я жалею, что не сделал так с начала, везде приходится вновь обучать("
      ]
    },
    {
      "cell_type": "code",
      "execution_count": null,
      "metadata": {
        "id": "xOe7TLlK2yX2"
      },
      "outputs": [],
      "source": [
        "def education(data):\n",
        "    target = data['product']\n",
        "    features = data.drop(['product', 'id','roi','money'], axis=1) # выкинем айдишники, они не несут смысловой нагрузки для обучения\n",
        "    features_train, features_valid, target_train,target_valid = train_test_split(features, target, test_size=0.25, random_state=12345)\n",
        "    model = LinearRegression()\n",
        "    model.fit(features_train, target_train) # Обучение\n",
        "    predicted_valid = model.predict(features_valid) # Предсказания\n",
        "    return target_valid.reset_index(drop=True), pd.Series(predicted_valid)\n",
        "target1, pred1 = education(df1)\n",
        "target2, pred2 = education(df2)\n",
        "target3, pred3 = education(df3)"
      ]
    },
    {
      "cell_type": "markdown",
      "metadata": {
        "id": "GM0sD5kg2yX3"
      },
      "source": [
        "**Вывод**\n",
        "\n",
        "По итогу имеем, что все регионы, при выборе лучших скважен проходят достаточный объём сырья для безубыточной разработки новой скважины."
      ]
    },
    {
      "cell_type": "markdown",
      "metadata": {
        "id": "CMYY-ZrI2yX3"
      },
      "source": [
        "## Расчёт прибыли и рисков"
      ]
    },
    {
      "cell_type": "code",
      "execution_count": null,
      "metadata": {
        "id": "C1Kvmlvs2yX3"
      },
      "outputs": [],
      "source": [
        "random = np.random.RandomState(12345)\n",
        "def profit(target, pred, count): # другая форма подсчета прибыли без обучения\n",
        "    pred_sorted = pred.sort_values(ascending=False)\n",
        "    selected = target[pred_sorted.index][:count]\n",
        "    return 450 * selected.sum() - 10000000\n",
        "\n",
        "def bootstrap (target, predictions):\n",
        "    values = []\n",
        "    for i in range(1000):\n",
        "        target_subsample = target.reset_index(drop=True).sample(n=500, replace=True, random_state=random)\n",
        "        pred_subsample = predictions[target_subsample.index]\n",
        "        values.append(profit(target_subsample, pred_subsample, 200))\n",
        "    risk = 0.025\n",
        "    values = pd.Series(values)\n",
        "    lower = values.quantile(risk)\n",
        "    high = values.quantile(0.975)\n",
        "    interval = (lower, high)\n",
        "    mean = values.mean()\n",
        "    # print(values)\n",
        "    print('Средняя прибыль:' , (mean / 100000), 'млрд.рублей')\n",
        "    print('2,5%-квантиль:',(mean / 100000),'млрд.рублей')\n",
        "    print('97,5%-квантиль:', high,'млрд.рублей')\n",
        "    print('Доверительный интервал: ', interval)\n",
        "    print('Риск', (values < 0).mean()*100,'%')"
      ]
    },
    {
      "cell_type": "code",
      "execution_count": null,
      "metadata": {
        "scrolled": false,
        "id": "L9uBiZkB2yX4",
        "outputId": "8a5cf51d-ecea-4f43-d0a2-ece38f9aabdb"
      },
      "outputs": [
        {
          "name": "stdout",
          "output_type": "stream",
          "text": [
            "Данные для первого региона:\n",
            "Средняя прибыль: 4.259385269105924 млрд.рублей\n",
            "2,5%-квантиль: 4.259385269105924 млрд.рублей\n",
            "97,5%-квантиль: 947976.353358369 млрд.рублей\n",
            "Доверительный интервал:  (-102090.09483793723, 947976.353358369)\n",
            "Риск 6.0 %\n",
            "-----------------------------------------------------------------\n",
            "Данные для второго региона:\n",
            "Средняя прибыль: 5.182594936973249 млрд.рублей\n",
            "2,5%-квантиль: 5.182594936973249 млрд.рублей\n",
            "97,5%-квантиль: 953612.9820669085 млрд.рублей\n",
            "Доверительный интервал:  (128123.23143308419, 953612.9820669085)\n",
            "Риск 0.3 %\n",
            "-----------------------------------------------------------------\n",
            "Данные для третьего региона:\n",
            "Средняя прибыль: 4.2019400534405005 млрд.рублей\n",
            "2,5%-квантиль: 4.2019400534405005 млрд.рублей\n",
            "97,5%-квантиль: 989629.9398445741 млрд.рублей\n",
            "Доверительный интервал:  (-115852.60916001163, 989629.9398445741)\n",
            "Риск 6.2 %\n"
          ]
        }
      ],
      "source": [
        "print('Данные для первого региона:')\n",
        "bootstrap(target1, pred1)\n",
        "print('-----------------------------------------------------------------')\n",
        "print('Данные для второго региона:')\n",
        "bootstrap(target2, pred2)\n",
        "print('-----------------------------------------------------------------')\n",
        "print('Данные для третьего региона:')\n",
        "bootstrap(target3, pred3)\n"
      ]
    },
    {
      "cell_type": "markdown",
      "metadata": {
        "id": "xXQg9OhA2yX4"
      },
      "source": [
        "**Вывод**\n",
        "\n",
        "Бурить скважину нужно во втором, здесь лучшая средняя прибыль и доверительный интервал.\n",
        "\n",
        "В целом несмотря на малый объем, это была самая слезоточивая для меня работа :C"
      ]
    },
    {
      "cell_type": "code",
      "execution_count": null,
      "metadata": {
        "id": "F2AQ7vsX2yX5"
      },
      "outputs": [],
      "source": []
    }
  ],
  "metadata": {
    "ExecuteTimeLog": [
      {
        "duration": 87,
        "start_time": "2022-12-19T18:08:52.600Z"
      },
      {
        "duration": 43,
        "start_time": "2022-12-19T18:18:08.264Z"
      },
      {
        "duration": 1553,
        "start_time": "2022-12-19T18:18:11.341Z"
      },
      {
        "duration": 1916,
        "start_time": "2022-12-19T18:18:12.897Z"
      },
      {
        "duration": 15,
        "start_time": "2022-12-19T18:18:36.607Z"
      },
      {
        "duration": 14,
        "start_time": "2022-12-19T18:18:39.832Z"
      },
      {
        "duration": 14,
        "start_time": "2022-12-19T18:18:41.865Z"
      },
      {
        "duration": 51,
        "start_time": "2022-12-19T18:19:29.101Z"
      },
      {
        "duration": 44,
        "start_time": "2022-12-19T18:19:40.578Z"
      },
      {
        "duration": 14,
        "start_time": "2022-12-19T18:19:45.483Z"
      },
      {
        "duration": 43,
        "start_time": "2022-12-19T18:19:53.388Z"
      },
      {
        "duration": 46,
        "start_time": "2022-12-19T18:19:56.024Z"
      },
      {
        "duration": 12,
        "start_time": "2022-12-19T18:27:08.191Z"
      },
      {
        "duration": 17,
        "start_time": "2022-12-19T18:27:25.272Z"
      },
      {
        "duration": 106,
        "start_time": "2022-12-19T18:37:08.862Z"
      },
      {
        "duration": 45,
        "start_time": "2022-12-19T18:37:29.743Z"
      },
      {
        "duration": 81,
        "start_time": "2022-12-19T18:37:37.200Z"
      },
      {
        "duration": 79,
        "start_time": "2022-12-19T18:37:43.054Z"
      },
      {
        "duration": 83,
        "start_time": "2022-12-19T18:37:51.535Z"
      },
      {
        "duration": 81,
        "start_time": "2022-12-19T18:37:56.579Z"
      },
      {
        "duration": 5,
        "start_time": "2022-12-19T18:41:45.879Z"
      },
      {
        "duration": 8,
        "start_time": "2022-12-19T18:42:03.162Z"
      },
      {
        "duration": 374,
        "start_time": "2022-12-19T18:42:14.371Z"
      },
      {
        "duration": 4,
        "start_time": "2022-12-19T18:42:20.810Z"
      },
      {
        "duration": 10,
        "start_time": "2022-12-19T18:42:21.737Z"
      },
      {
        "duration": 388,
        "start_time": "2022-12-19T18:42:44.225Z"
      },
      {
        "duration": 4,
        "start_time": "2022-12-19T18:42:46.964Z"
      },
      {
        "duration": 8,
        "start_time": "2022-12-19T18:45:37.821Z"
      },
      {
        "duration": 11,
        "start_time": "2022-12-19T18:47:17.828Z"
      },
      {
        "duration": 3,
        "start_time": "2022-12-19T18:47:35.201Z"
      },
      {
        "duration": 54,
        "start_time": "2022-12-19T18:47:37.947Z"
      },
      {
        "duration": 1777,
        "start_time": "2022-12-19T18:47:42.048Z"
      },
      {
        "duration": 5,
        "start_time": "2022-12-19T18:49:03.957Z"
      },
      {
        "duration": 341,
        "start_time": "2022-12-19T18:49:04.268Z"
      },
      {
        "duration": 95,
        "start_time": "2022-12-19T18:49:04.612Z"
      },
      {
        "duration": 71,
        "start_time": "2022-12-19T18:55:33.698Z"
      },
      {
        "duration": 73,
        "start_time": "2022-12-19T18:55:42.723Z"
      },
      {
        "duration": 2083,
        "start_time": "2022-12-19T18:55:49.824Z"
      },
      {
        "duration": 1821,
        "start_time": "2022-12-19T18:56:04.423Z"
      },
      {
        "duration": 1754,
        "start_time": "2022-12-19T18:56:12.729Z"
      },
      {
        "duration": 1452,
        "start_time": "2022-12-19T18:56:18.631Z"
      },
      {
        "duration": 1607,
        "start_time": "2022-12-19T18:56:48.267Z"
      },
      {
        "duration": 4,
        "start_time": "2022-12-19T18:57:02.308Z"
      },
      {
        "duration": 1488,
        "start_time": "2022-12-19T18:58:27.312Z"
      },
      {
        "duration": 15,
        "start_time": "2022-12-19T19:00:09.043Z"
      },
      {
        "duration": 14,
        "start_time": "2022-12-19T19:00:19.966Z"
      },
      {
        "duration": 27,
        "start_time": "2022-12-19T19:00:40.401Z"
      },
      {
        "duration": 18,
        "start_time": "2022-12-19T19:01:17.635Z"
      },
      {
        "duration": 14,
        "start_time": "2022-12-19T19:01:21.227Z"
      },
      {
        "duration": 14,
        "start_time": "2022-12-19T19:01:35.813Z"
      },
      {
        "duration": 16,
        "start_time": "2022-12-19T19:01:36.078Z"
      },
      {
        "duration": 4514,
        "start_time": "2022-12-19T19:03:13.847Z"
      },
      {
        "duration": 1516,
        "start_time": "2022-12-19T19:04:50.508Z"
      },
      {
        "duration": 15,
        "start_time": "2022-12-19T19:26:30.226Z"
      },
      {
        "duration": 3,
        "start_time": "2022-12-19T19:26:34.186Z"
      },
      {
        "duration": 4,
        "start_time": "2022-12-19T19:26:34.874Z"
      },
      {
        "duration": 4,
        "start_time": "2022-12-19T19:26:53.950Z"
      },
      {
        "duration": 4,
        "start_time": "2022-12-19T19:27:37.795Z"
      },
      {
        "duration": 10,
        "start_time": "2022-12-19T19:27:48.670Z"
      },
      {
        "duration": 10,
        "start_time": "2022-12-19T19:28:52.583Z"
      },
      {
        "duration": 3,
        "start_time": "2022-12-19T19:29:34.958Z"
      },
      {
        "duration": 3,
        "start_time": "2022-12-19T19:29:37.852Z"
      },
      {
        "duration": 12,
        "start_time": "2022-12-19T19:29:38.152Z"
      },
      {
        "duration": 5,
        "start_time": "2022-12-19T19:30:00.595Z"
      },
      {
        "duration": 12,
        "start_time": "2022-12-19T19:30:06.142Z"
      },
      {
        "duration": 10,
        "start_time": "2022-12-19T19:33:10.554Z"
      },
      {
        "duration": 16,
        "start_time": "2022-12-19T19:36:36.714Z"
      },
      {
        "duration": 9,
        "start_time": "2022-12-19T19:36:40.397Z"
      },
      {
        "duration": 10,
        "start_time": "2022-12-19T19:36:48.919Z"
      },
      {
        "duration": 11,
        "start_time": "2022-12-19T19:37:02.662Z"
      },
      {
        "duration": 10,
        "start_time": "2022-12-19T19:37:22.910Z"
      },
      {
        "duration": 42,
        "start_time": "2022-12-19T19:41:30.527Z"
      },
      {
        "duration": 5,
        "start_time": "2022-12-19T19:41:34.039Z"
      },
      {
        "duration": 10,
        "start_time": "2022-12-19T19:50:33.679Z"
      },
      {
        "duration": 10,
        "start_time": "2022-12-19T19:50:52.952Z"
      },
      {
        "duration": 79,
        "start_time": "2022-12-19T19:51:25.600Z"
      },
      {
        "duration": 83,
        "start_time": "2022-12-20T12:43:38.060Z"
      },
      {
        "duration": 79,
        "start_time": "2022-12-20T12:43:42.578Z"
      },
      {
        "duration": 41,
        "start_time": "2022-12-20T12:43:45.779Z"
      },
      {
        "duration": 1469,
        "start_time": "2022-12-20T12:43:56.721Z"
      },
      {
        "duration": 1857,
        "start_time": "2022-12-20T12:43:58.192Z"
      },
      {
        "duration": 83,
        "start_time": "2022-12-20T12:44:00.050Z"
      },
      {
        "duration": 89,
        "start_time": "2022-12-20T12:44:00.136Z"
      },
      {
        "duration": 111,
        "start_time": "2022-12-20T12:44:00.227Z"
      },
      {
        "duration": 22,
        "start_time": "2022-12-20T12:44:00.340Z"
      },
      {
        "duration": 27,
        "start_time": "2022-12-20T12:44:00.364Z"
      },
      {
        "duration": 4281,
        "start_time": "2022-12-20T12:44:00.392Z"
      },
      {
        "duration": 17,
        "start_time": "2022-12-20T12:44:04.676Z"
      },
      {
        "duration": 108,
        "start_time": "2022-12-20T12:44:04.696Z"
      },
      {
        "duration": 0,
        "start_time": "2022-12-20T12:44:04.805Z"
      },
      {
        "duration": 0,
        "start_time": "2022-12-20T12:44:04.807Z"
      },
      {
        "duration": 0,
        "start_time": "2022-12-20T12:44:04.808Z"
      },
      {
        "duration": 0,
        "start_time": "2022-12-20T12:44:04.813Z"
      },
      {
        "duration": 0,
        "start_time": "2022-12-20T12:44:04.814Z"
      },
      {
        "duration": 0,
        "start_time": "2022-12-20T12:44:04.815Z"
      },
      {
        "duration": 0,
        "start_time": "2022-12-20T12:44:04.817Z"
      },
      {
        "duration": 0,
        "start_time": "2022-12-20T12:44:04.818Z"
      },
      {
        "duration": 308,
        "start_time": "2022-12-20T12:44:56.109Z"
      },
      {
        "duration": 275,
        "start_time": "2022-12-20T12:44:58.640Z"
      },
      {
        "duration": 76,
        "start_time": "2022-12-20T12:49:06.750Z"
      },
      {
        "duration": 60,
        "start_time": "2022-12-20T12:49:15.454Z"
      },
      {
        "duration": 28,
        "start_time": "2022-12-20T12:49:29.313Z"
      },
      {
        "duration": 135,
        "start_time": "2022-12-20T12:49:56.582Z"
      },
      {
        "duration": 11,
        "start_time": "2022-12-20T12:50:27.349Z"
      },
      {
        "duration": 44,
        "start_time": "2022-12-20T12:50:52.569Z"
      },
      {
        "duration": 260,
        "start_time": "2022-12-20T12:51:02.458Z"
      },
      {
        "duration": 182,
        "start_time": "2022-12-20T12:51:18.038Z"
      },
      {
        "duration": 268,
        "start_time": "2022-12-20T12:51:23.849Z"
      },
      {
        "duration": 208,
        "start_time": "2022-12-20T12:51:27.010Z"
      },
      {
        "duration": 270,
        "start_time": "2022-12-20T12:51:33.550Z"
      },
      {
        "duration": 270,
        "start_time": "2022-12-20T12:51:37.949Z"
      },
      {
        "duration": 218,
        "start_time": "2022-12-20T12:51:47.801Z"
      },
      {
        "duration": 1760,
        "start_time": "2022-12-20T12:52:24.511Z"
      },
      {
        "duration": 1374,
        "start_time": "2022-12-20T14:15:28.993Z"
      },
      {
        "duration": 252,
        "start_time": "2022-12-20T14:19:43.770Z"
      },
      {
        "duration": 228,
        "start_time": "2022-12-20T14:19:49.191Z"
      },
      {
        "duration": 86,
        "start_time": "2022-12-20T14:20:19.014Z"
      },
      {
        "duration": 386,
        "start_time": "2022-12-20T14:20:22.335Z"
      },
      {
        "duration": 6,
        "start_time": "2022-12-20T14:33:39.836Z"
      },
      {
        "duration": 3,
        "start_time": "2022-12-20T14:36:31.268Z"
      },
      {
        "duration": 6,
        "start_time": "2022-12-20T14:36:31.814Z"
      },
      {
        "duration": 4,
        "start_time": "2022-12-20T14:46:55.374Z"
      },
      {
        "duration": 3,
        "start_time": "2022-12-20T14:47:09.376Z"
      },
      {
        "duration": 4,
        "start_time": "2022-12-20T14:47:18.685Z"
      },
      {
        "duration": 3,
        "start_time": "2022-12-20T14:48:07.377Z"
      },
      {
        "duration": 4,
        "start_time": "2022-12-20T14:48:17.505Z"
      },
      {
        "duration": 3,
        "start_time": "2022-12-20T14:49:05.648Z"
      },
      {
        "duration": 1171,
        "start_time": "2022-12-20T14:53:09.303Z"
      },
      {
        "duration": 8,
        "start_time": "2022-12-20T14:53:32.841Z"
      },
      {
        "duration": 10,
        "start_time": "2022-12-20T14:55:31.904Z"
      },
      {
        "duration": 1159,
        "start_time": "2022-12-20T15:01:05.585Z"
      },
      {
        "duration": 13,
        "start_time": "2022-12-20T15:01:13.021Z"
      },
      {
        "duration": 8,
        "start_time": "2022-12-20T15:01:28.897Z"
      },
      {
        "duration": 1313,
        "start_time": "2022-12-20T15:02:27.521Z"
      },
      {
        "duration": 395,
        "start_time": "2022-12-20T15:02:28.836Z"
      },
      {
        "duration": 77,
        "start_time": "2022-12-20T15:02:29.232Z"
      },
      {
        "duration": 73,
        "start_time": "2022-12-20T15:02:29.310Z"
      },
      {
        "duration": 87,
        "start_time": "2022-12-20T15:02:29.385Z"
      },
      {
        "duration": 17,
        "start_time": "2022-12-20T15:02:29.474Z"
      },
      {
        "duration": 29,
        "start_time": "2022-12-20T15:02:29.492Z"
      },
      {
        "duration": 4334,
        "start_time": "2022-12-20T15:02:29.523Z"
      },
      {
        "duration": 14,
        "start_time": "2022-12-20T15:02:33.859Z"
      },
      {
        "duration": 308,
        "start_time": "2022-12-20T15:02:33.874Z"
      },
      {
        "duration": 0,
        "start_time": "2022-12-20T15:02:34.184Z"
      },
      {
        "duration": 0,
        "start_time": "2022-12-20T15:02:34.185Z"
      },
      {
        "duration": 0,
        "start_time": "2022-12-20T15:02:34.186Z"
      },
      {
        "duration": 0,
        "start_time": "2022-12-20T15:02:34.187Z"
      },
      {
        "duration": 0,
        "start_time": "2022-12-20T15:02:34.188Z"
      },
      {
        "duration": 0,
        "start_time": "2022-12-20T15:02:34.189Z"
      },
      {
        "duration": 0,
        "start_time": "2022-12-20T15:02:34.190Z"
      },
      {
        "duration": 1728,
        "start_time": "2022-12-20T15:16:59.943Z"
      },
      {
        "duration": 2039,
        "start_time": "2022-12-20T15:17:01.674Z"
      },
      {
        "duration": 100,
        "start_time": "2022-12-20T15:17:03.714Z"
      },
      {
        "duration": 98,
        "start_time": "2022-12-20T15:17:03.816Z"
      },
      {
        "duration": 102,
        "start_time": "2022-12-20T15:17:03.917Z"
      },
      {
        "duration": 36,
        "start_time": "2022-12-20T15:17:04.021Z"
      },
      {
        "duration": 16,
        "start_time": "2022-12-20T15:17:04.060Z"
      },
      {
        "duration": 5030,
        "start_time": "2022-12-20T15:17:04.078Z"
      },
      {
        "duration": 17,
        "start_time": "2022-12-20T15:17:09.110Z"
      },
      {
        "duration": 427,
        "start_time": "2022-12-20T15:17:09.129Z"
      },
      {
        "duration": 1829,
        "start_time": "2022-12-20T15:17:09.561Z"
      },
      {
        "duration": 3,
        "start_time": "2022-12-20T15:17:11.392Z"
      },
      {
        "duration": 41,
        "start_time": "2022-12-20T15:17:11.397Z"
      },
      {
        "duration": 15,
        "start_time": "2022-12-20T15:17:11.441Z"
      },
      {
        "duration": 170,
        "start_time": "2022-12-20T15:17:11.458Z"
      },
      {
        "duration": 0,
        "start_time": "2022-12-20T15:17:11.630Z"
      },
      {
        "duration": 0,
        "start_time": "2022-12-20T15:17:11.632Z"
      },
      {
        "duration": 4,
        "start_time": "2022-12-20T15:17:32.605Z"
      },
      {
        "duration": 12,
        "start_time": "2022-12-20T15:17:38.325Z"
      },
      {
        "duration": 12,
        "start_time": "2022-12-20T15:17:40.604Z"
      },
      {
        "duration": 14,
        "start_time": "2022-12-20T15:19:50.635Z"
      },
      {
        "duration": 12,
        "start_time": "2022-12-20T15:20:26.683Z"
      },
      {
        "duration": 18,
        "start_time": "2022-12-20T15:20:50.564Z"
      },
      {
        "duration": 13,
        "start_time": "2022-12-20T15:20:56.861Z"
      },
      {
        "duration": 5,
        "start_time": "2022-12-20T16:01:42.333Z"
      },
      {
        "duration": 128,
        "start_time": "2022-12-20T16:02:10.030Z"
      },
      {
        "duration": 73,
        "start_time": "2022-12-20T16:06:35.868Z"
      },
      {
        "duration": 174,
        "start_time": "2022-12-20T16:07:08.577Z"
      },
      {
        "duration": 144,
        "start_time": "2022-12-20T16:08:56.207Z"
      },
      {
        "duration": 130,
        "start_time": "2022-12-20T16:10:00.028Z"
      },
      {
        "duration": 29,
        "start_time": "2022-12-20T16:11:53.558Z"
      },
      {
        "duration": 29,
        "start_time": "2022-12-20T16:12:16.411Z"
      },
      {
        "duration": 9,
        "start_time": "2022-12-20T16:12:24.697Z"
      },
      {
        "duration": 5,
        "start_time": "2022-12-20T16:12:32.069Z"
      },
      {
        "duration": 10,
        "start_time": "2022-12-20T16:13:02.499Z"
      },
      {
        "duration": 15,
        "start_time": "2022-12-20T16:13:29.810Z"
      },
      {
        "duration": 9,
        "start_time": "2022-12-20T16:13:37.245Z"
      },
      {
        "duration": 5,
        "start_time": "2022-12-20T16:14:41.998Z"
      },
      {
        "duration": 152,
        "start_time": "2022-12-20T16:14:59.600Z"
      },
      {
        "duration": 5,
        "start_time": "2022-12-20T16:15:27.499Z"
      },
      {
        "duration": 27,
        "start_time": "2022-12-20T16:15:29.264Z"
      },
      {
        "duration": 97,
        "start_time": "2022-12-20T16:15:29.557Z"
      },
      {
        "duration": 5,
        "start_time": "2022-12-20T16:17:05.336Z"
      },
      {
        "duration": 10,
        "start_time": "2022-12-20T16:17:36.837Z"
      },
      {
        "duration": 449,
        "start_time": "2022-12-20T16:17:44.019Z"
      },
      {
        "duration": 6,
        "start_time": "2022-12-20T16:19:01.956Z"
      },
      {
        "duration": 384,
        "start_time": "2022-12-20T16:19:02.281Z"
      },
      {
        "duration": 457,
        "start_time": "2022-12-20T16:20:45.409Z"
      },
      {
        "duration": 371,
        "start_time": "2022-12-20T16:21:09.592Z"
      },
      {
        "duration": 5,
        "start_time": "2022-12-20T16:23:09.912Z"
      },
      {
        "duration": 389,
        "start_time": "2022-12-20T16:23:10.975Z"
      },
      {
        "duration": 6,
        "start_time": "2022-12-20T16:23:32.704Z"
      },
      {
        "duration": 420,
        "start_time": "2022-12-20T16:23:36.650Z"
      },
      {
        "duration": 1412,
        "start_time": "2022-12-20T16:23:51.529Z"
      },
      {
        "duration": 396,
        "start_time": "2022-12-20T16:23:52.943Z"
      },
      {
        "duration": 110,
        "start_time": "2022-12-20T16:23:53.341Z"
      },
      {
        "duration": 101,
        "start_time": "2022-12-20T16:23:53.454Z"
      },
      {
        "duration": 97,
        "start_time": "2022-12-20T16:23:53.557Z"
      },
      {
        "duration": 18,
        "start_time": "2022-12-20T16:23:53.656Z"
      },
      {
        "duration": 14,
        "start_time": "2022-12-20T16:23:53.676Z"
      },
      {
        "duration": 4828,
        "start_time": "2022-12-20T16:23:53.692Z"
      },
      {
        "duration": 15,
        "start_time": "2022-12-20T16:23:58.522Z"
      },
      {
        "duration": 415,
        "start_time": "2022-12-20T16:23:58.539Z"
      },
      {
        "duration": 1710,
        "start_time": "2022-12-20T16:23:58.956Z"
      },
      {
        "duration": 3,
        "start_time": "2022-12-20T16:24:00.668Z"
      },
      {
        "duration": 22,
        "start_time": "2022-12-20T16:24:00.673Z"
      },
      {
        "duration": 25,
        "start_time": "2022-12-20T16:24:00.698Z"
      },
      {
        "duration": 14,
        "start_time": "2022-12-20T16:24:00.725Z"
      },
      {
        "duration": 21,
        "start_time": "2022-12-20T16:24:00.741Z"
      },
      {
        "duration": 21,
        "start_time": "2022-12-20T16:24:00.764Z"
      },
      {
        "duration": 17,
        "start_time": "2022-12-20T16:24:00.787Z"
      },
      {
        "duration": 477,
        "start_time": "2022-12-20T16:24:00.806Z"
      },
      {
        "duration": 454,
        "start_time": "2022-12-20T16:29:01.524Z"
      },
      {
        "duration": 429,
        "start_time": "2022-12-20T16:29:17.644Z"
      },
      {
        "duration": 412,
        "start_time": "2022-12-20T16:29:21.954Z"
      },
      {
        "duration": 5,
        "start_time": "2022-12-20T16:30:53.946Z"
      },
      {
        "duration": 431,
        "start_time": "2022-12-20T16:30:55.433Z"
      },
      {
        "duration": 5,
        "start_time": "2022-12-20T16:31:02.456Z"
      },
      {
        "duration": 420,
        "start_time": "2022-12-20T16:31:03.143Z"
      },
      {
        "duration": 8,
        "start_time": "2022-12-20T16:31:59.851Z"
      },
      {
        "duration": 451,
        "start_time": "2022-12-20T16:32:00.014Z"
      },
      {
        "duration": 3,
        "start_time": "2022-12-20T16:34:55.390Z"
      },
      {
        "duration": 4,
        "start_time": "2022-12-20T16:35:00.299Z"
      },
      {
        "duration": 4,
        "start_time": "2022-12-20T16:35:03.846Z"
      },
      {
        "duration": 4,
        "start_time": "2022-12-20T16:35:42.208Z"
      },
      {
        "duration": 4,
        "start_time": "2022-12-20T16:36:19.998Z"
      },
      {
        "duration": 77,
        "start_time": "2022-12-20T16:37:40.779Z"
      },
      {
        "duration": 66,
        "start_time": "2022-12-20T16:37:51.789Z"
      },
      {
        "duration": 61,
        "start_time": "2022-12-20T16:37:56.111Z"
      },
      {
        "duration": 83,
        "start_time": "2022-12-20T16:38:01.977Z"
      },
      {
        "duration": 38,
        "start_time": "2022-12-20T16:38:08.994Z"
      },
      {
        "duration": 310,
        "start_time": "2022-12-20T16:39:57.953Z"
      },
      {
        "duration": 428,
        "start_time": "2022-12-20T16:40:14.448Z"
      },
      {
        "duration": 36,
        "start_time": "2022-12-20T16:40:32.061Z"
      },
      {
        "duration": 314,
        "start_time": "2022-12-20T16:40:41.261Z"
      },
      {
        "duration": 109,
        "start_time": "2022-12-20T16:40:55.631Z"
      },
      {
        "duration": 32,
        "start_time": "2022-12-20T16:40:58.504Z"
      },
      {
        "duration": 41,
        "start_time": "2022-12-20T16:41:12.541Z"
      },
      {
        "duration": 394,
        "start_time": "2022-12-20T16:41:31.768Z"
      },
      {
        "duration": 1566,
        "start_time": "2022-12-20T16:41:48.217Z"
      },
      {
        "duration": 500,
        "start_time": "2022-12-20T16:41:49.785Z"
      },
      {
        "duration": 106,
        "start_time": "2022-12-20T16:41:50.287Z"
      },
      {
        "duration": 101,
        "start_time": "2022-12-20T16:41:50.395Z"
      },
      {
        "duration": 101,
        "start_time": "2022-12-20T16:41:50.497Z"
      },
      {
        "duration": 23,
        "start_time": "2022-12-20T16:41:50.599Z"
      },
      {
        "duration": 43,
        "start_time": "2022-12-20T16:41:50.624Z"
      },
      {
        "duration": 5390,
        "start_time": "2022-12-20T16:41:50.669Z"
      },
      {
        "duration": 17,
        "start_time": "2022-12-20T16:41:56.063Z"
      },
      {
        "duration": 373,
        "start_time": "2022-12-20T16:41:56.083Z"
      },
      {
        "duration": 1820,
        "start_time": "2022-12-20T16:41:56.459Z"
      },
      {
        "duration": 3,
        "start_time": "2022-12-20T16:41:58.281Z"
      },
      {
        "duration": 12,
        "start_time": "2022-12-20T16:41:58.286Z"
      },
      {
        "duration": 14,
        "start_time": "2022-12-20T16:41:58.299Z"
      },
      {
        "duration": 13,
        "start_time": "2022-12-20T16:41:58.315Z"
      },
      {
        "duration": 15,
        "start_time": "2022-12-20T16:41:58.331Z"
      },
      {
        "duration": 17,
        "start_time": "2022-12-20T16:41:58.348Z"
      },
      {
        "duration": 8,
        "start_time": "2022-12-20T16:41:58.372Z"
      },
      {
        "duration": 393,
        "start_time": "2022-12-20T16:41:58.382Z"
      },
      {
        "duration": 210,
        "start_time": "2022-12-20T16:41:58.850Z"
      },
      {
        "duration": 251,
        "start_time": "2022-12-20T16:43:14.819Z"
      },
      {
        "duration": 329,
        "start_time": "2022-12-20T16:43:55.945Z"
      },
      {
        "duration": 342,
        "start_time": "2022-12-20T16:44:03.932Z"
      },
      {
        "duration": 1601,
        "start_time": "2022-12-20T16:44:09.019Z"
      },
      {
        "duration": 442,
        "start_time": "2022-12-20T16:44:10.623Z"
      },
      {
        "duration": 100,
        "start_time": "2022-12-20T16:44:11.067Z"
      },
      {
        "duration": 103,
        "start_time": "2022-12-20T16:44:11.169Z"
      },
      {
        "duration": 104,
        "start_time": "2022-12-20T16:44:11.275Z"
      },
      {
        "duration": 19,
        "start_time": "2022-12-20T16:44:11.381Z"
      },
      {
        "duration": 15,
        "start_time": "2022-12-20T16:44:11.402Z"
      },
      {
        "duration": 5206,
        "start_time": "2022-12-20T16:44:11.418Z"
      },
      {
        "duration": 16,
        "start_time": "2022-12-20T16:44:16.626Z"
      },
      {
        "duration": 317,
        "start_time": "2022-12-20T16:44:16.644Z"
      },
      {
        "duration": 1717,
        "start_time": "2022-12-20T16:44:16.963Z"
      },
      {
        "duration": 3,
        "start_time": "2022-12-20T16:44:18.682Z"
      },
      {
        "duration": 11,
        "start_time": "2022-12-20T16:44:18.686Z"
      },
      {
        "duration": 4,
        "start_time": "2022-12-20T16:44:18.700Z"
      },
      {
        "duration": 8,
        "start_time": "2022-12-20T16:44:18.706Z"
      },
      {
        "duration": 13,
        "start_time": "2022-12-20T16:44:18.716Z"
      },
      {
        "duration": 19,
        "start_time": "2022-12-20T16:44:18.751Z"
      },
      {
        "duration": 404,
        "start_time": "2022-12-20T16:44:18.772Z"
      },
      {
        "duration": 81,
        "start_time": "2022-12-20T16:44:19.179Z"
      },
      {
        "duration": 398,
        "start_time": "2022-12-20T16:44:19.266Z"
      },
      {
        "duration": 585,
        "start_time": "2022-12-20T16:44:19.666Z"
      },
      {
        "duration": 192,
        "start_time": "2022-12-20T16:44:20.259Z"
      },
      {
        "duration": 423,
        "start_time": "2022-12-20T16:46:06.230Z"
      },
      {
        "duration": 384,
        "start_time": "2022-12-20T16:46:11.272Z"
      },
      {
        "duration": 252,
        "start_time": "2022-12-20T16:46:16.308Z"
      },
      {
        "duration": 406,
        "start_time": "2022-12-20T16:46:20.247Z"
      },
      {
        "duration": 428,
        "start_time": "2022-12-20T16:46:35.830Z"
      },
      {
        "duration": 1594,
        "start_time": "2022-12-20T16:46:40.744Z"
      },
      {
        "duration": 445,
        "start_time": "2022-12-20T16:46:42.340Z"
      },
      {
        "duration": 103,
        "start_time": "2022-12-20T16:46:42.787Z"
      },
      {
        "duration": 97,
        "start_time": "2022-12-20T16:46:42.892Z"
      },
      {
        "duration": 113,
        "start_time": "2022-12-20T16:46:42.991Z"
      },
      {
        "duration": 20,
        "start_time": "2022-12-20T16:46:43.105Z"
      },
      {
        "duration": 51,
        "start_time": "2022-12-20T16:46:43.127Z"
      },
      {
        "duration": 5377,
        "start_time": "2022-12-20T16:46:43.180Z"
      },
      {
        "duration": 20,
        "start_time": "2022-12-20T16:46:48.559Z"
      },
      {
        "duration": 273,
        "start_time": "2022-12-20T16:46:48.581Z"
      },
      {
        "duration": 1861,
        "start_time": "2022-12-20T16:46:48.857Z"
      },
      {
        "duration": 3,
        "start_time": "2022-12-20T16:46:50.720Z"
      },
      {
        "duration": 338,
        "start_time": "2022-12-20T16:46:50.724Z"
      },
      {
        "duration": 90,
        "start_time": "2022-12-20T16:46:51.069Z"
      },
      {
        "duration": 405,
        "start_time": "2022-12-20T16:46:51.164Z"
      },
      {
        "duration": 85,
        "start_time": "2022-12-20T16:46:51.574Z"
      },
      {
        "duration": 96,
        "start_time": "2022-12-20T16:46:51.661Z"
      },
      {
        "duration": 299,
        "start_time": "2022-12-20T16:46:51.764Z"
      },
      {
        "duration": 188,
        "start_time": "2022-12-20T16:46:52.065Z"
      },
      {
        "duration": 404,
        "start_time": "2022-12-20T16:46:52.255Z"
      },
      {
        "duration": 6,
        "start_time": "2022-12-20T16:46:52.661Z"
      },
      {
        "duration": 0,
        "start_time": "2022-12-20T16:46:52.669Z"
      },
      {
        "duration": 0,
        "start_time": "2022-12-20T16:46:52.670Z"
      },
      {
        "duration": 0,
        "start_time": "2022-12-20T16:46:52.671Z"
      },
      {
        "duration": 0,
        "start_time": "2022-12-20T16:46:52.672Z"
      },
      {
        "duration": 1630,
        "start_time": "2022-12-20T16:49:28.369Z"
      },
      {
        "duration": 427,
        "start_time": "2022-12-20T16:49:30.002Z"
      },
      {
        "duration": 111,
        "start_time": "2022-12-20T16:49:30.431Z"
      },
      {
        "duration": 112,
        "start_time": "2022-12-20T16:49:30.544Z"
      },
      {
        "duration": 115,
        "start_time": "2022-12-20T16:49:30.658Z"
      },
      {
        "duration": 20,
        "start_time": "2022-12-20T16:49:30.774Z"
      },
      {
        "duration": 17,
        "start_time": "2022-12-20T16:49:30.796Z"
      },
      {
        "duration": 4894,
        "start_time": "2022-12-20T16:49:30.815Z"
      },
      {
        "duration": 18,
        "start_time": "2022-12-20T16:49:35.711Z"
      },
      {
        "duration": 433,
        "start_time": "2022-12-20T16:49:35.732Z"
      },
      {
        "duration": 1591,
        "start_time": "2022-12-20T16:49:36.252Z"
      },
      {
        "duration": 6,
        "start_time": "2022-12-20T16:49:37.845Z"
      },
      {
        "duration": 406,
        "start_time": "2022-12-20T16:49:37.853Z"
      },
      {
        "duration": 86,
        "start_time": "2022-12-20T16:49:38.267Z"
      },
      {
        "duration": 304,
        "start_time": "2022-12-20T16:49:38.355Z"
      },
      {
        "duration": 91,
        "start_time": "2022-12-20T16:49:38.662Z"
      },
      {
        "duration": 127,
        "start_time": "2022-12-20T16:49:38.755Z"
      },
      {
        "duration": 379,
        "start_time": "2022-12-20T16:49:38.884Z"
      },
      {
        "duration": 99,
        "start_time": "2022-12-20T16:49:39.352Z"
      },
      {
        "duration": 410,
        "start_time": "2022-12-20T16:49:39.453Z"
      },
      {
        "duration": 94,
        "start_time": "2022-12-20T16:49:39.866Z"
      },
      {
        "duration": 503,
        "start_time": "2022-12-20T16:49:39.963Z"
      },
      {
        "duration": 83,
        "start_time": "2022-12-20T16:49:40.468Z"
      },
      {
        "duration": 610,
        "start_time": "2022-12-20T16:49:40.553Z"
      },
      {
        "duration": 197,
        "start_time": "2022-12-20T16:49:41.164Z"
      },
      {
        "duration": 1498,
        "start_time": "2022-12-20T16:51:01.187Z"
      },
      {
        "duration": 442,
        "start_time": "2022-12-20T16:51:02.687Z"
      },
      {
        "duration": 100,
        "start_time": "2022-12-20T16:51:03.131Z"
      },
      {
        "duration": 94,
        "start_time": "2022-12-20T16:51:03.233Z"
      },
      {
        "duration": 100,
        "start_time": "2022-12-20T16:51:03.329Z"
      },
      {
        "duration": 31,
        "start_time": "2022-12-20T16:51:03.430Z"
      },
      {
        "duration": 16,
        "start_time": "2022-12-20T16:51:03.462Z"
      },
      {
        "duration": 4978,
        "start_time": "2022-12-20T16:51:03.479Z"
      },
      {
        "duration": 16,
        "start_time": "2022-12-20T16:51:08.458Z"
      },
      {
        "duration": 383,
        "start_time": "2022-12-20T16:51:08.475Z"
      },
      {
        "duration": 1804,
        "start_time": "2022-12-20T16:51:08.860Z"
      },
      {
        "duration": 4,
        "start_time": "2022-12-20T16:51:10.666Z"
      },
      {
        "duration": 378,
        "start_time": "2022-12-20T16:51:10.672Z"
      },
      {
        "duration": 94,
        "start_time": "2022-12-20T16:51:11.056Z"
      },
      {
        "duration": 306,
        "start_time": "2022-12-20T16:51:11.152Z"
      },
      {
        "duration": 92,
        "start_time": "2022-12-20T16:51:11.461Z"
      },
      {
        "duration": 94,
        "start_time": "2022-12-20T16:51:11.558Z"
      },
      {
        "duration": 400,
        "start_time": "2022-12-20T16:51:11.654Z"
      },
      {
        "duration": 96,
        "start_time": "2022-12-20T16:51:12.057Z"
      },
      {
        "duration": 597,
        "start_time": "2022-12-20T16:51:12.155Z"
      },
      {
        "duration": 101,
        "start_time": "2022-12-20T16:51:12.754Z"
      },
      {
        "duration": 410,
        "start_time": "2022-12-20T16:51:12.857Z"
      },
      {
        "duration": 83,
        "start_time": "2022-12-20T16:51:13.269Z"
      },
      {
        "duration": 516,
        "start_time": "2022-12-20T16:51:13.354Z"
      },
      {
        "duration": 199,
        "start_time": "2022-12-20T16:51:13.872Z"
      },
      {
        "duration": 6,
        "start_time": "2022-12-20T16:53:48.830Z"
      },
      {
        "duration": 1515,
        "start_time": "2022-12-20T16:54:00.699Z"
      },
      {
        "duration": 708,
        "start_time": "2022-12-20T16:54:02.217Z"
      },
      {
        "duration": 100,
        "start_time": "2022-12-20T16:54:02.927Z"
      },
      {
        "duration": 96,
        "start_time": "2022-12-20T16:54:03.029Z"
      },
      {
        "duration": 103,
        "start_time": "2022-12-20T16:54:03.127Z"
      },
      {
        "duration": 26,
        "start_time": "2022-12-20T16:54:03.232Z"
      },
      {
        "duration": 16,
        "start_time": "2022-12-20T16:54:03.260Z"
      },
      {
        "duration": 4876,
        "start_time": "2022-12-20T16:54:03.277Z"
      },
      {
        "duration": 16,
        "start_time": "2022-12-20T16:54:08.156Z"
      },
      {
        "duration": 380,
        "start_time": "2022-12-20T16:54:08.175Z"
      },
      {
        "duration": 1907,
        "start_time": "2022-12-20T16:54:08.557Z"
      },
      {
        "duration": 3,
        "start_time": "2022-12-20T16:54:10.466Z"
      },
      {
        "duration": 381,
        "start_time": "2022-12-20T16:54:10.470Z"
      },
      {
        "duration": 97,
        "start_time": "2022-12-20T16:54:10.853Z"
      },
      {
        "duration": 403,
        "start_time": "2022-12-20T16:54:10.953Z"
      },
      {
        "duration": 4,
        "start_time": "2022-12-20T16:54:11.359Z"
      },
      {
        "duration": 110,
        "start_time": "2022-12-20T16:54:11.452Z"
      },
      {
        "duration": 299,
        "start_time": "2022-12-20T16:54:11.564Z"
      },
      {
        "duration": 4,
        "start_time": "2022-12-20T16:54:11.950Z"
      },
      {
        "duration": 114,
        "start_time": "2022-12-20T16:54:11.956Z"
      },
      {
        "duration": 388,
        "start_time": "2022-12-20T16:54:12.072Z"
      },
      {
        "duration": 186,
        "start_time": "2022-12-20T16:54:12.465Z"
      },
      {
        "duration": 404,
        "start_time": "2022-12-20T16:54:12.653Z"
      },
      {
        "duration": 93,
        "start_time": "2022-12-20T16:54:13.059Z"
      },
      {
        "duration": 596,
        "start_time": "2022-12-20T16:54:13.155Z"
      },
      {
        "duration": 198,
        "start_time": "2022-12-20T16:54:13.754Z"
      },
      {
        "duration": 280,
        "start_time": "2022-12-20T16:55:36.587Z"
      },
      {
        "duration": 1540,
        "start_time": "2022-12-20T16:55:58.518Z"
      },
      {
        "duration": 436,
        "start_time": "2022-12-20T16:56:00.060Z"
      },
      {
        "duration": 111,
        "start_time": "2022-12-20T16:56:00.498Z"
      },
      {
        "duration": 111,
        "start_time": "2022-12-20T16:56:00.612Z"
      },
      {
        "duration": 102,
        "start_time": "2022-12-20T16:56:00.724Z"
      },
      {
        "duration": 29,
        "start_time": "2022-12-20T16:56:00.828Z"
      },
      {
        "duration": 27,
        "start_time": "2022-12-20T16:56:00.859Z"
      },
      {
        "duration": 4925,
        "start_time": "2022-12-20T16:56:00.888Z"
      },
      {
        "duration": 16,
        "start_time": "2022-12-20T16:56:05.814Z"
      },
      {
        "duration": 430,
        "start_time": "2022-12-20T16:56:05.833Z"
      },
      {
        "duration": 1781,
        "start_time": "2022-12-20T16:56:06.265Z"
      },
      {
        "duration": 3,
        "start_time": "2022-12-20T16:56:08.050Z"
      },
      {
        "duration": 305,
        "start_time": "2022-12-20T16:56:08.055Z"
      },
      {
        "duration": 8,
        "start_time": "2022-12-20T16:56:08.452Z"
      },
      {
        "duration": 402,
        "start_time": "2022-12-20T16:56:08.552Z"
      },
      {
        "duration": 95,
        "start_time": "2022-12-20T16:56:08.956Z"
      },
      {
        "duration": 21,
        "start_time": "2022-12-20T16:56:09.054Z"
      },
      {
        "duration": 376,
        "start_time": "2022-12-20T16:56:09.078Z"
      },
      {
        "duration": 96,
        "start_time": "2022-12-20T16:56:09.457Z"
      },
      {
        "duration": 144,
        "start_time": "2022-12-20T16:56:09.560Z"
      },
      {
        "duration": 449,
        "start_time": "2022-12-20T16:56:09.706Z"
      },
      {
        "duration": 194,
        "start_time": "2022-12-20T16:56:10.157Z"
      },
      {
        "duration": 406,
        "start_time": "2022-12-20T16:56:10.353Z"
      },
      {
        "duration": 93,
        "start_time": "2022-12-20T16:56:10.761Z"
      },
      {
        "duration": 515,
        "start_time": "2022-12-20T16:56:10.856Z"
      },
      {
        "duration": 197,
        "start_time": "2022-12-20T16:56:11.458Z"
      },
      {
        "duration": 1591,
        "start_time": "2022-12-20T16:58:29.740Z"
      },
      {
        "duration": 486,
        "start_time": "2022-12-20T16:58:31.333Z"
      },
      {
        "duration": 114,
        "start_time": "2022-12-20T16:58:31.821Z"
      },
      {
        "duration": 121,
        "start_time": "2022-12-20T16:58:31.938Z"
      },
      {
        "duration": 132,
        "start_time": "2022-12-20T16:58:32.062Z"
      },
      {
        "duration": 23,
        "start_time": "2022-12-20T16:58:32.195Z"
      },
      {
        "duration": 46,
        "start_time": "2022-12-20T16:58:32.221Z"
      },
      {
        "duration": 5059,
        "start_time": "2022-12-20T16:58:32.270Z"
      },
      {
        "duration": 22,
        "start_time": "2022-12-20T16:58:37.331Z"
      },
      {
        "duration": 304,
        "start_time": "2022-12-20T16:58:37.357Z"
      },
      {
        "duration": 1746,
        "start_time": "2022-12-20T16:58:37.664Z"
      },
      {
        "duration": 3,
        "start_time": "2022-12-20T16:58:39.413Z"
      },
      {
        "duration": 29,
        "start_time": "2022-12-20T16:58:39.418Z"
      },
      {
        "duration": 35,
        "start_time": "2022-12-20T16:58:39.449Z"
      },
      {
        "duration": 12,
        "start_time": "2022-12-20T16:58:39.486Z"
      },
      {
        "duration": 36,
        "start_time": "2022-12-20T16:58:39.504Z"
      },
      {
        "duration": 29,
        "start_time": "2022-12-20T16:58:39.542Z"
      },
      {
        "duration": 49,
        "start_time": "2022-12-20T16:58:39.573Z"
      },
      {
        "duration": 347,
        "start_time": "2022-12-20T16:58:39.624Z"
      },
      {
        "duration": 282,
        "start_time": "2022-12-20T16:58:39.972Z"
      },
      {
        "duration": 5,
        "start_time": "2022-12-20T17:11:26.330Z"
      },
      {
        "duration": 331,
        "start_time": "2022-12-20T17:11:26.739Z"
      },
      {
        "duration": 6,
        "start_time": "2022-12-20T17:42:21.121Z"
      },
      {
        "duration": 137,
        "start_time": "2022-12-20T17:42:34.688Z"
      },
      {
        "duration": 7,
        "start_time": "2022-12-20T17:44:52.826Z"
      },
      {
        "duration": 175,
        "start_time": "2022-12-20T17:44:53.481Z"
      },
      {
        "duration": 7,
        "start_time": "2022-12-20T17:45:10.351Z"
      },
      {
        "duration": 192,
        "start_time": "2022-12-20T17:45:11.661Z"
      },
      {
        "duration": 7,
        "start_time": "2022-12-20T17:45:17.497Z"
      },
      {
        "duration": 129,
        "start_time": "2022-12-20T17:45:17.731Z"
      },
      {
        "duration": 7,
        "start_time": "2022-12-20T17:46:04.328Z"
      },
      {
        "duration": 1120,
        "start_time": "2022-12-20T17:46:04.823Z"
      },
      {
        "duration": 9,
        "start_time": "2022-12-20T17:48:15.366Z"
      },
      {
        "duration": 1009,
        "start_time": "2022-12-20T17:48:16.090Z"
      },
      {
        "duration": 6,
        "start_time": "2022-12-20T17:51:05.138Z"
      },
      {
        "duration": 3816,
        "start_time": "2022-12-20T17:51:05.821Z"
      },
      {
        "duration": 7,
        "start_time": "2022-12-20T17:51:24.383Z"
      },
      {
        "duration": 3806,
        "start_time": "2022-12-20T17:51:24.641Z"
      },
      {
        "duration": 9,
        "start_time": "2022-12-20T17:54:23.621Z"
      },
      {
        "duration": 231,
        "start_time": "2022-12-20T17:54:24.631Z"
      },
      {
        "duration": 7,
        "start_time": "2022-12-20T17:54:36.890Z"
      },
      {
        "duration": 6459,
        "start_time": "2022-12-20T17:54:38.012Z"
      },
      {
        "duration": 7,
        "start_time": "2022-12-20T17:55:11.873Z"
      },
      {
        "duration": 3983,
        "start_time": "2022-12-20T17:55:12.160Z"
      },
      {
        "duration": 10,
        "start_time": "2022-12-20T18:02:14.944Z"
      },
      {
        "duration": 4339,
        "start_time": "2022-12-20T18:02:16.253Z"
      },
      {
        "duration": 12,
        "start_time": "2022-12-20T18:02:50.876Z"
      },
      {
        "duration": 3825,
        "start_time": "2022-12-20T18:02:51.425Z"
      },
      {
        "duration": 5,
        "start_time": "2022-12-20T18:04:20.771Z"
      },
      {
        "duration": 421,
        "start_time": "2022-12-20T18:04:21.949Z"
      },
      {
        "duration": 77,
        "start_time": "2022-12-20T18:09:39.631Z"
      },
      {
        "duration": 35,
        "start_time": "2022-12-20T18:09:47.250Z"
      },
      {
        "duration": 35,
        "start_time": "2022-12-20T18:09:51.218Z"
      },
      {
        "duration": 101,
        "start_time": "2022-12-20T18:10:04.551Z"
      },
      {
        "duration": 31,
        "start_time": "2022-12-20T18:10:43.630Z"
      },
      {
        "duration": 49,
        "start_time": "2022-12-20T18:10:59.710Z"
      },
      {
        "duration": 49,
        "start_time": "2022-12-20T18:11:04.507Z"
      },
      {
        "duration": 232,
        "start_time": "2022-12-20T18:12:01.719Z"
      },
      {
        "duration": 10,
        "start_time": "2022-12-20T18:13:08.669Z"
      },
      {
        "duration": 85,
        "start_time": "2022-12-20T18:13:37.780Z"
      },
      {
        "duration": 5,
        "start_time": "2022-12-20T18:14:52.416Z"
      },
      {
        "duration": 10,
        "start_time": "2022-12-20T18:14:53.270Z"
      },
      {
        "duration": 19,
        "start_time": "2022-12-20T18:15:11.650Z"
      },
      {
        "duration": 6,
        "start_time": "2022-12-20T18:15:21.186Z"
      },
      {
        "duration": 20,
        "start_time": "2022-12-20T18:15:21.512Z"
      },
      {
        "duration": 6,
        "start_time": "2022-12-20T18:16:07.870Z"
      },
      {
        "duration": 21,
        "start_time": "2022-12-20T18:16:08.419Z"
      },
      {
        "duration": 9,
        "start_time": "2022-12-20T18:17:19.557Z"
      },
      {
        "duration": 21,
        "start_time": "2022-12-20T18:17:20.229Z"
      },
      {
        "duration": 7,
        "start_time": "2022-12-20T18:18:11.131Z"
      },
      {
        "duration": 1750,
        "start_time": "2022-12-20T18:18:11.669Z"
      },
      {
        "duration": 6,
        "start_time": "2022-12-20T18:18:32.521Z"
      },
      {
        "duration": 1751,
        "start_time": "2022-12-20T18:18:33.550Z"
      },
      {
        "duration": 237,
        "start_time": "2022-12-20T18:19:09.221Z"
      },
      {
        "duration": 7,
        "start_time": "2022-12-20T18:19:16.816Z"
      },
      {
        "duration": 1973,
        "start_time": "2022-12-20T18:19:18.205Z"
      },
      {
        "duration": 14,
        "start_time": "2022-12-20T18:19:34.426Z"
      },
      {
        "duration": 13,
        "start_time": "2022-12-20T18:19:36.917Z"
      },
      {
        "duration": 343,
        "start_time": "2022-12-20T18:19:51.926Z"
      },
      {
        "duration": 238,
        "start_time": "2022-12-20T18:20:23.814Z"
      },
      {
        "duration": 415,
        "start_time": "2022-12-20T18:20:34.268Z"
      },
      {
        "duration": 330,
        "start_time": "2022-12-20T18:25:30.632Z"
      },
      {
        "duration": 398,
        "start_time": "2022-12-20T18:25:32.056Z"
      },
      {
        "duration": 7,
        "start_time": "2022-12-20T18:25:35.303Z"
      },
      {
        "duration": 1868,
        "start_time": "2022-12-20T18:25:35.945Z"
      },
      {
        "duration": 9,
        "start_time": "2022-12-20T18:27:28.465Z"
      },
      {
        "duration": 1944,
        "start_time": "2022-12-20T18:27:29.327Z"
      },
      {
        "duration": 8,
        "start_time": "2022-12-20T18:28:45.419Z"
      },
      {
        "duration": 1870,
        "start_time": "2022-12-20T18:28:45.610Z"
      },
      {
        "duration": 7,
        "start_time": "2022-12-20T18:29:04.784Z"
      },
      {
        "duration": 1778,
        "start_time": "2022-12-20T18:29:06.301Z"
      },
      {
        "duration": 6,
        "start_time": "2022-12-20T18:29:14.724Z"
      },
      {
        "duration": 6,
        "start_time": "2022-12-20T18:29:54.284Z"
      },
      {
        "duration": 1871,
        "start_time": "2022-12-20T18:29:54.623Z"
      },
      {
        "duration": 6,
        "start_time": "2022-12-20T18:31:06.584Z"
      },
      {
        "duration": 1950,
        "start_time": "2022-12-20T18:31:07.373Z"
      },
      {
        "duration": 6,
        "start_time": "2022-12-20T18:31:54.161Z"
      },
      {
        "duration": 2344,
        "start_time": "2022-12-20T18:31:54.702Z"
      },
      {
        "duration": 8,
        "start_time": "2022-12-20T18:32:10.823Z"
      },
      {
        "duration": 2284,
        "start_time": "2022-12-20T18:32:11.310Z"
      },
      {
        "duration": 2242,
        "start_time": "2022-12-20T18:32:45.540Z"
      },
      {
        "duration": 12,
        "start_time": "2022-12-20T18:32:50.701Z"
      },
      {
        "duration": 11,
        "start_time": "2022-12-20T18:32:57.022Z"
      },
      {
        "duration": 6,
        "start_time": "2022-12-20T18:33:08.375Z"
      },
      {
        "duration": 10,
        "start_time": "2022-12-20T18:33:08.817Z"
      },
      {
        "duration": 6,
        "start_time": "2022-12-20T18:36:44.908Z"
      },
      {
        "duration": 10,
        "start_time": "2022-12-20T18:36:45.736Z"
      },
      {
        "duration": 1751,
        "start_time": "2022-12-20T18:37:01.443Z"
      },
      {
        "duration": 74,
        "start_time": "2022-12-20T18:40:53.856Z"
      },
      {
        "duration": 6,
        "start_time": "2022-12-20T18:40:57.691Z"
      },
      {
        "duration": 1867,
        "start_time": "2022-12-20T18:40:57.977Z"
      },
      {
        "duration": 320,
        "start_time": "2022-12-20T18:40:59.846Z"
      },
      {
        "duration": 6,
        "start_time": "2022-12-20T18:41:16.992Z"
      },
      {
        "duration": 1767,
        "start_time": "2022-12-20T18:41:17.285Z"
      },
      {
        "duration": 7,
        "start_time": "2022-12-20T18:41:40.741Z"
      },
      {
        "duration": 1752,
        "start_time": "2022-12-20T18:41:41.201Z"
      },
      {
        "duration": 8,
        "start_time": "2022-12-20T18:41:48.521Z"
      },
      {
        "duration": 1980,
        "start_time": "2022-12-20T18:41:48.796Z"
      },
      {
        "duration": 1577,
        "start_time": "2022-12-20T18:42:48.461Z"
      },
      {
        "duration": 444,
        "start_time": "2022-12-20T18:42:50.040Z"
      },
      {
        "duration": 122,
        "start_time": "2022-12-20T18:42:50.485Z"
      },
      {
        "duration": 106,
        "start_time": "2022-12-20T18:42:50.608Z"
      },
      {
        "duration": 99,
        "start_time": "2022-12-20T18:42:50.717Z"
      },
      {
        "duration": 18,
        "start_time": "2022-12-20T18:42:50.817Z"
      },
      {
        "duration": 31,
        "start_time": "2022-12-20T18:42:50.836Z"
      },
      {
        "duration": 4919,
        "start_time": "2022-12-20T18:42:50.869Z"
      },
      {
        "duration": 17,
        "start_time": "2022-12-20T18:42:55.790Z"
      },
      {
        "duration": 119,
        "start_time": "2022-12-20T18:42:55.809Z"
      },
      {
        "duration": 0,
        "start_time": "2022-12-20T18:42:55.930Z"
      },
      {
        "duration": 0,
        "start_time": "2022-12-20T18:42:55.931Z"
      },
      {
        "duration": 0,
        "start_time": "2022-12-20T18:42:55.932Z"
      },
      {
        "duration": 0,
        "start_time": "2022-12-20T18:42:55.934Z"
      },
      {
        "duration": 0,
        "start_time": "2022-12-20T18:42:55.935Z"
      },
      {
        "duration": 0,
        "start_time": "2022-12-20T18:42:55.935Z"
      },
      {
        "duration": 0,
        "start_time": "2022-12-20T18:42:55.937Z"
      },
      {
        "duration": 0,
        "start_time": "2022-12-20T18:42:55.951Z"
      },
      {
        "duration": 0,
        "start_time": "2022-12-20T18:42:55.953Z"
      },
      {
        "duration": 0,
        "start_time": "2022-12-20T18:42:55.954Z"
      },
      {
        "duration": 0,
        "start_time": "2022-12-20T18:42:55.955Z"
      },
      {
        "duration": 0,
        "start_time": "2022-12-20T18:42:55.956Z"
      },
      {
        "duration": 0,
        "start_time": "2022-12-20T18:42:55.957Z"
      },
      {
        "duration": 0,
        "start_time": "2022-12-20T18:42:55.958Z"
      },
      {
        "duration": 0,
        "start_time": "2022-12-20T18:42:55.959Z"
      },
      {
        "duration": 1431,
        "start_time": "2022-12-20T18:43:12.041Z"
      },
      {
        "duration": 415,
        "start_time": "2022-12-20T18:43:13.474Z"
      },
      {
        "duration": 111,
        "start_time": "2022-12-20T18:43:13.891Z"
      },
      {
        "duration": 104,
        "start_time": "2022-12-20T18:43:14.005Z"
      },
      {
        "duration": 140,
        "start_time": "2022-12-20T18:43:14.112Z"
      },
      {
        "duration": 23,
        "start_time": "2022-12-20T18:43:14.254Z"
      },
      {
        "duration": 36,
        "start_time": "2022-12-20T18:43:14.279Z"
      },
      {
        "duration": 5075,
        "start_time": "2022-12-20T18:43:14.318Z"
      },
      {
        "duration": 21,
        "start_time": "2022-12-20T18:43:19.395Z"
      },
      {
        "duration": 140,
        "start_time": "2022-12-20T18:43:19.419Z"
      },
      {
        "duration": 0,
        "start_time": "2022-12-20T18:43:19.561Z"
      },
      {
        "duration": 0,
        "start_time": "2022-12-20T18:43:19.564Z"
      },
      {
        "duration": 0,
        "start_time": "2022-12-20T18:43:19.565Z"
      },
      {
        "duration": 0,
        "start_time": "2022-12-20T18:43:19.567Z"
      },
      {
        "duration": 0,
        "start_time": "2022-12-20T18:43:19.569Z"
      },
      {
        "duration": 0,
        "start_time": "2022-12-20T18:43:19.571Z"
      },
      {
        "duration": 0,
        "start_time": "2022-12-20T18:43:19.572Z"
      },
      {
        "duration": 0,
        "start_time": "2022-12-20T18:43:19.574Z"
      },
      {
        "duration": 0,
        "start_time": "2022-12-20T18:43:19.576Z"
      },
      {
        "duration": 0,
        "start_time": "2022-12-20T18:43:19.578Z"
      },
      {
        "duration": 0,
        "start_time": "2022-12-20T18:43:19.580Z"
      },
      {
        "duration": 0,
        "start_time": "2022-12-20T18:43:19.581Z"
      },
      {
        "duration": 0,
        "start_time": "2022-12-20T18:43:19.582Z"
      },
      {
        "duration": 0,
        "start_time": "2022-12-20T18:43:19.584Z"
      },
      {
        "duration": 496,
        "start_time": "2022-12-20T18:43:31.056Z"
      },
      {
        "duration": 1613,
        "start_time": "2022-12-20T18:43:35.688Z"
      },
      {
        "duration": 3,
        "start_time": "2022-12-20T18:43:39.462Z"
      },
      {
        "duration": 6,
        "start_time": "2022-12-20T18:43:40.040Z"
      },
      {
        "duration": 3,
        "start_time": "2022-12-20T18:43:40.942Z"
      },
      {
        "duration": 4,
        "start_time": "2022-12-20T18:43:41.910Z"
      },
      {
        "duration": 9,
        "start_time": "2022-12-20T18:43:42.592Z"
      },
      {
        "duration": 12,
        "start_time": "2022-12-20T18:43:43.680Z"
      },
      {
        "duration": 6,
        "start_time": "2022-12-20T18:43:47.016Z"
      },
      {
        "duration": 442,
        "start_time": "2022-12-20T18:43:47.922Z"
      },
      {
        "duration": 417,
        "start_time": "2022-12-20T18:44:01.837Z"
      },
      {
        "duration": 259,
        "start_time": "2022-12-20T18:44:08.504Z"
      },
      {
        "duration": 7,
        "start_time": "2022-12-20T18:44:14.573Z"
      },
      {
        "duration": 1865,
        "start_time": "2022-12-20T18:44:15.740Z"
      },
      {
        "duration": 6,
        "start_time": "2022-12-20T18:45:58.742Z"
      },
      {
        "duration": 1862,
        "start_time": "2022-12-20T18:45:59.237Z"
      },
      {
        "duration": 6,
        "start_time": "2022-12-20T18:46:24.681Z"
      },
      {
        "duration": 1810,
        "start_time": "2022-12-20T18:46:25.236Z"
      },
      {
        "duration": 5,
        "start_time": "2022-12-20T18:46:54.892Z"
      },
      {
        "duration": 1791,
        "start_time": "2022-12-20T18:46:55.520Z"
      },
      {
        "duration": 10,
        "start_time": "2022-12-20T18:49:13.014Z"
      },
      {
        "duration": 8,
        "start_time": "2022-12-20T18:49:17.542Z"
      },
      {
        "duration": 1757,
        "start_time": "2022-12-20T18:49:17.971Z"
      },
      {
        "duration": 7,
        "start_time": "2022-12-20T18:49:26.818Z"
      },
      {
        "duration": 1558,
        "start_time": "2022-12-20T18:49:27.227Z"
      },
      {
        "duration": 6,
        "start_time": "2022-12-20T18:49:43.260Z"
      },
      {
        "duration": 7,
        "start_time": "2022-12-20T18:49:48.123Z"
      },
      {
        "duration": 1700,
        "start_time": "2022-12-20T18:49:48.365Z"
      },
      {
        "duration": 4930,
        "start_time": "2022-12-20T18:50:15.218Z"
      },
      {
        "duration": 7,
        "start_time": "2022-12-20T18:50:50.638Z"
      },
      {
        "duration": 5648,
        "start_time": "2022-12-20T18:50:51.039Z"
      },
      {
        "duration": 8,
        "start_time": "2022-12-20T18:51:10.788Z"
      },
      {
        "duration": 5482,
        "start_time": "2022-12-20T18:51:11.603Z"
      },
      {
        "duration": 270,
        "start_time": "2022-12-20T18:51:25.796Z"
      },
      {
        "duration": 357,
        "start_time": "2022-12-20T18:52:00.008Z"
      },
      {
        "duration": 11,
        "start_time": "2022-12-20T18:52:50.229Z"
      },
      {
        "duration": 5427,
        "start_time": "2022-12-20T18:52:50.482Z"
      },
      {
        "duration": 9,
        "start_time": "2022-12-20T18:53:08.605Z"
      },
      {
        "duration": 5594,
        "start_time": "2022-12-20T18:53:08.881Z"
      },
      {
        "duration": 386,
        "start_time": "2022-12-20T18:53:14.478Z"
      },
      {
        "duration": 6,
        "start_time": "2022-12-20T18:53:21.441Z"
      },
      {
        "duration": 4722,
        "start_time": "2022-12-20T18:53:21.845Z"
      },
      {
        "duration": 7,
        "start_time": "2022-12-20T18:53:52.834Z"
      },
      {
        "duration": 4619,
        "start_time": "2022-12-20T18:53:53.479Z"
      },
      {
        "duration": 7,
        "start_time": "2022-12-20T18:55:12.932Z"
      },
      {
        "duration": 4733,
        "start_time": "2022-12-20T18:55:13.301Z"
      },
      {
        "duration": 6,
        "start_time": "2022-12-20T18:55:21.722Z"
      },
      {
        "duration": 4492,
        "start_time": "2022-12-20T18:55:22.260Z"
      },
      {
        "duration": 7,
        "start_time": "2022-12-20T18:55:45.932Z"
      },
      {
        "duration": 5132,
        "start_time": "2022-12-20T18:55:46.789Z"
      },
      {
        "duration": 72,
        "start_time": "2022-12-20T18:57:12.434Z"
      },
      {
        "duration": 7,
        "start_time": "2022-12-20T18:57:16.210Z"
      },
      {
        "duration": 4706,
        "start_time": "2022-12-20T18:57:17.030Z"
      },
      {
        "duration": 7,
        "start_time": "2022-12-20T18:57:53.302Z"
      },
      {
        "duration": 14,
        "start_time": "2022-12-20T18:57:53.831Z"
      },
      {
        "duration": 8,
        "start_time": "2022-12-20T18:58:07.165Z"
      },
      {
        "duration": 5484,
        "start_time": "2022-12-20T18:58:07.793Z"
      },
      {
        "duration": 7,
        "start_time": "2022-12-20T18:58:19.467Z"
      },
      {
        "duration": 5190,
        "start_time": "2022-12-20T18:58:19.731Z"
      },
      {
        "duration": 8,
        "start_time": "2022-12-20T18:58:32.352Z"
      },
      {
        "duration": 4875,
        "start_time": "2022-12-20T18:58:32.869Z"
      },
      {
        "duration": 9,
        "start_time": "2022-12-20T19:00:12.471Z"
      },
      {
        "duration": 4656,
        "start_time": "2022-12-20T19:00:12.826Z"
      },
      {
        "duration": 7,
        "start_time": "2022-12-20T19:00:19.112Z"
      },
      {
        "duration": 4778,
        "start_time": "2022-12-20T19:00:19.700Z"
      },
      {
        "duration": 7,
        "start_time": "2022-12-20T19:00:31.212Z"
      },
      {
        "duration": 4683,
        "start_time": "2022-12-20T19:00:32.084Z"
      },
      {
        "duration": 7,
        "start_time": "2022-12-20T19:07:51.979Z"
      },
      {
        "duration": 4460,
        "start_time": "2022-12-20T19:07:52.331Z"
      },
      {
        "duration": 7,
        "start_time": "2022-12-20T19:08:58.240Z"
      },
      {
        "duration": 4730,
        "start_time": "2022-12-20T19:08:58.580Z"
      },
      {
        "duration": 7,
        "start_time": "2022-12-20T19:09:07.221Z"
      },
      {
        "duration": 5029,
        "start_time": "2022-12-20T19:09:07.869Z"
      },
      {
        "duration": 7,
        "start_time": "2022-12-20T19:09:15.000Z"
      },
      {
        "duration": 4720,
        "start_time": "2022-12-20T19:09:16.139Z"
      },
      {
        "duration": 7,
        "start_time": "2022-12-20T19:09:44.622Z"
      },
      {
        "duration": 4599,
        "start_time": "2022-12-20T19:09:44.888Z"
      },
      {
        "duration": 9,
        "start_time": "2022-12-20T19:09:56.340Z"
      },
      {
        "duration": 4767,
        "start_time": "2022-12-20T19:09:56.954Z"
      },
      {
        "duration": 12,
        "start_time": "2022-12-20T19:10:04.187Z"
      },
      {
        "duration": 4813,
        "start_time": "2022-12-20T19:10:04.799Z"
      },
      {
        "duration": 7,
        "start_time": "2022-12-20T19:10:16.690Z"
      },
      {
        "duration": 4835,
        "start_time": "2022-12-20T19:10:17.599Z"
      },
      {
        "duration": 7,
        "start_time": "2022-12-20T19:14:33.214Z"
      },
      {
        "duration": 4488,
        "start_time": "2022-12-20T19:14:34.216Z"
      },
      {
        "duration": 7,
        "start_time": "2022-12-20T19:15:07.010Z"
      },
      {
        "duration": 4625,
        "start_time": "2022-12-20T19:15:07.541Z"
      },
      {
        "duration": 4860,
        "start_time": "2022-12-20T19:30:07.301Z"
      },
      {
        "duration": 82,
        "start_time": "2022-12-20T19:31:07.860Z"
      },
      {
        "duration": 4712,
        "start_time": "2022-12-20T19:31:08.330Z"
      },
      {
        "duration": 9,
        "start_time": "2022-12-20T19:31:27.275Z"
      },
      {
        "duration": 4830,
        "start_time": "2022-12-20T19:31:28.080Z"
      },
      {
        "duration": 74,
        "start_time": "2022-12-20T19:32:57.242Z"
      },
      {
        "duration": 4889,
        "start_time": "2022-12-20T19:32:57.513Z"
      },
      {
        "duration": 72,
        "start_time": "2022-12-20T19:33:33.567Z"
      },
      {
        "duration": 4596,
        "start_time": "2022-12-20T19:33:33.976Z"
      },
      {
        "duration": 6,
        "start_time": "2022-12-20T19:33:41.732Z"
      },
      {
        "duration": 4657,
        "start_time": "2022-12-20T19:33:41.958Z"
      },
      {
        "duration": 6,
        "start_time": "2022-12-20T19:33:56.705Z"
      },
      {
        "duration": 4738,
        "start_time": "2022-12-20T19:33:56.944Z"
      },
      {
        "duration": 7,
        "start_time": "2022-12-20T19:34:03.958Z"
      },
      {
        "duration": 4676,
        "start_time": "2022-12-20T19:34:04.692Z"
      },
      {
        "duration": 6,
        "start_time": "2022-12-20T19:35:02.852Z"
      },
      {
        "duration": 4823,
        "start_time": "2022-12-20T19:35:03.049Z"
      },
      {
        "duration": 8,
        "start_time": "2022-12-20T19:35:12.783Z"
      },
      {
        "duration": 5501,
        "start_time": "2022-12-20T19:35:13.024Z"
      },
      {
        "duration": 7,
        "start_time": "2022-12-20T19:35:28.129Z"
      },
      {
        "duration": 4697,
        "start_time": "2022-12-20T19:35:29.477Z"
      },
      {
        "duration": 8,
        "start_time": "2022-12-20T19:35:39.770Z"
      },
      {
        "duration": 4574,
        "start_time": "2022-12-20T19:35:39.973Z"
      },
      {
        "duration": 402,
        "start_time": "2022-12-20T19:39:08.453Z"
      },
      {
        "duration": 1559,
        "start_time": "2022-12-20T19:39:54.082Z"
      },
      {
        "duration": 472,
        "start_time": "2022-12-20T19:39:55.644Z"
      },
      {
        "duration": 119,
        "start_time": "2022-12-20T19:39:56.118Z"
      },
      {
        "duration": 119,
        "start_time": "2022-12-20T19:39:56.241Z"
      },
      {
        "duration": 123,
        "start_time": "2022-12-20T19:39:56.362Z"
      },
      {
        "duration": 22,
        "start_time": "2022-12-20T19:39:56.486Z"
      },
      {
        "duration": 42,
        "start_time": "2022-12-20T19:39:56.510Z"
      },
      {
        "duration": 6019,
        "start_time": "2022-12-20T19:39:56.554Z"
      },
      {
        "duration": 18,
        "start_time": "2022-12-20T19:40:02.575Z"
      },
      {
        "duration": 368,
        "start_time": "2022-12-20T19:40:02.596Z"
      },
      {
        "duration": 1707,
        "start_time": "2022-12-20T19:40:02.966Z"
      },
      {
        "duration": 4,
        "start_time": "2022-12-20T19:40:04.675Z"
      },
      {
        "duration": 10,
        "start_time": "2022-12-20T19:40:04.680Z"
      },
      {
        "duration": 4,
        "start_time": "2022-12-20T19:40:04.692Z"
      },
      {
        "duration": 7,
        "start_time": "2022-12-20T19:40:04.698Z"
      },
      {
        "duration": 13,
        "start_time": "2022-12-20T19:40:04.707Z"
      },
      {
        "duration": 41,
        "start_time": "2022-12-20T19:40:04.723Z"
      },
      {
        "duration": 7,
        "start_time": "2022-12-20T19:40:04.766Z"
      },
      {
        "duration": 399,
        "start_time": "2022-12-20T19:40:04.775Z"
      },
      {
        "duration": 481,
        "start_time": "2022-12-20T19:40:05.176Z"
      },
      {
        "duration": 92,
        "start_time": "2022-12-20T19:40:05.660Z"
      },
      {
        "duration": 5265,
        "start_time": "2022-12-20T19:40:05.754Z"
      },
      {
        "duration": 5,
        "start_time": "2022-12-20T19:40:55.090Z"
      },
      {
        "duration": 356,
        "start_time": "2022-12-20T19:40:56.404Z"
      },
      {
        "duration": 53,
        "start_time": "2022-12-21T06:01:47.059Z"
      }
    ],
    "kernelspec": {
      "display_name": "Python 3 (ipykernel)",
      "language": "python",
      "name": "python3"
    },
    "language_info": {
      "codemirror_mode": {
        "name": "ipython",
        "version": 3
      },
      "file_extension": ".py",
      "mimetype": "text/x-python",
      "name": "python",
      "nbconvert_exporter": "python",
      "pygments_lexer": "ipython3",
      "version": "3.9.5"
    },
    "toc": {
      "base_numbering": 1,
      "nav_menu": {},
      "number_sections": true,
      "sideBar": true,
      "skip_h1_title": true,
      "title_cell": "Table of Contents",
      "title_sidebar": "Contents",
      "toc_cell": false,
      "toc_position": {},
      "toc_section_display": true,
      "toc_window_display": false
    },
    "colab": {
      "provenance": []
    }
  },
  "nbformat": 4,
  "nbformat_minor": 0
}