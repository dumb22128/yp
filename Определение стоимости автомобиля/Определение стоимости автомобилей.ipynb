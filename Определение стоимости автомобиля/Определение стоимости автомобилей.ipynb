{
  "cells": [
    {
      "cell_type": "markdown",
      "metadata": {
        "id": "kqr-h70h3Po5"
      },
      "source": [
        "# Определение стоимости автомобилей"
      ]
    },
    {
      "cell_type": "markdown",
      "metadata": {
        "id": "8ovedDgr3Po5"
      },
      "source": [
        "Сервис по продаже автомобилей с пробегом «Не бит, не крашен» разрабатывает приложение для привлечения новых клиентов. В нём можно быстро узнать рыночную стоимость своего автомобиля. В вашем распоряжении исторические данные: технические характеристики, комплектации и цены автомобилей. Вам нужно построить модель для определения стоимости.\n",
        "\n",
        "Заказчику важны:\n",
        "\n",
        "- качество предсказания;\n",
        "- скорость предсказания;\n",
        "- время обучения.\n",
        "\n",
        "<h1>Основные шаги</h1>\n",
        "\n",
        "1. Загрузите данные, путь к файлу: /datasets/autos.csv.\n",
        "2. Изучите данные. Заполните пропущенные значения и обработайте аномалии в столбцах. Если среди признаков имеются неинформативные, удалите их.\n",
        "3. Подготовьте выборки для обучения моделей.\n",
        "4. Обучите разные модели, одна из которых — LightGBM, как минимум одна — не бустинг. Для каждой модели попробуйте разные гиперпараметры.\n",
        "5. Проанализируйте время обучения, время предсказания и качество моделей.\n",
        "6. Опираясь на критерии заказчика, выберете лучшую модель, проверьте её качество на тестовой выборке.\n",
        "\n",
        "<h1>Примечания</h1>\n",
        "\n",
        "- Для оценки качества моделей применяйте метрику RMSE.\n",
        "- Значение метрики RMSE должно быть меньше 2500.\n",
        "- Самостоятельно освойте библиотеку LightGBM и её средствами постройте модели градиентного бустинга.\n",
        "- Время выполнения ячейки кода Jupyter Notebook можно получить специальной командой. Найдите её.\n",
        "- Модель градиентного бустинга может долго обучаться, поэтому измените у неё только два-три параметра.\n",
        "- Если перестанет работать Jupyter Notebook, удалите лишние переменные оператором del.\n",
        "\n",
        "<h1>Описание данных</h1>\n",
        "\n",
        "Данные находятся в файле /datasets/autos.csv. Скачать датасет.\n",
        "\n",
        "<h1>Признаки</h1> DateCrawled DateCreated LastSeen RegistrationYear RegistrationMonth\n",
        "\n",
        "- *DateCrawled* — дата скачивания анкеты из базы\n",
        "- *VehicleType* — тип автомобильного кузова\n",
        "- *RegistrationYear* — год регистрации автомобиля\n",
        "- *Gearbox* — тип коробки передач\n",
        "- *Power* — мощность (л. с.)\n",
        "- *Model* — модель автомобиля\n",
        "- *Kilometer* — пробег (км)\n",
        "- *RegistrationMonth* — месяц регистрации автомобиля\n",
        "- *FuelType* — тип топлива\n",
        "- *Brand* — марка автомобиля\n",
        "- *Repaired* — была машина в ремонте или нет\n",
        "- *DateCreated* — дата создания анкеты\n",
        "- *NumberOfPictures* — количество фотографий автомобиля\n",
        "- *PostalCode* — почтовый индекс владельца анкеты (пользователя)\n",
        "- *LastSeen* — дата последней активности пользователя\n",
        "\n",
        "<h1>Целевой признак</h1>\n",
        "\n",
        "*Price — цена (евро)*"
      ]
    },
    {
      "cell_type": "markdown",
      "metadata": {
        "id": "enVDrl7d3Po6"
      },
      "source": [
        "## Подготовка данных"
      ]
    },
    {
      "cell_type": "code",
      "execution_count": null,
      "metadata": {
        "id": "VX_aUs5O3Po6"
      },
      "outputs": [],
      "source": [
        "import pandas as pd\n",
        "import numpy as np\n",
        "import matplotlib.pyplot as plt\n",
        "import seaborn as sns\n",
        "from sklearn.model_selection import train_test_split\n",
        "from sklearn.preprocessing import OrdinalEncoder\n",
        "from sklearn.tree import DecisionTreeRegressor\n",
        "from catboost import CatBoostRegressor, cv, train\n",
        "import lightgbm\n",
        "from sklearn.metrics import mean_squared_error\n",
        "import time\n",
        "from lightgbm import LGBMRegressor\n",
        "import warnings\n",
        "warnings.filterwarnings(\"ignore\")\n",
        "\n",
        "from sklearn.ensemble import RandomForestRegressor\n",
        "from sklearn.model_selection import GridSearchCV"
      ]
    },
    {
      "cell_type": "markdown",
      "metadata": {
        "id": "FHKhaqAO3Po7"
      },
      "source": [
        "<h3>Загрузите данные, путь к файлу: /datasets/autos.csv.</h3>"
      ]
    },
    {
      "cell_type": "code",
      "execution_count": null,
      "metadata": {
        "id": "9MpznkPn3Po7",
        "outputId": "9ea1933a-d406-40e2-bdf0-454c9bdcec60"
      },
      "outputs": [
        {
          "data": {
            "text/html": [
              "<div>\n",
              "<style scoped>\n",
              "    .dataframe tbody tr th:only-of-type {\n",
              "        vertical-align: middle;\n",
              "    }\n",
              "\n",
              "    .dataframe tbody tr th {\n",
              "        vertical-align: top;\n",
              "    }\n",
              "\n",
              "    .dataframe thead th {\n",
              "        text-align: right;\n",
              "    }\n",
              "</style>\n",
              "<table border=\"1\" class=\"dataframe\">\n",
              "  <thead>\n",
              "    <tr style=\"text-align: right;\">\n",
              "      <th></th>\n",
              "      <th>DateCrawled</th>\n",
              "      <th>Price</th>\n",
              "      <th>VehicleType</th>\n",
              "      <th>RegistrationYear</th>\n",
              "      <th>Gearbox</th>\n",
              "      <th>Power</th>\n",
              "      <th>Model</th>\n",
              "      <th>Kilometer</th>\n",
              "      <th>RegistrationMonth</th>\n",
              "      <th>FuelType</th>\n",
              "      <th>Brand</th>\n",
              "      <th>Repaired</th>\n",
              "      <th>DateCreated</th>\n",
              "      <th>NumberOfPictures</th>\n",
              "      <th>PostalCode</th>\n",
              "      <th>LastSeen</th>\n",
              "    </tr>\n",
              "  </thead>\n",
              "  <tbody>\n",
              "    <tr>\n",
              "      <th>0</th>\n",
              "      <td>2016-03-24 11:52:17</td>\n",
              "      <td>480</td>\n",
              "      <td>NaN</td>\n",
              "      <td>1993</td>\n",
              "      <td>manual</td>\n",
              "      <td>0</td>\n",
              "      <td>golf</td>\n",
              "      <td>150000</td>\n",
              "      <td>0</td>\n",
              "      <td>petrol</td>\n",
              "      <td>volkswagen</td>\n",
              "      <td>NaN</td>\n",
              "      <td>2016-03-24 00:00:00</td>\n",
              "      <td>0</td>\n",
              "      <td>70435</td>\n",
              "      <td>2016-04-07 03:16:57</td>\n",
              "    </tr>\n",
              "    <tr>\n",
              "      <th>1</th>\n",
              "      <td>2016-03-24 10:58:45</td>\n",
              "      <td>18300</td>\n",
              "      <td>coupe</td>\n",
              "      <td>2011</td>\n",
              "      <td>manual</td>\n",
              "      <td>190</td>\n",
              "      <td>NaN</td>\n",
              "      <td>125000</td>\n",
              "      <td>5</td>\n",
              "      <td>gasoline</td>\n",
              "      <td>audi</td>\n",
              "      <td>yes</td>\n",
              "      <td>2016-03-24 00:00:00</td>\n",
              "      <td>0</td>\n",
              "      <td>66954</td>\n",
              "      <td>2016-04-07 01:46:50</td>\n",
              "    </tr>\n",
              "    <tr>\n",
              "      <th>2</th>\n",
              "      <td>2016-03-14 12:52:21</td>\n",
              "      <td>9800</td>\n",
              "      <td>suv</td>\n",
              "      <td>2004</td>\n",
              "      <td>auto</td>\n",
              "      <td>163</td>\n",
              "      <td>grand</td>\n",
              "      <td>125000</td>\n",
              "      <td>8</td>\n",
              "      <td>gasoline</td>\n",
              "      <td>jeep</td>\n",
              "      <td>NaN</td>\n",
              "      <td>2016-03-14 00:00:00</td>\n",
              "      <td>0</td>\n",
              "      <td>90480</td>\n",
              "      <td>2016-04-05 12:47:46</td>\n",
              "    </tr>\n",
              "    <tr>\n",
              "      <th>3</th>\n",
              "      <td>2016-03-17 16:54:04</td>\n",
              "      <td>1500</td>\n",
              "      <td>small</td>\n",
              "      <td>2001</td>\n",
              "      <td>manual</td>\n",
              "      <td>75</td>\n",
              "      <td>golf</td>\n",
              "      <td>150000</td>\n",
              "      <td>6</td>\n",
              "      <td>petrol</td>\n",
              "      <td>volkswagen</td>\n",
              "      <td>no</td>\n",
              "      <td>2016-03-17 00:00:00</td>\n",
              "      <td>0</td>\n",
              "      <td>91074</td>\n",
              "      <td>2016-03-17 17:40:17</td>\n",
              "    </tr>\n",
              "    <tr>\n",
              "      <th>4</th>\n",
              "      <td>2016-03-31 17:25:20</td>\n",
              "      <td>3600</td>\n",
              "      <td>small</td>\n",
              "      <td>2008</td>\n",
              "      <td>manual</td>\n",
              "      <td>69</td>\n",
              "      <td>fabia</td>\n",
              "      <td>90000</td>\n",
              "      <td>7</td>\n",
              "      <td>gasoline</td>\n",
              "      <td>skoda</td>\n",
              "      <td>no</td>\n",
              "      <td>2016-03-31 00:00:00</td>\n",
              "      <td>0</td>\n",
              "      <td>60437</td>\n",
              "      <td>2016-04-06 10:17:21</td>\n",
              "    </tr>\n",
              "  </tbody>\n",
              "</table>\n",
              "</div>"
            ],
            "text/plain": [
              "           DateCrawled  Price VehicleType  RegistrationYear Gearbox  Power  \\\n",
              "0  2016-03-24 11:52:17    480         NaN              1993  manual      0   \n",
              "1  2016-03-24 10:58:45  18300       coupe              2011  manual    190   \n",
              "2  2016-03-14 12:52:21   9800         suv              2004    auto    163   \n",
              "3  2016-03-17 16:54:04   1500       small              2001  manual     75   \n",
              "4  2016-03-31 17:25:20   3600       small              2008  manual     69   \n",
              "\n",
              "   Model  Kilometer  RegistrationMonth  FuelType       Brand Repaired  \\\n",
              "0   golf     150000                  0    petrol  volkswagen      NaN   \n",
              "1    NaN     125000                  5  gasoline        audi      yes   \n",
              "2  grand     125000                  8  gasoline        jeep      NaN   \n",
              "3   golf     150000                  6    petrol  volkswagen       no   \n",
              "4  fabia      90000                  7  gasoline       skoda       no   \n",
              "\n",
              "           DateCreated  NumberOfPictures  PostalCode             LastSeen  \n",
              "0  2016-03-24 00:00:00                 0       70435  2016-04-07 03:16:57  \n",
              "1  2016-03-24 00:00:00                 0       66954  2016-04-07 01:46:50  \n",
              "2  2016-03-14 00:00:00                 0       90480  2016-04-05 12:47:46  \n",
              "3  2016-03-17 00:00:00                 0       91074  2016-03-17 17:40:17  \n",
              "4  2016-03-31 00:00:00                 0       60437  2016-04-06 10:17:21  "
            ]
          },
          "execution_count": 2,
          "metadata": {},
          "output_type": "execute_result"
        }
      ],
      "source": [
        "data =  pd.read_csv('/datasets/autos.csv')\n",
        "data.head()"
      ]
    },
    {
      "cell_type": "markdown",
      "metadata": {
        "id": "m2YKr2LY3Po9"
      },
      "source": [
        "<h3>Изучите данные. Заполните пропущенные значения и обработайте аномалии в столбцах. Если среди признаков имеются неинформативные, удалите их.</h3>\n"
      ]
    },
    {
      "cell_type": "code",
      "execution_count": null,
      "metadata": {
        "id": "Ge4YABL-3Po9",
        "outputId": "819a4771-20a4-4969-ef14-a3a9cb6c4b8d"
      },
      "outputs": [
        {
          "data": {
            "text/html": [
              "<div>\n",
              "<style scoped>\n",
              "    .dataframe tbody tr th:only-of-type {\n",
              "        vertical-align: middle;\n",
              "    }\n",
              "\n",
              "    .dataframe tbody tr th {\n",
              "        vertical-align: top;\n",
              "    }\n",
              "\n",
              "    .dataframe thead th {\n",
              "        text-align: right;\n",
              "    }\n",
              "</style>\n",
              "<table border=\"1\" class=\"dataframe\">\n",
              "  <thead>\n",
              "    <tr style=\"text-align: right;\">\n",
              "      <th></th>\n",
              "      <th>Price</th>\n",
              "      <th>RegistrationYear</th>\n",
              "      <th>Power</th>\n",
              "      <th>Kilometer</th>\n",
              "      <th>RegistrationMonth</th>\n",
              "      <th>NumberOfPictures</th>\n",
              "      <th>PostalCode</th>\n",
              "    </tr>\n",
              "  </thead>\n",
              "  <tbody>\n",
              "    <tr>\n",
              "      <th>count</th>\n",
              "      <td>354369.000000</td>\n",
              "      <td>354369.000000</td>\n",
              "      <td>354369.000000</td>\n",
              "      <td>354369.000000</td>\n",
              "      <td>354369.000000</td>\n",
              "      <td>354369.0</td>\n",
              "      <td>354369.000000</td>\n",
              "    </tr>\n",
              "    <tr>\n",
              "      <th>mean</th>\n",
              "      <td>4416.656776</td>\n",
              "      <td>2004.234448</td>\n",
              "      <td>110.094337</td>\n",
              "      <td>128211.172535</td>\n",
              "      <td>5.714645</td>\n",
              "      <td>0.0</td>\n",
              "      <td>50508.689087</td>\n",
              "    </tr>\n",
              "    <tr>\n",
              "      <th>std</th>\n",
              "      <td>4514.158514</td>\n",
              "      <td>90.227958</td>\n",
              "      <td>189.850405</td>\n",
              "      <td>37905.341530</td>\n",
              "      <td>3.726421</td>\n",
              "      <td>0.0</td>\n",
              "      <td>25783.096248</td>\n",
              "    </tr>\n",
              "    <tr>\n",
              "      <th>min</th>\n",
              "      <td>0.000000</td>\n",
              "      <td>1000.000000</td>\n",
              "      <td>0.000000</td>\n",
              "      <td>5000.000000</td>\n",
              "      <td>0.000000</td>\n",
              "      <td>0.0</td>\n",
              "      <td>1067.000000</td>\n",
              "    </tr>\n",
              "    <tr>\n",
              "      <th>25%</th>\n",
              "      <td>1050.000000</td>\n",
              "      <td>1999.000000</td>\n",
              "      <td>69.000000</td>\n",
              "      <td>125000.000000</td>\n",
              "      <td>3.000000</td>\n",
              "      <td>0.0</td>\n",
              "      <td>30165.000000</td>\n",
              "    </tr>\n",
              "    <tr>\n",
              "      <th>50%</th>\n",
              "      <td>2700.000000</td>\n",
              "      <td>2003.000000</td>\n",
              "      <td>105.000000</td>\n",
              "      <td>150000.000000</td>\n",
              "      <td>6.000000</td>\n",
              "      <td>0.0</td>\n",
              "      <td>49413.000000</td>\n",
              "    </tr>\n",
              "    <tr>\n",
              "      <th>75%</th>\n",
              "      <td>6400.000000</td>\n",
              "      <td>2008.000000</td>\n",
              "      <td>143.000000</td>\n",
              "      <td>150000.000000</td>\n",
              "      <td>9.000000</td>\n",
              "      <td>0.0</td>\n",
              "      <td>71083.000000</td>\n",
              "    </tr>\n",
              "    <tr>\n",
              "      <th>max</th>\n",
              "      <td>20000.000000</td>\n",
              "      <td>9999.000000</td>\n",
              "      <td>20000.000000</td>\n",
              "      <td>150000.000000</td>\n",
              "      <td>12.000000</td>\n",
              "      <td>0.0</td>\n",
              "      <td>99998.000000</td>\n",
              "    </tr>\n",
              "  </tbody>\n",
              "</table>\n",
              "</div>"
            ],
            "text/plain": [
              "               Price  RegistrationYear          Power      Kilometer  \\\n",
              "count  354369.000000     354369.000000  354369.000000  354369.000000   \n",
              "mean     4416.656776       2004.234448     110.094337  128211.172535   \n",
              "std      4514.158514         90.227958     189.850405   37905.341530   \n",
              "min         0.000000       1000.000000       0.000000    5000.000000   \n",
              "25%      1050.000000       1999.000000      69.000000  125000.000000   \n",
              "50%      2700.000000       2003.000000     105.000000  150000.000000   \n",
              "75%      6400.000000       2008.000000     143.000000  150000.000000   \n",
              "max     20000.000000       9999.000000   20000.000000  150000.000000   \n",
              "\n",
              "       RegistrationMonth  NumberOfPictures     PostalCode  \n",
              "count      354369.000000          354369.0  354369.000000  \n",
              "mean            5.714645               0.0   50508.689087  \n",
              "std             3.726421               0.0   25783.096248  \n",
              "min             0.000000               0.0    1067.000000  \n",
              "25%             3.000000               0.0   30165.000000  \n",
              "50%             6.000000               0.0   49413.000000  \n",
              "75%             9.000000               0.0   71083.000000  \n",
              "max            12.000000               0.0   99998.000000  "
            ]
          },
          "execution_count": 3,
          "metadata": {},
          "output_type": "execute_result"
        }
      ],
      "source": [
        "data.describe()"
      ]
    },
    {
      "cell_type": "code",
      "execution_count": null,
      "metadata": {
        "id": "OBpGUvdm3Po9",
        "outputId": "3efabed7-ca82-4e8e-e19f-8e8ead8fd995"
      },
      "outputs": [
        {
          "name": "stdout",
          "output_type": "stream",
          "text": [
            "<class 'pandas.core.frame.DataFrame'>\n",
            "RangeIndex: 354369 entries, 0 to 354368\n",
            "Data columns (total 16 columns):\n",
            " #   Column             Non-Null Count   Dtype \n",
            "---  ------             --------------   ----- \n",
            " 0   DateCrawled        354369 non-null  object\n",
            " 1   Price              354369 non-null  int64 \n",
            " 2   VehicleType        316879 non-null  object\n",
            " 3   RegistrationYear   354369 non-null  int64 \n",
            " 4   Gearbox            334536 non-null  object\n",
            " 5   Power              354369 non-null  int64 \n",
            " 6   Model              334664 non-null  object\n",
            " 7   Kilometer          354369 non-null  int64 \n",
            " 8   RegistrationMonth  354369 non-null  int64 \n",
            " 9   FuelType           321474 non-null  object\n",
            " 10  Brand              354369 non-null  object\n",
            " 11  Repaired           283215 non-null  object\n",
            " 12  DateCreated        354369 non-null  object\n",
            " 13  NumberOfPictures   354369 non-null  int64 \n",
            " 14  PostalCode         354369 non-null  int64 \n",
            " 15  LastSeen           354369 non-null  object\n",
            "dtypes: int64(7), object(9)\n",
            "memory usage: 43.3+ MB\n"
          ]
        }
      ],
      "source": [
        "data.info()"
      ]
    },
    {
      "cell_type": "markdown",
      "metadata": {
        "id": "CBwIj9643Po9"
      },
      "source": [
        "**Проблемные места датасета, которые необходимо решить:**\n",
        "\n",
        "1. Столбец NumberOfPictures - ни одного пропуска, но какой в этом смысл если согласно дескрайбу он весь занулен? Он явно не поможет нам в обучении, скорее только собьет с толку модель\n",
        "2. Есть пропуски в столбцах VehicleType, Gearbox, Model, FuelType, Repaired. Их нужно будет особенно изучить, понять природу и избавится от лишнего.\n",
        "3. Столбцы DateCrawled, DateCreated, LastSeen - представлены не в общепринятом формате datetime\n",
        "4. Столбцы PostalCode, RegistrationMonth - нужны ли для обучения?\n",
        "5. Наименования столбцов не по ГОСТу!\n",
        "\n",
        "Однако, последние три пункта - так ли необходимы? В целях соблюдения красоты данных, можно было бы провернуть подобные движения, чем я и займусь перед тем, как буду их выгружать в репозиторий, но сейчас главная задача - постороение моделей и выбор лучших, а данные столбцы не выглядят как подходящие фичи для обучения, в планах будет их жестоко убить!"
      ]
    },
    {
      "cell_type": "markdown",
      "metadata": {
        "id": "KZ32eqNu3Po-"
      },
      "source": [
        "<h4>Удалим зануленный столбец, и те, от которых при обучении не будет пользы</h4>"
      ]
    },
    {
      "cell_type": "code",
      "execution_count": null,
      "metadata": {
        "id": "kG65x_DE3Po-"
      },
      "outputs": [],
      "source": [
        "data = data.drop(columns=['NumberOfPictures', 'DateCrawled', 'DateCreated', 'LastSeen',\n",
        "                      'PostalCode', 'RegistrationMonth'], axis=1)"
      ]
    },
    {
      "cell_type": "markdown",
      "metadata": {
        "id": "1gmTMvyT3Po-"
      },
      "source": [
        "<h4>Изучим солбцы с пропусками (VehicleType, Gearbox, Model, FuelType, Repaired)</h4>"
      ]
    },
    {
      "cell_type": "markdown",
      "metadata": {
        "id": "xOSicfWD3Po-"
      },
      "source": [
        "Посмотрим, сколько потеряем, если просто все снесем"
      ]
    },
    {
      "cell_type": "code",
      "execution_count": null,
      "metadata": {
        "id": "xyXI-TCU3Po-",
        "outputId": "b15d9580-c4d1-4752-9c6e-4310bcaba6f6"
      },
      "outputs": [
        {
          "name": "stdout",
          "output_type": "stream",
          "text": [
            "Количество пустых ячеек к заполненым: 0.00014419554559284603 %\n",
            "Количество пустых строк к заполненым: 30.633322892239445 %\n",
            "---------------------------------\n"
          ]
        }
      ],
      "source": [
        "for i in [data]:\n",
        "    print('Количество пустых ячеек к заполненым:',((i.isnull().sum().sum()) / (i.shape[0] * i.shape[0])) * 100,'%')\n",
        "    print('Количество пустых строк к заполненым:',((i.shape[0] - i.dropna().shape[0]) / i.shape[0]) * 100,'%')\n",
        "    print('---------------------------------')"
      ]
    },
    {
      "cell_type": "markdown",
      "metadata": {
        "id": "zbXOi-L33Po-"
      },
      "source": [
        "Не любил четверти со школы, но сейчас их не полюбил вдовойне, вроде все пять признаков категориальные, придется видимо заменять все на пропуски \"нет данных\", чтобы не потерять информацию. Хотя хотелось изначально столбец рекваер привести к булевому, как будто так будет машине проще закономерности находить (мой субъективный взгляд, может быть не так), а с третьим параметром этого уже не провернешь("
      ]
    },
    {
      "cell_type": "code",
      "execution_count": null,
      "metadata": {
        "id": "GjG-DETY3Po_",
        "outputId": "d93030c1-6287-4ca5-fe2a-719933e23548"
      },
      "outputs": [
        {
          "data": {
            "image/png": "[encoded data removed]",
            "text/plain": [
              "<Figure size 1080x720 with 1 Axes>"
            ]
          },
          "metadata": {},
          "output_type": "display_data"
        }
      ],
      "source": [
        "sns.set_style('whitegrid')\n",
        "data['VehicleType'].hist(bins=10,figsize=(15,10))\n",
        "plt.title('Распределение автомобильных кузовов')\n",
        "plt.xlabel('Стоимость,Евро')\n",
        "plt.ylabel('Количество')\n",
        "plt.show()"
      ]
    },
    {
      "cell_type": "markdown",
      "metadata": {
        "id": "GIL0veO23Po_"
      },
      "source": [
        "Обычный категориальный признак, и мы видим, наш знак спасения - графа other, пропуски можно смело залить в нее"
      ]
    },
    {
      "cell_type": "code",
      "execution_count": null,
      "metadata": {
        "id": "vwVw5BSh3Po_"
      },
      "outputs": [],
      "source": [
        "data['VehicleType']=data['VehicleType'].fillna('other')"
      ]
    },
    {
      "cell_type": "code",
      "execution_count": null,
      "metadata": {
        "id": "AfaWpCGD3Po_",
        "outputId": "a60e054b-62f6-453c-a089-c02ce3816e3f"
      },
      "outputs": [
        {
          "data": {
            "image/png": "[encoded data removed]",
            "text/plain": [
              "<Figure size 1080x720 with 1 Axes>"
            ]
          },
          "metadata": {},
          "output_type": "display_data"
        }
      ],
      "source": [
        "sns.set_style('whitegrid')\n",
        "data['Gearbox'].hist(bins=10,figsize=(15,10))\n",
        "plt.title('Распределение автомобилей по коробке передач')\n",
        "plt.xlabel('Коробка передач')\n",
        "plt.ylabel('Количество')\n",
        "plt.show()"
      ]
    },
    {
      "cell_type": "markdown",
      "metadata": {
        "id": "KGuXi4863PpC"
      },
      "source": [
        "Либо единица, либо нуль, чем заменять тоже нет вариантов, придется заменить на что тот же other."
      ]
    },
    {
      "cell_type": "code",
      "execution_count": null,
      "metadata": {
        "id": "ntfXeBFh3PpC"
      },
      "outputs": [],
      "source": [
        "data['Gearbox']=data['Gearbox'].fillna('other')"
      ]
    },
    {
      "cell_type": "code",
      "execution_count": null,
      "metadata": {
        "scrolled": false,
        "id": "h3zcUm5e3PpC",
        "outputId": "59f9e2e6-9227-48d4-a024-07f0207c585f"
      },
      "outputs": [
        {
          "data": {
            "image/png": "[encoded data removed]",
            "text/plain": [
              "<Figure size 1080x720 with 1 Axes>"
            ]
          },
          "metadata": {},
          "output_type": "display_data"
        }
      ],
      "source": [
        "sns.set_style('whitegrid')\n",
        "data['Model'].hist(bins=251,figsize=(15,10))\n",
        "plt.title('Распределение автомобилей по маркам')\n",
        "plt.xlabel('Марка автомобиля')\n",
        "plt.ylabel('Количество')\n",
        "plt.show()"
      ]
    },
    {
      "cell_type": "code",
      "execution_count": null,
      "metadata": {
        "id": "SDOxg6oR3PpD",
        "outputId": "9df72b68-c11b-427f-9e3c-439da296f742"
      },
      "outputs": [
        {
          "data": {
            "text/html": [
              "<div>\n",
              "<style scoped>\n",
              "    .dataframe tbody tr th:only-of-type {\n",
              "        vertical-align: middle;\n",
              "    }\n",
              "\n",
              "    .dataframe tbody tr th {\n",
              "        vertical-align: top;\n",
              "    }\n",
              "\n",
              "    .dataframe thead th {\n",
              "        text-align: right;\n",
              "    }\n",
              "</style>\n",
              "<table border=\"1\" class=\"dataframe\">\n",
              "  <thead>\n",
              "    <tr style=\"text-align: right;\">\n",
              "      <th></th>\n",
              "      <th>Price</th>\n",
              "      <th>VehicleType</th>\n",
              "      <th>RegistrationYear</th>\n",
              "      <th>Gearbox</th>\n",
              "      <th>Power</th>\n",
              "      <th>Model</th>\n",
              "      <th>Kilometer</th>\n",
              "      <th>FuelType</th>\n",
              "      <th>Brand</th>\n",
              "      <th>Repaired</th>\n",
              "    </tr>\n",
              "  </thead>\n",
              "  <tbody>\n",
              "    <tr>\n",
              "      <th>7</th>\n",
              "      <td>0</td>\n",
              "      <td>sedan</td>\n",
              "      <td>1980</td>\n",
              "      <td>manual</td>\n",
              "      <td>50</td>\n",
              "      <td>other</td>\n",
              "      <td>40000</td>\n",
              "      <td>petrol</td>\n",
              "      <td>volkswagen</td>\n",
              "      <td>no</td>\n",
              "    </tr>\n",
              "    <tr>\n",
              "      <th>24</th>\n",
              "      <td>500</td>\n",
              "      <td>sedan</td>\n",
              "      <td>1990</td>\n",
              "      <td>manual</td>\n",
              "      <td>118</td>\n",
              "      <td>other</td>\n",
              "      <td>150000</td>\n",
              "      <td>petrol</td>\n",
              "      <td>mercedes_benz</td>\n",
              "      <td>yes</td>\n",
              "    </tr>\n",
              "    <tr>\n",
              "      <th>38</th>\n",
              "      <td>11900</td>\n",
              "      <td>other</td>\n",
              "      <td>2002</td>\n",
              "      <td>manual</td>\n",
              "      <td>129</td>\n",
              "      <td>other</td>\n",
              "      <td>150000</td>\n",
              "      <td>gasoline</td>\n",
              "      <td>volkswagen</td>\n",
              "      <td>no</td>\n",
              "    </tr>\n",
              "    <tr>\n",
              "      <th>39</th>\n",
              "      <td>1500</td>\n",
              "      <td>bus</td>\n",
              "      <td>1984</td>\n",
              "      <td>manual</td>\n",
              "      <td>70</td>\n",
              "      <td>other</td>\n",
              "      <td>150000</td>\n",
              "      <td>gasoline</td>\n",
              "      <td>mercedes_benz</td>\n",
              "      <td>no</td>\n",
              "    </tr>\n",
              "    <tr>\n",
              "      <th>52</th>\n",
              "      <td>1400</td>\n",
              "      <td>other</td>\n",
              "      <td>2016</td>\n",
              "      <td>manual</td>\n",
              "      <td>55</td>\n",
              "      <td>other</td>\n",
              "      <td>5000</td>\n",
              "      <td>NaN</td>\n",
              "      <td>hyundai</td>\n",
              "      <td>NaN</td>\n",
              "    </tr>\n",
              "    <tr>\n",
              "      <th>...</th>\n",
              "      <td>...</td>\n",
              "      <td>...</td>\n",
              "      <td>...</td>\n",
              "      <td>...</td>\n",
              "      <td>...</td>\n",
              "      <td>...</td>\n",
              "      <td>...</td>\n",
              "      <td>...</td>\n",
              "      <td>...</td>\n",
              "      <td>...</td>\n",
              "    </tr>\n",
              "    <tr>\n",
              "      <th>354290</th>\n",
              "      <td>2500</td>\n",
              "      <td>small</td>\n",
              "      <td>2007</td>\n",
              "      <td>manual</td>\n",
              "      <td>60</td>\n",
              "      <td>other</td>\n",
              "      <td>125000</td>\n",
              "      <td>petrol</td>\n",
              "      <td>hyundai</td>\n",
              "      <td>NaN</td>\n",
              "    </tr>\n",
              "    <tr>\n",
              "      <th>354302</th>\n",
              "      <td>5990</td>\n",
              "      <td>bus</td>\n",
              "      <td>1984</td>\n",
              "      <td>auto</td>\n",
              "      <td>0</td>\n",
              "      <td>other</td>\n",
              "      <td>70000</td>\n",
              "      <td>petrol</td>\n",
              "      <td>chevrolet</td>\n",
              "      <td>NaN</td>\n",
              "    </tr>\n",
              "    <tr>\n",
              "      <th>354316</th>\n",
              "      <td>3300</td>\n",
              "      <td>coupe</td>\n",
              "      <td>1957</td>\n",
              "      <td>manual</td>\n",
              "      <td>40</td>\n",
              "      <td>other</td>\n",
              "      <td>100000</td>\n",
              "      <td>petrol</td>\n",
              "      <td>trabant</td>\n",
              "      <td>no</td>\n",
              "    </tr>\n",
              "    <tr>\n",
              "      <th>354325</th>\n",
              "      <td>12800</td>\n",
              "      <td>convertible</td>\n",
              "      <td>1991</td>\n",
              "      <td>manual</td>\n",
              "      <td>211</td>\n",
              "      <td>other</td>\n",
              "      <td>150000</td>\n",
              "      <td>petrol</td>\n",
              "      <td>porsche</td>\n",
              "      <td>no</td>\n",
              "    </tr>\n",
              "    <tr>\n",
              "      <th>354331</th>\n",
              "      <td>2999</td>\n",
              "      <td>coupe</td>\n",
              "      <td>2003</td>\n",
              "      <td>manual</td>\n",
              "      <td>143</td>\n",
              "      <td>other</td>\n",
              "      <td>150000</td>\n",
              "      <td>petrol</td>\n",
              "      <td>mercedes_benz</td>\n",
              "      <td>yes</td>\n",
              "    </tr>\n",
              "  </tbody>\n",
              "</table>\n",
              "<p>24421 rows × 10 columns</p>\n",
              "</div>"
            ],
            "text/plain": [
              "        Price  VehicleType  RegistrationYear Gearbox  Power  Model  Kilometer  \\\n",
              "7           0        sedan              1980  manual     50  other      40000   \n",
              "24        500        sedan              1990  manual    118  other     150000   \n",
              "38      11900        other              2002  manual    129  other     150000   \n",
              "39       1500          bus              1984  manual     70  other     150000   \n",
              "52       1400        other              2016  manual     55  other       5000   \n",
              "...       ...          ...               ...     ...    ...    ...        ...   \n",
              "354290   2500        small              2007  manual     60  other     125000   \n",
              "354302   5990          bus              1984    auto      0  other      70000   \n",
              "354316   3300        coupe              1957  manual     40  other     100000   \n",
              "354325  12800  convertible              1991  manual    211  other     150000   \n",
              "354331   2999        coupe              2003  manual    143  other     150000   \n",
              "\n",
              "        FuelType          Brand Repaired  \n",
              "7         petrol     volkswagen       no  \n",
              "24        petrol  mercedes_benz      yes  \n",
              "38      gasoline     volkswagen       no  \n",
              "39      gasoline  mercedes_benz       no  \n",
              "52           NaN        hyundai      NaN  \n",
              "...          ...            ...      ...  \n",
              "354290    petrol        hyundai      NaN  \n",
              "354302    petrol      chevrolet      NaN  \n",
              "354316    petrol        trabant       no  \n",
              "354325    petrol        porsche       no  \n",
              "354331    petrol  mercedes_benz      yes  \n",
              "\n",
              "[24421 rows x 10 columns]"
            ]
          },
          "execution_count": 12,
          "metadata": {},
          "output_type": "execute_result"
        }
      ],
      "source": [
        "data[data['Model'] == 'other']"
      ]
    },
    {
      "cell_type": "markdown",
      "metadata": {
        "id": "mAxDm6jK3PpD"
      },
      "source": [
        "Тут other и без нас есть, значит в него и закинем пропуски!"
      ]
    },
    {
      "cell_type": "code",
      "execution_count": null,
      "metadata": {
        "id": "ZVkDzqDm3PpD"
      },
      "outputs": [],
      "source": [
        "data['Model']=data['Model'].fillna('other')"
      ]
    },
    {
      "cell_type": "code",
      "execution_count": null,
      "metadata": {
        "id": "Nq2xexxd3PpD",
        "outputId": "0337fb94-3199-4534-f924-90f48e10d3cf"
      },
      "outputs": [
        {
          "data": {
            "image/png": "[encoded data removed]",
            "text/plain": [
              "<Figure size 1080x720 with 1 Axes>"
            ]
          },
          "metadata": {},
          "output_type": "display_data"
        }
      ],
      "source": [
        "sns.set_style('whitegrid')\n",
        "data['FuelType'].hist(bins=25,figsize=(15,10))\n",
        "plt.title('Распределение автомобилей по типу двигателя')\n",
        "plt.xlabel('Тип двигателя')\n",
        "plt.ylabel('Количество')\n",
        "plt.show()"
      ]
    },
    {
      "cell_type": "markdown",
      "metadata": {
        "id": "BJzCfaDW3PpE"
      },
      "source": [
        "Так ли нам нужны последние колонки? Вопрос открытый, опять же все упирается в раритет, обычно маленький круг людей интересуется подобными вещами, но думаю можно пока что оставить!"
      ]
    },
    {
      "cell_type": "code",
      "execution_count": null,
      "metadata": {
        "id": "4nemb6a43PpE"
      },
      "outputs": [],
      "source": [
        "data['FuelType']=data['FuelType'].fillna('other')"
      ]
    },
    {
      "cell_type": "code",
      "execution_count": null,
      "metadata": {
        "id": "GHHrRDD83PpE",
        "outputId": "e0a4151b-982f-49be-a655-4532037d497f"
      },
      "outputs": [
        {
          "data": {
            "image/png": "[encoded data removed]",
            "text/plain": [
              "<Figure size 1080x720 with 1 Axes>"
            ]
          },
          "metadata": {},
          "output_type": "display_data"
        }
      ],
      "source": [
        "sns.set_style('whitegrid')\n",
        "data['Repaired'].hist(bins=25,figsize=(15,10))\n",
        "plt.title('Распределение автомобилей по паданию в аварии')\n",
        "plt.xlabel('Был ли авто в ДТП?')\n",
        "plt.ylabel('Количество')\n",
        "plt.show()"
      ]
    },
    {
      "cell_type": "markdown",
      "metadata": {
        "id": "ZYov1-qm3PpE"
      },
      "source": [
        "Заменить на озер, между да и нет, как-то странновато, удалять тоже мимо - снесется процентов 15-20, так как это столбец с наибольшими пропусками, но деваться некуда("
      ]
    },
    {
      "cell_type": "code",
      "execution_count": null,
      "metadata": {
        "id": "_AIMA2Ak3PpE"
      },
      "outputs": [],
      "source": [
        "data['Repaired']=data['Repaired'].fillna('other')"
      ]
    },
    {
      "cell_type": "markdown",
      "metadata": {
        "id": "kbp1-6lr3PpE"
      },
      "source": [
        "**Также в любом проекте необходимо привести наименование столбцов в порядок, сделаю это с помощью регулярного выражения, которое нашел на просторах интернета, а также избавимся от дубликатов**"
      ]
    },
    {
      "cell_type": "code",
      "execution_count": null,
      "metadata": {
        "id": "x7QDyE6M3PpE"
      },
      "outputs": [],
      "source": [
        "data.columns = data.columns.str.replace(r\"([A-Z])\", r\" \\1\").str.lower().str.replace(' ', '_').str[1:]\n",
        "data.drop_duplicates(inplace=True)"
      ]
    },
    {
      "cell_type": "markdown",
      "metadata": {
        "id": "IKcmnrTp3PpF"
      },
      "source": [
        "<h4>Изучим оставшиеся признаки на неинформативные данные и выбросы</h4>"
      ]
    },
    {
      "cell_type": "markdown",
      "metadata": {
        "id": "ZzjBBNL23PpF"
      },
      "source": [
        "Из 16 столбцов, гистограммы 5 мы рассмотрели, 6 убрали из-за ненадобности, осталось 5! price, registration_year, power, kilometer,  brand. Раз пропусков в них нет, нужно проверить на выбросы! Более показательны выбросы на диаграмме ящика с усами, воспользуемся им!            "
      ]
    },
    {
      "cell_type": "code",
      "execution_count": null,
      "metadata": {
        "scrolled": true,
        "id": "u24dhXSt3PpF",
        "outputId": "a7ec07b4-af0f-40e1-e9ad-e1b2f4bbbdf9"
      },
      "outputs": [
        {
          "name": "stdout",
          "output_type": "stream",
          "text": [
            "<class 'pandas.core.frame.DataFrame'>\n",
            "Int64Index: 309178 entries, 0 to 354368\n",
            "Data columns (total 10 columns):\n",
            " #   Column             Non-Null Count   Dtype \n",
            "---  ------             --------------   ----- \n",
            " 0   price              309178 non-null  int64 \n",
            " 1   vehicle_type       309178 non-null  object\n",
            " 2   registration_year  309178 non-null  int64 \n",
            " 3   gearbox            309178 non-null  object\n",
            " 4   power              309178 non-null  int64 \n",
            " 5   model              309178 non-null  object\n",
            " 6   kilometer          309178 non-null  int64 \n",
            " 7   fuel_type          309178 non-null  object\n",
            " 8   brand              309178 non-null  object\n",
            " 9   repaired           309178 non-null  object\n",
            "dtypes: int64(4), object(6)\n",
            "memory usage: 25.9+ MB\n"
          ]
        }
      ],
      "source": [
        "data.info()"
      ]
    },
    {
      "cell_type": "code",
      "execution_count": null,
      "metadata": {
        "id": "i6XxAiA43PpF",
        "outputId": "569c3050-5e8b-4462-e770-c4e5d347db2b"
      },
      "outputs": [
        {
          "data": {
            "image/png": "[encoded data removed]",
            "text/plain": [
              "<Figure size 1440x360 with 1 Axes>"
            ]
          },
          "metadata": {},
          "output_type": "display_data"
        },
        {
          "data": {
            "image/png": "[encoded data removed]",
            "text/plain": [
              "<Figure size 1440x1440 with 1 Axes>"
            ]
          },
          "metadata": {},
          "output_type": "display_data"
        }
      ],
      "source": [
        "data.price.hist(bins=200, figsize=(20,5))\n",
        "plt.figure(figsize=(20, 20))\n",
        "sns.boxplot(data=data['price'], orient='v')\n",
        "#plt.xlim(-10, 500)\n",
        "plt.title('Язик с усами для стоимости')\n",
        "plt.ylabel('Стоимость')\n",
        "plt.grid(False)\n",
        "plt.show()"
      ]
    },
    {
      "cell_type": "markdown",
      "metadata": {
        "id": "IdktKMA33PpG"
      },
      "source": [
        "Видим реальные выбросы вышел 15к, от них стоит избавится. Почему цена может быть у нуля это коненчо странно, но вдруг кто-то отдает машины почти задаром? Хотя по гистограмме там их огромное количество, может быть по квантилям снесем экстримально выбивающиеся значения? С одной стороны потеряем 10 процентов данных, с другой мне кажется без них обучение пройдет гораздо оптимальнее, однако, и сама гистограмма достаточно странно выглядит, больше смахивает на экг (: Короче снесу их, думаю так оптимальнее, тем более мы не стали сносить пропуски и все их сохранили, хотя бы тут поубиваем что-нибудь"
      ]
    },
    {
      "cell_type": "code",
      "execution_count": null,
      "metadata": {
        "id": "tgcMTu713PpG",
        "outputId": "1b3cd13c-8b0f-4efb-bfe9-4496e99d4618"
      },
      "outputs": [
        {
          "data": {
            "text/plain": [
              "0.05      200.0\n",
              "0.99    18900.0\n",
              "Name: price, dtype: float64"
            ]
          },
          "execution_count": 21,
          "metadata": {},
          "output_type": "execute_result"
        }
      ],
      "source": [
        "data['price'].quantile([.05, 0.99])"
      ]
    },
    {
      "cell_type": "code",
      "execution_count": null,
      "metadata": {
        "id": "fj9u3JMR3PpG"
      },
      "outputs": [],
      "source": [
        "data = data.query('200 <= price')"
      ]
    },
    {
      "cell_type": "code",
      "execution_count": null,
      "metadata": {
        "id": "zqmnUoLi3PpH",
        "outputId": "a70b6610-e412-48c0-867f-970620e61ccf"
      },
      "outputs": [
        {
          "data": {
            "text/plain": [
              "array([1993, 2011, 2004, 2001, 2008, 1995, 2014, 1998, 2005, 1910, 2016,\n",
              "       2007, 2009, 2002, 2018, 1997, 1990, 2017, 1981, 2003, 1994, 1991,\n",
              "       1984, 2006, 1999, 2012, 2010, 2000, 1992, 2013, 1996, 1989, 2015,\n",
              "       1985, 1982, 1976, 1983, 1973, 1969, 1971, 1987, 1988, 1980, 1970,\n",
              "       1986, 1965, 1945, 1925, 1974, 1979, 1955, 1978, 1972, 1968, 1977,\n",
              "       1961, 1966, 1975, 1963, 1964, 1960, 1958, 1967, 1956, 3200, 1941,\n",
              "       9999, 8888, 1500, 2200, 4100, 1962, 1929, 1957, 1940, 2066, 1949,\n",
              "       2019, 1937, 1951, 1800, 1959, 1953, 1954, 1234, 5300, 9000, 2900,\n",
              "       6000, 5900, 1000, 5911, 1400, 5000, 4000, 1948, 1952, 8500, 1932,\n",
              "       1950, 3700, 3800, 4800, 1942, 7000, 1935, 1933, 1936, 3000, 1923,\n",
              "       2290, 1930, 1001, 9450, 1944, 2500, 1943, 1938, 1934, 1928, 5555,\n",
              "       1600, 1111, 1039, 2800, 1931, 4500, 1602, 7800, 1947, 1927, 7100,\n",
              "       1300, 8200, 1946])"
            ]
          },
          "execution_count": 23,
          "metadata": {},
          "output_type": "execute_result"
        },
        {
          "data": {
            "image/png": "[encoded data removed]",
            "text/plain": [
              "<Figure size 432x288 with 1 Axes>"
            ]
          },
          "metadata": {},
          "output_type": "display_data"
        }
      ],
      "source": [
        "data['registration_year'].hist(bins=100)\n",
        "data['registration_year'].unique()"
      ]
    },
    {
      "cell_type": "code",
      "execution_count": null,
      "metadata": {
        "id": "mImEj_XB3PpH",
        "outputId": "5efa167e-6977-4d65-e98c-10e232165929"
      },
      "outputs": [
        {
          "data": {
            "image/png": "[encoded data removed]",
            "text/plain": [
              "<Figure size 432x288 with 1 Axes>"
            ]
          },
          "metadata": {},
          "output_type": "display_data"
        }
      ],
      "source": [
        "sns.boxplot(data=data['registration_year'], orient='v')\n",
        "#plt.xlim(-10, 500)\n",
        "plt.title('Ящик с усами для года производства автомобиля')\n",
        "plt.ylabel('Год')\n",
        "plt.grid(False)\n",
        "plt.show()"
      ]
    },
    {
      "cell_type": "markdown",
      "metadata": {
        "id": "aI_nWHW63PpH"
      },
      "source": [
        "Какие то безумные графики, скорее всего по тому, что у нас огромное количество значений в промежутке 1900-2000, а остальные раскиданы вплоть до 10к единично, надо глянуть по квантилям и снести лишнее, выкинем по минимуму, так как выбросы единичные"
      ]
    },
    {
      "cell_type": "code",
      "execution_count": null,
      "metadata": {
        "id": "Aa_nW4YO3PpH",
        "outputId": "d1fb4c8e-10da-4b57-d2aa-735c4270415c"
      },
      "outputs": [
        {
          "data": {
            "text/plain": [
              "0.01    1980.0\n",
              "0.99    2018.0\n",
              "Name: registration_year, dtype: float64"
            ]
          },
          "execution_count": 25,
          "metadata": {},
          "output_type": "execute_result"
        }
      ],
      "source": [
        "data['registration_year'].quantile([.01, 0.99])"
      ]
    },
    {
      "cell_type": "code",
      "execution_count": null,
      "metadata": {
        "id": "rVQQP7-G3PpH"
      },
      "outputs": [],
      "source": [
        "data = data.query('1980 <= registration_year <= 2016')"
      ]
    },
    {
      "cell_type": "code",
      "execution_count": null,
      "metadata": {
        "id": "dVfUHO8G3PpI",
        "outputId": "459ecf4b-5f7e-4aff-e1d0-848979538b6d"
      },
      "outputs": [
        {
          "data": {
            "image/png": "[encoded data removed]",
            "text/plain": [
              "<Figure size 432x288 with 1 Axes>"
            ]
          },
          "metadata": {},
          "output_type": "display_data"
        }
      ],
      "source": [
        "sns.boxplot(data=data['registration_year'], orient='v')\n",
        "#plt.xlim(-10, 500)\n",
        "plt.title('Ящик с усами для года производства автомобиля')\n",
        "plt.ylabel('Год')\n",
        "plt.grid(False)\n",
        "plt.show()"
      ]
    },
    {
      "cell_type": "markdown",
      "metadata": {
        "id": "bDyyJ7el3PpI"
      },
      "source": [
        "А вот это уже гораздо реалистичнее, выбросы вплоть до 80-ых, но думаю это опять же раритетные автомобили для ценителей."
      ]
    },
    {
      "cell_type": "code",
      "execution_count": null,
      "metadata": {
        "id": "H3AFS-pQ3PpI",
        "outputId": "061861bb-0dd6-4836-acc1-26d691f8a24e"
      },
      "outputs": [
        {
          "data": {
            "image/png": "[encoded data removed]",
            "text/plain": [
              "<Figure size 432x288 with 1 Axes>"
            ]
          },
          "metadata": {},
          "output_type": "display_data"
        }
      ],
      "source": [
        "sns.boxplot(data=data['power'], orient='v')\n",
        "#plt.xlim(-10, 500)\n",
        "plt.title('Ящик с усами для мощности двигателя')\n",
        "plt.ylabel('Мощность')\n",
        "plt.grid(False)\n",
        "plt.show()"
      ]
    },
    {
      "cell_type": "code",
      "execution_count": null,
      "metadata": {
        "scrolled": true,
        "id": "jvF6jwxN3PpI",
        "outputId": "d371e204-40e3-43f6-985c-835e8997cbf4"
      },
      "outputs": [
        {
          "data": {
            "text/plain": [
              "array([    0,   190,   163,    75,    69,   102,   109,   125,   101,\n",
              "         105,   140,   115,   131,    60,   136,   160,   231,    50,\n",
              "         118,   193,    99,   113,   218,   122,   129,    70,   306,\n",
              "          95,    61,   177,   170,    55,   143,   232,   150,   156,\n",
              "          80,    82,    90,   155,    54,   185,    87,   180,    86,\n",
              "          84,   224,   235,   200,   178,   265,    77,   110,   144,\n",
              "         120,   286,   116,   184,   126,   204,    88,   194,    64,\n",
              "         305,   197,   179,   250,    45,   313,    41,   165,    98,\n",
              "         130,   114,   211,    56,   201,   213,    58,   107,    83,\n",
              "         174,   100,   220,    73,   192,    68,    66,   299,    74,\n",
              "          52,   147,   310,    71,    97,    65,   239,   203,     5,\n",
              "         300,   103,    85,   258,   320,    63,    81,   148,   145,\n",
              "         280,   260,   104,   188,   333,   186,   117,   141,   132,\n",
              "         234,   158,    39,    92,    51,   135,    59,   230,   209,\n",
              "          43,   146,    67,   106,   166,   276,   344,    72,   249,\n",
              "         237,   245,   111,   326,   279,   138,   175,    96,   226,\n",
              "          37,   301,   334,   128,   133,   124,    33,   219,   241,\n",
              "         167,    94,   182,   196,   238,  1398,   228,   112,    48,\n",
              "         272,   139,    79,   256,   243,   252,   396,   340,   121,\n",
              "         345,    44,   187,   289,   222,   198,   284,   450,   233,\n",
              "         387,   347,   172,    57,   137,   212,   476,   314,     7,\n",
              "          47,   173,   290,   207,   205,   171,    78,    91,    89,\n",
              "         349,    40,   108,   325,    76,   350,   953,    93,   142,\n",
              "         343,   199,   119,   164,    16,   264,   152,   367,   240,\n",
              "         208,   210,    46,    53,   435,  1001,   225,   127,    26,\n",
              "         176,   161,   603,   307,   354,    35,   206,   771,   355,\n",
              "         273,   223,   255,   151,    30,   123,   154,   149,  7515,\n",
              "        1400,   268,   620,   400,   275,     2,   242,  1779,   285,\n",
              "         162,   328,  1753,   329,   134,   420,   247,   168,   215,\n",
              "         360,   330,   283,   500,    62,    34,   183,   254,    15,\n",
              "         321,   315,   952,   169,    18,   600,   181,   426,   379,\n",
              "          22,   157,    42,   195,     4,   309,   507,   381,   271,\n",
              "         440,   189,   401,  2729,   236,  1240,  1704,   521,     1,\n",
              "        1900,   270,   159,   292,   515,  1200,   303,    29,    38,\n",
              "        1993,    14,   216,   610,   504,    49,   267,   331,   261,\n",
              "        1011,   253,   696, 10520,   376,   227,   311,    27,   217,\n",
              "          20,   322,    10,  1999,    11,  1056,    25,   394,    12,\n",
              "         298,   296,  1659,   294,   551,  6920,   246,    17,  1625,\n",
              "         363,   390,   221,  1367,   259,   606,    24,  1597,   266,\n",
              "         374,   392,     9,   405,   601,   430,   295,     8,   411,\n",
              "         900,   541,  7512,   382, 10218,  7544,   287,    19,   214,\n",
              "         751,   297,  1090,   457,   282,   602,   388,   385,    23,\n",
              "           6,  5411,   335,  1360,   202,   805,  1062,  2017,   750,\n",
              "        1024, 11530,  1796,   269,   460,  1002,   288,  1780, 12012,\n",
              "       17932,   316,  2005,  1800,  1399,   191,   278,   380,   257,\n",
              "         449,  1256,   153,    21,  1653,   520,   560,   281, 12510,\n",
              "           3,  1500,   386,  1202,  2016,  1436,  1405,   671,   274,\n",
              "        1288,  1055, 10912,  6226,  1115,   277,  1105,   341,  1223,\n",
              "        2340,  8404,  1968,   338,   445,  1920,   517,  4400, 10710,\n",
              "       10522,   431,  1164, 11509,   371,  1501,   428, 11635,   304,\n",
              "         348,  1703,   370,  1995,   579, 10000,   580,   408,   358,\n",
              "        1403,   489,  5575,   262, 19211,   585,   353,   490,   352,\n",
              "        1801,  1000,   346,   550,  3199,   800,  7508,  1312,  1937,\n",
              "         950,  4700,  1600,  3454, 19208,   251,   850,   337,   365,\n",
              "         700,  2331,  2789,   487,    36,   519,  2461,  6006,  3500,\n",
              "        6018,  1781,  1503,   612,  1596,   229,    31,  1506,  5809,\n",
              "       15020,  1300,  5867,  2172,  1598, 17410,  1363,   584,  1054,\n",
              "         851,  1339,   318,   510,   525,    28,  1151,   685,  6011,\n",
              "         317,   703,  1771, 15001,   514,   362,   332,   324,  6045,\n",
              "         308,  6010,   475,   903,   640,  2000,   248,   651,  2799,\n",
              "         368, 17011,   505,  1103,  1521,   398,  1998, 10311,   409,\n",
              "        1230, 17019, 12684,  8259,  1895,  1317,   871,   909,  1595,\n",
              "         776, 17700, 11011,  1199,   459,   357,  1162,  1120, 15033,\n",
              "        1896,   339,   361,  6512,   454,   650, 13616,   604,   999,\n",
              "       16312,  1082,   336, 20000,   416,  1401,  1021,  1870, 13636,\n",
              "        1250,  6012,   323,  1158,  2009,   902,  6062,  1275,   572,\n",
              "         244,   399,  1016,   743,  1221,  2402,  1362,   544,   645,\n",
              "         907,   702,  1003,  1432,  9013,   442,  1017, 15017, 10910,\n",
              "        1992,   540,  2018, 11025,  1433,  1701,  2792,  1502,  1239,\n",
              "        1390, 14009,  1160,  1783,  9007,   923,  1149,   754,  1988,\n",
              "        2004,  5420,  1793,   356,   364, 12512,  7511,  1299,   293,\n",
              "       19312,  1079,  1689,   998,    13,  1100,  1933,   508, 16311,\n",
              "         682,  1922,  7529,   732,  2389,  1005,  1707,  1416,  1700,\n",
              "        8500,  1012, 10110,   421,  4507,  1631,  7518,   377,  1004,\n",
              "        1799,  9012,  2007,  2598,  1548,  1241])"
            ]
          },
          "execution_count": 29,
          "metadata": {},
          "output_type": "execute_result"
        },
        {
          "data": {
            "image/png": "[encoded data removed]",
            "text/plain": [
              "<Figure size 432x288 with 1 Axes>"
            ]
          },
          "metadata": {},
          "output_type": "display_data"
        }
      ],
      "source": [
        "data['power'].hist(bins=10)\n",
        "data['power'].unique()"
      ]
    },
    {
      "cell_type": "markdown",
      "metadata": {
        "id": "3IskTDqe3PpJ"
      },
      "source": [
        "Ситуация аналогичная прошлому параметру. Я не особо знаю предметную область двигателей, скорее речь идет либо об объеме, либо о лошадиных силах, но выбросы вроде единичные, поэтому проще размазать их квантилями. В любом случае вариант 0 в плане мощности вряд ли подойдет!"
      ]
    },
    {
      "cell_type": "code",
      "execution_count": null,
      "metadata": {
        "id": "pOO0S1Sl3PpJ",
        "outputId": "e6419d49-b7fe-4076-c7c6-07ce0998138d"
      },
      "outputs": [
        {
          "data": {
            "text/plain": [
              "0.10     41.0\n",
              "0.99    306.0\n",
              "Name: power, dtype: float64"
            ]
          },
          "execution_count": 30,
          "metadata": {},
          "output_type": "execute_result"
        }
      ],
      "source": [
        "data['power'].quantile([.10, 0.99])"
      ]
    },
    {
      "cell_type": "code",
      "execution_count": null,
      "metadata": {
        "id": "qqQKq6jz3PpJ"
      },
      "outputs": [],
      "source": [
        "data['power'].unique().sort ()"
      ]
    },
    {
      "cell_type": "code",
      "execution_count": null,
      "metadata": {
        "id": "VUhsGxND3PpJ"
      },
      "outputs": [],
      "source": [
        "data = data.query('power <= 1100')"
      ]
    },
    {
      "cell_type": "code",
      "execution_count": null,
      "metadata": {
        "id": "3W1OWMoF3PpK",
        "outputId": "89f96093-c145-4388-e898-b6865ce7b296"
      },
      "outputs": [
        {
          "data": {
            "text/plain": [
              "<AxesSubplot:>"
            ]
          },
          "execution_count": 33,
          "metadata": {},
          "output_type": "execute_result"
        },
        {
          "data": {
            "image/png": "[encoded data removed]",
            "text/plain": [
              "<Figure size 432x288 with 1 Axes>"
            ]
          },
          "metadata": {},
          "output_type": "display_data"
        }
      ],
      "source": [
        "data['power'].hist()"
      ]
    },
    {
      "cell_type": "markdown",
      "metadata": {
        "id": "WKAvLq_S3PpK"
      },
      "source": [
        "Теперь выглядит по-человечески!"
      ]
    },
    {
      "cell_type": "code",
      "execution_count": null,
      "metadata": {
        "id": "AanezkYC3PpK",
        "outputId": "479d6aa4-15f9-40fc-ae49-e9c4e0f700f4"
      },
      "outputs": [
        {
          "data": {
            "text/plain": [
              "<AxesSubplot:>"
            ]
          },
          "execution_count": 34,
          "metadata": {},
          "output_type": "execute_result"
        },
        {
          "data": {
            "image/png": "[encoded data removed]",
            "text/plain": [
              "<Figure size 432x288 with 1 Axes>"
            ]
          },
          "metadata": {},
          "output_type": "display_data"
        }
      ],
      "source": [
        "data['kilometer'].hist()"
      ]
    },
    {
      "cell_type": "markdown",
      "metadata": {
        "id": "V55mnBUD3PpL"
      },
      "source": [
        "Не вижу аномалий, в целом предполагаю, что в данном столбце ничего менять не нужно"
      ]
    },
    {
      "cell_type": "code",
      "execution_count": null,
      "metadata": {
        "id": "m9pkVTjt3PpL",
        "outputId": "6722c1c2-82e6-4d68-d3e5-4b47976ff0e6"
      },
      "outputs": [
        {
          "data": {
            "text/plain": [
              "array(['volkswagen', 'audi', 'jeep', 'skoda', 'bmw', 'peugeot', 'ford',\n",
              "       'mazda', 'nissan', 'renault', 'mercedes_benz', 'seat', 'honda',\n",
              "       'fiat', 'opel', 'mini', 'smart', 'hyundai', 'alfa_romeo', 'subaru',\n",
              "       'volvo', 'mitsubishi', 'kia', 'suzuki', 'lancia', 'citroen',\n",
              "       'sonstige_autos', 'toyota', 'chevrolet', 'dacia', 'daihatsu',\n",
              "       'chrysler', 'jaguar', 'daewoo', 'rover', 'porsche', 'saab',\n",
              "       'land_rover', 'trabant', 'lada'], dtype=object)"
            ]
          },
          "execution_count": 35,
          "metadata": {},
          "output_type": "execute_result"
        }
      ],
      "source": [
        "data['brand'].unique()"
      ]
    },
    {
      "cell_type": "code",
      "execution_count": null,
      "metadata": {
        "id": "ZGFDl_b-3PpL",
        "outputId": "dd153a34-a2fb-4884-9652-77eb8ab63c14"
      },
      "outputs": [
        {
          "data": {
            "text/plain": [
              "<AxesSubplot:>"
            ]
          },
          "execution_count": 36,
          "metadata": {},
          "output_type": "execute_result"
        },
        {
          "data": {
            "image/png": "[encoded data removed]",
            "text/plain": [
              "<Figure size 1440x360 with 1 Axes>"
            ]
          },
          "metadata": {},
          "output_type": "display_data"
        }
      ],
      "source": [
        "data['brand'].hist(figsize=(20,5), bins = 100)"
      ]
    },
    {
      "cell_type": "markdown",
      "metadata": {
        "id": "dORJLs223PpL"
      },
      "source": [
        "В целом обычный категориальный столбце, аномалий тут тоже не выявлено, гистограмма адекватна, правда я не могу придумать, как сделать надписи более читабельными в гистограмме("
      ]
    },
    {
      "cell_type": "markdown",
      "metadata": {
        "id": "lx3Jm4RD3PpL"
      },
      "source": [
        "**Вывод**\n",
        "В ходе работы в данной главе подготовили данные для далнейшего обучения различных моделей с целью определения лучшей, пропусков нет, явных выбросов тоже, все достаточно цивильно, приступаем ко второй части проекта."
      ]
    },
    {
      "cell_type": "markdown",
      "metadata": {
        "id": "ROA0hZTV3PpL"
      },
      "source": [
        "## Обучение моделей"
      ]
    },
    {
      "cell_type": "markdown",
      "metadata": {
        "id": "4eVhEWFr3PpL"
      },
      "source": [
        "В данной главе необходимо выполнить следующие шаги:\n",
        "    \n",
        "1. Подготовьте выборки для обучения моделей.\n",
        "2. Обучите разные модели, одна из которых — LightGBM, как минимум одна — не бустинг. Для каждой модели попробуйте разные гиперпараметры.\n",
        "3. Проанализируйте время обучения, время предсказания и качество моделей.\n",
        "4. Опираясь на критерии заказчика, выберете лучшую модель, проверьте её качество на тестовой выборке.\n",
        "\n",
        "Не забываем и о примечаниях:\n",
        "\n",
        "- Для оценки качества моделей применяйте метрику RMSE.\n",
        "- Значение метрики RMSE должно быть меньше 2500.\n",
        "- Самостоятельно освойте библиотеку LightGBM и её средствами постройте модели градиентного бустинга.\n",
        "- Время выполнения ячейки кода Jupyter Notebook можно получить специальной командой. Найдите её.\n",
        "- Модель градиентного бустинга может долго обучаться, поэтому измените у неё только два-три параметра."
      ]
    },
    {
      "cell_type": "markdown",
      "metadata": {
        "id": "UhJ8W5Td3PpM"
      },
      "source": [
        "### Подготовьте выборки для обучения моделей"
      ]
    },
    {
      "cell_type": "markdown",
      "metadata": {
        "id": "ZtLjKQAG3PpM"
      },
      "source": [
        "Необходимо разбить выборки для обучения, разобьем по классике 80-20-20. Так же воспользуемся ohe, для лучшего обучения."
      ]
    },
    {
      "cell_type": "code",
      "execution_count": null,
      "metadata": {
        "scrolled": true,
        "id": "r2RVR6zP3PpM",
        "outputId": "0aafff5e-4388-43aa-c159-a4e113e807c5"
      },
      "outputs": [
        {
          "name": "stdout",
          "output_type": "stream",
          "text": [
            "<class 'pandas.core.frame.DataFrame'>\n",
            "Int64Index: 278203 entries, 0 to 354368\n",
            "Data columns (total 10 columns):\n",
            " #   Column             Non-Null Count   Dtype \n",
            "---  ------             --------------   ----- \n",
            " 0   price              278203 non-null  int64 \n",
            " 1   vehicle_type       278203 non-null  object\n",
            " 2   registration_year  278203 non-null  int64 \n",
            " 3   gearbox            278203 non-null  object\n",
            " 4   power              278203 non-null  int64 \n",
            " 5   model              278203 non-null  object\n",
            " 6   kilometer          278203 non-null  int64 \n",
            " 7   fuel_type          278203 non-null  object\n",
            " 8   brand              278203 non-null  object\n",
            " 9   repaired           278203 non-null  object\n",
            "dtypes: int64(4), object(6)\n",
            "memory usage: 23.3+ MB\n"
          ]
        }
      ],
      "source": [
        "initial_data = data\n",
        "initial_data.info()"
      ]
    },
    {
      "cell_type": "markdown",
      "metadata": {
        "id": "PLi2-4gs3PpM"
      },
      "source": [
        "ord_enc = OrdinalEncoder(dtype=np.int64)\n",
        "initial_data[['vehicle_type', 'gearbox', 'model', 'fuel_type', 'brand', 'repaired']] = ord_enc.fit_transform(initial_data[['vehicle_type', 'gearbox', 'model', 'fuel_type', 'brand', 'repaired']])\n",
        "initial_data.info()"
      ]
    },
    {
      "cell_type": "code",
      "execution_count": null,
      "metadata": {
        "id": "VPvjF3fv3PpM"
      },
      "outputs": [],
      "source": [
        "#data = data.drop(columns=['brand'])\n",
        "#data = pd.get_dummies(data, columns=['vehicle_type', 'gearbox', 'model', 'fuel_type', 'brand', 'repaired'], drop_first= True )"
      ]
    },
    {
      "cell_type": "code",
      "execution_count": null,
      "metadata": {
        "id": "tC8pCCka3PpO"
      },
      "outputs": [],
      "source": [
        "#target = data['price']\n",
        "#features = data.drop(['price'], axis=1)"
      ]
    },
    {
      "cell_type": "code",
      "execution_count": null,
      "metadata": {
        "id": "HnKFxAlW3PpO"
      },
      "outputs": [],
      "source": [
        "#features_80, features_test, target_80, target_test = train_test_split(\n",
        "#    features, target, test_size=.2, random_state=42)\n",
        "#features_train, features_valid, target_train, target_valid = train_test_split(\n",
        "#    features_80, target_80, test_size=.25, random_state=42)\n"
      ]
    },
    {
      "cell_type": "markdown",
      "metadata": {
        "id": "5cx0HbJn3PpO"
      },
      "source": [
        "cat_features = data[['vehicle_type', 'gearbox', 'model', 'fuel_type', 'brand', 'repaired']]"
      ]
    },
    {
      "cell_type": "code",
      "execution_count": null,
      "metadata": {
        "id": "DfB4FTC63PpO"
      },
      "outputs": [],
      "source": [
        "initial_target = initial_data['price']\n",
        "initial_features = initial_data.drop(['price'], axis=1)\n",
        "\n",
        "initial_features_80, initial_features_test, initial_target_80, initial_target_test = train_test_split(\n",
        "    initial_features, initial_target, test_size=.2, random_state=42)\n",
        "initial_features_train, initial_features_valid, initial_target_train, initial_target_valid = train_test_split(\n",
        "    initial_features_80, initial_target_80, test_size=.25, random_state=42)"
      ]
    },
    {
      "cell_type": "markdown",
      "metadata": {
        "id": "AVM4COZH3PpO"
      },
      "source": [
        "ord_enc = OrdinalEncoder(dtype=np.int64)\n",
        "initial_features_test_oe = initial_features_test\n",
        "initial_features_train_oe = initial_features_train\n",
        "initial_features_valid_oe = initial_features_valid\n",
        "initial_features_test_oe[['vehicle_type', 'gearbox', 'model', 'fuel_type', 'brand', 'repaired']] = ord_enc.fit_transform(initial_features_test_oe[['vehicle_type', 'gearbox', 'model', 'fuel_type', 'brand', 'repaired']])\n",
        "initial_features_train_oe[['vehicle_type', 'gearbox', 'model', 'fuel_type', 'brand', 'repaired']] = ord_enc.fit_transform(initial_features_train_oe[['vehicle_type', 'gearbox', 'model', 'fuel_type', 'brand', 'repaired']])\n",
        "initial_features_valid_oe[['vehicle_type', 'gearbox', 'model', 'fuel_type', 'brand', 'repaired']] = ord_enc.fit_transform(initial_features_valid_oe[['vehicle_type', 'gearbox', 'model', 'fuel_type', 'brand', 'repaired']])\n"
      ]
    },
    {
      "cell_type": "code",
      "execution_count": null,
      "metadata": {
        "id": "RDNdT5-H3PpP"
      },
      "outputs": [],
      "source": [
        "ord_enc = OrdinalEncoder(dtype=np.int64)\n",
        "initial_features_test_oe = initial_features_test\n",
        "initial_features_train_oe = initial_features_train\n",
        "initial_features_valid_oe = initial_features_valid\n",
        "initial_features_train_oe[['vehicle_type', 'gearbox', 'model', 'fuel_type', 'brand', 'repaired']] = ord_enc.fit_transform(initial_features_train_oe[['vehicle_type', 'gearbox', 'model', 'fuel_type', 'brand', 'repaired']])\n",
        "initial_features_test_oe[['vehicle_type', 'gearbox', 'model', 'fuel_type', 'brand', 'repaired']] = ord_enc.transform(initial_features_test_oe[['vehicle_type', 'gearbox', 'model', 'fuel_type', 'brand', 'repaired']])\n",
        "initial_features_valid_oe[['vehicle_type', 'gearbox', 'model', 'fuel_type', 'brand', 'repaired']] = ord_enc.transform(initial_features_valid_oe[['vehicle_type', 'gearbox', 'model', 'fuel_type', 'brand', 'repaired']])"
      ]
    },
    {
      "cell_type": "markdown",
      "metadata": {
        "id": "fXysFuNU3PpP"
      },
      "source": [
        "### Обучите разные модели, одна из которых — LightGBM, как минимум одна — не бустинг. Для каждой модели попробуйте разные гиперпараметры"
      ]
    },
    {
      "cell_type": "markdown",
      "metadata": {
        "id": "RzP7f9Xv3PpP"
      },
      "source": [
        "Рассмотрим в рамках данной работы три модели: RandomForestRegressor, LightGBM и Catboost. Параметры буду подбирать пока что из рассчета времени, поэтому перебор будет узок, если ревьювер скажет уменьшить размер шага - подлатаем, но сидеть по 10 минут ждать у моря погоды печально:CC. Пришлось установить параметр cv = 3 (66 процентов под обучение в гридсерче не комильфо), для ускорения, что не может не сказаться на качестве, но рмсе меньше 2500 получить реально, просто не знаю, как у ревьюверов все проверяется, вероятно заново запускается и вероятно долго придется ждать"
      ]
    },
    {
      "cell_type": "markdown",
      "metadata": {
        "id": "IZAlxBv23PpQ"
      },
      "source": [
        "#### RandomForestRegressor"
      ]
    },
    {
      "cell_type": "code",
      "execution_count": null,
      "metadata": {
        "id": "Erroy2z-3PpQ",
        "outputId": "687006a5-8c11-44d3-a83c-23dcd7bdbfc5"
      },
      "outputs": [
        {
          "name": "stdout",
          "output_type": "stream",
          "text": [
            "Лучшие параметры:  {'max_depth': 4, 'n_estimators': 18}\n",
            "rfr_rmse 2570.342448353853\n",
            "CPU times: user 55.6 s, sys: 151 ms, total: 55.8 s\n",
            "Wall time: 55.8 s\n"
          ]
        }
      ],
      "source": [
        "%%time\n",
        "rfr = RandomForestRegressor(random_state=42)\n",
        "hyper = { 'max_depth': [x for x in range(1, 5, 1)],\n",
        "               'n_estimators': [x for x in range(10, 20, 2)]\n",
        "             }\n",
        "gscv_rfr = GridSearchCV(rfr, hyper, cv=4, scoring='neg_mean_squared_error')\n",
        "gscv_rfr.fit(initial_features_train_oe, initial_target_train)\n",
        "print('Лучшие параметры: ', gscv_rfr.best_params_)\n",
        "print('rfr_rmse', abs(gscv_rfr.best_score_)**0.5)"
      ]
    },
    {
      "cell_type": "markdown",
      "metadata": {
        "id": "eJjvdP_e3PpQ"
      },
      "source": [
        "Лучший показатель при глубине 4, и ветках = 18."
      ]
    },
    {
      "cell_type": "code",
      "execution_count": null,
      "metadata": {
        "id": "nw6qJonG3PpQ",
        "outputId": "0ac8fb41-b5e4-4bdf-cfb8-08ff4306bfc8"
      },
      "outputs": [
        {
          "name": "stdout",
          "output_type": "stream",
          "text": [
            "CPU times: user 1.77 s, sys: 11.7 ms, total: 1.78 s\n",
            "Wall time: 1.78 s\n"
          ]
        },
        {
          "data": {
            "text/plain": [
              "RandomForestRegressor(max_depth=4, n_estimators=18, random_state=42)"
            ]
          },
          "execution_count": 44,
          "metadata": {},
          "output_type": "execute_result"
        }
      ],
      "source": [
        "%%time\n",
        "model_rfr = RandomForestRegressor(max_depth = 4, n_estimators = 18, random_state=42)\n",
        "model_rfr.fit(initial_features_train_oe, initial_target_train)"
      ]
    },
    {
      "cell_type": "code",
      "execution_count": null,
      "metadata": {
        "id": "08mDDdpO3PpQ",
        "outputId": "2ded6be5-35a1-416a-d89b-21fd918c35f1"
      },
      "outputs": [
        {
          "name": "stdout",
          "output_type": "stream",
          "text": [
            "CPU times: user 34.1 ms, sys: 4.07 ms, total: 38.1 ms\n",
            "Wall time: 37.1 ms\n"
          ]
        }
      ],
      "source": [
        "%%time\n",
        "predict = model_rfr.predict(initial_features_valid_oe)"
      ]
    },
    {
      "cell_type": "code",
      "execution_count": null,
      "metadata": {
        "id": "hueOpoJQ3PpR",
        "outputId": "6cc8281b-097a-44a7-f572-6678409b6f20"
      },
      "outputs": [
        {
          "data": {
            "text/plain": [
              "2582.838305016378"
            ]
          },
          "execution_count": 46,
          "metadata": {},
          "output_type": "execute_result"
        }
      ],
      "source": [
        "rsme_rfr = mean_squared_error(initial_target_valid, predict) ** 0.5\n",
        "rsme_rfr"
      ]
    },
    {
      "cell_type": "markdown",
      "metadata": {
        "id": "Jr4N900P3PpR"
      },
      "source": [
        "#### CatBoostRegressor"
      ]
    },
    {
      "cell_type": "code",
      "execution_count": null,
      "metadata": {
        "id": "i9A9V0k93PpR",
        "outputId": "1b09e9dd-e284-48b9-83a0-5b901cbcf7b6"
      },
      "outputs": [
        {
          "name": "stdout",
          "output_type": "stream",
          "text": [
            "Лучшие параметры:  {'learning_rate': 0.5, 'max_depth': 4, 'verbose': False}\n",
            "rfr_rmse 1626.049174025523\n",
            "CPU times: user 13min 30s, sys: 6.72 s, total: 13min 37s\n",
            "Wall time: 13min 51s\n"
          ]
        }
      ],
      "source": [
        "%%time\n",
        "model_cbr = CatBoostRegressor(random_state=42)\n",
        "hyper = { 'learning_rate': [0.1, 0.5, 0.9],\n",
        "               'max_depth': [4], 'verbose':[False]\n",
        "             }\n",
        "grid_cbr = GridSearchCV(model_cbr, hyper, scoring='neg_mean_squared_error', cv = 3)\n",
        "grid_cbr.fit(initial_features_train, initial_target_train,cat_features=['vehicle_type', 'gearbox', 'model', 'fuel_type', 'brand', 'repaired'])\n",
        "print('Лучшие параметры: ', grid_cbr.best_params_)\n",
        "print('rfr_rmse', abs(grid_cbr.best_score_)**0.5)"
      ]
    },
    {
      "cell_type": "markdown",
      "metadata": {
        "id": "3IUuP44N3PpS"
      },
      "source": [
        "Лучший показатель при learning_rate = 0.5, но 12 минут гридсерча, несмотря на адекватные показатели метрики рмсе, должен сказать, что изначально максимальная глубина == 10, при ней все 45 минут отрабатывали."
      ]
    },
    {
      "cell_type": "code",
      "execution_count": null,
      "metadata": {
        "id": "7wQzswzC3PpS",
        "outputId": "eeb014db-9253-4917-fa17-9e0be608d052"
      },
      "outputs": [
        {
          "name": "stdout",
          "output_type": "stream",
          "text": [
            "CPU times: user 21.3 s, sys: 183 ms, total: 21.5 s\n",
            "Wall time: 23.4 s\n"
          ]
        },
        {
          "data": {
            "text/plain": [
              "<catboost.core.CatBoostRegressor at 0x7faa1f8b2490>"
            ]
          },
          "execution_count": 48,
          "metadata": {},
          "output_type": "execute_result"
        }
      ],
      "source": [
        "%%time\n",
        "model_cbr = CatBoostRegressor(learning_rate = 0.5, max_depth = 4, verbose = False, random_state=42)\n",
        "model_cbr.fit(initial_features_train, initial_target_train)"
      ]
    },
    {
      "cell_type": "code",
      "execution_count": null,
      "metadata": {
        "id": "FJAbcMmz3PpS",
        "outputId": "8b7ee359-38b6-47f6-ad17-6bbb9282b380"
      },
      "outputs": [
        {
          "name": "stdout",
          "output_type": "stream",
          "text": [
            "CPU times: user 47.4 ms, sys: 3.99 ms, total: 51.4 ms\n",
            "Wall time: 49.3 ms\n"
          ]
        }
      ],
      "source": [
        "%%time\n",
        "predict = model_cbr.predict(initial_features_valid)"
      ]
    },
    {
      "cell_type": "code",
      "execution_count": null,
      "metadata": {
        "id": "NGwxw8Z03PpT",
        "outputId": "35da8ad4-1906-4eb7-e791-b0c9ba54ba16"
      },
      "outputs": [
        {
          "data": {
            "text/plain": [
              "1580.2869002639443"
            ]
          },
          "execution_count": 50,
          "metadata": {},
          "output_type": "execute_result"
        }
      ],
      "source": [
        "rsme_cbr = mean_squared_error(initial_target_valid, predict) ** 0.5\n",
        "rsme_cbr"
      ]
    },
    {
      "cell_type": "markdown",
      "metadata": {
        "id": "MG0xIORN3PpT"
      },
      "source": [
        "#### LightGBM"
      ]
    },
    {
      "cell_type": "code",
      "execution_count": null,
      "metadata": {
        "id": "4QStbUTP3PpT",
        "outputId": "a3c794c2-5b76-4fe0-cad3-2ba3e1d2af75"
      },
      "outputs": [
        {
          "name": "stdout",
          "output_type": "stream",
          "text": [
            "Лучшие параметры:  {'learning_rate': 0.3, 'num_leaves': 20}\n",
            "rfr_rmse 1672.2476762653205\n",
            "CPU times: user 15min 24s, sys: 12.1 s, total: 15min 36s\n",
            "Wall time: 15min 41s\n"
          ]
        }
      ],
      "source": [
        "%%time\n",
        "model_lgbm = LGBMRegressor(random_state=42)\n",
        "hyper = { 'num_leaves': [20],\n",
        "               'learning_rate': [0.1, 0.2, 0.3],\n",
        "             }\n",
        "grid_lgbm = GridSearchCV(model_lgbm, hyper, scoring='neg_mean_squared_error', cv = 3)\n",
        "grid_lgbm.fit(initial_features_train_oe, initial_target_train)\n",
        "print('Лучшие параметры: ', grid_lgbm.best_params_)\n",
        "print('rfr_rmse', abs(grid_lgbm.best_score_)**0.5)"
      ]
    },
    {
      "cell_type": "markdown",
      "metadata": {
        "id": "eYjVW0lA3PpT"
      },
      "source": [
        "Лучший параметр - learning_rate = 0.3"
      ]
    },
    {
      "cell_type": "code",
      "execution_count": null,
      "metadata": {
        "id": "jGonHh-23PpT",
        "outputId": "498af4a4-32c9-47d7-ed75-d0fae2df68c5"
      },
      "outputs": [
        {
          "name": "stdout",
          "output_type": "stream",
          "text": [
            "CPU times: user 49.1 s, sys: 454 ms, total: 49.6 s\n",
            "Wall time: 50.2 s\n"
          ]
        },
        {
          "data": {
            "text/plain": [
              "LGBMRegressor(learning_rate=0.3, num_leaves=20, random_state=42)"
            ]
          },
          "execution_count": 52,
          "metadata": {},
          "output_type": "execute_result"
        }
      ],
      "source": [
        "%%time\n",
        "\n",
        "model_lgbmr = LGBMRegressor(learning_rate=.3, num_leaves=20, random_state= 42)\n",
        "model_lgbmr.fit(initial_features_train_oe, initial_target_train)"
      ]
    },
    {
      "cell_type": "code",
      "execution_count": null,
      "metadata": {
        "id": "ioUfizte3PpT",
        "outputId": "e892f758-baff-4263-c8db-4166ecdc1d6e"
      },
      "outputs": [
        {
          "name": "stdout",
          "output_type": "stream",
          "text": [
            "CPU times: user 355 ms, sys: 0 ns, total: 355 ms\n",
            "Wall time: 385 ms\n"
          ]
        }
      ],
      "source": [
        "%%time\n",
        "target_predict = model_lgbmr.predict(initial_features_valid_oe)"
      ]
    },
    {
      "cell_type": "code",
      "execution_count": null,
      "metadata": {
        "id": "2HSbKYqs3PpU",
        "outputId": "85d7867a-ae17-48a3-d7a1-4ce3e946a6aa"
      },
      "outputs": [
        {
          "data": {
            "text/plain": [
              "1580.2869002639443"
            ]
          },
          "execution_count": 54,
          "metadata": {},
          "output_type": "execute_result"
        }
      ],
      "source": [
        "rsme_lgbmr_oe = mean_squared_error(initial_target_valid, predict) ** 0.5\n",
        "rsme_lgbmr_oe"
      ]
    },
    {
      "cell_type": "markdown",
      "metadata": {
        "id": "SkrYz0JI3PpU"
      },
      "source": [
        "## Анализ моделей"
      ]
    },
    {
      "cell_type": "markdown",
      "metadata": {
        "id": "-J3D69Lr3PpU"
      },
      "source": [
        "Заказчику важны:\n",
        "\n",
        "- качество предсказания;\n",
        "- скорость предсказания;\n",
        "- время обучения.\n",
        "\n",
        "Мы рассматривали RandomForestRegressor, LightGBM и Catboost\n",
        "\n",
        "RandomForestRegressor:\n",
        "\n",
        "- Качество предсказания - рмсе порядка 2600\n",
        "- Скорость предсказания - 35.4 мс\n",
        "- Время обучения -  Порядка 1.64 секунд\n",
        "\n",
        "CatBoostRegressor:\n",
        "\n",
        "- Качество предсказания - рмсе порядка 1650\n",
        "- Скорость предсказания - 47.8 мс\n",
        "- Время обучения -  Порядка 18.8 секунд\n",
        "\n",
        "LightGBM:\n",
        "\n",
        "- Качество предсказания - рмсе порядка 1600\n",
        "- Скорость предсказания -  296  мс\n",
        "- Время обучения -  1min 21s\n",
        "\n",
        "Таким образом в первой версии проекта больше всего подходит LightGBM если выбирать точность, Случайный лес если выбирать скорость. Однако сбалансированным вариантом точности и скорости является CatBoostRegressor, воспользуемся ей для проверки на тестовой выборке\n",
        "\n",
        "P.S: У меня очень нестабильно отрабатывает гридсерч и обучение, где-то за минуту, потом тот же код час, поэтому пришлось обойти очень мало параметров, какт только увеличиваешь шаг - в параметре бан на лишние 10 минут. Вероятно, проблема в ohe на 200+ столбцов параметра марки автомобиля, на 300+ фичах обучение даже обычное идет очень туго, не говоря о гридсерче, который обучается внутри по многу раз. Как это решить? Снести марки? Заранее спасибо, товарищ ревьювер!"
      ]
    },
    {
      "cell_type": "code",
      "execution_count": null,
      "metadata": {
        "id": "3LS7SDQy3PpV",
        "outputId": "50405bff-77d0-4f07-d1bb-0cb09f3d5e37"
      },
      "outputs": [
        {
          "data": {
            "text/plain": [
              "1619.4309339643248"
            ]
          },
          "execution_count": 55,
          "metadata": {},
          "output_type": "execute_result"
        }
      ],
      "source": [
        "model_cbr = CatBoostRegressor(learning_rate = 0.5, max_depth = 4, verbose = False, random_state=42, cat_features=['vehicle_type', 'gearbox', 'model', 'fuel_type', 'brand', 'repaired'])\n",
        "model_cbr.fit(initial_features_train, initial_target_train)\n",
        "predict = model_cbr.predict(initial_features_test)\n",
        "rsme_lgbmr_oe = mean_squared_error(initial_target_test, predict) ** 0.5\n",
        "rsme_lgbmr_oe"
      ]
    },
    {
      "cell_type": "markdown",
      "metadata": {
        "id": "CSuHcGdp3PpV"
      },
      "source": [
        "Получили значения удовлетворяющие условию"
      ]
    },
    {
      "cell_type": "markdown",
      "metadata": {
        "id": "95UGfdkx3PpV"
      },
      "source": [
        "## Общий вывод"
      ]
    },
    {
      "cell_type": "markdown",
      "metadata": {
        "id": "lFDqgxvw3PpV"
      },
      "source": [
        "- Успешно ознакомились и предобработали данные, как смогли.\n",
        "- Познакомились с новыми моделями с бустингом, изучили гиперпараметры.\n",
        "- Проанализировали важные для заказчика параметры с целью выбрать одну лучшую модель.\n",
        "- Проверили лучшую модель на тестовой выборке - получили адекватные значения."
      ]
    }
  ],
  "metadata": {
    "ExecuteTimeLog": [
      {
        "duration": 1698,
        "start_time": "2023-02-16T19:54:04.482Z"
      },
      {
        "duration": 2931,
        "start_time": "2023-02-16T19:57:22.578Z"
      },
      {
        "duration": 169,
        "start_time": "2023-02-16T19:57:42.357Z"
      },
      {
        "duration": 148,
        "start_time": "2023-02-16T19:58:14.338Z"
      },
      {
        "duration": 109,
        "start_time": "2023-02-16T20:00:18.664Z"
      },
      {
        "duration": 139,
        "start_time": "2023-02-16T20:16:27.489Z"
      },
      {
        "duration": 18,
        "start_time": "2023-02-16T20:16:35.422Z"
      },
      {
        "duration": 78,
        "start_time": "2023-02-16T20:17:23.928Z"
      },
      {
        "duration": 19,
        "start_time": "2023-02-16T20:19:30.104Z"
      },
      {
        "duration": 1429,
        "start_time": "2023-02-16T20:19:44.203Z"
      },
      {
        "duration": 861,
        "start_time": "2023-02-16T20:19:45.634Z"
      },
      {
        "duration": 152,
        "start_time": "2023-02-16T20:19:46.496Z"
      },
      {
        "duration": 159,
        "start_time": "2023-02-16T20:19:46.649Z"
      },
      {
        "duration": 31,
        "start_time": "2023-02-16T20:19:46.810Z"
      },
      {
        "duration": 1339,
        "start_time": "2023-02-16T20:20:17.723Z"
      },
      {
        "duration": 268,
        "start_time": "2023-02-16T20:20:32.243Z"
      },
      {
        "duration": 227,
        "start_time": "2023-02-16T20:21:10.325Z"
      },
      {
        "duration": 196,
        "start_time": "2023-02-16T20:21:13.921Z"
      },
      {
        "duration": 319,
        "start_time": "2023-02-16T20:21:43.923Z"
      },
      {
        "duration": 265,
        "start_time": "2023-02-16T20:21:58.086Z"
      },
      {
        "duration": 289,
        "start_time": "2023-02-16T20:23:18.391Z"
      },
      {
        "duration": 286,
        "start_time": "2023-02-16T20:24:01.127Z"
      },
      {
        "duration": 276,
        "start_time": "2023-02-16T20:25:05.143Z"
      },
      {
        "duration": 299,
        "start_time": "2023-02-16T20:25:35.574Z"
      },
      {
        "duration": 61,
        "start_time": "2023-02-16T20:27:24.762Z"
      },
      {
        "duration": 247,
        "start_time": "2023-02-16T20:27:47.805Z"
      },
      {
        "duration": 241,
        "start_time": "2023-02-16T20:29:03.605Z"
      },
      {
        "duration": 48,
        "start_time": "2023-02-16T20:29:11.965Z"
      },
      {
        "duration": 278,
        "start_time": "2023-02-16T20:29:37.173Z"
      },
      {
        "duration": 8452,
        "start_time": "2023-02-16T20:29:48.605Z"
      },
      {
        "duration": 8561,
        "start_time": "2023-02-16T20:30:14.403Z"
      },
      {
        "duration": 32,
        "start_time": "2023-02-16T20:30:48.477Z"
      },
      {
        "duration": 24,
        "start_time": "2023-02-16T20:30:58.670Z"
      },
      {
        "duration": 21,
        "start_time": "2023-02-16T20:31:08.915Z"
      },
      {
        "duration": 28,
        "start_time": "2023-02-16T20:31:15.423Z"
      },
      {
        "duration": 26,
        "start_time": "2023-02-16T20:31:18.198Z"
      },
      {
        "duration": 23,
        "start_time": "2023-02-16T20:31:22.941Z"
      },
      {
        "duration": 19,
        "start_time": "2023-02-16T20:31:29.519Z"
      },
      {
        "duration": 8486,
        "start_time": "2023-02-16T20:31:38.955Z"
      },
      {
        "duration": 176,
        "start_time": "2023-02-16T20:37:10.245Z"
      },
      {
        "duration": 5,
        "start_time": "2023-02-16T20:38:25.715Z"
      },
      {
        "duration": 177,
        "start_time": "2023-02-16T20:38:34.985Z"
      },
      {
        "duration": 209,
        "start_time": "2023-02-16T20:40:52.067Z"
      },
      {
        "duration": 206,
        "start_time": "2023-02-16T20:40:59.365Z"
      },
      {
        "duration": 14,
        "start_time": "2023-02-16T20:43:21.194Z"
      },
      {
        "duration": 311,
        "start_time": "2023-02-16T20:43:28.123Z"
      },
      {
        "duration": 265,
        "start_time": "2023-02-16T20:43:42.864Z"
      },
      {
        "duration": 331,
        "start_time": "2023-02-16T20:51:10.233Z"
      },
      {
        "duration": 8508,
        "start_time": "2023-02-16T20:51:26.323Z"
      },
      {
        "duration": 23,
        "start_time": "2023-02-16T20:51:34.833Z"
      },
      {
        "duration": 337,
        "start_time": "2023-02-16T20:51:58.173Z"
      },
      {
        "duration": 20,
        "start_time": "2023-02-16T20:54:08.424Z"
      },
      {
        "duration": 25,
        "start_time": "2023-02-16T20:54:11.983Z"
      },
      {
        "duration": 4,
        "start_time": "2023-02-16T20:54:15.533Z"
      },
      {
        "duration": 25,
        "start_time": "2023-02-16T20:54:22.017Z"
      },
      {
        "duration": 24,
        "start_time": "2023-02-16T20:54:26.094Z"
      },
      {
        "duration": 9,
        "start_time": "2023-02-16T20:55:09.603Z"
      },
      {
        "duration": 41,
        "start_time": "2023-02-16T20:55:13.090Z"
      },
      {
        "duration": 284,
        "start_time": "2023-02-16T20:57:31.253Z"
      },
      {
        "duration": 23,
        "start_time": "2023-02-16T20:59:08.070Z"
      },
      {
        "duration": 261,
        "start_time": "2023-02-16T21:01:04.762Z"
      },
      {
        "duration": 1565,
        "start_time": "2023-02-16T21:01:31.106Z"
      },
      {
        "duration": 878,
        "start_time": "2023-02-16T21:01:32.673Z"
      },
      {
        "duration": 103,
        "start_time": "2023-02-16T21:01:33.553Z"
      },
      {
        "duration": 133,
        "start_time": "2023-02-16T21:01:33.659Z"
      },
      {
        "duration": 26,
        "start_time": "2023-02-16T21:01:33.794Z"
      },
      {
        "duration": 207,
        "start_time": "2023-02-16T21:01:33.821Z"
      },
      {
        "duration": 300,
        "start_time": "2023-02-16T21:01:34.037Z"
      },
      {
        "duration": 21,
        "start_time": "2023-02-16T21:01:34.339Z"
      },
      {
        "duration": 285,
        "start_time": "2023-02-16T21:01:34.362Z"
      },
      {
        "duration": 21,
        "start_time": "2023-02-16T21:01:34.649Z"
      },
      {
        "duration": 45,
        "start_time": "2023-02-16T21:01:34.672Z"
      },
      {
        "duration": 8343,
        "start_time": "2023-02-16T21:01:34.719Z"
      },
      {
        "duration": 21,
        "start_time": "2023-02-16T21:01:43.063Z"
      },
      {
        "duration": 320,
        "start_time": "2023-02-16T21:01:43.085Z"
      },
      {
        "duration": 30,
        "start_time": "2023-02-16T21:01:43.408Z"
      },
      {
        "duration": 276,
        "start_time": "2023-02-16T21:01:43.439Z"
      },
      {
        "duration": 26,
        "start_time": "2023-02-16T21:01:43.717Z"
      },
      {
        "duration": 89,
        "start_time": "2023-02-16T21:07:02.382Z"
      },
      {
        "duration": 49,
        "start_time": "2023-02-17T14:45:02.711Z"
      },
      {
        "duration": 7,
        "start_time": "2023-02-17T14:45:13.171Z"
      },
      {
        "duration": 1569,
        "start_time": "2023-02-17T14:45:21.741Z"
      },
      {
        "duration": 1102,
        "start_time": "2023-02-17T14:45:23.313Z"
      },
      {
        "duration": 128,
        "start_time": "2023-02-17T14:45:24.417Z"
      },
      {
        "duration": 120,
        "start_time": "2023-02-17T14:45:24.547Z"
      },
      {
        "duration": 20,
        "start_time": "2023-02-17T14:45:24.669Z"
      },
      {
        "duration": 176,
        "start_time": "2023-02-17T14:45:24.691Z"
      },
      {
        "duration": 288,
        "start_time": "2023-02-17T14:45:24.868Z"
      },
      {
        "duration": 18,
        "start_time": "2023-02-17T14:45:25.157Z"
      },
      {
        "duration": 249,
        "start_time": "2023-02-17T14:45:25.177Z"
      },
      {
        "duration": 18,
        "start_time": "2023-02-17T14:45:25.428Z"
      },
      {
        "duration": 38,
        "start_time": "2023-02-17T14:45:25.447Z"
      },
      {
        "duration": 8428,
        "start_time": "2023-02-17T14:45:25.486Z"
      },
      {
        "duration": 21,
        "start_time": "2023-02-17T14:45:33.916Z"
      },
      {
        "duration": 317,
        "start_time": "2023-02-17T14:45:33.938Z"
      },
      {
        "duration": 19,
        "start_time": "2023-02-17T14:45:34.257Z"
      },
      {
        "duration": 284,
        "start_time": "2023-02-17T14:45:34.277Z"
      },
      {
        "duration": 33,
        "start_time": "2023-02-17T14:45:34.563Z"
      },
      {
        "duration": 10,
        "start_time": "2023-02-17T14:45:34.598Z"
      },
      {
        "duration": 122,
        "start_time": "2023-02-17T14:45:34.610Z"
      },
      {
        "duration": 7,
        "start_time": "2023-02-17T14:45:54.822Z"
      },
      {
        "duration": 6,
        "start_time": "2023-02-17T14:45:58.250Z"
      },
      {
        "duration": 7,
        "start_time": "2023-02-17T14:46:01.921Z"
      },
      {
        "duration": 118,
        "start_time": "2023-02-17T14:46:08.894Z"
      },
      {
        "duration": 8,
        "start_time": "2023-02-17T14:46:16.387Z"
      },
      {
        "duration": 9,
        "start_time": "2023-02-17T14:46:19.844Z"
      },
      {
        "duration": 1504,
        "start_time": "2023-02-17T14:46:25.808Z"
      },
      {
        "duration": 820,
        "start_time": "2023-02-17T14:46:27.314Z"
      },
      {
        "duration": 150,
        "start_time": "2023-02-17T14:46:28.136Z"
      },
      {
        "duration": 125,
        "start_time": "2023-02-17T14:46:28.288Z"
      },
      {
        "duration": 26,
        "start_time": "2023-02-17T14:46:28.415Z"
      },
      {
        "duration": 193,
        "start_time": "2023-02-17T14:46:28.443Z"
      },
      {
        "duration": 384,
        "start_time": "2023-02-17T14:46:28.638Z"
      },
      {
        "duration": 20,
        "start_time": "2023-02-17T14:46:29.027Z"
      },
      {
        "duration": 298,
        "start_time": "2023-02-17T14:46:29.050Z"
      },
      {
        "duration": 19,
        "start_time": "2023-02-17T14:46:29.350Z"
      },
      {
        "duration": 38,
        "start_time": "2023-02-17T14:46:29.370Z"
      },
      {
        "duration": 8624,
        "start_time": "2023-02-17T14:46:29.427Z"
      },
      {
        "duration": 17,
        "start_time": "2023-02-17T14:46:38.053Z"
      },
      {
        "duration": 309,
        "start_time": "2023-02-17T14:46:38.072Z"
      },
      {
        "duration": 18,
        "start_time": "2023-02-17T14:46:38.383Z"
      },
      {
        "duration": 282,
        "start_time": "2023-02-17T14:46:38.403Z"
      },
      {
        "duration": 22,
        "start_time": "2023-02-17T14:46:38.687Z"
      },
      {
        "duration": 20,
        "start_time": "2023-02-17T14:46:38.711Z"
      },
      {
        "duration": 77,
        "start_time": "2023-02-17T14:46:38.732Z"
      },
      {
        "duration": 9,
        "start_time": "2023-02-17T14:46:58.622Z"
      },
      {
        "duration": 1440,
        "start_time": "2023-02-17T14:47:10.571Z"
      },
      {
        "duration": 896,
        "start_time": "2023-02-17T14:47:12.012Z"
      },
      {
        "duration": 101,
        "start_time": "2023-02-17T14:47:12.910Z"
      },
      {
        "duration": 122,
        "start_time": "2023-02-17T14:47:13.012Z"
      },
      {
        "duration": 22,
        "start_time": "2023-02-17T14:47:13.137Z"
      },
      {
        "duration": 182,
        "start_time": "2023-02-17T14:47:13.161Z"
      },
      {
        "duration": 324,
        "start_time": "2023-02-17T14:47:13.345Z"
      },
      {
        "duration": 18,
        "start_time": "2023-02-17T14:47:13.670Z"
      },
      {
        "duration": 252,
        "start_time": "2023-02-17T14:47:13.689Z"
      },
      {
        "duration": 18,
        "start_time": "2023-02-17T14:47:13.942Z"
      },
      {
        "duration": 38,
        "start_time": "2023-02-17T14:47:13.962Z"
      },
      {
        "duration": 8861,
        "start_time": "2023-02-17T14:47:14.002Z"
      },
      {
        "duration": 17,
        "start_time": "2023-02-17T14:47:22.865Z"
      },
      {
        "duration": 326,
        "start_time": "2023-02-17T14:47:22.885Z"
      },
      {
        "duration": 28,
        "start_time": "2023-02-17T14:47:23.213Z"
      },
      {
        "duration": 273,
        "start_time": "2023-02-17T14:47:23.243Z"
      },
      {
        "duration": 27,
        "start_time": "2023-02-17T14:47:23.517Z"
      },
      {
        "duration": 22,
        "start_time": "2023-02-17T14:47:23.546Z"
      },
      {
        "duration": 98,
        "start_time": "2023-02-17T14:47:23.570Z"
      },
      {
        "duration": 135,
        "start_time": "2023-02-17T14:49:14.076Z"
      },
      {
        "duration": 6,
        "start_time": "2023-02-17T14:49:21.808Z"
      },
      {
        "duration": 6,
        "start_time": "2023-02-17T14:49:24.526Z"
      },
      {
        "duration": 1661,
        "start_time": "2023-02-17T14:49:29.937Z"
      },
      {
        "duration": 858,
        "start_time": "2023-02-17T14:49:31.600Z"
      },
      {
        "duration": 106,
        "start_time": "2023-02-17T14:49:32.460Z"
      },
      {
        "duration": 133,
        "start_time": "2023-02-17T14:49:32.568Z"
      },
      {
        "duration": 30,
        "start_time": "2023-02-17T14:49:32.703Z"
      },
      {
        "duration": 168,
        "start_time": "2023-02-17T14:49:32.735Z"
      },
      {
        "duration": 342,
        "start_time": "2023-02-17T14:49:32.905Z"
      },
      {
        "duration": 27,
        "start_time": "2023-02-17T14:49:33.249Z"
      },
      {
        "duration": 274,
        "start_time": "2023-02-17T14:49:33.278Z"
      },
      {
        "duration": 21,
        "start_time": "2023-02-17T14:49:33.553Z"
      },
      {
        "duration": 60,
        "start_time": "2023-02-17T14:49:33.575Z"
      },
      {
        "duration": 8598,
        "start_time": "2023-02-17T14:49:33.637Z"
      },
      {
        "duration": 19,
        "start_time": "2023-02-17T14:49:42.236Z"
      },
      {
        "duration": 313,
        "start_time": "2023-02-17T14:49:42.258Z"
      },
      {
        "duration": 19,
        "start_time": "2023-02-17T14:49:42.573Z"
      },
      {
        "duration": 292,
        "start_time": "2023-02-17T14:49:42.594Z"
      },
      {
        "duration": 26,
        "start_time": "2023-02-17T14:49:42.889Z"
      },
      {
        "duration": 5,
        "start_time": "2023-02-17T14:49:42.927Z"
      },
      {
        "duration": 79,
        "start_time": "2023-02-17T14:49:42.935Z"
      },
      {
        "duration": 1507,
        "start_time": "2023-02-17T14:50:45.929Z"
      },
      {
        "duration": 1037,
        "start_time": "2023-02-17T14:50:47.439Z"
      },
      {
        "duration": 151,
        "start_time": "2023-02-17T14:50:48.478Z"
      },
      {
        "duration": 197,
        "start_time": "2023-02-17T14:50:48.631Z"
      },
      {
        "duration": 28,
        "start_time": "2023-02-17T14:50:48.832Z"
      },
      {
        "duration": 256,
        "start_time": "2023-02-17T14:50:48.862Z"
      },
      {
        "duration": 332,
        "start_time": "2023-02-17T14:50:49.121Z"
      },
      {
        "duration": 32,
        "start_time": "2023-02-17T14:50:49.455Z"
      },
      {
        "duration": 276,
        "start_time": "2023-02-17T14:50:49.489Z"
      },
      {
        "duration": 22,
        "start_time": "2023-02-17T14:50:49.767Z"
      },
      {
        "duration": 55,
        "start_time": "2023-02-17T14:50:49.791Z"
      },
      {
        "duration": 8778,
        "start_time": "2023-02-17T14:50:49.847Z"
      },
      {
        "duration": 21,
        "start_time": "2023-02-17T14:50:58.627Z"
      },
      {
        "duration": 321,
        "start_time": "2023-02-17T14:50:58.651Z"
      },
      {
        "duration": 18,
        "start_time": "2023-02-17T14:50:58.974Z"
      },
      {
        "duration": 280,
        "start_time": "2023-02-17T14:50:58.994Z"
      },
      {
        "duration": 21,
        "start_time": "2023-02-17T14:50:59.276Z"
      },
      {
        "duration": 7,
        "start_time": "2023-02-17T14:50:59.298Z"
      },
      {
        "duration": 77,
        "start_time": "2023-02-17T14:50:59.326Z"
      },
      {
        "duration": 1354,
        "start_time": "2023-02-17T14:52:15.276Z"
      },
      {
        "duration": 835,
        "start_time": "2023-02-17T14:52:16.632Z"
      },
      {
        "duration": 135,
        "start_time": "2023-02-17T14:52:17.468Z"
      },
      {
        "duration": 121,
        "start_time": "2023-02-17T14:52:17.606Z"
      },
      {
        "duration": 22,
        "start_time": "2023-02-17T14:52:17.728Z"
      },
      {
        "duration": 166,
        "start_time": "2023-02-17T14:52:17.751Z"
      },
      {
        "duration": 290,
        "start_time": "2023-02-17T14:52:17.918Z"
      },
      {
        "duration": 22,
        "start_time": "2023-02-17T14:52:18.209Z"
      },
      {
        "duration": 243,
        "start_time": "2023-02-17T14:52:18.233Z"
      },
      {
        "duration": 18,
        "start_time": "2023-02-17T14:52:18.478Z"
      },
      {
        "duration": 50,
        "start_time": "2023-02-17T14:52:18.497Z"
      },
      {
        "duration": 8075,
        "start_time": "2023-02-17T14:52:18.548Z"
      },
      {
        "duration": 18,
        "start_time": "2023-02-17T14:52:26.624Z"
      },
      {
        "duration": 326,
        "start_time": "2023-02-17T14:52:26.644Z"
      },
      {
        "duration": 19,
        "start_time": "2023-02-17T14:52:26.972Z"
      },
      {
        "duration": 276,
        "start_time": "2023-02-17T14:52:26.994Z"
      },
      {
        "duration": 21,
        "start_time": "2023-02-17T14:52:27.272Z"
      },
      {
        "duration": 205,
        "start_time": "2023-02-17T14:52:27.294Z"
      },
      {
        "duration": 72,
        "start_time": "2023-02-17T14:52:27.501Z"
      },
      {
        "duration": 4,
        "start_time": "2023-02-17T14:54:32.700Z"
      },
      {
        "duration": 2321,
        "start_time": "2023-02-17T14:54:40.060Z"
      },
      {
        "duration": 848,
        "start_time": "2023-02-17T14:54:42.384Z"
      },
      {
        "duration": 107,
        "start_time": "2023-02-17T14:54:43.236Z"
      },
      {
        "duration": 109,
        "start_time": "2023-02-17T14:54:43.345Z"
      },
      {
        "duration": 23,
        "start_time": "2023-02-17T14:54:43.457Z"
      },
      {
        "duration": 185,
        "start_time": "2023-02-17T14:54:43.481Z"
      },
      {
        "duration": 316,
        "start_time": "2023-02-17T14:54:43.668Z"
      },
      {
        "duration": 26,
        "start_time": "2023-02-17T14:54:43.986Z"
      },
      {
        "duration": 323,
        "start_time": "2023-02-17T14:54:44.014Z"
      },
      {
        "duration": 25,
        "start_time": "2023-02-17T14:54:44.339Z"
      },
      {
        "duration": 75,
        "start_time": "2023-02-17T14:54:44.367Z"
      },
      {
        "duration": 8714,
        "start_time": "2023-02-17T14:54:44.444Z"
      },
      {
        "duration": 18,
        "start_time": "2023-02-17T14:54:53.160Z"
      },
      {
        "duration": 311,
        "start_time": "2023-02-17T14:54:53.180Z"
      },
      {
        "duration": 20,
        "start_time": "2023-02-17T14:54:53.493Z"
      },
      {
        "duration": 288,
        "start_time": "2023-02-17T14:54:53.514Z"
      },
      {
        "duration": 29,
        "start_time": "2023-02-17T14:54:53.803Z"
      },
      {
        "duration": 209,
        "start_time": "2023-02-17T14:54:53.834Z"
      },
      {
        "duration": 98,
        "start_time": "2023-02-17T14:54:54.045Z"
      },
      {
        "duration": 132,
        "start_time": "2023-02-17T15:08:59.891Z"
      },
      {
        "duration": 183,
        "start_time": "2023-02-17T15:09:06.841Z"
      },
      {
        "duration": 346,
        "start_time": "2023-02-17T15:09:21.050Z"
      },
      {
        "duration": 281,
        "start_time": "2023-02-17T15:09:35.357Z"
      },
      {
        "duration": 273,
        "start_time": "2023-02-17T15:09:47.349Z"
      },
      {
        "duration": 290,
        "start_time": "2023-02-17T15:10:20.469Z"
      },
      {
        "duration": 265,
        "start_time": "2023-02-17T15:11:18.018Z"
      },
      {
        "duration": 268,
        "start_time": "2023-02-17T15:11:30.171Z"
      },
      {
        "duration": 296,
        "start_time": "2023-02-17T15:11:36.308Z"
      },
      {
        "duration": 257,
        "start_time": "2023-02-17T15:11:44.328Z"
      },
      {
        "duration": 11,
        "start_time": "2023-02-17T15:16:24.141Z"
      },
      {
        "duration": 11,
        "start_time": "2023-02-17T15:16:33.783Z"
      },
      {
        "duration": 13,
        "start_time": "2023-02-17T15:16:59.131Z"
      },
      {
        "duration": 705,
        "start_time": "2023-02-17T15:17:34.828Z"
      },
      {
        "duration": 54,
        "start_time": "2023-02-17T15:20:12.126Z"
      },
      {
        "duration": 11,
        "start_time": "2023-02-17T15:20:19.186Z"
      },
      {
        "duration": 10,
        "start_time": "2023-02-17T15:21:49.878Z"
      },
      {
        "duration": 11,
        "start_time": "2023-02-17T15:21:57.214Z"
      },
      {
        "duration": 11,
        "start_time": "2023-02-17T15:22:03.722Z"
      },
      {
        "duration": 26,
        "start_time": "2023-02-17T15:22:36.140Z"
      },
      {
        "duration": 712,
        "start_time": "2023-02-17T15:23:11.039Z"
      },
      {
        "duration": 621,
        "start_time": "2023-02-17T15:23:29.545Z"
      },
      {
        "duration": 492,
        "start_time": "2023-02-17T15:23:41.179Z"
      },
      {
        "duration": 400,
        "start_time": "2023-02-17T15:23:49.727Z"
      },
      {
        "duration": 31,
        "start_time": "2023-02-17T15:24:20.739Z"
      },
      {
        "duration": 409,
        "start_time": "2023-02-17T15:24:57.330Z"
      },
      {
        "duration": 361,
        "start_time": "2023-02-17T15:25:25.940Z"
      },
      {
        "duration": 561,
        "start_time": "2023-02-17T15:25:52.049Z"
      },
      {
        "duration": 434,
        "start_time": "2023-02-17T15:26:00.605Z"
      },
      {
        "duration": 7,
        "start_time": "2023-02-17T15:26:34.978Z"
      },
      {
        "duration": 11,
        "start_time": "2023-02-17T15:26:45.879Z"
      },
      {
        "duration": 10,
        "start_time": "2023-02-17T15:27:18.771Z"
      },
      {
        "duration": 11,
        "start_time": "2023-02-17T15:27:21.749Z"
      },
      {
        "duration": 6,
        "start_time": "2023-02-17T15:27:24.843Z"
      },
      {
        "duration": 4,
        "start_time": "2023-02-17T15:27:28.740Z"
      },
      {
        "duration": 7,
        "start_time": "2023-02-17T15:27:36.201Z"
      },
      {
        "duration": 5,
        "start_time": "2023-02-17T15:27:42.574Z"
      },
      {
        "duration": 13,
        "start_time": "2023-02-17T15:27:49.749Z"
      },
      {
        "duration": 14,
        "start_time": "2023-02-17T15:27:53.627Z"
      },
      {
        "duration": 1583,
        "start_time": "2023-02-17T15:37:37.898Z"
      },
      {
        "duration": 1253,
        "start_time": "2023-02-17T15:37:39.484Z"
      },
      {
        "duration": 139,
        "start_time": "2023-02-17T15:37:40.738Z"
      },
      {
        "duration": 118,
        "start_time": "2023-02-17T15:37:40.878Z"
      },
      {
        "duration": 22,
        "start_time": "2023-02-17T15:37:40.998Z"
      },
      {
        "duration": 172,
        "start_time": "2023-02-17T15:37:41.028Z"
      },
      {
        "duration": 298,
        "start_time": "2023-02-17T15:37:41.202Z"
      },
      {
        "duration": 27,
        "start_time": "2023-02-17T15:37:41.502Z"
      },
      {
        "duration": 266,
        "start_time": "2023-02-17T15:37:41.531Z"
      },
      {
        "duration": 29,
        "start_time": "2023-02-17T15:37:41.798Z"
      },
      {
        "duration": 38,
        "start_time": "2023-02-17T15:37:41.829Z"
      },
      {
        "duration": 8275,
        "start_time": "2023-02-17T15:37:41.868Z"
      },
      {
        "duration": 18,
        "start_time": "2023-02-17T15:37:50.144Z"
      },
      {
        "duration": 364,
        "start_time": "2023-02-17T15:37:50.165Z"
      },
      {
        "duration": 21,
        "start_time": "2023-02-17T15:37:50.532Z"
      },
      {
        "duration": 277,
        "start_time": "2023-02-17T15:37:50.555Z"
      },
      {
        "duration": 20,
        "start_time": "2023-02-17T15:37:50.834Z"
      },
      {
        "duration": 211,
        "start_time": "2023-02-17T15:37:50.855Z"
      },
      {
        "duration": 73,
        "start_time": "2023-02-17T15:37:51.068Z"
      },
      {
        "duration": 847,
        "start_time": "2023-02-17T15:37:51.143Z"
      },
      {
        "duration": 15,
        "start_time": "2023-02-17T15:37:51.992Z"
      },
      {
        "duration": 46,
        "start_time": "2023-02-17T15:37:52.009Z"
      },
      {
        "duration": 1378,
        "start_time": "2023-02-17T15:40:24.019Z"
      },
      {
        "duration": 788,
        "start_time": "2023-02-17T15:40:25.399Z"
      },
      {
        "duration": 134,
        "start_time": "2023-02-17T15:40:26.188Z"
      },
      {
        "duration": 204,
        "start_time": "2023-02-17T15:40:26.326Z"
      },
      {
        "duration": 21,
        "start_time": "2023-02-17T15:40:26.532Z"
      },
      {
        "duration": 273,
        "start_time": "2023-02-17T15:40:26.555Z"
      },
      {
        "duration": 306,
        "start_time": "2023-02-17T15:40:26.829Z"
      },
      {
        "duration": 27,
        "start_time": "2023-02-17T15:40:27.136Z"
      },
      {
        "duration": 265,
        "start_time": "2023-02-17T15:40:27.164Z"
      },
      {
        "duration": 27,
        "start_time": "2023-02-17T15:40:27.431Z"
      },
      {
        "duration": 39,
        "start_time": "2023-02-17T15:40:27.460Z"
      },
      {
        "duration": 8218,
        "start_time": "2023-02-17T15:40:27.501Z"
      },
      {
        "duration": 41,
        "start_time": "2023-02-17T15:40:35.720Z"
      },
      {
        "duration": 26,
        "start_time": "2023-02-17T15:40:35.765Z"
      },
      {
        "duration": 306,
        "start_time": "2023-02-17T15:40:35.793Z"
      },
      {
        "duration": 35,
        "start_time": "2023-02-17T15:40:36.101Z"
      },
      {
        "duration": 278,
        "start_time": "2023-02-17T15:40:36.138Z"
      },
      {
        "duration": 33,
        "start_time": "2023-02-17T15:40:36.418Z"
      },
      {
        "duration": 199,
        "start_time": "2023-02-17T15:40:36.453Z"
      },
      {
        "duration": 112,
        "start_time": "2023-02-17T15:40:36.654Z"
      },
      {
        "duration": 803,
        "start_time": "2023-02-17T15:40:36.767Z"
      },
      {
        "duration": 11,
        "start_time": "2023-02-17T15:40:37.572Z"
      },
      {
        "duration": 42,
        "start_time": "2023-02-17T15:40:37.585Z"
      },
      {
        "duration": 1424,
        "start_time": "2023-02-17T15:43:00.439Z"
      },
      {
        "duration": 845,
        "start_time": "2023-02-17T15:43:01.865Z"
      },
      {
        "duration": 127,
        "start_time": "2023-02-17T15:43:02.712Z"
      },
      {
        "duration": 109,
        "start_time": "2023-02-17T15:43:02.841Z"
      },
      {
        "duration": 22,
        "start_time": "2023-02-17T15:43:02.952Z"
      },
      {
        "duration": 177,
        "start_time": "2023-02-17T15:43:02.975Z"
      },
      {
        "duration": 288,
        "start_time": "2023-02-17T15:43:03.154Z"
      },
      {
        "duration": 17,
        "start_time": "2023-02-17T15:43:03.443Z"
      },
      {
        "duration": 251,
        "start_time": "2023-02-17T15:43:03.462Z"
      },
      {
        "duration": 22,
        "start_time": "2023-02-17T15:43:03.715Z"
      },
      {
        "duration": 8206,
        "start_time": "2023-02-17T15:43:03.739Z"
      },
      {
        "duration": 41,
        "start_time": "2023-02-17T15:43:11.947Z"
      },
      {
        "duration": 37,
        "start_time": "2023-02-17T15:43:11.990Z"
      },
      {
        "duration": 316,
        "start_time": "2023-02-17T15:43:12.030Z"
      },
      {
        "duration": 19,
        "start_time": "2023-02-17T15:43:12.348Z"
      },
      {
        "duration": 277,
        "start_time": "2023-02-17T15:43:12.369Z"
      },
      {
        "duration": 25,
        "start_time": "2023-02-17T15:43:12.649Z"
      },
      {
        "duration": 217,
        "start_time": "2023-02-17T15:43:12.677Z"
      },
      {
        "duration": 65,
        "start_time": "2023-02-17T15:43:12.896Z"
      },
      {
        "duration": 814,
        "start_time": "2023-02-17T15:43:12.963Z"
      },
      {
        "duration": 11,
        "start_time": "2023-02-17T15:43:13.778Z"
      },
      {
        "duration": 47,
        "start_time": "2023-02-17T15:43:13.791Z"
      },
      {
        "duration": 2,
        "start_time": "2023-02-17T15:43:13.840Z"
      },
      {
        "duration": 5,
        "start_time": "2023-02-17T15:43:29.741Z"
      },
      {
        "duration": 5,
        "start_time": "2023-02-17T15:43:37.381Z"
      },
      {
        "duration": 145,
        "start_time": "2023-02-17T15:43:45.748Z"
      },
      {
        "duration": 147,
        "start_time": "2023-02-17T15:43:54.470Z"
      },
      {
        "duration": 258,
        "start_time": "2023-02-17T15:44:04.988Z"
      },
      {
        "duration": 11,
        "start_time": "2023-02-17T15:45:03.330Z"
      },
      {
        "duration": 12,
        "start_time": "2023-02-17T15:45:17.180Z"
      },
      {
        "duration": 10,
        "start_time": "2023-02-17T15:45:34.955Z"
      },
      {
        "duration": 12,
        "start_time": "2023-02-17T15:45:42.199Z"
      },
      {
        "duration": 11,
        "start_time": "2023-02-17T15:45:48.253Z"
      },
      {
        "duration": 11,
        "start_time": "2023-02-17T15:45:54.591Z"
      },
      {
        "duration": 126,
        "start_time": "2023-02-17T15:46:33.429Z"
      },
      {
        "duration": 28,
        "start_time": "2023-02-17T15:47:28.669Z"
      },
      {
        "duration": 131,
        "start_time": "2023-02-17T15:47:34.768Z"
      },
      {
        "duration": 60,
        "start_time": "2023-02-17T15:48:11.541Z"
      },
      {
        "duration": 144,
        "start_time": "2023-02-17T15:49:32.179Z"
      },
      {
        "duration": 119,
        "start_time": "2023-02-17T15:49:39.516Z"
      },
      {
        "duration": 186,
        "start_time": "2023-02-17T15:50:30.022Z"
      },
      {
        "duration": 399,
        "start_time": "2023-02-17T15:50:38.705Z"
      },
      {
        "duration": 193,
        "start_time": "2023-02-17T15:51:08.657Z"
      },
      {
        "duration": 150,
        "start_time": "2023-02-17T15:51:40.638Z"
      },
      {
        "duration": 277,
        "start_time": "2023-02-17T15:51:56.268Z"
      },
      {
        "duration": 274,
        "start_time": "2023-02-17T15:52:09.797Z"
      },
      {
        "duration": 175,
        "start_time": "2023-02-17T15:52:37.422Z"
      },
      {
        "duration": 135,
        "start_time": "2023-02-17T15:53:01.556Z"
      },
      {
        "duration": 10,
        "start_time": "2023-02-17T15:54:31.668Z"
      },
      {
        "duration": 13,
        "start_time": "2023-02-17T15:54:40.408Z"
      },
      {
        "duration": 11,
        "start_time": "2023-02-17T15:55:04.771Z"
      },
      {
        "duration": 10,
        "start_time": "2023-02-17T15:55:08.356Z"
      },
      {
        "duration": 11,
        "start_time": "2023-02-17T15:55:11.585Z"
      },
      {
        "duration": 10,
        "start_time": "2023-02-17T15:55:15.180Z"
      },
      {
        "duration": 11,
        "start_time": "2023-02-17T15:55:18.089Z"
      },
      {
        "duration": 12,
        "start_time": "2023-02-17T15:55:25.451Z"
      },
      {
        "duration": 11,
        "start_time": "2023-02-17T15:55:30.909Z"
      },
      {
        "duration": 11,
        "start_time": "2023-02-17T15:55:33.870Z"
      },
      {
        "duration": 11,
        "start_time": "2023-02-17T15:56:36.042Z"
      },
      {
        "duration": 27,
        "start_time": "2023-02-17T15:56:39.161Z"
      },
      {
        "duration": 827,
        "start_time": "2023-02-17T15:56:51.107Z"
      },
      {
        "duration": 784,
        "start_time": "2023-02-17T16:00:23.632Z"
      },
      {
        "duration": 1440,
        "start_time": "2023-02-17T16:00:39.850Z"
      },
      {
        "duration": 828,
        "start_time": "2023-02-17T16:00:41.292Z"
      },
      {
        "duration": 146,
        "start_time": "2023-02-17T16:00:42.121Z"
      },
      {
        "duration": 116,
        "start_time": "2023-02-17T16:00:42.269Z"
      },
      {
        "duration": 21,
        "start_time": "2023-02-17T16:00:42.388Z"
      },
      {
        "duration": 170,
        "start_time": "2023-02-17T16:00:42.411Z"
      },
      {
        "duration": 304,
        "start_time": "2023-02-17T16:00:42.583Z"
      },
      {
        "duration": 17,
        "start_time": "2023-02-17T16:00:42.888Z"
      },
      {
        "duration": 281,
        "start_time": "2023-02-17T16:00:42.907Z"
      },
      {
        "duration": 49,
        "start_time": "2023-02-17T16:00:43.190Z"
      },
      {
        "duration": 8258,
        "start_time": "2023-02-17T16:00:43.241Z"
      },
      {
        "duration": 44,
        "start_time": "2023-02-17T16:00:51.501Z"
      },
      {
        "duration": 19,
        "start_time": "2023-02-17T16:00:51.546Z"
      },
      {
        "duration": 309,
        "start_time": "2023-02-17T16:00:51.568Z"
      },
      {
        "duration": 18,
        "start_time": "2023-02-17T16:00:51.879Z"
      },
      {
        "duration": 261,
        "start_time": "2023-02-17T16:00:51.899Z"
      },
      {
        "duration": 18,
        "start_time": "2023-02-17T16:00:52.163Z"
      },
      {
        "duration": 198,
        "start_time": "2023-02-17T16:00:52.183Z"
      },
      {
        "duration": 60,
        "start_time": "2023-02-17T16:00:52.383Z"
      },
      {
        "duration": 812,
        "start_time": "2023-02-17T16:00:52.445Z"
      },
      {
        "duration": 11,
        "start_time": "2023-02-17T16:00:53.258Z"
      },
      {
        "duration": 22,
        "start_time": "2023-02-17T16:00:53.271Z"
      },
      {
        "duration": 288,
        "start_time": "2023-02-17T16:00:53.295Z"
      },
      {
        "duration": 135,
        "start_time": "2023-02-17T16:00:53.585Z"
      },
      {
        "duration": 11,
        "start_time": "2023-02-17T16:00:53.726Z"
      },
      {
        "duration": 29,
        "start_time": "2023-02-17T16:00:53.738Z"
      },
      {
        "duration": 143,
        "start_time": "2023-02-17T16:00:53.768Z"
      },
      {
        "duration": 146,
        "start_time": "2023-02-17T16:00:53.913Z"
      },
      {
        "duration": 186,
        "start_time": "2023-02-17T16:00:54.060Z"
      },
      {
        "duration": 11,
        "start_time": "2023-02-17T16:00:54.247Z"
      },
      {
        "duration": 23,
        "start_time": "2023-02-17T16:00:54.260Z"
      },
      {
        "duration": 870,
        "start_time": "2023-02-17T16:00:54.285Z"
      },
      {
        "duration": 6,
        "start_time": "2023-02-17T16:02:00.072Z"
      },
      {
        "duration": 163,
        "start_time": "2023-02-17T16:02:09.516Z"
      },
      {
        "duration": 175,
        "start_time": "2023-02-17T16:03:00.000Z"
      },
      {
        "duration": 17,
        "start_time": "2023-02-17T16:04:08.058Z"
      },
      {
        "duration": 416,
        "start_time": "2023-02-17T16:04:20.464Z"
      },
      {
        "duration": 17,
        "start_time": "2023-02-17T16:04:27.679Z"
      },
      {
        "duration": 437,
        "start_time": "2023-02-17T16:04:58.516Z"
      },
      {
        "duration": 577,
        "start_time": "2023-02-17T16:05:16.243Z"
      },
      {
        "duration": 533,
        "start_time": "2023-02-17T16:05:27.009Z"
      },
      {
        "duration": 45,
        "start_time": "2023-02-17T16:07:17.914Z"
      },
      {
        "duration": 43,
        "start_time": "2023-02-17T16:12:39.709Z"
      },
      {
        "duration": 11,
        "start_time": "2023-02-17T16:17:05.912Z"
      },
      {
        "duration": 10,
        "start_time": "2023-02-17T16:17:46.738Z"
      },
      {
        "duration": 14,
        "start_time": "2023-02-17T16:17:54.549Z"
      },
      {
        "duration": 14,
        "start_time": "2023-02-17T16:18:02.067Z"
      },
      {
        "duration": 94,
        "start_time": "2023-02-17T16:18:03.189Z"
      },
      {
        "duration": 105,
        "start_time": "2023-02-17T16:19:36.120Z"
      },
      {
        "duration": 472,
        "start_time": "2023-02-17T16:51:32.057Z"
      },
      {
        "duration": 56,
        "start_time": "2023-02-17T17:03:15.482Z"
      },
      {
        "duration": 13,
        "start_time": "2023-02-17T17:03:30.802Z"
      },
      {
        "duration": 57,
        "start_time": "2023-02-17T17:03:34.860Z"
      },
      {
        "duration": 52,
        "start_time": "2023-02-17T17:03:56.992Z"
      },
      {
        "duration": 62212,
        "start_time": "2023-02-17T17:05:03.511Z"
      },
      {
        "duration": 62426,
        "start_time": "2023-02-17T17:06:44.132Z"
      },
      {
        "duration": 33,
        "start_time": "2023-02-17T17:08:55.630Z"
      },
      {
        "duration": 61682,
        "start_time": "2023-02-17T17:09:04.864Z"
      },
      {
        "duration": 62058,
        "start_time": "2023-02-17T17:10:22.533Z"
      },
      {
        "duration": 61615,
        "start_time": "2023-02-17T17:11:52.364Z"
      },
      {
        "duration": 1382,
        "start_time": "2023-02-17T17:15:58.984Z"
      },
      {
        "duration": 871,
        "start_time": "2023-02-17T17:16:00.369Z"
      },
      {
        "duration": 141,
        "start_time": "2023-02-17T17:16:01.242Z"
      },
      {
        "duration": 121,
        "start_time": "2023-02-17T17:16:01.385Z"
      },
      {
        "duration": 32,
        "start_time": "2023-02-17T17:16:01.509Z"
      },
      {
        "duration": 194,
        "start_time": "2023-02-17T17:16:01.543Z"
      },
      {
        "duration": 298,
        "start_time": "2023-02-17T17:16:01.739Z"
      },
      {
        "duration": 18,
        "start_time": "2023-02-17T17:16:02.039Z"
      },
      {
        "duration": 251,
        "start_time": "2023-02-17T17:16:02.059Z"
      },
      {
        "duration": 23,
        "start_time": "2023-02-17T17:16:02.312Z"
      },
      {
        "duration": 8146,
        "start_time": "2023-02-17T17:16:02.337Z"
      },
      {
        "duration": 45,
        "start_time": "2023-02-17T17:16:10.485Z"
      },
      {
        "duration": 18,
        "start_time": "2023-02-17T17:16:10.531Z"
      },
      {
        "duration": 303,
        "start_time": "2023-02-17T17:16:10.552Z"
      },
      {
        "duration": 19,
        "start_time": "2023-02-17T17:16:10.856Z"
      },
      {
        "duration": 265,
        "start_time": "2023-02-17T17:16:10.877Z"
      },
      {
        "duration": 20,
        "start_time": "2023-02-17T17:16:11.143Z"
      },
      {
        "duration": 205,
        "start_time": "2023-02-17T17:16:11.165Z"
      },
      {
        "duration": 72,
        "start_time": "2023-02-17T17:16:11.372Z"
      },
      {
        "duration": 797,
        "start_time": "2023-02-17T17:16:11.446Z"
      },
      {
        "duration": 13,
        "start_time": "2023-02-17T17:16:12.244Z"
      },
      {
        "duration": 23,
        "start_time": "2023-02-17T17:16:12.259Z"
      },
      {
        "duration": 279,
        "start_time": "2023-02-17T17:16:12.283Z"
      },
      {
        "duration": 140,
        "start_time": "2023-02-17T17:16:12.564Z"
      },
      {
        "duration": 22,
        "start_time": "2023-02-17T17:16:12.706Z"
      },
      {
        "duration": 28,
        "start_time": "2023-02-17T17:16:12.729Z"
      },
      {
        "duration": 141,
        "start_time": "2023-02-17T17:16:12.758Z"
      },
      {
        "duration": 138,
        "start_time": "2023-02-17T17:16:12.900Z"
      },
      {
        "duration": 182,
        "start_time": "2023-02-17T17:16:13.039Z"
      },
      {
        "duration": 10,
        "start_time": "2023-02-17T17:16:13.227Z"
      },
      {
        "duration": 29,
        "start_time": "2023-02-17T17:16:13.239Z"
      },
      {
        "duration": 189,
        "start_time": "2023-02-17T17:16:13.269Z"
      },
      {
        "duration": 186,
        "start_time": "2023-02-17T17:16:13.460Z"
      },
      {
        "duration": 16,
        "start_time": "2023-02-17T17:16:13.648Z"
      },
      {
        "duration": 618,
        "start_time": "2023-02-17T17:16:13.666Z"
      },
      {
        "duration": 13,
        "start_time": "2023-02-17T17:16:14.286Z"
      },
      {
        "duration": 95,
        "start_time": "2023-02-17T17:16:14.301Z"
      },
      {
        "duration": 449,
        "start_time": "2023-02-17T17:16:14.397Z"
      },
      {
        "duration": 834,
        "start_time": "2023-02-17T17:16:14.848Z"
      },
      {
        "duration": 62057,
        "start_time": "2023-02-17T17:18:09.001Z"
      },
      {
        "duration": 61455,
        "start_time": "2023-02-17T17:20:28.550Z"
      },
      {
        "duration": 58,
        "start_time": "2023-02-17T17:49:45.100Z"
      },
      {
        "duration": 68261,
        "start_time": "2023-02-17T17:50:06.737Z"
      },
      {
        "duration": 64,
        "start_time": "2023-02-17T17:51:35.184Z"
      },
      {
        "duration": 68129,
        "start_time": "2023-02-17T17:52:56.285Z"
      },
      {
        "duration": 26,
        "start_time": "2023-02-17T18:14:42.198Z"
      },
      {
        "duration": 59,
        "start_time": "2023-02-17T18:14:50.328Z"
      },
      {
        "duration": 54,
        "start_time": "2023-02-17T18:15:09.518Z"
      },
      {
        "duration": 80,
        "start_time": "2023-02-17T18:15:22.291Z"
      },
      {
        "duration": 356540,
        "start_time": "2023-02-17T18:15:35.748Z"
      },
      {
        "duration": 54,
        "start_time": "2023-02-17T18:30:42.334Z"
      },
      {
        "duration": 6,
        "start_time": "2023-02-17T18:31:02.503Z"
      },
      {
        "duration": 3475,
        "start_time": "2023-02-17T18:31:07.928Z"
      },
      {
        "duration": 293314,
        "start_time": "2023-02-17T18:31:34.315Z"
      },
      {
        "duration": 5939,
        "start_time": "2023-02-17T18:43:29.740Z"
      },
      {
        "duration": 5942,
        "start_time": "2023-02-17T18:43:45.919Z"
      },
      {
        "duration": 6109,
        "start_time": "2023-02-17T18:45:47.130Z"
      },
      {
        "duration": 14,
        "start_time": "2023-02-17T18:48:30.857Z"
      },
      {
        "duration": 6295,
        "start_time": "2023-02-17T18:48:36.479Z"
      },
      {
        "duration": 20,
        "start_time": "2023-02-17T18:49:50.617Z"
      },
      {
        "duration": 12,
        "start_time": "2023-02-17T18:50:11.807Z"
      },
      {
        "duration": 18,
        "start_time": "2023-02-17T19:00:32.887Z"
      },
      {
        "duration": 1475,
        "start_time": "2023-02-17T19:24:48.677Z"
      },
      {
        "duration": 921,
        "start_time": "2023-02-17T19:24:50.155Z"
      },
      {
        "duration": 150,
        "start_time": "2023-02-17T19:24:51.078Z"
      },
      {
        "duration": 127,
        "start_time": "2023-02-17T19:24:51.230Z"
      },
      {
        "duration": 24,
        "start_time": "2023-02-17T19:24:51.359Z"
      },
      {
        "duration": 181,
        "start_time": "2023-02-17T19:24:51.386Z"
      },
      {
        "duration": 347,
        "start_time": "2023-02-17T19:24:51.569Z"
      },
      {
        "duration": 34,
        "start_time": "2023-02-17T19:24:51.919Z"
      },
      {
        "duration": 309,
        "start_time": "2023-02-17T19:24:51.955Z"
      },
      {
        "duration": 20,
        "start_time": "2023-02-17T19:24:52.266Z"
      },
      {
        "duration": 8714,
        "start_time": "2023-02-17T19:24:52.289Z"
      },
      {
        "duration": 62,
        "start_time": "2023-02-17T19:25:01.004Z"
      },
      {
        "duration": 21,
        "start_time": "2023-02-17T19:25:01.068Z"
      },
      {
        "duration": 328,
        "start_time": "2023-02-17T19:25:01.094Z"
      },
      {
        "duration": 20,
        "start_time": "2023-02-17T19:25:01.427Z"
      },
      {
        "duration": 272,
        "start_time": "2023-02-17T19:25:01.449Z"
      },
      {
        "duration": 21,
        "start_time": "2023-02-17T19:25:01.723Z"
      },
      {
        "duration": 210,
        "start_time": "2023-02-17T19:25:01.745Z"
      },
      {
        "duration": 72,
        "start_time": "2023-02-17T19:25:01.957Z"
      },
      {
        "duration": 863,
        "start_time": "2023-02-17T19:25:02.031Z"
      },
      {
        "duration": 14,
        "start_time": "2023-02-17T19:25:02.896Z"
      },
      {
        "duration": 36,
        "start_time": "2023-02-17T19:25:02.912Z"
      },
      {
        "duration": 295,
        "start_time": "2023-02-17T19:25:02.950Z"
      },
      {
        "duration": 142,
        "start_time": "2023-02-17T19:25:03.247Z"
      },
      {
        "duration": 13,
        "start_time": "2023-02-17T19:25:03.390Z"
      },
      {
        "duration": 52,
        "start_time": "2023-02-17T19:25:03.405Z"
      },
      {
        "duration": 150,
        "start_time": "2023-02-17T19:25:03.459Z"
      },
      {
        "duration": 175,
        "start_time": "2023-02-17T19:25:03.611Z"
      },
      {
        "duration": 204,
        "start_time": "2023-02-17T19:25:03.788Z"
      },
      {
        "duration": 12,
        "start_time": "2023-02-17T19:25:03.994Z"
      },
      {
        "duration": 48,
        "start_time": "2023-02-17T19:25:04.009Z"
      },
      {
        "duration": 187,
        "start_time": "2023-02-17T19:25:04.059Z"
      },
      {
        "duration": 215,
        "start_time": "2023-02-17T19:25:04.248Z"
      },
      {
        "duration": 31,
        "start_time": "2023-02-17T19:25:04.466Z"
      },
      {
        "duration": 742,
        "start_time": "2023-02-17T19:25:04.500Z"
      },
      {
        "duration": 15,
        "start_time": "2023-02-17T19:25:05.244Z"
      },
      {
        "duration": 112,
        "start_time": "2023-02-17T19:25:05.262Z"
      },
      {
        "duration": 678,
        "start_time": "2023-02-17T19:25:05.375Z"
      },
      {
        "duration": 1503,
        "start_time": "2023-02-17T19:40:17.939Z"
      },
      {
        "duration": 933,
        "start_time": "2023-02-17T19:40:19.445Z"
      },
      {
        "duration": 116,
        "start_time": "2023-02-17T19:40:20.380Z"
      },
      {
        "duration": 133,
        "start_time": "2023-02-17T19:40:20.498Z"
      },
      {
        "duration": 31,
        "start_time": "2023-02-17T19:40:20.633Z"
      },
      {
        "duration": 183,
        "start_time": "2023-02-17T19:40:20.666Z"
      },
      {
        "duration": 310,
        "start_time": "2023-02-17T19:40:20.851Z"
      },
      {
        "duration": 20,
        "start_time": "2023-02-17T19:40:21.163Z"
      },
      {
        "duration": 272,
        "start_time": "2023-02-17T19:40:21.185Z"
      },
      {
        "duration": 17,
        "start_time": "2023-02-17T19:40:21.461Z"
      },
      {
        "duration": 8299,
        "start_time": "2023-02-17T19:40:21.479Z"
      },
      {
        "duration": 49,
        "start_time": "2023-02-17T19:40:29.779Z"
      },
      {
        "duration": 22,
        "start_time": "2023-02-17T19:40:29.832Z"
      },
      {
        "duration": 310,
        "start_time": "2023-02-17T19:40:29.856Z"
      },
      {
        "duration": 24,
        "start_time": "2023-02-17T19:40:30.167Z"
      },
      {
        "duration": 310,
        "start_time": "2023-02-17T19:40:30.193Z"
      },
      {
        "duration": 37,
        "start_time": "2023-02-17T19:40:30.505Z"
      },
      {
        "duration": 223,
        "start_time": "2023-02-17T19:40:30.545Z"
      },
      {
        "duration": 74,
        "start_time": "2023-02-17T19:40:30.769Z"
      },
      {
        "duration": 857,
        "start_time": "2023-02-17T19:40:30.845Z"
      },
      {
        "duration": 11,
        "start_time": "2023-02-17T19:40:31.703Z"
      },
      {
        "duration": 259,
        "start_time": "2023-02-17T19:40:31.716Z"
      },
      {
        "duration": 265,
        "start_time": "2023-02-17T19:40:31.977Z"
      },
      {
        "duration": 138,
        "start_time": "2023-02-17T19:40:32.244Z"
      },
      {
        "duration": 11,
        "start_time": "2023-02-17T19:40:32.384Z"
      },
      {
        "duration": 44,
        "start_time": "2023-02-17T19:40:32.396Z"
      },
      {
        "duration": 138,
        "start_time": "2023-02-17T19:40:32.441Z"
      },
      {
        "duration": 160,
        "start_time": "2023-02-17T19:40:32.583Z"
      },
      {
        "duration": 197,
        "start_time": "2023-02-17T19:40:32.745Z"
      },
      {
        "duration": 11,
        "start_time": "2023-02-17T19:40:32.943Z"
      },
      {
        "duration": 30,
        "start_time": "2023-02-17T19:40:32.956Z"
      },
      {
        "duration": 180,
        "start_time": "2023-02-17T19:40:32.988Z"
      },
      {
        "duration": 195,
        "start_time": "2023-02-17T19:40:33.170Z"
      },
      {
        "duration": 17,
        "start_time": "2023-02-17T19:40:33.367Z"
      },
      {
        "duration": 665,
        "start_time": "2023-02-17T19:40:33.385Z"
      },
      {
        "duration": 13,
        "start_time": "2023-02-17T19:40:34.052Z"
      },
      {
        "duration": 101,
        "start_time": "2023-02-17T19:40:34.066Z"
      },
      {
        "duration": 635,
        "start_time": "2023-02-17T19:40:34.169Z"
      },
      {
        "duration": 2,
        "start_time": "2023-02-17T19:40:34.806Z"
      },
      {
        "duration": 1429,
        "start_time": "2023-02-17T19:42:30.542Z"
      },
      {
        "duration": 865,
        "start_time": "2023-02-17T19:42:31.974Z"
      },
      {
        "duration": 101,
        "start_time": "2023-02-17T19:42:32.841Z"
      },
      {
        "duration": 117,
        "start_time": "2023-02-17T19:42:32.943Z"
      },
      {
        "duration": 26,
        "start_time": "2023-02-17T19:42:33.062Z"
      },
      {
        "duration": 183,
        "start_time": "2023-02-17T19:42:33.090Z"
      },
      {
        "duration": 298,
        "start_time": "2023-02-17T19:42:33.275Z"
      },
      {
        "duration": 17,
        "start_time": "2023-02-17T19:42:33.575Z"
      },
      {
        "duration": 265,
        "start_time": "2023-02-17T19:42:33.594Z"
      },
      {
        "duration": 18,
        "start_time": "2023-02-17T19:42:33.860Z"
      },
      {
        "duration": 8443,
        "start_time": "2023-02-17T19:42:33.879Z"
      },
      {
        "duration": 43,
        "start_time": "2023-02-17T19:42:42.324Z"
      },
      {
        "duration": 16,
        "start_time": "2023-02-17T19:42:42.369Z"
      },
      {
        "duration": 319,
        "start_time": "2023-02-17T19:42:42.388Z"
      },
      {
        "duration": 34,
        "start_time": "2023-02-17T19:42:42.709Z"
      },
      {
        "duration": 254,
        "start_time": "2023-02-17T19:42:42.745Z"
      },
      {
        "duration": 38,
        "start_time": "2023-02-17T19:42:43.001Z"
      },
      {
        "duration": 202,
        "start_time": "2023-02-17T19:42:43.041Z"
      },
      {
        "duration": 62,
        "start_time": "2023-02-17T19:42:43.244Z"
      },
      {
        "duration": 809,
        "start_time": "2023-02-17T19:42:43.307Z"
      },
      {
        "duration": 24,
        "start_time": "2023-02-17T19:42:44.117Z"
      },
      {
        "duration": 24,
        "start_time": "2023-02-17T19:42:44.143Z"
      },
      {
        "duration": 282,
        "start_time": "2023-02-17T19:42:44.169Z"
      },
      {
        "duration": 132,
        "start_time": "2023-02-17T19:42:44.453Z"
      },
      {
        "duration": 11,
        "start_time": "2023-02-17T19:42:44.587Z"
      },
      {
        "duration": 48,
        "start_time": "2023-02-17T19:42:44.599Z"
      },
      {
        "duration": 143,
        "start_time": "2023-02-17T19:42:44.649Z"
      },
      {
        "duration": 149,
        "start_time": "2023-02-17T19:42:44.793Z"
      },
      {
        "duration": 178,
        "start_time": "2023-02-17T19:42:44.944Z"
      },
      {
        "duration": 15,
        "start_time": "2023-02-17T19:42:45.128Z"
      },
      {
        "duration": 28,
        "start_time": "2023-02-17T19:42:45.145Z"
      },
      {
        "duration": 178,
        "start_time": "2023-02-17T19:42:45.175Z"
      },
      {
        "duration": 197,
        "start_time": "2023-02-17T19:42:45.356Z"
      },
      {
        "duration": 17,
        "start_time": "2023-02-17T19:42:45.554Z"
      },
      {
        "duration": 669,
        "start_time": "2023-02-17T19:42:45.572Z"
      },
      {
        "duration": 13,
        "start_time": "2023-02-17T19:42:46.243Z"
      },
      {
        "duration": 98,
        "start_time": "2023-02-17T19:42:46.257Z"
      },
      {
        "duration": 622,
        "start_time": "2023-02-17T19:42:46.356Z"
      },
      {
        "duration": 3,
        "start_time": "2023-02-17T19:42:46.979Z"
      },
      {
        "duration": 6,
        "start_time": "2023-02-17T19:42:46.983Z"
      },
      {
        "duration": 4,
        "start_time": "2023-02-17T19:43:06.063Z"
      },
      {
        "duration": 1377,
        "start_time": "2023-02-17T19:49:48.330Z"
      },
      {
        "duration": 843,
        "start_time": "2023-02-17T19:49:49.710Z"
      },
      {
        "duration": 145,
        "start_time": "2023-02-17T19:49:50.554Z"
      },
      {
        "duration": 125,
        "start_time": "2023-02-17T19:49:50.702Z"
      },
      {
        "duration": 23,
        "start_time": "2023-02-17T19:49:50.829Z"
      },
      {
        "duration": 169,
        "start_time": "2023-02-17T19:49:50.854Z"
      },
      {
        "duration": 291,
        "start_time": "2023-02-17T19:49:51.026Z"
      },
      {
        "duration": 17,
        "start_time": "2023-02-17T19:49:51.326Z"
      },
      {
        "duration": 264,
        "start_time": "2023-02-17T19:49:51.345Z"
      },
      {
        "duration": 23,
        "start_time": "2023-02-17T19:49:51.611Z"
      },
      {
        "duration": 7867,
        "start_time": "2023-02-17T19:49:51.636Z"
      },
      {
        "duration": 38,
        "start_time": "2023-02-17T19:49:59.505Z"
      },
      {
        "duration": 18,
        "start_time": "2023-02-17T19:49:59.544Z"
      },
      {
        "duration": 300,
        "start_time": "2023-02-17T19:49:59.563Z"
      },
      {
        "duration": 17,
        "start_time": "2023-02-17T19:49:59.865Z"
      },
      {
        "duration": 254,
        "start_time": "2023-02-17T19:49:59.884Z"
      },
      {
        "duration": 20,
        "start_time": "2023-02-17T19:50:00.140Z"
      },
      {
        "duration": 232,
        "start_time": "2023-02-17T19:50:00.161Z"
      },
      {
        "duration": 76,
        "start_time": "2023-02-17T19:50:00.396Z"
      },
      {
        "duration": 792,
        "start_time": "2023-02-17T19:50:00.474Z"
      },
      {
        "duration": 11,
        "start_time": "2023-02-17T19:50:01.268Z"
      },
      {
        "duration": 43,
        "start_time": "2023-02-17T19:50:01.280Z"
      },
      {
        "duration": 266,
        "start_time": "2023-02-17T19:50:01.325Z"
      },
      {
        "duration": 135,
        "start_time": "2023-02-17T19:50:01.593Z"
      },
      {
        "duration": 12,
        "start_time": "2023-02-17T19:50:01.730Z"
      },
      {
        "duration": 39,
        "start_time": "2023-02-17T19:50:01.744Z"
      },
      {
        "duration": 150,
        "start_time": "2023-02-17T19:50:01.785Z"
      },
      {
        "duration": 140,
        "start_time": "2023-02-17T19:50:01.939Z"
      },
      {
        "duration": 194,
        "start_time": "2023-02-17T19:50:02.081Z"
      },
      {
        "duration": 12,
        "start_time": "2023-02-17T19:50:02.276Z"
      },
      {
        "duration": 41,
        "start_time": "2023-02-17T19:50:02.290Z"
      },
      {
        "duration": 177,
        "start_time": "2023-02-17T19:50:02.333Z"
      },
      {
        "duration": 200,
        "start_time": "2023-02-17T19:50:02.512Z"
      },
      {
        "duration": 21,
        "start_time": "2023-02-17T19:50:02.714Z"
      },
      {
        "duration": 647,
        "start_time": "2023-02-17T19:50:02.737Z"
      },
      {
        "duration": 12,
        "start_time": "2023-02-17T19:50:03.386Z"
      },
      {
        "duration": 97,
        "start_time": "2023-02-17T19:50:03.399Z"
      },
      {
        "duration": 639,
        "start_time": "2023-02-17T19:50:03.498Z"
      },
      {
        "duration": 1352,
        "start_time": "2023-02-17T19:55:45.482Z"
      },
      {
        "duration": 800,
        "start_time": "2023-02-17T19:55:46.837Z"
      },
      {
        "duration": 101,
        "start_time": "2023-02-17T19:55:47.639Z"
      },
      {
        "duration": 120,
        "start_time": "2023-02-17T19:55:47.741Z"
      },
      {
        "duration": 26,
        "start_time": "2023-02-17T19:55:47.863Z"
      },
      {
        "duration": 169,
        "start_time": "2023-02-17T19:55:47.891Z"
      },
      {
        "duration": 286,
        "start_time": "2023-02-17T19:55:48.062Z"
      },
      {
        "duration": 18,
        "start_time": "2023-02-17T19:55:48.350Z"
      },
      {
        "duration": 258,
        "start_time": "2023-02-17T19:55:48.370Z"
      },
      {
        "duration": 19,
        "start_time": "2023-02-17T19:55:48.630Z"
      },
      {
        "duration": 8102,
        "start_time": "2023-02-17T19:55:48.651Z"
      },
      {
        "duration": 37,
        "start_time": "2023-02-17T19:55:56.755Z"
      },
      {
        "duration": 18,
        "start_time": "2023-02-17T19:55:56.794Z"
      },
      {
        "duration": 300,
        "start_time": "2023-02-17T19:55:56.829Z"
      },
      {
        "duration": 18,
        "start_time": "2023-02-17T19:55:57.131Z"
      },
      {
        "duration": 261,
        "start_time": "2023-02-17T19:55:57.151Z"
      },
      {
        "duration": 23,
        "start_time": "2023-02-17T19:55:57.414Z"
      },
      {
        "duration": 182,
        "start_time": "2023-02-17T19:55:57.438Z"
      },
      {
        "duration": 61,
        "start_time": "2023-02-17T19:55:57.621Z"
      },
      {
        "duration": 789,
        "start_time": "2023-02-17T19:55:57.684Z"
      },
      {
        "duration": 11,
        "start_time": "2023-02-17T19:55:58.475Z"
      },
      {
        "duration": 21,
        "start_time": "2023-02-17T19:55:58.487Z"
      },
      {
        "duration": 263,
        "start_time": "2023-02-17T19:55:58.526Z"
      },
      {
        "duration": 143,
        "start_time": "2023-02-17T19:55:58.791Z"
      },
      {
        "duration": 10,
        "start_time": "2023-02-17T19:55:58.936Z"
      },
      {
        "duration": 27,
        "start_time": "2023-02-17T19:55:58.948Z"
      },
      {
        "duration": 159,
        "start_time": "2023-02-17T19:55:58.977Z"
      },
      {
        "duration": 135,
        "start_time": "2023-02-17T19:55:59.137Z"
      },
      {
        "duration": 184,
        "start_time": "2023-02-17T19:55:59.273Z"
      },
      {
        "duration": 10,
        "start_time": "2023-02-17T19:55:59.459Z"
      },
      {
        "duration": 25,
        "start_time": "2023-02-17T19:55:59.470Z"
      },
      {
        "duration": 182,
        "start_time": "2023-02-17T19:55:59.497Z"
      },
      {
        "duration": 195,
        "start_time": "2023-02-17T19:55:59.681Z"
      },
      {
        "duration": 19,
        "start_time": "2023-02-17T19:55:59.878Z"
      },
      {
        "duration": 725,
        "start_time": "2023-02-17T19:55:59.899Z"
      },
      {
        "duration": 14,
        "start_time": "2023-02-17T19:56:00.626Z"
      },
      {
        "duration": 109,
        "start_time": "2023-02-17T19:56:00.642Z"
      },
      {
        "duration": 639,
        "start_time": "2023-02-17T19:56:00.753Z"
      },
      {
        "duration": 4,
        "start_time": "2023-02-17T19:56:01.394Z"
      },
      {
        "duration": 6,
        "start_time": "2023-02-17T19:57:30.443Z"
      },
      {
        "duration": 252294,
        "start_time": "2023-02-17T19:57:41.440Z"
      },
      {
        "duration": 56,
        "start_time": "2023-02-17T20:21:04.398Z"
      },
      {
        "duration": 489,
        "start_time": "2023-02-17T20:22:54.688Z"
      },
      {
        "duration": 155,
        "start_time": "2023-02-17T20:22:57.091Z"
      },
      {
        "duration": 387,
        "start_time": "2023-02-17T20:23:00.438Z"
      },
      {
        "duration": 5,
        "start_time": "2023-02-17T20:23:20.326Z"
      },
      {
        "duration": 11382,
        "start_time": "2023-02-17T20:23:35.031Z"
      },
      {
        "duration": 242890,
        "start_time": "2023-02-17T20:24:44.368Z"
      },
      {
        "duration": 7282,
        "start_time": "2023-02-17T20:30:48.063Z"
      },
      {
        "duration": 339788,
        "start_time": "2023-02-17T20:31:23.249Z"
      },
      {
        "duration": 43442,
        "start_time": "2023-02-17T20:39:25.406Z"
      },
      {
        "duration": 1710114,
        "start_time": "2023-02-17T20:42:03.804Z"
      },
      {
        "duration": 165854,
        "start_time": "2023-02-17T21:11:46.756Z"
      },
      {
        "duration": 4,
        "start_time": "2023-02-17T21:14:45.881Z"
      },
      {
        "duration": 285448,
        "start_time": "2023-02-17T21:15:21.227Z"
      },
      {
        "duration": 16,
        "start_time": "2023-02-17T21:22:40.509Z"
      },
      {
        "duration": 18,
        "start_time": "2023-02-17T21:22:54.985Z"
      },
      {
        "duration": 12,
        "start_time": "2023-02-17T21:23:59.220Z"
      },
      {
        "duration": 101,
        "start_time": "2023-02-17T21:24:05.089Z"
      },
      {
        "duration": 59,
        "start_time": "2023-02-17T21:39:30.248Z"
      },
      {
        "duration": 11190,
        "start_time": "2023-02-17T21:39:38.248Z"
      },
      {
        "duration": 62537,
        "start_time": "2023-02-17T21:42:20.848Z"
      },
      {
        "duration": 11,
        "start_time": "2023-02-17T21:43:39.835Z"
      },
      {
        "duration": 47395,
        "start_time": "2023-02-17T21:44:06.937Z"
      },
      {
        "duration": 3964,
        "start_time": "2023-02-17T21:46:57.327Z"
      },
      {
        "duration": 48,
        "start_time": "2023-02-17T21:47:59.841Z"
      },
      {
        "duration": 207500,
        "start_time": "2023-02-17T21:48:15.142Z"
      },
      {
        "duration": 38845,
        "start_time": "2023-02-17T21:55:17.193Z"
      },
      {
        "duration": 5828,
        "start_time": "2023-02-17T21:57:16.009Z"
      },
      {
        "duration": 124830,
        "start_time": "2023-02-17T21:57:46.004Z"
      },
      {
        "duration": 46,
        "start_time": "2023-02-17T21:59:50.836Z"
      },
      {
        "duration": 6936,
        "start_time": "2023-02-17T22:01:57.587Z"
      },
      {
        "duration": 101,
        "start_time": "2023-02-17T22:02:09.596Z"
      },
      {
        "duration": 3,
        "start_time": "2023-02-17T22:02:20.297Z"
      },
      {
        "duration": 106,
        "start_time": "2023-02-17T22:02:23.186Z"
      },
      {
        "duration": 7275,
        "start_time": "2023-02-17T22:02:52.068Z"
      },
      {
        "duration": 5,
        "start_time": "2023-02-17T22:03:46.728Z"
      },
      {
        "duration": 50,
        "start_time": "2023-02-17T22:05:07.550Z"
      },
      {
        "duration": 43297,
        "start_time": "2023-02-17T22:05:59.298Z"
      },
      {
        "duration": 267,
        "start_time": "2023-02-17T22:06:42.597Z"
      },
      {
        "duration": 6,
        "start_time": "2023-02-17T22:06:42.866Z"
      },
      {
        "duration": 191270,
        "start_time": "2023-02-17T22:08:50.917Z"
      },
      {
        "duration": 11,
        "start_time": "2023-02-17T22:12:02.189Z"
      },
      {
        "duration": 0,
        "start_time": "2023-02-17T22:12:02.201Z"
      },
      {
        "duration": 423207,
        "start_time": "2023-02-17T22:12:14.683Z"
      },
      {
        "duration": 55,
        "start_time": "2023-02-17T22:19:17.892Z"
      },
      {
        "duration": 5,
        "start_time": "2023-02-17T22:19:17.949Z"
      },
      {
        "duration": 737333,
        "start_time": "2023-02-17T22:19:28.173Z"
      },
      {
        "duration": 20584,
        "start_time": "2023-02-17T22:31:45.508Z"
      },
      {
        "duration": 47,
        "start_time": "2023-02-17T22:32:06.094Z"
      },
      {
        "duration": 5,
        "start_time": "2023-02-17T22:32:06.143Z"
      },
      {
        "duration": 23,
        "start_time": "2023-02-17T22:32:06.153Z"
      },
      {
        "duration": 1360,
        "start_time": "2023-02-17T22:33:17.762Z"
      },
      {
        "duration": 800,
        "start_time": "2023-02-17T22:33:19.125Z"
      },
      {
        "duration": 102,
        "start_time": "2023-02-17T22:33:19.926Z"
      },
      {
        "duration": 114,
        "start_time": "2023-02-17T22:33:20.030Z"
      },
      {
        "duration": 25,
        "start_time": "2023-02-17T22:33:20.146Z"
      },
      {
        "duration": 192,
        "start_time": "2023-02-17T22:33:20.173Z"
      },
      {
        "duration": 320,
        "start_time": "2023-02-17T22:33:20.367Z"
      },
      {
        "duration": 20,
        "start_time": "2023-02-17T22:33:20.689Z"
      },
      {
        "duration": 255,
        "start_time": "2023-02-17T22:33:20.710Z"
      },
      {
        "duration": 18,
        "start_time": "2023-02-17T22:33:20.966Z"
      },
      {
        "duration": 7962,
        "start_time": "2023-02-17T22:33:20.986Z"
      },
      {
        "duration": 39,
        "start_time": "2023-02-17T22:33:28.950Z"
      },
      {
        "duration": 35,
        "start_time": "2023-02-17T22:33:28.992Z"
      },
      {
        "duration": 289,
        "start_time": "2023-02-17T22:33:29.031Z"
      },
      {
        "duration": 18,
        "start_time": "2023-02-17T22:33:29.323Z"
      },
      {
        "duration": 254,
        "start_time": "2023-02-17T22:33:29.343Z"
      },
      {
        "duration": 33,
        "start_time": "2023-02-17T22:33:29.598Z"
      },
      {
        "duration": 200,
        "start_time": "2023-02-17T22:33:29.633Z"
      },
      {
        "duration": 63,
        "start_time": "2023-02-17T22:33:29.835Z"
      },
      {
        "duration": 835,
        "start_time": "2023-02-17T22:33:29.900Z"
      },
      {
        "duration": 11,
        "start_time": "2023-02-17T22:33:30.737Z"
      },
      {
        "duration": 59,
        "start_time": "2023-02-17T22:33:30.750Z"
      },
      {
        "duration": 246,
        "start_time": "2023-02-17T22:33:30.810Z"
      },
      {
        "duration": 127,
        "start_time": "2023-02-17T22:33:31.058Z"
      },
      {
        "duration": 10,
        "start_time": "2023-02-17T22:33:31.187Z"
      },
      {
        "duration": 53,
        "start_time": "2023-02-17T22:33:31.199Z"
      },
      {
        "duration": 129,
        "start_time": "2023-02-17T22:33:31.254Z"
      },
      {
        "duration": 140,
        "start_time": "2023-02-17T22:33:31.385Z"
      },
      {
        "duration": 183,
        "start_time": "2023-02-17T22:33:31.527Z"
      },
      {
        "duration": 19,
        "start_time": "2023-02-17T22:33:31.712Z"
      },
      {
        "duration": 24,
        "start_time": "2023-02-17T22:33:31.733Z"
      },
      {
        "duration": 185,
        "start_time": "2023-02-17T22:33:31.759Z"
      },
      {
        "duration": 191,
        "start_time": "2023-02-17T22:33:31.946Z"
      },
      {
        "duration": 17,
        "start_time": "2023-02-17T22:33:32.139Z"
      },
      {
        "duration": 642,
        "start_time": "2023-02-17T22:33:32.158Z"
      },
      {
        "duration": 475,
        "start_time": "2023-02-17T22:33:32.801Z"
      },
      {
        "duration": 159,
        "start_time": "2023-02-17T22:33:33.277Z"
      },
      {
        "duration": 373,
        "start_time": "2023-02-17T22:33:33.438Z"
      },
      {
        "duration": 240960,
        "start_time": "2023-02-17T22:33:33.812Z"
      },
      {
        "duration": 6999,
        "start_time": "2023-02-17T22:37:34.774Z"
      },
      {
        "duration": 131,
        "start_time": "2023-02-17T22:37:41.779Z"
      },
      {
        "duration": 6,
        "start_time": "2023-02-17T22:37:41.911Z"
      },
      {
        "duration": 331977,
        "start_time": "2023-02-17T22:37:41.928Z"
      },
      {
        "duration": 41748,
        "start_time": "2023-02-17T22:43:13.907Z"
      },
      {
        "duration": 256,
        "start_time": "2023-02-17T22:43:55.657Z"
      },
      {
        "duration": 14,
        "start_time": "2023-02-17T22:43:55.914Z"
      },
      {
        "duration": 225109,
        "start_time": "2023-02-17T22:43:55.930Z"
      },
      {
        "duration": 4108,
        "start_time": "2023-02-17T22:47:41.127Z"
      },
      {
        "duration": 495,
        "start_time": "2023-02-17T22:47:45.237Z"
      },
      {
        "duration": 5,
        "start_time": "2023-02-17T22:47:45.734Z"
      },
      {
        "duration": 49,
        "start_time": "2023-02-20T09:12:48.668Z"
      },
      {
        "duration": 5,
        "start_time": "2023-02-20T09:14:52.911Z"
      },
      {
        "duration": 7,
        "start_time": "2023-02-20T09:15:06.674Z"
      },
      {
        "duration": 1951,
        "start_time": "2023-02-20T09:15:09.729Z"
      },
      {
        "duration": 1191,
        "start_time": "2023-02-20T09:15:11.682Z"
      },
      {
        "duration": 77,
        "start_time": "2023-02-20T09:16:20.152Z"
      },
      {
        "duration": 315,
        "start_time": "2023-02-20T09:16:26.349Z"
      },
      {
        "duration": 319,
        "start_time": "2023-02-20T09:16:35.920Z"
      },
      {
        "duration": 332,
        "start_time": "2023-02-20T09:16:42.199Z"
      },
      {
        "duration": 69,
        "start_time": "2023-02-20T09:16:45.868Z"
      },
      {
        "duration": 53312,
        "start_time": "2023-02-20T09:16:55.778Z"
      },
      {
        "duration": 4,
        "start_time": "2023-02-20T09:18:09.259Z"
      },
      {
        "duration": 74,
        "start_time": "2023-02-20T09:18:12.171Z"
      },
      {
        "duration": 69,
        "start_time": "2023-02-20T09:18:24.778Z"
      },
      {
        "duration": 51,
        "start_time": "2023-02-20T18:41:26.733Z"
      },
      {
        "duration": 1799,
        "start_time": "2023-02-20T18:43:38.992Z"
      },
      {
        "duration": 3479,
        "start_time": "2023-02-20T18:43:40.794Z"
      },
      {
        "duration": 150,
        "start_time": "2023-02-20T18:43:44.275Z"
      },
      {
        "duration": 176,
        "start_time": "2023-02-20T18:43:44.427Z"
      },
      {
        "duration": 434,
        "start_time": "2023-02-20T18:43:44.606Z"
      },
      {
        "duration": 38,
        "start_time": "2023-02-20T18:43:45.043Z"
      },
      {
        "duration": 436,
        "start_time": "2023-02-20T18:43:45.084Z"
      },
      {
        "duration": 353,
        "start_time": "2023-02-20T18:43:45.522Z"
      },
      {
        "duration": 20,
        "start_time": "2023-02-20T18:43:45.878Z"
      },
      {
        "duration": 282,
        "start_time": "2023-02-20T18:43:45.901Z"
      },
      {
        "duration": 37,
        "start_time": "2023-02-20T18:43:46.184Z"
      },
      {
        "duration": 8689,
        "start_time": "2023-02-20T18:43:46.223Z"
      },
      {
        "duration": 42,
        "start_time": "2023-02-20T18:43:54.914Z"
      },
      {
        "duration": 20,
        "start_time": "2023-02-20T18:43:54.959Z"
      },
      {
        "duration": 363,
        "start_time": "2023-02-20T18:43:54.980Z"
      },
      {
        "duration": 23,
        "start_time": "2023-02-20T18:43:55.345Z"
      },
      {
        "duration": 304,
        "start_time": "2023-02-20T18:43:55.371Z"
      },
      {
        "duration": 23,
        "start_time": "2023-02-20T18:43:55.678Z"
      },
      {
        "duration": 228,
        "start_time": "2023-02-20T18:43:55.703Z"
      },
      {
        "duration": 77,
        "start_time": "2023-02-20T18:43:55.933Z"
      },
      {
        "duration": 811,
        "start_time": "2023-02-20T18:43:56.021Z"
      },
      {
        "duration": 12,
        "start_time": "2023-02-20T18:43:56.834Z"
      },
      {
        "duration": 26,
        "start_time": "2023-02-20T18:43:56.847Z"
      },
      {
        "duration": 288,
        "start_time": "2023-02-20T18:43:56.875Z"
      },
      {
        "duration": 136,
        "start_time": "2023-02-20T18:43:57.165Z"
      },
      {
        "duration": 21,
        "start_time": "2023-02-20T18:43:57.302Z"
      },
      {
        "duration": 30,
        "start_time": "2023-02-20T18:43:57.325Z"
      },
      {
        "duration": 145,
        "start_time": "2023-02-20T18:43:57.357Z"
      },
      {
        "duration": 161,
        "start_time": "2023-02-20T18:43:57.503Z"
      },
      {
        "duration": 196,
        "start_time": "2023-02-20T18:43:57.665Z"
      },
      {
        "duration": 11,
        "start_time": "2023-02-20T18:43:57.863Z"
      },
      {
        "duration": 4,
        "start_time": "2023-02-20T18:43:57.875Z"
      },
      {
        "duration": 48,
        "start_time": "2023-02-20T18:43:57.881Z"
      },
      {
        "duration": 164,
        "start_time": "2023-02-20T18:43:57.930Z"
      },
      {
        "duration": 193,
        "start_time": "2023-02-20T18:43:58.096Z"
      },
      {
        "duration": 19,
        "start_time": "2023-02-20T18:43:58.291Z"
      },
      {
        "duration": 671,
        "start_time": "2023-02-20T18:43:58.321Z"
      },
      {
        "duration": 596,
        "start_time": "2023-02-20T18:43:58.993Z"
      },
      {
        "duration": 164,
        "start_time": "2023-02-20T18:43:59.591Z"
      },
      {
        "duration": 412,
        "start_time": "2023-02-20T18:43:59.757Z"
      },
      {
        "duration": 1640,
        "start_time": "2023-02-20T18:45:08.848Z"
      },
      {
        "duration": 901,
        "start_time": "2023-02-20T18:45:10.491Z"
      },
      {
        "duration": 166,
        "start_time": "2023-02-20T18:45:11.394Z"
      },
      {
        "duration": 143,
        "start_time": "2023-02-20T18:45:11.562Z"
      },
      {
        "duration": 97,
        "start_time": "2023-02-20T18:45:11.707Z"
      },
      {
        "duration": 39,
        "start_time": "2023-02-20T18:45:11.806Z"
      },
      {
        "duration": 243,
        "start_time": "2023-02-20T18:45:11.847Z"
      },
      {
        "duration": 377,
        "start_time": "2023-02-20T18:45:12.092Z"
      },
      {
        "duration": 24,
        "start_time": "2023-02-20T18:45:12.471Z"
      },
      {
        "duration": 315,
        "start_time": "2023-02-20T18:45:12.497Z"
      },
      {
        "duration": 22,
        "start_time": "2023-02-20T18:45:12.814Z"
      },
      {
        "duration": 8992,
        "start_time": "2023-02-20T18:45:12.838Z"
      },
      {
        "duration": 47,
        "start_time": "2023-02-20T18:45:21.832Z"
      },
      {
        "duration": 42,
        "start_time": "2023-02-20T18:45:21.883Z"
      },
      {
        "duration": 330,
        "start_time": "2023-02-20T18:45:21.927Z"
      },
      {
        "duration": 21,
        "start_time": "2023-02-20T18:45:22.259Z"
      },
      {
        "duration": 314,
        "start_time": "2023-02-20T18:45:22.282Z"
      },
      {
        "duration": 43,
        "start_time": "2023-02-20T18:45:22.598Z"
      },
      {
        "duration": 224,
        "start_time": "2023-02-20T18:45:22.644Z"
      },
      {
        "duration": 85,
        "start_time": "2023-02-20T18:45:22.870Z"
      },
      {
        "duration": 835,
        "start_time": "2023-02-20T18:45:22.956Z"
      },
      {
        "duration": 12,
        "start_time": "2023-02-20T18:45:23.793Z"
      },
      {
        "duration": 26,
        "start_time": "2023-02-20T18:45:23.820Z"
      },
      {
        "duration": 299,
        "start_time": "2023-02-20T18:45:23.847Z"
      },
      {
        "duration": 138,
        "start_time": "2023-02-20T18:45:24.148Z"
      },
      {
        "duration": 12,
        "start_time": "2023-02-20T18:45:24.287Z"
      },
      {
        "duration": 49,
        "start_time": "2023-02-20T18:45:24.300Z"
      },
      {
        "duration": 155,
        "start_time": "2023-02-20T18:45:24.351Z"
      },
      {
        "duration": 231,
        "start_time": "2023-02-20T18:45:24.508Z"
      },
      {
        "duration": 199,
        "start_time": "2023-02-20T18:45:24.740Z"
      },
      {
        "duration": 11,
        "start_time": "2023-02-20T18:45:24.941Z"
      },
      {
        "duration": 4,
        "start_time": "2023-02-20T18:45:24.954Z"
      },
      {
        "duration": 27,
        "start_time": "2023-02-20T18:45:24.960Z"
      },
      {
        "duration": 246,
        "start_time": "2023-02-20T18:45:24.990Z"
      },
      {
        "duration": 201,
        "start_time": "2023-02-20T18:45:25.237Z"
      },
      {
        "duration": 18,
        "start_time": "2023-02-20T18:45:25.440Z"
      },
      {
        "duration": 1574,
        "start_time": "2023-02-20T18:45:27.720Z"
      },
      {
        "duration": 875,
        "start_time": "2023-02-20T18:45:29.296Z"
      },
      {
        "duration": 112,
        "start_time": "2023-02-20T18:45:30.173Z"
      },
      {
        "duration": 149,
        "start_time": "2023-02-20T18:45:30.287Z"
      },
      {
        "duration": 99,
        "start_time": "2023-02-20T18:45:30.438Z"
      },
      {
        "duration": 28,
        "start_time": "2023-02-20T18:45:30.539Z"
      },
      {
        "duration": 208,
        "start_time": "2023-02-20T18:45:30.568Z"
      },
      {
        "duration": 320,
        "start_time": "2023-02-20T18:45:30.778Z"
      },
      {
        "duration": 21,
        "start_time": "2023-02-20T18:45:31.100Z"
      },
      {
        "duration": 286,
        "start_time": "2023-02-20T18:45:31.124Z"
      },
      {
        "duration": 22,
        "start_time": "2023-02-20T18:45:31.411Z"
      },
      {
        "duration": 9231,
        "start_time": "2023-02-20T18:45:31.435Z"
      },
      {
        "duration": 43,
        "start_time": "2023-02-20T18:45:40.668Z"
      },
      {
        "duration": 21,
        "start_time": "2023-02-20T18:45:40.723Z"
      },
      {
        "duration": 334,
        "start_time": "2023-02-20T18:45:40.745Z"
      },
      {
        "duration": 22,
        "start_time": "2023-02-20T18:45:41.081Z"
      },
      {
        "duration": 293,
        "start_time": "2023-02-20T18:45:41.105Z"
      },
      {
        "duration": 33,
        "start_time": "2023-02-20T18:45:41.400Z"
      },
      {
        "duration": 228,
        "start_time": "2023-02-20T18:45:41.435Z"
      },
      {
        "duration": 86,
        "start_time": "2023-02-20T18:45:41.665Z"
      },
      {
        "duration": 864,
        "start_time": "2023-02-20T18:45:41.752Z"
      },
      {
        "duration": 12,
        "start_time": "2023-02-20T18:45:42.617Z"
      },
      {
        "duration": 27,
        "start_time": "2023-02-20T18:45:42.631Z"
      },
      {
        "duration": 340,
        "start_time": "2023-02-20T18:45:42.661Z"
      },
      {
        "duration": 145,
        "start_time": "2023-02-20T18:45:43.002Z"
      },
      {
        "duration": 12,
        "start_time": "2023-02-20T18:45:43.148Z"
      },
      {
        "duration": 30,
        "start_time": "2023-02-20T18:45:43.162Z"
      },
      {
        "duration": 178,
        "start_time": "2023-02-20T18:45:43.194Z"
      },
      {
        "duration": 160,
        "start_time": "2023-02-20T18:45:43.374Z"
      },
      {
        "duration": 215,
        "start_time": "2023-02-20T18:45:43.535Z"
      },
      {
        "duration": 12,
        "start_time": "2023-02-20T18:45:43.752Z"
      },
      {
        "duration": 4,
        "start_time": "2023-02-20T18:45:43.766Z"
      },
      {
        "duration": 49,
        "start_time": "2023-02-20T18:45:43.772Z"
      },
      {
        "duration": 179,
        "start_time": "2023-02-20T18:45:43.823Z"
      },
      {
        "duration": 199,
        "start_time": "2023-02-20T18:45:44.003Z"
      },
      {
        "duration": 24,
        "start_time": "2023-02-20T18:45:44.204Z"
      },
      {
        "duration": 785,
        "start_time": "2023-02-20T18:45:44.230Z"
      },
      {
        "duration": 709,
        "start_time": "2023-02-20T18:45:45.017Z"
      },
      {
        "duration": 170,
        "start_time": "2023-02-20T18:45:45.728Z"
      },
      {
        "duration": 420,
        "start_time": "2023-02-20T18:45:45.900Z"
      },
      {
        "duration": 1543,
        "start_time": "2023-02-20T18:46:15.270Z"
      },
      {
        "duration": 898,
        "start_time": "2023-02-20T18:46:16.815Z"
      },
      {
        "duration": 144,
        "start_time": "2023-02-20T18:46:17.715Z"
      },
      {
        "duration": 140,
        "start_time": "2023-02-20T18:46:17.861Z"
      },
      {
        "duration": 107,
        "start_time": "2023-02-20T18:46:18.003Z"
      },
      {
        "duration": 34,
        "start_time": "2023-02-20T18:46:18.112Z"
      },
      {
        "duration": 213,
        "start_time": "2023-02-20T18:46:18.148Z"
      },
      {
        "duration": 313,
        "start_time": "2023-02-20T18:46:18.363Z"
      },
      {
        "duration": 21,
        "start_time": "2023-02-20T18:46:18.678Z"
      },
      {
        "duration": 273,
        "start_time": "2023-02-20T18:46:18.700Z"
      },
      {
        "duration": 21,
        "start_time": "2023-02-20T18:46:18.974Z"
      },
      {
        "duration": 8661,
        "start_time": "2023-02-20T18:46:18.997Z"
      },
      {
        "duration": 40,
        "start_time": "2023-02-20T18:46:27.660Z"
      },
      {
        "duration": 36,
        "start_time": "2023-02-20T18:46:27.703Z"
      },
      {
        "duration": 326,
        "start_time": "2023-02-20T18:46:27.741Z"
      },
      {
        "duration": 22,
        "start_time": "2023-02-20T18:46:28.069Z"
      },
      {
        "duration": 311,
        "start_time": "2023-02-20T18:46:28.093Z"
      },
      {
        "duration": 30,
        "start_time": "2023-02-20T18:46:28.407Z"
      },
      {
        "duration": 225,
        "start_time": "2023-02-20T18:46:28.439Z"
      },
      {
        "duration": 86,
        "start_time": "2023-02-20T18:46:28.666Z"
      },
      {
        "duration": 802,
        "start_time": "2023-02-20T18:46:28.753Z"
      },
      {
        "duration": 12,
        "start_time": "2023-02-20T18:46:29.557Z"
      },
      {
        "duration": 23,
        "start_time": "2023-02-20T18:46:29.571Z"
      },
      {
        "duration": 297,
        "start_time": "2023-02-20T18:46:29.596Z"
      },
      {
        "duration": 139,
        "start_time": "2023-02-20T18:46:29.895Z"
      },
      {
        "duration": 13,
        "start_time": "2023-02-20T18:46:30.036Z"
      },
      {
        "duration": 46,
        "start_time": "2023-02-20T18:46:30.050Z"
      },
      {
        "duration": 146,
        "start_time": "2023-02-20T18:46:30.098Z"
      },
      {
        "duration": 160,
        "start_time": "2023-02-20T18:46:30.246Z"
      },
      {
        "duration": 204,
        "start_time": "2023-02-20T18:46:30.408Z"
      },
      {
        "duration": 12,
        "start_time": "2023-02-20T18:46:30.614Z"
      },
      {
        "duration": 25,
        "start_time": "2023-02-20T18:46:30.628Z"
      },
      {
        "duration": 37,
        "start_time": "2023-02-20T18:46:30.655Z"
      },
      {
        "duration": 179,
        "start_time": "2023-02-20T18:46:30.694Z"
      },
      {
        "duration": 202,
        "start_time": "2023-02-20T18:46:30.874Z"
      },
      {
        "duration": 18,
        "start_time": "2023-02-20T18:46:31.078Z"
      },
      {
        "duration": 719,
        "start_time": "2023-02-20T18:46:31.099Z"
      },
      {
        "duration": 576,
        "start_time": "2023-02-20T18:46:31.821Z"
      },
      {
        "duration": 163,
        "start_time": "2023-02-20T18:46:32.399Z"
      },
      {
        "duration": 417,
        "start_time": "2023-02-20T18:46:32.564Z"
      },
      {
        "duration": 279294,
        "start_time": "2023-02-20T18:46:32.986Z"
      },
      {
        "duration": 8251,
        "start_time": "2023-02-20T18:51:12.282Z"
      },
      {
        "duration": 127,
        "start_time": "2023-02-20T18:51:20.535Z"
      },
      {
        "duration": 6,
        "start_time": "2023-02-20T18:51:20.665Z"
      },
      {
        "duration": 371443,
        "start_time": "2023-02-20T18:51:20.673Z"
      },
      {
        "duration": 48074,
        "start_time": "2023-02-20T18:57:32.118Z"
      },
      {
        "duration": 295,
        "start_time": "2023-02-20T18:58:20.194Z"
      },
      {
        "duration": 6,
        "start_time": "2023-02-20T18:58:20.491Z"
      },
      {
        "duration": 4,
        "start_time": "2023-02-22T18:29:53.445Z"
      },
      {
        "duration": 1272,
        "start_time": "2023-02-22T18:29:53.452Z"
      },
      {
        "duration": 141,
        "start_time": "2023-02-22T18:29:54.726Z"
      },
      {
        "duration": 128,
        "start_time": "2023-02-22T18:29:54.869Z"
      },
      {
        "duration": 26,
        "start_time": "2023-02-22T18:29:55.002Z"
      },
      {
        "duration": 229,
        "start_time": "2023-02-22T18:29:55.030Z"
      },
      {
        "duration": 321,
        "start_time": "2023-02-22T18:29:55.262Z"
      },
      {
        "duration": 27,
        "start_time": "2023-02-22T18:29:55.586Z"
      },
      {
        "duration": 350,
        "start_time": "2023-02-22T18:29:55.615Z"
      },
      {
        "duration": 27,
        "start_time": "2023-02-22T18:29:55.967Z"
      },
      {
        "duration": 8318,
        "start_time": "2023-02-22T18:29:55.996Z"
      },
      {
        "duration": 42,
        "start_time": "2023-02-22T18:30:04.316Z"
      },
      {
        "duration": 17,
        "start_time": "2023-02-22T18:30:04.360Z"
      },
      {
        "duration": 319,
        "start_time": "2023-02-22T18:30:04.380Z"
      },
      {
        "duration": 32,
        "start_time": "2023-02-22T18:30:04.701Z"
      },
      {
        "duration": 258,
        "start_time": "2023-02-22T18:30:04.735Z"
      },
      {
        "duration": 21,
        "start_time": "2023-02-22T18:30:04.995Z"
      },
      {
        "duration": 217,
        "start_time": "2023-02-22T18:30:05.027Z"
      },
      {
        "duration": 67,
        "start_time": "2023-02-22T18:30:05.246Z"
      },
      {
        "duration": 807,
        "start_time": "2023-02-22T18:30:05.315Z"
      },
      {
        "duration": 11,
        "start_time": "2023-02-22T18:30:06.126Z"
      },
      {
        "duration": 22,
        "start_time": "2023-02-22T18:30:06.139Z"
      },
      {
        "duration": 331,
        "start_time": "2023-02-22T18:30:06.163Z"
      },
      {
        "duration": 140,
        "start_time": "2023-02-22T18:30:06.497Z"
      },
      {
        "duration": 13,
        "start_time": "2023-02-22T18:30:06.639Z"
      },
      {
        "duration": 30,
        "start_time": "2023-02-22T18:30:06.654Z"
      },
      {
        "duration": 150,
        "start_time": "2023-02-22T18:30:06.686Z"
      },
      {
        "duration": 154,
        "start_time": "2023-02-22T18:30:06.839Z"
      },
      {
        "duration": 197,
        "start_time": "2023-02-22T18:30:06.995Z"
      },
      {
        "duration": 11,
        "start_time": "2023-02-22T18:30:07.194Z"
      },
      {
        "duration": 19,
        "start_time": "2023-02-22T18:30:07.208Z"
      },
      {
        "duration": 22,
        "start_time": "2023-02-22T18:30:07.229Z"
      },
      {
        "duration": 188,
        "start_time": "2023-02-22T18:30:07.254Z"
      },
      {
        "duration": 196,
        "start_time": "2023-02-22T18:30:07.444Z"
      },
      {
        "duration": 19,
        "start_time": "2023-02-22T18:30:07.642Z"
      },
      {
        "duration": 669,
        "start_time": "2023-02-22T18:30:07.663Z"
      },
      {
        "duration": 5,
        "start_time": "2023-02-22T18:30:08.334Z"
      },
      {
        "duration": 520,
        "start_time": "2023-02-22T18:30:08.341Z"
      },
      {
        "duration": 1125,
        "start_time": "2023-02-22T18:30:08.863Z"
      },
      {
        "duration": 0,
        "start_time": "2023-02-22T18:30:09.991Z"
      },
      {
        "duration": 0,
        "start_time": "2023-02-22T18:30:09.994Z"
      },
      {
        "duration": 0,
        "start_time": "2023-02-22T18:30:09.996Z"
      },
      {
        "duration": 0,
        "start_time": "2023-02-22T18:30:09.997Z"
      },
      {
        "duration": 0,
        "start_time": "2023-02-22T18:30:09.998Z"
      },
      {
        "duration": 0,
        "start_time": "2023-02-22T18:30:10.000Z"
      },
      {
        "duration": 0,
        "start_time": "2023-02-22T18:30:10.002Z"
      },
      {
        "duration": 0,
        "start_time": "2023-02-22T18:30:10.004Z"
      },
      {
        "duration": 0,
        "start_time": "2023-02-22T18:30:10.005Z"
      },
      {
        "duration": 0,
        "start_time": "2023-02-22T18:30:10.006Z"
      },
      {
        "duration": 0,
        "start_time": "2023-02-22T18:30:10.007Z"
      },
      {
        "duration": 0,
        "start_time": "2023-02-22T18:30:10.008Z"
      },
      {
        "duration": 0,
        "start_time": "2023-02-22T18:30:10.010Z"
      },
      {
        "duration": 0,
        "start_time": "2023-02-22T18:30:10.011Z"
      },
      {
        "duration": 0,
        "start_time": "2023-02-22T18:30:10.012Z"
      },
      {
        "duration": 13,
        "start_time": "2023-02-22T18:34:20.297Z"
      },
      {
        "duration": 765,
        "start_time": "2023-02-22T18:34:47.149Z"
      },
      {
        "duration": 595,
        "start_time": "2023-02-22T18:35:06.527Z"
      },
      {
        "duration": 1600,
        "start_time": "2023-02-22T18:36:18.180Z"
      },
      {
        "duration": 1477,
        "start_time": "2023-02-22T18:47:03.189Z"
      },
      {
        "duration": 866,
        "start_time": "2023-02-22T18:47:04.668Z"
      },
      {
        "duration": 210,
        "start_time": "2023-02-22T18:47:05.536Z"
      },
      {
        "duration": 135,
        "start_time": "2023-02-22T18:47:05.749Z"
      },
      {
        "duration": 24,
        "start_time": "2023-02-22T18:47:05.887Z"
      },
      {
        "duration": 214,
        "start_time": "2023-02-22T18:47:05.913Z"
      },
      {
        "duration": 338,
        "start_time": "2023-02-22T18:47:06.130Z"
      },
      {
        "duration": 19,
        "start_time": "2023-02-22T18:47:06.469Z"
      },
      {
        "duration": 274,
        "start_time": "2023-02-22T18:47:06.490Z"
      },
      {
        "duration": 22,
        "start_time": "2023-02-22T18:47:06.765Z"
      },
      {
        "duration": 8369,
        "start_time": "2023-02-22T18:47:06.789Z"
      },
      {
        "duration": 39,
        "start_time": "2023-02-22T18:47:15.159Z"
      },
      {
        "duration": 31,
        "start_time": "2023-02-22T18:47:15.200Z"
      },
      {
        "duration": 301,
        "start_time": "2023-02-22T18:47:15.234Z"
      },
      {
        "duration": 21,
        "start_time": "2023-02-22T18:47:15.536Z"
      },
      {
        "duration": 276,
        "start_time": "2023-02-22T18:47:15.559Z"
      },
      {
        "duration": 22,
        "start_time": "2023-02-22T18:47:15.837Z"
      },
      {
        "duration": 193,
        "start_time": "2023-02-22T18:47:15.861Z"
      },
      {
        "duration": 74,
        "start_time": "2023-02-22T18:47:16.056Z"
      },
      {
        "duration": 845,
        "start_time": "2023-02-22T18:47:16.132Z"
      },
      {
        "duration": 10,
        "start_time": "2023-02-22T18:47:16.979Z"
      },
      {
        "duration": 21,
        "start_time": "2023-02-22T18:47:16.991Z"
      },
      {
        "duration": 273,
        "start_time": "2023-02-22T18:47:17.027Z"
      },
      {
        "duration": 138,
        "start_time": "2023-02-22T18:47:17.302Z"
      },
      {
        "duration": 11,
        "start_time": "2023-02-22T18:47:17.442Z"
      },
      {
        "duration": 27,
        "start_time": "2023-02-22T18:47:17.455Z"
      },
      {
        "duration": 154,
        "start_time": "2023-02-22T18:47:17.484Z"
      },
      {
        "duration": 156,
        "start_time": "2023-02-22T18:47:17.639Z"
      },
      {
        "duration": 184,
        "start_time": "2023-02-22T18:47:17.797Z"
      },
      {
        "duration": 11,
        "start_time": "2023-02-22T18:47:17.983Z"
      },
      {
        "duration": 5,
        "start_time": "2023-02-22T18:47:17.995Z"
      },
      {
        "duration": 47,
        "start_time": "2023-02-22T18:47:18.001Z"
      },
      {
        "duration": 171,
        "start_time": "2023-02-22T18:47:18.050Z"
      },
      {
        "duration": 193,
        "start_time": "2023-02-22T18:47:18.223Z"
      },
      {
        "duration": 22,
        "start_time": "2023-02-22T18:47:18.418Z"
      },
      {
        "duration": 678,
        "start_time": "2023-02-22T18:47:18.442Z"
      },
      {
        "duration": 6,
        "start_time": "2023-02-22T18:47:19.121Z"
      },
      {
        "duration": 3,
        "start_time": "2023-02-22T18:47:19.128Z"
      },
      {
        "duration": 734,
        "start_time": "2023-02-22T18:47:19.133Z"
      },
      {
        "duration": 2,
        "start_time": "2023-02-22T18:47:19.869Z"
      },
      {
        "duration": 5,
        "start_time": "2023-02-22T18:47:19.875Z"
      },
      {
        "duration": 134,
        "start_time": "2023-02-22T18:47:19.882Z"
      },
      {
        "duration": 55218,
        "start_time": "2023-02-22T18:47:20.018Z"
      },
      {
        "duration": 150,
        "start_time": "2023-02-22T18:48:15.238Z"
      },
      {
        "duration": 70,
        "start_time": "2023-02-22T18:48:15.390Z"
      },
      {
        "duration": 10,
        "start_time": "2023-02-22T18:48:15.462Z"
      },
      {
        "duration": 0,
        "start_time": "2023-02-22T18:48:15.474Z"
      },
      {
        "duration": 0,
        "start_time": "2023-02-22T18:48:15.475Z"
      },
      {
        "duration": 0,
        "start_time": "2023-02-22T18:48:15.476Z"
      },
      {
        "duration": 0,
        "start_time": "2023-02-22T18:48:15.477Z"
      },
      {
        "duration": 0,
        "start_time": "2023-02-22T18:48:15.478Z"
      },
      {
        "duration": 0,
        "start_time": "2023-02-22T18:48:15.479Z"
      },
      {
        "duration": 0,
        "start_time": "2023-02-22T18:48:15.480Z"
      },
      {
        "duration": 0,
        "start_time": "2023-02-22T18:48:15.481Z"
      },
      {
        "duration": 59665,
        "start_time": "2023-02-22T18:52:03.574Z"
      },
      {
        "duration": 2793,
        "start_time": "2023-02-22T18:53:35.722Z"
      },
      {
        "duration": 48,
        "start_time": "2023-02-22T18:53:40.712Z"
      },
      {
        "duration": 15,
        "start_time": "2023-02-22T18:54:01.341Z"
      },
      {
        "duration": 12,
        "start_time": "2023-02-22T18:55:26.322Z"
      },
      {
        "duration": 678,
        "start_time": "2023-02-22T18:59:13.922Z"
      },
      {
        "duration": 18,
        "start_time": "2023-02-22T19:05:26.452Z"
      },
      {
        "duration": 1579,
        "start_time": "2023-02-22T19:08:54.847Z"
      },
      {
        "duration": 943,
        "start_time": "2023-02-22T19:08:56.428Z"
      },
      {
        "duration": 152,
        "start_time": "2023-02-22T19:08:57.373Z"
      },
      {
        "duration": 140,
        "start_time": "2023-02-22T19:08:57.528Z"
      },
      {
        "duration": 30,
        "start_time": "2023-02-22T19:08:57.670Z"
      },
      {
        "duration": 186,
        "start_time": "2023-02-22T19:08:57.703Z"
      },
      {
        "duration": 295,
        "start_time": "2023-02-22T19:08:57.891Z"
      },
      {
        "duration": 19,
        "start_time": "2023-02-22T19:08:58.187Z"
      },
      {
        "duration": 280,
        "start_time": "2023-02-22T19:08:58.208Z"
      },
      {
        "duration": 18,
        "start_time": "2023-02-22T19:08:58.491Z"
      },
      {
        "duration": 8554,
        "start_time": "2023-02-22T19:08:58.511Z"
      },
      {
        "duration": 60,
        "start_time": "2023-02-22T19:09:07.068Z"
      },
      {
        "duration": 21,
        "start_time": "2023-02-22T19:09:07.130Z"
      },
      {
        "duration": 375,
        "start_time": "2023-02-22T19:09:07.154Z"
      },
      {
        "duration": 29,
        "start_time": "2023-02-22T19:09:07.532Z"
      },
      {
        "duration": 323,
        "start_time": "2023-02-22T19:09:07.563Z"
      },
      {
        "duration": 23,
        "start_time": "2023-02-22T19:09:07.888Z"
      },
      {
        "duration": 221,
        "start_time": "2023-02-22T19:09:07.912Z"
      },
      {
        "duration": 95,
        "start_time": "2023-02-22T19:09:08.135Z"
      },
      {
        "duration": 799,
        "start_time": "2023-02-22T19:09:08.232Z"
      },
      {
        "duration": 11,
        "start_time": "2023-02-22T19:09:09.033Z"
      },
      {
        "duration": 53,
        "start_time": "2023-02-22T19:09:09.045Z"
      },
      {
        "duration": 269,
        "start_time": "2023-02-22T19:09:09.100Z"
      },
      {
        "duration": 133,
        "start_time": "2023-02-22T19:09:09.370Z"
      },
      {
        "duration": 23,
        "start_time": "2023-02-22T19:09:09.505Z"
      },
      {
        "duration": 27,
        "start_time": "2023-02-22T19:09:09.530Z"
      },
      {
        "duration": 154,
        "start_time": "2023-02-22T19:09:09.559Z"
      },
      {
        "duration": 146,
        "start_time": "2023-02-22T19:09:09.717Z"
      },
      {
        "duration": 213,
        "start_time": "2023-02-22T19:09:09.865Z"
      },
      {
        "duration": 12,
        "start_time": "2023-02-22T19:09:10.079Z"
      },
      {
        "duration": 6,
        "start_time": "2023-02-22T19:09:10.093Z"
      },
      {
        "duration": 55,
        "start_time": "2023-02-22T19:09:10.101Z"
      },
      {
        "duration": 247,
        "start_time": "2023-02-22T19:09:10.159Z"
      },
      {
        "duration": 297,
        "start_time": "2023-02-22T19:09:10.411Z"
      },
      {
        "duration": 30,
        "start_time": "2023-02-22T19:09:10.710Z"
      },
      {
        "duration": 652,
        "start_time": "2023-02-22T19:09:10.741Z"
      },
      {
        "duration": 58,
        "start_time": "2023-02-22T19:09:11.395Z"
      },
      {
        "duration": 3,
        "start_time": "2023-02-22T19:09:11.455Z"
      },
      {
        "duration": 756,
        "start_time": "2023-02-22T19:09:11.460Z"
      },
      {
        "duration": 3,
        "start_time": "2023-02-22T19:09:12.218Z"
      },
      {
        "duration": 3,
        "start_time": "2023-02-22T19:09:12.227Z"
      },
      {
        "duration": 139,
        "start_time": "2023-02-22T19:09:12.232Z"
      },
      {
        "duration": 86142,
        "start_time": "2023-02-22T19:09:12.373Z"
      },
      {
        "duration": 2783,
        "start_time": "2023-02-22T19:10:38.516Z"
      },
      {
        "duration": 55,
        "start_time": "2023-02-22T19:10:41.300Z"
      },
      {
        "duration": 11,
        "start_time": "2023-02-22T19:10:41.357Z"
      },
      {
        "duration": 2579,
        "start_time": "2023-02-22T19:10:41.370Z"
      },
      {
        "duration": 588,
        "start_time": "2023-02-22T19:10:43.950Z"
      },
      {
        "duration": 55,
        "start_time": "2023-02-22T19:10:44.540Z"
      },
      {
        "duration": 11,
        "start_time": "2023-02-22T19:10:44.597Z"
      },
      {
        "duration": 248,
        "start_time": "2023-02-22T19:10:44.609Z"
      },
      {
        "duration": 94,
        "start_time": "2023-02-22T19:10:44.860Z"
      },
      {
        "duration": 63,
        "start_time": "2023-02-22T19:10:44.956Z"
      },
      {
        "duration": 11,
        "start_time": "2023-02-22T19:10:45.022Z"
      },
      {
        "duration": 1470,
        "start_time": "2023-02-22T19:13:33.447Z"
      },
      {
        "duration": 897,
        "start_time": "2023-02-22T19:13:34.919Z"
      },
      {
        "duration": 170,
        "start_time": "2023-02-22T19:13:35.817Z"
      },
      {
        "duration": 134,
        "start_time": "2023-02-22T19:13:35.988Z"
      },
      {
        "duration": 32,
        "start_time": "2023-02-22T19:13:36.128Z"
      },
      {
        "duration": 207,
        "start_time": "2023-02-22T19:13:36.163Z"
      },
      {
        "duration": 350,
        "start_time": "2023-02-22T19:13:36.372Z"
      },
      {
        "duration": 29,
        "start_time": "2023-02-22T19:13:36.725Z"
      },
      {
        "duration": 304,
        "start_time": "2023-02-22T19:13:36.756Z"
      },
      {
        "duration": 26,
        "start_time": "2023-02-22T19:13:37.063Z"
      },
      {
        "duration": 9499,
        "start_time": "2023-02-22T19:13:37.093Z"
      },
      {
        "duration": 59,
        "start_time": "2023-02-22T19:13:46.595Z"
      },
      {
        "duration": 34,
        "start_time": "2023-02-22T19:13:46.656Z"
      },
      {
        "duration": 339,
        "start_time": "2023-02-22T19:13:46.694Z"
      },
      {
        "duration": 27,
        "start_time": "2023-02-22T19:13:47.034Z"
      },
      {
        "duration": 314,
        "start_time": "2023-02-22T19:13:47.064Z"
      },
      {
        "duration": 28,
        "start_time": "2023-02-22T19:13:47.380Z"
      },
      {
        "duration": 237,
        "start_time": "2023-02-22T19:13:47.412Z"
      },
      {
        "duration": 79,
        "start_time": "2023-02-22T19:13:47.651Z"
      },
      {
        "duration": 898,
        "start_time": "2023-02-22T19:13:47.732Z"
      },
      {
        "duration": 16,
        "start_time": "2023-02-22T19:13:48.633Z"
      },
      {
        "duration": 31,
        "start_time": "2023-02-22T19:13:48.650Z"
      },
      {
        "duration": 361,
        "start_time": "2023-02-22T19:13:48.684Z"
      },
      {
        "duration": 145,
        "start_time": "2023-02-22T19:13:49.047Z"
      },
      {
        "duration": 20,
        "start_time": "2023-02-22T19:13:49.195Z"
      },
      {
        "duration": 40,
        "start_time": "2023-02-22T19:13:49.231Z"
      },
      {
        "duration": 215,
        "start_time": "2023-02-22T19:13:49.275Z"
      },
      {
        "duration": 228,
        "start_time": "2023-02-22T19:13:49.492Z"
      },
      {
        "duration": 335,
        "start_time": "2023-02-22T19:13:49.723Z"
      },
      {
        "duration": 17,
        "start_time": "2023-02-22T19:13:50.061Z"
      },
      {
        "duration": 10,
        "start_time": "2023-02-22T19:13:50.081Z"
      },
      {
        "duration": 69,
        "start_time": "2023-02-22T19:13:50.094Z"
      },
      {
        "duration": 269,
        "start_time": "2023-02-22T19:13:50.166Z"
      },
      {
        "duration": 318,
        "start_time": "2023-02-22T19:13:50.438Z"
      },
      {
        "duration": 30,
        "start_time": "2023-02-22T19:13:50.767Z"
      },
      {
        "duration": 795,
        "start_time": "2023-02-22T19:13:50.799Z"
      },
      {
        "duration": 87,
        "start_time": "2023-02-22T19:13:51.597Z"
      },
      {
        "duration": 3,
        "start_time": "2023-02-22T19:13:51.686Z"
      },
      {
        "duration": 1191,
        "start_time": "2023-02-22T19:13:51.691Z"
      },
      {
        "duration": 3,
        "start_time": "2023-02-22T19:13:52.884Z"
      },
      {
        "duration": 4,
        "start_time": "2023-02-22T19:13:52.892Z"
      },
      {
        "duration": 37,
        "start_time": "2023-02-22T19:13:52.897Z"
      },
      {
        "duration": 186,
        "start_time": "2023-02-22T19:13:52.937Z"
      },
      {
        "duration": 98773,
        "start_time": "2023-02-22T19:13:53.126Z"
      },
      {
        "duration": 2808,
        "start_time": "2023-02-22T19:15:31.901Z"
      },
      {
        "duration": 53,
        "start_time": "2023-02-22T19:15:34.711Z"
      },
      {
        "duration": 10,
        "start_time": "2023-02-22T19:15:34.766Z"
      },
      {
        "duration": 25,
        "start_time": "2023-02-22T19:15:34.778Z"
      },
      {
        "duration": 0,
        "start_time": "2023-02-22T19:15:34.804Z"
      },
      {
        "duration": 0,
        "start_time": "2023-02-22T19:15:34.805Z"
      },
      {
        "duration": 0,
        "start_time": "2023-02-22T19:15:34.806Z"
      },
      {
        "duration": 0,
        "start_time": "2023-02-22T19:15:34.807Z"
      },
      {
        "duration": 0,
        "start_time": "2023-02-22T19:15:34.808Z"
      },
      {
        "duration": 1,
        "start_time": "2023-02-22T19:15:34.808Z"
      },
      {
        "duration": 0,
        "start_time": "2023-02-22T19:15:34.809Z"
      },
      {
        "duration": 165,
        "start_time": "2023-02-22T19:17:17.903Z"
      },
      {
        "duration": 218,
        "start_time": "2023-02-22T19:17:34.315Z"
      },
      {
        "duration": 1466,
        "start_time": "2023-02-22T19:22:01.041Z"
      },
      {
        "duration": 860,
        "start_time": "2023-02-22T19:22:02.509Z"
      },
      {
        "duration": 150,
        "start_time": "2023-02-22T19:22:03.370Z"
      },
      {
        "duration": 133,
        "start_time": "2023-02-22T19:22:03.521Z"
      },
      {
        "duration": 26,
        "start_time": "2023-02-22T19:22:03.657Z"
      },
      {
        "duration": 187,
        "start_time": "2023-02-22T19:22:03.685Z"
      },
      {
        "duration": 298,
        "start_time": "2023-02-22T19:22:03.875Z"
      },
      {
        "duration": 19,
        "start_time": "2023-02-22T19:22:04.175Z"
      },
      {
        "duration": 276,
        "start_time": "2023-02-22T19:22:04.196Z"
      },
      {
        "duration": 17,
        "start_time": "2023-02-22T19:22:04.474Z"
      },
      {
        "duration": 8444,
        "start_time": "2023-02-22T19:22:04.493Z"
      },
      {
        "duration": 38,
        "start_time": "2023-02-22T19:22:12.939Z"
      },
      {
        "duration": 19,
        "start_time": "2023-02-22T19:22:12.979Z"
      },
      {
        "duration": 333,
        "start_time": "2023-02-22T19:22:13.001Z"
      },
      {
        "duration": 30,
        "start_time": "2023-02-22T19:22:13.335Z"
      },
      {
        "duration": 274,
        "start_time": "2023-02-22T19:22:13.367Z"
      },
      {
        "duration": 19,
        "start_time": "2023-02-22T19:22:13.643Z"
      },
      {
        "duration": 206,
        "start_time": "2023-02-22T19:22:13.663Z"
      },
      {
        "duration": 65,
        "start_time": "2023-02-22T19:22:13.871Z"
      },
      {
        "duration": 829,
        "start_time": "2023-02-22T19:22:13.938Z"
      },
      {
        "duration": 10,
        "start_time": "2023-02-22T19:22:14.769Z"
      },
      {
        "duration": 29,
        "start_time": "2023-02-22T19:22:14.781Z"
      },
      {
        "duration": 349,
        "start_time": "2023-02-22T19:22:14.812Z"
      },
      {
        "duration": 141,
        "start_time": "2023-02-22T19:22:15.163Z"
      },
      {
        "duration": 11,
        "start_time": "2023-02-22T19:22:15.306Z"
      },
      {
        "duration": 29,
        "start_time": "2023-02-22T19:22:15.327Z"
      },
      {
        "duration": 142,
        "start_time": "2023-02-22T19:22:15.358Z"
      },
      {
        "duration": 172,
        "start_time": "2023-02-22T19:22:15.502Z"
      },
      {
        "duration": 203,
        "start_time": "2023-02-22T19:22:15.676Z"
      },
      {
        "duration": 12,
        "start_time": "2023-02-22T19:22:15.881Z"
      },
      {
        "duration": 5,
        "start_time": "2023-02-22T19:22:15.895Z"
      },
      {
        "duration": 42,
        "start_time": "2023-02-22T19:22:15.902Z"
      },
      {
        "duration": 181,
        "start_time": "2023-02-22T19:22:15.946Z"
      },
      {
        "duration": 212,
        "start_time": "2023-02-22T19:22:16.128Z"
      },
      {
        "duration": 28,
        "start_time": "2023-02-22T19:22:16.342Z"
      },
      {
        "duration": 661,
        "start_time": "2023-02-22T19:22:16.372Z"
      },
      {
        "duration": 73,
        "start_time": "2023-02-22T19:22:17.036Z"
      },
      {
        "duration": 17,
        "start_time": "2023-02-22T19:22:17.111Z"
      },
      {
        "duration": 812,
        "start_time": "2023-02-22T19:22:17.130Z"
      },
      {
        "duration": 2,
        "start_time": "2023-02-22T19:22:17.944Z"
      },
      {
        "duration": 11,
        "start_time": "2023-02-22T19:22:17.949Z"
      },
      {
        "duration": 19,
        "start_time": "2023-02-22T19:22:17.962Z"
      },
      {
        "duration": 181,
        "start_time": "2023-02-22T19:22:17.983Z"
      },
      {
        "duration": 85972,
        "start_time": "2023-02-22T19:22:18.167Z"
      },
      {
        "duration": 2555,
        "start_time": "2023-02-22T19:23:44.141Z"
      },
      {
        "duration": 54,
        "start_time": "2023-02-22T19:23:46.698Z"
      },
      {
        "duration": 12,
        "start_time": "2023-02-22T19:23:46.754Z"
      },
      {
        "duration": 150,
        "start_time": "2023-02-22T19:23:46.767Z"
      },
      {
        "duration": 0,
        "start_time": "2023-02-22T19:23:46.919Z"
      },
      {
        "duration": 0,
        "start_time": "2023-02-22T19:23:46.920Z"
      },
      {
        "duration": 0,
        "start_time": "2023-02-22T19:23:46.927Z"
      },
      {
        "duration": 0,
        "start_time": "2023-02-22T19:23:46.928Z"
      },
      {
        "duration": 0,
        "start_time": "2023-02-22T19:23:46.929Z"
      },
      {
        "duration": 0,
        "start_time": "2023-02-22T19:23:46.930Z"
      },
      {
        "duration": 0,
        "start_time": "2023-02-22T19:23:46.932Z"
      },
      {
        "duration": 0,
        "start_time": "2023-02-22T19:23:46.933Z"
      },
      {
        "duration": 16,
        "start_time": "2023-02-22T19:25:07.783Z"
      },
      {
        "duration": 14,
        "start_time": "2023-02-22T19:26:19.904Z"
      },
      {
        "duration": 11,
        "start_time": "2023-02-22T19:26:23.033Z"
      },
      {
        "duration": 15,
        "start_time": "2023-02-22T19:26:38.663Z"
      },
      {
        "duration": 17,
        "start_time": "2023-02-22T19:26:54.079Z"
      },
      {
        "duration": 15,
        "start_time": "2023-02-22T19:27:05.400Z"
      },
      {
        "duration": 13,
        "start_time": "2023-02-22T19:27:26.233Z"
      },
      {
        "duration": 14,
        "start_time": "2023-02-22T19:27:31.200Z"
      },
      {
        "duration": 13,
        "start_time": "2023-02-22T19:27:40.981Z"
      },
      {
        "duration": 1529,
        "start_time": "2023-02-22T19:28:41.836Z"
      },
      {
        "duration": 845,
        "start_time": "2023-02-22T19:28:43.367Z"
      },
      {
        "duration": 147,
        "start_time": "2023-02-22T19:28:44.214Z"
      },
      {
        "duration": 112,
        "start_time": "2023-02-22T19:28:44.364Z"
      },
      {
        "duration": 29,
        "start_time": "2023-02-22T19:28:44.479Z"
      },
      {
        "duration": 193,
        "start_time": "2023-02-22T19:28:44.510Z"
      },
      {
        "duration": 293,
        "start_time": "2023-02-22T19:28:44.705Z"
      },
      {
        "duration": 19,
        "start_time": "2023-02-22T19:28:44.999Z"
      },
      {
        "duration": 261,
        "start_time": "2023-02-22T19:28:45.027Z"
      },
      {
        "duration": 21,
        "start_time": "2023-02-22T19:28:45.291Z"
      },
      {
        "duration": 8492,
        "start_time": "2023-02-22T19:28:45.314Z"
      },
      {
        "duration": 47,
        "start_time": "2023-02-22T19:28:53.808Z"
      },
      {
        "duration": 18,
        "start_time": "2023-02-22T19:28:53.856Z"
      },
      {
        "duration": 335,
        "start_time": "2023-02-22T19:28:53.876Z"
      },
      {
        "duration": 20,
        "start_time": "2023-02-22T19:28:54.213Z"
      },
      {
        "duration": 262,
        "start_time": "2023-02-22T19:28:54.236Z"
      },
      {
        "duration": 27,
        "start_time": "2023-02-22T19:28:54.500Z"
      },
      {
        "duration": 211,
        "start_time": "2023-02-22T19:28:54.529Z"
      },
      {
        "duration": 62,
        "start_time": "2023-02-22T19:28:54.741Z"
      },
      {
        "duration": 817,
        "start_time": "2023-02-22T19:28:54.805Z"
      },
      {
        "duration": 13,
        "start_time": "2023-02-22T19:28:55.627Z"
      },
      {
        "duration": 33,
        "start_time": "2023-02-22T19:28:55.642Z"
      },
      {
        "duration": 303,
        "start_time": "2023-02-22T19:28:55.677Z"
      },
      {
        "duration": 138,
        "start_time": "2023-02-22T19:28:55.982Z"
      },
      {
        "duration": 12,
        "start_time": "2023-02-22T19:28:56.126Z"
      },
      {
        "duration": 28,
        "start_time": "2023-02-22T19:28:56.140Z"
      },
      {
        "duration": 150,
        "start_time": "2023-02-22T19:28:56.170Z"
      },
      {
        "duration": 166,
        "start_time": "2023-02-22T19:28:56.324Z"
      },
      {
        "duration": 208,
        "start_time": "2023-02-22T19:28:56.492Z"
      },
      {
        "duration": 11,
        "start_time": "2023-02-22T19:28:56.701Z"
      },
      {
        "duration": 6,
        "start_time": "2023-02-22T19:28:56.727Z"
      },
      {
        "duration": 29,
        "start_time": "2023-02-22T19:28:56.736Z"
      },
      {
        "duration": 183,
        "start_time": "2023-02-22T19:28:56.767Z"
      },
      {
        "duration": 213,
        "start_time": "2023-02-22T19:28:56.952Z"
      },
      {
        "duration": 25,
        "start_time": "2023-02-22T19:28:57.167Z"
      },
      {
        "duration": 679,
        "start_time": "2023-02-22T19:28:57.194Z"
      },
      {
        "duration": 79,
        "start_time": "2023-02-22T19:28:57.875Z"
      },
      {
        "duration": 3,
        "start_time": "2023-02-22T19:28:57.955Z"
      },
      {
        "duration": 748,
        "start_time": "2023-02-22T19:28:57.959Z"
      },
      {
        "duration": 2,
        "start_time": "2023-02-22T19:28:58.709Z"
      },
      {
        "duration": 6,
        "start_time": "2023-02-22T19:28:58.713Z"
      },
      {
        "duration": 17,
        "start_time": "2023-02-22T19:28:58.726Z"
      },
      {
        "duration": 126,
        "start_time": "2023-02-22T19:28:58.745Z"
      },
      {
        "duration": 13,
        "start_time": "2023-02-22T19:28:58.873Z"
      },
      {
        "duration": 82781,
        "start_time": "2023-02-22T19:28:58.888Z"
      },
      {
        "duration": 2478,
        "start_time": "2023-02-22T19:30:21.670Z"
      },
      {
        "duration": 43,
        "start_time": "2023-02-22T19:30:24.149Z"
      },
      {
        "duration": 11,
        "start_time": "2023-02-22T19:30:24.194Z"
      },
      {
        "duration": 30,
        "start_time": "2023-02-22T19:30:24.206Z"
      },
      {
        "duration": 135,
        "start_time": "2023-02-22T19:30:24.238Z"
      },
      {
        "duration": 0,
        "start_time": "2023-02-22T19:30:24.375Z"
      },
      {
        "duration": 0,
        "start_time": "2023-02-22T19:30:24.377Z"
      },
      {
        "duration": 0,
        "start_time": "2023-02-22T19:30:24.378Z"
      },
      {
        "duration": 0,
        "start_time": "2023-02-22T19:30:24.380Z"
      },
      {
        "duration": 0,
        "start_time": "2023-02-22T19:30:24.381Z"
      },
      {
        "duration": 0,
        "start_time": "2023-02-22T19:30:24.383Z"
      },
      {
        "duration": 0,
        "start_time": "2023-02-22T19:30:24.384Z"
      },
      {
        "duration": 0,
        "start_time": "2023-02-22T19:30:24.385Z"
      },
      {
        "duration": 0,
        "start_time": "2023-02-22T19:30:24.387Z"
      },
      {
        "duration": 8,
        "start_time": "2023-02-22T19:31:19.808Z"
      },
      {
        "duration": 236,
        "start_time": "2023-02-22T19:31:31.877Z"
      },
      {
        "duration": 2311,
        "start_time": "2023-02-23T14:36:36.232Z"
      },
      {
        "duration": 1072,
        "start_time": "2023-02-23T14:36:38.545Z"
      },
      {
        "duration": 151,
        "start_time": "2023-02-23T14:36:39.619Z"
      },
      {
        "duration": 113,
        "start_time": "2023-02-23T14:36:39.772Z"
      },
      {
        "duration": 25,
        "start_time": "2023-02-23T14:36:39.888Z"
      },
      {
        "duration": 176,
        "start_time": "2023-02-23T14:36:39.915Z"
      },
      {
        "duration": 302,
        "start_time": "2023-02-23T14:36:40.092Z"
      },
      {
        "duration": 32,
        "start_time": "2023-02-23T14:36:40.396Z"
      },
      {
        "duration": 365,
        "start_time": "2023-02-23T14:36:40.431Z"
      },
      {
        "duration": 19,
        "start_time": "2023-02-23T14:36:40.798Z"
      },
      {
        "duration": 8115,
        "start_time": "2023-02-23T14:36:40.819Z"
      },
      {
        "duration": 37,
        "start_time": "2023-02-23T14:36:48.936Z"
      },
      {
        "duration": 27,
        "start_time": "2023-02-23T14:36:48.974Z"
      },
      {
        "duration": 279,
        "start_time": "2023-02-23T14:36:49.004Z"
      },
      {
        "duration": 24,
        "start_time": "2023-02-23T14:36:49.284Z"
      },
      {
        "duration": 251,
        "start_time": "2023-02-23T14:36:49.310Z"
      },
      {
        "duration": 19,
        "start_time": "2023-02-23T14:36:49.562Z"
      },
      {
        "duration": 178,
        "start_time": "2023-02-23T14:36:49.583Z"
      },
      {
        "duration": 60,
        "start_time": "2023-02-23T14:36:49.762Z"
      },
      {
        "duration": 806,
        "start_time": "2023-02-23T14:36:49.824Z"
      },
      {
        "duration": 13,
        "start_time": "2023-02-23T14:36:50.632Z"
      },
      {
        "duration": 30,
        "start_time": "2023-02-23T14:36:50.647Z"
      },
      {
        "duration": 277,
        "start_time": "2023-02-23T14:36:50.679Z"
      },
      {
        "duration": 124,
        "start_time": "2023-02-23T14:36:50.957Z"
      },
      {
        "duration": 19,
        "start_time": "2023-02-23T14:36:51.083Z"
      },
      {
        "duration": 27,
        "start_time": "2023-02-23T14:36:51.104Z"
      },
      {
        "duration": 139,
        "start_time": "2023-02-23T14:36:51.132Z"
      },
      {
        "duration": 136,
        "start_time": "2023-02-23T14:36:51.273Z"
      },
      {
        "duration": 189,
        "start_time": "2023-02-23T14:36:51.410Z"
      },
      {
        "duration": 11,
        "start_time": "2023-02-23T14:36:51.600Z"
      },
      {
        "duration": 4,
        "start_time": "2023-02-23T14:36:51.613Z"
      },
      {
        "duration": 26,
        "start_time": "2023-02-23T14:36:51.619Z"
      },
      {
        "duration": 188,
        "start_time": "2023-02-23T14:36:51.646Z"
      },
      {
        "duration": 199,
        "start_time": "2023-02-23T14:36:51.836Z"
      },
      {
        "duration": 17,
        "start_time": "2023-02-23T14:36:52.036Z"
      },
      {
        "duration": 614,
        "start_time": "2023-02-23T14:36:52.055Z"
      },
      {
        "duration": 57,
        "start_time": "2023-02-23T14:36:52.671Z"
      },
      {
        "duration": 2,
        "start_time": "2023-02-23T14:36:52.730Z"
      },
      {
        "duration": 720,
        "start_time": "2023-02-23T14:36:52.733Z"
      },
      {
        "duration": 2,
        "start_time": "2023-02-23T14:36:53.455Z"
      },
      {
        "duration": 6,
        "start_time": "2023-02-23T14:36:53.461Z"
      },
      {
        "duration": 20,
        "start_time": "2023-02-23T14:36:53.469Z"
      },
      {
        "duration": 123,
        "start_time": "2023-02-23T14:36:53.500Z"
      },
      {
        "duration": 14,
        "start_time": "2023-02-23T14:36:53.625Z"
      },
      {
        "duration": 45297,
        "start_time": "2023-02-23T14:36:53.641Z"
      },
      {
        "duration": 0,
        "start_time": "2023-02-23T14:37:38.940Z"
      },
      {
        "duration": 0,
        "start_time": "2023-02-23T14:37:38.942Z"
      },
      {
        "duration": 0,
        "start_time": "2023-02-23T14:37:38.943Z"
      },
      {
        "duration": 0,
        "start_time": "2023-02-23T14:37:38.945Z"
      },
      {
        "duration": 0,
        "start_time": "2023-02-23T14:37:38.946Z"
      },
      {
        "duration": 0,
        "start_time": "2023-02-23T14:37:38.947Z"
      },
      {
        "duration": 0,
        "start_time": "2023-02-23T14:37:38.948Z"
      },
      {
        "duration": 0,
        "start_time": "2023-02-23T14:37:38.950Z"
      },
      {
        "duration": 0,
        "start_time": "2023-02-23T14:37:38.951Z"
      },
      {
        "duration": 0,
        "start_time": "2023-02-23T14:37:38.952Z"
      },
      {
        "duration": 0,
        "start_time": "2023-02-23T14:37:38.953Z"
      },
      {
        "duration": 0,
        "start_time": "2023-02-23T14:37:38.954Z"
      },
      {
        "duration": 13,
        "start_time": "2023-02-23T14:38:01.096Z"
      },
      {
        "duration": 15,
        "start_time": "2023-02-23T14:38:16.155Z"
      },
      {
        "duration": 11,
        "start_time": "2023-02-23T14:38:59.061Z"
      },
      {
        "duration": 1544,
        "start_time": "2023-02-23T14:41:45.574Z"
      },
      {
        "duration": 903,
        "start_time": "2023-02-23T14:41:47.121Z"
      },
      {
        "duration": 167,
        "start_time": "2023-02-23T14:41:48.025Z"
      },
      {
        "duration": 123,
        "start_time": "2023-02-23T14:41:48.193Z"
      },
      {
        "duration": 24,
        "start_time": "2023-02-23T14:41:48.319Z"
      },
      {
        "duration": 229,
        "start_time": "2023-02-23T14:41:48.345Z"
      },
      {
        "duration": 333,
        "start_time": "2023-02-23T14:41:48.576Z"
      },
      {
        "duration": 24,
        "start_time": "2023-02-23T14:41:48.912Z"
      },
      {
        "duration": 319,
        "start_time": "2023-02-23T14:41:48.938Z"
      },
      {
        "duration": 18,
        "start_time": "2023-02-23T14:41:49.259Z"
      },
      {
        "duration": 8183,
        "start_time": "2023-02-23T14:41:49.278Z"
      },
      {
        "duration": 58,
        "start_time": "2023-02-23T14:41:57.464Z"
      },
      {
        "duration": 27,
        "start_time": "2023-02-23T14:41:57.524Z"
      },
      {
        "duration": 337,
        "start_time": "2023-02-23T14:41:57.555Z"
      },
      {
        "duration": 22,
        "start_time": "2023-02-23T14:41:57.894Z"
      },
      {
        "duration": 276,
        "start_time": "2023-02-23T14:41:57.919Z"
      },
      {
        "duration": 21,
        "start_time": "2023-02-23T14:41:58.197Z"
      },
      {
        "duration": 215,
        "start_time": "2023-02-23T14:41:58.220Z"
      },
      {
        "duration": 68,
        "start_time": "2023-02-23T14:41:58.438Z"
      },
      {
        "duration": 793,
        "start_time": "2023-02-23T14:41:58.508Z"
      },
      {
        "duration": 11,
        "start_time": "2023-02-23T14:41:59.303Z"
      },
      {
        "duration": 27,
        "start_time": "2023-02-23T14:41:59.316Z"
      },
      {
        "duration": 311,
        "start_time": "2023-02-23T14:41:59.345Z"
      },
      {
        "duration": 128,
        "start_time": "2023-02-23T14:41:59.658Z"
      },
      {
        "duration": 17,
        "start_time": "2023-02-23T14:41:59.788Z"
      },
      {
        "duration": 33,
        "start_time": "2023-02-23T14:41:59.807Z"
      },
      {
        "duration": 144,
        "start_time": "2023-02-23T14:41:59.842Z"
      },
      {
        "duration": 143,
        "start_time": "2023-02-23T14:41:59.988Z"
      },
      {
        "duration": 180,
        "start_time": "2023-02-23T14:42:00.133Z"
      },
      {
        "duration": 11,
        "start_time": "2023-02-23T14:42:00.315Z"
      },
      {
        "duration": 52,
        "start_time": "2023-02-23T14:42:00.328Z"
      },
      {
        "duration": 84,
        "start_time": "2023-02-23T14:42:00.381Z"
      },
      {
        "duration": 208,
        "start_time": "2023-02-23T14:42:00.466Z"
      },
      {
        "duration": 187,
        "start_time": "2023-02-23T14:42:00.676Z"
      },
      {
        "duration": 33,
        "start_time": "2023-02-23T14:42:00.866Z"
      },
      {
        "duration": 664,
        "start_time": "2023-02-23T14:42:00.901Z"
      },
      {
        "duration": 58,
        "start_time": "2023-02-23T14:42:01.566Z"
      },
      {
        "duration": 2,
        "start_time": "2023-02-23T14:42:01.626Z"
      },
      {
        "duration": 66,
        "start_time": "2023-02-23T14:42:01.630Z"
      },
      {
        "duration": 28,
        "start_time": "2023-02-23T14:42:01.697Z"
      },
      {
        "duration": 209,
        "start_time": "2023-02-23T14:42:01.730Z"
      },
      {
        "duration": 45,
        "start_time": "2023-02-23T14:42:01.941Z"
      },
      {
        "duration": 27,
        "start_time": "2023-02-23T14:42:01.998Z"
      },
      {
        "duration": 51,
        "start_time": "2023-02-23T14:42:02.027Z"
      },
      {
        "duration": 4891,
        "start_time": "2023-02-23T14:42:02.081Z"
      },
      {
        "duration": 86,
        "start_time": "2023-02-23T14:42:06.974Z"
      },
      {
        "duration": 65,
        "start_time": "2023-02-23T14:42:07.062Z"
      },
      {
        "duration": 13,
        "start_time": "2023-02-23T14:42:07.129Z"
      },
      {
        "duration": 1,
        "start_time": "2023-02-23T14:42:07.143Z"
      },
      {
        "duration": 1,
        "start_time": "2023-02-23T14:42:07.145Z"
      },
      {
        "duration": 0,
        "start_time": "2023-02-23T14:42:07.148Z"
      },
      {
        "duration": 0,
        "start_time": "2023-02-23T14:42:07.149Z"
      },
      {
        "duration": 0,
        "start_time": "2023-02-23T14:42:07.151Z"
      },
      {
        "duration": 0,
        "start_time": "2023-02-23T14:42:07.152Z"
      },
      {
        "duration": 0,
        "start_time": "2023-02-23T14:42:07.153Z"
      },
      {
        "duration": 0,
        "start_time": "2023-02-23T14:42:07.155Z"
      },
      {
        "duration": 0,
        "start_time": "2023-02-23T14:42:07.160Z"
      },
      {
        "duration": 1512,
        "start_time": "2023-02-23T14:43:21.822Z"
      },
      {
        "duration": 911,
        "start_time": "2023-02-23T14:43:23.336Z"
      },
      {
        "duration": 154,
        "start_time": "2023-02-23T14:43:24.249Z"
      },
      {
        "duration": 116,
        "start_time": "2023-02-23T14:43:24.406Z"
      },
      {
        "duration": 32,
        "start_time": "2023-02-23T14:43:24.524Z"
      },
      {
        "duration": 169,
        "start_time": "2023-02-23T14:43:24.558Z"
      },
      {
        "duration": 323,
        "start_time": "2023-02-23T14:43:24.728Z"
      },
      {
        "duration": 20,
        "start_time": "2023-02-23T14:43:25.053Z"
      },
      {
        "duration": 256,
        "start_time": "2023-02-23T14:43:25.076Z"
      },
      {
        "duration": 21,
        "start_time": "2023-02-23T14:43:25.334Z"
      },
      {
        "duration": 7945,
        "start_time": "2023-02-23T14:43:25.358Z"
      },
      {
        "duration": 47,
        "start_time": "2023-02-23T14:43:33.306Z"
      },
      {
        "duration": 17,
        "start_time": "2023-02-23T14:43:33.355Z"
      },
      {
        "duration": 306,
        "start_time": "2023-02-23T14:43:33.376Z"
      },
      {
        "duration": 21,
        "start_time": "2023-02-23T14:43:33.684Z"
      },
      {
        "duration": 342,
        "start_time": "2023-02-23T14:43:33.707Z"
      },
      {
        "duration": 28,
        "start_time": "2023-02-23T14:43:34.051Z"
      },
      {
        "duration": 247,
        "start_time": "2023-02-23T14:43:34.082Z"
      },
      {
        "duration": 80,
        "start_time": "2023-02-23T14:43:34.331Z"
      },
      {
        "duration": 858,
        "start_time": "2023-02-23T14:43:34.413Z"
      },
      {
        "duration": 27,
        "start_time": "2023-02-23T14:43:35.273Z"
      },
      {
        "duration": 25,
        "start_time": "2023-02-23T14:43:35.303Z"
      },
      {
        "duration": 332,
        "start_time": "2023-02-23T14:43:35.329Z"
      },
      {
        "duration": 136,
        "start_time": "2023-02-23T14:43:35.663Z"
      },
      {
        "duration": 12,
        "start_time": "2023-02-23T14:43:35.801Z"
      },
      {
        "duration": 32,
        "start_time": "2023-02-23T14:43:35.815Z"
      },
      {
        "duration": 158,
        "start_time": "2023-02-23T14:43:35.849Z"
      },
      {
        "duration": 153,
        "start_time": "2023-02-23T14:43:36.009Z"
      },
      {
        "duration": 189,
        "start_time": "2023-02-23T14:43:36.164Z"
      },
      {
        "duration": 12,
        "start_time": "2023-02-23T14:43:36.355Z"
      },
      {
        "duration": 5,
        "start_time": "2023-02-23T14:43:36.372Z"
      },
      {
        "duration": 62,
        "start_time": "2023-02-23T14:43:36.379Z"
      },
      {
        "duration": 174,
        "start_time": "2023-02-23T14:43:36.443Z"
      },
      {
        "duration": 198,
        "start_time": "2023-02-23T14:43:36.618Z"
      },
      {
        "duration": 20,
        "start_time": "2023-02-23T14:43:36.818Z"
      },
      {
        "duration": 589,
        "start_time": "2023-02-23T14:43:36.840Z"
      },
      {
        "duration": 79,
        "start_time": "2023-02-23T14:43:37.431Z"
      },
      {
        "duration": 2,
        "start_time": "2023-02-23T14:43:37.512Z"
      },
      {
        "duration": 9,
        "start_time": "2023-02-23T14:43:37.516Z"
      },
      {
        "duration": 6,
        "start_time": "2023-02-23T14:43:37.527Z"
      },
      {
        "duration": 221,
        "start_time": "2023-02-23T14:43:37.536Z"
      },
      {
        "duration": 46,
        "start_time": "2023-02-23T14:43:37.759Z"
      },
      {
        "duration": 21,
        "start_time": "2023-02-23T14:43:37.807Z"
      },
      {
        "duration": 149,
        "start_time": "2023-02-23T14:43:37.830Z"
      },
      {
        "duration": 5097,
        "start_time": "2023-02-23T14:43:37.980Z"
      },
      {
        "duration": 98,
        "start_time": "2023-02-23T14:43:43.079Z"
      },
      {
        "duration": 57,
        "start_time": "2023-02-23T14:43:43.179Z"
      },
      {
        "duration": 11,
        "start_time": "2023-02-23T14:43:43.238Z"
      },
      {
        "duration": 0,
        "start_time": "2023-02-23T14:43:43.250Z"
      },
      {
        "duration": 0,
        "start_time": "2023-02-23T14:43:43.252Z"
      },
      {
        "duration": 0,
        "start_time": "2023-02-23T14:43:43.253Z"
      },
      {
        "duration": 0,
        "start_time": "2023-02-23T14:43:43.254Z"
      },
      {
        "duration": 0,
        "start_time": "2023-02-23T14:43:43.256Z"
      },
      {
        "duration": 0,
        "start_time": "2023-02-23T14:43:43.258Z"
      },
      {
        "duration": 0,
        "start_time": "2023-02-23T14:43:43.260Z"
      },
      {
        "duration": 0,
        "start_time": "2023-02-23T14:43:43.261Z"
      },
      {
        "duration": 0,
        "start_time": "2023-02-23T14:43:43.262Z"
      },
      {
        "duration": 1670,
        "start_time": "2023-02-23T14:44:57.674Z"
      },
      {
        "duration": 854,
        "start_time": "2023-02-23T14:44:59.346Z"
      },
      {
        "duration": 107,
        "start_time": "2023-02-23T14:45:00.202Z"
      },
      {
        "duration": 120,
        "start_time": "2023-02-23T14:45:00.311Z"
      },
      {
        "duration": 27,
        "start_time": "2023-02-23T14:45:00.433Z"
      },
      {
        "duration": 187,
        "start_time": "2023-02-23T14:45:00.462Z"
      },
      {
        "duration": 317,
        "start_time": "2023-02-23T14:45:00.652Z"
      },
      {
        "duration": 28,
        "start_time": "2023-02-23T14:45:00.971Z"
      },
      {
        "duration": 276,
        "start_time": "2023-02-23T14:45:01.001Z"
      },
      {
        "duration": 20,
        "start_time": "2023-02-23T14:45:01.281Z"
      },
      {
        "duration": 7999,
        "start_time": "2023-02-23T14:45:01.303Z"
      },
      {
        "duration": 37,
        "start_time": "2023-02-23T14:45:09.304Z"
      },
      {
        "duration": 16,
        "start_time": "2023-02-23T14:45:09.343Z"
      },
      {
        "duration": 307,
        "start_time": "2023-02-23T14:45:09.361Z"
      },
      {
        "duration": 29,
        "start_time": "2023-02-23T14:45:09.670Z"
      },
      {
        "duration": 274,
        "start_time": "2023-02-23T14:45:09.701Z"
      },
      {
        "duration": 29,
        "start_time": "2023-02-23T14:45:09.977Z"
      },
      {
        "duration": 225,
        "start_time": "2023-02-23T14:45:10.008Z"
      },
      {
        "duration": 72,
        "start_time": "2023-02-23T14:45:10.235Z"
      },
      {
        "duration": 774,
        "start_time": "2023-02-23T14:45:10.309Z"
      },
      {
        "duration": 16,
        "start_time": "2023-02-23T14:45:11.086Z"
      },
      {
        "duration": 31,
        "start_time": "2023-02-23T14:45:11.104Z"
      },
      {
        "duration": 286,
        "start_time": "2023-02-23T14:45:11.137Z"
      },
      {
        "duration": 149,
        "start_time": "2023-02-23T14:45:11.426Z"
      },
      {
        "duration": 11,
        "start_time": "2023-02-23T14:45:11.577Z"
      },
      {
        "duration": 27,
        "start_time": "2023-02-23T14:45:11.598Z"
      },
      {
        "duration": 141,
        "start_time": "2023-02-23T14:45:11.627Z"
      },
      {
        "duration": 151,
        "start_time": "2023-02-23T14:45:11.772Z"
      },
      {
        "duration": 227,
        "start_time": "2023-02-23T14:45:11.925Z"
      },
      {
        "duration": 13,
        "start_time": "2023-02-23T14:45:12.154Z"
      },
      {
        "duration": 23,
        "start_time": "2023-02-23T14:45:12.169Z"
      },
      {
        "duration": 54,
        "start_time": "2023-02-23T14:45:12.195Z"
      },
      {
        "duration": 175,
        "start_time": "2023-02-23T14:45:12.251Z"
      },
      {
        "duration": 250,
        "start_time": "2023-02-23T14:45:12.428Z"
      },
      {
        "duration": 28,
        "start_time": "2023-02-23T14:45:12.680Z"
      },
      {
        "duration": 581,
        "start_time": "2023-02-23T14:45:12.710Z"
      },
      {
        "duration": 59,
        "start_time": "2023-02-23T14:45:13.293Z"
      },
      {
        "duration": 2,
        "start_time": "2023-02-23T14:45:13.354Z"
      },
      {
        "duration": 32,
        "start_time": "2023-02-23T14:45:13.358Z"
      },
      {
        "duration": 12,
        "start_time": "2023-02-23T14:45:13.392Z"
      },
      {
        "duration": 195,
        "start_time": "2023-02-23T14:45:13.406Z"
      },
      {
        "duration": 189,
        "start_time": "2023-02-23T14:45:13.603Z"
      },
      {
        "duration": 27,
        "start_time": "2023-02-23T14:45:13.798Z"
      },
      {
        "duration": 32,
        "start_time": "2023-02-23T14:45:13.827Z"
      },
      {
        "duration": 3475,
        "start_time": "2023-02-23T14:45:13.861Z"
      },
      {
        "duration": 91,
        "start_time": "2023-02-23T14:45:17.338Z"
      },
      {
        "duration": 60,
        "start_time": "2023-02-23T14:45:17.431Z"
      },
      {
        "duration": 14,
        "start_time": "2023-02-23T14:45:17.493Z"
      },
      {
        "duration": 0,
        "start_time": "2023-02-23T14:45:17.509Z"
      },
      {
        "duration": 0,
        "start_time": "2023-02-23T14:45:17.510Z"
      },
      {
        "duration": 0,
        "start_time": "2023-02-23T14:45:17.512Z"
      },
      {
        "duration": 0,
        "start_time": "2023-02-23T14:45:17.513Z"
      },
      {
        "duration": 0,
        "start_time": "2023-02-23T14:45:17.515Z"
      },
      {
        "duration": 0,
        "start_time": "2023-02-23T14:45:17.516Z"
      },
      {
        "duration": 0,
        "start_time": "2023-02-23T14:45:17.518Z"
      },
      {
        "duration": 0,
        "start_time": "2023-02-23T14:45:17.520Z"
      },
      {
        "duration": 0,
        "start_time": "2023-02-23T14:45:17.521Z"
      },
      {
        "duration": 40,
        "start_time": "2023-02-23T14:46:33.028Z"
      },
      {
        "duration": 28,
        "start_time": "2023-02-23T14:47:31.952Z"
      },
      {
        "duration": 31,
        "start_time": "2023-02-23T14:47:32.732Z"
      },
      {
        "duration": 1623,
        "start_time": "2023-02-23T14:48:20.583Z"
      },
      {
        "duration": 1054,
        "start_time": "2023-02-23T14:48:22.209Z"
      },
      {
        "duration": 162,
        "start_time": "2023-02-23T14:48:23.265Z"
      },
      {
        "duration": 118,
        "start_time": "2023-02-23T14:48:23.429Z"
      },
      {
        "duration": 23,
        "start_time": "2023-02-23T14:48:23.550Z"
      },
      {
        "duration": 164,
        "start_time": "2023-02-23T14:48:23.575Z"
      },
      {
        "duration": 364,
        "start_time": "2023-02-23T14:48:23.741Z"
      },
      {
        "duration": 21,
        "start_time": "2023-02-23T14:48:24.107Z"
      },
      {
        "duration": 312,
        "start_time": "2023-02-23T14:48:24.130Z"
      },
      {
        "duration": 19,
        "start_time": "2023-02-23T14:48:24.443Z"
      },
      {
        "duration": 8046,
        "start_time": "2023-02-23T14:48:24.464Z"
      },
      {
        "duration": 51,
        "start_time": "2023-02-23T14:48:32.512Z"
      },
      {
        "duration": 37,
        "start_time": "2023-02-23T14:48:32.565Z"
      },
      {
        "duration": 322,
        "start_time": "2023-02-23T14:48:32.607Z"
      },
      {
        "duration": 27,
        "start_time": "2023-02-23T14:48:32.931Z"
      },
      {
        "duration": 295,
        "start_time": "2023-02-23T14:48:32.960Z"
      },
      {
        "duration": 22,
        "start_time": "2023-02-23T14:48:33.257Z"
      },
      {
        "duration": 220,
        "start_time": "2023-02-23T14:48:33.281Z"
      },
      {
        "duration": 65,
        "start_time": "2023-02-23T14:48:33.503Z"
      },
      {
        "duration": 930,
        "start_time": "2023-02-23T14:48:33.570Z"
      },
      {
        "duration": 14,
        "start_time": "2023-02-23T14:48:34.502Z"
      },
      {
        "duration": 38,
        "start_time": "2023-02-23T14:48:34.518Z"
      },
      {
        "duration": 301,
        "start_time": "2023-02-23T14:48:34.558Z"
      },
      {
        "duration": 151,
        "start_time": "2023-02-23T14:48:34.861Z"
      },
      {
        "duration": 12,
        "start_time": "2023-02-23T14:48:35.014Z"
      },
      {
        "duration": 29,
        "start_time": "2023-02-23T14:48:35.028Z"
      },
      {
        "duration": 160,
        "start_time": "2023-02-23T14:48:35.059Z"
      },
      {
        "duration": 157,
        "start_time": "2023-02-23T14:48:35.221Z"
      },
      {
        "duration": 221,
        "start_time": "2023-02-23T14:48:35.380Z"
      },
      {
        "duration": 12,
        "start_time": "2023-02-23T14:48:35.603Z"
      },
      {
        "duration": 5,
        "start_time": "2023-02-23T14:48:35.617Z"
      },
      {
        "duration": 31,
        "start_time": "2023-02-23T14:48:35.624Z"
      },
      {
        "duration": 224,
        "start_time": "2023-02-23T14:48:35.658Z"
      },
      {
        "duration": 230,
        "start_time": "2023-02-23T14:48:35.885Z"
      },
      {
        "duration": 19,
        "start_time": "2023-02-23T14:48:36.116Z"
      },
      {
        "duration": 691,
        "start_time": "2023-02-23T14:48:36.137Z"
      },
      {
        "duration": 101,
        "start_time": "2023-02-23T14:48:36.830Z"
      },
      {
        "duration": 6,
        "start_time": "2023-02-23T14:48:36.934Z"
      },
      {
        "duration": 10,
        "start_time": "2023-02-23T14:48:36.941Z"
      },
      {
        "duration": 9,
        "start_time": "2023-02-23T14:48:36.954Z"
      },
      {
        "duration": 234,
        "start_time": "2023-02-23T14:48:36.968Z"
      },
      {
        "duration": 68,
        "start_time": "2023-02-23T14:48:37.204Z"
      },
      {
        "duration": 42,
        "start_time": "2023-02-23T14:48:37.274Z"
      },
      {
        "duration": 33,
        "start_time": "2023-02-23T14:48:37.318Z"
      },
      {
        "duration": 84,
        "start_time": "2023-02-23T14:48:37.353Z"
      },
      {
        "duration": 20,
        "start_time": "2023-02-23T14:48:37.439Z"
      },
      {
        "duration": 45,
        "start_time": "2023-02-23T14:48:37.461Z"
      },
      {
        "duration": 4788,
        "start_time": "2023-02-23T14:48:37.508Z"
      },
      {
        "duration": 87,
        "start_time": "2023-02-23T14:48:42.298Z"
      },
      {
        "duration": 54,
        "start_time": "2023-02-23T14:48:42.387Z"
      },
      {
        "duration": 11,
        "start_time": "2023-02-23T14:48:42.443Z"
      },
      {
        "duration": 0,
        "start_time": "2023-02-23T14:48:42.455Z"
      },
      {
        "duration": 0,
        "start_time": "2023-02-23T14:48:42.457Z"
      },
      {
        "duration": 0,
        "start_time": "2023-02-23T14:48:42.458Z"
      },
      {
        "duration": 0,
        "start_time": "2023-02-23T14:48:42.459Z"
      },
      {
        "duration": 0,
        "start_time": "2023-02-23T14:48:42.461Z"
      },
      {
        "duration": 0,
        "start_time": "2023-02-23T14:48:42.462Z"
      },
      {
        "duration": 0,
        "start_time": "2023-02-23T14:48:42.464Z"
      },
      {
        "duration": 0,
        "start_time": "2023-02-23T14:48:42.465Z"
      },
      {
        "duration": 0,
        "start_time": "2023-02-23T14:48:42.466Z"
      },
      {
        "duration": 1558,
        "start_time": "2023-02-23T14:49:54.196Z"
      },
      {
        "duration": 962,
        "start_time": "2023-02-23T14:49:55.758Z"
      },
      {
        "duration": 177,
        "start_time": "2023-02-23T14:49:56.722Z"
      },
      {
        "duration": 125,
        "start_time": "2023-02-23T14:49:56.901Z"
      },
      {
        "duration": 25,
        "start_time": "2023-02-23T14:49:57.029Z"
      },
      {
        "duration": 223,
        "start_time": "2023-02-23T14:49:57.056Z"
      },
      {
        "duration": 296,
        "start_time": "2023-02-23T14:49:57.281Z"
      },
      {
        "duration": 28,
        "start_time": "2023-02-23T14:49:57.580Z"
      },
      {
        "duration": 276,
        "start_time": "2023-02-23T14:49:57.610Z"
      },
      {
        "duration": 25,
        "start_time": "2023-02-23T14:49:57.889Z"
      },
      {
        "duration": 8059,
        "start_time": "2023-02-23T14:49:57.917Z"
      },
      {
        "duration": 44,
        "start_time": "2023-02-23T14:50:05.977Z"
      },
      {
        "duration": 16,
        "start_time": "2023-02-23T14:50:06.023Z"
      },
      {
        "duration": 310,
        "start_time": "2023-02-23T14:50:06.043Z"
      },
      {
        "duration": 20,
        "start_time": "2023-02-23T14:50:06.355Z"
      },
      {
        "duration": 274,
        "start_time": "2023-02-23T14:50:06.377Z"
      },
      {
        "duration": 26,
        "start_time": "2023-02-23T14:50:06.654Z"
      },
      {
        "duration": 188,
        "start_time": "2023-02-23T14:50:06.681Z"
      },
      {
        "duration": 89,
        "start_time": "2023-02-23T14:50:06.871Z"
      },
      {
        "duration": 816,
        "start_time": "2023-02-23T14:50:06.963Z"
      },
      {
        "duration": 18,
        "start_time": "2023-02-23T14:50:07.781Z"
      },
      {
        "duration": 22,
        "start_time": "2023-02-23T14:50:07.800Z"
      },
      {
        "duration": 319,
        "start_time": "2023-02-23T14:50:07.823Z"
      },
      {
        "duration": 169,
        "start_time": "2023-02-23T14:50:08.144Z"
      },
      {
        "duration": 14,
        "start_time": "2023-02-23T14:50:08.316Z"
      },
      {
        "duration": 31,
        "start_time": "2023-02-23T14:50:08.332Z"
      },
      {
        "duration": 149,
        "start_time": "2023-02-23T14:50:08.364Z"
      },
      {
        "duration": 141,
        "start_time": "2023-02-23T14:50:08.515Z"
      },
      {
        "duration": 184,
        "start_time": "2023-02-23T14:50:08.658Z"
      },
      {
        "duration": 11,
        "start_time": "2023-02-23T14:50:08.844Z"
      },
      {
        "duration": 5,
        "start_time": "2023-02-23T14:50:08.857Z"
      },
      {
        "duration": 48,
        "start_time": "2023-02-23T14:50:08.863Z"
      },
      {
        "duration": 167,
        "start_time": "2023-02-23T14:50:08.913Z"
      },
      {
        "duration": 188,
        "start_time": "2023-02-23T14:50:09.082Z"
      },
      {
        "duration": 30,
        "start_time": "2023-02-23T14:50:09.272Z"
      },
      {
        "duration": 649,
        "start_time": "2023-02-23T14:50:09.304Z"
      },
      {
        "duration": 62,
        "start_time": "2023-02-23T14:50:09.955Z"
      },
      {
        "duration": 49,
        "start_time": "2023-02-23T14:50:10.020Z"
      },
      {
        "duration": 25,
        "start_time": "2023-02-23T14:50:10.071Z"
      },
      {
        "duration": 8,
        "start_time": "2023-02-23T14:50:10.098Z"
      },
      {
        "duration": 144,
        "start_time": "2023-02-23T14:50:10.111Z"
      },
      {
        "duration": 52,
        "start_time": "2023-02-23T14:50:10.257Z"
      },
      {
        "duration": 21,
        "start_time": "2023-02-23T14:50:10.311Z"
      },
      {
        "duration": 27,
        "start_time": "2023-02-23T14:50:10.334Z"
      },
      {
        "duration": 131,
        "start_time": "2023-02-23T14:50:10.363Z"
      },
      {
        "duration": 0,
        "start_time": "2023-02-23T14:50:10.495Z"
      },
      {
        "duration": 0,
        "start_time": "2023-02-23T14:50:10.498Z"
      },
      {
        "duration": 0,
        "start_time": "2023-02-23T14:50:10.501Z"
      },
      {
        "duration": 0,
        "start_time": "2023-02-23T14:50:10.502Z"
      },
      {
        "duration": 0,
        "start_time": "2023-02-23T14:50:10.504Z"
      },
      {
        "duration": 0,
        "start_time": "2023-02-23T14:50:10.505Z"
      },
      {
        "duration": 0,
        "start_time": "2023-02-23T14:50:10.506Z"
      },
      {
        "duration": 0,
        "start_time": "2023-02-23T14:50:10.508Z"
      },
      {
        "duration": 0,
        "start_time": "2023-02-23T14:50:10.510Z"
      },
      {
        "duration": 0,
        "start_time": "2023-02-23T14:50:10.511Z"
      },
      {
        "duration": 1,
        "start_time": "2023-02-23T14:50:10.512Z"
      },
      {
        "duration": 0,
        "start_time": "2023-02-23T14:50:10.514Z"
      },
      {
        "duration": 0,
        "start_time": "2023-02-23T14:50:10.516Z"
      },
      {
        "duration": 0,
        "start_time": "2023-02-23T14:50:10.517Z"
      },
      {
        "duration": 0,
        "start_time": "2023-02-23T14:50:10.518Z"
      },
      {
        "duration": 7,
        "start_time": "2023-02-23T14:50:56.917Z"
      },
      {
        "duration": 10,
        "start_time": "2023-02-23T14:51:11.062Z"
      },
      {
        "duration": 14,
        "start_time": "2023-02-23T14:51:13.856Z"
      },
      {
        "duration": 10,
        "start_time": "2023-02-23T14:51:17.636Z"
      },
      {
        "duration": 12,
        "start_time": "2023-02-23T14:51:25.825Z"
      },
      {
        "duration": 12,
        "start_time": "2023-02-23T14:51:28.033Z"
      },
      {
        "duration": 3017,
        "start_time": "2023-02-23T14:51:51.396Z"
      },
      {
        "duration": 1375,
        "start_time": "2023-02-23T15:04:07.918Z"
      },
      {
        "duration": 823,
        "start_time": "2023-02-23T15:04:09.295Z"
      },
      {
        "duration": 151,
        "start_time": "2023-02-23T15:04:10.119Z"
      },
      {
        "duration": 140,
        "start_time": "2023-02-23T15:04:10.272Z"
      },
      {
        "duration": 23,
        "start_time": "2023-02-23T15:04:10.415Z"
      },
      {
        "duration": 178,
        "start_time": "2023-02-23T15:04:10.440Z"
      },
      {
        "duration": 321,
        "start_time": "2023-02-23T15:04:10.620Z"
      },
      {
        "duration": 18,
        "start_time": "2023-02-23T15:04:10.942Z"
      },
      {
        "duration": 269,
        "start_time": "2023-02-23T15:04:10.962Z"
      },
      {
        "duration": 18,
        "start_time": "2023-02-23T15:04:11.233Z"
      },
      {
        "duration": 8503,
        "start_time": "2023-02-23T15:04:11.252Z"
      },
      {
        "duration": 59,
        "start_time": "2023-02-23T15:04:19.757Z"
      },
      {
        "duration": 19,
        "start_time": "2023-02-23T15:04:19.818Z"
      },
      {
        "duration": 339,
        "start_time": "2023-02-23T15:04:19.842Z"
      },
      {
        "duration": 31,
        "start_time": "2023-02-23T15:04:20.183Z"
      },
      {
        "duration": 326,
        "start_time": "2023-02-23T15:04:20.216Z"
      },
      {
        "duration": 24,
        "start_time": "2023-02-23T15:04:20.544Z"
      },
      {
        "duration": 250,
        "start_time": "2023-02-23T15:04:20.571Z"
      },
      {
        "duration": 91,
        "start_time": "2023-02-23T15:04:20.823Z"
      },
      {
        "duration": 971,
        "start_time": "2023-02-23T15:04:20.917Z"
      },
      {
        "duration": 22,
        "start_time": "2023-02-23T15:04:21.890Z"
      },
      {
        "duration": 28,
        "start_time": "2023-02-23T15:04:21.914Z"
      },
      {
        "duration": 322,
        "start_time": "2023-02-23T15:04:21.943Z"
      },
      {
        "duration": 169,
        "start_time": "2023-02-23T15:04:22.267Z"
      },
      {
        "duration": 13,
        "start_time": "2023-02-23T15:04:22.438Z"
      },
      {
        "duration": 50,
        "start_time": "2023-02-23T15:04:22.453Z"
      },
      {
        "duration": 159,
        "start_time": "2023-02-23T15:04:22.505Z"
      },
      {
        "duration": 167,
        "start_time": "2023-02-23T15:04:22.666Z"
      },
      {
        "duration": 224,
        "start_time": "2023-02-23T15:04:22.834Z"
      },
      {
        "duration": 12,
        "start_time": "2023-02-23T15:04:23.060Z"
      },
      {
        "duration": 6,
        "start_time": "2023-02-23T15:04:23.073Z"
      },
      {
        "duration": 41,
        "start_time": "2023-02-23T15:04:23.081Z"
      },
      {
        "duration": 204,
        "start_time": "2023-02-23T15:04:23.125Z"
      },
      {
        "duration": 207,
        "start_time": "2023-02-23T15:04:23.331Z"
      },
      {
        "duration": 21,
        "start_time": "2023-02-23T15:04:23.539Z"
      },
      {
        "duration": 793,
        "start_time": "2023-02-23T15:04:23.561Z"
      },
      {
        "duration": 81,
        "start_time": "2023-02-23T15:04:24.356Z"
      },
      {
        "duration": 951,
        "start_time": "2023-02-23T15:04:24.439Z"
      },
      {
        "duration": 12,
        "start_time": "2023-02-23T15:04:25.392Z"
      },
      {
        "duration": 16,
        "start_time": "2023-02-23T15:04:25.410Z"
      },
      {
        "duration": 28,
        "start_time": "2023-02-23T15:04:25.430Z"
      },
      {
        "duration": 98,
        "start_time": "2023-02-23T15:04:25.460Z"
      },
      {
        "duration": 55887,
        "start_time": "2023-02-23T15:04:25.560Z"
      },
      {
        "duration": 1729,
        "start_time": "2023-02-23T15:05:21.448Z"
      },
      {
        "duration": 46,
        "start_time": "2023-02-23T15:05:23.179Z"
      },
      {
        "duration": 5,
        "start_time": "2023-02-23T15:05:23.227Z"
      },
      {
        "duration": 16,
        "start_time": "2023-02-23T15:05:23.233Z"
      },
      {
        "duration": 167,
        "start_time": "2023-02-23T15:05:23.250Z"
      },
      {
        "duration": 44596,
        "start_time": "2023-02-23T15:05:23.418Z"
      },
      {
        "duration": 243,
        "start_time": "2023-02-23T15:06:08.016Z"
      },
      {
        "duration": 5,
        "start_time": "2023-02-23T15:06:08.261Z"
      },
      {
        "duration": 73,
        "start_time": "2023-02-23T15:06:08.267Z"
      },
      {
        "duration": 31676,
        "start_time": "2023-02-23T15:06:08.342Z"
      },
      {
        "duration": 298,
        "start_time": "2023-02-23T15:06:40.020Z"
      },
      {
        "duration": 85,
        "start_time": "2023-02-23T15:06:40.319Z"
      },
      {
        "duration": 182,
        "start_time": "2023-02-23T15:06:40.407Z"
      },
      {
        "duration": 177,
        "start_time": "2023-02-23T15:07:01.357Z"
      },
      {
        "duration": 553,
        "start_time": "2023-02-23T15:11:19.724Z"
      },
      {
        "duration": 1608,
        "start_time": "2023-02-23T15:11:29.326Z"
      },
      {
        "duration": 899,
        "start_time": "2023-02-23T15:11:30.936Z"
      },
      {
        "duration": 119,
        "start_time": "2023-02-23T15:11:31.837Z"
      },
      {
        "duration": 121,
        "start_time": "2023-02-23T15:11:31.958Z"
      },
      {
        "duration": 41,
        "start_time": "2023-02-23T15:11:32.082Z"
      },
      {
        "duration": 181,
        "start_time": "2023-02-23T15:11:32.125Z"
      },
      {
        "duration": 331,
        "start_time": "2023-02-23T15:11:32.307Z"
      },
      {
        "duration": 17,
        "start_time": "2023-02-23T15:11:32.640Z"
      },
      {
        "duration": 274,
        "start_time": "2023-02-23T15:11:32.659Z"
      },
      {
        "duration": 17,
        "start_time": "2023-02-23T15:11:32.934Z"
      },
      {
        "duration": 8483,
        "start_time": "2023-02-23T15:11:32.953Z"
      },
      {
        "duration": 36,
        "start_time": "2023-02-23T15:11:41.437Z"
      },
      {
        "duration": 33,
        "start_time": "2023-02-23T15:11:41.475Z"
      },
      {
        "duration": 305,
        "start_time": "2023-02-23T15:11:41.517Z"
      },
      {
        "duration": 16,
        "start_time": "2023-02-23T15:11:41.824Z"
      },
      {
        "duration": 280,
        "start_time": "2023-02-23T15:11:41.842Z"
      },
      {
        "duration": 24,
        "start_time": "2023-02-23T15:11:42.124Z"
      },
      {
        "duration": 222,
        "start_time": "2023-02-23T15:11:42.150Z"
      },
      {
        "duration": 83,
        "start_time": "2023-02-23T15:11:42.375Z"
      },
      {
        "duration": 837,
        "start_time": "2023-02-23T15:11:42.460Z"
      },
      {
        "duration": 12,
        "start_time": "2023-02-23T15:11:43.300Z"
      },
      {
        "duration": 43,
        "start_time": "2023-02-23T15:11:43.314Z"
      },
      {
        "duration": 309,
        "start_time": "2023-02-23T15:11:43.359Z"
      },
      {
        "duration": 138,
        "start_time": "2023-02-23T15:11:43.670Z"
      },
      {
        "duration": 13,
        "start_time": "2023-02-23T15:11:43.811Z"
      },
      {
        "duration": 39,
        "start_time": "2023-02-23T15:11:43.826Z"
      },
      {
        "duration": 181,
        "start_time": "2023-02-23T15:11:43.867Z"
      },
      {
        "duration": 197,
        "start_time": "2023-02-23T15:11:44.050Z"
      },
      {
        "duration": 224,
        "start_time": "2023-02-23T15:11:44.249Z"
      },
      {
        "duration": 11,
        "start_time": "2023-02-23T15:11:44.474Z"
      },
      {
        "duration": 6,
        "start_time": "2023-02-23T15:11:44.499Z"
      },
      {
        "duration": 49,
        "start_time": "2023-02-23T15:11:44.507Z"
      },
      {
        "duration": 173,
        "start_time": "2023-02-23T15:11:44.557Z"
      },
      {
        "duration": 198,
        "start_time": "2023-02-23T15:11:44.732Z"
      },
      {
        "duration": 18,
        "start_time": "2023-02-23T15:11:44.931Z"
      },
      {
        "duration": 640,
        "start_time": "2023-02-23T15:11:44.951Z"
      },
      {
        "duration": 76,
        "start_time": "2023-02-23T15:11:45.593Z"
      },
      {
        "duration": 783,
        "start_time": "2023-02-23T15:11:45.671Z"
      },
      {
        "duration": 2,
        "start_time": "2023-02-23T15:11:46.457Z"
      },
      {
        "duration": 8,
        "start_time": "2023-02-23T15:11:46.461Z"
      },
      {
        "duration": 6,
        "start_time": "2023-02-23T15:11:46.474Z"
      },
      {
        "duration": 134,
        "start_time": "2023-02-23T15:11:46.482Z"
      },
      {
        "duration": 60108,
        "start_time": "2023-02-23T15:11:46.617Z"
      },
      {
        "duration": 1871,
        "start_time": "2023-02-23T15:12:46.728Z"
      },
      {
        "duration": 39,
        "start_time": "2023-02-23T15:12:48.601Z"
      },
      {
        "duration": 5,
        "start_time": "2023-02-23T15:12:48.642Z"
      },
      {
        "duration": 12,
        "start_time": "2023-02-23T15:12:48.648Z"
      },
      {
        "duration": 297,
        "start_time": "2023-02-23T15:12:48.662Z"
      },
      {
        "duration": 48123,
        "start_time": "2023-02-23T15:12:48.961Z"
      },
      {
        "duration": 272,
        "start_time": "2023-02-23T15:13:37.086Z"
      },
      {
        "duration": 5,
        "start_time": "2023-02-23T15:13:37.360Z"
      },
      {
        "duration": 74,
        "start_time": "2023-02-23T15:13:37.367Z"
      },
      {
        "duration": 61863,
        "start_time": "2023-02-23T15:13:37.442Z"
      },
      {
        "duration": 324,
        "start_time": "2023-02-23T15:14:39.309Z"
      },
      {
        "duration": 5,
        "start_time": "2023-02-23T15:14:39.635Z"
      },
      {
        "duration": 171,
        "start_time": "2023-02-23T15:14:39.642Z"
      },
      {
        "duration": 142,
        "start_time": "2023-02-23T15:16:49.220Z"
      },
      {
        "duration": 1363,
        "start_time": "2023-02-23T15:28:22.623Z"
      },
      {
        "duration": 811,
        "start_time": "2023-02-23T15:28:23.989Z"
      },
      {
        "duration": 142,
        "start_time": "2023-02-23T15:28:24.802Z"
      },
      {
        "duration": 111,
        "start_time": "2023-02-23T15:28:24.945Z"
      },
      {
        "duration": 24,
        "start_time": "2023-02-23T15:28:25.058Z"
      },
      {
        "duration": 164,
        "start_time": "2023-02-23T15:28:25.084Z"
      },
      {
        "duration": 272,
        "start_time": "2023-02-23T15:28:25.249Z"
      },
      {
        "duration": 18,
        "start_time": "2023-02-23T15:28:25.522Z"
      },
      {
        "duration": 252,
        "start_time": "2023-02-23T15:28:25.542Z"
      },
      {
        "duration": 17,
        "start_time": "2023-02-23T15:28:25.798Z"
      },
      {
        "duration": 7817,
        "start_time": "2023-02-23T15:28:25.816Z"
      },
      {
        "duration": 35,
        "start_time": "2023-02-23T15:28:33.634Z"
      },
      {
        "duration": 28,
        "start_time": "2023-02-23T15:28:33.671Z"
      },
      {
        "duration": 284,
        "start_time": "2023-02-23T15:28:33.700Z"
      },
      {
        "duration": 23,
        "start_time": "2023-02-23T15:28:33.986Z"
      },
      {
        "duration": 289,
        "start_time": "2023-02-23T15:28:34.011Z"
      },
      {
        "duration": 19,
        "start_time": "2023-02-23T15:28:34.301Z"
      },
      {
        "duration": 187,
        "start_time": "2023-02-23T15:28:34.321Z"
      },
      {
        "duration": 60,
        "start_time": "2023-02-23T15:28:34.509Z"
      },
      {
        "duration": 756,
        "start_time": "2023-02-23T15:28:34.571Z"
      },
      {
        "duration": 10,
        "start_time": "2023-02-23T15:28:35.328Z"
      },
      {
        "duration": 21,
        "start_time": "2023-02-23T15:28:35.339Z"
      },
      {
        "duration": 263,
        "start_time": "2023-02-23T15:28:35.362Z"
      },
      {
        "duration": 129,
        "start_time": "2023-02-23T15:28:35.627Z"
      },
      {
        "duration": 11,
        "start_time": "2023-02-23T15:28:35.758Z"
      },
      {
        "duration": 40,
        "start_time": "2023-02-23T15:28:35.771Z"
      },
      {
        "duration": 127,
        "start_time": "2023-02-23T15:28:35.813Z"
      },
      {
        "duration": 138,
        "start_time": "2023-02-23T15:28:35.944Z"
      },
      {
        "duration": 185,
        "start_time": "2023-02-23T15:28:36.083Z"
      },
      {
        "duration": 11,
        "start_time": "2023-02-23T15:28:36.269Z"
      },
      {
        "duration": 19,
        "start_time": "2023-02-23T15:28:36.282Z"
      },
      {
        "duration": 29,
        "start_time": "2023-02-23T15:28:36.302Z"
      },
      {
        "duration": 169,
        "start_time": "2023-02-23T15:28:36.333Z"
      },
      {
        "duration": 184,
        "start_time": "2023-02-23T15:28:36.503Z"
      },
      {
        "duration": 20,
        "start_time": "2023-02-23T15:28:36.689Z"
      },
      {
        "duration": 663,
        "start_time": "2023-02-23T15:28:36.711Z"
      },
      {
        "duration": 57,
        "start_time": "2023-02-23T15:28:37.376Z"
      },
      {
        "duration": 700,
        "start_time": "2023-02-23T15:28:37.434Z"
      },
      {
        "duration": 2,
        "start_time": "2023-02-23T15:28:38.136Z"
      },
      {
        "duration": 21,
        "start_time": "2023-02-23T15:28:38.140Z"
      },
      {
        "duration": 6,
        "start_time": "2023-02-23T15:28:38.163Z"
      },
      {
        "duration": 113,
        "start_time": "2023-02-23T15:28:38.171Z"
      },
      {
        "duration": 52701,
        "start_time": "2023-02-23T15:28:38.291Z"
      },
      {
        "duration": 1711,
        "start_time": "2023-02-23T15:29:30.993Z"
      },
      {
        "duration": 34,
        "start_time": "2023-02-23T15:29:32.705Z"
      },
      {
        "duration": 4,
        "start_time": "2023-02-23T15:29:32.741Z"
      },
      {
        "duration": 2794299,
        "start_time": "2023-02-23T15:29:32.747Z"
      },
      {
        "duration": 43515,
        "start_time": "2023-02-23T16:16:07.048Z"
      },
      {
        "duration": 238,
        "start_time": "2023-02-23T16:16:50.564Z"
      },
      {
        "duration": 5,
        "start_time": "2023-02-23T16:16:50.803Z"
      },
      {
        "duration": 144,
        "start_time": "2023-02-23T16:16:50.810Z"
      },
      {
        "duration": 2455,
        "start_time": "2023-02-23T16:16:50.955Z"
      },
      {
        "duration": 390,
        "start_time": "2023-02-23T16:16:53.411Z"
      },
      {
        "duration": 6,
        "start_time": "2023-02-23T16:16:53.803Z"
      },
      {
        "duration": 1376,
        "start_time": "2023-02-23T16:21:14.612Z"
      },
      {
        "duration": 802,
        "start_time": "2023-02-23T16:21:15.991Z"
      },
      {
        "duration": 142,
        "start_time": "2023-02-23T16:21:16.795Z"
      },
      {
        "duration": 112,
        "start_time": "2023-02-23T16:21:16.939Z"
      },
      {
        "duration": 25,
        "start_time": "2023-02-23T16:21:17.053Z"
      },
      {
        "duration": 184,
        "start_time": "2023-02-23T16:21:17.080Z"
      },
      {
        "duration": 265,
        "start_time": "2023-02-23T16:21:17.266Z"
      },
      {
        "duration": 16,
        "start_time": "2023-02-23T16:21:17.533Z"
      },
      {
        "duration": 239,
        "start_time": "2023-02-23T16:21:17.550Z"
      },
      {
        "duration": 17,
        "start_time": "2023-02-23T16:21:17.798Z"
      },
      {
        "duration": 7817,
        "start_time": "2023-02-23T16:21:17.817Z"
      },
      {
        "duration": 40,
        "start_time": "2023-02-23T16:21:25.637Z"
      },
      {
        "duration": 29,
        "start_time": "2023-02-23T16:21:25.679Z"
      },
      {
        "duration": 288,
        "start_time": "2023-02-23T16:21:25.710Z"
      },
      {
        "duration": 17,
        "start_time": "2023-02-23T16:21:25.999Z"
      },
      {
        "duration": 265,
        "start_time": "2023-02-23T16:21:26.018Z"
      },
      {
        "duration": 20,
        "start_time": "2023-02-23T16:21:26.285Z"
      },
      {
        "duration": 180,
        "start_time": "2023-02-23T16:21:26.307Z"
      },
      {
        "duration": 61,
        "start_time": "2023-02-23T16:21:26.489Z"
      },
      {
        "duration": 768,
        "start_time": "2023-02-23T16:21:26.552Z"
      },
      {
        "duration": 10,
        "start_time": "2023-02-23T16:21:27.321Z"
      },
      {
        "duration": 20,
        "start_time": "2023-02-23T16:21:27.333Z"
      },
      {
        "duration": 267,
        "start_time": "2023-02-23T16:21:27.355Z"
      },
      {
        "duration": 131,
        "start_time": "2023-02-23T16:21:27.624Z"
      },
      {
        "duration": 11,
        "start_time": "2023-02-23T16:21:27.757Z"
      },
      {
        "duration": 44,
        "start_time": "2023-02-23T16:21:27.769Z"
      },
      {
        "duration": 128,
        "start_time": "2023-02-23T16:21:27.815Z"
      },
      {
        "duration": 135,
        "start_time": "2023-02-23T16:21:27.947Z"
      },
      {
        "duration": 169,
        "start_time": "2023-02-23T16:21:28.084Z"
      },
      {
        "duration": 10,
        "start_time": "2023-02-23T16:21:28.255Z"
      },
      {
        "duration": 3,
        "start_time": "2023-02-23T16:21:28.266Z"
      },
      {
        "duration": 38,
        "start_time": "2023-02-23T16:21:28.271Z"
      },
      {
        "duration": 155,
        "start_time": "2023-02-23T16:21:28.310Z"
      },
      {
        "duration": 171,
        "start_time": "2023-02-23T16:21:28.467Z"
      },
      {
        "duration": 18,
        "start_time": "2023-02-23T16:21:28.639Z"
      },
      {
        "duration": 656,
        "start_time": "2023-02-23T16:21:28.658Z"
      },
      {
        "duration": 57,
        "start_time": "2023-02-23T16:21:29.315Z"
      },
      {
        "duration": 2,
        "start_time": "2023-02-23T16:21:29.374Z"
      },
      {
        "duration": 22,
        "start_time": "2023-02-23T16:21:29.377Z"
      },
      {
        "duration": 2,
        "start_time": "2023-02-23T16:21:29.401Z"
      },
      {
        "duration": 114,
        "start_time": "2023-02-23T16:21:29.405Z"
      },
      {
        "duration": 717,
        "start_time": "2023-02-23T16:21:29.521Z"
      },
      {
        "duration": 147,
        "start_time": "2023-02-23T16:21:30.240Z"
      },
      {
        "duration": 60,
        "start_time": "2023-02-23T16:21:30.389Z"
      },
      {
        "duration": 60,
        "start_time": "2023-02-23T16:21:30.451Z"
      },
      {
        "duration": 11,
        "start_time": "2023-02-23T16:21:30.513Z"
      },
      {
        "duration": 0,
        "start_time": "2023-02-23T16:21:30.526Z"
      },
      {
        "duration": 0,
        "start_time": "2023-02-23T16:21:30.527Z"
      },
      {
        "duration": 0,
        "start_time": "2023-02-23T16:21:30.528Z"
      },
      {
        "duration": 0,
        "start_time": "2023-02-23T16:21:30.529Z"
      },
      {
        "duration": 0,
        "start_time": "2023-02-23T16:21:30.530Z"
      },
      {
        "duration": 0,
        "start_time": "2023-02-23T16:21:30.531Z"
      },
      {
        "duration": 0,
        "start_time": "2023-02-23T16:21:30.532Z"
      },
      {
        "duration": 0,
        "start_time": "2023-02-23T16:21:30.533Z"
      },
      {
        "duration": 52681,
        "start_time": "2023-02-23T16:24:45.686Z"
      },
      {
        "duration": 1643,
        "start_time": "2023-02-23T16:25:38.370Z"
      },
      {
        "duration": 39,
        "start_time": "2023-02-23T16:25:40.014Z"
      },
      {
        "duration": 6,
        "start_time": "2023-02-23T16:25:47.803Z"
      },
      {
        "duration": 307342,
        "start_time": "2023-02-23T16:25:50.651Z"
      },
      {
        "duration": 43229,
        "start_time": "2023-02-23T16:31:21.033Z"
      },
      {
        "duration": 236,
        "start_time": "2023-02-23T16:32:04.264Z"
      },
      {
        "duration": 4,
        "start_time": "2023-02-23T16:32:04.502Z"
      },
      {
        "duration": 2816577,
        "start_time": "2023-02-23T16:39:00.253Z"
      },
      {
        "duration": 54,
        "start_time": "2023-02-23T17:28:29.652Z"
      },
      {
        "duration": 37350,
        "start_time": "2023-02-23T17:28:40.358Z"
      },
      {
        "duration": 81677,
        "start_time": "2023-02-23T17:31:43.133Z"
      },
      {
        "duration": 301,
        "start_time": "2023-02-23T17:33:04.812Z"
      },
      {
        "duration": 7,
        "start_time": "2023-02-23T17:33:05.114Z"
      },
      {
        "duration": 5,
        "start_time": "2023-02-23T17:37:00.644Z"
      },
      {
        "duration": 9,
        "start_time": "2023-02-23T17:51:37.965Z"
      },
      {
        "duration": 12,
        "start_time": "2023-02-23T17:51:44.978Z"
      },
      {
        "duration": 728480,
        "start_time": "2023-02-23T17:54:04.986Z"
      },
      {
        "duration": 18757,
        "start_time": "2023-02-23T18:14:47.531Z"
      },
      {
        "duration": 50,
        "start_time": "2023-02-23T18:15:06.289Z"
      },
      {
        "duration": 5,
        "start_time": "2023-02-23T18:15:06.341Z"
      },
      {
        "duration": 41,
        "start_time": "2023-02-23T18:18:29.789Z"
      },
      {
        "duration": 50,
        "start_time": "2023-02-23T18:24:01.758Z"
      },
      {
        "duration": 105103,
        "start_time": "2023-02-23T18:34:12.523Z"
      },
      {
        "duration": 54,
        "start_time": "2023-02-26T11:31:01.004Z"
      },
      {
        "duration": 1750,
        "start_time": "2023-02-26T11:31:08.270Z"
      },
      {
        "duration": 2844,
        "start_time": "2023-02-26T11:31:10.022Z"
      },
      {
        "duration": 138,
        "start_time": "2023-02-26T11:31:12.868Z"
      },
      {
        "duration": 122,
        "start_time": "2023-02-26T11:31:13.008Z"
      },
      {
        "duration": 23,
        "start_time": "2023-02-26T11:31:13.136Z"
      },
      {
        "duration": 183,
        "start_time": "2023-02-26T11:31:13.161Z"
      },
      {
        "duration": 316,
        "start_time": "2023-02-26T11:31:13.346Z"
      },
      {
        "duration": 18,
        "start_time": "2023-02-26T11:31:13.664Z"
      },
      {
        "duration": 256,
        "start_time": "2023-02-26T11:31:13.684Z"
      },
      {
        "duration": 25,
        "start_time": "2023-02-26T11:31:13.942Z"
      },
      {
        "duration": 8389,
        "start_time": "2023-02-26T11:31:13.969Z"
      },
      {
        "duration": 39,
        "start_time": "2023-02-26T11:31:22.360Z"
      },
      {
        "duration": 17,
        "start_time": "2023-02-26T11:31:22.401Z"
      },
      {
        "duration": 317,
        "start_time": "2023-02-26T11:31:22.436Z"
      },
      {
        "duration": 20,
        "start_time": "2023-02-26T11:31:22.755Z"
      },
      {
        "duration": 265,
        "start_time": "2023-02-26T11:31:22.776Z"
      },
      {
        "duration": 22,
        "start_time": "2023-02-26T11:31:23.043Z"
      },
      {
        "duration": 225,
        "start_time": "2023-02-26T11:31:23.067Z"
      },
      {
        "duration": 71,
        "start_time": "2023-02-26T11:31:23.294Z"
      },
      {
        "duration": 846,
        "start_time": "2023-02-26T11:31:23.367Z"
      },
      {
        "duration": 10,
        "start_time": "2023-02-26T11:31:24.215Z"
      },
      {
        "duration": 22,
        "start_time": "2023-02-26T11:31:24.236Z"
      },
      {
        "duration": 296,
        "start_time": "2023-02-26T11:31:24.260Z"
      },
      {
        "duration": 143,
        "start_time": "2023-02-26T11:31:24.558Z"
      },
      {
        "duration": 11,
        "start_time": "2023-02-26T11:31:24.703Z"
      },
      {
        "duration": 49,
        "start_time": "2023-02-26T11:31:24.715Z"
      },
      {
        "duration": 137,
        "start_time": "2023-02-26T11:31:24.766Z"
      },
      {
        "duration": 150,
        "start_time": "2023-02-26T11:31:24.905Z"
      },
      {
        "duration": 187,
        "start_time": "2023-02-26T11:31:25.057Z"
      },
      {
        "duration": 13,
        "start_time": "2023-02-26T11:31:25.246Z"
      },
      {
        "duration": 5,
        "start_time": "2023-02-26T11:31:25.262Z"
      },
      {
        "duration": 30,
        "start_time": "2023-02-26T11:31:25.269Z"
      },
      {
        "duration": 198,
        "start_time": "2023-02-26T11:31:25.301Z"
      },
      {
        "duration": 205,
        "start_time": "2023-02-26T11:31:25.501Z"
      },
      {
        "duration": 30,
        "start_time": "2023-02-26T11:31:25.707Z"
      },
      {
        "duration": 660,
        "start_time": "2023-02-26T11:31:25.740Z"
      },
      {
        "duration": 70,
        "start_time": "2023-02-26T11:31:26.402Z"
      },
      {
        "duration": 3,
        "start_time": "2023-02-26T11:31:26.474Z"
      },
      {
        "duration": 5,
        "start_time": "2023-02-26T11:31:26.479Z"
      },
      {
        "duration": 4,
        "start_time": "2023-02-26T11:31:26.486Z"
      },
      {
        "duration": 143,
        "start_time": "2023-02-26T11:31:26.494Z"
      },
      {
        "duration": 716,
        "start_time": "2023-02-26T11:31:26.639Z"
      },
      {
        "duration": 55778,
        "start_time": "2023-02-26T11:31:27.356Z"
      },
      {
        "duration": 1790,
        "start_time": "2023-02-26T11:32:23.137Z"
      },
      {
        "duration": 47,
        "start_time": "2023-02-26T11:32:24.928Z"
      },
      {
        "duration": 5,
        "start_time": "2023-02-26T11:32:24.977Z"
      },
      {
        "duration": 831315,
        "start_time": "2023-02-26T11:32:24.983Z"
      },
      {
        "duration": 23376,
        "start_time": "2023-02-26T11:46:16.300Z"
      },
      {
        "duration": 53,
        "start_time": "2023-02-26T11:46:39.678Z"
      },
      {
        "duration": 10,
        "start_time": "2023-02-26T11:46:39.732Z"
      },
      {
        "duration": 941592,
        "start_time": "2023-02-26T11:46:39.753Z"
      },
      {
        "duration": 50199,
        "start_time": "2023-02-26T12:02:21.347Z"
      },
      {
        "duration": 390,
        "start_time": "2023-02-26T12:03:11.548Z"
      },
      {
        "duration": 11,
        "start_time": "2023-02-26T12:03:11.940Z"
      },
      {
        "duration": 116754,
        "start_time": "2023-02-26T12:03:11.952Z"
      }
    ],
    "kernelspec": {
      "display_name": "Python 3 (ipykernel)",
      "language": "python",
      "name": "python3"
    },
    "language_info": {
      "codemirror_mode": {
        "name": "ipython",
        "version": 3
      },
      "file_extension": ".py",
      "mimetype": "text/x-python",
      "name": "python",
      "nbconvert_exporter": "python",
      "pygments_lexer": "ipython3",
      "version": "3.9.5"
    },
    "toc": {
      "base_numbering": 1,
      "nav_menu": {},
      "number_sections": true,
      "sideBar": true,
      "skip_h1_title": true,
      "title_cell": "Table of Contents",
      "title_sidebar": "Contents",
      "toc_cell": false,
      "toc_position": {},
      "toc_section_display": true,
      "toc_window_display": false
    },
    "colab": {
      "provenance": []
    }
  },
  "nbformat": 4,
  "nbformat_minor": 0
}