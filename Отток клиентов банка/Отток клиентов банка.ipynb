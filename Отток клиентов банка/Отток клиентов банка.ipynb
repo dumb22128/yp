{
  "cells": [
    {
      "cell_type": "markdown",
      "metadata": {
        "toc": true,
        "id": "3wLqVC854JAX"
      },
      "source": [
        "<h1>Содержание<span class=\"tocSkip\"></span></h1>\n",
        "<div class=\"toc\"><ul class=\"toc-item\"><li><span><a href=\"#Подготовка-данных\" data-toc-modified-id=\"Подготовка-данных-1\"><span class=\"toc-item-num\">1&nbsp;&nbsp;</span>Подготовка данных</a></span></li><li><span><a href=\"#Исследование-задачи\" data-toc-modified-id=\"Исследование-задачи-2\"><span class=\"toc-item-num\">2&nbsp;&nbsp;</span>Исследование задачи</a></span></li><li><span><a href=\"#Борьба-с-дисбалансом\" data-toc-modified-id=\"Борьба-с-дисбалансом-3\"><span class=\"toc-item-num\">3&nbsp;&nbsp;</span>Борьба с дисбалансом</a></span></li><li><span><a href=\"#Тестирование-модели\" data-toc-modified-id=\"Тестирование-модели-4\"><span class=\"toc-item-num\">4&nbsp;&nbsp;</span>Тестирование модели</a></span></li><li><span><a href=\"#Чек-лист-готовности-проекта\" data-toc-modified-id=\"Чек-лист-готовности-проекта-5\"><span class=\"toc-item-num\">5&nbsp;&nbsp;</span>Чек-лист готовности проекта</a></span></li></ul></div>"
      ]
    },
    {
      "cell_type": "markdown",
      "metadata": {
        "id": "6efMdtp84JAY"
      },
      "source": [
        "# Отток клиентов"
      ]
    },
    {
      "cell_type": "markdown",
      "metadata": {
        "id": "OP-MUo5e4JAY"
      },
      "source": [
        "Из «Бета-Банка» стали уходить клиенты. Каждый месяц. Немного, но заметно. Банковские маркетологи посчитали: сохранять текущих клиентов дешевле, чем привлекать новых.\n",
        "\n",
        "Нужно спрогнозировать, уйдёт клиент из банка в ближайшее время или нет. Вам предоставлены исторические данные о поведении клиентов и расторжении договоров с банком.\n",
        "\n",
        "Постройте модель с предельно большим значением *F1*-меры. Чтобы сдать проект успешно, нужно довести метрику до 0.59. Проверьте *F1*-меру на тестовой выборке самостоятельно.\n",
        "\n",
        "Дополнительно измеряйте *AUC-ROC*, сравнивайте её значение с *F1*-мерой.\n",
        "\n",
        "Источник данных: [https://www.kaggle.com/barelydedicated/bank-customer-churn-modeling](https://www.kaggle.com/barelydedicated/bank-customer-churn-modeling)"
      ]
    },
    {
      "cell_type": "markdown",
      "metadata": {
        "id": "MYjYTf1p4JAZ"
      },
      "source": [
        "Признаки\n",
        "- RowNumber — индекс строки в данных\n",
        "- CustomerId — уникальный идентификатор клиента\n",
        "- Surname — фамилия\n",
        "- CreditScore — кредитный рейтинг\n",
        "- Geography — страна проживания\n",
        "- Gender — пол\n",
        "- Age — возраст\n",
        "- Tenure — сколько лет человек является клиентом банка\n",
        "- Balance — баланс на счёте\n",
        "- NumOfProducts — количество продуктов банка, используемых клиентом\n",
        "- HasCrCard — наличие кредитной карты\n",
        "- IsActiveMember — активность клиента\n",
        "- EstimatedSalary — предполагаемая зарплата\n",
        "\n",
        "Целевой признак\n",
        "- Exited — факт ухода клиента"
      ]
    },
    {
      "cell_type": "markdown",
      "metadata": {
        "id": "_dJsIRsW4JAZ"
      },
      "source": [
        "## Подготовка данных"
      ]
    },
    {
      "cell_type": "markdown",
      "metadata": {
        "id": "7h0GX97I4JAZ"
      },
      "source": [
        "Импортируем необходимые нам библиотеки и методы"
      ]
    },
    {
      "cell_type": "code",
      "execution_count": null,
      "metadata": {
        "id": "JP7zgOVR4JAa"
      },
      "outputs": [],
      "source": [
        "import pandas as pd\n",
        "import matplotlib.pyplot as plt\n",
        "import numpy as np\n",
        "from sklearn.tree import DecisionTreeClassifier\n",
        "from sklearn.ensemble import RandomForestClassifier\n",
        "from sklearn.linear_model import LogisticRegression\n",
        "from sklearn.model_selection import train_test_split\n",
        "from sklearn.preprocessing import OrdinalEncoder\n",
        "from sklearn.preprocessing import StandardScaler\n",
        "from sklearn.metrics import f1_score\n",
        "from sklearn.utils import shuffle\n",
        "from sklearn.metrics import roc_curve\n",
        "from sklearn.metrics import roc_auc_score\n",
        "from sklearn.metrics import f1_score\n",
        "from sklearn.metrics import recall_score\n",
        "from sklearn.metrics import precision_score\n",
        "from sklearn.metrics import auc\n",
        "from sklearn.metrics import accuracy_score\n",
        "from sklearn.metrics import confusion_matrix\n",
        "\n",
        "import warnings\n",
        "warnings.filterwarnings(\"ignore\")"
      ]
    },
    {
      "cell_type": "markdown",
      "metadata": {
        "id": "cm0AGsqN4JAb"
      },
      "source": [
        "Изучим датасет"
      ]
    },
    {
      "cell_type": "code",
      "execution_count": null,
      "metadata": {
        "id": "9ZB7N4064JAb",
        "outputId": "e3351361-2d11-48c6-a0b4-28d843163552"
      },
      "outputs": [
        {
          "name": "stdout",
          "output_type": "stream",
          "text": [
            "<class 'pandas.core.frame.DataFrame'>\n",
            "RangeIndex: 10000 entries, 0 to 9999\n",
            "Data columns (total 14 columns):\n",
            " #   Column           Non-Null Count  Dtype  \n",
            "---  ------           --------------  -----  \n",
            " 0   RowNumber        10000 non-null  int64  \n",
            " 1   CustomerId       10000 non-null  int64  \n",
            " 2   Surname          10000 non-null  object \n",
            " 3   CreditScore      10000 non-null  int64  \n",
            " 4   Geography        10000 non-null  object \n",
            " 5   Gender           10000 non-null  object \n",
            " 6   Age              10000 non-null  int64  \n",
            " 7   Tenure           9091 non-null   float64\n",
            " 8   Balance          10000 non-null  float64\n",
            " 9   NumOfProducts    10000 non-null  int64  \n",
            " 10  HasCrCard        10000 non-null  int64  \n",
            " 11  IsActiveMember   10000 non-null  int64  \n",
            " 12  EstimatedSalary  10000 non-null  float64\n",
            " 13  Exited           10000 non-null  int64  \n",
            "dtypes: float64(3), int64(8), object(3)\n",
            "memory usage: 1.1+ MB\n"
          ]
        }
      ],
      "source": [
        "df = pd.read_csv('/datasets/Churn.csv')\n",
        "df.info()"
      ]
    },
    {
      "cell_type": "markdown",
      "metadata": {
        "id": "KXhfy9HM4JAc"
      },
      "source": [
        "Пропуски имеются лишь в столбце Tenure, около 10 процентов от общего числа записей в этом столбце. Этот столбец содержит значения о количестве лет проведенных с банком, заменить можно на медиану, среднее арифмитическое, 0 или же вообще снести их. Также в глаза бросаются некорректные наименования столбцов, этим нужно будет заняться.\n",
        "Вообще разброс значений столбца Tenure крайне мал и это говорит что лучше воспользоваться медианной, но не совсем целесообразно относится к клиентам по медианне, скорее всего это клиенты, только пришедшие в банк."
      ]
    },
    {
      "cell_type": "code",
      "execution_count": null,
      "metadata": {
        "id": "IKYNynX34JAc"
      },
      "outputs": [],
      "source": [
        "#df['Tenure'].value_counts()\n",
        "#df['Tenure'].median(), df['Tenure'].mean()\n",
        "df['Tenure']=df['Tenure'].fillna(0)"
      ]
    },
    {
      "cell_type": "markdown",
      "metadata": {
        "id": "5w6ygAxJ4JAc"
      },
      "source": [
        "Изменим название столцов."
      ]
    },
    {
      "cell_type": "code",
      "execution_count": null,
      "metadata": {
        "id": "eM-JF7TE4JAc"
      },
      "outputs": [],
      "source": [
        "#df.columns\n",
        "df = df.rename(columns={'RowNumber':'row_number', 'CustomerId':'customer_id', 'CreditScore':'credit_score',\n",
        "       'NumOfProducts':'num_of_products', 'HasCrCard':'has_cr_card',\n",
        "       'IsActiveMember':'is_active_member', 'EstimatedSalary':'estimated_salary','Exited':'exited'})\n",
        "df.columns = df.columns.str.lower()"
      ]
    },
    {
      "cell_type": "code",
      "execution_count": null,
      "metadata": {
        "id": "Br6YZgLj4JAc",
        "outputId": "d453ee03-72d6-4284-c09a-209bb7ec0393"
      },
      "outputs": [
        {
          "data": {
            "text/plain": [
              "0"
            ]
          },
          "execution_count": 5,
          "metadata": {},
          "output_type": "execute_result"
        }
      ],
      "source": [
        "df.duplicated().sum() # проверка на дубликаты"
      ]
    },
    {
      "cell_type": "markdown",
      "metadata": {
        "id": "2WE9-uIv4JAd"
      },
      "source": [
        "С типами данных тоже есть загвостка, так, пол можно заменить булевым типом данных, так как у нас только два состояния, но тогда придется присвоить кому-то единицу, а кому-то нуль, а сексизм мы не уважаем, поэтому пока оставим так. Столбец Tenure лучше сделать интовым, так как там только интовые значения и храняться. Также наличие кредитный карты и активность клиента можно записать через булев тип, и целевой признак тоже имеет два состояния. Но с переводами в булев тип пока повеременим."
      ]
    },
    {
      "cell_type": "code",
      "execution_count": null,
      "metadata": {
        "id": "aO65QPVu4JAd"
      },
      "outputs": [],
      "source": [
        "df['tenure'] = df['tenure'].astype(int)\n",
        "df['num_of_products'] = df['num_of_products'].astype(int)"
      ]
    },
    {
      "cell_type": "markdown",
      "metadata": {
        "id": "G-qW4EXk4JAd"
      },
      "source": [
        "Построим гистограмы по столбцам, чтобы оценить выбивающиеся значения"
      ]
    },
    {
      "cell_type": "code",
      "execution_count": null,
      "metadata": {
        "scrolled": false,
        "id": "xc2q2TDf4JAd",
        "outputId": "ba6546e1-3bf7-4d11-e5dd-494f314c8431"
      },
      "outputs": [
        {
          "data": {
            "image/png": "[encoded data removed]",
            "text/plain": [
              "<Figure size 2592x2592 with 12 Axes>"
            ]
          },
          "metadata": {
            "needs_background": "light"
          },
          "output_type": "display_data"
        }
      ],
      "source": [
        "df.hist(figsize=(36,36), bins=30)\n",
        "plt.show()"
      ]
    },
    {
      "cell_type": "markdown",
      "metadata": {
        "id": "DnZYf19B4JAe"
      },
      "source": [
        "В целом все не так плохо, несмотря на то, что мы накинули почти в 1000 записей 0 в tenure, несмотря на то, что он явно выделяется, выделяется не так ужасно. Что касаемо баланса, конечно интерсно узнать, не являются ли эти 3500 записей студентами, в остальных случаях их нулевый баланс выглядит грустно. Ну и кредит_скор немного выбивается, не уж то такой высокий кредитный рейтинг у стольких людей? Булевые столбцы так и напрашиваются на перевод к типу данных, но держу себя пока что в руках..."
      ]
    },
    {
      "cell_type": "markdown",
      "metadata": {
        "id": "PfLteu9k4JAe"
      },
      "source": [
        "Также подготовим данные для машинного обучения, некоторые столбцы там не понадобятся."
      ]
    },
    {
      "cell_type": "code",
      "execution_count": null,
      "metadata": {
        "id": "sJc0_iiL4JAe",
        "outputId": "c4be0dd7-85ad-4522-b64a-598a36783462"
      },
      "outputs": [
        {
          "data": {
            "text/html": [
              "<div>\n",
              "<style scoped>\n",
              "    .dataframe tbody tr th:only-of-type {\n",
              "        vertical-align: middle;\n",
              "    }\n",
              "\n",
              "    .dataframe tbody tr th {\n",
              "        vertical-align: top;\n",
              "    }\n",
              "\n",
              "    .dataframe thead th {\n",
              "        text-align: right;\n",
              "    }\n",
              "</style>\n",
              "<table border=\"1\" class=\"dataframe\">\n",
              "  <thead>\n",
              "    <tr style=\"text-align: right;\">\n",
              "      <th></th>\n",
              "      <th>credit_score</th>\n",
              "      <th>geography</th>\n",
              "      <th>gender</th>\n",
              "      <th>age</th>\n",
              "      <th>tenure</th>\n",
              "      <th>balance</th>\n",
              "      <th>num_of_products</th>\n",
              "      <th>has_cr_card</th>\n",
              "      <th>is_active_member</th>\n",
              "      <th>estimated_salary</th>\n",
              "      <th>exited</th>\n",
              "    </tr>\n",
              "  </thead>\n",
              "  <tbody>\n",
              "    <tr>\n",
              "      <th>0</th>\n",
              "      <td>619</td>\n",
              "      <td>France</td>\n",
              "      <td>Female</td>\n",
              "      <td>42</td>\n",
              "      <td>2</td>\n",
              "      <td>0.00</td>\n",
              "      <td>1</td>\n",
              "      <td>1</td>\n",
              "      <td>1</td>\n",
              "      <td>101348.88</td>\n",
              "      <td>1</td>\n",
              "    </tr>\n",
              "    <tr>\n",
              "      <th>1</th>\n",
              "      <td>608</td>\n",
              "      <td>Spain</td>\n",
              "      <td>Female</td>\n",
              "      <td>41</td>\n",
              "      <td>1</td>\n",
              "      <td>83807.86</td>\n",
              "      <td>1</td>\n",
              "      <td>0</td>\n",
              "      <td>1</td>\n",
              "      <td>112542.58</td>\n",
              "      <td>0</td>\n",
              "    </tr>\n",
              "    <tr>\n",
              "      <th>2</th>\n",
              "      <td>502</td>\n",
              "      <td>France</td>\n",
              "      <td>Female</td>\n",
              "      <td>42</td>\n",
              "      <td>8</td>\n",
              "      <td>159660.80</td>\n",
              "      <td>3</td>\n",
              "      <td>1</td>\n",
              "      <td>0</td>\n",
              "      <td>113931.57</td>\n",
              "      <td>1</td>\n",
              "    </tr>\n",
              "    <tr>\n",
              "      <th>3</th>\n",
              "      <td>699</td>\n",
              "      <td>France</td>\n",
              "      <td>Female</td>\n",
              "      <td>39</td>\n",
              "      <td>1</td>\n",
              "      <td>0.00</td>\n",
              "      <td>2</td>\n",
              "      <td>0</td>\n",
              "      <td>0</td>\n",
              "      <td>93826.63</td>\n",
              "      <td>0</td>\n",
              "    </tr>\n",
              "    <tr>\n",
              "      <th>4</th>\n",
              "      <td>850</td>\n",
              "      <td>Spain</td>\n",
              "      <td>Female</td>\n",
              "      <td>43</td>\n",
              "      <td>2</td>\n",
              "      <td>125510.82</td>\n",
              "      <td>1</td>\n",
              "      <td>1</td>\n",
              "      <td>1</td>\n",
              "      <td>79084.10</td>\n",
              "      <td>0</td>\n",
              "    </tr>\n",
              "  </tbody>\n",
              "</table>\n",
              "</div>"
            ],
            "text/plain": [
              "   credit_score geography  gender  age  tenure    balance  num_of_products  \\\n",
              "0           619    France  Female   42       2       0.00                1   \n",
              "1           608     Spain  Female   41       1   83807.86                1   \n",
              "2           502    France  Female   42       8  159660.80                3   \n",
              "3           699    France  Female   39       1       0.00                2   \n",
              "4           850     Spain  Female   43       2  125510.82                1   \n",
              "\n",
              "   has_cr_card  is_active_member  estimated_salary  exited  \n",
              "0            1                 1         101348.88       1  \n",
              "1            0                 1         112542.58       0  \n",
              "2            1                 0         113931.57       1  \n",
              "3            0                 0          93826.63       0  \n",
              "4            1                 1          79084.10       0  "
            ]
          },
          "execution_count": 8,
          "metadata": {},
          "output_type": "execute_result"
        }
      ],
      "source": [
        "#Обозначим новый датафрейм \"data_ml\" — данные для машинного обучения\n",
        "#Удалим столбцы-идентификаторы, не представляющие ценностия для алгоритма\n",
        "for_drop = ['row_number','customer_id', 'surname']\n",
        "df_ml = df.drop(for_drop, axis=1)\n",
        "df_ml.head()"
      ]
    },
    {
      "cell_type": "markdown",
      "metadata": {
        "id": "JctGNxT84JAf"
      },
      "source": [
        "Данные подготовим методом OHE, что позволит нам использовать модели, деревое решений, случайный лес и логистическую регрессию."
      ]
    },
    {
      "cell_type": "code",
      "execution_count": null,
      "metadata": {
        "id": "qVdf1QmR4JAf",
        "outputId": "f8fa36d1-b90e-4050-a784-968fab96f9d1"
      },
      "outputs": [
        {
          "data": {
            "text/html": [
              "<div>\n",
              "<style scoped>\n",
              "    .dataframe tbody tr th:only-of-type {\n",
              "        vertical-align: middle;\n",
              "    }\n",
              "\n",
              "    .dataframe tbody tr th {\n",
              "        vertical-align: top;\n",
              "    }\n",
              "\n",
              "    .dataframe thead th {\n",
              "        text-align: right;\n",
              "    }\n",
              "</style>\n",
              "<table border=\"1\" class=\"dataframe\">\n",
              "  <thead>\n",
              "    <tr style=\"text-align: right;\">\n",
              "      <th></th>\n",
              "      <th>credit_score</th>\n",
              "      <th>age</th>\n",
              "      <th>tenure</th>\n",
              "      <th>balance</th>\n",
              "      <th>num_of_products</th>\n",
              "      <th>has_cr_card</th>\n",
              "      <th>is_active_member</th>\n",
              "      <th>estimated_salary</th>\n",
              "      <th>exited</th>\n",
              "      <th>geography_Germany</th>\n",
              "      <th>geography_Spain</th>\n",
              "      <th>gender_Male</th>\n",
              "    </tr>\n",
              "  </thead>\n",
              "  <tbody>\n",
              "    <tr>\n",
              "      <th>0</th>\n",
              "      <td>619</td>\n",
              "      <td>42</td>\n",
              "      <td>2</td>\n",
              "      <td>0.00</td>\n",
              "      <td>1</td>\n",
              "      <td>1</td>\n",
              "      <td>1</td>\n",
              "      <td>101348.88</td>\n",
              "      <td>1</td>\n",
              "      <td>0</td>\n",
              "      <td>0</td>\n",
              "      <td>0</td>\n",
              "    </tr>\n",
              "    <tr>\n",
              "      <th>1</th>\n",
              "      <td>608</td>\n",
              "      <td>41</td>\n",
              "      <td>1</td>\n",
              "      <td>83807.86</td>\n",
              "      <td>1</td>\n",
              "      <td>0</td>\n",
              "      <td>1</td>\n",
              "      <td>112542.58</td>\n",
              "      <td>0</td>\n",
              "      <td>0</td>\n",
              "      <td>1</td>\n",
              "      <td>0</td>\n",
              "    </tr>\n",
              "    <tr>\n",
              "      <th>2</th>\n",
              "      <td>502</td>\n",
              "      <td>42</td>\n",
              "      <td>8</td>\n",
              "      <td>159660.80</td>\n",
              "      <td>3</td>\n",
              "      <td>1</td>\n",
              "      <td>0</td>\n",
              "      <td>113931.57</td>\n",
              "      <td>1</td>\n",
              "      <td>0</td>\n",
              "      <td>0</td>\n",
              "      <td>0</td>\n",
              "    </tr>\n",
              "    <tr>\n",
              "      <th>3</th>\n",
              "      <td>699</td>\n",
              "      <td>39</td>\n",
              "      <td>1</td>\n",
              "      <td>0.00</td>\n",
              "      <td>2</td>\n",
              "      <td>0</td>\n",
              "      <td>0</td>\n",
              "      <td>93826.63</td>\n",
              "      <td>0</td>\n",
              "      <td>0</td>\n",
              "      <td>0</td>\n",
              "      <td>0</td>\n",
              "    </tr>\n",
              "    <tr>\n",
              "      <th>4</th>\n",
              "      <td>850</td>\n",
              "      <td>43</td>\n",
              "      <td>2</td>\n",
              "      <td>125510.82</td>\n",
              "      <td>1</td>\n",
              "      <td>1</td>\n",
              "      <td>1</td>\n",
              "      <td>79084.10</td>\n",
              "      <td>0</td>\n",
              "      <td>0</td>\n",
              "      <td>1</td>\n",
              "      <td>0</td>\n",
              "    </tr>\n",
              "  </tbody>\n",
              "</table>\n",
              "</div>"
            ],
            "text/plain": [
              "   credit_score  age  tenure    balance  num_of_products  has_cr_card  \\\n",
              "0           619   42       2       0.00                1            1   \n",
              "1           608   41       1   83807.86                1            0   \n",
              "2           502   42       8  159660.80                3            1   \n",
              "3           699   39       1       0.00                2            0   \n",
              "4           850   43       2  125510.82                1            1   \n",
              "\n",
              "   is_active_member  estimated_salary  exited  geography_Germany  \\\n",
              "0                 1         101348.88       1                  0   \n",
              "1                 1         112542.58       0                  0   \n",
              "2                 0         113931.57       1                  0   \n",
              "3                 0          93826.63       0                  0   \n",
              "4                 1          79084.10       0                  0   \n",
              "\n",
              "   geography_Spain  gender_Male  \n",
              "0                0            0  \n",
              "1                1            0  \n",
              "2                0            0  \n",
              "3                0            0  \n",
              "4                1            0  "
            ]
          },
          "execution_count": 9,
          "metadata": {},
          "output_type": "execute_result"
        }
      ],
      "source": [
        "df_ml = pd.get_dummies(df_ml, drop_first=True)\n",
        "df_ml.head()"
      ]
    },
    {
      "cell_type": "code",
      "execution_count": null,
      "metadata": {
        "id": "UVbcPaE-4JAf",
        "outputId": "2e2ab18f-8864-4654-bcdd-03ce1e806a71"
      },
      "outputs": [
        {
          "data": {
            "text/plain": [
              "(10000, 12)"
            ]
          },
          "execution_count": 10,
          "metadata": {},
          "output_type": "execute_result"
        }
      ],
      "source": [
        "df_ml.shape"
      ]
    },
    {
      "cell_type": "markdown",
      "metadata": {
        "id": "A87HFD4l4JAf"
      },
      "source": [
        "В новом датафрейме мы получили 12 столбцов.\n",
        "Столбец Geography содержал 3 класса, Gender_Male 2 класса — в результате мы получили только 2 и 1 столбцов соответственно, что позволяет избежать дами-ловушки."
      ]
    },
    {
      "cell_type": "markdown",
      "metadata": {
        "id": "2JDjD7c44JAf"
      },
      "source": [
        "В нашем случае нет отдельно выделенной тестовой выборки, поэтому существющие данные мы делим на три выборки:\n",
        "\n",
        "- обучающая 60% для обучения модели\n",
        "- валидационная 20% для выбора лучшего алгоритма и оптимальных параметров\n",
        "- тестовая 20% для финального теста лучшей модели."
      ]
    },
    {
      "cell_type": "code",
      "execution_count": null,
      "metadata": {
        "id": "TACjiZ4S4JAg"
      },
      "outputs": [],
      "source": [
        "features = df_ml.drop('exited', axis=1)\n",
        "target = df_ml['exited']"
      ]
    },
    {
      "cell_type": "code",
      "execution_count": null,
      "metadata": {
        "id": "BwyppjAO4JAg"
      },
      "outputs": [],
      "source": [
        "#1. Выделим валидационную 60%\n",
        "features_train, features_validtest, target_train, target_validtest = train_test_split(features,\n",
        "                                                    target,\n",
        "                                                    train_size=0.6,\n",
        "                                                    random_state=12345,\n",
        "                                                    stratify=target)"
      ]
    },
    {
      "cell_type": "code",
      "execution_count": null,
      "metadata": {
        "id": "YZ-Reytq4JAg",
        "outputId": "003c67be-4696-4711-ba09-7a0dbefa4d1e"
      },
      "outputs": [
        {
          "name": "stdout",
          "output_type": "stream",
          "text": [
            "Признаки обучающей выборки: (6000, 11) Целевой признак обучающей выборки: (6000,) Валидационная и тестовая вместе (4000, 11) (4000,)\n"
          ]
        }
      ],
      "source": [
        "print('Признаки обучающей выборки:',features_train.shape,\n",
        "      'Целевой признак обучающей выборки:', target_train.shape,\n",
        "      'Валидационная и тестовая вместе', features_validtest.shape, target_validtest.shape)"
      ]
    },
    {
      "cell_type": "code",
      "execution_count": null,
      "metadata": {
        "id": "J0rYdu5o4JAg"
      },
      "outputs": [],
      "source": [
        "#2. Разделим оставшиеся 40% на 2 равные части (валидационная и тестовая)\n",
        "features_valid, features_test, target_valid, target_test = train_test_split(features_validtest,\n",
        "                                                    target_validtest,\n",
        "                                                    train_size=0.5,\n",
        "                                                    random_state=12345,\n",
        "                                                    stratify=target_validtest)"
      ]
    },
    {
      "cell_type": "code",
      "execution_count": null,
      "metadata": {
        "id": "HJzR01wu4JAg",
        "outputId": "4428606d-c7a8-4d71-b7db-75568d6af977"
      },
      "outputs": [
        {
          "name": "stdout",
          "output_type": "stream",
          "text": [
            "(2000, 11) (2000,) (2000, 11) (2000,)\n"
          ]
        }
      ],
      "source": [
        "print(features_valid.shape, target_valid.shape, features_test.shape, target_test.shape)"
      ]
    },
    {
      "cell_type": "markdown",
      "metadata": {
        "id": "5Ti3W_A44JAg"
      },
      "source": [
        "Полученые выбрки:\n",
        "Обучающая\n",
        "- features_train\n",
        "- target_train\n",
        "\n",
        "Валидационная\n",
        "- features_valid\n",
        "- target_valid\n",
        "\n",
        "Тестовая\n",
        "- features_test\n",
        "- target_test"
      ]
    },
    {
      "cell_type": "markdown",
      "metadata": {
        "id": "O-c0qKud4JAh"
      },
      "source": [
        "## Исследование задачи"
      ]
    },
    {
      "cell_type": "markdown",
      "metadata": {
        "id": "iR_g0WrS4JAh"
      },
      "source": [
        "Проведем масштабирование"
      ]
    },
    {
      "cell_type": "code",
      "execution_count": null,
      "metadata": {
        "id": "ddRv0sJr4JAh"
      },
      "outputs": [],
      "source": [
        "scaler = StandardScaler()\n",
        "numeric = ['credit_score', 'age', 'tenure', 'balance', 'num_of_products', 'estimated_salary']\n",
        "scaler.fit(features_train[numeric])\n",
        "\n",
        "features_train[numeric] = scaler.transform(features_train[numeric])\n",
        "features_valid[numeric] = scaler.transform(features_valid[numeric])\n",
        "features_test[numeric] = scaler.transform(features_test[numeric])"
      ]
    },
    {
      "cell_type": "markdown",
      "metadata": {
        "id": "v42tZNn04JAh"
      },
      "source": [
        "Проверю, как часто в целевом признаке исходного датасета встречается класс «1» или «0»"
      ]
    },
    {
      "cell_type": "code",
      "execution_count": null,
      "metadata": {
        "id": "VlbjZ4Mj4JAi",
        "outputId": "a114d683-af13-4b99-fb4f-0e9960ae70af"
      },
      "outputs": [
        {
          "data": {
            "text/plain": [
              "0    0.7963\n",
              "1    0.2037\n",
              "Name: exited, dtype: float64"
            ]
          },
          "execution_count": 17,
          "metadata": {},
          "output_type": "execute_result"
        }
      ],
      "source": [
        "frequency_of_0_1 = df['exited'].value_counts(normalize=True)\n",
        "frequency_of_0_1"
      ]
    },
    {
      "cell_type": "markdown",
      "metadata": {
        "id": "SGtaag6d4JAi"
      },
      "source": [
        "Соотношение классов примерно 1:4. Изучим модели без исправление баланса. Но на данном этапе я буду исследовать модели без учета дисбаланса классов, заведомо ожидая плохие результаты."
      ]
    },
    {
      "cell_type": "markdown",
      "metadata": {
        "id": "5gaNi8cz4JAi"
      },
      "source": [
        "**Проверка на Logistic Regression**"
      ]
    },
    {
      "cell_type": "code",
      "execution_count": null,
      "metadata": {
        "scrolled": true,
        "id": "bcU3YMeD4JAi",
        "outputId": "1d9aab4f-903c-4615-86da-03abd66d2576"
      },
      "outputs": [
        {
          "name": "stdout",
          "output_type": "stream",
          "text": [
            "F1 0.30458715596330277\n",
            "CPU times: user 125 ms, sys: 113 ms, total: 238 ms\n",
            "Wall time: 218 ms\n"
          ]
        }
      ],
      "source": [
        "%%time\n",
        "\n",
        "model = LogisticRegression(random_state=12345)\n",
        "model.fit(features_train, target_train)\n",
        "predicted_valid = model.predict(features_valid)\n",
        "print('F1', f1_score(target_valid, predicted_valid))"
      ]
    },
    {
      "cell_type": "markdown",
      "metadata": {
        "id": "iU-df2zy4JAj"
      },
      "source": [
        "Показатели F1 при дисбалансе на логистической регрессии, далеки от хороших."
      ]
    },
    {
      "cell_type": "markdown",
      "metadata": {
        "id": "HdgBEYqB4JAj"
      },
      "source": [
        "**Проверка на Decision Tree Classifier**"
      ]
    },
    {
      "cell_type": "code",
      "execution_count": null,
      "metadata": {
        "id": "CpM3bdAT4JAj",
        "outputId": "328c3e03-de5f-4af6-f664-66f9a0fbec2f"
      },
      "outputs": [
        {
          "name": "stdout",
          "output_type": "stream",
          "text": [
            "Max depth: 2 F1-score: 0.5203488372093023\n",
            "Max depth: 3 F1-score: 0.5375722543352601\n",
            "Max depth: 4 F1-score: 0.5206349206349208\n",
            "Max depth: 5 F1-score: 0.5454545454545455\n",
            "Max depth: 6 F1-score: 0.574468085106383\n",
            "Max depth: 7 F1-score: 0.5924855491329479\n",
            "Max depth: 8 F1-score: 0.5670731707317074\n",
            "Max depth: 9 F1-score: 0.5588235294117648\n",
            "Max depth: 10 F1-score: 0.5454545454545455\n",
            "Max depth: 11 F1-score: 0.5403899721448467\n",
            "Max depth: 12 F1-score: 0.5315436241610738\n",
            "Max depth: 13 F1-score: 0.5326504481434059\n",
            "Max depth: 14 F1-score: 0.5110565110565111\n",
            "Max depth: 15 F1-score: 0.5175332527206771\n",
            "Max depth: 16 F1-score: 0.5238678090575275\n",
            "Max depth: 17 F1-score: 0.5108958837772397\n",
            "Max depth: 18 F1-score: 0.5158264947245017\n",
            "Max depth: 19 F1-score: 0.5148986889153755\n",
            "Max depth: 20 F1-score: 0.5140845070422535\n",
            "Max depth: 21 F1-score: 0.5017584994138335\n",
            "Max depth: 22 F1-score: 0.5047169811320754\n",
            "Max depth: 23 F1-score: 0.5047169811320754\n",
            "Max depth: 24 F1-score: 0.5047169811320754\n",
            "Max depth: 25 F1-score: 0.5047169811320754\n",
            "Max depth: 26 F1-score: 0.5047169811320754\n",
            "Max depth: 27 F1-score: 0.5047169811320754\n",
            "Max depth: 28 F1-score: 0.5047169811320754\n",
            "Max depth: 29 F1-score: 0.5047169811320754\n",
            "Лучшая F-мера 0.5924855491329479 cо значением глубины = 29\n",
            "CPU times: user 835 ms, sys: 52 ms, total: 887 ms\n",
            "Wall time: 956 ms\n"
          ]
        }
      ],
      "source": [
        "%%time\n",
        "\n",
        "best_model_tree = None\n",
        "best_result = 0\n",
        "accuracy_arr_tree = []\n",
        "\n",
        "for depth in range(2, 30):\n",
        "    model_tree = DecisionTreeClassifier(random_state=12345, max_depth=depth)\n",
        "    model_tree.fit(features_train, target_train)\n",
        "    predicted_valid = model_tree.predict(features_valid)\n",
        "    print('Max depth:', depth,'F1-score:', f1_score(target_valid, predicted_valid))\n",
        "    result = f1_score(target_valid, predicted_valid)\n",
        "\n",
        "    if best_result < result:\n",
        "        best_result = result\n",
        "        max_depth = depth\n",
        "        best_model_tree = model_tree\n",
        "\n",
        "print(\"Лучшая F-мера\", best_result, 'cо значением глубины =', depth)"
      ]
    },
    {
      "cell_type": "markdown",
      "metadata": {
        "id": "pUq9DxjA4JAj"
      },
      "source": [
        "Лучший показатель при глубине 29 (max_depth 29) F1-score: 0.5924855491329479"
      ]
    },
    {
      "cell_type": "markdown",
      "metadata": {
        "id": "Oq6dLIm34JAj"
      },
      "source": [
        "**Проверка на Random Forest Classifier**"
      ]
    },
    {
      "cell_type": "code",
      "execution_count": null,
      "metadata": {
        "scrolled": false,
        "id": "PrGEssY54JAk",
        "outputId": "9ee99848-a945-43d9-d004-fdad3147830f"
      },
      "outputs": [
        {
          "name": "stdout",
          "output_type": "stream",
          "text": [
            "N estimators: 10 Глубина: 10 F1: 0.6\n",
            "N estimators: 10 Глубина: 11 F1: 0.5907046476761619\n",
            "N estimators: 10 Глубина: 12 F1: 0.5929203539823009\n",
            "N estimators: 10 Глубина: 13 F1: 0.5968436154949786\n",
            "N estimators: 10 Глубина: 14 F1: 0.5868613138686131\n",
            "N estimators: 10 Глубина: 15 F1: 0.5899705014749261\n",
            "N estimators: 10 Глубина: 16 F1: 0.6075581395348837\n",
            "N estimators: 10 Глубина: 17 F1: 0.5784172661870504\n",
            "N estimators: 10 Глубина: 18 F1: 0.6034985422740524\n",
            "N estimators: 10 Глубина: 19 F1: 0.5837037037037037\n",
            "N estimators: 12 Глубина: 10 F1: 0.6066066066066065\n",
            "N estimators: 12 Глубина: 11 F1: 0.5954887218045113\n",
            "N estimators: 12 Глубина: 12 F1: 0.5857988165680473\n",
            "N estimators: 12 Глубина: 13 F1: 0.6078147612156295\n",
            "N estimators: 12 Глубина: 14 F1: 0.5920471281296024\n",
            "N estimators: 12 Глубина: 15 F1: 0.5894428152492668\n",
            "N estimators: 12 Глубина: 16 F1: 0.6081871345029239\n",
            "N estimators: 12 Глубина: 17 F1: 0.5655976676384838\n",
            "N estimators: 12 Глубина: 18 F1: 0.6049926578560939\n",
            "N estimators: 12 Глубина: 19 F1: 0.5820895522388059\n",
            "N estimators: 14 Глубина: 10 F1: 0.6\n",
            "N estimators: 14 Глубина: 11 F1: 0.5991058122205662\n",
            "N estimators: 14 Глубина: 12 F1: 0.5787106446776611\n",
            "N estimators: 14 Глубина: 13 F1: 0.6115942028985508\n",
            "N estimators: 14 Глубина: 14 F1: 0.574404761904762\n",
            "N estimators: 14 Глубина: 15 F1: 0.5922619047619048\n",
            "N estimators: 14 Глубина: 16 F1: 0.6079295154185022\n",
            "N estimators: 14 Глубина: 17 F1: 0.583941605839416\n",
            "N estimators: 14 Глубина: 18 F1: 0.6098265895953757\n",
            "N estimators: 14 Глубина: 19 F1: 0.5976331360946745\n",
            "N estimators: 16 Глубина: 10 F1: 0.6063348416289593\n",
            "N estimators: 16 Глубина: 11 F1: 0.600297176820208\n",
            "N estimators: 16 Глубина: 12 F1: 0.5778443113772455\n",
            "N estimators: 16 Глубина: 13 F1: 0.6108663729809104\n",
            "N estimators: 16 Глубина: 14 F1: 0.591044776119403\n",
            "N estimators: 16 Глубина: 15 F1: 0.5773809523809523\n",
            "N estimators: 16 Глубина: 16 F1: 0.6144756277695717\n",
            "N estimators: 16 Глубина: 17 F1: 0.5877192982456142\n",
            "N estimators: 16 Глубина: 18 F1: 0.6167146974063401\n",
            "N estimators: 16 Глубина: 19 F1: 0.5952380952380952\n",
            "N estimators: 18 Глубина: 10 F1: 0.6075187969924812\n",
            "N estimators: 18 Глубина: 11 F1: 0.6044444444444443\n",
            "N estimators: 18 Глубина: 12 F1: 0.5838323353293413\n",
            "N estimators: 18 Глубина: 13 F1: 0.6020558002936858\n",
            "N estimators: 18 Глубина: 14 F1: 0.5925925925925926\n",
            "N estimators: 18 Глубина: 15 F1: 0.5807407407407407\n",
            "N estimators: 18 Глубина: 16 F1: 0.613095238095238\n",
            "N estimators: 18 Глубина: 17 F1: 0.5927007299270073\n",
            "N estimators: 18 Глубина: 18 F1: 0.6184971098265896\n",
            "N estimators: 18 Глубина: 19 F1: 0.5945945945945945\n",
            "N estimators: 20 Глубина: 10 F1: 0.6024096385542168\n",
            "N estimators: 20 Глубина: 11 F1: 0.6029850746268657\n",
            "N estimators: 20 Глубина: 12 F1: 0.5847076461769115\n",
            "N estimators: 20 Глубина: 13 F1: 0.6047197640117995\n",
            "N estimators: 20 Глубина: 14 F1: 0.5949926362297496\n",
            "N estimators: 20 Глубина: 15 F1: 0.5816023738872405\n",
            "N estimators: 20 Глубина: 16 F1: 0.6179104477611941\n",
            "N estimators: 20 Глубина: 17 F1: 0.5982404692082112\n",
            "N estimators: 20 Глубина: 18 F1: 0.6122448979591837\n",
            "N estimators: 20 Глубина: 19 F1: 0.5985185185185184\n",
            "N estimators: 22 Глубина: 10 F1: 0.6\n",
            "N estimators: 22 Глубина: 11 F1: 0.5972850678733032\n",
            "N estimators: 22 Глубина: 12 F1: 0.5834586466165412\n",
            "N estimators: 22 Глубина: 13 F1: 0.5988200589970502\n",
            "N estimators: 22 Глубина: 14 F1: 0.5979381443298969\n",
            "N estimators: 22 Глубина: 15 F1: 0.5748502994011976\n",
            "N estimators: 22 Глубина: 16 F1: 0.6051437216338881\n",
            "N estimators: 22 Глубина: 17 F1: 0.5905044510385756\n",
            "N estimators: 22 Глубина: 18 F1: 0.6052631578947368\n",
            "N estimators: 22 Глубина: 19 F1: 0.5979073243647235\n",
            "N estimators: 24 Глубина: 10 F1: 0.5905631659056316\n",
            "N estimators: 24 Глубина: 11 F1: 0.5979073243647235\n",
            "N estimators: 24 Глубина: 12 F1: 0.5864661654135338\n",
            "N estimators: 24 Глубина: 13 F1: 0.5991189427312775\n",
            "N estimators: 24 Глубина: 14 F1: 0.6129032258064515\n",
            "N estimators: 24 Глубина: 15 F1: 0.5973254086181279\n",
            "N estimators: 24 Глубина: 16 F1: 0.6033182503770739\n",
            "N estimators: 24 Глубина: 17 F1: 0.599406528189911\n",
            "N estimators: 24 Глубина: 18 F1: 0.6115942028985508\n",
            "N estimators: 24 Глубина: 19 F1: 0.5942684766214178\n",
            "N estimators: 26 Глубина: 10 F1: 0.5914634146341463\n",
            "N estimators: 26 Глубина: 11 F1: 0.6017964071856289\n",
            "N estimators: 26 Глубина: 12 F1: 0.591044776119403\n",
            "N estimators: 26 Глубина: 13 F1: 0.600297176820208\n",
            "N estimators: 26 Глубина: 14 F1: 0.6070381231671554\n",
            "N estimators: 26 Глубина: 15 F1: 0.5925925925925926\n",
            "N estimators: 26 Глубина: 16 F1: 0.6033182503770739\n",
            "N estimators: 26 Глубина: 17 F1: 0.6076696165191741\n",
            "N estimators: 26 Глубина: 18 F1: 0.6099706744868035\n",
            "N estimators: 26 Глубина: 19 F1: 0.6017964071856289\n",
            "N estimators: 28 Глубина: 10 F1: 0.6039453717754172\n",
            "N estimators: 28 Глубина: 11 F1: 0.6026986506746627\n",
            "N estimators: 28 Глубина: 12 F1: 0.5839636913767019\n",
            "N estimators: 28 Глубина: 13 F1: 0.5979381443298969\n",
            "N estimators: 28 Глубина: 14 F1: 0.6032210834553441\n",
            "N estimators: 28 Глубина: 15 F1: 0.5908419497784342\n",
            "N estimators: 28 Глубина: 16 F1: 0.6021180030257187\n",
            "N estimators: 28 Глубина: 17 F1: 0.6108663729809104\n",
            "N estimators: 28 Глубина: 18 F1: 0.6131386861313868\n",
            "N estimators: 28 Глубина: 19 F1: 0.5967016491754122\n",
            "N estimators: 30 Глубина: 10 F1: 0.5911179173047474\n",
            "N estimators: 30 Глубина: 11 F1: 0.6051437216338881\n",
            "N estimators: 30 Глубина: 12 F1: 0.5843373493975903\n",
            "N estimators: 30 Глубина: 13 F1: 0.5896296296296296\n",
            "N estimators: 30 Глубина: 14 F1: 0.6173913043478261\n",
            "N estimators: 30 Глубина: 15 F1: 0.5964391691394658\n",
            "N estimators: 30 Глубина: 16 F1: 0.593939393939394\n",
            "N estimators: 30 Глубина: 17 F1: 0.6158357771260997\n",
            "N estimators: 30 Глубина: 18 F1: 0.6180758017492712\n",
            "N estimators: 30 Глубина: 19 F1: 0.6026986506746627\n",
            "N estimators: 32 Глубина: 10 F1: 0.5929339477726575\n",
            "N estimators: 32 Глубина: 11 F1: 0.6003016591251886\n",
            "N estimators: 32 Глубина: 12 F1: 0.5791855203619909\n",
            "N estimators: 32 Глубина: 13 F1: 0.5931445603576752\n",
            "N estimators: 32 Глубина: 14 F1: 0.6178623718887262\n",
            "N estimators: 32 Глубина: 15 F1: 0.5908419497784342\n",
            "N estimators: 32 Глубина: 16 F1: 0.5957446808510638\n",
            "N estimators: 32 Глубина: 17 F1: 0.6079295154185022\n",
            "N estimators: 32 Глубина: 18 F1: 0.6070381231671554\n",
            "N estimators: 32 Глубина: 19 F1: 0.6077844311377246\n",
            "N estimators: 34 Глубина: 10 F1: 0.5929339477726575\n",
            "N estimators: 34 Глубина: 11 F1: 0.6015037593984962\n",
            "N estimators: 34 Глубина: 12 F1: 0.5869894099848714\n",
            "N estimators: 34 Глубина: 13 F1: 0.5919282511210762\n",
            "N estimators: 34 Глубина: 14 F1: 0.6171761280931587\n",
            "N estimators: 34 Глубина: 15 F1: 0.5925925925925926\n",
            "N estimators: 34 Глубина: 16 F1: 0.6021180030257187\n",
            "N estimators: 34 Глубина: 17 F1: 0.6156111929307806\n",
            "N estimators: 34 Глубина: 18 F1: 0.6061493411420205\n",
            "N estimators: 34 Глубина: 19 F1: 0.6017964071856289\n",
            "N estimators: 36 Глубина: 10 F1: 0.5929339477726575\n",
            "N estimators: 36 Глубина: 11 F1: 0.6012084592145016\n",
            "N estimators: 36 Глубина: 12 F1: 0.5861027190332325\n",
            "N estimators: 36 Глубина: 13 F1: 0.5979073243647235\n",
            "N estimators: 36 Глубина: 14 F1: 0.6106194690265487\n",
            "N estimators: 36 Глубина: 15 F1: 0.5922619047619048\n",
            "N estimators: 36 Глубина: 16 F1: 0.5993975903614458\n",
            "N estimators: 36 Глубина: 17 F1: 0.6117647058823529\n",
            "N estimators: 36 Глубина: 18 F1: 0.6032210834553441\n",
            "N estimators: 36 Глубина: 19 F1: 0.6080476900149031\n",
            "N estimators: 38 Глубина: 10 F1: 0.5929339477726575\n",
            "N estimators: 38 Глубина: 11 F1: 0.6024096385542168\n",
            "N estimators: 38 Глубина: 12 F1: 0.5918057663125948\n",
            "N estimators: 38 Глубина: 13 F1: 0.5963855421686747\n",
            "N estimators: 38 Глубина: 14 F1: 0.6153846153846153\n",
            "N estimators: 38 Глубина: 15 F1: 0.5922619047619048\n",
            "N estimators: 38 Глубина: 16 F1: 0.5984962406015037\n",
            "N estimators: 38 Глубина: 17 F1: 0.6079295154185022\n",
            "N estimators: 38 Глубина: 18 F1: 0.6079295154185022\n",
            "N estimators: 38 Глубина: 19 F1: 0.6137724550898204\n",
            "N estimators: 40 Глубина: 10 F1: 0.598159509202454\n",
            "N estimators: 40 Глубина: 11 F1: 0.6003016591251886\n",
            "N estimators: 40 Глубина: 12 F1: 0.5896656534954408\n",
            "N estimators: 40 Глубина: 13 F1: 0.5907046476761619\n",
            "N estimators: 40 Глубина: 14 F1: 0.6142433234421365\n",
            "N estimators: 40 Глубина: 15 F1: 0.5964391691394658\n",
            "N estimators: 40 Глубина: 16 F1: 0.6006006006006006\n",
            "N estimators: 40 Глубина: 17 F1: 0.6117647058823529\n",
            "N estimators: 40 Глубина: 18 F1: 0.6117647058823529\n"
          ]
        },
        {
          "name": "stdout",
          "output_type": "stream",
          "text": [
            "N estimators: 40 Глубина: 19 F1: 0.6096096096096095\n",
            "N estimators: 42 Глубина: 10 F1: 0.598159509202454\n",
            "N estimators: 42 Глубина: 11 F1: 0.6003016591251886\n",
            "N estimators: 42 Глубина: 12 F1: 0.5923664122137404\n",
            "N estimators: 42 Глубина: 13 F1: 0.5967016491754122\n",
            "N estimators: 42 Глубина: 14 F1: 0.6083086053412463\n",
            "N estimators: 42 Глубина: 15 F1: 0.5922619047619048\n",
            "N estimators: 42 Глубина: 16 F1: 0.6033182503770739\n",
            "N estimators: 42 Глубина: 17 F1: 0.6106194690265487\n",
            "N estimators: 42 Глубина: 18 F1: 0.611111111111111\n",
            "N estimators: 42 Глубина: 19 F1: 0.6158445440956651\n",
            "N estimators: 44 Глубина: 10 F1: 0.5950920245398773\n",
            "N estimators: 44 Глубина: 11 F1: 0.5981873111782477\n",
            "N estimators: 44 Глубина: 12 F1: 0.5966514459665144\n",
            "N estimators: 44 Глубина: 13 F1: 0.5963855421686747\n",
            "N estimators: 44 Глубина: 14 F1: 0.6071428571428571\n",
            "N estimators: 44 Глубина: 15 F1: 0.5991058122205662\n",
            "N estimators: 44 Глубина: 16 F1: 0.6114457831325301\n",
            "N estimators: 44 Глубина: 17 F1: 0.6074074074074075\n",
            "N estimators: 44 Глубина: 18 F1: 0.6026587887740029\n",
            "N estimators: 44 Глубина: 19 F1: 0.6158445440956651\n",
            "N estimators: 46 Глубина: 10 F1: 0.5950920245398773\n",
            "N estimators: 46 Глубина: 11 F1: 0.5957446808510638\n",
            "N estimators: 46 Глубина: 12 F1: 0.5914634146341463\n",
            "N estimators: 46 Глубина: 13 F1: 0.5963855421686747\n",
            "N estimators: 46 Глубина: 14 F1: 0.6020864381520119\n",
            "N estimators: 46 Глубина: 15 F1: 0.6011904761904762\n",
            "N estimators: 46 Глубина: 16 F1: 0.5960665658093798\n",
            "N estimators: 46 Глубина: 17 F1: 0.6008836524300442\n",
            "N estimators: 46 Глубина: 18 F1: 0.6056129985228951\n",
            "N estimators: 46 Глубина: 19 F1: 0.6135338345864662\n",
            "N estimators: 48 Глубина: 10 F1: 0.5950920245398773\n",
            "N estimators: 48 Глубина: 11 F1: 0.5954198473282443\n",
            "N estimators: 48 Глубина: 12 F1: 0.5914634146341463\n",
            "N estimators: 48 Глубина: 13 F1: 0.5930408472012103\n",
            "N estimators: 48 Глубина: 14 F1: 0.5991058122205662\n",
            "N estimators: 48 Глубина: 15 F1: 0.5958083832335329\n",
            "N estimators: 48 Глубина: 16 F1: 0.5954887218045113\n",
            "N estimators: 48 Глубина: 17 F1: 0.6\n",
            "N estimators: 48 Глубина: 18 F1: 0.6035502958579881\n",
            "N estimators: 48 Глубина: 19 F1: 0.6066066066066065\n",
            "Лучшая F-мера 0.6184971098265896 при глубине = 18 и количестве деревьев = 18\n",
            "CPU times: user 41.2 s, sys: 269 ms, total: 41.4 s\n",
            "Wall time: 41.7 s\n"
          ]
        }
      ],
      "source": [
        "%%time\n",
        "\n",
        "best_model_rf = None\n",
        "best_result = 0\n",
        "best_depth = 0\n",
        "best_est = 0\n",
        "\n",
        "for estimator in range(10, 50, 2):\n",
        "    for depth in range(10, 20):\n",
        "        model_rf =  RandomForestClassifier(random_state=12345, n_estimators=estimator, max_depth = depth)\n",
        "        model_rf.fit(features_train, target_train)\n",
        "        predicted_valid = model_rf.predict(features_valid)\n",
        "        print('N estimators:', estimator, 'Глубина:', depth, 'F1:', f1_score(target_valid, predicted_valid))\n",
        "        result = f1_score(target_valid, predicted_valid)\n",
        "\n",
        "        if result > best_result:\n",
        "            best_model_rf = model_rf\n",
        "            best_result = result\n",
        "            best_depth = depth\n",
        "            best_est = estimator\n",
        "\n",
        "print(\"Лучшая F-мера\", best_result, 'при глубине = {0} и количестве деревьев = {1}'.format(best_depth, best_est))"
      ]
    },
    {
      "cell_type": "markdown",
      "metadata": {
        "id": "p65g6POV4JAm"
      },
      "source": [
        "Лучшая F-мера 0.6184971098265896 при глубине = 18 и количестве деревьев = 18"
      ]
    },
    {
      "cell_type": "markdown",
      "metadata": {
        "id": "CvhC9BYP4JAn"
      },
      "source": [
        "Проведу оценку accuracy, precision и recall, а также посмотрю F-метрику."
      ]
    },
    {
      "cell_type": "code",
      "execution_count": null,
      "metadata": {
        "id": "VlvXdiQg4JAn",
        "outputId": "86addca0-a2ba-47e8-b02b-d9d994d52b59"
      },
      "outputs": [
        {
          "name": "stdout",
          "output_type": "stream",
          "text": [
            "Логистическая регрессия\n",
            "Точность попадания по классам 0.8105\n",
            "Precision 0.6058394160583942\n",
            "Recall 0.2034313725490196\n",
            "F1 0.30458715596330277\n",
            "\n",
            "Решающее дерево\n",
            "Точность попадания по классам 0.7935\n",
            "Precision 0.4943820224719101\n",
            "Recall 0.5392156862745098\n",
            "F1 0.5158264947245017\n",
            "\n",
            "Случайный лес\n",
            "Точность попадания по классам 0.868\n",
            "Precision 0.7535211267605634\n",
            "Recall 0.5245098039215687\n",
            "F1 0.6184971098265896\n",
            "\n",
            "CPU times: user 320 ms, sys: 237 ms, total: 557 ms\n",
            "Wall time: 570 ms\n"
          ]
        }
      ],
      "source": [
        "%%time\n",
        "\n",
        "model = LogisticRegression(random_state=12345)\n",
        "model.fit(features_train, target_train)\n",
        "predicted_valid = model.predict(features_valid)\n",
        "print('Логистическая регрессия')\n",
        "print('Точность попадания по классам', accuracy_score(target_valid, predicted_valid))\n",
        "print('Precision', precision_score(target_valid, predicted_valid))\n",
        "print('Recall', recall_score(target_valid, predicted_valid))\n",
        "print('F1', f1_score(target_valid, predicted_valid))\n",
        "print()\n",
        "\n",
        "model = DecisionTreeClassifier(random_state=12345, max_depth=best_depth)\n",
        "model.fit(features_train, target_train)\n",
        "predicted_valid = model.predict(features_valid)\n",
        "print('Решающее дерево')\n",
        "print('Точность попадания по классам', accuracy_score(target_valid, predicted_valid))\n",
        "print('Precision', precision_score(target_valid, predicted_valid))\n",
        "print('Recall', recall_score(target_valid, predicted_valid))\n",
        "print('F1', f1_score(target_valid, predicted_valid))\n",
        "print()\n",
        "\n",
        "model = RandomForestClassifier(random_state=12345, n_estimators=best_est, max_depth=best_depth)\n",
        "model.fit(features_train, target_train)\n",
        "predicted_valid = model.predict(features_valid)\n",
        "print('Случайный лес')\n",
        "print('Точность попадания по классам', accuracy_score(target_valid, predicted_valid))\n",
        "print('Precision', precision_score(target_valid, predicted_valid))\n",
        "print('Recall', recall_score(target_valid, predicted_valid))\n",
        "print('F1', f1_score(target_valid, predicted_valid))\n",
        "print()"
      ]
    },
    {
      "cell_type": "markdown",
      "metadata": {
        "id": "ya4OUezD4JAn"
      },
      "source": [
        "**Вывод:** Лучший результат с дисбалансом у Случайного леса с при глубине = 18 и количестве деревьев = 18"
      ]
    },
    {
      "cell_type": "markdown",
      "metadata": {
        "id": "YvAt5xyP4JAo"
      },
      "source": [
        "## Борьба с дисбалансом"
      ]
    },
    {
      "cell_type": "markdown",
      "metadata": {
        "id": "ldta3cVv4JAo"
      },
      "source": [
        "Придадим объектам редкого класса 1 больший вес используя гиперпараметр class_weight='balanced'"
      ]
    },
    {
      "cell_type": "markdown",
      "metadata": {
        "id": "XOYi7hNw4JAo"
      },
      "source": [
        "**Logistic Regression**"
      ]
    },
    {
      "cell_type": "code",
      "execution_count": null,
      "metadata": {
        "id": "PiGTStQS4JAo",
        "outputId": "eec56a50-d296-46ab-c8f7-3a2b553fe8d0"
      },
      "outputs": [
        {
          "name": "stdout",
          "output_type": "stream",
          "text": [
            "Логистическая регрессия\n",
            "Точность попадания по классам 0.7325\n",
            "Precision 0.4131326949384405\n",
            "Recall 0.7401960784313726\n",
            "F1 0.5302897278314311\n",
            "\n",
            "CPU times: user 96.6 ms, sys: 132 ms, total: 228 ms\n",
            "Wall time: 199 ms\n"
          ]
        }
      ],
      "source": [
        "%%time\n",
        "\n",
        "model = LogisticRegression(random_state=12345, class_weight='balanced')\n",
        "model.fit(features_train, target_train)\n",
        "predicted_valid = model.predict(features_valid)\n",
        "print('Логистическая регрессия')\n",
        "print('Точность попадания по классам', accuracy_score(target_valid, predicted_valid))\n",
        "print('Precision', precision_score(target_valid, predicted_valid))\n",
        "print('Recall', recall_score(target_valid, predicted_valid))\n",
        "print('F1', f1_score(target_valid, predicted_valid))\n",
        "print()\n",
        "\n"
      ]
    },
    {
      "cell_type": "markdown",
      "metadata": {
        "id": "jITr5FCp4JAo"
      },
      "source": [
        "Действительно, F1-мера увеличилась, но показатели тяжело назвать отличными."
      ]
    },
    {
      "cell_type": "markdown",
      "metadata": {
        "id": "kf9eCsZc4JAp"
      },
      "source": [
        "**Decision Tree Classifier**"
      ]
    },
    {
      "cell_type": "code",
      "execution_count": null,
      "metadata": {
        "id": "kcmO3kAD4JAp",
        "outputId": "4cdb4133-e321-4d2f-c17e-dba18e375467"
      },
      "outputs": [
        {
          "name": "stdout",
          "output_type": "stream",
          "text": [
            "Max depth: 2 F1-score: 0.49801113762927607\n",
            "Max depth: 3 F1-score: 0.5207100591715977\n",
            "Max depth: 4 F1-score: 0.560931899641577\n",
            "Max depth: 5 F1-score: 0.5546492659053834\n",
            "Max depth: 6 F1-score: 0.575925925925926\n",
            "Max depth: 7 F1-score: 0.5750452079566003\n",
            "Max depth: 8 F1-score: 0.5494106980961015\n",
            "Max depth: 9 F1-score: 0.5415860735009671\n",
            "Max depth: 10 F1-score: 0.527147087857848\n",
            "Max depth: 11 F1-score: 0.5228215767634855\n",
            "Max depth: 12 F1-score: 0.5185950413223142\n",
            "Max depth: 13 F1-score: 0.5178764897074757\n",
            "Max depth: 14 F1-score: 0.517467248908297\n",
            "Max depth: 15 F1-score: 0.5097142857142858\n",
            "Max depth: 16 F1-score: 0.5063879210220673\n",
            "Max depth: 17 F1-score: 0.5017667844522968\n",
            "Max depth: 18 F1-score: 0.501775147928994\n",
            "Max depth: 19 F1-score: 0.4940047961630695\n",
            "Лучшая F-мера 0.575925925925926 cо значением глубины = 6\n",
            "CPU times: user 489 ms, sys: 0 ns, total: 489 ms\n",
            "Wall time: 500 ms\n"
          ]
        }
      ],
      "source": [
        "%%time\n",
        "\n",
        "best_model_tree_balance = None\n",
        "best_result_balance = 0\n",
        "\n",
        "for depth in range(2, 20):\n",
        "    model_tree_balance = DecisionTreeClassifier(random_state=12345, max_depth=depth, class_weight='balanced')\n",
        "    model_tree_balance.fit(features_train, target_train)\n",
        "    predicted_valid = model_tree_balance.predict(features_valid)\n",
        "    print('Max depth:', depth,'F1-score:', f1_score(target_valid, predicted_valid))\n",
        "    result = f1_score(target_valid, predicted_valid)\n",
        "\n",
        "    if best_result_balance < result:\n",
        "        best_result_balance = result\n",
        "        max_depth = depth\n",
        "        best_model_tree_balance = model_tree_balance\n",
        "\n",
        "print(\"Лучшая F-мера\", best_result_balance, 'cо значением глубины =', max_depth)"
      ]
    },
    {
      "cell_type": "markdown",
      "metadata": {
        "id": "xPo-gz3A4JAp"
      },
      "source": [
        "На значение f1-меры в данном случае баланс классов можно сказать не повлиял, результаты близки к предыдущим. /Лучшая F-мера 0.575925925925926 cо значением глубины = 6"
      ]
    },
    {
      "cell_type": "markdown",
      "metadata": {
        "id": "vUAh2zBE4JAp"
      },
      "source": [
        "**Random Forest Classifier**"
      ]
    },
    {
      "cell_type": "code",
      "execution_count": null,
      "metadata": {
        "scrolled": false,
        "id": "p3wUfCzL4JAp",
        "outputId": "2479e221-d53c-48d0-bc1f-916c2000a36f"
      },
      "outputs": [
        {
          "name": "stdout",
          "output_type": "stream",
          "text": [
            "N estimators: 10 Глубина: 10 F1: 0.6188769414575866\n",
            "N estimators: 10 Глубина: 11 F1: 0.606826801517067\n",
            "N estimators: 10 Глубина: 12 F1: 0.6151866151866151\n",
            "N estimators: 10 Глубина: 13 F1: 0.5991902834008096\n",
            "N estimators: 10 Глубина: 14 F1: 0.601889338731444\n",
            "N estimators: 10 Глубина: 15 F1: 0.5934379457917262\n",
            "N estimators: 10 Глубина: 16 F1: 0.5676855895196506\n",
            "N estimators: 10 Глубина: 17 F1: 0.5693430656934306\n",
            "N estimators: 10 Глубина: 18 F1: 0.5376344086021505\n",
            "N estimators: 10 Глубина: 19 F1: 0.5735735735735735\n",
            "N estimators: 12 Глубина: 10 F1: 0.6343195266272189\n",
            "N estimators: 12 Глубина: 11 F1: 0.6186868686868687\n",
            "N estimators: 12 Глубина: 12 F1: 0.6119791666666665\n",
            "N estimators: 12 Глубина: 13 F1: 0.5948158253751706\n",
            "N estimators: 12 Глубина: 14 F1: 0.6051560379918589\n",
            "N estimators: 12 Глубина: 15 F1: 0.5951359084406294\n",
            "N estimators: 12 Глубина: 16 F1: 0.5805515239477504\n",
            "N estimators: 12 Глубина: 17 F1: 0.5701754385964912\n",
            "N estimators: 12 Глубина: 18 F1: 0.5504587155963303\n",
            "N estimators: 12 Глубина: 19 F1: 0.5875370919881306\n",
            "N estimators: 14 Глубина: 10 F1: 0.6335697399527187\n",
            "N estimators: 14 Глубина: 11 F1: 0.6269035532994924\n",
            "N estimators: 14 Глубина: 12 F1: 0.627450980392157\n",
            "N estimators: 14 Глубина: 13 F1: 0.5991792065663474\n",
            "N estimators: 14 Глубина: 14 F1: 0.6155950752393982\n",
            "N estimators: 14 Глубина: 15 F1: 0.5755395683453237\n",
            "N estimators: 14 Глубина: 16 F1: 0.581021897810219\n",
            "N estimators: 14 Глубина: 17 F1: 0.5705882352941176\n",
            "N estimators: 14 Глубина: 18 F1: 0.5587786259541985\n",
            "N estimators: 14 Глубина: 19 F1: 0.5794947994056464\n",
            "N estimators: 16 Глубина: 10 F1: 0.6244131455399061\n",
            "N estimators: 16 Глубина: 11 F1: 0.6091370558375635\n",
            "N estimators: 16 Глубина: 12 F1: 0.62532981530343\n",
            "N estimators: 16 Глубина: 13 F1: 0.6082191780821917\n",
            "N estimators: 16 Глубина: 14 F1: 0.608089260808926\n",
            "N estimators: 16 Глубина: 15 F1: 0.5878962536023055\n",
            "N estimators: 16 Глубина: 16 F1: 0.5897810218978102\n",
            "N estimators: 16 Глубина: 17 F1: 0.5851528384279476\n",
            "N estimators: 16 Глубина: 18 F1: 0.5666666666666667\n",
            "N estimators: 16 Глубина: 19 F1: 0.5761194029850747\n",
            "N estimators: 18 Глубина: 10 F1: 0.6321974148061105\n",
            "N estimators: 18 Глубина: 11 F1: 0.6140127388535033\n",
            "N estimators: 18 Глубина: 12 F1: 0.6263157894736843\n",
            "N estimators: 18 Глубина: 13 F1: 0.6168478260869564\n",
            "N estimators: 18 Глубина: 14 F1: 0.6097902097902097\n",
            "N estimators: 18 Глубина: 15 F1: 0.5953757225433526\n",
            "N estimators: 18 Глубина: 16 F1: 0.5906432748538012\n",
            "N estimators: 18 Глубина: 17 F1: 0.5739385065885798\n",
            "N estimators: 18 Глубина: 18 F1: 0.575301204819277\n",
            "N estimators: 18 Глубина: 19 F1: 0.5579268292682926\n",
            "N estimators: 20 Глубина: 10 F1: 0.6317016317016317\n",
            "N estimators: 20 Глубина: 11 F1: 0.6103404791929382\n",
            "N estimators: 20 Глубина: 12 F1: 0.633377135348226\n",
            "N estimators: 20 Глубина: 13 F1: 0.6073871409028728\n",
            "N estimators: 20 Глубина: 14 F1: 0.6067415730337078\n",
            "N estimators: 20 Глубина: 15 F1: 0.6083213773314203\n",
            "N estimators: 20 Глубина: 16 F1: 0.5865102639296187\n",
            "N estimators: 20 Глубина: 17 F1: 0.5684830633284241\n",
            "N estimators: 20 Глубина: 18 F1: 0.5791855203619909\n",
            "N estimators: 20 Глубина: 19 F1: 0.5683890577507599\n",
            "N estimators: 22 Глубина: 10 F1: 0.6264775413711584\n",
            "N estimators: 22 Глубина: 11 F1: 0.6138107416879796\n",
            "N estimators: 22 Глубина: 12 F1: 0.6335078534031413\n",
            "N estimators: 22 Глубина: 13 F1: 0.6094182825484764\n",
            "N estimators: 22 Глубина: 14 F1: 0.6149506346967559\n",
            "N estimators: 22 Глубина: 15 F1: 0.606060606060606\n",
            "N estimators: 22 Глубина: 16 F1: 0.5906432748538012\n",
            "N estimators: 22 Глубина: 17 F1: 0.5637181409295352\n",
            "N estimators: 22 Глубина: 18 F1: 0.5805471124620062\n",
            "N estimators: 22 Глубина: 19 F1: 0.5727411944869831\n",
            "N estimators: 24 Глубина: 10 F1: 0.637440758293839\n",
            "N estimators: 24 Глубина: 11 F1: 0.6140127388535033\n",
            "N estimators: 24 Глубина: 12 F1: 0.6246719160104988\n",
            "N estimators: 24 Глубина: 13 F1: 0.6047156726768378\n",
            "N estimators: 24 Глубина: 14 F1: 0.6042553191489363\n",
            "N estimators: 24 Глубина: 15 F1: 0.5897810218978102\n",
            "N estimators: 24 Глубина: 16 F1: 0.5885797950219619\n",
            "N estimators: 24 Глубина: 17 F1: 0.5658093797276853\n",
            "N estimators: 24 Глубина: 18 F1: 0.5740458015267175\n",
            "N estimators: 24 Глубина: 19 F1: 0.574468085106383\n",
            "N estimators: 26 Глубина: 10 F1: 0.6285714285714287\n",
            "N estimators: 26 Глубина: 11 F1: 0.6144121365360302\n",
            "N estimators: 26 Глубина: 12 F1: 0.6235138705416116\n",
            "N estimators: 26 Глубина: 13 F1: 0.607843137254902\n",
            "N estimators: 26 Глубина: 14 F1: 0.6045197740112995\n",
            "N estimators: 26 Глубина: 15 F1: 0.6014598540145986\n",
            "N estimators: 26 Глубина: 16 F1: 0.5908419497784342\n",
            "N estimators: 26 Глубина: 17 F1: 0.5838323353293413\n",
            "N estimators: 26 Глубина: 18 F1: 0.5701219512195121\n",
            "N estimators: 26 Глубина: 19 F1: 0.5779122541603631\n",
            "N estimators: 28 Глубина: 10 F1: 0.6267942583732058\n",
            "N estimators: 28 Глубина: 11 F1: 0.6091370558375635\n",
            "N estimators: 28 Глубина: 12 F1: 0.6220472440944882\n",
            "N estimators: 28 Глубина: 13 F1: 0.6002805049088359\n",
            "N estimators: 28 Глубина: 14 F1: 0.6149506346967559\n",
            "N estimators: 28 Глубина: 15 F1: 0.6014598540145986\n",
            "N estimators: 28 Глубина: 16 F1: 0.5899705014749261\n",
            "N estimators: 28 Глубина: 17 F1: 0.5769805680119581\n",
            "N estimators: 28 Глубина: 18 F1: 0.5740181268882175\n",
            "N estimators: 28 Глубина: 19 F1: 0.5848484848484848\n",
            "N estimators: 30 Глубина: 10 F1: 0.6290516206482593\n",
            "N estimators: 30 Глубина: 11 F1: 0.6229508196721312\n",
            "N estimators: 30 Глубина: 12 F1: 0.6325459317585301\n",
            "N estimators: 30 Глубина: 13 F1: 0.6041958041958042\n",
            "N estimators: 30 Глубина: 14 F1: 0.6160337552742615\n",
            "N estimators: 30 Глубина: 15 F1: 0.6002928257686676\n",
            "N estimators: 30 Глубина: 16 F1: 0.5714285714285714\n",
            "N estimators: 30 Глубина: 17 F1: 0.5824665676077266\n",
            "N estimators: 30 Глубина: 18 F1: 0.5787878787878787\n",
            "N estimators: 30 Глубина: 19 F1: 0.5818181818181817\n",
            "N estimators: 32 Глубина: 10 F1: 0.6308243727598567\n",
            "N estimators: 32 Глубина: 11 F1: 0.6194690265486726\n",
            "N estimators: 32 Глубина: 12 F1: 0.6376811594202899\n",
            "N estimators: 32 Глубина: 13 F1: 0.5980528511821975\n",
            "N estimators: 32 Глубина: 14 F1: 0.6151685393258427\n",
            "N estimators: 32 Глубина: 15 F1: 0.5994152046783626\n",
            "N estimators: 32 Глубина: 16 F1: 0.5760709010339734\n",
            "N estimators: 32 Глубина: 17 F1: 0.5880597014925374\n",
            "N estimators: 32 Глубина: 18 F1: 0.5788667687595712\n",
            "N estimators: 32 Глубина: 19 F1: 0.5787878787878787\n",
            "N estimators: 34 Глубина: 10 F1: 0.6252983293556086\n",
            "N estimators: 34 Глубина: 11 F1: 0.6212121212121211\n",
            "N estimators: 34 Глубина: 12 F1: 0.6411609498680739\n",
            "N estimators: 34 Глубина: 13 F1: 0.6027777777777776\n",
            "N estimators: 34 Глубина: 14 F1: 0.6132208157524613\n",
            "N estimators: 34 Глубина: 15 F1: 0.6023391812865497\n",
            "N estimators: 34 Глубина: 16 F1: 0.5802650957290133\n",
            "N estimators: 34 Глубина: 17 F1: 0.5907046476761619\n",
            "N estimators: 34 Глубина: 18 F1: 0.5770992366412214\n",
            "N estimators: 34 Глубина: 19 F1: 0.5766312594840668\n",
            "N estimators: 36 Глубина: 10 F1: 0.6299401197604791\n",
            "N estimators: 36 Глубина: 11 F1: 0.6099110546378653\n",
            "N estimators: 36 Глубина: 12 F1: 0.6357615894039735\n",
            "N estimators: 36 Глубина: 13 F1: 0.6038781163434902\n",
            "N estimators: 36 Глубина: 14 F1: 0.6169014084507042\n",
            "N estimators: 36 Глубина: 15 F1: 0.5982404692082112\n",
            "N estimators: 36 Глубина: 16 F1: 0.5856515373352855\n",
            "N estimators: 36 Глубина: 17 F1: 0.585949177877429\n",
            "N estimators: 36 Глубина: 18 F1: 0.5718654434250764\n",
            "N estimators: 36 Глубина: 19 F1: 0.5834586466165412\n",
            "N estimators: 38 Глубина: 10 F1: 0.6293206197854588\n",
            "N estimators: 38 Глубина: 11 F1: 0.610126582278481\n",
            "N estimators: 38 Глубина: 12 F1: 0.6410596026490066\n",
            "N estimators: 38 Глубина: 13 F1: 0.6019417475728156\n",
            "N estimators: 38 Глубина: 14 F1: 0.6207865168539325\n",
            "N estimators: 38 Глубина: 15 F1: 0.5964912280701754\n",
            "N estimators: 38 Глубина: 16 F1: 0.5870206489675517\n",
            "N estimators: 38 Глубина: 17 F1: 0.591044776119403\n",
            "N estimators: 38 Глубина: 18 F1: 0.5801526717557252\n",
            "N estimators: 38 Глубина: 19 F1: 0.5848484848484848\n",
            "N estimators: 40 Глубина: 10 F1: 0.6284348864994027\n",
            "N estimators: 40 Глубина: 11 F1: 0.6140350877192982\n",
            "N estimators: 40 Глубина: 12 F1: 0.6347941567065073\n",
            "N estimators: 40 Глубина: 13 F1: 0.6058091286307052\n",
            "N estimators: 40 Глубина: 14 F1: 0.6143057503506312\n",
            "N estimators: 40 Глубина: 15 F1: 0.5953079178885631\n",
            "N estimators: 40 Глубина: 16 F1: 0.5870206489675517\n",
            "N estimators: 40 Глубина: 17 F1: 0.5964391691394658\n"
          ]
        },
        {
          "name": "stdout",
          "output_type": "stream",
          "text": [
            "N estimators: 40 Глубина: 18 F1: 0.5818181818181817\n",
            "N estimators: 40 Глубина: 19 F1: 0.5869894099848714\n",
            "N estimators: 42 Глубина: 10 F1: 0.6329723225030084\n",
            "N estimators: 42 Глубина: 11 F1: 0.6120906801007556\n",
            "N estimators: 42 Глубина: 12 F1: 0.6339522546419099\n",
            "N estimators: 42 Глубина: 13 F1: 0.6058091286307052\n",
            "N estimators: 42 Глубина: 14 F1: 0.6188466947960618\n",
            "N estimators: 42 Глубина: 15 F1: 0.5982404692082112\n",
            "N estimators: 42 Глубина: 16 F1: 0.5929203539823009\n",
            "N estimators: 42 Глубина: 17 F1: 0.5913818722139672\n",
            "N estimators: 42 Глубина: 18 F1: 0.5857359635811836\n",
            "N estimators: 42 Глубина: 19 F1: 0.5918057663125948\n",
            "N estimators: 44 Глубина: 10 F1: 0.6384522370012092\n",
            "N estimators: 44 Глубина: 11 F1: 0.6194690265486726\n",
            "N estimators: 44 Глубина: 12 F1: 0.6357615894039735\n",
            "N estimators: 44 Глубина: 13 F1: 0.6043956043956044\n",
            "N estimators: 44 Глубина: 14 F1: 0.6193181818181819\n",
            "N estimators: 44 Глубина: 15 F1: 0.6023391812865497\n",
            "N estimators: 44 Глубина: 16 F1: 0.5911764705882353\n",
            "N estimators: 44 Глубина: 17 F1: 0.5982142857142858\n",
            "N estimators: 44 Глубина: 18 F1: 0.5891238670694864\n",
            "N estimators: 44 Глубина: 19 F1: 0.5891238670694864\n",
            "N estimators: 46 Глубина: 10 F1: 0.6343825665859565\n",
            "N estimators: 46 Глубина: 11 F1: 0.610126582278481\n",
            "N estimators: 46 Глубина: 12 F1: 0.6314398943196831\n",
            "N estimators: 46 Глубина: 13 F1: 0.6033057851239669\n",
            "N estimators: 46 Глубина: 14 F1: 0.6221590909090909\n",
            "N estimators: 46 Глубина: 15 F1: 0.6002928257686676\n",
            "N estimators: 46 Глубина: 16 F1: 0.5887573964497042\n",
            "N estimators: 46 Глубина: 17 F1: 0.6035502958579881\n",
            "N estimators: 46 Глубина: 18 F1: 0.580060422960725\n",
            "N estimators: 46 Глубина: 19 F1: 0.5933734939759037\n",
            "N estimators: 48 Глубина: 10 F1: 0.6369119420989143\n",
            "N estimators: 48 Глубина: 11 F1: 0.6103404791929382\n",
            "N estimators: 48 Глубина: 12 F1: 0.6340819022457067\n",
            "N estimators: 48 Глубина: 13 F1: 0.6013793103448276\n",
            "N estimators: 48 Глубина: 14 F1: 0.6193181818181819\n",
            "N estimators: 48 Глубина: 15 F1: 0.6011730205278593\n",
            "N estimators: 48 Глубина: 16 F1: 0.5870206489675517\n",
            "N estimators: 48 Глубина: 17 F1: 0.5997045790251109\n",
            "N estimators: 48 Глубина: 18 F1: 0.5753424657534246\n",
            "N estimators: 48 Глубина: 19 F1: 0.5988023952095809\n",
            "Лучшая F-мера 0.6411609498680739 при глубине = 12 и количестве деревьев = 34\n",
            "CPU times: user 40.8 s, sys: 310 ms, total: 41.2 s\n",
            "Wall time: 41.4 s\n"
          ]
        }
      ],
      "source": [
        "%%time\n",
        "\n",
        "best_model_rf_balance = None\n",
        "best_result_balance = 0\n",
        "best_depth_balance = 0\n",
        "best_est_balance = 0\n",
        "\n",
        "for estimator in range(10, 50, 2):\n",
        "    for depth in range(10, 20):\n",
        "        model_rf_balance =  RandomForestClassifier(random_state=12345, n_estimators=estimator,\n",
        "                                                   max_depth = depth, class_weight='balanced')\n",
        "        model_rf_balance.fit(features_train, target_train)\n",
        "        predicted_valid = model_rf_balance.predict(features_valid)\n",
        "        print('N estimators:', estimator, 'Глубина:', depth, 'F1:', f1_score(target_valid, predicted_valid))\n",
        "        result = f1_score(target_valid, predicted_valid)\n",
        "\n",
        "        if result > best_result_balance:\n",
        "            best_model_rf_balance = model_rf_balance\n",
        "            best_result_balance = result\n",
        "            best_depth_balance = depth\n",
        "            best_est_balance = estimator\n",
        "\n",
        "print(\"Лучшая F-мера\", best_result_balance, 'при глубине = {0} и количестве деревьев = {1}'.format(best_depth_balance,\n",
        "                                                                                           best_est_balance))"
      ]
    },
    {
      "cell_type": "markdown",
      "metadata": {
        "id": "evh_pPkv4JAq"
      },
      "source": [
        "F-мера подросла, что в целом хорошо для модели. Лучшая F-мера 0.6411609498680739 при глубине = 12 и количестве деревьев = 34"
      ]
    },
    {
      "cell_type": "markdown",
      "metadata": {
        "id": "OoT7FJUt4JAq"
      },
      "source": [
        "**Вывод:** С учетом баланса классов с помощью дополнительного гиперпараметра добились улучшения показателей лучшей модели, а именно у Случайного леса с при глубине = 12 и количестве деревьев = 34"
      ]
    },
    {
      "cell_type": "markdown",
      "metadata": {
        "id": "ek2nmUpA4JAq"
      },
      "source": [
        "Также мы можем привести к балансу классов с помощью создания функуций Upsampling и Downsampling. Суть данных функций в том, что для увеличения/уменьшения выборки по первому классу данных и уменьшению/увелечению выборки по нулевому классу."
      ]
    },
    {
      "cell_type": "markdown",
      "metadata": {
        "id": "fO6vEqI54JAq"
      },
      "source": [
        "**Upsampling**"
      ]
    },
    {
      "cell_type": "code",
      "execution_count": null,
      "metadata": {
        "id": "unCSmAEH4JAq",
        "outputId": "e4b3c9c7-a806-4486-9c6e-71022e70e5e4"
      },
      "outputs": [
        {
          "name": "stdout",
          "output_type": "stream",
          "text": [
            "1    4888\n",
            "0    4778\n",
            "Name: exited, dtype: int64\n"
          ]
        }
      ],
      "source": [
        "def upsample(features, target, repeat):\n",
        "    features_zeros = features[target == 0]\n",
        "    features_ones = features[target == 1]\n",
        "    target_zeros = target[target == 0]\n",
        "    target_ones = target[target == 1]\n",
        "\n",
        "    features_upsampled = pd.concat([features_zeros] + [features_ones] * repeat)\n",
        "    target_upsampled = pd.concat([target_zeros] + [target_ones] * repeat)\n",
        "\n",
        "    features_upsampled, target_upsampled = shuffle(\n",
        "        features_upsampled, target_upsampled, random_state=12345)\n",
        "\n",
        "    return features_upsampled, target_upsampled\n",
        "\n",
        "features_upsampled, target_upsampled = upsample(features_train, target_train, 4)\n",
        "\n",
        "print(target_upsampled.value_counts())"
      ]
    },
    {
      "cell_type": "markdown",
      "metadata": {
        "id": "VIzvJF7d4JAr"
      },
      "source": [
        "Действительно, теперь объектов классов 50 на 50. Проверим f1-меру на наших моделях после изменений."
      ]
    },
    {
      "cell_type": "code",
      "execution_count": null,
      "metadata": {
        "id": "Nvq02ols4JAr",
        "outputId": "cfd357d4-579b-4b57-f51d-9e1c7ba82424"
      },
      "outputs": [
        {
          "name": "stdout",
          "output_type": "stream",
          "text": [
            "Логистическая регрессия\n",
            "Точность попадания по классам 0.7255\n",
            "Precision 0.40562248995983935\n",
            "Recall 0.7426470588235294\n",
            "F1 0.5246753246753246\n",
            "\n",
            "CPU times: user 148 ms, sys: 265 ms, total: 414 ms\n",
            "Wall time: 406 ms\n"
          ]
        }
      ],
      "source": [
        "%%time\n",
        "\n",
        "model = LogisticRegression(random_state=12345)\n",
        "model.fit(features_upsampled, target_upsampled)\n",
        "predicted_valid = model.predict(features_valid)\n",
        "print('Логистическая регрессия')\n",
        "print('Точность попадания по классам', accuracy_score(target_valid, predicted_valid))\n",
        "print('Precision', precision_score(target_valid, predicted_valid))\n",
        "print('Recall', recall_score(target_valid, predicted_valid))\n",
        "print('F1', f1_score(target_valid, predicted_valid))\n",
        "print()"
      ]
    },
    {
      "cell_type": "code",
      "execution_count": null,
      "metadata": {
        "id": "AFSTgS234JAr",
        "outputId": "edc846a3-b785-4a86-92f7-7e22d0361b9d"
      },
      "outputs": [
        {
          "name": "stdout",
          "output_type": "stream",
          "text": [
            "Max depth: 2 F1-score: 0.49801113762927607\n",
            "Max depth: 3 F1-score: 0.49801113762927607\n",
            "Max depth: 4 F1-score: 0.560931899641577\n",
            "Max depth: 5 F1-score: 0.5546492659053834\n",
            "Max depth: 6 F1-score: 0.575925925925926\n",
            "Max depth: 7 F1-score: 0.5750452079566003\n",
            "Max depth: 8 F1-score: 0.5492321589882565\n",
            "Max depth: 9 F1-score: 0.5408560311284046\n",
            "Max depth: 10 F1-score: 0.5317460317460317\n",
            "Max depth: 11 F1-score: 0.5283797729618164\n",
            "Max depth: 12 F1-score: 0.5230125523012552\n",
            "Max depth: 13 F1-score: 0.5263157894736842\n",
            "Max depth: 14 F1-score: 0.5212527964205816\n",
            "Max depth: 15 F1-score: 0.5116279069767441\n",
            "Max depth: 16 F1-score: 0.5028968713789108\n",
            "Max depth: 17 F1-score: 0.5152941176470589\n",
            "Max depth: 18 F1-score: 0.5101311084624552\n",
            "Max depth: 19 F1-score: 0.4988009592326139\n",
            "Лучшая F-мера 0.575925925925926 cо значением глубины = 6\n",
            "CPU times: user 658 ms, sys: 11.6 ms, total: 669 ms\n",
            "Wall time: 756 ms\n"
          ]
        }
      ],
      "source": [
        "%%time\n",
        "\n",
        "\n",
        "best_model_tree_upsmple = None\n",
        "best_result_upsmple = 0\n",
        "\n",
        "for depth in range(2, 20):\n",
        "    model_tree_upsmple = DecisionTreeClassifier(random_state=12345, max_depth=depth)\n",
        "    model_tree_upsmple.fit(features_upsampled, target_upsampled)\n",
        "    predicted_valid = model_tree_upsmple.predict(features_valid)\n",
        "    print('Max depth:', depth,'F1-score:', f1_score(target_valid, predicted_valid))\n",
        "    result = f1_score(target_valid, predicted_valid)\n",
        "\n",
        "    if best_result_upsmple < result:\n",
        "        best_result_upsmple = result\n",
        "        max_depth_upsmple = depth\n",
        "        best_model_tree_upsmple = model_tree_upsmple\n",
        "\n",
        "print(\"Лучшая F-мера\", best_result_upsmple, 'cо значением глубины =', max_depth_upsmple)"
      ]
    },
    {
      "cell_type": "code",
      "execution_count": null,
      "metadata": {
        "scrolled": false,
        "id": "rvowIpUL4JAr",
        "outputId": "d088df85-d8b4-488f-9e05-c3384294fcf3"
      },
      "outputs": [
        {
          "name": "stdout",
          "output_type": "stream",
          "text": [
            "N estimators: 10 Глубина: 10 F1: 0.6225596529284165\n",
            "N estimators: 10 Глубина: 11 F1: 0.6280623608017817\n",
            "N estimators: 10 Глубина: 12 F1: 0.5993031358885017\n",
            "N estimators: 10 Глубина: 13 F1: 0.6201183431952663\n",
            "N estimators: 10 Глубина: 14 F1: 0.6150061500615005\n",
            "N estimators: 10 Глубина: 15 F1: 0.5989717223650386\n",
            "N estimators: 10 Глубина: 16 F1: 0.6130268199233716\n",
            "N estimators: 10 Глубина: 17 F1: 0.5934640522875817\n",
            "N estimators: 10 Глубина: 18 F1: 0.6028833551769331\n",
            "N estimators: 10 Глубина: 19 F1: 0.6170212765957446\n",
            "N estimators: 12 Глубина: 10 F1: 0.6221248630887185\n",
            "N estimators: 12 Глубина: 11 F1: 0.6150392817059483\n",
            "N estimators: 12 Глубина: 12 F1: 0.6098130841121495\n",
            "N estimators: 12 Глубина: 13 F1: 0.6205250596658711\n",
            "N estimators: 12 Глубина: 14 F1: 0.6208588957055216\n",
            "N estimators: 12 Глубина: 15 F1: 0.6045340050377833\n",
            "N estimators: 12 Глубина: 16 F1: 0.6094750320102432\n",
            "N estimators: 12 Глубина: 17 F1: 0.5968586387434555\n",
            "N estimators: 12 Глубина: 18 F1: 0.6101694915254237\n",
            "N estimators: 12 Глубина: 19 F1: 0.6166219839142092\n",
            "N estimators: 14 Глубина: 10 F1: 0.6211453744493393\n",
            "N estimators: 14 Глубина: 11 F1: 0.6188850967007964\n",
            "N estimators: 14 Глубина: 12 F1: 0.6072684642438452\n",
            "N estimators: 14 Глубина: 13 F1: 0.6175771971496438\n",
            "N estimators: 14 Глубина: 14 F1: 0.6144430844553244\n",
            "N estimators: 14 Глубина: 15 F1: 0.6115288220551378\n",
            "N estimators: 14 Глубина: 16 F1: 0.6071428571428572\n",
            "N estimators: 14 Глубина: 17 F1: 0.6042216358839051\n",
            "N estimators: 14 Глубина: 18 F1: 0.6141732283464567\n",
            "N estimators: 14 Глубина: 19 F1: 0.6178428761651131\n",
            "N estimators: 16 Глубина: 10 F1: 0.6318131256952169\n",
            "N estimators: 16 Глубина: 11 F1: 0.624\n",
            "N estimators: 16 Глубина: 12 F1: 0.6128654970760234\n",
            "N estimators: 16 Глубина: 13 F1: 0.6144721233689205\n",
            "N estimators: 16 Глубина: 14 F1: 0.6191646191646192\n",
            "N estimators: 16 Глубина: 15 F1: 0.6144121365360302\n",
            "N estimators: 16 Глубина: 16 F1: 0.6093552465233881\n",
            "N estimators: 16 Глубина: 17 F1: 0.6049543676662321\n",
            "N estimators: 16 Глубина: 18 F1: 0.6034255599472991\n",
            "N estimators: 16 Глубина: 19 F1: 0.6084656084656085\n",
            "N estimators: 18 Глубина: 10 F1: 0.6280623608017817\n",
            "N estimators: 18 Глубина: 11 F1: 0.620137299771167\n",
            "N estimators: 18 Глубина: 12 F1: 0.617543859649123\n",
            "N estimators: 18 Глубина: 13 F1: 0.6166868198307135\n",
            "N estimators: 18 Глубина: 14 F1: 0.623921085080148\n",
            "N estimators: 18 Глубина: 15 F1: 0.6242038216560509\n",
            "N estimators: 18 Глубина: 16 F1: 0.6025316455696202\n",
            "N estimators: 18 Глубина: 17 F1: 0.6005221932114883\n",
            "N estimators: 18 Глубина: 18 F1: 0.6125654450261779\n",
            "N estimators: 18 Глубина: 19 F1: 0.6078947368421053\n",
            "N estimators: 20 Глубина: 10 F1: 0.6222222222222222\n",
            "N estimators: 20 Глубина: 11 F1: 0.6262857142857142\n",
            "N estimators: 20 Глубина: 12 F1: 0.618096357226792\n",
            "N estimators: 20 Глубина: 13 F1: 0.6168674698795181\n",
            "N estimators: 20 Глубина: 14 F1: 0.6211180124223603\n",
            "N estimators: 20 Глубина: 15 F1: 0.6130268199233716\n",
            "N estimators: 20 Глубина: 16 F1: 0.6071428571428572\n",
            "N estimators: 20 Глубина: 17 F1: 0.6015831134564643\n",
            "N estimators: 20 Глубина: 18 F1: 0.6194225721784777\n",
            "N estimators: 20 Глубина: 19 F1: 0.6147757255936674\n",
            "N estimators: 22 Глубина: 10 F1: 0.6255506607929515\n",
            "N estimators: 22 Глубина: 11 F1: 0.6275862068965518\n",
            "N estimators: 22 Глубина: 12 F1: 0.6186046511627907\n",
            "N estimators: 22 Глубина: 13 F1: 0.6183574879227053\n",
            "N estimators: 22 Глубина: 14 F1: 0.6169154228855721\n",
            "N estimators: 22 Глубина: 15 F1: 0.6012738853503186\n",
            "N estimators: 22 Глубина: 16 F1: 0.6104725415070241\n",
            "N estimators: 22 Глубина: 17 F1: 0.613965744400527\n",
            "N estimators: 22 Глубина: 18 F1: 0.6169934640522876\n",
            "N estimators: 22 Глубина: 19 F1: 0.613965744400527\n",
            "N estimators: 24 Глубина: 10 F1: 0.6248624862486248\n",
            "N estimators: 24 Глубина: 11 F1: 0.6295454545454545\n",
            "N estimators: 24 Глубина: 12 F1: 0.6157461809635723\n",
            "N estimators: 24 Глубина: 13 F1: 0.618531889290012\n",
            "N estimators: 24 Глубина: 14 F1: 0.6188118811881188\n",
            "N estimators: 24 Глубина: 15 F1: 0.6073697585768743\n",
            "N estimators: 24 Глубина: 16 F1: 0.6185044359949302\n",
            "N estimators: 24 Глубина: 17 F1: 0.6055776892430279\n",
            "N estimators: 24 Глубина: 18 F1: 0.6143790849673202\n",
            "N estimators: 24 Глубина: 19 F1: 0.6090425531914894\n",
            "N estimators: 26 Глубина: 10 F1: 0.6262403528114664\n",
            "N estimators: 26 Глубина: 11 F1: 0.6320541760722348\n",
            "N estimators: 26 Глубина: 12 F1: 0.619718309859155\n",
            "N estimators: 26 Глубина: 13 F1: 0.6211031175059952\n",
            "N estimators: 26 Глубина: 14 F1: 0.6243781094527363\n",
            "N estimators: 26 Глубина: 15 F1: 0.6122448979591838\n",
            "N estimators: 26 Глубина: 16 F1: 0.6083650190114069\n",
            "N estimators: 26 Глубина: 17 F1: 0.6037735849056605\n",
            "N estimators: 26 Глубина: 18 F1: 0.6117647058823529\n",
            "N estimators: 26 Глубина: 19 F1: 0.6103038309114928\n",
            "N estimators: 28 Глубина: 10 F1: 0.6293859649122807\n",
            "N estimators: 28 Глубина: 11 F1: 0.6312217194570137\n",
            "N estimators: 28 Глубина: 12 F1: 0.6173708920187794\n",
            "N estimators: 28 Глубина: 13 F1: 0.6265060240963856\n",
            "N estimators: 28 Глубина: 14 F1: 0.6253101736972705\n",
            "N estimators: 28 Глубина: 15 F1: 0.6161616161616161\n",
            "N estimators: 28 Глубина: 16 F1: 0.6159695817490495\n",
            "N estimators: 28 Глубина: 17 F1: 0.6125166444740345\n",
            "N estimators: 28 Глубина: 18 F1: 0.6081258191349934\n",
            "N estimators: 28 Глубина: 19 F1: 0.6055776892430279\n",
            "N estimators: 30 Глубина: 10 F1: 0.6271929824561403\n",
            "N estimators: 30 Глубина: 11 F1: 0.6356413166855845\n",
            "N estimators: 30 Глубина: 12 F1: 0.6188235294117648\n",
            "N estimators: 30 Глубина: 13 F1: 0.6225961538461537\n",
            "N estimators: 30 Глубина: 14 F1: 0.6294919454770755\n",
            "N estimators: 30 Глубина: 15 F1: 0.6163522012578617\n",
            "N estimators: 30 Глубина: 16 F1: 0.6200762388818297\n",
            "N estimators: 30 Глубина: 17 F1: 0.6097240473061761\n",
            "N estimators: 30 Глубина: 18 F1: 0.6141732283464567\n",
            "N estimators: 30 Глубина: 19 F1: 0.6119205298013245\n",
            "N estimators: 32 Глубина: 10 F1: 0.6281352235550709\n",
            "N estimators: 32 Глубина: 11 F1: 0.6445714285714286\n",
            "N estimators: 32 Глубина: 12 F1: 0.625\n",
            "N estimators: 32 Глубина: 13 F1: 0.6271186440677966\n",
            "N estimators: 32 Глубина: 14 F1: 0.6331288343558282\n",
            "N estimators: 32 Глубина: 15 F1: 0.6192893401015229\n",
            "N estimators: 32 Глубина: 16 F1: 0.6262626262626263\n",
            "N estimators: 32 Глубина: 17 F1: 0.6097240473061761\n",
            "N estimators: 32 Глубина: 18 F1: 0.6222222222222222\n",
            "N estimators: 32 Глубина: 19 F1: 0.6151797603195739\n",
            "N estimators: 34 Глубина: 10 F1: 0.6300768386388584\n",
            "N estimators: 34 Глубина: 11 F1: 0.6431014823261118\n",
            "N estimators: 34 Глубина: 12 F1: 0.6206896551724138\n",
            "N estimators: 34 Глубина: 13 F1: 0.6280193236714976\n",
            "N estimators: 34 Глубина: 14 F1: 0.6305418719211822\n",
            "N estimators: 34 Глубина: 15 F1: 0.6212121212121211\n",
            "N estimators: 34 Глубина: 16 F1: 0.6275510204081632\n",
            "N estimators: 34 Глубина: 17 F1: 0.6107470511140236\n",
            "N estimators: 34 Глубина: 18 F1: 0.6196078431372549\n",
            "N estimators: 34 Глубина: 19 F1: 0.6213333333333334\n",
            "N estimators: 36 Глубина: 10 F1: 0.6299559471365639\n",
            "N estimators: 36 Глубина: 11 F1: 0.6415525114155252\n",
            "N estimators: 36 Глубина: 12 F1: 0.625\n",
            "N estimators: 36 Глубина: 13 F1: 0.6328502415458938\n",
            "N estimators: 36 Глубина: 14 F1: 0.6273062730627306\n",
            "N estimators: 36 Глубина: 15 F1: 0.6210392902408112\n",
            "N estimators: 36 Глубина: 16 F1: 0.6267515923566879\n",
            "N estimators: 36 Глубина: 17 F1: 0.6157894736842104\n",
            "N estimators: 36 Глубина: 18 F1: 0.6215864759427829\n",
            "N estimators: 36 Глубина: 19 F1: 0.6184738955823292\n",
            "N estimators: 38 Глубина: 10 F1: 0.6299559471365639\n",
            "N estimators: 38 Глубина: 11 F1: 0.6385404789053591\n",
            "N estimators: 38 Глубина: 12 F1: 0.6232227488151659\n",
            "N estimators: 38 Глубина: 13 F1: 0.6330935251798561\n",
            "N estimators: 38 Глубина: 14 F1: 0.628992628992629\n",
            "N estimators: 38 Глубина: 15 F1: 0.6171284634760704\n",
            "N estimators: 38 Глубина: 16 F1: 0.6275510204081632\n",
            "N estimators: 38 Глубина: 17 F1: 0.6091503267973856\n",
            "N estimators: 38 Глубина: 18 F1: 0.6205997392438072\n",
            "N estimators: 38 Глубина: 19 F1: 0.6259946949602122\n",
            "N estimators: 40 Глубина: 10 F1: 0.6263736263736263\n",
            "N estimators: 40 Глубина: 11 F1: 0.6446469248291572\n",
            "N estimators: 40 Глубина: 12 F1: 0.6257378984651711\n",
            "N estimators: 40 Глубина: 13 F1: 0.6346153846153846\n",
            "N estimators: 40 Глубина: 14 F1: 0.624078624078624\n",
            "N estimators: 40 Глубина: 15 F1: 0.6136363636363635\n",
            "N estimators: 40 Глубина: 16 F1: 0.6342710997442454\n",
            "N estimators: 40 Глубина: 17 F1: 0.6151832460732984\n",
            "N estimators: 40 Глубина: 18 F1: 0.6204188481675393\n"
          ]
        },
        {
          "name": "stdout",
          "output_type": "stream",
          "text": [
            "N estimators: 40 Глубина: 19 F1: 0.6294820717131474\n",
            "N estimators: 42 Глубина: 10 F1: 0.6256860592755215\n",
            "N estimators: 42 Глубина: 11 F1: 0.6461187214611872\n",
            "N estimators: 42 Глубина: 12 F1: 0.6233766233766234\n",
            "N estimators: 42 Глубина: 13 F1: 0.6376811594202899\n",
            "N estimators: 42 Глубина: 14 F1: 0.6223862238622386\n",
            "N estimators: 42 Глубина: 15 F1: 0.617906683480454\n",
            "N estimators: 42 Глубина: 16 F1: 0.6248399487836107\n",
            "N estimators: 42 Глубина: 17 F1: 0.6205997392438072\n",
            "N estimators: 42 Глубина: 18 F1: 0.6186107470511141\n",
            "N estimators: 42 Глубина: 19 F1: 0.619867549668874\n",
            "N estimators: 44 Глубина: 10 F1: 0.6240352811466372\n",
            "N estimators: 44 Глубина: 11 F1: 0.6417233560090703\n",
            "N estimators: 44 Глубина: 12 F1: 0.6244131455399061\n",
            "N estimators: 44 Глубина: 13 F1: 0.6311970979443774\n",
            "N estimators: 44 Глубина: 14 F1: 0.6256157635467979\n",
            "N estimators: 44 Глубина: 15 F1: 0.6287878787878788\n",
            "N estimators: 44 Глубина: 16 F1: 0.6298200514138818\n",
            "N estimators: 44 Глубина: 17 F1: 0.6204188481675393\n",
            "N estimators: 44 Глубина: 18 F1: 0.6125654450261779\n",
            "N estimators: 44 Глубина: 19 F1: 0.6278145695364239\n",
            "N estimators: 46 Глубина: 10 F1: 0.625\n",
            "N estimators: 46 Глубина: 11 F1: 0.6424517593643586\n",
            "N estimators: 46 Глубина: 12 F1: 0.6273584905660378\n",
            "N estimators: 46 Глубина: 13 F1: 0.6329723225030084\n",
            "N estimators: 46 Глубина: 14 F1: 0.6273062730627306\n",
            "N estimators: 46 Глубина: 15 F1: 0.6192893401015229\n",
            "N estimators: 46 Глубина: 16 F1: 0.622908622908623\n",
            "N estimators: 46 Глубина: 17 F1: 0.6204188481675393\n",
            "N estimators: 46 Глубина: 18 F1: 0.6178010471204188\n",
            "N estimators: 46 Глубина: 19 F1: 0.6278145695364239\n",
            "N estimators: 48 Глубина: 10 F1: 0.6387665198237885\n",
            "N estimators: 48 Глубина: 11 F1: 0.6376146788990825\n",
            "N estimators: 48 Глубина: 12 F1: 0.625\n",
            "N estimators: 48 Глубина: 13 F1: 0.6289156626506024\n",
            "N estimators: 48 Глубина: 14 F1: 0.6271604938271604\n",
            "N estimators: 48 Глубина: 15 F1: 0.623574144486692\n",
            "N estimators: 48 Глубина: 16 F1: 0.626444159178434\n",
            "N estimators: 48 Глубина: 17 F1: 0.6212319790301442\n",
            "N estimators: 48 Глубина: 18 F1: 0.6223958333333334\n",
            "N estimators: 48 Глубина: 19 F1: 0.6243386243386243\n",
            "Лучшая F-мера 0.6461187214611872 при глубине = 11 и количестве деревьев = 42\n",
            "CPU times: user 55.6 s, sys: 354 ms, total: 56 s\n",
            "Wall time: 56.5 s\n"
          ]
        }
      ],
      "source": [
        "%%time\n",
        "\n",
        "best_model_rf_upsample = None\n",
        "best_result_upsample = 0\n",
        "best_depth_upsample = 0\n",
        "best_est_upsample = 0\n",
        "\n",
        "for estimator in range(10, 50, 2):\n",
        "    for depth in range(10, 20):\n",
        "        model_rf_upsample =  RandomForestClassifier(random_state=12345, n_estimators=estimator,\n",
        "                                                   max_depth = depth)\n",
        "        model_rf_upsample.fit(features_upsampled, target_upsampled)\n",
        "        predicted_valid = model_rf_upsample.predict(features_valid)\n",
        "        print('N estimators:', estimator, 'Глубина:', depth, 'F1:', f1_score(target_valid, predicted_valid))\n",
        "        result = f1_score(target_valid, predicted_valid)\n",
        "\n",
        "        if result > best_result_upsample:\n",
        "            best_model_rf_upsample = model_rf_upsample\n",
        "            best_result_upsample = result\n",
        "            best_depth_upsample = depth\n",
        "            best_est_upsample = estimator\n",
        "\n",
        "print(\"Лучшая F-мера\", best_result_upsample, 'при глубине = {0} и количестве деревьев = {1}'.format(best_depth_upsample,\n",
        "                                                                                           best_est_upsample))"
      ]
    },
    {
      "cell_type": "markdown",
      "metadata": {
        "id": "msSCGOwG4JAs"
      },
      "source": [
        "**Вывод:** В данном случае мы получили прирост в тысячные для F-меры для случайного леса. Лучшие гиперпараметры при глубине = 11 и количестве деревьев = 42"
      ]
    },
    {
      "cell_type": "markdown",
      "metadata": {
        "id": "-N36dFye4JAs"
      },
      "source": [
        "**Downsampling**"
      ]
    },
    {
      "cell_type": "code",
      "execution_count": null,
      "metadata": {
        "id": "eMi_R2Xp4JAs",
        "outputId": "3e0e72c6-2c6e-493f-ea00-1edc9ae90777"
      },
      "outputs": [
        {
          "name": "stdout",
          "output_type": "stream",
          "text": [
            "1    1222\n",
            "0    1194\n",
            "Name: exited, dtype: int64\n"
          ]
        }
      ],
      "source": [
        "def downsample(features, target, fraction):\n",
        "    features_zeros = features[target == 0]\n",
        "    features_ones = features[target == 1]\n",
        "    target_zeros = target[target == 0]\n",
        "    target_ones = target[target == 1]\n",
        "\n",
        "    features_downsampled = pd.concat(\n",
        "        [features_zeros.sample(frac=fraction, random_state=12345)] + [features_ones])\n",
        "    target_downsampled = pd.concat(\n",
        "        [target_zeros.sample(frac=fraction, random_state=12345)] + [target_ones])\n",
        "\n",
        "    features_downsampled, target_downsampled = shuffle(\n",
        "        features_downsampled, target_downsampled, random_state=12345)\n",
        "\n",
        "    return features_downsampled, target_downsampled\n",
        "\n",
        "features_downsampled, target_downsampled = downsample(features_train, target_train, 0.25)\n",
        "\n",
        "print(target_downsampled.value_counts())"
      ]
    },
    {
      "cell_type": "code",
      "execution_count": null,
      "metadata": {
        "id": "RT4CUWCW4JAs",
        "outputId": "2c7efe46-fbbd-496a-9a38-15bd5115e944"
      },
      "outputs": [
        {
          "name": "stdout",
          "output_type": "stream",
          "text": [
            "Логистическая регрессия\n",
            "Точность попадания по классам 0.726\n",
            "Precision 0.40691489361702127\n",
            "Recall 0.75\n",
            "F1 0.5275862068965517\n",
            "\n",
            "CPU times: user 65.1 ms, sys: 119 ms, total: 184 ms\n",
            "Wall time: 156 ms\n"
          ]
        }
      ],
      "source": [
        "%%time\n",
        "\n",
        "model = LogisticRegression(random_state=12345)\n",
        "model.fit(features_downsampled, target_downsampled)\n",
        "predicted_valid = model.predict(features_valid)\n",
        "print('Логистическая регрессия')\n",
        "print('Точность попадания по классам', accuracy_score(target_valid, predicted_valid))\n",
        "print('Precision', precision_score(target_valid, predicted_valid))\n",
        "print('Recall', recall_score(target_valid, predicted_valid))\n",
        "print('F1', f1_score(target_valid, predicted_valid))\n",
        "print()"
      ]
    },
    {
      "cell_type": "code",
      "execution_count": null,
      "metadata": {
        "id": "cmH2R-kM4JAt",
        "outputId": "39146469-10d9-4345-82b9-81669e425132"
      },
      "outputs": [
        {
          "name": "stdout",
          "output_type": "stream",
          "text": [
            "Max depth: 2 F1-score: 0.49801113762927607\n",
            "Max depth: 3 F1-score: 0.49801113762927607\n",
            "Max depth: 4 F1-score: 0.560931899641577\n",
            "Max depth: 5 F1-score: 0.5531914893617021\n",
            "Max depth: 6 F1-score: 0.5939278937381405\n",
            "Max depth: 7 F1-score: 0.5841035120147875\n",
            "Max depth: 8 F1-score: 0.5714285714285714\n",
            "Max depth: 9 F1-score: 0.5680793507664563\n",
            "Max depth: 10 F1-score: 0.5529622980251346\n",
            "Max depth: 11 F1-score: 0.5467248908296943\n",
            "Max depth: 12 F1-score: 0.530716723549488\n",
            "Max depth: 13 F1-score: 0.5366695427092321\n",
            "Max depth: 14 F1-score: 0.5215918712955123\n",
            "Max depth: 15 F1-score: 0.5248713550600342\n",
            "Max depth: 16 F1-score: 0.5082781456953642\n",
            "Max depth: 17 F1-score: 0.5062447960033306\n",
            "Max depth: 18 F1-score: 0.507936507936508\n",
            "Max depth: 19 F1-score: 0.5038428693424423\n",
            "Лучшая F-мера 0.5939278937381405 cо значением глубины = 6\n",
            "CPU times: user 249 ms, sys: 11.9 ms, total: 261 ms\n",
            "Wall time: 267 ms\n"
          ]
        }
      ],
      "source": [
        "%%time\n",
        "\n",
        "\n",
        "best_model_tree_downsample = None\n",
        "best_result_downsample = 0\n",
        "\n",
        "for depth in range(2, 20):\n",
        "    model_tree_downsample = DecisionTreeClassifier(random_state=12345, max_depth=depth)\n",
        "    model_tree_downsample.fit(features_downsampled, target_downsampled)\n",
        "    predicted_valid = model_tree_downsample.predict(features_valid)\n",
        "    print('Max depth:', depth,'F1-score:', f1_score(target_valid, predicted_valid))\n",
        "    result = f1_score(target_valid, predicted_valid)\n",
        "\n",
        "    if best_result_downsample < result:\n",
        "        best_result_downsample = result\n",
        "        max_depth_downsample = depth\n",
        "        best_model_tree_downsample = model_tree_downsample\n",
        "\n",
        "print(\"Лучшая F-мера\", best_result_downsample, 'cо значением глубины =', max_depth_downsample)"
      ]
    },
    {
      "cell_type": "code",
      "execution_count": null,
      "metadata": {
        "scrolled": false,
        "id": "oOLpEUpm4JAt",
        "outputId": "a36e0add-b4b6-40d5-803e-3a67ef1a4ac3"
      },
      "outputs": [
        {
          "name": "stdout",
          "output_type": "stream",
          "text": [
            "N estimators: 10 Глубина: 10 F1: 0.5805243445692884\n",
            "N estimators: 10 Глубина: 11 F1: 0.5733207190160833\n",
            "N estimators: 10 Глубина: 12 F1: 0.5912882298424467\n",
            "N estimators: 10 Глубина: 13 F1: 0.5692883895131086\n",
            "N estimators: 10 Глубина: 14 F1: 0.585645933014354\n",
            "N estimators: 10 Глубина: 15 F1: 0.5781710914454278\n",
            "N estimators: 10 Глубина: 16 F1: 0.5932367149758454\n",
            "N estimators: 10 Глубина: 17 F1: 0.5865384615384615\n",
            "N estimators: 10 Глубина: 18 F1: 0.5862745098039215\n",
            "N estimators: 10 Глубина: 19 F1: 0.587426326129666\n",
            "N estimators: 12 Глубина: 10 F1: 0.5899814471243042\n",
            "N estimators: 12 Глубина: 11 F1: 0.5784499054820416\n",
            "N estimators: 12 Глубина: 12 F1: 0.5841674249317562\n",
            "N estimators: 12 Глубина: 13 F1: 0.5786516853932584\n",
            "N estimators: 12 Глубина: 14 F1: 0.5808270676691729\n",
            "N estimators: 12 Глубина: 15 F1: 0.5844660194174758\n",
            "N estimators: 12 Глубина: 16 F1: 0.6023166023166023\n",
            "N estimators: 12 Глубина: 17 F1: 0.5893536121673003\n",
            "N estimators: 12 Глубина: 18 F1: 0.5902912621359223\n",
            "N estimators: 12 Глубина: 19 F1: 0.591796875\n",
            "N estimators: 14 Глубина: 10 F1: 0.5975494816211121\n",
            "N estimators: 14 Глубина: 11 F1: 0.5727611940298507\n",
            "N estimators: 14 Глубина: 12 F1: 0.5904936014625228\n",
            "N estimators: 14 Глубина: 13 F1: 0.5780669144981413\n",
            "N estimators: 14 Глубина: 14 F1: 0.5872420262664165\n",
            "N estimators: 14 Глубина: 15 F1: 0.5882352941176471\n",
            "N estimators: 14 Глубина: 16 F1: 0.5972762645914398\n",
            "N estimators: 14 Глубина: 17 F1: 0.580952380952381\n",
            "N estimators: 14 Глубина: 18 F1: 0.5865384615384615\n",
            "N estimators: 14 Глубина: 19 F1: 0.5899419729206964\n",
            "N estimators: 16 Глубина: 10 F1: 0.5998107852412488\n",
            "N estimators: 16 Глубина: 11 F1: 0.5808270676691729\n",
            "N estimators: 16 Глубина: 12 F1: 0.5978062157221207\n",
            "N estimators: 16 Глубина: 13 F1: 0.5833333333333334\n",
            "N estimators: 16 Глубина: 14 F1: 0.5934883720930233\n",
            "N estimators: 16 Глубина: 15 F1: 0.5950570342205324\n",
            "N estimators: 16 Глубина: 16 F1: 0.6005774783445621\n",
            "N estimators: 16 Глубина: 17 F1: 0.5876777251184834\n",
            "N estimators: 16 Глубина: 18 F1: 0.5904761904761905\n",
            "N estimators: 16 Глубина: 19 F1: 0.5943852855759922\n",
            "N estimators: 18 Глубина: 10 F1: 0.5984848484848485\n",
            "N estimators: 18 Глубина: 11 F1: 0.5827814569536424\n",
            "N estimators: 18 Глубина: 12 F1: 0.6009132420091324\n",
            "N estimators: 18 Глубина: 13 F1: 0.5796831314072693\n",
            "N estimators: 18 Глубина: 14 F1: 0.593141797961075\n",
            "N estimators: 18 Глубина: 15 F1: 0.5895734597156399\n",
            "N estimators: 18 Глубина: 16 F1: 0.6001917545541706\n",
            "N estimators: 18 Глубина: 17 F1: 0.5866666666666667\n",
            "N estimators: 18 Глубина: 18 F1: 0.5898174831892411\n",
            "N estimators: 18 Глубина: 19 F1: 0.5994123408423115\n",
            "N estimators: 20 Глубина: 10 F1: 0.5897920604914934\n",
            "N estimators: 20 Глубина: 11 F1: 0.5894538606403014\n",
            "N estimators: 20 Глубина: 12 F1: 0.6023875114784206\n",
            "N estimators: 20 Глубина: 13 F1: 0.5833333333333334\n",
            "N estimators: 20 Глубина: 14 F1: 0.587138863000932\n",
            "N estimators: 20 Глубина: 15 F1: 0.5904761904761905\n",
            "N estimators: 20 Глубина: 16 F1: 0.5938697318007663\n",
            "N estimators: 20 Глубина: 17 F1: 0.5822306238185255\n",
            "N estimators: 20 Глубина: 18 F1: 0.5846153846153846\n",
            "N estimators: 20 Глубина: 19 F1: 0.5931034482758621\n",
            "N estimators: 22 Глубина: 10 F1: 0.5982905982905984\n",
            "N estimators: 22 Глубина: 11 F1: 0.5879017013232514\n",
            "N estimators: 22 Глубина: 12 F1: 0.6092592592592593\n",
            "N estimators: 22 Глубина: 13 F1: 0.5855940130963517\n",
            "N estimators: 22 Глубина: 14 F1: 0.5904404873477038\n",
            "N estimators: 22 Глубина: 15 F1: 0.5978987583572111\n",
            "N estimators: 22 Глубина: 16 F1: 0.596958174904943\n",
            "N estimators: 22 Глубина: 17 F1: 0.5852272727272727\n",
            "N estimators: 22 Глубина: 18 F1: 0.5895953757225433\n",
            "N estimators: 22 Глубина: 19 F1: 0.5958702064896756\n",
            "N estimators: 24 Глубина: 10 F1: 0.6043851286939943\n",
            "N estimators: 24 Глубина: 11 F1: 0.5870178739416744\n",
            "N estimators: 24 Глубина: 12 F1: 0.6018348623853211\n",
            "N estimators: 24 Глубина: 13 F1: 0.5845004668534081\n",
            "N estimators: 24 Глубина: 14 F1: 0.5883441258094356\n",
            "N estimators: 24 Глубина: 15 F1: 0.5962264150943396\n",
            "N estimators: 24 Глубина: 16 F1: 0.5910390848427074\n",
            "N estimators: 24 Глубина: 17 F1: 0.5877934272300469\n",
            "N estimators: 24 Глубина: 18 F1: 0.5853193517635844\n",
            "N estimators: 24 Глубина: 19 F1: 0.6060606060606061\n",
            "N estimators: 26 Глубина: 10 F1: 0.6075216972034715\n",
            "N estimators: 26 Глубина: 11 F1: 0.5962264150943396\n",
            "N estimators: 26 Глубина: 12 F1: 0.6046082949308756\n",
            "N estimators: 26 Глубина: 13 F1: 0.590566037735849\n",
            "N estimators: 26 Глубина: 14 F1: 0.5970149253731343\n",
            "N estimators: 26 Глубина: 15 F1: 0.5973534971644612\n",
            "N estimators: 26 Глубина: 16 F1: 0.5980769230769232\n",
            "N estimators: 26 Глубина: 17 F1: 0.5931558935361216\n",
            "N estimators: 26 Глубина: 18 F1: 0.5916030534351145\n",
            "N estimators: 26 Глубина: 19 F1: 0.6025768087215065\n",
            "N estimators: 28 Глубина: 10 F1: 0.6124401913875597\n",
            "N estimators: 28 Глубина: 11 F1: 0.598322460391426\n",
            "N estimators: 28 Глубина: 12 F1: 0.611111111111111\n",
            "N estimators: 28 Глубина: 13 F1: 0.5951035781544257\n",
            "N estimators: 28 Глубина: 14 F1: 0.6011342155009451\n",
            "N estimators: 28 Глубина: 15 F1: 0.5960637300843487\n",
            "N estimators: 28 Глубина: 16 F1: 0.5965909090909091\n",
            "N estimators: 28 Глубина: 17 F1: 0.5946969696969697\n",
            "N estimators: 28 Глубина: 18 F1: 0.587121212121212\n",
            "N estimators: 28 Глубина: 19 F1: 0.6027397260273972\n",
            "N estimators: 30 Глубина: 10 F1: 0.6061185468451242\n",
            "N estimators: 30 Глубина: 11 F1: 0.6030245746691871\n",
            "N estimators: 30 Глубина: 12 F1: 0.6093457943925233\n",
            "N estimators: 30 Глубина: 13 F1: 0.597918637653737\n",
            "N estimators: 30 Глубина: 14 F1: 0.6033834586466165\n",
            "N estimators: 30 Глубина: 15 F1: 0.6\n",
            "N estimators: 30 Глубина: 16 F1: 0.5916030534351145\n",
            "N estimators: 30 Глубина: 17 F1: 0.5920303605313093\n",
            "N estimators: 30 Глубина: 18 F1: 0.5830188679245283\n",
            "N estimators: 30 Глубина: 19 F1: 0.5994123408423115\n",
            "N estimators: 32 Глубина: 10 F1: 0.614354066985646\n",
            "N estimators: 32 Глубина: 11 F1: 0.6022514071294559\n",
            "N estimators: 32 Глубина: 12 F1: 0.6071428571428571\n",
            "N estimators: 32 Глубина: 13 F1: 0.5937794533459001\n",
            "N estimators: 32 Глубина: 14 F1: 0.600375234521576\n",
            "N estimators: 32 Глубина: 15 F1: 0.5943396226415095\n",
            "N estimators: 32 Глубина: 16 F1: 0.5927342256214149\n",
            "N estimators: 32 Глубина: 17 F1: 0.5933649289099527\n",
            "N estimators: 32 Глубина: 18 F1: 0.5885714285714285\n",
            "N estimators: 32 Глубина: 19 F1: 0.5957031250000001\n",
            "N estimators: 34 Глубина: 10 F1: 0.6115384615384616\n",
            "N estimators: 34 Глубина: 11 F1: 0.6032045240339302\n",
            "N estimators: 34 Глубина: 12 F1: 0.6050895381715363\n",
            "N estimators: 34 Глубина: 13 F1: 0.5986779981114259\n",
            "N estimators: 34 Глубина: 14 F1: 0.5957049486461251\n",
            "N estimators: 34 Глубина: 15 F1: 0.5960264900662252\n",
            "N estimators: 34 Глубина: 16 F1: 0.5967276227141483\n",
            "N estimators: 34 Глубина: 17 F1: 0.5909943714821764\n",
            "N estimators: 34 Глубина: 18 F1: 0.5849952516619182\n",
            "N estimators: 34 Глубина: 19 F1: 0.5964912280701754\n",
            "N estimators: 36 Глубина: 10 F1: 0.6177311725452812\n",
            "N estimators: 36 Глубина: 11 F1: 0.6022727272727273\n",
            "N estimators: 36 Глубина: 12 F1: 0.6045197740112994\n",
            "N estimators: 36 Глубина: 13 F1: 0.5990610328638497\n",
            "N estimators: 36 Глубина: 14 F1: 0.598322460391426\n",
            "N estimators: 36 Глубина: 15 F1: 0.5962264150943396\n",
            "N estimators: 36 Глубина: 16 F1: 0.5965583173996176\n",
            "N estimators: 36 Глубина: 17 F1: 0.5900094250706881\n",
            "N estimators: 36 Глубина: 18 F1: 0.5872259294566253\n",
            "N estimators: 36 Глубина: 19 F1: 0.599609375\n",
            "N estimators: 38 Глубина: 10 F1: 0.6165556612749763\n",
            "N estimators: 38 Глубина: 11 F1: 0.5975494816211121\n",
            "N estimators: 38 Глубина: 12 F1: 0.6117867165575305\n",
            "N estimators: 38 Глубина: 13 F1: 0.5996275605214152\n",
            "N estimators: 38 Глубина: 14 F1: 0.6000000000000001\n",
            "N estimators: 38 Глубина: 15 F1: 0.599250936329588\n",
            "N estimators: 38 Глубина: 16 F1: 0.5984703632887189\n",
            "N estimators: 38 Глубина: 17 F1: 0.585781990521327\n",
            "N estimators: 38 Глубина: 18 F1: 0.5913875598086125\n",
            "N estimators: 38 Глубина: 19 F1: 0.5984555984555984\n",
            "N estimators: 40 Глубина: 10 F1: 0.6175908221797323\n",
            "N estimators: 40 Глубина: 11 F1: 0.5954631379962193\n",
            "N estimators: 40 Глубина: 12 F1: 0.602996254681648\n",
            "N estimators: 40 Глубина: 13 F1: 0.5951492537313433\n",
            "N estimators: 40 Глубина: 14 F1: 0.5990697674418605\n",
            "N estimators: 40 Глубина: 15 F1: 0.599250936329588\n",
            "N estimators: 40 Глубина: 16 F1: 0.5998089780324738\n",
            "N estimators: 40 Глубина: 17 F1: 0.5956232159847764\n",
            "N estimators: 40 Глубина: 18 F1: 0.5850860420650096\n"
          ]
        },
        {
          "name": "stdout",
          "output_type": "stream",
          "text": [
            "N estimators: 40 Глубина: 19 F1: 0.597678916827853\n",
            "N estimators: 42 Глубина: 10 F1: 0.6153846153846154\n",
            "N estimators: 42 Глубина: 11 F1: 0.5982905982905984\n",
            "N estimators: 42 Глубина: 12 F1: 0.6048689138576779\n",
            "N estimators: 42 Глубина: 13 F1: 0.5949485500467726\n",
            "N estimators: 42 Глубина: 14 F1: 0.5984990619136962\n",
            "N estimators: 42 Глубина: 15 F1: 0.6026365348399246\n",
            "N estimators: 42 Глубина: 16 F1: 0.6\n",
            "N estimators: 42 Глубина: 17 F1: 0.5980952380952381\n",
            "N estimators: 42 Глубина: 18 F1: 0.5830959164292498\n",
            "N estimators: 42 Глубина: 19 F1: 0.6\n",
            "N estimators: 44 Глубина: 10 F1: 0.6153846153846154\n",
            "N estimators: 44 Глубина: 11 F1: 0.6020892687559354\n",
            "N estimators: 44 Глубина: 12 F1: 0.6134852801519468\n",
            "N estimators: 44 Глубина: 13 F1: 0.599250936329588\n",
            "N estimators: 44 Глубина: 14 F1: 0.5975494816211121\n",
            "N estimators: 44 Глубина: 15 F1: 0.6045197740112994\n",
            "N estimators: 44 Глубина: 16 F1: 0.5935114503816795\n",
            "N estimators: 44 Глубина: 17 F1: 0.5950570342205324\n",
            "N estimators: 44 Глубина: 18 F1: 0.5816808309726157\n",
            "N estimators: 44 Глубина: 19 F1: 0.6015473887814313\n",
            "N estimators: 46 Глубина: 10 F1: 0.6170009551098377\n",
            "N estimators: 46 Глубина: 11 F1: 0.6068702290076335\n",
            "N estimators: 46 Глубина: 12 F1: 0.6065727699530515\n",
            "N estimators: 46 Глубина: 13 F1: 0.5953488372093023\n",
            "N estimators: 46 Глубина: 14 F1: 0.6049149338374292\n",
            "N estimators: 46 Глубина: 15 F1: 0.5988700564971751\n",
            "N estimators: 46 Глубина: 16 F1: 0.6022944550669216\n",
            "N estimators: 46 Глубина: 17 F1: 0.6003824091778203\n",
            "N estimators: 46 Глубина: 18 F1: 0.585781990521327\n",
            "N estimators: 46 Глубина: 19 F1: 0.5998071359691417\n",
            "N estimators: 48 Глубина: 10 F1: 0.6139180171591992\n",
            "N estimators: 48 Глубина: 11 F1: 0.6064638783269963\n",
            "N estimators: 48 Глубина: 12 F1: 0.6046511627906976\n",
            "N estimators: 48 Глубина: 13 F1: 0.5992578849721707\n",
            "N estimators: 48 Глубина: 14 F1: 0.6013195098963242\n",
            "N estimators: 48 Глубина: 15 F1: 0.5994344957587183\n",
            "N estimators: 48 Глубина: 16 F1: 0.6057142857142856\n",
            "N estimators: 48 Глубина: 17 F1: 0.5977011494252874\n",
            "N estimators: 48 Глубина: 18 F1: 0.5873465533522191\n",
            "N estimators: 48 Глубина: 19 F1: 0.6007751937984496\n",
            "Лучшая F-мера 0.6177311725452812 при глубине = 10 и количестве деревьев = 36\n",
            "CPU times: user 22.5 s, sys: 221 ms, total: 22.7 s\n",
            "Wall time: 22.9 s\n"
          ]
        }
      ],
      "source": [
        "%%time\n",
        "\n",
        "best_model_rf_downsample = None\n",
        "best_result_downsample = 0\n",
        "best_depth_downsample = 0\n",
        "best_est_downsample = 0\n",
        "\n",
        "for estimator in range(10, 50, 2):\n",
        "    for depth in range(10, 20):\n",
        "        model_rf_downsample =  RandomForestClassifier(random_state=12345, n_estimators=estimator,\n",
        "                                                   max_depth = depth)\n",
        "        model_rf_downsample.fit(features_downsampled, target_downsampled)\n",
        "        predicted_valid = model_rf_downsample.predict(features_valid)\n",
        "        print('N estimators:', estimator, 'Глубина:', depth, 'F1:', f1_score(target_valid, predicted_valid))\n",
        "        result = f1_score(target_valid, predicted_valid)\n",
        "\n",
        "        if result > best_result_downsample:\n",
        "            best_model_rf_downsample = model_rf_downsample\n",
        "            best_result_downsample = result\n",
        "            best_depth_downsample = depth\n",
        "            best_est_downsample = estimator\n",
        "\n",
        "print(\"Лучшая F-мера\", best_result_downsample, 'при глубине = {0} и количестве деревьев = {1}'.format(best_depth_downsample,\n",
        "                                                                                           best_est_downsample))"
      ]
    },
    {
      "cell_type": "markdown",
      "metadata": {
        "id": "AfnDkhUs4JAt"
      },
      "source": [
        "**Вывод:** С помощью downsample удалось повысить показатели f1-меры для случайного дерева, но лучший показатель остался при upsample в случайном лесе, гиперпараметры - глубина = 11 и количество деревьев = 42"
      ]
    },
    {
      "cell_type": "markdown",
      "metadata": {
        "id": "_AVAajJY4JAt"
      },
      "source": [
        "Выведем ROC-кривую и AUC-ROC лучшей модели."
      ]
    },
    {
      "cell_type": "code",
      "execution_count": null,
      "metadata": {
        "id": "nHeBZu0R4JAt",
        "outputId": "312e4a79-258f-42d2-97b9-b09bb522da56"
      },
      "outputs": [
        {
          "name": "stdout",
          "output_type": "stream",
          "text": [
            "AUC-ROC RandomForestClassifier 0.7927335821263178\n"
          ]
        },
        {
          "data": {
            "image/png": "[encoded data removed]",
            "text/plain": [
              "<Figure size 864x648 with 1 Axes>"
            ]
          },
          "metadata": {
            "needs_background": "light"
          },
          "output_type": "display_data"
        }
      ],
      "source": [
        "plt.figure(figsize=[12,9])\n",
        "\n",
        "plt.plot([0, 1], [0, 1], linestyle='--', label='RandomModel')\n",
        "\n",
        "model_rf_upsample =  RandomForestClassifier(random_state=12345, n_estimators=42,\n",
        "                                                   max_depth = 11)\n",
        "model_rf_upsample.fit(features_upsampled, target_upsampled)\n",
        "predicted_valid = model_rf_upsample.predict(features_valid)\n",
        "probabilities_valid = model.predict_proba(features_valid)\n",
        "probabilities_one_valid = probabilities_valid[:, 1]\n",
        "fpr, tpr, thresholds = roc_curve(target_valid, probabilities_one_valid)\n",
        "auc_roc = roc_auc_score(target_valid, probabilities_one_valid)\n",
        "print('AUC-ROC RandomForestClassifier',auc_roc)\n",
        "plt.plot(fpr, tpr, label='RandomForestClassifier')\n",
        "\n",
        "plt.xlim([0,1])\n",
        "plt.ylim([0,1])\n",
        "\n",
        "plt.xlabel(\"False Positive Rate\")\n",
        "plt.ylabel(\"True Positive Rate\")\n",
        "\n",
        "plt.legend(loc='lower right', fontsize='x-large')\n",
        "\n",
        "plt.title(\"ROC-кривая\")\n",
        "plt.show()"
      ]
    },
    {
      "cell_type": "markdown",
      "metadata": {
        "id": "7LFH1htK4JAu"
      },
      "source": [
        "## Тестирование модели"
      ]
    },
    {
      "cell_type": "code",
      "execution_count": null,
      "metadata": {
        "id": "Gz_q43FD4JAu"
      },
      "outputs": [],
      "source": [
        "features_upsampled, target_upsampled = upsample(features_train, target_train, 4)"
      ]
    },
    {
      "cell_type": "code",
      "execution_count": null,
      "metadata": {
        "id": "2IOcf1xs4JAu",
        "outputId": "e9981f5d-57cc-44fd-d77f-b860b0b9e29c"
      },
      "outputs": [
        {
          "data": {
            "text/plain": [
              "0.5974625144175317"
            ]
          },
          "execution_count": 35,
          "metadata": {},
          "output_type": "execute_result"
        }
      ],
      "source": [
        "model = RandomForestClassifier(random_state=12345, n_estimators=42,\n",
        "                                                   max_depth = 11)\n",
        "model.fit(features_upsampled, target_upsampled)\n",
        "predicted_test = model.predict(features_test)\n",
        "f1_score(target_test, predicted_test)"
      ]
    },
    {
      "cell_type": "markdown",
      "metadata": {
        "id": "X25skwpY4JAv"
      },
      "source": [
        "**Вывод**\n",
        "\n",
        "1. Изучил и подготовил данные. Заполнил пропуски, изменил названия столбцов, привел к нужному типу данныых. Два класса целевой переменной оказались не сбалансированы (соотношение 20 на 80).\n",
        "2. Разбил данные на тренировочную, валидационную и тестовую выборки.\n",
        "3. Проверил модели на данных без балансировки целевой переменной.\n",
        "4. Сбалансировал классы разынми способами и протестил на моделях.\n",
        "5. Получил улучшенную модель. Выделил гиперпараметры с лучшей f1-мерой.\n",
        "6. Провёл тест на тестовой выборке, получил результат f1-меры больше 0,59.\n",
        "\n",
        "Обученная модель случайного леса с увеличением выборки имеет достаточную адекватность, подтвержденная ее значением AUC-ROC более 0.79. Это лучше, чем случайная модель предсказывания (AUC-ROC = 0.5). На тестовой выборке показала значение F-меры - 0.59, что соответствует требованиям проекта."
      ]
    }
  ],
  "metadata": {
    "ExecuteTimeLog": [
      {
        "duration": 88,
        "start_time": "2022-12-13T14:45:30.961Z"
      },
      {
        "duration": 1600,
        "start_time": "2022-12-13T14:45:33.838Z"
      },
      {
        "duration": 241,
        "start_time": "2022-12-13T14:46:32.107Z"
      },
      {
        "duration": 10,
        "start_time": "2022-12-13T14:53:45.345Z"
      },
      {
        "duration": 1620,
        "start_time": "2022-12-13T14:54:13.408Z"
      },
      {
        "duration": 9,
        "start_time": "2022-12-13T14:54:26.574Z"
      },
      {
        "duration": 4,
        "start_time": "2022-12-13T14:58:16.327Z"
      },
      {
        "duration": 5,
        "start_time": "2022-12-13T14:58:21.383Z"
      },
      {
        "duration": 5,
        "start_time": "2022-12-13T14:58:25.813Z"
      },
      {
        "duration": 5,
        "start_time": "2022-12-13T14:58:30.450Z"
      },
      {
        "duration": 9,
        "start_time": "2022-12-13T14:59:27.217Z"
      },
      {
        "duration": 5,
        "start_time": "2022-12-13T14:59:32.468Z"
      },
      {
        "duration": 10,
        "start_time": "2022-12-13T15:02:11.417Z"
      },
      {
        "duration": 5,
        "start_time": "2022-12-13T15:02:17.793Z"
      },
      {
        "duration": 9,
        "start_time": "2022-12-13T15:05:10.862Z"
      },
      {
        "duration": 13,
        "start_time": "2022-12-13T15:05:15.864Z"
      },
      {
        "duration": 10,
        "start_time": "2022-12-13T15:05:23.538Z"
      },
      {
        "duration": 5,
        "start_time": "2022-12-13T15:13:17.203Z"
      },
      {
        "duration": 5,
        "start_time": "2022-12-13T15:13:27.716Z"
      },
      {
        "duration": 9,
        "start_time": "2022-12-13T15:13:53.280Z"
      },
      {
        "duration": 6,
        "start_time": "2022-12-13T15:14:00.005Z"
      },
      {
        "duration": 6,
        "start_time": "2022-12-13T15:14:10.947Z"
      },
      {
        "duration": 1397,
        "start_time": "2022-12-13T15:14:54.736Z"
      },
      {
        "duration": 1410,
        "start_time": "2022-12-13T15:15:05.546Z"
      },
      {
        "duration": 1263,
        "start_time": "2022-12-13T15:24:38.546Z"
      },
      {
        "duration": 5,
        "start_time": "2022-12-13T15:25:04.895Z"
      },
      {
        "duration": 10,
        "start_time": "2022-12-13T15:25:07.968Z"
      },
      {
        "duration": 5,
        "start_time": "2022-12-13T15:25:13.208Z"
      },
      {
        "duration": 3,
        "start_time": "2022-12-13T15:25:15.539Z"
      },
      {
        "duration": 1345,
        "start_time": "2022-12-13T15:25:28.977Z"
      },
      {
        "duration": 5,
        "start_time": "2022-12-13T15:25:34.598Z"
      },
      {
        "duration": 4,
        "start_time": "2022-12-13T15:25:41.495Z"
      },
      {
        "duration": 9,
        "start_time": "2022-12-13T15:26:28.147Z"
      },
      {
        "duration": 2065,
        "start_time": "2022-12-13T15:26:32.975Z"
      },
      {
        "duration": 4,
        "start_time": "2022-12-13T15:27:06.409Z"
      },
      {
        "duration": 2083,
        "start_time": "2022-12-13T15:29:00.062Z"
      },
      {
        "duration": 2120,
        "start_time": "2022-12-13T15:29:12.523Z"
      },
      {
        "duration": 13,
        "start_time": "2022-12-13T15:36:14.011Z"
      },
      {
        "duration": 16,
        "start_time": "2022-12-13T15:36:20.014Z"
      },
      {
        "duration": 10,
        "start_time": "2022-12-13T15:36:53.508Z"
      },
      {
        "duration": 198,
        "start_time": "2022-12-13T15:37:05.911Z"
      },
      {
        "duration": 9,
        "start_time": "2022-12-13T15:41:33.560Z"
      },
      {
        "duration": 3,
        "start_time": "2022-12-13T15:41:37.307Z"
      },
      {
        "duration": 16,
        "start_time": "2022-12-13T15:42:40.913Z"
      },
      {
        "duration": 17,
        "start_time": "2022-12-13T15:42:46.707Z"
      },
      {
        "duration": 5,
        "start_time": "2022-12-13T15:42:52.307Z"
      },
      {
        "duration": 10,
        "start_time": "2022-12-13T15:44:08.025Z"
      },
      {
        "duration": 9,
        "start_time": "2022-12-13T15:44:20.710Z"
      },
      {
        "duration": 4,
        "start_time": "2022-12-13T15:44:21.772Z"
      },
      {
        "duration": 7,
        "start_time": "2022-12-13T15:44:34.397Z"
      },
      {
        "duration": 4,
        "start_time": "2022-12-13T15:44:44.017Z"
      },
      {
        "duration": 8,
        "start_time": "2022-12-13T16:45:58.027Z"
      },
      {
        "duration": 5,
        "start_time": "2022-12-13T16:50:37.144Z"
      },
      {
        "duration": 39,
        "start_time": "2022-12-13T16:51:02.949Z"
      },
      {
        "duration": 5,
        "start_time": "2022-12-13T16:51:28.511Z"
      },
      {
        "duration": 26,
        "start_time": "2022-12-13T16:51:32.894Z"
      },
      {
        "duration": 25,
        "start_time": "2022-12-13T16:51:39.046Z"
      },
      {
        "duration": 6,
        "start_time": "2022-12-13T16:51:39.778Z"
      },
      {
        "duration": 85,
        "start_time": "2022-12-13T17:54:16.200Z"
      },
      {
        "duration": 24,
        "start_time": "2022-12-13T17:54:21.937Z"
      },
      {
        "duration": 138,
        "start_time": "2022-12-13T17:54:37.540Z"
      },
      {
        "duration": 70,
        "start_time": "2022-12-13T17:57:31.129Z"
      },
      {
        "duration": 778,
        "start_time": "2022-12-13T17:58:03.330Z"
      },
      {
        "duration": 70,
        "start_time": "2022-12-13T17:58:33.508Z"
      },
      {
        "duration": 76,
        "start_time": "2022-12-13T17:59:53.608Z"
      },
      {
        "duration": 39487,
        "start_time": "2022-12-13T17:59:57.958Z"
      },
      {
        "duration": 331,
        "start_time": "2022-12-13T18:02:06.223Z"
      },
      {
        "duration": 6,
        "start_time": "2022-12-13T18:02:43.957Z"
      },
      {
        "duration": 375,
        "start_time": "2022-12-13T18:02:48.154Z"
      },
      {
        "duration": 375,
        "start_time": "2022-12-13T18:29:48.108Z"
      },
      {
        "duration": 165,
        "start_time": "2022-12-13T18:31:39.019Z"
      },
      {
        "duration": 469,
        "start_time": "2022-12-13T18:32:42.949Z"
      },
      {
        "duration": 40783,
        "start_time": "2022-12-13T18:36:09.329Z"
      },
      {
        "duration": 78,
        "start_time": "2022-12-13T18:43:57.262Z"
      },
      {
        "duration": 19,
        "start_time": "2022-12-13T18:47:12.311Z"
      },
      {
        "duration": 17,
        "start_time": "2022-12-13T18:47:18.175Z"
      },
      {
        "duration": 77,
        "start_time": "2022-12-13T18:47:38.768Z"
      },
      {
        "duration": 79,
        "start_time": "2022-12-13T18:48:29.605Z"
      },
      {
        "duration": 286,
        "start_time": "2022-12-13T18:48:36.400Z"
      },
      {
        "duration": 563,
        "start_time": "2022-12-13T18:48:43.067Z"
      },
      {
        "duration": 205241,
        "start_time": "2022-12-13T18:48:54.503Z"
      },
      {
        "duration": 53870,
        "start_time": "2022-12-13T18:54:59.436Z"
      },
      {
        "duration": 62,
        "start_time": "2022-12-14T13:37:19.749Z"
      },
      {
        "duration": 1537,
        "start_time": "2022-12-14T13:38:02.867Z"
      },
      {
        "duration": 103,
        "start_time": "2022-12-14T13:38:04.406Z"
      },
      {
        "duration": 4,
        "start_time": "2022-12-14T13:38:04.511Z"
      },
      {
        "duration": 22,
        "start_time": "2022-12-14T13:38:04.517Z"
      },
      {
        "duration": 42,
        "start_time": "2022-12-14T13:38:04.542Z"
      },
      {
        "duration": 5,
        "start_time": "2022-12-14T13:38:04.586Z"
      },
      {
        "duration": 2397,
        "start_time": "2022-12-14T13:38:04.592Z"
      },
      {
        "duration": 15,
        "start_time": "2022-12-14T13:38:06.992Z"
      },
      {
        "duration": 22,
        "start_time": "2022-12-14T13:38:07.009Z"
      },
      {
        "duration": 5,
        "start_time": "2022-12-14T13:38:07.033Z"
      },
      {
        "duration": 9,
        "start_time": "2022-12-14T13:38:07.040Z"
      },
      {
        "duration": 13,
        "start_time": "2022-12-14T13:38:07.051Z"
      },
      {
        "duration": 12,
        "start_time": "2022-12-14T13:38:07.066Z"
      },
      {
        "duration": 10,
        "start_time": "2022-12-14T13:38:07.081Z"
      },
      {
        "duration": 17,
        "start_time": "2022-12-14T13:38:07.093Z"
      },
      {
        "duration": 38,
        "start_time": "2022-12-14T13:38:07.112Z"
      },
      {
        "duration": 8,
        "start_time": "2022-12-14T13:38:07.152Z"
      },
      {
        "duration": 376,
        "start_time": "2022-12-14T13:38:07.161Z"
      },
      {
        "duration": 959,
        "start_time": "2022-12-14T13:38:07.539Z"
      },
      {
        "duration": 42304,
        "start_time": "2022-12-14T13:38:08.500Z"
      },
      {
        "duration": 722,
        "start_time": "2022-12-14T13:38:50.807Z"
      },
      {
        "duration": 605,
        "start_time": "2022-12-14T13:38:51.531Z"
      },
      {
        "duration": 585,
        "start_time": "2022-12-14T13:38:52.139Z"
      },
      {
        "duration": 43163,
        "start_time": "2022-12-14T13:38:52.726Z"
      },
      {
        "duration": 15,
        "start_time": "2022-12-14T13:39:35.891Z"
      },
      {
        "duration": 334,
        "start_time": "2022-12-14T13:39:35.908Z"
      },
      {
        "duration": 744,
        "start_time": "2022-12-14T13:39:36.245Z"
      },
      {
        "duration": 58150,
        "start_time": "2022-12-14T13:39:36.991Z"
      },
      {
        "duration": 136,
        "start_time": "2022-12-14T13:40:35.143Z"
      },
      {
        "duration": 17,
        "start_time": "2022-12-14T13:41:00.371Z"
      },
      {
        "duration": 623,
        "start_time": "2022-12-14T13:42:41.825Z"
      },
      {
        "duration": 61,
        "start_time": "2022-12-14T13:43:03.297Z"
      },
      {
        "duration": 278,
        "start_time": "2022-12-14T13:43:11.866Z"
      },
      {
        "duration": 67,
        "start_time": "2022-12-14T13:43:30.280Z"
      },
      {
        "duration": 1404,
        "start_time": "2022-12-14T13:44:44.378Z"
      },
      {
        "duration": 54,
        "start_time": "2022-12-14T13:44:45.785Z"
      },
      {
        "duration": 4,
        "start_time": "2022-12-14T13:44:45.841Z"
      },
      {
        "duration": 10,
        "start_time": "2022-12-14T13:44:45.846Z"
      },
      {
        "duration": 22,
        "start_time": "2022-12-14T13:44:45.858Z"
      },
      {
        "duration": 5,
        "start_time": "2022-12-14T13:44:45.881Z"
      },
      {
        "duration": 2421,
        "start_time": "2022-12-14T13:44:45.888Z"
      },
      {
        "duration": 17,
        "start_time": "2022-12-14T13:44:48.311Z"
      },
      {
        "duration": 37,
        "start_time": "2022-12-14T13:44:48.330Z"
      },
      {
        "duration": 5,
        "start_time": "2022-12-14T13:44:48.368Z"
      },
      {
        "duration": 12,
        "start_time": "2022-12-14T13:44:48.376Z"
      },
      {
        "duration": 26,
        "start_time": "2022-12-14T13:44:48.390Z"
      },
      {
        "duration": 4,
        "start_time": "2022-12-14T13:44:48.419Z"
      },
      {
        "duration": 18,
        "start_time": "2022-12-14T13:44:48.426Z"
      },
      {
        "duration": 13,
        "start_time": "2022-12-14T13:44:48.446Z"
      },
      {
        "duration": 44,
        "start_time": "2022-12-14T13:44:48.461Z"
      },
      {
        "duration": 9,
        "start_time": "2022-12-14T13:44:48.507Z"
      },
      {
        "duration": 128,
        "start_time": "2022-12-14T13:44:48.518Z"
      },
      {
        "duration": 1088,
        "start_time": "2022-12-14T13:44:48.648Z"
      },
      {
        "duration": 46700,
        "start_time": "2022-12-14T13:44:49.738Z"
      },
      {
        "duration": 1563,
        "start_time": "2022-12-14T13:45:36.440Z"
      },
      {
        "duration": 343,
        "start_time": "2022-12-14T13:45:38.006Z"
      },
      {
        "duration": 801,
        "start_time": "2022-12-14T13:45:38.353Z"
      },
      {
        "duration": 47092,
        "start_time": "2022-12-14T13:45:39.157Z"
      },
      {
        "duration": 14,
        "start_time": "2022-12-14T13:46:26.251Z"
      },
      {
        "duration": 279,
        "start_time": "2022-12-14T13:46:26.267Z"
      },
      {
        "duration": 671,
        "start_time": "2022-12-14T13:46:26.636Z"
      },
      {
        "duration": 58919,
        "start_time": "2022-12-14T13:46:27.309Z"
      },
      {
        "duration": 16,
        "start_time": "2022-12-14T13:47:26.229Z"
      },
      {
        "duration": 294,
        "start_time": "2022-12-14T13:47:26.247Z"
      },
      {
        "duration": 302,
        "start_time": "2022-12-14T13:47:26.634Z"
      },
      {
        "duration": 23521,
        "start_time": "2022-12-14T13:47:26.938Z"
      },
      {
        "duration": 743,
        "start_time": "2022-12-14T13:54:08.752Z"
      },
      {
        "duration": 10,
        "start_time": "2022-12-14T13:59:14.727Z"
      },
      {
        "duration": 379,
        "start_time": "2022-12-14T13:59:39.917Z"
      },
      {
        "duration": 1448,
        "start_time": "2022-12-14T14:11:01.558Z"
      },
      {
        "duration": 53,
        "start_time": "2022-12-14T14:11:03.008Z"
      },
      {
        "duration": 3,
        "start_time": "2022-12-14T14:11:03.063Z"
      },
      {
        "duration": 15,
        "start_time": "2022-12-14T14:11:03.068Z"
      },
      {
        "duration": 25,
        "start_time": "2022-12-14T14:11:03.085Z"
      },
      {
        "duration": 9,
        "start_time": "2022-12-14T14:11:03.112Z"
      },
      {
        "duration": 2314,
        "start_time": "2022-12-14T14:11:03.123Z"
      },
      {
        "duration": 16,
        "start_time": "2022-12-14T14:11:05.439Z"
      },
      {
        "duration": 31,
        "start_time": "2022-12-14T14:11:05.456Z"
      },
      {
        "duration": 3,
        "start_time": "2022-12-14T14:11:05.490Z"
      },
      {
        "duration": 13,
        "start_time": "2022-12-14T14:11:05.495Z"
      },
      {
        "duration": 21,
        "start_time": "2022-12-14T14:11:05.510Z"
      },
      {
        "duration": 9,
        "start_time": "2022-12-14T14:11:05.533Z"
      },
      {
        "duration": 14,
        "start_time": "2022-12-14T14:11:05.543Z"
      },
      {
        "duration": 9,
        "start_time": "2022-12-14T14:11:05.559Z"
      },
      {
        "duration": 36,
        "start_time": "2022-12-14T14:11:05.570Z"
      },
      {
        "duration": 7,
        "start_time": "2022-12-14T14:11:05.608Z"
      },
      {
        "duration": 224,
        "start_time": "2022-12-14T14:11:05.617Z"
      },
      {
        "duration": 1058,
        "start_time": "2022-12-14T14:11:05.843Z"
      },
      {
        "duration": 41752,
        "start_time": "2022-12-14T14:11:06.903Z"
      },
      {
        "duration": 578,
        "start_time": "2022-12-14T14:11:48.657Z"
      },
      {
        "duration": 204,
        "start_time": "2022-12-14T14:11:49.237Z"
      },
      {
        "duration": 596,
        "start_time": "2022-12-14T14:11:49.443Z"
      },
      {
        "duration": 41447,
        "start_time": "2022-12-14T14:11:50.041Z"
      },
      {
        "duration": 14,
        "start_time": "2022-12-14T14:12:31.489Z"
      },
      {
        "duration": 433,
        "start_time": "2022-12-14T14:12:31.505Z"
      },
      {
        "duration": 763,
        "start_time": "2022-12-14T14:12:31.940Z"
      },
      {
        "duration": 56457,
        "start_time": "2022-12-14T14:12:32.707Z"
      },
      {
        "duration": 14,
        "start_time": "2022-12-14T14:13:29.166Z"
      },
      {
        "duration": 253,
        "start_time": "2022-12-14T14:13:29.181Z"
      },
      {
        "duration": 271,
        "start_time": "2022-12-14T14:13:29.437Z"
      },
      {
        "duration": 22906,
        "start_time": "2022-12-14T14:13:29.710Z"
      },
      {
        "duration": 658,
        "start_time": "2022-12-14T14:13:52.617Z"
      },
      {
        "duration": 9,
        "start_time": "2022-12-14T14:13:53.277Z"
      },
      {
        "duration": 348,
        "start_time": "2022-12-14T14:13:53.287Z"
      },
      {
        "duration": 74,
        "start_time": "2022-12-14T21:22:10.503Z"
      },
      {
        "duration": 79,
        "start_time": "2022-12-18T12:43:43.841Z"
      }
    ],
    "kernelspec": {
      "display_name": "Python 3 (ipykernel)",
      "language": "python",
      "name": "python3"
    },
    "language_info": {
      "codemirror_mode": {
        "name": "ipython",
        "version": 3
      },
      "file_extension": ".py",
      "mimetype": "text/x-python",
      "name": "python",
      "nbconvert_exporter": "python",
      "pygments_lexer": "ipython3",
      "version": "3.9.5"
    },
    "toc": {
      "base_numbering": 1,
      "nav_menu": {},
      "number_sections": true,
      "sideBar": true,
      "skip_h1_title": true,
      "title_cell": "Содержание",
      "title_sidebar": "Contents",
      "toc_cell": true,
      "toc_position": {
        "height": "calc(100% - 180px)",
        "left": "10px",
        "top": "150px",
        "width": "366.188px"
      },
      "toc_section_display": true,
      "toc_window_display": true
    },
    "colab": {
      "provenance": []
    }
  },
  "nbformat": 4,
  "nbformat_minor": 0
}