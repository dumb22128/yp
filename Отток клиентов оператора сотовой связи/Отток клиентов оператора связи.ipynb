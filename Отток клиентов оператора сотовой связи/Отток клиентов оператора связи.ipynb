{
  "cells": [
    {
      "cell_type": "markdown",
      "metadata": {
        "id": "iC_Tx2BJ47VK"
      },
      "source": [
        "# План проекта"
      ]
    },
    {
      "cell_type": "markdown",
      "metadata": {
        "id": "Oux8H5xU47VL"
      },
      "source": [
        "### Название и описание проекта"
      ]
    },
    {
      "cell_type": "markdown",
      "metadata": {
        "id": "PsLiYovX47VL"
      },
      "source": [
        "# Телеком — задача проекта\n",
        "\n",
        "Оператор связи «Ниединогоразрыва.ком» хочет научиться прогнозировать отток клиентов. Если выяснится, что пользователь планирует уйти, ему будут предложены промокоды и специальные условия. Команда оператора собрала персональные данные о некоторых клиентах, информацию об их тарифах и договорах."
      ]
    },
    {
      "cell_type": "markdown",
      "metadata": {
        "id": "ippOlMXU47VL"
      },
      "source": [
        "**Описание услуг**\n",
        "\n",
        "Оператор предоставляет два основных типа услуг:\n",
        "\n",
        "1. Стационарную телефонную связь. Возможно подключение телефонного аппарата к нескольким линиям одновременно.\n",
        "2. Интернет. Подключение может быть двух типов: через телефонную линию (DSL*,* от англ. *digital subscriber line*, «цифровая абонентская линия») или оптоволоконный кабель (*Fiber optic*)."
      ]
    },
    {
      "cell_type": "markdown",
      "metadata": {
        "id": "WIKgGKwJ47VL"
      },
      "source": [
        "Также доступны такие услуги:\n",
        "\n",
        "- Интернет-безопасность: антивирус (*DeviceProtection*) и блокировка небезопасных сайтов (*OnlineSecurity*);\n",
        "- Выделенная линия технической поддержки (*TechSupport*);\n",
        "- Облачное хранилище файлов для резервного копирования данных (*OnlineBackup*);\n",
        "- Стриминговое телевидение (*StreamingTV*) и каталог фильмов (*StreamingMovies*)."
      ]
    },
    {
      "cell_type": "markdown",
      "metadata": {
        "id": "q3VPea7P47VL"
      },
      "source": [
        "а услуги клиенты могут платить каждый месяц или заключить договор на 1–2 года. Доступны различные способы расчёта и возможность получения электронного чека.\n",
        "\n",
        "**Описание данных**\n",
        "\n",
        "Данные состоят из файлов, полученных из разных источников:\n",
        "\n",
        "- `contract_new.csv` — информация о договоре;\n",
        "- `personal_new.csv` — персональные данные клиента;\n",
        "- `internet_new.csv` — информация об интернет-услугах;\n",
        "- `phone_new.csv` — информация об услугах телефонии.\n",
        "\n",
        "Во всех файлах столбец `customerID` содержит код клиента.\n",
        "\n",
        "Информация о договорах актуальна на 1 февраля 2020."
      ]
    },
    {
      "cell_type": "markdown",
      "metadata": {
        "id": "sOIPd67N47VM"
      },
      "source": [
        "### Загрузка данных"
      ]
    },
    {
      "cell_type": "markdown",
      "metadata": {
        "id": "F5t73LXk47VM"
      },
      "source": [
        "**Загрузка необходимых библиотек и модулей:** Производим не с помощью конструкции try/expect, по причине выполнения работы во встроенном юпитере практикума."
      ]
    },
    {
      "cell_type": "code",
      "execution_count": null,
      "metadata": {
        "id": "rqDnYQIR47VM"
      },
      "outputs": [],
      "source": [
        "import pandas as pd\n",
        "import numpy as np\n",
        "import seaborn as sns\n",
        "import matplotlib.pyplot as plt\n",
        "from sklearn.preprocessing import StandardScaler\n",
        "from sklearn.metrics import precision_score, recall_score, accuracy_score, f1_score, confusion_matrix, roc_curve, roc_auc_score # выгружаю дополнительные с заделом на будущее\n",
        "from sklearn.linear_model import LogisticRegression\n",
        "from sklearn.model_selection import train_test_split\n",
        "import lightgbm as lgb\n",
        "from catboost import CatBoostClassifier\n",
        "from datetime import datetime\n",
        "from sklearn.model_selection import GridSearchCV\n",
        "from sklearn.preprocessing import OneHotEncoder"
      ]
    },
    {
      "cell_type": "markdown",
      "metadata": {
        "id": "py1hHcpr47VN"
      },
      "source": [
        "**Выгрузка данных датасетов:**"
      ]
    },
    {
      "cell_type": "code",
      "execution_count": null,
      "metadata": {
        "id": "oM4DK6U347VN"
      },
      "outputs": [],
      "source": [
        "contract = pd.read_csv('/datasets/contract_new.csv')\n",
        "personal = pd.read_csv('/datasets/personal_new.csv')\n",
        "internet = pd.read_csv('/datasets/internet_new.csv')\n",
        "phone = pd.read_csv('/datasets/phone_new.csv')"
      ]
    },
    {
      "cell_type": "markdown",
      "metadata": {
        "id": "UT0o0egZ47VN"
      },
      "source": [
        "Как описано в условии датасеты содержат следующую информацию:\n",
        "- `contract_new.csv` — информация о договоре;\n",
        "- `personal_new.csv` — персональные данные клиента;\n",
        "- `internet_new.csv` — информация об интернет-услугах;\n",
        "- `phone_new.csv` — информация об услугах телефонии.\n",
        "\n",
        "Следовательно, на первом этапе надо бы изучить каждый из них, понять какие столбцы храняться и какую полезную информацию (в том числе и для дальнейшего обучения) мы можем из них получить"
      ]
    },
    {
      "cell_type": "markdown",
      "metadata": {
        "id": "7cMby0cR47VN"
      },
      "source": [
        "### Исследование каждого датафрейма"
      ]
    },
    {
      "cell_type": "markdown",
      "metadata": {
        "id": "5POMxtSs47VN"
      },
      "source": [
        "#### Датафрейм contract"
      ]
    },
    {
      "cell_type": "code",
      "execution_count": null,
      "metadata": {
        "id": "Sp52Nzbs47VO",
        "outputId": "99329d0f-5383-4914-ea81-1fa200033bc7"
      },
      "outputs": [
        {
          "data": {
            "text/html": [
              "<div>\n",
              "<style scoped>\n",
              "    .dataframe tbody tr th:only-of-type {\n",
              "        vertical-align: middle;\n",
              "    }\n",
              "\n",
              "    .dataframe tbody tr th {\n",
              "        vertical-align: top;\n",
              "    }\n",
              "\n",
              "    .dataframe thead th {\n",
              "        text-align: right;\n",
              "    }\n",
              "</style>\n",
              "<table border=\"1\" class=\"dataframe\">\n",
              "  <thead>\n",
              "    <tr style=\"text-align: right;\">\n",
              "      <th></th>\n",
              "      <th>customerID</th>\n",
              "      <th>BeginDate</th>\n",
              "      <th>EndDate</th>\n",
              "      <th>Type</th>\n",
              "      <th>PaperlessBilling</th>\n",
              "      <th>PaymentMethod</th>\n",
              "      <th>MonthlyCharges</th>\n",
              "      <th>TotalCharges</th>\n",
              "    </tr>\n",
              "  </thead>\n",
              "  <tbody>\n",
              "    <tr>\n",
              "      <th>0</th>\n",
              "      <td>7590-VHVEG</td>\n",
              "      <td>2020-01-01</td>\n",
              "      <td>No</td>\n",
              "      <td>Month-to-month</td>\n",
              "      <td>Yes</td>\n",
              "      <td>Electronic check</td>\n",
              "      <td>29.85</td>\n",
              "      <td>31.04</td>\n",
              "    </tr>\n",
              "    <tr>\n",
              "      <th>1</th>\n",
              "      <td>5575-GNVDE</td>\n",
              "      <td>2017-04-01</td>\n",
              "      <td>No</td>\n",
              "      <td>One year</td>\n",
              "      <td>No</td>\n",
              "      <td>Mailed check</td>\n",
              "      <td>56.95</td>\n",
              "      <td>2071.84</td>\n",
              "    </tr>\n",
              "    <tr>\n",
              "      <th>2</th>\n",
              "      <td>3668-QPYBK</td>\n",
              "      <td>2019-10-01</td>\n",
              "      <td>No</td>\n",
              "      <td>Month-to-month</td>\n",
              "      <td>Yes</td>\n",
              "      <td>Mailed check</td>\n",
              "      <td>53.85</td>\n",
              "      <td>226.17</td>\n",
              "    </tr>\n",
              "    <tr>\n",
              "      <th>3</th>\n",
              "      <td>7795-CFOCW</td>\n",
              "      <td>2016-05-01</td>\n",
              "      <td>No</td>\n",
              "      <td>One year</td>\n",
              "      <td>No</td>\n",
              "      <td>Bank transfer (automatic)</td>\n",
              "      <td>42.30</td>\n",
              "      <td>1960.6</td>\n",
              "    </tr>\n",
              "    <tr>\n",
              "      <th>4</th>\n",
              "      <td>9237-HQITU</td>\n",
              "      <td>2019-09-01</td>\n",
              "      <td>No</td>\n",
              "      <td>Month-to-month</td>\n",
              "      <td>Yes</td>\n",
              "      <td>Electronic check</td>\n",
              "      <td>70.70</td>\n",
              "      <td>353.5</td>\n",
              "    </tr>\n",
              "  </tbody>\n",
              "</table>\n",
              "</div>"
            ],
            "text/plain": [
              "   customerID   BeginDate EndDate            Type PaperlessBilling  \\\n",
              "0  7590-VHVEG  2020-01-01      No  Month-to-month              Yes   \n",
              "1  5575-GNVDE  2017-04-01      No        One year               No   \n",
              "2  3668-QPYBK  2019-10-01      No  Month-to-month              Yes   \n",
              "3  7795-CFOCW  2016-05-01      No        One year               No   \n",
              "4  9237-HQITU  2019-09-01      No  Month-to-month              Yes   \n",
              "\n",
              "               PaymentMethod  MonthlyCharges TotalCharges  \n",
              "0           Electronic check           29.85        31.04  \n",
              "1               Mailed check           56.95      2071.84  \n",
              "2               Mailed check           53.85       226.17  \n",
              "3  Bank transfer (automatic)           42.30       1960.6  \n",
              "4           Electronic check           70.70        353.5  "
            ]
          },
          "execution_count": 3,
          "metadata": {},
          "output_type": "execute_result"
        }
      ],
      "source": [
        "contract.head()"
      ]
    },
    {
      "cell_type": "markdown",
      "metadata": {
        "id": "0a5ExhFf47VP"
      },
      "source": [
        "В наличии у нас 8 столбцов, так как информации по столбцам я не нашел, как в прошлых проектах, опишем, как понимаем, для чего данные столбцы существуют:\n",
        "- `customerID` — уникальный индификатор клиента;\n",
        "- `BeginDate` — дата заключения договора;\n",
        "- `EndDate` — дата расторжения договора;\n",
        "- `Type` — тип оплаты (категориальный столбец, исходя из данных столбца, можно платить от месяца к месяцу - месячная подписка, или взять сразу на год).\n",
        "- `PaperlessBilling` — наличие безбумажного выставления счета (думаю речь об электронных чеках или что-то типо того);\n",
        "- `PaymentMethod` — способ оплаты; (категориальный)\n",
        "- `MonthlyCharges` — ежемесячная плата;\n",
        "- `TotalCharges` — выплачено за все время"
      ]
    },
    {
      "cell_type": "code",
      "execution_count": null,
      "metadata": {
        "id": "tEvG0lCR47VP",
        "outputId": "18169cdd-dd42-45b1-d792-decc1b3c6e2a"
      },
      "outputs": [
        {
          "name": "stdout",
          "output_type": "stream",
          "text": [
            "<class 'pandas.core.frame.DataFrame'>\n",
            "RangeIndex: 7043 entries, 0 to 7042\n",
            "Data columns (total 8 columns):\n",
            " #   Column            Non-Null Count  Dtype  \n",
            "---  ------            --------------  -----  \n",
            " 0   customerID        7043 non-null   object \n",
            " 1   BeginDate         7043 non-null   object \n",
            " 2   EndDate           7043 non-null   object \n",
            " 3   Type              7043 non-null   object \n",
            " 4   PaperlessBilling  7043 non-null   object \n",
            " 5   PaymentMethod     7043 non-null   object \n",
            " 6   MonthlyCharges    7043 non-null   float64\n",
            " 7   TotalCharges      7043 non-null   object \n",
            "dtypes: float64(1), object(7)\n",
            "memory usage: 440.3+ KB\n"
          ]
        }
      ],
      "source": [
        "contract.info()"
      ]
    },
    {
      "cell_type": "markdown",
      "metadata": {
        "id": "stCm2OzA47VP"
      },
      "source": [
        "Пропусков не обнаружено - рыдаем от счастья на предобработки! Правда это только 1 из 4 датасетов, думаю в дальнейшем без пропусков не обойдется.\n",
        "Есть проблема соответствию типу данных, так, например:\n",
        "- `BeginDate` — символьный тип данных, когда можем привест к datetime;\n",
        "- `EndDate` — в идеале тоже datetime, но что делать, если день расторжения не наступил? Да и так ли важна для нашей задачи точная дата расторжения договора, больше важен факт расторжения, **поменял бы на булевый - выношу как вопрос;** UPD: вопрос решен после просмотра записи встречи.\n",
        "- `TotalCharges` — необходимо привести к типу данных с плавающей запятой, он же float\n",
        "\n",
        "Еще стоит сказать о нарушении стилистики наименования столбцов, нужен snake_case. Правда столько всего делать и это только с одной таблицей, что же будет дальше, видимо пора оформлять заказ на ящик энергетиков!"
      ]
    },
    {
      "cell_type": "code",
      "execution_count": null,
      "metadata": {
        "id": "E9UzFZTL47VQ",
        "outputId": "b4a998ef-cda4-48db-ba12-17e6b0b0ee97"
      },
      "outputs": [
        {
          "data": {
            "text/html": [
              "<div>\n",
              "<style scoped>\n",
              "    .dataframe tbody tr th:only-of-type {\n",
              "        vertical-align: middle;\n",
              "    }\n",
              "\n",
              "    .dataframe tbody tr th {\n",
              "        vertical-align: top;\n",
              "    }\n",
              "\n",
              "    .dataframe thead th {\n",
              "        text-align: right;\n",
              "    }\n",
              "</style>\n",
              "<table border=\"1\" class=\"dataframe\">\n",
              "  <thead>\n",
              "    <tr style=\"text-align: right;\">\n",
              "      <th></th>\n",
              "      <th>MonthlyCharges</th>\n",
              "    </tr>\n",
              "  </thead>\n",
              "  <tbody>\n",
              "    <tr>\n",
              "      <th>count</th>\n",
              "      <td>7043.000000</td>\n",
              "    </tr>\n",
              "    <tr>\n",
              "      <th>mean</th>\n",
              "      <td>64.761692</td>\n",
              "    </tr>\n",
              "    <tr>\n",
              "      <th>std</th>\n",
              "      <td>30.090047</td>\n",
              "    </tr>\n",
              "    <tr>\n",
              "      <th>min</th>\n",
              "      <td>18.250000</td>\n",
              "    </tr>\n",
              "    <tr>\n",
              "      <th>25%</th>\n",
              "      <td>35.500000</td>\n",
              "    </tr>\n",
              "    <tr>\n",
              "      <th>50%</th>\n",
              "      <td>70.350000</td>\n",
              "    </tr>\n",
              "    <tr>\n",
              "      <th>75%</th>\n",
              "      <td>89.850000</td>\n",
              "    </tr>\n",
              "    <tr>\n",
              "      <th>max</th>\n",
              "      <td>118.750000</td>\n",
              "    </tr>\n",
              "  </tbody>\n",
              "</table>\n",
              "</div>"
            ],
            "text/plain": [
              "       MonthlyCharges\n",
              "count     7043.000000\n",
              "mean        64.761692\n",
              "std         30.090047\n",
              "min         18.250000\n",
              "25%         35.500000\n",
              "50%         70.350000\n",
              "75%         89.850000\n",
              "max        118.750000"
            ]
          },
          "execution_count": 5,
          "metadata": {},
          "output_type": "execute_result"
        }
      ],
      "source": [
        "contract.describe()"
      ]
    },
    {
      "cell_type": "markdown",
      "metadata": {
        "id": "kyjSTvGS47VQ"
      },
      "source": [
        "Из-за типов данных получаем малоинформативный дескрайб, но зато можно сказать, что забесплатно никто не получает услуги компании:)"
      ]
    },
    {
      "cell_type": "code",
      "execution_count": null,
      "metadata": {
        "id": "JUySZxyV47VQ",
        "outputId": "52bec830-c4cd-4bb2-a2e5-730a132ef54c"
      },
      "outputs": [
        {
          "data": {
            "text/plain": [
              "array([[<AxesSubplot:title={'center':'MonthlyCharges'}>]], dtype=object)"
            ]
          },
          "execution_count": 6,
          "metadata": {},
          "output_type": "execute_result"
        },
        {
          "data": {
            "image/png": "[encoded data removed]",
            "text/plain": [
              "<Figure size 360x360 with 1 Axes>"
            ]
          },
          "metadata": {
            "needs_background": "light"
          },
          "output_type": "display_data"
        }
      ],
      "source": [
        "contract.hist(figsize=(5, 5))"
      ]
    },
    {
      "cell_type": "markdown",
      "metadata": {
        "id": "Ae3Lqpn147VQ"
      },
      "source": [
        "Опять же, из-за битых типов данных, гистограмки с кайфом не построишь. По данной можно сказать, что бОльшинство сидят на достаточно бюджетном тарифе. Проверим на дубликаты:"
      ]
    },
    {
      "cell_type": "code",
      "execution_count": null,
      "metadata": {
        "id": "dNsO0SUJ47VQ",
        "outputId": "645ae513-9aa7-4304-db7a-713231972633"
      },
      "outputs": [
        {
          "data": {
            "text/plain": [
              "0"
            ]
          },
          "execution_count": 7,
          "metadata": {},
          "output_type": "execute_result"
        }
      ],
      "source": [
        "contract.duplicated().sum()"
      ]
    },
    {
      "cell_type": "markdown",
      "metadata": {
        "id": "t6EvShk547VR"
      },
      "source": [
        "Проверим категориальные столбцы, чтобы понимать с какими категориями работаем в дальнейшем, может есть какая-то неинформативная:"
      ]
    },
    {
      "cell_type": "code",
      "execution_count": null,
      "metadata": {
        "id": "hAWOFGTu47VR",
        "outputId": "9dc24b25-64bc-4cdd-940f-a16d33976fcd"
      },
      "outputs": [
        {
          "data": {
            "text/plain": [
              "Month-to-month    3875\n",
              "Two year          1695\n",
              "One year          1473\n",
              "Name: Type, dtype: int64"
            ]
          },
          "execution_count": 8,
          "metadata": {},
          "output_type": "execute_result"
        }
      ],
      "source": [
        "contract['Type'].value_counts()"
      ]
    },
    {
      "cell_type": "markdown",
      "metadata": {
        "id": "ITFAua7p47VR"
      },
      "source": [
        "Контракт может оформляться ежемесячно, на год и на два, все логично."
      ]
    },
    {
      "cell_type": "code",
      "execution_count": null,
      "metadata": {
        "id": "CEUUU6mi47VR",
        "outputId": "ee1afe2f-b7be-447b-c69a-fe28cd540c46"
      },
      "outputs": [
        {
          "data": {
            "text/plain": [
              "Yes    4171\n",
              "No     2872\n",
              "Name: PaperlessBilling, dtype: int64"
            ]
          },
          "execution_count": 9,
          "metadata": {},
          "output_type": "execute_result"
        }
      ],
      "source": [
        "contract['PaperlessBilling'].value_counts()"
      ]
    },
    {
      "cell_type": "markdown",
      "metadata": {
        "id": "a9gGX9Tw47VR"
      },
      "source": [
        "Тут тоже без сюрпризов"
      ]
    },
    {
      "cell_type": "code",
      "execution_count": null,
      "metadata": {
        "id": "23dbv2v647VR",
        "outputId": "b351c204-ee53-45e7-ceff-45fa105b7e3e"
      },
      "outputs": [
        {
          "data": {
            "text/plain": [
              "Electronic check             2365\n",
              "Mailed check                 1612\n",
              "Bank transfer (automatic)    1544\n",
              "Credit card (automatic)      1522\n",
              "Name: PaymentMethod, dtype: int64"
            ]
          },
          "execution_count": 10,
          "metadata": {},
          "output_type": "execute_result"
        }
      ],
      "source": [
        "contract['PaymentMethod'].value_counts()"
      ]
    },
    {
      "cell_type": "markdown",
      "metadata": {
        "id": "haXA5cPu47VS"
      },
      "source": [
        "Оплата производится по электронному чеку, почтовому чеку, банковскому переводу (автоматически) и переводу с кредитной карты (автоматически). Тоже логично и без странностей"
      ]
    },
    {
      "cell_type": "markdown",
      "metadata": {
        "id": "IGc6wuKb47VS"
      },
      "source": [
        "#### Датафрейм personal"
      ]
    },
    {
      "cell_type": "markdown",
      "metadata": {
        "id": "bnQ1F8kf47VS"
      },
      "source": [
        "Повторим шаги, которые выполняли выше, вообще можно было свалить все в цикл, но мне лично как-то удобнее по пунктам передвигаться, несмотря на объемность такого выбора"
      ]
    },
    {
      "cell_type": "code",
      "execution_count": null,
      "metadata": {
        "id": "eXk_bxQI47VS",
        "outputId": "6035e147-7b0f-4e05-a7e2-9cce834938dc"
      },
      "outputs": [
        {
          "data": {
            "text/html": [
              "<div>\n",
              "<style scoped>\n",
              "    .dataframe tbody tr th:only-of-type {\n",
              "        vertical-align: middle;\n",
              "    }\n",
              "\n",
              "    .dataframe tbody tr th {\n",
              "        vertical-align: top;\n",
              "    }\n",
              "\n",
              "    .dataframe thead th {\n",
              "        text-align: right;\n",
              "    }\n",
              "</style>\n",
              "<table border=\"1\" class=\"dataframe\">\n",
              "  <thead>\n",
              "    <tr style=\"text-align: right;\">\n",
              "      <th></th>\n",
              "      <th>customerID</th>\n",
              "      <th>gender</th>\n",
              "      <th>SeniorCitizen</th>\n",
              "      <th>Partner</th>\n",
              "      <th>Dependents</th>\n",
              "    </tr>\n",
              "  </thead>\n",
              "  <tbody>\n",
              "    <tr>\n",
              "      <th>0</th>\n",
              "      <td>7590-VHVEG</td>\n",
              "      <td>Female</td>\n",
              "      <td>0</td>\n",
              "      <td>Yes</td>\n",
              "      <td>No</td>\n",
              "    </tr>\n",
              "    <tr>\n",
              "      <th>1</th>\n",
              "      <td>5575-GNVDE</td>\n",
              "      <td>Male</td>\n",
              "      <td>0</td>\n",
              "      <td>No</td>\n",
              "      <td>No</td>\n",
              "    </tr>\n",
              "    <tr>\n",
              "      <th>2</th>\n",
              "      <td>3668-QPYBK</td>\n",
              "      <td>Male</td>\n",
              "      <td>0</td>\n",
              "      <td>No</td>\n",
              "      <td>No</td>\n",
              "    </tr>\n",
              "    <tr>\n",
              "      <th>3</th>\n",
              "      <td>7795-CFOCW</td>\n",
              "      <td>Male</td>\n",
              "      <td>0</td>\n",
              "      <td>No</td>\n",
              "      <td>No</td>\n",
              "    </tr>\n",
              "    <tr>\n",
              "      <th>4</th>\n",
              "      <td>9237-HQITU</td>\n",
              "      <td>Female</td>\n",
              "      <td>0</td>\n",
              "      <td>No</td>\n",
              "      <td>No</td>\n",
              "    </tr>\n",
              "  </tbody>\n",
              "</table>\n",
              "</div>"
            ],
            "text/plain": [
              "   customerID  gender  SeniorCitizen Partner Dependents\n",
              "0  7590-VHVEG  Female              0     Yes         No\n",
              "1  5575-GNVDE    Male              0      No         No\n",
              "2  3668-QPYBK    Male              0      No         No\n",
              "3  7795-CFOCW    Male              0      No         No\n",
              "4  9237-HQITU  Female              0      No         No"
            ]
          },
          "execution_count": 11,
          "metadata": {},
          "output_type": "execute_result"
        }
      ],
      "source": [
        "personal.head()"
      ]
    },
    {
      "cell_type": "markdown",
      "metadata": {
        "id": "yClRnwYC47VS"
      },
      "source": [
        "В наличии у нас 5 столбцов, так как информации по столбцам я не нашел, как в прошлых проектах, опишем, как понимаем, для чего данные столбцы существуют:\n",
        "- `customerID` — все тот же уникальный индификатор клиента;\n",
        "- `gender` — пол человека;\n",
        "- `SeniorCitizen` — согласно гугл переводчику - Пожилой гражданин, думаю столбец, который показывает пенсионер ли клиент;\n",
        "- `Partner` — наличие партнера(супруга);\n",
        "- `Dependents` — иждивенец, вероятно речь идет о безработном."
      ]
    },
    {
      "cell_type": "code",
      "execution_count": null,
      "metadata": {
        "id": "u9F_PkxX47VS",
        "outputId": "2bce22ac-5235-4145-9cfb-0b21cc3930fb"
      },
      "outputs": [
        {
          "name": "stdout",
          "output_type": "stream",
          "text": [
            "<class 'pandas.core.frame.DataFrame'>\n",
            "RangeIndex: 7043 entries, 0 to 7042\n",
            "Data columns (total 5 columns):\n",
            " #   Column         Non-Null Count  Dtype \n",
            "---  ------         --------------  ----- \n",
            " 0   customerID     7043 non-null   object\n",
            " 1   gender         7043 non-null   object\n",
            " 2   SeniorCitizen  7043 non-null   int64 \n",
            " 3   Partner        7043 non-null   object\n",
            " 4   Dependents     7043 non-null   object\n",
            "dtypes: int64(1), object(4)\n",
            "memory usage: 275.2+ KB\n"
          ]
        }
      ],
      "source": [
        "personal.info()"
      ]
    },
    {
      "cell_type": "markdown",
      "metadata": {
        "id": "CoEU-6Nc47VT"
      },
      "source": [
        "Пропусков все также не найдено, да и количество столбцов соответствуют количеству столбцов в датасете выше, все вроде четко\n",
        "\n",
        "Есть проблема соответствию типу данных, так, например:\n",
        "- `SeniorCitizen` — привести к булевому или строчному (в дальнейшем же будет кодировка и даже строчный тип данных подойдет) типу;\n",
        "\n",
        "Еще стоит сказать о нарушении стилистики наименования столбцов, нужен snake_case."
      ]
    },
    {
      "cell_type": "code",
      "execution_count": null,
      "metadata": {
        "id": "IWKi0Hl747VT",
        "outputId": "0499419e-bd3e-4972-be7e-64c94bc8ec55"
      },
      "outputs": [
        {
          "data": {
            "text/html": [
              "<div>\n",
              "<style scoped>\n",
              "    .dataframe tbody tr th:only-of-type {\n",
              "        vertical-align: middle;\n",
              "    }\n",
              "\n",
              "    .dataframe tbody tr th {\n",
              "        vertical-align: top;\n",
              "    }\n",
              "\n",
              "    .dataframe thead th {\n",
              "        text-align: right;\n",
              "    }\n",
              "</style>\n",
              "<table border=\"1\" class=\"dataframe\">\n",
              "  <thead>\n",
              "    <tr style=\"text-align: right;\">\n",
              "      <th></th>\n",
              "      <th>SeniorCitizen</th>\n",
              "    </tr>\n",
              "  </thead>\n",
              "  <tbody>\n",
              "    <tr>\n",
              "      <th>count</th>\n",
              "      <td>7043.000000</td>\n",
              "    </tr>\n",
              "    <tr>\n",
              "      <th>mean</th>\n",
              "      <td>0.162147</td>\n",
              "    </tr>\n",
              "    <tr>\n",
              "      <th>std</th>\n",
              "      <td>0.368612</td>\n",
              "    </tr>\n",
              "    <tr>\n",
              "      <th>min</th>\n",
              "      <td>0.000000</td>\n",
              "    </tr>\n",
              "    <tr>\n",
              "      <th>25%</th>\n",
              "      <td>0.000000</td>\n",
              "    </tr>\n",
              "    <tr>\n",
              "      <th>50%</th>\n",
              "      <td>0.000000</td>\n",
              "    </tr>\n",
              "    <tr>\n",
              "      <th>75%</th>\n",
              "      <td>0.000000</td>\n",
              "    </tr>\n",
              "    <tr>\n",
              "      <th>max</th>\n",
              "      <td>1.000000</td>\n",
              "    </tr>\n",
              "  </tbody>\n",
              "</table>\n",
              "</div>"
            ],
            "text/plain": [
              "       SeniorCitizen\n",
              "count    7043.000000\n",
              "mean        0.162147\n",
              "std         0.368612\n",
              "min         0.000000\n",
              "25%         0.000000\n",
              "50%         0.000000\n",
              "75%         0.000000\n",
              "max         1.000000"
            ]
          },
          "execution_count": 13,
          "metadata": {},
          "output_type": "execute_result"
        }
      ],
      "source": [
        "personal.describe()"
      ]
    },
    {
      "cell_type": "markdown",
      "metadata": {
        "id": "60G45jiA47VT"
      },
      "source": [
        "Из-за типов данных получаем малоинформативный дескрайб, но зато можно сказать, что большинство выборки молодежь:)"
      ]
    },
    {
      "cell_type": "code",
      "execution_count": null,
      "metadata": {
        "id": "gr14s3hV47VT",
        "outputId": "4e3517ea-189d-4dbc-944a-de2a0223913e"
      },
      "outputs": [
        {
          "data": {
            "text/plain": [
              "array([[<AxesSubplot:title={'center':'SeniorCitizen'}>]], dtype=object)"
            ]
          },
          "execution_count": 14,
          "metadata": {},
          "output_type": "execute_result"
        },
        {
          "data": {
            "image/png": "[encoded data removed]",
            "text/plain": [
              "<Figure size 360x360 with 1 Axes>"
            ]
          },
          "metadata": {
            "needs_background": "light"
          },
          "output_type": "display_data"
        }
      ],
      "source": [
        "personal.hist(figsize=(5, 5))"
      ]
    },
    {
      "cell_type": "markdown",
      "metadata": {
        "id": "w5j7sCQj47VU"
      },
      "source": [
        "Опять же, из-за битых типов данных, гистограмки с кайфом не построишь. По данной можно сказать, что бОльшинство все-таки молодежь, хотя это было понятно еще на стадии дескрайба! Проверим на дубликаты:"
      ]
    },
    {
      "cell_type": "code",
      "execution_count": null,
      "metadata": {
        "id": "cLKtPxA147VU",
        "outputId": "2a80676e-9619-400a-a4aa-59e0c71e5532"
      },
      "outputs": [
        {
          "data": {
            "text/plain": [
              "0"
            ]
          },
          "execution_count": 15,
          "metadata": {},
          "output_type": "execute_result"
        }
      ],
      "source": [
        "personal.duplicated().sum()"
      ]
    },
    {
      "cell_type": "markdown",
      "metadata": {
        "id": "KareMf-u47VU"
      },
      "source": [
        "Тут тоже проверим наши категории, вдруг есть какая-то потеряшка"
      ]
    },
    {
      "cell_type": "code",
      "execution_count": null,
      "metadata": {
        "id": "UR0IXP6N47VU",
        "outputId": "7cc6c7e5-781f-4c03-cb9c-787afcaa2117"
      },
      "outputs": [
        {
          "data": {
            "text/plain": [
              "Index(['customerID', 'gender', 'SeniorCitizen', 'Partner', 'Dependents'], dtype='object')"
            ]
          },
          "execution_count": 16,
          "metadata": {},
          "output_type": "execute_result"
        }
      ],
      "source": [
        "personal.columns"
      ]
    },
    {
      "cell_type": "code",
      "execution_count": null,
      "metadata": {
        "id": "k8SLxxGk47VU",
        "outputId": "5eb03515-d179-4da4-e7f0-a34e53140908"
      },
      "outputs": [
        {
          "data": {
            "text/plain": [
              "Male      3555\n",
              "Female    3488\n",
              "Name: gender, dtype: int64"
            ]
          },
          "execution_count": 17,
          "metadata": {},
          "output_type": "execute_result"
        }
      ],
      "source": [
        "personal['gender'].value_counts()"
      ]
    },
    {
      "cell_type": "code",
      "execution_count": null,
      "metadata": {
        "id": "388_gL7o47VV",
        "outputId": "f839c9bb-57ff-4f42-ec15-91dd5fb2b1a5"
      },
      "outputs": [
        {
          "data": {
            "text/plain": [
              "0    5901\n",
              "1    1142\n",
              "Name: SeniorCitizen, dtype: int64"
            ]
          },
          "execution_count": 18,
          "metadata": {},
          "output_type": "execute_result"
        }
      ],
      "source": [
        "personal['SeniorCitizen'].value_counts()"
      ]
    },
    {
      "cell_type": "code",
      "execution_count": null,
      "metadata": {
        "id": "LNHT45Jl47VV",
        "outputId": "ac67d188-e88e-43f7-e16e-7083897acf14"
      },
      "outputs": [
        {
          "data": {
            "text/plain": [
              "No     3641\n",
              "Yes    3402\n",
              "Name: Partner, dtype: int64"
            ]
          },
          "execution_count": 19,
          "metadata": {},
          "output_type": "execute_result"
        }
      ],
      "source": [
        "personal['Partner'].value_counts()"
      ]
    },
    {
      "cell_type": "code",
      "execution_count": null,
      "metadata": {
        "id": "-MS6uuF547VV",
        "outputId": "402168eb-9c2e-45e9-fdd6-688e9447a8d4"
      },
      "outputs": [
        {
          "data": {
            "text/plain": [
              "No     4933\n",
              "Yes    2110\n",
              "Name: Dependents, dtype: int64"
            ]
          },
          "execution_count": 20,
          "metadata": {},
          "output_type": "execute_result"
        }
      ],
      "source": [
        "personal['Dependents'].value_counts()"
      ]
    },
    {
      "cell_type": "markdown",
      "metadata": {
        "id": "qUmLD5Jg47VV"
      },
      "source": [
        "Все в рамках разумного!"
      ]
    },
    {
      "cell_type": "markdown",
      "metadata": {
        "id": "baTpuphk47VV"
      },
      "source": [
        "#### Датафрейм internet"
      ]
    },
    {
      "cell_type": "markdown",
      "metadata": {
        "id": "iGnyZz0T47VV"
      },
      "source": [
        "Повторим шаги, которые выполняли выше"
      ]
    },
    {
      "cell_type": "code",
      "execution_count": null,
      "metadata": {
        "id": "yk7N0RO747VW",
        "outputId": "9a9b3c80-6f46-4ad7-fe5e-d6dbb983d13c"
      },
      "outputs": [
        {
          "data": {
            "text/html": [
              "<div>\n",
              "<style scoped>\n",
              "    .dataframe tbody tr th:only-of-type {\n",
              "        vertical-align: middle;\n",
              "    }\n",
              "\n",
              "    .dataframe tbody tr th {\n",
              "        vertical-align: top;\n",
              "    }\n",
              "\n",
              "    .dataframe thead th {\n",
              "        text-align: right;\n",
              "    }\n",
              "</style>\n",
              "<table border=\"1\" class=\"dataframe\">\n",
              "  <thead>\n",
              "    <tr style=\"text-align: right;\">\n",
              "      <th></th>\n",
              "      <th>customerID</th>\n",
              "      <th>InternetService</th>\n",
              "      <th>OnlineSecurity</th>\n",
              "      <th>OnlineBackup</th>\n",
              "      <th>DeviceProtection</th>\n",
              "      <th>TechSupport</th>\n",
              "      <th>StreamingTV</th>\n",
              "      <th>StreamingMovies</th>\n",
              "    </tr>\n",
              "  </thead>\n",
              "  <tbody>\n",
              "    <tr>\n",
              "      <th>0</th>\n",
              "      <td>7590-VHVEG</td>\n",
              "      <td>DSL</td>\n",
              "      <td>No</td>\n",
              "      <td>Yes</td>\n",
              "      <td>No</td>\n",
              "      <td>No</td>\n",
              "      <td>No</td>\n",
              "      <td>No</td>\n",
              "    </tr>\n",
              "    <tr>\n",
              "      <th>1</th>\n",
              "      <td>5575-GNVDE</td>\n",
              "      <td>DSL</td>\n",
              "      <td>Yes</td>\n",
              "      <td>No</td>\n",
              "      <td>Yes</td>\n",
              "      <td>No</td>\n",
              "      <td>No</td>\n",
              "      <td>No</td>\n",
              "    </tr>\n",
              "    <tr>\n",
              "      <th>2</th>\n",
              "      <td>3668-QPYBK</td>\n",
              "      <td>DSL</td>\n",
              "      <td>Yes</td>\n",
              "      <td>Yes</td>\n",
              "      <td>No</td>\n",
              "      <td>No</td>\n",
              "      <td>No</td>\n",
              "      <td>No</td>\n",
              "    </tr>\n",
              "    <tr>\n",
              "      <th>3</th>\n",
              "      <td>7795-CFOCW</td>\n",
              "      <td>DSL</td>\n",
              "      <td>Yes</td>\n",
              "      <td>No</td>\n",
              "      <td>Yes</td>\n",
              "      <td>Yes</td>\n",
              "      <td>No</td>\n",
              "      <td>No</td>\n",
              "    </tr>\n",
              "    <tr>\n",
              "      <th>4</th>\n",
              "      <td>9237-HQITU</td>\n",
              "      <td>Fiber optic</td>\n",
              "      <td>No</td>\n",
              "      <td>No</td>\n",
              "      <td>No</td>\n",
              "      <td>No</td>\n",
              "      <td>No</td>\n",
              "      <td>No</td>\n",
              "    </tr>\n",
              "  </tbody>\n",
              "</table>\n",
              "</div>"
            ],
            "text/plain": [
              "   customerID InternetService OnlineSecurity OnlineBackup DeviceProtection  \\\n",
              "0  7590-VHVEG             DSL             No          Yes               No   \n",
              "1  5575-GNVDE             DSL            Yes           No              Yes   \n",
              "2  3668-QPYBK             DSL            Yes          Yes               No   \n",
              "3  7795-CFOCW             DSL            Yes           No              Yes   \n",
              "4  9237-HQITU     Fiber optic             No           No               No   \n",
              "\n",
              "  TechSupport StreamingTV StreamingMovies  \n",
              "0          No          No              No  \n",
              "1          No          No              No  \n",
              "2          No          No              No  \n",
              "3         Yes          No              No  \n",
              "4          No          No              No  "
            ]
          },
          "execution_count": 21,
          "metadata": {},
          "output_type": "execute_result"
        }
      ],
      "source": [
        "internet.head()"
      ]
    },
    {
      "cell_type": "markdown",
      "metadata": {
        "id": "-dQlY6xq47VW"
      },
      "source": [
        "Тут датасет на подключенные услуги интернета, интернет сервис - категориальный, остальный бинарные.\n",
        "\n",
        "В наличии у нас 8 столбцов, и наконец-то какая то информация о них имеется в условии, а именно:\n",
        "\n",
        "\n",
        "Оператор предоставляет два основных типа услуг:\n",
        "\n",
        "1. Стационарную телефонную связь. Возможно подключение телефонного аппарата к нескольким линиям одновременно. - **стобец с этой информацией пока не найден, но есть еще один датасет, где она может храниться, не зря она носит название phone**\n",
        "2. Интернет. Подключение может быть двух типов: через телефонную линию (DSL*,* от англ. *digital subscriber line*, «цифровая абонентская линия») или оптоволоконный кабель (*Fiber optic*). - **Это и есть столбец InternetService**\n",
        "\n",
        "Также доступны такие услуги:\n",
        "\n",
        "- Интернет-безопасность: антивирус (*DeviceProtection*) и блокировка небезопасных сайтов (*OnlineSecurity*);\n",
        "- Выделенная линия технической поддержки (*TechSupport*);\n",
        "- Облачное хранилище файлов для резервного копирования данных (*OnlineBackup*);\n",
        "- Стриминговое телевидение (*StreamingTV*) и каталог фильмов (*StreamingMovies*)."
      ]
    },
    {
      "cell_type": "code",
      "execution_count": null,
      "metadata": {
        "id": "yt5mceT147VW"
      },
      "outputs": [],
      "source": [
        "internet.info()"
      ]
    },
    {
      "cell_type": "markdown",
      "metadata": {
        "id": "c6wfliFl47VW"
      },
      "source": [
        "Пропусков нет, но строк меньше, чем в предыдущих двух датасетах, чем это черевато - непонятно, но судя по сообщениям в тг, там поступает предложение объединить все данные в одну таблицу, и предложение неплохое, но что делать с несоответствиями строк - непонятно, **вынесем в вопросы** UPD: вопрос решен после просмотра встречи.\n",
        "\n",
        "Еще стоит сказать о нарушении стилистики наименования столбцов, нужен snake_case."
      ]
    },
    {
      "cell_type": "code",
      "execution_count": null,
      "metadata": {
        "id": "i5kJBcM347VW"
      },
      "outputs": [],
      "source": [
        "internet.describe()"
      ]
    },
    {
      "cell_type": "markdown",
      "metadata": {
        "id": "hVeEbCea47VX"
      },
      "source": [
        "Тут дескрайб получен, но для таблиц выше его не было, не понимаю почемууу:C, **вынесем в вопросы**\n",
        "А так все хорошо, айдишники действительно уникальны, а все признаки имеют ровно две категории, как и должны, даже value_counts() не потребуется"
      ]
    },
    {
      "cell_type": "markdown",
      "metadata": {
        "id": "2Hk0ercv47VX"
      },
      "source": [
        "Проверим на дубликаты:"
      ]
    },
    {
      "cell_type": "code",
      "execution_count": null,
      "metadata": {
        "id": "AIByeQRf47VX"
      },
      "outputs": [],
      "source": [
        "internet.duplicated().sum()"
      ]
    },
    {
      "cell_type": "markdown",
      "metadata": {
        "id": "lPn2Lwkw47VX"
      },
      "source": [
        "#### Датафрейм phone"
      ]
    },
    {
      "cell_type": "markdown",
      "metadata": {
        "id": "LKzEKHk247VX"
      },
      "source": [
        "Повторим шаги, которые выполняли выше"
      ]
    },
    {
      "cell_type": "code",
      "execution_count": null,
      "metadata": {
        "id": "6mVsBu5J47VX",
        "outputId": "bc0a03bb-2c16-4b13-fea0-3f222ad16433"
      },
      "outputs": [
        {
          "data": {
            "text/html": [
              "<div>\n",
              "<style scoped>\n",
              "    .dataframe tbody tr th:only-of-type {\n",
              "        vertical-align: middle;\n",
              "    }\n",
              "\n",
              "    .dataframe tbody tr th {\n",
              "        vertical-align: top;\n",
              "    }\n",
              "\n",
              "    .dataframe thead th {\n",
              "        text-align: right;\n",
              "    }\n",
              "</style>\n",
              "<table border=\"1\" class=\"dataframe\">\n",
              "  <thead>\n",
              "    <tr style=\"text-align: right;\">\n",
              "      <th></th>\n",
              "      <th>customerID</th>\n",
              "      <th>MultipleLines</th>\n",
              "    </tr>\n",
              "  </thead>\n",
              "  <tbody>\n",
              "    <tr>\n",
              "      <th>0</th>\n",
              "      <td>5575-GNVDE</td>\n",
              "      <td>No</td>\n",
              "    </tr>\n",
              "    <tr>\n",
              "      <th>1</th>\n",
              "      <td>3668-QPYBK</td>\n",
              "      <td>No</td>\n",
              "    </tr>\n",
              "    <tr>\n",
              "      <th>2</th>\n",
              "      <td>9237-HQITU</td>\n",
              "      <td>No</td>\n",
              "    </tr>\n",
              "    <tr>\n",
              "      <th>3</th>\n",
              "      <td>9305-CDSKC</td>\n",
              "      <td>Yes</td>\n",
              "    </tr>\n",
              "    <tr>\n",
              "      <th>4</th>\n",
              "      <td>1452-KIOVK</td>\n",
              "      <td>Yes</td>\n",
              "    </tr>\n",
              "  </tbody>\n",
              "</table>\n",
              "</div>"
            ],
            "text/plain": [
              "   customerID MultipleLines\n",
              "0  5575-GNVDE            No\n",
              "1  3668-QPYBK            No\n",
              "2  9237-HQITU            No\n",
              "3  9305-CDSKC           Yes\n",
              "4  1452-KIOVK           Yes"
            ]
          },
          "execution_count": 22,
          "metadata": {},
          "output_type": "execute_result"
        }
      ],
      "source": [
        "phone.head()"
      ]
    },
    {
      "cell_type": "markdown",
      "metadata": {
        "id": "Ew_Hkb9247VY"
      },
      "source": [
        "В наличии у нас 2 столбеца - наличие телефонной услуги и уникальный индификатор клиента"
      ]
    },
    {
      "cell_type": "code",
      "execution_count": null,
      "metadata": {
        "id": "1IE6DOuS47VY",
        "outputId": "4515a141-780a-48a3-90f6-534aef2629b1"
      },
      "outputs": [
        {
          "name": "stdout",
          "output_type": "stream",
          "text": [
            "<class 'pandas.core.frame.DataFrame'>\n",
            "RangeIndex: 6361 entries, 0 to 6360\n",
            "Data columns (total 2 columns):\n",
            " #   Column         Non-Null Count  Dtype \n",
            "---  ------         --------------  ----- \n",
            " 0   customerID     6361 non-null   object\n",
            " 1   MultipleLines  6361 non-null   object\n",
            "dtypes: object(2)\n",
            "memory usage: 99.5+ KB\n"
          ]
        }
      ],
      "source": [
        "phone.info()"
      ]
    },
    {
      "cell_type": "markdown",
      "metadata": {
        "id": "NiRC24uk47VY"
      },
      "source": [
        "Пропусков нет, но количество строк отличается от первых двух\n",
        "\n",
        "Еще стоит сказать о нарушении стилистики наименования столбцов, нужен snake_case."
      ]
    },
    {
      "cell_type": "code",
      "execution_count": null,
      "metadata": {
        "id": "3nk-Ha1R47VY",
        "outputId": "2455a84c-e46d-4bf1-8d5d-dc9ae1a18561"
      },
      "outputs": [
        {
          "data": {
            "text/html": [
              "<div>\n",
              "<style scoped>\n",
              "    .dataframe tbody tr th:only-of-type {\n",
              "        vertical-align: middle;\n",
              "    }\n",
              "\n",
              "    .dataframe tbody tr th {\n",
              "        vertical-align: top;\n",
              "    }\n",
              "\n",
              "    .dataframe thead th {\n",
              "        text-align: right;\n",
              "    }\n",
              "</style>\n",
              "<table border=\"1\" class=\"dataframe\">\n",
              "  <thead>\n",
              "    <tr style=\"text-align: right;\">\n",
              "      <th></th>\n",
              "      <th>customerID</th>\n",
              "      <th>MultipleLines</th>\n",
              "    </tr>\n",
              "  </thead>\n",
              "  <tbody>\n",
              "    <tr>\n",
              "      <th>count</th>\n",
              "      <td>6361</td>\n",
              "      <td>6361</td>\n",
              "    </tr>\n",
              "    <tr>\n",
              "      <th>unique</th>\n",
              "      <td>6361</td>\n",
              "      <td>2</td>\n",
              "    </tr>\n",
              "    <tr>\n",
              "      <th>top</th>\n",
              "      <td>8182-PNAGI</td>\n",
              "      <td>No</td>\n",
              "    </tr>\n",
              "    <tr>\n",
              "      <th>freq</th>\n",
              "      <td>1</td>\n",
              "      <td>3390</td>\n",
              "    </tr>\n",
              "  </tbody>\n",
              "</table>\n",
              "</div>"
            ],
            "text/plain": [
              "        customerID MultipleLines\n",
              "count         6361          6361\n",
              "unique        6361             2\n",
              "top     8182-PNAGI            No\n",
              "freq             1          3390"
            ]
          },
          "execution_count": 24,
          "metadata": {},
          "output_type": "execute_result"
        }
      ],
      "source": [
        "phone.describe()"
      ]
    },
    {
      "cell_type": "markdown",
      "metadata": {
        "id": "bRhfZlVu47VY"
      },
      "source": [
        "Уникальные айдишники и 2 категории для столбца который показывает подключенную услугу для телефона - все в норме"
      ]
    },
    {
      "cell_type": "code",
      "execution_count": null,
      "metadata": {
        "id": "nYet5CpV47VZ",
        "outputId": "8761de8a-b085-4c33-a2f3-a43a32e3d49d"
      },
      "outputs": [
        {
          "data": {
            "text/plain": [
              "0"
            ]
          },
          "execution_count": 25,
          "metadata": {},
          "output_type": "execute_result"
        }
      ],
      "source": [
        "personal.duplicated().sum()"
      ]
    },
    {
      "cell_type": "markdown",
      "metadata": {
        "id": "XCeVBy0J47VZ"
      },
      "source": [
        "### Выводы по ознакомлению с данными"
      ]
    },
    {
      "cell_type": "markdown",
      "metadata": {
        "id": "pqeVoqyn47VZ"
      },
      "source": [
        "1. Наименования столбцов в датасетах не соответствую snake_case.\n",
        "2. В датасетах internet и phone, меньше данных, чем в двух других. Терять данные нельзя, поэтому логичнее объединить все 4 таблицы в одну, а потом заполнить по возможности полученные пропуски чем-то\n",
        "3. В датасетах contract и personal имеются столбцы, необходимые в приведении к другому типу данных"
      ]
    },
    {
      "cell_type": "markdown",
      "metadata": {
        "id": "ZvrlNvbr47VZ"
      },
      "source": [
        "### План работы"
      ]
    },
    {
      "cell_type": "markdown",
      "metadata": {
        "id": "BKFmV5kU47VZ"
      },
      "source": [
        "1. Осуществить предобработку и подготовку к обучению данных:\n",
        "- Смержить таблицы без потери данных\n",
        "- Привести столбцы к соотвествующим типам данных\n",
        "- Привести наименование столбцов к snake_case\n",
        "- Подумать, чем можно заполнить пропуски и заполнить их\n",
        "- Попробовать найти аномалии и выбросы, в случае их присутсвия - снести\n",
        "- Добавить столбцы, которые помогут в обучении (срок жизни клиента в компании, явно получить таргетный признак бинарной классификации)\n",
        "- Снести столбцы которые могут коррелировать с другими\n",
        "2. Выбрать модель:\n",
        "- Определить 3 наиболее подходящие модели для решения задачи\n",
        "- Разделить выборку на обучающую и тестовую\n",
        "- Провести кодирование (ое - для древовидных моделей, охе - для линейных, для бустингов - гиперпараметр)\n",
        "- Масштабирование (для линейных)\n",
        "- С помощью GridSearchCV опеределить лучшие параметры (не забыть установить про параметр cv)\n",
        "- Проверить лучшую модель на тестовой выборке\n",
        "- Анализ лучшей модели (важность признаков + матрица ошибок)\n",
        "- Описать выводы\n",
        "\n",
        "Избегать:\n",
        "- Борьбы с дисбалансом (наша метрика устойчива)\n",
        "- get_dummies()\n",
        "\n",
        "Мною выбраны и будут рассматриваться три модели: LogisticRegression, CatBoostClassifier, LGBMClassifier"
      ]
    },
    {
      "cell_type": "markdown",
      "metadata": {
        "id": "dHXV6elB47Va"
      },
      "source": [
        "### Вопросы"
      ]
    },
    {
      "cell_type": "markdown",
      "metadata": {
        "id": "T_8eo2kA47Va"
      },
      "source": [
        "Нет вопросов. Все отпали после вводной лекции."
      ]
    },
    {
      "cell_type": "markdown",
      "metadata": {
        "id": "aluisbu_47Va"
      },
      "source": [
        "## Часть два: Код решения"
      ]
    },
    {
      "cell_type": "markdown",
      "metadata": {
        "id": "32Uc2Z2T47Vb"
      },
      "source": [
        "# Проблемные вопросы после первого этапа\n",
        "1. Наименования столбцов в датасетах не соответствую snake_case.\n",
        "2. В датасетах internet и phone, меньше данных, чем в двух других. Терять данные нельзя, поэтому логичнее объединить все 4 таблицы в одну, а потом заполнить по возможности полученные пропуски чем-то\n",
        "3. В датасетах contract и personal имеются столбцы, необходимые в приведении к другому типу данных"
      ]
    },
    {
      "cell_type": "markdown",
      "metadata": {
        "id": "NHO5ZZd747Vb"
      },
      "source": [
        "## Предобработка и подготовка данных к обучению"
      ]
    },
    {
      "cell_type": "markdown",
      "metadata": {
        "id": "RgtFLyrY47Vb"
      },
      "source": [
        "### Объедение датасета"
      ]
    },
    {
      "cell_type": "code",
      "execution_count": null,
      "metadata": {
        "id": "C_OTRegf47Vb",
        "outputId": "0f1b579e-4650-4b2a-d2b5-c7f3db7a9432"
      },
      "outputs": [
        {
          "data": {
            "text/plain": [
              "Index(['customerID', 'BeginDate', 'EndDate', 'Type', 'PaperlessBilling',\n",
              "       'PaymentMethod', 'MonthlyCharges', 'TotalCharges'],\n",
              "      dtype='object')"
            ]
          },
          "execution_count": 26,
          "metadata": {},
          "output_type": "execute_result"
        }
      ],
      "source": [
        "contract.columns"
      ]
    },
    {
      "cell_type": "markdown",
      "metadata": {
        "id": "RXfjDV0Q47Vb"
      },
      "source": [
        "Объединим столбцы по ключу айдишника пользователя, укажем параметр присоединения слева, без параметра how, строчки с пропусками канут в лету."
      ]
    },
    {
      "cell_type": "code",
      "execution_count": null,
      "metadata": {
        "id": "FUGSs3ZF47Vc"
      },
      "outputs": [],
      "source": [
        "data = contract.merge(internet, on='customerID', how='left')\n",
        "data = data.merge(personal, on='customerID', how='left')\n",
        "data = data.merge(phone, on='customerID', how='left')"
      ]
    },
    {
      "cell_type": "code",
      "execution_count": null,
      "metadata": {
        "id": "YBILVsdz47Vc",
        "outputId": "5a006105-b9d7-4dbf-cbf0-17b61a67081d"
      },
      "outputs": [
        {
          "name": "stdout",
          "output_type": "stream",
          "text": [
            "<class 'pandas.core.frame.DataFrame'>\n",
            "Int64Index: 7043 entries, 0 to 7042\n",
            "Data columns (total 20 columns):\n",
            " #   Column            Non-Null Count  Dtype  \n",
            "---  ------            --------------  -----  \n",
            " 0   customerID        7043 non-null   object \n",
            " 1   BeginDate         7043 non-null   object \n",
            " 2   EndDate           7043 non-null   object \n",
            " 3   Type              7043 non-null   object \n",
            " 4   PaperlessBilling  7043 non-null   object \n",
            " 5   PaymentMethod     7043 non-null   object \n",
            " 6   MonthlyCharges    7043 non-null   float64\n",
            " 7   TotalCharges      7043 non-null   object \n",
            " 8   InternetService   5517 non-null   object \n",
            " 9   OnlineSecurity    5517 non-null   object \n",
            " 10  OnlineBackup      5517 non-null   object \n",
            " 11  DeviceProtection  5517 non-null   object \n",
            " 12  TechSupport       5517 non-null   object \n",
            " 13  StreamingTV       5517 non-null   object \n",
            " 14  StreamingMovies   5517 non-null   object \n",
            " 15  gender            7043 non-null   object \n",
            " 16  SeniorCitizen     7043 non-null   int64  \n",
            " 17  Partner           7043 non-null   object \n",
            " 18  Dependents        7043 non-null   object \n",
            " 19  MultipleLines     6361 non-null   object \n",
            "dtypes: float64(1), int64(1), object(18)\n",
            "memory usage: 1.1+ MB\n"
          ]
        }
      ],
      "source": [
        "data.info()"
      ]
    },
    {
      "cell_type": "markdown",
      "metadata": {
        "id": "ZOpSE6cN47Vc"
      },
      "source": [
        "Пропусков много, но они все касаются категориальных признаков, наличия дополнительных услуг интернета и телефонии. Удалять строки с ними - потеря данных, она не запрещена. А предопложить, что раз нет данных об услугах - то скорее всего данные пользователи и не обращались за ними, думаю можно заполнить отсуствием данных услуг, так и поступлю в дальнейшем."
      ]
    },
    {
      "cell_type": "markdown",
      "metadata": {
        "id": "xIX0u0AP47Vc"
      },
      "source": [
        "### Привести стобцы к соотвествующим типам данных"
      ]
    },
    {
      "cell_type": "markdown",
      "metadata": {
        "id": "Z7Didw4047Vc"
      },
      "source": [
        "- `BeginDate` — символьный тип данных, когда можем привест к datetime;\n",
        "- `EndDate` — в идеале тоже datetime, но что делать, если день расторжения не наступил\n",
        "- `TotalCharges` — необходимо привести к типу данных с плавающей запятой, он же float"
      ]
    },
    {
      "cell_type": "code",
      "execution_count": null,
      "metadata": {
        "id": "UNQFa1PQ47Vd"
      },
      "outputs": [],
      "source": [
        "data['BeginDate'] = pd.to_datetime(data['BeginDate'], format='%Y-%m-%d')\n",
        "#data['EndDate'] = pd.to_datetime(data['EndDate'], format='%Y-%m-%d')\n",
        "#data['TotalCharges'] = pd.to_numeric(data['TotalCharges'])"
      ]
    },
    {
      "cell_type": "markdown",
      "metadata": {
        "id": "VgrdJNpz47Vd"
      },
      "source": [
        "В ходе попытки привести в нужный тип данных, выяснилось, что во-первых, в столбце EndDate имеется слово, поэтому так сразу не удастся, поэтому прежде нужно заменить, и самое логичное, заменить днем выгрузки данных - 1 февраля 2020 года.\n",
        "Также в столбце TotalCharges имеется пробел, нужно от него избавится, вероятно подобного рода пропуск логично заменить 0.\n",
        "Посмотрим на срез данных с пробелом"
      ]
    },
    {
      "cell_type": "code",
      "execution_count": null,
      "metadata": {
        "scrolled": false,
        "id": "TWGCZzNl47Vd",
        "outputId": "1f021b51-fbf4-4fae-c857-caec22e41e26"
      },
      "outputs": [
        {
          "data": {
            "text/html": [
              "<div>\n",
              "<style scoped>\n",
              "    .dataframe tbody tr th:only-of-type {\n",
              "        vertical-align: middle;\n",
              "    }\n",
              "\n",
              "    .dataframe tbody tr th {\n",
              "        vertical-align: top;\n",
              "    }\n",
              "\n",
              "    .dataframe thead th {\n",
              "        text-align: right;\n",
              "    }\n",
              "</style>\n",
              "<table border=\"1\" class=\"dataframe\">\n",
              "  <thead>\n",
              "    <tr style=\"text-align: right;\">\n",
              "      <th></th>\n",
              "      <th>customerID</th>\n",
              "      <th>BeginDate</th>\n",
              "      <th>EndDate</th>\n",
              "      <th>Type</th>\n",
              "      <th>PaperlessBilling</th>\n",
              "      <th>PaymentMethod</th>\n",
              "      <th>MonthlyCharges</th>\n",
              "      <th>TotalCharges</th>\n",
              "      <th>InternetService</th>\n",
              "      <th>OnlineSecurity</th>\n",
              "      <th>OnlineBackup</th>\n",
              "      <th>DeviceProtection</th>\n",
              "      <th>TechSupport</th>\n",
              "      <th>StreamingTV</th>\n",
              "      <th>StreamingMovies</th>\n",
              "      <th>gender</th>\n",
              "      <th>SeniorCitizen</th>\n",
              "      <th>Partner</th>\n",
              "      <th>Dependents</th>\n",
              "      <th>MultipleLines</th>\n",
              "    </tr>\n",
              "  </thead>\n",
              "  <tbody>\n",
              "    <tr>\n",
              "      <th>488</th>\n",
              "      <td>4472-LVYGI</td>\n",
              "      <td>2020-02-01</td>\n",
              "      <td>No</td>\n",
              "      <td>Two year</td>\n",
              "      <td>Yes</td>\n",
              "      <td>Bank transfer (automatic)</td>\n",
              "      <td>52.55</td>\n",
              "      <td></td>\n",
              "      <td>DSL</td>\n",
              "      <td>Yes</td>\n",
              "      <td>No</td>\n",
              "      <td>Yes</td>\n",
              "      <td>Yes</td>\n",
              "      <td>Yes</td>\n",
              "      <td>No</td>\n",
              "      <td>Female</td>\n",
              "      <td>0</td>\n",
              "      <td>Yes</td>\n",
              "      <td>Yes</td>\n",
              "      <td>NaN</td>\n",
              "    </tr>\n",
              "    <tr>\n",
              "      <th>753</th>\n",
              "      <td>3115-CZMZD</td>\n",
              "      <td>2020-02-01</td>\n",
              "      <td>No</td>\n",
              "      <td>Two year</td>\n",
              "      <td>No</td>\n",
              "      <td>Mailed check</td>\n",
              "      <td>20.25</td>\n",
              "      <td></td>\n",
              "      <td>NaN</td>\n",
              "      <td>NaN</td>\n",
              "      <td>NaN</td>\n",
              "      <td>NaN</td>\n",
              "      <td>NaN</td>\n",
              "      <td>NaN</td>\n",
              "      <td>NaN</td>\n",
              "      <td>Male</td>\n",
              "      <td>0</td>\n",
              "      <td>No</td>\n",
              "      <td>Yes</td>\n",
              "      <td>No</td>\n",
              "    </tr>\n",
              "    <tr>\n",
              "      <th>936</th>\n",
              "      <td>5709-LVOEQ</td>\n",
              "      <td>2020-02-01</td>\n",
              "      <td>No</td>\n",
              "      <td>Two year</td>\n",
              "      <td>No</td>\n",
              "      <td>Mailed check</td>\n",
              "      <td>80.85</td>\n",
              "      <td></td>\n",
              "      <td>DSL</td>\n",
              "      <td>Yes</td>\n",
              "      <td>Yes</td>\n",
              "      <td>Yes</td>\n",
              "      <td>No</td>\n",
              "      <td>Yes</td>\n",
              "      <td>Yes</td>\n",
              "      <td>Female</td>\n",
              "      <td>0</td>\n",
              "      <td>Yes</td>\n",
              "      <td>Yes</td>\n",
              "      <td>No</td>\n",
              "    </tr>\n",
              "    <tr>\n",
              "      <th>1082</th>\n",
              "      <td>4367-NUYAO</td>\n",
              "      <td>2020-02-01</td>\n",
              "      <td>No</td>\n",
              "      <td>Two year</td>\n",
              "      <td>No</td>\n",
              "      <td>Mailed check</td>\n",
              "      <td>25.75</td>\n",
              "      <td></td>\n",
              "      <td>NaN</td>\n",
              "      <td>NaN</td>\n",
              "      <td>NaN</td>\n",
              "      <td>NaN</td>\n",
              "      <td>NaN</td>\n",
              "      <td>NaN</td>\n",
              "      <td>NaN</td>\n",
              "      <td>Male</td>\n",
              "      <td>0</td>\n",
              "      <td>Yes</td>\n",
              "      <td>Yes</td>\n",
              "      <td>Yes</td>\n",
              "    </tr>\n",
              "    <tr>\n",
              "      <th>1340</th>\n",
              "      <td>1371-DWPAZ</td>\n",
              "      <td>2020-02-01</td>\n",
              "      <td>No</td>\n",
              "      <td>Two year</td>\n",
              "      <td>No</td>\n",
              "      <td>Credit card (automatic)</td>\n",
              "      <td>56.05</td>\n",
              "      <td></td>\n",
              "      <td>DSL</td>\n",
              "      <td>Yes</td>\n",
              "      <td>Yes</td>\n",
              "      <td>Yes</td>\n",
              "      <td>Yes</td>\n",
              "      <td>Yes</td>\n",
              "      <td>No</td>\n",
              "      <td>Female</td>\n",
              "      <td>0</td>\n",
              "      <td>Yes</td>\n",
              "      <td>Yes</td>\n",
              "      <td>NaN</td>\n",
              "    </tr>\n",
              "    <tr>\n",
              "      <th>3331</th>\n",
              "      <td>7644-OMVMY</td>\n",
              "      <td>2020-02-01</td>\n",
              "      <td>No</td>\n",
              "      <td>Two year</td>\n",
              "      <td>No</td>\n",
              "      <td>Mailed check</td>\n",
              "      <td>19.85</td>\n",
              "      <td></td>\n",
              "      <td>NaN</td>\n",
              "      <td>NaN</td>\n",
              "      <td>NaN</td>\n",
              "      <td>NaN</td>\n",
              "      <td>NaN</td>\n",
              "      <td>NaN</td>\n",
              "      <td>NaN</td>\n",
              "      <td>Male</td>\n",
              "      <td>0</td>\n",
              "      <td>Yes</td>\n",
              "      <td>Yes</td>\n",
              "      <td>No</td>\n",
              "    </tr>\n",
              "    <tr>\n",
              "      <th>3826</th>\n",
              "      <td>3213-VVOLG</td>\n",
              "      <td>2020-02-01</td>\n",
              "      <td>No</td>\n",
              "      <td>Two year</td>\n",
              "      <td>No</td>\n",
              "      <td>Mailed check</td>\n",
              "      <td>25.35</td>\n",
              "      <td></td>\n",
              "      <td>NaN</td>\n",
              "      <td>NaN</td>\n",
              "      <td>NaN</td>\n",
              "      <td>NaN</td>\n",
              "      <td>NaN</td>\n",
              "      <td>NaN</td>\n",
              "      <td>NaN</td>\n",
              "      <td>Male</td>\n",
              "      <td>0</td>\n",
              "      <td>Yes</td>\n",
              "      <td>Yes</td>\n",
              "      <td>Yes</td>\n",
              "    </tr>\n",
              "    <tr>\n",
              "      <th>4380</th>\n",
              "      <td>2520-SGTTA</td>\n",
              "      <td>2020-02-01</td>\n",
              "      <td>No</td>\n",
              "      <td>Two year</td>\n",
              "      <td>No</td>\n",
              "      <td>Mailed check</td>\n",
              "      <td>20.00</td>\n",
              "      <td></td>\n",
              "      <td>NaN</td>\n",
              "      <td>NaN</td>\n",
              "      <td>NaN</td>\n",
              "      <td>NaN</td>\n",
              "      <td>NaN</td>\n",
              "      <td>NaN</td>\n",
              "      <td>NaN</td>\n",
              "      <td>Female</td>\n",
              "      <td>0</td>\n",
              "      <td>Yes</td>\n",
              "      <td>Yes</td>\n",
              "      <td>No</td>\n",
              "    </tr>\n",
              "    <tr>\n",
              "      <th>5218</th>\n",
              "      <td>2923-ARZLG</td>\n",
              "      <td>2020-02-01</td>\n",
              "      <td>No</td>\n",
              "      <td>One year</td>\n",
              "      <td>Yes</td>\n",
              "      <td>Mailed check</td>\n",
              "      <td>19.70</td>\n",
              "      <td></td>\n",
              "      <td>NaN</td>\n",
              "      <td>NaN</td>\n",
              "      <td>NaN</td>\n",
              "      <td>NaN</td>\n",
              "      <td>NaN</td>\n",
              "      <td>NaN</td>\n",
              "      <td>NaN</td>\n",
              "      <td>Male</td>\n",
              "      <td>0</td>\n",
              "      <td>Yes</td>\n",
              "      <td>Yes</td>\n",
              "      <td>No</td>\n",
              "    </tr>\n",
              "    <tr>\n",
              "      <th>6670</th>\n",
              "      <td>4075-WKNIU</td>\n",
              "      <td>2020-02-01</td>\n",
              "      <td>No</td>\n",
              "      <td>Two year</td>\n",
              "      <td>No</td>\n",
              "      <td>Mailed check</td>\n",
              "      <td>73.35</td>\n",
              "      <td></td>\n",
              "      <td>DSL</td>\n",
              "      <td>No</td>\n",
              "      <td>Yes</td>\n",
              "      <td>Yes</td>\n",
              "      <td>Yes</td>\n",
              "      <td>Yes</td>\n",
              "      <td>No</td>\n",
              "      <td>Female</td>\n",
              "      <td>0</td>\n",
              "      <td>Yes</td>\n",
              "      <td>Yes</td>\n",
              "      <td>Yes</td>\n",
              "    </tr>\n",
              "    <tr>\n",
              "      <th>6754</th>\n",
              "      <td>2775-SEFEE</td>\n",
              "      <td>2020-02-01</td>\n",
              "      <td>No</td>\n",
              "      <td>Two year</td>\n",
              "      <td>Yes</td>\n",
              "      <td>Bank transfer (automatic)</td>\n",
              "      <td>61.90</td>\n",
              "      <td></td>\n",
              "      <td>DSL</td>\n",
              "      <td>Yes</td>\n",
              "      <td>Yes</td>\n",
              "      <td>No</td>\n",
              "      <td>Yes</td>\n",
              "      <td>No</td>\n",
              "      <td>No</td>\n",
              "      <td>Male</td>\n",
              "      <td>0</td>\n",
              "      <td>No</td>\n",
              "      <td>Yes</td>\n",
              "      <td>Yes</td>\n",
              "    </tr>\n",
              "  </tbody>\n",
              "</table>\n",
              "</div>"
            ],
            "text/plain": [
              "      customerID  BeginDate EndDate      Type PaperlessBilling  \\\n",
              "488   4472-LVYGI 2020-02-01      No  Two year              Yes   \n",
              "753   3115-CZMZD 2020-02-01      No  Two year               No   \n",
              "936   5709-LVOEQ 2020-02-01      No  Two year               No   \n",
              "1082  4367-NUYAO 2020-02-01      No  Two year               No   \n",
              "1340  1371-DWPAZ 2020-02-01      No  Two year               No   \n",
              "3331  7644-OMVMY 2020-02-01      No  Two year               No   \n",
              "3826  3213-VVOLG 2020-02-01      No  Two year               No   \n",
              "4380  2520-SGTTA 2020-02-01      No  Two year               No   \n",
              "5218  2923-ARZLG 2020-02-01      No  One year              Yes   \n",
              "6670  4075-WKNIU 2020-02-01      No  Two year               No   \n",
              "6754  2775-SEFEE 2020-02-01      No  Two year              Yes   \n",
              "\n",
              "                  PaymentMethod  MonthlyCharges TotalCharges InternetService  \\\n",
              "488   Bank transfer (automatic)           52.55                          DSL   \n",
              "753                Mailed check           20.25                          NaN   \n",
              "936                Mailed check           80.85                          DSL   \n",
              "1082               Mailed check           25.75                          NaN   \n",
              "1340    Credit card (automatic)           56.05                          DSL   \n",
              "3331               Mailed check           19.85                          NaN   \n",
              "3826               Mailed check           25.35                          NaN   \n",
              "4380               Mailed check           20.00                          NaN   \n",
              "5218               Mailed check           19.70                          NaN   \n",
              "6670               Mailed check           73.35                          DSL   \n",
              "6754  Bank transfer (automatic)           61.90                          DSL   \n",
              "\n",
              "     OnlineSecurity OnlineBackup DeviceProtection TechSupport StreamingTV  \\\n",
              "488             Yes           No              Yes         Yes         Yes   \n",
              "753             NaN          NaN              NaN         NaN         NaN   \n",
              "936             Yes          Yes              Yes          No         Yes   \n",
              "1082            NaN          NaN              NaN         NaN         NaN   \n",
              "1340            Yes          Yes              Yes         Yes         Yes   \n",
              "3331            NaN          NaN              NaN         NaN         NaN   \n",
              "3826            NaN          NaN              NaN         NaN         NaN   \n",
              "4380            NaN          NaN              NaN         NaN         NaN   \n",
              "5218            NaN          NaN              NaN         NaN         NaN   \n",
              "6670             No          Yes              Yes         Yes         Yes   \n",
              "6754            Yes          Yes               No         Yes          No   \n",
              "\n",
              "     StreamingMovies  gender  SeniorCitizen Partner Dependents MultipleLines  \n",
              "488               No  Female              0     Yes        Yes           NaN  \n",
              "753              NaN    Male              0      No        Yes            No  \n",
              "936              Yes  Female              0     Yes        Yes            No  \n",
              "1082             NaN    Male              0     Yes        Yes           Yes  \n",
              "1340              No  Female              0     Yes        Yes           NaN  \n",
              "3331             NaN    Male              0     Yes        Yes            No  \n",
              "3826             NaN    Male              0     Yes        Yes           Yes  \n",
              "4380             NaN  Female              0     Yes        Yes            No  \n",
              "5218             NaN    Male              0     Yes        Yes            No  \n",
              "6670              No  Female              0     Yes        Yes           Yes  \n",
              "6754              No    Male              0      No        Yes           Yes  "
            ]
          },
          "execution_count": 30,
          "metadata": {},
          "output_type": "execute_result"
        }
      ],
      "source": [
        "data.loc[data['TotalCharges'] == ' ']"
      ]
    },
    {
      "cell_type": "markdown",
      "metadata": {
        "id": "WFZbzpvp47Vd"
      },
      "source": [
        "Данные пользователи только подписали договор, в день выгрузки данных - 1 февраля 2020, значит пока что не оплатили данную услугу. Поэтому суммарные выплаты и отсуствуют, заменим их на 0."
      ]
    },
    {
      "cell_type": "code",
      "execution_count": null,
      "metadata": {
        "id": "vrBjPylP47Vd"
      },
      "outputs": [],
      "source": [
        "data.loc[data['TotalCharges'] == ' ', 'TotalCharges']  = 0"
      ]
    },
    {
      "cell_type": "markdown",
      "metadata": {
        "id": "I7QWGvCE47Ve"
      },
      "source": [
        "Что касаемо столбца с окончанием договора, я уже описал выше, что логично записать днем выгрузки. У нас выйдет огромная категория клиентов которые до сих пор с нами. Вообще можно добавить признак дополнительный, который бы показывал, что клиент все еще пользуется услугой, не знаю насколько это идея поможет, но пока что заменим днем, все равно необходимо заменить тип данных, а этого без даты не сделаешь"
      ]
    },
    {
      "cell_type": "code",
      "execution_count": null,
      "metadata": {
        "id": "D2OaYsxt47Ve"
      },
      "outputs": [],
      "source": [
        "#data.loc[data['EndDate'] == '2020-02-01'].count()"
      ]
    },
    {
      "cell_type": "code",
      "execution_count": null,
      "metadata": {
        "id": "SNdb2Pza47Ve"
      },
      "outputs": [],
      "source": [
        "data.loc[data['EndDate'] == 'No', 'EndDate']  = '2020-02-01'"
      ]
    },
    {
      "cell_type": "code",
      "execution_count": null,
      "metadata": {
        "id": "yryqclkx47Ve"
      },
      "outputs": [],
      "source": [
        "#data.loc[data['EndDate'] == '2020-02-01'].count()"
      ]
    },
    {
      "cell_type": "markdown",
      "metadata": {
        "id": "7wLeUNW247Ve"
      },
      "source": [
        "Повторим преобразование стобцов:"
      ]
    },
    {
      "cell_type": "code",
      "execution_count": null,
      "metadata": {
        "id": "It0-BueO47Vf"
      },
      "outputs": [],
      "source": [
        "data['EndDate'] = pd.to_datetime(data['EndDate'], format='%Y-%m-%d')\n",
        "data['TotalCharges'] = pd.to_numeric(data['TotalCharges'])"
      ]
    },
    {
      "cell_type": "markdown",
      "metadata": {
        "id": "xlkQ0wdB47Vf"
      },
      "source": [
        "### Наименование столбцов к snake_case"
      ]
    },
    {
      "cell_type": "code",
      "execution_count": null,
      "metadata": {
        "id": "G63wy6gO47Vf",
        "outputId": "53c26ae1-fea2-4b30-f713-045cca2c408a"
      },
      "outputs": [
        {
          "data": {
            "text/plain": [
              "Index(['customerID', 'BeginDate', 'EndDate', 'Type', 'PaperlessBilling',\n",
              "       'PaymentMethod', 'MonthlyCharges', 'TotalCharges', 'InternetService',\n",
              "       'OnlineSecurity', 'OnlineBackup', 'DeviceProtection', 'TechSupport',\n",
              "       'StreamingTV', 'StreamingMovies', 'gender', 'SeniorCitizen', 'Partner',\n",
              "       'Dependents', 'MultipleLines'],\n",
              "      dtype='object')"
            ]
          },
          "execution_count": 36,
          "metadata": {},
          "output_type": "execute_result"
        }
      ],
      "source": [
        "data.columns"
      ]
    },
    {
      "cell_type": "code",
      "execution_count": null,
      "metadata": {
        "id": "5ItxzKBF47Vf"
      },
      "outputs": [],
      "source": [
        "data.rename(columns = {'customerID':'customer_id', 'BeginDate':'begin_date', 'EndDate':'end_date', 'Type':'type',\n",
        "                    'PaperlessBilling':'paperless_billing', 'PaymentMethod':'payment_method',\n",
        "                       'MonthlyCharges':'monthly_charges', 'TotalCharges':'total_charges',\n",
        "                    'InternetService':'internet_service', 'OnlineSecurity':'online_security',\n",
        "                       'OnlineBackup':'online_backup', 'DeviceProtection':'device_protection',\n",
        "                      'TechSupport':'tech_support', 'StreamingTV':'streaming_tv',\n",
        "                       'StreamingMovies':'streaming_movies', 'SeniorCitizen':'senior_citizen', 'Partner':'partner',\n",
        "                       'Dependents':'dependents', 'MultipleLines':'multiple_lines'}, inplace = True)"
      ]
    },
    {
      "cell_type": "code",
      "execution_count": null,
      "metadata": {
        "id": "CHfZXr1i47Vg",
        "outputId": "a7fb7eed-83e5-47d1-fdca-3208eefdee0c"
      },
      "outputs": [
        {
          "data": {
            "text/plain": [
              "Index(['customer_id', 'begin_date', 'end_date', 'type', 'paperless_billing',\n",
              "       'payment_method', 'monthly_charges', 'total_charges',\n",
              "       'internet_service', 'online_security', 'online_backup',\n",
              "       'device_protection', 'tech_support', 'streaming_tv', 'streaming_movies',\n",
              "       'gender', 'senior_citizen', 'partner', 'dependents', 'multiple_lines'],\n",
              "      dtype='object')"
            ]
          },
          "execution_count": 38,
          "metadata": {},
          "output_type": "execute_result"
        }
      ],
      "source": [
        "data.columns"
      ]
    },
    {
      "cell_type": "markdown",
      "metadata": {
        "id": "_4XxYvA847Vg"
      },
      "source": [
        "### Заполнение пропусков"
      ]
    },
    {
      "cell_type": "code",
      "execution_count": null,
      "metadata": {
        "id": "4kbpxVwL47Vg",
        "outputId": "88b02ff9-05eb-49ad-b056-24f587d0c757"
      },
      "outputs": [
        {
          "data": {
            "text/plain": [
              "customer_id             0\n",
              "begin_date              0\n",
              "end_date                0\n",
              "type                    0\n",
              "paperless_billing       0\n",
              "payment_method          0\n",
              "monthly_charges         0\n",
              "total_charges           0\n",
              "internet_service     1526\n",
              "online_security      1526\n",
              "online_backup        1526\n",
              "device_protection    1526\n",
              "tech_support         1526\n",
              "streaming_tv         1526\n",
              "streaming_movies     1526\n",
              "gender                  0\n",
              "senior_citizen          0\n",
              "partner                 0\n",
              "dependents              0\n",
              "multiple_lines        682\n",
              "dtype: int64"
            ]
          },
          "execution_count": 39,
          "metadata": {},
          "output_type": "execute_result"
        }
      ],
      "source": [
        "data.isna().sum()"
      ]
    },
    {
      "cell_type": "code",
      "execution_count": null,
      "metadata": {
        "id": "TVsoUx4N47Vh",
        "outputId": "6c85f1e6-98be-41d9-cc71-8ef7b26e4dfe"
      },
      "outputs": [
        {
          "data": {
            "text/html": [
              "<div>\n",
              "<style scoped>\n",
              "    .dataframe tbody tr th:only-of-type {\n",
              "        vertical-align: middle;\n",
              "    }\n",
              "\n",
              "    .dataframe tbody tr th {\n",
              "        vertical-align: top;\n",
              "    }\n",
              "\n",
              "    .dataframe thead th {\n",
              "        text-align: right;\n",
              "    }\n",
              "</style>\n",
              "<table border=\"1\" class=\"dataframe\">\n",
              "  <thead>\n",
              "    <tr style=\"text-align: right;\">\n",
              "      <th></th>\n",
              "      <th>internet_service</th>\n",
              "      <th>online_security</th>\n",
              "      <th>online_backup</th>\n",
              "      <th>device_protection</th>\n",
              "      <th>tech_support</th>\n",
              "      <th>streaming_tv</th>\n",
              "      <th>streaming_movies</th>\n",
              "      <th>multiple_lines</th>\n",
              "    </tr>\n",
              "  </thead>\n",
              "  <tbody>\n",
              "    <tr>\n",
              "      <th>0</th>\n",
              "      <td>DSL</td>\n",
              "      <td>No</td>\n",
              "      <td>Yes</td>\n",
              "      <td>No</td>\n",
              "      <td>No</td>\n",
              "      <td>No</td>\n",
              "      <td>No</td>\n",
              "      <td>NaN</td>\n",
              "    </tr>\n",
              "    <tr>\n",
              "      <th>1</th>\n",
              "      <td>DSL</td>\n",
              "      <td>Yes</td>\n",
              "      <td>No</td>\n",
              "      <td>Yes</td>\n",
              "      <td>No</td>\n",
              "      <td>No</td>\n",
              "      <td>No</td>\n",
              "      <td>No</td>\n",
              "    </tr>\n",
              "    <tr>\n",
              "      <th>2</th>\n",
              "      <td>DSL</td>\n",
              "      <td>Yes</td>\n",
              "      <td>Yes</td>\n",
              "      <td>No</td>\n",
              "      <td>No</td>\n",
              "      <td>No</td>\n",
              "      <td>No</td>\n",
              "      <td>No</td>\n",
              "    </tr>\n",
              "    <tr>\n",
              "      <th>3</th>\n",
              "      <td>DSL</td>\n",
              "      <td>Yes</td>\n",
              "      <td>No</td>\n",
              "      <td>Yes</td>\n",
              "      <td>Yes</td>\n",
              "      <td>No</td>\n",
              "      <td>No</td>\n",
              "      <td>NaN</td>\n",
              "    </tr>\n",
              "    <tr>\n",
              "      <th>4</th>\n",
              "      <td>Fiber optic</td>\n",
              "      <td>No</td>\n",
              "      <td>No</td>\n",
              "      <td>No</td>\n",
              "      <td>No</td>\n",
              "      <td>No</td>\n",
              "      <td>No</td>\n",
              "      <td>No</td>\n",
              "    </tr>\n",
              "    <tr>\n",
              "      <th>...</th>\n",
              "      <td>...</td>\n",
              "      <td>...</td>\n",
              "      <td>...</td>\n",
              "      <td>...</td>\n",
              "      <td>...</td>\n",
              "      <td>...</td>\n",
              "      <td>...</td>\n",
              "      <td>...</td>\n",
              "    </tr>\n",
              "    <tr>\n",
              "      <th>7038</th>\n",
              "      <td>DSL</td>\n",
              "      <td>Yes</td>\n",
              "      <td>No</td>\n",
              "      <td>Yes</td>\n",
              "      <td>Yes</td>\n",
              "      <td>Yes</td>\n",
              "      <td>Yes</td>\n",
              "      <td>Yes</td>\n",
              "    </tr>\n",
              "    <tr>\n",
              "      <th>7039</th>\n",
              "      <td>Fiber optic</td>\n",
              "      <td>No</td>\n",
              "      <td>Yes</td>\n",
              "      <td>Yes</td>\n",
              "      <td>No</td>\n",
              "      <td>Yes</td>\n",
              "      <td>Yes</td>\n",
              "      <td>Yes</td>\n",
              "    </tr>\n",
              "    <tr>\n",
              "      <th>7040</th>\n",
              "      <td>DSL</td>\n",
              "      <td>Yes</td>\n",
              "      <td>No</td>\n",
              "      <td>No</td>\n",
              "      <td>No</td>\n",
              "      <td>No</td>\n",
              "      <td>No</td>\n",
              "      <td>NaN</td>\n",
              "    </tr>\n",
              "    <tr>\n",
              "      <th>7041</th>\n",
              "      <td>Fiber optic</td>\n",
              "      <td>No</td>\n",
              "      <td>No</td>\n",
              "      <td>No</td>\n",
              "      <td>No</td>\n",
              "      <td>No</td>\n",
              "      <td>No</td>\n",
              "      <td>Yes</td>\n",
              "    </tr>\n",
              "    <tr>\n",
              "      <th>7042</th>\n",
              "      <td>Fiber optic</td>\n",
              "      <td>Yes</td>\n",
              "      <td>No</td>\n",
              "      <td>Yes</td>\n",
              "      <td>Yes</td>\n",
              "      <td>Yes</td>\n",
              "      <td>Yes</td>\n",
              "      <td>No</td>\n",
              "    </tr>\n",
              "  </tbody>\n",
              "</table>\n",
              "<p>7043 rows × 8 columns</p>\n",
              "</div>"
            ],
            "text/plain": [
              "     internet_service online_security online_backup device_protection  \\\n",
              "0                 DSL              No           Yes                No   \n",
              "1                 DSL             Yes            No               Yes   \n",
              "2                 DSL             Yes           Yes                No   \n",
              "3                 DSL             Yes            No               Yes   \n",
              "4         Fiber optic              No            No                No   \n",
              "...               ...             ...           ...               ...   \n",
              "7038              DSL             Yes            No               Yes   \n",
              "7039      Fiber optic              No           Yes               Yes   \n",
              "7040              DSL             Yes            No                No   \n",
              "7041      Fiber optic              No            No                No   \n",
              "7042      Fiber optic             Yes            No               Yes   \n",
              "\n",
              "     tech_support streaming_tv streaming_movies multiple_lines  \n",
              "0              No           No               No            NaN  \n",
              "1              No           No               No             No  \n",
              "2              No           No               No             No  \n",
              "3             Yes           No               No            NaN  \n",
              "4              No           No               No             No  \n",
              "...           ...          ...              ...            ...  \n",
              "7038          Yes          Yes              Yes            Yes  \n",
              "7039           No          Yes              Yes            Yes  \n",
              "7040           No           No               No            NaN  \n",
              "7041           No           No               No            Yes  \n",
              "7042          Yes          Yes              Yes             No  \n",
              "\n",
              "[7043 rows x 8 columns]"
            ]
          },
          "execution_count": 40,
          "metadata": {},
          "output_type": "execute_result"
        }
      ],
      "source": [
        "data[['internet_service', 'online_security', 'online_backup', 'device_protection', 'tech_support', 'streaming_tv', 'streaming_movies', 'multiple_lines']]"
      ]
    },
    {
      "cell_type": "markdown",
      "metadata": {
        "id": "hYegs0vE47Vh"
      },
      "source": [
        "Как и говорилось выше, пропуски в категориальных признаках указывающих на наличие определенных услуг. Все столбцы кроме internet_service предлагаю заполнить значением No. Вот оставшийся столбец уже не совсем бинарный, но все же можно и тут заполнить значениями No, создать третью категорию в этом признаке - потому что, предполагаю, что есть люди не пользующиеся услугами интернета."
      ]
    },
    {
      "cell_type": "code",
      "execution_count": null,
      "metadata": {
        "id": "M4SsDOVc47Vh"
      },
      "outputs": [],
      "source": [
        "for i in ['internet_service', 'online_security', 'online_backup', 'device_protection', 'tech_support', 'streaming_tv', 'streaming_movies', 'multiple_lines']:\n",
        "    data[i] = data[i].fillna('No')"
      ]
    },
    {
      "cell_type": "code",
      "execution_count": null,
      "metadata": {
        "id": "JFx0X6W047Vh",
        "outputId": "2ea45c34-73a4-4e60-be60-c81c4ad203b4"
      },
      "outputs": [
        {
          "data": {
            "text/plain": [
              "customer_id          0\n",
              "begin_date           0\n",
              "end_date             0\n",
              "type                 0\n",
              "paperless_billing    0\n",
              "payment_method       0\n",
              "monthly_charges      0\n",
              "total_charges        0\n",
              "internet_service     0\n",
              "online_security      0\n",
              "online_backup        0\n",
              "device_protection    0\n",
              "tech_support         0\n",
              "streaming_tv         0\n",
              "streaming_movies     0\n",
              "gender               0\n",
              "senior_citizen       0\n",
              "partner              0\n",
              "dependents           0\n",
              "multiple_lines       0\n",
              "dtype: int64"
            ]
          },
          "execution_count": 42,
          "metadata": {},
          "output_type": "execute_result"
        }
      ],
      "source": [
        "data.isna().sum()"
      ]
    },
    {
      "cell_type": "markdown",
      "metadata": {
        "id": "2DN5NfKv47Vh"
      },
      "source": [
        "### Исследовательский анализ, поиск аномалий"
      ]
    },
    {
      "cell_type": "markdown",
      "metadata": {
        "id": "Tz19ljtR47Vi"
      },
      "source": [
        "Для начала создадим гистограммы для датасета, через .hist(), он не выведет категориальных переменных, но даст некоторую информацию для размышления. В красивой визуализации я не постиг дзен, поэтому будем пользоваться дефолтной pandas"
      ]
    },
    {
      "cell_type": "code",
      "execution_count": null,
      "metadata": {
        "id": "tdVhrt-Y47Vi",
        "outputId": "a0193439-bace-451b-c30a-877f429772ca"
      },
      "outputs": [
        {
          "data": {
            "text/plain": [
              "array([[<AxesSubplot:title={'center':'begin_date'}>,\n",
              "        <AxesSubplot:title={'center':'end_date'}>],\n",
              "       [<AxesSubplot:title={'center':'monthly_charges'}>,\n",
              "        <AxesSubplot:title={'center':'total_charges'}>],\n",
              "       [<AxesSubplot:title={'center':'senior_citizen'}>, <AxesSubplot:>]],\n",
              "      dtype=object)"
            ]
          },
          "execution_count": 43,
          "metadata": {},
          "output_type": "execute_result"
        },
        {
          "data": {
            "image/png": "[encoded data removed]",
            "text/plain": [
              "<Figure size 720x720 with 6 Axes>"
            ]
          },
          "metadata": {
            "needs_background": "light"
          },
          "output_type": "display_data"
        }
      ],
      "source": [
        "data.hist(figsize=(10, 10), bins = 30)"
      ]
    },
    {
      "cell_type": "markdown",
      "metadata": {
        "id": "Usfp-0iI47Vi"
      },
      "source": [
        "- На графике begin_data, видим некоторые резкие приросты, может быть они связаны с рекламными компаниями. В целом видим положительный тренд к концу изучаемого периода.\n",
        "- На графике end_date - явный выброс? Вовсе нет, просто мы всех клиентов, которые сохранились, списали в конце изучаемого периода, видно, что большинство все-таки остается с данным оператором.\n",
        "- На графике ежемесячных выплат видим, что большинство сидит на более недорогих тарифах\n",
        "- По общим выплатам, можно выдвинуть гипотезу, что большинство клиентов все-таки новички, мало кто выплатил за весь период более 2000 у.е.\n",
        "- По последнему графику можно сказать, что число пенсионеров меньше в ~5 раз"
      ]
    },
    {
      "cell_type": "code",
      "execution_count": null,
      "metadata": {
        "id": "Wz1bhNMv47Vi",
        "outputId": "13c39134-bf61-46fa-ee05-69280638450b"
      },
      "outputs": [
        {
          "data": {
            "text/plain": [
              "<AxesSubplot:xlabel='Type', ylabel='Count'>"
            ]
          },
          "execution_count": 44,
          "metadata": {},
          "output_type": "execute_result"
        },
        {
          "data": {
            "image/png": "[encoded data removed]",
            "text/plain": [
              "<Figure size 432x288 with 1 Axes>"
            ]
          },
          "metadata": {
            "needs_background": "light"
          },
          "output_type": "display_data"
        }
      ],
      "source": [
        "data['type'].value_counts().plot(kind='bar', xlabel= 'Type', ylabel ='Count', rot =0)"
      ]
    },
    {
      "cell_type": "markdown",
      "metadata": {
        "id": "MDj_p7mL47Vi"
      },
      "source": [
        "Самая популярная оплата - по месячная, звучит здраво"
      ]
    },
    {
      "cell_type": "code",
      "execution_count": null,
      "metadata": {
        "id": "tJz0s5ha47Vj",
        "outputId": "107e9e5e-bdc6-4624-d938-7a35322b0ef9"
      },
      "outputs": [
        {
          "data": {
            "text/plain": [
              "<AxesSubplot:xlabel='paperless_billing', ylabel='Count'>"
            ]
          },
          "execution_count": 45,
          "metadata": {},
          "output_type": "execute_result"
        },
        {
          "data": {
            "image/png": "[encoded data removed]",
            "text/plain": [
              "<Figure size 432x288 with 1 Axes>"
            ]
          },
          "metadata": {
            "needs_background": "light"
          },
          "output_type": "display_data"
        }
      ],
      "source": [
        "data['paperless_billing'].value_counts().plot(kind='bar', xlabel= 'paperless_billing', ylabel ='Count', rot =0)"
      ]
    },
    {
      "cell_type": "markdown",
      "metadata": {
        "id": "0AXnaeB247Vj"
      },
      "source": [
        "Большинство предпочитают не возиться с бумажками"
      ]
    },
    {
      "cell_type": "code",
      "execution_count": null,
      "metadata": {
        "id": "MNJmMZ3b47Vj",
        "outputId": "f17d6a18-b383-47d7-ef60-2eb16627dabd"
      },
      "outputs": [
        {
          "data": {
            "text/plain": [
              "<AxesSubplot:xlabel='payment_method', ylabel='Count'>"
            ]
          },
          "execution_count": 46,
          "metadata": {},
          "output_type": "execute_result"
        },
        {
          "data": {
            "image/png": "[encoded data removed]",
            "text/plain": [
              "<Figure size 1080x1080 with 1 Axes>"
            ]
          },
          "metadata": {
            "needs_background": "light"
          },
          "output_type": "display_data"
        }
      ],
      "source": [
        "data['payment_method'].value_counts().plot(kind='bar', xlabel= 'payment_method', ylabel ='Count', rot =0, figsize = (15,15))"
      ]
    },
    {
      "cell_type": "markdown",
      "metadata": {
        "id": "01-iItHe47Vj"
      },
      "source": [
        "Достаточно большое количество людей предпочитают автоматическую оплату (хотя лично я такое стараюсь избегать), электронный чек - самый популярный, вроде все в порядке, без сюрпризов."
      ]
    },
    {
      "cell_type": "code",
      "execution_count": null,
      "metadata": {
        "id": "XPPaI0Do47Vj",
        "outputId": "e9d8bec8-6501-4f93-c43a-0532808d990b"
      },
      "outputs": [
        {
          "data": {
            "text/plain": [
              "<AxesSubplot:xlabel='online_security', ylabel='Count'>"
            ]
          },
          "execution_count": 47,
          "metadata": {},
          "output_type": "execute_result"
        },
        {
          "data": {
            "image/png": "[encoded data removed]",
            "text/plain": [
              "<Figure size 432x288 with 1 Axes>"
            ]
          },
          "metadata": {
            "needs_background": "light"
          },
          "output_type": "display_data"
        }
      ],
      "source": [
        "data['online_security'].value_counts().plot(kind='bar', xlabel= 'online_security', ylabel ='Count', rot =0)"
      ]
    },
    {
      "cell_type": "markdown",
      "metadata": {
        "id": "EUFtFtRA47Vj"
      },
      "source": [
        "Защита данных нам не нужна, на терять в ваших интернетах нечего"
      ]
    },
    {
      "cell_type": "code",
      "execution_count": null,
      "metadata": {
        "id": "bF00Qiqh47Vj",
        "outputId": "8ac6cdf1-aef4-42c7-932c-d1a51af357d2"
      },
      "outputs": [
        {
          "data": {
            "text/plain": [
              "<AxesSubplot:xlabel='online_backup', ylabel='Count'>"
            ]
          },
          "execution_count": 48,
          "metadata": {},
          "output_type": "execute_result"
        },
        {
          "data": {
            "image/png": "[encoded data removed]",
            "text/plain": [
              "<Figure size 432x288 with 1 Axes>"
            ]
          },
          "metadata": {
            "needs_background": "light"
          },
          "output_type": "display_data"
        }
      ],
      "source": [
        "data['online_backup'].value_counts().plot(kind='bar', xlabel= 'online_backup', ylabel ='Count', rot =0)"
      ]
    },
    {
      "cell_type": "code",
      "execution_count": null,
      "metadata": {
        "id": "Jw8VDNtB47Vk",
        "outputId": "4b1dfbe6-716a-49e6-d13b-a668538bb24f"
      },
      "outputs": [
        {
          "data": {
            "text/plain": [
              "<AxesSubplot:xlabel='device_protection', ylabel='Count'>"
            ]
          },
          "execution_count": 49,
          "metadata": {},
          "output_type": "execute_result"
        },
        {
          "data": {
            "image/png": "[encoded data removed]",
            "text/plain": [
              "<Figure size 432x288 with 1 Axes>"
            ]
          },
          "metadata": {
            "needs_background": "light"
          },
          "output_type": "display_data"
        }
      ],
      "source": [
        "data['device_protection'].value_counts().plot(kind='bar', xlabel= 'device_protection', ylabel ='Count', rot =0)"
      ]
    },
    {
      "cell_type": "code",
      "execution_count": null,
      "metadata": {
        "id": "wAK1BGOW47Vk",
        "outputId": "5277c5a5-af7d-4b7b-bc90-5859081c15aa"
      },
      "outputs": [
        {
          "data": {
            "text/plain": [
              "<AxesSubplot:xlabel='tech_support', ylabel='Count'>"
            ]
          },
          "execution_count": 50,
          "metadata": {},
          "output_type": "execute_result"
        },
        {
          "data": {
            "image/png": "[encoded data removed]",
            "text/plain": [
              "<Figure size 432x288 with 1 Axes>"
            ]
          },
          "metadata": {
            "needs_background": "light"
          },
          "output_type": "display_data"
        }
      ],
      "source": [
        "data['tech_support'].value_counts().plot(kind='bar', xlabel= 'tech_support', ylabel ='Count', rot =0)"
      ]
    },
    {
      "cell_type": "code",
      "execution_count": null,
      "metadata": {
        "id": "YyYo3XVm47Vk",
        "outputId": "e71e4970-828e-49f1-d31b-6ffb6ef4fa21"
      },
      "outputs": [
        {
          "data": {
            "text/plain": [
              "<AxesSubplot:xlabel='streaming_tv', ylabel='Count'>"
            ]
          },
          "execution_count": 51,
          "metadata": {},
          "output_type": "execute_result"
        },
        {
          "data": {
            "image/png": "[encoded data removed]",
            "text/plain": [
              "<Figure size 432x288 with 1 Axes>"
            ]
          },
          "metadata": {
            "needs_background": "light"
          },
          "output_type": "display_data"
        }
      ],
      "source": [
        "data['streaming_tv'].value_counts().plot(kind='bar', xlabel= 'streaming_tv', ylabel ='Count', rot =0)"
      ]
    },
    {
      "cell_type": "code",
      "execution_count": null,
      "metadata": {
        "id": "WG1ahDNG47Vk",
        "outputId": "9ebe3f52-aa70-4df2-b349-040280355ab6"
      },
      "outputs": [
        {
          "data": {
            "text/plain": [
              "<AxesSubplot:xlabel='streaming_movies', ylabel='Count'>"
            ]
          },
          "execution_count": 52,
          "metadata": {},
          "output_type": "execute_result"
        },
        {
          "data": {
            "image/png": "[encoded data removed]",
            "text/plain": [
              "<Figure size 432x288 with 1 Axes>"
            ]
          },
          "metadata": {
            "needs_background": "light"
          },
          "output_type": "display_data"
        }
      ],
      "source": [
        "data['streaming_movies'].value_counts().plot(kind='bar', xlabel= 'streaming_movies', ylabel ='Count', rot =0)"
      ]
    },
    {
      "cell_type": "markdown",
      "metadata": {
        "id": "Na9Uoq_247Vk"
      },
      "source": [
        "В целом по услугам интернета ожидаемо преобладает нет, я лично тоже не пользуюсь дополнительными опциями провайдера, мне и так хорошо живется"
      ]
    },
    {
      "cell_type": "code",
      "execution_count": null,
      "metadata": {
        "id": "e4AHN6Kc47Vl",
        "outputId": "fe7a0d9f-1e6e-4f69-b67d-e2ed1c52acd8"
      },
      "outputs": [
        {
          "data": {
            "text/plain": [
              "<AxesSubplot:xlabel='gender', ylabel='Count'>"
            ]
          },
          "execution_count": 53,
          "metadata": {},
          "output_type": "execute_result"
        },
        {
          "data": {
            "image/png": "[encoded data removed]",
            "text/plain": [
              "<Figure size 432x288 with 1 Axes>"
            ]
          },
          "metadata": {
            "needs_background": "light"
          },
          "output_type": "display_data"
        }
      ],
      "source": [
        "data['gender'].value_counts().plot(kind='bar', xlabel= 'gender', ylabel ='Count', rot =0)"
      ]
    },
    {
      "cell_type": "markdown",
      "metadata": {
        "id": "q5GY8W8R47Vl"
      },
      "source": [
        "Почти идеальное равенство!"
      ]
    },
    {
      "cell_type": "code",
      "execution_count": null,
      "metadata": {
        "id": "KSg51cyG47Vl",
        "outputId": "dcfb97b2-9e77-4ac7-8706-ae5f83ea5855"
      },
      "outputs": [
        {
          "data": {
            "text/plain": [
              "<AxesSubplot:xlabel='partner', ylabel='Count'>"
            ]
          },
          "execution_count": 54,
          "metadata": {},
          "output_type": "execute_result"
        },
        {
          "data": {
            "image/png": "[encoded data removed]",
            "text/plain": [
              "<Figure size 432x288 with 1 Axes>"
            ]
          },
          "metadata": {
            "needs_background": "light"
          },
          "output_type": "display_data"
        }
      ],
      "source": [
        "data['partner'].value_counts().plot(kind='bar', xlabel= 'partner', ylabel ='Count', rot =0)"
      ]
    },
    {
      "cell_type": "markdown",
      "metadata": {
        "id": "odaNKtLs47Vl"
      },
      "source": [
        "Преобладают свободные от обязательств люди"
      ]
    },
    {
      "cell_type": "code",
      "execution_count": null,
      "metadata": {
        "id": "egKqD5LK47Vm",
        "outputId": "414fd962-92fe-4f96-801e-e36a90773de0"
      },
      "outputs": [
        {
          "data": {
            "text/plain": [
              "<AxesSubplot:xlabel='dependents', ylabel='Count'>"
            ]
          },
          "execution_count": 55,
          "metadata": {},
          "output_type": "execute_result"
        },
        {
          "data": {
            "image/png": "[encoded data removed]",
            "text/plain": [
              "<Figure size 432x288 with 1 Axes>"
            ]
          },
          "metadata": {
            "needs_background": "light"
          },
          "output_type": "display_data"
        }
      ],
      "source": [
        "data['dependents'].value_counts().plot(kind='bar', xlabel= 'dependents', ylabel ='Count', rot =0)"
      ]
    },
    {
      "cell_type": "markdown",
      "metadata": {
        "id": "BDfTFrb147Vm"
      },
      "source": [
        "Людей в браке - меньше большинства, а с детьми еще меньше."
      ]
    },
    {
      "cell_type": "code",
      "execution_count": null,
      "metadata": {
        "id": "KJm_7Lkh47Vm",
        "outputId": "c42c5f6f-562f-4938-fa8a-4c87bcecbcd4"
      },
      "outputs": [
        {
          "data": {
            "text/plain": [
              "<AxesSubplot:xlabel='multiple_lines', ylabel='Count'>"
            ]
          },
          "execution_count": 56,
          "metadata": {},
          "output_type": "execute_result"
        },
        {
          "data": {
            "image/png": "[encoded data removed]",
            "text/plain": [
              "<Figure size 432x288 with 1 Axes>"
            ]
          },
          "metadata": {
            "needs_background": "light"
          },
          "output_type": "display_data"
        }
      ],
      "source": [
        "data['multiple_lines'].value_counts().plot(kind='bar', xlabel= 'multiple_lines', ylabel ='Count', rot =0)"
      ]
    },
    {
      "cell_type": "markdown",
      "metadata": {
        "id": "sh0s7uk247Vm"
      },
      "source": [
        "Услуги телефонной связи тоже не особо востребованы"
      ]
    },
    {
      "cell_type": "markdown",
      "metadata": {
        "id": "hgml4pSA47Vm"
      },
      "source": [
        "Вроде никаких существенных аномалий выявлено не было!"
      ]
    },
    {
      "cell_type": "markdown",
      "metadata": {
        "id": "7SUJhHbb47Vm"
      },
      "source": [
        "### Добавить столбцы, которые помогут в обучении"
      ]
    },
    {
      "cell_type": "markdown",
      "metadata": {
        "id": "SEqBHJyV47Vn"
      },
      "source": [
        "В первую очередь необходимо добавить столбец, который показывает срок присутствия клиента в компании, в днях."
      ]
    },
    {
      "cell_type": "code",
      "execution_count": null,
      "metadata": {
        "id": "95qGwK_947Vn"
      },
      "outputs": [],
      "source": [
        "data['days_with_company'] = (data['end_date'] - data['begin_date']).dt.days"
      ]
    },
    {
      "cell_type": "code",
      "execution_count": null,
      "metadata": {
        "id": "EABde23S47Vn",
        "outputId": "c271614d-c83b-483b-c9ae-9ea421b9baa3"
      },
      "outputs": [
        {
          "data": {
            "text/plain": [
              "0         31\n",
              "1       1036\n",
              "2        123\n",
              "3       1371\n",
              "4        153\n",
              "        ... \n",
              "7038     730\n",
              "7039    2191\n",
              "7040     337\n",
              "7041     215\n",
              "7042    2010\n",
              "Name: days_with_company, Length: 7043, dtype: int64"
            ]
          },
          "execution_count": 58,
          "metadata": {},
          "output_type": "execute_result"
        }
      ],
      "source": [
        "data['days_with_company']"
      ]
    },
    {
      "cell_type": "markdown",
      "metadata": {
        "id": "ixbL4k7V47Vn"
      },
      "source": [
        "Задача звучала изначально без понимания, как это сделать, но первая же ссылка на стаковерфлоу помогла мне справится, ехуу.\n",
        "Теперь добавим таргетный признак в явном виде! Для начала нужно сделать проверку (она закоммичена в блоке 1.2) на то, были ли у нас записи на дату, которую мы присвоили день выгрузки данных. Ответ - нет, значит мы можем смело создать дополнительный столбец по 1 февраля. Задача звучит как \"Оператор связи «Ниединогоразрыва.ком» хочет научиться прогнозировать отток клиентов.\", следовательно 1 присваивается покинувшему нас клиенту, 0 все остальные."
      ]
    },
    {
      "cell_type": "code",
      "execution_count": null,
      "metadata": {
        "scrolled": false,
        "id": "kuF4PIt647Vn"
      },
      "outputs": [],
      "source": [
        "data['left_the_company'] = 0\n",
        "data.loc[data['end_date'] != '2020-02-01', 'left_the_company'] = 1"
      ]
    },
    {
      "cell_type": "code",
      "execution_count": null,
      "metadata": {
        "id": "-RSRFT-P47Vo",
        "outputId": "0daf9d4f-39bb-4b21-c10f-8806e7ddd676"
      },
      "outputs": [
        {
          "data": {
            "text/plain": [
              "0    5942\n",
              "1    1101\n",
              "Name: left_the_company, dtype: int64"
            ]
          },
          "execution_count": 60,
          "metadata": {},
          "output_type": "execute_result"
        }
      ],
      "source": [
        "data['left_the_company'].value_counts()"
      ]
    },
    {
      "cell_type": "markdown",
      "metadata": {
        "id": "YoaSdEJd47Vo"
      },
      "source": [
        "Баланса классов нет, но метрика устойчива - значит игнорим."
      ]
    },
    {
      "cell_type": "markdown",
      "metadata": {
        "id": "HPhH8Tgw47Vo"
      },
      "source": [
        "### Снести столбцы которые могут коррелировать с другими"
      ]
    },
    {
      "cell_type": "code",
      "execution_count": null,
      "metadata": {
        "id": "Zgv24efu47Vo",
        "outputId": "11fdaaa5-600b-4c0a-8bd3-99eaba5be592"
      },
      "outputs": [
        {
          "data": {
            "text/html": [
              "<style  type=\"text/css\" >\n",
              "#T_b5ebf_row0_col0,#T_b5ebf_row1_col1,#T_b5ebf_row2_col2,#T_b5ebf_row3_col3,#T_b5ebf_row4_col4{\n",
              "            background-color:  #b40426;\n",
              "            color:  #f1f1f1;\n",
              "        }#T_b5ebf_row0_col1{\n",
              "            background-color:  #f3c8b2;\n",
              "            color:  #000000;\n",
              "        }#T_b5ebf_row0_col2,#T_b5ebf_row0_col3{\n",
              "            background-color:  #81a4fb;\n",
              "            color:  #000000;\n",
              "        }#T_b5ebf_row0_col4{\n",
              "            background-color:  #6687ed;\n",
              "            color:  #000000;\n",
              "        }#T_b5ebf_row1_col0{\n",
              "            background-color:  #ecd3c5;\n",
              "            color:  #000000;\n",
              "        }#T_b5ebf_row1_col2{\n",
              "            background-color:  #5572df;\n",
              "            color:  #000000;\n",
              "        }#T_b5ebf_row1_col3{\n",
              "            background-color:  #e97a5f;\n",
              "            color:  #000000;\n",
              "        }#T_b5ebf_row1_col4{\n",
              "            background-color:  #455cce;\n",
              "            color:  #f1f1f1;\n",
              "        }#T_b5ebf_row2_col0,#T_b5ebf_row3_col0{\n",
              "            background-color:  #516ddb;\n",
              "            color:  #000000;\n",
              "        }#T_b5ebf_row2_col1{\n",
              "            background-color:  #485fd1;\n",
              "            color:  #f1f1f1;\n",
              "        }#T_b5ebf_row2_col3,#T_b5ebf_row3_col2,#T_b5ebf_row3_col4,#T_b5ebf_row4_col0,#T_b5ebf_row4_col1{\n",
              "            background-color:  #3b4cc0;\n",
              "            color:  #f1f1f1;\n",
              "        }#T_b5ebf_row2_col4{\n",
              "            background-color:  #465ecf;\n",
              "            color:  #f1f1f1;\n",
              "        }#T_b5ebf_row3_col1{\n",
              "            background-color:  #ec7f63;\n",
              "            color:  #000000;\n",
              "        }#T_b5ebf_row4_col2{\n",
              "            background-color:  #4a63d3;\n",
              "            color:  #f1f1f1;\n",
              "        }#T_b5ebf_row4_col3{\n",
              "            background-color:  #3d50c3;\n",
              "            color:  #f1f1f1;\n",
              "        }</style><table id=\"T_b5ebf_\" ><thead>    <tr>        <th class=\"blank level0\" ></th>        <th class=\"col_heading level0 col0\" >monthly_charges</th>        <th class=\"col_heading level0 col1\" >total_charges</th>        <th class=\"col_heading level0 col2\" >senior_citizen</th>        <th class=\"col_heading level0 col3\" >days_with_company</th>        <th class=\"col_heading level0 col4\" >left_the_company</th>    </tr></thead><tbody>\n",
              "                <tr>\n",
              "                        <th id=\"T_b5ebf_level0_row0\" class=\"row_heading level0 row0\" >monthly_charges</th>\n",
              "                        <td id=\"T_b5ebf_row0_col0\" class=\"data row0 col0\" >1.000000</td>\n",
              "                        <td id=\"T_b5ebf_row0_col1\" class=\"data row0 col1\" >0.630440</td>\n",
              "                        <td id=\"T_b5ebf_row0_col2\" class=\"data row0 col2\" >0.220173</td>\n",
              "                        <td id=\"T_b5ebf_row0_col3\" class=\"data row0 col3\" >0.220054</td>\n",
              "                        <td id=\"T_b5ebf_row0_col4\" class=\"data row0 col4\" >0.154286</td>\n",
              "            </tr>\n",
              "            <tr>\n",
              "                        <th id=\"T_b5ebf_level0_row1\" class=\"row_heading level0 row1\" >total_charges</th>\n",
              "                        <td id=\"T_b5ebf_row1_col0\" class=\"data row1 col0\" >0.630440</td>\n",
              "                        <td id=\"T_b5ebf_row1_col1\" class=\"data row1 col1\" >1.000000</td>\n",
              "                        <td id=\"T_b5ebf_row1_col2\" class=\"data row1 col2\" >0.093985</td>\n",
              "                        <td id=\"T_b5ebf_row1_col3\" class=\"data row1 col3\" >0.821746</td>\n",
              "                        <td id=\"T_b5ebf_row1_col4\" class=\"data row1 col4\" >0.052175</td>\n",
              "            </tr>\n",
              "            <tr>\n",
              "                        <th id=\"T_b5ebf_level0_row2\" class=\"row_heading level0 row2\" >senior_citizen</th>\n",
              "                        <td id=\"T_b5ebf_row2_col0\" class=\"data row2 col0\" >0.220173</td>\n",
              "                        <td id=\"T_b5ebf_row2_col1\" class=\"data row2 col1\" >0.093985</td>\n",
              "                        <td id=\"T_b5ebf_row2_col2\" class=\"data row2 col2\" >1.000000</td>\n",
              "                        <td id=\"T_b5ebf_row2_col3\" class=\"data row2 col3\" >0.005283</td>\n",
              "                        <td id=\"T_b5ebf_row2_col4\" class=\"data row2 col4\" >0.056724</td>\n",
              "            </tr>\n",
              "            <tr>\n",
              "                        <th id=\"T_b5ebf_level0_row3\" class=\"row_heading level0 row3\" >days_with_company</th>\n",
              "                        <td id=\"T_b5ebf_row3_col0\" class=\"data row3 col0\" >0.220054</td>\n",
              "                        <td id=\"T_b5ebf_row3_col1\" class=\"data row3 col1\" >0.821746</td>\n",
              "                        <td id=\"T_b5ebf_row3_col2\" class=\"data row3 col2\" >0.005283</td>\n",
              "                        <td id=\"T_b5ebf_row3_col3\" class=\"data row3 col3\" >1.000000</td>\n",
              "                        <td id=\"T_b5ebf_row3_col4\" class=\"data row3 col4\" >0.016578</td>\n",
              "            </tr>\n",
              "            <tr>\n",
              "                        <th id=\"T_b5ebf_level0_row4\" class=\"row_heading level0 row4\" >left_the_company</th>\n",
              "                        <td id=\"T_b5ebf_row4_col0\" class=\"data row4 col0\" >0.154286</td>\n",
              "                        <td id=\"T_b5ebf_row4_col1\" class=\"data row4 col1\" >0.052175</td>\n",
              "                        <td id=\"T_b5ebf_row4_col2\" class=\"data row4 col2\" >0.056724</td>\n",
              "                        <td id=\"T_b5ebf_row4_col3\" class=\"data row4 col3\" >0.016578</td>\n",
              "                        <td id=\"T_b5ebf_row4_col4\" class=\"data row4 col4\" >1.000000</td>\n",
              "            </tr>\n",
              "    </tbody></table>"
            ],
            "text/plain": [
              "<pandas.io.formats.style.Styler at 0x7f971b0e4a90>"
            ]
          },
          "execution_count": 61,
          "metadata": {},
          "output_type": "execute_result"
        }
      ],
      "source": [
        "corr = data.corr()\n",
        "corr.style.background_gradient(cmap='coolwarm')"
      ]
    },
    {
      "cell_type": "markdown",
      "metadata": {
        "id": "2XkfNz9147Vo"
      },
      "source": [
        "Как видим из данных очень коррелируют суммарные выплаты с днем компании, что логично, чем дольше человек пользуется услугами - тем больше он платит, снесем этот столбец, чтобы избежать обучения.\n",
        "Правда мапа не построилась для категориальных фич, не знаю, насколько это трагично, но думаю что вряд ли там одна из другой происходит, как в данном случае."
      ]
    },
    {
      "cell_type": "code",
      "execution_count": null,
      "metadata": {
        "id": "ok5xO04T47Vp"
      },
      "outputs": [],
      "source": [
        "data.drop('total_charges', axis=1 , inplace=True)"
      ]
    },
    {
      "cell_type": "markdown",
      "metadata": {
        "id": "3DrAuisg47Vp"
      },
      "source": [
        "Снесем также айдишники, они не несут полезной для обучения информации"
      ]
    },
    {
      "cell_type": "code",
      "execution_count": null,
      "metadata": {
        "id": "LUUz4M8-47Vp"
      },
      "outputs": [],
      "source": [
        "data.drop('customer_id', axis=1 , inplace=True)"
      ]
    },
    {
      "cell_type": "markdown",
      "metadata": {
        "id": "tQFuLhjV47Vp"
      },
      "source": [
        "## Деление выборки, выбор модели, проверка на тестовой лучшей из них."
      ]
    },
    {
      "cell_type": "markdown",
      "metadata": {
        "id": "c3ixPCks47Vp"
      },
      "source": [
        "### Деление выборки и подготовка к обучению"
      ]
    },
    {
      "cell_type": "markdown",
      "metadata": {
        "id": "VUDbgcxS47Vp"
      },
      "source": [
        "Снесем из данных столбцы, которые не дадут пользы:"
      ]
    },
    {
      "cell_type": "code",
      "execution_count": null,
      "metadata": {
        "id": "u23_drzl47Vq"
      },
      "outputs": [],
      "source": [
        "data.drop(['end_date', 'begin_date'], axis=1 , inplace=True)"
      ]
    },
    {
      "cell_type": "markdown",
      "metadata": {
        "id": "5Jwis5XR47Vq"
      },
      "source": [
        "Разбиваем на фичи и таргет:"
      ]
    },
    {
      "cell_type": "code",
      "execution_count": null,
      "metadata": {
        "id": "0AWlSEsI47Vq"
      },
      "outputs": [],
      "source": [
        "target = data['left_the_company']\n",
        "features = data.drop('left_the_company', axis=1)"
      ]
    },
    {
      "cell_type": "code",
      "execution_count": null,
      "metadata": {
        "id": "mDj0Tzza47Vr"
      },
      "outputs": [],
      "source": [
        "features_train, features_test, target_train, target_test = train_test_split(features,\n",
        "                                                                            target,\n",
        "                                                                            train_size=.75, #test_size = 0.25\n",
        "                                                                            random_state=80523)"
      ]
    },
    {
      "cell_type": "code",
      "execution_count": null,
      "metadata": {
        "scrolled": true,
        "id": "_XiFr1Rz47Vr"
      },
      "outputs": [],
      "source": [
        "#!pip install sklearn --user"
      ]
    },
    {
      "cell_type": "markdown",
      "metadata": {
        "id": "vuhXYJ8z47Vr"
      },
      "source": [
        "**Я очень много времени потерял на попытке сделать через ОХЕ здорового человека, но я больше так не могу, обязательно добью и попробую, как точно сдам проект, а сейчас похоже придется страдать через гет_даммиес (как я понял с созвона - это очень нежелательно, но возможно, прямого запрета на это не прозвучало), да простят меня боги аналитики данных\n",
        "Ниже оставлю код, который когда-то давал ревьювер на каком-то из проектов и который я ковырял, но не доковырял** UPD: осознал ошибку, после наката склерна, я не перезапустил весь проект, может из-за этого ловил ошибку, в прочем уже сделал как сделал, потом доковыряю:CCCC"
      ]
    },
    {
      "cell_type": "code",
      "execution_count": null,
      "metadata": {
        "id": "uYvjdB7x47Vs"
      },
      "outputs": [],
      "source": [
        "#encoder = OneHotEncoder(handle_unknown='error', drop='first') #удаляем первый столбец чтобы не попасть в дамми-ловушку\n",
        "#var_categorical = ['type', 'paperless_billing','payment_method', 'internet_service', 'online_security', 'online_backup','device_protection', 'tech_support', 'streaming_tv', 'streaming_movies', 'gender',  'senior_citizen', 'partner', 'dependents', 'multiple_lines']\n",
        "\n",
        "#features_train_ohe = pd.DataFrame(\n",
        "#    encoder.fit_transform(features_train[var_categorical]).toarray(),\n",
        "#    columns=encoder.get_feature_names_out()\n",
        "#)\n",
        "\n",
        "#features_test_ohe = pd.DataFrame(\n",
        "#    encoder.transform(features_test[var_categorical]).toarray(),\n",
        "#    columns=encoder.get_feature_names_out()\n",
        "#)"
      ]
    },
    {
      "cell_type": "code",
      "execution_count": null,
      "metadata": {
        "id": "bS4BT_O-47Vs"
      },
      "outputs": [],
      "source": [
        "features_train_ohe = pd.get_dummies(features_train, drop_first=True)"
      ]
    },
    {
      "cell_type": "code",
      "execution_count": null,
      "metadata": {
        "id": "aMRJK8ke47Vs"
      },
      "outputs": [],
      "source": [
        "features_test_ohe = pd.get_dummies(features_train, drop_first=True)"
      ]
    },
    {
      "cell_type": "code",
      "execution_count": null,
      "metadata": {
        "id": "pcQHEjMV47Vt",
        "outputId": "ab3d9125-5127-4b1b-98d2-7b133e486be9"
      },
      "outputs": [
        {
          "data": {
            "text/plain": [
              "Index(['type', 'paperless_billing', 'payment_method', 'monthly_charges',\n",
              "       'internet_service', 'online_security', 'online_backup',\n",
              "       'device_protection', 'tech_support', 'streaming_tv', 'streaming_movies',\n",
              "       'gender', 'senior_citizen', 'partner', 'dependents', 'multiple_lines',\n",
              "       'days_with_company'],\n",
              "      dtype='object')"
            ]
          },
          "execution_count": 71,
          "metadata": {},
          "output_type": "execute_result"
        }
      ],
      "source": [
        "features_test.columns"
      ]
    },
    {
      "cell_type": "markdown",
      "metadata": {
        "id": "BirRxCtV47Vt"
      },
      "source": [
        "Осуществим проверку (воспользуемся данными файла из коллабы, который нашел в тг)"
      ]
    },
    {
      "cell_type": "code",
      "execution_count": null,
      "metadata": {
        "id": "q083gM2547Vt",
        "outputId": "a087e2cf-9a8b-46d7-f8cc-a82377aa3bde"
      },
      "outputs": [
        {
          "name": "stdout",
          "output_type": "stream",
          "text": [
            "type\n",
            "\n",
            "    Количество уникальных значений признка  \n",
            "    в обеих выборках одинаковое: True\n",
            "    \n",
            "\n",
            "    Уникальные значения признка \n",
            "    в обеих выборках одинаковые: True\n",
            "    \n",
            "\n",
            "    Только в тренировочной выборке есть значения: set()\n",
            "    \n",
            "\n",
            "    Только в тестовой выборке есть значения: set()\n",
            "    \n",
            "paperless_billing\n",
            "\n",
            "    Количество уникальных значений признка  \n",
            "    в обеих выборках одинаковое: True\n",
            "    \n",
            "\n",
            "    Уникальные значения признка \n",
            "    в обеих выборках одинаковые: True\n",
            "    \n",
            "\n",
            "    Только в тренировочной выборке есть значения: set()\n",
            "    \n",
            "\n",
            "    Только в тестовой выборке есть значения: set()\n",
            "    \n",
            "payment_method\n",
            "\n",
            "    Количество уникальных значений признка  \n",
            "    в обеих выборках одинаковое: True\n",
            "    \n",
            "\n",
            "    Уникальные значения признка \n",
            "    в обеих выборках одинаковые: True\n",
            "    \n",
            "\n",
            "    Только в тренировочной выборке есть значения: set()\n",
            "    \n",
            "\n",
            "    Только в тестовой выборке есть значения: set()\n",
            "    \n",
            "internet_service\n",
            "\n",
            "    Количество уникальных значений признка  \n",
            "    в обеих выборках одинаковое: True\n",
            "    \n",
            "\n",
            "    Уникальные значения признка \n",
            "    в обеих выборках одинаковые: True\n",
            "    \n",
            "\n",
            "    Только в тренировочной выборке есть значения: set()\n",
            "    \n",
            "\n",
            "    Только в тестовой выборке есть значения: set()\n",
            "    \n",
            "online_security\n",
            "\n",
            "    Количество уникальных значений признка  \n",
            "    в обеих выборках одинаковое: True\n",
            "    \n",
            "\n",
            "    Уникальные значения признка \n",
            "    в обеих выборках одинаковые: True\n",
            "    \n",
            "\n",
            "    Только в тренировочной выборке есть значения: set()\n",
            "    \n",
            "\n",
            "    Только в тестовой выборке есть значения: set()\n",
            "    \n",
            "online_backup\n",
            "\n",
            "    Количество уникальных значений признка  \n",
            "    в обеих выборках одинаковое: True\n",
            "    \n",
            "\n",
            "    Уникальные значения признка \n",
            "    в обеих выборках одинаковые: True\n",
            "    \n",
            "\n",
            "    Только в тренировочной выборке есть значения: set()\n",
            "    \n",
            "\n",
            "    Только в тестовой выборке есть значения: set()\n",
            "    \n",
            "device_protection\n",
            "\n",
            "    Количество уникальных значений признка  \n",
            "    в обеих выборках одинаковое: True\n",
            "    \n",
            "\n",
            "    Уникальные значения признка \n",
            "    в обеих выборках одинаковые: True\n",
            "    \n",
            "\n",
            "    Только в тренировочной выборке есть значения: set()\n",
            "    \n",
            "\n",
            "    Только в тестовой выборке есть значения: set()\n",
            "    \n",
            "tech_support\n",
            "\n",
            "    Количество уникальных значений признка  \n",
            "    в обеих выборках одинаковое: True\n",
            "    \n",
            "\n",
            "    Уникальные значения признка \n",
            "    в обеих выборках одинаковые: True\n",
            "    \n",
            "\n",
            "    Только в тренировочной выборке есть значения: set()\n",
            "    \n",
            "\n",
            "    Только в тестовой выборке есть значения: set()\n",
            "    \n",
            "streaming_tv\n",
            "\n",
            "    Количество уникальных значений признка  \n",
            "    в обеих выборках одинаковое: True\n",
            "    \n",
            "\n",
            "    Уникальные значения признка \n",
            "    в обеих выборках одинаковые: True\n",
            "    \n",
            "\n",
            "    Только в тренировочной выборке есть значения: set()\n",
            "    \n",
            "\n",
            "    Только в тестовой выборке есть значения: set()\n",
            "    \n",
            "streaming_movies\n",
            "\n",
            "    Количество уникальных значений признка  \n",
            "    в обеих выборках одинаковое: True\n",
            "    \n",
            "\n",
            "    Уникальные значения признка \n",
            "    в обеих выборках одинаковые: True\n",
            "    \n",
            "\n",
            "    Только в тренировочной выборке есть значения: set()\n",
            "    \n",
            "\n",
            "    Только в тестовой выборке есть значения: set()\n",
            "    \n",
            "gender\n",
            "\n",
            "    Количество уникальных значений признка  \n",
            "    в обеих выборках одинаковое: True\n",
            "    \n",
            "\n",
            "    Уникальные значения признка \n",
            "    в обеих выборках одинаковые: True\n",
            "    \n",
            "\n",
            "    Только в тренировочной выборке есть значения: set()\n",
            "    \n",
            "\n",
            "    Только в тестовой выборке есть значения: set()\n",
            "    \n",
            "senior_citizen\n",
            "\n",
            "    Количество уникальных значений признка  \n",
            "    в обеих выборках одинаковое: True\n",
            "    \n",
            "\n",
            "    Уникальные значения признка \n",
            "    в обеих выборках одинаковые: True\n",
            "    \n",
            "\n",
            "    Только в тренировочной выборке есть значения: set()\n",
            "    \n",
            "\n",
            "    Только в тестовой выборке есть значения: set()\n",
            "    \n",
            "partner\n",
            "\n",
            "    Количество уникальных значений признка  \n",
            "    в обеих выборках одинаковое: True\n",
            "    \n",
            "\n",
            "    Уникальные значения признка \n",
            "    в обеих выборках одинаковые: True\n",
            "    \n",
            "\n",
            "    Только в тренировочной выборке есть значения: set()\n",
            "    \n",
            "\n",
            "    Только в тестовой выборке есть значения: set()\n",
            "    \n",
            "dependents\n",
            "\n",
            "    Количество уникальных значений признка  \n",
            "    в обеих выборках одинаковое: True\n",
            "    \n",
            "\n",
            "    Уникальные значения признка \n",
            "    в обеих выборках одинаковые: True\n",
            "    \n",
            "\n",
            "    Только в тренировочной выборке есть значения: set()\n",
            "    \n",
            "\n",
            "    Только в тестовой выборке есть значения: set()\n",
            "    \n",
            "multiple_lines\n",
            "\n",
            "    Количество уникальных значений признка  \n",
            "    в обеих выборках одинаковое: True\n",
            "    \n",
            "\n",
            "    Уникальные значения признка \n",
            "    в обеих выборках одинаковые: True\n",
            "    \n",
            "\n",
            "    Только в тренировочной выборке есть значения: set()\n",
            "    \n",
            "\n",
            "    Только в тестовой выборке есть значения: set()\n",
            "    \n"
          ]
        }
      ],
      "source": [
        "for i in ['type', 'paperless_billing', 'payment_method',\n",
        "       'internet_service', 'online_security', 'online_backup',\n",
        "       'device_protection', 'tech_support', 'streaming_tv', 'streaming_movies',\n",
        "       'gender', 'senior_citizen', 'partner', 'dependents', 'multiple_lines']:\n",
        "    column_train = set(features_train[i].unique())\n",
        "    column_test = set(features_test[i].unique())\n",
        "    num_column_train = len(column_train)\n",
        "    num_column_test = len(column_test)\n",
        "    print(i)\n",
        "    print(f'''\n",
        "    Количество уникальных значений признка\n",
        "    в обеих выборках одинаковое: {num_column_train == num_column_test}\n",
        "    ''')\n",
        "    print(f'''\n",
        "    Уникальные значения признка\n",
        "    в обеих выборках одинаковые: {column_train == column_test}\n",
        "    ''')\n",
        "    print(f'''\n",
        "    Только в тренировочной выборке есть значения: {column_train - column_test}\n",
        "    ''')\n",
        "    print(f'''\n",
        "    Только в тестовой выборке есть значения: {column_test - column_train}\n",
        "    ''')"
      ]
    },
    {
      "cell_type": "markdown",
      "metadata": {
        "id": "_eBm-F7_47Vt"
      },
      "source": [
        "Фичи абсолютно идентичны, везде пустые множества отличий, значит модели смогут на этом работать"
      ]
    },
    {
      "cell_type": "code",
      "execution_count": null,
      "metadata": {
        "scrolled": true,
        "id": "JZ2ZK5Rs47Vu",
        "outputId": "ffa19b96-ec76-412e-b10e-6dce0632bb80"
      },
      "outputs": [
        {
          "data": {
            "text/html": [
              "<div>\n",
              "<style scoped>\n",
              "    .dataframe tbody tr th:only-of-type {\n",
              "        vertical-align: middle;\n",
              "    }\n",
              "\n",
              "    .dataframe tbody tr th {\n",
              "        vertical-align: top;\n",
              "    }\n",
              "\n",
              "    .dataframe thead th {\n",
              "        text-align: right;\n",
              "    }\n",
              "</style>\n",
              "<table border=\"1\" class=\"dataframe\">\n",
              "  <thead>\n",
              "    <tr style=\"text-align: right;\">\n",
              "      <th></th>\n",
              "      <th>type</th>\n",
              "      <th>paperless_billing</th>\n",
              "      <th>payment_method</th>\n",
              "      <th>monthly_charges</th>\n",
              "      <th>internet_service</th>\n",
              "      <th>online_security</th>\n",
              "      <th>online_backup</th>\n",
              "      <th>device_protection</th>\n",
              "      <th>tech_support</th>\n",
              "      <th>streaming_tv</th>\n",
              "      <th>streaming_movies</th>\n",
              "      <th>gender</th>\n",
              "      <th>senior_citizen</th>\n",
              "      <th>partner</th>\n",
              "      <th>dependents</th>\n",
              "      <th>multiple_lines</th>\n",
              "      <th>days_with_company</th>\n",
              "    </tr>\n",
              "  </thead>\n",
              "  <tbody>\n",
              "    <tr>\n",
              "      <th>1214</th>\n",
              "      <td>Month-to-month</td>\n",
              "      <td>Yes</td>\n",
              "      <td>Bank transfer (automatic)</td>\n",
              "      <td>86.00</td>\n",
              "      <td>Fiber optic</td>\n",
              "      <td>No</td>\n",
              "      <td>No</td>\n",
              "      <td>No</td>\n",
              "      <td>No</td>\n",
              "      <td>No</td>\n",
              "      <td>Yes</td>\n",
              "      <td>Male</td>\n",
              "      <td>0</td>\n",
              "      <td>No</td>\n",
              "      <td>No</td>\n",
              "      <td>Yes</td>\n",
              "      <td>671</td>\n",
              "    </tr>\n",
              "    <tr>\n",
              "      <th>827</th>\n",
              "      <td>Month-to-month</td>\n",
              "      <td>No</td>\n",
              "      <td>Mailed check</td>\n",
              "      <td>25.55</td>\n",
              "      <td>No</td>\n",
              "      <td>No</td>\n",
              "      <td>No</td>\n",
              "      <td>No</td>\n",
              "      <td>No</td>\n",
              "      <td>No</td>\n",
              "      <td>No</td>\n",
              "      <td>Female</td>\n",
              "      <td>0</td>\n",
              "      <td>Yes</td>\n",
              "      <td>Yes</td>\n",
              "      <td>Yes</td>\n",
              "      <td>427</td>\n",
              "    </tr>\n",
              "    <tr>\n",
              "      <th>6266</th>\n",
              "      <td>Month-to-month</td>\n",
              "      <td>Yes</td>\n",
              "      <td>Credit card (automatic)</td>\n",
              "      <td>83.85</td>\n",
              "      <td>Fiber optic</td>\n",
              "      <td>No</td>\n",
              "      <td>Yes</td>\n",
              "      <td>Yes</td>\n",
              "      <td>No</td>\n",
              "      <td>No</td>\n",
              "      <td>No</td>\n",
              "      <td>Male</td>\n",
              "      <td>1</td>\n",
              "      <td>No</td>\n",
              "      <td>No</td>\n",
              "      <td>Yes</td>\n",
              "      <td>1036</td>\n",
              "    </tr>\n",
              "    <tr>\n",
              "      <th>1010</th>\n",
              "      <td>Month-to-month</td>\n",
              "      <td>Yes</td>\n",
              "      <td>Mailed check</td>\n",
              "      <td>50.15</td>\n",
              "      <td>DSL</td>\n",
              "      <td>Yes</td>\n",
              "      <td>No</td>\n",
              "      <td>No</td>\n",
              "      <td>No</td>\n",
              "      <td>No</td>\n",
              "      <td>No</td>\n",
              "      <td>Male</td>\n",
              "      <td>0</td>\n",
              "      <td>No</td>\n",
              "      <td>No</td>\n",
              "      <td>No</td>\n",
              "      <td>92</td>\n",
              "    </tr>\n",
              "    <tr>\n",
              "      <th>4397</th>\n",
              "      <td>Two year</td>\n",
              "      <td>Yes</td>\n",
              "      <td>Bank transfer (automatic)</td>\n",
              "      <td>103.95</td>\n",
              "      <td>Fiber optic</td>\n",
              "      <td>Yes</td>\n",
              "      <td>Yes</td>\n",
              "      <td>Yes</td>\n",
              "      <td>Yes</td>\n",
              "      <td>Yes</td>\n",
              "      <td>No</td>\n",
              "      <td>Female</td>\n",
              "      <td>0</td>\n",
              "      <td>Yes</td>\n",
              "      <td>No</td>\n",
              "      <td>Yes</td>\n",
              "      <td>2191</td>\n",
              "    </tr>\n",
              "  </tbody>\n",
              "</table>\n",
              "</div>"
            ],
            "text/plain": [
              "                type paperless_billing             payment_method  \\\n",
              "1214  Month-to-month               Yes  Bank transfer (automatic)   \n",
              "827   Month-to-month                No               Mailed check   \n",
              "6266  Month-to-month               Yes    Credit card (automatic)   \n",
              "1010  Month-to-month               Yes               Mailed check   \n",
              "4397        Two year               Yes  Bank transfer (automatic)   \n",
              "\n",
              "      monthly_charges internet_service online_security online_backup  \\\n",
              "1214            86.00      Fiber optic              No            No   \n",
              "827             25.55               No              No            No   \n",
              "6266            83.85      Fiber optic              No           Yes   \n",
              "1010            50.15              DSL             Yes            No   \n",
              "4397           103.95      Fiber optic             Yes           Yes   \n",
              "\n",
              "     device_protection tech_support streaming_tv streaming_movies  gender  \\\n",
              "1214                No           No           No              Yes    Male   \n",
              "827                 No           No           No               No  Female   \n",
              "6266               Yes           No           No               No    Male   \n",
              "1010                No           No           No               No    Male   \n",
              "4397               Yes          Yes          Yes               No  Female   \n",
              "\n",
              "      senior_citizen partner dependents multiple_lines  days_with_company  \n",
              "1214               0      No         No            Yes                671  \n",
              "827                0     Yes        Yes            Yes                427  \n",
              "6266               1      No         No            Yes               1036  \n",
              "1010               0      No         No             No                 92  \n",
              "4397               0     Yes         No            Yes               2191  "
            ]
          },
          "execution_count": 73,
          "metadata": {},
          "output_type": "execute_result"
        }
      ],
      "source": [
        "features_train.head()"
      ]
    },
    {
      "cell_type": "markdown",
      "metadata": {
        "id": "wvhHIIyG47Vu"
      },
      "source": [
        "Сделаем масштабирование (в конце, так как о нем я немного подзабыл), до него метрика рок_аус давала значения 0.75 в гридсерче линейной регрессии.\n",
        "После масштабирования показатели улучшились до ~0.76. На лгбм ~0.87 до и ~0.87 после (но скорость обучения заметно ухудшилась). Поэтому немного не понимаю, так ли необходимо ли нам масштабирование в данной задаче. Судя по финальным весам фич - самая весомя это дни в компании, а масштабированием мы уменьшаем ее влияние."
      ]
    },
    {
      "cell_type": "code",
      "execution_count": null,
      "metadata": {
        "id": "Qu0LJlBa47Vu"
      },
      "outputs": [],
      "source": [
        "scaler = StandardScaler()\n",
        "numeric = ['monthly_charges', 'days_with_company']\n",
        "scaler.fit(features_train[numeric])\n",
        "\n",
        "features_train_ohe[numeric] = scaler.transform(features_train_ohe[numeric])\n",
        "features_test_ohe[numeric] = scaler.transform(features_test_ohe[numeric])"
      ]
    },
    {
      "cell_type": "markdown",
      "metadata": {
        "id": "w1fqoq4n47Vu"
      },
      "source": [
        "### Поиск лучшей модели"
      ]
    },
    {
      "cell_type": "markdown",
      "metadata": {
        "id": "t1SR-Qhf47Vu"
      },
      "source": [
        "Гридсерч будет использоваться с параметром кросс валидации = 3/4, где это позволяет время, знаю, что золотой стандарт 5 (4 обучающих, одна под валид), но боюсь заснуть с кружкой кофе в ожидании компиляции ячейки, поскольку обучение в кроссвалидации происходит множество раз за гридсерч и можно сойти с ума. Знаю про оптуну, но в виду очень малого количества времени, решил воспользоваться технологиями, которые успел познать за время обучения. Также гиперпараметры почти не подбирал в виду опасений работы тренажера, который может откинуться, значение метрики получили и на них нормальные, но если нужно будет накинуть больше - накинем"
      ]
    },
    {
      "cell_type": "code",
      "execution_count": null,
      "metadata": {
        "scrolled": true,
        "id": "e1QI9xEc47Vu",
        "outputId": "38bce303-82b3-4709-f849-07b77a0371b3"
      },
      "outputs": [
        {
          "name": "stdout",
          "output_type": "stream",
          "text": [
            "Лучшие параметры:  {'C': 10, 'solver': 'lbfgs'}\n",
            "roc_auc 0.7560676013346155\n",
            "CPU times: user 8.62 s, sys: 20.2 s, total: 28.8 s\n",
            "Wall time: 29.1 s\n"
          ]
        }
      ],
      "source": [
        "%%time\n",
        "lr = LogisticRegression(random_state=80523,class_weight='balanced')\n",
        "hyper = {'solver': ['newton-cg', 'lbfgs', 'liblinear'],\n",
        "            'C': [0.1,1,10]\n",
        "        }\n",
        "gscv_lr = GridSearchCV(lr, hyper, cv=4, scoring='roc_auc')\n",
        "gscv_lr.fit(features_train_ohe, target_train)\n",
        "print('Лучшие параметры: ', gscv_lr.best_params_)\n",
        "print('roc_auc', gscv_lr.best_score_)"
      ]
    },
    {
      "cell_type": "code",
      "execution_count": null,
      "metadata": {
        "id": "xsiBdp8g47Vv",
        "outputId": "1cd26503-2142-4d19-aced-1205fdbab8c3"
      },
      "outputs": [
        {
          "name": "stdout",
          "output_type": "stream",
          "text": [
            "Лучшие параметры:  {'learning_rate': 0.5, 'max_depth': 2}\n",
            "roc_auc 0.9267969394385132\n",
            "CPU times: user 3min 41s, sys: 6.05 s, total: 3min 47s\n",
            "Wall time: 4min 41s\n"
          ]
        }
      ],
      "source": [
        "%%time\n",
        "cbc = CatBoostClassifier(random_state=80523, verbose = False,class_weights=None, cat_features = ['type', 'paperless_billing','payment_method', 'internet_service', 'online_security', 'online_backup','device_protection', 'tech_support', 'streaming_tv', 'streaming_movies', 'gender',  'senior_citizen', 'partner', 'dependents', 'multiple_lines'])\n",
        "hyper = {'learning_rate': [0.1, 0.2, 0.5],\n",
        "               'max_depth': [2,5,8]\n",
        "        }\n",
        "gscv_cbc = GridSearchCV(cbc, hyper, cv=3, scoring='roc_auc')\n",
        "gscv_cbc.fit(features_train, target_train)\n",
        "print('Лучшие параметры: ', gscv_cbc.best_params_)\n",
        "print('roc_auc', gscv_cbc.best_score_)"
      ]
    },
    {
      "cell_type": "markdown",
      "metadata": {
        "id": "KZXzEUBN47Vv"
      },
      "source": [
        "Несмотря на то, что на созвоне говорилось, что лгбм лучше работает без какого-либо кодирования, у меня обычные фичи он принял с ошибкой, что данные не могут быть обработаны с данными типами данных, а при кодировании прогнался, отсюда вопрос, почему так:C\n",
        "**upd: выпили подбор гиперпараметров, работает на одном на море в виду либо большой нагруженности, или что-то задел (в чем сомневаюсь, вроде проглядел ошибок быть не должно, раньше прогонялось в разы дольше). Боюсь опоздать сдать проект, поэтому отправлю так, нужно хотя бы первые ошибки получить, чтобы успеть к жесткому дедлайну.** Значение метрики полученное в коллабе = 0.8679220010050477"
      ]
    },
    {
      "cell_type": "code",
      "execution_count": null,
      "metadata": {
        "scrolled": true,
        "id": "G7q4A9ze47Vv",
        "outputId": "2ed49f5f-8fdd-44b9-9342-be48d46726bd"
      },
      "outputs": [
        {
          "name": "stdout",
          "output_type": "stream",
          "text": [
            "Лучшие параметры:  {'learning_rate': 0.1, 'num_leaves': 20}\n",
            "roc_auc 0.8523845269687004\n",
            "CPU times: user 17min 6s, sys: 12.6 s, total: 17min 19s\n",
            "Wall time: 17min 51s\n"
          ]
        }
      ],
      "source": [
        "%%time\n",
        "model_lgbm = lgb.LGBMClassifier(random_state = 80523)\n",
        "hyper = { 'num_leaves': [20], # , 40, 100],\n",
        "               'learning_rate': [0.1] #, 0.2, 0.3],\n",
        "             }\n",
        "grid_lgbm = GridSearchCV(model_lgbm, hyper, scoring='roc_auc', cv = 3)\n",
        "grid_lgbm.fit(features_train_ohe, target_train)\n",
        "print('Лучшие параметры: ', grid_lgbm.best_params_)\n",
        "print('roc_auc', grid_lgbm.best_score_)"
      ]
    },
    {
      "cell_type": "markdown",
      "metadata": {
        "id": "MOa9jDZP47Vv"
      },
      "source": [
        "### Тестирование лучшей модели"
      ]
    },
    {
      "cell_type": "markdown",
      "metadata": {
        "id": "7ajS3Anb47Vw"
      },
      "source": [
        "Лучшей моделью оказалась CatBoostClassifier со следующими гиперпараметрами:\n",
        "- random_state=80523\n",
        "- learning_rate=0.5\n",
        "- max_depth = 2\n",
        "- verbose = False\n",
        "- class_weights=None (хотя лучше наверное было сбалансировать, но метрика устойчива, поэтому и так сойдет)\n",
        "- cat_features = ['type', 'paperless_billing','payment_method', 'internet_service', 'online_security', 'online_backup','device_protection', 'tech_support', 'streaming_tv', 'streaming_movies', 'gender',  'senior_citizen', 'partner', 'dependents', 'multiple_lines'])"
      ]
    },
    {
      "cell_type": "markdown",
      "metadata": {
        "id": "cI-rlftF47Vw"
      },
      "source": [
        "Для наглядного тестирования воспользуемся рок-кривой, код из которой я тащу из своего когда-то выполненного проекта на практикуме."
      ]
    },
    {
      "cell_type": "code",
      "execution_count": null,
      "metadata": {
        "scrolled": false,
        "id": "WQsxfWlk47Vw",
        "outputId": "081bf318-dd1a-4192-fcce-32f6642d9ad8"
      },
      "outputs": [
        {
          "name": "stdout",
          "output_type": "stream",
          "text": [
            "AUC-ROC CatBoostClassifier 0.9312197267819659\n"
          ]
        },
        {
          "data": {
            "image/png": "[encoded data removed]",
            "text/plain": [
              "<Figure size 864x648 with 1 Axes>"
            ]
          },
          "metadata": {
            "needs_background": "light"
          },
          "output_type": "display_data"
        }
      ],
      "source": [
        "plt.figure(figsize=[12,9])\n",
        "\n",
        "plt.plot([0, 1], [0, 1], linestyle='--', label='RandomModel')\n",
        "\n",
        "model =  CatBoostClassifier(random_state=80523, learning_rate=0.5,\n",
        "                                                   max_depth = 2,verbose = False,class_weights=None, cat_features = ['type', 'paperless_billing','payment_method', 'internet_service', 'online_security', 'online_backup','device_protection', 'tech_support', 'streaming_tv', 'streaming_movies', 'gender',  'senior_citizen', 'partner', 'dependents', 'multiple_lines'])\n",
        "model.fit(features_train, target_train)\n",
        "predicted_valid = model.predict(features_test)\n",
        "probabilities_valid = model.predict_proba(features_test)\n",
        "probabilities_one_valid = probabilities_valid[:, 1]\n",
        "fpr, tpr, thresholds = roc_curve(target_test, probabilities_one_valid)\n",
        "auc_roc = roc_auc_score(target_test, probabilities_one_valid)\n",
        "print('AUC-ROC CatBoostClassifier',auc_roc)\n",
        "plt.plot(fpr, tpr, label='CatBoostClassifier')\n",
        "\n",
        "plt.xlim([0,1])\n",
        "plt.ylim([0,1])\n",
        "\n",
        "plt.xlabel(\"False Positive Rate\")\n",
        "plt.ylabel(\"True Positive Rate\")\n",
        "\n",
        "plt.legend(loc='lower right', fontsize='x-large')\n",
        "\n",
        "plt.title(\"ROC-кривая\")\n",
        "plt.show()"
      ]
    },
    {
      "cell_type": "markdown",
      "metadata": {
        "id": "WfeqxtNb47Vw"
      },
      "source": [
        "На графике видно, что модель в целом работает хорошо и приблизительно до 0.6 TPR абсолютно точно предсказывает таргет (FPR в окрестности нуля). Далее идет плавное снижение ранжирующей способности, но значение roc_auc 0.93 говорит о высокой предсказательной способности модели."
      ]
    },
    {
      "cell_type": "markdown",
      "metadata": {
        "id": "FejzfG2M47Vx"
      },
      "source": [
        "Построим матрицу ошибок:"
      ]
    },
    {
      "cell_type": "code",
      "execution_count": null,
      "metadata": {
        "id": "I85Brq5047Vx"
      },
      "outputs": [],
      "source": [
        "df_confusion = pd.DataFrame({'target':target_test.to_list(),\n",
        "              'predict':predicted_valid})"
      ]
    },
    {
      "cell_type": "code",
      "execution_count": null,
      "metadata": {
        "id": "FZiLS_qh47Vx",
        "outputId": "b998b144-032c-4f5c-d94a-f2211f0e1de7"
      },
      "outputs": [
        {
          "data": {
            "text/plain": [
              "1761"
            ]
          },
          "execution_count": 81,
          "metadata": {},
          "output_type": "execute_result"
        }
      ],
      "source": [
        "len(df_confusion)"
      ]
    },
    {
      "cell_type": "code",
      "execution_count": null,
      "metadata": {
        "id": "DioVLQGE47Vx"
      },
      "outputs": [],
      "source": [
        "tp = len(df_confusion[(df_confusion['target']==1)&(df_confusion['predict']==1)]) # Истинно позитивное предсказание\n",
        "fp = len(df_confusion[(df_confusion['target']==0)&(df_confusion['predict']==1)]) # Ошибочно позитивное предсказание\n",
        "tn = len(df_confusion[(df_confusion['target']==0)&(df_confusion['predict']==0)]) # Истинно отрицательное предсказание\n",
        "fn = len(df_confusion[(df_confusion['target']==1)&(df_confusion['predict']==0)]) # Ошибочно отрицательное предсказание\n",
        "full = len(df_confusion)"
      ]
    },
    {
      "cell_type": "code",
      "execution_count": null,
      "metadata": {
        "id": "cGzOd5gY47Vy"
      },
      "outputs": [],
      "source": [
        "tuples_pred = [('Прогноз',1),('Прогноз',0)]\n",
        "tuples_target = [('Реальность',1),('Реальность',0)]\n",
        "index = pd.MultiIndex.from_tuples(tuples_pred, names=[\"\", \"\"],)\n",
        "columns = pd.MultiIndex.from_tuples(tuples_target, names=[\"\", \"\"],)\n",
        "conf_matrix = pd.DataFrame(data = [[tp/full,fp/full],[fn/full,tn/full]],index=index,columns=columns)"
      ]
    },
    {
      "cell_type": "code",
      "execution_count": null,
      "metadata": {
        "id": "nuYwpqmQ47Vy",
        "outputId": "b999d9d9-8b7b-4d34-bb85-b767a47e51b3"
      },
      "outputs": [
        {
          "data": {
            "text/html": [
              "<style  type=\"text/css\" >\n",
              "#T_02bf8_row0_col0,#T_02bf8_row1_col1{\n",
              "            background-color:  #b40426;\n",
              "            color:  #f1f1f1;\n",
              "        }#T_02bf8_row0_col1,#T_02bf8_row1_col0{\n",
              "            background-color:  #3b4cc0;\n",
              "            color:  #f1f1f1;\n",
              "        }</style><table id=\"T_02bf8_\" ><thead>    <tr>        <th class=\"blank\" ></th>        <th class=\"index_name level0\" ></th>        <th class=\"col_heading level0 col0\" colspan=\"2\">Реальность</th>    </tr>    <tr>        <th class=\"blank\" ></th>        <th class=\"index_name level1\" ></th>        <th class=\"col_heading level1 col0\" >1</th>        <th class=\"col_heading level1 col1\" >0</th>    </tr>    <tr>        <th class=\"index_name level0\" ></th>        <th class=\"index_name level1\" ></th>        <th class=\"blank\" ></th>        <th class=\"blank\" ></th>    </tr></thead><tbody>\n",
              "                <tr>\n",
              "                        <th id=\"T_02bf8_level0_row0\" class=\"row_heading level0 row0\" rowspan=\"2\">Прогноз</th>\n",
              "                        <th id=\"T_02bf8_level1_row0\" class=\"row_heading level1 row0\" >1</th>\n",
              "                        <td id=\"T_02bf8_row0_col0\" class=\"data row0 col0\" >0.117547</td>\n",
              "                        <td id=\"T_02bf8_row0_col1\" class=\"data row0 col1\" >0.010221</td>\n",
              "            </tr>\n",
              "            <tr>\n",
              "                                <th id=\"T_02bf8_level1_row1\" class=\"row_heading level1 row1\" >0</th>\n",
              "                        <td id=\"T_02bf8_row1_col0\" class=\"data row1 col0\" >0.043157</td>\n",
              "                        <td id=\"T_02bf8_row1_col1\" class=\"data row1 col1\" >0.829074</td>\n",
              "            </tr>\n",
              "    </tbody></table>"
            ],
            "text/plain": [
              "<pandas.io.formats.style.Styler at 0x7f971a9e7a60>"
            ]
          },
          "execution_count": 84,
          "metadata": {},
          "output_type": "execute_result"
        }
      ],
      "source": [
        "conf_matrix.style.background_gradient(cmap='coolwarm')"
      ]
    },
    {
      "cell_type": "markdown",
      "metadata": {
        "id": "vCDmy5Vd47Vz"
      },
      "source": [
        "По данной матрице мы можем сказать, что виден дисбаланс классов, но даже так мы научили предсказывать модель приблизительно 11 случаев из 12, что в целом неплохой результат. В плане прогноза 0 мы вообще огромные молодцы, отличие ложных предсказаний от правильных приблизительно 20 раз, тут модель лучше обучилась."
      ]
    },
    {
      "cell_type": "markdown",
      "metadata": {
        "id": "hDjlW7qn47V0"
      },
      "source": [
        "Матрица важности признаков построена из данных полученных из гридсерча:"
      ]
    },
    {
      "cell_type": "code",
      "execution_count": null,
      "metadata": {
        "id": "fKTP0U_p47V0",
        "outputId": "5827d63a-907d-416b-ff02-789a3d098a46"
      },
      "outputs": [
        {
          "name": "stdout",
          "output_type": "stream",
          "text": [
            "                   most_value_features\n",
            "streaming_tv                  0.209200\n",
            "gender                        0.332186\n",
            "tech_support                  0.338158\n",
            "senior_citizen                0.403238\n",
            "online_security               0.461633\n",
            "paperless_billing             0.470812\n",
            "dependents                    0.616437\n",
            "online_backup                 0.946334\n",
            "streaming_movies              1.006241\n",
            "internet_service              1.056299\n",
            "device_protection             1.430983\n",
            "multiple_lines                1.692707\n",
            "partner                       1.993733\n",
            "payment_method                2.466563\n",
            "type                          5.787103\n",
            "monthly_charges              13.061818\n",
            "days_with_company            67.726557\n"
          ]
        }
      ],
      "source": [
        "most_value_features = pd.DataFrame(gscv_cbc.best_estimator_.feature_importances_, columns=['most_value_features'], index = features_test.columns)\n",
        "most_value_features = most_value_features.sort_values(by='most_value_features')\n",
        "print(most_value_features)"
      ]
    },
    {
      "cell_type": "markdown",
      "metadata": {
        "id": "AK5s6pVu47V1"
      },
      "source": [
        "Самый весомый признак - дни с компанией, добавленный нами признак. Пол же почти ни на что не влияет, феменистки празднуют победу!"
      ]
    },
    {
      "cell_type": "markdown",
      "metadata": {
        "id": "jK5EKJvW47V2"
      },
      "source": [
        "## Вывод по второй части"
      ]
    },
    {
      "cell_type": "markdown",
      "metadata": {
        "id": "qa_kXbpo47V2"
      },
      "source": [
        "1. В ходе работы мы успешно устранили недостатки выявленные в первой части, а именно:\n",
        "    - соединили датасеты\n",
        "    - заполнили пропуски\n",
        "    - привели наименования столбцов к snake_case\n",
        "    - добавили новые признаки\n",
        "    - привели к адекватным типам данных те признаки, в которых были замечены несоответствия\n",
        "    - удалили неинформативные и коррелирующие с другими признаками столбцы\n",
        "    - провели исследовательский анализ, в поисках аномалий, но каких-то фатальных не обнаружили\n",
        "2. Также в ходе работы было произведено разбитие выборок, произведено кодирование и масштабирование, выбраны 3 модели и с помощью гридсерча определена лучшая:\n",
        "    - кодирование было произведено с помощью get_dummies() - не самым лучшим способом, но проверка на соотвествие фич была произведена, значит модели в дальнейшем обучаться нормально\n",
        "    - лучшей моделью оказался CatBoostClassifier с гиперпараметрами {'learning_rate': 0.5, 'max_depth': 2}\n",
        "    - для нее было проведено тестирование с помощью построения roc-кривой, получена auc-roc метрика = ~0.93, что соответствует поставленной задаче\n",
        "    - построена матрица ошибок, ее данные позволяют удостоверится, что модель работает в целом достаточно на хорошем уровне\n",
        "    - также была получена матрица важности признаков, в целом 80% успех предсказаний добивается всего лишь 2 фичами, это дни в компании и месячный платеж\n",
        "3. Проблемы:\n",
        "    - не победил библиотечное кодирование ohe, хотя потерял много времени\n",
        "    - лгбм отказался прогонять данные без кодирования, хотя вроде должен был их принять\n",
        "    - масштабирование так ли нужно, значения линейки подтянулись на сотую, а лгбм стал отрабатывать дольше (но это вероятно из-за тренажера)"
      ]
    },
    {
      "cell_type": "markdown",
      "metadata": {
        "id": "hSg5GVi947V2"
      },
      "source": [
        "## Отчет по проекту"
      ]
    },
    {
      "cell_type": "markdown",
      "metadata": {
        "id": "oAMzmxIZ47V2"
      },
      "source": [
        "В отчёте ответьте на вопросы:\n",
        "- Какие пункты плана были выполнены, а какие — нет. Почему?\n",
        "- Какие трудности возникли и как вы их преодолели?\n",
        "- Какие ключевые шаги в решении задачи вы выделили?\n",
        "- Какие признаки использовали для обучения модели и какая предобработка этих признаков была выполнена?\n",
        "- Какая ваша итоговая модель, какие у неё гиперпараметы и какое качество?"
      ]
    },
    {
      "cell_type": "markdown",
      "metadata": {
        "id": "jJs4zhu747V2"
      },
      "source": [
        "### Какие пункты плана были выполнены, а какие — нет. Почему?"
      ]
    },
    {
      "cell_type": "markdown",
      "metadata": {
        "id": "8nNYrCf447V3"
      },
      "source": [
        "Обратимся к плану составленному на первом этапе и отметим шаги успешно выполненные и выполненные с какими-либо трудностями:"
      ]
    },
    {
      "cell_type": "markdown",
      "metadata": {
        "id": "xSjTGG2-47V3"
      },
      "source": [
        "1. Осуществить предобработку и подготовку к обучению данных:\n",
        "- Смержить таблицы без потери данных ✔️\n",
        "- Привести столбцы к соотвествующим типам данных ✔️\n",
        "- Привести наименование столбцов к snake_case ✔️\n",
        "- Подумать, чем можно заполнить пропуски и заполнить их ✔️\n",
        "- Попробовать найти аномалии и выбросы, в случае их присутсвия - снести ✔️\n",
        "- Добавить столбцы, которые помогут в обучении (срок жизни клиента в компании, явно получить таргетный признак бинарной классификации) ✔️\n",
        "- Снести столбцы которые могут коррелировать с другими ✔️\n",
        "2. Выбрать модель:\n",
        "- Определить 3 наиболее подходящие модели для решения задачи ✔️\n",
        "- Разделить выборку на обучающую и тестовую ✔️\n",
        "- Провести кодирование (ое - для древовидных моделей, охе - для линейных, для бустингов - гиперпараметр) ⚠️\n",
        "- Масштабирование (для линейных) ✔️\n",
        "- С помощью GridSearchCV опеределить лучшие параметры (не забыть установить про параметр cv)\n",
        "- Проверить лучшую модель на тестовой выборке ✔️\n",
        "- Анализ лучшей модели (важность признаков + матрица ошибок) ✔️\n",
        "- Описать выводы ✔️\n",
        "\n",
        "Избегать:\n",
        "- Борьбы с дисбалансом (наша метрика устойчива) ✔️\n",
        "- get_dummies() ⚠️\n",
        "\n",
        "Мною выбраны и будут рассматриваться три модели: LogisticRegression, CatBoostClassifier, LGBMClassifier"
      ]
    },
    {
      "cell_type": "markdown",
      "metadata": {
        "id": "x9EzToOr47V3"
      },
      "source": [
        "Приятно, когда планы выполняются тем образом, как и было задумано в начале, правда в жизни такая радость происходит редко. Вот и в моем случае, несмотря на то, что **в целом на поставленный вопрос хочется ответить - все пункты плана выполнены успешно,** есть одно но: в ходе выполнения проекта сталкивался с трудностями, но плавно их преодолевал, но пару неприятных моментов не удалось победить и пришлось немного отклониться от заданного в голове плана, а именно:\n",
        "- Загнал закодированные OHE данные в лгбм модель, когда можно было просто изменить тип данных категориальных признаков, второй вариант более желателен для работы с лгбм.\n",
        "- Как не плясал с бубном не удалось отладить решение через OneHotEncoding() и пришлось использовать нежелательный для обучения get_dummies(). Скорее всего забыл обновить тренажер после загрузки через !pip и просто терял время в попытках это все заставить работать, но я обязательно покорю эту вершину!"
      ]
    },
    {
      "cell_type": "markdown",
      "metadata": {
        "id": "l62ykDlU47V3"
      },
      "source": [
        "### Какие трудности возникли и как вы их преодолели?"
      ]
    },
    {
      "cell_type": "markdown",
      "metadata": {
        "id": "bXjNkIpV47V3"
      },
      "source": [
        "На самом деле финальный проект содержал в себе действительно отголоски прошлых, поэтому действительно серьезных трудностей не возникло, сверх тех, которые я описал выше, да и эти вполне решаймы. Все-таки трудности, которые возникали в ходе проекта решались парой-тройкой запросов в поисковике. Так и происходит обучение :) Поэтому перепишу вверхние два, действительно серьезных затупа + бонусные:) Опишем в стиле \"трудность\" - \"как преодолел\""
      ]
    },
    {
      "cell_type": "markdown",
      "metadata": {
        "id": "xJ8s00Us47V3"
      },
      "source": [
        "1. Не смог загнать обычные данные в lgbm (забыл про тип данных category) - выкрутился за счет ohe, так как с кодировкой он принял без проблем и обучился на достаточно неплохой результат.\n",
        "2. Не смог применить OneHotEncoding() по собственной глупости и страху потерять еще больше времени - пришлось использовать нежелательный для обучения get_dummies(), но при этом изучил файл который кидали в тг, взял оттуда проверку, которая сказала наверняка, что get_dummies() в нашем случае ничего не испортит\n",
        "3. Очень долго делал матрицу ошибок (а ведь звучит как задача, которая делается за счет одного посещения стаковерфлоу) - но по итогу поднял матчасть, и разобрался что к чему\n",
        "4. Ломающийся от нагрузки тренажер (грустно терять время и не понимать, это ты что-то поломал, или все-таки тренажер прилег:C) - просто перешел на коллаб"
      ]
    },
    {
      "cell_type": "markdown",
      "metadata": {
        "id": "QwE78Mnn47V4"
      },
      "source": [
        "### Какие ключевые шаги в решении задачи вы выделили?"
      ]
    },
    {
      "cell_type": "markdown",
      "metadata": {
        "id": "biX17G2A47V4"
      },
      "source": [
        "Ну ключевые шаги я отразил в плане, если коротко, то как практикум и учил:\n",
        "1. Знакомство с данными\n",
        "2. Предобработка данных\n",
        "3. Исследовательский анализ\n",
        "4. Подготовка данных для обучения\n",
        "5. Выбор моделей и перебор гиперпараметров\n",
        "6. Тестирование лучшей модели\n",
        "7. (Для данного проекта выполнение дополнительного задания: Матрица ошибок + вес признаков)"
      ]
    },
    {
      "cell_type": "markdown",
      "metadata": {
        "id": "aRQc_eVg47V4"
      },
      "source": [
        "### Какие признаки использовали для обучения модели и какая предобработка этих признаков была выполнена?"
      ]
    },
    {
      "cell_type": "markdown",
      "metadata": {
        "id": "sDC7NUN-47V4"
      },
      "source": [
        "Наименование всех признаков были приведены к snake_case.\n",
        "\n",
        "Опишем признаки, которые использовались при обучении:\n",
        "- 'type' - Категориальный признак типа подписки\n",
        "- 'paperless_billing' - Категориальный признак (да/нет) наличие электронного чека\n",
        "- 'payment_method' - Категориальный признак\n",
        "- 'monthly_charges' - Количественный признак месячной оплаты\n",
        "- 'internet_service' - Категориальный признак (да/нет) услуги интернета. Были заполнены пропуски.\n",
        "- 'online_security' - Категориальный признак (да/нет) услуги интернета. Были заполнены пропуски.\n",
        "- 'online_backup' - Категориальный признак (да/нет) услуги интернета. Были заполнены пропуски.\n",
        "- 'device_protection' - Категориальный признак (да/нет) услуги интернета. Были заполнены пропуски.\n",
        "- 'tech_support'- Категориальный признак (да/нет) услуги интернета. Были заполнены пропуски.\n",
        "- 'streaming_tv' - Категориальный признак (да/нет) услуги интернета. Были заполнены пропуски.\n",
        "- 'streaming_movies' - Категориальный признак (да/нет) услуги интернета. Были заполнены пропуски.\n",
        "- 'gender' - Категориальный признак пол человека\n",
        "- 'senior_citizen' - Категориальный признак (1/0) пенсионер ли человек.\n",
        "- 'partner' - Категориальный признак (да/нет) наличие партнера\n",
        "- 'dependents' - Категориальный признак (да/нет) наличия детей\n",
        "- 'multiple_lines' - Категориальный признак (да/нет) услуги телефонии. Были заполнены пропуски.\n",
        "- 'days_with_company' - Количественный признак дней в компании. Данный признак был добавлен нами самостоятельно, он вытекал из данных о датах заключения и расторжения договора.\n",
        "- 'left_the_company' - Целевой признак бинарной классификации (да/нет) разорвал ли человек договор. Данный признак был добавлен самостоятельно, он вытекал из данных о расторжении договора."
      ]
    },
    {
      "cell_type": "markdown",
      "metadata": {
        "id": "CBX7yLUc47V4"
      },
      "source": [
        "### Какая ваша итоговая модель, какие у неё гиперпараметы и какое качество?"
      ]
    },
    {
      "cell_type": "markdown",
      "metadata": {
        "id": "DJF-5lrp47V4"
      },
      "source": [
        "Лучшей моделью оказалась CatBoostClassifier со следующими гиперпараметрами:\n",
        "- random_state=80523\n",
        "- learning_rate=0.5\n",
        "- max_depth = 2\n",
        "- verbose = False\n",
        "- class_weights=None\n",
        "- cat_features = ['type', 'paperless_billing','payment_method', 'internet_service', 'online_security', 'online_backup','device_protection', 'tech_support', 'streaming_tv', 'streaming_movies', 'gender',  'senior_citizen', 'partner', 'dependents', 'multiple_lines'])\n",
        "\n",
        "В качестве метрики качества была установлена условием задачи метрика roc-auc. **На тестовой выборке получили значение равное 0.9312197267819659**"
      ]
    }
  ],
  "metadata": {
    "ExecuteTimeLog": [
      {
        "duration": 1401,
        "start_time": "2023-05-14T14:51:02.530Z"
      },
      {
        "duration": 430,
        "start_time": "2023-05-14T14:51:03.934Z"
      },
      {
        "duration": 9,
        "start_time": "2023-05-14T15:02:08.072Z"
      },
      {
        "duration": 103,
        "start_time": "2023-05-14T15:02:28.617Z"
      },
      {
        "duration": 33,
        "start_time": "2023-05-14T15:02:34.749Z"
      },
      {
        "duration": 5,
        "start_time": "2023-05-14T15:02:43.179Z"
      },
      {
        "duration": 19,
        "start_time": "2023-05-14T15:07:22.507Z"
      },
      {
        "duration": 15,
        "start_time": "2023-05-14T15:07:37.477Z"
      },
      {
        "duration": 12,
        "start_time": "2023-05-14T15:07:43.868Z"
      },
      {
        "duration": 24,
        "start_time": "2023-05-14T15:07:50.732Z"
      },
      {
        "duration": 23,
        "start_time": "2023-05-14T15:07:59.720Z"
      },
      {
        "duration": 735,
        "start_time": "2023-05-14T15:09:29.648Z"
      },
      {
        "duration": 113,
        "start_time": "2023-05-14T15:09:30.385Z"
      },
      {
        "duration": 7,
        "start_time": "2023-05-14T15:09:30.500Z"
      },
      {
        "duration": 26,
        "start_time": "2023-05-14T15:09:30.509Z"
      },
      {
        "duration": 27,
        "start_time": "2023-05-14T15:09:30.538Z"
      },
      {
        "duration": 22,
        "start_time": "2023-05-14T15:09:30.567Z"
      },
      {
        "duration": 30,
        "start_time": "2023-05-14T15:09:30.591Z"
      },
      {
        "duration": 23,
        "start_time": "2023-05-14T15:12:39.093Z"
      },
      {
        "duration": 17,
        "start_time": "2023-05-14T15:12:43.648Z"
      },
      {
        "duration": 22,
        "start_time": "2023-05-14T15:12:46.773Z"
      },
      {
        "duration": 11,
        "start_time": "2023-05-14T15:13:09.367Z"
      },
      {
        "duration": 16,
        "start_time": "2023-05-14T15:13:24.873Z"
      },
      {
        "duration": 761,
        "start_time": "2023-05-14T15:20:04.879Z"
      },
      {
        "duration": 104,
        "start_time": "2023-05-14T15:20:05.642Z"
      },
      {
        "duration": 8,
        "start_time": "2023-05-14T15:20:05.748Z"
      },
      {
        "duration": 74,
        "start_time": "2023-05-14T15:20:05.758Z"
      },
      {
        "duration": 119,
        "start_time": "2023-05-14T15:20:05.835Z"
      },
      {
        "duration": 0,
        "start_time": "2023-05-14T15:20:05.956Z"
      },
      {
        "duration": 0,
        "start_time": "2023-05-14T15:20:05.957Z"
      },
      {
        "duration": 827,
        "start_time": "2023-05-14T15:20:25.742Z"
      },
      {
        "duration": 114,
        "start_time": "2023-05-14T15:20:26.572Z"
      },
      {
        "duration": 8,
        "start_time": "2023-05-14T15:20:26.689Z"
      },
      {
        "duration": 48,
        "start_time": "2023-05-14T15:20:26.700Z"
      },
      {
        "duration": 32,
        "start_time": "2023-05-14T15:20:26.751Z"
      },
      {
        "duration": 52,
        "start_time": "2023-05-14T15:20:26.788Z"
      },
      {
        "duration": 7,
        "start_time": "2023-05-14T15:20:26.842Z"
      },
      {
        "duration": 24,
        "start_time": "2023-05-14T15:22:04.937Z"
      },
      {
        "duration": 7,
        "start_time": "2023-05-14T15:28:57.512Z"
      },
      {
        "duration": 6,
        "start_time": "2023-05-14T15:29:02.282Z"
      },
      {
        "duration": 7,
        "start_time": "2023-05-14T15:29:09.042Z"
      },
      {
        "duration": 6,
        "start_time": "2023-05-14T15:29:19.387Z"
      },
      {
        "duration": 7,
        "start_time": "2023-05-14T15:29:32.467Z"
      },
      {
        "duration": 5,
        "start_time": "2023-05-14T15:29:46.894Z"
      },
      {
        "duration": 1129,
        "start_time": "2023-05-14T15:31:18.166Z"
      },
      {
        "duration": 880,
        "start_time": "2023-05-14T15:31:31.563Z"
      },
      {
        "duration": 6,
        "start_time": "2023-05-14T15:34:13.678Z"
      },
      {
        "duration": 27,
        "start_time": "2023-05-14T15:35:04.806Z"
      },
      {
        "duration": 8,
        "start_time": "2023-05-14T15:37:20.286Z"
      },
      {
        "duration": 8,
        "start_time": "2023-05-14T15:37:27.355Z"
      },
      {
        "duration": 10,
        "start_time": "2023-05-14T15:37:32.778Z"
      },
      {
        "duration": 20,
        "start_time": "2023-05-14T15:38:37.046Z"
      },
      {
        "duration": 11,
        "start_time": "2023-05-14T15:38:43.692Z"
      },
      {
        "duration": 6,
        "start_time": "2023-05-14T15:43:06.184Z"
      },
      {
        "duration": 921,
        "start_time": "2023-05-14T15:43:29.680Z"
      },
      {
        "duration": 5,
        "start_time": "2023-05-14T15:44:43.138Z"
      },
      {
        "duration": 7,
        "start_time": "2023-05-14T15:44:58.202Z"
      },
      {
        "duration": 1895,
        "start_time": "2023-05-14T15:47:26.406Z"
      },
      {
        "duration": 667,
        "start_time": "2023-05-14T15:48:34.048Z"
      },
      {
        "duration": 95,
        "start_time": "2023-05-14T15:48:34.717Z"
      },
      {
        "duration": 6,
        "start_time": "2023-05-14T15:48:34.814Z"
      },
      {
        "duration": 32,
        "start_time": "2023-05-14T15:48:34.821Z"
      },
      {
        "duration": 17,
        "start_time": "2023-05-14T15:48:34.854Z"
      },
      {
        "duration": 5,
        "start_time": "2023-05-14T15:48:34.873Z"
      },
      {
        "duration": 31,
        "start_time": "2023-05-14T15:48:34.880Z"
      },
      {
        "duration": 5,
        "start_time": "2023-05-14T15:48:34.912Z"
      },
      {
        "duration": 28,
        "start_time": "2023-05-14T15:48:34.918Z"
      },
      {
        "duration": 10,
        "start_time": "2023-05-14T15:48:34.949Z"
      },
      {
        "duration": 13,
        "start_time": "2023-05-14T15:48:34.961Z"
      },
      {
        "duration": 12,
        "start_time": "2023-05-14T15:48:34.976Z"
      },
      {
        "duration": 714,
        "start_time": "2023-05-14T15:49:23.849Z"
      },
      {
        "duration": 95,
        "start_time": "2023-05-14T15:49:24.565Z"
      },
      {
        "duration": 6,
        "start_time": "2023-05-14T15:49:24.661Z"
      },
      {
        "duration": 34,
        "start_time": "2023-05-14T15:49:24.669Z"
      },
      {
        "duration": 20,
        "start_time": "2023-05-14T15:49:24.705Z"
      },
      {
        "duration": 7,
        "start_time": "2023-05-14T15:49:24.727Z"
      },
      {
        "duration": 56,
        "start_time": "2023-05-14T15:49:24.735Z"
      },
      {
        "duration": 5,
        "start_time": "2023-05-14T15:49:24.793Z"
      },
      {
        "duration": 17,
        "start_time": "2023-05-14T15:49:24.800Z"
      },
      {
        "duration": 27,
        "start_time": "2023-05-14T15:49:24.820Z"
      },
      {
        "duration": 22,
        "start_time": "2023-05-14T15:49:24.849Z"
      },
      {
        "duration": 14,
        "start_time": "2023-05-14T15:49:24.873Z"
      },
      {
        "duration": 79,
        "start_time": "2023-05-14T15:52:38.490Z"
      },
      {
        "duration": 6,
        "start_time": "2023-05-14T15:52:41.811Z"
      },
      {
        "duration": 86,
        "start_time": "2023-05-14T16:01:57.146Z"
      },
      {
        "duration": 90,
        "start_time": "2023-05-14T16:02:19.600Z"
      },
      {
        "duration": 108,
        "start_time": "2023-05-14T16:03:00.706Z"
      },
      {
        "duration": 112,
        "start_time": "2023-05-14T16:03:21.504Z"
      },
      {
        "duration": 131,
        "start_time": "2023-05-14T16:04:45.988Z"
      },
      {
        "duration": 101,
        "start_time": "2023-05-14T16:04:58.272Z"
      },
      {
        "duration": 83,
        "start_time": "2023-05-14T16:06:11.860Z"
      },
      {
        "duration": 116,
        "start_time": "2023-05-14T16:06:21.542Z"
      },
      {
        "duration": 4,
        "start_time": "2023-05-14T16:07:19.894Z"
      },
      {
        "duration": 4,
        "start_time": "2023-05-14T16:07:24.464Z"
      },
      {
        "duration": 22,
        "start_time": "2023-05-14T16:08:12.584Z"
      },
      {
        "duration": 1419,
        "start_time": "2023-05-14T16:09:47.115Z"
      },
      {
        "duration": 1460,
        "start_time": "2023-05-14T16:09:56.135Z"
      },
      {
        "duration": 3,
        "start_time": "2023-05-14T16:10:34.330Z"
      },
      {
        "duration": 8,
        "start_time": "2023-05-14T16:10:38.680Z"
      },
      {
        "duration": 6,
        "start_time": "2023-05-14T16:10:44.135Z"
      },
      {
        "duration": 862,
        "start_time": "2023-05-14T16:11:22.300Z"
      },
      {
        "duration": 13,
        "start_time": "2023-05-14T16:12:10.803Z"
      },
      {
        "duration": 20,
        "start_time": "2023-05-14T16:12:42.044Z"
      },
      {
        "duration": 11,
        "start_time": "2023-05-14T16:16:49.164Z"
      },
      {
        "duration": 8,
        "start_time": "2023-05-14T16:19:48.636Z"
      },
      {
        "duration": 7,
        "start_time": "2023-05-14T16:19:58.676Z"
      },
      {
        "duration": 8,
        "start_time": "2023-05-14T16:20:02.864Z"
      },
      {
        "duration": 8,
        "start_time": "2023-05-14T16:20:11.805Z"
      },
      {
        "duration": 9,
        "start_time": "2023-05-14T16:20:24.796Z"
      },
      {
        "duration": 12,
        "start_time": "2023-05-14T16:20:31.796Z"
      },
      {
        "duration": 2,
        "start_time": "2023-05-14T16:20:53.876Z"
      },
      {
        "duration": 600,
        "start_time": "2023-05-14T16:24:00.475Z"
      },
      {
        "duration": 592,
        "start_time": "2023-05-14T16:32:29.859Z"
      },
      {
        "duration": 705,
        "start_time": "2023-05-14T16:32:36.239Z"
      },
      {
        "duration": 89,
        "start_time": "2023-05-14T16:33:56.226Z"
      },
      {
        "duration": 4,
        "start_time": "2023-05-14T16:34:02.382Z"
      },
      {
        "duration": 1488,
        "start_time": "2023-05-14T16:34:04.619Z"
      },
      {
        "duration": 958,
        "start_time": "2023-05-14T16:34:14.643Z"
      },
      {
        "duration": 820,
        "start_time": "2023-05-14T16:34:36.442Z"
      },
      {
        "duration": 33,
        "start_time": "2023-05-14T16:43:48.850Z"
      },
      {
        "duration": 755,
        "start_time": "2023-05-14T16:44:02.259Z"
      },
      {
        "duration": 61,
        "start_time": "2023-05-14T16:44:07.265Z"
      },
      {
        "duration": 1766,
        "start_time": "2023-05-14T16:44:12.966Z"
      },
      {
        "duration": 138,
        "start_time": "2023-05-14T16:45:24.259Z"
      },
      {
        "duration": 10,
        "start_time": "2023-05-14T16:45:45.110Z"
      },
      {
        "duration": 4,
        "start_time": "2023-05-14T16:45:48.971Z"
      },
      {
        "duration": 21,
        "start_time": "2023-05-14T16:46:04.341Z"
      },
      {
        "duration": 132,
        "start_time": "2023-05-14T16:46:10.033Z"
      },
      {
        "duration": 150,
        "start_time": "2023-05-14T16:46:22.013Z"
      },
      {
        "duration": 220,
        "start_time": "2023-05-14T16:47:26.043Z"
      },
      {
        "duration": 123,
        "start_time": "2023-05-14T16:49:23.911Z"
      },
      {
        "duration": 116,
        "start_time": "2023-05-14T16:49:24.718Z"
      },
      {
        "duration": 117,
        "start_time": "2023-05-14T16:49:26.719Z"
      },
      {
        "duration": 126,
        "start_time": "2023-05-14T16:49:27.135Z"
      },
      {
        "duration": 139,
        "start_time": "2023-05-14T16:49:27.733Z"
      },
      {
        "duration": 117,
        "start_time": "2023-05-14T16:49:28.584Z"
      },
      {
        "duration": 112,
        "start_time": "2023-05-14T16:49:28.982Z"
      },
      {
        "duration": 122,
        "start_time": "2023-05-14T16:49:29.312Z"
      },
      {
        "duration": 129,
        "start_time": "2023-05-14T16:49:29.634Z"
      },
      {
        "duration": 131,
        "start_time": "2023-05-14T16:49:30.034Z"
      },
      {
        "duration": 116,
        "start_time": "2023-05-14T16:49:32.157Z"
      },
      {
        "duration": 130,
        "start_time": "2023-05-14T16:49:34.378Z"
      },
      {
        "duration": 255,
        "start_time": "2023-05-14T16:51:43.673Z"
      },
      {
        "duration": 143,
        "start_time": "2023-05-14T16:51:57.145Z"
      },
      {
        "duration": 242,
        "start_time": "2023-05-14T16:52:03.575Z"
      },
      {
        "duration": 181,
        "start_time": "2023-05-14T16:52:09.304Z"
      },
      {
        "duration": 10,
        "start_time": "2023-05-14T17:04:50.194Z"
      },
      {
        "duration": 5,
        "start_time": "2023-05-14T17:04:54.684Z"
      },
      {
        "duration": 6,
        "start_time": "2023-05-14T17:05:05.727Z"
      },
      {
        "duration": 1768,
        "start_time": "2023-05-14T17:08:26.371Z"
      },
      {
        "duration": 10,
        "start_time": "2023-05-14T17:08:34.779Z"
      },
      {
        "duration": 13,
        "start_time": "2023-05-14T17:08:46.383Z"
      },
      {
        "duration": 1276,
        "start_time": "2023-05-14T17:09:20.017Z"
      },
      {
        "duration": 108,
        "start_time": "2023-05-14T17:09:21.296Z"
      },
      {
        "duration": 7,
        "start_time": "2023-05-14T17:09:21.405Z"
      },
      {
        "duration": 93,
        "start_time": "2023-05-14T17:09:21.415Z"
      },
      {
        "duration": 20,
        "start_time": "2023-05-14T17:09:21.510Z"
      },
      {
        "duration": 6,
        "start_time": "2023-05-14T17:09:21.532Z"
      },
      {
        "duration": 45,
        "start_time": "2023-05-14T17:09:21.540Z"
      },
      {
        "duration": 8,
        "start_time": "2023-05-14T17:09:21.587Z"
      },
      {
        "duration": 60,
        "start_time": "2023-05-14T17:09:21.596Z"
      },
      {
        "duration": 12,
        "start_time": "2023-05-14T17:09:21.660Z"
      },
      {
        "duration": 25,
        "start_time": "2023-05-14T17:09:21.674Z"
      },
      {
        "duration": 9,
        "start_time": "2023-05-14T17:09:21.701Z"
      },
      {
        "duration": 16,
        "start_time": "2023-05-14T17:09:21.711Z"
      },
      {
        "duration": 28,
        "start_time": "2023-05-14T17:09:21.729Z"
      },
      {
        "duration": 17,
        "start_time": "2023-05-14T17:09:21.759Z"
      },
      {
        "duration": 15,
        "start_time": "2023-05-14T17:09:21.777Z"
      },
      {
        "duration": 22,
        "start_time": "2023-05-14T17:09:21.794Z"
      },
      {
        "duration": 12,
        "start_time": "2023-05-14T17:09:21.818Z"
      },
      {
        "duration": 19,
        "start_time": "2023-05-14T17:09:21.832Z"
      },
      {
        "duration": 981,
        "start_time": "2023-05-14T17:09:21.852Z"
      },
      {
        "duration": 151,
        "start_time": "2023-05-14T17:09:22.834Z"
      },
      {
        "duration": 152,
        "start_time": "2023-05-14T17:09:22.987Z"
      },
      {
        "duration": 203,
        "start_time": "2023-05-14T17:09:23.153Z"
      },
      {
        "duration": 193,
        "start_time": "2023-05-14T17:09:23.358Z"
      },
      {
        "duration": 127,
        "start_time": "2023-05-14T17:09:23.552Z"
      },
      {
        "duration": 122,
        "start_time": "2023-05-14T17:09:23.681Z"
      },
      {
        "duration": 125,
        "start_time": "2023-05-14T17:09:23.805Z"
      },
      {
        "duration": 129,
        "start_time": "2023-05-14T17:09:23.933Z"
      },
      {
        "duration": 128,
        "start_time": "2023-05-14T17:09:24.064Z"
      },
      {
        "duration": 135,
        "start_time": "2023-05-14T17:09:24.193Z"
      },
      {
        "duration": 137,
        "start_time": "2023-05-14T17:09:24.330Z"
      },
      {
        "duration": 128,
        "start_time": "2023-05-14T17:09:24.469Z"
      },
      {
        "duration": 135,
        "start_time": "2023-05-14T17:09:24.599Z"
      },
      {
        "duration": 12,
        "start_time": "2023-05-14T17:09:24.736Z"
      },
      {
        "duration": 7,
        "start_time": "2023-05-14T17:09:24.751Z"
      },
      {
        "duration": 107,
        "start_time": "2023-05-14T17:23:09.771Z"
      },
      {
        "duration": 1845,
        "start_time": "2023-05-14T17:23:17.929Z"
      },
      {
        "duration": 26,
        "start_time": "2023-05-14T17:23:27.319Z"
      },
      {
        "duration": 46,
        "start_time": "2023-05-14T17:25:06.528Z"
      },
      {
        "duration": 1235,
        "start_time": "2023-05-14T17:25:23.755Z"
      },
      {
        "duration": 113,
        "start_time": "2023-05-14T17:25:24.993Z"
      },
      {
        "duration": 7,
        "start_time": "2023-05-14T17:25:25.107Z"
      },
      {
        "duration": 60,
        "start_time": "2023-05-14T17:25:25.116Z"
      },
      {
        "duration": 41,
        "start_time": "2023-05-14T17:25:25.178Z"
      },
      {
        "duration": 11,
        "start_time": "2023-05-14T17:25:25.221Z"
      },
      {
        "duration": 69,
        "start_time": "2023-05-14T17:25:25.234Z"
      },
      {
        "duration": 5,
        "start_time": "2023-05-14T17:25:25.305Z"
      },
      {
        "duration": 21,
        "start_time": "2023-05-14T17:25:25.311Z"
      },
      {
        "duration": 16,
        "start_time": "2023-05-14T17:25:25.335Z"
      },
      {
        "duration": 5,
        "start_time": "2023-05-14T17:25:25.352Z"
      },
      {
        "duration": 20,
        "start_time": "2023-05-14T17:25:25.358Z"
      },
      {
        "duration": 24,
        "start_time": "2023-05-14T17:25:25.380Z"
      },
      {
        "duration": 28,
        "start_time": "2023-05-14T17:25:25.405Z"
      },
      {
        "duration": 51,
        "start_time": "2023-05-14T17:25:25.435Z"
      },
      {
        "duration": 26,
        "start_time": "2023-05-14T17:25:25.488Z"
      },
      {
        "duration": 19,
        "start_time": "2023-05-14T17:25:25.515Z"
      },
      {
        "duration": 10,
        "start_time": "2023-05-14T17:25:25.536Z"
      },
      {
        "duration": 34,
        "start_time": "2023-05-14T17:25:25.554Z"
      },
      {
        "duration": 917,
        "start_time": "2023-05-14T17:25:25.590Z"
      },
      {
        "duration": 137,
        "start_time": "2023-05-14T17:25:26.509Z"
      },
      {
        "duration": 141,
        "start_time": "2023-05-14T17:25:26.649Z"
      },
      {
        "duration": 153,
        "start_time": "2023-05-14T17:25:26.792Z"
      },
      {
        "duration": 212,
        "start_time": "2023-05-14T17:25:26.949Z"
      },
      {
        "duration": 130,
        "start_time": "2023-05-14T17:25:27.164Z"
      },
      {
        "duration": 127,
        "start_time": "2023-05-14T17:25:27.296Z"
      },
      {
        "duration": 134,
        "start_time": "2023-05-14T17:25:27.424Z"
      },
      {
        "duration": 112,
        "start_time": "2023-05-14T17:25:27.563Z"
      },
      {
        "duration": 123,
        "start_time": "2023-05-14T17:25:27.677Z"
      },
      {
        "duration": 135,
        "start_time": "2023-05-14T17:25:27.802Z"
      },
      {
        "duration": 142,
        "start_time": "2023-05-14T17:25:27.938Z"
      },
      {
        "duration": 133,
        "start_time": "2023-05-14T17:25:28.082Z"
      },
      {
        "duration": 155,
        "start_time": "2023-05-14T17:25:28.217Z"
      },
      {
        "duration": 7,
        "start_time": "2023-05-14T17:25:28.375Z"
      },
      {
        "duration": 9,
        "start_time": "2023-05-14T17:25:28.384Z"
      },
      {
        "duration": 137,
        "start_time": "2023-05-14T17:25:28.395Z"
      },
      {
        "duration": 0,
        "start_time": "2023-05-14T17:25:28.534Z"
      },
      {
        "duration": 30,
        "start_time": "2023-05-14T17:25:35.644Z"
      },
      {
        "duration": 37,
        "start_time": "2023-05-14T17:25:48.519Z"
      },
      {
        "duration": 6,
        "start_time": "2023-05-14T17:26:06.729Z"
      },
      {
        "duration": 1347,
        "start_time": "2023-05-14T17:26:50.197Z"
      },
      {
        "duration": 115,
        "start_time": "2023-05-14T17:26:51.547Z"
      },
      {
        "duration": 7,
        "start_time": "2023-05-14T17:26:51.666Z"
      },
      {
        "duration": 46,
        "start_time": "2023-05-14T17:26:51.676Z"
      },
      {
        "duration": 24,
        "start_time": "2023-05-14T17:26:51.725Z"
      },
      {
        "duration": 20,
        "start_time": "2023-05-14T17:26:51.751Z"
      },
      {
        "duration": 49,
        "start_time": "2023-05-14T17:26:51.774Z"
      },
      {
        "duration": 5,
        "start_time": "2023-05-14T17:26:51.826Z"
      },
      {
        "duration": 9,
        "start_time": "2023-05-14T17:26:51.833Z"
      },
      {
        "duration": 24,
        "start_time": "2023-05-14T17:26:51.846Z"
      },
      {
        "duration": 9,
        "start_time": "2023-05-14T17:26:51.872Z"
      },
      {
        "duration": 22,
        "start_time": "2023-05-14T17:26:51.884Z"
      },
      {
        "duration": 13,
        "start_time": "2023-05-14T17:26:51.908Z"
      },
      {
        "duration": 11,
        "start_time": "2023-05-14T17:26:51.923Z"
      },
      {
        "duration": 40,
        "start_time": "2023-05-14T17:26:51.936Z"
      },
      {
        "duration": 26,
        "start_time": "2023-05-14T17:26:51.978Z"
      },
      {
        "duration": 18,
        "start_time": "2023-05-14T17:26:52.006Z"
      },
      {
        "duration": 13,
        "start_time": "2023-05-14T17:26:52.026Z"
      },
      {
        "duration": 41,
        "start_time": "2023-05-14T17:26:52.041Z"
      },
      {
        "duration": 1015,
        "start_time": "2023-05-14T17:26:52.084Z"
      },
      {
        "duration": 164,
        "start_time": "2023-05-14T17:26:53.102Z"
      },
      {
        "duration": 136,
        "start_time": "2023-05-14T17:26:53.268Z"
      },
      {
        "duration": 199,
        "start_time": "2023-05-14T17:26:53.405Z"
      },
      {
        "duration": 204,
        "start_time": "2023-05-14T17:26:53.606Z"
      },
      {
        "duration": 122,
        "start_time": "2023-05-14T17:26:53.812Z"
      },
      {
        "duration": 140,
        "start_time": "2023-05-14T17:26:53.936Z"
      },
      {
        "duration": 128,
        "start_time": "2023-05-14T17:26:54.078Z"
      },
      {
        "duration": 156,
        "start_time": "2023-05-14T17:26:54.210Z"
      },
      {
        "duration": 112,
        "start_time": "2023-05-14T17:26:54.368Z"
      },
      {
        "duration": 134,
        "start_time": "2023-05-14T17:26:54.482Z"
      },
      {
        "duration": 141,
        "start_time": "2023-05-14T17:26:54.618Z"
      },
      {
        "duration": 120,
        "start_time": "2023-05-14T17:26:54.761Z"
      },
      {
        "duration": 147,
        "start_time": "2023-05-14T17:26:54.883Z"
      },
      {
        "duration": 23,
        "start_time": "2023-05-14T17:26:55.031Z"
      },
      {
        "duration": 17,
        "start_time": "2023-05-14T17:26:55.056Z"
      },
      {
        "duration": 7,
        "start_time": "2023-05-14T17:26:55.075Z"
      },
      {
        "duration": 8,
        "start_time": "2023-05-14T17:26:55.083Z"
      },
      {
        "duration": 75,
        "start_time": "2023-05-14T17:29:42.641Z"
      },
      {
        "duration": 6,
        "start_time": "2023-05-14T17:43:39.255Z"
      },
      {
        "duration": 103,
        "start_time": "2023-05-14T17:44:55.976Z"
      },
      {
        "duration": 5,
        "start_time": "2023-05-14T17:44:59.616Z"
      },
      {
        "duration": 750,
        "start_time": "2023-05-14T17:45:25.152Z"
      },
      {
        "duration": 5,
        "start_time": "2023-05-14T17:47:35.026Z"
      },
      {
        "duration": 7,
        "start_time": "2023-05-14T17:51:38.668Z"
      },
      {
        "duration": 5,
        "start_time": "2023-05-14T17:51:46.089Z"
      },
      {
        "duration": 4620,
        "start_time": "2023-05-14T18:03:46.637Z"
      },
      {
        "duration": 109,
        "start_time": "2023-05-14T18:06:43.697Z"
      },
      {
        "duration": 5,
        "start_time": "2023-05-14T18:08:03.042Z"
      },
      {
        "duration": 280,
        "start_time": "2023-05-14T18:08:06.698Z"
      },
      {
        "duration": 9,
        "start_time": "2023-05-14T18:08:33.809Z"
      },
      {
        "duration": 12,
        "start_time": "2023-05-14T18:08:37.248Z"
      },
      {
        "duration": 4,
        "start_time": "2023-05-14T18:08:40.463Z"
      },
      {
        "duration": 16,
        "start_time": "2023-05-14T18:08:49.581Z"
      },
      {
        "duration": 5,
        "start_time": "2023-05-14T18:09:10.420Z"
      },
      {
        "duration": 233,
        "start_time": "2023-05-14T18:09:15.725Z"
      },
      {
        "duration": 6,
        "start_time": "2023-05-14T18:09:25.147Z"
      },
      {
        "duration": 247,
        "start_time": "2023-05-14T18:09:28.205Z"
      },
      {
        "duration": 12,
        "start_time": "2023-05-14T18:09:39.343Z"
      },
      {
        "duration": 5,
        "start_time": "2023-05-14T18:09:44.475Z"
      },
      {
        "duration": 7,
        "start_time": "2023-05-14T18:09:45.019Z"
      },
      {
        "duration": 263,
        "start_time": "2023-05-14T18:09:47.829Z"
      },
      {
        "duration": 12,
        "start_time": "2023-05-14T18:11:41.832Z"
      },
      {
        "duration": 6,
        "start_time": "2023-05-14T18:12:24.828Z"
      },
      {
        "duration": 10,
        "start_time": "2023-05-14T18:12:30.404Z"
      },
      {
        "duration": 13,
        "start_time": "2023-05-14T18:26:47.971Z"
      },
      {
        "duration": 14902,
        "start_time": "2023-05-14T18:29:13.913Z"
      },
      {
        "duration": 183494,
        "start_time": "2023-05-14T18:30:11.166Z"
      },
      {
        "duration": 4734,
        "start_time": "2023-05-14T18:37:07.599Z"
      },
      {
        "duration": 4749,
        "start_time": "2023-05-14T18:38:36.947Z"
      },
      {
        "duration": 4637,
        "start_time": "2023-05-14T18:39:58.519Z"
      },
      {
        "duration": 4706,
        "start_time": "2023-05-14T18:41:34.681Z"
      },
      {
        "duration": 77,
        "start_time": "2023-05-14T18:45:14.089Z"
      },
      {
        "duration": 3,
        "start_time": "2023-05-14T18:51:39.751Z"
      },
      {
        "duration": 194,
        "start_time": "2023-05-14T18:52:07.744Z"
      },
      {
        "duration": 2271,
        "start_time": "2023-05-14T19:02:05.231Z"
      },
      {
        "duration": 20,
        "start_time": "2023-05-14T19:02:11.934Z"
      },
      {
        "duration": 55,
        "start_time": "2023-05-14T19:02:21.733Z"
      },
      {
        "duration": 4713,
        "start_time": "2023-05-14T19:10:59.521Z"
      },
      {
        "duration": 7,
        "start_time": "2023-05-14T19:11:05.637Z"
      },
      {
        "duration": 34,
        "start_time": "2023-05-14T19:22:09.903Z"
      },
      {
        "duration": 26,
        "start_time": "2023-05-14T19:39:39.716Z"
      },
      {
        "duration": 16,
        "start_time": "2023-05-14T19:40:05.640Z"
      },
      {
        "duration": 10,
        "start_time": "2023-05-14T19:40:16.392Z"
      },
      {
        "duration": 5,
        "start_time": "2023-05-14T19:40:19.082Z"
      },
      {
        "duration": 7,
        "start_time": "2023-05-14T19:40:23.652Z"
      },
      {
        "duration": 62673,
        "start_time": "2023-05-14T19:41:12.580Z"
      },
      {
        "duration": 1592,
        "start_time": "2023-05-14T19:46:13.269Z"
      },
      {
        "duration": 103,
        "start_time": "2023-05-14T19:46:14.863Z"
      },
      {
        "duration": 11,
        "start_time": "2023-05-14T19:46:14.968Z"
      },
      {
        "duration": 47,
        "start_time": "2023-05-14T19:46:14.981Z"
      },
      {
        "duration": 56,
        "start_time": "2023-05-14T19:46:15.031Z"
      },
      {
        "duration": 33,
        "start_time": "2023-05-14T19:46:15.089Z"
      },
      {
        "duration": 47,
        "start_time": "2023-05-14T19:46:15.125Z"
      },
      {
        "duration": 6,
        "start_time": "2023-05-14T19:46:15.174Z"
      },
      {
        "duration": 68,
        "start_time": "2023-05-14T19:46:15.182Z"
      },
      {
        "duration": 38,
        "start_time": "2023-05-14T19:46:15.251Z"
      },
      {
        "duration": 45,
        "start_time": "2023-05-14T19:46:15.291Z"
      },
      {
        "duration": 45,
        "start_time": "2023-05-14T19:46:15.338Z"
      },
      {
        "duration": 7,
        "start_time": "2023-05-14T19:46:15.385Z"
      },
      {
        "duration": 9,
        "start_time": "2023-05-14T19:46:15.397Z"
      },
      {
        "duration": 51,
        "start_time": "2023-05-14T19:46:15.408Z"
      },
      {
        "duration": 20,
        "start_time": "2023-05-14T19:46:15.461Z"
      },
      {
        "duration": 40,
        "start_time": "2023-05-14T19:46:15.483Z"
      },
      {
        "duration": 27,
        "start_time": "2023-05-14T19:46:15.525Z"
      },
      {
        "duration": 26,
        "start_time": "2023-05-14T19:46:15.554Z"
      },
      {
        "duration": 1003,
        "start_time": "2023-05-14T19:46:15.581Z"
      },
      {
        "duration": 145,
        "start_time": "2023-05-14T19:46:16.585Z"
      },
      {
        "duration": 151,
        "start_time": "2023-05-14T19:46:16.732Z"
      },
      {
        "duration": 203,
        "start_time": "2023-05-14T19:46:16.885Z"
      },
      {
        "duration": 130,
        "start_time": "2023-05-14T19:46:17.090Z"
      },
      {
        "duration": 125,
        "start_time": "2023-05-14T19:46:17.222Z"
      },
      {
        "duration": 141,
        "start_time": "2023-05-14T19:46:17.349Z"
      },
      {
        "duration": 119,
        "start_time": "2023-05-14T19:46:17.491Z"
      },
      {
        "duration": 119,
        "start_time": "2023-05-14T19:46:17.612Z"
      },
      {
        "duration": 130,
        "start_time": "2023-05-14T19:46:17.732Z"
      },
      {
        "duration": 140,
        "start_time": "2023-05-14T19:46:17.864Z"
      },
      {
        "duration": 139,
        "start_time": "2023-05-14T19:46:18.007Z"
      },
      {
        "duration": 227,
        "start_time": "2023-05-14T19:46:18.148Z"
      },
      {
        "duration": 144,
        "start_time": "2023-05-14T19:46:18.377Z"
      },
      {
        "duration": 6,
        "start_time": "2023-05-14T19:46:18.523Z"
      },
      {
        "duration": 6,
        "start_time": "2023-05-14T19:46:18.546Z"
      },
      {
        "duration": 20,
        "start_time": "2023-05-14T19:46:18.553Z"
      },
      {
        "duration": 21,
        "start_time": "2023-05-14T19:46:18.575Z"
      },
      {
        "duration": 61,
        "start_time": "2023-05-14T19:46:18.598Z"
      },
      {
        "duration": 6,
        "start_time": "2023-05-14T19:46:18.660Z"
      },
      {
        "duration": 22,
        "start_time": "2023-05-14T19:46:18.667Z"
      },
      {
        "duration": 136,
        "start_time": "2023-05-14T19:46:18.694Z"
      },
      {
        "duration": 0,
        "start_time": "2023-05-14T19:46:18.832Z"
      },
      {
        "duration": 0,
        "start_time": "2023-05-14T19:46:18.833Z"
      },
      {
        "duration": 0,
        "start_time": "2023-05-14T19:46:18.835Z"
      },
      {
        "duration": 0,
        "start_time": "2023-05-14T19:46:18.837Z"
      },
      {
        "duration": 0,
        "start_time": "2023-05-14T19:46:18.845Z"
      },
      {
        "duration": 0,
        "start_time": "2023-05-14T19:46:18.846Z"
      },
      {
        "duration": 0,
        "start_time": "2023-05-14T19:46:18.848Z"
      },
      {
        "duration": 0,
        "start_time": "2023-05-14T19:46:18.849Z"
      },
      {
        "duration": 0,
        "start_time": "2023-05-14T19:46:18.850Z"
      },
      {
        "duration": 0,
        "start_time": "2023-05-14T19:46:18.851Z"
      },
      {
        "duration": 0,
        "start_time": "2023-05-14T19:46:18.852Z"
      },
      {
        "duration": 0,
        "start_time": "2023-05-14T19:46:18.853Z"
      },
      {
        "duration": 0,
        "start_time": "2023-05-14T19:46:18.854Z"
      },
      {
        "duration": 0,
        "start_time": "2023-05-14T19:46:18.855Z"
      },
      {
        "duration": 0,
        "start_time": "2023-05-14T19:46:18.857Z"
      },
      {
        "duration": 5,
        "start_time": "2023-05-14T19:47:43.672Z"
      },
      {
        "duration": 4,
        "start_time": "2023-05-14T19:47:49.857Z"
      },
      {
        "duration": 7,
        "start_time": "2023-05-14T19:47:50.260Z"
      },
      {
        "duration": 3,
        "start_time": "2023-05-14T19:47:50.670Z"
      },
      {
        "duration": 3,
        "start_time": "2023-05-14T19:47:51.502Z"
      },
      {
        "duration": 25,
        "start_time": "2023-05-14T19:47:53.448Z"
      },
      {
        "duration": 21,
        "start_time": "2023-05-14T19:47:53.733Z"
      },
      {
        "duration": 5,
        "start_time": "2023-05-14T19:47:54.063Z"
      },
      {
        "duration": 4,
        "start_time": "2023-05-14T19:47:55.535Z"
      },
      {
        "duration": 31660,
        "start_time": "2023-05-14T19:48:42.296Z"
      },
      {
        "duration": 192763,
        "start_time": "2023-05-14T19:49:25.295Z"
      },
      {
        "duration": 145,
        "start_time": "2023-05-14T19:52:47.453Z"
      },
      {
        "duration": 109,
        "start_time": "2023-05-14T19:53:20.475Z"
      },
      {
        "duration": 9272,
        "start_time": "2023-05-14T19:53:25.282Z"
      },
      {
        "duration": 4638,
        "start_time": "2023-05-14T19:55:07.158Z"
      },
      {
        "duration": 121461,
        "start_time": "2023-05-14T19:59:53.586Z"
      },
      {
        "duration": 10,
        "start_time": "2023-05-14T20:08:47.038Z"
      },
      {
        "duration": 13,
        "start_time": "2023-05-14T20:17:30.850Z"
      },
      {
        "duration": 10,
        "start_time": "2023-05-14T20:17:40.465Z"
      },
      {
        "duration": 9,
        "start_time": "2023-05-14T20:17:47.658Z"
      },
      {
        "duration": 9,
        "start_time": "2023-05-14T20:20:09.494Z"
      },
      {
        "duration": 67,
        "start_time": "2023-05-14T20:32:06.783Z"
      },
      {
        "duration": 15,
        "start_time": "2023-05-14T20:32:36.601Z"
      },
      {
        "duration": 15,
        "start_time": "2023-05-14T20:33:08.927Z"
      },
      {
        "duration": 29,
        "start_time": "2023-05-14T20:33:23.631Z"
      },
      {
        "duration": 1639,
        "start_time": "2023-05-14T20:39:25.359Z"
      },
      {
        "duration": 12,
        "start_time": "2023-05-14T20:40:15.797Z"
      },
      {
        "duration": 4,
        "start_time": "2023-05-14T20:40:18.561Z"
      },
      {
        "duration": 23,
        "start_time": "2023-05-14T20:40:49.498Z"
      },
      {
        "duration": 24,
        "start_time": "2023-05-14T20:41:02.991Z"
      },
      {
        "duration": 23,
        "start_time": "2023-05-14T20:43:47.291Z"
      },
      {
        "duration": 78,
        "start_time": "2023-05-15T18:33:48.004Z"
      },
      {
        "duration": 59,
        "start_time": "2023-05-15T18:34:17.553Z"
      },
      {
        "duration": 1734,
        "start_time": "2023-05-15T18:34:25.542Z"
      },
      {
        "duration": 428,
        "start_time": "2023-05-15T18:34:27.279Z"
      },
      {
        "duration": 8,
        "start_time": "2023-05-15T18:34:27.709Z"
      },
      {
        "duration": 55,
        "start_time": "2023-05-15T18:34:27.718Z"
      },
      {
        "duration": 20,
        "start_time": "2023-05-15T18:34:27.776Z"
      },
      {
        "duration": 6,
        "start_time": "2023-05-15T18:34:27.798Z"
      },
      {
        "duration": 32,
        "start_time": "2023-05-15T18:34:27.806Z"
      },
      {
        "duration": 5,
        "start_time": "2023-05-15T18:34:27.839Z"
      },
      {
        "duration": 6,
        "start_time": "2023-05-15T18:34:27.845Z"
      },
      {
        "duration": 8,
        "start_time": "2023-05-15T18:34:27.852Z"
      },
      {
        "duration": 14,
        "start_time": "2023-05-15T18:34:27.862Z"
      },
      {
        "duration": 13,
        "start_time": "2023-05-15T18:34:27.877Z"
      },
      {
        "duration": 4,
        "start_time": "2023-05-15T18:34:27.892Z"
      },
      {
        "duration": 8,
        "start_time": "2023-05-15T18:34:27.899Z"
      },
      {
        "duration": 16,
        "start_time": "2023-05-15T18:34:27.909Z"
      },
      {
        "duration": 17,
        "start_time": "2023-05-15T18:34:27.927Z"
      },
      {
        "duration": 14,
        "start_time": "2023-05-15T18:34:27.945Z"
      },
      {
        "duration": 9,
        "start_time": "2023-05-15T18:34:27.961Z"
      },
      {
        "duration": 14,
        "start_time": "2023-05-15T18:34:27.971Z"
      },
      {
        "duration": 899,
        "start_time": "2023-05-15T18:34:27.986Z"
      },
      {
        "duration": 139,
        "start_time": "2023-05-15T18:34:28.887Z"
      },
      {
        "duration": 136,
        "start_time": "2023-05-15T18:34:29.027Z"
      },
      {
        "duration": 196,
        "start_time": "2023-05-15T18:34:29.165Z"
      },
      {
        "duration": 122,
        "start_time": "2023-05-15T18:34:29.362Z"
      },
      {
        "duration": 108,
        "start_time": "2023-05-15T18:34:29.485Z"
      },
      {
        "duration": 115,
        "start_time": "2023-05-15T18:34:29.594Z"
      },
      {
        "duration": 119,
        "start_time": "2023-05-15T18:34:29.711Z"
      },
      {
        "duration": 117,
        "start_time": "2023-05-15T18:34:29.832Z"
      },
      {
        "duration": 113,
        "start_time": "2023-05-15T18:34:29.950Z"
      },
      {
        "duration": 126,
        "start_time": "2023-05-15T18:34:30.065Z"
      },
      {
        "duration": 131,
        "start_time": "2023-05-15T18:34:30.193Z"
      },
      {
        "duration": 227,
        "start_time": "2023-05-15T18:34:30.326Z"
      },
      {
        "duration": 133,
        "start_time": "2023-05-15T18:34:30.555Z"
      },
      {
        "duration": 6,
        "start_time": "2023-05-15T18:34:30.689Z"
      },
      {
        "duration": 34,
        "start_time": "2023-05-15T18:34:30.697Z"
      },
      {
        "duration": 73,
        "start_time": "2023-05-15T18:34:30.733Z"
      },
      {
        "duration": 37,
        "start_time": "2023-05-15T18:34:30.808Z"
      },
      {
        "duration": 87,
        "start_time": "2023-05-15T18:34:30.847Z"
      },
      {
        "duration": 6,
        "start_time": "2023-05-15T18:34:30.936Z"
      },
      {
        "duration": 26,
        "start_time": "2023-05-15T18:34:30.943Z"
      },
      {
        "duration": 22,
        "start_time": "2023-05-15T18:34:30.973Z"
      },
      {
        "duration": 30,
        "start_time": "2023-05-15T18:34:30.997Z"
      },
      {
        "duration": 62,
        "start_time": "2023-05-15T18:34:31.029Z"
      },
      {
        "duration": 24,
        "start_time": "2023-05-15T18:34:31.092Z"
      },
      {
        "duration": 35,
        "start_time": "2023-05-15T18:34:31.117Z"
      },
      {
        "duration": 62,
        "start_time": "2023-05-15T18:34:31.154Z"
      },
      {
        "duration": 28,
        "start_time": "2023-05-15T18:34:31.218Z"
      },
      {
        "duration": 11,
        "start_time": "2023-05-15T18:34:31.248Z"
      },
      {
        "duration": 62,
        "start_time": "2023-05-15T18:34:31.261Z"
      },
      {
        "duration": 67,
        "start_time": "2023-05-15T18:34:31.325Z"
      },
      {
        "duration": 47,
        "start_time": "2023-05-15T18:34:31.395Z"
      },
      {
        "duration": 31592,
        "start_time": "2023-05-15T18:34:31.444Z"
      },
      {
        "duration": 8,
        "start_time": "2023-05-15T18:35:03.038Z"
      },
      {
        "duration": 0,
        "start_time": "2023-05-15T18:35:03.048Z"
      },
      {
        "duration": 0,
        "start_time": "2023-05-15T18:35:03.050Z"
      },
      {
        "duration": 0,
        "start_time": "2023-05-15T18:35:03.051Z"
      },
      {
        "duration": 1,
        "start_time": "2023-05-15T18:35:03.052Z"
      },
      {
        "duration": 183584,
        "start_time": "2023-05-15T18:35:23.903Z"
      },
      {
        "duration": 1742,
        "start_time": "2023-05-15T18:48:53.421Z"
      },
      {
        "duration": 97,
        "start_time": "2023-05-15T18:48:55.165Z"
      },
      {
        "duration": 7,
        "start_time": "2023-05-15T18:48:55.264Z"
      },
      {
        "duration": 33,
        "start_time": "2023-05-15T18:48:55.275Z"
      },
      {
        "duration": 19,
        "start_time": "2023-05-15T18:48:55.310Z"
      },
      {
        "duration": 6,
        "start_time": "2023-05-15T18:48:55.331Z"
      },
      {
        "duration": 30,
        "start_time": "2023-05-15T18:48:55.339Z"
      },
      {
        "duration": 5,
        "start_time": "2023-05-15T18:48:55.370Z"
      },
      {
        "duration": 5,
        "start_time": "2023-05-15T18:48:55.377Z"
      },
      {
        "duration": 6,
        "start_time": "2023-05-15T18:48:55.386Z"
      },
      {
        "duration": 3,
        "start_time": "2023-05-15T18:48:55.394Z"
      },
      {
        "duration": 13,
        "start_time": "2023-05-15T18:48:55.425Z"
      },
      {
        "duration": 5,
        "start_time": "2023-05-15T18:48:55.440Z"
      },
      {
        "duration": 6,
        "start_time": "2023-05-15T18:48:55.447Z"
      },
      {
        "duration": 7,
        "start_time": "2023-05-15T18:48:55.455Z"
      },
      {
        "duration": 21,
        "start_time": "2023-05-15T18:48:55.464Z"
      },
      {
        "duration": 55,
        "start_time": "2023-05-15T18:48:55.487Z"
      },
      {
        "duration": 11,
        "start_time": "2023-05-15T18:48:55.544Z"
      },
      {
        "duration": 22,
        "start_time": "2023-05-15T18:48:55.557Z"
      },
      {
        "duration": 1002,
        "start_time": "2023-05-15T18:48:55.581Z"
      },
      {
        "duration": 142,
        "start_time": "2023-05-15T18:48:56.585Z"
      },
      {
        "duration": 141,
        "start_time": "2023-05-15T18:48:56.729Z"
      },
      {
        "duration": 205,
        "start_time": "2023-05-15T18:48:56.873Z"
      },
      {
        "duration": 118,
        "start_time": "2023-05-15T18:48:57.080Z"
      },
      {
        "duration": 138,
        "start_time": "2023-05-15T18:48:57.201Z"
      },
      {
        "duration": 124,
        "start_time": "2023-05-15T18:48:57.342Z"
      },
      {
        "duration": 142,
        "start_time": "2023-05-15T18:48:57.468Z"
      },
      {
        "duration": 138,
        "start_time": "2023-05-15T18:48:57.623Z"
      },
      {
        "duration": 120,
        "start_time": "2023-05-15T18:48:57.762Z"
      },
      {
        "duration": 141,
        "start_time": "2023-05-15T18:48:57.884Z"
      },
      {
        "duration": 139,
        "start_time": "2023-05-15T18:48:58.026Z"
      },
      {
        "duration": 224,
        "start_time": "2023-05-15T18:48:58.168Z"
      },
      {
        "duration": 157,
        "start_time": "2023-05-15T18:48:58.395Z"
      },
      {
        "duration": 7,
        "start_time": "2023-05-15T18:48:58.554Z"
      },
      {
        "duration": 13,
        "start_time": "2023-05-15T18:48:58.563Z"
      },
      {
        "duration": 15,
        "start_time": "2023-05-15T18:48:58.577Z"
      },
      {
        "duration": 33,
        "start_time": "2023-05-15T18:48:58.593Z"
      },
      {
        "duration": 75,
        "start_time": "2023-05-15T18:48:58.628Z"
      },
      {
        "duration": 6,
        "start_time": "2023-05-15T18:48:58.705Z"
      },
      {
        "duration": 18,
        "start_time": "2023-05-15T18:48:58.713Z"
      },
      {
        "duration": 18,
        "start_time": "2023-05-15T18:48:58.733Z"
      },
      {
        "duration": 12,
        "start_time": "2023-05-15T18:48:58.753Z"
      },
      {
        "duration": 20,
        "start_time": "2023-05-15T18:48:58.767Z"
      },
      {
        "duration": 9,
        "start_time": "2023-05-15T18:48:58.789Z"
      },
      {
        "duration": 8,
        "start_time": "2023-05-15T18:48:58.800Z"
      },
      {
        "duration": 33,
        "start_time": "2023-05-15T18:48:58.810Z"
      },
      {
        "duration": 20,
        "start_time": "2023-05-15T18:48:58.845Z"
      },
      {
        "duration": 4,
        "start_time": "2023-05-15T18:48:58.867Z"
      },
      {
        "duration": 27,
        "start_time": "2023-05-15T18:48:58.873Z"
      },
      {
        "duration": 17,
        "start_time": "2023-05-15T18:48:58.924Z"
      },
      {
        "duration": 10,
        "start_time": "2023-05-15T18:48:58.942Z"
      },
      {
        "duration": 25990,
        "start_time": "2023-05-15T18:48:58.954Z"
      },
      {
        "duration": 191043,
        "start_time": "2023-05-15T18:49:24.947Z"
      },
      {
        "duration": 43545,
        "start_time": "2023-05-15T18:52:35.991Z"
      },
      {
        "duration": 4813,
        "start_time": "2023-05-15T18:53:19.538Z"
      },
      {
        "duration": 4,
        "start_time": "2023-05-15T18:53:24.352Z"
      },
      {
        "duration": 20,
        "start_time": "2023-05-15T18:53:24.358Z"
      },
      {
        "duration": 19,
        "start_time": "2023-05-15T18:53:24.379Z"
      },
      {
        "duration": 18,
        "start_time": "2023-05-15T18:53:24.399Z"
      },
      {
        "duration": 37,
        "start_time": "2023-05-15T18:53:24.418Z"
      },
      {
        "duration": 37,
        "start_time": "2023-05-15T18:53:24.457Z"
      },
      {
        "duration": 139,
        "start_time": "2023-05-15T19:05:53.382Z"
      },
      {
        "duration": 16,
        "start_time": "2023-05-15T19:06:30.247Z"
      },
      {
        "duration": 23180,
        "start_time": "2023-05-15T19:06:32.558Z"
      },
      {
        "duration": 643999,
        "start_time": "2023-05-15T19:08:39.636Z"
      },
      {
        "duration": 1380,
        "start_time": "2023-05-15T19:41:42.947Z"
      },
      {
        "duration": 88,
        "start_time": "2023-05-15T19:41:44.329Z"
      },
      {
        "duration": 7,
        "start_time": "2023-05-15T19:41:44.418Z"
      },
      {
        "duration": 25,
        "start_time": "2023-05-15T19:41:44.426Z"
      },
      {
        "duration": 16,
        "start_time": "2023-05-15T19:41:44.453Z"
      },
      {
        "duration": 5,
        "start_time": "2023-05-15T19:41:44.471Z"
      },
      {
        "duration": 27,
        "start_time": "2023-05-15T19:41:44.477Z"
      },
      {
        "duration": 4,
        "start_time": "2023-05-15T19:41:44.525Z"
      },
      {
        "duration": 5,
        "start_time": "2023-05-15T19:41:44.530Z"
      },
      {
        "duration": 8,
        "start_time": "2023-05-15T19:41:44.536Z"
      },
      {
        "duration": 4,
        "start_time": "2023-05-15T19:41:44.546Z"
      },
      {
        "duration": 24,
        "start_time": "2023-05-15T19:41:44.551Z"
      },
      {
        "duration": 6,
        "start_time": "2023-05-15T19:41:44.576Z"
      },
      {
        "duration": 7,
        "start_time": "2023-05-15T19:41:44.585Z"
      },
      {
        "duration": 6,
        "start_time": "2023-05-15T19:41:44.594Z"
      },
      {
        "duration": 23,
        "start_time": "2023-05-15T19:41:44.602Z"
      },
      {
        "duration": 14,
        "start_time": "2023-05-15T19:41:44.626Z"
      },
      {
        "duration": 9,
        "start_time": "2023-05-15T19:41:44.642Z"
      },
      {
        "duration": 13,
        "start_time": "2023-05-15T19:41:44.652Z"
      },
      {
        "duration": 968,
        "start_time": "2023-05-15T19:41:44.667Z"
      },
      {
        "duration": 138,
        "start_time": "2023-05-15T19:41:45.636Z"
      },
      {
        "duration": 128,
        "start_time": "2023-05-15T19:41:45.776Z"
      },
      {
        "duration": 205,
        "start_time": "2023-05-15T19:41:45.905Z"
      },
      {
        "duration": 117,
        "start_time": "2023-05-15T19:41:46.112Z"
      },
      {
        "duration": 118,
        "start_time": "2023-05-15T19:41:46.230Z"
      },
      {
        "duration": 112,
        "start_time": "2023-05-15T19:41:46.349Z"
      },
      {
        "duration": 113,
        "start_time": "2023-05-15T19:41:46.463Z"
      },
      {
        "duration": 108,
        "start_time": "2023-05-15T19:41:46.577Z"
      },
      {
        "duration": 104,
        "start_time": "2023-05-15T19:41:46.687Z"
      },
      {
        "duration": 117,
        "start_time": "2023-05-15T19:41:46.793Z"
      },
      {
        "duration": 115,
        "start_time": "2023-05-15T19:41:46.911Z"
      },
      {
        "duration": 105,
        "start_time": "2023-05-15T19:41:47.027Z"
      },
      {
        "duration": 115,
        "start_time": "2023-05-15T19:41:47.133Z"
      },
      {
        "duration": 5,
        "start_time": "2023-05-15T19:41:47.250Z"
      },
      {
        "duration": 8,
        "start_time": "2023-05-15T19:41:47.256Z"
      },
      {
        "duration": 6,
        "start_time": "2023-05-15T19:41:47.266Z"
      },
      {
        "duration": 15,
        "start_time": "2023-05-15T19:41:47.274Z"
      },
      {
        "duration": 63,
        "start_time": "2023-05-15T19:41:47.290Z"
      },
      {
        "duration": 5,
        "start_time": "2023-05-15T19:41:47.354Z"
      },
      {
        "duration": 8,
        "start_time": "2023-05-15T19:41:47.360Z"
      },
      {
        "duration": 6,
        "start_time": "2023-05-15T19:41:47.371Z"
      },
      {
        "duration": 8,
        "start_time": "2023-05-15T19:41:47.378Z"
      },
      {
        "duration": 7,
        "start_time": "2023-05-15T19:41:47.388Z"
      },
      {
        "duration": 2,
        "start_time": "2023-05-15T19:41:47.396Z"
      },
      {
        "duration": 5,
        "start_time": "2023-05-15T19:41:47.400Z"
      },
      {
        "duration": 27,
        "start_time": "2023-05-15T19:41:47.425Z"
      },
      {
        "duration": 18,
        "start_time": "2023-05-15T19:41:47.453Z"
      },
      {
        "duration": 4,
        "start_time": "2023-05-15T19:41:47.472Z"
      },
      {
        "duration": 21,
        "start_time": "2023-05-15T19:41:47.478Z"
      },
      {
        "duration": 32,
        "start_time": "2023-05-15T19:41:47.501Z"
      },
      {
        "duration": 17,
        "start_time": "2023-05-15T19:41:47.534Z"
      },
      {
        "duration": 14975,
        "start_time": "2023-05-15T19:41:47.553Z"
      },
      {
        "duration": 167807,
        "start_time": "2023-05-15T19:42:02.533Z"
      },
      {
        "duration": 6888,
        "start_time": "2023-05-15T19:44:50.341Z"
      },
      {
        "duration": 4263,
        "start_time": "2023-05-15T19:44:57.231Z"
      },
      {
        "duration": 5,
        "start_time": "2023-05-15T19:45:01.496Z"
      },
      {
        "duration": 43,
        "start_time": "2023-05-15T19:45:01.502Z"
      },
      {
        "duration": 54,
        "start_time": "2023-05-15T19:45:01.547Z"
      },
      {
        "duration": 12,
        "start_time": "2023-05-15T19:45:01.603Z"
      },
      {
        "duration": 77,
        "start_time": "2023-05-15T19:45:01.619Z"
      },
      {
        "duration": 58,
        "start_time": "2023-05-15T19:45:01.698Z"
      },
      {
        "duration": 2009,
        "start_time": "2023-05-16T14:35:35.201Z"
      },
      {
        "duration": 647,
        "start_time": "2023-05-16T14:35:37.214Z"
      },
      {
        "duration": 35,
        "start_time": "2023-05-16T14:35:37.864Z"
      },
      {
        "duration": 20,
        "start_time": "2023-05-16T14:35:37.909Z"
      },
      {
        "duration": 13,
        "start_time": "2023-05-16T14:35:37.932Z"
      },
      {
        "duration": 188,
        "start_time": "2023-05-16T14:35:37.947Z"
      },
      {
        "duration": 15,
        "start_time": "2023-05-16T14:35:38.138Z"
      },
      {
        "duration": 25,
        "start_time": "2023-05-16T14:35:38.156Z"
      },
      {
        "duration": 8,
        "start_time": "2023-05-16T14:35:38.184Z"
      },
      {
        "duration": 19,
        "start_time": "2023-05-16T14:35:38.194Z"
      },
      {
        "duration": 12,
        "start_time": "2023-05-16T14:35:38.215Z"
      },
      {
        "duration": 19,
        "start_time": "2023-05-16T14:35:38.229Z"
      },
      {
        "duration": 44,
        "start_time": "2023-05-16T14:35:38.250Z"
      },
      {
        "duration": 160,
        "start_time": "2023-05-16T14:35:38.298Z"
      },
      {
        "duration": 30,
        "start_time": "2023-05-16T14:35:38.460Z"
      },
      {
        "duration": 5,
        "start_time": "2023-05-16T14:35:38.493Z"
      },
      {
        "duration": 14,
        "start_time": "2023-05-16T14:35:38.501Z"
      },
      {
        "duration": 6,
        "start_time": "2023-05-16T14:35:38.516Z"
      },
      {
        "duration": 19,
        "start_time": "2023-05-16T14:35:38.524Z"
      },
      {
        "duration": 7,
        "start_time": "2023-05-16T14:35:38.545Z"
      },
      {
        "duration": 31,
        "start_time": "2023-05-16T14:35:38.554Z"
      },
      {
        "duration": 18,
        "start_time": "2023-05-16T14:35:38.586Z"
      },
      {
        "duration": 15,
        "start_time": "2023-05-16T14:35:38.606Z"
      },
      {
        "duration": 101,
        "start_time": "2023-05-16T14:35:38.622Z"
      },
      {
        "duration": 8,
        "start_time": "2023-05-16T14:35:38.725Z"
      },
      {
        "duration": 6,
        "start_time": "2023-05-16T14:35:38.735Z"
      },
      {
        "duration": 60,
        "start_time": "2023-05-16T14:35:38.742Z"
      },
      {
        "duration": 22,
        "start_time": "2023-05-16T14:35:38.804Z"
      },
      {
        "duration": 16,
        "start_time": "2023-05-16T14:35:38.828Z"
      },
      {
        "duration": 61,
        "start_time": "2023-05-16T14:35:38.847Z"
      },
      {
        "duration": 14,
        "start_time": "2023-05-16T14:35:38.910Z"
      },
      {
        "duration": 21,
        "start_time": "2023-05-16T14:35:38.926Z"
      },
      {
        "duration": 19,
        "start_time": "2023-05-16T14:35:38.949Z"
      },
      {
        "duration": 22,
        "start_time": "2023-05-16T14:35:38.971Z"
      },
      {
        "duration": 32,
        "start_time": "2023-05-16T14:35:38.997Z"
      },
      {
        "duration": 10,
        "start_time": "2023-05-16T14:35:39.031Z"
      },
      {
        "duration": 26,
        "start_time": "2023-05-16T14:35:39.043Z"
      },
      {
        "duration": 25,
        "start_time": "2023-05-16T14:35:39.071Z"
      },
      {
        "duration": 35,
        "start_time": "2023-05-16T14:35:39.100Z"
      },
      {
        "duration": 21,
        "start_time": "2023-05-16T14:35:39.137Z"
      },
      {
        "duration": 11,
        "start_time": "2023-05-16T14:35:39.162Z"
      },
      {
        "duration": 36,
        "start_time": "2023-05-16T14:35:39.175Z"
      },
      {
        "duration": 950,
        "start_time": "2023-05-16T14:35:39.213Z"
      },
      {
        "duration": 199,
        "start_time": "2023-05-16T14:35:40.165Z"
      },
      {
        "duration": 214,
        "start_time": "2023-05-16T14:35:40.367Z"
      },
      {
        "duration": 262,
        "start_time": "2023-05-16T14:35:40.587Z"
      },
      {
        "duration": 166,
        "start_time": "2023-05-16T14:35:40.851Z"
      },
      {
        "duration": 128,
        "start_time": "2023-05-16T14:35:41.021Z"
      },
      {
        "duration": 142,
        "start_time": "2023-05-16T14:35:41.152Z"
      },
      {
        "duration": 258,
        "start_time": "2023-05-16T14:35:41.296Z"
      },
      {
        "duration": 184,
        "start_time": "2023-05-16T14:35:41.559Z"
      },
      {
        "duration": 144,
        "start_time": "2023-05-16T14:35:41.745Z"
      },
      {
        "duration": 136,
        "start_time": "2023-05-16T14:35:41.890Z"
      },
      {
        "duration": 156,
        "start_time": "2023-05-16T14:35:42.029Z"
      },
      {
        "duration": 152,
        "start_time": "2023-05-16T14:35:42.187Z"
      },
      {
        "duration": 153,
        "start_time": "2023-05-16T14:35:42.342Z"
      },
      {
        "duration": 7,
        "start_time": "2023-05-16T14:35:42.496Z"
      },
      {
        "duration": 23,
        "start_time": "2023-05-16T14:35:42.505Z"
      },
      {
        "duration": 39,
        "start_time": "2023-05-16T14:35:42.530Z"
      },
      {
        "duration": 42,
        "start_time": "2023-05-16T14:35:42.571Z"
      },
      {
        "duration": 104,
        "start_time": "2023-05-16T14:35:42.615Z"
      },
      {
        "duration": 6,
        "start_time": "2023-05-16T14:35:42.721Z"
      },
      {
        "duration": 21,
        "start_time": "2023-05-16T14:35:42.729Z"
      },
      {
        "duration": 21,
        "start_time": "2023-05-16T14:35:42.752Z"
      },
      {
        "duration": 30,
        "start_time": "2023-05-16T14:35:42.776Z"
      },
      {
        "duration": 8,
        "start_time": "2023-05-16T14:35:42.808Z"
      },
      {
        "duration": 20,
        "start_time": "2023-05-16T14:35:42.818Z"
      },
      {
        "duration": 24,
        "start_time": "2023-05-16T14:35:42.840Z"
      },
      {
        "duration": 43,
        "start_time": "2023-05-16T14:35:42.867Z"
      },
      {
        "duration": 28,
        "start_time": "2023-05-16T14:35:42.912Z"
      },
      {
        "duration": 4,
        "start_time": "2023-05-16T14:35:42.942Z"
      },
      {
        "duration": 43,
        "start_time": "2023-05-16T14:35:42.948Z"
      },
      {
        "duration": 33,
        "start_time": "2023-05-16T14:35:42.992Z"
      },
      {
        "duration": 17,
        "start_time": "2023-05-16T14:35:43.027Z"
      },
      {
        "duration": 33343,
        "start_time": "2023-05-16T14:35:43.046Z"
      },
      {
        "duration": 207783,
        "start_time": "2023-05-16T14:36:16.391Z"
      },
      {
        "duration": 1567,
        "start_time": "2023-05-16T14:52:12.208Z"
      },
      {
        "duration": 127,
        "start_time": "2023-05-16T14:52:13.777Z"
      },
      {
        "duration": 18,
        "start_time": "2023-05-16T14:52:13.906Z"
      },
      {
        "duration": 15,
        "start_time": "2023-05-16T14:52:13.926Z"
      },
      {
        "duration": 18,
        "start_time": "2023-05-16T14:52:13.944Z"
      },
      {
        "duration": 207,
        "start_time": "2023-05-16T14:52:13.965Z"
      },
      {
        "duration": 23,
        "start_time": "2023-05-16T14:52:14.174Z"
      },
      {
        "duration": 24,
        "start_time": "2023-05-16T14:52:14.202Z"
      },
      {
        "duration": 9,
        "start_time": "2023-05-16T14:52:14.229Z"
      },
      {
        "duration": 8,
        "start_time": "2023-05-16T14:52:14.239Z"
      },
      {
        "duration": 12,
        "start_time": "2023-05-16T14:52:14.249Z"
      },
      {
        "duration": 32,
        "start_time": "2023-05-16T14:52:14.263Z"
      },
      {
        "duration": 15,
        "start_time": "2023-05-16T14:52:14.300Z"
      },
      {
        "duration": 179,
        "start_time": "2023-05-16T14:52:14.320Z"
      },
      {
        "duration": 14,
        "start_time": "2023-05-16T14:52:14.502Z"
      },
      {
        "duration": 5,
        "start_time": "2023-05-16T14:52:14.519Z"
      },
      {
        "duration": 9,
        "start_time": "2023-05-16T14:52:14.526Z"
      },
      {
        "duration": 8,
        "start_time": "2023-05-16T14:52:14.537Z"
      },
      {
        "duration": 40,
        "start_time": "2023-05-16T14:52:14.547Z"
      },
      {
        "duration": 11,
        "start_time": "2023-05-16T14:52:14.589Z"
      },
      {
        "duration": 14,
        "start_time": "2023-05-16T14:52:14.603Z"
      },
      {
        "duration": 9,
        "start_time": "2023-05-16T14:52:14.619Z"
      },
      {
        "duration": 16,
        "start_time": "2023-05-16T14:52:14.630Z"
      },
      {
        "duration": 56,
        "start_time": "2023-05-16T14:52:14.648Z"
      },
      {
        "duration": 11,
        "start_time": "2023-05-16T14:52:14.707Z"
      },
      {
        "duration": 6,
        "start_time": "2023-05-16T14:52:14.720Z"
      },
      {
        "duration": 70,
        "start_time": "2023-05-16T14:52:14.728Z"
      },
      {
        "duration": 23,
        "start_time": "2023-05-16T14:52:14.802Z"
      },
      {
        "duration": 8,
        "start_time": "2023-05-16T14:52:14.827Z"
      },
      {
        "duration": 60,
        "start_time": "2023-05-16T14:52:14.837Z"
      },
      {
        "duration": 7,
        "start_time": "2023-05-16T14:52:14.900Z"
      },
      {
        "duration": 5,
        "start_time": "2023-05-16T14:52:14.909Z"
      },
      {
        "duration": 7,
        "start_time": "2023-05-16T14:52:14.916Z"
      },
      {
        "duration": 3,
        "start_time": "2023-05-16T14:52:14.925Z"
      },
      {
        "duration": 16,
        "start_time": "2023-05-16T14:52:14.930Z"
      },
      {
        "duration": 45,
        "start_time": "2023-05-16T14:52:14.948Z"
      },
      {
        "duration": 7,
        "start_time": "2023-05-16T14:52:14.998Z"
      },
      {
        "duration": 14,
        "start_time": "2023-05-16T14:52:15.007Z"
      },
      {
        "duration": 11,
        "start_time": "2023-05-16T14:52:15.023Z"
      },
      {
        "duration": 20,
        "start_time": "2023-05-16T14:52:15.036Z"
      },
      {
        "duration": 23,
        "start_time": "2023-05-16T14:52:15.061Z"
      },
      {
        "duration": 20,
        "start_time": "2023-05-16T14:52:15.087Z"
      },
      {
        "duration": 1072,
        "start_time": "2023-05-16T14:52:15.109Z"
      },
      {
        "duration": 148,
        "start_time": "2023-05-16T14:52:16.186Z"
      },
      {
        "duration": 152,
        "start_time": "2023-05-16T14:52:16.336Z"
      },
      {
        "duration": 220,
        "start_time": "2023-05-16T14:52:16.494Z"
      },
      {
        "duration": 138,
        "start_time": "2023-05-16T14:52:16.716Z"
      },
      {
        "duration": 144,
        "start_time": "2023-05-16T14:52:16.856Z"
      },
      {
        "duration": 155,
        "start_time": "2023-05-16T14:52:17.002Z"
      },
      {
        "duration": 190,
        "start_time": "2023-05-16T14:52:17.159Z"
      },
      {
        "duration": 185,
        "start_time": "2023-05-16T14:52:17.352Z"
      },
      {
        "duration": 179,
        "start_time": "2023-05-16T14:52:17.542Z"
      },
      {
        "duration": 336,
        "start_time": "2023-05-16T14:52:17.723Z"
      },
      {
        "duration": 184,
        "start_time": "2023-05-16T14:52:18.062Z"
      },
      {
        "duration": 191,
        "start_time": "2023-05-16T14:52:18.249Z"
      },
      {
        "duration": 201,
        "start_time": "2023-05-16T14:52:18.442Z"
      },
      {
        "duration": 8,
        "start_time": "2023-05-16T14:52:18.646Z"
      },
      {
        "duration": 31,
        "start_time": "2023-05-16T14:52:18.657Z"
      },
      {
        "duration": 12,
        "start_time": "2023-05-16T14:52:18.691Z"
      },
      {
        "duration": 26,
        "start_time": "2023-05-16T14:52:18.706Z"
      },
      {
        "duration": 127,
        "start_time": "2023-05-16T14:52:18.735Z"
      },
      {
        "duration": 17,
        "start_time": "2023-05-16T14:52:18.867Z"
      },
      {
        "duration": 7,
        "start_time": "2023-05-16T14:52:18.887Z"
      },
      {
        "duration": 21,
        "start_time": "2023-05-16T14:52:18.897Z"
      },
      {
        "duration": 19,
        "start_time": "2023-05-16T14:52:18.921Z"
      },
      {
        "duration": 29,
        "start_time": "2023-05-16T14:52:18.942Z"
      },
      {
        "duration": 5,
        "start_time": "2023-05-16T14:52:18.974Z"
      },
      {
        "duration": 6,
        "start_time": "2023-05-16T14:52:18.981Z"
      },
      {
        "duration": 36,
        "start_time": "2023-05-16T14:52:18.989Z"
      },
      {
        "duration": 33,
        "start_time": "2023-05-16T14:52:19.028Z"
      },
      {
        "duration": 40,
        "start_time": "2023-05-16T14:52:19.064Z"
      },
      {
        "duration": 37,
        "start_time": "2023-05-16T14:52:19.107Z"
      },
      {
        "duration": 48,
        "start_time": "2023-05-16T14:52:19.147Z"
      },
      {
        "duration": 56,
        "start_time": "2023-05-16T14:52:19.197Z"
      },
      {
        "duration": 0,
        "start_time": "2023-05-16T14:52:19.256Z"
      },
      {
        "duration": 0,
        "start_time": "2023-05-16T14:52:19.257Z"
      },
      {
        "duration": 0,
        "start_time": "2023-05-16T14:52:19.259Z"
      },
      {
        "duration": 0,
        "start_time": "2023-05-16T14:52:19.261Z"
      },
      {
        "duration": 0,
        "start_time": "2023-05-16T14:52:19.263Z"
      },
      {
        "duration": 0,
        "start_time": "2023-05-16T14:52:19.265Z"
      },
      {
        "duration": 0,
        "start_time": "2023-05-16T14:52:19.266Z"
      },
      {
        "duration": 0,
        "start_time": "2023-05-16T14:52:19.267Z"
      },
      {
        "duration": 0,
        "start_time": "2023-05-16T14:52:19.268Z"
      },
      {
        "duration": 0,
        "start_time": "2023-05-16T14:52:19.269Z"
      },
      {
        "duration": 0,
        "start_time": "2023-05-16T14:52:19.270Z"
      },
      {
        "duration": 30,
        "start_time": "2023-05-16T14:53:39.971Z"
      },
      {
        "duration": 29071,
        "start_time": "2023-05-16T14:53:41.242Z"
      },
      {
        "duration": 281693,
        "start_time": "2023-05-16T14:54:10.315Z"
      },
      {
        "duration": 1071993,
        "start_time": "2023-05-16T14:58:52.011Z"
      },
      {
        "duration": 5897,
        "start_time": "2023-05-16T15:19:48.866Z"
      },
      {
        "duration": 16,
        "start_time": "2023-05-16T15:19:54.765Z"
      },
      {
        "duration": 16,
        "start_time": "2023-05-16T15:19:54.782Z"
      },
      {
        "duration": 22,
        "start_time": "2023-05-16T15:19:54.801Z"
      },
      {
        "duration": 13,
        "start_time": "2023-05-16T15:19:54.825Z"
      },
      {
        "duration": 52,
        "start_time": "2023-05-16T15:19:54.841Z"
      },
      {
        "duration": 16,
        "start_time": "2023-05-16T15:19:57.123Z"
      },
      {
        "duration": 97,
        "start_time": "2023-05-16T15:46:13.134Z"
      },
      {
        "duration": 85,
        "start_time": "2023-05-16T15:46:42.358Z"
      },
      {
        "duration": 11,
        "start_time": "2023-05-16T15:46:54.520Z"
      },
      {
        "duration": 16,
        "start_time": "2023-05-16T15:47:09.208Z"
      },
      {
        "duration": 8,
        "start_time": "2023-05-16T15:47:28.528Z"
      },
      {
        "duration": 8,
        "start_time": "2023-05-16T15:47:46.218Z"
      }
    ],
    "kernelspec": {
      "display_name": "Python 3 (ipykernel)",
      "language": "python",
      "name": "python3"
    },
    "language_info": {
      "codemirror_mode": {
        "name": "ipython",
        "version": 3
      },
      "file_extension": ".py",
      "mimetype": "text/x-python",
      "name": "python",
      "nbconvert_exporter": "python",
      "pygments_lexer": "ipython3",
      "version": "3.9.5"
    },
    "toc": {
      "base_numbering": 1,
      "nav_menu": {},
      "number_sections": true,
      "sideBar": true,
      "skip_h1_title": true,
      "title_cell": "Table of Contents",
      "title_sidebar": "Contents",
      "toc_cell": false,
      "toc_position": {},
      "toc_section_display": true,
      "toc_window_display": false
    },
    "colab": {
      "provenance": []
    }
  },
  "nbformat": 4,
  "nbformat_minor": 0
}