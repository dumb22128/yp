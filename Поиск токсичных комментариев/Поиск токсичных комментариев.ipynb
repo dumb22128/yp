{
  "cells": [
    {
      "cell_type": "markdown",
      "metadata": {
        "toc": true,
        "id": "Jcgn2eF75wx1"
      },
      "source": [
        "<h1>Содержание<span class=\"tocSkip\"></span></h1>\n",
        "<div class=\"toc\"><ul class=\"toc-item\"><li><ul class=\"toc-item\"><li><span><a href=\"#Общее-впечатление\" data-toc-modified-id=\"Общее-впечатление-0.1\"><span class=\"toc-item-num\">0.1&nbsp;&nbsp;</span><font color=\"orange\">Общее впечатление</font></a></span></li><li><span><a href=\"#Общее-впечатление-(ревью-2)\" data-toc-modified-id=\"Общее-впечатление-(ревью-2)-0.2\"><span class=\"toc-item-num\">0.2&nbsp;&nbsp;</span><font color=\"orange\">Общее впечатление (ревью 2)</font></a></span></li></ul></li><li><span><a href=\"#Подготовка\" data-toc-modified-id=\"Подготовка-1\"><span class=\"toc-item-num\">1&nbsp;&nbsp;</span>Подготовка</a></span><ul class=\"toc-item\"><li><span><a href=\"#Знакомство-с-данными\" data-toc-modified-id=\"Знакомство-с-данными-1.1\"><span class=\"toc-item-num\">1.1&nbsp;&nbsp;</span>Знакомство с данными</a></span></li><li><span><a href=\"#Неизвестный-столбец\" data-toc-modified-id=\"Неизвестный-столбец-1.2\"><span class=\"toc-item-num\">1.2&nbsp;&nbsp;</span>Неизвестный столбец</a></span></li><li><span><a href=\"#Сносим-лишние-символы-в-комментариях\" data-toc-modified-id=\"Сносим-лишние-символы-в-комментариях-1.3\"><span class=\"toc-item-num\">1.3&nbsp;&nbsp;</span>Сносим лишние символы в комментариях</a></span></li><li><span><a href=\"#Лемматизация\" data-toc-modified-id=\"Лемматизация-1.4\"><span class=\"toc-item-num\">1.4&nbsp;&nbsp;</span>Лемматизация</a></span></li><li><span><a href=\"#Разбитие-на-выборки\" data-toc-modified-id=\"Разбитие-на-выборки-1.5\"><span class=\"toc-item-num\">1.5&nbsp;&nbsp;</span>Разбитие на выборки</a></span></li></ul></li><li><span><a href=\"#Обучение\" data-toc-modified-id=\"Обучение-2\"><span class=\"toc-item-num\">2&nbsp;&nbsp;</span>Обучение</a></span><ul class=\"toc-item\"><li><span><a href=\"#Выбор-лучшей-модели-и-проверка-на-валидационной\" data-toc-modified-id=\"Выбор-лучшей-модели-и-проверка-на-валидационной-2.1\"><span class=\"toc-item-num\">2.1&nbsp;&nbsp;</span>Выбор лучшей модели и проверка на валидационной</a></span><ul class=\"toc-item\"><li><span><a href=\"#RandomForestClassifier\" data-toc-modified-id=\"RandomForestClassifier-2.1.1\"><span class=\"toc-item-num\">2.1.1&nbsp;&nbsp;</span>RandomForestClassifier</a></span></li><li><span><a href=\"#LogisticRegression\" data-toc-modified-id=\"LogisticRegression-2.1.2\"><span class=\"toc-item-num\">2.1.2&nbsp;&nbsp;</span>LogisticRegression</a></span></li><li><span><a href=\"#DecisionTreeClassifier\" data-toc-modified-id=\"DecisionTreeClassifier-2.1.3\"><span class=\"toc-item-num\">2.1.3&nbsp;&nbsp;</span>DecisionTreeClassifier</a></span></li><li><span><a href=\"#CatBoostClassifier\" data-toc-modified-id=\"CatBoostClassifier-2.1.4\"><span class=\"toc-item-num\">2.1.4&nbsp;&nbsp;</span>CatBoostClassifier</a></span></li></ul></li><li><span><a href=\"#Тестирование-лучшей-модели\" data-toc-modified-id=\"Тестирование-лучшей-модели-2.2\"><span class=\"toc-item-num\">2.2&nbsp;&nbsp;</span>Тестирование лучшей модели</a></span></li></ul></li><li><span><a href=\"#Выводы\" data-toc-modified-id=\"Выводы-3\"><span class=\"toc-item-num\">3&nbsp;&nbsp;</span>Выводы</a></span></li><li><span><a href=\"#Чек-лист-проверки\" data-toc-modified-id=\"Чек-лист-проверки-4\"><span class=\"toc-item-num\">4&nbsp;&nbsp;</span>Чек-лист проверки</a></span></li></ul></div>"
      ]
    },
    {
      "cell_type": "markdown",
      "metadata": {
        "id": "H5DicNaz5wx2"
      },
      "source": [
        "# Проект для «Викишоп»"
      ]
    },
    {
      "cell_type": "markdown",
      "metadata": {
        "id": "ss-gsgv05wx2"
      },
      "source": [
        "Интернет-магазин «Викишоп» запускает новый сервис. Теперь пользователи могут редактировать и дополнять описания товаров, как в вики-сообществах. То есть клиенты предлагают свои правки и комментируют изменения других. Магазину нужен инструмент, который будет искать токсичные комментарии и отправлять их на модерацию.\n",
        "\n",
        "Обучите модель классифицировать комментарии на позитивные и негативные. В вашем распоряжении набор данных с разметкой о токсичности правок.\n",
        "\n",
        "Постройте модель со значением метрики качества *F1* не меньше 0.75.\n",
        "\n",
        "**Инструкция по выполнению проекта**\n",
        "\n",
        "1. Загрузите и подготовьте данные.\n",
        "2. Обучите разные модели.\n",
        "3. Сделайте выводы.\n",
        "\n",
        "Для выполнения проекта применять *BERT* необязательно, но вы можете попробовать.\n",
        "\n",
        "**Описание данных**\n",
        "\n",
        "Данные находятся в файле `toxic_comments.csv`. Столбец *text* в нём содержит текст комментария, а *toxic* — целевой признак."
      ]
    },
    {
      "cell_type": "code",
      "execution_count": null,
      "metadata": {
        "id": "8ZMA2y_55wx3",
        "outputId": "dbc13bb2-88a7-49e2-e077-552be40df581"
      },
      "outputs": [
        {
          "name": "stderr",
          "output_type": "stream",
          "text": [
            "[nltk_data] Downloading package averaged_perceptron_tagger to\n",
            "[nltk_data]     /home/jovyan/nltk_data...\n",
            "[nltk_data]   Package averaged_perceptron_tagger is already up-to-\n",
            "[nltk_data]       date!\n",
            "[nltk_data] Downloading package stopwords to /home/jovyan/nltk_data...\n",
            "[nltk_data]   Package stopwords is already up-to-date!\n"
          ]
        }
      ],
      "source": [
        "import numpy as np\n",
        "import pandas as pd\n",
        "import re\n",
        "import nltk\n",
        "from nltk.stem import WordNetLemmatizer\n",
        "from nltk.corpus import stopwords as nltk_stopwords\n",
        "from nltk.corpus import wordnet\n",
        "nltk.download('averaged_perceptron_tagger')\n",
        "nltk.download('stopwords')\n",
        "from sklearn.feature_extraction.text import TfidfVectorizer\n",
        "from sklearn.model_selection import train_test_split, GridSearchCV\n",
        "from sklearn.linear_model import LogisticRegression\n",
        "from sklearn.tree import DecisionTreeClassifier\n",
        "from catboost import CatBoostClassifier\n",
        "from sklearn.ensemble import RandomForestClassifier\n",
        "from sklearn.utils import resample\n",
        "from sklearn. metrics import f1_score\n",
        "import matplotlib.pyplot as plt\n",
        "import warnings\n",
        "warnings.filterwarnings('ignore')"
      ]
    },
    {
      "cell_type": "markdown",
      "metadata": {
        "id": "5OCF_3zv5wx5"
      },
      "source": [
        "## Подготовка"
      ]
    },
    {
      "cell_type": "markdown",
      "metadata": {
        "id": "dHndZmnq5wx5"
      },
      "source": [
        "### Знакомство с данными"
      ]
    },
    {
      "cell_type": "code",
      "execution_count": null,
      "metadata": {
        "id": "p2hGQPt75wx6",
        "outputId": "55bc1913-5a85-4958-c86a-47b6a87dec31"
      },
      "outputs": [
        {
          "name": "stdout",
          "output_type": "stream",
          "text": [
            "<class 'pandas.core.frame.DataFrame'>\n",
            "RangeIndex: 159292 entries, 0 to 159291\n",
            "Data columns (total 3 columns):\n",
            " #   Column      Non-Null Count   Dtype \n",
            "---  ------      --------------   ----- \n",
            " 0   Unnamed: 0  159292 non-null  int64 \n",
            " 1   text        159292 non-null  object\n",
            " 2   toxic       159292 non-null  int64 \n",
            "dtypes: int64(2), object(1)\n",
            "memory usage: 3.6+ MB\n"
          ]
        }
      ],
      "source": [
        "data = pd.read_csv('/datasets/toxic_comments.csv')\n",
        "data.info()"
      ]
    },
    {
      "cell_type": "code",
      "execution_count": null,
      "metadata": {
        "id": "pwR_2UbS5wx6",
        "outputId": "db69f149-033c-471e-d95b-3ee34d337021"
      },
      "outputs": [
        {
          "data": {
            "text/html": [
              "<div>\n",
              "<style scoped>\n",
              "    .dataframe tbody tr th:only-of-type {\n",
              "        vertical-align: middle;\n",
              "    }\n",
              "\n",
              "    .dataframe tbody tr th {\n",
              "        vertical-align: top;\n",
              "    }\n",
              "\n",
              "    .dataframe thead th {\n",
              "        text-align: right;\n",
              "    }\n",
              "</style>\n",
              "<table border=\"1\" class=\"dataframe\">\n",
              "  <thead>\n",
              "    <tr style=\"text-align: right;\">\n",
              "      <th></th>\n",
              "      <th>Unnamed: 0</th>\n",
              "      <th>text</th>\n",
              "      <th>toxic</th>\n",
              "    </tr>\n",
              "  </thead>\n",
              "  <tbody>\n",
              "    <tr>\n",
              "      <th>0</th>\n",
              "      <td>0</td>\n",
              "      <td>Explanation\\nWhy the edits made under my usern...</td>\n",
              "      <td>0</td>\n",
              "    </tr>\n",
              "    <tr>\n",
              "      <th>1</th>\n",
              "      <td>1</td>\n",
              "      <td>D'aww! He matches this background colour I'm s...</td>\n",
              "      <td>0</td>\n",
              "    </tr>\n",
              "    <tr>\n",
              "      <th>2</th>\n",
              "      <td>2</td>\n",
              "      <td>Hey man, I'm really not trying to edit war. It...</td>\n",
              "      <td>0</td>\n",
              "    </tr>\n",
              "    <tr>\n",
              "      <th>3</th>\n",
              "      <td>3</td>\n",
              "      <td>\"\\nMore\\nI can't make any real suggestions on ...</td>\n",
              "      <td>0</td>\n",
              "    </tr>\n",
              "    <tr>\n",
              "      <th>4</th>\n",
              "      <td>4</td>\n",
              "      <td>You, sir, are my hero. Any chance you remember...</td>\n",
              "      <td>0</td>\n",
              "    </tr>\n",
              "  </tbody>\n",
              "</table>\n",
              "</div>"
            ],
            "text/plain": [
              "   Unnamed: 0                                               text  toxic\n",
              "0           0  Explanation\\nWhy the edits made under my usern...      0\n",
              "1           1  D'aww! He matches this background colour I'm s...      0\n",
              "2           2  Hey man, I'm really not trying to edit war. It...      0\n",
              "3           3  \"\\nMore\\nI can't make any real suggestions on ...      0\n",
              "4           4  You, sir, are my hero. Any chance you remember...      0"
            ]
          },
          "execution_count": 3,
          "metadata": {},
          "output_type": "execute_result"
        }
      ],
      "source": [
        "data.head(5)"
      ]
    },
    {
      "cell_type": "markdown",
      "metadata": {
        "id": "S2qGxTXn5wx6"
      },
      "source": [
        "Датасет почти на 160к строк, есть странный столбец, который вероятно характеризует нумерацию (зачем он - не знаю), также текст комментариев и графа, которая определяет токсичен ли данный комментарий. Пропусков нет, все четенько! Но есть сиволы переноса строки, нужно будет это учесть. Так как задача бинарной классификации, нужно посмотреть соотношение 0 и 1, дабы в дальнейшем обучилось равномерно."
      ]
    },
    {
      "cell_type": "code",
      "execution_count": null,
      "metadata": {
        "id": "He6s8h3_5wx6",
        "outputId": "ce0d4177-3a60-4c62-e893-69f2dc9b63b7"
      },
      "outputs": [
        {
          "name": "stdout",
          "output_type": "stream",
          "text": [
            "0    0.898388\n",
            "1    0.101612\n",
            "Name: toxic, dtype: float64\n"
          ]
        }
      ],
      "source": [
        "print(data.toxic.value_counts(normalize=True))"
      ]
    },
    {
      "cell_type": "markdown",
      "metadata": {
        "id": "G1_c95-t5wx7"
      },
      "source": [
        "Видим преобладание обычных комментариев в датасете, все как в жизни, будь каждый второй токсиком, жизнь была бы не в удовольствие, нужно будет сбалансировать в дальнейшем."
      ]
    },
    {
      "cell_type": "markdown",
      "metadata": {
        "id": "cTFgUQV65wx7"
      },
      "source": [
        "**Прежде чем обучать, необходимо:**\n",
        "- Попытаться выяснить природу странного столбца, если не выйдет - снести\n",
        "- Провести балансировку классов\n",
        "- Избавиться от символов переноса строки в тексте\n",
        "- Провести лемматизацию\n",
        "- Разбить выборку на обучающую, валидационную и тестовую"
      ]
    },
    {
      "cell_type": "markdown",
      "metadata": {
        "id": "P0s73Bup5wx7"
      },
      "source": [
        "### Неизвестный столбец"
      ]
    },
    {
      "cell_type": "code",
      "execution_count": null,
      "metadata": {
        "id": "TdzmIuZ85wx7",
        "outputId": "1fa77cd6-1fd6-4c1b-d1c3-75f5459fb798"
      },
      "outputs": [
        {
          "data": {
            "text/plain": [
              "0              0\n",
              "1              1\n",
              "2              2\n",
              "3              3\n",
              "4              4\n",
              "           ...  \n",
              "159287    159446\n",
              "159288    159447\n",
              "159289    159448\n",
              "159290    159449\n",
              "159291    159450\n",
              "Name: Unnamed: 0, Length: 159292, dtype: int64"
            ]
          },
          "execution_count": 5,
          "metadata": {},
          "output_type": "execute_result"
        }
      ],
      "source": [
        "data['Unnamed: 0']"
      ]
    },
    {
      "cell_type": "markdown",
      "metadata": {
        "id": "etwDRjYn5wx7"
      },
      "source": [
        "Данный столбец не совсем дублирует айдишники, его назначение честно говоря непонятно, думаю лучше снести!"
      ]
    },
    {
      "cell_type": "code",
      "execution_count": null,
      "metadata": {
        "id": "b7U8qPvj5wx8"
      },
      "outputs": [],
      "source": [
        "data = data.drop(['Unnamed: 0'], axis=1)"
      ]
    },
    {
      "cell_type": "markdown",
      "metadata": {
        "id": "I7Q-JfEj5wx8"
      },
      "source": [
        "### Сносим лишние символы в комментариях"
      ]
    },
    {
      "cell_type": "markdown",
      "metadata": {
        "id": "5ySl0hCF5wx8"
      },
      "source": [
        "Воспользуемся функцией с регулярным выражением, которую я отрыл на просторах интернета, и применим ее, и получим единообразных текст без лишних символов и заглавных букв"
      ]
    },
    {
      "cell_type": "code",
      "execution_count": null,
      "metadata": {
        "id": "TclcciSr5wx8"
      },
      "outputs": [],
      "source": [
        "def clear_text(text):\n",
        "    text = text.lower()\n",
        "    text = re.sub(r'[^a-zA-Z]', ' ', text)\n",
        "    text = ' '.join(text.split())\n",
        "    return text\n",
        "data['text'] = data['text'].apply(clear_text)"
      ]
    },
    {
      "cell_type": "markdown",
      "metadata": {
        "id": "VMesw__W5wx9"
      },
      "source": [
        "### Лемматизация"
      ]
    },
    {
      "cell_type": "markdown",
      "metadata": {
        "id": "gL2keD2m5wx9"
      },
      "source": [
        "Я потратил полжизни, чтобы это заработало, немного туплю с данным разделом. Все варианты которые я быстро радостно и отлично прорабатывали, но по итогу лемматизация не была произведена (выяснил только в контрольном тестировании - решил сравнить до и после, и был разочарован). Нашел вариант в интернете с определением части речи на английском языке, но он отрабатывает пару космических лет, вероятно так и должно быть, но какая то тотальная грусть с лемматизацией. Потому что первые варианты, которые не давали желаемого результата давали достаточные значения ф1 метрики, но все равно как-то не комильфо так оставлять."
      ]
    },
    {
      "cell_type": "code",
      "execution_count": null,
      "metadata": {
        "id": "TRr63EXw5wx9"
      },
      "outputs": [],
      "source": [
        "def get_wordnet_pos(word):\n",
        "    tag = nltk.pos_tag([word])[0][1][0].upper()\n",
        "    tag_dict = {\"J\": wordnet.ADJ,\n",
        "                \"N\": wordnet.NOUN,\n",
        "                \"V\": wordnet.VERB,\n",
        "                \"R\": wordnet.ADV\n",
        "               }\n",
        "    return tag_dict.get(tag, wordnet.NOUN)\n",
        "\n",
        "lemmatizer = WordNetLemmatizer()\n",
        "\n",
        "def lemm_text(text):\n",
        "    text = [lemmatizer.lemmatize(w, get_wordnet_pos(w)) for w in nltk.word_tokenize(text)]\n",
        "    return ' '.join(text)"
      ]
    },
    {
      "cell_type": "code",
      "execution_count": null,
      "metadata": {
        "id": "4vLzoAtP5wx9",
        "outputId": "3a91b8da-fe8f-40da-d4e2-af23a57a0241"
      },
      "outputs": [
        {
          "name": "stdout",
          "output_type": "stream",
          "text": [
            "CPU times: user 16min 21s, sys: 1min 53s, total: 18min 15s\n",
            "Wall time: 18min 15s\n"
          ]
        }
      ],
      "source": [
        "%%time\n",
        "data['text'] = data['text'].apply(lemm_text)"
      ]
    },
    {
      "cell_type": "markdown",
      "metadata": {
        "id": "6-T59rYE5wx-"
      },
      "source": [
        "### Разбитие на выборки"
      ]
    },
    {
      "cell_type": "code",
      "execution_count": null,
      "metadata": {
        "id": "a62JtltO5wx-"
      },
      "outputs": [],
      "source": [
        "features = data.drop(['toxic'], axis=1)\n",
        "target = data.toxic\n",
        "\n",
        "features_train, features_valid, target_train, target_valid = train_test_split(features,\n",
        "                                                                              target,\n",
        "                                                                              test_size=.4,\n",
        "                                                                              random_state=12345)\n",
        "\n",
        "features_valid, features_test, target_valid, target_test = train_test_split(features_valid,\n",
        "                                                                            target_valid,\n",
        "                                                                            test_size=.5,\n",
        "                                                                            random_state=12345)\n",
        "\n",
        "stop_words = set(nltk_stopwords.words('english'))\n",
        "tf_idf = TfidfVectorizer(stop_words=stop_words)\n",
        "features_train = tf_idf.fit_transform(features_train['text'])\n",
        "features_valid = tf_idf.transform(features_valid['text'])\n",
        "features_test = tf_idf.transform(features_test['text'])"
      ]
    },
    {
      "cell_type": "markdown",
      "metadata": {
        "id": "qaEI86yC5wx-"
      },
      "source": [
        "## Обучение"
      ]
    },
    {
      "cell_type": "markdown",
      "metadata": {
        "id": "7PkHDZYY5wx-"
      },
      "source": [
        "### Выбор лучшей модели и проверка на валидационной"
      ]
    },
    {
      "cell_type": "markdown",
      "metadata": {
        "id": "jcjVcutl5wx-"
      },
      "source": [
        "#### RandomForestClassifier"
      ]
    },
    {
      "cell_type": "code",
      "execution_count": null,
      "metadata": {
        "id": "0GRYUi7X5wx_",
        "outputId": "7e769e92-1d56-4e6d-e61d-99aa7a6b937d"
      },
      "outputs": [
        {
          "name": "stdout",
          "output_type": "stream",
          "text": [
            "Лучшие параметры:  {'max_depth': 4, 'n_estimators': 64}\n",
            "rfr_rmse 0.31812666846753446\n",
            "CPU times: user 7min, sys: 1.59 s, total: 7min 1s\n",
            "Wall time: 7min 2s\n"
          ]
        }
      ],
      "source": [
        "%%time\n",
        "rfc = RandomForestClassifier(random_state=42, class_weight='balanced')\n",
        "hyper = { 'max_depth': [x for x in range(1, 5, 1)],\n",
        "               'n_estimators': [x for x in range(10, 66, 2)]\n",
        "             }\n",
        "gscv_rfc = GridSearchCV(rfc, hyper, cv=3, scoring='f1')\n",
        "gscv_rfc.fit(features_train, target_train)\n",
        "print('Лучшие параметры: ', gscv_rfc.best_params_)\n",
        "print('rfr_f1', gscv_rfc.best_score_)"
      ]
    },
    {
      "cell_type": "markdown",
      "metadata": {
        "id": "OfHY5eAx5wx_"
      },
      "source": [
        "best_model_rfc = RandomForestClassifier(random_state=42, max_depth = 4, n_estimators = 98)\n",
        "best_model_rfc.fit(features_train, target_train)\n",
        "predictions = best_model_rfc.predict(features_valid)\n",
        "f1 = f1_score(target_valid,predictions)\n",
        "print(f1)"
      ]
    },
    {
      "cell_type": "markdown",
      "metadata": {
        "id": "dff-dnRf5wyA"
      },
      "source": [
        "#### LogisticRegression"
      ]
    },
    {
      "cell_type": "code",
      "execution_count": null,
      "metadata": {
        "id": "AX5Vdn5D5wyA",
        "outputId": "5fb340dd-655d-4073-e127-2a8d07082e92"
      },
      "outputs": [
        {
          "name": "stdout",
          "output_type": "stream",
          "text": [
            "Лучшие параметры:  {'C': 10, 'solver': 'newton-cg'}\n",
            "rfr_rmse 0.7563702331076451\n",
            "CPU times: user 2min 59s, sys: 6min 14s, total: 9min 13s\n",
            "Wall time: 9min 14s\n"
          ]
        }
      ],
      "source": [
        "%%time\n",
        "lr = LogisticRegression(random_state=42,class_weight='balanced')\n",
        "hyper = {'solver': ['newton-cg', 'lbfgs', 'liblinear'],\n",
        "            'C': [0.1,1,10]\n",
        "        }\n",
        "gscv_lr = GridSearchCV(lr, hyper, cv=4, scoring='f1')\n",
        "gscv_lr.fit(features_train, target_train)\n",
        "print('Лучшие параметры: ', gscv_lr.best_params_)\n",
        "print('rfr_f1', gscv_lr.best_score_)"
      ]
    },
    {
      "cell_type": "code",
      "execution_count": null,
      "metadata": {
        "id": "yX6pKuMe5wyA",
        "outputId": "4456c243-0cf6-4f60-8f7a-2c4649718d7f"
      },
      "outputs": [
        {
          "name": "stdout",
          "output_type": "stream",
          "text": [
            "0.7743250127356087\n"
          ]
        }
      ],
      "source": [
        "best_model_lr = LogisticRegression(random_state=42, C = 10, solver = 'newton-cg')\n",
        "best_model_lr.fit(features_train, target_train)\n",
        "predictions = best_model_lr.predict(features_valid)\n",
        "f1 = f1_score(target_valid,predictions)\n",
        "print(f1)"
      ]
    },
    {
      "cell_type": "markdown",
      "metadata": {
        "id": "gLCzV6Q05wyB"
      },
      "source": [
        "#### DecisionTreeClassifier"
      ]
    },
    {
      "cell_type": "code",
      "execution_count": null,
      "metadata": {
        "id": "CJyCZmQw5wyB",
        "outputId": "17daa4e1-5a5c-45df-94e9-561a8e754f9e"
      },
      "outputs": [
        {
          "name": "stdout",
          "output_type": "stream",
          "text": [
            "Лучшие параметры:  {'max_depth': 11}\n",
            "rfr_rmse 0.5845766717924282\n",
            "CPU times: user 2min 44s, sys: 1.32 s, total: 2min 46s\n",
            "Wall time: 2min 46s\n"
          ]
        }
      ],
      "source": [
        "%%time\n",
        "dtc = DecisionTreeClassifier(random_state=42, class_weight='balanced')\n",
        "hyper = { 'max_depth': [x for x in range(1, 12, 1)]}\n",
        "gscv_dtc = GridSearchCV(dtc, hyper, cv=3, scoring='f1')\n",
        "gscv_dtc.fit(features_train, target_train)\n",
        "print('Лучшие параметры: ', gscv_dtc.best_params_)\n",
        "print('rfr_f1', gscv_dtc.best_score_)"
      ]
    },
    {
      "cell_type": "code",
      "execution_count": null,
      "metadata": {
        "id": "AZxhG1od5wyB",
        "outputId": "5e7f2038-a7e6-4109-fd94-d81341e79c28"
      },
      "outputs": [
        {
          "name": "stdout",
          "output_type": "stream",
          "text": [
            "0.6078588612670409\n"
          ]
        }
      ],
      "source": [
        "best_model_dtc = DecisionTreeClassifier(random_state=42, max_depth = 11)\n",
        "best_model_dtc.fit(features_train, target_train)\n",
        "predictions = best_model_dtc.predict(features_valid)\n",
        "f1 = f1_score(target_valid,predictions)\n",
        "print(f1)"
      ]
    },
    {
      "cell_type": "markdown",
      "metadata": {
        "id": "JVeFb5eq5wyB"
      },
      "source": [
        "#### CatBoostClassifier"
      ]
    },
    {
      "cell_type": "markdown",
      "metadata": {
        "id": "jyjwBT8_5wyC"
      },
      "source": [
        "Тут при переборе параметров, ооооочень долгое обучение, но если необходимо, накину, просто маятся в ожиданиях долго, а значения на полученных параметрах достаточное. Можно было бы воспользоваться рандомсерчем, но он рандом во всех случаях, выигрывает в скорости безусловно, но не всегда подберет действительно лучшие параметры, поэтому предпочитаю подождать."
      ]
    },
    {
      "cell_type": "code",
      "execution_count": null,
      "metadata": {
        "id": "aAwcWTj35wyC",
        "outputId": "448dbdd8-4a1f-4c7f-ea4e-baeacfcf9e26"
      },
      "outputs": [
        {
          "name": "stdout",
          "output_type": "stream",
          "text": [
            "Лучшие параметры:  {'learning_rate': 0.1, 'max_depth': 2}\n",
            "rfr_rmse 0.7039412502411034\n",
            "CPU times: user 26min 48s, sys: 18.5 s, total: 27min 6s\n",
            "Wall time: 27min 12s\n"
          ]
        }
      ],
      "source": [
        "%%time\n",
        "rfr = CatBoostClassifier(random_state=42, verbose = False,class_weights=None)\n",
        "hyper = {'learning_rate': [0.1],\n",
        "               'max_depth': [2]\n",
        "        }\n",
        "gscv_rfr = GridSearchCV(rfr, hyper, cv=3, scoring='f1')\n",
        "gscv_rfr.fit(features_train, target_train)\n",
        "print('Лучшие параметры: ', gscv_rfr.best_params_)\n",
        "print('rfr_f1', abs(gscv_rfr.best_score_))"
      ]
    },
    {
      "cell_type": "code",
      "execution_count": null,
      "metadata": {
        "id": "shxt2Gqq5wyC"
      },
      "outputs": [],
      "source": [
        "best_model_cbc = CatBoostClassifier(random_state=42, max_depth = 2, learning_rate = 0.1)\n",
        "best_model_cbc.fit(features_train, target_train)\n",
        "predictions = best_model_cbc.predict(features_valid)\n",
        "f1 = f1_score(target_valid,predictions)\n",
        "print(f1)"
      ]
    },
    {
      "cell_type": "markdown",
      "metadata": {
        "id": "8WLZVH1J5wyD"
      },
      "source": [
        "### Тестирование лучшей модели"
      ]
    },
    {
      "cell_type": "code",
      "execution_count": null,
      "metadata": {
        "id": "R3XE4ggb5wyD",
        "outputId": "911f9abc-1ddb-48b2-99fd-a795b6c0b359"
      },
      "outputs": [
        {
          "name": "stdout",
          "output_type": "stream",
          "text": [
            "0.7672142607479903\n"
          ]
        }
      ],
      "source": [
        "predictions = best_model_lr.predict(features_test)\n",
        "f1 = f1_score(target_test,predictions)\n",
        "print(f1)"
      ]
    },
    {
      "cell_type": "markdown",
      "metadata": {
        "id": "ZuDcM2mi5wyD"
      },
      "source": [
        "## Выводы"
      ]
    },
    {
      "cell_type": "markdown",
      "metadata": {
        "id": "QGKz_1-b5wyD"
      },
      "source": [
        "В ходе проекта были выполнены следующие шаги:\n",
        "- Изучен и обработан датасет\n",
        "    - Удален лишний столбец\n",
        "    - Произведена балансировка класса\n",
        "    - Избавились от лишних символов в тексте\n",
        "    - Провели лемматизацию\n",
        "    - Разбили выборку на обучающую, валидационную и тестовую\n",
        "- Были обучены модели и с помощью гридсерча проверены на качество метрики f1 на обучающих данных\n",
        "- Также проверили на валидационных данных\n",
        "- После протестировали лучшую модель, а именно модель логистической регрессии с гиперпараметрами (C = 10, solver = 'newton-cg').\n",
        "- В целом, создается впечатление, что любая модель из рассмотренных может справится с данной задачей, вопрос лишь сколько времени мы готовы уделять этому"
      ]
    },
    {
      "cell_type": "markdown",
      "metadata": {
        "id": "NLIwdXpN5wyD"
      },
      "source": [
        "**Меня терзают сомнения, что выкинуть столько данных - это огромная утрата для человечества. В обучающих целях можно еще как-то оправдаться, я думаю что время обучения выросло бы в разы, а раз у нас гридсерч на кэтбусте долго думал, что я даже не стал ничего перебирать в нем, то это правильное решение, ребята с пачки пишут, что у них по пару часов отрабатывает код, боюсь, что с приближающимся дедлайном я принял правильное решение, да и метрики качества вроде адекватные. Ну и с леммитизацией я умер пару раз, в меня стреляли, и я стрелял, и я упал, но спустя пару часов нашел адекватный вариант**"
      ]
    }
  ],
  "metadata": {
    "ExecuteTimeLog": [
      {
        "duration": 1583,
        "start_time": "2023-03-19T12:43:47.875Z"
      },
      {
        "duration": 1264,
        "start_time": "2023-03-19T12:44:10.154Z"
      },
      {
        "duration": 10,
        "start_time": "2023-03-19T12:44:29.553Z"
      },
      {
        "duration": 2,
        "start_time": "2023-03-19T12:49:18.829Z"
      },
      {
        "duration": 100,
        "start_time": "2023-03-19T12:49:29.237Z"
      },
      {
        "duration": 143,
        "start_time": "2023-03-19T12:49:39.897Z"
      },
      {
        "duration": 5,
        "start_time": "2023-03-19T12:50:10.616Z"
      },
      {
        "duration": 8,
        "start_time": "2023-03-19T12:53:54.099Z"
      },
      {
        "duration": 6,
        "start_time": "2023-03-19T12:54:50.508Z"
      },
      {
        "duration": 5,
        "start_time": "2023-03-19T12:56:00.122Z"
      },
      {
        "duration": 8,
        "start_time": "2023-03-19T12:57:33.208Z"
      },
      {
        "duration": 3,
        "start_time": "2023-03-19T13:04:18.622Z"
      },
      {
        "duration": 16,
        "start_time": "2023-03-19T13:17:59.313Z"
      },
      {
        "duration": 17,
        "start_time": "2023-03-19T13:22:22.078Z"
      },
      {
        "duration": 16,
        "start_time": "2023-03-19T13:22:29.217Z"
      },
      {
        "duration": 4,
        "start_time": "2023-03-19T13:22:52.027Z"
      },
      {
        "duration": 6,
        "start_time": "2023-03-19T13:24:20.915Z"
      },
      {
        "duration": 70,
        "start_time": "2023-03-19T13:25:26.217Z"
      },
      {
        "duration": 76,
        "start_time": "2023-03-19T13:26:00.326Z"
      },
      {
        "duration": 61,
        "start_time": "2023-03-19T13:26:30.128Z"
      },
      {
        "duration": 55,
        "start_time": "2023-03-19T13:26:37.519Z"
      },
      {
        "duration": 63,
        "start_time": "2023-03-19T13:26:43.391Z"
      },
      {
        "duration": 706,
        "start_time": "2023-03-19T13:29:00.518Z"
      },
      {
        "duration": 6,
        "start_time": "2023-03-19T13:29:15.474Z"
      },
      {
        "duration": 4,
        "start_time": "2023-03-19T13:33:01.915Z"
      },
      {
        "duration": 302,
        "start_time": "2023-03-19T13:33:26.000Z"
      },
      {
        "duration": 284,
        "start_time": "2023-03-19T13:33:42.629Z"
      },
      {
        "duration": 1415,
        "start_time": "2023-03-19T13:49:29.949Z"
      },
      {
        "duration": 364,
        "start_time": "2023-03-19T13:49:40.348Z"
      },
      {
        "duration": 5,
        "start_time": "2023-03-19T13:49:47.038Z"
      },
      {
        "duration": 12,
        "start_time": "2023-03-19T13:51:28.460Z"
      },
      {
        "duration": 78,
        "start_time": "2023-03-19T13:54:47.862Z"
      },
      {
        "duration": 12,
        "start_time": "2023-03-19T13:55:06.600Z"
      },
      {
        "duration": 355,
        "start_time": "2023-03-19T13:55:10.401Z"
      },
      {
        "duration": 84,
        "start_time": "2023-03-19T13:55:30.847Z"
      },
      {
        "duration": 303,
        "start_time": "2023-03-19T13:55:35.305Z"
      },
      {
        "duration": 302,
        "start_time": "2023-03-19T13:56:09.046Z"
      },
      {
        "duration": 23,
        "start_time": "2023-03-19T13:59:51.083Z"
      },
      {
        "duration": 1513,
        "start_time": "2023-03-19T14:00:04.090Z"
      },
      {
        "duration": 1166,
        "start_time": "2023-03-19T14:00:17.008Z"
      },
      {
        "duration": 1273,
        "start_time": "2023-03-19T14:00:25.146Z"
      },
      {
        "duration": 2100,
        "start_time": "2023-03-19T14:01:09.136Z"
      },
      {
        "duration": 4,
        "start_time": "2023-03-19T14:01:27.556Z"
      },
      {
        "duration": 7,
        "start_time": "2023-03-19T14:01:56.125Z"
      },
      {
        "duration": 291412,
        "start_time": "2023-03-19T14:02:02.987Z"
      },
      {
        "duration": 30776,
        "start_time": "2023-03-19T14:10:54.206Z"
      },
      {
        "duration": 68197,
        "start_time": "2023-03-19T14:12:21.131Z"
      },
      {
        "duration": 42,
        "start_time": "2023-03-19T14:16:16.146Z"
      },
      {
        "duration": 42711,
        "start_time": "2023-03-19T14:16:21.076Z"
      },
      {
        "duration": 69523,
        "start_time": "2023-03-19T14:17:03.789Z"
      },
      {
        "duration": 71,
        "start_time": "2023-03-19T14:18:58.847Z"
      },
      {
        "duration": 77,
        "start_time": "2023-03-19T14:24:23.243Z"
      },
      {
        "duration": 5,
        "start_time": "2023-03-19T14:24:43.809Z"
      },
      {
        "duration": 93,
        "start_time": "2023-03-19T14:24:54.225Z"
      },
      {
        "duration": 216,
        "start_time": "2023-03-19T14:25:02.767Z"
      },
      {
        "duration": 1287,
        "start_time": "2023-03-19T14:26:16.593Z"
      },
      {
        "duration": 6133,
        "start_time": "2023-03-19T14:26:37.567Z"
      },
      {
        "duration": 176952,
        "start_time": "2023-03-19T14:27:48.906Z"
      },
      {
        "duration": 55146,
        "start_time": "2023-03-19T14:30:55.798Z"
      },
      {
        "duration": 171463,
        "start_time": "2023-03-19T14:32:04.424Z"
      },
      {
        "duration": 1482,
        "start_time": "2023-03-19T14:53:35.822Z"
      },
      {
        "duration": 777,
        "start_time": "2023-03-19T14:53:37.306Z"
      },
      {
        "duration": 10,
        "start_time": "2023-03-19T14:53:38.085Z"
      },
      {
        "duration": 20,
        "start_time": "2023-03-19T14:53:38.097Z"
      },
      {
        "duration": 7,
        "start_time": "2023-03-19T14:53:38.119Z"
      },
      {
        "duration": 21,
        "start_time": "2023-03-19T14:53:38.128Z"
      },
      {
        "duration": 24,
        "start_time": "2023-03-19T14:53:38.151Z"
      },
      {
        "duration": 10,
        "start_time": "2023-03-19T14:53:38.176Z"
      },
      {
        "duration": 5,
        "start_time": "2023-03-19T14:53:38.188Z"
      },
      {
        "duration": 87,
        "start_time": "2023-03-19T14:53:38.194Z"
      },
      {
        "duration": 666,
        "start_time": "2023-03-19T14:53:38.282Z"
      },
      {
        "duration": 6,
        "start_time": "2023-03-19T14:53:38.950Z"
      },
      {
        "duration": 1575,
        "start_time": "2023-03-19T14:53:38.958Z"
      },
      {
        "duration": 2278,
        "start_time": "2023-03-19T14:53:40.535Z"
      },
      {
        "duration": 178001,
        "start_time": "2023-03-19T14:53:42.815Z"
      },
      {
        "duration": 42,
        "start_time": "2023-03-19T14:56:40.818Z"
      },
      {
        "duration": 0,
        "start_time": "2023-03-19T14:56:40.862Z"
      },
      {
        "duration": 0,
        "start_time": "2023-03-19T14:56:40.863Z"
      },
      {
        "duration": 44,
        "start_time": "2023-03-19T14:57:29.341Z"
      },
      {
        "duration": 39,
        "start_time": "2023-03-19T14:58:55.286Z"
      },
      {
        "duration": 133330,
        "start_time": "2023-03-19T14:59:09.059Z"
      },
      {
        "duration": 177122,
        "start_time": "2023-03-19T15:01:22.390Z"
      },
      {
        "duration": 1531,
        "start_time": "2023-03-19T15:12:52.954Z"
      },
      {
        "duration": 798,
        "start_time": "2023-03-19T15:12:54.487Z"
      },
      {
        "duration": 10,
        "start_time": "2023-03-19T15:12:55.286Z"
      },
      {
        "duration": 7,
        "start_time": "2023-03-19T15:12:55.297Z"
      },
      {
        "duration": 5,
        "start_time": "2023-03-19T15:12:55.306Z"
      },
      {
        "duration": 10,
        "start_time": "2023-03-19T15:12:55.312Z"
      },
      {
        "duration": 25,
        "start_time": "2023-03-19T15:12:55.323Z"
      },
      {
        "duration": 34,
        "start_time": "2023-03-19T15:12:55.349Z"
      },
      {
        "duration": 6,
        "start_time": "2023-03-19T15:12:55.384Z"
      },
      {
        "duration": 70,
        "start_time": "2023-03-19T15:12:55.391Z"
      },
      {
        "duration": 685,
        "start_time": "2023-03-19T15:12:55.479Z"
      },
      {
        "duration": 14,
        "start_time": "2023-03-19T15:12:56.166Z"
      },
      {
        "duration": 1522,
        "start_time": "2023-03-19T15:12:56.182Z"
      },
      {
        "duration": 1970,
        "start_time": "2023-03-19T15:12:57.706Z"
      },
      {
        "duration": 182344,
        "start_time": "2023-03-19T15:12:59.678Z"
      },
      {
        "duration": 135758,
        "start_time": "2023-03-19T15:16:02.023Z"
      },
      {
        "duration": 176073,
        "start_time": "2023-03-19T15:18:17.783Z"
      },
      {
        "duration": 284327,
        "start_time": "2023-03-19T15:21:13.857Z"
      },
      {
        "duration": 133,
        "start_time": "2023-03-19T15:28:48.983Z"
      },
      {
        "duration": 425,
        "start_time": "2023-03-19T15:28:57.644Z"
      },
      {
        "duration": 11,
        "start_time": "2023-03-19T15:29:13.786Z"
      },
      {
        "duration": 10,
        "start_time": "2023-03-19T15:29:20.514Z"
      },
      {
        "duration": 11,
        "start_time": "2023-03-19T15:29:24.932Z"
      },
      {
        "duration": 10,
        "start_time": "2023-03-19T15:30:12.582Z"
      },
      {
        "duration": 17958,
        "start_time": "2023-03-19T15:30:47.324Z"
      },
      {
        "duration": 4586,
        "start_time": "2023-03-19T15:31:14.686Z"
      },
      {
        "duration": 2684,
        "start_time": "2023-03-19T15:31:58.578Z"
      },
      {
        "duration": 641,
        "start_time": "2023-03-19T15:33:00.013Z"
      },
      {
        "duration": 97789,
        "start_time": "2023-03-19T15:33:11.272Z"
      },
      {
        "duration": 97,
        "start_time": "2023-03-19T15:38:14.297Z"
      },
      {
        "duration": 303,
        "start_time": "2023-03-19T15:38:29.780Z"
      },
      {
        "duration": 95654,
        "start_time": "2023-03-19T15:41:36.930Z"
      },
      {
        "duration": 9,
        "start_time": "2023-03-19T15:48:51.493Z"
      },
      {
        "duration": 4,
        "start_time": "2023-03-19T15:49:10.611Z"
      },
      {
        "duration": 8,
        "start_time": "2023-03-19T15:49:30.053Z"
      },
      {
        "duration": 10,
        "start_time": "2023-03-19T15:50:01.982Z"
      },
      {
        "duration": 10,
        "start_time": "2023-03-19T15:50:08.812Z"
      },
      {
        "duration": 10,
        "start_time": "2023-03-19T15:50:33.160Z"
      },
      {
        "duration": 1111,
        "start_time": "2023-03-19T15:50:52.944Z"
      },
      {
        "duration": 6066,
        "start_time": "2023-03-19T15:51:03.480Z"
      },
      {
        "duration": 7,
        "start_time": "2023-03-19T15:51:21.174Z"
      },
      {
        "duration": 1580,
        "start_time": "2023-03-19T15:59:19.980Z"
      },
      {
        "duration": 822,
        "start_time": "2023-03-19T15:59:21.562Z"
      },
      {
        "duration": 12,
        "start_time": "2023-03-19T15:59:23.745Z"
      },
      {
        "duration": 8,
        "start_time": "2023-03-19T15:59:26.193Z"
      },
      {
        "duration": 6,
        "start_time": "2023-03-19T15:59:27.743Z"
      },
      {
        "duration": 9,
        "start_time": "2023-03-19T15:59:29.254Z"
      },
      {
        "duration": 17,
        "start_time": "2023-03-19T15:59:30.513Z"
      },
      {
        "duration": 18,
        "start_time": "2023-03-19T15:59:30.977Z"
      },
      {
        "duration": 6,
        "start_time": "2023-03-19T15:59:31.402Z"
      },
      {
        "duration": 87,
        "start_time": "2023-03-19T15:59:32.178Z"
      },
      {
        "duration": 736,
        "start_time": "2023-03-19T15:59:34.425Z"
      },
      {
        "duration": 8,
        "start_time": "2023-03-19T15:59:35.163Z"
      },
      {
        "duration": 1859,
        "start_time": "2023-03-19T15:59:40.482Z"
      },
      {
        "duration": 8,
        "start_time": "2023-03-19T15:59:43.843Z"
      },
      {
        "duration": 8,
        "start_time": "2023-03-19T16:00:14.936Z"
      },
      {
        "duration": 160,
        "start_time": "2023-03-19T16:03:13.842Z"
      },
      {
        "duration": 14,
        "start_time": "2023-03-19T16:04:18.804Z"
      },
      {
        "duration": 14,
        "start_time": "2023-03-19T16:04:20.657Z"
      },
      {
        "duration": 6552,
        "start_time": "2023-03-19T16:04:37.288Z"
      },
      {
        "duration": 9,
        "start_time": "2023-03-19T16:04:48.118Z"
      },
      {
        "duration": 10,
        "start_time": "2023-03-19T16:06:42.854Z"
      },
      {
        "duration": 7,
        "start_time": "2023-03-19T16:06:54.813Z"
      },
      {
        "duration": 1122,
        "start_time": "2023-03-19T16:07:09.402Z"
      },
      {
        "duration": 8,
        "start_time": "2023-03-19T16:07:20.928Z"
      },
      {
        "duration": 6,
        "start_time": "2023-03-19T16:07:38.295Z"
      },
      {
        "duration": 9,
        "start_time": "2023-03-19T16:07:46.394Z"
      },
      {
        "duration": 6,
        "start_time": "2023-03-19T16:08:03.904Z"
      },
      {
        "duration": 5,
        "start_time": "2023-03-19T16:11:54.246Z"
      },
      {
        "duration": 1122,
        "start_time": "2023-03-19T16:12:58.327Z"
      },
      {
        "duration": 365,
        "start_time": "2023-03-19T16:13:10.143Z"
      },
      {
        "duration": 1621,
        "start_time": "2023-03-19T16:25:55.637Z"
      },
      {
        "duration": 771,
        "start_time": "2023-03-19T16:25:57.260Z"
      },
      {
        "duration": 10,
        "start_time": "2023-03-19T16:25:58.032Z"
      },
      {
        "duration": 12,
        "start_time": "2023-03-19T16:25:58.044Z"
      },
      {
        "duration": 4,
        "start_time": "2023-03-19T16:25:58.058Z"
      },
      {
        "duration": 28,
        "start_time": "2023-03-19T16:25:58.063Z"
      },
      {
        "duration": 17,
        "start_time": "2023-03-19T16:25:59.403Z"
      },
      {
        "duration": 14,
        "start_time": "2023-03-19T16:26:00.133Z"
      },
      {
        "duration": 10,
        "start_time": "2023-03-19T16:26:00.501Z"
      },
      {
        "duration": 69,
        "start_time": "2023-03-19T16:26:00.805Z"
      },
      {
        "duration": 746,
        "start_time": "2023-03-19T16:26:11.489Z"
      },
      {
        "duration": 6,
        "start_time": "2023-03-19T16:26:12.430Z"
      },
      {
        "duration": 5,
        "start_time": "2023-03-19T16:26:23.578Z"
      },
      {
        "duration": 407,
        "start_time": "2023-03-19T16:26:33.203Z"
      },
      {
        "duration": 613,
        "start_time": "2023-03-19T16:43:22.465Z"
      },
      {
        "duration": 203514,
        "start_time": "2023-03-19T16:43:32.363Z"
      },
      {
        "duration": 11,
        "start_time": "2023-03-19T16:47:23.503Z"
      },
      {
        "duration": 1677,
        "start_time": "2023-03-19T16:48:34.890Z"
      },
      {
        "duration": 808,
        "start_time": "2023-03-19T16:48:36.570Z"
      },
      {
        "duration": 10,
        "start_time": "2023-03-19T16:48:37.380Z"
      },
      {
        "duration": 19,
        "start_time": "2023-03-19T16:48:37.391Z"
      },
      {
        "duration": 12,
        "start_time": "2023-03-19T16:48:37.412Z"
      },
      {
        "duration": 20,
        "start_time": "2023-03-19T16:48:37.426Z"
      },
      {
        "duration": 28,
        "start_time": "2023-03-19T16:48:37.448Z"
      },
      {
        "duration": 12,
        "start_time": "2023-03-19T16:48:37.480Z"
      },
      {
        "duration": 9,
        "start_time": "2023-03-19T16:48:37.493Z"
      },
      {
        "duration": 98,
        "start_time": "2023-03-19T16:48:37.504Z"
      },
      {
        "duration": 694,
        "start_time": "2023-03-19T16:48:37.604Z"
      },
      {
        "duration": 6,
        "start_time": "2023-03-19T16:48:38.300Z"
      },
      {
        "duration": 234,
        "start_time": "2023-03-19T16:48:38.308Z"
      },
      {
        "duration": 4,
        "start_time": "2023-03-19T16:48:38.544Z"
      },
      {
        "duration": 203234,
        "start_time": "2023-03-19T16:48:38.550Z"
      },
      {
        "duration": 7,
        "start_time": "2023-03-19T16:52:01.786Z"
      },
      {
        "duration": 1731,
        "start_time": "2023-03-19T16:52:01.795Z"
      },
      {
        "duration": 177461,
        "start_time": "2023-03-19T16:52:03.527Z"
      },
      {
        "duration": 460,
        "start_time": "2023-03-19T16:55:00.990Z"
      },
      {
        "duration": 127529,
        "start_time": "2023-03-19T16:55:01.452Z"
      },
      {
        "duration": 12497,
        "start_time": "2023-03-19T16:57:08.983Z"
      },
      {
        "duration": 167674,
        "start_time": "2023-03-19T16:57:21.482Z"
      },
      {
        "duration": 2676,
        "start_time": "2023-03-19T17:00:09.158Z"
      },
      {
        "duration": 266891,
        "start_time": "2023-03-19T17:00:11.836Z"
      },
      {
        "duration": 87748,
        "start_time": "2023-03-19T17:04:38.728Z"
      },
      {
        "duration": 141,
        "start_time": "2023-03-19T17:06:06.478Z"
      },
      {
        "duration": 7,
        "start_time": "2023-03-19T17:07:31.941Z"
      },
      {
        "duration": 9,
        "start_time": "2023-03-19T17:46:09.391Z"
      },
      {
        "duration": 1578,
        "start_time": "2023-03-19T18:03:36.132Z"
      },
      {
        "duration": 814,
        "start_time": "2023-03-19T18:03:37.712Z"
      },
      {
        "duration": 10,
        "start_time": "2023-03-19T18:03:38.527Z"
      },
      {
        "duration": 6,
        "start_time": "2023-03-19T18:03:38.539Z"
      },
      {
        "duration": 7,
        "start_time": "2023-03-19T18:03:38.546Z"
      },
      {
        "duration": 27,
        "start_time": "2023-03-19T18:03:38.554Z"
      },
      {
        "duration": 14,
        "start_time": "2023-03-19T18:03:38.583Z"
      },
      {
        "duration": 5,
        "start_time": "2023-03-19T18:03:38.598Z"
      },
      {
        "duration": 77,
        "start_time": "2023-03-19T18:03:38.604Z"
      },
      {
        "duration": 673,
        "start_time": "2023-03-19T18:03:38.683Z"
      },
      {
        "duration": 6,
        "start_time": "2023-03-19T18:03:39.358Z"
      },
      {
        "duration": 5,
        "start_time": "2023-03-19T18:03:39.365Z"
      },
      {
        "duration": 198535,
        "start_time": "2023-03-19T18:03:39.380Z"
      },
      {
        "duration": 6,
        "start_time": "2023-03-19T18:06:57.917Z"
      },
      {
        "duration": 1652,
        "start_time": "2023-03-19T18:06:57.924Z"
      },
      {
        "duration": 175421,
        "start_time": "2023-03-19T18:06:59.579Z"
      },
      {
        "duration": 463,
        "start_time": "2023-03-19T18:09:55.002Z"
      },
      {
        "duration": 126215,
        "start_time": "2023-03-19T18:09:55.466Z"
      },
      {
        "duration": 20103,
        "start_time": "2023-03-19T18:12:01.687Z"
      },
      {
        "duration": 171770,
        "start_time": "2023-03-19T18:12:21.794Z"
      },
      {
        "duration": 3195,
        "start_time": "2023-03-19T18:15:13.566Z"
      },
      {
        "duration": 281124,
        "start_time": "2023-03-19T18:15:16.762Z"
      },
      {
        "duration": 95498,
        "start_time": "2023-03-19T18:19:57.888Z"
      },
      {
        "duration": 11,
        "start_time": "2023-03-19T18:21:33.388Z"
      },
      {
        "duration": 2480,
        "start_time": "2023-03-21T14:00:39.336Z"
      },
      {
        "duration": 4385,
        "start_time": "2023-03-21T14:00:50.518Z"
      },
      {
        "duration": 13,
        "start_time": "2023-03-21T14:00:54.905Z"
      },
      {
        "duration": 9,
        "start_time": "2023-03-21T14:00:54.920Z"
      },
      {
        "duration": 7,
        "start_time": "2023-03-21T14:00:56.182Z"
      },
      {
        "duration": 8,
        "start_time": "2023-03-21T14:00:56.685Z"
      },
      {
        "duration": 14,
        "start_time": "2023-03-21T14:00:57.530Z"
      },
      {
        "duration": 8,
        "start_time": "2023-03-21T14:00:58.182Z"
      },
      {
        "duration": 1734,
        "start_time": "2023-03-21T14:03:41.530Z"
      },
      {
        "duration": 930,
        "start_time": "2023-03-21T14:03:43.266Z"
      },
      {
        "duration": 10,
        "start_time": "2023-03-21T14:03:44.198Z"
      },
      {
        "duration": 8,
        "start_time": "2023-03-21T14:03:44.211Z"
      },
      {
        "duration": 12,
        "start_time": "2023-03-21T14:03:44.250Z"
      },
      {
        "duration": 25,
        "start_time": "2023-03-21T14:03:44.537Z"
      },
      {
        "duration": 151,
        "start_time": "2023-03-21T14:03:52.329Z"
      },
      {
        "duration": 0,
        "start_time": "2023-03-21T14:03:52.482Z"
      },
      {
        "duration": 4451,
        "start_time": "2023-03-21T14:04:31.732Z"
      },
      {
        "duration": 6,
        "start_time": "2023-03-21T14:04:46.291Z"
      },
      {
        "duration": 13,
        "start_time": "2023-03-21T14:04:46.578Z"
      },
      {
        "duration": 26,
        "start_time": "2023-03-21T14:04:54.333Z"
      },
      {
        "duration": 604629,
        "start_time": "2023-03-21T14:04:58.835Z"
      },
      {
        "duration": 1849,
        "start_time": "2023-03-21T14:16:06.562Z"
      },
      {
        "duration": 950,
        "start_time": "2023-03-21T14:16:08.412Z"
      },
      {
        "duration": 11,
        "start_time": "2023-03-21T14:16:09.364Z"
      },
      {
        "duration": 6,
        "start_time": "2023-03-21T14:16:09.377Z"
      },
      {
        "duration": 5,
        "start_time": "2023-03-21T14:16:10.933Z"
      },
      {
        "duration": 9,
        "start_time": "2023-03-21T14:16:11.221Z"
      },
      {
        "duration": 4320,
        "start_time": "2023-03-21T14:16:15.282Z"
      },
      {
        "duration": 21,
        "start_time": "2023-03-21T14:20:46.028Z"
      },
      {
        "duration": 174,
        "start_time": "2023-03-21T14:20:57.356Z"
      },
      {
        "duration": 30,
        "start_time": "2023-03-21T14:21:00.827Z"
      },
      {
        "duration": 21,
        "start_time": "2023-03-21T14:21:15.616Z"
      },
      {
        "duration": 102,
        "start_time": "2023-03-21T14:22:41.279Z"
      },
      {
        "duration": 1711,
        "start_time": "2023-03-21T14:26:19.459Z"
      },
      {
        "duration": 933,
        "start_time": "2023-03-21T14:26:21.172Z"
      },
      {
        "duration": 13,
        "start_time": "2023-03-21T14:26:22.106Z"
      },
      {
        "duration": 7,
        "start_time": "2023-03-21T14:26:23.114Z"
      },
      {
        "duration": 5,
        "start_time": "2023-03-21T14:26:25.359Z"
      },
      {
        "duration": 9,
        "start_time": "2023-03-21T14:26:27.118Z"
      },
      {
        "duration": 4162,
        "start_time": "2023-03-21T14:26:29.655Z"
      },
      {
        "duration": 149,
        "start_time": "2023-03-21T14:26:33.819Z"
      },
      {
        "duration": 25,
        "start_time": "2023-03-21T14:26:44.524Z"
      },
      {
        "duration": 121,
        "start_time": "2023-03-21T14:26:45.992Z"
      },
      {
        "duration": 6971,
        "start_time": "2023-03-21T14:26:47.939Z"
      },
      {
        "duration": 5,
        "start_time": "2023-03-21T14:27:00.485Z"
      },
      {
        "duration": 18,
        "start_time": "2023-03-21T14:27:02.292Z"
      },
      {
        "duration": 11,
        "start_time": "2023-03-21T14:27:44.179Z"
      },
      {
        "duration": 46,
        "start_time": "2023-03-21T14:28:04.625Z"
      },
      {
        "duration": 1754,
        "start_time": "2023-03-21T14:29:23.926Z"
      },
      {
        "duration": 1036,
        "start_time": "2023-03-21T14:29:26.639Z"
      },
      {
        "duration": 9,
        "start_time": "2023-03-21T14:29:27.677Z"
      },
      {
        "duration": 6,
        "start_time": "2023-03-21T14:29:28.874Z"
      },
      {
        "duration": 7,
        "start_time": "2023-03-21T14:29:29.618Z"
      },
      {
        "duration": 18,
        "start_time": "2023-03-21T14:29:29.857Z"
      },
      {
        "duration": 4381,
        "start_time": "2023-03-21T14:29:35.794Z"
      },
      {
        "duration": 28,
        "start_time": "2023-03-21T14:29:43.233Z"
      },
      {
        "duration": 107,
        "start_time": "2023-03-21T14:29:43.630Z"
      },
      {
        "duration": 32,
        "start_time": "2023-03-21T14:29:44.722Z"
      },
      {
        "duration": 4,
        "start_time": "2023-03-21T14:29:50.219Z"
      },
      {
        "duration": 722993,
        "start_time": "2023-03-21T14:29:59.917Z"
      },
      {
        "duration": 242417,
        "start_time": "2023-03-21T14:42:27.484Z"
      },
      {
        "duration": 243750,
        "start_time": "2023-03-21T14:50:37.617Z"
      },
      {
        "duration": 2746,
        "start_time": "2023-03-21T14:59:39.321Z"
      },
      {
        "duration": 18,
        "start_time": "2023-03-21T14:59:42.070Z"
      },
      {
        "duration": 6588,
        "start_time": "2023-03-21T15:00:11.053Z"
      },
      {
        "duration": 1719,
        "start_time": "2023-03-21T15:11:30.601Z"
      },
      {
        "duration": 957,
        "start_time": "2023-03-21T15:11:32.322Z"
      },
      {
        "duration": 10,
        "start_time": "2023-03-21T15:11:33.280Z"
      },
      {
        "duration": 6,
        "start_time": "2023-03-21T15:11:33.292Z"
      },
      {
        "duration": 5,
        "start_time": "2023-03-21T15:11:33.300Z"
      },
      {
        "duration": 35,
        "start_time": "2023-03-21T15:11:33.306Z"
      },
      {
        "duration": 4243,
        "start_time": "2023-03-21T15:11:33.342Z"
      },
      {
        "duration": 20,
        "start_time": "2023-03-21T15:11:37.586Z"
      },
      {
        "duration": 101,
        "start_time": "2023-03-21T15:11:37.608Z"
      },
      {
        "duration": 31,
        "start_time": "2023-03-21T15:11:37.711Z"
      },
      {
        "duration": 4,
        "start_time": "2023-03-21T15:11:37.744Z"
      },
      {
        "duration": 1675,
        "start_time": "2023-03-21T15:12:54.295Z"
      },
      {
        "duration": 990,
        "start_time": "2023-03-21T15:12:55.971Z"
      },
      {
        "duration": 13,
        "start_time": "2023-03-21T15:12:56.962Z"
      },
      {
        "duration": 8,
        "start_time": "2023-03-21T15:12:56.976Z"
      },
      {
        "duration": 6,
        "start_time": "2023-03-21T15:12:56.986Z"
      },
      {
        "duration": 14,
        "start_time": "2023-03-21T15:12:56.994Z"
      },
      {
        "duration": 4297,
        "start_time": "2023-03-21T15:12:57.010Z"
      },
      {
        "duration": 20,
        "start_time": "2023-03-21T15:13:01.309Z"
      },
      {
        "duration": 150,
        "start_time": "2023-03-21T15:13:01.331Z"
      },
      {
        "duration": 22,
        "start_time": "2023-03-21T15:13:01.482Z"
      },
      {
        "duration": 22,
        "start_time": "2023-03-21T15:13:01.506Z"
      },
      {
        "duration": 699413,
        "start_time": "2023-03-21T15:13:01.530Z"
      },
      {
        "duration": 46081,
        "start_time": "2023-03-21T15:24:40.949Z"
      },
      {
        "duration": 20560,
        "start_time": "2023-03-21T15:25:27.033Z"
      },
      {
        "duration": 2802,
        "start_time": "2023-03-21T15:25:47.595Z"
      },
      {
        "duration": 0,
        "start_time": "2023-03-21T15:25:50.399Z"
      },
      {
        "duration": 0,
        "start_time": "2023-03-21T15:25:50.400Z"
      },
      {
        "duration": 0,
        "start_time": "2023-03-21T15:25:50.401Z"
      },
      {
        "duration": 0,
        "start_time": "2023-03-21T15:25:50.402Z"
      },
      {
        "duration": 0,
        "start_time": "2023-03-21T15:25:50.403Z"
      },
      {
        "duration": 0,
        "start_time": "2023-03-21T15:25:50.406Z"
      },
      {
        "duration": 4,
        "start_time": "2023-03-21T15:25:57.206Z"
      },
      {
        "duration": 12,
        "start_time": "2023-03-21T15:26:03.637Z"
      },
      {
        "duration": 11,
        "start_time": "2023-03-21T15:26:08.732Z"
      },
      {
        "duration": 3,
        "start_time": "2023-03-21T15:26:13.221Z"
      },
      {
        "duration": 4,
        "start_time": "2023-03-21T15:26:16.609Z"
      },
      {
        "duration": 1787,
        "start_time": "2023-03-21T15:27:34.694Z"
      },
      {
        "duration": 986,
        "start_time": "2023-03-21T15:27:36.483Z"
      },
      {
        "duration": 15,
        "start_time": "2023-03-21T15:27:37.470Z"
      },
      {
        "duration": 29,
        "start_time": "2023-03-21T15:27:37.488Z"
      },
      {
        "duration": 13,
        "start_time": "2023-03-21T15:27:37.518Z"
      },
      {
        "duration": 32,
        "start_time": "2023-03-21T15:27:37.532Z"
      },
      {
        "duration": 4123,
        "start_time": "2023-03-21T15:27:37.565Z"
      },
      {
        "duration": 25,
        "start_time": "2023-03-21T15:27:41.689Z"
      },
      {
        "duration": 138,
        "start_time": "2023-03-21T15:27:41.716Z"
      },
      {
        "duration": 15,
        "start_time": "2023-03-21T15:27:41.856Z"
      },
      {
        "duration": 8,
        "start_time": "2023-03-21T15:27:41.873Z"
      },
      {
        "duration": 135924,
        "start_time": "2023-03-21T15:27:41.883Z"
      },
      {
        "duration": 5,
        "start_time": "2023-03-21T15:29:57.808Z"
      },
      {
        "duration": 6,
        "start_time": "2023-03-21T15:29:57.814Z"
      },
      {
        "duration": 237349,
        "start_time": "2023-03-21T15:29:57.822Z"
      },
      {
        "duration": 237847,
        "start_time": "2023-03-21T15:33:55.173Z"
      },
      {
        "duration": 3085,
        "start_time": "2023-03-21T15:37:53.021Z"
      },
      {
        "duration": 3181,
        "start_time": "2023-03-21T15:37:56.107Z"
      },
      {
        "duration": 29457,
        "start_time": "2023-03-21T15:37:59.290Z"
      },
      {
        "duration": 16326,
        "start_time": "2023-03-21T15:38:28.748Z"
      },
      {
        "duration": 290862,
        "start_time": "2023-03-21T15:38:45.076Z"
      },
      {
        "duration": 142,
        "start_time": "2023-03-21T15:43:35.939Z"
      },
      {
        "duration": 96759,
        "start_time": "2023-03-21T15:44:24.339Z"
      },
      {
        "duration": 205,
        "start_time": "2023-03-21T15:46:01.100Z"
      },
      {
        "duration": 1887,
        "start_time": "2023-03-21T15:49:30.859Z"
      },
      {
        "duration": 7575,
        "start_time": "2023-03-21T15:49:38.266Z"
      },
      {
        "duration": 25251,
        "start_time": "2023-03-21T15:49:51.511Z"
      },
      {
        "duration": 1625,
        "start_time": "2023-03-21T16:42:40.993Z"
      },
      {
        "duration": 905,
        "start_time": "2023-03-21T16:42:42.620Z"
      },
      {
        "duration": 16,
        "start_time": "2023-03-21T16:42:43.527Z"
      },
      {
        "duration": 7,
        "start_time": "2023-03-21T16:42:43.545Z"
      },
      {
        "duration": 5,
        "start_time": "2023-03-21T16:42:43.553Z"
      },
      {
        "duration": 11,
        "start_time": "2023-03-21T16:42:43.560Z"
      },
      {
        "duration": 3871,
        "start_time": "2023-03-21T16:42:43.572Z"
      },
      {
        "duration": 4,
        "start_time": "2023-03-21T16:42:47.444Z"
      },
      {
        "duration": 1128157,
        "start_time": "2023-03-21T16:42:47.449Z"
      },
      {
        "duration": 6680,
        "start_time": "2023-03-21T17:01:35.608Z"
      },
      {
        "duration": 16486,
        "start_time": "2023-03-21T17:01:42.290Z"
      },
      {
        "duration": 88972,
        "start_time": "2023-03-21T17:01:58.777Z"
      },
      {
        "duration": 178733,
        "start_time": "2023-03-21T17:03:27.753Z"
      },
      {
        "duration": 1685643,
        "start_time": "2023-03-21T17:06:26.488Z"
      },
      {
        "duration": 142,
        "start_time": "2023-03-21T17:34:32.132Z"
      },
      {
        "duration": 79885,
        "start_time": "2023-03-21T17:40:47.690Z"
      },
      {
        "duration": 579016,
        "start_time": "2023-03-21T17:43:14.760Z"
      },
      {
        "duration": 12,
        "start_time": "2023-03-21T18:09:19.503Z"
      },
      {
        "duration": 21683,
        "start_time": "2023-03-21T18:09:28.188Z"
      },
      {
        "duration": 14,
        "start_time": "2023-03-21T18:10:27.964Z"
      },
      {
        "duration": 1685,
        "start_time": "2023-03-21T18:15:39.547Z"
      },
      {
        "duration": 863,
        "start_time": "2023-03-21T18:15:41.233Z"
      },
      {
        "duration": 10,
        "start_time": "2023-03-21T18:15:42.098Z"
      },
      {
        "duration": 6,
        "start_time": "2023-03-21T18:15:42.109Z"
      },
      {
        "duration": 5,
        "start_time": "2023-03-21T18:15:42.117Z"
      },
      {
        "duration": 9,
        "start_time": "2023-03-21T18:15:42.140Z"
      },
      {
        "duration": 3831,
        "start_time": "2023-03-21T18:15:42.151Z"
      },
      {
        "duration": 4,
        "start_time": "2023-03-21T18:15:45.984Z"
      },
      {
        "duration": 1095711,
        "start_time": "2023-03-21T18:15:45.989Z"
      },
      {
        "duration": 6251,
        "start_time": "2023-03-21T18:34:01.702Z"
      },
      {
        "duration": 36,
        "start_time": "2023-03-21T18:34:07.955Z"
      },
      {
        "duration": 0,
        "start_time": "2023-03-21T18:34:07.992Z"
      },
      {
        "duration": 0,
        "start_time": "2023-03-21T18:34:07.993Z"
      },
      {
        "duration": 0,
        "start_time": "2023-03-21T18:34:07.994Z"
      },
      {
        "duration": 0,
        "start_time": "2023-03-21T18:34:07.995Z"
      },
      {
        "duration": 0,
        "start_time": "2023-03-21T18:34:07.996Z"
      },
      {
        "duration": 15958,
        "start_time": "2023-03-21T18:36:43.983Z"
      },
      {
        "duration": 554232,
        "start_time": "2023-03-21T18:36:59.943Z"
      },
      {
        "duration": 166213,
        "start_time": "2023-03-21T18:46:14.176Z"
      },
      {
        "duration": 1632041,
        "start_time": "2023-03-21T18:49:00.390Z"
      },
      {
        "duration": 8,
        "start_time": "2023-03-21T19:17:42.946Z"
      },
      {
        "duration": 422167,
        "start_time": "2023-03-21T19:17:52.091Z"
      },
      {
        "duration": 23585,
        "start_time": "2023-03-21T19:32:01.586Z"
      },
      {
        "duration": 15,
        "start_time": "2023-03-21T19:32:25.173Z"
      },
      {
        "duration": 4150,
        "start_time": "2023-03-21T19:52:15.464Z"
      },
      {
        "duration": 39,
        "start_time": "2023-03-21T19:56:46.718Z"
      }
    ],
    "kernelspec": {
      "display_name": "Python 3 (ipykernel)",
      "language": "python",
      "name": "python3"
    },
    "language_info": {
      "codemirror_mode": {
        "name": "ipython",
        "version": 3
      },
      "file_extension": ".py",
      "mimetype": "text/x-python",
      "name": "python",
      "nbconvert_exporter": "python",
      "pygments_lexer": "ipython3",
      "version": "3.9.5"
    },
    "toc": {
      "base_numbering": 1,
      "nav_menu": {},
      "number_sections": true,
      "sideBar": true,
      "skip_h1_title": true,
      "title_cell": "Содержание",
      "title_sidebar": "Contents",
      "toc_cell": true,
      "toc_position": {
        "height": "calc(100% - 180px)",
        "left": "10px",
        "top": "150px",
        "width": "302.391px"
      },
      "toc_section_display": true,
      "toc_window_display": false
    },
    "colab": {
      "provenance": []
    }
  },
  "nbformat": 4,
  "nbformat_minor": 0
}